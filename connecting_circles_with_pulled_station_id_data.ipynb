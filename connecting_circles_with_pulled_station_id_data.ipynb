{
 "cells": [
  {
   "cell_type": "markdown",
   "metadata": {
    "colab_type": "text",
    "collapsed": true,
    "id": "LsRKbahhQzRg"
   },
   "source": [
    "## Connecting Cleaned Data with the Closest Station Name \n",
    "\n",
    "1. Load in the newest data cbc data\n",
    "2. Confirm all the circles that are in the United States\n",
    "3. Clean Up lat long data\n",
    "DEPRECATED: 4. Merge on Lat Long Location  \n",
    "4. Merge on row number \n",
    "\n",
    "*Note: This file original merged on Lat Long. After some code modifications to the script that creates the noaa station matches, it can now merge on row number instead. \n",
    "\n",
    "**Author:** rectheworld\n",
    "\n",
    "**Date Updated:** 2020-01-31\n",
    "\n",
    "**Inputs**\n",
    "- A Christmas Birdcount file (CSV), Cleaned, Inlcudes only US stations\n",
    "-- As of 2020-01-31, most recent file is cleaned_cbc_usa.csv\n",
    "\n",
    "- Closest NOAA stations file \n",
    "-- As of 2020-01-01, most recent is closest_stations_geoyear_20200127.csv\n",
    "\n",
    "**Outputs** \n",
    "A CSV file called \"cbc_cleaned_usa_statid.csv\"\n"
   ]
  },
  {
   "cell_type": "code",
   "execution_count": null,
   "metadata": {
    "colab": {},
    "colab_type": "code",
    "id": "i7jz4iSVQzRk"
   },
   "outputs": [],
   "source": [
    "# Imports \n",
    "import pandas as pd\n",
    "from datetime import date"
   ]
  },
  {
   "cell_type": "markdown",
   "metadata": {},
   "source": [
    "## Set Directories\n",
    "### Uncomment if Running in Google Drive"
   ]
  },
  {
   "cell_type": "code",
   "execution_count": null,
   "metadata": {
    "colab": {
     "base_uri": "https://localhost:8080/",
     "height": 34
    },
    "colab_type": "code",
    "id": "ntodUojOQ7pO",
    "outputId": "1170b42e-90bb-4b1a-b79f-9e2edb4d73b6"
   },
   "outputs": [],
   "source": [
    "# from google.colab import drive\n",
    "# drive.mount('/content/drive')"
   ]
  },
  {
   "cell_type": "code",
   "execution_count": null,
   "metadata": {
    "colab": {},
    "colab_type": "code",
    "id": "J7mU7O0UDEhP"
   },
   "outputs": [],
   "source": [
    "base_dir = \"<BASE DRIVE>\"\n",
    "CBC_CIRCLE_FILE_PATH = \"<CBC_CIRCLE_FILE_PATH>\"\n",
    "CLOSEST_NOAA_STATION_PATH = \"<CLOSEST_NOAA_STATION_PATH>\""
   ]
  },
  {
   "cell_type": "markdown",
   "metadata": {},
   "source": [
    "### Load in the cleaned CBC data for the United States"
   ]
  },
  {
   "cell_type": "code",
   "execution_count": null,
   "metadata": {
    "colab": {
     "base_uri": "https://localhost:8080/",
     "height": 71
    },
    "colab_type": "code",
    "id": "jSZDjN8CQzRq",
    "outputId": "e0af0178-5cd8-47ae-c602-e7e3bcc8e488"
   },
   "outputs": [],
   "source": [
    "cbc_cir_df = pd.read_csv(CBC_CIRCLE_FILE_PATH, encoding =\"latin_1\")"
   ]
  },
  {
   "cell_type": "code",
   "execution_count": null,
   "metadata": {
    "colab": {
     "base_uri": "https://localhost:8080/",
     "height": 1000
    },
    "colab_type": "code",
    "id": "itGbM9iVQzRv",
    "outputId": "b1d8029a-c29c-43b2-8b06-848ce604d257"
   },
   "outputs": [],
   "source": [
    "print(cbc_cir_df.shape)\n",
    "cbc_cir_df.head(10)"
   ]
  },
  {
   "cell_type": "code",
   "execution_count": null,
   "metadata": {
    "colab": {},
    "colab_type": "code",
    "id": "ObOaqKmpQzR1"
   },
   "outputs": [],
   "source": [
    "# Drop all the locations that are not in the united states \n",
    "indexNamesNUSA = cbc_cir_df[~cbc_cir_df['country_state'].str.contains(\"US-\")].index\n",
    " \n",
    "# Delete these row indexes from dataFrame\n",
    "cbc_cir_df.drop(indexNamesNUSA , inplace=True)"
   ]
  },
  {
   "cell_type": "code",
   "execution_count": null,
   "metadata": {
    "colab": {
     "base_uri": "https://localhost:8080/",
     "height": 413
    },
    "colab_type": "code",
    "id": "Y6l_IJggQzR6",
    "outputId": "aec98677-92bb-4857-ce22-4573371b7a7e"
   },
   "outputs": [],
   "source": [
    "print(cbc_cir_df.shape)\n",
    "cbc_cir_df.head(10)"
   ]
  },
  {
   "cell_type": "markdown",
   "metadata": {
    "colab_type": "text",
    "id": "RpzupvTZQzSA"
   },
   "source": [
    "## Prep the Closest Station File \n",
    "The closest stations (as determanted by Lat, Long, and time station was active)\n",
    "\n",
    "Below we will:\n",
    "1. Load the File\n",
    "DEPRECATED --- 2. Remove the duplicate enteries (Mostly so I can export a shorter file later) *** NOT PREFORMING anymore becuase even duplicate locations can have different stations active over the years***\n",
    "3. Add in percision Decimals to the Lat Long Cordinates "
   ]
  },
  {
   "cell_type": "code",
   "execution_count": null,
   "metadata": {
    "colab": {
     "base_uri": "https://localhost:8080/",
     "height": 309
    },
    "colab_type": "code",
    "id": "xnZ4GXe7QzSD",
    "outputId": "c3bb3178-118a-4142-fa7a-16edb65fd608"
   },
   "outputs": [],
   "source": [
    "# Load the Closest Station File \n",
    "clos_st_nm = pd.read_csv(CLOSEST_NOAA_STATION_PATH, header = 0, encoding =\"latin_1\")\n",
    "\n",
    "print(clos_st_nm.shape)\n",
    "clos_st_nm.head()"
   ]
  },
  {
   "cell_type": "code",
   "execution_count": null,
   "metadata": {
    "colab": {},
    "colab_type": "code",
    "id": "nSduzyjUQzSJ"
   },
   "outputs": [],
   "source": [
    "clos_st_nm['circle_coordinates'] = \"(\" + clos_st_nm.circle_lat.map(str) + \", \" + clos_st_nm.circle_lng.map(str)"
   ]
  },
  {
   "cell_type": "code",
   "execution_count": null,
   "metadata": {
    "colab": {
     "base_uri": "https://localhost:8080/",
     "height": 1000
    },
    "colab_type": "code",
    "id": "4f8v9owdQzSS",
    "outputId": "65548657-b958-41e6-eb76-71dc8106d16e",
    "scrolled": true
   },
   "outputs": [],
   "source": [
    "# The Station cordinates in the closest station file (output.csv) are shorter/less percise \n",
    "# than the data that is in the main cbc file. We will restore the precision of these decimals \n",
    "\n",
    "# Split the circle coordinates into two columns for a sec \n",
    "temp_latlon = clos_st_nm[\"circle_coordinates\"].str.split(\",\", n = 1, expand = True) \n",
    "temp_latlon.head()\n",
    "\n",
    "# Remove the \"(\" and \")\"\n",
    "temp_latlon[0].replace(regex=True,inplace=True,to_replace=r'\\(',value=r'')\n",
    "temp_latlon[1].replace(regex=True,inplace=True,to_replace=r'\\)',value=r'')\n",
    "temp_latlon.head(20)\n",
    "\n",
    "##Force these digits to have 6 decimals \n",
    "temp_latlon = temp_latlon.astype(float).round(6).copy(False)\n",
    "to_8digit_str = lambda flt: str(flt).ljust(8,\"0\")\n",
    "to_9digit_str = lambda flt: str(flt).ljust(9,\"0\")\n",
    "\n",
    "temp_latlon[0] = temp_latlon[0].map(to_8digit_str)\n",
    "temp_latlon[1] = temp_latlon[1].map(to_9digit_str)\n",
    "\n",
    "\n",
    "## recombine into tuple \n",
    "temp_latlon[\"circle_coordinates\"] = \"(\" + temp_latlon[0].astype(str) + \", \" + temp_latlon[1].astype(str) + \")\" \n",
    "\n",
    "temp_latlon.head(20)\n",
    "\n",
    "## Save the result back to the closest station data \n",
    "clos_st_nm[\"circle_coordinates\"] = temp_latlon[\"circle_coordinates\"]\n",
    "clos_st_nm.head(20)\n"
   ]
  },
  {
   "cell_type": "markdown",
   "metadata": {
    "colab_type": "text",
    "id": "YQPH2h9nQzSZ"
   },
   "source": [
    "# Prep Merge Between CBC Circle Data and the Closest Station Data "
   ]
  },
  {
   "cell_type": "code",
   "execution_count": null,
   "metadata": {
    "colab": {},
    "colab_type": "code",
    "id": "PwTcfMJwQzSa"
   },
   "outputs": [],
   "source": [
    "# Create a Key in cbc_cir_df as the Lat Lon as a tuble\n",
    "cbc_cir_df['station_key'] = \"(\" + cbc_cir_df['lat'].round(6).map(to_8digit_str) + \", \" + cbc_cir_df['lon'].round(6).map(to_9digit_str) + \")\" \n"
   ]
  },
  {
   "cell_type": "code",
   "execution_count": null,
   "metadata": {
    "colab": {
     "base_uri": "https://localhost:8080/",
     "height": 1000
    },
    "colab_type": "code",
    "id": "Chr06stBQzSe",
    "outputId": "317739af-f18a-4a90-a37a-5b3fc40ab328"
   },
   "outputs": [],
   "source": [
    "print(cbc_cir_df.shape)\n",
    "cbc_cir_df.head(53)"
   ]
  },
  {
   "cell_type": "markdown",
   "metadata": {
    "colab_type": "text",
    "id": "HcEc13cIQzSi"
   },
   "source": [
    "# Merge the dataframes based Row Number\n",
    "Orginally we were merging on Lat, Long, now we will just merge on the row number.\n"
   ]
  },
  {
   "cell_type": "code",
   "execution_count": null,
   "metadata": {
    "colab": {},
    "colab_type": "code",
    "id": "_u_LZ72CQzSj"
   },
   "outputs": [],
   "source": [
    "# Merge the dataframes based on lat long \n",
    "results = pd.merge(cbc_cir_df, clos_st_nm[['circle_coordinates','closest_station_id', 'closest_station_lat', 'closest_station_lng', 'distance', 'circle_num']], how = \"left\", left_on='Unnamed__0', right_on='circle_num')\n"
   ]
  },
  {
   "cell_type": "code",
   "execution_count": null,
   "metadata": {
    "colab": {
     "base_uri": "https://localhost:8080/",
     "height": 1000
    },
    "colab_type": "code",
    "id": "Qf8GmX93QzSm",
    "outputId": "1d18b90a-026f-44eb-c316-b2cd46ab0a5f"
   },
   "outputs": [],
   "source": [
    "print(results.shape)\n",
    "results.head(50)"
   ]
  },
  {
   "cell_type": "code",
   "execution_count": null,
   "metadata": {
    "colab": {
     "base_uri": "https://localhost:8080/",
     "height": 34
    },
    "colab_type": "code",
    "id": "izffB2PcQzSq",
    "outputId": "3e7ad4b0-4373-4867-e6d7-0583e5441324"
   },
   "outputs": [],
   "source": [
    "# Count the rows that have no match \n",
    "results['closest_station_id'].isna().sum(axis = 0)"
   ]
  },
  {
   "cell_type": "code",
   "execution_count": null,
   "metadata": {
    "colab": {},
    "colab_type": "code",
    "id": "2fwo0_vLQzSz"
   },
   "outputs": [],
   "source": [
    "# Save the File \n",
    "results.to_csv(base_dir + \"cbc_cleaned_usa_statid.csv\", index = False)"
   ]
  }
 ],
 "metadata": {
  "colab": {
   "collapsed_sections": [],
   "name": "connecting_circles_with_pulled_station_id_data.ipynb",
   "provenance": []
  },
  "kernelspec": {
   "display_name": "Python 3",
   "language": "python",
   "name": "python3"
  },
  "language_info": {
   "codemirror_mode": {
    "name": "ipython",
    "version": 3
   },
   "file_extension": ".py",
   "mimetype": "text/x-python",
   "name": "python",
   "nbconvert_exporter": "python",
   "pygments_lexer": "ipython3",
   "version": "3.7.4"
  }
 },
 "nbformat": 4,
 "nbformat_minor": 1
}
