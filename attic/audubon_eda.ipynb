{
 "cells": [
  {
   "cell_type": "markdown",
   "metadata": {},
   "source": [
    "# TODOS\n",
    "\n",
    "* Numeric data (temperature, snow, wind, distance):\n",
    "    * Convert to same unit\n",
    "    * Impute missing values\n",
    "    * Standardize/normalize\n",
    "* For categorical data:\n",
    "    * Encode appropriately\n",
    "    * Composites -> if no 4 then take average and treat as new category, 4 trumps all\n",
    "* Age of circles - older circles are more numerous\n",
    "* Any outliers for these"
   ]
  },
  {
   "cell_type": "markdown",
   "metadata": {},
   "source": [
    "See data dictionary: http://www.audubon.org/sites/default/files/documents/cbc_report_field_definitions_2013.pdf"
   ]
  },
  {
   "cell_type": "code",
   "execution_count": 1,
   "metadata": {
    "collapsed": false
   },
   "outputs": [
    {
     "name": "stderr",
     "output_type": "stream",
     "text": [
      "/Users/dunmireg/anaconda3/lib/python3.6/site-packages/sklearn/ensemble/weight_boosting.py:29: DeprecationWarning: numpy.core.umath_tests is an internal NumPy module and should not be imported. It will be removed in a future NumPy release.\n",
      "  from numpy.core.umath_tests import inner1d\n"
     ]
    }
   ],
   "source": [
    "import numpy as np\n",
    "import pandas as pd\n",
    "import matplotlib.pyplot as plt\n",
    "import seaborn as sns\n",
    "from sklearn.linear_model import LinearRegression\n",
    "from sklearn.ensemble import RandomForestRegressor"
   ]
  },
  {
   "cell_type": "code",
   "execution_count": 2,
   "metadata": {
    "collapsed": true
   },
   "outputs": [],
   "source": [
    "raw_data = pd.read_csv(\"cbc_effort.csv\")"
   ]
  },
  {
   "cell_type": "code",
   "execution_count": 20,
   "metadata": {
    "collapsed": true
   },
   "outputs": [],
   "source": [
    "raw_data = raw_data.drop(raw_data[raw_data[\"circle_name\"].str.contains(\"do not\")].index)"
   ]
  },
  {
   "cell_type": "code",
   "execution_count": 3,
   "metadata": {
    "collapsed": false
   },
   "outputs": [
    {
     "data": {
      "text/plain": [
       "(73558, 30)"
      ]
     },
     "execution_count": 3,
     "metadata": {},
     "output_type": "execute_result"
    }
   ],
   "source": [
    "raw_data.shape"
   ]
  },
  {
   "cell_type": "code",
   "execution_count": 4,
   "metadata": {
    "collapsed": false
   },
   "outputs": [
    {
     "data": {
      "text/html": [
       "<div>\n",
       "<style>\n",
       "    .dataframe thead tr:only-child th {\n",
       "        text-align: right;\n",
       "    }\n",
       "\n",
       "    .dataframe thead th {\n",
       "        text-align: left;\n",
       "    }\n",
       "\n",
       "    .dataframe tbody tr th {\n",
       "        vertical-align: top;\n",
       "    }\n",
       "</style>\n",
       "<table border=\"1\" class=\"dataframe\">\n",
       "  <thead>\n",
       "    <tr style=\"text-align: right;\">\n",
       "      <th></th>\n",
       "      <th>0</th>\n",
       "      <th>1</th>\n",
       "      <th>2</th>\n",
       "      <th>3</th>\n",
       "      <th>4</th>\n",
       "    </tr>\n",
       "  </thead>\n",
       "  <tbody>\n",
       "    <tr>\n",
       "      <th>circle_name</th>\n",
       "      <td>Adak</td>\n",
       "      <td>Adak</td>\n",
       "      <td>Adak</td>\n",
       "      <td>Adak</td>\n",
       "      <td>Adak</td>\n",
       "    </tr>\n",
       "    <tr>\n",
       "      <th>country_state</th>\n",
       "      <td>US-AK</td>\n",
       "      <td>US-AK</td>\n",
       "      <td>US-AK</td>\n",
       "      <td>US-AK</td>\n",
       "      <td>US-AK</td>\n",
       "    </tr>\n",
       "    <tr>\n",
       "      <th>lat</th>\n",
       "      <td>51.8833</td>\n",
       "      <td>51.8833</td>\n",
       "      <td>51.8833</td>\n",
       "      <td>51.8833</td>\n",
       "      <td>51.8833</td>\n",
       "    </tr>\n",
       "    <tr>\n",
       "      <th>lon</th>\n",
       "      <td>-176.65</td>\n",
       "      <td>-176.65</td>\n",
       "      <td>-176.65</td>\n",
       "      <td>-176.65</td>\n",
       "      <td>-176.65</td>\n",
       "    </tr>\n",
       "    <tr>\n",
       "      <th>count_year</th>\n",
       "      <td>1968</td>\n",
       "      <td>1969</td>\n",
       "      <td>1970</td>\n",
       "      <td>1971</td>\n",
       "      <td>1973</td>\n",
       "    </tr>\n",
       "    <tr>\n",
       "      <th>n_field_counters</th>\n",
       "      <td>2</td>\n",
       "      <td>3</td>\n",
       "      <td>3</td>\n",
       "      <td>4</td>\n",
       "      <td>4</td>\n",
       "    </tr>\n",
       "    <tr>\n",
       "      <th>n_feeder_counters</th>\n",
       "      <td>NaN</td>\n",
       "      <td>NaN</td>\n",
       "      <td>NaN</td>\n",
       "      <td>NaN</td>\n",
       "      <td>NaN</td>\n",
       "    </tr>\n",
       "    <tr>\n",
       "      <th>min_field_count_parties</th>\n",
       "      <td>NaN</td>\n",
       "      <td>NaN</td>\n",
       "      <td>NaN</td>\n",
       "      <td>NaN</td>\n",
       "      <td>NaN</td>\n",
       "    </tr>\n",
       "    <tr>\n",
       "      <th>max_field_count_parties</th>\n",
       "      <td>NaN</td>\n",
       "      <td>NaN</td>\n",
       "      <td>NaN</td>\n",
       "      <td>NaN</td>\n",
       "      <td>NaN</td>\n",
       "    </tr>\n",
       "    <tr>\n",
       "      <th>field_hours</th>\n",
       "      <td>9</td>\n",
       "      <td>8</td>\n",
       "      <td>9</td>\n",
       "      <td>8</td>\n",
       "      <td>8</td>\n",
       "    </tr>\n",
       "    <tr>\n",
       "      <th>feeder_hours</th>\n",
       "      <td>NaN</td>\n",
       "      <td>NaN</td>\n",
       "      <td>NaN</td>\n",
       "      <td>NaN</td>\n",
       "      <td>NaN</td>\n",
       "    </tr>\n",
       "    <tr>\n",
       "      <th>nocturl_hours</th>\n",
       "      <td>NaN</td>\n",
       "      <td>NaN</td>\n",
       "      <td>NaN</td>\n",
       "      <td>NaN</td>\n",
       "      <td>NaN</td>\n",
       "    </tr>\n",
       "    <tr>\n",
       "      <th>field_distance</th>\n",
       "      <td>35</td>\n",
       "      <td>35</td>\n",
       "      <td>35</td>\n",
       "      <td>33</td>\n",
       "      <td>33</td>\n",
       "    </tr>\n",
       "    <tr>\n",
       "      <th>nocturnal_distance</th>\n",
       "      <td>NaN</td>\n",
       "      <td>NaN</td>\n",
       "      <td>NaN</td>\n",
       "      <td>NaN</td>\n",
       "      <td>NaN</td>\n",
       "    </tr>\n",
       "    <tr>\n",
       "      <th>distance_units</th>\n",
       "      <td>Miles</td>\n",
       "      <td>Miles</td>\n",
       "      <td>Miles</td>\n",
       "      <td>Miles</td>\n",
       "      <td>Miles</td>\n",
       "    </tr>\n",
       "    <tr>\n",
       "      <th>min_temp</th>\n",
       "      <td>38</td>\n",
       "      <td>40</td>\n",
       "      <td>30</td>\n",
       "      <td>31</td>\n",
       "      <td>NaN</td>\n",
       "    </tr>\n",
       "    <tr>\n",
       "      <th>max_temp</th>\n",
       "      <td>41</td>\n",
       "      <td>43</td>\n",
       "      <td>35</td>\n",
       "      <td>38</td>\n",
       "      <td>NaN</td>\n",
       "    </tr>\n",
       "    <tr>\n",
       "      <th>temp_unit</th>\n",
       "      <td>NaN</td>\n",
       "      <td>NaN</td>\n",
       "      <td>NaN</td>\n",
       "      <td>NaN</td>\n",
       "      <td>NaN</td>\n",
       "    </tr>\n",
       "    <tr>\n",
       "      <th>min_wind</th>\n",
       "      <td>17</td>\n",
       "      <td>0</td>\n",
       "      <td>12</td>\n",
       "      <td>25</td>\n",
       "      <td>NaN</td>\n",
       "    </tr>\n",
       "    <tr>\n",
       "      <th>max_wind</th>\n",
       "      <td>23</td>\n",
       "      <td>0</td>\n",
       "      <td>18</td>\n",
       "      <td>46</td>\n",
       "      <td>NaN</td>\n",
       "    </tr>\n",
       "    <tr>\n",
       "      <th>wind_unit</th>\n",
       "      <td>NaN</td>\n",
       "      <td>NaN</td>\n",
       "      <td>NaN</td>\n",
       "      <td>NaN</td>\n",
       "      <td>NaN</td>\n",
       "    </tr>\n",
       "    <tr>\n",
       "      <th>min_snow</th>\n",
       "      <td>0</td>\n",
       "      <td>0</td>\n",
       "      <td>0</td>\n",
       "      <td>0</td>\n",
       "      <td>NaN</td>\n",
       "    </tr>\n",
       "    <tr>\n",
       "      <th>max_snow</th>\n",
       "      <td>0</td>\n",
       "      <td>0</td>\n",
       "      <td>0</td>\n",
       "      <td>0</td>\n",
       "      <td>NaN</td>\n",
       "    </tr>\n",
       "    <tr>\n",
       "      <th>snow_unit</th>\n",
       "      <td>NaN</td>\n",
       "      <td>NaN</td>\n",
       "      <td>NaN</td>\n",
       "      <td>NaN</td>\n",
       "      <td>NaN</td>\n",
       "    </tr>\n",
       "    <tr>\n",
       "      <th>am_cloud</th>\n",
       "      <td>2</td>\n",
       "      <td>3</td>\n",
       "      <td>6</td>\n",
       "      <td>6</td>\n",
       "      <td>NaN</td>\n",
       "    </tr>\n",
       "    <tr>\n",
       "      <th>pm_cloud</th>\n",
       "      <td>2</td>\n",
       "      <td>2</td>\n",
       "      <td>2</td>\n",
       "      <td>2</td>\n",
       "      <td>NaN</td>\n",
       "    </tr>\n",
       "    <tr>\n",
       "      <th>am_rain</th>\n",
       "      <td>2</td>\n",
       "      <td>4</td>\n",
       "      <td>4</td>\n",
       "      <td>3</td>\n",
       "      <td>NaN</td>\n",
       "    </tr>\n",
       "    <tr>\n",
       "      <th>pm_rain</th>\n",
       "      <td>2</td>\n",
       "      <td>4</td>\n",
       "      <td>3</td>\n",
       "      <td>3</td>\n",
       "      <td>NaN</td>\n",
       "    </tr>\n",
       "    <tr>\n",
       "      <th>am_snow</th>\n",
       "      <td>2</td>\n",
       "      <td>4</td>\n",
       "      <td>4</td>\n",
       "      <td>3</td>\n",
       "      <td>NaN</td>\n",
       "    </tr>\n",
       "    <tr>\n",
       "      <th>pm_snow</th>\n",
       "      <td>2</td>\n",
       "      <td>4</td>\n",
       "      <td>2</td>\n",
       "      <td>2</td>\n",
       "      <td>NaN</td>\n",
       "    </tr>\n",
       "  </tbody>\n",
       "</table>\n",
       "</div>"
      ],
      "text/plain": [
       "                               0        1        2        3        4\n",
       "circle_name                 Adak     Adak     Adak     Adak     Adak\n",
       "country_state              US-AK    US-AK    US-AK    US-AK    US-AK\n",
       "lat                      51.8833  51.8833  51.8833  51.8833  51.8833\n",
       "lon                      -176.65  -176.65  -176.65  -176.65  -176.65\n",
       "count_year                  1968     1969     1970     1971     1973\n",
       "n_field_counters               2        3        3        4        4\n",
       "n_feeder_counters            NaN      NaN      NaN      NaN      NaN\n",
       "min_field_count_parties      NaN      NaN      NaN      NaN      NaN\n",
       "max_field_count_parties      NaN      NaN      NaN      NaN      NaN\n",
       "field_hours                    9        8        9        8        8\n",
       "feeder_hours                 NaN      NaN      NaN      NaN      NaN\n",
       "nocturl_hours                NaN      NaN      NaN      NaN      NaN\n",
       "field_distance                35       35       35       33       33\n",
       "nocturnal_distance           NaN      NaN      NaN      NaN      NaN\n",
       "distance_units             Miles    Miles    Miles    Miles    Miles\n",
       "min_temp                      38       40       30       31      NaN\n",
       "max_temp                      41       43       35       38      NaN\n",
       "temp_unit                    NaN      NaN      NaN      NaN      NaN\n",
       "min_wind                      17        0       12       25      NaN\n",
       "max_wind                      23        0       18       46      NaN\n",
       "wind_unit                    NaN      NaN      NaN      NaN      NaN\n",
       "min_snow                       0        0        0        0      NaN\n",
       "max_snow                       0        0        0        0      NaN\n",
       "snow_unit                    NaN      NaN      NaN      NaN      NaN\n",
       "am_cloud                       2        3        6        6      NaN\n",
       "pm_cloud                       2        2        2        2      NaN\n",
       "am_rain                        2        4        4        3      NaN\n",
       "pm_rain                        2        4        3        3      NaN\n",
       "am_snow                        2        4        4        3      NaN\n",
       "pm_snow                        2        4        2        2      NaN"
      ]
     },
     "execution_count": 4,
     "metadata": {},
     "output_type": "execute_result"
    }
   ],
   "source": [
    "raw_data.head().T"
   ]
  },
  {
   "cell_type": "markdown",
   "metadata": {},
   "source": [
    "Trying to predict n_field_counters (feeder is different)"
   ]
  },
  {
   "cell_type": "code",
   "execution_count": 5,
   "metadata": {
    "collapsed": false
   },
   "outputs": [
    {
     "data": {
      "text/html": [
       "<div>\n",
       "<style>\n",
       "    .dataframe thead tr:only-child th {\n",
       "        text-align: right;\n",
       "    }\n",
       "\n",
       "    .dataframe thead th {\n",
       "        text-align: left;\n",
       "    }\n",
       "\n",
       "    .dataframe tbody tr th {\n",
       "        vertical-align: top;\n",
       "    }\n",
       "</style>\n",
       "<table border=\"1\" class=\"dataframe\">\n",
       "  <thead>\n",
       "    <tr style=\"text-align: right;\">\n",
       "      <th></th>\n",
       "      <th>circle_name</th>\n",
       "      <th>country_state</th>\n",
       "      <th>lat</th>\n",
       "      <th>lon</th>\n",
       "      <th>count_year</th>\n",
       "      <th>n_field_counters</th>\n",
       "      <th>n_feeder_counters</th>\n",
       "      <th>min_field_count_parties</th>\n",
       "      <th>max_field_count_parties</th>\n",
       "      <th>field_hours</th>\n",
       "      <th>...</th>\n",
       "      <th>wind_unit</th>\n",
       "      <th>min_snow</th>\n",
       "      <th>max_snow</th>\n",
       "      <th>snow_unit</th>\n",
       "      <th>am_cloud</th>\n",
       "      <th>pm_cloud</th>\n",
       "      <th>am_rain</th>\n",
       "      <th>pm_rain</th>\n",
       "      <th>am_snow</th>\n",
       "      <th>pm_snow</th>\n",
       "    </tr>\n",
       "  </thead>\n",
       "  <tbody>\n",
       "    <tr>\n",
       "      <th>count</th>\n",
       "      <td>73558</td>\n",
       "      <td>73558</td>\n",
       "      <td>73558.000000</td>\n",
       "      <td>73558.000000</td>\n",
       "      <td>73558.000000</td>\n",
       "      <td>73401.000000</td>\n",
       "      <td>41819.000000</td>\n",
       "      <td>46326.000000</td>\n",
       "      <td>46918.00000</td>\n",
       "      <td>72942.000000</td>\n",
       "      <td>...</td>\n",
       "      <td>46900.000000</td>\n",
       "      <td>61677.000000</td>\n",
       "      <td>61817.000000</td>\n",
       "      <td>44099.000000</td>\n",
       "      <td>65931.000000</td>\n",
       "      <td>65889.000000</td>\n",
       "      <td>65516</td>\n",
       "      <td>65455</td>\n",
       "      <td>65359</td>\n",
       "      <td>65321</td>\n",
       "    </tr>\n",
       "    <tr>\n",
       "      <th>unique</th>\n",
       "      <td>2537</td>\n",
       "      <td>55</td>\n",
       "      <td>NaN</td>\n",
       "      <td>NaN</td>\n",
       "      <td>NaN</td>\n",
       "      <td>NaN</td>\n",
       "      <td>NaN</td>\n",
       "      <td>NaN</td>\n",
       "      <td>NaN</td>\n",
       "      <td>NaN</td>\n",
       "      <td>...</td>\n",
       "      <td>NaN</td>\n",
       "      <td>NaN</td>\n",
       "      <td>NaN</td>\n",
       "      <td>NaN</td>\n",
       "      <td>NaN</td>\n",
       "      <td>NaN</td>\n",
       "      <td>13</td>\n",
       "      <td>11</td>\n",
       "      <td>13</td>\n",
       "      <td>12</td>\n",
       "    </tr>\n",
       "    <tr>\n",
       "      <th>top</th>\n",
       "      <td>Springfield</td>\n",
       "      <td>US-CA</td>\n",
       "      <td>NaN</td>\n",
       "      <td>NaN</td>\n",
       "      <td>NaN</td>\n",
       "      <td>NaN</td>\n",
       "      <td>NaN</td>\n",
       "      <td>NaN</td>\n",
       "      <td>NaN</td>\n",
       "      <td>NaN</td>\n",
       "      <td>...</td>\n",
       "      <td>NaN</td>\n",
       "      <td>NaN</td>\n",
       "      <td>NaN</td>\n",
       "      <td>NaN</td>\n",
       "      <td>NaN</td>\n",
       "      <td>NaN</td>\n",
       "      <td>3</td>\n",
       "      <td>3</td>\n",
       "      <td>3</td>\n",
       "      <td>3</td>\n",
       "    </tr>\n",
       "    <tr>\n",
       "      <th>freq</th>\n",
       "      <td>201</td>\n",
       "      <td>5119</td>\n",
       "      <td>NaN</td>\n",
       "      <td>NaN</td>\n",
       "      <td>NaN</td>\n",
       "      <td>NaN</td>\n",
       "      <td>NaN</td>\n",
       "      <td>NaN</td>\n",
       "      <td>NaN</td>\n",
       "      <td>NaN</td>\n",
       "      <td>...</td>\n",
       "      <td>NaN</td>\n",
       "      <td>NaN</td>\n",
       "      <td>NaN</td>\n",
       "      <td>NaN</td>\n",
       "      <td>NaN</td>\n",
       "      <td>NaN</td>\n",
       "      <td>33659</td>\n",
       "      <td>34424</td>\n",
       "      <td>35681</td>\n",
       "      <td>36130</td>\n",
       "    </tr>\n",
       "    <tr>\n",
       "      <th>mean</th>\n",
       "      <td>NaN</td>\n",
       "      <td>NaN</td>\n",
       "      <td>39.429701</td>\n",
       "      <td>-93.396898</td>\n",
       "      <td>1995.743318</td>\n",
       "      <td>23.534591</td>\n",
       "      <td>3.811282</td>\n",
       "      <td>8.397682</td>\n",
       "      <td>10.10448</td>\n",
       "      <td>65.346295</td>\n",
       "      <td>...</td>\n",
       "      <td>0.986951</td>\n",
       "      <td>1.413307</td>\n",
       "      <td>3.277340</td>\n",
       "      <td>2.006077</td>\n",
       "      <td>2.973139</td>\n",
       "      <td>3.244532</td>\n",
       "      <td>NaN</td>\n",
       "      <td>NaN</td>\n",
       "      <td>NaN</td>\n",
       "      <td>NaN</td>\n",
       "    </tr>\n",
       "    <tr>\n",
       "      <th>std</th>\n",
       "      <td>NaN</td>\n",
       "      <td>NaN</td>\n",
       "      <td>5.938967</td>\n",
       "      <td>17.785463</td>\n",
       "      <td>14.685175</td>\n",
       "      <td>21.914766</td>\n",
       "      <td>9.932000</td>\n",
       "      <td>7.454819</td>\n",
       "      <td>8.98979</td>\n",
       "      <td>57.155580</td>\n",
       "      <td>...</td>\n",
       "      <td>0.172158</td>\n",
       "      <td>4.307580</td>\n",
       "      <td>8.028987</td>\n",
       "      <td>0.110081</td>\n",
       "      <td>2.007817</td>\n",
       "      <td>2.135298</td>\n",
       "      <td>NaN</td>\n",
       "      <td>NaN</td>\n",
       "      <td>NaN</td>\n",
       "      <td>NaN</td>\n",
       "    </tr>\n",
       "    <tr>\n",
       "      <th>min</th>\n",
       "      <td>NaN</td>\n",
       "      <td>NaN</td>\n",
       "      <td>19.433300</td>\n",
       "      <td>-177.380631</td>\n",
       "      <td>1966.000000</td>\n",
       "      <td>0.000000</td>\n",
       "      <td>0.000000</td>\n",
       "      <td>0.000000</td>\n",
       "      <td>0.00000</td>\n",
       "      <td>0.000000</td>\n",
       "      <td>...</td>\n",
       "      <td>0.000000</td>\n",
       "      <td>0.000000</td>\n",
       "      <td>0.000000</td>\n",
       "      <td>2.000000</td>\n",
       "      <td>1.000000</td>\n",
       "      <td>1.000000</td>\n",
       "      <td>NaN</td>\n",
       "      <td>NaN</td>\n",
       "      <td>NaN</td>\n",
       "      <td>NaN</td>\n",
       "    </tr>\n",
       "    <tr>\n",
       "      <th>25%</th>\n",
       "      <td>NaN</td>\n",
       "      <td>NaN</td>\n",
       "      <td>35.714551</td>\n",
       "      <td>-103.864184</td>\n",
       "      <td>1984.000000</td>\n",
       "      <td>10.000000</td>\n",
       "      <td>0.000000</td>\n",
       "      <td>4.000000</td>\n",
       "      <td>5.00000</td>\n",
       "      <td>31.500000</td>\n",
       "      <td>...</td>\n",
       "      <td>1.000000</td>\n",
       "      <td>0.000000</td>\n",
       "      <td>0.000000</td>\n",
       "      <td>2.000000</td>\n",
       "      <td>1.000000</td>\n",
       "      <td>1.000000</td>\n",
       "      <td>NaN</td>\n",
       "      <td>NaN</td>\n",
       "      <td>NaN</td>\n",
       "      <td>NaN</td>\n",
       "    </tr>\n",
       "    <tr>\n",
       "      <th>50%</th>\n",
       "      <td>NaN</td>\n",
       "      <td>NaN</td>\n",
       "      <td>40.116700</td>\n",
       "      <td>-89.404762</td>\n",
       "      <td>1997.000000</td>\n",
       "      <td>18.000000</td>\n",
       "      <td>1.000000</td>\n",
       "      <td>7.000000</td>\n",
       "      <td>8.00000</td>\n",
       "      <td>51.250000</td>\n",
       "      <td>...</td>\n",
       "      <td>1.000000</td>\n",
       "      <td>0.000000</td>\n",
       "      <td>0.000000</td>\n",
       "      <td>2.000000</td>\n",
       "      <td>2.000000</td>\n",
       "      <td>2.000000</td>\n",
       "      <td>NaN</td>\n",
       "      <td>NaN</td>\n",
       "      <td>NaN</td>\n",
       "      <td>NaN</td>\n",
       "    </tr>\n",
       "    <tr>\n",
       "      <th>75%</th>\n",
       "      <td>NaN</td>\n",
       "      <td>NaN</td>\n",
       "      <td>42.983308</td>\n",
       "      <td>-80.566700</td>\n",
       "      <td>2009.000000</td>\n",
       "      <td>29.000000</td>\n",
       "      <td>4.000000</td>\n",
       "      <td>10.000000</td>\n",
       "      <td>12.00000</td>\n",
       "      <td>82.000000</td>\n",
       "      <td>...</td>\n",
       "      <td>1.000000</td>\n",
       "      <td>1.000000</td>\n",
       "      <td>4.000000</td>\n",
       "      <td>2.000000</td>\n",
       "      <td>5.000000</td>\n",
       "      <td>6.000000</td>\n",
       "      <td>NaN</td>\n",
       "      <td>NaN</td>\n",
       "      <td>NaN</td>\n",
       "      <td>NaN</td>\n",
       "    </tr>\n",
       "    <tr>\n",
       "      <th>max</th>\n",
       "      <td>NaN</td>\n",
       "      <td>NaN</td>\n",
       "      <td>71.333300</td>\n",
       "      <td>179.284881</td>\n",
       "      <td>2018.000000</td>\n",
       "      <td>501.000000</td>\n",
       "      <td>866.000000</td>\n",
       "      <td>150.000000</td>\n",
       "      <td>322.00000</td>\n",
       "      <td>4407.000000</td>\n",
       "      <td>...</td>\n",
       "      <td>3.000000</td>\n",
       "      <td>555.000000</td>\n",
       "      <td>800.000000</td>\n",
       "      <td>4.000000</td>\n",
       "      <td>7.000000</td>\n",
       "      <td>7.000000</td>\n",
       "      <td>NaN</td>\n",
       "      <td>NaN</td>\n",
       "      <td>NaN</td>\n",
       "      <td>NaN</td>\n",
       "    </tr>\n",
       "  </tbody>\n",
       "</table>\n",
       "<p>11 rows × 30 columns</p>\n",
       "</div>"
      ],
      "text/plain": [
       "        circle_name country_state           lat           lon    count_year  \\\n",
       "count         73558         73558  73558.000000  73558.000000  73558.000000   \n",
       "unique         2537            55           NaN           NaN           NaN   \n",
       "top     Springfield         US-CA           NaN           NaN           NaN   \n",
       "freq            201          5119           NaN           NaN           NaN   \n",
       "mean            NaN           NaN     39.429701    -93.396898   1995.743318   \n",
       "std             NaN           NaN      5.938967     17.785463     14.685175   \n",
       "min             NaN           NaN     19.433300   -177.380631   1966.000000   \n",
       "25%             NaN           NaN     35.714551   -103.864184   1984.000000   \n",
       "50%             NaN           NaN     40.116700    -89.404762   1997.000000   \n",
       "75%             NaN           NaN     42.983308    -80.566700   2009.000000   \n",
       "max             NaN           NaN     71.333300    179.284881   2018.000000   \n",
       "\n",
       "        n_field_counters  n_feeder_counters  min_field_count_parties  \\\n",
       "count       73401.000000       41819.000000             46326.000000   \n",
       "unique               NaN                NaN                      NaN   \n",
       "top                  NaN                NaN                      NaN   \n",
       "freq                 NaN                NaN                      NaN   \n",
       "mean           23.534591           3.811282                 8.397682   \n",
       "std            21.914766           9.932000                 7.454819   \n",
       "min             0.000000           0.000000                 0.000000   \n",
       "25%            10.000000           0.000000                 4.000000   \n",
       "50%            18.000000           1.000000                 7.000000   \n",
       "75%            29.000000           4.000000                10.000000   \n",
       "max           501.000000         866.000000               150.000000   \n",
       "\n",
       "        max_field_count_parties   field_hours   ...        wind_unit  \\\n",
       "count               46918.00000  72942.000000   ...     46900.000000   \n",
       "unique                      NaN           NaN   ...              NaN   \n",
       "top                         NaN           NaN   ...              NaN   \n",
       "freq                        NaN           NaN   ...              NaN   \n",
       "mean                   10.10448     65.346295   ...         0.986951   \n",
       "std                     8.98979     57.155580   ...         0.172158   \n",
       "min                     0.00000      0.000000   ...         0.000000   \n",
       "25%                     5.00000     31.500000   ...         1.000000   \n",
       "50%                     8.00000     51.250000   ...         1.000000   \n",
       "75%                    12.00000     82.000000   ...         1.000000   \n",
       "max                   322.00000   4407.000000   ...         3.000000   \n",
       "\n",
       "            min_snow      max_snow     snow_unit      am_cloud      pm_cloud  \\\n",
       "count   61677.000000  61817.000000  44099.000000  65931.000000  65889.000000   \n",
       "unique           NaN           NaN           NaN           NaN           NaN   \n",
       "top              NaN           NaN           NaN           NaN           NaN   \n",
       "freq             NaN           NaN           NaN           NaN           NaN   \n",
       "mean        1.413307      3.277340      2.006077      2.973139      3.244532   \n",
       "std         4.307580      8.028987      0.110081      2.007817      2.135298   \n",
       "min         0.000000      0.000000      2.000000      1.000000      1.000000   \n",
       "25%         0.000000      0.000000      2.000000      1.000000      1.000000   \n",
       "50%         0.000000      0.000000      2.000000      2.000000      2.000000   \n",
       "75%         1.000000      4.000000      2.000000      5.000000      6.000000   \n",
       "max       555.000000    800.000000      4.000000      7.000000      7.000000   \n",
       "\n",
       "        am_rain  pm_rain  am_snow  pm_snow  \n",
       "count     65516    65455    65359    65321  \n",
       "unique       13       11       13       12  \n",
       "top           3        3        3        3  \n",
       "freq      33659    34424    35681    36130  \n",
       "mean        NaN      NaN      NaN      NaN  \n",
       "std         NaN      NaN      NaN      NaN  \n",
       "min         NaN      NaN      NaN      NaN  \n",
       "25%         NaN      NaN      NaN      NaN  \n",
       "50%         NaN      NaN      NaN      NaN  \n",
       "75%         NaN      NaN      NaN      NaN  \n",
       "max         NaN      NaN      NaN      NaN  \n",
       "\n",
       "[11 rows x 30 columns]"
      ]
     },
     "execution_count": 5,
     "metadata": {},
     "output_type": "execute_result"
    }
   ],
   "source": [
    "raw_data.describe(include = 'all')"
   ]
  },
  {
   "cell_type": "code",
   "execution_count": 12,
   "metadata": {
    "collapsed": false
   },
   "outputs": [
    {
     "data": {
      "text/html": [
       "<div>\n",
       "<style>\n",
       "    .dataframe thead tr:only-child th {\n",
       "        text-align: right;\n",
       "    }\n",
       "\n",
       "    .dataframe thead th {\n",
       "        text-align: left;\n",
       "    }\n",
       "\n",
       "    .dataframe tbody tr th {\n",
       "        vertical-align: top;\n",
       "    }\n",
       "</style>\n",
       "<table border=\"1\" class=\"dataframe\">\n",
       "  <thead>\n",
       "    <tr style=\"text-align: right;\">\n",
       "      <th></th>\n",
       "      <th>0</th>\n",
       "    </tr>\n",
       "  </thead>\n",
       "  <tbody>\n",
       "    <tr>\n",
       "      <th>n_feeder_counters</th>\n",
       "      <td>43.148264</td>\n",
       "    </tr>\n",
       "    <tr>\n",
       "      <th>snow_unit</th>\n",
       "      <td>40.048669</td>\n",
       "    </tr>\n",
       "    <tr>\n",
       "      <th>nocturnal_distance</th>\n",
       "      <td>38.139971</td>\n",
       "    </tr>\n",
       "    <tr>\n",
       "      <th>min_field_count_parties</th>\n",
       "      <td>37.021126</td>\n",
       "    </tr>\n",
       "    <tr>\n",
       "      <th>temp_unit</th>\n",
       "      <td>36.240790</td>\n",
       "    </tr>\n",
       "    <tr>\n",
       "      <th>wind_unit</th>\n",
       "      <td>36.240790</td>\n",
       "    </tr>\n",
       "    <tr>\n",
       "      <th>max_field_count_parties</th>\n",
       "      <td>36.216319</td>\n",
       "    </tr>\n",
       "    <tr>\n",
       "      <th>nocturl_hours</th>\n",
       "      <td>31.643057</td>\n",
       "    </tr>\n",
       "    <tr>\n",
       "      <th>feeder_hours</th>\n",
       "      <td>29.953234</td>\n",
       "    </tr>\n",
       "    <tr>\n",
       "      <th>min_snow</th>\n",
       "      <td>16.151880</td>\n",
       "    </tr>\n",
       "    <tr>\n",
       "      <th>max_snow</th>\n",
       "      <td>15.961554</td>\n",
       "    </tr>\n",
       "    <tr>\n",
       "      <th>min_wind</th>\n",
       "      <td>12.358955</td>\n",
       "    </tr>\n",
       "    <tr>\n",
       "      <th>max_wind</th>\n",
       "      <td>12.295060</td>\n",
       "    </tr>\n",
       "    <tr>\n",
       "      <th>pm_snow</th>\n",
       "      <td>11.197966</td>\n",
       "    </tr>\n",
       "    <tr>\n",
       "      <th>am_snow</th>\n",
       "      <td>11.146306</td>\n",
       "    </tr>\n",
       "    <tr>\n",
       "      <th>pm_rain</th>\n",
       "      <td>11.015797</td>\n",
       "    </tr>\n",
       "    <tr>\n",
       "      <th>am_rain</th>\n",
       "      <td>10.932869</td>\n",
       "    </tr>\n",
       "    <tr>\n",
       "      <th>pm_cloud</th>\n",
       "      <td>10.425786</td>\n",
       "    </tr>\n",
       "    <tr>\n",
       "      <th>am_cloud</th>\n",
       "      <td>10.368689</td>\n",
       "    </tr>\n",
       "    <tr>\n",
       "      <th>max_temp</th>\n",
       "      <td>10.341499</td>\n",
       "    </tr>\n",
       "    <tr>\n",
       "      <th>min_temp</th>\n",
       "      <td>10.336061</td>\n",
       "    </tr>\n",
       "    <tr>\n",
       "      <th>field_hours</th>\n",
       "      <td>0.837434</td>\n",
       "    </tr>\n",
       "    <tr>\n",
       "      <th>field_distance</th>\n",
       "      <td>0.811604</td>\n",
       "    </tr>\n",
       "    <tr>\n",
       "      <th>distance_units</th>\n",
       "      <td>0.269175</td>\n",
       "    </tr>\n",
       "    <tr>\n",
       "      <th>n_field_counters</th>\n",
       "      <td>0.213437</td>\n",
       "    </tr>\n",
       "    <tr>\n",
       "      <th>country_state</th>\n",
       "      <td>0.000000</td>\n",
       "    </tr>\n",
       "    <tr>\n",
       "      <th>count_year</th>\n",
       "      <td>0.000000</td>\n",
       "    </tr>\n",
       "    <tr>\n",
       "      <th>lon</th>\n",
       "      <td>0.000000</td>\n",
       "    </tr>\n",
       "    <tr>\n",
       "      <th>lat</th>\n",
       "      <td>0.000000</td>\n",
       "    </tr>\n",
       "    <tr>\n",
       "      <th>circle_name</th>\n",
       "      <td>0.000000</td>\n",
       "    </tr>\n",
       "  </tbody>\n",
       "</table>\n",
       "</div>"
      ],
      "text/plain": [
       "                                 0\n",
       "n_feeder_counters        43.148264\n",
       "snow_unit                40.048669\n",
       "nocturnal_distance       38.139971\n",
       "min_field_count_parties  37.021126\n",
       "temp_unit                36.240790\n",
       "wind_unit                36.240790\n",
       "max_field_count_parties  36.216319\n",
       "nocturl_hours            31.643057\n",
       "feeder_hours             29.953234\n",
       "min_snow                 16.151880\n",
       "max_snow                 15.961554\n",
       "min_wind                 12.358955\n",
       "max_wind                 12.295060\n",
       "pm_snow                  11.197966\n",
       "am_snow                  11.146306\n",
       "pm_rain                  11.015797\n",
       "am_rain                  10.932869\n",
       "pm_cloud                 10.425786\n",
       "am_cloud                 10.368689\n",
       "max_temp                 10.341499\n",
       "min_temp                 10.336061\n",
       "field_hours               0.837434\n",
       "field_distance            0.811604\n",
       "distance_units            0.269175\n",
       "n_field_counters          0.213437\n",
       "country_state             0.000000\n",
       "count_year                0.000000\n",
       "lon                       0.000000\n",
       "lat                       0.000000\n",
       "circle_name               0.000000"
      ]
     },
     "execution_count": 12,
     "metadata": {},
     "output_type": "execute_result"
    }
   ],
   "source": [
    "#What percentage are null\n",
    "pd.DataFrame((raw_data.isnull().sum())/len(raw_data) * 100).sort_values(by = 0, ascending = False)"
   ]
  },
  {
   "cell_type": "code",
   "execution_count": 10,
   "metadata": {
    "collapsed": true
   },
   "outputs": [],
   "source": [
    "data = pd.DataFrame()"
   ]
  },
  {
   "cell_type": "code",
   "execution_count": null,
   "metadata": {
    "collapsed": true
   },
   "outputs": [],
   "source": []
  },
  {
   "cell_type": "code",
   "execution_count": 6,
   "metadata": {
    "collapsed": false
   },
   "outputs": [
    {
     "data": {
      "text/plain": [
       "count_year                   int64\n",
       "field_distance             float64\n",
       "snow_unit                  float64\n",
       "max_snow                   float64\n",
       "min_snow                   float64\n",
       "wind_unit                  float64\n",
       "max_wind                   float64\n",
       "min_wind                   float64\n",
       "temp_unit                  float64\n",
       "max_temp                   float64\n",
       "min_temp                   float64\n",
       "nocturnal_distance         float64\n",
       "pm_cloud                   float64\n",
       "nocturl_hours              float64\n",
       "feeder_hours               float64\n",
       "field_hours                float64\n",
       "max_field_count_parties    float64\n",
       "min_field_count_parties    float64\n",
       "n_feeder_counters          float64\n",
       "n_field_counters           float64\n",
       "lon                        float64\n",
       "lat                        float64\n",
       "am_cloud                   float64\n",
       "am_rain                     object\n",
       "pm_rain                     object\n",
       "circle_name                 object\n",
       "distance_units              object\n",
       "country_state               object\n",
       "am_snow                     object\n",
       "pm_snow                     object\n",
       "dtype: object"
      ]
     },
     "execution_count": 6,
     "metadata": {},
     "output_type": "execute_result"
    }
   ],
   "source": [
    "#What type are the different variables\n",
    "raw_data.dtypes.sort_values()"
   ]
  },
  {
   "cell_type": "code",
   "execution_count": 25,
   "metadata": {
    "collapsed": false
   },
   "outputs": [
    {
     "data": {
      "text/plain": [
       "0.2107180728132902"
      ]
     },
     "execution_count": 25,
     "metadata": {},
     "output_type": "execute_result"
    }
   ],
   "source": []
  },
  {
   "cell_type": "markdown",
   "metadata": {},
   "source": [
    "__N Field Counters__"
   ]
  },
  {
   "cell_type": "code",
   "execution_count": 22,
   "metadata": {
    "collapsed": false
   },
   "outputs": [
    {
     "data": {
      "text/plain": [
       "count    73398.000000\n",
       "mean        23.534694\n",
       "std         21.914939\n",
       "min          0.000000\n",
       "25%         10.000000\n",
       "50%         18.000000\n",
       "75%         29.000000\n",
       "max        501.000000\n",
       "Name: n_field_counters, dtype: float64"
      ]
     },
     "execution_count": 22,
     "metadata": {},
     "output_type": "execute_result"
    }
   ],
   "source": [
    "raw_data['n_field_counters'].describe()"
   ]
  },
  {
   "cell_type": "code",
   "execution_count": 23,
   "metadata": {
    "collapsed": false
   },
   "outputs": [
    {
     "data": {
      "text/plain": [
       "0.2120890774125133"
      ]
     },
     "execution_count": 23,
     "metadata": {},
     "output_type": "execute_result"
    }
   ],
   "source": [
    "(raw_data['n_field_counters'].isnull().sum()) / len(raw_data) * 100"
   ]
  },
  {
   "cell_type": "code",
   "execution_count": 24,
   "metadata": {
    "collapsed": false
   },
   "outputs": [
    {
     "data": {
      "image/png": "[encoded data removed]",
      "text/plain": [
       "<Figure size 432x288 with 1 Axes>"
      ]
     },
     "metadata": {
      "needs_background": "light"
     },
     "output_type": "display_data"
    }
   ],
   "source": [
    "raw_data['n_field_counters'].hist(bins = 50);"
   ]
  },
  {
   "cell_type": "code",
   "execution_count": 25,
   "metadata": {
    "collapsed": false
   },
   "outputs": [
    {
     "data": {
      "text/plain": [
       "0.983508714685809"
      ]
     },
     "execution_count": 25,
     "metadata": {},
     "output_type": "execute_result"
    }
   ],
   "source": [
    "raw_data.loc[raw_data['n_field_counters'] < 100].shape[0] / len(raw_data)"
   ]
  },
  {
   "cell_type": "markdown",
   "metadata": {},
   "source": [
    "__Count Year__"
   ]
  },
  {
   "cell_type": "code",
   "execution_count": 7,
   "metadata": {
    "collapsed": false
   },
   "outputs": [
    {
     "data": {
      "text/plain": [
       "count    73558.000000\n",
       "mean      1995.743318\n",
       "std         14.685175\n",
       "min       1966.000000\n",
       "25%       1984.000000\n",
       "50%       1997.000000\n",
       "75%       2009.000000\n",
       "max       2018.000000\n",
       "Name: count_year, dtype: float64"
      ]
     },
     "execution_count": 7,
     "metadata": {},
     "output_type": "execute_result"
    }
   ],
   "source": [
    "raw_data['count_year'].describe()"
   ]
  },
  {
   "cell_type": "code",
   "execution_count": 9,
   "metadata": {
    "collapsed": false
   },
   "outputs": [
    {
     "data": {
      "text/plain": [
       "0.0"
      ]
     },
     "execution_count": 9,
     "metadata": {},
     "output_type": "execute_result"
    }
   ],
   "source": [
    "(raw_data['count_year'].isnull().sum())/len(raw_data) * 100"
   ]
  },
  {
   "cell_type": "code",
   "execution_count": null,
   "metadata": {
    "collapsed": true
   },
   "outputs": [],
   "source": []
  },
  {
   "cell_type": "markdown",
   "metadata": {},
   "source": [
    "__NB__: There is a circle name that is NY - do not use, exclude those observations"
   ]
  },
  {
   "cell_type": "markdown",
   "metadata": {},
   "source": [
    "# Examine numeric values"
   ]
  },
  {
   "cell_type": "markdown",
   "metadata": {},
   "source": [
    "field_distance             float64\n",
    "snow_unit                  float64\n",
    "max_snow                   float64\n",
    "min_snow                   float64\n",
    "wind_unit                  float64\n",
    "max_wind                   float64\n",
    "min_wind                   float64\n",
    "temp_unit                  float64\n",
    "max_temp                   float64\n",
    "min_temp                   float64\n",
    "nocturnal_distance         float64\n",
    "pm_cloud                   float64\n",
    "nocturl_hours              float64\n",
    "feeder_hours               float64\n",
    "field_hours                float64\n",
    "max_field_count_parties    float64\n",
    "min_field_count_parties    float64\n",
    "n_feeder_counters          float64\n",
    "n_field_counters           float64\n",
    "lon                        float64\n",
    "lat                        float64\n",
    "am_cloud                   float64"
   ]
  },
  {
   "cell_type": "markdown",
   "metadata": {},
   "source": [
    "### Snow"
   ]
  },
  {
   "cell_type": "code",
   "execution_count": 26,
   "metadata": {
    "collapsed": false
   },
   "outputs": [
    {
     "data": {
      "text/plain": [
       "2.0    43962\n",
       "4.0      134\n",
       "Name: snow_unit, dtype: int64"
      ]
     },
     "execution_count": 26,
     "metadata": {},
     "output_type": "execute_result"
    }
   ],
   "source": [
    "#Variables of interest: snow_unit, max_snow, min_snow\n",
    "raw_data['snow_unit'].value_counts()"
   ]
  },
  {
   "cell_type": "code",
   "execution_count": 13,
   "metadata": {
    "collapsed": false
   },
   "outputs": [
    {
     "data": {
      "text/plain": [
       "22    0.0\n",
       "23    3.0\n",
       "24    0.0\n",
       "25    2.0\n",
       "26    6.0\n",
       "Name: max_snow, dtype: float64"
      ]
     },
     "execution_count": 13,
     "metadata": {},
     "output_type": "execute_result"
    }
   ],
   "source": [
    "raw_data.loc[raw_data[\"snow_unit\"] == 2.0, \"max_snow\"].head()"
   ]
  },
  {
   "cell_type": "code",
   "execution_count": 12,
   "metadata": {
    "collapsed": false
   },
   "outputs": [
    {
     "data": {
      "text/plain": [
       "639       0.0\n",
       "1071    100.0\n",
       "1072     50.0\n",
       "1073     60.0\n",
       "1076     60.0\n",
       "Name: max_snow, dtype: float64"
      ]
     },
     "execution_count": 12,
     "metadata": {},
     "output_type": "execute_result"
    }
   ],
   "source": [
    "raw_data.loc[raw_data[\"snow_unit\"] == 4.0, \"max_snow\"].head()"
   ]
  },
  {
   "cell_type": "code",
   "execution_count": 27,
   "metadata": {
    "collapsed": true
   },
   "outputs": [],
   "source": [
    "#Clearly 4.0 means something different? For now set to Nan\n",
    "raw_data.loc[raw_data[\"snow_unit\"] == 4.0, [\"min_snow\", \"max_snow\"]] = np.NaN"
   ]
  },
  {
   "cell_type": "code",
   "execution_count": 30,
   "metadata": {
    "collapsed": false
   },
   "outputs": [
    {
     "data": {
      "image/png": "[encoded data removed]",
      "text/plain": [
       "<Figure size 432x288 with 1 Axes>"
      ]
     },
     "metadata": {
      "needs_background": "light"
     },
     "output_type": "display_data"
    }
   ],
   "source": [
    "#Examine distribution - is mean or median better for this\n",
    "sns.distplot(raw_data.loc[raw_data[\"min_snow\"].isnull() == False][\"min_snow\"]);"
   ]
  },
  {
   "cell_type": "code",
   "execution_count": 29,
   "metadata": {
    "collapsed": false
   },
   "outputs": [
    {
     "data": {
      "image/png": "[encoded data removed]",
      "text/plain": [
       "<Figure size 432x288 with 1 Axes>"
      ]
     },
     "metadata": {
      "needs_background": "light"
     },
     "output_type": "display_data"
    }
   ],
   "source": [
    "sns.distplot(raw_data.loc[raw_data[\"max_snow\"].isnull() == False][\"max_snow\"]);"
   ]
  },
  {
   "cell_type": "code",
   "execution_count": 31,
   "metadata": {
    "collapsed": true
   },
   "outputs": [],
   "source": [
    "#Contains outliers so we will replace with 0 assuming no snow happened if it wasn't recorded\n",
    "raw_data[\"min_snow\"] = raw_data[\"min_snow\"].fillna(0)\n",
    "raw_data[\"max_snow\"] = raw_data[\"max_snow\"].fillna(0)"
   ]
  },
  {
   "cell_type": "code",
   "execution_count": 57,
   "metadata": {
    "collapsed": true
   },
   "outputs": [],
   "source": []
  },
  {
   "cell_type": "code",
   "execution_count": 32,
   "metadata": {
    "collapsed": false
   },
   "outputs": [
    {
     "data": {
      "image/png": "[encoded data removed]",
      "text/plain": [
       "<Figure size 432x288 with 1 Axes>"
      ]
     },
     "metadata": {
      "needs_background": "light"
     },
     "output_type": "display_data"
    }
   ],
   "source": [
    "#Graph against time\n",
    "#seaborn lineplot not integrated into latest version of conda\n",
    "plt.plot(raw_data[\"count_year\"], raw_data[\"min_snow\"]);"
   ]
  },
  {
   "cell_type": "code",
   "execution_count": 33,
   "metadata": {
    "collapsed": false
   },
   "outputs": [
    {
     "data": {
      "image/png": "[encoded data removed]",
      "text/plain": [
       "<Figure size 432x288 with 1 Axes>"
      ]
     },
     "metadata": {
      "needs_background": "light"
     },
     "output_type": "display_data"
    }
   ],
   "source": [
    "plt.plot(raw_data[\"count_year\"], raw_data[\"max_snow\"]);"
   ]
  },
  {
   "cell_type": "code",
   "execution_count": 53,
   "metadata": {
    "collapsed": false
   },
   "outputs": [
    {
     "data": {
      "text/plain": [
       "count    73558.000000\n",
       "mean         1.182041\n",
       "std          3.968637\n",
       "min          0.000000\n",
       "25%          0.000000\n",
       "50%          0.000000\n",
       "75%          0.000000\n",
       "max        555.000000\n",
       "Name: min_snow, dtype: float64"
      ]
     },
     "execution_count": 53,
     "metadata": {},
     "output_type": "execute_result"
    }
   ],
   "source": [
    "raw_data[\"min_snow\"].describe()"
   ]
  },
  {
   "cell_type": "code",
   "execution_count": 35,
   "metadata": {
    "collapsed": false
   },
   "outputs": [
    {
     "data": {
      "text/plain": [
       "1996"
      ]
     },
     "execution_count": 35,
     "metadata": {},
     "output_type": "execute_result"
    }
   ],
   "source": [
    "#There are clearly some outliers, how many are there? \n",
    "len(raw_data[raw_data[\"min_snow\"] > (raw_data[\"min_snow\"].mean() + 3 * raw_data[\"min_snow\"].std())])"
   ]
  },
  {
   "cell_type": "code",
   "execution_count": 36,
   "metadata": {
    "collapsed": false
   },
   "outputs": [
    {
     "data": {
      "text/plain": [
       "1768"
      ]
     },
     "execution_count": 36,
     "metadata": {},
     "output_type": "execute_result"
    }
   ],
   "source": [
    "len(raw_data[raw_data[\"max_snow\"] > (raw_data[\"max_snow\"].mean() + 3 * raw_data[\"max_snow\"].std())])"
   ]
  },
  {
   "cell_type": "code",
   "execution_count": 37,
   "metadata": {
    "collapsed": false
   },
   "outputs": [
    {
     "data": {
      "image/png": "[encoded data removed]",
      "text/plain": [
       "<Figure size 432x288 with 1 Axes>"
      ]
     },
     "metadata": {
      "needs_background": "light"
     },
     "output_type": "display_data"
    }
   ],
   "source": [
    "temp = raw_data.loc[raw_data[\"max_snow\"] < (raw_data[\"max_snow\"].mean() + 3 * raw_data[\"max_snow\"].std()), :]\n",
    "plt.scatter(temp[\"count_year\"], temp[\"max_snow\"]);"
   ]
  },
  {
   "cell_type": "code",
   "execution_count": null,
   "metadata": {
    "collapsed": true
   },
   "outputs": [],
   "source": [
    "#Very little relationship with time"
   ]
  },
  {
   "cell_type": "code",
   "execution_count": 38,
   "metadata": {
    "collapsed": true
   },
   "outputs": [],
   "source": [
    "#Create average snow variable\n",
    "raw_data[\"average_snow\"] = (raw_data[\"max_snow\"] + raw_data[\"min_snow\"]) / 2"
   ]
  },
  {
   "cell_type": "code",
   "execution_count": 39,
   "metadata": {
    "collapsed": false
   },
   "outputs": [
    {
     "data": {
      "text/plain": [
       "[<matplotlib.lines.Line2D at 0x1a1d4ef550>]"
      ]
     },
     "execution_count": 39,
     "metadata": {},
     "output_type": "execute_result"
    },
    {
     "data": {
      "image/png": "[encoded data removed]",
      "text/plain": [
       "<Figure size 432x288 with 1 Axes>"
      ]
     },
     "metadata": {
      "needs_background": "light"
     },
     "output_type": "display_data"
    }
   ],
   "source": [
    "plt.plot(raw_data[\"count_year\"], raw_data[\"average_snow\"])"
   ]
  },
  {
   "cell_type": "code",
   "execution_count": 48,
   "metadata": {
    "collapsed": false
   },
   "outputs": [
    {
     "data": {
      "text/html": [
       "<div>\n",
       "<style>\n",
       "    .dataframe thead tr:only-child th {\n",
       "        text-align: right;\n",
       "    }\n",
       "\n",
       "    .dataframe thead th {\n",
       "        text-align: left;\n",
       "    }\n",
       "\n",
       "    .dataframe tbody tr th {\n",
       "        vertical-align: top;\n",
       "    }\n",
       "</style>\n",
       "<table border=\"1\" class=\"dataframe\">\n",
       "  <thead>\n",
       "    <tr style=\"text-align: right;\">\n",
       "      <th></th>\n",
       "      <th>circle_name</th>\n",
       "      <th>country_state</th>\n",
       "      <th>lat</th>\n",
       "      <th>lon</th>\n",
       "      <th>count_year</th>\n",
       "      <th>n_field_counters</th>\n",
       "      <th>n_feeder_counters</th>\n",
       "      <th>min_field_count_parties</th>\n",
       "      <th>max_field_count_parties</th>\n",
       "      <th>field_hours</th>\n",
       "      <th>...</th>\n",
       "      <th>max_snow</th>\n",
       "      <th>snow_unit</th>\n",
       "      <th>am_cloud</th>\n",
       "      <th>pm_cloud</th>\n",
       "      <th>am_rain</th>\n",
       "      <th>pm_rain</th>\n",
       "      <th>am_snow</th>\n",
       "      <th>pm_snow</th>\n",
       "      <th>average_wind</th>\n",
       "      <th>average_snow</th>\n",
       "    </tr>\n",
       "  </thead>\n",
       "  <tbody>\n",
       "    <tr>\n",
       "      <th>6697</th>\n",
       "      <td>Mono Lake</td>\n",
       "      <td>US-CA</td>\n",
       "      <td>37.956057</td>\n",
       "      <td>-119.120139</td>\n",
       "      <td>2010</td>\n",
       "      <td>14.0</td>\n",
       "      <td>1.0</td>\n",
       "      <td>1.0</td>\n",
       "      <td>9.0</td>\n",
       "      <td>54.5</td>\n",
       "      <td>...</td>\n",
       "      <td>800.0</td>\n",
       "      <td>2.0</td>\n",
       "      <td>3.0</td>\n",
       "      <td>6.0</td>\n",
       "      <td>3</td>\n",
       "      <td>3</td>\n",
       "      <td>3</td>\n",
       "      <td>3</td>\n",
       "      <td>3.0</td>\n",
       "      <td>400.0</td>\n",
       "    </tr>\n",
       "  </tbody>\n",
       "</table>\n",
       "<p>1 rows × 32 columns</p>\n",
       "</div>"
      ],
      "text/plain": [
       "     circle_name country_state        lat         lon  count_year  \\\n",
       "6697   Mono Lake         US-CA  37.956057 -119.120139        2010   \n",
       "\n",
       "      n_field_counters  n_feeder_counters  min_field_count_parties  \\\n",
       "6697              14.0                1.0                      1.0   \n",
       "\n",
       "      max_field_count_parties  field_hours      ...       max_snow  snow_unit  \\\n",
       "6697                      9.0         54.5      ...          800.0        2.0   \n",
       "\n",
       "      am_cloud  pm_cloud am_rain  pm_rain  am_snow  pm_snow  average_wind  \\\n",
       "6697       3.0       6.0       3        3        3        3           3.0   \n",
       "\n",
       "      average_snow  \n",
       "6697         400.0  \n",
       "\n",
       "[1 rows x 32 columns]"
      ]
     },
     "execution_count": 48,
     "metadata": {},
     "output_type": "execute_result"
    }
   ],
   "source": [
    "raw_data[raw_data['average_snow'] > 150]"
   ]
  },
  {
   "cell_type": "code",
   "execution_count": 40,
   "metadata": {
    "collapsed": false
   },
   "outputs": [
    {
     "data": {
      "image/png": "[encoded data removed]",
      "text/plain": [
       "<Figure size 432x288 with 1 Axes>"
      ]
     },
     "metadata": {
      "needs_background": "light"
     },
     "output_type": "display_data"
    }
   ],
   "source": [
    "temp = raw_data.loc[raw_data[\"average_snow\"] < (raw_data[\"average_snow\"].mean() + 3 * raw_data[\"average_snow\"].std()), :]\n",
    "plt.scatter(temp[\"average_snow\"], temp[\"n_field_counters\"]);"
   ]
  },
  {
   "cell_type": "code",
   "execution_count": null,
   "metadata": {
    "collapsed": true
   },
   "outputs": [],
   "source": []
  },
  {
   "cell_type": "markdown",
   "metadata": {},
   "source": [
    "### Wind"
   ]
  },
  {
   "cell_type": "code",
   "execution_count": 72,
   "metadata": {
    "collapsed": false
   },
   "outputs": [
    {
     "data": {
      "text/plain": [
       "1.0    45895\n",
       "0.0      874\n",
       "3.0      131\n",
       "Name: wind_unit, dtype: int64"
      ]
     },
     "execution_count": 72,
     "metadata": {},
     "output_type": "execute_result"
    }
   ],
   "source": [
    "raw_data[\"wind_unit\"].value_counts()"
   ]
  },
  {
   "cell_type": "code",
   "execution_count": 73,
   "metadata": {
    "collapsed": false
   },
   "outputs": [
    {
     "data": {
      "text/plain": [
       "9091"
      ]
     },
     "execution_count": 73,
     "metadata": {},
     "output_type": "execute_result"
    }
   ],
   "source": [
    "raw_data[\"min_wind\"].isnull().sum()"
   ]
  },
  {
   "cell_type": "code",
   "execution_count": 74,
   "metadata": {
    "collapsed": false
   },
   "outputs": [
    {
     "data": {
      "text/plain": [
       "9044"
      ]
     },
     "execution_count": 74,
     "metadata": {},
     "output_type": "execute_result"
    }
   ],
   "source": [
    "raw_data[\"max_wind\"].isnull().sum()"
   ]
  },
  {
   "cell_type": "code",
   "execution_count": 77,
   "metadata": {
    "collapsed": false
   },
   "outputs": [
    {
     "data": {
      "text/plain": [
       "count    64467.000000\n",
       "mean         4.091247\n",
       "std          5.510043\n",
       "min        -16.000000\n",
       "25%          0.000000\n",
       "50%          3.000000\n",
       "75%          5.000000\n",
       "max        454.000000\n",
       "Name: min_wind, dtype: float64"
      ]
     },
     "execution_count": 77,
     "metadata": {},
     "output_type": "execute_result"
    }
   ],
   "source": [
    "raw_data[\"min_wind\"].describe()"
   ]
  },
  {
   "cell_type": "code",
   "execution_count": 78,
   "metadata": {
    "collapsed": false
   },
   "outputs": [
    {
     "data": {
      "text/plain": [
       "count    64514.000000\n",
       "mean        12.228969\n",
       "std         10.045787\n",
       "min          0.000000\n",
       "25%          5.000000\n",
       "50%         10.000000\n",
       "75%         15.000000\n",
       "max        777.000000\n",
       "Name: max_wind, dtype: float64"
      ]
     },
     "execution_count": 78,
     "metadata": {},
     "output_type": "execute_result"
    }
   ],
   "source": [
    "raw_data[\"max_wind\"].describe()"
   ]
  },
  {
   "cell_type": "code",
   "execution_count": 4,
   "metadata": {
    "collapsed": true
   },
   "outputs": [],
   "source": [
    "#How many outliers\n",
    "def GetBounds(ser):\n",
    "    lower = ser.mean() - 3 * ser.std()\n",
    "    upper = ser.mean() + 3 * ser.std()\n",
    "    return (lower, upper)"
   ]
  },
  {
   "cell_type": "code",
   "execution_count": 7,
   "metadata": {
    "collapsed": false
   },
   "outputs": [
    {
     "data": {
      "text/plain": [
       "619"
      ]
     },
     "execution_count": 7,
     "metadata": {},
     "output_type": "execute_result"
    }
   ],
   "source": [
    "bounds = GetBounds(raw_data[\"min_wind\"])\n",
    "len(raw_data[(raw_data[\"min_wind\"] < bounds[0]) | (raw_data[\"min_wind\"] > bounds[1])])"
   ]
  },
  {
   "cell_type": "code",
   "execution_count": 8,
   "metadata": {
    "collapsed": false
   },
   "outputs": [
    {
     "data": {
      "text/plain": [
       "610"
      ]
     },
     "execution_count": 8,
     "metadata": {},
     "output_type": "execute_result"
    }
   ],
   "source": [
    "bounds = GetBounds(raw_data[\"max_wind\"])\n",
    "len(raw_data[(raw_data[\"max_wind\"] < bounds[0]) | (raw_data[\"max_wind\"] > bounds[1])])"
   ]
  },
  {
   "cell_type": "code",
   "execution_count": 10,
   "metadata": {
    "collapsed": true
   },
   "outputs": [],
   "source": [
    "raw_data['min_wind'] = raw_data['min_wind'].fillna(0)\n",
    "raw_data['max_wind'] = raw_data['max_wind'].fillna(0)"
   ]
  },
  {
   "cell_type": "code",
   "execution_count": 11,
   "metadata": {
    "collapsed": true
   },
   "outputs": [],
   "source": [
    "raw_data['average_wind'] = (raw_data['min_wind'] + raw_data['max_wind'])/2"
   ]
  },
  {
   "cell_type": "code",
   "execution_count": 12,
   "metadata": {
    "collapsed": false
   },
   "outputs": [
    {
     "data": {
      "text/plain": [
       "count    73558.000000\n",
       "mean         7.155511\n",
       "std          7.148713\n",
       "min          0.000000\n",
       "25%          2.500000\n",
       "50%          5.500000\n",
       "75%         10.000000\n",
       "max        615.500000\n",
       "Name: average_wind, dtype: float64"
      ]
     },
     "execution_count": 12,
     "metadata": {},
     "output_type": "execute_result"
    }
   ],
   "source": [
    "raw_data['average_wind'].describe()"
   ]
  },
  {
   "cell_type": "code",
   "execution_count": 41,
   "metadata": {
    "collapsed": false
   },
   "outputs": [
    {
     "data": {
      "text/plain": [
       "<matplotlib.axes._subplots.AxesSubplot at 0x1a207009b0>"
      ]
     },
     "execution_count": 41,
     "metadata": {},
     "output_type": "execute_result"
    },
    {
     "data": {
      "image/png": "[encoded data removed]",
      "text/plain": [
       "<Figure size 432x288 with 1 Axes>"
      ]
     },
     "metadata": {
      "needs_background": "light"
     },
     "output_type": "display_data"
    }
   ],
   "source": [
    "raw_data['average_wind'].hist()"
   ]
  },
  {
   "cell_type": "code",
   "execution_count": 42,
   "metadata": {
    "collapsed": false
   },
   "outputs": [
    {
     "data": {
      "text/plain": [
       "[<matplotlib.lines.Line2D at 0x1a20adea90>]"
      ]
     },
     "execution_count": 42,
     "metadata": {},
     "output_type": "execute_result"
    },
    {
     "data": {
      "image/png": "[encoded data removed]",
      "text/plain": [
       "<Figure size 432x288 with 1 Axes>"
      ]
     },
     "metadata": {
      "needs_background": "light"
     },
     "output_type": "display_data"
    }
   ],
   "source": [
    "#Oddly similar to average snow\n",
    "plt.plot(raw_data['count_year'], raw_data['average_wind'])"
   ]
  },
  {
   "cell_type": "code",
   "execution_count": 47,
   "metadata": {
    "collapsed": false
   },
   "outputs": [
    {
     "data": {
      "text/html": [
       "<div>\n",
       "<style>\n",
       "    .dataframe thead tr:only-child th {\n",
       "        text-align: right;\n",
       "    }\n",
       "\n",
       "    .dataframe thead th {\n",
       "        text-align: left;\n",
       "    }\n",
       "\n",
       "    .dataframe tbody tr th {\n",
       "        vertical-align: top;\n",
       "    }\n",
       "</style>\n",
       "<table border=\"1\" class=\"dataframe\">\n",
       "  <thead>\n",
       "    <tr style=\"text-align: right;\">\n",
       "      <th></th>\n",
       "      <th>circle_name</th>\n",
       "      <th>country_state</th>\n",
       "      <th>lat</th>\n",
       "      <th>lon</th>\n",
       "      <th>count_year</th>\n",
       "      <th>n_field_counters</th>\n",
       "      <th>n_feeder_counters</th>\n",
       "      <th>min_field_count_parties</th>\n",
       "      <th>max_field_count_parties</th>\n",
       "      <th>field_hours</th>\n",
       "      <th>...</th>\n",
       "      <th>max_snow</th>\n",
       "      <th>snow_unit</th>\n",
       "      <th>am_cloud</th>\n",
       "      <th>pm_cloud</th>\n",
       "      <th>am_rain</th>\n",
       "      <th>pm_rain</th>\n",
       "      <th>am_snow</th>\n",
       "      <th>pm_snow</th>\n",
       "      <th>average_wind</th>\n",
       "      <th>average_snow</th>\n",
       "    </tr>\n",
       "  </thead>\n",
       "  <tbody>\n",
       "    <tr>\n",
       "      <th>57216</th>\n",
       "      <td>Spearfish</td>\n",
       "      <td>US-SD</td>\n",
       "      <td>44.519824</td>\n",
       "      <td>-103.864184</td>\n",
       "      <td>2003</td>\n",
       "      <td>7.0</td>\n",
       "      <td>0.0</td>\n",
       "      <td>4.0</td>\n",
       "      <td>4.0</td>\n",
       "      <td>32.0</td>\n",
       "      <td>...</td>\n",
       "      <td>0.0</td>\n",
       "      <td>2.0</td>\n",
       "      <td>6.0</td>\n",
       "      <td>1.0</td>\n",
       "      <td>3</td>\n",
       "      <td>3</td>\n",
       "      <td>3</td>\n",
       "      <td>3</td>\n",
       "      <td>267.5</td>\n",
       "      <td>0.0</td>\n",
       "    </tr>\n",
       "  </tbody>\n",
       "</table>\n",
       "<p>1 rows × 32 columns</p>\n",
       "</div>"
      ],
      "text/plain": [
       "      circle_name country_state        lat         lon  count_year  \\\n",
       "57216   Spearfish         US-SD  44.519824 -103.864184        2003   \n",
       "\n",
       "       n_field_counters  n_feeder_counters  min_field_count_parties  \\\n",
       "57216               7.0                0.0                      4.0   \n",
       "\n",
       "       max_field_count_parties  field_hours      ...       max_snow  \\\n",
       "57216                      4.0         32.0      ...            0.0   \n",
       "\n",
       "       snow_unit  am_cloud  pm_cloud am_rain  pm_rain  am_snow  pm_snow  \\\n",
       "57216        2.0       6.0       1.0       3        3        3        3   \n",
       "\n",
       "       average_wind  average_snow  \n",
       "57216         267.5           0.0  \n",
       "\n",
       "[1 rows x 32 columns]"
      ]
     },
     "execution_count": 47,
     "metadata": {},
     "output_type": "execute_result"
    }
   ],
   "source": [
    "raw_data[raw_data[\"average_wind\"] > 150]"
   ]
  },
  {
   "cell_type": "code",
   "execution_count": 50,
   "metadata": {
    "collapsed": false
   },
   "outputs": [
    {
     "data": {
      "image/png": "[encoded data removed]",
      "text/plain": [
       "<Figure size 432x288 with 1 Axes>"
      ]
     },
     "metadata": {
      "needs_background": "light"
     },
     "output_type": "display_data"
    }
   ],
   "source": [
    "#Relationship with n field counters\n",
    "plt.scatter(raw_data[\"average_wind\"], raw_data[\"n_field_counters\"]);"
   ]
  },
  {
   "cell_type": "markdown",
   "metadata": {},
   "source": [
    "### Temperature"
   ]
  },
  {
   "cell_type": "code",
   "execution_count": 51,
   "metadata": {
    "collapsed": false
   },
   "outputs": [
    {
     "data": {
      "text/plain": [
       "2.0    46757\n",
       "1.0      140\n",
       "Name: temp_unit, dtype: int64"
      ]
     },
     "execution_count": 51,
     "metadata": {},
     "output_type": "execute_result"
    }
   ],
   "source": [
    "raw_data['temp_unit'].value_counts()"
   ]
  },
  {
   "cell_type": "code",
   "execution_count": 58,
   "metadata": {
    "collapsed": false
   },
   "outputs": [
    {
     "data": {
      "text/html": [
       "<div>\n",
       "<style>\n",
       "    .dataframe thead tr:only-child th {\n",
       "        text-align: right;\n",
       "    }\n",
       "\n",
       "    .dataframe thead th {\n",
       "        text-align: left;\n",
       "    }\n",
       "\n",
       "    .dataframe tbody tr th {\n",
       "        vertical-align: top;\n",
       "    }\n",
       "</style>\n",
       "<table border=\"1\" class=\"dataframe\">\n",
       "  <thead>\n",
       "    <tr style=\"text-align: right;\">\n",
       "      <th></th>\n",
       "      <th>min_temp</th>\n",
       "      <th>max_temp</th>\n",
       "    </tr>\n",
       "  </thead>\n",
       "  <tbody>\n",
       "    <tr>\n",
       "      <th>count</th>\n",
       "      <td>65812.000000</td>\n",
       "      <td>65808.000000</td>\n",
       "    </tr>\n",
       "    <tr>\n",
       "      <th>mean</th>\n",
       "      <td>27.256237</td>\n",
       "      <td>42.336973</td>\n",
       "    </tr>\n",
       "    <tr>\n",
       "      <th>std</th>\n",
       "      <td>23.642586</td>\n",
       "      <td>17.985054</td>\n",
       "    </tr>\n",
       "    <tr>\n",
       "      <th>min</th>\n",
       "      <td>-52.000000</td>\n",
       "      <td>-49.000000</td>\n",
       "    </tr>\n",
       "    <tr>\n",
       "      <th>25%</th>\n",
       "      <td>18.000000</td>\n",
       "      <td>31.000000</td>\n",
       "    </tr>\n",
       "    <tr>\n",
       "      <th>50%</th>\n",
       "      <td>28.000000</td>\n",
       "      <td>41.000000</td>\n",
       "    </tr>\n",
       "    <tr>\n",
       "      <th>75%</th>\n",
       "      <td>36.000000</td>\n",
       "      <td>54.000000</td>\n",
       "    </tr>\n",
       "    <tr>\n",
       "      <th>max</th>\n",
       "      <td>4464.000000</td>\n",
       "      <td>768.000000</td>\n",
       "    </tr>\n",
       "  </tbody>\n",
       "</table>\n",
       "</div>"
      ],
      "text/plain": [
       "           min_temp      max_temp\n",
       "count  65812.000000  65808.000000\n",
       "mean      27.256237     42.336973\n",
       "std       23.642586     17.985054\n",
       "min      -52.000000    -49.000000\n",
       "25%       18.000000     31.000000\n",
       "50%       28.000000     41.000000\n",
       "75%       36.000000     54.000000\n",
       "max     4464.000000    768.000000"
      ]
     },
     "execution_count": 58,
     "metadata": {},
     "output_type": "execute_result"
    }
   ],
   "source": [
    "raw_data[raw_data[\"temp_unit\"] != 1.0][[\"min_temp\", \"max_temp\"]].describe()"
   ]
  },
  {
   "cell_type": "code",
   "execution_count": 63,
   "metadata": {
    "collapsed": true
   },
   "outputs": [],
   "source": [
    "#Believe that temperature unit = 1.0 is Celsius so convert"
   ]
  },
  {
   "cell_type": "markdown",
   "metadata": {},
   "source": [
    "TODOS: \n",
    "* what does snow_unit stand for?\n",
    "* What should we do with outliers for snow\n",
    "* what is wind unit? direction?\n",
    "* Suggestion: remove large outliers?\n",
    "* What are temperature units"
   ]
  }
 ],
 "metadata": {
  "anaconda-cloud": {},
  "kernelspec": {
   "display_name": "Python 3",
   "language": "python",
   "name": "python3"
  },
  "language_info": {
   "codemirror_mode": {
    "name": "ipython",
    "version": 3
   },
   "file_extension": ".py",
   "mimetype": "text/x-python",
   "name": "python",
   "nbconvert_exporter": "python",
   "pygments_lexer": "ipython3",
   "version": "3.7.2"
  },
  "varInspector": {
   "cols": {
    "lenName": 16,
    "lenType": 16,
    "lenVar": 40
   },
   "kernels_config": {
    "python": {
     "delete_cmd_postfix": "",
     "delete_cmd_prefix": "del ",
     "library": "var_list.py",
     "varRefreshCmd": "print(var_dic_list())"
    },
    "r": {
     "delete_cmd_postfix": ") ",
     "delete_cmd_prefix": "rm(",
     "library": "var_list.r",
     "varRefreshCmd": "cat(var_dic_list()) "
    }
   },
   "types_to_exclude": [
    "module",
    "function",
    "builtin_function_or_method",
    "instance",
    "_Feature"
   ],
   "window_display": false
  }
 },
 "nbformat": 4,
 "nbformat_minor": 2
}
