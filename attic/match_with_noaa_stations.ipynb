{
 "cells": [
  {
   "cell_type": "markdown",
   "metadata": {},
   "source": [
    "# Match Cbc Circle Locations with NOAA Stations\n",
    "This notebook will match Chirstmas Birdcount locations with\n",
    "the closest NOAA station. \n",
    "\n",
    "The matching will occur based on distance and the time \n",
    "period the stations were operating.\n",
    "\n",
    "If a NOAA station file is not provided, the script will \n",
    "collect NOAA stations from www.ncdc.noaa.gov/\n",
    "\n",
    "**Author:** rectheworld\n",
    "\n",
    "**Date Updated:** 2020-01-31\n",
    "\n",
    "**Inputs**\n",
    "- A Christmas Birdcount file (CSV)\n",
    "If providing a file:\n",
    "- NOAA station file (CSV)\n",
    "\n",
    "If Not Providing a station file:\n",
    "- NOAA API access key\n",
    "\n",
    "**Outputs** \n",
    "A CSV.GZ file called closest_stations"
   ]
  },
  {
   "cell_type": "markdown",
   "metadata": {},
   "source": [
    "### Set the Path of the Input Files"
   ]
  },
  {
   "cell_type": "code",
   "execution_count": null,
   "metadata": {},
   "outputs": [],
   "source": [
    "NOAA_STATIONS_PATH = \"<NOAA_STATIONS_FILE_PATH>\"\n",
    "CBC_FILE_PATH = \"<CBC_FILE_PATH>\""
   ]
  },
  {
   "cell_type": "markdown",
   "metadata": {},
   "source": [
    "### Load in the NOAA Station Data"
   ]
  },
  {
   "cell_type": "code",
   "execution_count": null,
   "metadata": {},
   "outputs": [],
   "source": [
    "noaa_sations = pd.read_csv(NOAA_STATIONS_PATH, encoding = \"latin-1\")\n",
    "\n",
    "print(noaa_sations.shape)\n",
    "noaa_sations.head()\n",
    "print(\"NOAA Stations Loaded\")"
   ]
  },
  {
   "cell_type": "markdown",
   "metadata": {},
   "source": [
    "### Add in the Cleaned CBC Data"
   ]
  },
  {
   "cell_type": "code",
   "execution_count": null,
   "metadata": {},
   "outputs": [],
   "source": [
    "cbc_usa = pd.read_csv(CBC_FILE_PATH, encoding = \"latin-1\")\n",
    "\n",
    "print(cbc_usa.shape)\n",
    "cbc_usa.head()\n",
    "print(\"CBC Data Loaded\")"
   ]
  },
  {
   "cell_type": "markdown",
   "metadata": {},
   "source": [
    "### Init Logging and set Workers"
   ]
  },
  {
   "cell_type": "code",
   "execution_count": null,
   "metadata": {},
   "outputs": [],
   "source": [
    "logging.basicConfig(format='%(asctime)s %(message)s', level=logging.DEBUG)\n",
    "NUM_WORKERS = 12"
   ]
  },
  {
   "cell_type": "markdown",
   "metadata": {},
   "source": [
    "### Define Core Functions"
   ]
  },
  {
   "cell_type": "code",
   "execution_count": null,
   "metadata": {},
   "outputs": [],
   "source": [
    "def haversine_formula(coord1, coord2):\n",
    "    \"\"\"Haversine Forumla for calculating distance between two\n",
    "    coordinates in meters.\n",
    "    Distaince is similar to the GeoPy distance formulas except\n",
    "    the geopy formula uses Vincenty’s formula. At longer distances,\n",
    "    the difference is much more pronounced, however, since we are trying\n",
    "    to find the closest one, the Haversine formula is a suitable\n",
    "    approximation for our purposes.\n",
    "    :param set coord1:\n",
    "        A set containing the lat and long of the first location\n",
    "    :param set coord1:\n",
    "        A set containing the lat and long of the second location\n",
    "    :return: distance between two sets in meters\n",
    "    :rtype: float\n",
    "    \"\"\"\n",
    "    R = 6372800  # Earth radius in meters\n",
    "    lat1, lon1 = coord1\n",
    "    lat2, lon2 = coord2\n",
    "\n",
    "    phi1, phi2 = math.radians(lat1), math.radians(lat2)\n",
    "    dphi = math.radians(lat2 - lat1)\n",
    "    dlambda = math.radians(lon2 - lon1)\n",
    "\n",
    "    a = math.sin(dphi / 2)**2 + \\\n",
    "        math.cos(phi1) * math.cos(phi2) * math.sin(dlambda / 2)**2\n",
    "\n",
    "    return 2*R*math.atan2(math.sqrt(a), math.sqrt(1 - a))"
   ]
  },
  {
   "cell_type": "code",
   "execution_count": null,
   "metadata": {},
   "outputs": [],
   "source": [
    "def retrieve_noaa_data(token):\n",
    "    \"\"\"Retrieve and create a dataframe from the NOAA API\n",
    "    :param str token:\n",
    "        string representing API token\n",
    "    :return: a dataframe representing all NOAA stations\n",
    "    :rtype: pandas.DataFrame\n",
    "    \"\"\"\n",
    "    results = []\n",
    "    offset = 0\n",
    "\n",
    "    while True:\n",
    "        res = requests.get(\n",
    "            'https://www.ncdc.noaa.gov/cdo-web/api/v2/stations',\n",
    "            headers={'Token': token},\n",
    "            params={'limit':'1000', 'offset': str(offset)})\n",
    "\n",
    "        res.raise_for_status()\n",
    "        results.extend(res.json()['results'])\n",
    "\n",
    "        if len(results) > res.json()['metadata']['resultset']['count']:\n",
    "            break\n",
    "        else:\n",
    "            print(f'length of results is {len(results)}')\n",
    "            offset += 1000\n",
    "\n",
    "    # ensure results align with the API counts\n",
    "    assert len(results) == res.json()['metadata']['resultset']['count']\n",
    "    df = pd.DataFrame.from_dict(results)\n",
    "    return df"
   ]
  },
  {
   "cell_type": "code",
   "execution_count": null,
   "metadata": {},
   "outputs": [],
   "source": [
    "def find_closest_noaa_station(noaa_stations, row):\n",
    "    \"\"\"Find the closest station given a row from the circle data\n",
    "    :param list noaa_stations:\n",
    "        A list of dictionaries representing the NOAA stations and their\n",
    "        coordinates\n",
    "    :param pandas.core.series.Series row:\n",
    "        a row from a pandas DataFrame\n",
    "    :return: the closest NOAA station and their coordinates\n",
    "    :rtype: dict\n",
    "    \"\"\"\n",
    "    lat_lng_pair = (row['lat'], row['lon'])\n",
    "    count_year = pd.to_datetime(row['count_date']).year\n",
    "    shortest = pd.np.Inf\n",
    "\n",
    "    for station in noaa_stations:\n",
    "        calc_distance = haversine_formula(station['coordinates'], lat_lng_pair)\n",
    "        #if  calc_distance < shortest:\n",
    "        if  calc_distance < shortest and count_year >= station['firstyear'] and count_year <= station['lastyear']:\n",
    "            closest_noaa = {\n",
    "                'circle_name': row['circle_name'],\n",
    "                'circle_num': row['Unnamed__0'],\n",
    "                'circle_lat': row['lat'],\n",
    "                'circle_lng': row['lon'],\n",
    "                'closest_station_lat': station['coordinates'][0],\n",
    "                'closest_station_lng': station['coordinates'][-1],\n",
    "                'distance': calc_distance,\n",
    "                'closest_station_id': station['id'],\n",
    "                'cbc_count_year': count_year\n",
    "            }\n",
    "            shortest = calc_distance\n",
    "\n",
    "    return closest_noaa\n"
   ]
  },
  {
   "cell_type": "code",
   "execution_count": null,
   "metadata": {},
   "outputs": [],
   "source": [
    "def main(circles_data, noaa_stations, use_noaa_file = True):\n",
    "    \"\"\"Main callable to execute script\n",
    "    Keep in mind for the this work if you are pulling from the noaa api,\n",
    "    you will need to set an environmental variable\n",
    "    titled \"NOAA_API_KEY\"\n",
    "    \n",
    "    Parameters: \n",
    "    circles_data (dataframe): df of cbc circle data. Should contain feilds: \n",
    "    lat, long, Unnamed__0 (row number), circle_name, count date\n",
    "    noaa_stations (dataframe): df of noaa stations to use in matching. Should contain fields:\n",
    "    latitude, longitude, firstyear, lastyear\n",
    "    use_noaa_file (Bool): If True, use the csv file of noaa_stations for matching\n",
    "    \n",
    "    Returns: \n",
    "    :return: a dataframe representing the circle name and their closest NOAA station\n",
    "    :rtype: pandas.DataFrame\n",
    "    \"\"\"\n",
    "    #circles_data = pd.read_csv('bird_count_cleaned_may_29_2019.csv')\n",
    "\n",
    "    if not use_noaa_file:\n",
    "      noaa_stations = retrieve_noaa_data(os.environ.get('NOAA_API_KEY'))\n",
    "      noaa_stations['maxdate'] = pd.to_datetime(noaa_stations['maxdate'])\n",
    "      noaa_stations = noaa_stations.loc[noaa_stations['maxdate'] < pd.Timestamp(2020, 1, 1)]\n",
    "      noaa_stations.to_csv('noaa_stations.csv.gz', index=False)\n",
    "\n",
    "\n",
    "    noaa_pairs = [\n",
    "        {\n",
    "            'id': row['id'],\n",
    "            'coordinates': (row['latitude'], row['longitude']),\n",
    "            'firstyear': row['firstyear'],\n",
    "            'lastyear': row['lastyear'],\n",
    "         \n",
    "        }\n",
    "        for _, row in noaa_stations.iterrows()]\n",
    "\n",
    "    distance_callable = partial(find_closest_noaa_station, noaa_pairs)\n",
    "    results = []\n",
    "    # 6 workers on a 2017 Macbook with 16GB of memory seems\n",
    "    # to be fine, please adjust to your machine's specs\n",
    "    #\n",
    "    # Keep in mind that this will take some time to run since there are\n",
    "    # over 100k circle records and 130k NOAA stations to reference\n",
    "    with futures.ThreadPoolExecutor(max_workers=NUM_WORKERS) as executor:\n",
    "        jobs = [\n",
    "            executor.submit(distance_callable, row)\n",
    "            for _, row in circles_data.iterrows()]\n",
    "\n",
    "        for job in futures.as_completed(jobs):\n",
    "            output = job.result()\n",
    "            logging.info(\n",
    "                'closest NOAA to %s, is %s, with a distance of %s meters',\n",
    "                output['circle_name'],\n",
    "                output['closest_station_id'],\n",
    "                output['distance'])\n",
    "            results.append(output)\n",
    "    df = pd.DataFrame.from_dict(results)\n",
    "    df.to_csv('closest_stations.csv.gz', index=False)\n",
    "    return(df)"
   ]
  },
  {
   "cell_type": "markdown",
   "metadata": {},
   "source": [
    "## Run Main Script"
   ]
  },
  {
   "cell_type": "code",
   "execution_count": null,
   "metadata": {},
   "outputs": [],
   "source": [
    "closest_stations = main(cbc_usa,noaa_sations)"
   ]
  }
 ],
 "metadata": {
  "kernelspec": {
   "display_name": "Python 3",
   "language": "python",
   "name": "python3"
  },
  "language_info": {
   "codemirror_mode": {
    "name": "ipython",
    "version": 3
   },
   "file_extension": ".py",
   "mimetype": "text/x-python",
   "name": "python",
   "nbconvert_exporter": "python",
   "pygments_lexer": "ipython3",
   "version": "3.7.4"
  }
 },
 "nbformat": 4,
 "nbformat_minor": 4
}
