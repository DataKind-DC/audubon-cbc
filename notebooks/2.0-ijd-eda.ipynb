{
 "cells": [
  {
   "cell_type": "markdown",
   "metadata": {},
   "source": [
    "# Exploratory Data Analysis\n",
    "### Purpose\n",
    "The purpose of this notebook is to explore the Audubon circle and NOAA data.\n",
    "This notebook addresses some one of the tasks in Github issue #36\n",
    "\n",
    "### Author: \n",
    "Ian Davis\n",
    "### Date: \n",
    "2020-02-17\n",
    "### Update Date: \n",
    "2020-05-13\n",
    "\n",
    "### Inputs \n",
    "1.2-ijd-fetch-circle-elevations_20200502155633.csv - Comma separate file of the Christmas Bird Count and matches to 1 or more NOAA weather stations.\n",
    "- Data Dictonary can be found here: http://www.audubon.org/sites/default/files/documents/cbc_report_field_definitions_2013.pdf\n",
    "\n",
    "### Output Files\n",
    "None\n",
    "\n",
    "## Steps or Proceedures in the notebook \n",
    "- Set runtime options\n",
    "- Import data and do initial counts\n",
    "- Screen the data\n",
    "- Check for Outliers\n",
    "- Summary statistics and simple visualizations\n",
    "\n",
    "## References\n",
    "- elevation change and temperature: https://sciencing.com/info-8686864-latitude-altitude-affect-temperature.html"
   ]
  },
  {
   "cell_type": "markdown",
   "metadata": {},
   "source": [
    "### See data dictionary: \n",
    "\n",
    "http://www.audubon.org/sites/default/files/documents/cbc_report_field_definitions_2013.pdf"
   ]
  },
  {
   "cell_type": "code",
   "execution_count": 1,
   "metadata": {},
   "outputs": [],
   "source": [
    "import numpy as np\n",
    "import pandas as pd\n",
    "import plotly_express as px\n",
    "import matplotlib.pyplot as plt\n",
    "import datetime\n",
    "from scipy import stats\n",
    "import sys\n",
    "\n",
    "# add scripts folder to path\n",
    "sys.path.insert(1, '../scripts')\n",
    "\n",
    "# user import\n",
    "from calcs import main_calcs\n",
    "\n",
    "pd.set_option('display.max_columns', 500)"
   ]
  },
  {
   "cell_type": "markdown",
   "metadata": {},
   "source": [
    "## Set File Paths and Runtime Options"
   ]
  },
  {
   "cell_type": "code",
   "execution_count": 2,
   "metadata": {},
   "outputs": [],
   "source": [
    "PATH_TO_PAIRED_DATA = '../data/Cloud_data/1.2-ijd-fetch-circle-elevations_20200502155633.csv'"
   ]
  },
  {
   "cell_type": "markdown",
   "metadata": {},
   "source": [
    "## Read in Data"
   ]
  },
  {
   "cell_type": "code",
   "execution_count": 3,
   "metadata": {},
   "outputs": [],
   "source": [
    "# Read in unfinished dataset\n",
    "df_paired = pd.read_csv(PATH_TO_PAIRED_DATA, compression='gzip')"
   ]
  },
  {
   "cell_type": "markdown",
   "metadata": {},
   "source": [
    "## Calculated Variables"
   ]
  },
  {
   "cell_type": "code",
   "execution_count": 4,
   "metadata": {},
   "outputs": [],
   "source": [
    "df_paired = main_calcs(df_paired)"
   ]
  },
  {
   "cell_type": "markdown",
   "metadata": {},
   "source": [
    "## Data Screening"
   ]
  },
  {
   "cell_type": "markdown",
   "metadata": {},
   "source": [
    "Are there indeces which have negative values for both CBC and NOAA?"
   ]
  },
  {
   "cell_type": "code",
   "execution_count": 5,
   "metadata": {},
   "outputs": [
    {
     "data": {
      "text/plain": [
       "1900"
      ]
     },
     "execution_count": 5,
     "metadata": {},
     "output_type": "execute_result"
    }
   ],
   "source": [
    "df_paired.loc[((df_paired.loc[:, 'min_temp'] < 0.0) & \n",
    "               (df_paired.loc[:, 'noaa_tmin_value'] < 0.0))].index.size"
   ]
  },
  {
   "cell_type": "markdown",
   "metadata": {},
   "source": [
    "Any negative temperatures in Florida?<br>\n",
    "Lat: 25 to 30<br>\n",
    "Long: -80 to -90"
   ]
  },
  {
   "cell_type": "code",
   "execution_count": 6,
   "metadata": {},
   "outputs": [
    {
     "data": {
      "text/plain": [
       "0"
      ]
     },
     "execution_count": 6,
     "metadata": {},
     "output_type": "execute_result"
    }
   ],
   "source": [
    "df_paired.loc[((df_paired.loc[:, 'noaa_tmin_value'] < 0.0) &\n",
    "               (df_paired.loc[:, 'latitude'] < 30.0) &\n",
    "               (df_paired.loc[:, 'longitude'] > -90.0))].index.size"
   ]
  },
  {
   "cell_type": "markdown",
   "metadata": {},
   "source": [
    "Screen stations with obvious temperature errors:<br>\n",
    "- tmin no less than -100 degF\n",
    "- tmax no greater than 110 degF\n",
    "- (probably could be more strict, but this is first guess)"
   ]
  },
  {
   "cell_type": "code",
   "execution_count": 10,
   "metadata": {},
   "outputs": [
    {
     "name": "stdout",
     "output_type": "stream",
     "text": [
      "Minimum tmin for circles: -51.0\n",
      "Minimum tmin for NOAA stations: -58.0\n",
      "Minimum tmax for circles: 93.0\n",
      "Minimum tmax for NOAA stations: 127.94\n"
     ]
    }
   ],
   "source": [
    "print('Minimum tmin for circles:', df_paired['min_temp'].min())\n",
    "print('Minimum tmin for NOAA stations:', df_paired['noaa_tmin_value'].min())\n",
    "print('Minimum tmax for circles:', df_paired['max_temp'].max())\n",
    "print('Minimum tmax for NOAA stations:', df_paired['noaa_tmax_value'].max())"
   ]
  },
  {
   "cell_type": "markdown",
   "metadata": {},
   "source": [
    "Remove temperature errors"
   ]
  },
  {
   "cell_type": "code",
   "execution_count": 9,
   "metadata": {},
   "outputs": [],
   "source": [
    "df_paired.loc[df_paired['max_temp'] > 130.0, 'max_temp'] = np.nan\n",
    "df_paired.loc[df_paired['noaa_tmax_value'] > 130.0, 'noaa_tmax_value'] = np.nan"
   ]
  },
  {
   "cell_type": "markdown",
   "metadata": {},
   "source": [
    "Are there any 'min_snow' values larger than 'max_snow' ?"
   ]
  },
  {
   "cell_type": "code",
   "execution_count": 12,
   "metadata": {},
   "outputs": [
    {
     "name": "stdout",
     "output_type": "stream",
     "text": [
      "Number of rows: 7\n",
      "                 circle_name  count_date  min_snow  max_snow\n",
      "80890                Caribou  2011-12-28       4.0       1.0\n",
      "80910           Presque Isle  2011-12-31       2.0       1.0\n",
      "81751  Angel Fire-Eagle Nest  2011-12-18      12.0       3.0\n",
      "83338               Waukesha  2011-12-17       5.0       1.0\n",
      "83339               Waukesha  2011-12-17       5.0       1.0\n",
      "83340               Waukesha  2011-12-17       5.0       1.0\n",
      "83341               Waukesha  2011-12-17       5.0       1.0\n"
     ]
    }
   ],
   "source": [
    "print('Number of rows:', df_paired.loc[(df_paired.loc[:, 'min_snow'] > df_paired.loc[:, 'max_snow'])].index.size)\n",
    "print(df_paired.loc[(df_paired.loc[:, 'min_snow'] > df_paired.loc[:, 'max_snow']), ['circle_name', 'count_date', 'min_snow', 'max_snow']])"
   ]
  },
  {
   "cell_type": "code",
   "execution_count": 13,
   "metadata": {},
   "outputs": [
    {
     "data": {
      "text/plain": [
       "3.0      60171\n",
       "4.0      21026\n",
       "2.0       9284\n",
       "1.0       1344\n",
       "32.0       716\n",
       "21.0       636\n",
       "321.0      239\n",
       "31.0        19\n",
       "12.0         6\n",
       "123.0        1\n",
       "23.0         1\n",
       "34.0         1\n",
       "Name: am_rain, dtype: int64"
      ]
     },
     "execution_count": 13,
     "metadata": {},
     "output_type": "execute_result"
    }
   ],
   "source": [
    "# Sometimes the rain or snow intensity is listed as \"2,1\"\n",
    "# And somewhere along the line these were converted to floats: 32.0 = 3,2 ...probably?\n",
    "df_paired.loc[:, 'am_rain'].value_counts()"
   ]
  },
  {
   "cell_type": "markdown",
   "metadata": {},
   "source": [
    "Rows that contain precipitation values:"
   ]
  },
  {
   "cell_type": "code",
   "execution_count": 14,
   "metadata": {},
   "outputs": [
    {
     "data": {
      "text/plain": [
       "94379"
      ]
     },
     "execution_count": 14,
     "metadata": {},
     "output_type": "execute_result"
    }
   ],
   "source": [
    "df_paired.loc[(df_paired.loc[:, 'cbc_is_prec'] == True)].index.size"
   ]
  },
  {
   "cell_type": "markdown",
   "metadata": {},
   "source": [
    "Check for false positives:"
   ]
  },
  {
   "cell_type": "code",
   "execution_count": 15,
   "metadata": {},
   "outputs": [
    {
     "data": {
      "text/html": [
       "<div>\n",
       "<style scoped>\n",
       "    .dataframe tbody tr th:only-of-type {\n",
       "        vertical-align: middle;\n",
       "    }\n",
       "\n",
       "    .dataframe tbody tr th {\n",
       "        vertical-align: top;\n",
       "    }\n",
       "\n",
       "    .dataframe thead th {\n",
       "        text-align: right;\n",
       "    }\n",
       "</style>\n",
       "<table border=\"1\" class=\"dataframe\">\n",
       "  <thead>\n",
       "    <tr style=\"text-align: right;\">\n",
       "      <th></th>\n",
       "      <th>cbc_is_prec</th>\n",
       "      <th>min_snow</th>\n",
       "      <th>max_snow</th>\n",
       "      <th>am_rain</th>\n",
       "      <th>pm_rain</th>\n",
       "    </tr>\n",
       "  </thead>\n",
       "  <tbody>\n",
       "  </tbody>\n",
       "</table>\n",
       "</div>"
      ],
      "text/plain": [
       "Empty DataFrame\n",
       "Columns: [cbc_is_prec, min_snow, max_snow, am_rain, pm_rain]\n",
       "Index: []"
      ]
     },
     "execution_count": 15,
     "metadata": {},
     "output_type": "execute_result"
    }
   ],
   "source": [
    "df_paired.loc[(df_paired.loc[:, 'cbc_is_prec'] == True) &\n",
    "              (pd.isna(df_paired.loc[:, 'min_snow']) &\n",
    "               pd.isna(df_paired.loc[:, 'max_snow']) &\n",
    "               pd.isna(df_paired.loc[:, 'am_rain']) &\n",
    "               pd.isna(df_paired.loc[:, 'pm_rain'])),\n",
    "              ['cbc_is_prec', 'min_snow', 'max_snow', 'am_rain', 'pm_rain']].head(10)"
   ]
  },
  {
   "cell_type": "markdown",
   "metadata": {},
   "source": [
    "Absolute Temperature Difference:"
   ]
  },
  {
   "cell_type": "code",
   "execution_count": 16,
   "metadata": {},
   "outputs": [
    {
     "name": "stdout",
     "output_type": "stream",
     "text": [
      "Largest temp difference for tmax between circles and stations: 92.08\n",
      "Largest temp difference for tmin between circles and stations: 83.0\n"
     ]
    }
   ],
   "source": [
    "print('Largest temp difference for tmax between circles and stations:', df_paired['tmax_diff_abs'].max())\n",
    "print('Largest temp difference for tmin between circles and stations:', df_paired['tmin_diff_abs'].max())"
   ]
  },
  {
   "cell_type": "markdown",
   "metadata": {},
   "source": [
    "<br>\n",
    "Histogram of tmax absolute difference values:"
   ]
  },
  {
   "cell_type": "code",
   "execution_count": 17,
   "metadata": {},
   "outputs": [
    {
     "data": {
      "text/plain": [
       "<matplotlib.axes._subplots.AxesSubplot at 0x119918f0>"
      ]
     },
     "execution_count": 17,
     "metadata": {},
     "output_type": "execute_result"
    },
    {
     "data": {
      "image/png": "[encoded data removed]",
      "text/plain": [
       "<Figure size 432x288 with 1 Axes>"
      ]
     },
     "metadata": {
      "needs_background": "light"
     },
     "output_type": "display_data"
    }
   ],
   "source": [
    "df_paired.loc[:, 'tmin_diff_abs'].plot.hist(bins=100)"
   ]
  },
  {
   "cell_type": "markdown",
   "metadata": {},
   "source": [
    "Histogram of tmin absolute difference values:"
   ]
  },
  {
   "cell_type": "code",
   "execution_count": 18,
   "metadata": {},
   "outputs": [
    {
     "data": {
      "text/plain": [
       "<matplotlib.axes._subplots.AxesSubplot at 0x1508df0>"
      ]
     },
     "execution_count": 18,
     "metadata": {},
     "output_type": "execute_result"
    },
    {
     "data": {
      "image/png": "[encoded data removed]",
      "text/plain": [
       "<Figure size 432x288 with 1 Axes>"
      ]
     },
     "metadata": {
      "needs_background": "light"
     },
     "output_type": "display_data"
    }
   ],
   "source": [
    "df_paired.loc[:, 'tmax_diff_abs'].plot.hist(bins=100)"
   ]
  },
  {
   "cell_type": "markdown",
   "metadata": {},
   "source": [
    "Mean temperature difference:"
   ]
  },
  {
   "cell_type": "code",
   "execution_count": 19,
   "metadata": {},
   "outputs": [
    {
     "name": "stdout",
     "output_type": "stream",
     "text": [
      "Tmin Difference Mean & SD: 5.28 ,  5.52\n",
      "Tmax Difference Mean & SD: 5.05 ,  5.71\n"
     ]
    }
   ],
   "source": [
    "# mean temperature difference\n",
    "tmin_diff_mean = df_paired.loc[:, 'tmin_diff_abs'].mean(skipna=True)\n",
    "tmin_diff_std = df_paired.loc[:, 'tmin_diff_abs'].std(skipna=True)\n",
    "tmax_diff_mean = df_paired.loc[:, 'tmax_diff_abs'].mean(skipna=True)\n",
    "tmax_diff_std = df_paired.loc[:, 'tmax_diff_abs'].std(skipna=True)\n",
    "\n",
    "print('Tmin Difference Mean & SD:', round(tmin_diff_mean,2), ', ', round(tmin_diff_std,2))\n",
    "print('Tmax Difference Mean & SD:', round(tmax_diff_mean,2), ', ', round(tmax_diff_std,2))"
   ]
  },
  {
   "cell_type": "markdown",
   "metadata": {},
   "source": [
    "## Outliers\n",
    "\n"
   ]
  },
  {
   "cell_type": "markdown",
   "metadata": {},
   "source": [
    "Screen stations further than 10 km:"
   ]
  },
  {
   "cell_type": "code",
   "execution_count": 20,
   "metadata": {},
   "outputs": [
    {
     "name": "stdout",
     "output_type": "stream",
     "text": [
      "Rows in original dataset: 109390\n",
      "Rows in 10km dataset: 55374\n"
     ]
    }
   ],
   "source": [
    "df_paired_10k = df_paired.loc[(df_paired.loc[:, 'distance'] <= 10000.0), :]\n",
    "print('Rows in original dataset:', df_paired.index.size)\n",
    "print('Rows in 10km dataset:', df_paired_10k.index.size)"
   ]
  },
  {
   "cell_type": "markdown",
   "metadata": {},
   "source": [
    "### ** THAT'S A BIG DROP OFF **"
   ]
  },
  {
   "cell_type": "markdown",
   "metadata": {},
   "source": [
    "Mean temperature difference:"
   ]
  },
  {
   "cell_type": "code",
   "execution_count": 21,
   "metadata": {},
   "outputs": [
    {
     "name": "stdout",
     "output_type": "stream",
     "text": [
      "Tmin Difference Mean & SD: 5.08 ,  5.54\n",
      "Tmax Difference Mean & SD: 4.83 ,  5.69\n"
     ]
    }
   ],
   "source": [
    "tmin_diff_mean = df_paired_10k.loc[:, 'tmin_diff_abs'].mean(skipna=True)\n",
    "tmin_diff_std = df_paired_10k.loc[:, 'tmin_diff_abs'].std(skipna=True)\n",
    "tmax_diff_mean = df_paired_10k.loc[:, 'tmax_diff_abs'].mean(skipna=True)\n",
    "tmax_diff_std = df_paired_10k.loc[:, 'tmax_diff_abs'].std(skipna=True)\n",
    "\n",
    "print('Tmin Difference Mean & SD:', round(tmin_diff_mean,2), ', ', round(tmin_diff_std,2))\n",
    "print('Tmax Difference Mean & SD:', round(tmax_diff_mean,2), ', ', round(tmax_diff_std,2))"
   ]
  },
  {
   "cell_type": "markdown",
   "metadata": {},
   "source": [
    "<br>\n",
    "Box & Whisker Plots:<br>\n",
    "\n",
    "Tmin & Tmax Difference"
   ]
  },
  {
   "cell_type": "code",
   "execution_count": 22,
   "metadata": {},
   "outputs": [
    {
     "data": {
      "text/plain": [
       "<matplotlib.axes._subplots.AxesSubplot at 0x14c8450>"
      ]
     },
     "execution_count": 22,
     "metadata": {},
     "output_type": "execute_result"
    },
    {
     "data": {
      "image/png": "[encoded data removed]",
      "text/plain": [
       "<Figure size 432x288 with 1 Axes>"
      ]
     },
     "metadata": {
      "needs_background": "light"
     },
     "output_type": "display_data"
    }
   ],
   "source": [
    "df_paired_10k.boxplot(column=['tmin_diff_abs', 'tmax_diff_abs'])"
   ]
  },
  {
   "cell_type": "markdown",
   "metadata": {},
   "source": [
    "Clearly, there are some actual errors here. Not just outliers."
   ]
  },
  {
   "cell_type": "code",
   "execution_count": 23,
   "metadata": {},
   "outputs": [
    {
     "data": {
      "text/html": [
       "<div>\n",
       "<style scoped>\n",
       "    .dataframe tbody tr th:only-of-type {\n",
       "        vertical-align: middle;\n",
       "    }\n",
       "\n",
       "    .dataframe tbody tr th {\n",
       "        vertical-align: top;\n",
       "    }\n",
       "\n",
       "    .dataframe thead th {\n",
       "        text-align: right;\n",
       "    }\n",
       "</style>\n",
       "<table border=\"1\" class=\"dataframe\">\n",
       "  <thead>\n",
       "    <tr style=\"text-align: right;\">\n",
       "      <th></th>\n",
       "      <th>circle_name</th>\n",
       "      <th>count_date</th>\n",
       "      <th>distance</th>\n",
       "      <th>min_temp</th>\n",
       "      <th>noaa_tmin_value</th>\n",
       "      <th>tmin_diff_abs</th>\n",
       "    </tr>\n",
       "  </thead>\n",
       "  <tbody>\n",
       "    <tr>\n",
       "      <th>55754</th>\n",
       "      <td>Chincoteague N.W.R.</td>\n",
       "      <td>2003-12-28</td>\n",
       "      <td>4046.893371</td>\n",
       "      <td>30.0</td>\n",
       "      <td>113.00</td>\n",
       "      <td>83.00</td>\n",
       "    </tr>\n",
       "    <tr>\n",
       "      <th>79406</th>\n",
       "      <td>Malibu</td>\n",
       "      <td>2011-12-18</td>\n",
       "      <td>7076.027897</td>\n",
       "      <td>45.0</td>\n",
       "      <td>-32.08</td>\n",
       "      <td>77.08</td>\n",
       "    </tr>\n",
       "    <tr>\n",
       "      <th>63823</th>\n",
       "      <td>Santa Cruz Island</td>\n",
       "      <td>2007-12-17</td>\n",
       "      <td>9573.838063</td>\n",
       "      <td>22.0</td>\n",
       "      <td>-54.94</td>\n",
       "      <td>76.94</td>\n",
       "    </tr>\n",
       "    <tr>\n",
       "      <th>51061</th>\n",
       "      <td>Sisters</td>\n",
       "      <td>2001-12-16</td>\n",
       "      <td>3854.408652</td>\n",
       "      <td>22.0</td>\n",
       "      <td>98.06</td>\n",
       "      <td>76.06</td>\n",
       "    </tr>\n",
       "    <tr>\n",
       "      <th>63679</th>\n",
       "      <td>Crystal Springs</td>\n",
       "      <td>2007-12-15</td>\n",
       "      <td>7299.333140</td>\n",
       "      <td>42.0</td>\n",
       "      <td>-32.08</td>\n",
       "      <td>74.08</td>\n",
       "    </tr>\n",
       "    <tr>\n",
       "      <th>60942</th>\n",
       "      <td>Crystal Springs</td>\n",
       "      <td>2006-12-16</td>\n",
       "      <td>7299.333140</td>\n",
       "      <td>38.0</td>\n",
       "      <td>-32.08</td>\n",
       "      <td>70.08</td>\n",
       "    </tr>\n",
       "    <tr>\n",
       "      <th>11463</th>\n",
       "      <td>Kaua'i: Kapa'a</td>\n",
       "      <td>1973-12-31</td>\n",
       "      <td>9421.868369</td>\n",
       "      <td>0.0</td>\n",
       "      <td>69.98</td>\n",
       "      <td>69.98</td>\n",
       "    </tr>\n",
       "    <tr>\n",
       "      <th>49920</th>\n",
       "      <td>Ukiah</td>\n",
       "      <td>2001-12-15</td>\n",
       "      <td>8101.500452</td>\n",
       "      <td>32.0</td>\n",
       "      <td>100.94</td>\n",
       "      <td>68.94</td>\n",
       "    </tr>\n",
       "    <tr>\n",
       "      <th>63663</th>\n",
       "      <td>Calaveras</td>\n",
       "      <td>2008-01-05</td>\n",
       "      <td>9483.063229</td>\n",
       "      <td>32.0</td>\n",
       "      <td>-32.08</td>\n",
       "      <td>64.08</td>\n",
       "    </tr>\n",
       "    <tr>\n",
       "      <th>60926</th>\n",
       "      <td>Calaveras</td>\n",
       "      <td>2006-12-30</td>\n",
       "      <td>9483.063229</td>\n",
       "      <td>30.0</td>\n",
       "      <td>-32.08</td>\n",
       "      <td>62.08</td>\n",
       "    </tr>\n",
       "    <tr>\n",
       "      <th>33794</th>\n",
       "      <td>St. Augustine</td>\n",
       "      <td>1991-12-14</td>\n",
       "      <td>5928.604728</td>\n",
       "      <td>0.0</td>\n",
       "      <td>62.06</td>\n",
       "      <td>62.06</td>\n",
       "    </tr>\n",
       "    <tr>\n",
       "      <th>57732</th>\n",
       "      <td>Tillamook Bay</td>\n",
       "      <td>2004-12-18</td>\n",
       "      <td>9130.810342</td>\n",
       "      <td>40.0</td>\n",
       "      <td>102.02</td>\n",
       "      <td>62.02</td>\n",
       "    </tr>\n",
       "    <tr>\n",
       "      <th>75080</th>\n",
       "      <td>Elsinore</td>\n",
       "      <td>2011-01-02</td>\n",
       "      <td>7544.643135</td>\n",
       "      <td>26.0</td>\n",
       "      <td>87.08</td>\n",
       "      <td>61.08</td>\n",
       "    </tr>\n",
       "    <tr>\n",
       "      <th>63355</th>\n",
       "      <td>Holcombe</td>\n",
       "      <td>2006-12-15</td>\n",
       "      <td>8048.504030</td>\n",
       "      <td>86.0</td>\n",
       "      <td>28.04</td>\n",
       "      <td>57.96</td>\n",
       "    </tr>\n",
       "    <tr>\n",
       "      <th>75193</th>\n",
       "      <td>San Diego</td>\n",
       "      <td>2010-12-18</td>\n",
       "      <td>8959.546693</td>\n",
       "      <td>59.0</td>\n",
       "      <td>1.22</td>\n",
       "      <td>57.78</td>\n",
       "    </tr>\n",
       "    <tr>\n",
       "      <th>22044</th>\n",
       "      <td>New Orleans</td>\n",
       "      <td>1982-12-26</td>\n",
       "      <td>7356.330152</td>\n",
       "      <td>7.0</td>\n",
       "      <td>62.06</td>\n",
       "      <td>55.06</td>\n",
       "    </tr>\n",
       "    <tr>\n",
       "      <th>43874</th>\n",
       "      <td>Texarkana</td>\n",
       "      <td>1998-01-03</td>\n",
       "      <td>5437.838881</td>\n",
       "      <td>0.0</td>\n",
       "      <td>50.00</td>\n",
       "      <td>50.00</td>\n",
       "    </tr>\n",
       "    <tr>\n",
       "      <th>65361</th>\n",
       "      <td>Highlands Plateau</td>\n",
       "      <td>2007-12-14</td>\n",
       "      <td>3929.359878</td>\n",
       "      <td>28.0</td>\n",
       "      <td>77.00</td>\n",
       "      <td>49.00</td>\n",
       "    </tr>\n",
       "    <tr>\n",
       "      <th>78310</th>\n",
       "      <td>Galveston</td>\n",
       "      <td>2010-12-14</td>\n",
       "      <td>7132.066685</td>\n",
       "      <td>0.0</td>\n",
       "      <td>48.02</td>\n",
       "      <td>48.02</td>\n",
       "    </tr>\n",
       "    <tr>\n",
       "      <th>7708</th>\n",
       "      <td>Binghamton</td>\n",
       "      <td>1970-01-01</td>\n",
       "      <td>9252.272276</td>\n",
       "      <td>-50.0</td>\n",
       "      <td>-2.92</td>\n",
       "      <td>47.08</td>\n",
       "    </tr>\n",
       "  </tbody>\n",
       "</table>\n",
       "</div>"
      ],
      "text/plain": [
       "               circle_name  count_date     distance  min_temp  \\\n",
       "55754  Chincoteague N.W.R.  2003-12-28  4046.893371      30.0   \n",
       "79406               Malibu  2011-12-18  7076.027897      45.0   \n",
       "63823    Santa Cruz Island  2007-12-17  9573.838063      22.0   \n",
       "51061              Sisters  2001-12-16  3854.408652      22.0   \n",
       "63679      Crystal Springs  2007-12-15  7299.333140      42.0   \n",
       "60942      Crystal Springs  2006-12-16  7299.333140      38.0   \n",
       "11463       Kaua'i: Kapa'a  1973-12-31  9421.868369       0.0   \n",
       "49920                Ukiah  2001-12-15  8101.500452      32.0   \n",
       "63663            Calaveras  2008-01-05  9483.063229      32.0   \n",
       "60926            Calaveras  2006-12-30  9483.063229      30.0   \n",
       "33794        St. Augustine  1991-12-14  5928.604728       0.0   \n",
       "57732        Tillamook Bay  2004-12-18  9130.810342      40.0   \n",
       "75080             Elsinore  2011-01-02  7544.643135      26.0   \n",
       "63355             Holcombe  2006-12-15  8048.504030      86.0   \n",
       "75193            San Diego  2010-12-18  8959.546693      59.0   \n",
       "22044          New Orleans  1982-12-26  7356.330152       7.0   \n",
       "43874            Texarkana  1998-01-03  5437.838881       0.0   \n",
       "65361    Highlands Plateau  2007-12-14  3929.359878      28.0   \n",
       "78310            Galveston  2010-12-14  7132.066685       0.0   \n",
       "7708            Binghamton  1970-01-01  9252.272276     -50.0   \n",
       "\n",
       "       noaa_tmin_value  tmin_diff_abs  \n",
       "55754           113.00          83.00  \n",
       "79406           -32.08          77.08  \n",
       "63823           -54.94          76.94  \n",
       "51061            98.06          76.06  \n",
       "63679           -32.08          74.08  \n",
       "60942           -32.08          70.08  \n",
       "11463            69.98          69.98  \n",
       "49920           100.94          68.94  \n",
       "63663           -32.08          64.08  \n",
       "60926           -32.08          62.08  \n",
       "33794            62.06          62.06  \n",
       "57732           102.02          62.02  \n",
       "75080            87.08          61.08  \n",
       "63355            28.04          57.96  \n",
       "75193             1.22          57.78  \n",
       "22044            62.06          55.06  \n",
       "43874            50.00          50.00  \n",
       "65361            77.00          49.00  \n",
       "78310            48.02          48.02  \n",
       "7708             -2.92          47.08  "
      ]
     },
     "execution_count": 23,
     "metadata": {},
     "output_type": "execute_result"
    }
   ],
   "source": [
    "df_paired_10k.loc[(df_paired_10k.loc[:, 'tmin_diff_abs'].nlargest(20)).index,\n",
    "                  ['circle_name', 'count_date', 'distance', 'min_temp', 'noaa_tmin_value', 'tmin_diff_abs']]"
   ]
  },
  {
   "cell_type": "markdown",
   "metadata": {},
   "source": [
    "Calculate z-scores:"
   ]
  },
  {
   "cell_type": "code",
   "execution_count": 27,
   "metadata": {},
   "outputs": [],
   "source": [
    "df_paired_10k.loc[:, 'tmin_diff_z'] = stats.zscore(df_paired_10k.loc[:, 'tmin_diff_abs'], nan_policy='omit')\n",
    "df_paired_10k.loc[:, 'tmax_diff_z'] = stats.zscore(df_paired_10k.loc[:, 'tmax_diff_abs'], nan_policy='omit')"
   ]
  },
  {
   "cell_type": "markdown",
   "metadata": {},
   "source": [
    "Histogram of z-scores for tmin:"
   ]
  },
  {
   "cell_type": "code",
   "execution_count": 28,
   "metadata": {},
   "outputs": [
    {
     "data": {
      "text/plain": [
       "<matplotlib.axes._subplots.AxesSubplot at 0x10bf570>"
      ]
     },
     "execution_count": 28,
     "metadata": {},
     "output_type": "execute_result"
    },
    {
     "data": {
      "image/png": "[encoded data removed]",
      "text/plain": [
       "<Figure size 432x288 with 1 Axes>"
      ]
     },
     "metadata": {
      "needs_background": "light"
     },
     "output_type": "display_data"
    }
   ],
   "source": [
    "df_paired_10k.loc[:, 'tmin_diff_z'].plot.hist(bins=100)"
   ]
  },
  {
   "cell_type": "markdown",
   "metadata": {},
   "source": [
    "Eliminate outliers (z > 2.96):"
   ]
  },
  {
   "cell_type": "code",
   "execution_count": 29,
   "metadata": {},
   "outputs": [
    {
     "name": "stdout",
     "output_type": "stream",
     "text": [
      "Rows in 10km temp-screened dataset: 55374\n",
      "Rows in no outlier dataset: 29281\n"
     ]
    }
   ],
   "source": [
    "df_paired_noout = df_paired_10k.loc[((df_paired_10k.loc[:, 'tmin_diff_z'].abs() < 2.96) &\n",
    "                                     (df_paired_10k.loc[:, 'tmax_diff_z'].abs() < 2.96))]\n",
    "\n",
    "print('Rows in 10km temp-screened dataset:', df_paired_10k.index.size)\n",
    "print('Rows in no outlier dataset:', df_paired_noout.index.size)"
   ]
  },
  {
   "cell_type": "markdown",
   "metadata": {},
   "source": [
    "Show box & whisker plots again:"
   ]
  },
  {
   "cell_type": "code",
   "execution_count": 30,
   "metadata": {},
   "outputs": [
    {
     "data": {
      "text/plain": [
       "<matplotlib.axes._subplots.AxesSubplot at 0x51f3b50>"
      ]
     },
     "execution_count": 30,
     "metadata": {},
     "output_type": "execute_result"
    },
    {
     "data": {
      "image/png": "[encoded data removed]",
      "text/plain": [
       "<Figure size 432x288 with 1 Axes>"
      ]
     },
     "metadata": {
      "needs_background": "light"
     },
     "output_type": "display_data"
    }
   ],
   "source": [
    "df_paired_noout.boxplot(column=['tmin_diff_abs', 'tmax_diff_abs'])"
   ]
  },
  {
   "cell_type": "markdown",
   "metadata": {},
   "source": [
    "## Counting:"
   ]
  },
  {
   "cell_type": "code",
   "execution_count": 31,
   "metadata": {},
   "outputs": [
    {
     "name": "stdout",
     "output_type": "stream",
     "text": [
      "NUmber of unique NOAA stations: 11652\n"
     ]
    }
   ],
   "source": [
    "df_paired.loc[:, 'id'].value_counts()\n",
    "station_list = df_paired.loc[:, 'id'].unique()\n",
    "print('Number of unique NOAA stations:', len(station_list))"
   ]
  },
  {
   "cell_type": "code",
   "execution_count": 33,
   "metadata": {},
   "outputs": [
    {
     "name": "stdout",
     "output_type": "stream",
     "text": [
      "Total number of rows in the dataset:\n",
      "\n",
      "Original dataset: 109390\n",
      "Circle-to-NOAA distance under 10km: 55374\n",
      "Outliers removed based on temperature: 29281\n"
     ]
    }
   ],
   "source": [
    "print('Total number of rows in the dataset:\\n')\n",
    "print('Original dataset:', df_paired.index.size)\n",
    "print('Circle-to-NOAA distance under 10km:', df_paired_10k.index.size)\n",
    "print('Outliers removed based on temperature:', df_paired_noout.index.size)"
   ]
  },
  {
   "cell_type": "markdown",
   "metadata": {},
   "source": [
    "How many records have CBC data but not NOAA data?"
   ]
  },
  {
   "cell_type": "code",
   "execution_count": 55,
   "metadata": {},
   "outputs": [
    {
     "name": "stdout",
     "output_type": "stream",
     "text": [
      "tmin: 5929\n",
      "tmax: 5942\n",
      "precipitation: 63874\n"
     ]
    }
   ],
   "source": [
    "print('tmin:', df_paired.loc[pd.isnull(df_paired.loc[:, 'min_temp']) &\n",
    "                             pd.isna(df_paired.loc[:, 'noaa_tmin_value'])].index.size)\n",
    "print('tmax:', df_paired.loc[pd.isnull(df_paired.loc[:, 'max_temp']) &\n",
    "                             pd.isna(df_paired.loc[:, 'noaa_tmax_value'])].index.size)\n",
    "print('precipitation:', df_paired.loc[(df_paired.loc[:, 'cbc_is_prec'] == True) &\n",
    "                             (df_paired.loc[:, 'precipitation_value'] == 0)].index.size)"
   ]
  },
  {
   "cell_type": "markdown",
   "metadata": {},
   "source": [
    "How many states are included in the CBC counts?"
   ]
  },
  {
   "cell_type": "code",
   "execution_count": 44,
   "metadata": {},
   "outputs": [
    {
     "name": "stdout",
     "output_type": "stream",
     "text": [
      "['US-CA' 'US-CO' 'US-CT' 'US-IL' 'US-LA' 'US-MA' 'US-MO' 'US-NJ' 'US-NY'\n",
      " 'US-OH' 'US-PA' 'US-WI' 'US-DC' 'US-RI' 'US-IN' 'US-KY' 'US-MI' 'US-NC'\n",
      " 'US-NH' 'US-NM' 'US-SC' 'US-TN' 'US-VT' 'US-FL' 'US-GA' 'US-IA' 'US-UT'\n",
      " 'US-WA' 'US-KS' 'US-VA' 'US-WV' 'US-ME' 'US-MN' 'US-SD' 'US-DE' 'US-MS'\n",
      " 'US-ID' 'US-NE' 'US-AZ' 'US-MD' 'US-AR' 'US-MT' 'US-ND' 'US-OK' 'US-TX'\n",
      " 'US-OR' 'US-AL' 'US-AK' 'US-HI' 'US-NV' 'US-WY']\n",
      "Count: 51\n",
      "\n",
      "\n",
      "Value counts:\n",
      " US-CA    9230\n",
      "US-TX    6466\n",
      "US-CO    5846\n",
      "US-NY    5400\n",
      "US-PA    4966\n",
      "US-IL    3780\n",
      "US-WI    3581\n",
      "US-NC    3501\n",
      "US-NJ    3416\n",
      "US-FL    3142\n",
      "US-OH    2900\n",
      "US-MA    2893\n",
      "US-OR    2835\n",
      "US-HI    2789\n",
      "US-MI    2565\n",
      "US-NM    2330\n",
      "US-WA    2323\n",
      "US-AZ    2304\n",
      "US-IN    2269\n",
      "US-VA    2221\n",
      "US-MN    2042\n",
      "US-TN    1921\n",
      "US-MD    1772\n",
      "US-MO    1729\n",
      "US-MT    1693\n",
      "US-UT    1611\n",
      "US-IA    1592\n",
      "US-KS    1467\n",
      "US-AK    1383\n",
      "US-WY    1307\n",
      "US-CT    1275\n",
      "US-NH    1222\n",
      "US-SC    1191\n",
      "US-AR    1098\n",
      "US-ID    1096\n",
      "US-OK    1079\n",
      "US-VT    1046\n",
      "US-ME    1012\n",
      "US-WV     953\n",
      "US-LA     923\n",
      "US-NE     860\n",
      "US-SD     847\n",
      "US-KY     844\n",
      "US-GA     840\n",
      "US-ND     823\n",
      "US-MS     751\n",
      "US-AL     711\n",
      "US-NV     625\n",
      "US-RI     435\n",
      "US-DC     340\n",
      "US-DE     145\n",
      "Name: country_state, dtype: int64\n"
     ]
    }
   ],
   "source": [
    "print(df_paired['country_state'].unique())\n",
    "print('Count:', len(df_paired['country_state'].unique()))\n",
    "print('\\n')\n",
    "print('Value counts:\\n', df_paired['country_state'].value_counts())"
   ]
  },
  {
   "cell_type": "markdown",
   "metadata": {},
   "source": [
    "Histogram of years:"
   ]
  },
  {
   "cell_type": "code",
   "execution_count": 46,
   "metadata": {},
   "outputs": [
    {
     "data": {
      "text/plain": [
       "<matplotlib.axes._subplots.AxesSubplot at 0xdd40af0>"
      ]
     },
     "execution_count": 46,
     "metadata": {},
     "output_type": "execute_result"
    },
    {
     "data": {
      "image/png": "[encoded data removed]",
      "text/plain": [
       "<Figure size 432x288 with 1 Axes>"
      ]
     },
     "metadata": {
      "needs_background": "light"
     },
     "output_type": "display_data"
    }
   ],
   "source": [
    "df_paired_noout.loc[:, 'count_year'].plot.hist(bins=100)"
   ]
  },
  {
   "cell_type": "code",
   "execution_count": 47,
   "metadata": {},
   "outputs": [
    {
     "name": "stdout",
     "output_type": "stream",
     "text": [
      "Furthest year back after screening: 1969\n"
     ]
    }
   ],
   "source": [
    "print('Furthest year back after screening:', df_paired_noout['count_year'].min())"
   ]
  },
  {
   "cell_type": "markdown",
   "metadata": {},
   "source": [
    "Histogram of years before screening:"
   ]
  },
  {
   "cell_type": "code",
   "execution_count": 48,
   "metadata": {},
   "outputs": [
    {
     "data": {
      "text/plain": [
       "<matplotlib.axes._subplots.AxesSubplot at 0xde12390>"
      ]
     },
     "execution_count": 48,
     "metadata": {},
     "output_type": "execute_result"
    },
    {
     "data": {
      "image/png": "[encoded data removed]",
      "text/plain": [
       "<Figure size 432x288 with 1 Axes>"
      ]
     },
     "metadata": {
      "needs_background": "light"
     },
     "output_type": "display_data"
    }
   ],
   "source": [
    "df_paired.loc[:, 'count_year'].plot.hist(bins=100)"
   ]
  },
  {
   "cell_type": "markdown",
   "metadata": {},
   "source": [
    "Histogram of station distances:"
   ]
  },
  {
   "cell_type": "code",
   "execution_count": 34,
   "metadata": {},
   "outputs": [
    {
     "data": {
      "text/plain": [
       "<matplotlib.axes._subplots.AxesSubplot at 0x5224790>"
      ]
     },
     "execution_count": 34,
     "metadata": {},
     "output_type": "execute_result"
    },
    {
     "data": {
      "image/png": "[encoded data removed]",
      "text/plain": [
       "<Figure size 432x288 with 1 Axes>"
      ]
     },
     "metadata": {
      "needs_background": "light"
     },
     "output_type": "display_data"
    }
   ],
   "source": [
    "df_paired_noout.loc[:, 'distance'].plot.hist(bins=100)"
   ]
  },
  {
   "cell_type": "markdown",
   "metadata": {},
   "source": [
    "Histogram of difference in elevations:"
   ]
  },
  {
   "cell_type": "code",
   "execution_count": 37,
   "metadata": {},
   "outputs": [
    {
     "data": {
      "text/plain": [
       "<matplotlib.axes._subplots.AxesSubplot at 0x11781e90>"
      ]
     },
     "execution_count": 37,
     "metadata": {},
     "output_type": "execute_result"
    },
    {
     "data": {
      "image/png": "[encoded data removed]",
      "text/plain": [
       "<Figure size 432x288 with 1 Axes>"
      ]
     },
     "metadata": {
      "needs_background": "light"
     },
     "output_type": "display_data"
    }
   ],
   "source": [
    "df_paired_noout.loc[:, 'elev_diff'].plot.hist(bins=100)"
   ]
  },
  {
   "cell_type": "markdown",
   "metadata": {},
   "source": [
    "Scatter plot of station distance with mean temperature difference:"
   ]
  },
  {
   "cell_type": "code",
   "execution_count": 35,
   "metadata": {},
   "outputs": [
    {
     "data": {
      "text/plain": [
       "<matplotlib.axes._subplots.AxesSubplot at 0x5242db0>"
      ]
     },
     "execution_count": 35,
     "metadata": {},
     "output_type": "execute_result"
    },
    {
     "data": {
      "image/png": "[encoded data removed]",
      "text/plain": [
       "<Figure size 432x288 with 1 Axes>"
      ]
     },
     "metadata": {
      "needs_background": "light"
     },
     "output_type": "display_data"
    }
   ],
   "source": [
    "df_paired_noout.plot.scatter(x='distance',\n",
    "                             y='tmin_diff_abs',\n",
    "                             s=1)"
   ]
  },
  {
   "cell_type": "code",
   "execution_count": 36,
   "metadata": {},
   "outputs": [
    {
     "data": {
      "text/plain": [
       "<matplotlib.axes._subplots.AxesSubplot at 0x1183c930>"
      ]
     },
     "execution_count": 36,
     "metadata": {},
     "output_type": "execute_result"
    },
    {
     "data": {
      "image/png": "[encoded data removed]",
      "text/plain": [
       "<Figure size 432x288 with 1 Axes>"
      ]
     },
     "metadata": {
      "needs_background": "light"
     },
     "output_type": "display_data"
    }
   ],
   "source": [
    "df_paired_noout.plot.scatter(x='distance',\n",
    "                             y='tmax_diff_abs',\n",
    "                             s=1)"
   ]
  },
  {
   "cell_type": "code",
   "execution_count": null,
   "metadata": {},
   "outputs": [],
   "source": []
  }
 ],
 "metadata": {
  "kernelspec": {
   "display_name": "Python 3",
   "language": "python",
   "name": "python3"
  },
  "language_info": {
   "codemirror_mode": {
    "name": "ipython",
    "version": 3
   },
   "file_extension": ".py",
   "mimetype": "text/x-python",
   "name": "python",
   "nbconvert_exporter": "python",
   "pygments_lexer": "ipython3",
   "version": "3.7.4"
  }
 },
 "nbformat": 4,
 "nbformat_minor": 4
}
