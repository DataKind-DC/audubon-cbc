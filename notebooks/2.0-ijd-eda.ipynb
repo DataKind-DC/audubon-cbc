{
 "cells": [
  {
   "cell_type": "markdown",
   "metadata": {},
   "source": [
    "# Exploratory Data Analysis\n",
    "### Purpose\n",
    "The purpose of this notebook is to explore the Audubon circle and NOAA data.\n",
    "This notebook addresses some one of the tasks in Github issue #36\n",
    "\n",
    "### Author: \n",
    "Ian Davis\n",
    "### Date: \n",
    "2020-02-17\n",
    "### Update Date: \n",
    "2020-05-13\n",
    "\n",
    "### Inputs \n",
    "1.3-rec-connecting-fips-ecosystem-data.csv - Comma separate file of the Christmas Bird Count and matches to 1 or more NOAA weather stations.\n",
    "- Data Dictonary can be found here: http://www.audubon.org/sites/default/files/documents/cbc_report_field_definitions_2013.pdf\n",
    "\n",
    "### Output Files\n",
    "None\n",
    "\n",
    "## Steps or Proceedures in the notebook \n",
    "- Set runtime options\n",
    "- Import data and do initial counts\n",
    "- Screen the data\n",
    "- Check for Outliers\n",
    "- Summary statistics and simple visualizations\n",
    "\n",
    "## References\n",
    "- elevation change and temperature: https://sciencing.com/info-8686864-latitude-altitude-affect-temperature.html"
   ]
  },
  {
   "cell_type": "markdown",
   "metadata": {},
   "source": [
    "### See data dictionary: \n",
    "\n",
    "http://www.audubon.org/sites/default/files/documents/cbc_report_field_definitions_2013.pdf"
   ]
  },
  {
   "cell_type": "code",
   "execution_count": 1,
   "metadata": {},
   "outputs": [],
   "source": [
    "import numpy as np\n",
    "import pandas as pd\n",
    "import plotly_express as px\n",
    "import matplotlib.pyplot as plt\n",
    "import datetime\n",
    "from scipy import stats\n",
    "import sys\n",
    "\n",
    "# add scripts folder to path\n",
    "sys.path.insert(1, '../scripts')\n",
    "\n",
    "# user import\n",
    "from calcs import main_calcs\n",
    "\n",
    "pd.set_option('display.max_columns', 500)"
   ]
  },
  {
   "cell_type": "markdown",
   "metadata": {},
   "source": [
    "## Set File Paths and Runtime Options"
   ]
  },
  {
   "cell_type": "code",
   "execution_count": 2,
   "metadata": {},
   "outputs": [],
   "source": [
    "#PATH_TO_PAIRED_DATA = '../data/Cloud_data/1.2-ijd-fetch-circle-elevations_20200502155633.csv'\n",
    "PATH_TO_PAIRED_DATA = '../data/Cloud_data/1.3-rec-connecting-fips-ecosystem-data.txt'"
   ]
  },
  {
   "cell_type": "markdown",
   "metadata": {},
   "source": [
    "## Read in Data"
   ]
  },
  {
   "cell_type": "code",
   "execution_count": 3,
   "metadata": {},
   "outputs": [],
   "source": [
    "# Read in unfinished dataset\n",
    "df_paired = pd.read_csv(PATH_TO_PAIRED_DATA, compression='gzip')"
   ]
  },
  {
   "cell_type": "markdown",
   "metadata": {},
   "source": [
    "## Calculated Variables"
   ]
  },
  {
   "cell_type": "code",
   "execution_count": 4,
   "metadata": {},
   "outputs": [],
   "source": [
    "df_paired = main_calcs(df_paired)"
   ]
  },
  {
   "cell_type": "markdown",
   "metadata": {},
   "source": [
    "## Data Screening"
   ]
  },
  {
   "cell_type": "markdown",
   "metadata": {},
   "source": [
    "Are there indeces which have negative values for both CBC and NOAA?"
   ]
  },
  {
   "cell_type": "code",
   "execution_count": 5,
   "metadata": {},
   "outputs": [
    {
     "data": {
      "text/plain": [
       "1900"
      ]
     },
     "execution_count": 5,
     "metadata": {},
     "output_type": "execute_result"
    }
   ],
   "source": [
    "df_paired.loc[((df_paired.loc[:, 'min_temp'] < 0.0) & \n",
    "               (df_paired.loc[:, 'noaa_tmin_value'] < 0.0))].index.size"
   ]
  },
  {
   "cell_type": "markdown",
   "metadata": {},
   "source": [
    "Any negative temperatures in Florida?<br>\n",
    "Lat: 25 to 30<br>\n",
    "Long: -80 to -90"
   ]
  },
  {
   "cell_type": "code",
   "execution_count": 6,
   "metadata": {},
   "outputs": [
    {
     "data": {
      "text/plain": [
       "0"
      ]
     },
     "execution_count": 6,
     "metadata": {},
     "output_type": "execute_result"
    }
   ],
   "source": [
    "df_paired.loc[((df_paired.loc[:, 'noaa_tmin_value'] < 0.0) &\n",
    "               (df_paired.loc[:, 'latitude'] < 30.0) &\n",
    "               (df_paired.loc[:, 'longitude'] > -90.0))].index.size"
   ]
  },
  {
   "cell_type": "markdown",
   "metadata": {},
   "source": [
    "Screen stations with obvious temperature errors:<br>\n",
    "- tmin no less than -100 degF\n",
    "- tmax no greater than 150 degFa\n",
    "- (probably could be more strict, but this is first guess)"
   ]
  },
  {
   "cell_type": "code",
   "execution_count": 7,
   "metadata": {},
   "outputs": [
    {
     "name": "stdout",
     "output_type": "stream",
     "text": [
      "Minimum tmin for circles: -51.0\n",
      "Minimum tmin for NOAA stations: -58.0\n",
      "Minimum tmax for circles: 93.0\n",
      "Minimum tmax for NOAA stations: 140.0\n"
     ]
    }
   ],
   "source": [
    "print('Minimum tmin for circles:', df_paired['min_temp'].min())\n",
    "print('Minimum tmin for NOAA stations:', df_paired['noaa_tmin_value'].min())\n",
    "print('Minimum tmax for circles:', df_paired['max_temp'].max())\n",
    "print('Minimum tmax for NOAA stations:', df_paired['noaa_tmax_value'].max())"
   ]
  },
  {
   "cell_type": "markdown",
   "metadata": {},
   "source": [
    "Are there any 'min_snow' values larger than 'max_snow' ?"
   ]
  },
  {
   "cell_type": "code",
   "execution_count": 8,
   "metadata": {},
   "outputs": [
    {
     "name": "stdout",
     "output_type": "stream",
     "text": [
      "Number of rows: 7\n",
      "                 circle_name  count_date  min_snow  max_snow\n",
      "80890                Caribou  2011-12-28       4.0       1.0\n",
      "80910           Presque Isle  2011-12-31       2.0       1.0\n",
      "81751  Angel Fire-Eagle Nest  2011-12-18      12.0       3.0\n",
      "83338               Waukesha  2011-12-17       5.0       1.0\n",
      "83339               Waukesha  2011-12-17       5.0       1.0\n",
      "83340               Waukesha  2011-12-17       5.0       1.0\n",
      "83341               Waukesha  2011-12-17       5.0       1.0\n"
     ]
    }
   ],
   "source": [
    "print('Number of rows:', df_paired.loc[(df_paired.loc[:, 'min_snow'] > df_paired.loc[:, 'max_snow'])].index.size)\n",
    "print(df_paired.loc[(df_paired.loc[:, 'min_snow'] > df_paired.loc[:, 'max_snow']), ['circle_name', 'count_date', 'min_snow', 'max_snow']])"
   ]
  },
  {
   "cell_type": "code",
   "execution_count": 9,
   "metadata": {},
   "outputs": [
    {
     "data": {
      "text/plain": [
       "3.0      60171\n",
       "4.0      21026\n",
       "2.0       9284\n",
       "1.0       1344\n",
       "32.0       716\n",
       "21.0       636\n",
       "321.0      239\n",
       "31.0        19\n",
       "12.0         6\n",
       "123.0        1\n",
       "23.0         1\n",
       "34.0         1\n",
       "Name: am_rain, dtype: int64"
      ]
     },
     "execution_count": 9,
     "metadata": {},
     "output_type": "execute_result"
    }
   ],
   "source": [
    "# Sometimes the rain or snow intensity is listed as \"2,1\"\n",
    "# And somewhere along the line these were converted to floats: 32.0 = 3,2 ...probably?\n",
    "df_paired.loc[:, 'am_rain'].value_counts()"
   ]
  },
  {
   "cell_type": "markdown",
   "metadata": {},
   "source": [
    "Rows that contain precipitation values:"
   ]
  },
  {
   "cell_type": "code",
   "execution_count": 10,
   "metadata": {},
   "outputs": [
    {
     "data": {
      "text/plain": [
       "94379"
      ]
     },
     "execution_count": 10,
     "metadata": {},
     "output_type": "execute_result"
    }
   ],
   "source": [
    "df_paired.loc[(df_paired.loc[:, 'cbc_is_prec'] == True)].index.size"
   ]
  },
  {
   "cell_type": "markdown",
   "metadata": {},
   "source": [
    "Check for false positives:"
   ]
  },
  {
   "cell_type": "code",
   "execution_count": 11,
   "metadata": {},
   "outputs": [
    {
     "data": {
      "text/html": [
       "<div>\n",
       "<style scoped>\n",
       "    .dataframe tbody tr th:only-of-type {\n",
       "        vertical-align: middle;\n",
       "    }\n",
       "\n",
       "    .dataframe tbody tr th {\n",
       "        vertical-align: top;\n",
       "    }\n",
       "\n",
       "    .dataframe thead th {\n",
       "        text-align: right;\n",
       "    }\n",
       "</style>\n",
       "<table border=\"1\" class=\"dataframe\">\n",
       "  <thead>\n",
       "    <tr style=\"text-align: right;\">\n",
       "      <th></th>\n",
       "      <th>cbc_is_prec</th>\n",
       "      <th>min_snow</th>\n",
       "      <th>max_snow</th>\n",
       "      <th>am_rain</th>\n",
       "      <th>pm_rain</th>\n",
       "    </tr>\n",
       "  </thead>\n",
       "  <tbody>\n",
       "  </tbody>\n",
       "</table>\n",
       "</div>"
      ],
      "text/plain": [
       "Empty DataFrame\n",
       "Columns: [cbc_is_prec, min_snow, max_snow, am_rain, pm_rain]\n",
       "Index: []"
      ]
     },
     "execution_count": 11,
     "metadata": {},
     "output_type": "execute_result"
    }
   ],
   "source": [
    "df_paired.loc[(df_paired.loc[:, 'cbc_is_prec'] == True) &\n",
    "              (pd.isna(df_paired.loc[:, 'min_snow']) &\n",
    "               pd.isna(df_paired.loc[:, 'max_snow']) &\n",
    "               pd.isna(df_paired.loc[:, 'am_rain']) &\n",
    "               pd.isna(df_paired.loc[:, 'pm_rain'])),\n",
    "              ['cbc_is_prec', 'min_snow', 'max_snow', 'am_rain', 'pm_rain']].head(10)"
   ]
  },
  {
   "cell_type": "markdown",
   "metadata": {},
   "source": [
    "Absolute Temperature Difference:"
   ]
  },
  {
   "cell_type": "code",
   "execution_count": 12,
   "metadata": {},
   "outputs": [
    {
     "name": "stdout",
     "output_type": "stream",
     "text": [
      "Largest temp difference for tmax between circles and stations: 92.08\n",
      "Largest temp difference for tmin between circles and stations: 83.0\n"
     ]
    }
   ],
   "source": [
    "print('Largest temp difference for tmax between circles and stations:', df_paired['tmax_diff_abs'].max())\n",
    "print('Largest temp difference for tmin between circles and stations:', df_paired['tmin_diff_abs'].max())"
   ]
  },
  {
   "cell_type": "markdown",
   "metadata": {},
   "source": [
    "<br>\n",
    "Histogram of tmax absolute difference values:"
   ]
  },
  {
   "cell_type": "code",
   "execution_count": 13,
   "metadata": {},
   "outputs": [
    {
     "data": {
      "text/plain": [
       "<matplotlib.axes._subplots.AxesSubplot at 0x104d49f0>"
      ]
     },
     "execution_count": 13,
     "metadata": {},
     "output_type": "execute_result"
    },
    {
     "data": {
      "image/png": "[encoded data removed]",
      "text/plain": [
       "<Figure size 432x288 with 1 Axes>"
      ]
     },
     "metadata": {
      "needs_background": "light"
     },
     "output_type": "display_data"
    }
   ],
   "source": [
    "df_paired.loc[:, 'tmin_diff_abs'].plot.hist(bins=100)"
   ]
  },
  {
   "cell_type": "markdown",
   "metadata": {},
   "source": [
    "Histogram of tmin absolute difference values:"
   ]
  },
  {
   "cell_type": "code",
   "execution_count": 14,
   "metadata": {},
   "outputs": [
    {
     "data": {
      "text/plain": [
       "<matplotlib.axes._subplots.AxesSubplot at 0xfb84ff0>"
      ]
     },
     "execution_count": 14,
     "metadata": {},
     "output_type": "execute_result"
    },
    {
     "data": {
      "image/png": "[encoded data removed]",
      "text/plain": [
       "<Figure size 432x288 with 1 Axes>"
      ]
     },
     "metadata": {
      "needs_background": "light"
     },
     "output_type": "display_data"
    }
   ],
   "source": [
    "df_paired.loc[:, 'tmax_diff_abs'].plot.hist(bins=100)"
   ]
  },
  {
   "cell_type": "markdown",
   "metadata": {},
   "source": [
    "Mean temperature difference:"
   ]
  },
  {
   "cell_type": "code",
   "execution_count": 15,
   "metadata": {},
   "outputs": [
    {
     "name": "stdout",
     "output_type": "stream",
     "text": [
      "Tmin Difference Mean & SD: 5.28 ,  5.52\n",
      "Tmax Difference Mean & SD: 5.05 ,  5.71\n"
     ]
    }
   ],
   "source": [
    "# mean temperature difference\n",
    "tmin_diff_mean = df_paired.loc[:, 'tmin_diff_abs'].mean(skipna=True)\n",
    "tmin_diff_std = df_paired.loc[:, 'tmin_diff_abs'].std(skipna=True)\n",
    "tmax_diff_mean = df_paired.loc[:, 'tmax_diff_abs'].mean(skipna=True)\n",
    "tmax_diff_std = df_paired.loc[:, 'tmax_diff_abs'].std(skipna=True)\n",
    "\n",
    "print('Tmin Difference Mean & SD:', round(tmin_diff_mean,2), ', ', round(tmin_diff_std,2))\n",
    "print('Tmax Difference Mean & SD:', round(tmax_diff_mean,2), ', ', round(tmax_diff_std,2))"
   ]
  },
  {
   "cell_type": "markdown",
   "metadata": {},
   "source": [
    "## Outliers\n",
    "\n"
   ]
  },
  {
   "cell_type": "markdown",
   "metadata": {},
   "source": [
    "Screen stations further than 10 km:"
   ]
  },
  {
   "cell_type": "code",
   "execution_count": 16,
   "metadata": {},
   "outputs": [
    {
     "name": "stdout",
     "output_type": "stream",
     "text": [
      "Rows in original dataset: 109390\n",
      "Rows in 10km dataset: 55374\n"
     ]
    }
   ],
   "source": [
    "df_paired_10k = df_paired.loc[(df_paired.loc[:, 'distance'] <= 10000.0), :]\n",
    "print('Rows in original dataset:', df_paired.index.size)\n",
    "print('Rows in 10km dataset:', df_paired_10k.index.size)"
   ]
  },
  {
   "cell_type": "markdown",
   "metadata": {},
   "source": [
    "### ** THAT'S A BIG DROP OFF **"
   ]
  },
  {
   "cell_type": "markdown",
   "metadata": {},
   "source": [
    "Mean temperature difference:"
   ]
  },
  {
   "cell_type": "code",
   "execution_count": 17,
   "metadata": {},
   "outputs": [
    {
     "name": "stdout",
     "output_type": "stream",
     "text": [
      "Tmin Difference Mean & SD: 5.08 ,  5.54\n",
      "Tmax Difference Mean & SD: 4.83 ,  5.69\n"
     ]
    }
   ],
   "source": [
    "tmin_diff_mean = df_paired_10k.loc[:, 'tmin_diff_abs'].mean(skipna=True)\n",
    "tmin_diff_std = df_paired_10k.loc[:, 'tmin_diff_abs'].std(skipna=True)\n",
    "tmax_diff_mean = df_paired_10k.loc[:, 'tmax_diff_abs'].mean(skipna=True)\n",
    "tmax_diff_std = df_paired_10k.loc[:, 'tmax_diff_abs'].std(skipna=True)\n",
    "\n",
    "print('Tmin Difference Mean & SD:', round(tmin_diff_mean,2), ', ', round(tmin_diff_std,2))\n",
    "print('Tmax Difference Mean & SD:', round(tmax_diff_mean,2), ', ', round(tmax_diff_std,2))"
   ]
  },
  {
   "cell_type": "markdown",
   "metadata": {},
   "source": [
    "<br>\n",
    "Box & Whisker Plots:<br>\n",
    "\n",
    "Tmin & Tmax Difference"
   ]
  },
  {
   "cell_type": "code",
   "execution_count": 18,
   "metadata": {},
   "outputs": [
    {
     "data": {
      "text/plain": [
       "<matplotlib.axes._subplots.AxesSubplot at 0xfeb42d0>"
      ]
     },
     "execution_count": 18,
     "metadata": {},
     "output_type": "execute_result"
    },
    {
     "data": {
      "image/png": "[encoded data removed]",
      "text/plain": [
       "<Figure size 432x288 with 1 Axes>"
      ]
     },
     "metadata": {
      "needs_background": "light"
     },
     "output_type": "display_data"
    }
   ],
   "source": [
    "df_paired_10k.boxplot(column=['tmin_diff_abs', 'tmax_diff_abs'])"
   ]
  },
  {
   "cell_type": "markdown",
   "metadata": {},
   "source": [
    "Clearly, there are some actual errors here. Not just outliers."
   ]
  },
  {
   "cell_type": "code",
   "execution_count": 19,
   "metadata": {},
   "outputs": [
    {
     "data": {
      "text/html": [
       "<div>\n",
       "<style scoped>\n",
       "    .dataframe tbody tr th:only-of-type {\n",
       "        vertical-align: middle;\n",
       "    }\n",
       "\n",
       "    .dataframe tbody tr th {\n",
       "        vertical-align: top;\n",
       "    }\n",
       "\n",
       "    .dataframe thead th {\n",
       "        text-align: right;\n",
       "    }\n",
       "</style>\n",
       "<table border=\"1\" class=\"dataframe\">\n",
       "  <thead>\n",
       "    <tr style=\"text-align: right;\">\n",
       "      <th></th>\n",
       "      <th>circle_name</th>\n",
       "      <th>count_date</th>\n",
       "      <th>distance</th>\n",
       "      <th>min_temp</th>\n",
       "      <th>noaa_tmin_value</th>\n",
       "      <th>tmin_diff_abs</th>\n",
       "    </tr>\n",
       "  </thead>\n",
       "  <tbody>\n",
       "    <tr>\n",
       "      <th>55754</th>\n",
       "      <td>Chincoteague N.W.R.</td>\n",
       "      <td>2003-12-28</td>\n",
       "      <td>4046.893371</td>\n",
       "      <td>30.0</td>\n",
       "      <td>113.00</td>\n",
       "      <td>83.00</td>\n",
       "    </tr>\n",
       "    <tr>\n",
       "      <th>79406</th>\n",
       "      <td>Malibu</td>\n",
       "      <td>2011-12-18</td>\n",
       "      <td>7076.027897</td>\n",
       "      <td>45.0</td>\n",
       "      <td>-32.08</td>\n",
       "      <td>77.08</td>\n",
       "    </tr>\n",
       "    <tr>\n",
       "      <th>63823</th>\n",
       "      <td>Santa Cruz Island</td>\n",
       "      <td>2007-12-17</td>\n",
       "      <td>9573.838063</td>\n",
       "      <td>22.0</td>\n",
       "      <td>-54.94</td>\n",
       "      <td>76.94</td>\n",
       "    </tr>\n",
       "    <tr>\n",
       "      <th>51061</th>\n",
       "      <td>Sisters</td>\n",
       "      <td>2001-12-16</td>\n",
       "      <td>3854.408652</td>\n",
       "      <td>22.0</td>\n",
       "      <td>98.06</td>\n",
       "      <td>76.06</td>\n",
       "    </tr>\n",
       "    <tr>\n",
       "      <th>63679</th>\n",
       "      <td>Crystal Springs</td>\n",
       "      <td>2007-12-15</td>\n",
       "      <td>7299.333140</td>\n",
       "      <td>42.0</td>\n",
       "      <td>-32.08</td>\n",
       "      <td>74.08</td>\n",
       "    </tr>\n",
       "    <tr>\n",
       "      <th>60942</th>\n",
       "      <td>Crystal Springs</td>\n",
       "      <td>2006-12-16</td>\n",
       "      <td>7299.333140</td>\n",
       "      <td>38.0</td>\n",
       "      <td>-32.08</td>\n",
       "      <td>70.08</td>\n",
       "    </tr>\n",
       "    <tr>\n",
       "      <th>11463</th>\n",
       "      <td>Kaua'i: Kapa'a</td>\n",
       "      <td>1973-12-31</td>\n",
       "      <td>9421.868369</td>\n",
       "      <td>0.0</td>\n",
       "      <td>69.98</td>\n",
       "      <td>69.98</td>\n",
       "    </tr>\n",
       "    <tr>\n",
       "      <th>49920</th>\n",
       "      <td>Ukiah</td>\n",
       "      <td>2001-12-15</td>\n",
       "      <td>8101.500452</td>\n",
       "      <td>32.0</td>\n",
       "      <td>100.94</td>\n",
       "      <td>68.94</td>\n",
       "    </tr>\n",
       "    <tr>\n",
       "      <th>63663</th>\n",
       "      <td>Calaveras</td>\n",
       "      <td>2008-01-05</td>\n",
       "      <td>9483.063229</td>\n",
       "      <td>32.0</td>\n",
       "      <td>-32.08</td>\n",
       "      <td>64.08</td>\n",
       "    </tr>\n",
       "    <tr>\n",
       "      <th>60926</th>\n",
       "      <td>Calaveras</td>\n",
       "      <td>2006-12-30</td>\n",
       "      <td>9483.063229</td>\n",
       "      <td>30.0</td>\n",
       "      <td>-32.08</td>\n",
       "      <td>62.08</td>\n",
       "    </tr>\n",
       "    <tr>\n",
       "      <th>33794</th>\n",
       "      <td>St. Augustine</td>\n",
       "      <td>1991-12-14</td>\n",
       "      <td>5928.604728</td>\n",
       "      <td>0.0</td>\n",
       "      <td>62.06</td>\n",
       "      <td>62.06</td>\n",
       "    </tr>\n",
       "    <tr>\n",
       "      <th>57732</th>\n",
       "      <td>Tillamook Bay</td>\n",
       "      <td>2004-12-18</td>\n",
       "      <td>9130.810342</td>\n",
       "      <td>40.0</td>\n",
       "      <td>102.02</td>\n",
       "      <td>62.02</td>\n",
       "    </tr>\n",
       "    <tr>\n",
       "      <th>75080</th>\n",
       "      <td>Elsinore</td>\n",
       "      <td>2011-01-02</td>\n",
       "      <td>7544.643135</td>\n",
       "      <td>26.0</td>\n",
       "      <td>87.08</td>\n",
       "      <td>61.08</td>\n",
       "    </tr>\n",
       "    <tr>\n",
       "      <th>63355</th>\n",
       "      <td>Holcombe</td>\n",
       "      <td>2006-12-15</td>\n",
       "      <td>8048.504030</td>\n",
       "      <td>86.0</td>\n",
       "      <td>28.04</td>\n",
       "      <td>57.96</td>\n",
       "    </tr>\n",
       "    <tr>\n",
       "      <th>75193</th>\n",
       "      <td>San Diego</td>\n",
       "      <td>2010-12-18</td>\n",
       "      <td>8959.546693</td>\n",
       "      <td>59.0</td>\n",
       "      <td>1.22</td>\n",
       "      <td>57.78</td>\n",
       "    </tr>\n",
       "    <tr>\n",
       "      <th>22044</th>\n",
       "      <td>New Orleans</td>\n",
       "      <td>1982-12-26</td>\n",
       "      <td>7356.330152</td>\n",
       "      <td>7.0</td>\n",
       "      <td>62.06</td>\n",
       "      <td>55.06</td>\n",
       "    </tr>\n",
       "    <tr>\n",
       "      <th>43874</th>\n",
       "      <td>Texarkana</td>\n",
       "      <td>1998-01-03</td>\n",
       "      <td>5437.838881</td>\n",
       "      <td>0.0</td>\n",
       "      <td>50.00</td>\n",
       "      <td>50.00</td>\n",
       "    </tr>\n",
       "    <tr>\n",
       "      <th>65361</th>\n",
       "      <td>Highlands Plateau</td>\n",
       "      <td>2007-12-14</td>\n",
       "      <td>3929.359878</td>\n",
       "      <td>28.0</td>\n",
       "      <td>77.00</td>\n",
       "      <td>49.00</td>\n",
       "    </tr>\n",
       "    <tr>\n",
       "      <th>78310</th>\n",
       "      <td>Galveston</td>\n",
       "      <td>2010-12-14</td>\n",
       "      <td>7132.066685</td>\n",
       "      <td>0.0</td>\n",
       "      <td>48.02</td>\n",
       "      <td>48.02</td>\n",
       "    </tr>\n",
       "    <tr>\n",
       "      <th>7708</th>\n",
       "      <td>Binghamton</td>\n",
       "      <td>1970-01-01</td>\n",
       "      <td>9252.272276</td>\n",
       "      <td>-50.0</td>\n",
       "      <td>-2.92</td>\n",
       "      <td>47.08</td>\n",
       "    </tr>\n",
       "  </tbody>\n",
       "</table>\n",
       "</div>"
      ],
      "text/plain": [
       "               circle_name  count_date     distance  min_temp  \\\n",
       "55754  Chincoteague N.W.R.  2003-12-28  4046.893371      30.0   \n",
       "79406               Malibu  2011-12-18  7076.027897      45.0   \n",
       "63823    Santa Cruz Island  2007-12-17  9573.838063      22.0   \n",
       "51061              Sisters  2001-12-16  3854.408652      22.0   \n",
       "63679      Crystal Springs  2007-12-15  7299.333140      42.0   \n",
       "60942      Crystal Springs  2006-12-16  7299.333140      38.0   \n",
       "11463       Kaua'i: Kapa'a  1973-12-31  9421.868369       0.0   \n",
       "49920                Ukiah  2001-12-15  8101.500452      32.0   \n",
       "63663            Calaveras  2008-01-05  9483.063229      32.0   \n",
       "60926            Calaveras  2006-12-30  9483.063229      30.0   \n",
       "33794        St. Augustine  1991-12-14  5928.604728       0.0   \n",
       "57732        Tillamook Bay  2004-12-18  9130.810342      40.0   \n",
       "75080             Elsinore  2011-01-02  7544.643135      26.0   \n",
       "63355             Holcombe  2006-12-15  8048.504030      86.0   \n",
       "75193            San Diego  2010-12-18  8959.546693      59.0   \n",
       "22044          New Orleans  1982-12-26  7356.330152       7.0   \n",
       "43874            Texarkana  1998-01-03  5437.838881       0.0   \n",
       "65361    Highlands Plateau  2007-12-14  3929.359878      28.0   \n",
       "78310            Galveston  2010-12-14  7132.066685       0.0   \n",
       "7708            Binghamton  1970-01-01  9252.272276     -50.0   \n",
       "\n",
       "       noaa_tmin_value  tmin_diff_abs  \n",
       "55754           113.00          83.00  \n",
       "79406           -32.08          77.08  \n",
       "63823           -54.94          76.94  \n",
       "51061            98.06          76.06  \n",
       "63679           -32.08          74.08  \n",
       "60942           -32.08          70.08  \n",
       "11463            69.98          69.98  \n",
       "49920           100.94          68.94  \n",
       "63663           -32.08          64.08  \n",
       "60926           -32.08          62.08  \n",
       "33794            62.06          62.06  \n",
       "57732           102.02          62.02  \n",
       "75080            87.08          61.08  \n",
       "63355            28.04          57.96  \n",
       "75193             1.22          57.78  \n",
       "22044            62.06          55.06  \n",
       "43874            50.00          50.00  \n",
       "65361            77.00          49.00  \n",
       "78310            48.02          48.02  \n",
       "7708             -2.92          47.08  "
      ]
     },
     "execution_count": 19,
     "metadata": {},
     "output_type": "execute_result"
    }
   ],
   "source": [
    "df_paired_10k.loc[(df_paired_10k.loc[:, 'tmin_diff_abs'].nlargest(20)).index,\n",
    "                  ['circle_name', 'count_date', 'distance', 'min_temp', 'noaa_tmin_value', 'tmin_diff_abs']]"
   ]
  },
  {
   "cell_type": "markdown",
   "metadata": {},
   "source": [
    "Calculate z-scores:"
   ]
  },
  {
   "cell_type": "code",
   "execution_count": 20,
   "metadata": {},
   "outputs": [
    {
     "name": "stderr",
     "output_type": "stream",
     "text": [
      "c:\\users\\ijd50\\appdata\\local\\programs\\python\\python37-32\\lib\\site-packages\\pandas\\core\\indexing.py:376: SettingWithCopyWarning:\n",
      "\n",
      "\n",
      "A value is trying to be set on a copy of a slice from a DataFrame.\n",
      "Try using .loc[row_indexer,col_indexer] = value instead\n",
      "\n",
      "See the caveats in the documentation: http://pandas.pydata.org/pandas-docs/stable/user_guide/indexing.html#returning-a-view-versus-a-copy\n",
      "\n",
      "c:\\users\\ijd50\\appdata\\local\\programs\\python\\python37-32\\lib\\site-packages\\pandas\\core\\indexing.py:494: SettingWithCopyWarning:\n",
      "\n",
      "\n",
      "A value is trying to be set on a copy of a slice from a DataFrame.\n",
      "Try using .loc[row_indexer,col_indexer] = value instead\n",
      "\n",
      "See the caveats in the documentation: http://pandas.pydata.org/pandas-docs/stable/user_guide/indexing.html#returning-a-view-versus-a-copy\n",
      "\n"
     ]
    }
   ],
   "source": [
    "df_paired_10k.loc[:, 'tmin_diff_z'] = stats.zscore(df_paired_10k.loc[:, 'tmin_diff_abs'], nan_policy='omit')\n",
    "df_paired_10k.loc[:, 'tmax_diff_z'] = stats.zscore(df_paired_10k.loc[:, 'tmax_diff_abs'], nan_policy='omit')"
   ]
  },
  {
   "cell_type": "markdown",
   "metadata": {},
   "source": [
    "Histogram of z-scores for tmin:"
   ]
  },
  {
   "cell_type": "code",
   "execution_count": 21,
   "metadata": {},
   "outputs": [
    {
     "data": {
      "text/plain": [
       "<matplotlib.axes._subplots.AxesSubplot at 0x10197ab0>"
      ]
     },
     "execution_count": 21,
     "metadata": {},
     "output_type": "execute_result"
    },
    {
     "data": {
      "image/png": "[encoded data removed]",
      "text/plain": [
       "<Figure size 432x288 with 1 Axes>"
      ]
     },
     "metadata": {
      "needs_background": "light"
     },
     "output_type": "display_data"
    }
   ],
   "source": [
    "df_paired_10k.loc[:, 'tmin_diff_z'].plot.hist(bins=100)"
   ]
  },
  {
   "cell_type": "markdown",
   "metadata": {},
   "source": [
    "Eliminate outliers (z > 2.96):"
   ]
  },
  {
   "cell_type": "code",
   "execution_count": 22,
   "metadata": {},
   "outputs": [
    {
     "name": "stdout",
     "output_type": "stream",
     "text": [
      "Rows in 10km temp-screened dataset: 55374\n",
      "Rows in no outlier dataset: 29281\n"
     ]
    }
   ],
   "source": [
    "df_paired_noout = df_paired_10k.loc[((df_paired_10k.loc[:, 'tmin_diff_z'].abs() < 2.96) &\n",
    "                                     (df_paired_10k.loc[:, 'tmax_diff_z'].abs() < 2.96))]\n",
    "\n",
    "print('Rows in 10km temp-screened dataset:', df_paired_10k.index.size)\n",
    "print('Rows in no outlier dataset:', df_paired_noout.index.size)"
   ]
  },
  {
   "cell_type": "markdown",
   "metadata": {},
   "source": [
    "Show box & whisker plots again:"
   ]
  },
  {
   "cell_type": "code",
   "execution_count": 23,
   "metadata": {},
   "outputs": [
    {
     "data": {
      "text/plain": [
       "<matplotlib.axes._subplots.AxesSubplot at 0xff018b0>"
      ]
     },
     "execution_count": 23,
     "metadata": {},
     "output_type": "execute_result"
    },
    {
     "data": {
      "image/png": "[encoded data removed]",
      "text/plain": [
       "<Figure size 432x288 with 1 Axes>"
      ]
     },
     "metadata": {
      "needs_background": "light"
     },
     "output_type": "display_data"
    }
   ],
   "source": [
    "df_paired_noout.boxplot(column=['tmin_diff_abs', 'tmax_diff_abs'])"
   ]
  },
  {
   "cell_type": "markdown",
   "metadata": {},
   "source": [
    "## Counting:"
   ]
  },
  {
   "cell_type": "code",
   "execution_count": 24,
   "metadata": {},
   "outputs": [
    {
     "name": "stdout",
     "output_type": "stream",
     "text": [
      "Number of unique NOAA stations: 11652\n"
     ]
    }
   ],
   "source": [
    "df_paired.loc[:, 'id'].value_counts()\n",
    "station_list = df_paired.loc[:, 'id'].unique()\n",
    "print('Number of unique NOAA stations:', len(station_list))"
   ]
  },
  {
   "cell_type": "code",
   "execution_count": 25,
   "metadata": {},
   "outputs": [
    {
     "name": "stdout",
     "output_type": "stream",
     "text": [
      "Total number of rows in the dataset:\n",
      "\n",
      "Original dataset: 109390\n",
      "Circle-to-NOAA distance under 10km: 55374\n",
      "Outliers removed based on temperature: 29281\n"
     ]
    }
   ],
   "source": [
    "print('Total number of rows in the dataset:\\n')\n",
    "print('Original dataset:', df_paired.index.size)\n",
    "print('Circle-to-NOAA distance under 10km:', df_paired_10k.index.size)\n",
    "print('Outliers removed based on temperature:', df_paired_noout.index.size)"
   ]
  },
  {
   "cell_type": "markdown",
   "metadata": {},
   "source": [
    "How many records have CBC data but not NOAA data?"
   ]
  },
  {
   "cell_type": "code",
   "execution_count": 26,
   "metadata": {},
   "outputs": [
    {
     "name": "stdout",
     "output_type": "stream",
     "text": [
      "tmin: 5929\n",
      "tmax: 5942\n",
      "precipitation: 63874\n"
     ]
    }
   ],
   "source": [
    "print('tmin:', df_paired.loc[pd.isnull(df_paired.loc[:, 'min_temp']) &\n",
    "                             pd.isna(df_paired.loc[:, 'noaa_tmin_value'])].index.size)\n",
    "print('tmax:', df_paired.loc[pd.isnull(df_paired.loc[:, 'max_temp']) &\n",
    "                             pd.isna(df_paired.loc[:, 'noaa_tmax_value'])].index.size)\n",
    "print('precipitation:', df_paired.loc[(df_paired.loc[:, 'cbc_is_prec'] == True) &\n",
    "                             (df_paired.loc[:, 'precipitation_value'] == 0)].index.size)"
   ]
  },
  {
   "cell_type": "markdown",
   "metadata": {},
   "source": [
    "How many states are included in the CBC counts?"
   ]
  },
  {
   "cell_type": "code",
   "execution_count": 27,
   "metadata": {},
   "outputs": [
    {
     "name": "stdout",
     "output_type": "stream",
     "text": [
      "['US-CA' 'US-CO' 'US-CT' 'US-IL' 'US-LA' 'US-MA' 'US-MO' 'US-NJ' 'US-NY'\n",
      " 'US-OH' 'US-PA' 'US-WI' 'US-DC' 'US-RI' 'US-IN' 'US-KY' 'US-MI' 'US-NC'\n",
      " 'US-NH' 'US-NM' 'US-SC' 'US-TN' 'US-VT' 'US-FL' 'US-GA' 'US-IA' 'US-UT'\n",
      " 'US-WA' 'US-KS' 'US-VA' 'US-WV' 'US-ME' 'US-MN' 'US-SD' 'US-DE' 'US-MS'\n",
      " 'US-ID' 'US-NE' 'US-AZ' 'US-MD' 'US-AR' 'US-MT' 'US-ND' 'US-OK' 'US-TX'\n",
      " 'US-OR' 'US-AL' 'US-AK' 'US-HI' 'US-NV' 'US-WY']\n",
      "Count: 51\n",
      "\n",
      "\n",
      "Value counts:\n",
      " US-CA    9230\n",
      "US-TX    6466\n",
      "US-CO    5846\n",
      "US-NY    5400\n",
      "US-PA    4966\n",
      "US-IL    3780\n",
      "US-WI    3581\n",
      "US-NC    3501\n",
      "US-NJ    3416\n",
      "US-FL    3142\n",
      "US-OH    2900\n",
      "US-MA    2893\n",
      "US-OR    2835\n",
      "US-HI    2789\n",
      "US-MI    2565\n",
      "US-NM    2330\n",
      "US-WA    2323\n",
      "US-AZ    2304\n",
      "US-IN    2269\n",
      "US-VA    2221\n",
      "US-MN    2042\n",
      "US-TN    1921\n",
      "US-MD    1772\n",
      "US-MO    1729\n",
      "US-MT    1693\n",
      "US-UT    1611\n",
      "US-IA    1592\n",
      "US-KS    1467\n",
      "US-AK    1383\n",
      "US-WY    1307\n",
      "US-CT    1275\n",
      "US-NH    1222\n",
      "US-SC    1191\n",
      "US-AR    1098\n",
      "US-ID    1096\n",
      "US-OK    1079\n",
      "US-VT    1046\n",
      "US-ME    1012\n",
      "US-WV     953\n",
      "US-LA     923\n",
      "US-NE     860\n",
      "US-SD     847\n",
      "US-KY     844\n",
      "US-GA     840\n",
      "US-ND     823\n",
      "US-MS     751\n",
      "US-AL     711\n",
      "US-NV     625\n",
      "US-RI     435\n",
      "US-DC     340\n",
      "US-DE     145\n",
      "Name: country_state, dtype: int64\n"
     ]
    }
   ],
   "source": [
    "print(df_paired['country_state'].unique())\n",
    "print('Count:', len(df_paired['country_state'].unique()))\n",
    "print('\\n')\n",
    "print('Value counts:\\n', df_paired['country_state'].value_counts())"
   ]
  },
  {
   "cell_type": "markdown",
   "metadata": {},
   "source": [
    "Histogram of years:"
   ]
  },
  {
   "cell_type": "code",
   "execution_count": 28,
   "metadata": {},
   "outputs": [
    {
     "data": {
      "text/plain": [
       "<matplotlib.axes._subplots.AxesSubplot at 0x11ba5050>"
      ]
     },
     "execution_count": 28,
     "metadata": {},
     "output_type": "execute_result"
    },
    {
     "data": {
      "image/png": "[encoded data removed]",
      "text/plain": [
       "<Figure size 432x288 with 1 Axes>"
      ]
     },
     "metadata": {
      "needs_background": "light"
     },
     "output_type": "display_data"
    }
   ],
   "source": [
    "df_paired_noout.loc[:, 'count_year'].plot.hist(bins=100)"
   ]
  },
  {
   "cell_type": "code",
   "execution_count": 29,
   "metadata": {},
   "outputs": [
    {
     "name": "stdout",
     "output_type": "stream",
     "text": [
      "Furthest year back after screening: 1969\n"
     ]
    }
   ],
   "source": [
    "print('Furthest year back after screening:', df_paired_noout['count_year'].min())"
   ]
  },
  {
   "cell_type": "markdown",
   "metadata": {},
   "source": [
    "Histogram of years before screening:"
   ]
  },
  {
   "cell_type": "code",
   "execution_count": 30,
   "metadata": {},
   "outputs": [
    {
     "data": {
      "text/plain": [
       "<matplotlib.axes._subplots.AxesSubplot at 0x101a3cb0>"
      ]
     },
     "execution_count": 30,
     "metadata": {},
     "output_type": "execute_result"
    },
    {
     "data": {
      "image/png": "[encoded data removed]",
      "text/plain": [
       "<Figure size 432x288 with 1 Axes>"
      ]
     },
     "metadata": {
      "needs_background": "light"
     },
     "output_type": "display_data"
    }
   ],
   "source": [
    "df_paired.loc[:, 'count_year'].plot.hist(bins=100)"
   ]
  },
  {
   "cell_type": "markdown",
   "metadata": {},
   "source": [
    "Histogram of station distances:"
   ]
  },
  {
   "cell_type": "code",
   "execution_count": 31,
   "metadata": {},
   "outputs": [
    {
     "data": {
      "text/plain": [
       "<matplotlib.axes._subplots.AxesSubplot at 0x11db1950>"
      ]
     },
     "execution_count": 31,
     "metadata": {},
     "output_type": "execute_result"
    },
    {
     "data": {
      "image/png": "[encoded data removed]",
      "text/plain": [
       "<Figure size 432x288 with 1 Axes>"
      ]
     },
     "metadata": {
      "needs_background": "light"
     },
     "output_type": "display_data"
    }
   ],
   "source": [
    "df_paired_noout.loc[:, 'distance'].plot.hist(bins=100)"
   ]
  },
  {
   "cell_type": "markdown",
   "metadata": {},
   "source": [
    "Histogram of difference in elevations:"
   ]
  },
  {
   "cell_type": "code",
   "execution_count": 32,
   "metadata": {},
   "outputs": [
    {
     "data": {
      "text/plain": [
       "<matplotlib.axes._subplots.AxesSubplot at 0x11d6fb50>"
      ]
     },
     "execution_count": 32,
     "metadata": {},
     "output_type": "execute_result"
    },
    {
     "data": {
      "image/png": "[encoded data removed]",
      "text/plain": [
       "<Figure size 432x288 with 1 Axes>"
      ]
     },
     "metadata": {
      "needs_background": "light"
     },
     "output_type": "display_data"
    }
   ],
   "source": [
    "df_paired_noout.loc[:, 'elev_diff'].plot.hist(bins=100)"
   ]
  },
  {
   "cell_type": "markdown",
   "metadata": {},
   "source": [
    "Scatter plot of station distance with mean temperature difference:"
   ]
  },
  {
   "cell_type": "code",
   "execution_count": 33,
   "metadata": {},
   "outputs": [
    {
     "data": {
      "text/plain": [
       "<matplotlib.axes._subplots.AxesSubplot at 0x1204ab90>"
      ]
     },
     "execution_count": 33,
     "metadata": {},
     "output_type": "execute_result"
    },
    {
     "data": {
      "image/png": "[encoded data removed]",
      "text/plain": [
       "<Figure size 432x288 with 1 Axes>"
      ]
     },
     "metadata": {
      "needs_background": "light"
     },
     "output_type": "display_data"
    }
   ],
   "source": [
    "df_paired_noout.plot.scatter(x='distance',\n",
    "                             y='tmin_diff_abs',\n",
    "                             s=1)"
   ]
  },
  {
   "cell_type": "code",
   "execution_count": 34,
   "metadata": {},
   "outputs": [
    {
     "data": {
      "text/plain": [
       "<matplotlib.axes._subplots.AxesSubplot at 0x171855b0>"
      ]
     },
     "execution_count": 34,
     "metadata": {},
     "output_type": "execute_result"
    },
    {
     "data": {
      "image/png": "[encoded data removed]",
      "text/plain": [
       "<Figure size 432x288 with 1 Axes>"
      ]
     },
     "metadata": {
      "needs_background": "light"
     },
     "output_type": "display_data"
    }
   ],
   "source": [
    "df_paired_noout.plot.scatter(x='distance',\n",
    "                             y='tmax_diff_abs',\n",
    "                             s=1)"
   ]
  },
  {
   "cell_type": "markdown",
   "metadata": {},
   "source": [
    "### Best Matching Data"
   ]
  },
  {
   "cell_type": "markdown",
   "metadata": {},
   "source": [
    "Smallest differences: (tmin)"
   ]
  },
  {
   "cell_type": "code",
   "execution_count": 35,
   "metadata": {},
   "outputs": [
    {
     "data": {
      "text/html": [
       "<div>\n",
       "<style scoped>\n",
       "    .dataframe tbody tr th:only-of-type {\n",
       "        vertical-align: middle;\n",
       "    }\n",
       "\n",
       "    .dataframe tbody tr th {\n",
       "        vertical-align: top;\n",
       "    }\n",
       "\n",
       "    .dataframe thead th {\n",
       "        text-align: right;\n",
       "    }\n",
       "</style>\n",
       "<table border=\"1\" class=\"dataframe\">\n",
       "  <thead>\n",
       "    <tr style=\"text-align: right;\">\n",
       "      <th></th>\n",
       "      <th>circle_name</th>\n",
       "      <th>count_date</th>\n",
       "      <th>distance</th>\n",
       "      <th>elev_diff</th>\n",
       "      <th>min_temp</th>\n",
       "      <th>noaa_tmin_value</th>\n",
       "      <th>tmin_diff_abs</th>\n",
       "    </tr>\n",
       "  </thead>\n",
       "  <tbody>\n",
       "    <tr>\n",
       "      <th>7107</th>\n",
       "      <td>Chaco Canyon N.M.</td>\n",
       "      <td>1969-01-01</td>\n",
       "      <td>1087.363882</td>\n",
       "      <td>74.56</td>\n",
       "      <td>-4.0</td>\n",
       "      <td>-4.0</td>\n",
       "      <td>0.0</td>\n",
       "    </tr>\n",
       "    <tr>\n",
       "      <th>7271</th>\n",
       "      <td>Santa Rosa</td>\n",
       "      <td>1969-12-21</td>\n",
       "      <td>1996.855621</td>\n",
       "      <td>0.13</td>\n",
       "      <td>50.0</td>\n",
       "      <td>50.0</td>\n",
       "      <td>0.0</td>\n",
       "    </tr>\n",
       "    <tr>\n",
       "      <th>7307</th>\n",
       "      <td>Litchfield Hills</td>\n",
       "      <td>1969-12-21</td>\n",
       "      <td>5537.718305</td>\n",
       "      <td>27.87</td>\n",
       "      <td>5.0</td>\n",
       "      <td>5.0</td>\n",
       "      <td>0.0</td>\n",
       "    </tr>\n",
       "    <tr>\n",
       "      <th>7715</th>\n",
       "      <td>Elmira</td>\n",
       "      <td>1970-01-01</td>\n",
       "      <td>4466.549054</td>\n",
       "      <td>4.34</td>\n",
       "      <td>-4.0</td>\n",
       "      <td>-4.0</td>\n",
       "      <td>0.0</td>\n",
       "    </tr>\n",
       "    <tr>\n",
       "      <th>7789</th>\n",
       "      <td>Lakewood</td>\n",
       "      <td>1969-12-21</td>\n",
       "      <td>5245.357885</td>\n",
       "      <td>10.20</td>\n",
       "      <td>14.0</td>\n",
       "      <td>14.0</td>\n",
       "      <td>0.0</td>\n",
       "    </tr>\n",
       "    <tr>\n",
       "      <th>7955</th>\n",
       "      <td>Fort Worth</td>\n",
       "      <td>1969-12-27</td>\n",
       "      <td>2012.241845</td>\n",
       "      <td>27.40</td>\n",
       "      <td>50.0</td>\n",
       "      <td>50.0</td>\n",
       "      <td>0.0</td>\n",
       "    </tr>\n",
       "    <tr>\n",
       "      <th>7990</th>\n",
       "      <td>Kanab</td>\n",
       "      <td>1969-12-21</td>\n",
       "      <td>1801.622106</td>\n",
       "      <td>16.17</td>\n",
       "      <td>32.0</td>\n",
       "      <td>32.0</td>\n",
       "      <td>0.0</td>\n",
       "    </tr>\n",
       "    <tr>\n",
       "      <th>8266</th>\n",
       "      <td>Grand Junction</td>\n",
       "      <td>1970-12-27</td>\n",
       "      <td>6063.531446</td>\n",
       "      <td>80.08</td>\n",
       "      <td>14.0</td>\n",
       "      <td>14.0</td>\n",
       "      <td>0.0</td>\n",
       "    </tr>\n",
       "    <tr>\n",
       "      <th>8590</th>\n",
       "      <td>Stevensville</td>\n",
       "      <td>1970-12-26</td>\n",
       "      <td>109.268188</td>\n",
       "      <td>16.39</td>\n",
       "      <td>5.0</td>\n",
       "      <td>5.0</td>\n",
       "      <td>0.0</td>\n",
       "    </tr>\n",
       "    <tr>\n",
       "      <th>9114</th>\n",
       "      <td>Little Rock</td>\n",
       "      <td>1972-01-02</td>\n",
       "      <td>5043.492521</td>\n",
       "      <td>2.52</td>\n",
       "      <td>41.0</td>\n",
       "      <td>41.0</td>\n",
       "      <td>0.0</td>\n",
       "    </tr>\n",
       "    <tr>\n",
       "      <th>9127</th>\n",
       "      <td>Nogales</td>\n",
       "      <td>1971-12-18</td>\n",
       "      <td>3703.837208</td>\n",
       "      <td>52.97</td>\n",
       "      <td>41.0</td>\n",
       "      <td>41.0</td>\n",
       "      <td>0.0</td>\n",
       "    </tr>\n",
       "    <tr>\n",
       "      <th>9741</th>\n",
       "      <td>Mason Valley</td>\n",
       "      <td>1971-12-30</td>\n",
       "      <td>800.206871</td>\n",
       "      <td>0.34</td>\n",
       "      <td>14.0</td>\n",
       "      <td>14.0</td>\n",
       "      <td>0.0</td>\n",
       "    </tr>\n",
       "    <tr>\n",
       "      <th>10109</th>\n",
       "      <td>Milwaukee</td>\n",
       "      <td>1971-12-26</td>\n",
       "      <td>1932.891240</td>\n",
       "      <td>1.34</td>\n",
       "      <td>32.0</td>\n",
       "      <td>32.0</td>\n",
       "      <td>0.0</td>\n",
       "    </tr>\n",
       "    <tr>\n",
       "      <th>17896</th>\n",
       "      <td>Baraboo</td>\n",
       "      <td>1978-12-30</td>\n",
       "      <td>3553.941267</td>\n",
       "      <td>80.82</td>\n",
       "      <td>5.0</td>\n",
       "      <td>5.0</td>\n",
       "      <td>0.0</td>\n",
       "    </tr>\n",
       "    <tr>\n",
       "      <th>17972</th>\n",
       "      <td>Valdez</td>\n",
       "      <td>1979-12-15</td>\n",
       "      <td>4809.735218</td>\n",
       "      <td>21.25</td>\n",
       "      <td>5.0</td>\n",
       "      <td>5.0</td>\n",
       "      <td>0.0</td>\n",
       "    </tr>\n",
       "    <tr>\n",
       "      <th>18093</th>\n",
       "      <td>Red Bluff</td>\n",
       "      <td>1979-12-15</td>\n",
       "      <td>7124.331284</td>\n",
       "      <td>29.74</td>\n",
       "      <td>32.0</td>\n",
       "      <td>32.0</td>\n",
       "      <td>0.0</td>\n",
       "    </tr>\n",
       "    <tr>\n",
       "      <th>18174</th>\n",
       "      <td>Middletown</td>\n",
       "      <td>1979-12-29</td>\n",
       "      <td>3933.136077</td>\n",
       "      <td>8.18</td>\n",
       "      <td>32.0</td>\n",
       "      <td>32.0</td>\n",
       "      <td>0.0</td>\n",
       "    </tr>\n",
       "    <tr>\n",
       "      <th>18182</th>\n",
       "      <td>Key Largo-Plantation Key</td>\n",
       "      <td>1979-12-28</td>\n",
       "      <td>7766.051936</td>\n",
       "      <td>2.10</td>\n",
       "      <td>59.0</td>\n",
       "      <td>59.0</td>\n",
       "      <td>0.0</td>\n",
       "    </tr>\n",
       "    <tr>\n",
       "      <th>18193</th>\n",
       "      <td>Perdido Bay</td>\n",
       "      <td>1979-12-16</td>\n",
       "      <td>5146.470286</td>\n",
       "      <td>0.87</td>\n",
       "      <td>50.0</td>\n",
       "      <td>50.0</td>\n",
       "      <td>0.0</td>\n",
       "    </tr>\n",
       "    <tr>\n",
       "      <th>18197</th>\n",
       "      <td>Tampa</td>\n",
       "      <td>1979-12-29</td>\n",
       "      <td>9612.113654</td>\n",
       "      <td>4.07</td>\n",
       "      <td>50.0</td>\n",
       "      <td>50.0</td>\n",
       "      <td>0.0</td>\n",
       "    </tr>\n",
       "  </tbody>\n",
       "</table>\n",
       "</div>"
      ],
      "text/plain": [
       "                    circle_name  count_date     distance  elev_diff  min_temp  \\\n",
       "7107          Chaco Canyon N.M.  1969-01-01  1087.363882      74.56      -4.0   \n",
       "7271                 Santa Rosa  1969-12-21  1996.855621       0.13      50.0   \n",
       "7307           Litchfield Hills  1969-12-21  5537.718305      27.87       5.0   \n",
       "7715                     Elmira  1970-01-01  4466.549054       4.34      -4.0   \n",
       "7789                   Lakewood  1969-12-21  5245.357885      10.20      14.0   \n",
       "7955                 Fort Worth  1969-12-27  2012.241845      27.40      50.0   \n",
       "7990                      Kanab  1969-12-21  1801.622106      16.17      32.0   \n",
       "8266             Grand Junction  1970-12-27  6063.531446      80.08      14.0   \n",
       "8590               Stevensville  1970-12-26   109.268188      16.39       5.0   \n",
       "9114                Little Rock  1972-01-02  5043.492521       2.52      41.0   \n",
       "9127                    Nogales  1971-12-18  3703.837208      52.97      41.0   \n",
       "9741               Mason Valley  1971-12-30   800.206871       0.34      14.0   \n",
       "10109                 Milwaukee  1971-12-26  1932.891240       1.34      32.0   \n",
       "17896                   Baraboo  1978-12-30  3553.941267      80.82       5.0   \n",
       "17972                    Valdez  1979-12-15  4809.735218      21.25       5.0   \n",
       "18093                 Red Bluff  1979-12-15  7124.331284      29.74      32.0   \n",
       "18174                Middletown  1979-12-29  3933.136077       8.18      32.0   \n",
       "18182  Key Largo-Plantation Key  1979-12-28  7766.051936       2.10      59.0   \n",
       "18193               Perdido Bay  1979-12-16  5146.470286       0.87      50.0   \n",
       "18197                     Tampa  1979-12-29  9612.113654       4.07      50.0   \n",
       "\n",
       "       noaa_tmin_value  tmin_diff_abs  \n",
       "7107              -4.0            0.0  \n",
       "7271              50.0            0.0  \n",
       "7307               5.0            0.0  \n",
       "7715              -4.0            0.0  \n",
       "7789              14.0            0.0  \n",
       "7955              50.0            0.0  \n",
       "7990              32.0            0.0  \n",
       "8266              14.0            0.0  \n",
       "8590               5.0            0.0  \n",
       "9114              41.0            0.0  \n",
       "9127              41.0            0.0  \n",
       "9741              14.0            0.0  \n",
       "10109             32.0            0.0  \n",
       "17896              5.0            0.0  \n",
       "17972              5.0            0.0  \n",
       "18093             32.0            0.0  \n",
       "18174             32.0            0.0  \n",
       "18182             59.0            0.0  \n",
       "18193             50.0            0.0  \n",
       "18197             50.0            0.0  "
      ]
     },
     "execution_count": 35,
     "metadata": {},
     "output_type": "execute_result"
    }
   ],
   "source": [
    "df_paired_noout.loc[(df_paired_noout.loc[:, 'tmin_diff_abs'].nsmallest(20)).index,\n",
    "                  ['circle_name', 'count_date', 'distance', 'elev_diff','min_temp', 'noaa_tmin_value', 'tmin_diff_abs']]"
   ]
  },
  {
   "cell_type": "markdown",
   "metadata": {},
   "source": [
    "Smallest differences: (tmax)"
   ]
  },
  {
   "cell_type": "code",
   "execution_count": 36,
   "metadata": {},
   "outputs": [
    {
     "data": {
      "text/html": [
       "<div>\n",
       "<style scoped>\n",
       "    .dataframe tbody tr th:only-of-type {\n",
       "        vertical-align: middle;\n",
       "    }\n",
       "\n",
       "    .dataframe tbody tr th {\n",
       "        vertical-align: top;\n",
       "    }\n",
       "\n",
       "    .dataframe thead th {\n",
       "        text-align: right;\n",
       "    }\n",
       "</style>\n",
       "<table border=\"1\" class=\"dataframe\">\n",
       "  <thead>\n",
       "    <tr style=\"text-align: right;\">\n",
       "      <th></th>\n",
       "      <th>circle_name</th>\n",
       "      <th>count_date</th>\n",
       "      <th>distance</th>\n",
       "      <th>elev_diff</th>\n",
       "      <th>max_temp</th>\n",
       "      <th>noaa_tmax_value</th>\n",
       "      <th>tmax_diff_abs</th>\n",
       "    </tr>\n",
       "  </thead>\n",
       "  <tbody>\n",
       "    <tr>\n",
       "      <th>7103</th>\n",
       "      <td>Des Lacs N.W.R.</td>\n",
       "      <td>1969-01-01</td>\n",
       "      <td>2279.091169</td>\n",
       "      <td>45.45</td>\n",
       "      <td>5.0</td>\n",
       "      <td>5.0</td>\n",
       "      <td>0.0</td>\n",
       "    </tr>\n",
       "    <tr>\n",
       "      <th>7105</th>\n",
       "      <td>Grand Forks-East Grand Forks</td>\n",
       "      <td>1969-01-01</td>\n",
       "      <td>4354.874073</td>\n",
       "      <td>4.71</td>\n",
       "      <td>-4.0</td>\n",
       "      <td>-4.0</td>\n",
       "      <td>0.0</td>\n",
       "    </tr>\n",
       "    <tr>\n",
       "      <th>7176</th>\n",
       "      <td>Pipe Spring N.M.</td>\n",
       "      <td>1969-12-22</td>\n",
       "      <td>41.755152</td>\n",
       "      <td>10.68</td>\n",
       "      <td>59.0</td>\n",
       "      <td>59.0</td>\n",
       "      <td>0.0</td>\n",
       "    </tr>\n",
       "    <tr>\n",
       "      <th>7215</th>\n",
       "      <td>Los Baños</td>\n",
       "      <td>1969-12-30</td>\n",
       "      <td>8890.081383</td>\n",
       "      <td>85.13</td>\n",
       "      <td>50.0</td>\n",
       "      <td>50.0</td>\n",
       "      <td>0.0</td>\n",
       "    </tr>\n",
       "    <tr>\n",
       "      <th>7388</th>\n",
       "      <td>Burlington</td>\n",
       "      <td>1969-12-28</td>\n",
       "      <td>5601.950357</td>\n",
       "      <td>8.44</td>\n",
       "      <td>32.0</td>\n",
       "      <td>32.0</td>\n",
       "      <td>0.0</td>\n",
       "    </tr>\n",
       "    <tr>\n",
       "      <th>7430</th>\n",
       "      <td>Springfield</td>\n",
       "      <td>1969-12-28</td>\n",
       "      <td>5753.726056</td>\n",
       "      <td>0.61</td>\n",
       "      <td>32.0</td>\n",
       "      <td>32.0</td>\n",
       "      <td>0.0</td>\n",
       "    </tr>\n",
       "    <tr>\n",
       "      <th>7441</th>\n",
       "      <td>Terre Haute</td>\n",
       "      <td>1969-12-29</td>\n",
       "      <td>6036.514953</td>\n",
       "      <td>5.46</td>\n",
       "      <td>32.0</td>\n",
       "      <td>32.0</td>\n",
       "      <td>0.0</td>\n",
       "    </tr>\n",
       "    <tr>\n",
       "      <th>7529</th>\n",
       "      <td>Eastport</td>\n",
       "      <td>1969-12-26</td>\n",
       "      <td>535.256614</td>\n",
       "      <td>15.60</td>\n",
       "      <td>32.0</td>\n",
       "      <td>32.0</td>\n",
       "      <td>0.0</td>\n",
       "    </tr>\n",
       "    <tr>\n",
       "      <th>7598</th>\n",
       "      <td>Natchez</td>\n",
       "      <td>1969-12-20</td>\n",
       "      <td>4774.290981</td>\n",
       "      <td>16.22</td>\n",
       "      <td>50.0</td>\n",
       "      <td>50.0</td>\n",
       "      <td>0.0</td>\n",
       "    </tr>\n",
       "    <tr>\n",
       "      <th>7913</th>\n",
       "      <td>Waubay N.W.R.</td>\n",
       "      <td>1969-12-24</td>\n",
       "      <td>21.320167</td>\n",
       "      <td>0.45</td>\n",
       "      <td>32.0</td>\n",
       "      <td>32.0</td>\n",
       "      <td>0.0</td>\n",
       "    </tr>\n",
       "    <tr>\n",
       "      <th>7950</th>\n",
       "      <td>Dallas County</td>\n",
       "      <td>1969-12-27</td>\n",
       "      <td>3692.997735</td>\n",
       "      <td>11.30</td>\n",
       "      <td>68.0</td>\n",
       "      <td>68.0</td>\n",
       "      <td>0.0</td>\n",
       "    </tr>\n",
       "    <tr>\n",
       "      <th>7986</th>\n",
       "      <td>Bear River Migratory Bird Refuge</td>\n",
       "      <td>1969-12-22</td>\n",
       "      <td>1524.221306</td>\n",
       "      <td>0.05</td>\n",
       "      <td>50.0</td>\n",
       "      <td>50.0</td>\n",
       "      <td>0.0</td>\n",
       "    </tr>\n",
       "    <tr>\n",
       "      <th>8076</th>\n",
       "      <td>Oshkosh</td>\n",
       "      <td>1969-12-20</td>\n",
       "      <td>2374.733882</td>\n",
       "      <td>7.24</td>\n",
       "      <td>23.0</td>\n",
       "      <td>23.0</td>\n",
       "      <td>0.0</td>\n",
       "    </tr>\n",
       "    <tr>\n",
       "      <th>8086</th>\n",
       "      <td>Waukesha</td>\n",
       "      <td>1969-12-28</td>\n",
       "      <td>9357.101508</td>\n",
       "      <td>26.74</td>\n",
       "      <td>32.0</td>\n",
       "      <td>32.0</td>\n",
       "      <td>0.0</td>\n",
       "    </tr>\n",
       "    <tr>\n",
       "      <th>8300</th>\n",
       "      <td>Washington</td>\n",
       "      <td>1971-01-02</td>\n",
       "      <td>8593.236645</td>\n",
       "      <td>23.85</td>\n",
       "      <td>41.0</td>\n",
       "      <td>41.0</td>\n",
       "      <td>0.0</td>\n",
       "    </tr>\n",
       "    <tr>\n",
       "      <th>8302</th>\n",
       "      <td>Washington</td>\n",
       "      <td>1971-01-02</td>\n",
       "      <td>3654.879728</td>\n",
       "      <td>43.25</td>\n",
       "      <td>41.0</td>\n",
       "      <td>41.0</td>\n",
       "      <td>0.0</td>\n",
       "    </tr>\n",
       "    <tr>\n",
       "      <th>8544</th>\n",
       "      <td>Little Falls</td>\n",
       "      <td>1970-12-22</td>\n",
       "      <td>4155.447176</td>\n",
       "      <td>3.62</td>\n",
       "      <td>23.0</td>\n",
       "      <td>23.0</td>\n",
       "      <td>0.0</td>\n",
       "    </tr>\n",
       "    <tr>\n",
       "      <th>8682</th>\n",
       "      <td>Trenton Marshes</td>\n",
       "      <td>1970-12-26</td>\n",
       "      <td>4223.652504</td>\n",
       "      <td>39.74</td>\n",
       "      <td>32.0</td>\n",
       "      <td>32.0</td>\n",
       "      <td>0.0</td>\n",
       "    </tr>\n",
       "    <tr>\n",
       "      <th>8903</th>\n",
       "      <td>Pee Dee Area</td>\n",
       "      <td>1971-01-03</td>\n",
       "      <td>3626.847470</td>\n",
       "      <td>0.54</td>\n",
       "      <td>59.0</td>\n",
       "      <td>59.0</td>\n",
       "      <td>0.0</td>\n",
       "    </tr>\n",
       "    <tr>\n",
       "      <th>9125</th>\n",
       "      <td>Lukeville</td>\n",
       "      <td>1971-12-20</td>\n",
       "      <td>4904.508646</td>\n",
       "      <td>35.98</td>\n",
       "      <td>68.0</td>\n",
       "      <td>68.0</td>\n",
       "      <td>0.0</td>\n",
       "    </tr>\n",
       "  </tbody>\n",
       "</table>\n",
       "</div>"
      ],
      "text/plain": [
       "                           circle_name  count_date     distance  elev_diff  \\\n",
       "7103                   Des Lacs N.W.R.  1969-01-01  2279.091169      45.45   \n",
       "7105      Grand Forks-East Grand Forks  1969-01-01  4354.874073       4.71   \n",
       "7176                  Pipe Spring N.M.  1969-12-22    41.755152      10.68   \n",
       "7215                         Los Baños  1969-12-30  8890.081383      85.13   \n",
       "7388                        Burlington  1969-12-28  5601.950357       8.44   \n",
       "7430                       Springfield  1969-12-28  5753.726056       0.61   \n",
       "7441                       Terre Haute  1969-12-29  6036.514953       5.46   \n",
       "7529                          Eastport  1969-12-26   535.256614      15.60   \n",
       "7598                           Natchez  1969-12-20  4774.290981      16.22   \n",
       "7913                     Waubay N.W.R.  1969-12-24    21.320167       0.45   \n",
       "7950                     Dallas County  1969-12-27  3692.997735      11.30   \n",
       "7986  Bear River Migratory Bird Refuge  1969-12-22  1524.221306       0.05   \n",
       "8076                           Oshkosh  1969-12-20  2374.733882       7.24   \n",
       "8086                          Waukesha  1969-12-28  9357.101508      26.74   \n",
       "8300                        Washington  1971-01-02  8593.236645      23.85   \n",
       "8302                        Washington  1971-01-02  3654.879728      43.25   \n",
       "8544                      Little Falls  1970-12-22  4155.447176       3.62   \n",
       "8682                   Trenton Marshes  1970-12-26  4223.652504      39.74   \n",
       "8903                      Pee Dee Area  1971-01-03  3626.847470       0.54   \n",
       "9125                         Lukeville  1971-12-20  4904.508646      35.98   \n",
       "\n",
       "      max_temp  noaa_tmax_value  tmax_diff_abs  \n",
       "7103       5.0              5.0            0.0  \n",
       "7105      -4.0             -4.0            0.0  \n",
       "7176      59.0             59.0            0.0  \n",
       "7215      50.0             50.0            0.0  \n",
       "7388      32.0             32.0            0.0  \n",
       "7430      32.0             32.0            0.0  \n",
       "7441      32.0             32.0            0.0  \n",
       "7529      32.0             32.0            0.0  \n",
       "7598      50.0             50.0            0.0  \n",
       "7913      32.0             32.0            0.0  \n",
       "7950      68.0             68.0            0.0  \n",
       "7986      50.0             50.0            0.0  \n",
       "8076      23.0             23.0            0.0  \n",
       "8086      32.0             32.0            0.0  \n",
       "8300      41.0             41.0            0.0  \n",
       "8302      41.0             41.0            0.0  \n",
       "8544      23.0             23.0            0.0  \n",
       "8682      32.0             32.0            0.0  \n",
       "8903      59.0             59.0            0.0  \n",
       "9125      68.0             68.0            0.0  "
      ]
     },
     "execution_count": 36,
     "metadata": {},
     "output_type": "execute_result"
    }
   ],
   "source": [
    "df_paired_noout.loc[(df_paired_noout.loc[:, 'tmax_diff_abs'].nsmallest(20)).index,\n",
    "                  ['circle_name', 'count_date', 'distance', 'elev_diff','max_temp', 'noaa_tmax_value', 'tmax_diff_abs']]"
   ]
  },
  {
   "cell_type": "markdown",
   "metadata": {},
   "source": [
    "How many rows contain temperature difference off less than 1 degree?"
   ]
  },
  {
   "cell_type": "code",
   "execution_count": 37,
   "metadata": {},
   "outputs": [
    {
     "name": "stdout",
     "output_type": "stream",
     "text": [
      "tmax: 6643\n",
      "tmin: 5864\n"
     ]
    }
   ],
   "source": [
    "print('tmax:', df_paired_noout.loc[df_paired_noout['tmax_diff_abs'] < 1.0].index.size)\n",
    "print('tmin:', df_paired_noout.loc[df_paired_noout['tmin_diff_abs'] < 1.0].index.size)\n",
    "df_paired_noout_1deg = df_paired_noout.loc[df_paired_noout['tmax_diff_abs'] < 1.0]"
   ]
  },
  {
   "cell_type": "markdown",
   "metadata": {},
   "source": [
    "For rows with less than 1 deg difference (tmax), look at the distribution of years. Increasing trend probably due to more volunteers over the years."
   ]
  },
  {
   "cell_type": "code",
   "execution_count": 38,
   "metadata": {},
   "outputs": [
    {
     "data": {
      "text/plain": [
       "<matplotlib.axes._subplots.AxesSubplot at 0x168bb390>"
      ]
     },
     "execution_count": 38,
     "metadata": {},
     "output_type": "execute_result"
    },
    {
     "data": {
      "image/png": "[encoded data removed]",
      "text/plain": [
       "<Figure size 432x288 with 1 Axes>"
      ]
     },
     "metadata": {
      "needs_background": "light"
     },
     "output_type": "display_data"
    }
   ],
   "source": [
    "df_paired_noout_1deg.loc[:, 'count_year'].plot.hist(bins=100)"
   ]
  },
  {
   "cell_type": "markdown",
   "metadata": {},
   "source": [
    "Look at distribution of latitudes:"
   ]
  },
  {
   "cell_type": "code",
   "execution_count": 39,
   "metadata": {},
   "outputs": [
    {
     "data": {
      "text/plain": [
       "<matplotlib.axes._subplots.AxesSubplot at 0x1673a230>"
      ]
     },
     "execution_count": 39,
     "metadata": {},
     "output_type": "execute_result"
    },
    {
     "data": {
      "image/png": "[encoded data removed]",
      "text/plain": [
       "<Figure size 432x288 with 1 Axes>"
      ]
     },
     "metadata": {
      "needs_background": "light"
     },
     "output_type": "display_data"
    }
   ],
   "source": [
    "df_paired_noout_1deg.loc[:, 'lat'].plot.hist(bins=100)"
   ]
  },
  {
   "cell_type": "code",
   "execution_count": 40,
   "metadata": {},
   "outputs": [
    {
     "data": {
      "text/plain": [
       "<matplotlib.axes._subplots.AxesSubplot at 0x1680fcb0>"
      ]
     },
     "execution_count": 40,
     "metadata": {},
     "output_type": "execute_result"
    },
    {
     "data": {
      "image/png": "[encoded data removed]",
      "text/plain": [
       "<Figure size 432x288 with 1 Axes>"
      ]
     },
     "metadata": {
      "needs_background": "light"
     },
     "output_type": "display_data"
    }
   ],
   "source": [
    "df_paired.loc[:, 'lat'].plot.hist(bins=100)"
   ]
  },
  {
   "cell_type": "markdown",
   "metadata": {},
   "source": [
    "Distribution of longitudes:"
   ]
  },
  {
   "cell_type": "code",
   "execution_count": 41,
   "metadata": {},
   "outputs": [
    {
     "data": {
      "text/plain": [
       "<matplotlib.axes._subplots.AxesSubplot at 0x16746790>"
      ]
     },
     "execution_count": 41,
     "metadata": {},
     "output_type": "execute_result"
    },
    {
     "data": {
      "image/png": "[encoded data removed]",
      "text/plain": [
       "<Figure size 432x288 with 1 Axes>"
      ]
     },
     "metadata": {
      "needs_background": "light"
     },
     "output_type": "display_data"
    }
   ],
   "source": [
    "df_paired_noout_1deg.loc[df_paired_noout_1deg['lon'] < 0.0, 'lon'].plot.hist(bins=100)"
   ]
  },
  {
   "cell_type": "code",
   "execution_count": 42,
   "metadata": {},
   "outputs": [
    {
     "data": {
      "text/plain": [
       "<matplotlib.axes._subplots.AxesSubplot at 0x16d252b0>"
      ]
     },
     "execution_count": 42,
     "metadata": {},
     "output_type": "execute_result"
    },
    {
     "data": {
      "image/png": "[encoded data removed]",
      "text/plain": [
       "<Figure size 432x288 with 1 Axes>"
      ]
     },
     "metadata": {
      "needs_background": "light"
     },
     "output_type": "display_data"
    }
   ],
   "source": [
    "df_paired.loc[df_paired['lon'] < 0.0, 'lon'].plot.hist(bins=100)"
   ]
  },
  {
   "cell_type": "markdown",
   "metadata": {},
   "source": [
    "For smallest temperature differences, look at distance distribution. Still a uniform distribution."
   ]
  },
  {
   "cell_type": "code",
   "execution_count": 43,
   "metadata": {},
   "outputs": [
    {
     "data": {
      "text/plain": [
       "<matplotlib.axes._subplots.AxesSubplot at 0x172a6610>"
      ]
     },
     "execution_count": 43,
     "metadata": {},
     "output_type": "execute_result"
    },
    {
     "data": {
      "image/png": "[encoded data removed]",
      "text/plain": [
       "<Figure size 432x288 with 1 Axes>"
      ]
     },
     "metadata": {
      "needs_background": "light"
     },
     "output_type": "display_data"
    }
   ],
   "source": [
    "df_paired_noout_1deg.loc[:, 'distance'].plot.hist(bins=100)"
   ]
  },
  {
   "cell_type": "markdown",
   "metadata": {},
   "source": [
    "For smallest temperature differences, look at elevation difference distribution."
   ]
  },
  {
   "cell_type": "code",
   "execution_count": 44,
   "metadata": {},
   "outputs": [
    {
     "data": {
      "text/plain": [
       "<matplotlib.axes._subplots.AxesSubplot at 0x1726e8f0>"
      ]
     },
     "execution_count": 44,
     "metadata": {},
     "output_type": "execute_result"
    },
    {
     "data": {
      "image/png": "[encoded data removed]",
      "text/plain": [
       "<Figure size 432x288 with 1 Axes>"
      ]
     },
     "metadata": {
      "needs_background": "light"
     },
     "output_type": "display_data"
    }
   ],
   "source": [
    "df_paired_noout_1deg.loc[:, 'elev_diff'].plot.hist(bins=100)"
   ]
  },
  {
   "cell_type": "markdown",
   "metadata": {},
   "source": [
    "Less than 500 m elevation difference:"
   ]
  },
  {
   "cell_type": "code",
   "execution_count": 45,
   "metadata": {},
   "outputs": [
    {
     "data": {
      "text/plain": [
       "<matplotlib.axes._subplots.AxesSubplot at 0x16f13530>"
      ]
     },
     "execution_count": 45,
     "metadata": {},
     "output_type": "execute_result"
    },
    {
     "data": {
      "image/png": "[encoded data removed]",
      "text/plain": [
       "<Figure size 432x288 with 1 Axes>"
      ]
     },
     "metadata": {
      "needs_background": "light"
     },
     "output_type": "display_data"
    }
   ],
   "source": [
    "df_paired_noout_1deg.loc[df_paired_noout_1deg['elev_diff'] < 500.0, 'elev_diff'].plot.hist(bins=100)"
   ]
  },
  {
   "cell_type": "markdown",
   "metadata": {},
   "source": [
    "Relationship between tmax difference and elevation change:"
   ]
  },
  {
   "cell_type": "code",
   "execution_count": 46,
   "metadata": {},
   "outputs": [
    {
     "data": {
      "text/plain": [
       "<matplotlib.axes._subplots.AxesSubplot at 0x16fe6dd0>"
      ]
     },
     "execution_count": 46,
     "metadata": {},
     "output_type": "execute_result"
    },
    {
     "data": {
      "image/png": "[encoded data removed]",
      "text/plain": [
       "<Figure size 432x288 with 1 Axes>"
      ]
     },
     "metadata": {
      "needs_background": "light"
     },
     "output_type": "display_data"
    }
   ],
   "source": [
    "df_paired_noout_1deg.plot.scatter(x='tmax_diff_abs',\n",
    "                                  y='elev_diff',\n",
    "                                  s=1)"
   ]
  },
  {
   "cell_type": "markdown",
   "metadata": {},
   "source": [
    "- I think we see this \"step change\" like splits because a lot of volunteers probably measured data using "
   ]
  },
  {
   "cell_type": "markdown",
   "metadata": {},
   "source": [
    "Relationship between tmax difference and distance:"
   ]
  },
  {
   "cell_type": "code",
   "execution_count": 47,
   "metadata": {},
   "outputs": [
    {
     "data": {
      "text/plain": [
       "<matplotlib.axes._subplots.AxesSubplot at 0x17026eb0>"
      ]
     },
     "execution_count": 47,
     "metadata": {},
     "output_type": "execute_result"
    },
    {
     "data": {
      "image/png": "[encoded data removed]",
      "text/plain": [
       "<Figure size 432x288 with 1 Axes>"
      ]
     },
     "metadata": {
      "needs_background": "light"
     },
     "output_type": "display_data"
    }
   ],
   "source": [
    "df_paired_noout_1deg.plot.scatter(x='tmax_diff_abs',\n",
    "                                  y='distance',\n",
    "                                  s=1)"
   ]
  },
  {
   "cell_type": "markdown",
   "metadata": {},
   "source": [
    "Relationship between tmax difference and latitude:"
   ]
  },
  {
   "cell_type": "code",
   "execution_count": 48,
   "metadata": {},
   "outputs": [
    {
     "data": {
      "text/plain": [
       "<matplotlib.axes._subplots.AxesSubplot at 0x16fe6910>"
      ]
     },
     "execution_count": 48,
     "metadata": {},
     "output_type": "execute_result"
    },
    {
     "data": {
      "image/png": "[encoded data removed]",
      "text/plain": [
       "<Figure size 432x288 with 1 Axes>"
      ]
     },
     "metadata": {
      "needs_background": "light"
     },
     "output_type": "display_data"
    }
   ],
   "source": [
    "df_paired_noout_1deg.plot.scatter(x='tmax_diff_abs',\n",
    "                                  y='lat',\n",
    "                                  s=1)"
   ]
  },
  {
   "cell_type": "code",
   "execution_count": 49,
   "metadata": {},
   "outputs": [
    {
     "data": {
      "text/plain": [
       "dtype('float64')"
      ]
     },
     "execution_count": 49,
     "metadata": {},
     "output_type": "execute_result"
    }
   ],
   "source": [
    "df_paired['max_temp'].dtype"
   ]
  },
  {
   "cell_type": "code",
   "execution_count": null,
   "metadata": {},
   "outputs": [],
   "source": []
  }
 ],
 "metadata": {
  "kernelspec": {
   "display_name": "Python 3",
   "language": "python",
   "name": "python3"
  },
  "language_info": {
   "codemirror_mode": {
    "name": "ipython",
    "version": 3
   },
   "file_extension": ".py",
   "mimetype": "text/x-python",
   "name": "python",
   "nbconvert_exporter": "python",
   "pygments_lexer": "ipython3",
   "version": "3.7.4"
  }
 },
 "nbformat": 4,
 "nbformat_minor": 4
}
