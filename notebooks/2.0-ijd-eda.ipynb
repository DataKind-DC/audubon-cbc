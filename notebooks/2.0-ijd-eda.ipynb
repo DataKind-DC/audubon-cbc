{
 "cells": [
  {
   "cell_type": "markdown",
   "metadata": {},
   "source": [
    "# Exploratory Data Analysis\n",
    "### Purpose\n",
    "The purpose of this notebook is to explore the Audubon circle and NOAA data.\n",
    "This notebook addresses some one of the tasks in Github issue #36\n",
    "\n",
    "### Author: \n",
    "Ian Davis\n",
    "### Date: \n",
    "2020-02-17\n",
    "### Update Date: \n",
    "2020-05-03\n",
    "\n",
    "### Inputs \n",
    "1.2-ijd-fetch-circle-elevations_20200502155633.csv - Comma separate file of the Christmas Bird Count and matches to 1 or more NOAA weather stations.\n",
    "- Data Dictonary can be found here: http://www.audubon.org/sites/default/files/documents/cbc_report_field_definitions_2013.pdf\n",
    "\n",
    "### Output Files\n",
    "HTML file report\n",
    "\n",
    "## Steps or Proceedures in the notebook \n",
    "- Set runtime options\n",
    "    - Set option to retrieve elevations from offline source, or through the USGS queries\n",
    "    - Set option to only test the USGS query (NOTE: running the query function for the whole dataset will take 24+ hours)\n",
    "- Create a function to make a remote request to the USGS API\n",
    "- Create a function to supply inputs to the remote request and return the elevation value\n",
    "- Main sequence\n",
    "    - Read in dataset\n",
    "    - Create circl_elev column\n",
    "    - Loop through the dataset in chunks of 10000 to get elevation data\n",
    "    - (Optional) Retrieve elevations from offline data source instead of queries\n",
    "    - Write new dataset .txt file\n",
    "\n",
    "## References\n",
    "- elevation query: https://stackoverflow.com/questions/58350063/obtain-elevation-from-latitude-longitude-coordinates-with-a-simple-python-script\n",
    "- lamda functions: https://thispointer.com/python-how-to-use-if-else-elif-in-lambda-functions/\n",
    "- apply on Nulls: https://stackoverflow.com/questions/26614465/python-pandas-apply-function-if-a-column-value-is-not-null"
   ]
  },
  {
   "cell_type": "markdown",
   "metadata": {},
   "source": [
    "### See data dictionary: \n",
    "\n",
    "http://www.audubon.org/sites/default/files/documents/cbc_report_field_definitions_2013.pdf"
   ]
  },
  {
   "cell_type": "code",
   "execution_count": 1,
   "metadata": {},
   "outputs": [],
   "source": [
    "import numpy as np\n",
    "import pandas as pd\n",
    "import plotly_express as px\n",
    "import matplotlib.pyplot as plt\n",
    "import datetime\n",
    "from scipy import stats\n",
    "import sys\n",
    "\n",
    "# add scripts folder to path\n",
    "sys.path.insert(1, '../scripts')\n",
    "\n",
    "# user import\n",
    "from calcs import main_calcs\n",
    "\n",
    "pd.set_option('display.max_columns', 500)"
   ]
  },
  {
   "cell_type": "markdown",
   "metadata": {},
   "source": [
    "## Set File Paths and Runtime Options"
   ]
  },
  {
   "cell_type": "code",
   "execution_count": 2,
   "metadata": {},
   "outputs": [],
   "source": [
    "PATH_TO_PAIRED_DATA = '../data/Cloud_data/1.2-ijd-fetch-circle-elevations_20200502155633.csv'"
   ]
  },
  {
   "cell_type": "markdown",
   "metadata": {},
   "source": [
    "## Read in Data"
   ]
  },
  {
   "cell_type": "code",
   "execution_count": 3,
   "metadata": {},
   "outputs": [],
   "source": [
    "# Read in unfinished dataset\n",
    "df_paired = pd.read_csv(PATH_TO_PAIRED_DATA, compression='gzip')"
   ]
  },
  {
   "cell_type": "markdown",
   "metadata": {},
   "source": [
    "## Calculated Variables"
   ]
  },
  {
   "cell_type": "code",
   "execution_count": 4,
   "metadata": {},
   "outputs": [],
   "source": [
    "df_paired = main_calcs(df_paired)"
   ]
  },
  {
   "cell_type": "markdown",
   "metadata": {},
   "source": [
    "## Data Screening"
   ]
  },
  {
   "cell_type": "markdown",
   "metadata": {},
   "source": [
    "Are there indeces which have negative values for both CBC and NOAA?"
   ]
  },
  {
   "cell_type": "code",
   "execution_count": 5,
   "metadata": {},
   "outputs": [
    {
     "data": {
      "text/plain": [
       "1900"
      ]
     },
     "execution_count": 5,
     "metadata": {},
     "output_type": "execute_result"
    }
   ],
   "source": [
    "df_paired.loc[((df_paired.loc[:, 'min_temp'] < 0.0) & \n",
    "               (df_paired.loc[:, 'noaa_tmin_value'] < 0.0))].index.size"
   ]
  },
  {
   "cell_type": "markdown",
   "metadata": {},
   "source": [
    "Any negative temperatures in Florida?<br>\n",
    "Lat: 25 to 30<br>\n",
    "Long: -80 to -90"
   ]
  },
  {
   "cell_type": "code",
   "execution_count": 6,
   "metadata": {},
   "outputs": [
    {
     "data": {
      "text/plain": [
       "0"
      ]
     },
     "execution_count": 6,
     "metadata": {},
     "output_type": "execute_result"
    }
   ],
   "source": [
    "df_paired.loc[((df_paired.loc[:, 'noaa_tmin_value'] < 0.0) &\n",
    "               (df_paired.loc[:, 'latitude'] < 30.0) &\n",
    "               (df_paired.loc[:, 'longitude'] > -90.0))].index.size"
   ]
  },
  {
   "cell_type": "code",
   "execution_count": 33,
   "metadata": {},
   "outputs": [
    {
     "data": {
      "text/html": [
       "<div>\n",
       "<style scoped>\n",
       "    .dataframe tbody tr th:only-of-type {\n",
       "        vertical-align: middle;\n",
       "    }\n",
       "\n",
       "    .dataframe tbody tr th {\n",
       "        vertical-align: top;\n",
       "    }\n",
       "\n",
       "    .dataframe thead th {\n",
       "        text-align: right;\n",
       "    }\n",
       "</style>\n",
       "<table border=\"1\" class=\"dataframe\">\n",
       "  <thead>\n",
       "    <tr style=\"text-align: right;\">\n",
       "      <th></th>\n",
       "      <th>noaa_tmin_value</th>\n",
       "      <th>circle_name</th>\n",
       "      <th>count_date</th>\n",
       "      <th>name</th>\n",
       "    </tr>\n",
       "  </thead>\n",
       "  <tbody>\n",
       "  </tbody>\n",
       "</table>\n",
       "</div>"
      ],
      "text/plain": [
       "Empty DataFrame\n",
       "Columns: [noaa_tmin_value, circle_name, count_date, name]\n",
       "Index: []"
      ]
     },
     "execution_count": 33,
     "metadata": {},
     "output_type": "execute_result"
    }
   ],
   "source": [
    "df_paired.loc[((df_paired.loc[:, 'noaa_tmin_value'] < 0.0) &\n",
    "               (df_paired.loc[:, 'latitude'] < 30.0) &\n",
    "               (df_paired.loc[:, 'longitude'] > -90.0)),\n",
    "               ['noaa_tmin_value', 'circle_name', 'count_date', 'name']].tail(10)"
   ]
  },
  {
   "cell_type": "markdown",
   "metadata": {},
   "source": [
    "Create variable(s) to track if CBC recorded precipitation:<br>\n",
    "- cbc_is_prec\n",
    "- cbc_is_snow\n",
    "- cbc_is_rain\n",
    "\n",
    "- Are there any 'min_snow' values larger than 'max_snow' ?"
   ]
  },
  {
   "cell_type": "code",
   "execution_count": 8,
   "metadata": {},
   "outputs": [
    {
     "data": {
      "text/plain": [
       "7"
      ]
     },
     "execution_count": 8,
     "metadata": {},
     "output_type": "execute_result"
    }
   ],
   "source": [
    "df_paired.loc[(df_paired.loc[:, 'min_snow'] > df_paired.loc[:, 'max_snow'])].index.size"
   ]
  },
  {
   "cell_type": "code",
   "execution_count": 9,
   "metadata": {},
   "outputs": [
    {
     "data": {
      "text/html": [
       "<div>\n",
       "<style scoped>\n",
       "    .dataframe tbody tr th:only-of-type {\n",
       "        vertical-align: middle;\n",
       "    }\n",
       "\n",
       "    .dataframe tbody tr th {\n",
       "        vertical-align: top;\n",
       "    }\n",
       "\n",
       "    .dataframe thead th {\n",
       "        text-align: right;\n",
       "    }\n",
       "</style>\n",
       "<table border=\"1\" class=\"dataframe\">\n",
       "  <thead>\n",
       "    <tr style=\"text-align: right;\">\n",
       "      <th></th>\n",
       "      <th>circle_name</th>\n",
       "      <th>count_date</th>\n",
       "      <th>min_snow</th>\n",
       "      <th>max_snow</th>\n",
       "    </tr>\n",
       "  </thead>\n",
       "  <tbody>\n",
       "    <tr>\n",
       "      <th>80890</th>\n",
       "      <td>Caribou</td>\n",
       "      <td>2011-12-28</td>\n",
       "      <td>4.0</td>\n",
       "      <td>1.0</td>\n",
       "    </tr>\n",
       "    <tr>\n",
       "      <th>80910</th>\n",
       "      <td>Presque Isle</td>\n",
       "      <td>2011-12-31</td>\n",
       "      <td>2.0</td>\n",
       "      <td>1.0</td>\n",
       "    </tr>\n",
       "    <tr>\n",
       "      <th>81751</th>\n",
       "      <td>Angel Fire-Eagle Nest</td>\n",
       "      <td>2011-12-18</td>\n",
       "      <td>12.0</td>\n",
       "      <td>3.0</td>\n",
       "    </tr>\n",
       "    <tr>\n",
       "      <th>83338</th>\n",
       "      <td>Waukesha</td>\n",
       "      <td>2011-12-17</td>\n",
       "      <td>5.0</td>\n",
       "      <td>1.0</td>\n",
       "    </tr>\n",
       "    <tr>\n",
       "      <th>83339</th>\n",
       "      <td>Waukesha</td>\n",
       "      <td>2011-12-17</td>\n",
       "      <td>5.0</td>\n",
       "      <td>1.0</td>\n",
       "    </tr>\n",
       "    <tr>\n",
       "      <th>83340</th>\n",
       "      <td>Waukesha</td>\n",
       "      <td>2011-12-17</td>\n",
       "      <td>5.0</td>\n",
       "      <td>1.0</td>\n",
       "    </tr>\n",
       "    <tr>\n",
       "      <th>83341</th>\n",
       "      <td>Waukesha</td>\n",
       "      <td>2011-12-17</td>\n",
       "      <td>5.0</td>\n",
       "      <td>1.0</td>\n",
       "    </tr>\n",
       "  </tbody>\n",
       "</table>\n",
       "</div>"
      ],
      "text/plain": [
       "                 circle_name  count_date  min_snow  max_snow\n",
       "80890                Caribou  2011-12-28       4.0       1.0\n",
       "80910           Presque Isle  2011-12-31       2.0       1.0\n",
       "81751  Angel Fire-Eagle Nest  2011-12-18      12.0       3.0\n",
       "83338               Waukesha  2011-12-17       5.0       1.0\n",
       "83339               Waukesha  2011-12-17       5.0       1.0\n",
       "83340               Waukesha  2011-12-17       5.0       1.0\n",
       "83341               Waukesha  2011-12-17       5.0       1.0"
      ]
     },
     "execution_count": 9,
     "metadata": {},
     "output_type": "execute_result"
    }
   ],
   "source": [
    "df_paired.loc[(df_paired.loc[:, 'min_snow'] > df_paired.loc[:, 'max_snow']), ['circle_name', 'count_date', 'min_snow', 'max_snow']]"
   ]
  },
  {
   "cell_type": "code",
   "execution_count": 10,
   "metadata": {},
   "outputs": [
    {
     "data": {
      "text/plain": [
       "3.0      60171\n",
       "4.0      21026\n",
       "2.0       9284\n",
       "1.0       1344\n",
       "32.0       716\n",
       "21.0       636\n",
       "321.0      239\n",
       "31.0        19\n",
       "12.0         6\n",
       "123.0        1\n",
       "23.0         1\n",
       "34.0         1\n",
       "Name: am_rain, dtype: int64"
      ]
     },
     "execution_count": 10,
     "metadata": {},
     "output_type": "execute_result"
    }
   ],
   "source": [
    "# Sometime the rain or snow intensity is listed as \"2,1\"\n",
    "# And somewhere along the line these were converted to floats: 32.0 = 3,2 ...probably?\n",
    "df_paired.loc[:, 'am_rain'].value_counts()"
   ]
  },
  {
   "cell_type": "markdown",
   "metadata": {},
   "source": [
    "Rows that contain precipitation values:"
   ]
  },
  {
   "cell_type": "code",
   "execution_count": 11,
   "metadata": {},
   "outputs": [
    {
     "data": {
      "text/plain": [
       "94379"
      ]
     },
     "execution_count": 11,
     "metadata": {},
     "output_type": "execute_result"
    }
   ],
   "source": [
    "df_paired.loc[(df_paired.loc[:, 'cbc_is_prec'] == True)].index.size"
   ]
  },
  {
   "cell_type": "code",
   "execution_count": 12,
   "metadata": {},
   "outputs": [
    {
     "data": {
      "text/html": [
       "<div>\n",
       "<style scoped>\n",
       "    .dataframe tbody tr th:only-of-type {\n",
       "        vertical-align: middle;\n",
       "    }\n",
       "\n",
       "    .dataframe tbody tr th {\n",
       "        vertical-align: top;\n",
       "    }\n",
       "\n",
       "    .dataframe thead th {\n",
       "        text-align: right;\n",
       "    }\n",
       "</style>\n",
       "<table border=\"1\" class=\"dataframe\">\n",
       "  <thead>\n",
       "    <tr style=\"text-align: right;\">\n",
       "      <th></th>\n",
       "      <th>cbc_is_prec</th>\n",
       "      <th>min_snow</th>\n",
       "      <th>max_snow</th>\n",
       "      <th>am_rain</th>\n",
       "      <th>pm_rain</th>\n",
       "    </tr>\n",
       "  </thead>\n",
       "  <tbody>\n",
       "  </tbody>\n",
       "</table>\n",
       "</div>"
      ],
      "text/plain": [
       "Empty DataFrame\n",
       "Columns: [cbc_is_prec, min_snow, max_snow, am_rain, pm_rain]\n",
       "Index: []"
      ]
     },
     "execution_count": 12,
     "metadata": {},
     "output_type": "execute_result"
    }
   ],
   "source": [
    "# Check for false positives\n",
    "df_paired.loc[(df_paired.loc[:, 'cbc_is_prec'] == True) &\n",
    "              (pd.isna(df_paired.loc[:, 'min_snow']) &\n",
    "               pd.isna(df_paired.loc[:, 'max_snow']) &\n",
    "               pd.isna(df_paired.loc[:, 'am_rain']) &\n",
    "               pd.isna(df_paired.loc[:, 'pm_rain'])),\n",
    "              ['cbc_is_prec', 'min_snow', 'max_snow', 'am_rain', 'pm_rain']].head(10)"
   ]
  },
  {
   "cell_type": "markdown",
   "metadata": {},
   "source": [
    "Absolute Temperature Difference:"
   ]
  },
  {
   "cell_type": "code",
   "execution_count": 13,
   "metadata": {},
   "outputs": [
    {
     "data": {
      "text/html": [
       "<div>\n",
       "<style scoped>\n",
       "    .dataframe tbody tr th:only-of-type {\n",
       "        vertical-align: middle;\n",
       "    }\n",
       "\n",
       "    .dataframe tbody tr th {\n",
       "        vertical-align: top;\n",
       "    }\n",
       "\n",
       "    .dataframe thead th {\n",
       "        text-align: right;\n",
       "    }\n",
       "</style>\n",
       "<table border=\"1\" class=\"dataframe\">\n",
       "  <thead>\n",
       "    <tr style=\"text-align: right;\">\n",
       "      <th></th>\n",
       "      <th>int64_field_0</th>\n",
       "      <th>circle_name</th>\n",
       "      <th>country_state</th>\n",
       "      <th>lat</th>\n",
       "      <th>lon</th>\n",
       "      <th>count_year</th>\n",
       "      <th>count_date</th>\n",
       "      <th>n_field_counters</th>\n",
       "      <th>n_feeder_counters</th>\n",
       "      <th>min_field_parties</th>\n",
       "      <th>max_field_parties</th>\n",
       "      <th>field_hours</th>\n",
       "      <th>feeder_hours</th>\n",
       "      <th>nocturnal_hours</th>\n",
       "      <th>field_distance</th>\n",
       "      <th>nocturnal_distance</th>\n",
       "      <th>distance_units</th>\n",
       "      <th>min_temp</th>\n",
       "      <th>max_temp</th>\n",
       "      <th>temp_unit</th>\n",
       "      <th>min_wind</th>\n",
       "      <th>max_wind</th>\n",
       "      <th>wind_unit</th>\n",
       "      <th>min_snow</th>\n",
       "      <th>max_snow</th>\n",
       "      <th>snow_unit</th>\n",
       "      <th>am_cloud</th>\n",
       "      <th>pm_cloud</th>\n",
       "      <th>am_rain</th>\n",
       "      <th>pm_rain</th>\n",
       "      <th>am_snow</th>\n",
       "      <th>pm_snow</th>\n",
       "      <th>field_distance_imperial</th>\n",
       "      <th>field_distance_metric</th>\n",
       "      <th>nocturnal_distance_imperial</th>\n",
       "      <th>nocturnal_distance_metric</th>\n",
       "      <th>min_snow_imperial</th>\n",
       "      <th>min_snow_metric</th>\n",
       "      <th>max_snow_metric</th>\n",
       "      <th>max_snow_imperial</th>\n",
       "      <th>min_temp_imperial</th>\n",
       "      <th>max_temp_imperial</th>\n",
       "      <th>min_temp_metric</th>\n",
       "      <th>max_temp_metric</th>\n",
       "      <th>min_wind_metric</th>\n",
       "      <th>max_wind_metric</th>\n",
       "      <th>min_wind_imperial</th>\n",
       "      <th>max_wind_imperial</th>\n",
       "      <th>geohash_circle</th>\n",
       "      <th>circle_id</th>\n",
       "      <th>id</th>\n",
       "      <th>latitude</th>\n",
       "      <th>longitude</th>\n",
       "      <th>elevation</th>\n",
       "      <th>state</th>\n",
       "      <th>name</th>\n",
       "      <th>gsn_flag</th>\n",
       "      <th>hcn_crn_flag</th>\n",
       "      <th>wmoid</th>\n",
       "      <th>geohash_station</th>\n",
       "      <th>temp_min_value</th>\n",
       "      <th>temp_max_value</th>\n",
       "      <th>precipitation_value</th>\n",
       "      <th>temp_avg</th>\n",
       "      <th>snow</th>\n",
       "      <th>snwd</th>\n",
       "      <th>circle_elev</th>\n",
       "      <th>distance</th>\n",
       "      <th>noaa_tmax_value</th>\n",
       "      <th>noaa_tmin_value</th>\n",
       "      <th>cbc_is_prec</th>\n",
       "      <th>tmin_diff</th>\n",
       "      <th>tmin_diff_abs</th>\n",
       "      <th>tmax_diff</th>\n",
       "      <th>tmax_diff_abs</th>\n",
       "    </tr>\n",
       "  </thead>\n",
       "  <tbody>\n",
       "  </tbody>\n",
       "</table>\n",
       "</div>"
      ],
      "text/plain": [
       "Empty DataFrame\n",
       "Columns: [int64_field_0, circle_name, country_state, lat, lon, count_year, count_date, n_field_counters, n_feeder_counters, min_field_parties, max_field_parties, field_hours, feeder_hours, nocturnal_hours, field_distance, nocturnal_distance, distance_units, min_temp, max_temp, temp_unit, min_wind, max_wind, wind_unit, min_snow, max_snow, snow_unit, am_cloud, pm_cloud, am_rain, pm_rain, am_snow, pm_snow, field_distance_imperial, field_distance_metric, nocturnal_distance_imperial, nocturnal_distance_metric, min_snow_imperial, min_snow_metric, max_snow_metric, max_snow_imperial, min_temp_imperial, max_temp_imperial, min_temp_metric, max_temp_metric, min_wind_metric, max_wind_metric, min_wind_imperial, max_wind_imperial, geohash_circle, circle_id, id, latitude, longitude, elevation, state, name, gsn_flag, hcn_crn_flag, wmoid, geohash_station, temp_min_value, temp_max_value, precipitation_value, temp_avg, snow, snwd, circle_elev, distance, noaa_tmax_value, noaa_tmin_value, cbc_is_prec, tmin_diff, tmin_diff_abs, tmax_diff, tmax_diff_abs]\n",
       "Index: []"
      ]
     },
     "execution_count": 13,
     "metadata": {},
     "output_type": "execute_result"
    }
   ],
   "source": [
    "# What is the maximum temperature difference? Error?\n",
    "df_paired.loc[df_paired['tmax_diff_abs'] > 100.0]"
   ]
  },
  {
   "cell_type": "code",
   "execution_count": 14,
   "metadata": {},
   "outputs": [
    {
     "data": {
      "text/plain": [
       "<matplotlib.axes._subplots.AxesSubplot at 0x597dc30>"
      ]
     },
     "execution_count": 14,
     "metadata": {},
     "output_type": "execute_result"
    },
    {
     "data": {
      "image/png": "[encoded data removed]",
      "text/plain": [
       "<Figure size 432x288 with 1 Axes>"
      ]
     },
     "metadata": {
      "needs_background": "light"
     },
     "output_type": "display_data"
    }
   ],
   "source": [
    "df_paired.loc[:, 'tmin_diff_abs'].plot.hist(bins=100)"
   ]
  },
  {
   "cell_type": "code",
   "execution_count": 15,
   "metadata": {},
   "outputs": [
    {
     "data": {
      "text/plain": [
       "<matplotlib.axes._subplots.AxesSubplot at 0x106cb8d0>"
      ]
     },
     "execution_count": 15,
     "metadata": {},
     "output_type": "execute_result"
    },
    {
     "data": {
      "image/png": "[encoded data removed]",
      "text/plain": [
       "<Figure size 432x288 with 1 Axes>"
      ]
     },
     "metadata": {
      "needs_background": "light"
     },
     "output_type": "display_data"
    }
   ],
   "source": [
    "df_paired.loc[:, 'tmax_diff_abs'].plot.hist(bins=100)"
   ]
  },
  {
   "cell_type": "markdown",
   "metadata": {},
   "source": [
    "Mean temperature difference:"
   ]
  },
  {
   "cell_type": "code",
   "execution_count": 16,
   "metadata": {},
   "outputs": [
    {
     "name": "stdout",
     "output_type": "stream",
     "text": [
      "Tmin Difference Mean & SD: 5.28 ,  5.52\n",
      "Tmax Difference Mean & SD: 5.05 ,  5.71\n"
     ]
    }
   ],
   "source": [
    "# mean temperature difference\n",
    "tmin_diff_mean = df_paired.loc[:, 'tmin_diff_abs'].mean(skipna=True)\n",
    "tmin_diff_std = df_paired.loc[:, 'tmin_diff_abs'].std(skipna=True)\n",
    "tmax_diff_mean = df_paired.loc[:, 'tmax_diff_abs'].mean(skipna=True)\n",
    "tmax_diff_std = df_paired.loc[:, 'tmax_diff_abs'].std(skipna=True)\n",
    "\n",
    "print('Tmin Difference Mean & SD:', round(tmin_diff_mean,2), ', ', round(tmin_diff_std,2))\n",
    "print('Tmax Difference Mean & SD:', round(tmax_diff_mean,2), ', ', round(tmax_diff_std,2))"
   ]
  },
  {
   "cell_type": "markdown",
   "metadata": {},
   "source": [
    "### Outliers\n",
    "\n"
   ]
  },
  {
   "cell_type": "markdown",
   "metadata": {},
   "source": [
    "Screen stations further than 10 km:"
   ]
  },
  {
   "cell_type": "code",
   "execution_count": 17,
   "metadata": {},
   "outputs": [
    {
     "name": "stdout",
     "output_type": "stream",
     "text": [
      "Rows in original dataset: 109390\n",
      "Rows in 10km dataset: 55374\n"
     ]
    }
   ],
   "source": [
    "df_paired_10k = df_paired.loc[(df_paired.loc[:, 'distance'] <= 10000.0), :]\n",
    "print('Rows in original dataset:', df_paired.index.size)\n",
    "print('Rows in 10km dataset:', df_paired_10k.index.size)"
   ]
  },
  {
   "cell_type": "markdown",
   "metadata": {},
   "source": [
    "Screen stations with obvious temperature errors:<br>\n",
    "- tmin no less than -100 degF\n",
    "- tmax no greater than 110 degF\n",
    "- (probably could be more strict, but this is first guess)"
   ]
  },
  {
   "cell_type": "code",
   "execution_count": 18,
   "metadata": {},
   "outputs": [
    {
     "name": "stdout",
     "output_type": "stream",
     "text": [
      "Rows in 10km temp-screened dataset: 30236\n"
     ]
    }
   ],
   "source": [
    "df_paired_10k = df_paired_10k.loc[(df_paired_10k.loc[:, 'min_temp'] > -100.0) &\n",
    "                                  (df_paired_10k.loc[:, 'noaa_tmin_value'] > -100.0) &\n",
    "                                  (df_paired_10k.loc[:, 'max_temp'] < 110.0) &\n",
    "                                  (df_paired_10k.loc[:, 'noaa_tmax_value'] < 110.0), :]\n",
    "print('Rows in 10km temp-screened dataset:', df_paired_10k.index.size)"
   ]
  },
  {
   "cell_type": "markdown",
   "metadata": {},
   "source": [
    "### ** THAT'S A BIG DROP OFF **"
   ]
  },
  {
   "cell_type": "markdown",
   "metadata": {},
   "source": [
    "Mean temperature difference:"
   ]
  },
  {
   "cell_type": "code",
   "execution_count": 19,
   "metadata": {},
   "outputs": [
    {
     "name": "stdout",
     "output_type": "stream",
     "text": [
      "Tmin Difference Mean & SD: 5.07 ,  5.47\n",
      "Tmax Difference Mean & SD: 4.81 ,  5.6\n"
     ]
    }
   ],
   "source": [
    "tmin_diff_mean = df_paired_10k.loc[:, 'tmin_diff_abs'].mean(skipna=True)\n",
    "tmin_diff_std = df_paired_10k.loc[:, 'tmin_diff_abs'].std(skipna=True)\n",
    "tmax_diff_mean = df_paired_10k.loc[:, 'tmax_diff_abs'].mean(skipna=True)\n",
    "tmax_diff_std = df_paired_10k.loc[:, 'tmax_diff_abs'].std(skipna=True)\n",
    "\n",
    "print('Tmin Difference Mean & SD:', round(tmin_diff_mean,2), ', ', round(tmin_diff_std,2))\n",
    "print('Tmax Difference Mean & SD:', round(tmax_diff_mean,2), ', ', round(tmax_diff_std,2))"
   ]
  },
  {
   "cell_type": "markdown",
   "metadata": {},
   "source": [
    "Box & Whisker Plots:<br>\n",
    "\n",
    "Tmin & Tmax Difference"
   ]
  },
  {
   "cell_type": "code",
   "execution_count": 20,
   "metadata": {},
   "outputs": [
    {
     "data": {
      "text/plain": [
       "<matplotlib.axes._subplots.AxesSubplot at 0x10a9c090>"
      ]
     },
     "execution_count": 20,
     "metadata": {},
     "output_type": "execute_result"
    },
    {
     "data": {
      "image/png": "[encoded data removed]",
      "text/plain": [
       "<Figure size 432x288 with 1 Axes>"
      ]
     },
     "metadata": {
      "needs_background": "light"
     },
     "output_type": "display_data"
    }
   ],
   "source": [
    "df_paired_10k.boxplot(column=['tmin_diff_abs', 'tmax_diff_abs'])"
   ]
  },
  {
   "cell_type": "markdown",
   "metadata": {},
   "source": [
    "Clearly, there are some actual errors here. Not just outliers."
   ]
  },
  {
   "cell_type": "code",
   "execution_count": 21,
   "metadata": {},
   "outputs": [
    {
     "data": {
      "text/html": [
       "<div>\n",
       "<style scoped>\n",
       "    .dataframe tbody tr th:only-of-type {\n",
       "        vertical-align: middle;\n",
       "    }\n",
       "\n",
       "    .dataframe tbody tr th {\n",
       "        vertical-align: top;\n",
       "    }\n",
       "\n",
       "    .dataframe thead th {\n",
       "        text-align: right;\n",
       "    }\n",
       "</style>\n",
       "<table border=\"1\" class=\"dataframe\">\n",
       "  <thead>\n",
       "    <tr style=\"text-align: right;\">\n",
       "      <th></th>\n",
       "      <th>circle_name</th>\n",
       "      <th>count_date</th>\n",
       "      <th>distance</th>\n",
       "      <th>min_temp</th>\n",
       "      <th>noaa_tmin_value</th>\n",
       "      <th>tmin_diff_abs</th>\n",
       "    </tr>\n",
       "  </thead>\n",
       "  <tbody>\n",
       "    <tr>\n",
       "      <th>79406</th>\n",
       "      <td>Malibu</td>\n",
       "      <td>2011-12-18</td>\n",
       "      <td>7076.027897</td>\n",
       "      <td>45.0</td>\n",
       "      <td>-32.08</td>\n",
       "      <td>77.08</td>\n",
       "    </tr>\n",
       "    <tr>\n",
       "      <th>63823</th>\n",
       "      <td>Santa Cruz Island</td>\n",
       "      <td>2007-12-17</td>\n",
       "      <td>9573.838063</td>\n",
       "      <td>22.0</td>\n",
       "      <td>-54.94</td>\n",
       "      <td>76.94</td>\n",
       "    </tr>\n",
       "    <tr>\n",
       "      <th>63679</th>\n",
       "      <td>Crystal Springs</td>\n",
       "      <td>2007-12-15</td>\n",
       "      <td>7299.333140</td>\n",
       "      <td>42.0</td>\n",
       "      <td>-32.08</td>\n",
       "      <td>74.08</td>\n",
       "    </tr>\n",
       "    <tr>\n",
       "      <th>60942</th>\n",
       "      <td>Crystal Springs</td>\n",
       "      <td>2006-12-16</td>\n",
       "      <td>7299.333140</td>\n",
       "      <td>38.0</td>\n",
       "      <td>-32.08</td>\n",
       "      <td>70.08</td>\n",
       "    </tr>\n",
       "    <tr>\n",
       "      <th>11463</th>\n",
       "      <td>Kaua'i: Kapa'a</td>\n",
       "      <td>1973-12-31</td>\n",
       "      <td>9421.868369</td>\n",
       "      <td>0.0</td>\n",
       "      <td>69.98</td>\n",
       "      <td>69.98</td>\n",
       "    </tr>\n",
       "    <tr>\n",
       "      <th>63663</th>\n",
       "      <td>Calaveras</td>\n",
       "      <td>2008-01-05</td>\n",
       "      <td>9483.063229</td>\n",
       "      <td>32.0</td>\n",
       "      <td>-32.08</td>\n",
       "      <td>64.08</td>\n",
       "    </tr>\n",
       "    <tr>\n",
       "      <th>60926</th>\n",
       "      <td>Calaveras</td>\n",
       "      <td>2006-12-30</td>\n",
       "      <td>9483.063229</td>\n",
       "      <td>30.0</td>\n",
       "      <td>-32.08</td>\n",
       "      <td>62.08</td>\n",
       "    </tr>\n",
       "    <tr>\n",
       "      <th>33794</th>\n",
       "      <td>St. Augustine</td>\n",
       "      <td>1991-12-14</td>\n",
       "      <td>5928.604728</td>\n",
       "      <td>0.0</td>\n",
       "      <td>62.06</td>\n",
       "      <td>62.06</td>\n",
       "    </tr>\n",
       "    <tr>\n",
       "      <th>75080</th>\n",
       "      <td>Elsinore</td>\n",
       "      <td>2011-01-02</td>\n",
       "      <td>7544.643135</td>\n",
       "      <td>26.0</td>\n",
       "      <td>87.08</td>\n",
       "      <td>61.08</td>\n",
       "    </tr>\n",
       "    <tr>\n",
       "      <th>63355</th>\n",
       "      <td>Holcombe</td>\n",
       "      <td>2006-12-15</td>\n",
       "      <td>8048.504030</td>\n",
       "      <td>86.0</td>\n",
       "      <td>28.04</td>\n",
       "      <td>57.96</td>\n",
       "    </tr>\n",
       "    <tr>\n",
       "      <th>22044</th>\n",
       "      <td>New Orleans</td>\n",
       "      <td>1982-12-26</td>\n",
       "      <td>7356.330152</td>\n",
       "      <td>7.0</td>\n",
       "      <td>62.06</td>\n",
       "      <td>55.06</td>\n",
       "    </tr>\n",
       "    <tr>\n",
       "      <th>43874</th>\n",
       "      <td>Texarkana</td>\n",
       "      <td>1998-01-03</td>\n",
       "      <td>5437.838881</td>\n",
       "      <td>0.0</td>\n",
       "      <td>50.00</td>\n",
       "      <td>50.00</td>\n",
       "    </tr>\n",
       "    <tr>\n",
       "      <th>65361</th>\n",
       "      <td>Highlands Plateau</td>\n",
       "      <td>2007-12-14</td>\n",
       "      <td>3929.359878</td>\n",
       "      <td>28.0</td>\n",
       "      <td>77.00</td>\n",
       "      <td>49.00</td>\n",
       "    </tr>\n",
       "    <tr>\n",
       "      <th>78310</th>\n",
       "      <td>Galveston</td>\n",
       "      <td>2010-12-14</td>\n",
       "      <td>7132.066685</td>\n",
       "      <td>0.0</td>\n",
       "      <td>48.02</td>\n",
       "      <td>48.02</td>\n",
       "    </tr>\n",
       "    <tr>\n",
       "      <th>7708</th>\n",
       "      <td>Binghamton</td>\n",
       "      <td>1970-01-01</td>\n",
       "      <td>9252.272276</td>\n",
       "      <td>-50.0</td>\n",
       "      <td>-2.92</td>\n",
       "      <td>47.08</td>\n",
       "    </tr>\n",
       "    <tr>\n",
       "      <th>49638</th>\n",
       "      <td>Tok</td>\n",
       "      <td>2001-12-19</td>\n",
       "      <td>852.431750</td>\n",
       "      <td>-31.0</td>\n",
       "      <td>15.98</td>\n",
       "      <td>46.98</td>\n",
       "    </tr>\n",
       "    <tr>\n",
       "      <th>102563</th>\n",
       "      <td>Big Rock</td>\n",
       "      <td>2016-12-18</td>\n",
       "      <td>4621.111552</td>\n",
       "      <td>30.0</td>\n",
       "      <td>-16.78</td>\n",
       "      <td>46.78</td>\n",
       "    </tr>\n",
       "    <tr>\n",
       "      <th>104299</th>\n",
       "      <td>Aiken</td>\n",
       "      <td>2016-12-24</td>\n",
       "      <td>7475.547859</td>\n",
       "      <td>48.0</td>\n",
       "      <td>3.02</td>\n",
       "      <td>44.98</td>\n",
       "    </tr>\n",
       "    <tr>\n",
       "      <th>91386</th>\n",
       "      <td>Columbia</td>\n",
       "      <td>2013-12-14</td>\n",
       "      <td>8046.370341</td>\n",
       "      <td>62.0</td>\n",
       "      <td>17.06</td>\n",
       "      <td>44.94</td>\n",
       "    </tr>\n",
       "    <tr>\n",
       "      <th>104853</th>\n",
       "      <td>Mount Abraham</td>\n",
       "      <td>2016-12-17</td>\n",
       "      <td>3647.924576</td>\n",
       "      <td>30.0</td>\n",
       "      <td>-14.08</td>\n",
       "      <td>44.08</td>\n",
       "    </tr>\n",
       "  </tbody>\n",
       "</table>\n",
       "</div>"
      ],
      "text/plain": [
       "              circle_name  count_date     distance  min_temp  noaa_tmin_value  \\\n",
       "79406              Malibu  2011-12-18  7076.027897      45.0           -32.08   \n",
       "63823   Santa Cruz Island  2007-12-17  9573.838063      22.0           -54.94   \n",
       "63679     Crystal Springs  2007-12-15  7299.333140      42.0           -32.08   \n",
       "60942     Crystal Springs  2006-12-16  7299.333140      38.0           -32.08   \n",
       "11463      Kaua'i: Kapa'a  1973-12-31  9421.868369       0.0            69.98   \n",
       "63663           Calaveras  2008-01-05  9483.063229      32.0           -32.08   \n",
       "60926           Calaveras  2006-12-30  9483.063229      30.0           -32.08   \n",
       "33794       St. Augustine  1991-12-14  5928.604728       0.0            62.06   \n",
       "75080            Elsinore  2011-01-02  7544.643135      26.0            87.08   \n",
       "63355            Holcombe  2006-12-15  8048.504030      86.0            28.04   \n",
       "22044         New Orleans  1982-12-26  7356.330152       7.0            62.06   \n",
       "43874           Texarkana  1998-01-03  5437.838881       0.0            50.00   \n",
       "65361   Highlands Plateau  2007-12-14  3929.359878      28.0            77.00   \n",
       "78310           Galveston  2010-12-14  7132.066685       0.0            48.02   \n",
       "7708           Binghamton  1970-01-01  9252.272276     -50.0            -2.92   \n",
       "49638                 Tok  2001-12-19   852.431750     -31.0            15.98   \n",
       "102563           Big Rock  2016-12-18  4621.111552      30.0           -16.78   \n",
       "104299              Aiken  2016-12-24  7475.547859      48.0             3.02   \n",
       "91386            Columbia  2013-12-14  8046.370341      62.0            17.06   \n",
       "104853      Mount Abraham  2016-12-17  3647.924576      30.0           -14.08   \n",
       "\n",
       "        tmin_diff_abs  \n",
       "79406           77.08  \n",
       "63823           76.94  \n",
       "63679           74.08  \n",
       "60942           70.08  \n",
       "11463           69.98  \n",
       "63663           64.08  \n",
       "60926           62.08  \n",
       "33794           62.06  \n",
       "75080           61.08  \n",
       "63355           57.96  \n",
       "22044           55.06  \n",
       "43874           50.00  \n",
       "65361           49.00  \n",
       "78310           48.02  \n",
       "7708            47.08  \n",
       "49638           46.98  \n",
       "102563          46.78  \n",
       "104299          44.98  \n",
       "91386           44.94  \n",
       "104853          44.08  "
      ]
     },
     "execution_count": 21,
     "metadata": {},
     "output_type": "execute_result"
    }
   ],
   "source": [
    "df_paired_10k.loc[(df_paired_10k.loc[:, 'tmin_diff_abs'].nlargest(20)).index,\n",
    "              ['circle_name', 'count_date', 'distance', 'min_temp', 'noaa_tmin_value', 'tmin_diff_abs']]"
   ]
  },
  {
   "cell_type": "markdown",
   "metadata": {},
   "source": [
    "Calculate z-scores:"
   ]
  },
  {
   "cell_type": "code",
   "execution_count": 22,
   "metadata": {},
   "outputs": [],
   "source": [
    "#df_paired.loc[:, 'cbc_tmin_z'] = stats.zscore(df_paired.loc[:, 'min_temp'], nan_policy='omit')\n",
    "#df_paired.loc[:, 'cbc_tmax_z'] = stats.zscore(df_paired.loc[:, 'max_temp'])\n",
    "#df_paired.loc[:, 'noaa_tmin_z'] = stats.zscore(df_paired.loc[:, 'noaa_tmin_value'])\n",
    "#df_paired.loc[:, 'noaa_tmax_z'] = stats.zscore(df_paired.loc[:, 'noaa_tmax_value'])\n",
    "df_paired_10k.loc[:, 'tmin_diff_z'] = stats.zscore(df_paired_10k.loc[:, 'tmin_diff_abs'], nan_policy='omit')\n",
    "df_paired_10k.loc[:, 'tmax_diff_z'] = stats.zscore(df_paired_10k.loc[:, 'tmax_diff_abs'], nan_policy='omit')"
   ]
  },
  {
   "cell_type": "code",
   "execution_count": 23,
   "metadata": {},
   "outputs": [
    {
     "data": {
      "text/plain": [
       "7082   -0.735760\n",
       "7086    0.890521\n",
       "7090   -0.549377\n",
       "7091    1.084213\n",
       "7093   -0.571305\n",
       "7097   -0.567650\n",
       "7098    0.170572\n",
       "7100   -0.922143\n",
       "7101   -0.914834\n",
       "7103    2.184237\n",
       "Name: tmin_diff_z, dtype: float64"
      ]
     },
     "execution_count": 23,
     "metadata": {},
     "output_type": "execute_result"
    }
   ],
   "source": [
    "df_paired_10k.loc[:, 'tmin_diff_z'].head(10)"
   ]
  },
  {
   "cell_type": "code",
   "execution_count": 24,
   "metadata": {},
   "outputs": [
    {
     "data": {
      "text/plain": [
       "<matplotlib.axes._subplots.AxesSubplot at 0x109ef250>"
      ]
     },
     "execution_count": 24,
     "metadata": {},
     "output_type": "execute_result"
    },
    {
     "data": {
      "image/png": "[encoded data removed]",
      "text/plain": [
       "<Figure size 432x288 with 1 Axes>"
      ]
     },
     "metadata": {
      "needs_background": "light"
     },
     "output_type": "display_data"
    }
   ],
   "source": [
    "df_paired_10k.loc[:, 'tmin_diff_z'].plot.hist(bins=100)"
   ]
  },
  {
   "cell_type": "markdown",
   "metadata": {},
   "source": [
    "Eliminate outliers (z > 2.96):"
   ]
  },
  {
   "cell_type": "code",
   "execution_count": 25,
   "metadata": {},
   "outputs": [
    {
     "name": "stdout",
     "output_type": "stream",
     "text": [
      "Rows in 10km temp-screened dataset: 30236\n",
      "Rows in no outlier dataset: 29281\n"
     ]
    }
   ],
   "source": [
    "df_paired_noout = df_paired_10k.loc[((df_paired_10k.loc[:, 'tmin_diff_z'].abs() < 2.96) &\n",
    "                                     (df_paired_10k.loc[:, 'tmax_diff_z'].abs() < 2.96))]\n",
    "\n",
    "print('Rows in 10km temp-screened dataset:', df_paired_10k.index.size)\n",
    "print('Rows in no outlier dataset:', df_paired_noout.index.size)"
   ]
  },
  {
   "cell_type": "markdown",
   "metadata": {},
   "source": [
    "Show box & whisker plots again:"
   ]
  },
  {
   "cell_type": "code",
   "execution_count": 26,
   "metadata": {},
   "outputs": [
    {
     "data": {
      "text/plain": [
       "<matplotlib.axes._subplots.AxesSubplot at 0x10fac250>"
      ]
     },
     "execution_count": 26,
     "metadata": {},
     "output_type": "execute_result"
    },
    {
     "data": {
      "image/png": "[encoded data removed]",
      "text/plain": [
       "<Figure size 432x288 with 1 Axes>"
      ]
     },
     "metadata": {
      "needs_background": "light"
     },
     "output_type": "display_data"
    }
   ],
   "source": [
    "df_paired_noout.boxplot(column=['tmin_diff_abs', 'tmax_diff_abs'])"
   ]
  },
  {
   "cell_type": "markdown",
   "metadata": {},
   "source": [
    "### Counting:<br>\n",
    "\n",
    "Unique station count:"
   ]
  },
  {
   "cell_type": "code",
   "execution_count": 27,
   "metadata": {},
   "outputs": [
    {
     "data": {
      "text/plain": [
       "11652"
      ]
     },
     "execution_count": 27,
     "metadata": {},
     "output_type": "execute_result"
    }
   ],
   "source": [
    "df_paired.loc[:, 'id'].value_counts()\n",
    "station_list = df_paired.loc[:, 'id'].unique()\n",
    "len(station_list)"
   ]
  },
  {
   "cell_type": "markdown",
   "metadata": {},
   "source": [
    "Total rows:"
   ]
  },
  {
   "cell_type": "code",
   "execution_count": 28,
   "metadata": {},
   "outputs": [
    {
     "data": {
      "text/plain": [
       "109390"
      ]
     },
     "execution_count": 28,
     "metadata": {},
     "output_type": "execute_result"
    }
   ],
   "source": [
    "df_paired.index.size"
   ]
  },
  {
   "cell_type": "markdown",
   "metadata": {},
   "source": [
    "Rows with closest stations under 10 km:"
   ]
  },
  {
   "cell_type": "code",
   "execution_count": 29,
   "metadata": {},
   "outputs": [
    {
     "data": {
      "text/plain": [
       "30236"
      ]
     },
     "execution_count": 29,
     "metadata": {},
     "output_type": "execute_result"
    }
   ],
   "source": [
    "df_paired_10k.index.size"
   ]
  },
  {
   "cell_type": "markdown",
   "metadata": {},
   "source": [
    "Histogram of station distances:"
   ]
  },
  {
   "cell_type": "code",
   "execution_count": 30,
   "metadata": {},
   "outputs": [
    {
     "data": {
      "text/plain": [
       "<matplotlib.axes._subplots.AxesSubplot at 0x102a4570>"
      ]
     },
     "execution_count": 30,
     "metadata": {},
     "output_type": "execute_result"
    },
    {
     "data": {
      "image/png": "[encoded data removed]",
      "text/plain": [
       "<Figure size 432x288 with 1 Axes>"
      ]
     },
     "metadata": {
      "needs_background": "light"
     },
     "output_type": "display_data"
    }
   ],
   "source": [
    "df_paired_10k.loc[:, 'distance'].plot.hist(bins=100)"
   ]
  },
  {
   "cell_type": "markdown",
   "metadata": {},
   "source": [
    "Scatter plot of station distance with mean temperature difference:"
   ]
  },
  {
   "cell_type": "code",
   "execution_count": 31,
   "metadata": {},
   "outputs": [
    {
     "data": {
      "text/plain": [
       "<matplotlib.axes._subplots.AxesSubplot at 0x1097cf10>"
      ]
     },
     "execution_count": 31,
     "metadata": {},
     "output_type": "execute_result"
    },
    {
     "data": {
      "image/png": "[encoded data removed]",
      "text/plain": [
       "<Figure size 432x288 with 1 Axes>"
      ]
     },
     "metadata": {
      "needs_background": "light"
     },
     "output_type": "display_data"
    }
   ],
   "source": [
    "df_paired_noout.plot.scatter(x='distance',\n",
    "                             y='tmin_diff_abs',\n",
    "                             s=1)"
   ]
  },
  {
   "cell_type": "code",
   "execution_count": 32,
   "metadata": {},
   "outputs": [
    {
     "data": {
      "text/plain": [
       "<matplotlib.axes._subplots.AxesSubplot at 0x12ae0af0>"
      ]
     },
     "execution_count": 32,
     "metadata": {},
     "output_type": "execute_result"
    },
    {
     "data": {
      "image/png": "[encoded data removed]",
      "text/plain": [
       "<Figure size 432x288 with 1 Axes>"
      ]
     },
     "metadata": {
      "needs_background": "light"
     },
     "output_type": "display_data"
    }
   ],
   "source": [
    "df_paired_noout.plot.scatter(x='distance',\n",
    "                             y='tmax_diff_abs',\n",
    "                             s=1)"
   ]
  },
  {
   "cell_type": "code",
   "execution_count": null,
   "metadata": {},
   "outputs": [],
   "source": []
  }
 ],
 "metadata": {
  "kernelspec": {
   "display_name": "Python 3",
   "language": "python",
   "name": "python3"
  },
  "language_info": {
   "codemirror_mode": {
    "name": "ipython",
    "version": 3
   },
   "file_extension": ".py",
   "mimetype": "text/x-python",
   "name": "python",
   "nbconvert_exporter": "python",
   "pygments_lexer": "ipython3",
   "version": "3.7.4"
  }
 },
 "nbformat": 4,
 "nbformat_minor": 4
}
