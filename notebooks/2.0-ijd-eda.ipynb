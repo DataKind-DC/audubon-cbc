{
 "cells": [
  {
   "cell_type": "markdown",
   "metadata": {},
   "source": [
    "# Exploratory Data Analysis\n",
    "### Purpose\n",
    "The purpose of this notebook is to explore the Audubon circle and NOAA data.\n",
    "This notebook addresses some one of the tasks in Github issue #36\n",
    "\n",
    "### Author: \n",
    "Ian Davis\n",
    "### Date: \n",
    "2020-02-17\n",
    "### Update Date: \n",
    "2020-05-13\n",
    "\n",
    "### Inputs \n",
    "1.3-rec-connecting-fips-ecosystem-data.csv - Comma separate file of the Christmas Bird Count and matches to 1 or more NOAA weather stations.\n",
    "- Data Dictonary can be found here: http://www.audubon.org/sites/default/files/documents/cbc_report_field_definitions_2013.pdf\n",
    "\n",
    "### Output Files\n",
    "None\n",
    "\n",
    "## Steps or Proceedures in the notebook \n",
    "- Set runtime options\n",
    "- Import data and do initial counts\n",
    "- Screen the data\n",
    "- Check for Outliers\n",
    "- Summary statistics and simple visualizations\n",
    "\n",
    "## References\n",
    "- elevation change and temperature: https://sciencing.com/info-8686864-latitude-altitude-affect-temperature.html"
   ]
  },
  {
   "cell_type": "markdown",
   "metadata": {},
   "source": [
    "### See data dictionary: \n",
    "\n",
    "http://www.audubon.org/sites/default/files/documents/cbc_report_field_definitions_2013.pdf"
   ]
  },
  {
   "cell_type": "code",
   "execution_count": 6,
   "metadata": {},
   "outputs": [],
   "source": [
    "import numpy as np\n",
    "import pandas as pd\n",
    "import plotly_express as px\n",
    "import matplotlib.pyplot as plt\n",
    "import datetime\n",
    "from scipy import stats\n",
    "import sys\n",
    "\n",
    "# add scripts folder to path\n",
    "sys.path.insert(1, '../scripts')\n",
    "\n",
    "# user import\n",
    "from calcs import main_calcs\n",
    "\n",
    "pd.set_option('display.max_columns', 500)"
   ]
  },
  {
   "cell_type": "markdown",
   "metadata": {},
   "source": [
    "## Set File Paths and Runtime Options"
   ]
  },
  {
   "cell_type": "code",
   "execution_count": 7,
   "metadata": {},
   "outputs": [],
   "source": [
    "#PATH_TO_PAIRED_DATA = '../data/Cloud_data/1.2-ijd-fetch-circle-elevations_20200502155633.csv'\n",
    "PATH_TO_PAIRED_DATA = '../data/Cloud_data/1.3-rec-connecting-fips-ecosystem-data.txt'"
   ]
  },
  {
   "cell_type": "markdown",
   "metadata": {},
   "source": [
    "## Read in Data"
   ]
  },
  {
   "cell_type": "code",
   "execution_count": 11,
   "metadata": {},
   "outputs": [
    {
     "name": "stderr",
     "output_type": "stream",
     "text": [
      "/Users/rcdebaca/.pyenv/versions/funhacks371/lib/python3.7/site-packages/IPython/core/interactiveshell.py:3063: DtypeWarning: Columns (62,64,65,71,73,75,77) have mixed types.Specify dtype option on import or set low_memory=False.\n",
      "  interactivity=interactivity, compiler=compiler, result=result)\n"
     ]
    }
   ],
   "source": [
    "# Read in unfinished dataset\n",
    "df_paired = pd.read_csv(PATH_TO_PAIRED_DATA, compression='gzip', sep = \"\\t\")"
   ]
  },
  {
   "cell_type": "code",
   "execution_count": 12,
   "metadata": {},
   "outputs": [
    {
     "data": {
      "text/html": [
       "<div>\n",
       "<style scoped>\n",
       "    .dataframe tbody tr th:only-of-type {\n",
       "        vertical-align: middle;\n",
       "    }\n",
       "\n",
       "    .dataframe tbody tr th {\n",
       "        vertical-align: top;\n",
       "    }\n",
       "\n",
       "    .dataframe thead th {\n",
       "        text-align: right;\n",
       "    }\n",
       "</style>\n",
       "<table border=\"1\" class=\"dataframe\">\n",
       "  <thead>\n",
       "    <tr style=\"text-align: right;\">\n",
       "      <th></th>\n",
       "      <th>circle_name</th>\n",
       "      <th>country_state</th>\n",
       "      <th>lat</th>\n",
       "      <th>lon</th>\n",
       "      <th>count_year</th>\n",
       "      <th>count_date</th>\n",
       "      <th>n_field_counters</th>\n",
       "      <th>n_feeder_counters</th>\n",
       "      <th>min_field_parties</th>\n",
       "      <th>max_field_parties</th>\n",
       "      <th>field_hours</th>\n",
       "      <th>feeder_hours</th>\n",
       "      <th>nocturnal_hours</th>\n",
       "      <th>field_distance</th>\n",
       "      <th>nocturnal_distance</th>\n",
       "      <th>distance_units</th>\n",
       "      <th>min_temp</th>\n",
       "      <th>max_temp</th>\n",
       "      <th>temp_unit</th>\n",
       "      <th>min_wind</th>\n",
       "      <th>max_wind</th>\n",
       "      <th>wind_unit</th>\n",
       "      <th>min_snow</th>\n",
       "      <th>max_snow</th>\n",
       "      <th>snow_unit</th>\n",
       "      <th>am_cloud</th>\n",
       "      <th>pm_cloud</th>\n",
       "      <th>field_distance_imperial</th>\n",
       "      <th>field_distance_metric</th>\n",
       "      <th>nocturnal_distance_imperial</th>\n",
       "      <th>nocturnal_distance_metric</th>\n",
       "      <th>min_snow_imperial</th>\n",
       "      <th>min_snow_metric</th>\n",
       "      <th>max_snow_metric</th>\n",
       "      <th>max_snow_imperial</th>\n",
       "      <th>min_temp_imperial</th>\n",
       "      <th>max_temp_imperial</th>\n",
       "      <th>min_temp_metric</th>\n",
       "      <th>max_temp_metric</th>\n",
       "      <th>min_wind_metric</th>\n",
       "      <th>max_wind_metric</th>\n",
       "      <th>min_wind_imperial</th>\n",
       "      <th>max_wind_imperial</th>\n",
       "      <th>ui</th>\n",
       "      <th>geohash_circle</th>\n",
       "      <th>circle_id</th>\n",
       "      <th>id</th>\n",
       "      <th>latitude</th>\n",
       "      <th>longitude</th>\n",
       "      <th>elevation</th>\n",
       "      <th>state</th>\n",
       "      <th>name</th>\n",
       "      <th>gsn_flag</th>\n",
       "      <th>hcn_crn_flag</th>\n",
       "      <th>wmoid</th>\n",
       "      <th>geohash_station</th>\n",
       "      <th>temp_min_value</th>\n",
       "      <th>temp_max_value</th>\n",
       "      <th>precipitation_value</th>\n",
       "      <th>temp_avg</th>\n",
       "      <th>snow</th>\n",
       "      <th>snwd</th>\n",
       "      <th>am_rain</th>\n",
       "      <th>pm_rain</th>\n",
       "      <th>am_snow</th>\n",
       "      <th>pm_snow</th>\n",
       "      <th>circle_elev</th>\n",
       "      <th>elevation_source</th>\n",
       "      <th>block_fips</th>\n",
       "      <th>county_fips</th>\n",
       "      <th>Ecosys_circle</th>\n",
       "      <th>Usgsid_sys_circle</th>\n",
       "      <th>Nlcd_code_circle</th>\n",
       "      <th>Nlcd_circle</th>\n",
       "      <th>Ecosys_station</th>\n",
       "      <th>Usgsid_sys_station</th>\n",
       "      <th>Nlcd_code_station</th>\n",
       "      <th>Nlcd_station</th>\n",
       "    </tr>\n",
       "  </thead>\n",
       "  <tbody>\n",
       "    <tr>\n",
       "      <th>0</th>\n",
       "      <td>Hawai'i: Volcano N.P.</td>\n",
       "      <td>US-HI</td>\n",
       "      <td>19.4333</td>\n",
       "      <td>-155.2833</td>\n",
       "      <td>1955</td>\n",
       "      <td>1955-01-01</td>\n",
       "      <td>11.0</td>\n",
       "      <td>NaN</td>\n",
       "      <td>NaN</td>\n",
       "      <td>NaN</td>\n",
       "      <td>23.0</td>\n",
       "      <td>NaN</td>\n",
       "      <td>NaN</td>\n",
       "      <td>45.0</td>\n",
       "      <td>NaN</td>\n",
       "      <td>Miles</td>\n",
       "      <td>NaN</td>\n",
       "      <td>NaN</td>\n",
       "      <td>NaN</td>\n",
       "      <td>NaN</td>\n",
       "      <td>NaN</td>\n",
       "      <td>NaN</td>\n",
       "      <td>NaN</td>\n",
       "      <td>NaN</td>\n",
       "      <td>NaN</td>\n",
       "      <td>NaN</td>\n",
       "      <td>NaN</td>\n",
       "      <td>45.0</td>\n",
       "      <td>72.417123</td>\n",
       "      <td>NaN</td>\n",
       "      <td>NaN</td>\n",
       "      <td>NaN</td>\n",
       "      <td>NaN</td>\n",
       "      <td>NaN</td>\n",
       "      <td>NaN</td>\n",
       "      <td>NaN</td>\n",
       "      <td>NaN</td>\n",
       "      <td>NaN</td>\n",
       "      <td>NaN</td>\n",
       "      <td>NaN</td>\n",
       "      <td>NaN</td>\n",
       "      <td>NaN</td>\n",
       "      <td>NaN</td>\n",
       "      <td>19.4333-155.2833_1955</td>\n",
       "      <td>8e3w</td>\n",
       "      <td>8e3wd3w</td>\n",
       "      <td>USC00511303</td>\n",
       "      <td>19.4297</td>\n",
       "      <td>-155.2561</td>\n",
       "      <td>1210.40</td>\n",
       "      <td>HI</td>\n",
       "      <td>HAWAII VOL NP HQ 54</td>\n",
       "      <td></td>\n",
       "      <td></td>\n",
       "      <td>NaN</td>\n",
       "      <td>8e3w</td>\n",
       "      <td>100.0</td>\n",
       "      <td>161.0</td>\n",
       "      <td>180.0</td>\n",
       "      <td>NaN</td>\n",
       "      <td>0.0</td>\n",
       "      <td>0.0</td>\n",
       "      <td>NaN</td>\n",
       "      <td>NaN</td>\n",
       "      <td>NaN</td>\n",
       "      <td>NaN</td>\n",
       "      <td>1228.18</td>\n",
       "      <td>ghcn_d</td>\n",
       "      <td>NaN</td>\n",
       "      <td>NaN</td>\n",
       "      <td>NaN</td>\n",
       "      <td>NaN</td>\n",
       "      <td>NaN</td>\n",
       "      <td>NaN</td>\n",
       "      <td>NaN</td>\n",
       "      <td>NaN</td>\n",
       "      <td>NaN</td>\n",
       "      <td>NaN</td>\n",
       "    </tr>\n",
       "    <tr>\n",
       "      <th>1</th>\n",
       "      <td>Hawai'i: Volcano N.P.</td>\n",
       "      <td>US-HI</td>\n",
       "      <td>19.4333</td>\n",
       "      <td>-155.2833</td>\n",
       "      <td>1956</td>\n",
       "      <td>1955-12-31</td>\n",
       "      <td>11.0</td>\n",
       "      <td>NaN</td>\n",
       "      <td>NaN</td>\n",
       "      <td>NaN</td>\n",
       "      <td>32.0</td>\n",
       "      <td>NaN</td>\n",
       "      <td>NaN</td>\n",
       "      <td>104.0</td>\n",
       "      <td>NaN</td>\n",
       "      <td>Miles</td>\n",
       "      <td>NaN</td>\n",
       "      <td>NaN</td>\n",
       "      <td>NaN</td>\n",
       "      <td>NaN</td>\n",
       "      <td>NaN</td>\n",
       "      <td>NaN</td>\n",
       "      <td>NaN</td>\n",
       "      <td>NaN</td>\n",
       "      <td>NaN</td>\n",
       "      <td>NaN</td>\n",
       "      <td>NaN</td>\n",
       "      <td>104.0</td>\n",
       "      <td>167.364017</td>\n",
       "      <td>NaN</td>\n",
       "      <td>NaN</td>\n",
       "      <td>NaN</td>\n",
       "      <td>NaN</td>\n",
       "      <td>NaN</td>\n",
       "      <td>NaN</td>\n",
       "      <td>NaN</td>\n",
       "      <td>NaN</td>\n",
       "      <td>NaN</td>\n",
       "      <td>NaN</td>\n",
       "      <td>NaN</td>\n",
       "      <td>NaN</td>\n",
       "      <td>NaN</td>\n",
       "      <td>NaN</td>\n",
       "      <td>19.4333-155.2833_1956</td>\n",
       "      <td>8e3w</td>\n",
       "      <td>8e3wd3w</td>\n",
       "      <td>USC00511303</td>\n",
       "      <td>19.4297</td>\n",
       "      <td>-155.2561</td>\n",
       "      <td>1210.40</td>\n",
       "      <td>HI</td>\n",
       "      <td>HAWAII VOL NP HQ 54</td>\n",
       "      <td></td>\n",
       "      <td></td>\n",
       "      <td>NaN</td>\n",
       "      <td>8e3w</td>\n",
       "      <td>117.0</td>\n",
       "      <td>189.0</td>\n",
       "      <td>290.0</td>\n",
       "      <td>NaN</td>\n",
       "      <td>0.0</td>\n",
       "      <td>0.0</td>\n",
       "      <td>NaN</td>\n",
       "      <td>NaN</td>\n",
       "      <td>NaN</td>\n",
       "      <td>NaN</td>\n",
       "      <td>1228.18</td>\n",
       "      <td>ghcn_d</td>\n",
       "      <td>NaN</td>\n",
       "      <td>NaN</td>\n",
       "      <td>NaN</td>\n",
       "      <td>NaN</td>\n",
       "      <td>NaN</td>\n",
       "      <td>NaN</td>\n",
       "      <td>NaN</td>\n",
       "      <td>NaN</td>\n",
       "      <td>NaN</td>\n",
       "      <td>NaN</td>\n",
       "    </tr>\n",
       "    <tr>\n",
       "      <th>2</th>\n",
       "      <td>Hawai'i: Volcano N.P.</td>\n",
       "      <td>US-HI</td>\n",
       "      <td>19.4333</td>\n",
       "      <td>-155.2833</td>\n",
       "      <td>1968</td>\n",
       "      <td>1967-12-30</td>\n",
       "      <td>2.0</td>\n",
       "      <td>NaN</td>\n",
       "      <td>NaN</td>\n",
       "      <td>NaN</td>\n",
       "      <td>14.0</td>\n",
       "      <td>NaN</td>\n",
       "      <td>NaN</td>\n",
       "      <td>62.0</td>\n",
       "      <td>NaN</td>\n",
       "      <td>Miles</td>\n",
       "      <td>54.0</td>\n",
       "      <td>66.0</td>\n",
       "      <td>NaN</td>\n",
       "      <td>3.0</td>\n",
       "      <td>6.0</td>\n",
       "      <td>NaN</td>\n",
       "      <td>0.0</td>\n",
       "      <td>0.0</td>\n",
       "      <td>NaN</td>\n",
       "      <td>2.0</td>\n",
       "      <td>2.0</td>\n",
       "      <td>62.0</td>\n",
       "      <td>99.774702</td>\n",
       "      <td>NaN</td>\n",
       "      <td>NaN</td>\n",
       "      <td>0.0</td>\n",
       "      <td>0.0</td>\n",
       "      <td>0.0</td>\n",
       "      <td>0.0</td>\n",
       "      <td>NaN</td>\n",
       "      <td>NaN</td>\n",
       "      <td>12.222222</td>\n",
       "      <td>18.888889</td>\n",
       "      <td>4.827808</td>\n",
       "      <td>9.655616</td>\n",
       "      <td>1.8642</td>\n",
       "      <td>3.7284</td>\n",
       "      <td>19.4333-155.2833_1968</td>\n",
       "      <td>8e3w</td>\n",
       "      <td>8e3wd3w</td>\n",
       "      <td>US1HIHI0013</td>\n",
       "      <td>19.4391</td>\n",
       "      <td>-155.2156</td>\n",
       "      <td>1059.20</td>\n",
       "      <td>HI</td>\n",
       "      <td>VOLCANO 4.3 SSE</td>\n",
       "      <td></td>\n",
       "      <td></td>\n",
       "      <td>NaN</td>\n",
       "      <td>8e3w</td>\n",
       "      <td>NaN</td>\n",
       "      <td>NaN</td>\n",
       "      <td>NaN</td>\n",
       "      <td>NaN</td>\n",
       "      <td>NaN</td>\n",
       "      <td>NaN</td>\n",
       "      <td>3</td>\n",
       "      <td>2</td>\n",
       "      <td>3</td>\n",
       "      <td>3</td>\n",
       "      <td>1228.18</td>\n",
       "      <td>ghcn_d</td>\n",
       "      <td>NaN</td>\n",
       "      <td>NaN</td>\n",
       "      <td>NaN</td>\n",
       "      <td>NaN</td>\n",
       "      <td>NaN</td>\n",
       "      <td>NaN</td>\n",
       "      <td>NaN</td>\n",
       "      <td>NaN</td>\n",
       "      <td>NaN</td>\n",
       "      <td>NaN</td>\n",
       "    </tr>\n",
       "    <tr>\n",
       "      <th>3</th>\n",
       "      <td>Hawai'i: Volcano N.P.</td>\n",
       "      <td>US-HI</td>\n",
       "      <td>19.4333</td>\n",
       "      <td>-155.2833</td>\n",
       "      <td>1968</td>\n",
       "      <td>1967-12-30</td>\n",
       "      <td>2.0</td>\n",
       "      <td>NaN</td>\n",
       "      <td>NaN</td>\n",
       "      <td>NaN</td>\n",
       "      <td>14.0</td>\n",
       "      <td>NaN</td>\n",
       "      <td>NaN</td>\n",
       "      <td>62.0</td>\n",
       "      <td>NaN</td>\n",
       "      <td>Miles</td>\n",
       "      <td>54.0</td>\n",
       "      <td>66.0</td>\n",
       "      <td>NaN</td>\n",
       "      <td>3.0</td>\n",
       "      <td>6.0</td>\n",
       "      <td>NaN</td>\n",
       "      <td>0.0</td>\n",
       "      <td>0.0</td>\n",
       "      <td>NaN</td>\n",
       "      <td>2.0</td>\n",
       "      <td>2.0</td>\n",
       "      <td>62.0</td>\n",
       "      <td>99.774702</td>\n",
       "      <td>NaN</td>\n",
       "      <td>NaN</td>\n",
       "      <td>0.0</td>\n",
       "      <td>0.0</td>\n",
       "      <td>0.0</td>\n",
       "      <td>0.0</td>\n",
       "      <td>NaN</td>\n",
       "      <td>NaN</td>\n",
       "      <td>12.222222</td>\n",
       "      <td>18.888889</td>\n",
       "      <td>4.827808</td>\n",
       "      <td>9.655616</td>\n",
       "      <td>1.8642</td>\n",
       "      <td>3.7284</td>\n",
       "      <td>19.4333-155.2833_1968</td>\n",
       "      <td>8e3w</td>\n",
       "      <td>8e3wd3w</td>\n",
       "      <td>US1HIHI0071</td>\n",
       "      <td>19.4414</td>\n",
       "      <td>-155.2487</td>\n",
       "      <td>1194.80</td>\n",
       "      <td>HI</td>\n",
       "      <td>VOLCANO 4.0 S</td>\n",
       "      <td></td>\n",
       "      <td></td>\n",
       "      <td>NaN</td>\n",
       "      <td>8e3w</td>\n",
       "      <td>NaN</td>\n",
       "      <td>NaN</td>\n",
       "      <td>NaN</td>\n",
       "      <td>NaN</td>\n",
       "      <td>NaN</td>\n",
       "      <td>NaN</td>\n",
       "      <td>3</td>\n",
       "      <td>2</td>\n",
       "      <td>3</td>\n",
       "      <td>3</td>\n",
       "      <td>1228.18</td>\n",
       "      <td>ghcn_d</td>\n",
       "      <td>NaN</td>\n",
       "      <td>NaN</td>\n",
       "      <td>NaN</td>\n",
       "      <td>NaN</td>\n",
       "      <td>NaN</td>\n",
       "      <td>NaN</td>\n",
       "      <td>NaN</td>\n",
       "      <td>NaN</td>\n",
       "      <td>NaN</td>\n",
       "      <td>NaN</td>\n",
       "    </tr>\n",
       "    <tr>\n",
       "      <th>4</th>\n",
       "      <td>Hawai'i: Volcano N.P.</td>\n",
       "      <td>US-HI</td>\n",
       "      <td>19.4333</td>\n",
       "      <td>-155.2833</td>\n",
       "      <td>1968</td>\n",
       "      <td>1967-12-30</td>\n",
       "      <td>2.0</td>\n",
       "      <td>NaN</td>\n",
       "      <td>NaN</td>\n",
       "      <td>NaN</td>\n",
       "      <td>14.0</td>\n",
       "      <td>NaN</td>\n",
       "      <td>NaN</td>\n",
       "      <td>62.0</td>\n",
       "      <td>NaN</td>\n",
       "      <td>Miles</td>\n",
       "      <td>54.0</td>\n",
       "      <td>66.0</td>\n",
       "      <td>NaN</td>\n",
       "      <td>3.0</td>\n",
       "      <td>6.0</td>\n",
       "      <td>NaN</td>\n",
       "      <td>0.0</td>\n",
       "      <td>0.0</td>\n",
       "      <td>NaN</td>\n",
       "      <td>2.0</td>\n",
       "      <td>2.0</td>\n",
       "      <td>62.0</td>\n",
       "      <td>99.774702</td>\n",
       "      <td>NaN</td>\n",
       "      <td>NaN</td>\n",
       "      <td>0.0</td>\n",
       "      <td>0.0</td>\n",
       "      <td>0.0</td>\n",
       "      <td>0.0</td>\n",
       "      <td>NaN</td>\n",
       "      <td>NaN</td>\n",
       "      <td>12.222222</td>\n",
       "      <td>18.888889</td>\n",
       "      <td>4.827808</td>\n",
       "      <td>9.655616</td>\n",
       "      <td>1.8642</td>\n",
       "      <td>3.7284</td>\n",
       "      <td>19.4333-155.2833_1968</td>\n",
       "      <td>8e3w</td>\n",
       "      <td>8e3wd3w</td>\n",
       "      <td>USC00514563</td>\n",
       "      <td>19.4094</td>\n",
       "      <td>-155.2608</td>\n",
       "      <td>1079.87</td>\n",
       "      <td>HI</td>\n",
       "      <td>KILAUEA CAMP</td>\n",
       "      <td></td>\n",
       "      <td></td>\n",
       "      <td>NaN</td>\n",
       "      <td>8e3w</td>\n",
       "      <td>NaN</td>\n",
       "      <td>NaN</td>\n",
       "      <td>NaN</td>\n",
       "      <td>NaN</td>\n",
       "      <td>NaN</td>\n",
       "      <td>NaN</td>\n",
       "      <td>3</td>\n",
       "      <td>2</td>\n",
       "      <td>3</td>\n",
       "      <td>3</td>\n",
       "      <td>1228.18</td>\n",
       "      <td>usgs_api</td>\n",
       "      <td>NaN</td>\n",
       "      <td>NaN</td>\n",
       "      <td>NaN</td>\n",
       "      <td>NaN</td>\n",
       "      <td>NaN</td>\n",
       "      <td>NaN</td>\n",
       "      <td>NaN</td>\n",
       "      <td>NaN</td>\n",
       "      <td>NaN</td>\n",
       "      <td>NaN</td>\n",
       "    </tr>\n",
       "  </tbody>\n",
       "</table>\n",
       "</div>"
      ],
      "text/plain": [
       "             circle_name country_state      lat       lon  count_year  \\\n",
       "0  Hawai'i: Volcano N.P.         US-HI  19.4333 -155.2833        1955   \n",
       "1  Hawai'i: Volcano N.P.         US-HI  19.4333 -155.2833        1956   \n",
       "2  Hawai'i: Volcano N.P.         US-HI  19.4333 -155.2833        1968   \n",
       "3  Hawai'i: Volcano N.P.         US-HI  19.4333 -155.2833        1968   \n",
       "4  Hawai'i: Volcano N.P.         US-HI  19.4333 -155.2833        1968   \n",
       "\n",
       "   count_date  n_field_counters  n_feeder_counters  min_field_parties  \\\n",
       "0  1955-01-01              11.0                NaN                NaN   \n",
       "1  1955-12-31              11.0                NaN                NaN   \n",
       "2  1967-12-30               2.0                NaN                NaN   \n",
       "3  1967-12-30               2.0                NaN                NaN   \n",
       "4  1967-12-30               2.0                NaN                NaN   \n",
       "\n",
       "   max_field_parties  field_hours  feeder_hours  nocturnal_hours  \\\n",
       "0                NaN         23.0           NaN              NaN   \n",
       "1                NaN         32.0           NaN              NaN   \n",
       "2                NaN         14.0           NaN              NaN   \n",
       "3                NaN         14.0           NaN              NaN   \n",
       "4                NaN         14.0           NaN              NaN   \n",
       "\n",
       "   field_distance  nocturnal_distance distance_units  min_temp  max_temp  \\\n",
       "0            45.0                 NaN          Miles       NaN       NaN   \n",
       "1           104.0                 NaN          Miles       NaN       NaN   \n",
       "2            62.0                 NaN          Miles      54.0      66.0   \n",
       "3            62.0                 NaN          Miles      54.0      66.0   \n",
       "4            62.0                 NaN          Miles      54.0      66.0   \n",
       "\n",
       "   temp_unit  min_wind  max_wind  wind_unit  min_snow  max_snow  snow_unit  \\\n",
       "0        NaN       NaN       NaN        NaN       NaN       NaN        NaN   \n",
       "1        NaN       NaN       NaN        NaN       NaN       NaN        NaN   \n",
       "2        NaN       3.0       6.0        NaN       0.0       0.0        NaN   \n",
       "3        NaN       3.0       6.0        NaN       0.0       0.0        NaN   \n",
       "4        NaN       3.0       6.0        NaN       0.0       0.0        NaN   \n",
       "\n",
       "   am_cloud  pm_cloud  field_distance_imperial  field_distance_metric  \\\n",
       "0       NaN       NaN                     45.0              72.417123   \n",
       "1       NaN       NaN                    104.0             167.364017   \n",
       "2       2.0       2.0                     62.0              99.774702   \n",
       "3       2.0       2.0                     62.0              99.774702   \n",
       "4       2.0       2.0                     62.0              99.774702   \n",
       "\n",
       "   nocturnal_distance_imperial  nocturnal_distance_metric  min_snow_imperial  \\\n",
       "0                          NaN                        NaN                NaN   \n",
       "1                          NaN                        NaN                NaN   \n",
       "2                          NaN                        NaN                0.0   \n",
       "3                          NaN                        NaN                0.0   \n",
       "4                          NaN                        NaN                0.0   \n",
       "\n",
       "   min_snow_metric  max_snow_metric  max_snow_imperial  min_temp_imperial  \\\n",
       "0              NaN              NaN                NaN                NaN   \n",
       "1              NaN              NaN                NaN                NaN   \n",
       "2              0.0              0.0                0.0                NaN   \n",
       "3              0.0              0.0                0.0                NaN   \n",
       "4              0.0              0.0                0.0                NaN   \n",
       "\n",
       "   max_temp_imperial  min_temp_metric  max_temp_metric  min_wind_metric  \\\n",
       "0                NaN              NaN              NaN              NaN   \n",
       "1                NaN              NaN              NaN              NaN   \n",
       "2                NaN        12.222222        18.888889         4.827808   \n",
       "3                NaN        12.222222        18.888889         4.827808   \n",
       "4                NaN        12.222222        18.888889         4.827808   \n",
       "\n",
       "   max_wind_metric  min_wind_imperial  max_wind_imperial  \\\n",
       "0              NaN                NaN                NaN   \n",
       "1              NaN                NaN                NaN   \n",
       "2         9.655616             1.8642             3.7284   \n",
       "3         9.655616             1.8642             3.7284   \n",
       "4         9.655616             1.8642             3.7284   \n",
       "\n",
       "                      ui geohash_circle circle_id           id  latitude  \\\n",
       "0  19.4333-155.2833_1955           8e3w   8e3wd3w  USC00511303   19.4297   \n",
       "1  19.4333-155.2833_1956           8e3w   8e3wd3w  USC00511303   19.4297   \n",
       "2  19.4333-155.2833_1968           8e3w   8e3wd3w  US1HIHI0013   19.4391   \n",
       "3  19.4333-155.2833_1968           8e3w   8e3wd3w  US1HIHI0071   19.4414   \n",
       "4  19.4333-155.2833_1968           8e3w   8e3wd3w  USC00514563   19.4094   \n",
       "\n",
       "   longitude  elevation state                            name gsn_flag  \\\n",
       "0  -155.2561    1210.40    HI  HAWAII VOL NP HQ 54                       \n",
       "1  -155.2561    1210.40    HI  HAWAII VOL NP HQ 54                       \n",
       "2  -155.2156    1059.20    HI  VOLCANO 4.3 SSE                           \n",
       "3  -155.2487    1194.80    HI  VOLCANO 4.0 S                             \n",
       "4  -155.2608    1079.87    HI  KILAUEA CAMP                              \n",
       "\n",
       "  hcn_crn_flag  wmoid geohash_station  temp_min_value  temp_max_value  \\\n",
       "0                 NaN            8e3w           100.0           161.0   \n",
       "1                 NaN            8e3w           117.0           189.0   \n",
       "2                 NaN            8e3w             NaN             NaN   \n",
       "3                 NaN            8e3w             NaN             NaN   \n",
       "4                 NaN            8e3w             NaN             NaN   \n",
       "\n",
       "   precipitation_value  temp_avg  snow  snwd am_rain pm_rain am_snow pm_snow  \\\n",
       "0                180.0       NaN   0.0   0.0     NaN     NaN     NaN     NaN   \n",
       "1                290.0       NaN   0.0   0.0     NaN     NaN     NaN     NaN   \n",
       "2                  NaN       NaN   NaN   NaN       3       2       3       3   \n",
       "3                  NaN       NaN   NaN   NaN       3       2       3       3   \n",
       "4                  NaN       NaN   NaN   NaN       3       2       3       3   \n",
       "\n",
       "   circle_elev elevation_source  block_fips  county_fips  Ecosys_circle  \\\n",
       "0      1228.18           ghcn_d         NaN          NaN            NaN   \n",
       "1      1228.18           ghcn_d         NaN          NaN            NaN   \n",
       "2      1228.18           ghcn_d         NaN          NaN            NaN   \n",
       "3      1228.18           ghcn_d         NaN          NaN            NaN   \n",
       "4      1228.18         usgs_api         NaN          NaN            NaN   \n",
       "\n",
       "  Usgsid_sys_circle  Nlcd_code_circle Nlcd_circle  Ecosys_station  \\\n",
       "0               NaN               NaN         NaN             NaN   \n",
       "1               NaN               NaN         NaN             NaN   \n",
       "2               NaN               NaN         NaN             NaN   \n",
       "3               NaN               NaN         NaN             NaN   \n",
       "4               NaN               NaN         NaN             NaN   \n",
       "\n",
       "  Usgsid_sys_station  Nlcd_code_station Nlcd_station  \n",
       "0                NaN                NaN          NaN  \n",
       "1                NaN                NaN          NaN  \n",
       "2                NaN                NaN          NaN  \n",
       "3                NaN                NaN          NaN  \n",
       "4                NaN                NaN          NaN  "
      ]
     },
     "execution_count": 12,
     "metadata": {},
     "output_type": "execute_result"
    }
   ],
   "source": [
    "df_paired.head()"
   ]
  },
  {
   "cell_type": "markdown",
   "metadata": {},
   "source": [
    "## Calculated Variables"
   ]
  },
  {
   "cell_type": "code",
   "execution_count": 14,
   "metadata": {},
   "outputs": [],
   "source": [
    "df_paired = main_calcs(df_paired)"
   ]
  },
  {
   "cell_type": "markdown",
   "metadata": {},
   "source": [
    "## Data Screening"
   ]
  },
  {
   "cell_type": "markdown",
   "metadata": {},
   "source": [
    "Are there indeces which have negative values for both CBC and NOAA?"
   ]
  },
  {
   "cell_type": "code",
   "execution_count": 15,
   "metadata": {},
   "outputs": [
    {
     "data": {
      "text/plain": [
       "2256"
      ]
     },
     "execution_count": 15,
     "metadata": {},
     "output_type": "execute_result"
    }
   ],
   "source": [
    "df_paired.loc[((df_paired.loc[:, 'min_temp'] < 0.0) & \n",
    "               (df_paired.loc[:, 'noaa_tmin_value'] < 0.0))].index.size"
   ]
  },
  {
   "cell_type": "markdown",
   "metadata": {},
   "source": [
    "Any negative temperatures in Florida?<br>\n",
    "Lat: 25 to 30<br>\n",
    "Long: -80 to -90"
   ]
  },
  {
   "cell_type": "code",
   "execution_count": 16,
   "metadata": {},
   "outputs": [
    {
     "data": {
      "text/plain": [
       "0"
      ]
     },
     "execution_count": 16,
     "metadata": {},
     "output_type": "execute_result"
    }
   ],
   "source": [
    "df_paired.loc[((df_paired.loc[:, 'noaa_tmin_value'] < 0.0) &\n",
    "               (df_paired.loc[:, 'latitude'] < 30.0) &\n",
    "               (df_paired.loc[:, 'longitude'] > -90.0))].index.size"
   ]
  },
  {
   "cell_type": "markdown",
   "metadata": {},
   "source": [
    "Screen stations with obvious temperature errors:<br>\n",
    "- tmin no less than -100 degF\n",
    "- tmax no greater than 150 degFa\n",
    "- (probably could be more strict, but this is first guess)"
   ]
  },
  {
   "cell_type": "code",
   "execution_count": 17,
   "metadata": {},
   "outputs": [
    {
     "name": "stdout",
     "output_type": "stream",
     "text": [
      "Minimum tmin for circles: -52.0\n",
      "Minimum tmin for NOAA stations: -58.0\n",
      "Minimum tmax for circles: 93.0\n",
      "Minimum tmax for NOAA stations: 140.0\n"
     ]
    }
   ],
   "source": [
    "print('Minimum tmin for circles:', df_paired['min_temp'].min())\n",
    "print('Minimum tmin for NOAA stations:', df_paired['noaa_tmin_value'].min())\n",
    "print('Minimum tmax for circles:', df_paired['max_temp'].max())\n",
    "print('Minimum tmax for NOAA stations:', df_paired['noaa_tmax_value'].max())"
   ]
  },
  {
   "cell_type": "markdown",
   "metadata": {},
   "source": [
    "Are there any 'min_snow' values larger than 'max_snow' ?"
   ]
  },
  {
   "cell_type": "code",
   "execution_count": 18,
   "metadata": {},
   "outputs": [
    {
     "name": "stdout",
     "output_type": "stream",
     "text": [
      "Number of rows: 17\n",
      "                       circle_name  count_date  min_snow  max_snow\n",
      "227400       Angel Fire-Eagle Nest  2011-12-18      12.0       3.0\n",
      "227401       Angel Fire-Eagle Nest  2011-12-18      12.0       3.0\n",
      "227402       Angel Fire-Eagle Nest  2011-12-18      12.0       3.0\n",
      "227403       Angel Fire-Eagle Nest  2011-12-18      12.0       3.0\n",
      "227404       Angel Fire-Eagle Nest  2011-12-18      12.0       3.0\n",
      "227405       Angel Fire-Eagle Nest  2011-12-18      12.0       3.0\n",
      "290190  Southern Dorchester County  1962-12-26       3.0       0.0\n",
      "624049                    Waukesha  2011-12-17       5.0       1.0\n",
      "624050                    Waukesha  2011-12-17       5.0       1.0\n",
      "624051                    Waukesha  2011-12-17       5.0       1.0\n",
      "624052                    Waukesha  2011-12-17       5.0       1.0\n",
      "723062                Presque Isle  2011-12-31       2.0       1.0\n",
      "723063                Presque Isle  2011-12-31       2.0       1.0\n",
      "723064                Presque Isle  2011-12-31       2.0       1.0\n",
      "723065                Presque Isle  2011-12-31       2.0       1.0\n",
      "726932                     Caribou  2011-12-28       4.0       1.0\n",
      "726933                     Caribou  2011-12-28       4.0       1.0\n"
     ]
    }
   ],
   "source": [
    "print('Number of rows:', df_paired.loc[(df_paired.loc[:, 'min_snow'] > df_paired.loc[:, 'max_snow'])].index.size)\n",
    "print(df_paired.loc[(df_paired.loc[:, 'min_snow'] > df_paired.loc[:, 'max_snow']), ['circle_name', 'count_date', 'min_snow', 'max_snow']])"
   ]
  },
  {
   "cell_type": "code",
   "execution_count": 19,
   "metadata": {},
   "outputs": [
    {
     "data": {
      "text/plain": [
       "3        328161\n",
       "4        257505\n",
       "2         77935\n",
       "3.0       16179\n",
       "4.0       12111\n",
       "1         11067\n",
       "3.0        8954\n",
       "4.0        5175\n",
       "2,1        4995\n",
       "3,2        4341\n",
       "3,2,1      1643\n",
       "2.0        1270\n",
       "1.0         260\n",
       "3,1         172\n",
       "2.0          89\n",
       "1,2          30\n",
       "2,3          11\n",
       "1,4           5\n",
       "1,2,3         2\n",
       "3,4           1\n",
       "Name: am_rain, dtype: int64"
      ]
     },
     "execution_count": 19,
     "metadata": {},
     "output_type": "execute_result"
    }
   ],
   "source": [
    "# Sometimes the rain or snow intensity is listed as \"2,1\"\n",
    "# And somewhere along the line these were converted to floats: 32.0 = 3,2 ...probably?\n",
    "df_paired.loc[:, 'am_rain'].value_counts()"
   ]
  },
  {
   "cell_type": "markdown",
   "metadata": {},
   "source": [
    "Rows that contain precipitation values:"
   ]
  },
  {
   "cell_type": "code",
   "execution_count": 20,
   "metadata": {},
   "outputs": [
    {
     "data": {
      "text/plain": [
       "731168"
      ]
     },
     "execution_count": 20,
     "metadata": {},
     "output_type": "execute_result"
    }
   ],
   "source": [
    "df_paired.loc[(df_paired.loc[:, 'cbc_is_prec'] == True)].index.size"
   ]
  },
  {
   "cell_type": "markdown",
   "metadata": {},
   "source": [
    "Check for false positives:"
   ]
  },
  {
   "cell_type": "code",
   "execution_count": 21,
   "metadata": {},
   "outputs": [
    {
     "data": {
      "text/html": [
       "<div>\n",
       "<style scoped>\n",
       "    .dataframe tbody tr th:only-of-type {\n",
       "        vertical-align: middle;\n",
       "    }\n",
       "\n",
       "    .dataframe tbody tr th {\n",
       "        vertical-align: top;\n",
       "    }\n",
       "\n",
       "    .dataframe thead th {\n",
       "        text-align: right;\n",
       "    }\n",
       "</style>\n",
       "<table border=\"1\" class=\"dataframe\">\n",
       "  <thead>\n",
       "    <tr style=\"text-align: right;\">\n",
       "      <th></th>\n",
       "      <th>cbc_is_prec</th>\n",
       "      <th>min_snow</th>\n",
       "      <th>max_snow</th>\n",
       "      <th>am_rain</th>\n",
       "      <th>pm_rain</th>\n",
       "    </tr>\n",
       "  </thead>\n",
       "  <tbody>\n",
       "  </tbody>\n",
       "</table>\n",
       "</div>"
      ],
      "text/plain": [
       "Empty DataFrame\n",
       "Columns: [cbc_is_prec, min_snow, max_snow, am_rain, pm_rain]\n",
       "Index: []"
      ]
     },
     "execution_count": 21,
     "metadata": {},
     "output_type": "execute_result"
    }
   ],
   "source": [
    "df_paired.loc[(df_paired.loc[:, 'cbc_is_prec'] == True) &\n",
    "              (pd.isna(df_paired.loc[:, 'min_snow']) &\n",
    "               pd.isna(df_paired.loc[:, 'max_snow']) &\n",
    "               pd.isna(df_paired.loc[:, 'am_rain']) &\n",
    "               pd.isna(df_paired.loc[:, 'pm_rain'])),\n",
    "              ['cbc_is_prec', 'min_snow', 'max_snow', 'am_rain', 'pm_rain']].head(10)"
   ]
  },
  {
   "cell_type": "markdown",
   "metadata": {},
   "source": [
    "Absolute Temperature Difference:"
   ]
  },
  {
   "cell_type": "code",
   "execution_count": 22,
   "metadata": {},
   "outputs": [
    {
     "name": "stdout",
     "output_type": "stream",
     "text": [
      "Largest temp difference for tmax between circles and stations: 92.08\n",
      "Largest temp difference for tmin between circles and stations: 83.0\n"
     ]
    }
   ],
   "source": [
    "print('Largest temp difference for tmax between circles and stations:', df_paired['tmax_diff_abs'].max())\n",
    "print('Largest temp difference for tmin between circles and stations:', df_paired['tmin_diff_abs'].max())"
   ]
  },
  {
   "cell_type": "markdown",
   "metadata": {},
   "source": [
    "<br>\n",
    "Histogram of tmax absolute difference values:"
   ]
  },
  {
   "cell_type": "code",
   "execution_count": 23,
   "metadata": {},
   "outputs": [
    {
     "data": {
      "text/plain": [
       "<matplotlib.axes._subplots.AxesSubplot at 0x11edd47b8>"
      ]
     },
     "execution_count": 23,
     "metadata": {},
     "output_type": "execute_result"
    },
    {
     "data": {
      "image/png": "[encoded data removed]",
      "text/plain": [
       "<Figure size 432x288 with 1 Axes>"
      ]
     },
     "metadata": {
      "needs_background": "light"
     },
     "output_type": "display_data"
    }
   ],
   "source": [
    "df_paired.loc[:, 'tmin_diff_abs'].plot.hist(bins=100)"
   ]
  },
  {
   "cell_type": "markdown",
   "metadata": {},
   "source": [
    "Histogram of tmin absolute difference values:"
   ]
  },
  {
   "cell_type": "code",
   "execution_count": 24,
   "metadata": {},
   "outputs": [
    {
     "data": {
      "text/plain": [
       "<matplotlib.axes._subplots.AxesSubplot at 0x12b0aa668>"
      ]
     },
     "execution_count": 24,
     "metadata": {},
     "output_type": "execute_result"
    },
    {
     "data": {
      "image/png": "[encoded data removed]",
      "text/plain": [
       "<Figure size 432x288 with 1 Axes>"
      ]
     },
     "metadata": {
      "needs_background": "light"
     },
     "output_type": "display_data"
    }
   ],
   "source": [
    "df_paired.loc[:, 'tmax_diff_abs'].plot.hist(bins=100)"
   ]
  },
  {
   "cell_type": "markdown",
   "metadata": {},
   "source": [
    "Mean temperature difference:"
   ]
  },
  {
   "cell_type": "code",
   "execution_count": 25,
   "metadata": {},
   "outputs": [
    {
     "name": "stdout",
     "output_type": "stream",
     "text": [
      "Tmin Difference Mean & SD: 5.26 ,  5.51\n",
      "Tmax Difference Mean & SD: 5.07 ,  5.74\n"
     ]
    }
   ],
   "source": [
    "# mean temperature difference\n",
    "tmin_diff_mean = df_paired.loc[:, 'tmin_diff_abs'].mean(skipna=True)\n",
    "tmin_diff_std = df_paired.loc[:, 'tmin_diff_abs'].std(skipna=True)\n",
    "tmax_diff_mean = df_paired.loc[:, 'tmax_diff_abs'].mean(skipna=True)\n",
    "tmax_diff_std = df_paired.loc[:, 'tmax_diff_abs'].std(skipna=True)\n",
    "\n",
    "print('Tmin Difference Mean & SD:', round(tmin_diff_mean,2), ', ', round(tmin_diff_std,2))\n",
    "print('Tmax Difference Mean & SD:', round(tmax_diff_mean,2), ', ', round(tmax_diff_std,2))"
   ]
  },
  {
   "cell_type": "markdown",
   "metadata": {},
   "source": [
    "## Outliers\n",
    "\n"
   ]
  },
  {
   "cell_type": "markdown",
   "metadata": {},
   "source": [
    "Screen stations further than 10 km:"
   ]
  },
  {
   "cell_type": "code",
   "execution_count": 26,
   "metadata": {},
   "outputs": [
    {
     "name": "stdout",
     "output_type": "stream",
     "text": [
      "Rows in original dataset: 756378\n",
      "Rows in 10km dataset: 369900\n"
     ]
    }
   ],
   "source": [
    "df_paired_10k = df_paired.loc[(df_paired.loc[:, 'distance'] <= 10000.0), :]\n",
    "print('Rows in original dataset:', df_paired.index.size)\n",
    "print('Rows in 10km dataset:', df_paired_10k.index.size)"
   ]
  },
  {
   "cell_type": "markdown",
   "metadata": {},
   "source": [
    "### ** THAT'S A BIG DROP OFF **"
   ]
  },
  {
   "cell_type": "markdown",
   "metadata": {},
   "source": [
    "Mean temperature difference:"
   ]
  },
  {
   "cell_type": "code",
   "execution_count": 27,
   "metadata": {},
   "outputs": [
    {
     "name": "stdout",
     "output_type": "stream",
     "text": [
      "Tmin Difference Mean & SD: 5.08 ,  5.52\n",
      "Tmax Difference Mean & SD: 4.84 ,  5.72\n"
     ]
    }
   ],
   "source": [
    "tmin_diff_mean = df_paired_10k.loc[:, 'tmin_diff_abs'].mean(skipna=True)\n",
    "tmin_diff_std = df_paired_10k.loc[:, 'tmin_diff_abs'].std(skipna=True)\n",
    "tmax_diff_mean = df_paired_10k.loc[:, 'tmax_diff_abs'].mean(skipna=True)\n",
    "tmax_diff_std = df_paired_10k.loc[:, 'tmax_diff_abs'].std(skipna=True)\n",
    "\n",
    "print('Tmin Difference Mean & SD:', round(tmin_diff_mean,2), ', ', round(tmin_diff_std,2))\n",
    "print('Tmax Difference Mean & SD:', round(tmax_diff_mean,2), ', ', round(tmax_diff_std,2))"
   ]
  },
  {
   "cell_type": "markdown",
   "metadata": {},
   "source": [
    "<br>\n",
    "Box & Whisker Plots:<br>\n",
    "\n",
    "Tmin & Tmax Difference"
   ]
  },
  {
   "cell_type": "code",
   "execution_count": 28,
   "metadata": {},
   "outputs": [
    {
     "data": {
      "text/plain": [
       "<matplotlib.axes._subplots.AxesSubplot at 0x121b1ca20>"
      ]
     },
     "execution_count": 28,
     "metadata": {},
     "output_type": "execute_result"
    },
    {
     "data": {
      "image/png": "[encoded data removed]",
      "text/plain": [
       "<Figure size 432x288 with 1 Axes>"
      ]
     },
     "metadata": {
      "needs_background": "light"
     },
     "output_type": "display_data"
    }
   ],
   "source": [
    "df_paired_10k.boxplot(column=['tmin_diff_abs', 'tmax_diff_abs'])"
   ]
  },
  {
   "cell_type": "markdown",
   "metadata": {},
   "source": [
    "Clearly, there are some actual errors here. Not just outliers."
   ]
  },
  {
   "cell_type": "code",
   "execution_count": 29,
   "metadata": {},
   "outputs": [
    {
     "data": {
      "text/html": [
       "<div>\n",
       "<style scoped>\n",
       "    .dataframe tbody tr th:only-of-type {\n",
       "        vertical-align: middle;\n",
       "    }\n",
       "\n",
       "    .dataframe tbody tr th {\n",
       "        vertical-align: top;\n",
       "    }\n",
       "\n",
       "    .dataframe thead th {\n",
       "        text-align: right;\n",
       "    }\n",
       "</style>\n",
       "<table border=\"1\" class=\"dataframe\">\n",
       "  <thead>\n",
       "    <tr style=\"text-align: right;\">\n",
       "      <th></th>\n",
       "      <th>circle_name</th>\n",
       "      <th>count_date</th>\n",
       "      <th>distance</th>\n",
       "      <th>min_temp</th>\n",
       "      <th>noaa_tmin_value</th>\n",
       "      <th>tmin_diff_abs</th>\n",
       "    </tr>\n",
       "  </thead>\n",
       "  <tbody>\n",
       "    <tr>\n",
       "      <th>275895</th>\n",
       "      <td>Chincoteague N.W.R.</td>\n",
       "      <td>2003-12-28</td>\n",
       "      <td>4046.893371</td>\n",
       "      <td>30.0</td>\n",
       "      <td>113.00</td>\n",
       "      <td>83.00</td>\n",
       "    </tr>\n",
       "    <tr>\n",
       "      <th>144865</th>\n",
       "      <td>Malibu</td>\n",
       "      <td>2011-12-18</td>\n",
       "      <td>7076.027897</td>\n",
       "      <td>45.0</td>\n",
       "      <td>-32.08</td>\n",
       "      <td>77.08</td>\n",
       "    </tr>\n",
       "    <tr>\n",
       "      <th>142530</th>\n",
       "      <td>Santa Cruz Island</td>\n",
       "      <td>2007-12-17</td>\n",
       "      <td>9573.838063</td>\n",
       "      <td>22.0</td>\n",
       "      <td>-54.94</td>\n",
       "      <td>76.94</td>\n",
       "    </tr>\n",
       "    <tr>\n",
       "      <th>669904</th>\n",
       "      <td>Sisters</td>\n",
       "      <td>2001-12-16</td>\n",
       "      <td>3854.408652</td>\n",
       "      <td>22.0</td>\n",
       "      <td>98.06</td>\n",
       "      <td>76.06</td>\n",
       "    </tr>\n",
       "    <tr>\n",
       "      <th>261048</th>\n",
       "      <td>Crystal Springs</td>\n",
       "      <td>2007-12-15</td>\n",
       "      <td>7299.333140</td>\n",
       "      <td>42.0</td>\n",
       "      <td>-32.08</td>\n",
       "      <td>74.08</td>\n",
       "    </tr>\n",
       "    <tr>\n",
       "      <th>261028</th>\n",
       "      <td>Crystal Springs</td>\n",
       "      <td>2006-12-16</td>\n",
       "      <td>7299.333140</td>\n",
       "      <td>38.0</td>\n",
       "      <td>-32.08</td>\n",
       "      <td>70.08</td>\n",
       "    </tr>\n",
       "    <tr>\n",
       "      <th>9854</th>\n",
       "      <td>Kaua'i: Kapa'a</td>\n",
       "      <td>1973-12-31</td>\n",
       "      <td>9421.868369</td>\n",
       "      <td>0.0</td>\n",
       "      <td>69.98</td>\n",
       "      <td>69.98</td>\n",
       "    </tr>\n",
       "    <tr>\n",
       "      <th>342520</th>\n",
       "      <td>Ukiah</td>\n",
       "      <td>2001-12-15</td>\n",
       "      <td>8101.500452</td>\n",
       "      <td>32.0</td>\n",
       "      <td>100.94</td>\n",
       "      <td>68.94</td>\n",
       "    </tr>\n",
       "    <tr>\n",
       "      <th>285338</th>\n",
       "      <td>Calaveras</td>\n",
       "      <td>2008-01-05</td>\n",
       "      <td>9483.063229</td>\n",
       "      <td>32.0</td>\n",
       "      <td>-32.08</td>\n",
       "      <td>64.08</td>\n",
       "    </tr>\n",
       "    <tr>\n",
       "      <th>285332</th>\n",
       "      <td>Calaveras</td>\n",
       "      <td>2006-12-30</td>\n",
       "      <td>9483.063229</td>\n",
       "      <td>30.0</td>\n",
       "      <td>-32.08</td>\n",
       "      <td>62.08</td>\n",
       "    </tr>\n",
       "    <tr>\n",
       "      <th>55812</th>\n",
       "      <td>St. Augustine</td>\n",
       "      <td>1991-12-14</td>\n",
       "      <td>5928.604728</td>\n",
       "      <td>0.0</td>\n",
       "      <td>62.06</td>\n",
       "      <td>62.06</td>\n",
       "    </tr>\n",
       "    <tr>\n",
       "      <th>712228</th>\n",
       "      <td>Tillamook Bay</td>\n",
       "      <td>2004-12-18</td>\n",
       "      <td>9130.810342</td>\n",
       "      <td>40.0</td>\n",
       "      <td>102.02</td>\n",
       "      <td>62.02</td>\n",
       "    </tr>\n",
       "    <tr>\n",
       "      <th>131436</th>\n",
       "      <td>Elsinore</td>\n",
       "      <td>2011-01-02</td>\n",
       "      <td>7544.643135</td>\n",
       "      <td>26.0</td>\n",
       "      <td>87.08</td>\n",
       "      <td>61.08</td>\n",
       "    </tr>\n",
       "    <tr>\n",
       "      <th>25865</th>\n",
       "      <td>Bradenton</td>\n",
       "      <td>1964-12-22</td>\n",
       "      <td>6581.551459</td>\n",
       "      <td>0.0</td>\n",
       "      <td>60.08</td>\n",
       "      <td>60.08</td>\n",
       "    </tr>\n",
       "    <tr>\n",
       "      <th>705440</th>\n",
       "      <td>Holcombe</td>\n",
       "      <td>2006-12-15</td>\n",
       "      <td>8048.504030</td>\n",
       "      <td>86.0</td>\n",
       "      <td>28.04</td>\n",
       "      <td>57.96</td>\n",
       "    </tr>\n",
       "    <tr>\n",
       "      <th>108531</th>\n",
       "      <td>San Diego</td>\n",
       "      <td>2010-12-18</td>\n",
       "      <td>8959.546693</td>\n",
       "      <td>59.0</td>\n",
       "      <td>1.22</td>\n",
       "      <td>57.78</td>\n",
       "    </tr>\n",
       "    <tr>\n",
       "      <th>56515</th>\n",
       "      <td>New Orleans</td>\n",
       "      <td>1982-12-26</td>\n",
       "      <td>7356.330152</td>\n",
       "      <td>7.0</td>\n",
       "      <td>62.06</td>\n",
       "      <td>55.06</td>\n",
       "    </tr>\n",
       "    <tr>\n",
       "      <th>122057</th>\n",
       "      <td>Texarkana</td>\n",
       "      <td>1998-01-03</td>\n",
       "      <td>5437.838881</td>\n",
       "      <td>0.0</td>\n",
       "      <td>50.00</td>\n",
       "      <td>50.00</td>\n",
       "    </tr>\n",
       "    <tr>\n",
       "      <th>170532</th>\n",
       "      <td>Highlands Plateau</td>\n",
       "      <td>2007-12-14</td>\n",
       "      <td>3929.359878</td>\n",
       "      <td>28.0</td>\n",
       "      <td>77.00</td>\n",
       "      <td>49.00</td>\n",
       "    </tr>\n",
       "    <tr>\n",
       "      <th>169303</th>\n",
       "      <td>Chattanooga</td>\n",
       "      <td>1966-01-02</td>\n",
       "      <td>7463.089148</td>\n",
       "      <td>5.0</td>\n",
       "      <td>53.96</td>\n",
       "      <td>48.96</td>\n",
       "    </tr>\n",
       "  </tbody>\n",
       "</table>\n",
       "</div>"
      ],
      "text/plain": [
       "                circle_name  count_date     distance  min_temp  \\\n",
       "275895  Chincoteague N.W.R.  2003-12-28  4046.893371      30.0   \n",
       "144865               Malibu  2011-12-18  7076.027897      45.0   \n",
       "142530    Santa Cruz Island  2007-12-17  9573.838063      22.0   \n",
       "669904              Sisters  2001-12-16  3854.408652      22.0   \n",
       "261048      Crystal Springs  2007-12-15  7299.333140      42.0   \n",
       "261028      Crystal Springs  2006-12-16  7299.333140      38.0   \n",
       "9854         Kaua'i: Kapa'a  1973-12-31  9421.868369       0.0   \n",
       "342520                Ukiah  2001-12-15  8101.500452      32.0   \n",
       "285338            Calaveras  2008-01-05  9483.063229      32.0   \n",
       "285332            Calaveras  2006-12-30  9483.063229      30.0   \n",
       "55812         St. Augustine  1991-12-14  5928.604728       0.0   \n",
       "712228        Tillamook Bay  2004-12-18  9130.810342      40.0   \n",
       "131436             Elsinore  2011-01-02  7544.643135      26.0   \n",
       "25865             Bradenton  1964-12-22  6581.551459       0.0   \n",
       "705440             Holcombe  2006-12-15  8048.504030      86.0   \n",
       "108531            San Diego  2010-12-18  8959.546693      59.0   \n",
       "56515           New Orleans  1982-12-26  7356.330152       7.0   \n",
       "122057            Texarkana  1998-01-03  5437.838881       0.0   \n",
       "170532    Highlands Plateau  2007-12-14  3929.359878      28.0   \n",
       "169303          Chattanooga  1966-01-02  7463.089148       5.0   \n",
       "\n",
       "        noaa_tmin_value  tmin_diff_abs  \n",
       "275895           113.00          83.00  \n",
       "144865           -32.08          77.08  \n",
       "142530           -54.94          76.94  \n",
       "669904            98.06          76.06  \n",
       "261048           -32.08          74.08  \n",
       "261028           -32.08          70.08  \n",
       "9854              69.98          69.98  \n",
       "342520           100.94          68.94  \n",
       "285338           -32.08          64.08  \n",
       "285332           -32.08          62.08  \n",
       "55812             62.06          62.06  \n",
       "712228           102.02          62.02  \n",
       "131436            87.08          61.08  \n",
       "25865             60.08          60.08  \n",
       "705440            28.04          57.96  \n",
       "108531             1.22          57.78  \n",
       "56515             62.06          55.06  \n",
       "122057            50.00          50.00  \n",
       "170532            77.00          49.00  \n",
       "169303            53.96          48.96  "
      ]
     },
     "execution_count": 29,
     "metadata": {},
     "output_type": "execute_result"
    }
   ],
   "source": [
    "df_paired_10k.loc[(df_paired_10k.loc[:, 'tmin_diff_abs'].nlargest(20)).index,\n",
    "                  ['circle_name', 'count_date', 'distance', 'min_temp', 'noaa_tmin_value', 'tmin_diff_abs']]"
   ]
  },
  {
   "cell_type": "markdown",
   "metadata": {},
   "source": [
    "Calculate z-scores:"
   ]
  },
  {
   "cell_type": "code",
   "execution_count": 30,
   "metadata": {},
   "outputs": [
    {
     "name": "stderr",
     "output_type": "stream",
     "text": [
      "/Users/rcdebaca/.pyenv/versions/funhacks371/lib/python3.7/site-packages/pandas/core/indexing.py:845: SettingWithCopyWarning: \n",
      "A value is trying to be set on a copy of a slice from a DataFrame.\n",
      "Try using .loc[row_indexer,col_indexer] = value instead\n",
      "\n",
      "See the caveats in the documentation: https://pandas.pydata.org/pandas-docs/stable/user_guide/indexing.html#returning-a-view-versus-a-copy\n",
      "  self.obj[key] = _infer_fill_value(value)\n",
      "/Users/rcdebaca/.pyenv/versions/funhacks371/lib/python3.7/site-packages/pandas/core/indexing.py:966: SettingWithCopyWarning: \n",
      "A value is trying to be set on a copy of a slice from a DataFrame.\n",
      "Try using .loc[row_indexer,col_indexer] = value instead\n",
      "\n",
      "See the caveats in the documentation: https://pandas.pydata.org/pandas-docs/stable/user_guide/indexing.html#returning-a-view-versus-a-copy\n",
      "  self.obj[item] = s\n"
     ]
    }
   ],
   "source": [
    "df_paired_10k.loc[:, 'tmin_diff_z'] = stats.zscore(df_paired_10k.loc[:, 'tmin_diff_abs'], nan_policy='omit')\n",
    "df_paired_10k.loc[:, 'tmax_diff_z'] = stats.zscore(df_paired_10k.loc[:, 'tmax_diff_abs'], nan_policy='omit')"
   ]
  },
  {
   "cell_type": "markdown",
   "metadata": {},
   "source": [
    "Histogram of z-scores for tmin:"
   ]
  },
  {
   "cell_type": "code",
   "execution_count": 31,
   "metadata": {},
   "outputs": [
    {
     "data": {
      "text/plain": [
       "<matplotlib.axes._subplots.AxesSubplot at 0x121692ac8>"
      ]
     },
     "execution_count": 31,
     "metadata": {},
     "output_type": "execute_result"
    },
    {
     "data": {
      "image/png": "[encoded data removed]",
      "text/plain": [
       "<Figure size 432x288 with 1 Axes>"
      ]
     },
     "metadata": {
      "needs_background": "light"
     },
     "output_type": "display_data"
    }
   ],
   "source": [
    "df_paired_10k.loc[:, 'tmin_diff_z'].plot.hist(bins=100)"
   ]
  },
  {
   "cell_type": "markdown",
   "metadata": {},
   "source": [
    "Eliminate outliers (z > 2.96):"
   ]
  },
  {
   "cell_type": "code",
   "execution_count": 32,
   "metadata": {},
   "outputs": [
    {
     "name": "stdout",
     "output_type": "stream",
     "text": [
      "Rows in 10km temp-screened dataset: 369900\n",
      "Rows in no outlier dataset: 32097\n"
     ]
    }
   ],
   "source": [
    "df_paired_noout = df_paired_10k.loc[((df_paired_10k.loc[:, 'tmin_diff_z'].abs() < 2.96) &\n",
    "                                     (df_paired_10k.loc[:, 'tmax_diff_z'].abs() < 2.96))]\n",
    "\n",
    "print('Rows in 10km temp-screened dataset:', df_paired_10k.index.size)\n",
    "print('Rows in no outlier dataset:', df_paired_noout.index.size)"
   ]
  },
  {
   "cell_type": "markdown",
   "metadata": {},
   "source": [
    "Show box & whisker plots again:"
   ]
  },
  {
   "cell_type": "code",
   "execution_count": 33,
   "metadata": {},
   "outputs": [
    {
     "data": {
      "text/plain": [
       "<matplotlib.axes._subplots.AxesSubplot at 0x12b599c18>"
      ]
     },
     "execution_count": 33,
     "metadata": {},
     "output_type": "execute_result"
    },
    {
     "data": {
      "image/png": "[encoded data removed]",
      "text/plain": [
       "<Figure size 432x288 with 1 Axes>"
      ]
     },
     "metadata": {
      "needs_background": "light"
     },
     "output_type": "display_data"
    }
   ],
   "source": [
    "df_paired_noout.boxplot(column=['tmin_diff_abs', 'tmax_diff_abs'])"
   ]
  },
  {
   "cell_type": "markdown",
   "metadata": {},
   "source": [
    "## Counting:"
   ]
  },
  {
   "cell_type": "code",
   "execution_count": 34,
   "metadata": {},
   "outputs": [
    {
     "name": "stdout",
     "output_type": "stream",
     "text": [
      "Number of unique NOAA stations: 23154\n"
     ]
    }
   ],
   "source": [
    "df_paired.loc[:, 'id'].value_counts()\n",
    "station_list = df_paired.loc[:, 'id'].unique()\n",
    "print('Number of unique NOAA stations:', len(station_list))"
   ]
  },
  {
   "cell_type": "code",
   "execution_count": 35,
   "metadata": {},
   "outputs": [
    {
     "name": "stdout",
     "output_type": "stream",
     "text": [
      "Total number of rows in the dataset:\n",
      "\n",
      "Original dataset: 756378\n",
      "Circle-to-NOAA distance under 10km: 369900\n",
      "Outliers removed based on temperature: 32097\n"
     ]
    }
   ],
   "source": [
    "print('Total number of rows in the dataset:\\n')\n",
    "print('Original dataset:', df_paired.index.size)\n",
    "print('Circle-to-NOAA distance under 10km:', df_paired_10k.index.size)\n",
    "print('Outliers removed based on temperature:', df_paired_noout.index.size)"
   ]
  },
  {
   "cell_type": "markdown",
   "metadata": {},
   "source": [
    "How many records have CBC data but not NOAA data?"
   ]
  },
  {
   "cell_type": "code",
   "execution_count": 36,
   "metadata": {},
   "outputs": [
    {
     "name": "stdout",
     "output_type": "stream",
     "text": [
      "tmin: 7770\n",
      "tmax: 7794\n",
      "precipitation: 72795\n"
     ]
    }
   ],
   "source": [
    "print('tmin:', df_paired.loc[pd.isnull(df_paired.loc[:, 'min_temp']) &\n",
    "                             pd.isna(df_paired.loc[:, 'noaa_tmin_value'])].index.size)\n",
    "print('tmax:', df_paired.loc[pd.isnull(df_paired.loc[:, 'max_temp']) &\n",
    "                             pd.isna(df_paired.loc[:, 'noaa_tmax_value'])].index.size)\n",
    "print('precipitation:', df_paired.loc[(df_paired.loc[:, 'cbc_is_prec'] == True) &\n",
    "                             (df_paired.loc[:, 'precipitation_value'] == 0)].index.size)"
   ]
  },
  {
   "cell_type": "markdown",
   "metadata": {},
   "source": [
    "How many states are included in the CBC counts?"
   ]
  },
  {
   "cell_type": "code",
   "execution_count": 37,
   "metadata": {},
   "outputs": [
    {
     "name": "stdout",
     "output_type": "stream",
     "text": [
      "['US-HI' 'US-FL' 'US-TX' 'us-fl' 'US-LA' 'US-AL' 'US-MS' 'US-GA' 'US-AZ'\n",
      " 'US-NM' 'US-SC' 'US-CA' 'US-AR' 'US-OK' 'US-NC' 'US-TN' 'US-NV' 'US-MO'\n",
      " 'US-VA' 'US-KY' 'US-UT' 'US-KS' 'US-IL' 'US-CO' 'US-WV' 'US-IN' 'US-MD'\n",
      " 'US-DE' 'US-OH' 'US-DC' 'US-NJ' 'US-PA' 'US-NE' 'US-NY' 'US-IA' 'US-CT'\n",
      " 'US-WY' 'US-RI' 'US-MA' 'US-MI' 'US-ID' 'US-OR' 'us-ma' 'US-WI' 'US-SD'\n",
      " 'us-wi' 'US-NH' 'US-VT' 'US-ME' 'US-MN' 'us-mn' 'US-MT' 'US-WA' 'US-ND'\n",
      " 'US-AK']\n",
      "Count: 55\n",
      "\n",
      "\n",
      "Value counts:\n",
      " US-CO    50908\n",
      "US-TX    48035\n",
      "US-CA    47005\n",
      "US-NY    33953\n",
      "US-NC    30513\n",
      "US-FL    30414\n",
      "US-PA    29793\n",
      "US-IL    29683\n",
      "US-NJ    24401\n",
      "US-NM    21704\n",
      "US-OR    21542\n",
      "US-OH    20180\n",
      "US-MI    19056\n",
      "US-WI    18828\n",
      "US-WA    18549\n",
      "US-MA    18105\n",
      "US-MN    18085\n",
      "US-IN    17278\n",
      "US-VA    16733\n",
      "US-AZ    16405\n",
      "US-TN    15142\n",
      "US-MD    14651\n",
      "US-KS    12591\n",
      "US-HI    10873\n",
      "US-MO    10822\n",
      "US-IA    10431\n",
      "US-SC    10235\n",
      "US-WY    10094\n",
      "US-CT     9697\n",
      "US-UT     8002\n",
      "US-NH     7622\n",
      "US-GA     7209\n",
      "US-OK     6681\n",
      "US-NE     6606\n",
      "US-AR     6442\n",
      "US-SD     6404\n",
      "US-MT     6263\n",
      "US-ME     5888\n",
      "US-AK     5510\n",
      "US-KY     5323\n",
      "US-AL     5296\n",
      "US-WV     4943\n",
      "US-VT     4878\n",
      "US-LA     4315\n",
      "US-MS     4305\n",
      "US-ID     3984\n",
      "us-wi     3910\n",
      "US-ND     3884\n",
      "US-NV     3853\n",
      "US-DC     3557\n",
      "US-RI     2623\n",
      "US-DE     2186\n",
      "us-ma      728\n",
      "us-mn      200\n",
      "us-fl       60\n",
      "Name: country_state, dtype: int64\n"
     ]
    }
   ],
   "source": [
    "print(df_paired['country_state'].unique())\n",
    "print('Count:', len(df_paired['country_state'].unique()))\n",
    "print('\\n')\n",
    "print('Value counts:\\n', df_paired['country_state'].value_counts())"
   ]
  },
  {
   "cell_type": "markdown",
   "metadata": {},
   "source": [
    "Histogram of years:"
   ]
  },
  {
   "cell_type": "code",
   "execution_count": 38,
   "metadata": {},
   "outputs": [
    {
     "data": {
      "text/plain": [
       "<matplotlib.axes._subplots.AxesSubplot at 0x12310b588>"
      ]
     },
     "execution_count": 38,
     "metadata": {},
     "output_type": "execute_result"
    },
    {
     "data": {
      "image/png": "[encoded data removed]",
      "text/plain": [
       "<Figure size 432x288 with 1 Axes>"
      ]
     },
     "metadata": {
      "needs_background": "light"
     },
     "output_type": "display_data"
    }
   ],
   "source": [
    "df_paired_noout.loc[:, 'count_year'].plot.hist(bins=100)"
   ]
  },
  {
   "cell_type": "code",
   "execution_count": 39,
   "metadata": {},
   "outputs": [
    {
     "name": "stdout",
     "output_type": "stream",
     "text": [
      "Furthest year back after screening: 1940\n"
     ]
    }
   ],
   "source": [
    "print('Furthest year back after screening:', df_paired_noout['count_year'].min())"
   ]
  },
  {
   "cell_type": "markdown",
   "metadata": {},
   "source": [
    "Histogram of years before screening:"
   ]
  },
  {
   "cell_type": "code",
   "execution_count": 40,
   "metadata": {},
   "outputs": [
    {
     "data": {
      "text/plain": [
       "<matplotlib.axes._subplots.AxesSubplot at 0x11f5e8240>"
      ]
     },
     "execution_count": 40,
     "metadata": {},
     "output_type": "execute_result"
    },
    {
     "data": {
      "image/png": "[encoded data removed]",
      "text/plain": [
       "<Figure size 432x288 with 1 Axes>"
      ]
     },
     "metadata": {
      "needs_background": "light"
     },
     "output_type": "display_data"
    }
   ],
   "source": [
    "df_paired.loc[:, 'count_year'].plot.hist(bins=100)"
   ]
  },
  {
   "cell_type": "markdown",
   "metadata": {},
   "source": [
    "Histogram of station distances:"
   ]
  },
  {
   "cell_type": "code",
   "execution_count": 41,
   "metadata": {},
   "outputs": [
    {
     "data": {
      "text/plain": [
       "<matplotlib.axes._subplots.AxesSubplot at 0x122636710>"
      ]
     },
     "execution_count": 41,
     "metadata": {},
     "output_type": "execute_result"
    },
    {
     "data": {
      "image/png": "[encoded data removed]",
      "text/plain": [
       "<Figure size 432x288 with 1 Axes>"
      ]
     },
     "metadata": {
      "needs_background": "light"
     },
     "output_type": "display_data"
    }
   ],
   "source": [
    "df_paired_noout.loc[:, 'distance'].plot.hist(bins=100)"
   ]
  },
  {
   "cell_type": "markdown",
   "metadata": {},
   "source": [
    "Histogram of difference in elevations:"
   ]
  },
  {
   "cell_type": "code",
   "execution_count": 42,
   "metadata": {},
   "outputs": [
    {
     "data": {
      "text/plain": [
       "<matplotlib.axes._subplots.AxesSubplot at 0x12003a4a8>"
      ]
     },
     "execution_count": 42,
     "metadata": {},
     "output_type": "execute_result"
    },
    {
     "data": {
      "image/png": "[encoded data removed]",
      "text/plain": [
       "<Figure size 432x288 with 1 Axes>"
      ]
     },
     "metadata": {
      "needs_background": "light"
     },
     "output_type": "display_data"
    }
   ],
   "source": [
    "df_paired_noout.loc[:, 'elev_diff'].plot.hist(bins=100)"
   ]
  },
  {
   "cell_type": "markdown",
   "metadata": {},
   "source": [
    "Scatter plot of station distance with mean temperature difference:"
   ]
  },
  {
   "cell_type": "code",
   "execution_count": 43,
   "metadata": {},
   "outputs": [
    {
     "data": {
      "text/plain": [
       "<matplotlib.axes._subplots.AxesSubplot at 0x11e7c8cc0>"
      ]
     },
     "execution_count": 43,
     "metadata": {},
     "output_type": "execute_result"
    },
    {
     "data": {
      "image/png": "[encoded data removed]",
      "text/plain": [
       "<Figure size 432x288 with 1 Axes>"
      ]
     },
     "metadata": {
      "needs_background": "light"
     },
     "output_type": "display_data"
    }
   ],
   "source": [
    "df_paired_noout.plot.scatter(x='distance',\n",
    "                             y='tmin_diff_abs',\n",
    "                             s=1)"
   ]
  },
  {
   "cell_type": "code",
   "execution_count": 44,
   "metadata": {},
   "outputs": [
    {
     "data": {
      "text/plain": [
       "<matplotlib.axes._subplots.AxesSubplot at 0x120054d30>"
      ]
     },
     "execution_count": 44,
     "metadata": {},
     "output_type": "execute_result"
    },
    {
     "data": {
      "image/png": "[encoded data removed]",
      "text/plain": [
       "<Figure size 432x288 with 1 Axes>"
      ]
     },
     "metadata": {
      "needs_background": "light"
     },
     "output_type": "display_data"
    }
   ],
   "source": [
    "df_paired_noout.plot.scatter(x='distance',\n",
    "                             y='tmax_diff_abs',\n",
    "                             s=1)"
   ]
  },
  {
   "cell_type": "markdown",
   "metadata": {},
   "source": [
    "### Best Matching Data"
   ]
  },
  {
   "cell_type": "markdown",
   "metadata": {},
   "source": [
    "Smallest differences: (tmin)"
   ]
  },
  {
   "cell_type": "code",
   "execution_count": 45,
   "metadata": {},
   "outputs": [
    {
     "data": {
      "text/html": [
       "<div>\n",
       "<style scoped>\n",
       "    .dataframe tbody tr th:only-of-type {\n",
       "        vertical-align: middle;\n",
       "    }\n",
       "\n",
       "    .dataframe tbody tr th {\n",
       "        vertical-align: top;\n",
       "    }\n",
       "\n",
       "    .dataframe thead th {\n",
       "        text-align: right;\n",
       "    }\n",
       "</style>\n",
       "<table border=\"1\" class=\"dataframe\">\n",
       "  <thead>\n",
       "    <tr style=\"text-align: right;\">\n",
       "      <th></th>\n",
       "      <th>circle_name</th>\n",
       "      <th>count_date</th>\n",
       "      <th>distance</th>\n",
       "      <th>elev_diff</th>\n",
       "      <th>min_temp</th>\n",
       "      <th>noaa_tmin_value</th>\n",
       "      <th>tmin_diff_abs</th>\n",
       "    </tr>\n",
       "  </thead>\n",
       "  <tbody>\n",
       "    <tr>\n",
       "      <th>1218</th>\n",
       "      <td>Kaho'olawe</td>\n",
       "      <td>2012-12-20</td>\n",
       "      <td>3392.315957</td>\n",
       "      <td>38.46</td>\n",
       "      <td>68.0</td>\n",
       "      <td>68.0</td>\n",
       "      <td>0.0</td>\n",
       "    </tr>\n",
       "    <tr>\n",
       "      <th>1220</th>\n",
       "      <td>Kaho'olawe</td>\n",
       "      <td>2012-12-20</td>\n",
       "      <td>5328.165101</td>\n",
       "      <td>41.56</td>\n",
       "      <td>68.0</td>\n",
       "      <td>68.0</td>\n",
       "      <td>0.0</td>\n",
       "    </tr>\n",
       "    <tr>\n",
       "      <th>5405</th>\n",
       "      <td>O'ahu: Honolulu</td>\n",
       "      <td>1995-12-17</td>\n",
       "      <td>4310.685889</td>\n",
       "      <td>110.06</td>\n",
       "      <td>68.0</td>\n",
       "      <td>68.0</td>\n",
       "      <td>0.0</td>\n",
       "    </tr>\n",
       "    <tr>\n",
       "      <th>10878</th>\n",
       "      <td>Key West</td>\n",
       "      <td>2005-01-02</td>\n",
       "      <td>5604.824275</td>\n",
       "      <td>1.20</td>\n",
       "      <td>68.0</td>\n",
       "      <td>68.0</td>\n",
       "      <td>0.0</td>\n",
       "    </tr>\n",
       "    <tr>\n",
       "      <th>11383</th>\n",
       "      <td>Key Largo-Plantation Key</td>\n",
       "      <td>1966-12-28</td>\n",
       "      <td>7766.051936</td>\n",
       "      <td>2.10</td>\n",
       "      <td>68.0</td>\n",
       "      <td>68.0</td>\n",
       "      <td>0.0</td>\n",
       "    </tr>\n",
       "    <tr>\n",
       "      <th>11396</th>\n",
       "      <td>Key Largo-Plantation Key</td>\n",
       "      <td>1979-12-28</td>\n",
       "      <td>7766.051936</td>\n",
       "      <td>2.10</td>\n",
       "      <td>59.0</td>\n",
       "      <td>59.0</td>\n",
       "      <td>0.0</td>\n",
       "    </tr>\n",
       "    <tr>\n",
       "      <th>13664</th>\n",
       "      <td>Brownsville</td>\n",
       "      <td>1980-12-21</td>\n",
       "      <td>3707.029335</td>\n",
       "      <td>1.09</td>\n",
       "      <td>41.0</td>\n",
       "      <td>41.0</td>\n",
       "      <td>0.0</td>\n",
       "    </tr>\n",
       "    <tr>\n",
       "      <th>22061</th>\n",
       "      <td>Stuart</td>\n",
       "      <td>1967-12-21</td>\n",
       "      <td>3352.063452</td>\n",
       "      <td>1.92</td>\n",
       "      <td>68.0</td>\n",
       "      <td>68.0</td>\n",
       "      <td>0.0</td>\n",
       "    </tr>\n",
       "    <tr>\n",
       "      <th>26438</th>\n",
       "      <td>Laredo</td>\n",
       "      <td>2013-12-28</td>\n",
       "      <td>6165.047797</td>\n",
       "      <td>10.57</td>\n",
       "      <td>50.0</td>\n",
       "      <td>50.0</td>\n",
       "      <td>0.0</td>\n",
       "    </tr>\n",
       "    <tr>\n",
       "      <th>27620</th>\n",
       "      <td>Corpus Christi (Flour Bluff)</td>\n",
       "      <td>1980-12-21</td>\n",
       "      <td>2961.359565</td>\n",
       "      <td>1.35</td>\n",
       "      <td>41.0</td>\n",
       "      <td>41.0</td>\n",
       "      <td>0.0</td>\n",
       "    </tr>\n",
       "    <tr>\n",
       "      <th>30601</th>\n",
       "      <td>Corpus Christi</td>\n",
       "      <td>1968-12-26</td>\n",
       "      <td>9009.093016</td>\n",
       "      <td>7.71</td>\n",
       "      <td>59.0</td>\n",
       "      <td>59.0</td>\n",
       "      <td>0.0</td>\n",
       "    </tr>\n",
       "    <tr>\n",
       "      <th>32236</th>\n",
       "      <td>Tampa</td>\n",
       "      <td>1979-12-29</td>\n",
       "      <td>9612.113654</td>\n",
       "      <td>4.07</td>\n",
       "      <td>50.0</td>\n",
       "      <td>50.0</td>\n",
       "      <td>0.0</td>\n",
       "    </tr>\n",
       "    <tr>\n",
       "      <th>32785</th>\n",
       "      <td>Tampa</td>\n",
       "      <td>2000-01-02</td>\n",
       "      <td>9612.113654</td>\n",
       "      <td>4.07</td>\n",
       "      <td>59.0</td>\n",
       "      <td>59.0</td>\n",
       "      <td>0.0</td>\n",
       "    </tr>\n",
       "    <tr>\n",
       "      <th>33199</th>\n",
       "      <td>Tampa</td>\n",
       "      <td>2016-01-02</td>\n",
       "      <td>9612.113654</td>\n",
       "      <td>4.07</td>\n",
       "      <td>59.0</td>\n",
       "      <td>59.0</td>\n",
       "      <td>0.0</td>\n",
       "    </tr>\n",
       "    <tr>\n",
       "      <th>34858</th>\n",
       "      <td>Welder Wildlife Refuge</td>\n",
       "      <td>1997-12-19</td>\n",
       "      <td>73.387737</td>\n",
       "      <td>3.05</td>\n",
       "      <td>50.0</td>\n",
       "      <td>50.0</td>\n",
       "      <td>0.0</td>\n",
       "    </tr>\n",
       "    <tr>\n",
       "      <th>34859</th>\n",
       "      <td>Welder Wildlife Refuge</td>\n",
       "      <td>1998-12-18</td>\n",
       "      <td>73.387737</td>\n",
       "      <td>3.05</td>\n",
       "      <td>50.0</td>\n",
       "      <td>50.0</td>\n",
       "      <td>0.0</td>\n",
       "    </tr>\n",
       "    <tr>\n",
       "      <th>34872</th>\n",
       "      <td>Welder Wildlife Refuge</td>\n",
       "      <td>2002-12-17</td>\n",
       "      <td>73.387737</td>\n",
       "      <td>3.05</td>\n",
       "      <td>59.0</td>\n",
       "      <td>59.0</td>\n",
       "      <td>0.0</td>\n",
       "    </tr>\n",
       "    <tr>\n",
       "      <th>38302</th>\n",
       "      <td>Brooksville</td>\n",
       "      <td>2004-12-18</td>\n",
       "      <td>8614.265451</td>\n",
       "      <td>46.55</td>\n",
       "      <td>50.0</td>\n",
       "      <td>50.0</td>\n",
       "      <td>0.0</td>\n",
       "    </tr>\n",
       "    <tr>\n",
       "      <th>39002</th>\n",
       "      <td>Merritt Island N.W.R.</td>\n",
       "      <td>2009-12-21</td>\n",
       "      <td>5489.814998</td>\n",
       "      <td>6.90</td>\n",
       "      <td>41.0</td>\n",
       "      <td>41.0</td>\n",
       "      <td>0.0</td>\n",
       "    </tr>\n",
       "    <tr>\n",
       "      <th>41604</th>\n",
       "      <td>West Volusia County</td>\n",
       "      <td>1987-01-03</td>\n",
       "      <td>4990.459791</td>\n",
       "      <td>17.47</td>\n",
       "      <td>32.0</td>\n",
       "      <td>32.0</td>\n",
       "      <td>0.0</td>\n",
       "    </tr>\n",
       "  </tbody>\n",
       "</table>\n",
       "</div>"
      ],
      "text/plain": [
       "                        circle_name  count_date     distance  elev_diff  \\\n",
       "1218                     Kaho'olawe  2012-12-20  3392.315957      38.46   \n",
       "1220                     Kaho'olawe  2012-12-20  5328.165101      41.56   \n",
       "5405                O'ahu: Honolulu  1995-12-17  4310.685889     110.06   \n",
       "10878                      Key West  2005-01-02  5604.824275       1.20   \n",
       "11383      Key Largo-Plantation Key  1966-12-28  7766.051936       2.10   \n",
       "11396      Key Largo-Plantation Key  1979-12-28  7766.051936       2.10   \n",
       "13664                   Brownsville  1980-12-21  3707.029335       1.09   \n",
       "22061                        Stuart  1967-12-21  3352.063452       1.92   \n",
       "26438                        Laredo  2013-12-28  6165.047797      10.57   \n",
       "27620  Corpus Christi (Flour Bluff)  1980-12-21  2961.359565       1.35   \n",
       "30601                Corpus Christi  1968-12-26  9009.093016       7.71   \n",
       "32236                         Tampa  1979-12-29  9612.113654       4.07   \n",
       "32785                         Tampa  2000-01-02  9612.113654       4.07   \n",
       "33199                         Tampa  2016-01-02  9612.113654       4.07   \n",
       "34858        Welder Wildlife Refuge  1997-12-19    73.387737       3.05   \n",
       "34859        Welder Wildlife Refuge  1998-12-18    73.387737       3.05   \n",
       "34872        Welder Wildlife Refuge  2002-12-17    73.387737       3.05   \n",
       "38302                   Brooksville  2004-12-18  8614.265451      46.55   \n",
       "39002         Merritt Island N.W.R.  2009-12-21  5489.814998       6.90   \n",
       "41604           West Volusia County  1987-01-03  4990.459791      17.47   \n",
       "\n",
       "       min_temp  noaa_tmin_value  tmin_diff_abs  \n",
       "1218       68.0             68.0            0.0  \n",
       "1220       68.0             68.0            0.0  \n",
       "5405       68.0             68.0            0.0  \n",
       "10878      68.0             68.0            0.0  \n",
       "11383      68.0             68.0            0.0  \n",
       "11396      59.0             59.0            0.0  \n",
       "13664      41.0             41.0            0.0  \n",
       "22061      68.0             68.0            0.0  \n",
       "26438      50.0             50.0            0.0  \n",
       "27620      41.0             41.0            0.0  \n",
       "30601      59.0             59.0            0.0  \n",
       "32236      50.0             50.0            0.0  \n",
       "32785      59.0             59.0            0.0  \n",
       "33199      59.0             59.0            0.0  \n",
       "34858      50.0             50.0            0.0  \n",
       "34859      50.0             50.0            0.0  \n",
       "34872      59.0             59.0            0.0  \n",
       "38302      50.0             50.0            0.0  \n",
       "39002      41.0             41.0            0.0  \n",
       "41604      32.0             32.0            0.0  "
      ]
     },
     "execution_count": 45,
     "metadata": {},
     "output_type": "execute_result"
    }
   ],
   "source": [
    "df_paired_noout.loc[(df_paired_noout.loc[:, 'tmin_diff_abs'].nsmallest(20)).index,\n",
    "                  ['circle_name', 'count_date', 'distance', 'elev_diff','min_temp', 'noaa_tmin_value', 'tmin_diff_abs']]"
   ]
  },
  {
   "cell_type": "markdown",
   "metadata": {},
   "source": [
    "Smallest differences: (tmax)"
   ]
  },
  {
   "cell_type": "code",
   "execution_count": 46,
   "metadata": {},
   "outputs": [
    {
     "data": {
      "text/html": [
       "<div>\n",
       "<style scoped>\n",
       "    .dataframe tbody tr th:only-of-type {\n",
       "        vertical-align: middle;\n",
       "    }\n",
       "\n",
       "    .dataframe tbody tr th {\n",
       "        vertical-align: top;\n",
       "    }\n",
       "\n",
       "    .dataframe thead th {\n",
       "        text-align: right;\n",
       "    }\n",
       "</style>\n",
       "<table border=\"1\" class=\"dataframe\">\n",
       "  <thead>\n",
       "    <tr style=\"text-align: right;\">\n",
       "      <th></th>\n",
       "      <th>circle_name</th>\n",
       "      <th>count_date</th>\n",
       "      <th>distance</th>\n",
       "      <th>elev_diff</th>\n",
       "      <th>max_temp</th>\n",
       "      <th>noaa_tmax_value</th>\n",
       "      <th>tmax_diff_abs</th>\n",
       "    </tr>\n",
       "  </thead>\n",
       "  <tbody>\n",
       "    <tr>\n",
       "      <th>10878</th>\n",
       "      <td>Key West</td>\n",
       "      <td>2005-01-02</td>\n",
       "      <td>5604.824275</td>\n",
       "      <td>1.20</td>\n",
       "      <td>77.0</td>\n",
       "      <td>77.0</td>\n",
       "      <td>0.0</td>\n",
       "    </tr>\n",
       "    <tr>\n",
       "      <th>10879</th>\n",
       "      <td>Key West</td>\n",
       "      <td>2005-01-02</td>\n",
       "      <td>2175.233020</td>\n",
       "      <td>1.80</td>\n",
       "      <td>77.0</td>\n",
       "      <td>77.0</td>\n",
       "      <td>0.0</td>\n",
       "    </tr>\n",
       "    <tr>\n",
       "      <th>10965</th>\n",
       "      <td>Key West</td>\n",
       "      <td>2016-12-31</td>\n",
       "      <td>5604.824275</td>\n",
       "      <td>1.20</td>\n",
       "      <td>77.0</td>\n",
       "      <td>77.0</td>\n",
       "      <td>0.0</td>\n",
       "    </tr>\n",
       "    <tr>\n",
       "      <th>11574</th>\n",
       "      <td>Coot Bay-Everglades N.P.</td>\n",
       "      <td>2011-01-02</td>\n",
       "      <td>4414.729451</td>\n",
       "      <td>0.81</td>\n",
       "      <td>77.0</td>\n",
       "      <td>77.0</td>\n",
       "      <td>0.0</td>\n",
       "    </tr>\n",
       "    <tr>\n",
       "      <th>16319</th>\n",
       "      <td>Santa Ana N.W.R.</td>\n",
       "      <td>1988-12-17</td>\n",
       "      <td>7311.902063</td>\n",
       "      <td>3.85</td>\n",
       "      <td>68.0</td>\n",
       "      <td>68.0</td>\n",
       "      <td>0.0</td>\n",
       "    </tr>\n",
       "    <tr>\n",
       "      <th>16459</th>\n",
       "      <td>Santa Ana N.W.R.</td>\n",
       "      <td>2005-12-17</td>\n",
       "      <td>9314.250601</td>\n",
       "      <td>6.85</td>\n",
       "      <td>50.0</td>\n",
       "      <td>50.0</td>\n",
       "      <td>0.0</td>\n",
       "    </tr>\n",
       "    <tr>\n",
       "      <th>27920</th>\n",
       "      <td>Corpus Christi (Flour Bluff)</td>\n",
       "      <td>1996-12-22</td>\n",
       "      <td>2961.359565</td>\n",
       "      <td>1.35</td>\n",
       "      <td>77.0</td>\n",
       "      <td>77.0</td>\n",
       "      <td>0.0</td>\n",
       "    </tr>\n",
       "    <tr>\n",
       "      <th>30601</th>\n",
       "      <td>Corpus Christi</td>\n",
       "      <td>1968-12-26</td>\n",
       "      <td>9009.093016</td>\n",
       "      <td>7.71</td>\n",
       "      <td>77.0</td>\n",
       "      <td>77.0</td>\n",
       "      <td>0.0</td>\n",
       "    </tr>\n",
       "    <tr>\n",
       "      <th>30988</th>\n",
       "      <td>Corpus Christi</td>\n",
       "      <td>2005-12-17</td>\n",
       "      <td>9734.104966</td>\n",
       "      <td>8.01</td>\n",
       "      <td>50.0</td>\n",
       "      <td>50.0</td>\n",
       "      <td>0.0</td>\n",
       "    </tr>\n",
       "    <tr>\n",
       "      <th>32702</th>\n",
       "      <td>Tampa</td>\n",
       "      <td>1997-01-04</td>\n",
       "      <td>9612.113654</td>\n",
       "      <td>4.07</td>\n",
       "      <td>77.0</td>\n",
       "      <td>77.0</td>\n",
       "      <td>0.0</td>\n",
       "    </tr>\n",
       "    <tr>\n",
       "      <th>33111</th>\n",
       "      <td>Tampa</td>\n",
       "      <td>2013-01-05</td>\n",
       "      <td>9612.113654</td>\n",
       "      <td>4.07</td>\n",
       "      <td>77.0</td>\n",
       "      <td>77.0</td>\n",
       "      <td>0.0</td>\n",
       "    </tr>\n",
       "    <tr>\n",
       "      <th>34073</th>\n",
       "      <td>Rockport</td>\n",
       "      <td>2007-12-29</td>\n",
       "      <td>8038.651506</td>\n",
       "      <td>2.40</td>\n",
       "      <td>59.0</td>\n",
       "      <td>59.0</td>\n",
       "      <td>0.0</td>\n",
       "    </tr>\n",
       "    <tr>\n",
       "      <th>34111</th>\n",
       "      <td>Rockport</td>\n",
       "      <td>2010-12-28</td>\n",
       "      <td>8038.651506</td>\n",
       "      <td>2.40</td>\n",
       "      <td>68.0</td>\n",
       "      <td>68.0</td>\n",
       "      <td>0.0</td>\n",
       "    </tr>\n",
       "    <tr>\n",
       "      <th>34845</th>\n",
       "      <td>Welder Wildlife Refuge</td>\n",
       "      <td>1993-12-17</td>\n",
       "      <td>73.387737</td>\n",
       "      <td>3.05</td>\n",
       "      <td>77.0</td>\n",
       "      <td>77.0</td>\n",
       "      <td>0.0</td>\n",
       "    </tr>\n",
       "    <tr>\n",
       "      <th>34872</th>\n",
       "      <td>Welder Wildlife Refuge</td>\n",
       "      <td>2002-12-17</td>\n",
       "      <td>73.387737</td>\n",
       "      <td>3.05</td>\n",
       "      <td>77.0</td>\n",
       "      <td>77.0</td>\n",
       "      <td>0.0</td>\n",
       "    </tr>\n",
       "    <tr>\n",
       "      <th>38697</th>\n",
       "      <td>Titusville-Merritt Island</td>\n",
       "      <td>1965-01-03</td>\n",
       "      <td>8204.871843</td>\n",
       "      <td>4.21</td>\n",
       "      <td>77.0</td>\n",
       "      <td>77.0</td>\n",
       "      <td>0.0</td>\n",
       "    </tr>\n",
       "    <tr>\n",
       "      <th>48028</th>\n",
       "      <td>Gainesville</td>\n",
       "      <td>1982-12-19</td>\n",
       "      <td>6229.456338</td>\n",
       "      <td>11.56</td>\n",
       "      <td>68.0</td>\n",
       "      <td>68.0</td>\n",
       "      <td>0.0</td>\n",
       "    </tr>\n",
       "    <tr>\n",
       "      <th>48054</th>\n",
       "      <td>Gainesville</td>\n",
       "      <td>1983-12-18</td>\n",
       "      <td>6229.456338</td>\n",
       "      <td>11.56</td>\n",
       "      <td>68.0</td>\n",
       "      <td>68.0</td>\n",
       "      <td>0.0</td>\n",
       "    </tr>\n",
       "    <tr>\n",
       "      <th>51101</th>\n",
       "      <td>New Braunfels</td>\n",
       "      <td>2012-12-30</td>\n",
       "      <td>6375.623639</td>\n",
       "      <td>30.27</td>\n",
       "      <td>50.0</td>\n",
       "      <td>50.0</td>\n",
       "      <td>0.0</td>\n",
       "    </tr>\n",
       "    <tr>\n",
       "      <th>54339</th>\n",
       "      <td>Thibodaux</td>\n",
       "      <td>1990-12-22</td>\n",
       "      <td>7296.600068</td>\n",
       "      <td>3.19</td>\n",
       "      <td>77.0</td>\n",
       "      <td>77.0</td>\n",
       "      <td>0.0</td>\n",
       "    </tr>\n",
       "  </tbody>\n",
       "</table>\n",
       "</div>"
      ],
      "text/plain": [
       "                        circle_name  count_date     distance  elev_diff  \\\n",
       "10878                      Key West  2005-01-02  5604.824275       1.20   \n",
       "10879                      Key West  2005-01-02  2175.233020       1.80   \n",
       "10965                      Key West  2016-12-31  5604.824275       1.20   \n",
       "11574      Coot Bay-Everglades N.P.  2011-01-02  4414.729451       0.81   \n",
       "16319              Santa Ana N.W.R.  1988-12-17  7311.902063       3.85   \n",
       "16459              Santa Ana N.W.R.  2005-12-17  9314.250601       6.85   \n",
       "27920  Corpus Christi (Flour Bluff)  1996-12-22  2961.359565       1.35   \n",
       "30601                Corpus Christi  1968-12-26  9009.093016       7.71   \n",
       "30988                Corpus Christi  2005-12-17  9734.104966       8.01   \n",
       "32702                         Tampa  1997-01-04  9612.113654       4.07   \n",
       "33111                         Tampa  2013-01-05  9612.113654       4.07   \n",
       "34073                      Rockport  2007-12-29  8038.651506       2.40   \n",
       "34111                      Rockport  2010-12-28  8038.651506       2.40   \n",
       "34845        Welder Wildlife Refuge  1993-12-17    73.387737       3.05   \n",
       "34872        Welder Wildlife Refuge  2002-12-17    73.387737       3.05   \n",
       "38697     Titusville-Merritt Island  1965-01-03  8204.871843       4.21   \n",
       "48028                   Gainesville  1982-12-19  6229.456338      11.56   \n",
       "48054                   Gainesville  1983-12-18  6229.456338      11.56   \n",
       "51101                 New Braunfels  2012-12-30  6375.623639      30.27   \n",
       "54339                     Thibodaux  1990-12-22  7296.600068       3.19   \n",
       "\n",
       "       max_temp  noaa_tmax_value  tmax_diff_abs  \n",
       "10878      77.0             77.0            0.0  \n",
       "10879      77.0             77.0            0.0  \n",
       "10965      77.0             77.0            0.0  \n",
       "11574      77.0             77.0            0.0  \n",
       "16319      68.0             68.0            0.0  \n",
       "16459      50.0             50.0            0.0  \n",
       "27920      77.0             77.0            0.0  \n",
       "30601      77.0             77.0            0.0  \n",
       "30988      50.0             50.0            0.0  \n",
       "32702      77.0             77.0            0.0  \n",
       "33111      77.0             77.0            0.0  \n",
       "34073      59.0             59.0            0.0  \n",
       "34111      68.0             68.0            0.0  \n",
       "34845      77.0             77.0            0.0  \n",
       "34872      77.0             77.0            0.0  \n",
       "38697      77.0             77.0            0.0  \n",
       "48028      68.0             68.0            0.0  \n",
       "48054      68.0             68.0            0.0  \n",
       "51101      50.0             50.0            0.0  \n",
       "54339      77.0             77.0            0.0  "
      ]
     },
     "execution_count": 46,
     "metadata": {},
     "output_type": "execute_result"
    }
   ],
   "source": [
    "df_paired_noout.loc[(df_paired_noout.loc[:, 'tmax_diff_abs'].nsmallest(20)).index,\n",
    "                  ['circle_name', 'count_date', 'distance', 'elev_diff','max_temp', 'noaa_tmax_value', 'tmax_diff_abs']]"
   ]
  },
  {
   "cell_type": "markdown",
   "metadata": {},
   "source": [
    "How many rows contain temperature difference off less than 1 degree?"
   ]
  },
  {
   "cell_type": "code",
   "execution_count": 47,
   "metadata": {},
   "outputs": [
    {
     "name": "stdout",
     "output_type": "stream",
     "text": [
      "tmax: 7326\n",
      "tmin: 6420\n"
     ]
    }
   ],
   "source": [
    "print('tmax:', df_paired_noout.loc[df_paired_noout['tmax_diff_abs'] < 1.0].index.size)\n",
    "print('tmin:', df_paired_noout.loc[df_paired_noout['tmin_diff_abs'] < 1.0].index.size)\n",
    "df_paired_noout_1deg = df_paired_noout.loc[df_paired_noout['tmax_diff_abs'] < 1.0]"
   ]
  },
  {
   "cell_type": "markdown",
   "metadata": {},
   "source": [
    "For rows with less than 1 deg difference (tmax), look at the distribution of years. Increasing trend probably due to more volunteers over the years."
   ]
  },
  {
   "cell_type": "code",
   "execution_count": 48,
   "metadata": {},
   "outputs": [
    {
     "data": {
      "text/plain": [
       "<matplotlib.axes._subplots.AxesSubplot at 0x1237a33c8>"
      ]
     },
     "execution_count": 48,
     "metadata": {},
     "output_type": "execute_result"
    },
    {
     "data": {
      "image/png": "[encoded data removed]",
      "text/plain": [
       "<Figure size 432x288 with 1 Axes>"
      ]
     },
     "metadata": {
      "needs_background": "light"
     },
     "output_type": "display_data"
    }
   ],
   "source": [
    "df_paired_noout_1deg.loc[:, 'count_year'].plot.hist(bins=100)"
   ]
  },
  {
   "cell_type": "markdown",
   "metadata": {},
   "source": [
    "Look at distribution of latitudes:"
   ]
  },
  {
   "cell_type": "code",
   "execution_count": 49,
   "metadata": {},
   "outputs": [
    {
     "data": {
      "text/plain": [
       "<matplotlib.axes._subplots.AxesSubplot at 0x123d555c0>"
      ]
     },
     "execution_count": 49,
     "metadata": {},
     "output_type": "execute_result"
    },
    {
     "data": {
      "image/png": "[encoded data removed]",
      "text/plain": [
       "<Figure size 432x288 with 1 Axes>"
      ]
     },
     "metadata": {
      "needs_background": "light"
     },
     "output_type": "display_data"
    }
   ],
   "source": [
    "df_paired_noout_1deg.loc[:, 'lat'].plot.hist(bins=100)"
   ]
  },
  {
   "cell_type": "code",
   "execution_count": 50,
   "metadata": {},
   "outputs": [
    {
     "data": {
      "text/plain": [
       "<matplotlib.axes._subplots.AxesSubplot at 0x11e82f0b8>"
      ]
     },
     "execution_count": 50,
     "metadata": {},
     "output_type": "execute_result"
    },
    {
     "data": {
      "image/png": "[encoded data removed]",
      "text/plain": [
       "<Figure size 432x288 with 1 Axes>"
      ]
     },
     "metadata": {
      "needs_background": "light"
     },
     "output_type": "display_data"
    }
   ],
   "source": [
    "df_paired.loc[:, 'lat'].plot.hist(bins=100)"
   ]
  },
  {
   "cell_type": "markdown",
   "metadata": {},
   "source": [
    "Distribution of longitudes:"
   ]
  },
  {
   "cell_type": "code",
   "execution_count": 51,
   "metadata": {},
   "outputs": [
    {
     "data": {
      "text/plain": [
       "<matplotlib.axes._subplots.AxesSubplot at 0x12b93ee10>"
      ]
     },
     "execution_count": 51,
     "metadata": {},
     "output_type": "execute_result"
    },
    {
     "data": {
      "image/png": "[encoded data removed]",
      "text/plain": [
       "<Figure size 432x288 with 1 Axes>"
      ]
     },
     "metadata": {
      "needs_background": "light"
     },
     "output_type": "display_data"
    }
   ],
   "source": [
    "df_paired_noout_1deg.loc[df_paired_noout_1deg['lon'] < 0.0, 'lon'].plot.hist(bins=100)"
   ]
  },
  {
   "cell_type": "code",
   "execution_count": 52,
   "metadata": {},
   "outputs": [
    {
     "data": {
      "text/plain": [
       "<matplotlib.axes._subplots.AxesSubplot at 0x1219102b0>"
      ]
     },
     "execution_count": 52,
     "metadata": {},
     "output_type": "execute_result"
    },
    {
     "data": {
      "image/png": "[encoded data removed]",
      "text/plain": [
       "<Figure size 432x288 with 1 Axes>"
      ]
     },
     "metadata": {
      "needs_background": "light"
     },
     "output_type": "display_data"
    }
   ],
   "source": [
    "df_paired.loc[df_paired['lon'] < 0.0, 'lon'].plot.hist(bins=100)"
   ]
  },
  {
   "cell_type": "markdown",
   "metadata": {},
   "source": [
    "For smallest temperature differences, look at distance distribution. Still a uniform distribution."
   ]
  },
  {
   "cell_type": "code",
   "execution_count": 53,
   "metadata": {},
   "outputs": [
    {
     "data": {
      "text/plain": [
       "<matplotlib.axes._subplots.AxesSubplot at 0x12b46ab38>"
      ]
     },
     "execution_count": 53,
     "metadata": {},
     "output_type": "execute_result"
    },
    {
     "data": {
      "image/png": "[encoded data removed]",
      "text/plain": [
       "<Figure size 432x288 with 1 Axes>"
      ]
     },
     "metadata": {
      "needs_background": "light"
     },
     "output_type": "display_data"
    }
   ],
   "source": [
    "df_paired_noout_1deg.loc[:, 'distance'].plot.hist(bins=100)"
   ]
  },
  {
   "cell_type": "markdown",
   "metadata": {},
   "source": [
    "For smallest temperature differences, look at elevation difference distribution."
   ]
  },
  {
   "cell_type": "code",
   "execution_count": 54,
   "metadata": {},
   "outputs": [
    {
     "data": {
      "text/plain": [
       "<matplotlib.axes._subplots.AxesSubplot at 0x123c3a2e8>"
      ]
     },
     "execution_count": 54,
     "metadata": {},
     "output_type": "execute_result"
    },
    {
     "data": {
      "image/png": "[encoded data removed]",
      "text/plain": [
       "<Figure size 432x288 with 1 Axes>"
      ]
     },
     "metadata": {
      "needs_background": "light"
     },
     "output_type": "display_data"
    }
   ],
   "source": [
    "df_paired_noout_1deg.loc[:, 'elev_diff'].plot.hist(bins=100)"
   ]
  },
  {
   "cell_type": "markdown",
   "metadata": {},
   "source": [
    "Less than 500 m elevation difference:"
   ]
  },
  {
   "cell_type": "code",
   "execution_count": 55,
   "metadata": {},
   "outputs": [
    {
     "data": {
      "text/plain": [
       "<matplotlib.axes._subplots.AxesSubplot at 0x120ceedd8>"
      ]
     },
     "execution_count": 55,
     "metadata": {},
     "output_type": "execute_result"
    },
    {
     "data": {
      "image/png": "[encoded data removed]",
      "text/plain": [
       "<Figure size 432x288 with 1 Axes>"
      ]
     },
     "metadata": {
      "needs_background": "light"
     },
     "output_type": "display_data"
    }
   ],
   "source": [
    "df_paired_noout_1deg.loc[df_paired_noout_1deg['elev_diff'] < 500.0, 'elev_diff'].plot.hist(bins=100)"
   ]
  },
  {
   "cell_type": "markdown",
   "metadata": {},
   "source": [
    "Relationship between tmax difference and elevation change:"
   ]
  },
  {
   "cell_type": "code",
   "execution_count": 56,
   "metadata": {},
   "outputs": [
    {
     "data": {
      "text/plain": [
       "<matplotlib.axes._subplots.AxesSubplot at 0x11f67f588>"
      ]
     },
     "execution_count": 56,
     "metadata": {},
     "output_type": "execute_result"
    },
    {
     "data": {
      "image/png": "[encoded data removed]",
      "text/plain": [
       "<Figure size 432x288 with 1 Axes>"
      ]
     },
     "metadata": {
      "needs_background": "light"
     },
     "output_type": "display_data"
    }
   ],
   "source": [
    "df_paired_noout_1deg.plot.scatter(x='tmax_diff_abs',\n",
    "                                  y='elev_diff',\n",
    "                                  s=1)"
   ]
  },
  {
   "cell_type": "markdown",
   "metadata": {},
   "source": [
    "- I think we see this \"step change\" like splits because a lot of volunteers probably measured data using "
   ]
  },
  {
   "cell_type": "markdown",
   "metadata": {},
   "source": [
    "Relationship between tmax difference and distance:"
   ]
  },
  {
   "cell_type": "code",
   "execution_count": 57,
   "metadata": {},
   "outputs": [
    {
     "data": {
      "text/plain": [
       "<matplotlib.axes._subplots.AxesSubplot at 0x11e9deb38>"
      ]
     },
     "execution_count": 57,
     "metadata": {},
     "output_type": "execute_result"
    },
    {
     "data": {
      "image/png": "[encoded data removed]",
      "text/plain": [
       "<Figure size 432x288 with 1 Axes>"
      ]
     },
     "metadata": {
      "needs_background": "light"
     },
     "output_type": "display_data"
    }
   ],
   "source": [
    "df_paired_noout_1deg.plot.scatter(x='tmax_diff_abs',\n",
    "                                  y='distance',\n",
    "                                  s=1)"
   ]
  },
  {
   "cell_type": "markdown",
   "metadata": {},
   "source": [
    "Relationship between tmax difference and latitude:"
   ]
  },
  {
   "cell_type": "code",
   "execution_count": 58,
   "metadata": {},
   "outputs": [
    {
     "data": {
      "text/plain": [
       "<matplotlib.axes._subplots.AxesSubplot at 0x11fe7f198>"
      ]
     },
     "execution_count": 58,
     "metadata": {},
     "output_type": "execute_result"
    },
    {
     "data": {
      "image/png": "[encoded data removed]",
      "text/plain": [
       "<Figure size 432x288 with 1 Axes>"
      ]
     },
     "metadata": {
      "needs_background": "light"
     },
     "output_type": "display_data"
    }
   ],
   "source": [
    "df_paired_noout_1deg.plot.scatter(x='tmax_diff_abs',\n",
    "                                  y='lat',\n",
    "                                  s=1)"
   ]
  },
  {
   "cell_type": "code",
   "execution_count": 59,
   "metadata": {},
   "outputs": [
    {
     "data": {
      "text/plain": [
       "dtype('float64')"
      ]
     },
     "execution_count": 59,
     "metadata": {},
     "output_type": "execute_result"
    }
   ],
   "source": [
    "df_paired['max_temp'].dtype"
   ]
  },
  {
   "cell_type": "code",
   "execution_count": null,
   "metadata": {},
   "outputs": [],
   "source": []
  }
 ],
 "metadata": {
  "kernelspec": {
   "display_name": "Python 3",
   "language": "python",
   "name": "python3"
  },
  "language_info": {
   "codemirror_mode": {
    "name": "ipython",
    "version": 3
   },
   "file_extension": ".py",
   "mimetype": "text/x-python",
   "name": "python",
   "nbconvert_exporter": "python",
   "pygments_lexer": "ipython3",
   "version": "3.7.1"
  }
 },
 "nbformat": 4,
 "nbformat_minor": 4
}
