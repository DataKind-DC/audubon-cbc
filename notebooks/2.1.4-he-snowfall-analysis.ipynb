{
 "cells": [
  {
   "cell_type": "markdown",
   "metadata": {},
   "source": [
    "# Snow Depth Analysis\n",
    "### Purpose\n",
    "This notebook will look at volunteer trends for reporting snow depth, adressing the Github issue #54  \n",
    "(this notebook is a copy of the rain and snow analysis notebooks, but for snow depths)\n",
    "\n",
    "### Author: \n",
    "Hamza El-Saawy\n",
    "### Date: \n",
    "2020-09-14\n",
    "### Update Date: \n",
    "2020-09-14\n",
    "\n",
    "### Inputs \n",
    " - `1.3-rec-connecting-fips-ecosystem-data.txt`\n",
    "\n",
    "### Output Files\n",
    "None\n",
    "\n",
    "## Steps or Proceedures in the notebook \n",
    " - Clean the CBC ecological data \n",
    " - Compare to NOAA data\n",
    " - Make some plots\n",
    "\n",
    "## Where the Data will Be Saved \n",
    "n/a\n",
    "\n",
    "## Notes\n",
    "While the snow notebook looked only at snowfall(`am/pm_snow` for volunteers and `snow` for GHCN), this notebook looks at (`min/max_snow` for volunteers and `snwd` for GHCN).\n",
    "Snowdepth measurements methods are likely highly variable from location to location and year to year, so this notebook simply discretizes the problem to see if any snow was on the ground during the observation period."
   ]
  },
  {
   "cell_type": "code",
   "execution_count": 1,
   "metadata": {},
   "outputs": [],
   "source": [
    "import os\n",
    "import numpy as np\n",
    "import pandas as pd\n",
    "import matplotlib.pyplot as plt\n",
    "import seaborn as sns"
   ]
  },
  {
   "cell_type": "code",
   "execution_count": 2,
   "metadata": {},
   "outputs": [],
   "source": [
    "import scipy.stats as stats"
   ]
  },
  {
   "cell_type": "code",
   "execution_count": 3,
   "metadata": {},
   "outputs": [],
   "source": [
    "import sklearn.metrics as metrics"
   ]
  },
  {
   "cell_type": "code",
   "execution_count": 4,
   "metadata": {},
   "outputs": [],
   "source": [
    "sns.set(style=\"darkgrid\")"
   ]
  },
  {
   "cell_type": "code",
   "execution_count": 5,
   "metadata": {},
   "outputs": [],
   "source": [
    "# get the haversine distance formula fromt the script (w/o executing the '__main__' part)\n",
    "%run -ni '../scripts/noaa.py'"
   ]
  },
  {
   "cell_type": "code",
   "execution_count": 6,
   "metadata": {},
   "outputs": [],
   "source": [
    "#\n",
    "# \n",
    "#\n",
    "\n",
    "# drop all stations farther than this threshold (meters)\n",
    "#  16km ~= 10 mi\n",
    "DISTANCE_THRESHOLD = 15000\n",
    "\n",
    "# drop all stations farther than this threshold (meters) in elevation\n",
    "#  the farthest is 3.5km, with the mean being 70m and median being 23m\n",
    "ELEVATION_THRESHOLD = 50\n",
    "\n",
    "# consider stations to consense on a snow value if a fraction of them or more all have the same reading\n",
    "# at the most abiguous, the fraction will be 0.5, so values are symmetric around 1/2: 0.25 in agreement is the same as 0.75 agreeing on the opposite\n",
    "AGREEMENT_THRESHOLD = 0.75\n",
    "AGREEMENT_THRESHOLD = max(AGREEMENT_THRESHOLD, 1 - AGREEMENT_THRESHOLD)"
   ]
  },
  {
   "cell_type": "code",
   "execution_count": 7,
   "metadata": {},
   "outputs": [],
   "source": [
    "DATA_PATH = '../data/Cloud_Data'\n",
    "ECO_DATA_PATH =  os.path.join(DATA_PATH, '1.3-rec-connecting-fips-ecosystem-data.txt')"
   ]
  },
  {
   "cell_type": "code",
   "execution_count": 8,
   "metadata": {},
   "outputs": [
    {
     "name": "stderr",
     "output_type": "stream",
     "text": [
      "/home/hamza/anaconda3/envs/audubon/lib/python3.7/site-packages/IPython/core/interactiveshell.py:3146: DtypeWarning: Columns (62,64,65,71,73,75,77) have mixed types.Specify dtype option on import or set low_memory=False.\n",
      "  interactivity=interactivity, compiler=compiler, result=result)\n"
     ]
    }
   ],
   "source": [
    "eco_data = pd.read_csv(ECO_DATA_PATH, encoding = \"ISO-8859-1\", sep=\"\\t\", compression = \"gzip\")\n",
    "eco_data = eco_data.rename(columns={'circle_name': 'c_name', 'circle_id': 'c_id',\n",
    "                                    'lat': 'c_lat', 'lon': 'c_lon', 'circle_elev': 'c_elev',\n",
    "                                    'Ecosys_circle': 'c_ecosys', 'Nlcd_code_circle': 'c_nlcdcode',\n",
    "                                    'id': 's_id', 'latitude': 's_lat', 'longitude': 's_lon', 'elevation': 's_elev',\n",
    "                                    'Ecosys_station': 's_ecosys', 'Nlcd_code_station': 's_nlcdcode',})"
   ]
  },
  {
   "cell_type": "code",
   "execution_count": 9,
   "metadata": {},
   "outputs": [],
   "source": [
    "# Drop all the other data that wont be needed\n",
    "prcp_data = eco_data.loc[:, ['count_date', 'c_name', 'ui','country_state', 'c_id', 'c_lat', 'c_lon',\n",
    "                              'min_snow', 'max_snow', 'c_elev', 'c_ecosys', 'c_nlcdcode',\n",
    "                              's_id', 's_lat', 's_lon', 's_elev', 's_ecosys', 's_nlcdcode','snwd',\n",
    "                             ]]"
   ]
  },
  {
   "cell_type": "code",
   "execution_count": 10,
   "metadata": {},
   "outputs": [
    {
     "data": {
      "text/plain": [
       "(756378, 19)"
      ]
     },
     "execution_count": 10,
     "metadata": {},
     "output_type": "execute_result"
    }
   ],
   "source": [
    "# Observe the Size of the data frame\n",
    "prcp_data.shape"
   ]
  },
  {
   "cell_type": "code",
   "execution_count": 11,
   "metadata": {},
   "outputs": [
    {
     "data": {
      "text/plain": [
       "80765"
      ]
     },
     "execution_count": 11,
     "metadata": {},
     "output_type": "execute_result"
    }
   ],
   "source": [
    "# Observe the number of unique circles in the dataframe \n",
    "prcp_data['ui'].nunique()"
   ]
  },
  {
   "cell_type": "code",
   "execution_count": 12,
   "metadata": {},
   "outputs": [
    {
     "data": {
      "text/html": [
       "<div>\n",
       "<style scoped>\n",
       "    .dataframe tbody tr th:only-of-type {\n",
       "        vertical-align: middle;\n",
       "    }\n",
       "\n",
       "    .dataframe tbody tr th {\n",
       "        vertical-align: top;\n",
       "    }\n",
       "\n",
       "    .dataframe thead th {\n",
       "        text-align: right;\n",
       "    }\n",
       "</style>\n",
       "<table border=\"1\" class=\"dataframe\">\n",
       "  <thead>\n",
       "    <tr style=\"text-align: right;\">\n",
       "      <th></th>\n",
       "      <th>count_date</th>\n",
       "      <th>c_name</th>\n",
       "      <th>ui</th>\n",
       "      <th>country_state</th>\n",
       "      <th>c_id</th>\n",
       "      <th>c_lat</th>\n",
       "      <th>c_lon</th>\n",
       "      <th>min_snow</th>\n",
       "      <th>max_snow</th>\n",
       "      <th>c_elev</th>\n",
       "      <th>c_ecosys</th>\n",
       "      <th>c_nlcdcode</th>\n",
       "      <th>s_id</th>\n",
       "      <th>s_lat</th>\n",
       "      <th>s_lon</th>\n",
       "      <th>s_elev</th>\n",
       "      <th>s_ecosys</th>\n",
       "      <th>s_nlcdcode</th>\n",
       "      <th>snwd</th>\n",
       "    </tr>\n",
       "  </thead>\n",
       "  <tbody>\n",
       "    <tr>\n",
       "      <th>0</th>\n",
       "      <td>1955-01-01</td>\n",
       "      <td>Hawai'i: Volcano N.P.</td>\n",
       "      <td>19.4333-155.2833_1955</td>\n",
       "      <td>US-HI</td>\n",
       "      <td>8e3wd3w</td>\n",
       "      <td>19.4333</td>\n",
       "      <td>-155.2833</td>\n",
       "      <td>NaN</td>\n",
       "      <td>NaN</td>\n",
       "      <td>1228.18</td>\n",
       "      <td>NaN</td>\n",
       "      <td>NaN</td>\n",
       "      <td>USC00511303</td>\n",
       "      <td>19.4297</td>\n",
       "      <td>-155.2561</td>\n",
       "      <td>1210.40</td>\n",
       "      <td>NaN</td>\n",
       "      <td>NaN</td>\n",
       "      <td>0.0</td>\n",
       "    </tr>\n",
       "    <tr>\n",
       "      <th>1</th>\n",
       "      <td>1955-12-31</td>\n",
       "      <td>Hawai'i: Volcano N.P.</td>\n",
       "      <td>19.4333-155.2833_1956</td>\n",
       "      <td>US-HI</td>\n",
       "      <td>8e3wd3w</td>\n",
       "      <td>19.4333</td>\n",
       "      <td>-155.2833</td>\n",
       "      <td>NaN</td>\n",
       "      <td>NaN</td>\n",
       "      <td>1228.18</td>\n",
       "      <td>NaN</td>\n",
       "      <td>NaN</td>\n",
       "      <td>USC00511303</td>\n",
       "      <td>19.4297</td>\n",
       "      <td>-155.2561</td>\n",
       "      <td>1210.40</td>\n",
       "      <td>NaN</td>\n",
       "      <td>NaN</td>\n",
       "      <td>0.0</td>\n",
       "    </tr>\n",
       "    <tr>\n",
       "      <th>2</th>\n",
       "      <td>1967-12-30</td>\n",
       "      <td>Hawai'i: Volcano N.P.</td>\n",
       "      <td>19.4333-155.2833_1968</td>\n",
       "      <td>US-HI</td>\n",
       "      <td>8e3wd3w</td>\n",
       "      <td>19.4333</td>\n",
       "      <td>-155.2833</td>\n",
       "      <td>0.0</td>\n",
       "      <td>0.0</td>\n",
       "      <td>1228.18</td>\n",
       "      <td>NaN</td>\n",
       "      <td>NaN</td>\n",
       "      <td>US1HIHI0013</td>\n",
       "      <td>19.4391</td>\n",
       "      <td>-155.2156</td>\n",
       "      <td>1059.20</td>\n",
       "      <td>NaN</td>\n",
       "      <td>NaN</td>\n",
       "      <td>NaN</td>\n",
       "    </tr>\n",
       "    <tr>\n",
       "      <th>3</th>\n",
       "      <td>1967-12-30</td>\n",
       "      <td>Hawai'i: Volcano N.P.</td>\n",
       "      <td>19.4333-155.2833_1968</td>\n",
       "      <td>US-HI</td>\n",
       "      <td>8e3wd3w</td>\n",
       "      <td>19.4333</td>\n",
       "      <td>-155.2833</td>\n",
       "      <td>0.0</td>\n",
       "      <td>0.0</td>\n",
       "      <td>1228.18</td>\n",
       "      <td>NaN</td>\n",
       "      <td>NaN</td>\n",
       "      <td>US1HIHI0071</td>\n",
       "      <td>19.4414</td>\n",
       "      <td>-155.2487</td>\n",
       "      <td>1194.80</td>\n",
       "      <td>NaN</td>\n",
       "      <td>NaN</td>\n",
       "      <td>NaN</td>\n",
       "    </tr>\n",
       "    <tr>\n",
       "      <th>4</th>\n",
       "      <td>1967-12-30</td>\n",
       "      <td>Hawai'i: Volcano N.P.</td>\n",
       "      <td>19.4333-155.2833_1968</td>\n",
       "      <td>US-HI</td>\n",
       "      <td>8e3wd3w</td>\n",
       "      <td>19.4333</td>\n",
       "      <td>-155.2833</td>\n",
       "      <td>0.0</td>\n",
       "      <td>0.0</td>\n",
       "      <td>1228.18</td>\n",
       "      <td>NaN</td>\n",
       "      <td>NaN</td>\n",
       "      <td>USC00514563</td>\n",
       "      <td>19.4094</td>\n",
       "      <td>-155.2608</td>\n",
       "      <td>1079.87</td>\n",
       "      <td>NaN</td>\n",
       "      <td>NaN</td>\n",
       "      <td>NaN</td>\n",
       "    </tr>\n",
       "  </tbody>\n",
       "</table>\n",
       "</div>"
      ],
      "text/plain": [
       "   count_date                 c_name                     ui country_state  \\\n",
       "0  1955-01-01  Hawai'i: Volcano N.P.  19.4333-155.2833_1955         US-HI   \n",
       "1  1955-12-31  Hawai'i: Volcano N.P.  19.4333-155.2833_1956         US-HI   \n",
       "2  1967-12-30  Hawai'i: Volcano N.P.  19.4333-155.2833_1968         US-HI   \n",
       "3  1967-12-30  Hawai'i: Volcano N.P.  19.4333-155.2833_1968         US-HI   \n",
       "4  1967-12-30  Hawai'i: Volcano N.P.  19.4333-155.2833_1968         US-HI   \n",
       "\n",
       "      c_id    c_lat     c_lon  min_snow  max_snow   c_elev  c_ecosys  \\\n",
       "0  8e3wd3w  19.4333 -155.2833       NaN       NaN  1228.18       NaN   \n",
       "1  8e3wd3w  19.4333 -155.2833       NaN       NaN  1228.18       NaN   \n",
       "2  8e3wd3w  19.4333 -155.2833       0.0       0.0  1228.18       NaN   \n",
       "3  8e3wd3w  19.4333 -155.2833       0.0       0.0  1228.18       NaN   \n",
       "4  8e3wd3w  19.4333 -155.2833       0.0       0.0  1228.18       NaN   \n",
       "\n",
       "   c_nlcdcode         s_id    s_lat     s_lon   s_elev  s_ecosys  s_nlcdcode  \\\n",
       "0         NaN  USC00511303  19.4297 -155.2561  1210.40       NaN         NaN   \n",
       "1         NaN  USC00511303  19.4297 -155.2561  1210.40       NaN         NaN   \n",
       "2         NaN  US1HIHI0013  19.4391 -155.2156  1059.20       NaN         NaN   \n",
       "3         NaN  US1HIHI0071  19.4414 -155.2487  1194.80       NaN         NaN   \n",
       "4         NaN  USC00514563  19.4094 -155.2608  1079.87       NaN         NaN   \n",
       "\n",
       "   snwd  \n",
       "0   0.0  \n",
       "1   0.0  \n",
       "2   NaN  \n",
       "3   NaN  \n",
       "4   NaN  "
      ]
     },
     "execution_count": 12,
     "metadata": {},
     "output_type": "execute_result"
    }
   ],
   "source": [
    "prcp_data.head()"
   ]
  },
  {
   "cell_type": "markdown",
   "metadata": {},
   "source": [
    "## Data Prep"
   ]
  },
  {
   "cell_type": "markdown",
   "metadata": {},
   "source": [
    "#### Stations Reporting Snow"
   ]
  },
  {
   "cell_type": "code",
   "execution_count": 13,
   "metadata": {},
   "outputs": [],
   "source": [
    "# Create the field s_snwd which is True if the row (station) has a value of snwd \n",
    "# greater than 0 (an indicator that snow did accumulate) and is NA otherwise\n",
    "\n",
    "# pd.NA preserved int-ness of bools, so they are not converted to floats, and supports three-valued (kleene) logic\n",
    "prcp_data['s_snwd'] = np.where(prcp_data.snwd.isna(), pd.NA, prcp_data.snwd > 0)\n",
    "prcp_data['s_snwd'] = prcp_data.s_snwd.astype('boolean')"
   ]
  },
  {
   "cell_type": "markdown",
   "metadata": {},
   "source": [
    "#### Volunteer records on snow data"
   ]
  },
  {
   "cell_type": "markdown",
   "metadata": {},
   "source": [
    "how clean are min_snow and max_snow in relation to each other?"
   ]
  },
  {
   "cell_type": "code",
   "execution_count": 14,
   "metadata": {},
   "outputs": [
    {
     "data": {
      "text/plain": [
       "17"
      ]
     },
     "execution_count": 14,
     "metadata": {},
     "output_type": "execute_result"
    }
   ],
   "source": [
    "# how many cases are there where min snowdepth is greater than max snowdepth?\n",
    "sum(prcp_data.min_snow > prcp_data.max_snow)"
   ]
  },
  {
   "cell_type": "code",
   "execution_count": 15,
   "metadata": {},
   "outputs": [
    {
     "data": {
      "text/plain": [
       "1"
      ]
     },
     "execution_count": 15,
     "metadata": {},
     "output_type": "execute_result"
    }
   ],
   "source": [
    "# how many cases are there where min snowdepth > 0, but max snowdepth = 0?\n",
    "((prcp_data.min_snow > 0) & (prcp_data.max_snow == 0)).sum()"
   ]
  },
  {
   "cell_type": "code",
   "execution_count": 16,
   "metadata": {},
   "outputs": [
    {
     "data": {
      "text/plain": [
       "270"
      ]
     },
     "execution_count": 16,
     "metadata": {},
     "output_type": "execute_result"
    }
   ],
   "source": [
    "# how many cases are there where min snowdepth > 0, but max snowdepth is NA?\n",
    "((prcp_data.min_snow > 0) & (prcp_data.max_snow.isna())).sum()"
   ]
  },
  {
   "cell_type": "code",
   "execution_count": 17,
   "metadata": {},
   "outputs": [
    {
     "data": {
      "text/plain": [
       "3097"
      ]
     },
     "execution_count": 17,
     "metadata": {},
     "output_type": "execute_result"
    }
   ],
   "source": [
    "# how many cases are there where min snowdepth > 0, but max snowdepth is NA?\n",
    "# (if min snow is na, one would want to assume there was no snowfall at all, but that seems to not be the case)\n",
    "((prcp_data.min_snow.isna()) & (prcp_data.max_snow > 0)).sum()"
   ]
  },
  {
   "cell_type": "code",
   "execution_count": 18,
   "metadata": {},
   "outputs": [],
   "source": [
    "# based on the above, lets assume there was snow (according to the volunteers) if either [min|max]_snow > 0\n",
    "# since we cant support `max_snow == 0 or na --> min_snow == 0`\n",
    "prcp_data['c_snwd'] = np.where((prcp_data.min_snow.isna() & prcp_data.min_snow.isna()), pd.NA, ((prcp_data.min_snow > 0) | (prcp_data.max_snow > 0)))"
   ]
  },
  {
   "cell_type": "markdown",
   "metadata": {},
   "source": [
    "## Comparing stations and circles\n",
    "1. Calulate the distance between the station and the circle. Field is 'distance' \n",
    "2. Calulate the absolute change in elivation between the station and the circle. Field is 'd_elev'\n",
    "3. Calulate if station and circle share ecosystem. Fields 'same_ecosys' and 'same_nlcd'"
   ]
  },
  {
   "cell_type": "code",
   "execution_count": 22,
   "metadata": {},
   "outputs": [],
   "source": [
    "prcp_data['distance'] = prcp_data.apply(lambda tt: haversine_formula((tt.c_lat, tt.c_lon), (tt.s_lat, tt.s_lon)), axis=1)"
   ]
  },
  {
   "cell_type": "code",
   "execution_count": 23,
   "metadata": {},
   "outputs": [],
   "source": [
    "prcp_data['d_elev'] = np.abs(prcp_data.s_elev - prcp_data.c_elev)"
   ]
  },
  {
   "cell_type": "code",
   "execution_count": 24,
   "metadata": {},
   "outputs": [],
   "source": [
    "# convert to int array to get nullable boolean arrays\n",
    "#  https://pandas.pydata.org/pandas-docs/stable/user_guide/boolean.html#kleene-logical-operations\n",
    "prcp_data['same_ecosys'] = prcp_data.c_ecosys.astype('Int64') == prcp_data.s_ecosys.astype('Int64')\n",
    "prcp_data['same_nlcd'] = prcp_data.c_nlcdcode.astype('Int64') == prcp_data.s_nlcdcode.astype('Int64')"
   ]
  },
  {
   "cell_type": "markdown",
   "metadata": {},
   "source": [
    "## Apply Data Limits on Elevation and Distance and Prep for Analysis \n",
    "1. Drop rows where the circle and the station are too far away from each other in either distance or elivation\n",
    "2. Remove columns we dont need\n",
    "3. Sort the dataset by circle then station"
   ]
  },
  {
   "cell_type": "code",
   "execution_count": 25,
   "metadata": {},
   "outputs": [],
   "source": [
    "# drop everything outside of the distance or elevation threshold\n",
    "prcp_data.drop(prcp_data[prcp_data.distance > DISTANCE_THRESHOLD].index, inplace=True)\n",
    "prcp_data.drop(prcp_data[prcp_data.d_elev > ELEVATION_THRESHOLD].index, inplace=True)"
   ]
  },
  {
   "cell_type": "code",
   "execution_count": 26,
   "metadata": {},
   "outputs": [],
   "source": [
    "# once again dump excess data\n",
    "prcp_data.drop(columns=['min_snow', 'max_snow','c_elev', 'c_ecosys', 'c_nlcdcode', \n",
    "                        's_elev', 's_ecosys', 's_nlcdcode','snwd',], inplace=True)"
   ]
  },
  {
   "cell_type": "code",
   "execution_count": 27,
   "metadata": {},
   "outputs": [],
   "source": [
    "# isolate only the circle specific volunteer data\n",
    "circle_obs = prcp_data[['count_date', 'c_name', 'ui','country_state', \n",
    "                        'c_id', 'c_lat', 'c_lon','c_snwd']].groupby(['c_id', 'count_date']).agg('first')"
   ]
  },
  {
   "cell_type": "code",
   "execution_count": 28,
   "metadata": {},
   "outputs": [
    {
     "data": {
      "text/html": [
       "<div>\n",
       "<style scoped>\n",
       "    .dataframe tbody tr th:only-of-type {\n",
       "        vertical-align: middle;\n",
       "    }\n",
       "\n",
       "    .dataframe tbody tr th {\n",
       "        vertical-align: top;\n",
       "    }\n",
       "\n",
       "    .dataframe thead th {\n",
       "        text-align: right;\n",
       "    }\n",
       "</style>\n",
       "<table border=\"1\" class=\"dataframe\">\n",
       "  <thead>\n",
       "    <tr style=\"text-align: right;\">\n",
       "      <th></th>\n",
       "      <th></th>\n",
       "      <th>c_name</th>\n",
       "      <th>ui</th>\n",
       "      <th>country_state</th>\n",
       "      <th>c_lat</th>\n",
       "      <th>c_lon</th>\n",
       "      <th>c_snwd</th>\n",
       "    </tr>\n",
       "    <tr>\n",
       "      <th>c_id</th>\n",
       "      <th>count_date</th>\n",
       "      <th></th>\n",
       "      <th></th>\n",
       "      <th></th>\n",
       "      <th></th>\n",
       "      <th></th>\n",
       "      <th></th>\n",
       "    </tr>\n",
       "  </thead>\n",
       "  <tbody>\n",
       "    <tr>\n",
       "      <th>87ymwsn</th>\n",
       "      <th>1968-12-26</th>\n",
       "      <td>Kaua'i: Waimea</td>\n",
       "      <td>22.0833-159.6667_1969</td>\n",
       "      <td>US-HI</td>\n",
       "      <td>22.083300</td>\n",
       "      <td>-159.666700</td>\n",
       "      <td>False</td>\n",
       "    </tr>\n",
       "    <tr>\n",
       "      <th rowspan=\"21\" valign=\"top\">87ysunb</th>\n",
       "      <th>1971-12-27</th>\n",
       "      <td>Kaua'i: Lihu'e</td>\n",
       "      <td>21.9667-159.4333_1972</td>\n",
       "      <td>US-HI</td>\n",
       "      <td>21.966700</td>\n",
       "      <td>-159.433300</td>\n",
       "      <td>False</td>\n",
       "    </tr>\n",
       "    <tr>\n",
       "      <th>1972-12-17</th>\n",
       "      <td>Kaua'i: Lihu'e</td>\n",
       "      <td>21.9667-159.4333_1973</td>\n",
       "      <td>US-HI</td>\n",
       "      <td>21.966700</td>\n",
       "      <td>-159.433300</td>\n",
       "      <td>False</td>\n",
       "    </tr>\n",
       "    <tr>\n",
       "      <th>1973-12-16</th>\n",
       "      <td>Kaua'i: Lihu'e</td>\n",
       "      <td>21.9667-159.4333_1974</td>\n",
       "      <td>US-HI</td>\n",
       "      <td>21.966700</td>\n",
       "      <td>-159.433300</td>\n",
       "      <td>False</td>\n",
       "    </tr>\n",
       "    <tr>\n",
       "      <th>1974-12-15</th>\n",
       "      <td>Kaua'i: Lihu'e</td>\n",
       "      <td>21.9667-159.4333_1975</td>\n",
       "      <td>US-HI</td>\n",
       "      <td>21.966700</td>\n",
       "      <td>-159.433300</td>\n",
       "      <td>False</td>\n",
       "    </tr>\n",
       "    <tr>\n",
       "      <th>1976-01-04</th>\n",
       "      <td>Kaua'i: Lihu'e</td>\n",
       "      <td>21.9667-159.4333_1976</td>\n",
       "      <td>US-HI</td>\n",
       "      <td>21.966700</td>\n",
       "      <td>-159.433300</td>\n",
       "      <td>False</td>\n",
       "    </tr>\n",
       "    <tr>\n",
       "      <th>1976-12-18</th>\n",
       "      <td>Kaua'i: Lihu'e</td>\n",
       "      <td>21.9667-159.4333_1977</td>\n",
       "      <td>US-HI</td>\n",
       "      <td>21.966700</td>\n",
       "      <td>-159.433300</td>\n",
       "      <td>False</td>\n",
       "    </tr>\n",
       "    <tr>\n",
       "      <th>1977-12-17</th>\n",
       "      <td>Kaua'i: Lihu'e</td>\n",
       "      <td>21.9667-159.4333_1978</td>\n",
       "      <td>US-HI</td>\n",
       "      <td>21.966700</td>\n",
       "      <td>-159.433300</td>\n",
       "      <td>False</td>\n",
       "    </tr>\n",
       "    <tr>\n",
       "      <th>1978-12-16</th>\n",
       "      <td>Kaua'i: Lihu'e</td>\n",
       "      <td>21.9667-159.4333_1979</td>\n",
       "      <td>US-HI</td>\n",
       "      <td>21.966700</td>\n",
       "      <td>-159.433300</td>\n",
       "      <td>False</td>\n",
       "    </tr>\n",
       "    <tr>\n",
       "      <th>1979-12-15</th>\n",
       "      <td>Kaua'i: Lihu'e</td>\n",
       "      <td>21.9667-159.4333_1980</td>\n",
       "      <td>US-HI</td>\n",
       "      <td>21.966700</td>\n",
       "      <td>-159.433300</td>\n",
       "      <td>False</td>\n",
       "    </tr>\n",
       "    <tr>\n",
       "      <th>1980-12-20</th>\n",
       "      <td>Kaua'i: Lihu'e</td>\n",
       "      <td>21.9667-159.4333_1981</td>\n",
       "      <td>US-HI</td>\n",
       "      <td>21.966700</td>\n",
       "      <td>-159.433300</td>\n",
       "      <td>False</td>\n",
       "    </tr>\n",
       "    <tr>\n",
       "      <th>1981-12-19</th>\n",
       "      <td>Kaua'i: Lihu'e</td>\n",
       "      <td>21.9667-159.4333_1982</td>\n",
       "      <td>US-HI</td>\n",
       "      <td>21.966700</td>\n",
       "      <td>-159.433300</td>\n",
       "      <td>False</td>\n",
       "    </tr>\n",
       "    <tr>\n",
       "      <th>1982-12-18</th>\n",
       "      <td>Kaua'i: Lihu'e</td>\n",
       "      <td>21.9667-159.4333_1983</td>\n",
       "      <td>US-HI</td>\n",
       "      <td>21.966700</td>\n",
       "      <td>-159.433300</td>\n",
       "      <td>False</td>\n",
       "    </tr>\n",
       "    <tr>\n",
       "      <th>1983-12-17</th>\n",
       "      <td>Kaua'i: Lihu'e</td>\n",
       "      <td>21.9667-159.4333_1984</td>\n",
       "      <td>US-HI</td>\n",
       "      <td>21.966700</td>\n",
       "      <td>-159.433300</td>\n",
       "      <td>False</td>\n",
       "    </tr>\n",
       "    <tr>\n",
       "      <th>1984-12-15</th>\n",
       "      <td>Kaua'i: Lihu'e</td>\n",
       "      <td>21.9667-159.4333_1985</td>\n",
       "      <td>US-HI</td>\n",
       "      <td>21.966700</td>\n",
       "      <td>-159.433300</td>\n",
       "      <td>False</td>\n",
       "    </tr>\n",
       "    <tr>\n",
       "      <th>1985-12-21</th>\n",
       "      <td>Kaua'i: Lihu'e</td>\n",
       "      <td>21.9667-159.4333_1986</td>\n",
       "      <td>US-HI</td>\n",
       "      <td>21.966700</td>\n",
       "      <td>-159.433300</td>\n",
       "      <td>False</td>\n",
       "    </tr>\n",
       "    <tr>\n",
       "      <th>1986-12-20</th>\n",
       "      <td>Kaua'i: Lihu'e</td>\n",
       "      <td>21.9667-159.4333_1987</td>\n",
       "      <td>US-HI</td>\n",
       "      <td>21.966700</td>\n",
       "      <td>-159.433300</td>\n",
       "      <td>False</td>\n",
       "    </tr>\n",
       "    <tr>\n",
       "      <th>1987-12-19</th>\n",
       "      <td>Kaua'i: Lihu'e</td>\n",
       "      <td>21.9667-159.4333_1988</td>\n",
       "      <td>US-HI</td>\n",
       "      <td>21.966700</td>\n",
       "      <td>-159.433300</td>\n",
       "      <td>False</td>\n",
       "    </tr>\n",
       "    <tr>\n",
       "      <th>1988-12-17</th>\n",
       "      <td>Kaua'i: Lihu'e</td>\n",
       "      <td>21.9667-159.4333_1989</td>\n",
       "      <td>US-HI</td>\n",
       "      <td>21.966700</td>\n",
       "      <td>-159.433300</td>\n",
       "      <td>False</td>\n",
       "    </tr>\n",
       "    <tr>\n",
       "      <th>1989-12-16</th>\n",
       "      <td>Kaua'i: Lihu'e</td>\n",
       "      <td>21.9667-159.4333_1990</td>\n",
       "      <td>US-HI</td>\n",
       "      <td>21.966700</td>\n",
       "      <td>-159.433300</td>\n",
       "      <td>False</td>\n",
       "    </tr>\n",
       "    <tr>\n",
       "      <th>1990-12-15</th>\n",
       "      <td>Kaua'i: Lihu'e</td>\n",
       "      <td>21.9667-159.4333_1991</td>\n",
       "      <td>US-HI</td>\n",
       "      <td>21.966700</td>\n",
       "      <td>-159.433300</td>\n",
       "      <td>False</td>\n",
       "    </tr>\n",
       "    <tr>\n",
       "      <th>1992-12-19</th>\n",
       "      <td>Kaua'i: Lihu'e</td>\n",
       "      <td>21.9667-159.4333_1993</td>\n",
       "      <td>US-HI</td>\n",
       "      <td>21.966700</td>\n",
       "      <td>-159.433300</td>\n",
       "      <td>False</td>\n",
       "    </tr>\n",
       "    <tr>\n",
       "      <th rowspan=\"8\" valign=\"top\">87zc96n</th>\n",
       "      <th>1939-12-24</th>\n",
       "      <td>O'ahu: Honolulu</td>\n",
       "      <td>21.369211-157.78739099999999_1940</td>\n",
       "      <td>US-HI</td>\n",
       "      <td>21.369211</td>\n",
       "      <td>-157.787391</td>\n",
       "      <td>NaN</td>\n",
       "    </tr>\n",
       "    <tr>\n",
       "      <th>1940-12-22</th>\n",
       "      <td>O'ahu: Honolulu</td>\n",
       "      <td>21.369211-157.78739099999999_1941</td>\n",
       "      <td>US-HI</td>\n",
       "      <td>21.369211</td>\n",
       "      <td>-157.787391</td>\n",
       "      <td>NaN</td>\n",
       "    </tr>\n",
       "    <tr>\n",
       "      <th>1944-12-17</th>\n",
       "      <td>O'ahu: Honolulu</td>\n",
       "      <td>21.369211-157.78739099999999_1945</td>\n",
       "      <td>US-HI</td>\n",
       "      <td>21.369211</td>\n",
       "      <td>-157.787391</td>\n",
       "      <td>NaN</td>\n",
       "    </tr>\n",
       "    <tr>\n",
       "      <th>1945-12-23</th>\n",
       "      <td>O'ahu: Honolulu</td>\n",
       "      <td>21.369211-157.78739099999999_1946</td>\n",
       "      <td>US-HI</td>\n",
       "      <td>21.369211</td>\n",
       "      <td>-157.787391</td>\n",
       "      <td>NaN</td>\n",
       "    </tr>\n",
       "    <tr>\n",
       "      <th>1946-12-29</th>\n",
       "      <td>O'ahu: Honolulu</td>\n",
       "      <td>21.369211-157.78739099999999_1947</td>\n",
       "      <td>US-HI</td>\n",
       "      <td>21.369211</td>\n",
       "      <td>-157.787391</td>\n",
       "      <td>NaN</td>\n",
       "    </tr>\n",
       "    <tr>\n",
       "      <th>1947-12-21</th>\n",
       "      <td>O'ahu: Honolulu</td>\n",
       "      <td>21.369211-157.78739099999999_1948</td>\n",
       "      <td>US-HI</td>\n",
       "      <td>21.369211</td>\n",
       "      <td>-157.787391</td>\n",
       "      <td>NaN</td>\n",
       "    </tr>\n",
       "    <tr>\n",
       "      <th>1948-12-26</th>\n",
       "      <td>O'ahu: Honolulu</td>\n",
       "      <td>21.369211-157.78739099999999_1949</td>\n",
       "      <td>US-HI</td>\n",
       "      <td>21.369211</td>\n",
       "      <td>-157.787391</td>\n",
       "      <td>NaN</td>\n",
       "    </tr>\n",
       "    <tr>\n",
       "      <th>1949-12-26</th>\n",
       "      <td>O'ahu: Honolulu</td>\n",
       "      <td>21.369211-157.78739099999999_1950</td>\n",
       "      <td>US-HI</td>\n",
       "      <td>21.369211</td>\n",
       "      <td>-157.787391</td>\n",
       "      <td>NaN</td>\n",
       "    </tr>\n",
       "  </tbody>\n",
       "</table>\n",
       "</div>"
      ],
      "text/plain": [
       "                             c_name                                 ui  \\\n",
       "c_id    count_date                                                       \n",
       "87ymwsn 1968-12-26   Kaua'i: Waimea              22.0833-159.6667_1969   \n",
       "87ysunb 1971-12-27   Kaua'i: Lihu'e              21.9667-159.4333_1972   \n",
       "        1972-12-17   Kaua'i: Lihu'e              21.9667-159.4333_1973   \n",
       "        1973-12-16   Kaua'i: Lihu'e              21.9667-159.4333_1974   \n",
       "        1974-12-15   Kaua'i: Lihu'e              21.9667-159.4333_1975   \n",
       "        1976-01-04   Kaua'i: Lihu'e              21.9667-159.4333_1976   \n",
       "        1976-12-18   Kaua'i: Lihu'e              21.9667-159.4333_1977   \n",
       "        1977-12-17   Kaua'i: Lihu'e              21.9667-159.4333_1978   \n",
       "        1978-12-16   Kaua'i: Lihu'e              21.9667-159.4333_1979   \n",
       "        1979-12-15   Kaua'i: Lihu'e              21.9667-159.4333_1980   \n",
       "        1980-12-20   Kaua'i: Lihu'e              21.9667-159.4333_1981   \n",
       "        1981-12-19   Kaua'i: Lihu'e              21.9667-159.4333_1982   \n",
       "        1982-12-18   Kaua'i: Lihu'e              21.9667-159.4333_1983   \n",
       "        1983-12-17   Kaua'i: Lihu'e              21.9667-159.4333_1984   \n",
       "        1984-12-15   Kaua'i: Lihu'e              21.9667-159.4333_1985   \n",
       "        1985-12-21   Kaua'i: Lihu'e              21.9667-159.4333_1986   \n",
       "        1986-12-20   Kaua'i: Lihu'e              21.9667-159.4333_1987   \n",
       "        1987-12-19   Kaua'i: Lihu'e              21.9667-159.4333_1988   \n",
       "        1988-12-17   Kaua'i: Lihu'e              21.9667-159.4333_1989   \n",
       "        1989-12-16   Kaua'i: Lihu'e              21.9667-159.4333_1990   \n",
       "        1990-12-15   Kaua'i: Lihu'e              21.9667-159.4333_1991   \n",
       "        1992-12-19   Kaua'i: Lihu'e              21.9667-159.4333_1993   \n",
       "87zc96n 1939-12-24  O'ahu: Honolulu  21.369211-157.78739099999999_1940   \n",
       "        1940-12-22  O'ahu: Honolulu  21.369211-157.78739099999999_1941   \n",
       "        1944-12-17  O'ahu: Honolulu  21.369211-157.78739099999999_1945   \n",
       "        1945-12-23  O'ahu: Honolulu  21.369211-157.78739099999999_1946   \n",
       "        1946-12-29  O'ahu: Honolulu  21.369211-157.78739099999999_1947   \n",
       "        1947-12-21  O'ahu: Honolulu  21.369211-157.78739099999999_1948   \n",
       "        1948-12-26  O'ahu: Honolulu  21.369211-157.78739099999999_1949   \n",
       "        1949-12-26  O'ahu: Honolulu  21.369211-157.78739099999999_1950   \n",
       "\n",
       "                   country_state      c_lat       c_lon c_snwd  \n",
       "c_id    count_date                                              \n",
       "87ymwsn 1968-12-26         US-HI  22.083300 -159.666700  False  \n",
       "87ysunb 1971-12-27         US-HI  21.966700 -159.433300  False  \n",
       "        1972-12-17         US-HI  21.966700 -159.433300  False  \n",
       "        1973-12-16         US-HI  21.966700 -159.433300  False  \n",
       "        1974-12-15         US-HI  21.966700 -159.433300  False  \n",
       "        1976-01-04         US-HI  21.966700 -159.433300  False  \n",
       "        1976-12-18         US-HI  21.966700 -159.433300  False  \n",
       "        1977-12-17         US-HI  21.966700 -159.433300  False  \n",
       "        1978-12-16         US-HI  21.966700 -159.433300  False  \n",
       "        1979-12-15         US-HI  21.966700 -159.433300  False  \n",
       "        1980-12-20         US-HI  21.966700 -159.433300  False  \n",
       "        1981-12-19         US-HI  21.966700 -159.433300  False  \n",
       "        1982-12-18         US-HI  21.966700 -159.433300  False  \n",
       "        1983-12-17         US-HI  21.966700 -159.433300  False  \n",
       "        1984-12-15         US-HI  21.966700 -159.433300  False  \n",
       "        1985-12-21         US-HI  21.966700 -159.433300  False  \n",
       "        1986-12-20         US-HI  21.966700 -159.433300  False  \n",
       "        1987-12-19         US-HI  21.966700 -159.433300  False  \n",
       "        1988-12-17         US-HI  21.966700 -159.433300  False  \n",
       "        1989-12-16         US-HI  21.966700 -159.433300  False  \n",
       "        1990-12-15         US-HI  21.966700 -159.433300  False  \n",
       "        1992-12-19         US-HI  21.966700 -159.433300  False  \n",
       "87zc96n 1939-12-24         US-HI  21.369211 -157.787391    NaN  \n",
       "        1940-12-22         US-HI  21.369211 -157.787391    NaN  \n",
       "        1944-12-17         US-HI  21.369211 -157.787391    NaN  \n",
       "        1945-12-23         US-HI  21.369211 -157.787391    NaN  \n",
       "        1946-12-29         US-HI  21.369211 -157.787391    NaN  \n",
       "        1947-12-21         US-HI  21.369211 -157.787391    NaN  \n",
       "        1948-12-26         US-HI  21.369211 -157.787391    NaN  \n",
       "        1949-12-26         US-HI  21.369211 -157.787391    NaN  "
      ]
     },
     "execution_count": 28,
     "metadata": {},
     "output_type": "execute_result"
    }
   ],
   "source": [
    "# isolate only the circle specific volunteer data\n",
    "circle_obs.head(30)"
   ]
  },
  {
   "cell_type": "code",
   "execution_count": 29,
   "metadata": {},
   "outputs": [],
   "source": [
    "# sort by circle then station information\n",
    "prcp_data = prcp_data.set_index(['c_id', 'count_date', 's_id']).sort_index()"
   ]
  },
  {
   "cell_type": "code",
   "execution_count": 30,
   "metadata": {},
   "outputs": [
    {
     "data": {
      "text/html": [
       "<div>\n",
       "<style scoped>\n",
       "    .dataframe tbody tr th:only-of-type {\n",
       "        vertical-align: middle;\n",
       "    }\n",
       "\n",
       "    .dataframe tbody tr th {\n",
       "        vertical-align: top;\n",
       "    }\n",
       "\n",
       "    .dataframe thead th {\n",
       "        text-align: right;\n",
       "    }\n",
       "</style>\n",
       "<table border=\"1\" class=\"dataframe\">\n",
       "  <thead>\n",
       "    <tr style=\"text-align: right;\">\n",
       "      <th></th>\n",
       "      <th></th>\n",
       "      <th></th>\n",
       "      <th>c_name</th>\n",
       "      <th>ui</th>\n",
       "      <th>country_state</th>\n",
       "      <th>c_lat</th>\n",
       "      <th>c_lon</th>\n",
       "      <th>s_lat</th>\n",
       "      <th>s_lon</th>\n",
       "      <th>s_snwd</th>\n",
       "      <th>c_snwd</th>\n",
       "      <th>distance</th>\n",
       "      <th>d_elev</th>\n",
       "      <th>same_ecosys</th>\n",
       "      <th>same_nlcd</th>\n",
       "    </tr>\n",
       "    <tr>\n",
       "      <th>c_id</th>\n",
       "      <th>count_date</th>\n",
       "      <th>s_id</th>\n",
       "      <th></th>\n",
       "      <th></th>\n",
       "      <th></th>\n",
       "      <th></th>\n",
       "      <th></th>\n",
       "      <th></th>\n",
       "      <th></th>\n",
       "      <th></th>\n",
       "      <th></th>\n",
       "      <th></th>\n",
       "      <th></th>\n",
       "      <th></th>\n",
       "      <th></th>\n",
       "    </tr>\n",
       "  </thead>\n",
       "  <tbody>\n",
       "    <tr>\n",
       "      <th>87ymwsn</th>\n",
       "      <th>1968-12-26</th>\n",
       "      <th>USC00519130</th>\n",
       "      <td>Kaua'i: Waimea</td>\n",
       "      <td>22.0833-159.6667_1969</td>\n",
       "      <td>US-HI</td>\n",
       "      <td>22.0833</td>\n",
       "      <td>-159.6667</td>\n",
       "      <td>22.1167</td>\n",
       "      <td>-159.6167</td>\n",
       "      <td>&lt;NA&gt;</td>\n",
       "      <td>False</td>\n",
       "      <td>6352.278644</td>\n",
       "      <td>36.16</td>\n",
       "      <td>&lt;NA&gt;</td>\n",
       "      <td>&lt;NA&gt;</td>\n",
       "    </tr>\n",
       "    <tr>\n",
       "      <th rowspan=\"24\" valign=\"top\">87ysunb</th>\n",
       "      <th rowspan=\"13\" valign=\"top\">1971-12-27</th>\n",
       "      <th>US1HIKI0004</th>\n",
       "      <td>Kaua'i: Lihu'e</td>\n",
       "      <td>21.9667-159.4333_1972</td>\n",
       "      <td>US-HI</td>\n",
       "      <td>21.9667</td>\n",
       "      <td>-159.4333</td>\n",
       "      <td>21.9249</td>\n",
       "      <td>-159.4983</td>\n",
       "      <td>&lt;NA&gt;</td>\n",
       "      <td>False</td>\n",
       "      <td>8159.889753</td>\n",
       "      <td>43.84</td>\n",
       "      <td>&lt;NA&gt;</td>\n",
       "      <td>&lt;NA&gt;</td>\n",
       "    </tr>\n",
       "    <tr>\n",
       "      <th>US1HIKI0014</th>\n",
       "      <td>Kaua'i: Lihu'e</td>\n",
       "      <td>21.9667-159.4333_1972</td>\n",
       "      <td>US-HI</td>\n",
       "      <td>21.9667</td>\n",
       "      <td>-159.4333</td>\n",
       "      <td>21.9055</td>\n",
       "      <td>-159.5150</td>\n",
       "      <td>&lt;NA&gt;</td>\n",
       "      <td>False</td>\n",
       "      <td>10834.614107</td>\n",
       "      <td>11.26</td>\n",
       "      <td>&lt;NA&gt;</td>\n",
       "      <td>&lt;NA&gt;</td>\n",
       "    </tr>\n",
       "    <tr>\n",
       "      <th>US1HIKI0018</th>\n",
       "      <td>Kaua'i: Lihu'e</td>\n",
       "      <td>21.9667-159.4333_1972</td>\n",
       "      <td>US-HI</td>\n",
       "      <td>21.9667</td>\n",
       "      <td>-159.4333</td>\n",
       "      <td>21.9075</td>\n",
       "      <td>-159.5181</td>\n",
       "      <td>&lt;NA&gt;</td>\n",
       "      <td>False</td>\n",
       "      <td>10950.027151</td>\n",
       "      <td>17.34</td>\n",
       "      <td>&lt;NA&gt;</td>\n",
       "      <td>&lt;NA&gt;</td>\n",
       "    </tr>\n",
       "    <tr>\n",
       "      <th>USC00510006</th>\n",
       "      <td>Kaua'i: Lihu'e</td>\n",
       "      <td>21.9667-159.4333_1972</td>\n",
       "      <td>US-HI</td>\n",
       "      <td>21.9667</td>\n",
       "      <td>-159.4333</td>\n",
       "      <td>21.9500</td>\n",
       "      <td>-159.4333</td>\n",
       "      <td>&lt;NA&gt;</td>\n",
       "      <td>False</td>\n",
       "      <td>1857.479921</td>\n",
       "      <td>35.96</td>\n",
       "      <td>&lt;NA&gt;</td>\n",
       "      <td>&lt;NA&gt;</td>\n",
       "    </tr>\n",
       "    <tr>\n",
       "      <th>USC00510456</th>\n",
       "      <td>Kaua'i: Lihu'e</td>\n",
       "      <td>21.9667-159.4333_1972</td>\n",
       "      <td>US-HI</td>\n",
       "      <td>21.9667</td>\n",
       "      <td>-159.4333</td>\n",
       "      <td>21.9011</td>\n",
       "      <td>-159.4969</td>\n",
       "      <td>False</td>\n",
       "      <td>False</td>\n",
       "      <td>9813.118605</td>\n",
       "      <td>49.06</td>\n",
       "      <td>&lt;NA&gt;</td>\n",
       "      <td>&lt;NA&gt;</td>\n",
       "    </tr>\n",
       "    <tr>\n",
       "      <th>USC00511038</th>\n",
       "      <td>Kaua'i: Lihu'e</td>\n",
       "      <td>21.9667-159.4333_1972</td>\n",
       "      <td>US-HI</td>\n",
       "      <td>21.9667</td>\n",
       "      <td>-159.4333</td>\n",
       "      <td>21.9650</td>\n",
       "      <td>-159.4297</td>\n",
       "      <td>False</td>\n",
       "      <td>False</td>\n",
       "      <td>416.715760</td>\n",
       "      <td>6.44</td>\n",
       "      <td>&lt;NA&gt;</td>\n",
       "      <td>&lt;NA&gt;</td>\n",
       "    </tr>\n",
       "    <tr>\n",
       "      <th>USC00513023</th>\n",
       "      <td>Kaua'i: Lihu'e</td>\n",
       "      <td>21.9667-159.4333_1972</td>\n",
       "      <td>US-HI</td>\n",
       "      <td>21.9667</td>\n",
       "      <td>-159.4333</td>\n",
       "      <td>21.9167</td>\n",
       "      <td>-159.4500</td>\n",
       "      <td>&lt;NA&gt;</td>\n",
       "      <td>False</td>\n",
       "      <td>5822.091067</td>\n",
       "      <td>42.06</td>\n",
       "      <td>&lt;NA&gt;</td>\n",
       "      <td>&lt;NA&gt;</td>\n",
       "    </tr>\n",
       "    <tr>\n",
       "      <th>USC00514746</th>\n",
       "      <td>Kaua'i: Lihu'e</td>\n",
       "      <td>21.9667-159.4333_1972</td>\n",
       "      <td>US-HI</td>\n",
       "      <td>21.9667</td>\n",
       "      <td>-159.4333</td>\n",
       "      <td>21.9500</td>\n",
       "      <td>-159.4667</td>\n",
       "      <td>&lt;NA&gt;</td>\n",
       "      <td>False</td>\n",
       "      <td>3914.260655</td>\n",
       "      <td>39.94</td>\n",
       "      <td>&lt;NA&gt;</td>\n",
       "      <td>&lt;NA&gt;</td>\n",
       "    </tr>\n",
       "    <tr>\n",
       "      <th>USC00515464</th>\n",
       "      <td>Kaua'i: Lihu'e</td>\n",
       "      <td>21.9667-159.4333_1972</td>\n",
       "      <td>US-HI</td>\n",
       "      <td>21.9667</td>\n",
       "      <td>-159.4333</td>\n",
       "      <td>21.9167</td>\n",
       "      <td>-159.5167</td>\n",
       "      <td>&lt;NA&gt;</td>\n",
       "      <td>False</td>\n",
       "      <td>10245.145356</td>\n",
       "      <td>35.55</td>\n",
       "      <td>&lt;NA&gt;</td>\n",
       "      <td>&lt;NA&gt;</td>\n",
       "    </tr>\n",
       "    <tr>\n",
       "      <th>USC00517777</th>\n",
       "      <td>Kaua'i: Lihu'e</td>\n",
       "      <td>21.9667-159.4333_1972</td>\n",
       "      <td>US-HI</td>\n",
       "      <td>21.9667</td>\n",
       "      <td>-159.4333</td>\n",
       "      <td>21.9667</td>\n",
       "      <td>-159.4667</td>\n",
       "      <td>&lt;NA&gt;</td>\n",
       "      <td>False</td>\n",
       "      <td>3445.259016</td>\n",
       "      <td>24.94</td>\n",
       "      <td>&lt;NA&gt;</td>\n",
       "      <td>&lt;NA&gt;</td>\n",
       "    </tr>\n",
       "    <tr>\n",
       "      <th>USC00518217</th>\n",
       "      <td>Kaua'i: Lihu'e</td>\n",
       "      <td>21.9667-159.4333_1972</td>\n",
       "      <td>US-HI</td>\n",
       "      <td>21.9667</td>\n",
       "      <td>-159.4333</td>\n",
       "      <td>21.9656</td>\n",
       "      <td>-159.3964</td>\n",
       "      <td>False</td>\n",
       "      <td>False</td>\n",
       "      <td>3808.269759</td>\n",
       "      <td>42.66</td>\n",
       "      <td>&lt;NA&gt;</td>\n",
       "      <td>&lt;NA&gt;</td>\n",
       "    </tr>\n",
       "    <tr>\n",
       "      <th>USC00518570</th>\n",
       "      <td>Kaua'i: Lihu'e</td>\n",
       "      <td>21.9667-159.4333_1972</td>\n",
       "      <td>US-HI</td>\n",
       "      <td>21.9667</td>\n",
       "      <td>-159.4333</td>\n",
       "      <td>21.9667</td>\n",
       "      <td>-159.4167</td>\n",
       "      <td>&lt;NA&gt;</td>\n",
       "      <td>False</td>\n",
       "      <td>1712.314364</td>\n",
       "      <td>24.06</td>\n",
       "      <td>&lt;NA&gt;</td>\n",
       "      <td>&lt;NA&gt;</td>\n",
       "    </tr>\n",
       "    <tr>\n",
       "      <th>USC00518573</th>\n",
       "      <td>Kaua'i: Lihu'e</td>\n",
       "      <td>21.9667-159.4333_1972</td>\n",
       "      <td>US-HI</td>\n",
       "      <td>21.9667</td>\n",
       "      <td>-159.4333</td>\n",
       "      <td>21.9500</td>\n",
       "      <td>-159.4500</td>\n",
       "      <td>&lt;NA&gt;</td>\n",
       "      <td>False</td>\n",
       "      <td>2533.383680</td>\n",
       "      <td>14.96</td>\n",
       "      <td>&lt;NA&gt;</td>\n",
       "      <td>&lt;NA&gt;</td>\n",
       "    </tr>\n",
       "    <tr>\n",
       "      <th rowspan=\"11\" valign=\"top\">1972-12-17</th>\n",
       "      <th>US1HIKI0004</th>\n",
       "      <td>Kaua'i: Lihu'e</td>\n",
       "      <td>21.9667-159.4333_1973</td>\n",
       "      <td>US-HI</td>\n",
       "      <td>21.9667</td>\n",
       "      <td>-159.4333</td>\n",
       "      <td>21.9249</td>\n",
       "      <td>-159.4983</td>\n",
       "      <td>&lt;NA&gt;</td>\n",
       "      <td>False</td>\n",
       "      <td>8159.889753</td>\n",
       "      <td>43.84</td>\n",
       "      <td>&lt;NA&gt;</td>\n",
       "      <td>&lt;NA&gt;</td>\n",
       "    </tr>\n",
       "    <tr>\n",
       "      <th>US1HIKI0014</th>\n",
       "      <td>Kaua'i: Lihu'e</td>\n",
       "      <td>21.9667-159.4333_1973</td>\n",
       "      <td>US-HI</td>\n",
       "      <td>21.9667</td>\n",
       "      <td>-159.4333</td>\n",
       "      <td>21.9055</td>\n",
       "      <td>-159.5150</td>\n",
       "      <td>&lt;NA&gt;</td>\n",
       "      <td>False</td>\n",
       "      <td>10834.614107</td>\n",
       "      <td>11.26</td>\n",
       "      <td>&lt;NA&gt;</td>\n",
       "      <td>&lt;NA&gt;</td>\n",
       "    </tr>\n",
       "    <tr>\n",
       "      <th>US1HIKI0018</th>\n",
       "      <td>Kaua'i: Lihu'e</td>\n",
       "      <td>21.9667-159.4333_1973</td>\n",
       "      <td>US-HI</td>\n",
       "      <td>21.9667</td>\n",
       "      <td>-159.4333</td>\n",
       "      <td>21.9075</td>\n",
       "      <td>-159.5181</td>\n",
       "      <td>&lt;NA&gt;</td>\n",
       "      <td>False</td>\n",
       "      <td>10950.027151</td>\n",
       "      <td>17.34</td>\n",
       "      <td>&lt;NA&gt;</td>\n",
       "      <td>&lt;NA&gt;</td>\n",
       "    </tr>\n",
       "    <tr>\n",
       "      <th>USC00510006</th>\n",
       "      <td>Kaua'i: Lihu'e</td>\n",
       "      <td>21.9667-159.4333_1973</td>\n",
       "      <td>US-HI</td>\n",
       "      <td>21.9667</td>\n",
       "      <td>-159.4333</td>\n",
       "      <td>21.9500</td>\n",
       "      <td>-159.4333</td>\n",
       "      <td>&lt;NA&gt;</td>\n",
       "      <td>False</td>\n",
       "      <td>1857.479921</td>\n",
       "      <td>35.96</td>\n",
       "      <td>&lt;NA&gt;</td>\n",
       "      <td>&lt;NA&gt;</td>\n",
       "    </tr>\n",
       "    <tr>\n",
       "      <th>USC00510456</th>\n",
       "      <td>Kaua'i: Lihu'e</td>\n",
       "      <td>21.9667-159.4333_1973</td>\n",
       "      <td>US-HI</td>\n",
       "      <td>21.9667</td>\n",
       "      <td>-159.4333</td>\n",
       "      <td>21.9011</td>\n",
       "      <td>-159.4969</td>\n",
       "      <td>False</td>\n",
       "      <td>False</td>\n",
       "      <td>9813.118605</td>\n",
       "      <td>49.06</td>\n",
       "      <td>&lt;NA&gt;</td>\n",
       "      <td>&lt;NA&gt;</td>\n",
       "    </tr>\n",
       "    <tr>\n",
       "      <th>USC00511038</th>\n",
       "      <td>Kaua'i: Lihu'e</td>\n",
       "      <td>21.9667-159.4333_1973</td>\n",
       "      <td>US-HI</td>\n",
       "      <td>21.9667</td>\n",
       "      <td>-159.4333</td>\n",
       "      <td>21.9650</td>\n",
       "      <td>-159.4297</td>\n",
       "      <td>False</td>\n",
       "      <td>False</td>\n",
       "      <td>416.715760</td>\n",
       "      <td>6.44</td>\n",
       "      <td>&lt;NA&gt;</td>\n",
       "      <td>&lt;NA&gt;</td>\n",
       "    </tr>\n",
       "    <tr>\n",
       "      <th>USC00513023</th>\n",
       "      <td>Kaua'i: Lihu'e</td>\n",
       "      <td>21.9667-159.4333_1973</td>\n",
       "      <td>US-HI</td>\n",
       "      <td>21.9667</td>\n",
       "      <td>-159.4333</td>\n",
       "      <td>21.9167</td>\n",
       "      <td>-159.4500</td>\n",
       "      <td>&lt;NA&gt;</td>\n",
       "      <td>False</td>\n",
       "      <td>5822.091067</td>\n",
       "      <td>42.06</td>\n",
       "      <td>&lt;NA&gt;</td>\n",
       "      <td>&lt;NA&gt;</td>\n",
       "    </tr>\n",
       "    <tr>\n",
       "      <th>USC00514746</th>\n",
       "      <td>Kaua'i: Lihu'e</td>\n",
       "      <td>21.9667-159.4333_1973</td>\n",
       "      <td>US-HI</td>\n",
       "      <td>21.9667</td>\n",
       "      <td>-159.4333</td>\n",
       "      <td>21.9500</td>\n",
       "      <td>-159.4667</td>\n",
       "      <td>&lt;NA&gt;</td>\n",
       "      <td>False</td>\n",
       "      <td>3914.260655</td>\n",
       "      <td>39.94</td>\n",
       "      <td>&lt;NA&gt;</td>\n",
       "      <td>&lt;NA&gt;</td>\n",
       "    </tr>\n",
       "    <tr>\n",
       "      <th>USC00515464</th>\n",
       "      <td>Kaua'i: Lihu'e</td>\n",
       "      <td>21.9667-159.4333_1973</td>\n",
       "      <td>US-HI</td>\n",
       "      <td>21.9667</td>\n",
       "      <td>-159.4333</td>\n",
       "      <td>21.9167</td>\n",
       "      <td>-159.5167</td>\n",
       "      <td>&lt;NA&gt;</td>\n",
       "      <td>False</td>\n",
       "      <td>10245.145356</td>\n",
       "      <td>35.55</td>\n",
       "      <td>&lt;NA&gt;</td>\n",
       "      <td>&lt;NA&gt;</td>\n",
       "    </tr>\n",
       "    <tr>\n",
       "      <th>USC00517777</th>\n",
       "      <td>Kaua'i: Lihu'e</td>\n",
       "      <td>21.9667-159.4333_1973</td>\n",
       "      <td>US-HI</td>\n",
       "      <td>21.9667</td>\n",
       "      <td>-159.4333</td>\n",
       "      <td>21.9667</td>\n",
       "      <td>-159.4667</td>\n",
       "      <td>&lt;NA&gt;</td>\n",
       "      <td>False</td>\n",
       "      <td>3445.259016</td>\n",
       "      <td>24.94</td>\n",
       "      <td>&lt;NA&gt;</td>\n",
       "      <td>&lt;NA&gt;</td>\n",
       "    </tr>\n",
       "    <tr>\n",
       "      <th>USC00518217</th>\n",
       "      <td>Kaua'i: Lihu'e</td>\n",
       "      <td>21.9667-159.4333_1973</td>\n",
       "      <td>US-HI</td>\n",
       "      <td>21.9667</td>\n",
       "      <td>-159.4333</td>\n",
       "      <td>21.9656</td>\n",
       "      <td>-159.3964</td>\n",
       "      <td>False</td>\n",
       "      <td>False</td>\n",
       "      <td>3808.269759</td>\n",
       "      <td>42.66</td>\n",
       "      <td>&lt;NA&gt;</td>\n",
       "      <td>&lt;NA&gt;</td>\n",
       "    </tr>\n",
       "  </tbody>\n",
       "</table>\n",
       "</div>"
      ],
      "text/plain": [
       "                                        c_name                     ui  \\\n",
       "c_id    count_date s_id                                                 \n",
       "87ymwsn 1968-12-26 USC00519130  Kaua'i: Waimea  22.0833-159.6667_1969   \n",
       "87ysunb 1971-12-27 US1HIKI0004  Kaua'i: Lihu'e  21.9667-159.4333_1972   \n",
       "                   US1HIKI0014  Kaua'i: Lihu'e  21.9667-159.4333_1972   \n",
       "                   US1HIKI0018  Kaua'i: Lihu'e  21.9667-159.4333_1972   \n",
       "                   USC00510006  Kaua'i: Lihu'e  21.9667-159.4333_1972   \n",
       "                   USC00510456  Kaua'i: Lihu'e  21.9667-159.4333_1972   \n",
       "                   USC00511038  Kaua'i: Lihu'e  21.9667-159.4333_1972   \n",
       "                   USC00513023  Kaua'i: Lihu'e  21.9667-159.4333_1972   \n",
       "                   USC00514746  Kaua'i: Lihu'e  21.9667-159.4333_1972   \n",
       "                   USC00515464  Kaua'i: Lihu'e  21.9667-159.4333_1972   \n",
       "                   USC00517777  Kaua'i: Lihu'e  21.9667-159.4333_1972   \n",
       "                   USC00518217  Kaua'i: Lihu'e  21.9667-159.4333_1972   \n",
       "                   USC00518570  Kaua'i: Lihu'e  21.9667-159.4333_1972   \n",
       "                   USC00518573  Kaua'i: Lihu'e  21.9667-159.4333_1972   \n",
       "        1972-12-17 US1HIKI0004  Kaua'i: Lihu'e  21.9667-159.4333_1973   \n",
       "                   US1HIKI0014  Kaua'i: Lihu'e  21.9667-159.4333_1973   \n",
       "                   US1HIKI0018  Kaua'i: Lihu'e  21.9667-159.4333_1973   \n",
       "                   USC00510006  Kaua'i: Lihu'e  21.9667-159.4333_1973   \n",
       "                   USC00510456  Kaua'i: Lihu'e  21.9667-159.4333_1973   \n",
       "                   USC00511038  Kaua'i: Lihu'e  21.9667-159.4333_1973   \n",
       "                   USC00513023  Kaua'i: Lihu'e  21.9667-159.4333_1973   \n",
       "                   USC00514746  Kaua'i: Lihu'e  21.9667-159.4333_1973   \n",
       "                   USC00515464  Kaua'i: Lihu'e  21.9667-159.4333_1973   \n",
       "                   USC00517777  Kaua'i: Lihu'e  21.9667-159.4333_1973   \n",
       "                   USC00518217  Kaua'i: Lihu'e  21.9667-159.4333_1973   \n",
       "\n",
       "                               country_state    c_lat     c_lon    s_lat  \\\n",
       "c_id    count_date s_id                                                    \n",
       "87ymwsn 1968-12-26 USC00519130         US-HI  22.0833 -159.6667  22.1167   \n",
       "87ysunb 1971-12-27 US1HIKI0004         US-HI  21.9667 -159.4333  21.9249   \n",
       "                   US1HIKI0014         US-HI  21.9667 -159.4333  21.9055   \n",
       "                   US1HIKI0018         US-HI  21.9667 -159.4333  21.9075   \n",
       "                   USC00510006         US-HI  21.9667 -159.4333  21.9500   \n",
       "                   USC00510456         US-HI  21.9667 -159.4333  21.9011   \n",
       "                   USC00511038         US-HI  21.9667 -159.4333  21.9650   \n",
       "                   USC00513023         US-HI  21.9667 -159.4333  21.9167   \n",
       "                   USC00514746         US-HI  21.9667 -159.4333  21.9500   \n",
       "                   USC00515464         US-HI  21.9667 -159.4333  21.9167   \n",
       "                   USC00517777         US-HI  21.9667 -159.4333  21.9667   \n",
       "                   USC00518217         US-HI  21.9667 -159.4333  21.9656   \n",
       "                   USC00518570         US-HI  21.9667 -159.4333  21.9667   \n",
       "                   USC00518573         US-HI  21.9667 -159.4333  21.9500   \n",
       "        1972-12-17 US1HIKI0004         US-HI  21.9667 -159.4333  21.9249   \n",
       "                   US1HIKI0014         US-HI  21.9667 -159.4333  21.9055   \n",
       "                   US1HIKI0018         US-HI  21.9667 -159.4333  21.9075   \n",
       "                   USC00510006         US-HI  21.9667 -159.4333  21.9500   \n",
       "                   USC00510456         US-HI  21.9667 -159.4333  21.9011   \n",
       "                   USC00511038         US-HI  21.9667 -159.4333  21.9650   \n",
       "                   USC00513023         US-HI  21.9667 -159.4333  21.9167   \n",
       "                   USC00514746         US-HI  21.9667 -159.4333  21.9500   \n",
       "                   USC00515464         US-HI  21.9667 -159.4333  21.9167   \n",
       "                   USC00517777         US-HI  21.9667 -159.4333  21.9667   \n",
       "                   USC00518217         US-HI  21.9667 -159.4333  21.9656   \n",
       "\n",
       "                                   s_lon  s_snwd c_snwd      distance  d_elev  \\\n",
       "c_id    count_date s_id                                                         \n",
       "87ymwsn 1968-12-26 USC00519130 -159.6167    <NA>  False   6352.278644   36.16   \n",
       "87ysunb 1971-12-27 US1HIKI0004 -159.4983    <NA>  False   8159.889753   43.84   \n",
       "                   US1HIKI0014 -159.5150    <NA>  False  10834.614107   11.26   \n",
       "                   US1HIKI0018 -159.5181    <NA>  False  10950.027151   17.34   \n",
       "                   USC00510006 -159.4333    <NA>  False   1857.479921   35.96   \n",
       "                   USC00510456 -159.4969   False  False   9813.118605   49.06   \n",
       "                   USC00511038 -159.4297   False  False    416.715760    6.44   \n",
       "                   USC00513023 -159.4500    <NA>  False   5822.091067   42.06   \n",
       "                   USC00514746 -159.4667    <NA>  False   3914.260655   39.94   \n",
       "                   USC00515464 -159.5167    <NA>  False  10245.145356   35.55   \n",
       "                   USC00517777 -159.4667    <NA>  False   3445.259016   24.94   \n",
       "                   USC00518217 -159.3964   False  False   3808.269759   42.66   \n",
       "                   USC00518570 -159.4167    <NA>  False   1712.314364   24.06   \n",
       "                   USC00518573 -159.4500    <NA>  False   2533.383680   14.96   \n",
       "        1972-12-17 US1HIKI0004 -159.4983    <NA>  False   8159.889753   43.84   \n",
       "                   US1HIKI0014 -159.5150    <NA>  False  10834.614107   11.26   \n",
       "                   US1HIKI0018 -159.5181    <NA>  False  10950.027151   17.34   \n",
       "                   USC00510006 -159.4333    <NA>  False   1857.479921   35.96   \n",
       "                   USC00510456 -159.4969   False  False   9813.118605   49.06   \n",
       "                   USC00511038 -159.4297   False  False    416.715760    6.44   \n",
       "                   USC00513023 -159.4500    <NA>  False   5822.091067   42.06   \n",
       "                   USC00514746 -159.4667    <NA>  False   3914.260655   39.94   \n",
       "                   USC00515464 -159.5167    <NA>  False  10245.145356   35.55   \n",
       "                   USC00517777 -159.4667    <NA>  False   3445.259016   24.94   \n",
       "                   USC00518217 -159.3964   False  False   3808.269759   42.66   \n",
       "\n",
       "                                same_ecosys  same_nlcd  \n",
       "c_id    count_date s_id                                 \n",
       "87ymwsn 1968-12-26 USC00519130         <NA>       <NA>  \n",
       "87ysunb 1971-12-27 US1HIKI0004         <NA>       <NA>  \n",
       "                   US1HIKI0014         <NA>       <NA>  \n",
       "                   US1HIKI0018         <NA>       <NA>  \n",
       "                   USC00510006         <NA>       <NA>  \n",
       "                   USC00510456         <NA>       <NA>  \n",
       "                   USC00511038         <NA>       <NA>  \n",
       "                   USC00513023         <NA>       <NA>  \n",
       "                   USC00514746         <NA>       <NA>  \n",
       "                   USC00515464         <NA>       <NA>  \n",
       "                   USC00517777         <NA>       <NA>  \n",
       "                   USC00518217         <NA>       <NA>  \n",
       "                   USC00518570         <NA>       <NA>  \n",
       "                   USC00518573         <NA>       <NA>  \n",
       "        1972-12-17 US1HIKI0004         <NA>       <NA>  \n",
       "                   US1HIKI0014         <NA>       <NA>  \n",
       "                   US1HIKI0018         <NA>       <NA>  \n",
       "                   USC00510006         <NA>       <NA>  \n",
       "                   USC00510456         <NA>       <NA>  \n",
       "                   USC00511038         <NA>       <NA>  \n",
       "                   USC00513023         <NA>       <NA>  \n",
       "                   USC00514746         <NA>       <NA>  \n",
       "                   USC00515464         <NA>       <NA>  \n",
       "                   USC00517777         <NA>       <NA>  \n",
       "                   USC00518217         <NA>       <NA>  "
      ]
     },
     "execution_count": 30,
     "metadata": {},
     "output_type": "execute_result"
    }
   ],
   "source": [
    "prcp_data.head(25)"
   ]
  },
  {
   "cell_type": "code",
   "execution_count": 31,
   "metadata": {},
   "outputs": [
    {
     "data": {
      "text/plain": [
       "(412105, 13)"
      ]
     },
     "execution_count": 31,
     "metadata": {},
     "output_type": "execute_result"
    }
   ],
   "source": [
    "prcp_data.shape"
   ]
  },
  {
   "cell_type": "markdown",
   "metadata": {},
   "source": [
    "# Snowdepth Analysis"
   ]
  },
  {
   "cell_type": "code",
   "execution_count": 32,
   "metadata": {},
   "outputs": [],
   "source": [
    "g = prcp_data.groupby(level=['c_id', 'count_date'])"
   ]
  },
  {
   "cell_type": "code",
   "execution_count": 33,
   "metadata": {},
   "outputs": [
    {
     "data": {
      "text/html": [
       "<div>\n",
       "<style scoped>\n",
       "    .dataframe tbody tr th:only-of-type {\n",
       "        vertical-align: middle;\n",
       "    }\n",
       "\n",
       "    .dataframe tbody tr th {\n",
       "        vertical-align: top;\n",
       "    }\n",
       "\n",
       "    .dataframe thead th {\n",
       "        text-align: right;\n",
       "    }\n",
       "</style>\n",
       "<table border=\"1\" class=\"dataframe\">\n",
       "  <thead>\n",
       "    <tr style=\"text-align: right;\">\n",
       "      <th></th>\n",
       "      <th></th>\n",
       "      <th></th>\n",
       "      <th>c_name</th>\n",
       "      <th>ui</th>\n",
       "      <th>country_state</th>\n",
       "      <th>c_lat</th>\n",
       "      <th>c_lon</th>\n",
       "      <th>s_lat</th>\n",
       "      <th>s_lon</th>\n",
       "      <th>s_snwd</th>\n",
       "      <th>c_snwd</th>\n",
       "      <th>distance</th>\n",
       "      <th>d_elev</th>\n",
       "      <th>same_ecosys</th>\n",
       "      <th>same_nlcd</th>\n",
       "    </tr>\n",
       "    <tr>\n",
       "      <th>c_id</th>\n",
       "      <th>count_date</th>\n",
       "      <th>s_id</th>\n",
       "      <th></th>\n",
       "      <th></th>\n",
       "      <th></th>\n",
       "      <th></th>\n",
       "      <th></th>\n",
       "      <th></th>\n",
       "      <th></th>\n",
       "      <th></th>\n",
       "      <th></th>\n",
       "      <th></th>\n",
       "      <th></th>\n",
       "      <th></th>\n",
       "      <th></th>\n",
       "    </tr>\n",
       "  </thead>\n",
       "  <tbody>\n",
       "    <tr>\n",
       "      <th>87ymwsn</th>\n",
       "      <th>1968-12-26</th>\n",
       "      <th>USC00519130</th>\n",
       "      <td>Kaua'i: Waimea</td>\n",
       "      <td>22.0833-159.6667_1969</td>\n",
       "      <td>US-HI</td>\n",
       "      <td>22.083300</td>\n",
       "      <td>-159.666700</td>\n",
       "      <td>22.1167</td>\n",
       "      <td>-159.6167</td>\n",
       "      <td>&lt;NA&gt;</td>\n",
       "      <td>False</td>\n",
       "      <td>6352.278644</td>\n",
       "      <td>36.16</td>\n",
       "      <td>&lt;NA&gt;</td>\n",
       "      <td>&lt;NA&gt;</td>\n",
       "    </tr>\n",
       "    <tr>\n",
       "      <th rowspan=\"4\" valign=\"top\">87ysunb</th>\n",
       "      <th rowspan=\"4\" valign=\"top\">1971-12-27</th>\n",
       "      <th>US1HIKI0004</th>\n",
       "      <td>Kaua'i: Lihu'e</td>\n",
       "      <td>21.9667-159.4333_1972</td>\n",
       "      <td>US-HI</td>\n",
       "      <td>21.966700</td>\n",
       "      <td>-159.433300</td>\n",
       "      <td>21.9249</td>\n",
       "      <td>-159.4983</td>\n",
       "      <td>&lt;NA&gt;</td>\n",
       "      <td>False</td>\n",
       "      <td>8159.889753</td>\n",
       "      <td>43.84</td>\n",
       "      <td>&lt;NA&gt;</td>\n",
       "      <td>&lt;NA&gt;</td>\n",
       "    </tr>\n",
       "    <tr>\n",
       "      <th>US1HIKI0014</th>\n",
       "      <td>Kaua'i: Lihu'e</td>\n",
       "      <td>21.9667-159.4333_1972</td>\n",
       "      <td>US-HI</td>\n",
       "      <td>21.966700</td>\n",
       "      <td>-159.433300</td>\n",
       "      <td>21.9055</td>\n",
       "      <td>-159.5150</td>\n",
       "      <td>&lt;NA&gt;</td>\n",
       "      <td>False</td>\n",
       "      <td>10834.614107</td>\n",
       "      <td>11.26</td>\n",
       "      <td>&lt;NA&gt;</td>\n",
       "      <td>&lt;NA&gt;</td>\n",
       "    </tr>\n",
       "    <tr>\n",
       "      <th>US1HIKI0018</th>\n",
       "      <td>Kaua'i: Lihu'e</td>\n",
       "      <td>21.9667-159.4333_1972</td>\n",
       "      <td>US-HI</td>\n",
       "      <td>21.966700</td>\n",
       "      <td>-159.433300</td>\n",
       "      <td>21.9075</td>\n",
       "      <td>-159.5181</td>\n",
       "      <td>&lt;NA&gt;</td>\n",
       "      <td>False</td>\n",
       "      <td>10950.027151</td>\n",
       "      <td>17.34</td>\n",
       "      <td>&lt;NA&gt;</td>\n",
       "      <td>&lt;NA&gt;</td>\n",
       "    </tr>\n",
       "    <tr>\n",
       "      <th>USC00510006</th>\n",
       "      <td>Kaua'i: Lihu'e</td>\n",
       "      <td>21.9667-159.4333_1972</td>\n",
       "      <td>US-HI</td>\n",
       "      <td>21.966700</td>\n",
       "      <td>-159.433300</td>\n",
       "      <td>21.9500</td>\n",
       "      <td>-159.4333</td>\n",
       "      <td>&lt;NA&gt;</td>\n",
       "      <td>False</td>\n",
       "      <td>1857.479921</td>\n",
       "      <td>35.96</td>\n",
       "      <td>&lt;NA&gt;</td>\n",
       "      <td>&lt;NA&gt;</td>\n",
       "    </tr>\n",
       "    <tr>\n",
       "      <th>...</th>\n",
       "      <th>...</th>\n",
       "      <th>...</th>\n",
       "      <td>...</td>\n",
       "      <td>...</td>\n",
       "      <td>...</td>\n",
       "      <td>...</td>\n",
       "      <td>...</td>\n",
       "      <td>...</td>\n",
       "      <td>...</td>\n",
       "      <td>...</td>\n",
       "      <td>...</td>\n",
       "      <td>...</td>\n",
       "      <td>...</td>\n",
       "      <td>...</td>\n",
       "      <td>...</td>\n",
       "    </tr>\n",
       "    <tr>\n",
       "      <th rowspan=\"5\" valign=\"top\">zcpkrwz</th>\n",
       "      <th>1979-12-18</th>\n",
       "      <th>USW00045702</th>\n",
       "      <td>Amchitka Island</td>\n",
       "      <td>51.409713179.284881_1980</td>\n",
       "      <td>US-AK</td>\n",
       "      <td>51.409713</td>\n",
       "      <td>179.284881</td>\n",
       "      <td>51.3833</td>\n",
       "      <td>179.2500</td>\n",
       "      <td>&lt;NA&gt;</td>\n",
       "      <td>False</td>\n",
       "      <td>3806.612762</td>\n",
       "      <td>NaN</td>\n",
       "      <td>&lt;NA&gt;</td>\n",
       "      <td>&lt;NA&gt;</td>\n",
       "    </tr>\n",
       "    <tr>\n",
       "      <th rowspan=\"2\" valign=\"top\">1992-12-20</th>\n",
       "      <th>USC00500252</th>\n",
       "      <td>Amchitka Island</td>\n",
       "      <td>51.409713179.284881_1993</td>\n",
       "      <td>US-AK</td>\n",
       "      <td>51.409713</td>\n",
       "      <td>179.284881</td>\n",
       "      <td>51.3833</td>\n",
       "      <td>179.2833</td>\n",
       "      <td>False</td>\n",
       "      <td>False</td>\n",
       "      <td>2939.869435</td>\n",
       "      <td>NaN</td>\n",
       "      <td>&lt;NA&gt;</td>\n",
       "      <td>&lt;NA&gt;</td>\n",
       "    </tr>\n",
       "    <tr>\n",
       "      <th>USW00045702</th>\n",
       "      <td>Amchitka Island</td>\n",
       "      <td>51.409713179.284881_1993</td>\n",
       "      <td>US-AK</td>\n",
       "      <td>51.409713</td>\n",
       "      <td>179.284881</td>\n",
       "      <td>51.3833</td>\n",
       "      <td>179.2500</td>\n",
       "      <td>&lt;NA&gt;</td>\n",
       "      <td>False</td>\n",
       "      <td>3806.612762</td>\n",
       "      <td>NaN</td>\n",
       "      <td>&lt;NA&gt;</td>\n",
       "      <td>&lt;NA&gt;</td>\n",
       "    </tr>\n",
       "    <tr>\n",
       "      <th rowspan=\"2\" valign=\"top\">1993-12-28</th>\n",
       "      <th>USC00500252</th>\n",
       "      <td>Amchitka Island</td>\n",
       "      <td>51.409713179.284881_1994</td>\n",
       "      <td>US-AK</td>\n",
       "      <td>51.409713</td>\n",
       "      <td>179.284881</td>\n",
       "      <td>51.3833</td>\n",
       "      <td>179.2833</td>\n",
       "      <td>&lt;NA&gt;</td>\n",
       "      <td>True</td>\n",
       "      <td>2939.869435</td>\n",
       "      <td>NaN</td>\n",
       "      <td>&lt;NA&gt;</td>\n",
       "      <td>&lt;NA&gt;</td>\n",
       "    </tr>\n",
       "    <tr>\n",
       "      <th>USW00045702</th>\n",
       "      <td>Amchitka Island</td>\n",
       "      <td>51.409713179.284881_1994</td>\n",
       "      <td>US-AK</td>\n",
       "      <td>51.409713</td>\n",
       "      <td>179.284881</td>\n",
       "      <td>51.3833</td>\n",
       "      <td>179.2500</td>\n",
       "      <td>&lt;NA&gt;</td>\n",
       "      <td>True</td>\n",
       "      <td>3806.612762</td>\n",
       "      <td>NaN</td>\n",
       "      <td>&lt;NA&gt;</td>\n",
       "      <td>&lt;NA&gt;</td>\n",
       "    </tr>\n",
       "  </tbody>\n",
       "</table>\n",
       "<p>218997 rows × 13 columns</p>\n",
       "</div>"
      ],
      "text/plain": [
       "                                         c_name                        ui  \\\n",
       "c_id    count_date s_id                                                     \n",
       "87ymwsn 1968-12-26 USC00519130   Kaua'i: Waimea     22.0833-159.6667_1969   \n",
       "87ysunb 1971-12-27 US1HIKI0004   Kaua'i: Lihu'e     21.9667-159.4333_1972   \n",
       "                   US1HIKI0014   Kaua'i: Lihu'e     21.9667-159.4333_1972   \n",
       "                   US1HIKI0018   Kaua'i: Lihu'e     21.9667-159.4333_1972   \n",
       "                   USC00510006   Kaua'i: Lihu'e     21.9667-159.4333_1972   \n",
       "...                                         ...                       ...   \n",
       "zcpkrwz 1979-12-18 USW00045702  Amchitka Island  51.409713179.284881_1980   \n",
       "        1992-12-20 USC00500252  Amchitka Island  51.409713179.284881_1993   \n",
       "                   USW00045702  Amchitka Island  51.409713179.284881_1993   \n",
       "        1993-12-28 USC00500252  Amchitka Island  51.409713179.284881_1994   \n",
       "                   USW00045702  Amchitka Island  51.409713179.284881_1994   \n",
       "\n",
       "                               country_state      c_lat       c_lon    s_lat  \\\n",
       "c_id    count_date s_id                                                        \n",
       "87ymwsn 1968-12-26 USC00519130         US-HI  22.083300 -159.666700  22.1167   \n",
       "87ysunb 1971-12-27 US1HIKI0004         US-HI  21.966700 -159.433300  21.9249   \n",
       "                   US1HIKI0014         US-HI  21.966700 -159.433300  21.9055   \n",
       "                   US1HIKI0018         US-HI  21.966700 -159.433300  21.9075   \n",
       "                   USC00510006         US-HI  21.966700 -159.433300  21.9500   \n",
       "...                                      ...        ...         ...      ...   \n",
       "zcpkrwz 1979-12-18 USW00045702         US-AK  51.409713  179.284881  51.3833   \n",
       "        1992-12-20 USC00500252         US-AK  51.409713  179.284881  51.3833   \n",
       "                   USW00045702         US-AK  51.409713  179.284881  51.3833   \n",
       "        1993-12-28 USC00500252         US-AK  51.409713  179.284881  51.3833   \n",
       "                   USW00045702         US-AK  51.409713  179.284881  51.3833   \n",
       "\n",
       "                                   s_lon  s_snwd c_snwd      distance  d_elev  \\\n",
       "c_id    count_date s_id                                                         \n",
       "87ymwsn 1968-12-26 USC00519130 -159.6167    <NA>  False   6352.278644   36.16   \n",
       "87ysunb 1971-12-27 US1HIKI0004 -159.4983    <NA>  False   8159.889753   43.84   \n",
       "                   US1HIKI0014 -159.5150    <NA>  False  10834.614107   11.26   \n",
       "                   US1HIKI0018 -159.5181    <NA>  False  10950.027151   17.34   \n",
       "                   USC00510006 -159.4333    <NA>  False   1857.479921   35.96   \n",
       "...                                  ...     ...    ...           ...     ...   \n",
       "zcpkrwz 1979-12-18 USW00045702  179.2500    <NA>  False   3806.612762     NaN   \n",
       "        1992-12-20 USC00500252  179.2833   False  False   2939.869435     NaN   \n",
       "                   USW00045702  179.2500    <NA>  False   3806.612762     NaN   \n",
       "        1993-12-28 USC00500252  179.2833    <NA>   True   2939.869435     NaN   \n",
       "                   USW00045702  179.2500    <NA>   True   3806.612762     NaN   \n",
       "\n",
       "                                same_ecosys  same_nlcd  \n",
       "c_id    count_date s_id                                 \n",
       "87ymwsn 1968-12-26 USC00519130         <NA>       <NA>  \n",
       "87ysunb 1971-12-27 US1HIKI0004         <NA>       <NA>  \n",
       "                   US1HIKI0014         <NA>       <NA>  \n",
       "                   US1HIKI0018         <NA>       <NA>  \n",
       "                   USC00510006         <NA>       <NA>  \n",
       "...                                     ...        ...  \n",
       "zcpkrwz 1979-12-18 USW00045702         <NA>       <NA>  \n",
       "        1992-12-20 USC00500252         <NA>       <NA>  \n",
       "                   USW00045702         <NA>       <NA>  \n",
       "        1993-12-28 USC00500252         <NA>       <NA>  \n",
       "                   USW00045702         <NA>       <NA>  \n",
       "\n",
       "[218997 rows x 13 columns]"
      ]
     },
     "execution_count": 33,
     "metadata": {},
     "output_type": "execute_result"
    }
   ],
   "source": [
    "g.head()"
   ]
  },
  {
   "cell_type": "code",
   "execution_count": 34,
   "metadata": {},
   "outputs": [],
   "source": [
    "def snow_calc(dfg):\n",
    "    is_na = dfg.s_snwd.isna()\n",
    "\n",
    "    # there can be weirdness with boolean not being promoted to ints, so add zero\n",
    "    num = dfg.s_snwd.size + 0\n",
    "    num_notna = dfg.s_snwd.count() + 0\n",
    "    num_true = dfg.s_snwd.sum() + 0\n",
    "    \n",
    "    e = dfg.loc[dfg.same_ecosys, 's_snwd']\n",
    "    e_num = e.size + 0\n",
    "    e_num_notna = e.count() + 0\n",
    "    e_num_true = e.sum() + 0\n",
    "    \n",
    "    n = dfg.loc[dfg.same_nlcd, 's_snwd']\n",
    "    n_num = n.size + 0\n",
    "    n_num_notna = n.count() + 0\n",
    "    n_num_true = n.sum() + 0\n",
    "    \n",
    "    # havent figured out how to inlinse this yet ...\n",
    "    lowest_id = dfg.d_elev.idxmin() if (num > 0) else np.NaN\n",
    "    lowest_id_na = dfg.loc[~is_na, 'd_elev'].idxmin() if (num_notna > 0) else np.NaN\n",
    "    \n",
    "    return pd.Series({\n",
    "        'num' : num,\n",
    "        'num_notna' : num_notna,\n",
    "        'num_true' : num_true,\n",
    "        \n",
    "        'e_num' : e_num,\n",
    "        'e_num_notna' : e_num_notna,\n",
    "        'e_num_true' : e_num_true,\n",
    "        \n",
    "        'n_num' : n_num,\n",
    "        'n_num_notna' : n_num_notna,\n",
    "        'n_num_true' : n_num_true,\n",
    "\n",
    "        'p' : num_true / num_notna if (num_notna > 0) else np.NaN,\n",
    "        'e_p' : e_num_true / e_num_notna if (e_num_notna > 0) else np.NaN,\n",
    "        'n_p' : n_num_true / n_num_notna if (n_num_notna > 0) else np.NaN,\n",
    "        \n",
    "        'snow_closest' : dfg.loc[dfg.distance.idxmin(), 's_snwd'] if (num > 0) else pd.NA,\n",
    "        'snow_closest_notna' : dfg.loc[dfg.loc[~is_na, 'distance'].idxmin(), 's_snwd'] if (num_notna > 0) else pd.NA,\n",
    "        \n",
    "        'snow_lowest' : pd.NA if pd.isna(lowest_id) else dfg.loc[lowest_id, 's_snwd'],\n",
    "        'snow_lowest_notna' : pd.NA if pd.isna(lowest_id_na) else dfg.loc[lowest_id_na, 's_snwd'],\n",
    "    })\n"
   ]
  },
  {
   "cell_type": "markdown",
   "metadata": {},
   "source": [
    "# The new fields used for Analysis\n",
    "num - The number of stations for a circle for a count date\n",
    "\n",
    "num_notna - The number of stations that are not null for their snow measurment \n",
    "\n",
    "num_true - The number of stations that reported true for snow\n",
    "\n",
    "The next sections for \"e_\" and \"n_\" are the same as abouve, except e is only stations for a circle that\n",
    "are in the same ecosystem and n is stations with the same nlcd code.\n",
    "\n",
    "p - The proportion of stations that reported snow for a circle\n",
    "\n"
   ]
  },
  {
   "cell_type": "code",
   "execution_count": 35,
   "metadata": {},
   "outputs": [],
   "source": [
    "# Compute the fields used for Analysis\n",
    "circle_data = g.apply(snow_calc)"
   ]
  },
  {
   "cell_type": "code",
   "execution_count": 36,
   "metadata": {},
   "outputs": [],
   "source": [
    "# Add in the circles details (Name, State, Lat, Lon)\n",
    "circle_data = circle_obs.join(circle_data)"
   ]
  },
  {
   "cell_type": "markdown",
   "metadata": {},
   "source": [
    "# Determine if there is Consensus amoung a Circle's Reference Stations\n",
    "Using the AGREEMENT_THRESHOLD set at the top of the notebook, determine if the there are enough stations for\n",
    "a circle agree that snow accumulated based on that agreement threshold.\n",
    "\n",
    "Do this for all stations and stations within the same ecosys and nlcd code "
   ]
  },
  {
   "cell_type": "code",
   "execution_count": 37,
   "metadata": {},
   "outputs": [],
   "source": [
    "# if the stations couldnt agree (p ∈ [1-AGREEMENT_THRESHOLD, AGREEMENT_THRESHOLD]) or p is NaN, set the consenus to NaN as well\n",
    "circle_data['consensus'] = np.where(((circle_data.p >= (1-AGREEMENT_THRESHOLD)) & (circle_data.p <= AGREEMENT_THRESHOLD)) | circle_data.p.isna(), \n",
    "                                     pd.NA, circle_data.p >= AGREEMENT_THRESHOLD)\n",
    "\n",
    "circle_data['e_consensus'] = np.where(((circle_data.e_p >= (1-AGREEMENT_THRESHOLD)) & (circle_data.e_p <= AGREEMENT_THRESHOLD)) | circle_data.e_p.isna(), \n",
    "                                     pd.NA, circle_data.e_p >= AGREEMENT_THRESHOLD)\n",
    "\n",
    "circle_data['n_consensus'] = np.where(((circle_data.n_p >= (1-AGREEMENT_THRESHOLD)) & (circle_data.n_p <= AGREEMENT_THRESHOLD)) | circle_data.n_p.isna(), \n",
    "                                     pd.NA, circle_data.n_p >= AGREEMENT_THRESHOLD)"
   ]
  },
  {
   "cell_type": "code",
   "execution_count": 38,
   "metadata": {},
   "outputs": [],
   "source": [
    "for c in ['consensus', 'e_consensus', 'n_consensus', 'snow_closest', 'snow_closest_notna', 'snow_lowest', 'snow_lowest_notna']:\n",
    "    circle_data[c] = circle_data[c].astype('boolean')"
   ]
  },
  {
   "cell_type": "code",
   "execution_count": 39,
   "metadata": {},
   "outputs": [
    {
     "data": {
      "text/html": [
       "<div>\n",
       "<style scoped>\n",
       "    .dataframe tbody tr th:only-of-type {\n",
       "        vertical-align: middle;\n",
       "    }\n",
       "\n",
       "    .dataframe tbody tr th {\n",
       "        vertical-align: top;\n",
       "    }\n",
       "\n",
       "    .dataframe thead th {\n",
       "        text-align: right;\n",
       "    }\n",
       "</style>\n",
       "<table border=\"1\" class=\"dataframe\">\n",
       "  <thead>\n",
       "    <tr style=\"text-align: right;\">\n",
       "      <th></th>\n",
       "      <th></th>\n",
       "      <th>c_name</th>\n",
       "      <th>ui</th>\n",
       "      <th>country_state</th>\n",
       "      <th>c_lat</th>\n",
       "      <th>c_lon</th>\n",
       "      <th>c_snwd</th>\n",
       "      <th>num</th>\n",
       "      <th>num_notna</th>\n",
       "      <th>num_true</th>\n",
       "      <th>e_num</th>\n",
       "      <th>...</th>\n",
       "      <th>p</th>\n",
       "      <th>e_p</th>\n",
       "      <th>n_p</th>\n",
       "      <th>snow_closest</th>\n",
       "      <th>snow_closest_notna</th>\n",
       "      <th>snow_lowest</th>\n",
       "      <th>snow_lowest_notna</th>\n",
       "      <th>consensus</th>\n",
       "      <th>e_consensus</th>\n",
       "      <th>n_consensus</th>\n",
       "    </tr>\n",
       "    <tr>\n",
       "      <th>c_id</th>\n",
       "      <th>count_date</th>\n",
       "      <th></th>\n",
       "      <th></th>\n",
       "      <th></th>\n",
       "      <th></th>\n",
       "      <th></th>\n",
       "      <th></th>\n",
       "      <th></th>\n",
       "      <th></th>\n",
       "      <th></th>\n",
       "      <th></th>\n",
       "      <th></th>\n",
       "      <th></th>\n",
       "      <th></th>\n",
       "      <th></th>\n",
       "      <th></th>\n",
       "      <th></th>\n",
       "      <th></th>\n",
       "      <th></th>\n",
       "      <th></th>\n",
       "      <th></th>\n",
       "      <th></th>\n",
       "    </tr>\n",
       "  </thead>\n",
       "  <tbody>\n",
       "    <tr>\n",
       "      <th>87ymwsn</th>\n",
       "      <th>1968-12-26</th>\n",
       "      <td>Kaua'i: Waimea</td>\n",
       "      <td>22.0833-159.6667_1969</td>\n",
       "      <td>US-HI</td>\n",
       "      <td>22.0833</td>\n",
       "      <td>-159.6667</td>\n",
       "      <td>False</td>\n",
       "      <td>1</td>\n",
       "      <td>0</td>\n",
       "      <td>0</td>\n",
       "      <td>0</td>\n",
       "      <td>...</td>\n",
       "      <td>NaN</td>\n",
       "      <td>NaN</td>\n",
       "      <td>NaN</td>\n",
       "      <td>&lt;NA&gt;</td>\n",
       "      <td>&lt;NA&gt;</td>\n",
       "      <td>&lt;NA&gt;</td>\n",
       "      <td>&lt;NA&gt;</td>\n",
       "      <td>&lt;NA&gt;</td>\n",
       "      <td>&lt;NA&gt;</td>\n",
       "      <td>&lt;NA&gt;</td>\n",
       "    </tr>\n",
       "    <tr>\n",
       "      <th rowspan=\"4\" valign=\"top\">87ysunb</th>\n",
       "      <th>1971-12-27</th>\n",
       "      <td>Kaua'i: Lihu'e</td>\n",
       "      <td>21.9667-159.4333_1972</td>\n",
       "      <td>US-HI</td>\n",
       "      <td>21.9667</td>\n",
       "      <td>-159.4333</td>\n",
       "      <td>False</td>\n",
       "      <td>13</td>\n",
       "      <td>3</td>\n",
       "      <td>0</td>\n",
       "      <td>0</td>\n",
       "      <td>...</td>\n",
       "      <td>0.0</td>\n",
       "      <td>NaN</td>\n",
       "      <td>NaN</td>\n",
       "      <td>False</td>\n",
       "      <td>False</td>\n",
       "      <td>False</td>\n",
       "      <td>False</td>\n",
       "      <td>False</td>\n",
       "      <td>&lt;NA&gt;</td>\n",
       "      <td>&lt;NA&gt;</td>\n",
       "    </tr>\n",
       "    <tr>\n",
       "      <th>1972-12-17</th>\n",
       "      <td>Kaua'i: Lihu'e</td>\n",
       "      <td>21.9667-159.4333_1973</td>\n",
       "      <td>US-HI</td>\n",
       "      <td>21.9667</td>\n",
       "      <td>-159.4333</td>\n",
       "      <td>False</td>\n",
       "      <td>13</td>\n",
       "      <td>4</td>\n",
       "      <td>0</td>\n",
       "      <td>0</td>\n",
       "      <td>...</td>\n",
       "      <td>0.0</td>\n",
       "      <td>NaN</td>\n",
       "      <td>NaN</td>\n",
       "      <td>False</td>\n",
       "      <td>False</td>\n",
       "      <td>False</td>\n",
       "      <td>False</td>\n",
       "      <td>False</td>\n",
       "      <td>&lt;NA&gt;</td>\n",
       "      <td>&lt;NA&gt;</td>\n",
       "    </tr>\n",
       "    <tr>\n",
       "      <th>1973-12-16</th>\n",
       "      <td>Kaua'i: Lihu'e</td>\n",
       "      <td>21.9667-159.4333_1974</td>\n",
       "      <td>US-HI</td>\n",
       "      <td>21.9667</td>\n",
       "      <td>-159.4333</td>\n",
       "      <td>False</td>\n",
       "      <td>13</td>\n",
       "      <td>4</td>\n",
       "      <td>0</td>\n",
       "      <td>0</td>\n",
       "      <td>...</td>\n",
       "      <td>0.0</td>\n",
       "      <td>NaN</td>\n",
       "      <td>NaN</td>\n",
       "      <td>False</td>\n",
       "      <td>False</td>\n",
       "      <td>False</td>\n",
       "      <td>False</td>\n",
       "      <td>False</td>\n",
       "      <td>&lt;NA&gt;</td>\n",
       "      <td>&lt;NA&gt;</td>\n",
       "    </tr>\n",
       "    <tr>\n",
       "      <th>1974-12-15</th>\n",
       "      <td>Kaua'i: Lihu'e</td>\n",
       "      <td>21.9667-159.4333_1975</td>\n",
       "      <td>US-HI</td>\n",
       "      <td>21.9667</td>\n",
       "      <td>-159.4333</td>\n",
       "      <td>False</td>\n",
       "      <td>13</td>\n",
       "      <td>3</td>\n",
       "      <td>0</td>\n",
       "      <td>0</td>\n",
       "      <td>...</td>\n",
       "      <td>0.0</td>\n",
       "      <td>NaN</td>\n",
       "      <td>NaN</td>\n",
       "      <td>False</td>\n",
       "      <td>False</td>\n",
       "      <td>False</td>\n",
       "      <td>False</td>\n",
       "      <td>False</td>\n",
       "      <td>&lt;NA&gt;</td>\n",
       "      <td>&lt;NA&gt;</td>\n",
       "    </tr>\n",
       "  </tbody>\n",
       "</table>\n",
       "<p>5 rows × 25 columns</p>\n",
       "</div>"
      ],
      "text/plain": [
       "                            c_name                     ui country_state  \\\n",
       "c_id    count_date                                                        \n",
       "87ymwsn 1968-12-26  Kaua'i: Waimea  22.0833-159.6667_1969         US-HI   \n",
       "87ysunb 1971-12-27  Kaua'i: Lihu'e  21.9667-159.4333_1972         US-HI   \n",
       "        1972-12-17  Kaua'i: Lihu'e  21.9667-159.4333_1973         US-HI   \n",
       "        1973-12-16  Kaua'i: Lihu'e  21.9667-159.4333_1974         US-HI   \n",
       "        1974-12-15  Kaua'i: Lihu'e  21.9667-159.4333_1975         US-HI   \n",
       "\n",
       "                      c_lat     c_lon c_snwd  num  num_notna  num_true  e_num  \\\n",
       "c_id    count_date                                                              \n",
       "87ymwsn 1968-12-26  22.0833 -159.6667  False    1          0         0      0   \n",
       "87ysunb 1971-12-27  21.9667 -159.4333  False   13          3         0      0   \n",
       "        1972-12-17  21.9667 -159.4333  False   13          4         0      0   \n",
       "        1973-12-16  21.9667 -159.4333  False   13          4         0      0   \n",
       "        1974-12-15  21.9667 -159.4333  False   13          3         0      0   \n",
       "\n",
       "                    ...    p  e_p  n_p  snow_closest  snow_closest_notna  \\\n",
       "c_id    count_date  ...                                                    \n",
       "87ymwsn 1968-12-26  ...  NaN  NaN  NaN          <NA>                <NA>   \n",
       "87ysunb 1971-12-27  ...  0.0  NaN  NaN         False               False   \n",
       "        1972-12-17  ...  0.0  NaN  NaN         False               False   \n",
       "        1973-12-16  ...  0.0  NaN  NaN         False               False   \n",
       "        1974-12-15  ...  0.0  NaN  NaN         False               False   \n",
       "\n",
       "                    snow_lowest  snow_lowest_notna  consensus  e_consensus  \\\n",
       "c_id    count_date                                                           \n",
       "87ymwsn 1968-12-26         <NA>               <NA>       <NA>         <NA>   \n",
       "87ysunb 1971-12-27        False              False      False         <NA>   \n",
       "        1972-12-17        False              False      False         <NA>   \n",
       "        1973-12-16        False              False      False         <NA>   \n",
       "        1974-12-15        False              False      False         <NA>   \n",
       "\n",
       "                    n_consensus  \n",
       "c_id    count_date               \n",
       "87ymwsn 1968-12-26         <NA>  \n",
       "87ysunb 1971-12-27         <NA>  \n",
       "        1972-12-17         <NA>  \n",
       "        1973-12-16         <NA>  \n",
       "        1974-12-15         <NA>  \n",
       "\n",
       "[5 rows x 25 columns]"
      ]
     },
     "execution_count": 39,
     "metadata": {},
     "output_type": "execute_result"
    }
   ],
   "source": [
    "circle_data.head()"
   ]
  },
  {
   "cell_type": "code",
   "execution_count": 40,
   "metadata": {},
   "outputs": [
    {
     "data": {
      "text/plain": [
       "68390"
      ]
     },
     "execution_count": 40,
     "metadata": {},
     "output_type": "execute_result"
    }
   ],
   "source": [
    "# Count the number of circles we have \n",
    "circle_data['ui'].nunique()"
   ]
  },
  {
   "cell_type": "markdown",
   "metadata": {},
   "source": [
    "# Analysis\n",
    "## First examine the top level stats."
   ]
  },
  {
   "cell_type": "markdown",
   "metadata": {},
   "source": [
    "### The number of stations per circle"
   ]
  },
  {
   "cell_type": "code",
   "execution_count": 41,
   "metadata": {},
   "outputs": [
    {
     "data": {
      "text/plain": [
       "count    68390.000000\n",
       "mean         6.025808\n",
       "std          7.684488\n",
       "min          1.000000\n",
       "25%          1.000000\n",
       "50%          3.000000\n",
       "75%          8.000000\n",
       "max        101.000000\n",
       "Name: num, dtype: float64"
      ]
     },
     "execution_count": 41,
     "metadata": {},
     "output_type": "execute_result"
    }
   ],
   "source": [
    "circle_data.num.describe()"
   ]
  },
  {
   "cell_type": "code",
   "execution_count": 43,
   "metadata": {},
   "outputs": [
    {
     "data": {
      "text/plain": [
       "Text(0.5, 0, 'number of stations')"
      ]
     },
     "execution_count": 43,
     "metadata": {},
     "output_type": "execute_result"
    },
    {
     "data": {
      "image/png": "[encoded data removed]",
      "text/plain": [
       "<Figure size 432x288 with 1 Axes>"
      ]
     },
     "metadata": {},
     "output_type": "display_data"
    }
   ],
   "source": [
    "sns.distplot(circle_data.num, kde=False).set_xlabel(\"number of stations\")"
   ]
  },
  {
   "cell_type": "markdown",
   "metadata": {},
   "source": [
    "### The number of stations that reported Snow data (non-NaN stations per circle)"
   ]
  },
  {
   "cell_type": "code",
   "execution_count": 44,
   "metadata": {},
   "outputs": [
    {
     "data": {
      "text/plain": [
       "count    68390.000000\n",
       "mean         0.678096\n",
       "std          0.841609\n",
       "min          0.000000\n",
       "25%          0.000000\n",
       "50%          1.000000\n",
       "75%          1.000000\n",
       "max         23.000000\n",
       "Name: num_notna, dtype: float64"
      ]
     },
     "execution_count": 44,
     "metadata": {},
     "output_type": "execute_result"
    }
   ],
   "source": [
    "circle_data.num_notna.describe()"
   ]
  },
  {
   "cell_type": "code",
   "execution_count": 45,
   "metadata": {},
   "outputs": [
    {
     "data": {
      "text/plain": [
       "Text(0.5, 0, 'number of non-NaN stations')"
      ]
     },
     "execution_count": 45,
     "metadata": {},
     "output_type": "execute_result"
    },
    {
     "data": {
      "image/png": "[encoded data removed]",
      "text/plain": [
       "<Figure size 432x288 with 1 Axes>"
      ]
     },
     "metadata": {},
     "output_type": "display_data"
    }
   ],
   "source": [
    "sns.distplot(circle_data.num_notna, kde=False).set_xlabel(\"number of non-NaN stations\")"
   ]
  },
  {
   "cell_type": "markdown",
   "metadata": {},
   "source": [
    "## Missing Stations"
   ]
  },
  {
   "cell_type": "code",
   "execution_count": 46,
   "metadata": {},
   "outputs": [
    {
     "data": {
      "text/plain": [
       "Text(0.5, 1.0, 'cumulative percent of stations missing')"
      ]
     },
     "execution_count": 46,
     "metadata": {},
     "output_type": "execute_result"
    },
    {
     "data": {
      "image/png": "[encoded data removed]",
      "text/plain": [
       "<Figure size 432x288 with 1 Axes>"
      ]
     },
     "metadata": {},
     "output_type": "display_data"
    }
   ],
   "source": [
    "# Plot the number of stations (y-axis) agiast the proportion of stations missing snowdepth data (x-axis)\n",
    "sns.distplot((1 - circle_data.num_notna/circle_data.num) * 100, kde=False, hist_kws={'cumulative': True}).set_title('cumulative percent of stations missing')\n"
   ]
  },
  {
   "cell_type": "code",
   "execution_count": 47,
   "metadata": {},
   "outputs": [
    {
     "data": {
      "text/plain": [
       "<seaborn.axisgrid.JointGrid at 0x7f6a7d4d4190>"
      ]
     },
     "execution_count": 47,
     "metadata": {},
     "output_type": "execute_result"
    },
    {
     "data": {
      "image/png": "[encoded data removed]",
      "text/plain": [
       "<Figure size 432x432 with 3 Axes>"
      ]
     },
     "metadata": {},
     "output_type": "display_data"
    }
   ],
   "source": [
    "# Plot the relationship between the nuber of stations and the proportion of stations missing snowdepth data\n",
    "sns.jointplot(circle_data.num, (1 - circle_data.num_notna/circle_data.num) * 100).set_axis_labels(\"number of stations\", 'percent missing')"
   ]
  },
  {
   "cell_type": "markdown",
   "metadata": {},
   "source": [
    "#### Percent of circles where all stations are missing data"
   ]
  },
  {
   "cell_type": "code",
   "execution_count": 48,
   "metadata": {},
   "outputs": [
    {
     "data": {
      "text/plain": [
       "47.85787395818102"
      ]
     },
     "execution_count": 48,
     "metadata": {},
     "output_type": "execute_result"
    }
   ],
   "source": [
    "(circle_data.num_notna == 0).sum() / len(circle_data) * 100"
   ]
  },
  {
   "cell_type": "code",
   "execution_count": 49,
   "metadata": {},
   "outputs": [
    {
     "data": {
      "text/plain": [
       "False    32813\n",
       "True     21082\n",
       "NaN      14495\n",
       "Name: c_snwd, dtype: int64"
      ]
     },
     "execution_count": 49,
     "metadata": {},
     "output_type": "execute_result"
    }
   ],
   "source": [
    "circle_data.c_snwd.value_counts(dropna = False)"
   ]
  },
  {
   "cell_type": "markdown",
   "metadata": {},
   "source": [
    "#### Percent of circles where no stations are missing data"
   ]
  },
  {
   "cell_type": "code",
   "execution_count": 50,
   "metadata": {},
   "outputs": [
    {
     "data": {
      "text/plain": [
       "14.870595116245063"
      ]
     },
     "execution_count": 50,
     "metadata": {},
     "output_type": "execute_result"
    }
   ],
   "source": [
    "((circle_data.num_notna == circle_data.num) & (circle_data.num > 0)).sum() / len(circle_data) * 100"
   ]
  },
  {
   "cell_type": "markdown",
   "metadata": {},
   "source": [
    "#### Percent of circles with less than half of stations missing ( Over half the stations reporting Snow Data"
   ]
  },
  {
   "cell_type": "code",
   "execution_count": 51,
   "metadata": {},
   "outputs": [
    {
     "data": {
      "text/plain": [
       "21.665448164936393"
      ]
     },
     "execution_count": 51,
     "metadata": {},
     "output_type": "execute_result"
    }
   ],
   "source": [
    "((circle_data.num_notna / circle_data.num) >= 0.5).sum() / len(circle_data) * 100"
   ]
  },
  {
   "cell_type": "markdown",
   "metadata": {},
   "source": [
    "## The number of stations per circle broken down by ecosystem\n",
    "The two ecosystems calssification are ecosystem (as defined by usgs) and nlcd code\n",
    "\n",
    "The prefixes \"e_\" and \"n_\", which is same ecosystem and same nlcd code, respectfully"
   ]
  },
  {
   "cell_type": "code",
   "execution_count": 52,
   "metadata": {},
   "outputs": [
    {
     "data": {
      "text/plain": [
       "count    68390.000000\n",
       "mean         2.174675\n",
       "std          3.956987\n",
       "min          0.000000\n",
       "25%          0.000000\n",
       "50%          1.000000\n",
       "75%          2.000000\n",
       "max         52.000000\n",
       "Name: n_num, dtype: float64"
      ]
     },
     "execution_count": 52,
     "metadata": {},
     "output_type": "execute_result"
    }
   ],
   "source": [
    "# The breakdown of stations with the same nlcd code \n",
    "circle_data.n_num.describe()"
   ]
  },
  {
   "cell_type": "code",
   "execution_count": 53,
   "metadata": {},
   "outputs": [
    {
     "data": {
      "text/plain": [
       "count    68390.000000\n",
       "mean         1.517225\n",
       "std          2.816323\n",
       "min          0.000000\n",
       "25%          0.000000\n",
       "50%          0.000000\n",
       "75%          2.000000\n",
       "max         26.000000\n",
       "Name: e_num, dtype: float64"
      ]
     },
     "execution_count": 53,
     "metadata": {},
     "output_type": "execute_result"
    }
   ],
   "source": [
    "# The breakdown of stations with the same ecosystem\n",
    "circle_data.e_num.describe()"
   ]
  },
  {
   "cell_type": "code",
   "execution_count": 54,
   "metadata": {},
   "outputs": [
    {
     "data": {
      "text/plain": [
       "<matplotlib.legend.Legend at 0x7f6a7d4a4150>"
      ]
     },
     "execution_count": 54,
     "metadata": {},
     "output_type": "execute_result"
    },
    {
     "data": {
      "image/png": "[encoded data removed]",
      "text/plain": [
       "<Figure size 432x288 with 1 Axes>"
      ]
     },
     "metadata": {},
     "output_type": "display_data"
    }
   ],
   "source": [
    "# The number of stations that share the same ncld or ecosys with their circle\n",
    "sns.distplot(circle_data.n_num, kde=False)\n",
    "ax = sns.distplot(circle_data.e_num, kde=False)\n",
    "ax.set_xlabel(\"number of stations\")\n",
    "ax.legend([\"ncld\", \"ecosys\"])"
   ]
  },
  {
   "cell_type": "markdown",
   "metadata": {},
   "source": [
    "### The number of stations with snow data in the same ecosystem classifical as the  circle"
   ]
  },
  {
   "cell_type": "code",
   "execution_count": 55,
   "metadata": {},
   "outputs": [
    {
     "data": {
      "text/plain": [
       "count    68390.000000\n",
       "mean         0.371063\n",
       "std          0.680166\n",
       "min          0.000000\n",
       "25%          0.000000\n",
       "50%          0.000000\n",
       "75%          1.000000\n",
       "max         23.000000\n",
       "Name: n_num_notna, dtype: float64"
      ]
     },
     "execution_count": 55,
     "metadata": {},
     "output_type": "execute_result"
    }
   ],
   "source": [
    "circle_data.n_num_notna.describe()"
   ]
  },
  {
   "cell_type": "code",
   "execution_count": 56,
   "metadata": {},
   "outputs": [
    {
     "data": {
      "text/plain": [
       "count    68390.000000\n",
       "mean         0.261851\n",
       "std          0.553486\n",
       "min          0.000000\n",
       "25%          0.000000\n",
       "50%          0.000000\n",
       "75%          0.000000\n",
       "max         10.000000\n",
       "Name: e_num_notna, dtype: float64"
      ]
     },
     "execution_count": 56,
     "metadata": {},
     "output_type": "execute_result"
    }
   ],
   "source": [
    "circle_data.e_num_notna.describe()"
   ]
  },
  {
   "cell_type": "code",
   "execution_count": 57,
   "metadata": {},
   "outputs": [
    {
     "data": {
      "text/plain": [
       "<matplotlib.legend.Legend at 0x7f6a79b10050>"
      ]
     },
     "execution_count": 57,
     "metadata": {},
     "output_type": "execute_result"
    },
    {
     "data": {
      "image/png": "[encoded data removed]",
      "text/plain": [
       "<Figure size 432x288 with 1 Axes>"
      ]
     },
     "metadata": {},
     "output_type": "display_data"
    }
   ],
   "source": [
    "sns.distplot(circle_data.n_num_notna, kde=False)\n",
    "ax = sns.distplot(circle_data.e_num_notna, kde=False)\n",
    "ax.set_xlabel(\"number of non-NaN stations\")\n",
    "ax.legend([\"nlcd\", \"ecosys\"])"
   ]
  },
  {
   "cell_type": "code",
   "execution_count": 58,
   "metadata": {},
   "outputs": [
    {
     "data": {
      "text/plain": [
       "<matplotlib.legend.Legend at 0x7f6a73319f10>"
      ]
     },
     "execution_count": 58,
     "metadata": {},
     "output_type": "execute_result"
    },
    {
     "data": {
      "image/png": "[encoded data removed]",
      "text/plain": [
       "<Figure size 432x288 with 1 Axes>"
      ]
     },
     "metadata": {},
     "output_type": "display_data"
    }
   ],
   "source": [
    "sns.distplot((1 - circle_data.n_num_notna/circle_data.n_num) * 100, kde=False, hist_kws={'cumulative': True})\n",
    "ax = sns.distplot((1 - circle_data.e_num_notna/circle_data.e_num) * 100, kde=False, hist_kws={'cumulative': True})\n",
    "ax.set_title('cumulative percent of stations missing')\n",
    "ax.legend([\"nlcd\", \"ecosys\"])"
   ]
  },
  {
   "cell_type": "code",
   "execution_count": 59,
   "metadata": {},
   "outputs": [
    {
     "data": {
      "text/plain": [
       "<seaborn.axisgrid.JointGrid at 0x7f6a73189e50>"
      ]
     },
     "execution_count": 59,
     "metadata": {},
     "output_type": "execute_result"
    },
    {
     "data": {
      "image/png": "[encoded data removed]",
      "text/plain": [
       "<Figure size 432x432 with 3 Axes>"
      ]
     },
     "metadata": {},
     "output_type": "display_data"
    }
   ],
   "source": [
    "sns.jointplot(circle_data.num, (1 - circle_data.n_num_notna/circle_data.n_num) * 100).set_axis_labels(\"number of stations (nlcd)\", 'percent missing')"
   ]
  },
  {
   "cell_type": "code",
   "execution_count": 60,
   "metadata": {},
   "outputs": [
    {
     "data": {
      "text/plain": [
       "<seaborn.axisgrid.JointGrid at 0x7f6a72fc4750>"
      ]
     },
     "execution_count": 60,
     "metadata": {},
     "output_type": "execute_result"
    },
    {
     "data": {
      "image/png": "[encoded data removed]",
      "text/plain": [
       "<Figure size 432x432 with 3 Axes>"
      ]
     },
     "metadata": {},
     "output_type": "display_data"
    }
   ],
   "source": [
    "sns.jointplot(circle_data.num, (1 - circle_data.e_num_notna/circle_data.e_num) * 100).set_axis_labels(\"number of stations (ecosys)\", 'percent missing')"
   ]
  },
  {
   "cell_type": "markdown",
   "metadata": {},
   "source": [
    "#### Percent of circles where all stations are missing data"
   ]
  },
  {
   "cell_type": "code",
   "execution_count": 61,
   "metadata": {},
   "outputs": [
    {
     "data": {
      "text/plain": [
       "69.67831554320807"
      ]
     },
     "execution_count": 61,
     "metadata": {},
     "output_type": "execute_result"
    }
   ],
   "source": [
    "(circle_data.n_num_notna == 0).sum() / len(circle_data) * 100"
   ]
  },
  {
   "cell_type": "code",
   "execution_count": 62,
   "metadata": {},
   "outputs": [
    {
     "data": {
      "text/plain": [
       "77.72335136715894"
      ]
     },
     "execution_count": 62,
     "metadata": {},
     "output_type": "execute_result"
    }
   ],
   "source": [
    "(circle_data.e_num_notna == 0).sum() / len(circle_data) * 100"
   ]
  },
  {
   "cell_type": "markdown",
   "metadata": {},
   "source": [
    "#### Percent of circles where no stations are missing data"
   ]
  },
  {
   "cell_type": "code",
   "execution_count": 63,
   "metadata": {},
   "outputs": [
    {
     "data": {
      "text/plain": [
       "12.776721742944874"
      ]
     },
     "execution_count": 63,
     "metadata": {},
     "output_type": "execute_result"
    }
   ],
   "source": [
    "((circle_data.n_num_notna == circle_data.n_num) & (circle_data.n_num > 0)).sum() / len(circle_data) * 100"
   ]
  },
  {
   "cell_type": "code",
   "execution_count": 64,
   "metadata": {},
   "outputs": [
    {
     "data": {
      "text/plain": [
       "10.270507384120485"
      ]
     },
     "execution_count": 64,
     "metadata": {},
     "output_type": "execute_result"
    }
   ],
   "source": [
    "((circle_data.e_num_notna == circle_data.e_num) & (circle_data.e_num > 0)).sum() / len(circle_data) * 100"
   ]
  },
  {
   "cell_type": "markdown",
   "metadata": {},
   "source": [
    "#### Percent of circles with less than half of stations missing"
   ]
  },
  {
   "cell_type": "code",
   "execution_count": 65,
   "metadata": {},
   "outputs": [
    {
     "data": {
      "text/plain": [
       "18.24535750840766"
      ]
     },
     "execution_count": 65,
     "metadata": {},
     "output_type": "execute_result"
    }
   ],
   "source": [
    "((circle_data.n_num_notna / circle_data.n_num) >= 0.5).sum() / len(circle_data) * 100"
   ]
  },
  {
   "cell_type": "code",
   "execution_count": 66,
   "metadata": {},
   "outputs": [
    {
     "data": {
      "text/plain": [
       "14.042988741044013"
      ]
     },
     "execution_count": 66,
     "metadata": {},
     "output_type": "execute_result"
    }
   ],
   "source": [
    "((circle_data.e_num_notna / circle_data.e_num) >= 0.5).sum() / len(circle_data) * 100"
   ]
  },
  {
   "cell_type": "markdown",
   "metadata": {},
   "source": [
    "## Location, Location, Location\n",
    "The next section will focus in on the stations closest to the cbc circles by distance"
   ]
  },
  {
   "cell_type": "markdown",
   "metadata": {},
   "source": [
    "#### What percent of circles had the closest station as NaN?"
   ]
  },
  {
   "cell_type": "code",
   "execution_count": 67,
   "metadata": {},
   "outputs": [
    {
     "data": {
      "text/plain": [
       "74.84573768094751"
      ]
     },
     "execution_count": 67,
     "metadata": {},
     "output_type": "execute_result"
    }
   ],
   "source": [
    "circle_data.snow_closest.isna().sum() / len(circle_data) * 100"
   ]
  },
  {
   "cell_type": "markdown",
   "metadata": {},
   "source": [
    "#### What percent had the average value of the reference stations differ from the closest station's value (ignoring NaNs)?"
   ]
  },
  {
   "cell_type": "code",
   "execution_count": 68,
   "metadata": {},
   "outputs": [
    {
     "data": {
      "text/plain": [
       "0.013159818686942536"
      ]
     },
     "execution_count": 68,
     "metadata": {},
     "output_type": "execute_result"
    }
   ],
   "source": [
    "# Use kleene logical indexing to skip over NAs\n",
    "(circle_data.snow_closest_notna ^ circle_data.consensus).sum() / len(circle_data) * 100"
   ]
  },
  {
   "cell_type": "code",
   "execution_count": 69,
   "metadata": {},
   "outputs": [
    {
     "data": {
      "text/plain": [
       "<matplotlib.axes._subplots.AxesSubplot at 0x7f6a7cbbd9d0>"
      ]
     },
     "execution_count": 69,
     "metadata": {},
     "output_type": "execute_result"
    },
    {
     "data": {
      "image/png": "[encoded data removed]",
      "text/plain": [
       "<Figure size 432x288 with 1 Axes>"
      ]
     },
     "metadata": {},
     "output_type": "display_data"
    }
   ],
   "source": [
    "sns.distplot(prcp_data.distance, kde=False)"
   ]
  },
  {
   "cell_type": "markdown",
   "metadata": {},
   "source": [
    "## Elevation, Elevation, Elevation\n",
    "The next section will look at stations with the closest elivation"
   ]
  },
  {
   "cell_type": "markdown",
   "metadata": {},
   "source": [
    "#### What percent of circles had the lowest station as NaN?"
   ]
  },
  {
   "cell_type": "code",
   "execution_count": 70,
   "metadata": {},
   "outputs": [
    {
     "data": {
      "text/plain": [
       "74.98757128235121"
      ]
     },
     "execution_count": 70,
     "metadata": {},
     "output_type": "execute_result"
    }
   ],
   "source": [
    "circle_data.snow_lowest.isna().sum() / len(circle_data) * 100"
   ]
  },
  {
   "cell_type": "markdown",
   "metadata": {},
   "source": [
    "#### What percent had the average value differ from the lowest value (ignoring NaNs)?"
   ]
  },
  {
   "cell_type": "code",
   "execution_count": 71,
   "metadata": {},
   "outputs": [
    {
     "data": {
      "text/plain": [
       "0.013159818686942536"
      ]
     },
     "execution_count": 71,
     "metadata": {},
     "output_type": "execute_result"
    }
   ],
   "source": [
    "# Use kleene logical indexing to skip over NAs\n",
    "(circle_data.snow_lowest_notna ^ circle_data.consensus).sum() / len(circle_data) * 100"
   ]
  },
  {
   "cell_type": "code",
   "execution_count": 72,
   "metadata": {},
   "outputs": [
    {
     "data": {
      "text/plain": [
       "<matplotlib.axes._subplots.AxesSubplot at 0x7f6a73042690>"
      ]
     },
     "execution_count": 72,
     "metadata": {},
     "output_type": "execute_result"
    },
    {
     "data": {
      "image/png": "[encoded data removed]",
      "text/plain": [
       "<Figure size 432x288 with 1 Axes>"
      ]
     },
     "metadata": {},
     "output_type": "display_data"
    }
   ],
   "source": [
    "sns.distplot(prcp_data.d_elev, kde=False)"
   ]
  },
  {
   "cell_type": "markdown",
   "metadata": {},
   "source": [
    "## Consensus of Stations\n",
    "we use `4 * p(1-p)` to estiamte the \"disagreement\" amongst stations: this value ranges from `0` (all in agrement) to `1` (evenly split)  \n",
    "(here, `p` is the fraction of non-NaN stations that are `True` for snow)"
   ]
  },
  {
   "cell_type": "markdown",
   "metadata": {},
   "source": [
    "### All Stations"
   ]
  },
  {
   "cell_type": "code",
   "execution_count": 73,
   "metadata": {},
   "outputs": [
    {
     "data": {
      "text/plain": [
       "<matplotlib.lines.Line2D at 0x7f6a7c776550>"
      ]
     },
     "execution_count": 73,
     "metadata": {},
     "output_type": "execute_result"
    },
    {
     "data": {
      "image/png": "[encoded data removed]",
      "text/plain": [
       "<Figure size 432x432 with 3 Axes>"
      ]
     },
     "metadata": {},
     "output_type": "display_data"
    }
   ],
   "source": [
    "# \"disagreement\" (4*p*(1-p)) by number of not NA\n",
    "# horizontal line is AGREEMENT_THRESHOLD, defined above\n",
    "p = sns.jointplot(circle_data.num_notna, 4 * circle_data.p * (1 - circle_data.p))\n",
    "p.set_axis_labels(\"stations reporting data\", '\"disgreement [4*p*(1-p)]\"')\n",
    "p.ax_joint.axhline(y = 4 * AGREEMENT_THRESHOLD * (1-AGREEMENT_THRESHOLD))"
   ]
  },
  {
   "cell_type": "markdown",
   "metadata": {},
   "source": [
    "### What percent do not meet our dissagreement threshold?"
   ]
  },
  {
   "cell_type": "code",
   "execution_count": 74,
   "metadata": {},
   "outputs": [
    {
     "data": {
      "text/plain": [
       "0.991373007749671"
      ]
     },
     "execution_count": 74,
     "metadata": {},
     "output_type": "execute_result"
    }
   ],
   "source": [
    "# Breaking this down a bit for easy of readability \n",
    "\n",
    "# circle_data.consensus is na when p (the proportion of staions for a circle reporting snowdepth) is NA OR p is not \n",
    "# meeting the AGREEMENT Threshold \n",
    "\n",
    "# circle_data.p is NOT na when a circle has at least one station reporting snowdepth data \n",
    "\n",
    "# PUTTING IT TOGETHER - The below line counts the number of station who had at least one station reporting \n",
    "# but did not meet the agreement threshold\n",
    "(circle_data.consensus.isna() & circle_data.p.notna()).sum() / len(circle_data) * 100"
   ]
  },
  {
   "cell_type": "markdown",
   "metadata": {},
   "source": [
    "### Ecosystems"
   ]
  },
  {
   "cell_type": "code",
   "execution_count": 75,
   "metadata": {},
   "outputs": [
    {
     "data": {
      "text/plain": [
       "<matplotlib.lines.Line2D at 0x7f6a7c782110>"
      ]
     },
     "execution_count": 75,
     "metadata": {},
     "output_type": "execute_result"
    },
    {
     "data": {
      "image/png": "[encoded data removed]",
      "text/plain": [
       "<Figure size 432x432 with 3 Axes>"
      ]
     },
     "metadata": {},
     "output_type": "display_data"
    }
   ],
   "source": [
    "# Agreement Plot for Stations that share ncld codes with their circles \n",
    "p = sns.jointplot(circle_data.n_num_notna, 4 * circle_data.n_p * (1 - circle_data.n_p))\n",
    "p.set_axis_labels(\"stations reporting data (nlcd)\", '\"disgreement [4*p*(1-p)]\"')\n",
    "p.ax_joint.axhline(y = 4 * AGREEMENT_THRESHOLD * (1-AGREEMENT_THRESHOLD))"
   ]
  },
  {
   "cell_type": "code",
   "execution_count": 76,
   "metadata": {},
   "outputs": [
    {
     "data": {
      "text/plain": [
       "<matplotlib.lines.Line2D at 0x7f6a7c545a10>"
      ]
     },
     "execution_count": 76,
     "metadata": {},
     "output_type": "execute_result"
    },
    {
     "data": {
      "image/png": "[encoded data removed]",
      "text/plain": [
       "<Figure size 432x432 with 3 Axes>"
      ]
     },
     "metadata": {},
     "output_type": "display_data"
    }
   ],
   "source": [
    "# Agreement Plot for Stations that share ecosys classification with their circles \n",
    "p = sns.jointplot(circle_data.e_num_notna, 4 * circle_data.e_p * (1 - circle_data.e_p))\n",
    "p.set_axis_labels(\"stations reporting data (ecosys)\", '\"disgreement [4*p*(1-p)]\"')\n",
    "p.ax_joint.axhline(y = 4 * AGREEMENT_THRESHOLD * (1-AGREEMENT_THRESHOLD))"
   ]
  },
  {
   "cell_type": "markdown",
   "metadata": {},
   "source": [
    "#### What percent do not meet our dissagreement threshold?"
   ]
  },
  {
   "cell_type": "code",
   "execution_count": 77,
   "metadata": {},
   "outputs": [
    {
     "data": {
      "text/plain": [
       "0.3904079543792952"
      ]
     },
     "execution_count": 77,
     "metadata": {},
     "output_type": "execute_result"
    }
   ],
   "source": [
    "# The below line counts the number of stations who had at least one station reporting with the same nlcd code\n",
    "# but did not meet the agreement threshold\n",
    "(circle_data.n_consensus.isna() & circle_data.n_p.notna()).sum() / len(circle_data) * 100"
   ]
  },
  {
   "cell_type": "code",
   "execution_count": 78,
   "metadata": {},
   "outputs": [
    {
     "data": {
      "text/plain": [
       "0.24857435297558125"
      ]
     },
     "execution_count": 78,
     "metadata": {},
     "output_type": "execute_result"
    }
   ],
   "source": [
    "# The below line counts the number of stations who had at least one station reporting with the same ecosys classifier\n",
    "# but did not meet the agreement threshold\n",
    "(circle_data.e_consensus.isna() & circle_data.e_p.notna()).sum() / len(circle_data) * 100"
   ]
  },
  {
   "cell_type": "markdown",
   "metadata": {},
   "source": [
    "### Consensus Breakdown by Circle Snow Depth Reporting"
   ]
  },
  {
   "cell_type": "code",
   "execution_count": 79,
   "metadata": {},
   "outputs": [
    {
     "name": "stdout",
     "output_type": "stream",
     "text": [
      "The Count of Circles Reproting Snow:\n",
      "False    32813\n",
      "True     21082\n",
      "NaN      14495\n",
      "Name: c_snwd, dtype: int64\n",
      "The Percentage of Circles Reproting Snow:\n",
      "False    47.979237\n",
      "True     30.826144\n",
      "NaN      21.194619\n",
      "Name: c_snwd, dtype: float64\n"
     ]
    }
   ],
   "source": [
    "# The number and percentage  of circles that reported Snow, No Snow or are NA \n",
    "print(\"The Count of Circles Reproting Snow:\")\n",
    "print(circle_data.c_snwd.value_counts(dropna = False))\n",
    "print(\"The Percentage of Circles Reproting Snow:\")\n",
    "print(circle_data.c_snwd.value_counts(dropna = False, normalize = True) * 100)\n"
   ]
  },
  {
   "cell_type": "markdown",
   "metadata": {},
   "source": [
    "#### Break Down of Concensus for Circles that reported True for Snow Depth"
   ]
  },
  {
   "cell_type": "code",
   "execution_count": 80,
   "metadata": {},
   "outputs": [
    {
     "name": "stdout",
     "output_type": "stream",
     "text": [
      "Snow Data Consensus Amoung All Stations where the Circle Reported Snow:\n",
      "NaN      11327\n",
      "True      6893\n",
      "False     2862\n",
      "Name: consensus, dtype: Int64\n",
      "^^ with Percentage:\n",
      "NaN      53.728299\n",
      "True     32.696139\n",
      "False    13.575562\n",
      "Name: consensus, dtype: float64\n",
      "Snow Data Consensus Amoung Closest Stations where the Circle Reported Snow:\n",
      "NaN      17167\n",
      "True      2732\n",
      "False     1183\n",
      "Name: snow_closest, dtype: Int64\n",
      "^^ with Percentage:\n",
      "NaN      81.429656\n",
      "True     12.958922\n",
      "False     5.611422\n",
      "Name: snow_closest, dtype: float64\n",
      "Snow Data Consensus Amoung Closest in Elivation Stations where the Circle Reported Snow:\n",
      "NaN      17324\n",
      "True      2666\n",
      "False     1092\n",
      "Name: snow_lowest, dtype: Int64\n",
      "^^ with Percentage:\n",
      "NaN      82.174367\n",
      "True     12.645859\n",
      "False     5.179774\n",
      "Name: snow_lowest, dtype: float64\n",
      "Snow Data Consensus Amoung Stations with the same nlcd code where the Circle Reported Snow:\n",
      "NaN      15727\n",
      "True      3794\n",
      "False     1561\n",
      "Name: n_consensus, dtype: Int64\n",
      "^^ with Percentage:\n",
      "NaN      74.599184\n",
      "True     17.996395\n",
      "False     7.404421\n",
      "Name: n_consensus, dtype: float64\n",
      "Snow Data Consensus Amoung Stations with the same ecosys classification where the Circle Reported Snow:\n",
      "NaN      17017\n",
      "True      2848\n",
      "False     1217\n",
      "Name: e_consensus, dtype: Int64\n",
      "^^ with Percentage:\n",
      "NaN      80.718148\n",
      "True     13.509155\n",
      "False     5.772697\n",
      "Name: e_consensus, dtype: float64\n"
     ]
    }
   ],
   "source": [
    "\n",
    "print(\"Snow Data Consensus Amoung All Stations where the Circle Reported Snow:\")\n",
    "print(circle_data.loc[circle_data['c_snwd'] == True].consensus.value_counts(dropna = False) )\n",
    "print(\"^^ with Percentage:\")\n",
    "print((circle_data.loc[circle_data['c_snwd'] == True].consensus.value_counts(dropna = False) / len(circle_data.loc[circle_data['c_snwd'] == True]) * 100))\n",
    "\n",
    "print(\"Snow Data Consensus Amoung Closest Stations where the Circle Reported Snow:\")\n",
    "print(circle_data.loc[circle_data['c_snwd'] == True].snow_closest.value_counts(dropna = False) )\n",
    "print(\"^^ with Percentage:\")\n",
    "print((circle_data.loc[circle_data['c_snwd'] == True].snow_closest.value_counts(dropna = False) / len(circle_data.loc[circle_data['c_snwd'] == True]) * 100))\n",
    "\n",
    "print(\"Snow Data Consensus Amoung Closest in Elivation Stations where the Circle Reported Snow:\")\n",
    "print(circle_data.loc[circle_data['c_snwd'] == True].snow_lowest.value_counts(dropna = False) )\n",
    "print(\"^^ with Percentage:\")\n",
    "print((circle_data.loc[circle_data['c_snwd'] == True].snow_lowest.value_counts(dropna = False) / len(circle_data.loc[circle_data['c_snwd'] == True]) * 100))\n",
    "\n",
    "print(\"Snow Data Consensus Amoung Stations with the same nlcd code where the Circle Reported Snow:\")\n",
    "print(circle_data.loc[circle_data['c_snwd'] == True].n_consensus.value_counts(dropna = False) )\n",
    "print(\"^^ with Percentage:\")\n",
    "print((circle_data.loc[circle_data['c_snwd'] == True].n_consensus.value_counts(dropna = False) / len(circle_data.loc[circle_data['c_snwd'] == True]) * 100))\n",
    "\n",
    "print(\"Snow Data Consensus Amoung Stations with the same ecosys classification where the Circle Reported Snow:\")\n",
    "print(circle_data.loc[circle_data['c_snwd'] == True].e_consensus.value_counts(dropna = False) )\n",
    "print(\"^^ with Percentage:\")\n",
    "print((circle_data.loc[circle_data['c_snwd'] == True].e_consensus.value_counts(dropna = False) / len(circle_data.loc[circle_data['c_snwd'] == True]) * 100))\n",
    "\n",
    "\n"
   ]
  },
  {
   "cell_type": "markdown",
   "metadata": {},
   "source": [
    "#### Break Down of Concensus for Circles that reported False for Snow Depth"
   ]
  },
  {
   "cell_type": "code",
   "execution_count": 81,
   "metadata": {},
   "outputs": [
    {
     "name": "stdout",
     "output_type": "stream",
     "text": [
      "Snow Data Consensus Amoung All Stations where the Circle did NOT Report Snow:\n",
      "NaN      17124\n",
      "False    15197\n",
      "True       492\n",
      "Name: consensus, dtype: Int64\n",
      "^^ with Percentage:\n",
      "NaN      52.186633\n",
      "False    46.313961\n",
      "True      1.499406\n",
      "Name: consensus, dtype: float64\n",
      "Snow Data Consensus Amoung Closest Stations where the Circle did NOT Report Snow:\n",
      "NaN      27926\n",
      "False     4730\n",
      "True       157\n",
      "Name: snow_closest, dtype: Int64\n",
      "^^ with Percentage:\n",
      "NaN      85.106513\n",
      "False    14.415018\n",
      "True      0.478469\n",
      "Name: snow_closest, dtype: float64\n",
      "Snow Data Consensus Amoung Closest in Elivation Stations where the Circle did NOT Report Snow:\n",
      "NaN      27926\n",
      "False     4721\n",
      "True       166\n",
      "Name: snow_lowest, dtype: Int64\n",
      "^^ with Percentage:\n",
      "NaN      85.106513\n",
      "False    14.387590\n",
      "True      0.505897\n",
      "Name: snow_lowest, dtype: float64\n",
      "Snow Data Consensus Amoung Stations with the same nlcd code where the Circle did NOT Report Snow:\n",
      "NaN      22831\n",
      "False     9659\n",
      "True       323\n",
      "Name: n_consensus, dtype: Int64\n",
      "^^ with Percentage:\n",
      "NaN      69.579130\n",
      "False    29.436504\n",
      "True      0.984366\n",
      "Name: n_consensus, dtype: float64\n",
      "Snow Data Consensus Amoung Stations with the same ecosys classification where the Circle did NOT Report Snow:\n",
      "NaN      25469\n",
      "False     7104\n",
      "True       240\n",
      "Name: e_consensus, dtype: Int64\n",
      "^^ with Percentage:\n",
      "NaN      77.618627\n",
      "False    21.649956\n",
      "True      0.731417\n",
      "Name: e_consensus, dtype: float64\n"
     ]
    }
   ],
   "source": [
    "\n",
    "print(\"Snow Data Consensus Amoung All Stations where the Circle did NOT Report Snow:\")\n",
    "print(circle_data.loc[circle_data['c_snwd'] == False].consensus.value_counts(dropna = False) )\n",
    "print(\"^^ with Percentage:\")\n",
    "print((circle_data.loc[circle_data['c_snwd'] == False].consensus.value_counts(dropna = False) / len(circle_data.loc[circle_data['c_snwd'] == False]) * 100))\n",
    "\n",
    "print(\"Snow Data Consensus Amoung Closest Stations where the Circle did NOT Report Snow:\")\n",
    "print(circle_data.loc[circle_data['c_snwd'] == False].snow_closest.value_counts(dropna = False) )\n",
    "print(\"^^ with Percentage:\")\n",
    "print((circle_data.loc[circle_data['c_snwd'] == False].snow_closest.value_counts(dropna = False) / len(circle_data.loc[circle_data['c_snwd'] == False]) * 100))\n",
    "\n",
    "print(\"Snow Data Consensus Amoung Closest in Elivation Stations where the Circle did NOT Report Snow:\")\n",
    "print(circle_data.loc[circle_data['c_snwd'] == False].snow_lowest.value_counts(dropna = False) )\n",
    "print(\"^^ with Percentage:\")\n",
    "print((circle_data.loc[circle_data['c_snwd'] == False].snow_lowest.value_counts(dropna = False) / len(circle_data.loc[circle_data['c_snwd'] == False]) * 100))\n",
    "\n",
    "print(\"Snow Data Consensus Amoung Stations with the same nlcd code where the Circle did NOT Report Snow:\")\n",
    "print(circle_data.loc[circle_data['c_snwd'] == False].n_consensus.value_counts(dropna = False) )\n",
    "print(\"^^ with Percentage:\")\n",
    "print((circle_data.loc[circle_data['c_snwd'] == False].n_consensus.value_counts(dropna = False) / len(circle_data.loc[circle_data['c_snwd'] == False]) * 100))\n",
    "\n",
    "print(\"Snow Data Consensus Amoung Stations with the same ecosys classification where the Circle did NOT Report Snow:\")\n",
    "print(circle_data.loc[circle_data['c_snwd'] == False].e_consensus.value_counts(dropna = False) )\n",
    "print(\"^^ with Percentage:\")\n",
    "print((circle_data.loc[circle_data['c_snwd'] == False].e_consensus.value_counts(dropna = False) / len(circle_data.loc[circle_data['c_snwd'] == False]) * 100))\n",
    "\n",
    "\n"
   ]
  },
  {
   "cell_type": "markdown",
   "metadata": {},
   "source": [
    "## The Missing Station and Circle Data"
   ]
  },
  {
   "cell_type": "code",
   "execution_count": 82,
   "metadata": {},
   "outputs": [],
   "source": [
    "# Create a series indicating if a circle is missing weather data\n",
    "circle_data_na_circle_idx = circle_data.c_snwd.isna()"
   ]
  },
  {
   "cell_type": "markdown",
   "metadata": {},
   "source": [
    "### Percent of circles with missing snow observation"
   ]
  },
  {
   "cell_type": "code",
   "execution_count": 83,
   "metadata": {},
   "outputs": [
    {
     "data": {
      "text/plain": [
       "21.194619096359116"
      ]
     },
     "execution_count": 83,
     "metadata": {},
     "output_type": "execute_result"
    }
   ],
   "source": [
    "circle_data_na_circle_idx.sum() / len(circle_data) * 100"
   ]
  },
  {
   "cell_type": "markdown",
   "metadata": {},
   "source": [
    "### Count of circles with missing snow observation"
   ]
  },
  {
   "cell_type": "code",
   "execution_count": 84,
   "metadata": {},
   "outputs": [
    {
     "name": "stdout",
     "output_type": "stream",
     "text": [
      "Circles with missing Snow Data: \n",
      "14495\n",
      "Circles with NO missing Snow Data: \n",
      "53895\n"
     ]
    }
   ],
   "source": [
    "print(\"Circles with missing Snow Data: \")\n",
    "print(circle_data_na_circle_idx.sum())\n",
    "print(\"Circles with NO missing Snow Data: \")\n",
    "print(len(circle_data) - circle_data_na_circle_idx.sum())"
   ]
  },
  {
   "cell_type": "markdown",
   "metadata": {},
   "source": [
    "### Percent of circles with both volunteer and all station data are missing"
   ]
  },
  {
   "cell_type": "code",
   "execution_count": 85,
   "metadata": {},
   "outputs": [
    {
     "data": {
      "text/plain": [
       "7.03904079543793"
      ]
     },
     "execution_count": 85,
     "metadata": {},
     "output_type": "execute_result"
    }
   ],
   "source": [
    "# joint\n",
    "(circle_data_na_circle_idx & (circle_data.num_notna == 0)).sum() / len(circle_data) * 100"
   ]
  },
  {
   "cell_type": "code",
   "execution_count": 86,
   "metadata": {},
   "outputs": [
    {
     "data": {
      "text/plain": [
       "33.211452224905145"
      ]
     },
     "execution_count": 86,
     "metadata": {},
     "output_type": "execute_result"
    }
   ],
   "source": [
    "# conditional \n",
    "(circle_data_na_circle_idx & (circle_data.num_notna == 0)).sum() / circle_data_na_circle_idx.sum() * 100"
   ]
  },
  {
   "cell_type": "code",
   "execution_count": 87,
   "metadata": {},
   "outputs": [
    {
     "data": {
      "text/plain": [
       "47.85787395818102"
      ]
     },
     "execution_count": 87,
     "metadata": {},
     "output_type": "execute_result"
    }
   ],
   "source": [
    "# population\n",
    "(circle_data.num_notna == 0).sum() / len(circle_data) * 100"
   ]
  },
  {
   "cell_type": "markdown",
   "metadata": {},
   "source": [
    "## Correlation between the two"
   ]
  },
  {
   "cell_type": "code",
   "execution_count": 88,
   "metadata": {},
   "outputs": [
    {
     "data": {
      "text/plain": [
       "(1580.4424649341222, 0.0)"
      ]
     },
     "execution_count": 88,
     "metadata": {},
     "output_type": "execute_result"
    }
   ],
   "source": [
    "g, p, dof, expctd = stats.chi2_contingency(pd.crosstab(circle_data_na_circle_idx, circle_data.num_notna == 0))\n",
    "g, p"
   ]
  },
  {
   "cell_type": "markdown",
   "metadata": {},
   "source": [
    "if the circle is missing data, it is much more likely that all other stations will too, when compared to the general population"
   ]
  },
  {
   "cell_type": "markdown",
   "metadata": {},
   "source": [
    "#### Count and Percent of Stations Reporting if the Circle Reported Snow Data"
   ]
  },
  {
   "cell_type": "code",
   "execution_count": 89,
   "metadata": {},
   "outputs": [
    {
     "name": "stdout",
     "output_type": "stream",
     "text": [
      "Stations with missing Snow Data IF the the Circle is Reporting:\n",
      "27916\n",
      "51.79701270989888\n",
      "Stations with NO missing Snow Data IF the Circle is Reporting: \n",
      "25979\n",
      "48.20298729010112\n"
     ]
    }
   ],
   "source": [
    "print(\"Stations with missing Snow Data IF the the Circle is Reporting:\")\n",
    "print(circle_data[(~circle_data_na_circle_idx) & (circle_data.num_notna == 0)].shape[0])\n",
    "print(circle_data[(~circle_data_na_circle_idx) & (circle_data.num_notna == 0)].shape[0] / len(circle_data[~circle_data_na_circle_idx]) * 100 )\n",
    "print(\"Stations with NO missing Snow Data IF the Circle is Reporting: \")\n",
    "print(circle_data[(~circle_data_na_circle_idx) & (circle_data.num_notna != 0)].shape[0])\n",
    "print(circle_data[(~circle_data_na_circle_idx) & (circle_data.num_notna != 0)].shape[0] / len(circle_data[~circle_data_na_circle_idx]) * 100 )\n"
   ]
  },
  {
   "cell_type": "markdown",
   "metadata": {},
   "source": [
    "### Percent of circles with both volunteer and the closest station data are missing"
   ]
  },
  {
   "cell_type": "code",
   "execution_count": 90,
   "metadata": {},
   "outputs": [
    {
     "data": {
      "text/plain": [
       "8.910659453136423"
      ]
     },
     "execution_count": 90,
     "metadata": {},
     "output_type": "execute_result"
    }
   ],
   "source": [
    "# joint\n",
    "(circle_data_na_circle_idx & circle_data.snow_closest.isna()).sum()  / len(circle_data) * 100"
   ]
  },
  {
   "cell_type": "code",
   "execution_count": 91,
   "metadata": {},
   "outputs": [
    {
     "data": {
      "text/plain": [
       "42.042083477061055"
      ]
     },
     "execution_count": 91,
     "metadata": {},
     "output_type": "execute_result"
    }
   ],
   "source": [
    "# conditional \n",
    "(circle_data_na_circle_idx & circle_data.snow_closest.isna()).sum() / circle_data_na_circle_idx.sum() * 100"
   ]
  },
  {
   "cell_type": "code",
   "execution_count": 92,
   "metadata": {},
   "outputs": [
    {
     "data": {
      "text/plain": [
       "74.84573768094751"
      ]
     },
     "execution_count": 92,
     "metadata": {},
     "output_type": "execute_result"
    }
   ],
   "source": [
    "# population\n",
    "circle_data.snow_closest.isna().sum() / len(circle_data) * 100"
   ]
  },
  {
   "cell_type": "code",
   "execution_count": 93,
   "metadata": {},
   "outputs": [
    {
     "data": {
      "text/plain": [
       "(10510.824811273156, 0.0)"
      ]
     },
     "execution_count": 93,
     "metadata": {},
     "output_type": "execute_result"
    }
   ],
   "source": [
    "g, p, dof, expctd = stats.chi2_contingency(pd.crosstab(circle_data_na_circle_idx, circle_data.snow_closest.isna()))\n",
    "g, p"
   ]
  },
  {
   "cell_type": "markdown",
   "metadata": {},
   "source": [
    "if the circle is missing data, it is much **less** likely that the closest station will have missing data, when compared to the general population"
   ]
  },
  {
   "cell_type": "markdown",
   "metadata": {},
   "source": [
    "#### Count and Percent of Closest Stations Reporting if the Circle Reported Snow Data"
   ]
  },
  {
   "cell_type": "code",
   "execution_count": 94,
   "metadata": {},
   "outputs": [
    {
     "name": "stdout",
     "output_type": "stream",
     "text": [
      "Closest Stations with missing Snow Data IF the the Circle is Reporting:\n",
      "45093\n",
      "83.66824380740329\n",
      "Closest Stations with NO missing Snow Data IF the Circle is Reporting: \n",
      "8802\n",
      "16.331756192596718\n"
     ]
    }
   ],
   "source": [
    "print(\"Closest Stations with missing Snow Data IF the the Circle is Reporting:\")\n",
    "print(circle_data[(~circle_data_na_circle_idx) & (circle_data.snow_closest.isna())].shape[0])\n",
    "print(circle_data[(~circle_data_na_circle_idx) & (circle_data.snow_closest.isna())].shape[0] / len(circle_data[~circle_data_na_circle_idx]) * 100 )\n",
    "print(\"Closest Stations with NO missing Snow Data IF the Circle is Reporting: \")\n",
    "print(circle_data[(~circle_data_na_circle_idx) & (~circle_data.snow_closest.isna())].shape[0])\n",
    "print(circle_data[(~circle_data_na_circle_idx) & (~circle_data.snow_closest.isna())].shape[0] / len(circle_data[~circle_data_na_circle_idx]) * 100 )\n"
   ]
  },
  {
   "cell_type": "markdown",
   "metadata": {},
   "source": [
    "### Percent of circles with both volunteer and the lowest station data are missing"
   ]
  },
  {
   "cell_type": "code",
   "execution_count": 95,
   "metadata": {},
   "outputs": [
    {
     "data": {
      "text/plain": [
       "8.822927328556807"
      ]
     },
     "execution_count": 95,
     "metadata": {},
     "output_type": "execute_result"
    }
   ],
   "source": [
    "# joint\n",
    "(circle_data_na_circle_idx & circle_data.snow_lowest.isna()).sum()  / len(circle_data) * 100"
   ]
  },
  {
   "cell_type": "code",
   "execution_count": 96,
   "metadata": {},
   "outputs": [
    {
     "data": {
      "text/plain": [
       "41.62814763711625"
      ]
     },
     "execution_count": 96,
     "metadata": {},
     "output_type": "execute_result"
    }
   ],
   "source": [
    "# conditional \n",
    "(circle_data_na_circle_idx & circle_data.snow_lowest.isna()).sum() / circle_data_na_circle_idx.sum() * 100"
   ]
  },
  {
   "cell_type": "code",
   "execution_count": 97,
   "metadata": {},
   "outputs": [
    {
     "data": {
      "text/plain": [
       "74.98757128235121"
      ]
     },
     "execution_count": 97,
     "metadata": {},
     "output_type": "execute_result"
    }
   ],
   "source": [
    "# population\n",
    "circle_data.snow_lowest.isna().sum() / len(circle_data) * 100"
   ]
  },
  {
   "cell_type": "code",
   "execution_count": 98,
   "metadata": {},
   "outputs": [
    {
     "data": {
      "text/plain": [
       "(10910.997427924101, 0.0)"
      ]
     },
     "execution_count": 98,
     "metadata": {},
     "output_type": "execute_result"
    }
   ],
   "source": [
    "g, p, dof, expctd = stats.chi2_contingency(pd.crosstab(circle_data_na_circle_idx, circle_data.snow_lowest.isna()))\n",
    "g, p"
   ]
  },
  {
   "cell_type": "markdown",
   "metadata": {},
   "source": [
    "if the circle is missing data, it is much **less** likely that the lowest station will have missing data, when compared to the general population"
   ]
  },
  {
   "cell_type": "markdown",
   "metadata": {},
   "source": [
    "#### Count and Percent of Closest Elivation Stations Reporting if the Circle Reported Snow Depth Data"
   ]
  },
  {
   "cell_type": "code",
   "execution_count": 99,
   "metadata": {},
   "outputs": [
    {
     "name": "stdout",
     "output_type": "stream",
     "text": [
      "Closest Elivation Stations with missing Snow Data IF the the Circle is Reporting:\n",
      "45250\n",
      "83.95955097875498\n",
      "Closest Elivation Stations with NO missing Snow Data IF the Circle is Reporting: \n",
      "8645\n",
      "16.040449021245013\n"
     ]
    }
   ],
   "source": [
    "print(\"Closest Elivation Stations with missing Snow Data IF the the Circle is Reporting:\")\n",
    "print(circle_data[(~circle_data_na_circle_idx) & (circle_data.snow_lowest.isna())].shape[0])\n",
    "print(circle_data[(~circle_data_na_circle_idx) & (circle_data.snow_lowest.isna())].shape[0] / len(circle_data[~circle_data_na_circle_idx]) * 100 )\n",
    "print(\"Closest Elivation Stations with NO missing Snow Data IF the Circle is Reporting: \")\n",
    "print(circle_data[(~circle_data_na_circle_idx) & (~circle_data.snow_lowest.isna())].shape[0])\n",
    "print(circle_data[(~circle_data_na_circle_idx) & (~circle_data.snow_lowest.isna())].shape[0] / len(circle_data[~circle_data_na_circle_idx]) * 100 )\n"
   ]
  },
  {
   "cell_type": "markdown",
   "metadata": {},
   "source": [
    "### Number of stations for circles with missing data"
   ]
  },
  {
   "cell_type": "code",
   "execution_count": 100,
   "metadata": {},
   "outputs": [
    {
     "data": {
      "text/plain": [
       "(1630.1469055414525, 0.0)"
      ]
     },
     "execution_count": 100,
     "metadata": {},
     "output_type": "execute_result"
    }
   ],
   "source": [
    "actl = pd.crosstab(circle_data_na_circle_idx, circle_data.num_notna)\n",
    "g, p, dof, expctd = stats.chi2_contingency(actl)\n",
    "g, p"
   ]
  },
  {
   "cell_type": "code",
   "execution_count": 101,
   "metadata": {},
   "outputs": [
    {
     "data": {
      "text/plain": [
       "<matplotlib.axes._subplots.AxesSubplot at 0x7f6a7c13d550>"
      ]
     },
     "execution_count": 101,
     "metadata": {},
     "output_type": "execute_result"
    },
    {
     "data": {
      "image/png": "[encoded data removed]",
      "text/plain": [
       "<Figure size 432x288 with 1 Axes>"
      ]
     },
     "metadata": {},
     "output_type": "display_data"
    }
   ],
   "source": [
    "sns.barplot(np.arange(expctd.shape[1]), actl.loc[True] - expctd[1, :])"
   ]
  },
  {
   "cell_type": "markdown",
   "metadata": {},
   "source": [
    "it looks like the circle being missing implies that there is only one non-na station?"
   ]
  },
  {
   "cell_type": "markdown",
   "metadata": {},
   "source": [
    "### Disagreement"
   ]
  },
  {
   "cell_type": "code",
   "execution_count": 102,
   "metadata": {},
   "outputs": [
    {
     "data": {
      "text/plain": [
       "<matplotlib.lines.Line2D at 0x7f6a7bf4d490>"
      ]
     },
     "execution_count": 102,
     "metadata": {},
     "output_type": "execute_result"
    },
    {
     "data": {
      "image/png": "[encoded data removed]",
      "text/plain": [
       "<Figure size 432x432 with 3 Axes>"
      ]
     },
     "metadata": {},
     "output_type": "display_data"
    }
   ],
   "source": [
    "# \"disagreement\" (4*p*(1-p)) by number of not NA\n",
    "# horizontal line is AGREEMENT_THRESHOLD, defined above\n",
    "p = sns.jointplot(circle_data.loc[circle_data_na_circle_idx, 'num_notna'], \n",
    "                  4 * circle_data.loc[circle_data_na_circle_idx, 'p'] * (1 - circle_data.loc[circle_data_na_circle_idx, 'p']))\n",
    "p.ax_joint.scatter(circle_data.num_notna, 4 * circle_data.p * (1 - circle_data.p), color='pink', marker='x', alpha=0.5)\n",
    "p.set_axis_labels(\"number NaN\", '\"disgreement [4*p*(1-p)]\"')\n",
    "p.ax_joint.axhline(y = 4 * AGREEMENT_THRESHOLD * (1-AGREEMENT_THRESHOLD))"
   ]
  },
  {
   "cell_type": "markdown",
   "metadata": {},
   "source": [
    "### What percent do not meet our dissagreement threshold?"
   ]
  },
  {
   "cell_type": "code",
   "execution_count": 103,
   "metadata": {},
   "outputs": [
    {
     "data": {
      "text/plain": [
       "7.248135692352683"
      ]
     },
     "execution_count": 103,
     "metadata": {},
     "output_type": "execute_result"
    }
   ],
   "source": [
    "# joint\n",
    "circle_data.loc[circle_data_na_circle_idx, 'consensus'].isna().sum() / len(circle_data) * 100"
   ]
  },
  {
   "cell_type": "code",
   "execution_count": 104,
   "metadata": {},
   "outputs": [
    {
     "data": {
      "text/plain": [
       "34.19799931010694"
      ]
     },
     "execution_count": 104,
     "metadata": {},
     "output_type": "execute_result"
    }
   ],
   "source": [
    "# conditional\n",
    "circle_data.loc[circle_data_na_circle_idx, 'consensus'].isna().sum() / circle_data_na_circle_idx.sum() * 100"
   ]
  },
  {
   "cell_type": "code",
   "execution_count": 105,
   "metadata": {},
   "outputs": [
    {
     "data": {
      "text/plain": [
       "48.84924696593069"
      ]
     },
     "execution_count": 105,
     "metadata": {},
     "output_type": "execute_result"
    }
   ],
   "source": [
    "# population\n",
    "circle_data.consensus.isna().sum() / len(circle_data) * 100"
   ]
  },
  {
   "cell_type": "code",
   "execution_count": 106,
   "metadata": {},
   "outputs": [
    {
     "data": {
      "text/plain": [
       "(1579.4181990163775, 0.0)"
      ]
     },
     "execution_count": 106,
     "metadata": {},
     "output_type": "execute_result"
    }
   ],
   "source": [
    "actl = pd.crosstab(circle_data_na_circle_idx, circle_data.consensus.isna())\n",
    "g, p, dof, expctd = stats.chi2_contingency(actl)\n",
    "g, p"
   ]
  },
  {
   "cell_type": "code",
   "execution_count": 107,
   "metadata": {},
   "outputs": [
    {
     "data": {
      "text/html": [
       "<div>\n",
       "<style scoped>\n",
       "    .dataframe tbody tr th:only-of-type {\n",
       "        vertical-align: middle;\n",
       "    }\n",
       "\n",
       "    .dataframe tbody tr th {\n",
       "        vertical-align: top;\n",
       "    }\n",
       "\n",
       "    .dataframe thead th {\n",
       "        text-align: right;\n",
       "    }\n",
       "</style>\n",
       "<table border=\"1\" class=\"dataframe\">\n",
       "  <thead>\n",
       "    <tr style=\"text-align: right;\">\n",
       "      <th>consensus</th>\n",
       "      <th>False</th>\n",
       "      <th>True</th>\n",
       "    </tr>\n",
       "    <tr>\n",
       "      <th>c_snwd</th>\n",
       "      <th></th>\n",
       "      <th></th>\n",
       "    </tr>\n",
       "  </thead>\n",
       "  <tbody>\n",
       "    <tr>\n",
       "      <th>False</th>\n",
       "      <td>-2123.698348</td>\n",
       "      <td>2123.698348</td>\n",
       "    </tr>\n",
       "    <tr>\n",
       "      <th>True</th>\n",
       "      <td>2123.698348</td>\n",
       "      <td>-2123.698348</td>\n",
       "    </tr>\n",
       "  </tbody>\n",
       "</table>\n",
       "</div>"
      ],
      "text/plain": [
       "consensus        False        True \n",
       "c_snwd                             \n",
       "False     -2123.698348  2123.698348\n",
       "True       2123.698348 -2123.698348"
      ]
     },
     "execution_count": 107,
     "metadata": {},
     "output_type": "execute_result"
    }
   ],
   "source": [
    "actl - expctd"
   ]
  },
  {
   "cell_type": "markdown",
   "metadata": {},
   "source": [
    "Missing your snow data imples the stations are more likely to consense"
   ]
  },
  {
   "cell_type": "markdown",
   "metadata": {},
   "source": [
    "# The Truth: Reference Station Vs Reference Station\n",
    "\n",
    "Get a feel for all the different precipitation measures to see if we can trust the NOAA stations as our source of truth"
   ]
  },
  {
   "cell_type": "markdown",
   "metadata": {},
   "source": [
    "How often does it snow?"
   ]
  },
  {
   "cell_type": "code",
   "execution_count": 108,
   "metadata": {},
   "outputs": [
    {
     "data": {
      "text/plain": [
       "0.2836887542164542"
      ]
     },
     "execution_count": 108,
     "metadata": {},
     "output_type": "execute_result"
    }
   ],
   "source": [
    "circle_data.consensus.sum()/ circle_data.consensus.count()"
   ]
  },
  {
   "cell_type": "markdown",
   "metadata": {},
   "source": [
    "### Location & Consensus"
   ]
  },
  {
   "cell_type": "code",
   "execution_count": 109,
   "metadata": {},
   "outputs": [
    {
     "data": {
      "text/html": [
       "<div>\n",
       "<style scoped>\n",
       "    .dataframe tbody tr th:only-of-type {\n",
       "        vertical-align: middle;\n",
       "    }\n",
       "\n",
       "    .dataframe tbody tr th {\n",
       "        vertical-align: top;\n",
       "    }\n",
       "\n",
       "    .dataframe thead th {\n",
       "        text-align: right;\n",
       "    }\n",
       "</style>\n",
       "<table border=\"1\" class=\"dataframe\">\n",
       "  <thead>\n",
       "    <tr style=\"text-align: right;\">\n",
       "      <th>snow_closest_notna</th>\n",
       "      <th>False</th>\n",
       "      <th>True</th>\n",
       "    </tr>\n",
       "    <tr>\n",
       "      <th>consensus</th>\n",
       "      <th></th>\n",
       "      <th></th>\n",
       "    </tr>\n",
       "  </thead>\n",
       "  <tbody>\n",
       "    <tr>\n",
       "      <th>False</th>\n",
       "      <td>25052</td>\n",
       "      <td>6</td>\n",
       "    </tr>\n",
       "    <tr>\n",
       "      <th>True</th>\n",
       "      <td>3</td>\n",
       "      <td>9921</td>\n",
       "    </tr>\n",
       "  </tbody>\n",
       "</table>\n",
       "</div>"
      ],
      "text/plain": [
       "snow_closest_notna  False  True \n",
       "consensus                       \n",
       "False               25052      6\n",
       "True                    3   9921"
      ]
     },
     "execution_count": 109,
     "metadata": {},
     "output_type": "execute_result"
    }
   ],
   "source": [
    "# Cross tabs of the closest station to a circle vs the consenting stations \n",
    "pd.crosstab(circle_data.consensus, circle_data.snow_closest_notna)"
   ]
  },
  {
   "cell_type": "code",
   "execution_count": 110,
   "metadata": {},
   "outputs": [
    {
     "data": {
      "text/html": [
       "<div>\n",
       "<style scoped>\n",
       "    .dataframe tbody tr th:only-of-type {\n",
       "        vertical-align: middle;\n",
       "    }\n",
       "\n",
       "    .dataframe tbody tr th {\n",
       "        vertical-align: top;\n",
       "    }\n",
       "\n",
       "    .dataframe thead th {\n",
       "        text-align: right;\n",
       "    }\n",
       "</style>\n",
       "<table border=\"1\" class=\"dataframe\">\n",
       "  <thead>\n",
       "    <tr style=\"text-align: right;\">\n",
       "      <th>snow_lowest_notna</th>\n",
       "      <th>False</th>\n",
       "      <th>True</th>\n",
       "    </tr>\n",
       "    <tr>\n",
       "      <th>consensus</th>\n",
       "      <th></th>\n",
       "      <th></th>\n",
       "    </tr>\n",
       "  </thead>\n",
       "  <tbody>\n",
       "    <tr>\n",
       "      <th>False</th>\n",
       "      <td>24951</td>\n",
       "      <td>7</td>\n",
       "    </tr>\n",
       "    <tr>\n",
       "      <th>True</th>\n",
       "      <td>2</td>\n",
       "      <td>9869</td>\n",
       "    </tr>\n",
       "  </tbody>\n",
       "</table>\n",
       "</div>"
      ],
      "text/plain": [
       "snow_lowest_notna  False  True \n",
       "consensus                      \n",
       "False              24951      7\n",
       "True                   2   9869"
      ]
     },
     "execution_count": 110,
     "metadata": {},
     "output_type": "execute_result"
    }
   ],
   "source": [
    "# Cross tabs of the closest station in elivation to a circle vs the consenting stations \n",
    "pd.crosstab(circle_data.consensus, circle_data.snow_lowest_notna)"
   ]
  },
  {
   "cell_type": "code",
   "execution_count": 111,
   "metadata": {},
   "outputs": [
    {
     "data": {
      "text/html": [
       "<div>\n",
       "<style scoped>\n",
       "    .dataframe tbody tr th:only-of-type {\n",
       "        vertical-align: middle;\n",
       "    }\n",
       "\n",
       "    .dataframe tbody tr th {\n",
       "        vertical-align: top;\n",
       "    }\n",
       "\n",
       "    .dataframe thead th {\n",
       "        text-align: right;\n",
       "    }\n",
       "</style>\n",
       "<table border=\"1\" class=\"dataframe\">\n",
       "  <thead>\n",
       "    <tr style=\"text-align: right;\">\n",
       "      <th>snow_lowest_notna</th>\n",
       "      <th>False</th>\n",
       "      <th>True</th>\n",
       "    </tr>\n",
       "    <tr>\n",
       "      <th>snow_closest_notna</th>\n",
       "      <th></th>\n",
       "      <th></th>\n",
       "    </tr>\n",
       "  </thead>\n",
       "  <tbody>\n",
       "    <tr>\n",
       "      <th>False</th>\n",
       "      <td>25161</td>\n",
       "      <td>125</td>\n",
       "    </tr>\n",
       "    <tr>\n",
       "      <th>True</th>\n",
       "      <td>138</td>\n",
       "      <td>10078</td>\n",
       "    </tr>\n",
       "  </tbody>\n",
       "</table>\n",
       "</div>"
      ],
      "text/plain": [
       "snow_lowest_notna   False  True \n",
       "snow_closest_notna              \n",
       "False               25161    125\n",
       "True                  138  10078"
      ]
     },
     "execution_count": 111,
     "metadata": {},
     "output_type": "execute_result"
    }
   ],
   "source": [
    "# Cross tabs of the closest station to a circle vs the station with the closest elivation\n",
    "pd.crosstab(circle_data.snow_closest_notna, circle_data.snow_lowest_notna)"
   ]
  },
  {
   "cell_type": "markdown",
   "metadata": {},
   "source": [
    "### Ecosystem Consensus"
   ]
  },
  {
   "cell_type": "code",
   "execution_count": 112,
   "metadata": {},
   "outputs": [
    {
     "data": {
      "text/html": [
       "<div>\n",
       "<style scoped>\n",
       "    .dataframe tbody tr th:only-of-type {\n",
       "        vertical-align: middle;\n",
       "    }\n",
       "\n",
       "    .dataframe tbody tr th {\n",
       "        vertical-align: top;\n",
       "    }\n",
       "\n",
       "    .dataframe thead th {\n",
       "        text-align: right;\n",
       "    }\n",
       "</style>\n",
       "<table border=\"1\" class=\"dataframe\">\n",
       "  <thead>\n",
       "    <tr style=\"text-align: right;\">\n",
       "      <th>n_consensus</th>\n",
       "      <th>False</th>\n",
       "      <th>True</th>\n",
       "    </tr>\n",
       "    <tr>\n",
       "      <th>consensus</th>\n",
       "      <th></th>\n",
       "      <th></th>\n",
       "    </tr>\n",
       "  </thead>\n",
       "  <tbody>\n",
       "    <tr>\n",
       "      <th>False</th>\n",
       "      <td>14973</td>\n",
       "      <td>0</td>\n",
       "    </tr>\n",
       "    <tr>\n",
       "      <th>True</th>\n",
       "      <td>0</td>\n",
       "      <td>5301</td>\n",
       "    </tr>\n",
       "  </tbody>\n",
       "</table>\n",
       "</div>"
      ],
      "text/plain": [
       "n_consensus  False  True \n",
       "consensus                \n",
       "False        14973      0\n",
       "True             0   5301"
      ]
     },
     "execution_count": 112,
     "metadata": {},
     "output_type": "execute_result"
    }
   ],
   "source": [
    "# Crosstable of stations with consensus vs stations with nlcd consensus \n",
    "pd.crosstab(circle_data.consensus, circle_data.n_consensus)"
   ]
  },
  {
   "cell_type": "code",
   "execution_count": 113,
   "metadata": {},
   "outputs": [
    {
     "data": {
      "text/html": [
       "<div>\n",
       "<style scoped>\n",
       "    .dataframe tbody tr th:only-of-type {\n",
       "        vertical-align: middle;\n",
       "    }\n",
       "\n",
       "    .dataframe tbody tr th {\n",
       "        vertical-align: top;\n",
       "    }\n",
       "\n",
       "    .dataframe thead th {\n",
       "        text-align: right;\n",
       "    }\n",
       "</style>\n",
       "<table border=\"1\" class=\"dataframe\">\n",
       "  <thead>\n",
       "    <tr style=\"text-align: right;\">\n",
       "      <th>e_consensus</th>\n",
       "      <th>False</th>\n",
       "      <th>True</th>\n",
       "    </tr>\n",
       "    <tr>\n",
       "      <th>consensus</th>\n",
       "      <th></th>\n",
       "      <th></th>\n",
       "    </tr>\n",
       "  </thead>\n",
       "  <tbody>\n",
       "    <tr>\n",
       "      <th>False</th>\n",
       "      <td>10953</td>\n",
       "      <td>1</td>\n",
       "    </tr>\n",
       "    <tr>\n",
       "      <th>True</th>\n",
       "      <td>1</td>\n",
       "      <td>3912</td>\n",
       "    </tr>\n",
       "  </tbody>\n",
       "</table>\n",
       "</div>"
      ],
      "text/plain": [
       "e_consensus  False  True \n",
       "consensus                \n",
       "False        10953      1\n",
       "True             1   3912"
      ]
     },
     "execution_count": 113,
     "metadata": {},
     "output_type": "execute_result"
    }
   ],
   "source": [
    "# Crosstabs  of stations with consensus vs stations with ecosys consensus\n",
    "pd.crosstab(circle_data.consensus, circle_data.e_consensus)"
   ]
  },
  {
   "cell_type": "code",
   "execution_count": 114,
   "metadata": {},
   "outputs": [
    {
     "data": {
      "text/html": [
       "<div>\n",
       "<style scoped>\n",
       "    .dataframe tbody tr th:only-of-type {\n",
       "        vertical-align: middle;\n",
       "    }\n",
       "\n",
       "    .dataframe tbody tr th {\n",
       "        vertical-align: top;\n",
       "    }\n",
       "\n",
       "    .dataframe thead th {\n",
       "        text-align: right;\n",
       "    }\n",
       "</style>\n",
       "<table border=\"1\" class=\"dataframe\">\n",
       "  <thead>\n",
       "    <tr style=\"text-align: right;\">\n",
       "      <th>e_consensus</th>\n",
       "      <th>False</th>\n",
       "      <th>True</th>\n",
       "    </tr>\n",
       "    <tr>\n",
       "      <th>n_consensus</th>\n",
       "      <th></th>\n",
       "      <th></th>\n",
       "    </tr>\n",
       "  </thead>\n",
       "  <tbody>\n",
       "    <tr>\n",
       "      <th>False</th>\n",
       "      <td>11004</td>\n",
       "      <td>0</td>\n",
       "    </tr>\n",
       "    <tr>\n",
       "      <th>True</th>\n",
       "      <td>0</td>\n",
       "      <td>4006</td>\n",
       "    </tr>\n",
       "  </tbody>\n",
       "</table>\n",
       "</div>"
      ],
      "text/plain": [
       "e_consensus  False  True \n",
       "n_consensus              \n",
       "False        11004      0\n",
       "True             0   4006"
      ]
     },
     "execution_count": 114,
     "metadata": {},
     "output_type": "execute_result"
    }
   ],
   "source": [
    "pd.crosstab(circle_data.n_consensus, circle_data.e_consensus)"
   ]
  },
  {
   "cell_type": "markdown",
   "metadata": {},
   "source": [
    "### We only need one:\n",
    "If we just had one station per circle, how accurate is that?"
   ]
  },
  {
   "cell_type": "code",
   "execution_count": 115,
   "metadata": {},
   "outputs": [
    {
     "data": {
      "text/html": [
       "<div>\n",
       "<style scoped>\n",
       "    .dataframe tbody tr th:only-of-type {\n",
       "        vertical-align: middle;\n",
       "    }\n",
       "\n",
       "    .dataframe tbody tr th {\n",
       "        vertical-align: top;\n",
       "    }\n",
       "\n",
       "    .dataframe thead th {\n",
       "        text-align: right;\n",
       "    }\n",
       "</style>\n",
       "<table border=\"1\" class=\"dataframe\">\n",
       "  <thead>\n",
       "    <tr style=\"text-align: right;\">\n",
       "      <th>num_true</th>\n",
       "      <th>False</th>\n",
       "      <th>True</th>\n",
       "    </tr>\n",
       "    <tr>\n",
       "      <th>snow_closest_notna</th>\n",
       "      <th></th>\n",
       "      <th></th>\n",
       "    </tr>\n",
       "  </thead>\n",
       "  <tbody>\n",
       "    <tr>\n",
       "      <th>False</th>\n",
       "      <td>25045</td>\n",
       "      <td>345</td>\n",
       "    </tr>\n",
       "    <tr>\n",
       "      <th>True</th>\n",
       "      <td>0</td>\n",
       "      <td>10270</td>\n",
       "    </tr>\n",
       "  </tbody>\n",
       "</table>\n",
       "</div>"
      ],
      "text/plain": [
       "num_true            False  True \n",
       "snow_closest_notna              \n",
       "False               25045    345\n",
       "True                    0  10270"
      ]
     },
     "execution_count": 115,
     "metadata": {},
     "output_type": "execute_result"
    }
   ],
   "source": [
    "# Cross tabes of the snowdepth reported by the closest station and if any reference station said it accumulated snow\n",
    "pd.crosstab(circle_data.snow_closest_notna, circle_data.num_true > 0)"
   ]
  },
  {
   "cell_type": "code",
   "execution_count": 116,
   "metadata": {},
   "outputs": [
    {
     "data": {
      "text/html": [
       "<div>\n",
       "<style scoped>\n",
       "    .dataframe tbody tr th:only-of-type {\n",
       "        vertical-align: middle;\n",
       "    }\n",
       "\n",
       "    .dataframe tbody tr th {\n",
       "        vertical-align: top;\n",
       "    }\n",
       "\n",
       "    .dataframe thead th {\n",
       "        text-align: right;\n",
       "    }\n",
       "</style>\n",
       "<table border=\"1\" class=\"dataframe\">\n",
       "  <thead>\n",
       "    <tr style=\"text-align: right;\">\n",
       "      <th>num_true</th>\n",
       "      <th>False</th>\n",
       "      <th>True</th>\n",
       "    </tr>\n",
       "    <tr>\n",
       "      <th>snow_lowest_notna</th>\n",
       "      <th></th>\n",
       "      <th></th>\n",
       "    </tr>\n",
       "  </thead>\n",
       "  <tbody>\n",
       "    <tr>\n",
       "      <th>False</th>\n",
       "      <td>24945</td>\n",
       "      <td>354</td>\n",
       "    </tr>\n",
       "    <tr>\n",
       "      <th>True</th>\n",
       "      <td>0</td>\n",
       "      <td>10203</td>\n",
       "    </tr>\n",
       "  </tbody>\n",
       "</table>\n",
       "</div>"
      ],
      "text/plain": [
       "num_true           False  True \n",
       "snow_lowest_notna              \n",
       "False              24945    354\n",
       "True                   0  10203"
      ]
     },
     "execution_count": 116,
     "metadata": {},
     "output_type": "execute_result"
    }
   ],
   "source": [
    "# Crosstabs of the snowdepth reported by the closest station in elivation and if any reference station said it accumulated snow\n",
    "pd.crosstab(circle_data.snow_lowest_notna, circle_data.num_true > 0)"
   ]
  },
  {
   "cell_type": "code",
   "execution_count": 117,
   "metadata": {},
   "outputs": [
    {
     "data": {
      "text/html": [
       "<div>\n",
       "<style scoped>\n",
       "    .dataframe tbody tr th:only-of-type {\n",
       "        vertical-align: middle;\n",
       "    }\n",
       "\n",
       "    .dataframe tbody tr th {\n",
       "        vertical-align: top;\n",
       "    }\n",
       "\n",
       "    .dataframe thead th {\n",
       "        text-align: right;\n",
       "    }\n",
       "</style>\n",
       "<table border=\"1\" class=\"dataframe\">\n",
       "  <thead>\n",
       "    <tr style=\"text-align: right;\">\n",
       "      <th>num_true</th>\n",
       "      <th>False</th>\n",
       "      <th>True</th>\n",
       "    </tr>\n",
       "    <tr>\n",
       "      <th>consensus</th>\n",
       "      <th></th>\n",
       "      <th></th>\n",
       "    </tr>\n",
       "  </thead>\n",
       "  <tbody>\n",
       "    <tr>\n",
       "      <th>False</th>\n",
       "      <td>25045</td>\n",
       "      <td>13</td>\n",
       "    </tr>\n",
       "    <tr>\n",
       "      <th>True</th>\n",
       "      <td>0</td>\n",
       "      <td>9924</td>\n",
       "    </tr>\n",
       "  </tbody>\n",
       "</table>\n",
       "</div>"
      ],
      "text/plain": [
       "num_true   False  True \n",
       "consensus              \n",
       "False      25045     13\n",
       "True           0   9924"
      ]
     },
     "execution_count": 117,
     "metadata": {},
     "output_type": "execute_result"
    }
   ],
   "source": [
    "# Crosstabs of the stations resporting consensus vs ANY reference station that reported accumulated snow\n",
    "pd.crosstab(circle_data.consensus, circle_data.num_true > 0)"
   ]
  },
  {
   "cell_type": "code",
   "execution_count": 118,
   "metadata": {},
   "outputs": [
    {
     "data": {
      "text/html": [
       "<div>\n",
       "<style scoped>\n",
       "    .dataframe tbody tr th:only-of-type {\n",
       "        vertical-align: middle;\n",
       "    }\n",
       "\n",
       "    .dataframe tbody tr th {\n",
       "        vertical-align: top;\n",
       "    }\n",
       "\n",
       "    .dataframe thead th {\n",
       "        text-align: right;\n",
       "    }\n",
       "</style>\n",
       "<table border=\"1\" class=\"dataframe\">\n",
       "  <thead>\n",
       "    <tr style=\"text-align: right;\">\n",
       "      <th>n_num_true</th>\n",
       "      <th>False</th>\n",
       "      <th>True</th>\n",
       "    </tr>\n",
       "    <tr>\n",
       "      <th>consensus</th>\n",
       "      <th></th>\n",
       "      <th></th>\n",
       "    </tr>\n",
       "  </thead>\n",
       "  <tbody>\n",
       "    <tr>\n",
       "      <th>False</th>\n",
       "      <td>25049</td>\n",
       "      <td>9</td>\n",
       "    </tr>\n",
       "    <tr>\n",
       "      <th>True</th>\n",
       "      <td>4619</td>\n",
       "      <td>5305</td>\n",
       "    </tr>\n",
       "  </tbody>\n",
       "</table>\n",
       "</div>"
      ],
      "text/plain": [
       "n_num_true  False  True \n",
       "consensus               \n",
       "False       25049      9\n",
       "True         4619   5305"
      ]
     },
     "execution_count": 118,
     "metadata": {},
     "output_type": "execute_result"
    }
   ],
   "source": [
    "# Crosstabs of the stations resporting consensus vs ANY NLCD MATCHING reference station that reported accumulated snow\n",
    "pd.crosstab(circle_data.consensus, circle_data.n_num_true > 0)"
   ]
  },
  {
   "cell_type": "code",
   "execution_count": 119,
   "metadata": {},
   "outputs": [
    {
     "data": {
      "text/html": [
       "<div>\n",
       "<style scoped>\n",
       "    .dataframe tbody tr th:only-of-type {\n",
       "        vertical-align: middle;\n",
       "    }\n",
       "\n",
       "    .dataframe tbody tr th {\n",
       "        vertical-align: top;\n",
       "    }\n",
       "\n",
       "    .dataframe thead th {\n",
       "        text-align: right;\n",
       "    }\n",
       "</style>\n",
       "<table border=\"1\" class=\"dataframe\">\n",
       "  <thead>\n",
       "    <tr style=\"text-align: right;\">\n",
       "      <th>e_num_true</th>\n",
       "      <th>False</th>\n",
       "      <th>True</th>\n",
       "    </tr>\n",
       "    <tr>\n",
       "      <th>consensus</th>\n",
       "      <th></th>\n",
       "      <th></th>\n",
       "    </tr>\n",
       "  </thead>\n",
       "  <tbody>\n",
       "    <tr>\n",
       "      <th>False</th>\n",
       "      <td>25051</td>\n",
       "      <td>7</td>\n",
       "    </tr>\n",
       "    <tr>\n",
       "      <th>True</th>\n",
       "      <td>6010</td>\n",
       "      <td>3914</td>\n",
       "    </tr>\n",
       "  </tbody>\n",
       "</table>\n",
       "</div>"
      ],
      "text/plain": [
       "e_num_true  False  True \n",
       "consensus               \n",
       "False       25051      7\n",
       "True         6010   3914"
      ]
     },
     "execution_count": 119,
     "metadata": {},
     "output_type": "execute_result"
    }
   ],
   "source": [
    "# Crosstabs of the stations resporting consensus vs ANY ECOSYS MATCHING reference station that reported accumulated snow\n",
    "pd.crosstab(circle_data.consensus, circle_data.e_num_true > 0)"
   ]
  },
  {
   "cell_type": "markdown",
   "metadata": {},
   "source": [
    "# Circle v Station: The Final Determination on If Volenteers are Reliable"
   ]
  },
  {
   "cell_type": "code",
   "execution_count": 120,
   "metadata": {},
   "outputs": [],
   "source": [
    "def crosstab_metrics(actl):\n",
    "    # accuracy\n",
    "    acc = actl.to_numpy().diagonal().sum() / actl.to_numpy().sum()\n",
    "    # precision\n",
    "    pr = actl.loc[1,1] / actl.to_numpy()[[1,0], [1,1]].sum()\n",
    "    # recall\n",
    "    re = actl.loc[1,1] / actl.to_numpy()[[1,1], [1,0]].sum()\n",
    "    # F1\n",
    "    f1 = 2 * pr * re / (pr + re)\n",
    "    \n",
    "    print(f\"accuracy:  {acc*100:.2f}%\")\n",
    "    print(f\"precision: {pr*100:.2f}%\")\n",
    "    print(f\"recall:    {re*100:.2f}%\")\n",
    "    print(f\"F1:        {f1*100:.2f}%\")\n",
    "    \n",
    "#     return (acc, pr, re, f1)"
   ]
  },
  {
   "cell_type": "markdown",
   "metadata": {},
   "source": [
    "### Based on the stations' consensus"
   ]
  },
  {
   "cell_type": "code",
   "execution_count": 121,
   "metadata": {},
   "outputs": [
    {
     "data": {
      "text/html": [
       "<div>\n",
       "<style scoped>\n",
       "    .dataframe tbody tr th:only-of-type {\n",
       "        vertical-align: middle;\n",
       "    }\n",
       "\n",
       "    .dataframe tbody tr th {\n",
       "        vertical-align: top;\n",
       "    }\n",
       "\n",
       "    .dataframe thead th {\n",
       "        text-align: right;\n",
       "    }\n",
       "</style>\n",
       "<table border=\"1\" class=\"dataframe\">\n",
       "  <thead>\n",
       "    <tr style=\"text-align: right;\">\n",
       "      <th>c_snwd</th>\n",
       "      <th>False</th>\n",
       "      <th>True</th>\n",
       "    </tr>\n",
       "    <tr>\n",
       "      <th>consensus</th>\n",
       "      <th></th>\n",
       "      <th></th>\n",
       "    </tr>\n",
       "  </thead>\n",
       "  <tbody>\n",
       "    <tr>\n",
       "      <th>False</th>\n",
       "      <td>15197</td>\n",
       "      <td>2862</td>\n",
       "    </tr>\n",
       "    <tr>\n",
       "      <th>True</th>\n",
       "      <td>492</td>\n",
       "      <td>6893</td>\n",
       "    </tr>\n",
       "  </tbody>\n",
       "</table>\n",
       "</div>"
      ],
      "text/plain": [
       "c_snwd     False  True \n",
       "consensus              \n",
       "False      15197   2862\n",
       "True         492   6893"
      ]
     },
     "execution_count": 121,
     "metadata": {},
     "output_type": "execute_result"
    }
   ],
   "source": [
    "actl = pd.crosstab(circle_data.consensus, circle_data.c_snwd)\n",
    "actl"
   ]
  },
  {
   "cell_type": "code",
   "execution_count": 122,
   "metadata": {},
   "outputs": [
    {
     "name": "stdout",
     "output_type": "stream",
     "text": [
      "accuracy:  86.82%\n",
      "precision: 70.66%\n",
      "recall:    93.34%\n",
      "F1:        80.43%\n"
     ]
    }
   ],
   "source": [
    "crosstab_metrics(actl)"
   ]
  },
  {
   "cell_type": "markdown",
   "metadata": {},
   "source": [
    "### Based on the closest station"
   ]
  },
  {
   "cell_type": "code",
   "execution_count": 123,
   "metadata": {},
   "outputs": [
    {
     "data": {
      "text/html": [
       "<div>\n",
       "<style scoped>\n",
       "    .dataframe tbody tr th:only-of-type {\n",
       "        vertical-align: middle;\n",
       "    }\n",
       "\n",
       "    .dataframe tbody tr th {\n",
       "        vertical-align: top;\n",
       "    }\n",
       "\n",
       "    .dataframe thead th {\n",
       "        text-align: right;\n",
       "    }\n",
       "</style>\n",
       "<table border=\"1\" class=\"dataframe\">\n",
       "  <thead>\n",
       "    <tr style=\"text-align: right;\">\n",
       "      <th>c_snwd</th>\n",
       "      <th>False</th>\n",
       "      <th>True</th>\n",
       "    </tr>\n",
       "    <tr>\n",
       "      <th>snow_closest_notna</th>\n",
       "      <th></th>\n",
       "      <th></th>\n",
       "    </tr>\n",
       "  </thead>\n",
       "  <tbody>\n",
       "    <tr>\n",
       "      <th>False</th>\n",
       "      <td>15250</td>\n",
       "      <td>3073</td>\n",
       "    </tr>\n",
       "    <tr>\n",
       "      <th>True</th>\n",
       "      <td>556</td>\n",
       "      <td>7100</td>\n",
       "    </tr>\n",
       "  </tbody>\n",
       "</table>\n",
       "</div>"
      ],
      "text/plain": [
       "c_snwd              False  True \n",
       "snow_closest_notna              \n",
       "False               15250   3073\n",
       "True                  556   7100"
      ]
     },
     "execution_count": 123,
     "metadata": {},
     "output_type": "execute_result"
    }
   ],
   "source": [
    "actl = pd.crosstab(circle_data.snow_closest_notna, circle_data.c_snwd)\n",
    "actl"
   ]
  },
  {
   "cell_type": "code",
   "execution_count": 124,
   "metadata": {},
   "outputs": [
    {
     "name": "stdout",
     "output_type": "stream",
     "text": [
      "accuracy:  86.03%\n",
      "precision: 69.79%\n",
      "recall:    92.74%\n",
      "F1:        79.65%\n"
     ]
    }
   ],
   "source": [
    "crosstab_metrics(actl)"
   ]
  },
  {
   "cell_type": "markdown",
   "metadata": {},
   "source": [
    "### Based on the closest station in elivation"
   ]
  },
  {
   "cell_type": "code",
   "execution_count": 125,
   "metadata": {},
   "outputs": [
    {
     "data": {
      "text/html": [
       "<div>\n",
       "<style scoped>\n",
       "    .dataframe tbody tr th:only-of-type {\n",
       "        vertical-align: middle;\n",
       "    }\n",
       "\n",
       "    .dataframe tbody tr th {\n",
       "        vertical-align: top;\n",
       "    }\n",
       "\n",
       "    .dataframe thead th {\n",
       "        text-align: right;\n",
       "    }\n",
       "</style>\n",
       "<table border=\"1\" class=\"dataframe\">\n",
       "  <thead>\n",
       "    <tr style=\"text-align: right;\">\n",
       "      <th>c_snwd</th>\n",
       "      <th>False</th>\n",
       "      <th>True</th>\n",
       "    </tr>\n",
       "    <tr>\n",
       "      <th>snow_lowest_notna</th>\n",
       "      <th></th>\n",
       "      <th></th>\n",
       "    </tr>\n",
       "  </thead>\n",
       "  <tbody>\n",
       "    <tr>\n",
       "      <th>False</th>\n",
       "      <td>15217</td>\n",
       "      <td>3012</td>\n",
       "    </tr>\n",
       "    <tr>\n",
       "      <th>True</th>\n",
       "      <td>542</td>\n",
       "      <td>7072</td>\n",
       "    </tr>\n",
       "  </tbody>\n",
       "</table>\n",
       "</div>"
      ],
      "text/plain": [
       "c_snwd             False  True \n",
       "snow_lowest_notna              \n",
       "False              15217   3012\n",
       "True                 542   7072"
      ]
     },
     "execution_count": 125,
     "metadata": {},
     "output_type": "execute_result"
    }
   ],
   "source": [
    "actl = pd.crosstab(circle_data.snow_lowest_notna, circle_data.c_snwd)\n",
    "actl"
   ]
  },
  {
   "cell_type": "code",
   "execution_count": 126,
   "metadata": {},
   "outputs": [
    {
     "name": "stdout",
     "output_type": "stream",
     "text": [
      "accuracy:  86.25%\n",
      "precision: 70.13%\n",
      "recall:    92.88%\n",
      "F1:        79.92%\n"
     ]
    }
   ],
   "source": [
    "crosstab_metrics(actl)"
   ]
  },
  {
   "cell_type": "markdown",
   "metadata": {},
   "source": [
    "### Based on the nlcd consensus"
   ]
  },
  {
   "cell_type": "code",
   "execution_count": 127,
   "metadata": {},
   "outputs": [
    {
     "data": {
      "text/html": [
       "<div>\n",
       "<style scoped>\n",
       "    .dataframe tbody tr th:only-of-type {\n",
       "        vertical-align: middle;\n",
       "    }\n",
       "\n",
       "    .dataframe tbody tr th {\n",
       "        vertical-align: top;\n",
       "    }\n",
       "\n",
       "    .dataframe thead th {\n",
       "        text-align: right;\n",
       "    }\n",
       "</style>\n",
       "<table border=\"1\" class=\"dataframe\">\n",
       "  <thead>\n",
       "    <tr style=\"text-align: right;\">\n",
       "      <th>c_snwd</th>\n",
       "      <th>False</th>\n",
       "      <th>True</th>\n",
       "    </tr>\n",
       "    <tr>\n",
       "      <th>n_consensus</th>\n",
       "      <th></th>\n",
       "      <th></th>\n",
       "    </tr>\n",
       "  </thead>\n",
       "  <tbody>\n",
       "    <tr>\n",
       "      <th>False</th>\n",
       "      <td>9659</td>\n",
       "      <td>1561</td>\n",
       "    </tr>\n",
       "    <tr>\n",
       "      <th>True</th>\n",
       "      <td>323</td>\n",
       "      <td>3794</td>\n",
       "    </tr>\n",
       "  </tbody>\n",
       "</table>\n",
       "</div>"
      ],
      "text/plain": [
       "c_snwd       False  True \n",
       "n_consensus              \n",
       "False         9659   1561\n",
       "True           323   3794"
      ]
     },
     "execution_count": 127,
     "metadata": {},
     "output_type": "execute_result"
    }
   ],
   "source": [
    "actl = pd.crosstab(circle_data.n_consensus, circle_data.c_snwd)\n",
    "actl"
   ]
  },
  {
   "cell_type": "code",
   "execution_count": 128,
   "metadata": {},
   "outputs": [
    {
     "name": "stdout",
     "output_type": "stream",
     "text": [
      "accuracy:  87.72%\n",
      "precision: 70.85%\n",
      "recall:    92.15%\n",
      "F1:        80.11%\n"
     ]
    }
   ],
   "source": [
    "crosstab_metrics(actl)"
   ]
  },
  {
   "cell_type": "markdown",
   "metadata": {},
   "source": [
    "### Based on the ecosys consensus"
   ]
  },
  {
   "cell_type": "code",
   "execution_count": 129,
   "metadata": {},
   "outputs": [
    {
     "data": {
      "text/html": [
       "<div>\n",
       "<style scoped>\n",
       "    .dataframe tbody tr th:only-of-type {\n",
       "        vertical-align: middle;\n",
       "    }\n",
       "\n",
       "    .dataframe tbody tr th {\n",
       "        vertical-align: top;\n",
       "    }\n",
       "\n",
       "    .dataframe thead th {\n",
       "        text-align: right;\n",
       "    }\n",
       "</style>\n",
       "<table border=\"1\" class=\"dataframe\">\n",
       "  <thead>\n",
       "    <tr style=\"text-align: right;\">\n",
       "      <th>c_snwd</th>\n",
       "      <th>False</th>\n",
       "      <th>True</th>\n",
       "    </tr>\n",
       "    <tr>\n",
       "      <th>e_consensus</th>\n",
       "      <th></th>\n",
       "      <th></th>\n",
       "    </tr>\n",
       "  </thead>\n",
       "  <tbody>\n",
       "    <tr>\n",
       "      <th>False</th>\n",
       "      <td>7104</td>\n",
       "      <td>1217</td>\n",
       "    </tr>\n",
       "    <tr>\n",
       "      <th>True</th>\n",
       "      <td>240</td>\n",
       "      <td>2848</td>\n",
       "    </tr>\n",
       "  </tbody>\n",
       "</table>\n",
       "</div>"
      ],
      "text/plain": [
       "c_snwd       False  True \n",
       "e_consensus              \n",
       "False         7104   1217\n",
       "True           240   2848"
      ]
     },
     "execution_count": 129,
     "metadata": {},
     "output_type": "execute_result"
    }
   ],
   "source": [
    "actl = pd.crosstab(circle_data.e_consensus, circle_data.c_snwd)\n",
    "actl"
   ]
  },
  {
   "cell_type": "code",
   "execution_count": 130,
   "metadata": {},
   "outputs": [
    {
     "name": "stdout",
     "output_type": "stream",
     "text": [
      "accuracy:  87.23%\n",
      "precision: 70.06%\n",
      "recall:    92.23%\n",
      "F1:        79.63%\n"
     ]
    }
   ],
   "source": [
    "crosstab_metrics(actl)"
   ]
  },
  {
   "cell_type": "markdown",
   "metadata": {},
   "source": [
    "### Did at least one station aggree?"
   ]
  },
  {
   "cell_type": "code",
   "execution_count": 131,
   "metadata": {},
   "outputs": [
    {
     "data": {
      "text/html": [
       "<div>\n",
       "<style scoped>\n",
       "    .dataframe tbody tr th:only-of-type {\n",
       "        vertical-align: middle;\n",
       "    }\n",
       "\n",
       "    .dataframe tbody tr th {\n",
       "        vertical-align: top;\n",
       "    }\n",
       "\n",
       "    .dataframe thead th {\n",
       "        text-align: right;\n",
       "    }\n",
       "</style>\n",
       "<table border=\"1\" class=\"dataframe\">\n",
       "  <thead>\n",
       "    <tr style=\"text-align: right;\">\n",
       "      <th>c_snwd</th>\n",
       "      <th>False</th>\n",
       "      <th>True</th>\n",
       "    </tr>\n",
       "    <tr>\n",
       "      <th>num_true</th>\n",
       "      <th></th>\n",
       "      <th></th>\n",
       "    </tr>\n",
       "  </thead>\n",
       "  <tbody>\n",
       "    <tr>\n",
       "      <th>False</th>\n",
       "      <td>32200</td>\n",
       "      <td>13763</td>\n",
       "    </tr>\n",
       "    <tr>\n",
       "      <th>True</th>\n",
       "      <td>613</td>\n",
       "      <td>7319</td>\n",
       "    </tr>\n",
       "  </tbody>\n",
       "</table>\n",
       "</div>"
      ],
      "text/plain": [
       "c_snwd    False  True \n",
       "num_true              \n",
       "False     32200  13763\n",
       "True        613   7319"
      ]
     },
     "execution_count": 131,
     "metadata": {},
     "output_type": "execute_result"
    }
   ],
   "source": [
    "actl = pd.crosstab(circle_data.num_true >= 1, circle_data.c_snwd)\n",
    "actl"
   ]
  },
  {
   "cell_type": "code",
   "execution_count": 132,
   "metadata": {},
   "outputs": [
    {
     "name": "stdout",
     "output_type": "stream",
     "text": [
      "accuracy:  73.33%\n",
      "precision: 34.72%\n",
      "recall:    92.27%\n",
      "F1:        50.45%\n"
     ]
    }
   ],
   "source": [
    "crosstab_metrics(actl)"
   ]
  },
  {
   "cell_type": "code",
   "execution_count": null,
   "metadata": {},
   "outputs": [],
   "source": []
  },
  {
   "cell_type": "code",
   "execution_count": null,
   "metadata": {},
   "outputs": [],
   "source": []
  }
 ],
 "metadata": {
  "kernelspec": {
   "display_name": "audubon",
   "language": "python",
   "name": "audubon"
  },
  "language_info": {
   "codemirror_mode": {
    "name": "ipython",
    "version": 3
   },
   "file_extension": ".py",
   "mimetype": "text/x-python",
   "name": "python",
   "nbconvert_exporter": "python",
   "pygments_lexer": "ipython3",
   "version": "3.7.7"
  }
 },
 "nbformat": 4,
 "nbformat_minor": 4
}
