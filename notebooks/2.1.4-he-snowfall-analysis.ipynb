{
 "cells": [
  {
   "cell_type": "markdown",
   "metadata": {},
   "source": [
    "# Snow Depth Analysis\n",
    "### Purpose\n",
    "This notebook will look at volunteer trends for reporting snow depth, adressing the Github issue #54  \n",
    "(this notebook is a copy of the rain and snow analysis notebooks, but for snow depths)\n",
    "\n",
    "### Author: \n",
    "Hamza El-Saawy\n",
    "### Date: \n",
    "2020-09-14\n",
    "### Update Date: \n",
    "2020-09-14\n",
    "\n",
    "### Inputs \n",
    " - `1.3-rec-connecting-fips-ecosystem-data.txt`\n",
    "\n",
    "### Output Files\n",
    "None\n",
    "\n",
    "## Steps or Proceedures in the notebook \n",
    " - Clean the CBC ecological data \n",
    " - Compare to NOAA data\n",
    " - Make some plots\n",
    "\n",
    "## Where the Data will Be Saved \n",
    "n/a\n",
    "\n",
    "## Notes\n",
    "While the snow notebook looked only at snowfall(`am/pm_snow` for volunteers and `snow` for GHCN), this notebook looks at (`min/max_snow` for volunteers and `snwd` for GHCN).\n",
    "Snowdepth measurements methods are likely highly variable from location to location and year to year, so this notebook simply discretizes the problem to see if any snow was on the ground during the observation period."
   ]
  },
  {
   "cell_type": "code",
   "execution_count": 1,
   "metadata": {},
   "outputs": [],
   "source": [
    "import os\n",
    "import numpy as np\n",
    "import pandas as pd\n",
    "import matplotlib.pyplot as plt\n",
    "import seaborn as sns"
   ]
  },
  {
   "cell_type": "code",
   "execution_count": 2,
   "metadata": {},
   "outputs": [],
   "source": [
    "import scipy.stats as stats"
   ]
  },
  {
   "cell_type": "code",
   "execution_count": 3,
   "metadata": {},
   "outputs": [],
   "source": [
    "import sklearn.metrics as metrics"
   ]
  },
  {
   "cell_type": "code",
   "execution_count": 4,
   "metadata": {},
   "outputs": [],
   "source": [
    "sns.set(style=\"darkgrid\")"
   ]
  },
  {
   "cell_type": "code",
   "execution_count": 5,
   "metadata": {},
   "outputs": [],
   "source": [
    "# get the haversine distance formula fromt the script (w/o executing the '__main__' part)\n",
    "%run -ni '../scripts/noaa.py'"
   ]
  },
  {
   "cell_type": "code",
   "execution_count": 6,
   "metadata": {},
   "outputs": [],
   "source": [
    "#\n",
    "# \n",
    "#\n",
    "\n",
    "# drop all stations farther than this threshold (meters)\n",
    "#  16km ~= 10 mi\n",
    "DISTANCE_THRESHOLD = 15000\n",
    "\n",
    "# drop all stations farther than this threshold (meters) in elevation\n",
    "#  the farthest is 3.5km, with the mean being 70m and median being 23m\n",
    "ELEVATION_THRESHOLD = 50\n",
    "\n",
    "# consider stations to consense on a snow value if a fraction of them or more all have the same reading\n",
    "# at the most abiguous, the fraction will be 0.5, so values are symmetric around 1/2: 0.25 in agreement is the same as 0.75 agreeing on the opposite\n",
    "AGREEMENT_THRESHOLD = 0.75\n",
    "AGREEMENT_THRESHOLD = max(AGREEMENT_THRESHOLD, 1 - AGREEMENT_THRESHOLD)"
   ]
  },
  {
   "cell_type": "code",
   "execution_count": 7,
   "metadata": {},
   "outputs": [],
   "source": [
    "DATA_PATH = '../data/Cloud_Data'\n",
    "ECO_DATA_PATH =  os.path.join(DATA_PATH, '1.3-rec-connecting-fips-ecosystem-data.txt')"
   ]
  },
  {
   "cell_type": "code",
   "execution_count": 8,
   "metadata": {},
   "outputs": [
    {
     "name": "stderr",
     "output_type": "stream",
     "text": [
      "/Users/rcdebaca/.pyenv/versions/funhacks371/lib/python3.7/site-packages/IPython/core/interactiveshell.py:3063: DtypeWarning: Columns (62,64,65,71,73,75,77) have mixed types.Specify dtype option on import or set low_memory=False.\n",
      "  interactivity=interactivity, compiler=compiler, result=result)\n"
     ]
    }
   ],
   "source": [
    "eco_data = pd.read_csv(ECO_DATA_PATH, encoding = \"ISO-8859-1\", sep=\"\\t\", compression = \"gzip\")\n",
    "eco_data = eco_data.rename(columns={'circle_name': 'c_name', 'circle_id': 'c_id',\n",
    "                                    'lat': 'c_lat', 'lon': 'c_lon', 'circle_elev': 'c_elev',\n",
    "                                    'Ecosys_circle': 'c_ecosys', 'Nlcd_code_circle': 'c_nlcdcode',\n",
    "                                    'id': 's_id', 'latitude': 's_lat', 'longitude': 's_lon', 'elevation': 's_elev',\n",
    "                                    'Ecosys_station': 's_ecosys', 'Nlcd_code_station': 's_nlcdcode',})"
   ]
  },
  {
   "cell_type": "code",
   "execution_count": 9,
   "metadata": {},
   "outputs": [],
   "source": [
    "# Drop all the other data that wont be needed\n",
    "prcp_data = eco_data.loc[:, ['count_date', 'c_name', 'ui','country_state', 'c_id', 'c_lat', 'c_lon',\n",
    "                              'min_snow', 'max_snow', 'c_elev', 'c_ecosys', 'c_nlcdcode',\n",
    "                              's_id', 's_lat', 's_lon', 's_elev', 's_ecosys', 's_nlcdcode','snwd',\n",
    "                             ]]"
   ]
  },
  {
   "cell_type": "code",
   "execution_count": 10,
   "metadata": {},
   "outputs": [
    {
     "data": {
      "text/plain": [
       "(756378, 19)"
      ]
     },
     "execution_count": 10,
     "metadata": {},
     "output_type": "execute_result"
    }
   ],
   "source": [
    "# Observe the Size of the data frame\n",
    "prcp_data.shape"
   ]
  },
  {
   "cell_type": "code",
   "execution_count": 11,
   "metadata": {},
   "outputs": [
    {
     "data": {
      "text/plain": [
       "80765"
      ]
     },
     "execution_count": 11,
     "metadata": {},
     "output_type": "execute_result"
    }
   ],
   "source": [
    "# Observe the number of unique circles in the dataframe \n",
    "prcp_data['ui'].nunique()"
   ]
  },
  {
   "cell_type": "code",
   "execution_count": 12,
   "metadata": {},
   "outputs": [
    {
     "data": {
      "text/html": [
       "<div>\n",
       "<style scoped>\n",
       "    .dataframe tbody tr th:only-of-type {\n",
       "        vertical-align: middle;\n",
       "    }\n",
       "\n",
       "    .dataframe tbody tr th {\n",
       "        vertical-align: top;\n",
       "    }\n",
       "\n",
       "    .dataframe thead th {\n",
       "        text-align: right;\n",
       "    }\n",
       "</style>\n",
       "<table border=\"1\" class=\"dataframe\">\n",
       "  <thead>\n",
       "    <tr style=\"text-align: right;\">\n",
       "      <th></th>\n",
       "      <th>count_date</th>\n",
       "      <th>c_name</th>\n",
       "      <th>ui</th>\n",
       "      <th>country_state</th>\n",
       "      <th>c_id</th>\n",
       "      <th>c_lat</th>\n",
       "      <th>c_lon</th>\n",
       "      <th>min_snow</th>\n",
       "      <th>max_snow</th>\n",
       "      <th>c_elev</th>\n",
       "      <th>c_ecosys</th>\n",
       "      <th>c_nlcdcode</th>\n",
       "      <th>s_id</th>\n",
       "      <th>s_lat</th>\n",
       "      <th>s_lon</th>\n",
       "      <th>s_elev</th>\n",
       "      <th>s_ecosys</th>\n",
       "      <th>s_nlcdcode</th>\n",
       "      <th>snwd</th>\n",
       "    </tr>\n",
       "  </thead>\n",
       "  <tbody>\n",
       "    <tr>\n",
       "      <th>0</th>\n",
       "      <td>1955-01-01</td>\n",
       "      <td>Hawai'i: Volcano N.P.</td>\n",
       "      <td>19.4333-155.2833_1955</td>\n",
       "      <td>US-HI</td>\n",
       "      <td>8e3wd3w</td>\n",
       "      <td>19.4333</td>\n",
       "      <td>-155.2833</td>\n",
       "      <td>NaN</td>\n",
       "      <td>NaN</td>\n",
       "      <td>1228.18</td>\n",
       "      <td>NaN</td>\n",
       "      <td>NaN</td>\n",
       "      <td>USC00511303</td>\n",
       "      <td>19.4297</td>\n",
       "      <td>-155.2561</td>\n",
       "      <td>1210.40</td>\n",
       "      <td>NaN</td>\n",
       "      <td>NaN</td>\n",
       "      <td>0.0</td>\n",
       "    </tr>\n",
       "    <tr>\n",
       "      <th>1</th>\n",
       "      <td>1955-12-31</td>\n",
       "      <td>Hawai'i: Volcano N.P.</td>\n",
       "      <td>19.4333-155.2833_1956</td>\n",
       "      <td>US-HI</td>\n",
       "      <td>8e3wd3w</td>\n",
       "      <td>19.4333</td>\n",
       "      <td>-155.2833</td>\n",
       "      <td>NaN</td>\n",
       "      <td>NaN</td>\n",
       "      <td>1228.18</td>\n",
       "      <td>NaN</td>\n",
       "      <td>NaN</td>\n",
       "      <td>USC00511303</td>\n",
       "      <td>19.4297</td>\n",
       "      <td>-155.2561</td>\n",
       "      <td>1210.40</td>\n",
       "      <td>NaN</td>\n",
       "      <td>NaN</td>\n",
       "      <td>0.0</td>\n",
       "    </tr>\n",
       "    <tr>\n",
       "      <th>2</th>\n",
       "      <td>1967-12-30</td>\n",
       "      <td>Hawai'i: Volcano N.P.</td>\n",
       "      <td>19.4333-155.2833_1968</td>\n",
       "      <td>US-HI</td>\n",
       "      <td>8e3wd3w</td>\n",
       "      <td>19.4333</td>\n",
       "      <td>-155.2833</td>\n",
       "      <td>0.0</td>\n",
       "      <td>0.0</td>\n",
       "      <td>1228.18</td>\n",
       "      <td>NaN</td>\n",
       "      <td>NaN</td>\n",
       "      <td>US1HIHI0013</td>\n",
       "      <td>19.4391</td>\n",
       "      <td>-155.2156</td>\n",
       "      <td>1059.20</td>\n",
       "      <td>NaN</td>\n",
       "      <td>NaN</td>\n",
       "      <td>NaN</td>\n",
       "    </tr>\n",
       "    <tr>\n",
       "      <th>3</th>\n",
       "      <td>1967-12-30</td>\n",
       "      <td>Hawai'i: Volcano N.P.</td>\n",
       "      <td>19.4333-155.2833_1968</td>\n",
       "      <td>US-HI</td>\n",
       "      <td>8e3wd3w</td>\n",
       "      <td>19.4333</td>\n",
       "      <td>-155.2833</td>\n",
       "      <td>0.0</td>\n",
       "      <td>0.0</td>\n",
       "      <td>1228.18</td>\n",
       "      <td>NaN</td>\n",
       "      <td>NaN</td>\n",
       "      <td>US1HIHI0071</td>\n",
       "      <td>19.4414</td>\n",
       "      <td>-155.2487</td>\n",
       "      <td>1194.80</td>\n",
       "      <td>NaN</td>\n",
       "      <td>NaN</td>\n",
       "      <td>NaN</td>\n",
       "    </tr>\n",
       "    <tr>\n",
       "      <th>4</th>\n",
       "      <td>1967-12-30</td>\n",
       "      <td>Hawai'i: Volcano N.P.</td>\n",
       "      <td>19.4333-155.2833_1968</td>\n",
       "      <td>US-HI</td>\n",
       "      <td>8e3wd3w</td>\n",
       "      <td>19.4333</td>\n",
       "      <td>-155.2833</td>\n",
       "      <td>0.0</td>\n",
       "      <td>0.0</td>\n",
       "      <td>1228.18</td>\n",
       "      <td>NaN</td>\n",
       "      <td>NaN</td>\n",
       "      <td>USC00514563</td>\n",
       "      <td>19.4094</td>\n",
       "      <td>-155.2608</td>\n",
       "      <td>1079.87</td>\n",
       "      <td>NaN</td>\n",
       "      <td>NaN</td>\n",
       "      <td>NaN</td>\n",
       "    </tr>\n",
       "  </tbody>\n",
       "</table>\n",
       "</div>"
      ],
      "text/plain": [
       "   count_date                 c_name                     ui country_state  \\\n",
       "0  1955-01-01  Hawai'i: Volcano N.P.  19.4333-155.2833_1955         US-HI   \n",
       "1  1955-12-31  Hawai'i: Volcano N.P.  19.4333-155.2833_1956         US-HI   \n",
       "2  1967-12-30  Hawai'i: Volcano N.P.  19.4333-155.2833_1968         US-HI   \n",
       "3  1967-12-30  Hawai'i: Volcano N.P.  19.4333-155.2833_1968         US-HI   \n",
       "4  1967-12-30  Hawai'i: Volcano N.P.  19.4333-155.2833_1968         US-HI   \n",
       "\n",
       "      c_id    c_lat     c_lon  min_snow  max_snow   c_elev  c_ecosys  \\\n",
       "0  8e3wd3w  19.4333 -155.2833       NaN       NaN  1228.18       NaN   \n",
       "1  8e3wd3w  19.4333 -155.2833       NaN       NaN  1228.18       NaN   \n",
       "2  8e3wd3w  19.4333 -155.2833       0.0       0.0  1228.18       NaN   \n",
       "3  8e3wd3w  19.4333 -155.2833       0.0       0.0  1228.18       NaN   \n",
       "4  8e3wd3w  19.4333 -155.2833       0.0       0.0  1228.18       NaN   \n",
       "\n",
       "   c_nlcdcode         s_id    s_lat     s_lon   s_elev  s_ecosys  s_nlcdcode  \\\n",
       "0         NaN  USC00511303  19.4297 -155.2561  1210.40       NaN         NaN   \n",
       "1         NaN  USC00511303  19.4297 -155.2561  1210.40       NaN         NaN   \n",
       "2         NaN  US1HIHI0013  19.4391 -155.2156  1059.20       NaN         NaN   \n",
       "3         NaN  US1HIHI0071  19.4414 -155.2487  1194.80       NaN         NaN   \n",
       "4         NaN  USC00514563  19.4094 -155.2608  1079.87       NaN         NaN   \n",
       "\n",
       "   snwd  \n",
       "0   0.0  \n",
       "1   0.0  \n",
       "2   NaN  \n",
       "3   NaN  \n",
       "4   NaN  "
      ]
     },
     "execution_count": 12,
     "metadata": {},
     "output_type": "execute_result"
    }
   ],
   "source": [
    "prcp_data.head()"
   ]
  },
  {
   "cell_type": "markdown",
   "metadata": {},
   "source": [
    "## Data Prep"
   ]
  },
  {
   "cell_type": "markdown",
   "metadata": {},
   "source": [
    "#### Stations Reporting Snow"
   ]
  },
  {
   "cell_type": "code",
   "execution_count": 13,
   "metadata": {},
   "outputs": [],
   "source": [
    "# Create the field s_snwd which is True if the row (station) has a value of snwd \n",
    "# greater than 0 (an indicator that snow did accumulate) and is NA otherwise\n",
    "\n",
    "# pd.NA preserved int-ness of bools, so they are not converted to floats, and supports three-valued (kleene) logic\n",
    "prcp_data['s_snwd'] = np.where(prcp_data.snwd.isna(), pd.NA, prcp_data.snwd > 0)\n",
    "prcp_data['s_snwd'] = prcp_data.s_snwd.astype('boolean')"
   ]
  },
  {
   "cell_type": "markdown",
   "metadata": {},
   "source": [
    "#### Volunteer records on snow data"
   ]
  },
  {
   "cell_type": "markdown",
   "metadata": {},
   "source": [
    "how clean are min_snow and max_snow in relation to each other?"
   ]
  },
  {
   "cell_type": "code",
   "execution_count": 14,
   "metadata": {},
   "outputs": [
    {
     "data": {
      "text/plain": [
       "17"
      ]
     },
     "execution_count": 14,
     "metadata": {},
     "output_type": "execute_result"
    }
   ],
   "source": [
    "# How many cases are there where min snowdepth is greater than max snowdepth?\n",
    "sum(prcp_data.min_snow > prcp_data.max_snow)"
   ]
  },
  {
   "cell_type": "code",
   "execution_count": 15,
   "metadata": {},
   "outputs": [
    {
     "data": {
      "text/plain": [
       "1"
      ]
     },
     "execution_count": 15,
     "metadata": {},
     "output_type": "execute_result"
    }
   ],
   "source": [
    "# How many cases are there where min snowdepth > 0, but max snowdepth = 0?\n",
    "((prcp_data.min_snow > 0) & (prcp_data.max_snow == 0)).sum()"
   ]
  },
  {
   "cell_type": "code",
   "execution_count": 16,
   "metadata": {},
   "outputs": [
    {
     "data": {
      "text/plain": [
       "270"
      ]
     },
     "execution_count": 16,
     "metadata": {},
     "output_type": "execute_result"
    }
   ],
   "source": [
    "# How many cases are there where min snowdepth > 0, but max snowdepth is NA?\n",
    "((prcp_data.min_snow > 0) & (prcp_data.max_snow.isna())).sum()"
   ]
  },
  {
   "cell_type": "code",
   "execution_count": 17,
   "metadata": {},
   "outputs": [
    {
     "data": {
      "text/plain": [
       "3097"
      ]
     },
     "execution_count": 17,
     "metadata": {},
     "output_type": "execute_result"
    }
   ],
   "source": [
    "# How many cases are there where min snowdepth is na, but max is > 0?\n",
    "# (if min snow is na, one would want to assume there was no snowfall at all, but that seems to not be the case)\n",
    "((prcp_data.min_snow.isna()) & (prcp_data.max_snow > 0)).sum()"
   ]
  },
  {
   "cell_type": "code",
   "execution_count": 18,
   "metadata": {},
   "outputs": [],
   "source": [
    "# Based on the above, lets assume there was snow (according to the volunteers) if either [min|max]_snow > 0\n",
    "# since we cant support `max_snow == 0 or na --> min_snow == 0`.\n",
    "# Create the field c_snwd.\n",
    "# c_snwd will be NA if  if min_snow or max_snow is NA\n",
    "# If will be True if min_snow and max_snow are greater than 0 (snow on ground) and False otherwise.\n",
    "prcp_data['c_snwd'] = np.where((prcp_data.min_snow.isna() & prcp_data.max_snow.isna()), pd.NA, ((prcp_data.min_snow > 0) | (prcp_data.max_snow > 0)))\n",
    "\n"
   ]
  },
  {
   "cell_type": "code",
   "execution_count": 19,
   "metadata": {},
   "outputs": [
    {
     "data": {
      "text/plain": [
       "False    441371\n",
       "True     250502\n",
       "NaN       64505\n",
       "Name: c_snwd, dtype: int64"
      ]
     },
     "execution_count": 19,
     "metadata": {},
     "output_type": "execute_result"
    }
   ],
   "source": [
    "# Check on the Results\n",
    "prcp_data['c_snwd'].value_counts(dropna = False)"
   ]
  },
  {
   "cell_type": "markdown",
   "metadata": {},
   "source": [
    "## Comparing stations and circles\n",
    "1. Calulate the distance between the station and the circle. Field is 'distance' \n",
    "2. Calulate the absolute change in elivation between the station and the circle. Field is 'd_elev'\n",
    "3. Calulate if station and circle share ecosystem. Fields 'same_ecosys' and 'same_nlcd'"
   ]
  },
  {
   "cell_type": "code",
   "execution_count": 20,
   "metadata": {},
   "outputs": [],
   "source": [
    "prcp_data['distance'] = prcp_data.apply(lambda tt: haversine_formula((tt.c_lat, tt.c_lon), (tt.s_lat, tt.s_lon)), axis=1)"
   ]
  },
  {
   "cell_type": "code",
   "execution_count": 21,
   "metadata": {},
   "outputs": [],
   "source": [
    "prcp_data['d_elev'] = np.abs(prcp_data.s_elev - prcp_data.c_elev)"
   ]
  },
  {
   "cell_type": "code",
   "execution_count": 22,
   "metadata": {},
   "outputs": [],
   "source": [
    "# convert to int array to get nullable boolean arrays\n",
    "#  https://pandas.pydata.org/pandas-docs/stable/user_guide/boolean.html#kleene-logical-operations\n",
    "prcp_data['same_ecosys'] = prcp_data.c_ecosys.astype('Int64') == prcp_data.s_ecosys.astype('Int64')\n",
    "prcp_data['same_nlcd'] = prcp_data.c_nlcdcode.astype('Int64') == prcp_data.s_nlcdcode.astype('Int64')"
   ]
  },
  {
   "cell_type": "code",
   "execution_count": 23,
   "metadata": {},
   "outputs": [
    {
     "data": {
      "text/html": [
       "<div>\n",
       "<style scoped>\n",
       "    .dataframe tbody tr th:only-of-type {\n",
       "        vertical-align: middle;\n",
       "    }\n",
       "\n",
       "    .dataframe tbody tr th {\n",
       "        vertical-align: top;\n",
       "    }\n",
       "\n",
       "    .dataframe thead th {\n",
       "        text-align: right;\n",
       "    }\n",
       "</style>\n",
       "<table border=\"1\" class=\"dataframe\">\n",
       "  <thead>\n",
       "    <tr style=\"text-align: right;\">\n",
       "      <th></th>\n",
       "      <th>count_date</th>\n",
       "      <th>c_name</th>\n",
       "      <th>ui</th>\n",
       "      <th>country_state</th>\n",
       "      <th>c_id</th>\n",
       "      <th>c_lat</th>\n",
       "      <th>c_lon</th>\n",
       "      <th>min_snow</th>\n",
       "      <th>max_snow</th>\n",
       "      <th>c_elev</th>\n",
       "      <th>...</th>\n",
       "      <th>s_elev</th>\n",
       "      <th>s_ecosys</th>\n",
       "      <th>s_nlcdcode</th>\n",
       "      <th>snwd</th>\n",
       "      <th>s_snwd</th>\n",
       "      <th>c_snwd</th>\n",
       "      <th>distance</th>\n",
       "      <th>d_elev</th>\n",
       "      <th>same_ecosys</th>\n",
       "      <th>same_nlcd</th>\n",
       "    </tr>\n",
       "  </thead>\n",
       "  <tbody>\n",
       "    <tr>\n",
       "      <th>756373</th>\n",
       "      <td>2004-01-05</td>\n",
       "      <td>Sanningaruq</td>\n",
       "      <td>67.0833-162.9667_2004</td>\n",
       "      <td>US-AK</td>\n",
       "      <td>b7ujes5</td>\n",
       "      <td>67.0833</td>\n",
       "      <td>-162.9667</td>\n",
       "      <td>12.0</td>\n",
       "      <td>30.0</td>\n",
       "      <td>22.33</td>\n",
       "      <td>...</td>\n",
       "      <td>246.6</td>\n",
       "      <td>NaN</td>\n",
       "      <td>NaN</td>\n",
       "      <td>NaN</td>\n",
       "      <td>&lt;NA&gt;</td>\n",
       "      <td>True</td>\n",
       "      <td>6572.406249</td>\n",
       "      <td>224.27</td>\n",
       "      <td>&lt;NA&gt;</td>\n",
       "      <td>&lt;NA&gt;</td>\n",
       "    </tr>\n",
       "    <tr>\n",
       "      <th>756374</th>\n",
       "      <td>1985-01-01</td>\n",
       "      <td>Sanningaruq</td>\n",
       "      <td>67.1-162.8333_1985</td>\n",
       "      <td>US-AK</td>\n",
       "      <td>b7ujwxh</td>\n",
       "      <td>67.1000</td>\n",
       "      <td>-162.8333</td>\n",
       "      <td>6.0</td>\n",
       "      <td>36.0</td>\n",
       "      <td>42.54</td>\n",
       "      <td>...</td>\n",
       "      <td>246.6</td>\n",
       "      <td>NaN</td>\n",
       "      <td>NaN</td>\n",
       "      <td>NaN</td>\n",
       "      <td>&lt;NA&gt;</td>\n",
       "      <td>True</td>\n",
       "      <td>8350.871934</td>\n",
       "      <td>204.06</td>\n",
       "      <td>&lt;NA&gt;</td>\n",
       "      <td>&lt;NA&gt;</td>\n",
       "    </tr>\n",
       "    <tr>\n",
       "      <th>756375</th>\n",
       "      <td>1985-12-21</td>\n",
       "      <td>Sanningaruq</td>\n",
       "      <td>67.1-162.8333_1986</td>\n",
       "      <td>US-AK</td>\n",
       "      <td>b7ujwxh</td>\n",
       "      <td>67.1000</td>\n",
       "      <td>-162.8333</td>\n",
       "      <td>1.0</td>\n",
       "      <td>18.0</td>\n",
       "      <td>42.54</td>\n",
       "      <td>...</td>\n",
       "      <td>246.6</td>\n",
       "      <td>NaN</td>\n",
       "      <td>NaN</td>\n",
       "      <td>NaN</td>\n",
       "      <td>&lt;NA&gt;</td>\n",
       "      <td>True</td>\n",
       "      <td>8350.871934</td>\n",
       "      <td>204.06</td>\n",
       "      <td>&lt;NA&gt;</td>\n",
       "      <td>&lt;NA&gt;</td>\n",
       "    </tr>\n",
       "    <tr>\n",
       "      <th>756376</th>\n",
       "      <td>1986-12-18</td>\n",
       "      <td>Sanningaruq</td>\n",
       "      <td>67.1-162.8333_1987</td>\n",
       "      <td>US-AK</td>\n",
       "      <td>b7ujwxh</td>\n",
       "      <td>67.1000</td>\n",
       "      <td>-162.8333</td>\n",
       "      <td>18.0</td>\n",
       "      <td>30.0</td>\n",
       "      <td>42.54</td>\n",
       "      <td>...</td>\n",
       "      <td>246.6</td>\n",
       "      <td>NaN</td>\n",
       "      <td>NaN</td>\n",
       "      <td>NaN</td>\n",
       "      <td>&lt;NA&gt;</td>\n",
       "      <td>True</td>\n",
       "      <td>8350.871934</td>\n",
       "      <td>204.06</td>\n",
       "      <td>&lt;NA&gt;</td>\n",
       "      <td>&lt;NA&gt;</td>\n",
       "    </tr>\n",
       "    <tr>\n",
       "      <th>756377</th>\n",
       "      <td>1975-12-28</td>\n",
       "      <td>Point Barrow</td>\n",
       "      <td>71.3333-156.6667_1976</td>\n",
       "      <td>US-AK</td>\n",
       "      <td>bs8tfcy</td>\n",
       "      <td>71.3333</td>\n",
       "      <td>-156.6667</td>\n",
       "      <td>NaN</td>\n",
       "      <td>NaN</td>\n",
       "      <td>0.31</td>\n",
       "      <td>...</td>\n",
       "      <td>9.4</td>\n",
       "      <td>NaN</td>\n",
       "      <td>NaN</td>\n",
       "      <td>102.0</td>\n",
       "      <td>True</td>\n",
       "      <td>&lt;NA&gt;</td>\n",
       "      <td>6902.479389</td>\n",
       "      <td>9.09</td>\n",
       "      <td>&lt;NA&gt;</td>\n",
       "      <td>&lt;NA&gt;</td>\n",
       "    </tr>\n",
       "  </tbody>\n",
       "</table>\n",
       "<p>5 rows × 25 columns</p>\n",
       "</div>"
      ],
      "text/plain": [
       "        count_date        c_name                     ui country_state  \\\n",
       "756373  2004-01-05   Sanningaruq  67.0833-162.9667_2004         US-AK   \n",
       "756374  1985-01-01   Sanningaruq     67.1-162.8333_1985         US-AK   \n",
       "756375  1985-12-21   Sanningaruq     67.1-162.8333_1986         US-AK   \n",
       "756376  1986-12-18   Sanningaruq     67.1-162.8333_1987         US-AK   \n",
       "756377  1975-12-28  Point Barrow  71.3333-156.6667_1976         US-AK   \n",
       "\n",
       "           c_id    c_lat     c_lon  min_snow  max_snow  c_elev  ...  s_elev  \\\n",
       "756373  b7ujes5  67.0833 -162.9667      12.0      30.0   22.33  ...   246.6   \n",
       "756374  b7ujwxh  67.1000 -162.8333       6.0      36.0   42.54  ...   246.6   \n",
       "756375  b7ujwxh  67.1000 -162.8333       1.0      18.0   42.54  ...   246.6   \n",
       "756376  b7ujwxh  67.1000 -162.8333      18.0      30.0   42.54  ...   246.6   \n",
       "756377  bs8tfcy  71.3333 -156.6667       NaN       NaN    0.31  ...     9.4   \n",
       "\n",
       "        s_ecosys s_nlcdcode   snwd  s_snwd  c_snwd     distance  d_elev  \\\n",
       "756373       NaN        NaN    NaN    <NA>    True  6572.406249  224.27   \n",
       "756374       NaN        NaN    NaN    <NA>    True  8350.871934  204.06   \n",
       "756375       NaN        NaN    NaN    <NA>    True  8350.871934  204.06   \n",
       "756376       NaN        NaN    NaN    <NA>    True  8350.871934  204.06   \n",
       "756377       NaN        NaN  102.0    True    <NA>  6902.479389    9.09   \n",
       "\n",
       "        same_ecosys  same_nlcd  \n",
       "756373         <NA>       <NA>  \n",
       "756374         <NA>       <NA>  \n",
       "756375         <NA>       <NA>  \n",
       "756376         <NA>       <NA>  \n",
       "756377         <NA>       <NA>  \n",
       "\n",
       "[5 rows x 25 columns]"
      ]
     },
     "execution_count": 23,
     "metadata": {},
     "output_type": "execute_result"
    }
   ],
   "source": [
    "prcp_data.tail()"
   ]
  },
  {
   "cell_type": "markdown",
   "metadata": {},
   "source": [
    "## Apply Data Limits on Elevation and Distance and Prep for Analysis \n",
    "1. Drop rows where the circle and the station are too far away from each other in either distance or elivation\n",
    "2. Remove columns we dont need\n",
    "3. Sort the dataset by circle then station"
   ]
  },
  {
   "cell_type": "code",
   "execution_count": 24,
   "metadata": {},
   "outputs": [],
   "source": [
    "# drop everything outside of the distance or elevation threshold\n",
    "prcp_data.drop(prcp_data[prcp_data.distance > DISTANCE_THRESHOLD].index, inplace=True)\n",
    "prcp_data.drop(prcp_data[prcp_data.d_elev > ELEVATION_THRESHOLD].index, inplace=True)"
   ]
  },
  {
   "cell_type": "code",
   "execution_count": 25,
   "metadata": {},
   "outputs": [],
   "source": [
    "# once again dump excess data\n",
    "prcp_data.drop(columns=['min_snow', 'max_snow','c_elev', 'c_ecosys', 'c_nlcdcode', \n",
    "                        's_elev', 's_ecosys', 's_nlcdcode','snwd',], inplace=True)"
   ]
  },
  {
   "cell_type": "code",
   "execution_count": 26,
   "metadata": {},
   "outputs": [],
   "source": [
    "# isolate only the circle specific volunteer data\n",
    "circle_obs = prcp_data[['count_date', 'c_name', 'ui','country_state', \n",
    "                        'c_id', 'c_lat', 'c_lon','c_snwd']].groupby(['c_id', 'count_date']).agg('first')"
   ]
  },
  {
   "cell_type": "code",
   "execution_count": 27,
   "metadata": {},
   "outputs": [
    {
     "data": {
      "text/html": [
       "<div>\n",
       "<style scoped>\n",
       "    .dataframe tbody tr th:only-of-type {\n",
       "        vertical-align: middle;\n",
       "    }\n",
       "\n",
       "    .dataframe tbody tr th {\n",
       "        vertical-align: top;\n",
       "    }\n",
       "\n",
       "    .dataframe thead th {\n",
       "        text-align: right;\n",
       "    }\n",
       "</style>\n",
       "<table border=\"1\" class=\"dataframe\">\n",
       "  <thead>\n",
       "    <tr style=\"text-align: right;\">\n",
       "      <th></th>\n",
       "      <th></th>\n",
       "      <th>c_name</th>\n",
       "      <th>ui</th>\n",
       "      <th>country_state</th>\n",
       "      <th>c_lat</th>\n",
       "      <th>c_lon</th>\n",
       "      <th>c_snwd</th>\n",
       "    </tr>\n",
       "    <tr>\n",
       "      <th>c_id</th>\n",
       "      <th>count_date</th>\n",
       "      <th></th>\n",
       "      <th></th>\n",
       "      <th></th>\n",
       "      <th></th>\n",
       "      <th></th>\n",
       "      <th></th>\n",
       "    </tr>\n",
       "  </thead>\n",
       "  <tbody>\n",
       "    <tr>\n",
       "      <th>87ymwsn</th>\n",
       "      <th>1968-12-26</th>\n",
       "      <td>Kaua'i: Waimea</td>\n",
       "      <td>22.0833-159.6667_1969</td>\n",
       "      <td>US-HI</td>\n",
       "      <td>22.083300</td>\n",
       "      <td>-159.666700</td>\n",
       "      <td>False</td>\n",
       "    </tr>\n",
       "    <tr>\n",
       "      <th rowspan=\"21\" valign=\"top\">87ysunb</th>\n",
       "      <th>1971-12-27</th>\n",
       "      <td>Kaua'i: Lihu'e</td>\n",
       "      <td>21.9667-159.4333_1972</td>\n",
       "      <td>US-HI</td>\n",
       "      <td>21.966700</td>\n",
       "      <td>-159.433300</td>\n",
       "      <td>False</td>\n",
       "    </tr>\n",
       "    <tr>\n",
       "      <th>1972-12-17</th>\n",
       "      <td>Kaua'i: Lihu'e</td>\n",
       "      <td>21.9667-159.4333_1973</td>\n",
       "      <td>US-HI</td>\n",
       "      <td>21.966700</td>\n",
       "      <td>-159.433300</td>\n",
       "      <td>False</td>\n",
       "    </tr>\n",
       "    <tr>\n",
       "      <th>1973-12-16</th>\n",
       "      <td>Kaua'i: Lihu'e</td>\n",
       "      <td>21.9667-159.4333_1974</td>\n",
       "      <td>US-HI</td>\n",
       "      <td>21.966700</td>\n",
       "      <td>-159.433300</td>\n",
       "      <td>False</td>\n",
       "    </tr>\n",
       "    <tr>\n",
       "      <th>1974-12-15</th>\n",
       "      <td>Kaua'i: Lihu'e</td>\n",
       "      <td>21.9667-159.4333_1975</td>\n",
       "      <td>US-HI</td>\n",
       "      <td>21.966700</td>\n",
       "      <td>-159.433300</td>\n",
       "      <td>False</td>\n",
       "    </tr>\n",
       "    <tr>\n",
       "      <th>1976-01-04</th>\n",
       "      <td>Kaua'i: Lihu'e</td>\n",
       "      <td>21.9667-159.4333_1976</td>\n",
       "      <td>US-HI</td>\n",
       "      <td>21.966700</td>\n",
       "      <td>-159.433300</td>\n",
       "      <td>False</td>\n",
       "    </tr>\n",
       "    <tr>\n",
       "      <th>1976-12-18</th>\n",
       "      <td>Kaua'i: Lihu'e</td>\n",
       "      <td>21.9667-159.4333_1977</td>\n",
       "      <td>US-HI</td>\n",
       "      <td>21.966700</td>\n",
       "      <td>-159.433300</td>\n",
       "      <td>False</td>\n",
       "    </tr>\n",
       "    <tr>\n",
       "      <th>1977-12-17</th>\n",
       "      <td>Kaua'i: Lihu'e</td>\n",
       "      <td>21.9667-159.4333_1978</td>\n",
       "      <td>US-HI</td>\n",
       "      <td>21.966700</td>\n",
       "      <td>-159.433300</td>\n",
       "      <td>False</td>\n",
       "    </tr>\n",
       "    <tr>\n",
       "      <th>1978-12-16</th>\n",
       "      <td>Kaua'i: Lihu'e</td>\n",
       "      <td>21.9667-159.4333_1979</td>\n",
       "      <td>US-HI</td>\n",
       "      <td>21.966700</td>\n",
       "      <td>-159.433300</td>\n",
       "      <td>False</td>\n",
       "    </tr>\n",
       "    <tr>\n",
       "      <th>1979-12-15</th>\n",
       "      <td>Kaua'i: Lihu'e</td>\n",
       "      <td>21.9667-159.4333_1980</td>\n",
       "      <td>US-HI</td>\n",
       "      <td>21.966700</td>\n",
       "      <td>-159.433300</td>\n",
       "      <td>False</td>\n",
       "    </tr>\n",
       "    <tr>\n",
       "      <th>1980-12-20</th>\n",
       "      <td>Kaua'i: Lihu'e</td>\n",
       "      <td>21.9667-159.4333_1981</td>\n",
       "      <td>US-HI</td>\n",
       "      <td>21.966700</td>\n",
       "      <td>-159.433300</td>\n",
       "      <td>False</td>\n",
       "    </tr>\n",
       "    <tr>\n",
       "      <th>1981-12-19</th>\n",
       "      <td>Kaua'i: Lihu'e</td>\n",
       "      <td>21.9667-159.4333_1982</td>\n",
       "      <td>US-HI</td>\n",
       "      <td>21.966700</td>\n",
       "      <td>-159.433300</td>\n",
       "      <td>False</td>\n",
       "    </tr>\n",
       "    <tr>\n",
       "      <th>1982-12-18</th>\n",
       "      <td>Kaua'i: Lihu'e</td>\n",
       "      <td>21.9667-159.4333_1983</td>\n",
       "      <td>US-HI</td>\n",
       "      <td>21.966700</td>\n",
       "      <td>-159.433300</td>\n",
       "      <td>False</td>\n",
       "    </tr>\n",
       "    <tr>\n",
       "      <th>1983-12-17</th>\n",
       "      <td>Kaua'i: Lihu'e</td>\n",
       "      <td>21.9667-159.4333_1984</td>\n",
       "      <td>US-HI</td>\n",
       "      <td>21.966700</td>\n",
       "      <td>-159.433300</td>\n",
       "      <td>False</td>\n",
       "    </tr>\n",
       "    <tr>\n",
       "      <th>1984-12-15</th>\n",
       "      <td>Kaua'i: Lihu'e</td>\n",
       "      <td>21.9667-159.4333_1985</td>\n",
       "      <td>US-HI</td>\n",
       "      <td>21.966700</td>\n",
       "      <td>-159.433300</td>\n",
       "      <td>False</td>\n",
       "    </tr>\n",
       "    <tr>\n",
       "      <th>1985-12-21</th>\n",
       "      <td>Kaua'i: Lihu'e</td>\n",
       "      <td>21.9667-159.4333_1986</td>\n",
       "      <td>US-HI</td>\n",
       "      <td>21.966700</td>\n",
       "      <td>-159.433300</td>\n",
       "      <td>False</td>\n",
       "    </tr>\n",
       "    <tr>\n",
       "      <th>1986-12-20</th>\n",
       "      <td>Kaua'i: Lihu'e</td>\n",
       "      <td>21.9667-159.4333_1987</td>\n",
       "      <td>US-HI</td>\n",
       "      <td>21.966700</td>\n",
       "      <td>-159.433300</td>\n",
       "      <td>False</td>\n",
       "    </tr>\n",
       "    <tr>\n",
       "      <th>1987-12-19</th>\n",
       "      <td>Kaua'i: Lihu'e</td>\n",
       "      <td>21.9667-159.4333_1988</td>\n",
       "      <td>US-HI</td>\n",
       "      <td>21.966700</td>\n",
       "      <td>-159.433300</td>\n",
       "      <td>False</td>\n",
       "    </tr>\n",
       "    <tr>\n",
       "      <th>1988-12-17</th>\n",
       "      <td>Kaua'i: Lihu'e</td>\n",
       "      <td>21.9667-159.4333_1989</td>\n",
       "      <td>US-HI</td>\n",
       "      <td>21.966700</td>\n",
       "      <td>-159.433300</td>\n",
       "      <td>False</td>\n",
       "    </tr>\n",
       "    <tr>\n",
       "      <th>1989-12-16</th>\n",
       "      <td>Kaua'i: Lihu'e</td>\n",
       "      <td>21.9667-159.4333_1990</td>\n",
       "      <td>US-HI</td>\n",
       "      <td>21.966700</td>\n",
       "      <td>-159.433300</td>\n",
       "      <td>False</td>\n",
       "    </tr>\n",
       "    <tr>\n",
       "      <th>1990-12-15</th>\n",
       "      <td>Kaua'i: Lihu'e</td>\n",
       "      <td>21.9667-159.4333_1991</td>\n",
       "      <td>US-HI</td>\n",
       "      <td>21.966700</td>\n",
       "      <td>-159.433300</td>\n",
       "      <td>False</td>\n",
       "    </tr>\n",
       "    <tr>\n",
       "      <th>1992-12-19</th>\n",
       "      <td>Kaua'i: Lihu'e</td>\n",
       "      <td>21.9667-159.4333_1993</td>\n",
       "      <td>US-HI</td>\n",
       "      <td>21.966700</td>\n",
       "      <td>-159.433300</td>\n",
       "      <td>False</td>\n",
       "    </tr>\n",
       "    <tr>\n",
       "      <th rowspan=\"8\" valign=\"top\">87zc96n</th>\n",
       "      <th>1939-12-24</th>\n",
       "      <td>O'ahu: Honolulu</td>\n",
       "      <td>21.369211-157.78739099999999_1940</td>\n",
       "      <td>US-HI</td>\n",
       "      <td>21.369211</td>\n",
       "      <td>-157.787391</td>\n",
       "      <td>NaN</td>\n",
       "    </tr>\n",
       "    <tr>\n",
       "      <th>1940-12-22</th>\n",
       "      <td>O'ahu: Honolulu</td>\n",
       "      <td>21.369211-157.78739099999999_1941</td>\n",
       "      <td>US-HI</td>\n",
       "      <td>21.369211</td>\n",
       "      <td>-157.787391</td>\n",
       "      <td>NaN</td>\n",
       "    </tr>\n",
       "    <tr>\n",
       "      <th>1944-12-17</th>\n",
       "      <td>O'ahu: Honolulu</td>\n",
       "      <td>21.369211-157.78739099999999_1945</td>\n",
       "      <td>US-HI</td>\n",
       "      <td>21.369211</td>\n",
       "      <td>-157.787391</td>\n",
       "      <td>NaN</td>\n",
       "    </tr>\n",
       "    <tr>\n",
       "      <th>1945-12-23</th>\n",
       "      <td>O'ahu: Honolulu</td>\n",
       "      <td>21.369211-157.78739099999999_1946</td>\n",
       "      <td>US-HI</td>\n",
       "      <td>21.369211</td>\n",
       "      <td>-157.787391</td>\n",
       "      <td>NaN</td>\n",
       "    </tr>\n",
       "    <tr>\n",
       "      <th>1946-12-29</th>\n",
       "      <td>O'ahu: Honolulu</td>\n",
       "      <td>21.369211-157.78739099999999_1947</td>\n",
       "      <td>US-HI</td>\n",
       "      <td>21.369211</td>\n",
       "      <td>-157.787391</td>\n",
       "      <td>NaN</td>\n",
       "    </tr>\n",
       "    <tr>\n",
       "      <th>1947-12-21</th>\n",
       "      <td>O'ahu: Honolulu</td>\n",
       "      <td>21.369211-157.78739099999999_1948</td>\n",
       "      <td>US-HI</td>\n",
       "      <td>21.369211</td>\n",
       "      <td>-157.787391</td>\n",
       "      <td>NaN</td>\n",
       "    </tr>\n",
       "    <tr>\n",
       "      <th>1948-12-26</th>\n",
       "      <td>O'ahu: Honolulu</td>\n",
       "      <td>21.369211-157.78739099999999_1949</td>\n",
       "      <td>US-HI</td>\n",
       "      <td>21.369211</td>\n",
       "      <td>-157.787391</td>\n",
       "      <td>NaN</td>\n",
       "    </tr>\n",
       "    <tr>\n",
       "      <th>1949-12-26</th>\n",
       "      <td>O'ahu: Honolulu</td>\n",
       "      <td>21.369211-157.78739099999999_1950</td>\n",
       "      <td>US-HI</td>\n",
       "      <td>21.369211</td>\n",
       "      <td>-157.787391</td>\n",
       "      <td>NaN</td>\n",
       "    </tr>\n",
       "  </tbody>\n",
       "</table>\n",
       "</div>"
      ],
      "text/plain": [
       "                             c_name                                 ui  \\\n",
       "c_id    count_date                                                       \n",
       "87ymwsn 1968-12-26   Kaua'i: Waimea              22.0833-159.6667_1969   \n",
       "87ysunb 1971-12-27   Kaua'i: Lihu'e              21.9667-159.4333_1972   \n",
       "        1972-12-17   Kaua'i: Lihu'e              21.9667-159.4333_1973   \n",
       "        1973-12-16   Kaua'i: Lihu'e              21.9667-159.4333_1974   \n",
       "        1974-12-15   Kaua'i: Lihu'e              21.9667-159.4333_1975   \n",
       "        1976-01-04   Kaua'i: Lihu'e              21.9667-159.4333_1976   \n",
       "        1976-12-18   Kaua'i: Lihu'e              21.9667-159.4333_1977   \n",
       "        1977-12-17   Kaua'i: Lihu'e              21.9667-159.4333_1978   \n",
       "        1978-12-16   Kaua'i: Lihu'e              21.9667-159.4333_1979   \n",
       "        1979-12-15   Kaua'i: Lihu'e              21.9667-159.4333_1980   \n",
       "        1980-12-20   Kaua'i: Lihu'e              21.9667-159.4333_1981   \n",
       "        1981-12-19   Kaua'i: Lihu'e              21.9667-159.4333_1982   \n",
       "        1982-12-18   Kaua'i: Lihu'e              21.9667-159.4333_1983   \n",
       "        1983-12-17   Kaua'i: Lihu'e              21.9667-159.4333_1984   \n",
       "        1984-12-15   Kaua'i: Lihu'e              21.9667-159.4333_1985   \n",
       "        1985-12-21   Kaua'i: Lihu'e              21.9667-159.4333_1986   \n",
       "        1986-12-20   Kaua'i: Lihu'e              21.9667-159.4333_1987   \n",
       "        1987-12-19   Kaua'i: Lihu'e              21.9667-159.4333_1988   \n",
       "        1988-12-17   Kaua'i: Lihu'e              21.9667-159.4333_1989   \n",
       "        1989-12-16   Kaua'i: Lihu'e              21.9667-159.4333_1990   \n",
       "        1990-12-15   Kaua'i: Lihu'e              21.9667-159.4333_1991   \n",
       "        1992-12-19   Kaua'i: Lihu'e              21.9667-159.4333_1993   \n",
       "87zc96n 1939-12-24  O'ahu: Honolulu  21.369211-157.78739099999999_1940   \n",
       "        1940-12-22  O'ahu: Honolulu  21.369211-157.78739099999999_1941   \n",
       "        1944-12-17  O'ahu: Honolulu  21.369211-157.78739099999999_1945   \n",
       "        1945-12-23  O'ahu: Honolulu  21.369211-157.78739099999999_1946   \n",
       "        1946-12-29  O'ahu: Honolulu  21.369211-157.78739099999999_1947   \n",
       "        1947-12-21  O'ahu: Honolulu  21.369211-157.78739099999999_1948   \n",
       "        1948-12-26  O'ahu: Honolulu  21.369211-157.78739099999999_1949   \n",
       "        1949-12-26  O'ahu: Honolulu  21.369211-157.78739099999999_1950   \n",
       "\n",
       "                   country_state      c_lat       c_lon c_snwd  \n",
       "c_id    count_date                                              \n",
       "87ymwsn 1968-12-26         US-HI  22.083300 -159.666700  False  \n",
       "87ysunb 1971-12-27         US-HI  21.966700 -159.433300  False  \n",
       "        1972-12-17         US-HI  21.966700 -159.433300  False  \n",
       "        1973-12-16         US-HI  21.966700 -159.433300  False  \n",
       "        1974-12-15         US-HI  21.966700 -159.433300  False  \n",
       "        1976-01-04         US-HI  21.966700 -159.433300  False  \n",
       "        1976-12-18         US-HI  21.966700 -159.433300  False  \n",
       "        1977-12-17         US-HI  21.966700 -159.433300  False  \n",
       "        1978-12-16         US-HI  21.966700 -159.433300  False  \n",
       "        1979-12-15         US-HI  21.966700 -159.433300  False  \n",
       "        1980-12-20         US-HI  21.966700 -159.433300  False  \n",
       "        1981-12-19         US-HI  21.966700 -159.433300  False  \n",
       "        1982-12-18         US-HI  21.966700 -159.433300  False  \n",
       "        1983-12-17         US-HI  21.966700 -159.433300  False  \n",
       "        1984-12-15         US-HI  21.966700 -159.433300  False  \n",
       "        1985-12-21         US-HI  21.966700 -159.433300  False  \n",
       "        1986-12-20         US-HI  21.966700 -159.433300  False  \n",
       "        1987-12-19         US-HI  21.966700 -159.433300  False  \n",
       "        1988-12-17         US-HI  21.966700 -159.433300  False  \n",
       "        1989-12-16         US-HI  21.966700 -159.433300  False  \n",
       "        1990-12-15         US-HI  21.966700 -159.433300  False  \n",
       "        1992-12-19         US-HI  21.966700 -159.433300  False  \n",
       "87zc96n 1939-12-24         US-HI  21.369211 -157.787391    NaN  \n",
       "        1940-12-22         US-HI  21.369211 -157.787391    NaN  \n",
       "        1944-12-17         US-HI  21.369211 -157.787391    NaN  \n",
       "        1945-12-23         US-HI  21.369211 -157.787391    NaN  \n",
       "        1946-12-29         US-HI  21.369211 -157.787391    NaN  \n",
       "        1947-12-21         US-HI  21.369211 -157.787391    NaN  \n",
       "        1948-12-26         US-HI  21.369211 -157.787391    NaN  \n",
       "        1949-12-26         US-HI  21.369211 -157.787391    NaN  "
      ]
     },
     "execution_count": 27,
     "metadata": {},
     "output_type": "execute_result"
    }
   ],
   "source": [
    "# isolate only the circle specific volunteer data\n",
    "circle_obs.head(30)"
   ]
  },
  {
   "cell_type": "code",
   "execution_count": 28,
   "metadata": {},
   "outputs": [],
   "source": [
    "# sort by circle then station information\n",
    "prcp_data = prcp_data.set_index(['c_id', 'count_date', 's_id']).sort_index()"
   ]
  },
  {
   "cell_type": "code",
   "execution_count": 29,
   "metadata": {},
   "outputs": [
    {
     "data": {
      "text/html": [
       "<div>\n",
       "<style scoped>\n",
       "    .dataframe tbody tr th:only-of-type {\n",
       "        vertical-align: middle;\n",
       "    }\n",
       "\n",
       "    .dataframe tbody tr th {\n",
       "        vertical-align: top;\n",
       "    }\n",
       "\n",
       "    .dataframe thead th {\n",
       "        text-align: right;\n",
       "    }\n",
       "</style>\n",
       "<table border=\"1\" class=\"dataframe\">\n",
       "  <thead>\n",
       "    <tr style=\"text-align: right;\">\n",
       "      <th></th>\n",
       "      <th></th>\n",
       "      <th></th>\n",
       "      <th>c_name</th>\n",
       "      <th>ui</th>\n",
       "      <th>country_state</th>\n",
       "      <th>c_lat</th>\n",
       "      <th>c_lon</th>\n",
       "      <th>s_lat</th>\n",
       "      <th>s_lon</th>\n",
       "      <th>s_snwd</th>\n",
       "      <th>c_snwd</th>\n",
       "      <th>distance</th>\n",
       "      <th>d_elev</th>\n",
       "      <th>same_ecosys</th>\n",
       "      <th>same_nlcd</th>\n",
       "    </tr>\n",
       "    <tr>\n",
       "      <th>c_id</th>\n",
       "      <th>count_date</th>\n",
       "      <th>s_id</th>\n",
       "      <th></th>\n",
       "      <th></th>\n",
       "      <th></th>\n",
       "      <th></th>\n",
       "      <th></th>\n",
       "      <th></th>\n",
       "      <th></th>\n",
       "      <th></th>\n",
       "      <th></th>\n",
       "      <th></th>\n",
       "      <th></th>\n",
       "      <th></th>\n",
       "      <th></th>\n",
       "    </tr>\n",
       "  </thead>\n",
       "  <tbody>\n",
       "    <tr>\n",
       "      <th>87ymwsn</th>\n",
       "      <th>1968-12-26</th>\n",
       "      <th>USC00519130</th>\n",
       "      <td>Kaua'i: Waimea</td>\n",
       "      <td>22.0833-159.6667_1969</td>\n",
       "      <td>US-HI</td>\n",
       "      <td>22.0833</td>\n",
       "      <td>-159.6667</td>\n",
       "      <td>22.1167</td>\n",
       "      <td>-159.6167</td>\n",
       "      <td>&lt;NA&gt;</td>\n",
       "      <td>False</td>\n",
       "      <td>6352.278644</td>\n",
       "      <td>36.16</td>\n",
       "      <td>&lt;NA&gt;</td>\n",
       "      <td>&lt;NA&gt;</td>\n",
       "    </tr>\n",
       "    <tr>\n",
       "      <th rowspan=\"24\" valign=\"top\">87ysunb</th>\n",
       "      <th rowspan=\"13\" valign=\"top\">1971-12-27</th>\n",
       "      <th>US1HIKI0004</th>\n",
       "      <td>Kaua'i: Lihu'e</td>\n",
       "      <td>21.9667-159.4333_1972</td>\n",
       "      <td>US-HI</td>\n",
       "      <td>21.9667</td>\n",
       "      <td>-159.4333</td>\n",
       "      <td>21.9249</td>\n",
       "      <td>-159.4983</td>\n",
       "      <td>&lt;NA&gt;</td>\n",
       "      <td>False</td>\n",
       "      <td>8159.889753</td>\n",
       "      <td>43.84</td>\n",
       "      <td>&lt;NA&gt;</td>\n",
       "      <td>&lt;NA&gt;</td>\n",
       "    </tr>\n",
       "    <tr>\n",
       "      <th>US1HIKI0014</th>\n",
       "      <td>Kaua'i: Lihu'e</td>\n",
       "      <td>21.9667-159.4333_1972</td>\n",
       "      <td>US-HI</td>\n",
       "      <td>21.9667</td>\n",
       "      <td>-159.4333</td>\n",
       "      <td>21.9055</td>\n",
       "      <td>-159.5150</td>\n",
       "      <td>&lt;NA&gt;</td>\n",
       "      <td>False</td>\n",
       "      <td>10834.614107</td>\n",
       "      <td>11.26</td>\n",
       "      <td>&lt;NA&gt;</td>\n",
       "      <td>&lt;NA&gt;</td>\n",
       "    </tr>\n",
       "    <tr>\n",
       "      <th>US1HIKI0018</th>\n",
       "      <td>Kaua'i: Lihu'e</td>\n",
       "      <td>21.9667-159.4333_1972</td>\n",
       "      <td>US-HI</td>\n",
       "      <td>21.9667</td>\n",
       "      <td>-159.4333</td>\n",
       "      <td>21.9075</td>\n",
       "      <td>-159.5181</td>\n",
       "      <td>&lt;NA&gt;</td>\n",
       "      <td>False</td>\n",
       "      <td>10950.027151</td>\n",
       "      <td>17.34</td>\n",
       "      <td>&lt;NA&gt;</td>\n",
       "      <td>&lt;NA&gt;</td>\n",
       "    </tr>\n",
       "    <tr>\n",
       "      <th>USC00510006</th>\n",
       "      <td>Kaua'i: Lihu'e</td>\n",
       "      <td>21.9667-159.4333_1972</td>\n",
       "      <td>US-HI</td>\n",
       "      <td>21.9667</td>\n",
       "      <td>-159.4333</td>\n",
       "      <td>21.9500</td>\n",
       "      <td>-159.4333</td>\n",
       "      <td>&lt;NA&gt;</td>\n",
       "      <td>False</td>\n",
       "      <td>1857.479921</td>\n",
       "      <td>35.96</td>\n",
       "      <td>&lt;NA&gt;</td>\n",
       "      <td>&lt;NA&gt;</td>\n",
       "    </tr>\n",
       "    <tr>\n",
       "      <th>USC00510456</th>\n",
       "      <td>Kaua'i: Lihu'e</td>\n",
       "      <td>21.9667-159.4333_1972</td>\n",
       "      <td>US-HI</td>\n",
       "      <td>21.9667</td>\n",
       "      <td>-159.4333</td>\n",
       "      <td>21.9011</td>\n",
       "      <td>-159.4969</td>\n",
       "      <td>False</td>\n",
       "      <td>False</td>\n",
       "      <td>9813.118605</td>\n",
       "      <td>49.06</td>\n",
       "      <td>&lt;NA&gt;</td>\n",
       "      <td>&lt;NA&gt;</td>\n",
       "    </tr>\n",
       "    <tr>\n",
       "      <th>USC00511038</th>\n",
       "      <td>Kaua'i: Lihu'e</td>\n",
       "      <td>21.9667-159.4333_1972</td>\n",
       "      <td>US-HI</td>\n",
       "      <td>21.9667</td>\n",
       "      <td>-159.4333</td>\n",
       "      <td>21.9650</td>\n",
       "      <td>-159.4297</td>\n",
       "      <td>False</td>\n",
       "      <td>False</td>\n",
       "      <td>416.715760</td>\n",
       "      <td>6.44</td>\n",
       "      <td>&lt;NA&gt;</td>\n",
       "      <td>&lt;NA&gt;</td>\n",
       "    </tr>\n",
       "    <tr>\n",
       "      <th>USC00513023</th>\n",
       "      <td>Kaua'i: Lihu'e</td>\n",
       "      <td>21.9667-159.4333_1972</td>\n",
       "      <td>US-HI</td>\n",
       "      <td>21.9667</td>\n",
       "      <td>-159.4333</td>\n",
       "      <td>21.9167</td>\n",
       "      <td>-159.4500</td>\n",
       "      <td>&lt;NA&gt;</td>\n",
       "      <td>False</td>\n",
       "      <td>5822.091067</td>\n",
       "      <td>42.06</td>\n",
       "      <td>&lt;NA&gt;</td>\n",
       "      <td>&lt;NA&gt;</td>\n",
       "    </tr>\n",
       "    <tr>\n",
       "      <th>USC00514746</th>\n",
       "      <td>Kaua'i: Lihu'e</td>\n",
       "      <td>21.9667-159.4333_1972</td>\n",
       "      <td>US-HI</td>\n",
       "      <td>21.9667</td>\n",
       "      <td>-159.4333</td>\n",
       "      <td>21.9500</td>\n",
       "      <td>-159.4667</td>\n",
       "      <td>&lt;NA&gt;</td>\n",
       "      <td>False</td>\n",
       "      <td>3914.260655</td>\n",
       "      <td>39.94</td>\n",
       "      <td>&lt;NA&gt;</td>\n",
       "      <td>&lt;NA&gt;</td>\n",
       "    </tr>\n",
       "    <tr>\n",
       "      <th>USC00515464</th>\n",
       "      <td>Kaua'i: Lihu'e</td>\n",
       "      <td>21.9667-159.4333_1972</td>\n",
       "      <td>US-HI</td>\n",
       "      <td>21.9667</td>\n",
       "      <td>-159.4333</td>\n",
       "      <td>21.9167</td>\n",
       "      <td>-159.5167</td>\n",
       "      <td>&lt;NA&gt;</td>\n",
       "      <td>False</td>\n",
       "      <td>10245.145356</td>\n",
       "      <td>35.55</td>\n",
       "      <td>&lt;NA&gt;</td>\n",
       "      <td>&lt;NA&gt;</td>\n",
       "    </tr>\n",
       "    <tr>\n",
       "      <th>USC00517777</th>\n",
       "      <td>Kaua'i: Lihu'e</td>\n",
       "      <td>21.9667-159.4333_1972</td>\n",
       "      <td>US-HI</td>\n",
       "      <td>21.9667</td>\n",
       "      <td>-159.4333</td>\n",
       "      <td>21.9667</td>\n",
       "      <td>-159.4667</td>\n",
       "      <td>&lt;NA&gt;</td>\n",
       "      <td>False</td>\n",
       "      <td>3445.259016</td>\n",
       "      <td>24.94</td>\n",
       "      <td>&lt;NA&gt;</td>\n",
       "      <td>&lt;NA&gt;</td>\n",
       "    </tr>\n",
       "    <tr>\n",
       "      <th>USC00518217</th>\n",
       "      <td>Kaua'i: Lihu'e</td>\n",
       "      <td>21.9667-159.4333_1972</td>\n",
       "      <td>US-HI</td>\n",
       "      <td>21.9667</td>\n",
       "      <td>-159.4333</td>\n",
       "      <td>21.9656</td>\n",
       "      <td>-159.3964</td>\n",
       "      <td>False</td>\n",
       "      <td>False</td>\n",
       "      <td>3808.269759</td>\n",
       "      <td>42.66</td>\n",
       "      <td>&lt;NA&gt;</td>\n",
       "      <td>&lt;NA&gt;</td>\n",
       "    </tr>\n",
       "    <tr>\n",
       "      <th>USC00518570</th>\n",
       "      <td>Kaua'i: Lihu'e</td>\n",
       "      <td>21.9667-159.4333_1972</td>\n",
       "      <td>US-HI</td>\n",
       "      <td>21.9667</td>\n",
       "      <td>-159.4333</td>\n",
       "      <td>21.9667</td>\n",
       "      <td>-159.4167</td>\n",
       "      <td>&lt;NA&gt;</td>\n",
       "      <td>False</td>\n",
       "      <td>1712.314364</td>\n",
       "      <td>24.06</td>\n",
       "      <td>&lt;NA&gt;</td>\n",
       "      <td>&lt;NA&gt;</td>\n",
       "    </tr>\n",
       "    <tr>\n",
       "      <th>USC00518573</th>\n",
       "      <td>Kaua'i: Lihu'e</td>\n",
       "      <td>21.9667-159.4333_1972</td>\n",
       "      <td>US-HI</td>\n",
       "      <td>21.9667</td>\n",
       "      <td>-159.4333</td>\n",
       "      <td>21.9500</td>\n",
       "      <td>-159.4500</td>\n",
       "      <td>&lt;NA&gt;</td>\n",
       "      <td>False</td>\n",
       "      <td>2533.383680</td>\n",
       "      <td>14.96</td>\n",
       "      <td>&lt;NA&gt;</td>\n",
       "      <td>&lt;NA&gt;</td>\n",
       "    </tr>\n",
       "    <tr>\n",
       "      <th rowspan=\"11\" valign=\"top\">1972-12-17</th>\n",
       "      <th>US1HIKI0004</th>\n",
       "      <td>Kaua'i: Lihu'e</td>\n",
       "      <td>21.9667-159.4333_1973</td>\n",
       "      <td>US-HI</td>\n",
       "      <td>21.9667</td>\n",
       "      <td>-159.4333</td>\n",
       "      <td>21.9249</td>\n",
       "      <td>-159.4983</td>\n",
       "      <td>&lt;NA&gt;</td>\n",
       "      <td>False</td>\n",
       "      <td>8159.889753</td>\n",
       "      <td>43.84</td>\n",
       "      <td>&lt;NA&gt;</td>\n",
       "      <td>&lt;NA&gt;</td>\n",
       "    </tr>\n",
       "    <tr>\n",
       "      <th>US1HIKI0014</th>\n",
       "      <td>Kaua'i: Lihu'e</td>\n",
       "      <td>21.9667-159.4333_1973</td>\n",
       "      <td>US-HI</td>\n",
       "      <td>21.9667</td>\n",
       "      <td>-159.4333</td>\n",
       "      <td>21.9055</td>\n",
       "      <td>-159.5150</td>\n",
       "      <td>&lt;NA&gt;</td>\n",
       "      <td>False</td>\n",
       "      <td>10834.614107</td>\n",
       "      <td>11.26</td>\n",
       "      <td>&lt;NA&gt;</td>\n",
       "      <td>&lt;NA&gt;</td>\n",
       "    </tr>\n",
       "    <tr>\n",
       "      <th>US1HIKI0018</th>\n",
       "      <td>Kaua'i: Lihu'e</td>\n",
       "      <td>21.9667-159.4333_1973</td>\n",
       "      <td>US-HI</td>\n",
       "      <td>21.9667</td>\n",
       "      <td>-159.4333</td>\n",
       "      <td>21.9075</td>\n",
       "      <td>-159.5181</td>\n",
       "      <td>&lt;NA&gt;</td>\n",
       "      <td>False</td>\n",
       "      <td>10950.027151</td>\n",
       "      <td>17.34</td>\n",
       "      <td>&lt;NA&gt;</td>\n",
       "      <td>&lt;NA&gt;</td>\n",
       "    </tr>\n",
       "    <tr>\n",
       "      <th>USC00510006</th>\n",
       "      <td>Kaua'i: Lihu'e</td>\n",
       "      <td>21.9667-159.4333_1973</td>\n",
       "      <td>US-HI</td>\n",
       "      <td>21.9667</td>\n",
       "      <td>-159.4333</td>\n",
       "      <td>21.9500</td>\n",
       "      <td>-159.4333</td>\n",
       "      <td>&lt;NA&gt;</td>\n",
       "      <td>False</td>\n",
       "      <td>1857.479921</td>\n",
       "      <td>35.96</td>\n",
       "      <td>&lt;NA&gt;</td>\n",
       "      <td>&lt;NA&gt;</td>\n",
       "    </tr>\n",
       "    <tr>\n",
       "      <th>USC00510456</th>\n",
       "      <td>Kaua'i: Lihu'e</td>\n",
       "      <td>21.9667-159.4333_1973</td>\n",
       "      <td>US-HI</td>\n",
       "      <td>21.9667</td>\n",
       "      <td>-159.4333</td>\n",
       "      <td>21.9011</td>\n",
       "      <td>-159.4969</td>\n",
       "      <td>False</td>\n",
       "      <td>False</td>\n",
       "      <td>9813.118605</td>\n",
       "      <td>49.06</td>\n",
       "      <td>&lt;NA&gt;</td>\n",
       "      <td>&lt;NA&gt;</td>\n",
       "    </tr>\n",
       "    <tr>\n",
       "      <th>USC00511038</th>\n",
       "      <td>Kaua'i: Lihu'e</td>\n",
       "      <td>21.9667-159.4333_1973</td>\n",
       "      <td>US-HI</td>\n",
       "      <td>21.9667</td>\n",
       "      <td>-159.4333</td>\n",
       "      <td>21.9650</td>\n",
       "      <td>-159.4297</td>\n",
       "      <td>False</td>\n",
       "      <td>False</td>\n",
       "      <td>416.715760</td>\n",
       "      <td>6.44</td>\n",
       "      <td>&lt;NA&gt;</td>\n",
       "      <td>&lt;NA&gt;</td>\n",
       "    </tr>\n",
       "    <tr>\n",
       "      <th>USC00513023</th>\n",
       "      <td>Kaua'i: Lihu'e</td>\n",
       "      <td>21.9667-159.4333_1973</td>\n",
       "      <td>US-HI</td>\n",
       "      <td>21.9667</td>\n",
       "      <td>-159.4333</td>\n",
       "      <td>21.9167</td>\n",
       "      <td>-159.4500</td>\n",
       "      <td>&lt;NA&gt;</td>\n",
       "      <td>False</td>\n",
       "      <td>5822.091067</td>\n",
       "      <td>42.06</td>\n",
       "      <td>&lt;NA&gt;</td>\n",
       "      <td>&lt;NA&gt;</td>\n",
       "    </tr>\n",
       "    <tr>\n",
       "      <th>USC00514746</th>\n",
       "      <td>Kaua'i: Lihu'e</td>\n",
       "      <td>21.9667-159.4333_1973</td>\n",
       "      <td>US-HI</td>\n",
       "      <td>21.9667</td>\n",
       "      <td>-159.4333</td>\n",
       "      <td>21.9500</td>\n",
       "      <td>-159.4667</td>\n",
       "      <td>&lt;NA&gt;</td>\n",
       "      <td>False</td>\n",
       "      <td>3914.260655</td>\n",
       "      <td>39.94</td>\n",
       "      <td>&lt;NA&gt;</td>\n",
       "      <td>&lt;NA&gt;</td>\n",
       "    </tr>\n",
       "    <tr>\n",
       "      <th>USC00515464</th>\n",
       "      <td>Kaua'i: Lihu'e</td>\n",
       "      <td>21.9667-159.4333_1973</td>\n",
       "      <td>US-HI</td>\n",
       "      <td>21.9667</td>\n",
       "      <td>-159.4333</td>\n",
       "      <td>21.9167</td>\n",
       "      <td>-159.5167</td>\n",
       "      <td>&lt;NA&gt;</td>\n",
       "      <td>False</td>\n",
       "      <td>10245.145356</td>\n",
       "      <td>35.55</td>\n",
       "      <td>&lt;NA&gt;</td>\n",
       "      <td>&lt;NA&gt;</td>\n",
       "    </tr>\n",
       "    <tr>\n",
       "      <th>USC00517777</th>\n",
       "      <td>Kaua'i: Lihu'e</td>\n",
       "      <td>21.9667-159.4333_1973</td>\n",
       "      <td>US-HI</td>\n",
       "      <td>21.9667</td>\n",
       "      <td>-159.4333</td>\n",
       "      <td>21.9667</td>\n",
       "      <td>-159.4667</td>\n",
       "      <td>&lt;NA&gt;</td>\n",
       "      <td>False</td>\n",
       "      <td>3445.259016</td>\n",
       "      <td>24.94</td>\n",
       "      <td>&lt;NA&gt;</td>\n",
       "      <td>&lt;NA&gt;</td>\n",
       "    </tr>\n",
       "    <tr>\n",
       "      <th>USC00518217</th>\n",
       "      <td>Kaua'i: Lihu'e</td>\n",
       "      <td>21.9667-159.4333_1973</td>\n",
       "      <td>US-HI</td>\n",
       "      <td>21.9667</td>\n",
       "      <td>-159.4333</td>\n",
       "      <td>21.9656</td>\n",
       "      <td>-159.3964</td>\n",
       "      <td>False</td>\n",
       "      <td>False</td>\n",
       "      <td>3808.269759</td>\n",
       "      <td>42.66</td>\n",
       "      <td>&lt;NA&gt;</td>\n",
       "      <td>&lt;NA&gt;</td>\n",
       "    </tr>\n",
       "  </tbody>\n",
       "</table>\n",
       "</div>"
      ],
      "text/plain": [
       "                                        c_name                     ui  \\\n",
       "c_id    count_date s_id                                                 \n",
       "87ymwsn 1968-12-26 USC00519130  Kaua'i: Waimea  22.0833-159.6667_1969   \n",
       "87ysunb 1971-12-27 US1HIKI0004  Kaua'i: Lihu'e  21.9667-159.4333_1972   \n",
       "                   US1HIKI0014  Kaua'i: Lihu'e  21.9667-159.4333_1972   \n",
       "                   US1HIKI0018  Kaua'i: Lihu'e  21.9667-159.4333_1972   \n",
       "                   USC00510006  Kaua'i: Lihu'e  21.9667-159.4333_1972   \n",
       "                   USC00510456  Kaua'i: Lihu'e  21.9667-159.4333_1972   \n",
       "                   USC00511038  Kaua'i: Lihu'e  21.9667-159.4333_1972   \n",
       "                   USC00513023  Kaua'i: Lihu'e  21.9667-159.4333_1972   \n",
       "                   USC00514746  Kaua'i: Lihu'e  21.9667-159.4333_1972   \n",
       "                   USC00515464  Kaua'i: Lihu'e  21.9667-159.4333_1972   \n",
       "                   USC00517777  Kaua'i: Lihu'e  21.9667-159.4333_1972   \n",
       "                   USC00518217  Kaua'i: Lihu'e  21.9667-159.4333_1972   \n",
       "                   USC00518570  Kaua'i: Lihu'e  21.9667-159.4333_1972   \n",
       "                   USC00518573  Kaua'i: Lihu'e  21.9667-159.4333_1972   \n",
       "        1972-12-17 US1HIKI0004  Kaua'i: Lihu'e  21.9667-159.4333_1973   \n",
       "                   US1HIKI0014  Kaua'i: Lihu'e  21.9667-159.4333_1973   \n",
       "                   US1HIKI0018  Kaua'i: Lihu'e  21.9667-159.4333_1973   \n",
       "                   USC00510006  Kaua'i: Lihu'e  21.9667-159.4333_1973   \n",
       "                   USC00510456  Kaua'i: Lihu'e  21.9667-159.4333_1973   \n",
       "                   USC00511038  Kaua'i: Lihu'e  21.9667-159.4333_1973   \n",
       "                   USC00513023  Kaua'i: Lihu'e  21.9667-159.4333_1973   \n",
       "                   USC00514746  Kaua'i: Lihu'e  21.9667-159.4333_1973   \n",
       "                   USC00515464  Kaua'i: Lihu'e  21.9667-159.4333_1973   \n",
       "                   USC00517777  Kaua'i: Lihu'e  21.9667-159.4333_1973   \n",
       "                   USC00518217  Kaua'i: Lihu'e  21.9667-159.4333_1973   \n",
       "\n",
       "                               country_state    c_lat     c_lon    s_lat  \\\n",
       "c_id    count_date s_id                                                    \n",
       "87ymwsn 1968-12-26 USC00519130         US-HI  22.0833 -159.6667  22.1167   \n",
       "87ysunb 1971-12-27 US1HIKI0004         US-HI  21.9667 -159.4333  21.9249   \n",
       "                   US1HIKI0014         US-HI  21.9667 -159.4333  21.9055   \n",
       "                   US1HIKI0018         US-HI  21.9667 -159.4333  21.9075   \n",
       "                   USC00510006         US-HI  21.9667 -159.4333  21.9500   \n",
       "                   USC00510456         US-HI  21.9667 -159.4333  21.9011   \n",
       "                   USC00511038         US-HI  21.9667 -159.4333  21.9650   \n",
       "                   USC00513023         US-HI  21.9667 -159.4333  21.9167   \n",
       "                   USC00514746         US-HI  21.9667 -159.4333  21.9500   \n",
       "                   USC00515464         US-HI  21.9667 -159.4333  21.9167   \n",
       "                   USC00517777         US-HI  21.9667 -159.4333  21.9667   \n",
       "                   USC00518217         US-HI  21.9667 -159.4333  21.9656   \n",
       "                   USC00518570         US-HI  21.9667 -159.4333  21.9667   \n",
       "                   USC00518573         US-HI  21.9667 -159.4333  21.9500   \n",
       "        1972-12-17 US1HIKI0004         US-HI  21.9667 -159.4333  21.9249   \n",
       "                   US1HIKI0014         US-HI  21.9667 -159.4333  21.9055   \n",
       "                   US1HIKI0018         US-HI  21.9667 -159.4333  21.9075   \n",
       "                   USC00510006         US-HI  21.9667 -159.4333  21.9500   \n",
       "                   USC00510456         US-HI  21.9667 -159.4333  21.9011   \n",
       "                   USC00511038         US-HI  21.9667 -159.4333  21.9650   \n",
       "                   USC00513023         US-HI  21.9667 -159.4333  21.9167   \n",
       "                   USC00514746         US-HI  21.9667 -159.4333  21.9500   \n",
       "                   USC00515464         US-HI  21.9667 -159.4333  21.9167   \n",
       "                   USC00517777         US-HI  21.9667 -159.4333  21.9667   \n",
       "                   USC00518217         US-HI  21.9667 -159.4333  21.9656   \n",
       "\n",
       "                                   s_lon  s_snwd c_snwd      distance  d_elev  \\\n",
       "c_id    count_date s_id                                                         \n",
       "87ymwsn 1968-12-26 USC00519130 -159.6167    <NA>  False   6352.278644   36.16   \n",
       "87ysunb 1971-12-27 US1HIKI0004 -159.4983    <NA>  False   8159.889753   43.84   \n",
       "                   US1HIKI0014 -159.5150    <NA>  False  10834.614107   11.26   \n",
       "                   US1HIKI0018 -159.5181    <NA>  False  10950.027151   17.34   \n",
       "                   USC00510006 -159.4333    <NA>  False   1857.479921   35.96   \n",
       "                   USC00510456 -159.4969   False  False   9813.118605   49.06   \n",
       "                   USC00511038 -159.4297   False  False    416.715760    6.44   \n",
       "                   USC00513023 -159.4500    <NA>  False   5822.091067   42.06   \n",
       "                   USC00514746 -159.4667    <NA>  False   3914.260655   39.94   \n",
       "                   USC00515464 -159.5167    <NA>  False  10245.145356   35.55   \n",
       "                   USC00517777 -159.4667    <NA>  False   3445.259016   24.94   \n",
       "                   USC00518217 -159.3964   False  False   3808.269759   42.66   \n",
       "                   USC00518570 -159.4167    <NA>  False   1712.314364   24.06   \n",
       "                   USC00518573 -159.4500    <NA>  False   2533.383680   14.96   \n",
       "        1972-12-17 US1HIKI0004 -159.4983    <NA>  False   8159.889753   43.84   \n",
       "                   US1HIKI0014 -159.5150    <NA>  False  10834.614107   11.26   \n",
       "                   US1HIKI0018 -159.5181    <NA>  False  10950.027151   17.34   \n",
       "                   USC00510006 -159.4333    <NA>  False   1857.479921   35.96   \n",
       "                   USC00510456 -159.4969   False  False   9813.118605   49.06   \n",
       "                   USC00511038 -159.4297   False  False    416.715760    6.44   \n",
       "                   USC00513023 -159.4500    <NA>  False   5822.091067   42.06   \n",
       "                   USC00514746 -159.4667    <NA>  False   3914.260655   39.94   \n",
       "                   USC00515464 -159.5167    <NA>  False  10245.145356   35.55   \n",
       "                   USC00517777 -159.4667    <NA>  False   3445.259016   24.94   \n",
       "                   USC00518217 -159.3964   False  False   3808.269759   42.66   \n",
       "\n",
       "                                same_ecosys  same_nlcd  \n",
       "c_id    count_date s_id                                 \n",
       "87ymwsn 1968-12-26 USC00519130         <NA>       <NA>  \n",
       "87ysunb 1971-12-27 US1HIKI0004         <NA>       <NA>  \n",
       "                   US1HIKI0014         <NA>       <NA>  \n",
       "                   US1HIKI0018         <NA>       <NA>  \n",
       "                   USC00510006         <NA>       <NA>  \n",
       "                   USC00510456         <NA>       <NA>  \n",
       "                   USC00511038         <NA>       <NA>  \n",
       "                   USC00513023         <NA>       <NA>  \n",
       "                   USC00514746         <NA>       <NA>  \n",
       "                   USC00515464         <NA>       <NA>  \n",
       "                   USC00517777         <NA>       <NA>  \n",
       "                   USC00518217         <NA>       <NA>  \n",
       "                   USC00518570         <NA>       <NA>  \n",
       "                   USC00518573         <NA>       <NA>  \n",
       "        1972-12-17 US1HIKI0004         <NA>       <NA>  \n",
       "                   US1HIKI0014         <NA>       <NA>  \n",
       "                   US1HIKI0018         <NA>       <NA>  \n",
       "                   USC00510006         <NA>       <NA>  \n",
       "                   USC00510456         <NA>       <NA>  \n",
       "                   USC00511038         <NA>       <NA>  \n",
       "                   USC00513023         <NA>       <NA>  \n",
       "                   USC00514746         <NA>       <NA>  \n",
       "                   USC00515464         <NA>       <NA>  \n",
       "                   USC00517777         <NA>       <NA>  \n",
       "                   USC00518217         <NA>       <NA>  "
      ]
     },
     "execution_count": 29,
     "metadata": {},
     "output_type": "execute_result"
    }
   ],
   "source": [
    "prcp_data.head(25)"
   ]
  },
  {
   "cell_type": "code",
   "execution_count": 30,
   "metadata": {},
   "outputs": [
    {
     "data": {
      "text/plain": [
       "(412105, 13)"
      ]
     },
     "execution_count": 30,
     "metadata": {},
     "output_type": "execute_result"
    }
   ],
   "source": [
    "prcp_data.shape"
   ]
  },
  {
   "cell_type": "markdown",
   "metadata": {},
   "source": [
    "# Snowdepth Analysis"
   ]
  },
  {
   "cell_type": "code",
   "execution_count": 31,
   "metadata": {},
   "outputs": [],
   "source": [
    "g = prcp_data.groupby(level=['c_id', 'count_date'])"
   ]
  },
  {
   "cell_type": "code",
   "execution_count": 32,
   "metadata": {},
   "outputs": [
    {
     "data": {
      "text/html": [
       "<div>\n",
       "<style scoped>\n",
       "    .dataframe tbody tr th:only-of-type {\n",
       "        vertical-align: middle;\n",
       "    }\n",
       "\n",
       "    .dataframe tbody tr th {\n",
       "        vertical-align: top;\n",
       "    }\n",
       "\n",
       "    .dataframe thead th {\n",
       "        text-align: right;\n",
       "    }\n",
       "</style>\n",
       "<table border=\"1\" class=\"dataframe\">\n",
       "  <thead>\n",
       "    <tr style=\"text-align: right;\">\n",
       "      <th></th>\n",
       "      <th></th>\n",
       "      <th></th>\n",
       "      <th>c_name</th>\n",
       "      <th>ui</th>\n",
       "      <th>country_state</th>\n",
       "      <th>c_lat</th>\n",
       "      <th>c_lon</th>\n",
       "      <th>s_lat</th>\n",
       "      <th>s_lon</th>\n",
       "      <th>s_snwd</th>\n",
       "      <th>c_snwd</th>\n",
       "      <th>distance</th>\n",
       "      <th>d_elev</th>\n",
       "      <th>same_ecosys</th>\n",
       "      <th>same_nlcd</th>\n",
       "    </tr>\n",
       "    <tr>\n",
       "      <th>c_id</th>\n",
       "      <th>count_date</th>\n",
       "      <th>s_id</th>\n",
       "      <th></th>\n",
       "      <th></th>\n",
       "      <th></th>\n",
       "      <th></th>\n",
       "      <th></th>\n",
       "      <th></th>\n",
       "      <th></th>\n",
       "      <th></th>\n",
       "      <th></th>\n",
       "      <th></th>\n",
       "      <th></th>\n",
       "      <th></th>\n",
       "      <th></th>\n",
       "    </tr>\n",
       "  </thead>\n",
       "  <tbody>\n",
       "    <tr>\n",
       "      <th>87ymwsn</th>\n",
       "      <th>1968-12-26</th>\n",
       "      <th>USC00519130</th>\n",
       "      <td>Kaua'i: Waimea</td>\n",
       "      <td>22.0833-159.6667_1969</td>\n",
       "      <td>US-HI</td>\n",
       "      <td>22.083300</td>\n",
       "      <td>-159.666700</td>\n",
       "      <td>22.1167</td>\n",
       "      <td>-159.6167</td>\n",
       "      <td>&lt;NA&gt;</td>\n",
       "      <td>False</td>\n",
       "      <td>6352.278644</td>\n",
       "      <td>36.16</td>\n",
       "      <td>&lt;NA&gt;</td>\n",
       "      <td>&lt;NA&gt;</td>\n",
       "    </tr>\n",
       "    <tr>\n",
       "      <th rowspan=\"4\" valign=\"top\">87ysunb</th>\n",
       "      <th rowspan=\"4\" valign=\"top\">1971-12-27</th>\n",
       "      <th>US1HIKI0004</th>\n",
       "      <td>Kaua'i: Lihu'e</td>\n",
       "      <td>21.9667-159.4333_1972</td>\n",
       "      <td>US-HI</td>\n",
       "      <td>21.966700</td>\n",
       "      <td>-159.433300</td>\n",
       "      <td>21.9249</td>\n",
       "      <td>-159.4983</td>\n",
       "      <td>&lt;NA&gt;</td>\n",
       "      <td>False</td>\n",
       "      <td>8159.889753</td>\n",
       "      <td>43.84</td>\n",
       "      <td>&lt;NA&gt;</td>\n",
       "      <td>&lt;NA&gt;</td>\n",
       "    </tr>\n",
       "    <tr>\n",
       "      <th>US1HIKI0014</th>\n",
       "      <td>Kaua'i: Lihu'e</td>\n",
       "      <td>21.9667-159.4333_1972</td>\n",
       "      <td>US-HI</td>\n",
       "      <td>21.966700</td>\n",
       "      <td>-159.433300</td>\n",
       "      <td>21.9055</td>\n",
       "      <td>-159.5150</td>\n",
       "      <td>&lt;NA&gt;</td>\n",
       "      <td>False</td>\n",
       "      <td>10834.614107</td>\n",
       "      <td>11.26</td>\n",
       "      <td>&lt;NA&gt;</td>\n",
       "      <td>&lt;NA&gt;</td>\n",
       "    </tr>\n",
       "    <tr>\n",
       "      <th>US1HIKI0018</th>\n",
       "      <td>Kaua'i: Lihu'e</td>\n",
       "      <td>21.9667-159.4333_1972</td>\n",
       "      <td>US-HI</td>\n",
       "      <td>21.966700</td>\n",
       "      <td>-159.433300</td>\n",
       "      <td>21.9075</td>\n",
       "      <td>-159.5181</td>\n",
       "      <td>&lt;NA&gt;</td>\n",
       "      <td>False</td>\n",
       "      <td>10950.027151</td>\n",
       "      <td>17.34</td>\n",
       "      <td>&lt;NA&gt;</td>\n",
       "      <td>&lt;NA&gt;</td>\n",
       "    </tr>\n",
       "    <tr>\n",
       "      <th>USC00510006</th>\n",
       "      <td>Kaua'i: Lihu'e</td>\n",
       "      <td>21.9667-159.4333_1972</td>\n",
       "      <td>US-HI</td>\n",
       "      <td>21.966700</td>\n",
       "      <td>-159.433300</td>\n",
       "      <td>21.9500</td>\n",
       "      <td>-159.4333</td>\n",
       "      <td>&lt;NA&gt;</td>\n",
       "      <td>False</td>\n",
       "      <td>1857.479921</td>\n",
       "      <td>35.96</td>\n",
       "      <td>&lt;NA&gt;</td>\n",
       "      <td>&lt;NA&gt;</td>\n",
       "    </tr>\n",
       "    <tr>\n",
       "      <th>...</th>\n",
       "      <th>...</th>\n",
       "      <th>...</th>\n",
       "      <td>...</td>\n",
       "      <td>...</td>\n",
       "      <td>...</td>\n",
       "      <td>...</td>\n",
       "      <td>...</td>\n",
       "      <td>...</td>\n",
       "      <td>...</td>\n",
       "      <td>...</td>\n",
       "      <td>...</td>\n",
       "      <td>...</td>\n",
       "      <td>...</td>\n",
       "      <td>...</td>\n",
       "      <td>...</td>\n",
       "    </tr>\n",
       "    <tr>\n",
       "      <th rowspan=\"5\" valign=\"top\">zcpkrwz</th>\n",
       "      <th>1979-12-18</th>\n",
       "      <th>USW00045702</th>\n",
       "      <td>Amchitka Island</td>\n",
       "      <td>51.409713179.284881_1980</td>\n",
       "      <td>US-AK</td>\n",
       "      <td>51.409713</td>\n",
       "      <td>179.284881</td>\n",
       "      <td>51.3833</td>\n",
       "      <td>179.2500</td>\n",
       "      <td>&lt;NA&gt;</td>\n",
       "      <td>False</td>\n",
       "      <td>3806.612762</td>\n",
       "      <td>NaN</td>\n",
       "      <td>&lt;NA&gt;</td>\n",
       "      <td>&lt;NA&gt;</td>\n",
       "    </tr>\n",
       "    <tr>\n",
       "      <th rowspan=\"2\" valign=\"top\">1992-12-20</th>\n",
       "      <th>USC00500252</th>\n",
       "      <td>Amchitka Island</td>\n",
       "      <td>51.409713179.284881_1993</td>\n",
       "      <td>US-AK</td>\n",
       "      <td>51.409713</td>\n",
       "      <td>179.284881</td>\n",
       "      <td>51.3833</td>\n",
       "      <td>179.2833</td>\n",
       "      <td>False</td>\n",
       "      <td>False</td>\n",
       "      <td>2939.869435</td>\n",
       "      <td>NaN</td>\n",
       "      <td>&lt;NA&gt;</td>\n",
       "      <td>&lt;NA&gt;</td>\n",
       "    </tr>\n",
       "    <tr>\n",
       "      <th>USW00045702</th>\n",
       "      <td>Amchitka Island</td>\n",
       "      <td>51.409713179.284881_1993</td>\n",
       "      <td>US-AK</td>\n",
       "      <td>51.409713</td>\n",
       "      <td>179.284881</td>\n",
       "      <td>51.3833</td>\n",
       "      <td>179.2500</td>\n",
       "      <td>&lt;NA&gt;</td>\n",
       "      <td>False</td>\n",
       "      <td>3806.612762</td>\n",
       "      <td>NaN</td>\n",
       "      <td>&lt;NA&gt;</td>\n",
       "      <td>&lt;NA&gt;</td>\n",
       "    </tr>\n",
       "    <tr>\n",
       "      <th rowspan=\"2\" valign=\"top\">1993-12-28</th>\n",
       "      <th>USC00500252</th>\n",
       "      <td>Amchitka Island</td>\n",
       "      <td>51.409713179.284881_1994</td>\n",
       "      <td>US-AK</td>\n",
       "      <td>51.409713</td>\n",
       "      <td>179.284881</td>\n",
       "      <td>51.3833</td>\n",
       "      <td>179.2833</td>\n",
       "      <td>&lt;NA&gt;</td>\n",
       "      <td>True</td>\n",
       "      <td>2939.869435</td>\n",
       "      <td>NaN</td>\n",
       "      <td>&lt;NA&gt;</td>\n",
       "      <td>&lt;NA&gt;</td>\n",
       "    </tr>\n",
       "    <tr>\n",
       "      <th>USW00045702</th>\n",
       "      <td>Amchitka Island</td>\n",
       "      <td>51.409713179.284881_1994</td>\n",
       "      <td>US-AK</td>\n",
       "      <td>51.409713</td>\n",
       "      <td>179.284881</td>\n",
       "      <td>51.3833</td>\n",
       "      <td>179.2500</td>\n",
       "      <td>&lt;NA&gt;</td>\n",
       "      <td>True</td>\n",
       "      <td>3806.612762</td>\n",
       "      <td>NaN</td>\n",
       "      <td>&lt;NA&gt;</td>\n",
       "      <td>&lt;NA&gt;</td>\n",
       "    </tr>\n",
       "  </tbody>\n",
       "</table>\n",
       "<p>218997 rows × 13 columns</p>\n",
       "</div>"
      ],
      "text/plain": [
       "                                         c_name                        ui  \\\n",
       "c_id    count_date s_id                                                     \n",
       "87ymwsn 1968-12-26 USC00519130   Kaua'i: Waimea     22.0833-159.6667_1969   \n",
       "87ysunb 1971-12-27 US1HIKI0004   Kaua'i: Lihu'e     21.9667-159.4333_1972   \n",
       "                   US1HIKI0014   Kaua'i: Lihu'e     21.9667-159.4333_1972   \n",
       "                   US1HIKI0018   Kaua'i: Lihu'e     21.9667-159.4333_1972   \n",
       "                   USC00510006   Kaua'i: Lihu'e     21.9667-159.4333_1972   \n",
       "...                                         ...                       ...   \n",
       "zcpkrwz 1979-12-18 USW00045702  Amchitka Island  51.409713179.284881_1980   \n",
       "        1992-12-20 USC00500252  Amchitka Island  51.409713179.284881_1993   \n",
       "                   USW00045702  Amchitka Island  51.409713179.284881_1993   \n",
       "        1993-12-28 USC00500252  Amchitka Island  51.409713179.284881_1994   \n",
       "                   USW00045702  Amchitka Island  51.409713179.284881_1994   \n",
       "\n",
       "                               country_state      c_lat       c_lon    s_lat  \\\n",
       "c_id    count_date s_id                                                        \n",
       "87ymwsn 1968-12-26 USC00519130         US-HI  22.083300 -159.666700  22.1167   \n",
       "87ysunb 1971-12-27 US1HIKI0004         US-HI  21.966700 -159.433300  21.9249   \n",
       "                   US1HIKI0014         US-HI  21.966700 -159.433300  21.9055   \n",
       "                   US1HIKI0018         US-HI  21.966700 -159.433300  21.9075   \n",
       "                   USC00510006         US-HI  21.966700 -159.433300  21.9500   \n",
       "...                                      ...        ...         ...      ...   \n",
       "zcpkrwz 1979-12-18 USW00045702         US-AK  51.409713  179.284881  51.3833   \n",
       "        1992-12-20 USC00500252         US-AK  51.409713  179.284881  51.3833   \n",
       "                   USW00045702         US-AK  51.409713  179.284881  51.3833   \n",
       "        1993-12-28 USC00500252         US-AK  51.409713  179.284881  51.3833   \n",
       "                   USW00045702         US-AK  51.409713  179.284881  51.3833   \n",
       "\n",
       "                                   s_lon  s_snwd c_snwd      distance  d_elev  \\\n",
       "c_id    count_date s_id                                                         \n",
       "87ymwsn 1968-12-26 USC00519130 -159.6167    <NA>  False   6352.278644   36.16   \n",
       "87ysunb 1971-12-27 US1HIKI0004 -159.4983    <NA>  False   8159.889753   43.84   \n",
       "                   US1HIKI0014 -159.5150    <NA>  False  10834.614107   11.26   \n",
       "                   US1HIKI0018 -159.5181    <NA>  False  10950.027151   17.34   \n",
       "                   USC00510006 -159.4333    <NA>  False   1857.479921   35.96   \n",
       "...                                  ...     ...    ...           ...     ...   \n",
       "zcpkrwz 1979-12-18 USW00045702  179.2500    <NA>  False   3806.612762     NaN   \n",
       "        1992-12-20 USC00500252  179.2833   False  False   2939.869435     NaN   \n",
       "                   USW00045702  179.2500    <NA>  False   3806.612762     NaN   \n",
       "        1993-12-28 USC00500252  179.2833    <NA>   True   2939.869435     NaN   \n",
       "                   USW00045702  179.2500    <NA>   True   3806.612762     NaN   \n",
       "\n",
       "                                same_ecosys  same_nlcd  \n",
       "c_id    count_date s_id                                 \n",
       "87ymwsn 1968-12-26 USC00519130         <NA>       <NA>  \n",
       "87ysunb 1971-12-27 US1HIKI0004         <NA>       <NA>  \n",
       "                   US1HIKI0014         <NA>       <NA>  \n",
       "                   US1HIKI0018         <NA>       <NA>  \n",
       "                   USC00510006         <NA>       <NA>  \n",
       "...                                     ...        ...  \n",
       "zcpkrwz 1979-12-18 USW00045702         <NA>       <NA>  \n",
       "        1992-12-20 USC00500252         <NA>       <NA>  \n",
       "                   USW00045702         <NA>       <NA>  \n",
       "        1993-12-28 USC00500252         <NA>       <NA>  \n",
       "                   USW00045702         <NA>       <NA>  \n",
       "\n",
       "[218997 rows x 13 columns]"
      ]
     },
     "execution_count": 32,
     "metadata": {},
     "output_type": "execute_result"
    }
   ],
   "source": [
    "g.head()"
   ]
  },
  {
   "cell_type": "code",
   "execution_count": 33,
   "metadata": {},
   "outputs": [],
   "source": [
    "def snow_calc(dfg):\n",
    "    is_na = dfg.s_snwd.isna()\n",
    "\n",
    "    # there can be weirdness with boolean not being promoted to ints, so add zero\n",
    "    num = dfg.s_snwd.size + 0\n",
    "    num_notna = dfg.s_snwd.count() + 0\n",
    "    num_true = dfg.s_snwd.sum() + 0\n",
    "    \n",
    "    e = dfg.loc[dfg.same_ecosys, 's_snwd']\n",
    "    e_num = e.size + 0\n",
    "    e_num_notna = e.count() + 0\n",
    "    e_num_true = e.sum() + 0\n",
    "    \n",
    "    n = dfg.loc[dfg.same_nlcd, 's_snwd']\n",
    "    n_num = n.size + 0\n",
    "    n_num_notna = n.count() + 0\n",
    "    n_num_true = n.sum() + 0\n",
    "    \n",
    "    # havent figured out how to inlinse this yet ...\n",
    "    lowest_id = dfg.d_elev.idxmin() if (num > 0) else np.NaN\n",
    "    lowest_id_na = dfg.loc[~is_na, 'd_elev'].idxmin() if (num_notna > 0) else np.NaN\n",
    "    \n",
    "    return pd.Series({\n",
    "        'num' : num,\n",
    "        'num_notna' : num_notna,\n",
    "        'num_true' : num_true,\n",
    "        \n",
    "        'e_num' : e_num,\n",
    "        'e_num_notna' : e_num_notna,\n",
    "        'e_num_true' : e_num_true,\n",
    "        \n",
    "        'n_num' : n_num,\n",
    "        'n_num_notna' : n_num_notna,\n",
    "        'n_num_true' : n_num_true,\n",
    "\n",
    "        'p' : num_true / num_notna if (num_notna > 0) else np.NaN,\n",
    "        'e_p' : e_num_true / e_num_notna if (e_num_notna > 0) else np.NaN,\n",
    "        'n_p' : n_num_true / n_num_notna if (n_num_notna > 0) else np.NaN,\n",
    "        \n",
    "        'snow_closest' : dfg.loc[dfg.distance.idxmin(), 's_snwd'] if (num > 0) else pd.NA,\n",
    "        'snow_closest_notna' : dfg.loc[dfg.loc[~is_na, 'distance'].idxmin(), 's_snwd'] if (num_notna > 0) else pd.NA,\n",
    "        \n",
    "        'snow_lowest' : pd.NA if pd.isna(lowest_id) else dfg.loc[lowest_id, 's_snwd'],\n",
    "        'snow_lowest_notna' : pd.NA if pd.isna(lowest_id_na) else dfg.loc[lowest_id_na, 's_snwd'],\n",
    "    })\n"
   ]
  },
  {
   "cell_type": "markdown",
   "metadata": {},
   "source": [
    "# The new fields used for Analysis\n",
    "num - The number of stations for a circle for a count date\n",
    "\n",
    "num_notna - The number of stations that are not null for their snow measurment \n",
    "\n",
    "num_true - The number of stations that reported true for snow\n",
    "\n",
    "The next sections for \"e_\" and \"n_\" are the same as abouve, except e is only stations for a circle that\n",
    "are in the same ecosystem and n is stations with the same nlcd code.\n",
    "\n",
    "p - The proportion of stations that reported snow for a circle\n",
    "\n"
   ]
  },
  {
   "cell_type": "code",
   "execution_count": 34,
   "metadata": {},
   "outputs": [],
   "source": [
    "# Compute the fields used for Analysis\n",
    "circle_data = g.apply(snow_calc)"
   ]
  },
  {
   "cell_type": "code",
   "execution_count": 35,
   "metadata": {},
   "outputs": [],
   "source": [
    "# Add in the circles details (Name, State, Lat, Lon)\n",
    "circle_data = circle_obs.join(circle_data)"
   ]
  },
  {
   "cell_type": "markdown",
   "metadata": {},
   "source": [
    "# Determine if there is Consensus amoung a Circle's Reference Stations\n",
    "Using the AGREEMENT_THRESHOLD set at the top of the notebook, determine if the there are enough stations for\n",
    "a circle agree that snow accumulated based on that agreement threshold.\n",
    "\n",
    "Do this for all stations and stations within the same ecosys and nlcd code "
   ]
  },
  {
   "cell_type": "code",
   "execution_count": 36,
   "metadata": {},
   "outputs": [],
   "source": [
    "# if the stations couldnt agree (p ∈ [1-AGREEMENT_THRESHOLD, AGREEMENT_THRESHOLD]) or p is NaN, set the consenus to NaN as well\n",
    "circle_data['consensus'] = np.where(((circle_data.p >= (1-AGREEMENT_THRESHOLD)) & (circle_data.p <= AGREEMENT_THRESHOLD)) | circle_data.p.isna(), \n",
    "                                     pd.NA, circle_data.p >= AGREEMENT_THRESHOLD)\n",
    "\n",
    "circle_data['e_consensus'] = np.where(((circle_data.e_p >= (1-AGREEMENT_THRESHOLD)) & (circle_data.e_p <= AGREEMENT_THRESHOLD)) | circle_data.e_p.isna(), \n",
    "                                     pd.NA, circle_data.e_p >= AGREEMENT_THRESHOLD)\n",
    "\n",
    "circle_data['n_consensus'] = np.where(((circle_data.n_p >= (1-AGREEMENT_THRESHOLD)) & (circle_data.n_p <= AGREEMENT_THRESHOLD)) | circle_data.n_p.isna(), \n",
    "                                     pd.NA, circle_data.n_p >= AGREEMENT_THRESHOLD)"
   ]
  },
  {
   "cell_type": "code",
   "execution_count": 37,
   "metadata": {},
   "outputs": [],
   "source": [
    "for c in ['consensus', 'e_consensus', 'n_consensus', 'snow_closest', 'snow_closest_notna', 'snow_lowest', 'snow_lowest_notna']:\n",
    "    circle_data[c] = circle_data[c].astype('boolean')"
   ]
  },
  {
   "cell_type": "code",
   "execution_count": 38,
   "metadata": {},
   "outputs": [
    {
     "data": {
      "text/html": [
       "<div>\n",
       "<style scoped>\n",
       "    .dataframe tbody tr th:only-of-type {\n",
       "        vertical-align: middle;\n",
       "    }\n",
       "\n",
       "    .dataframe tbody tr th {\n",
       "        vertical-align: top;\n",
       "    }\n",
       "\n",
       "    .dataframe thead th {\n",
       "        text-align: right;\n",
       "    }\n",
       "</style>\n",
       "<table border=\"1\" class=\"dataframe\">\n",
       "  <thead>\n",
       "    <tr style=\"text-align: right;\">\n",
       "      <th></th>\n",
       "      <th></th>\n",
       "      <th>c_name</th>\n",
       "      <th>ui</th>\n",
       "      <th>country_state</th>\n",
       "      <th>c_lat</th>\n",
       "      <th>c_lon</th>\n",
       "      <th>c_snwd</th>\n",
       "      <th>num</th>\n",
       "      <th>num_notna</th>\n",
       "      <th>num_true</th>\n",
       "      <th>e_num</th>\n",
       "      <th>...</th>\n",
       "      <th>p</th>\n",
       "      <th>e_p</th>\n",
       "      <th>n_p</th>\n",
       "      <th>snow_closest</th>\n",
       "      <th>snow_closest_notna</th>\n",
       "      <th>snow_lowest</th>\n",
       "      <th>snow_lowest_notna</th>\n",
       "      <th>consensus</th>\n",
       "      <th>e_consensus</th>\n",
       "      <th>n_consensus</th>\n",
       "    </tr>\n",
       "    <tr>\n",
       "      <th>c_id</th>\n",
       "      <th>count_date</th>\n",
       "      <th></th>\n",
       "      <th></th>\n",
       "      <th></th>\n",
       "      <th></th>\n",
       "      <th></th>\n",
       "      <th></th>\n",
       "      <th></th>\n",
       "      <th></th>\n",
       "      <th></th>\n",
       "      <th></th>\n",
       "      <th></th>\n",
       "      <th></th>\n",
       "      <th></th>\n",
       "      <th></th>\n",
       "      <th></th>\n",
       "      <th></th>\n",
       "      <th></th>\n",
       "      <th></th>\n",
       "      <th></th>\n",
       "      <th></th>\n",
       "      <th></th>\n",
       "    </tr>\n",
       "  </thead>\n",
       "  <tbody>\n",
       "    <tr>\n",
       "      <th>87ymwsn</th>\n",
       "      <th>1968-12-26</th>\n",
       "      <td>Kaua'i: Waimea</td>\n",
       "      <td>22.0833-159.6667_1969</td>\n",
       "      <td>US-HI</td>\n",
       "      <td>22.0833</td>\n",
       "      <td>-159.6667</td>\n",
       "      <td>False</td>\n",
       "      <td>1</td>\n",
       "      <td>0</td>\n",
       "      <td>0</td>\n",
       "      <td>0</td>\n",
       "      <td>...</td>\n",
       "      <td>NaN</td>\n",
       "      <td>NaN</td>\n",
       "      <td>NaN</td>\n",
       "      <td>&lt;NA&gt;</td>\n",
       "      <td>&lt;NA&gt;</td>\n",
       "      <td>&lt;NA&gt;</td>\n",
       "      <td>&lt;NA&gt;</td>\n",
       "      <td>&lt;NA&gt;</td>\n",
       "      <td>&lt;NA&gt;</td>\n",
       "      <td>&lt;NA&gt;</td>\n",
       "    </tr>\n",
       "    <tr>\n",
       "      <th rowspan=\"4\" valign=\"top\">87ysunb</th>\n",
       "      <th>1971-12-27</th>\n",
       "      <td>Kaua'i: Lihu'e</td>\n",
       "      <td>21.9667-159.4333_1972</td>\n",
       "      <td>US-HI</td>\n",
       "      <td>21.9667</td>\n",
       "      <td>-159.4333</td>\n",
       "      <td>False</td>\n",
       "      <td>13</td>\n",
       "      <td>3</td>\n",
       "      <td>0</td>\n",
       "      <td>0</td>\n",
       "      <td>...</td>\n",
       "      <td>0.0</td>\n",
       "      <td>NaN</td>\n",
       "      <td>NaN</td>\n",
       "      <td>False</td>\n",
       "      <td>False</td>\n",
       "      <td>False</td>\n",
       "      <td>False</td>\n",
       "      <td>False</td>\n",
       "      <td>&lt;NA&gt;</td>\n",
       "      <td>&lt;NA&gt;</td>\n",
       "    </tr>\n",
       "    <tr>\n",
       "      <th>1972-12-17</th>\n",
       "      <td>Kaua'i: Lihu'e</td>\n",
       "      <td>21.9667-159.4333_1973</td>\n",
       "      <td>US-HI</td>\n",
       "      <td>21.9667</td>\n",
       "      <td>-159.4333</td>\n",
       "      <td>False</td>\n",
       "      <td>13</td>\n",
       "      <td>4</td>\n",
       "      <td>0</td>\n",
       "      <td>0</td>\n",
       "      <td>...</td>\n",
       "      <td>0.0</td>\n",
       "      <td>NaN</td>\n",
       "      <td>NaN</td>\n",
       "      <td>False</td>\n",
       "      <td>False</td>\n",
       "      <td>False</td>\n",
       "      <td>False</td>\n",
       "      <td>False</td>\n",
       "      <td>&lt;NA&gt;</td>\n",
       "      <td>&lt;NA&gt;</td>\n",
       "    </tr>\n",
       "    <tr>\n",
       "      <th>1973-12-16</th>\n",
       "      <td>Kaua'i: Lihu'e</td>\n",
       "      <td>21.9667-159.4333_1974</td>\n",
       "      <td>US-HI</td>\n",
       "      <td>21.9667</td>\n",
       "      <td>-159.4333</td>\n",
       "      <td>False</td>\n",
       "      <td>13</td>\n",
       "      <td>4</td>\n",
       "      <td>0</td>\n",
       "      <td>0</td>\n",
       "      <td>...</td>\n",
       "      <td>0.0</td>\n",
       "      <td>NaN</td>\n",
       "      <td>NaN</td>\n",
       "      <td>False</td>\n",
       "      <td>False</td>\n",
       "      <td>False</td>\n",
       "      <td>False</td>\n",
       "      <td>False</td>\n",
       "      <td>&lt;NA&gt;</td>\n",
       "      <td>&lt;NA&gt;</td>\n",
       "    </tr>\n",
       "    <tr>\n",
       "      <th>1974-12-15</th>\n",
       "      <td>Kaua'i: Lihu'e</td>\n",
       "      <td>21.9667-159.4333_1975</td>\n",
       "      <td>US-HI</td>\n",
       "      <td>21.9667</td>\n",
       "      <td>-159.4333</td>\n",
       "      <td>False</td>\n",
       "      <td>13</td>\n",
       "      <td>3</td>\n",
       "      <td>0</td>\n",
       "      <td>0</td>\n",
       "      <td>...</td>\n",
       "      <td>0.0</td>\n",
       "      <td>NaN</td>\n",
       "      <td>NaN</td>\n",
       "      <td>False</td>\n",
       "      <td>False</td>\n",
       "      <td>False</td>\n",
       "      <td>False</td>\n",
       "      <td>False</td>\n",
       "      <td>&lt;NA&gt;</td>\n",
       "      <td>&lt;NA&gt;</td>\n",
       "    </tr>\n",
       "  </tbody>\n",
       "</table>\n",
       "<p>5 rows × 25 columns</p>\n",
       "</div>"
      ],
      "text/plain": [
       "                            c_name                     ui country_state  \\\n",
       "c_id    count_date                                                        \n",
       "87ymwsn 1968-12-26  Kaua'i: Waimea  22.0833-159.6667_1969         US-HI   \n",
       "87ysunb 1971-12-27  Kaua'i: Lihu'e  21.9667-159.4333_1972         US-HI   \n",
       "        1972-12-17  Kaua'i: Lihu'e  21.9667-159.4333_1973         US-HI   \n",
       "        1973-12-16  Kaua'i: Lihu'e  21.9667-159.4333_1974         US-HI   \n",
       "        1974-12-15  Kaua'i: Lihu'e  21.9667-159.4333_1975         US-HI   \n",
       "\n",
       "                      c_lat     c_lon c_snwd  num  num_notna  num_true  e_num  \\\n",
       "c_id    count_date                                                              \n",
       "87ymwsn 1968-12-26  22.0833 -159.6667  False    1          0         0      0   \n",
       "87ysunb 1971-12-27  21.9667 -159.4333  False   13          3         0      0   \n",
       "        1972-12-17  21.9667 -159.4333  False   13          4         0      0   \n",
       "        1973-12-16  21.9667 -159.4333  False   13          4         0      0   \n",
       "        1974-12-15  21.9667 -159.4333  False   13          3         0      0   \n",
       "\n",
       "                    ...    p  e_p  n_p  snow_closest  snow_closest_notna  \\\n",
       "c_id    count_date  ...                                                    \n",
       "87ymwsn 1968-12-26  ...  NaN  NaN  NaN          <NA>                <NA>   \n",
       "87ysunb 1971-12-27  ...  0.0  NaN  NaN         False               False   \n",
       "        1972-12-17  ...  0.0  NaN  NaN         False               False   \n",
       "        1973-12-16  ...  0.0  NaN  NaN         False               False   \n",
       "        1974-12-15  ...  0.0  NaN  NaN         False               False   \n",
       "\n",
       "                    snow_lowest  snow_lowest_notna  consensus  e_consensus  \\\n",
       "c_id    count_date                                                           \n",
       "87ymwsn 1968-12-26         <NA>               <NA>       <NA>         <NA>   \n",
       "87ysunb 1971-12-27        False              False      False         <NA>   \n",
       "        1972-12-17        False              False      False         <NA>   \n",
       "        1973-12-16        False              False      False         <NA>   \n",
       "        1974-12-15        False              False      False         <NA>   \n",
       "\n",
       "                    n_consensus  \n",
       "c_id    count_date               \n",
       "87ymwsn 1968-12-26         <NA>  \n",
       "87ysunb 1971-12-27         <NA>  \n",
       "        1972-12-17         <NA>  \n",
       "        1973-12-16         <NA>  \n",
       "        1974-12-15         <NA>  \n",
       "\n",
       "[5 rows x 25 columns]"
      ]
     },
     "execution_count": 38,
     "metadata": {},
     "output_type": "execute_result"
    }
   ],
   "source": [
    "circle_data.head()"
   ]
  },
  {
   "cell_type": "code",
   "execution_count": 39,
   "metadata": {},
   "outputs": [
    {
     "data": {
      "text/plain": [
       "68390"
      ]
     },
     "execution_count": 39,
     "metadata": {},
     "output_type": "execute_result"
    }
   ],
   "source": [
    "# Count the number of circles we have \n",
    "circle_data['ui'].nunique()"
   ]
  },
  {
   "cell_type": "markdown",
   "metadata": {},
   "source": [
    "# Analysis\n",
    "## First examine the top level stats."
   ]
  },
  {
   "cell_type": "markdown",
   "metadata": {},
   "source": [
    "### The number of stations per circle"
   ]
  },
  {
   "cell_type": "code",
   "execution_count": 40,
   "metadata": {},
   "outputs": [
    {
     "data": {
      "text/plain": [
       "count    68390.000000\n",
       "mean         6.025808\n",
       "std          7.684488\n",
       "min          1.000000\n",
       "25%          1.000000\n",
       "50%          3.000000\n",
       "75%          8.000000\n",
       "max        101.000000\n",
       "Name: num, dtype: float64"
      ]
     },
     "execution_count": 40,
     "metadata": {},
     "output_type": "execute_result"
    }
   ],
   "source": [
    "circle_data.num.describe()"
   ]
  },
  {
   "cell_type": "code",
   "execution_count": 41,
   "metadata": {},
   "outputs": [
    {
     "data": {
      "text/plain": [
       "Text(0.5, 0, 'number of stations')"
      ]
     },
     "execution_count": 41,
     "metadata": {},
     "output_type": "execute_result"
    },
    {
     "name": "stderr",
     "output_type": "stream",
     "text": [
      "2020-09-21 23:08:40,338 findfont: Matching sans\\-serif:style=normal:variant=normal:weight=normal:stretch=normal:size=11.0.\n",
      "2020-09-21 23:08:40,373 findfont: score(<Font 'DejaVu Sans Display' (DejaVuSansDisplay.ttf) normal normal 400 normal>) = 10.05\n",
      "2020-09-21 23:08:40,374 findfont: score(<Font 'STIXGeneral' (STIXGeneral.ttf) normal normal regular normal>) = 10.05\n",
      "2020-09-21 23:08:40,379 findfont: score(<Font 'DejaVu Sans' (DejaVuSans.ttf) normal normal 400 normal>) = 2.05\n",
      "2020-09-21 23:08:40,382 findfont: score(<Font 'STIXNonUnicode' (STIXNonUniIta.ttf) italic normal 400 normal>) = 11.05\n",
      "2020-09-21 23:08:40,387 findfont: score(<Font 'STIXGeneral' (STIXGeneralItalic.ttf) italic normal 400 normal>) = 11.05\n",
      "2020-09-21 23:08:40,389 findfont: score(<Font 'DejaVu Sans' (DejaVuSans-Oblique.ttf) oblique normal 400 normal>) = 3.05\n",
      "2020-09-21 23:08:40,391 findfont: score(<Font 'DejaVu Serif' (DejaVuSerif-BoldItalic.ttf) italic normal 700 normal>) = 11.335\n",
      "2020-09-21 23:08:40,392 findfont: score(<Font 'STIXSizeThreeSym' (STIXSizThreeSymReg.ttf) normal normal regular normal>) = 10.05\n",
      "2020-09-21 23:08:40,393 findfont: score(<Font 'DejaVu Serif' (DejaVuSerif-Bold.ttf) normal normal 700 normal>) = 10.335\n",
      "2020-09-21 23:08:40,397 findfont: score(<Font 'cmmi10' (cmmi10.ttf) normal normal 400 normal>) = 10.05\n",
      "2020-09-21 23:08:40,399 findfont: score(<Font 'STIXNonUnicode' (STIXNonUniBol.ttf) normal normal 700 normal>) = 10.335\n",
      "2020-09-21 23:08:40,401 findfont: score(<Font 'DejaVu Sans Mono' (DejaVuSansMono.ttf) normal normal 400 normal>) = 10.05\n",
      "2020-09-21 23:08:40,407 findfont: score(<Font 'DejaVu Sans Mono' (DejaVuSansMono-Oblique.ttf) oblique normal 400 normal>) = 11.05\n",
      "2020-09-21 23:08:40,412 findfont: score(<Font 'DejaVu Serif' (DejaVuSerif.ttf) normal normal 400 normal>) = 10.05\n",
      "2020-09-21 23:08:40,425 findfont: score(<Font 'STIXNonUnicode' (STIXNonUni.ttf) normal normal regular normal>) = 10.05\n",
      "2020-09-21 23:08:40,432 findfont: score(<Font 'STIXSizeFourSym' (STIXSizFourSymBol.ttf) normal normal 700 normal>) = 10.335\n",
      "2020-09-21 23:08:40,438 findfont: score(<Font 'STIXSizeTwoSym' (STIXSizTwoSymReg.ttf) normal normal regular normal>) = 10.05\n",
      "2020-09-21 23:08:40,444 findfont: score(<Font 'cmex10' (cmex10.ttf) normal normal 400 normal>) = 10.05\n",
      "2020-09-21 23:08:40,456 findfont: score(<Font 'STIXGeneral' (STIXGeneralBol.ttf) normal normal 700 normal>) = 10.335\n",
      "2020-09-21 23:08:40,460 findfont: score(<Font 'STIXNonUnicode' (STIXNonUniBolIta.ttf) italic normal 700 normal>) = 11.335\n",
      "2020-09-21 23:08:40,464 findfont: score(<Font 'STIXSizeFourSym' (STIXSizFourSymReg.ttf) normal normal regular normal>) = 10.05\n",
      "2020-09-21 23:08:40,468 findfont: score(<Font 'cmss10' (cmss10.ttf) normal normal 400 normal>) = 10.05\n",
      "2020-09-21 23:08:40,473 findfont: score(<Font 'STIXSizeOneSym' (STIXSizOneSymBol.ttf) normal normal 700 normal>) = 10.335\n",
      "2020-09-21 23:08:40,477 findfont: score(<Font 'STIXSizeThreeSym' (STIXSizThreeSymBol.ttf) normal normal 700 normal>) = 10.335\n",
      "2020-09-21 23:08:40,484 findfont: score(<Font 'cmtt10' (cmtt10.ttf) normal normal 400 normal>) = 10.05\n",
      "2020-09-21 23:08:40,486 findfont: score(<Font 'cmb10' (cmb10.ttf) normal normal 400 normal>) = 10.05\n",
      "2020-09-21 23:08:40,490 findfont: score(<Font 'DejaVu Sans Mono' (DejaVuSansMono-BoldOblique.ttf) oblique normal 700 normal>) = 11.335\n",
      "2020-09-21 23:08:40,493 findfont: score(<Font 'DejaVu Sans' (DejaVuSans-BoldOblique.ttf) oblique normal 700 normal>) = 3.335\n",
      "2020-09-21 23:08:40,512 findfont: score(<Font 'STIXGeneral' (STIXGeneralBolIta.ttf) italic normal 700 normal>) = 11.335\n",
      "2020-09-21 23:08:40,514 findfont: score(<Font 'STIXSizeOneSym' (STIXSizOneSymReg.ttf) normal normal regular normal>) = 10.05\n",
      "2020-09-21 23:08:40,525 findfont: score(<Font 'STIXSizeFiveSym' (STIXSizFiveSymReg.ttf) normal normal regular normal>) = 10.05\n",
      "2020-09-21 23:08:40,527 findfont: score(<Font 'DejaVu Sans' (DejaVuSans-Bold.ttf) normal normal 700 normal>) = 2.335\n",
      "2020-09-21 23:08:40,536 findfont: score(<Font 'DejaVu Serif Display' (DejaVuSerifDisplay.ttf) normal normal 400 normal>) = 10.05\n",
      "2020-09-21 23:08:40,537 findfont: score(<Font 'cmr10' (cmr10.ttf) normal normal 400 normal>) = 10.05\n",
      "2020-09-21 23:08:40,544 findfont: score(<Font 'DejaVu Sans Mono' (DejaVuSansMono-Bold.ttf) normal normal 700 normal>) = 10.335\n",
      "2020-09-21 23:08:40,550 findfont: score(<Font 'STIXSizeTwoSym' (STIXSizTwoSymBol.ttf) normal normal 700 normal>) = 10.335\n",
      "2020-09-21 23:08:40,559 findfont: score(<Font 'cmsy10' (cmsy10.ttf) normal normal 400 normal>) = 10.05\n",
      "2020-09-21 23:08:40,561 findfont: score(<Font 'DejaVu Serif' (DejaVuSerif-Italic.ttf) italic normal 400 normal>) = 11.05\n",
      "2020-09-21 23:08:40,577 findfont: score(<Font 'Estrangelo Antioch' (SyrCOMAntioch.otf) normal normal 400 normal>) = 10.05\n",
      "2020-09-21 23:08:40,582 findfont: score(<Font 'STIXIntegralsSm' (STIXIntSmReg.otf) normal normal regular normal>) = 10.05\n",
      "2020-09-21 23:08:40,586 findfont: score(<Font 'Rockwell' (Rockwell.ttc) normal normal 400 normal>) = 10.05\n",
      "2020-09-21 23:08:40,588 findfont: score(<Font 'Phosphate' (Phosphate.ttc) normal normal 400 normal>) = 10.05\n",
      "2020-09-21 23:08:40,589 findfont: score(<Font 'STIXSizeFiveSym' (STIXSizFiveSymReg.otf) normal normal regular normal>) = 10.05\n",
      "2020-09-21 23:08:40,593 findfont: score(<Font 'STIXSizeOneSym' (STIXSizOneSymReg.otf) normal normal regular normal>) = 10.05\n",
      "2020-09-21 23:08:40,596 findfont: score(<Font 'Hiragino Sans' (ヒラギノ角ゴシック W2.ttc) normal normal 400 normal>) = 10.05\n",
      "2020-09-21 23:08:40,603 findfont: score(<Font 'System Font' (SFNS.ttf) normal normal 400 normal>) = 10.05\n",
      "2020-09-21 23:08:40,607 findfont: score(<Font 'Noto Sans Bamum' (NotoSansBamum-Regular.ttf) normal normal regular normal>) = 10.05\n",
      "2020-09-21 23:08:40,609 findfont: score(<Font '.SF NS Text Condensed' (SFNSTextCondensed-Heavy.otf) normal normal heavy condensed>) = 10.629999999999999\n",
      "2020-09-21 23:08:40,612 findfont: score(<Font 'Hiragino Sans' (ヒラギノ角ゴシック W9.ttc) normal normal 700 normal>) = 10.335\n",
      "2020-09-21 23:08:40,617 findfont: score(<Font 'Hiragino Sans' (ヒラギノ角ゴシック W1.ttc) normal normal 400 normal>) = 10.05\n",
      "2020-09-21 23:08:40,620 findfont: score(<Font 'Noto Sans Saurashtra' (NotoSansSaurashtra-Regular.ttf) normal normal regular normal>) = 10.05\n",
      "2020-09-21 23:08:40,624 findfont: score(<Font 'Arial Narrow' (Arial Narrow.ttf) normal normal 400 condensed>) = 10.25\n",
      "2020-09-21 23:08:40,627 findfont: score(<Font 'Luxi Mono' (luximbi.ttf) oblique normal 700 normal>) = 11.335\n",
      "2020-09-21 23:08:40,630 findfont: score(<Font 'Serto Kharput' (SyrCOMKharput.otf) normal normal 400 normal>) = 10.05\n",
      "2020-09-21 23:08:40,633 findfont: score(<Font 'Noto Sans Egyptian Hieroglyphs' (NotoSansEgyptianHieroglyphs-Regular.ttf) normal normal regular normal>) = 10.05\n",
      "2020-09-21 23:08:40,635 findfont: score(<Font 'Bitstream Vera Sans' (VeraIt.ttf) oblique normal 400 normal>) = 7.05\n",
      "2020-09-21 23:08:40,647 findfont: score(<Font 'East Syriac Adiabene' (SyrCOMAdiabene.otf) normal normal 400 normal>) = 10.05\n",
      "2020-09-21 23:08:40,652 findfont: score(<Font 'Kefa' (Kefa.ttc) normal normal regular normal>) = 10.05\n",
      "2020-09-21 23:08:40,655 findfont: score(<Font 'Serto Malankara' (SyrCOMMalankara.otf) normal normal 400 normal>) = 10.05\n",
      "2020-09-21 23:08:40,658 findfont: score(<Font 'Luxi Serif' (luxirbi.ttf) oblique normal 700 normal>) = 11.335\n",
      "2020-09-21 23:08:40,661 findfont: score(<Font 'Bitstream Vera Serif' (VeraSeBd.ttf) normal normal 700 normal>) = 10.335\n",
      "2020-09-21 23:08:40,664 findfont: score(<Font 'Kohinoor Devanagari' (Kohinoor.ttc) normal normal regular normal>) = 10.05\n",
      "2020-09-21 23:08:40,667 findfont: score(<Font '.SF NS Display Condensed' (SFNSDisplayCondensed-Bold.otf) normal normal bold condensed>) = 10.535\n",
      "2020-09-21 23:08:40,669 findfont: score(<Font 'Verdana' (Verdana Bold Italic.ttf) italic normal 700 normal>) = 11.335\n",
      "2020-09-21 23:08:40,673 findfont: score(<Font 'Tahoma' (Tahoma Bold.ttf) normal normal 700 normal>) = 10.335\n",
      "2020-09-21 23:08:40,678 findfont: score(<Font 'Verdana' (Verdana.ttf) normal normal 400 normal>) = 10.05\n",
      "2020-09-21 23:08:40,681 findfont: score(<Font 'Gurmukhi Sangam MN' (Gurmukhi Sangam MN.ttc) normal normal 400 normal>) = 10.05\n",
      "2020-09-21 23:08:40,683 findfont: score(<Font 'Kannada Sangam MN' (Kannada Sangam MN.ttc) normal normal 400 normal>) = 10.05\n"
     ]
    },
    {
     "name": "stderr",
     "output_type": "stream",
     "text": [
      "2020-09-21 23:08:40,687 findfont: score(<Font 'Bradley Hand' (Bradley Hand Bold.ttf) normal normal bold normal>) = 10.335\n",
      "2020-09-21 23:08:40,690 findfont: score(<Font 'Arial Narrow' (Arial Narrow Italic.ttf) italic normal 400 condensed>) = 11.25\n",
      "2020-09-21 23:08:40,694 findfont: score(<Font 'Comic Sans MS' (Comic Sans MS.ttf) normal normal 400 normal>) = 10.05\n",
      "2020-09-21 23:08:40,699 findfont: score(<Font 'Noto Sans Lepcha' (NotoSansLepcha-Regular.ttf) normal normal regular normal>) = 10.05\n",
      "2020-09-21 23:08:40,701 findfont: score(<Font 'Noto Sans Old Persian' (NotoSansOldPersian-Regular.ttf) normal normal regular normal>) = 10.05\n",
      "2020-09-21 23:08:40,704 findfont: score(<Font 'Apple Braille' (Apple Braille Outline 8 Dot.ttf) normal normal 400 normal>) = 10.05\n",
      "2020-09-21 23:08:40,708 findfont: score(<Font 'Marker Felt' (MarkerFelt.ttc) normal normal 400 normal>) = 10.05\n",
      "2020-09-21 23:08:40,710 findfont: score(<Font 'Raanana' (Raanana.ttc) normal normal 400 normal>) = 10.05\n",
      "2020-09-21 23:08:40,715 findfont: score(<Font 'Ayuthaya' (Ayuthaya.ttf) normal normal 400 normal>) = 10.05\n",
      "2020-09-21 23:08:40,720 findfont: score(<Font 'Hoefler Text' (Hoefler Text.ttc) normal normal 400 normal>) = 10.05\n",
      "2020-09-21 23:08:40,723 findfont: score(<Font '.SF NS Display Condensed' (SFNSDisplayCondensed-Light.otf) normal normal light condensed>) = 10.44\n",
      "2020-09-21 23:08:40,727 findfont: score(<Font 'Krungthep' (Krungthep.ttf) normal normal 400 normal>) = 10.05\n",
      "2020-09-21 23:08:40,731 findfont: score(<Font 'Serto Urhoy' (SyrCOMUrhoyBold.otf) normal normal 700 normal>) = 10.335\n",
      "2020-09-21 23:08:40,734 findfont: score(<Font 'Futura' (Futura.ttc) normal normal medium normal>) = 10.145\n",
      "2020-09-21 23:08:40,738 findfont: score(<Font 'Arial' (Arial Bold.ttf) normal normal 700 normal>) = 0.33499999999999996\n",
      "2020-09-21 23:08:40,748 findfont: score(<Font 'Noto Sans Sundanese' (NotoSansSundanese-Regular.ttf) normal normal regular normal>) = 10.05\n",
      "2020-09-21 23:08:40,756 findfont: score(<Font 'System Font' (SFNSItalic.ttf) italic normal regular normal>) = 11.05\n",
      "2020-09-21 23:08:40,759 findfont: score(<Font 'Songti SC' (Songti.ttc) normal normal black normal>) = 10.525\n",
      "2020-09-21 23:08:40,762 findfont: score(<Font 'Vecna' (Vecna-oppx.ttf) normal normal 400 normal>) = 10.05\n",
      "2020-09-21 23:08:40,766 findfont: score(<Font 'Noto Sans Chakma' (NotoSansChakma-Regular.ttf) normal normal regular normal>) = 10.05\n",
      "2020-09-21 23:08:40,770 findfont: score(<Font 'East Syriac Ctesiphon' (SyrCOMCtesiphon.otf) normal normal 400 normal>) = 10.05\n",
      "2020-09-21 23:08:40,774 findfont: score(<Font 'Times New Roman' (Times New Roman Bold Italic.ttf) italic normal 700 normal>) = 11.335\n",
      "2020-09-21 23:08:40,777 findfont: score(<Font 'Noto Sans Samaritan' (NotoSansSamaritan-Regular.ttf) normal normal regular normal>) = 10.05\n",
      "2020-09-21 23:08:40,779 findfont: score(<Font 'Hiragino Maru Gothic Pro' (ヒラギノ丸ゴ ProN W4.ttc) normal normal 400 normal>) = 10.05\n",
      "2020-09-21 23:08:40,783 findfont: score(<Font 'Athelas' (Athelas.ttc) normal normal regular normal>) = 10.05\n",
      "2020-09-21 23:08:40,786 findfont: score(<Font 'Noto Sans Hanunoo' (NotoSansHanunoo-Regular.ttf) normal normal regular normal>) = 10.05\n",
      "2020-09-21 23:08:40,795 findfont: score(<Font 'Seravek' (Seravek.ttc) normal normal 400 normal>) = 10.05\n",
      "2020-09-21 23:08:40,799 findfont: score(<Font 'DIN Alternate' (DIN Alternate Bold.ttf) normal normal 700 normal>) = 10.335\n",
      "2020-09-21 23:08:40,802 findfont: score(<Font 'STIXIntegralsUp' (STIXIntUpBol.otf) normal normal 700 normal>) = 10.335\n",
      "2020-09-21 23:08:40,805 findfont: score(<Font 'Noto Sans Gothic' (NotoSansGothic-Regular.ttf) normal normal regular normal>) = 10.05\n",
      "2020-09-21 23:08:40,808 findfont: score(<Font 'Times New Roman' (Times New Roman.ttf) normal normal roman normal>) = 10.145\n",
      "2020-09-21 23:08:40,810 findfont: score(<Font 'Charter' (Charter.ttc) normal normal roman normal>) = 10.145\n",
      "2020-09-21 23:08:40,819 findfont: score(<Font 'Papyrus' (Papyrus.ttc) normal normal 400 condensed>) = 10.25\n",
      "2020-09-21 23:08:40,823 findfont: score(<Font 'Estrangelo TurAbdin' (SyrCOMTurAbdin.otf) normal normal 400 normal>) = 10.05\n",
      "2020-09-21 23:08:40,826 findfont: score(<Font 'STIXVariants' (STIXVarBol.otf) normal normal 700 normal>) = 10.335\n",
      "2020-09-21 23:08:40,829 findfont: score(<Font '.SF NS Display Condensed' (SFNSDisplayCondensed-Black.otf) normal normal black condensed>) = 10.725\n",
      "2020-09-21 23:08:40,831 findfont: score(<Font 'Hiragino Sans' (ヒラギノ角ゴシック W7.ttc) normal normal 700 normal>) = 10.335\n",
      "2020-09-21 23:08:40,835 findfont: score(<Font 'Apple Chancery' (Apple Chancery.ttf) normal normal 400 normal>) = 10.05\n",
      "2020-09-21 23:08:40,838 findfont: score(<Font 'Noto Sans Kharoshthi' (NotoSansKharoshthi-Regular.ttf) normal normal regular normal>) = 10.05\n",
      "2020-09-21 23:08:40,840 findfont: score(<Font 'Noto Sans Cypriot' (NotoSansCypriot-Regular.ttf) normal normal regular normal>) = 10.05\n",
      "2020-09-21 23:08:40,842 findfont: score(<Font 'Noto Sans Armenian' (NotoSansArmenian.ttc) normal normal black normal>) = 10.525\n",
      "2020-09-21 23:08:40,845 findfont: score(<Font 'Noto Sans Syloti Nagri' (NotoSansSylotiNagri-Regular.ttf) normal normal regular normal>) = 10.05\n",
      "2020-09-21 23:08:40,847 findfont: score(<Font 'Bitstream Vera Sans Mono' (VeraMoBI.ttf) oblique normal 700 normal>) = 11.335\n",
      "2020-09-21 23:08:40,851 findfont: score(<Font 'Silom' (Silom.ttf) normal normal 400 normal>) = 10.05\n",
      "2020-09-21 23:08:40,857 findfont: score(<Font 'Estrangelo Nisibin' (SyrCOMNisibin.otf) normal normal 400 normal>) = 10.05\n",
      "2020-09-21 23:08:40,871 findfont: score(<Font 'Oriya MN' (Oriya MN.ttc) normal normal 400 normal>) = 10.05\n",
      "2020-09-21 23:08:40,874 findfont: score(<Font 'Luxi Mono' (luximr.ttf) normal normal regular normal>) = 10.05\n",
      "2020-09-21 23:08:40,882 findfont: score(<Font 'Helvetica Neue' (HelveticaNeue.ttc) normal normal 400 normal>) = 10.05\n",
      "2020-09-21 23:08:40,885 findfont: score(<Font 'DIN Condensed' (DIN Condensed Bold.ttf) normal normal 700 condensed>) = 10.535\n",
      "2020-09-21 23:08:40,887 findfont: score(<Font 'Trebuchet MS' (Trebuchet MS Bold Italic.ttf) italic normal 700 normal>) = 11.335\n",
      "2020-09-21 23:08:40,889 findfont: score(<Font 'Estrangelo Edessa' (SyrCOMEdessa.otf) normal normal 400 normal>) = 10.05\n",
      "2020-09-21 23:08:40,893 findfont: score(<Font 'Sukhumvit Set' (SukhumvitSet.ttc) normal normal 400 normal>) = 10.05\n",
      "2020-09-21 23:08:40,895 findfont: score(<Font 'Noto Sans Mandaic' (NotoSansMandaic-Regular.ttf) normal normal regular normal>) = 10.05\n",
      "2020-09-21 23:08:40,899 findfont: score(<Font 'Noto Sans Ogham' (NotoSansOgham-Regular.ttf) normal normal regular normal>) = 10.05\n",
      "2020-09-21 23:08:40,903 findfont: score(<Font 'Gurmukhi MN' (Gurmukhi MN.ttc) normal normal 400 normal>) = 10.05\n",
      "2020-09-21 23:08:40,904 findfont: score(<Font 'Bitstream Vera Serif' (VeraSe.ttf) normal normal 400 normal>) = 10.05\n",
      "2020-09-21 23:08:40,906 findfont: score(<Font 'Noto Sans Linear B' (NotoSansLinearB-Regular.ttf) normal normal regular normal>) = 10.05\n",
      "2020-09-21 23:08:40,910 findfont: score(<Font 'STIXNonUnicode' (STIXNonUni.otf) normal normal regular normal>) = 10.05\n",
      "2020-09-21 23:08:40,914 findfont: score(<Font 'Tamil MN' (Tamil MN.ttc) normal normal 400 normal>) = 10.05\n",
      "2020-09-21 23:08:40,917 findfont: score(<Font 'Telugu Sangam MN' (Telugu Sangam MN.ttc) normal normal 400 normal>) = 10.05\n",
      "2020-09-21 23:08:40,921 findfont: score(<Font 'Devanagari Sangam MN' (Devanagari Sangam MN.ttc) normal normal 400 normal>) = 10.05\n",
      "2020-09-21 23:08:40,925 findfont: score(<Font 'KufiStandardGK' (KufiStandardGK.ttc) normal normal regular normal>) = 10.05\n",
      "2020-09-21 23:08:40,929 findfont: score(<Font 'Hiragino Sans' (ヒラギノ角ゴシック W8.ttc) normal normal 700 normal>) = 10.335\n",
      "2020-09-21 23:08:40,931 findfont: score(<Font 'STIXNonUnicode' (STIXNonUniBol.otf) normal normal 700 normal>) = 10.335\n",
      "2020-09-21 23:08:40,934 findfont: score(<Font 'PT Serif' (PTSerif.ttc) normal normal 400 normal>) = 10.05\n",
      "2020-09-21 23:08:40,937 findfont: score(<Font 'STIXIntegralsUpD' (STIXIntUpDBol.otf) normal normal 700 normal>) = 10.335\n",
      "2020-09-21 23:08:40,940 findfont: score(<Font 'Tahoma' (Tahoma.ttf) normal normal 400 normal>) = 10.05\n",
      "2020-09-21 23:08:40,945 findfont: score(<Font 'Noto Sans NKo' (NotoSansNKo-Regular.ttf) normal normal regular normal>) = 10.05\n"
     ]
    },
    {
     "name": "stderr",
     "output_type": "stream",
     "text": [
      "2020-09-21 23:08:40,949 findfont: score(<Font 'Damascus' (Damascus.ttc) normal normal regular normal>) = 10.05\n",
      "2020-09-21 23:08:40,953 findfont: score(<Font 'Noto Sans Phoenician' (NotoSansPhoenician-Regular.ttf) normal normal regular normal>) = 10.05\n",
      "2020-09-21 23:08:40,955 findfont: score(<Font '.SF NS Display Condensed' (SFNSDisplayCondensed-Thin.otf) normal normal 400 condensed>) = 10.25\n",
      "2020-09-21 23:08:40,957 findfont: score(<Font 'Big Caslon' (BigCaslon.ttf) normal normal medium normal>) = 10.145\n",
      "2020-09-21 23:08:40,961 findfont: score(<Font 'Serto Batnan' (SyrCOMBatnan.otf) normal normal 400 normal>) = 10.05\n",
      "2020-09-21 23:08:40,963 findfont: score(<Font 'Noto Sans Glagolitic' (NotoSansGlagolitic-Regular.ttf) normal normal regular normal>) = 10.05\n",
      "2020-09-21 23:08:40,969 findfont: score(<Font 'Sathu' (Sathu.ttf) normal normal 400 normal>) = 10.05\n",
      "2020-09-21 23:08:40,972 findfont: score(<Font 'Noto Sans Syriac' (NotoSansSyriac-Regular.ttf) normal normal regular normal>) = 10.05\n",
      "2020-09-21 23:08:40,978 findfont: score(<Font '.SF Compact Display' (SFCompactDisplay.ttf) normal normal 400 normal>) = 10.05\n",
      "2020-09-21 23:08:40,987 findfont: score(<Font 'Telugu MN' (Telugu MN.ttc) normal normal 400 normal>) = 10.05\n",
      "2020-09-21 23:08:40,989 findfont: score(<Font 'Kokonor' (Kokonor.ttf) normal normal regular normal>) = 10.05\n",
      "2020-09-21 23:08:40,991 findfont: score(<Font 'Beirut' (Beirut.ttc) normal normal regular normal>) = 10.05\n",
      "2020-09-21 23:08:40,994 findfont: score(<Font 'Arial Unicode MS' (Arial Unicode.ttf) normal normal 400 normal>) = 10.05\n",
      "2020-09-21 23:08:41,002 findfont: score(<Font 'Gujarati Sangam MN' (Gujarati Sangam MN.ttc) normal normal 400 normal>) = 10.05\n",
      "2020-09-21 23:08:41,013 findfont: score(<Font 'Noto Sans Kayah Li' (NotoSansKayahLi-Regular.ttf) normal normal regular normal>) = 10.05\n",
      "2020-09-21 23:08:41,045 findfont: score(<Font 'Courier New' (Courier New.ttf) normal normal 400 normal>) = 10.05\n",
      "2020-09-21 23:08:41,049 findfont: score(<Font 'SignPainter' (SignPainter.ttc) normal normal 400 normal>) = 10.05\n",
      "2020-09-21 23:08:41,057 findfont: score(<Font 'Bitstream Vera Sans' (VeraBI.ttf) oblique normal 700 normal>) = 7.335\n",
      "2020-09-21 23:08:41,060 findfont: score(<Font 'Noto Sans Meetei Mayek' (NotoSansMeeteiMayek-Regular.ttf) normal normal regular normal>) = 10.05\n",
      "2020-09-21 23:08:41,062 findfont: score(<Font 'Apple Braille' (Apple Braille Pinpoint 8 Dot.ttf) normal normal 400 normal>) = 10.05\n",
      "2020-09-21 23:08:41,065 findfont: score(<Font '.SF NS Text Condensed' (SFNSTextCondensed-Medium.otf) normal normal medium condensed>) = 10.344999999999999\n",
      "2020-09-21 23:08:41,069 findfont: score(<Font 'Noto Sans Kaithi' (NotoSansKaithi-Regular.ttf) normal normal regular normal>) = 10.05\n",
      "2020-09-21 23:08:41,071 findfont: score(<Font 'PT Mono' (PTMono.ttc) normal normal 700 normal>) = 10.335\n",
      "2020-09-21 23:08:41,073 findfont: score(<Font 'Serto Mardin' (SyrCOMMardin.otf) normal normal 400 normal>) = 10.05\n",
      "2020-09-21 23:08:41,074 findfont: score(<Font 'Noto Sans Batak' (NotoSansBatak-Regular.ttf) normal normal regular normal>) = 10.05\n",
      "2020-09-21 23:08:41,079 findfont: score(<Font 'STIXSizeThreeSym' (STIXSizThreeSymReg.otf) normal normal regular normal>) = 10.05\n",
      "2020-09-21 23:08:41,082 findfont: score(<Font 'Noto Sans Yi' (NotoSansYi-Regular.ttf) normal normal regular normal>) = 10.05\n",
      "2020-09-21 23:08:41,089 findfont: score(<Font 'Baskerville' (Baskerville.ttc) normal normal 400 normal>) = 10.05\n",
      "2020-09-21 23:08:41,091 findfont: score(<Font 'Noto Sans Tifinagh' (NotoSansTifinagh-Regular.ttf) normal normal regular normal>) = 10.05\n",
      "2020-09-21 23:08:41,093 findfont: score(<Font 'Georgia' (Georgia Bold Italic.ttf) italic normal 700 normal>) = 11.335\n",
      "2020-09-21 23:08:41,096 findfont: score(<Font 'Noto Sans Old South Arabian' (NotoSansOldSouthArabian-Regular.ttf) normal normal regular normal>) = 10.05\n",
      "2020-09-21 23:08:41,101 findfont: score(<Font 'Noto Sans Limbu' (NotoSansLimbu-Regular.ttf) normal normal regular normal>) = 10.05\n",
      "2020-09-21 23:08:41,106 findfont: score(<Font 'Farisi' (Farisi.ttf) normal normal regular normal>) = 10.05\n",
      "2020-09-21 23:08:41,108 findfont: score(<Font 'Noto Sans Inscriptional Pahlavi' (NotoSansInscriptionalPahlavi-Regular.ttf) normal normal regular normal>) = 10.05\n",
      "2020-09-21 23:08:41,112 findfont: score(<Font 'Nadeem' (Nadeem.ttc) normal normal regular normal>) = 10.05\n",
      "2020-09-21 23:08:41,117 findfont: score(<Font 'Noto Sans Tagalog' (NotoSansTagalog-Regular.ttf) normal normal regular normal>) = 10.05\n",
      "2020-09-21 23:08:41,121 findfont: score(<Font 'Noto Sans Runic' (NotoSansRunic-Regular.ttf) normal normal regular normal>) = 10.05\n",
      "2020-09-21 23:08:41,123 findfont: score(<Font 'Arial Narrow' (Arial Narrow Bold Italic.ttf) italic normal 700 condensed>) = 11.535\n",
      "2020-09-21 23:08:41,126 findfont: score(<Font 'Mishafi' (Mishafi.ttf) normal normal regular normal>) = 10.05\n",
      "2020-09-21 23:08:41,133 findfont: score(<Font 'Microsoft Sans Serif' (Microsoft Sans Serif.ttf) normal normal 400 normal>) = 10.05\n",
      "2020-09-21 23:08:41,136 findfont: score(<Font 'Mshtakan' (Mshtakan.ttc) normal normal 400 normal>) = 10.05\n",
      "2020-09-21 23:08:41,139 findfont: score(<Font '.SF NS Mono' (SFNSMono.ttf) normal normal light normal>) = 10.24\n",
      "2020-09-21 23:08:41,142 findfont: score(<Font 'Shree Devanagari 714' (Shree714.ttc) normal normal 400 normal>) = 10.05\n",
      "2020-09-21 23:08:41,147 findfont: score(<Font 'Apple Braille' (Apple Braille Pinpoint 6 Dot.ttf) normal normal 400 normal>) = 10.05\n",
      "2020-09-21 23:08:41,150 findfont: score(<Font 'Apple Symbols' (Apple Symbols.ttf) normal normal 400 normal>) = 10.05\n",
      "2020-09-21 23:08:41,152 findfont: score(<Font 'Bodoni Ornaments' (Bodoni Ornaments.ttf) normal normal 400 normal>) = 10.05\n",
      "2020-09-21 23:08:41,155 findfont: score(<Font 'STIXIntegralsUpSm' (STIXIntUpSmBol.otf) normal normal 700 normal>) = 10.335\n",
      "2020-09-21 23:08:41,157 findfont: score(<Font 'Wingdings' (Wingdings.ttf) normal normal 400 normal>) = 10.05\n",
      "2020-09-21 23:08:41,161 findfont: score(<Font 'Menlo' (Menlo.ttc) normal normal regular normal>) = 10.05\n",
      "2020-09-21 23:08:41,163 findfont: score(<Font 'Kohinoor Telugu' (KohinoorTelugu.ttc) normal normal 400 normal>) = 10.05\n",
      "2020-09-21 23:08:41,165 findfont: score(<Font 'Noto Sans Lisu' (NotoSansLisu-Regular.ttf) normal normal regular normal>) = 10.05\n",
      "2020-09-21 23:08:41,167 findfont: score(<Font 'STIXSizeThreeSym' (STIXSizThreeSymBol.otf) normal normal 700 normal>) = 10.335\n",
      "2020-09-21 23:08:41,169 findfont: score(<Font 'STIXIntegralsD' (STIXIntDReg.otf) normal normal regular normal>) = 10.05\n",
      "2020-09-21 23:08:41,171 findfont: score(<Font 'Bodoni 72 Smallcaps' (Bodoni 72 Smallcaps Book.ttf) normal normal book normal>) = 10.05\n",
      "2020-09-21 23:08:41,174 findfont: score(<Font 'Trattatello' (Trattatello.ttf) normal normal 400 normal>) = 10.05\n",
      "2020-09-21 23:08:41,177 findfont: score(<Font 'Geeza Pro' (GeezaPro.ttc) normal normal regular normal>) = 10.05\n",
      "2020-09-21 23:08:41,179 findfont: score(<Font 'Noto Serif Balinese' (NotoSerifBalinese-Regular.ttf) normal normal regular normal>) = 10.05\n",
      "2020-09-21 23:08:41,181 findfont: score(<Font 'Serto Jerusalem' (SyrCOMJerusalemBold.otf) normal normal 700 normal>) = 10.335\n",
      "2020-09-21 23:08:41,184 findfont: score(<Font 'Noto Sans Tagbanwa' (NotoSansTagbanwa-Regular.ttf) normal normal regular normal>) = 10.05\n",
      "2020-09-21 23:08:41,185 findfont: score(<Font '.SF NS Text Condensed' (SFNSTextCondensed-Light.otf) normal normal light condensed>) = 10.44\n",
      "2020-09-21 23:08:41,189 findfont: score(<Font 'Courier New' (Courier New Bold.ttf) normal normal 700 normal>) = 10.335\n",
      "2020-09-21 23:08:41,193 findfont: score(<Font 'Chalkboard SE' (ChalkboardSE.ttc) normal normal light normal>) = 10.24\n",
      "2020-09-21 23:08:41,195 findfont: score(<Font 'Mishafi Gold' (Mishafi Gold.ttf) normal normal regular normal>) = 10.05\n",
      "2020-09-21 23:08:41,197 findfont: score(<Font 'Luxi Mono' (luximri.ttf) oblique normal 400 normal>) = 11.05\n",
      "2020-09-21 23:08:41,200 findfont: score(<Font 'Noto Sans Ugaritic' (NotoSansUgaritic-Regular.ttf) normal normal regular normal>) = 10.05\n",
      "2020-09-21 23:08:41,202 findfont: score(<Font 'Hiragino Mincho ProN' (ヒラギノ明朝 ProN.ttc) normal normal 400 normal>) = 10.05\n",
      "2020-09-21 23:08:41,204 findfont: score(<Font 'Kailasa' (Kailasa.ttc) normal normal regular normal>) = 10.05\n"
     ]
    },
    {
     "name": "stderr",
     "output_type": "stream",
     "text": [
      "2020-09-21 23:08:41,206 findfont: score(<Font 'Chalkboard' (Chalkboard.ttc) normal normal 400 normal>) = 10.05\n",
      "2020-09-21 23:08:41,210 findfont: score(<Font 'Bodoni 72 Oldstyle' (Bodoni 72 OS.ttc) normal normal book normal>) = 10.05\n",
      "2020-09-21 23:08:41,212 findfont: score(<Font 'Noto Sans Old Turkic' (NotoSansOldTurkic-Regular.ttf) normal normal regular normal>) = 10.05\n",
      "2020-09-21 23:08:41,213 findfont: score(<Font 'STIXSizeFourSym' (STIXSizFourSymReg.otf) normal normal regular normal>) = 10.05\n",
      "2020-09-21 23:08:41,215 findfont: score(<Font 'Luxi Sans' (luxisr.ttf) normal normal regular normal>) = 10.05\n",
      "2020-09-21 23:08:41,217 findfont: score(<Font 'Noto Sans Old Italic' (NotoSansOldItalic-Regular.ttf) italic normal regular normal>) = 11.05\n",
      "2020-09-21 23:08:41,218 findfont: score(<Font 'Bodoni 72' (Bodoni 72.ttc) normal normal book normal>) = 10.05\n",
      "2020-09-21 23:08:41,220 findfont: score(<Font 'Andale Mono' (Andale Mono.ttf) normal normal 400 normal>) = 10.05\n",
      "2020-09-21 23:08:41,221 findfont: score(<Font 'Khmer MN' (Khmer MN.ttc) normal normal 400 normal>) = 10.05\n",
      "2020-09-21 23:08:41,223 findfont: score(<Font 'Luxi Sans' (luxisb.ttf) normal normal 700 normal>) = 10.335\n",
      "2020-09-21 23:08:41,224 findfont: score(<Font 'Estrangelo Quenneshrin' (SyrCOMQenNeshrin.otf) normal normal 400 normal>) = 10.05\n",
      "2020-09-21 23:08:41,228 findfont: score(<Font 'Bitstream Vera Sans' (VeraBd.ttf) normal normal 700 normal>) = 6.335\n",
      "2020-09-21 23:08:41,231 findfont: score(<Font 'Hoefler Text' (Hoefler Text Ornaments.ttf) normal normal 400 normal>) = 10.05\n",
      "2020-09-21 23:08:41,234 findfont: score(<Font 'Snell Roundhand' (SnellRoundhand.ttc) normal normal 400 normal>) = 10.05\n",
      "2020-09-21 23:08:41,238 findfont: score(<Font 'Avenir Next Condensed' (Avenir Next Condensed.ttc) normal normal 700 condensed>) = 10.535\n",
      "2020-09-21 23:08:41,242 findfont: score(<Font 'Arial Rounded MT Bold' (Arial Rounded Bold.ttf) normal normal bold normal>) = 10.335\n",
      "2020-09-21 23:08:41,246 findfont: score(<Font 'AppleGothic' (AppleGothic.ttf) normal normal regular normal>) = 10.05\n",
      "2020-09-21 23:08:41,250 findfont: score(<Font 'Noto Sans Imperial Aramaic' (NotoSansImperialAramaic-Regular.ttf) normal normal regular normal>) = 10.05\n",
      "2020-09-21 23:08:41,252 findfont: score(<Font 'Herculanum' (Herculanum.ttf) normal normal 400 normal>) = 10.05\n",
      "2020-09-21 23:08:41,255 findfont: score(<Font 'Khmer Sangam MN' (Khmer Sangam MN.ttf) normal normal 400 normal>) = 10.05\n",
      "2020-09-21 23:08:41,258 findfont: score(<Font 'Noto Sans Lycian' (NotoSansLycian-Regular.ttf) normal normal regular normal>) = 10.05\n",
      "2020-09-21 23:08:41,261 findfont: score(<Font 'Luxi Serif' (luxirri.ttf) oblique normal 400 normal>) = 11.05\n",
      "2020-09-21 23:08:41,264 findfont: score(<Font 'Noto Sans Cham' (NotoSansCham-Regular.ttf) normal normal regular normal>) = 10.05\n",
      "2020-09-21 23:08:41,268 findfont: score(<Font 'Malayalam MN' (Malayalam MN.ttc) normal normal 400 normal>) = 10.05\n",
      "2020-09-21 23:08:41,270 findfont: score(<Font 'Malayalam Sangam MN' (Malayalam Sangam MN.ttc) normal normal 400 normal>) = 10.05\n",
      "2020-09-21 23:08:41,272 findfont: score(<Font 'STIXIntegralsSm' (STIXIntSmBol.otf) normal normal 700 normal>) = 10.335\n",
      "2020-09-21 23:08:41,273 findfont: score(<Font 'Noto Sans Mongolian' (NotoSansMongolian-Regular.ttf) normal normal 400 normal>) = 10.05\n",
      "2020-09-21 23:08:41,276 findfont: score(<Font 'Avenir' (Avenir.ttc) normal normal book normal>) = 10.05\n",
      "2020-09-21 23:08:41,278 findfont: score(<Font 'Luxi Serif' (luxirr.ttf) normal normal regular normal>) = 10.05\n",
      "2020-09-21 23:08:41,293 findfont: score(<Font 'Bitstream Vera Sans Mono' (VeraMoIt.ttf) oblique normal 400 normal>) = 11.05\n",
      "2020-09-21 23:08:41,297 findfont: score(<Font 'Georgia' (Georgia.ttf) normal normal 400 normal>) = 10.05\n",
      "2020-09-21 23:08:41,301 findfont: score(<Font 'Noto Serif Myanmar' (NotoSerifMyanmar.ttc) normal normal black normal>) = 10.525\n",
      "2020-09-21 23:08:41,303 findfont: score(<Font 'Luxi Serif' (luxirb.ttf) normal normal 700 normal>) = 10.335\n",
      "2020-09-21 23:08:41,306 findfont: score(<Font 'Noto Sans Osmanya' (NotoSansOsmanya-Regular.ttf) normal normal regular normal>) = 10.05\n",
      "2020-09-21 23:08:41,312 findfont: score(<Font 'STIXGeneral' (STIXGeneralBol.otf) normal normal 700 normal>) = 10.335\n",
      "2020-09-21 23:08:41,322 findfont: score(<Font 'Zapf Dingbats' (ZapfDingbats.ttf) normal normal 400 normal>) = 10.05\n",
      "2020-09-21 23:08:41,327 findfont: score(<Font 'STIXIntegralsD' (STIXIntDBol.otf) normal normal 700 normal>) = 10.335\n",
      "2020-09-21 23:08:41,332 findfont: score(<Font 'Serto Urhoy' (SyrCOMUrhoy.otf) normal normal 400 normal>) = 10.05\n",
      "2020-09-21 23:08:41,335 findfont: score(<Font 'Hiragino Sans' (ヒラギノ角ゴシック W5.ttc) normal normal 700 normal>) = 10.335\n",
      "2020-09-21 23:08:41,338 findfont: score(<Font 'Noto Sans Javanese' (NotoSansJavanese-Regular.otf) normal normal regular normal>) = 10.05\n",
      "2020-09-21 23:08:41,342 findfont: score(<Font 'Al Tarikh' (Al Tarikh.ttc) normal normal regular normal>) = 10.05\n",
      "2020-09-21 23:08:41,344 findfont: score(<Font 'Serto Batnan' (SyrCOMBatnanBold.otf) normal normal 700 normal>) = 10.335\n",
      "2020-09-21 23:08:41,347 findfont: score(<Font '.SF Compact Rounded' (SFCompactRounded.ttf) normal normal 400 normal>) = 10.05\n",
      "2020-09-21 23:08:41,353 findfont: score(<Font 'STIXSizeTwoSym' (STIXSizTwoSymBol.otf) normal normal 700 normal>) = 10.335\n",
      "2020-09-21 23:08:41,357 findfont: score(<Font 'Trebuchet MS' (Trebuchet MS Bold.ttf) normal normal 700 normal>) = 10.335\n",
      "2020-09-21 23:08:41,359 findfont: score(<Font 'Noteworthy' (Noteworthy.ttc) normal normal light normal>) = 10.24\n",
      "2020-09-21 23:08:41,365 findfont: score(<Font '.SF NS Display Condensed' (SFNSDisplayCondensed-Regular.otf) normal normal regular condensed>) = 10.25\n",
      "2020-09-21 23:08:41,368 findfont: score(<Font 'PT Serif Caption' (PTSerifCaption.ttc) normal normal 400 normal>) = 10.05\n",
      "2020-09-21 23:08:41,370 findfont: score(<Font '.Arabic UI Display' (ArabicUIDisplay.ttc) normal normal black normal>) = 10.525\n",
      "2020-09-21 23:08:41,373 findfont: score(<Font '.SF Compact Text' (SFCompactTextItalic.ttf) italic normal 400 normal>) = 11.05\n",
      "2020-09-21 23:08:41,377 findfont: score(<Font 'Estrangelo Talada' (SyrCOMTalada.otf) normal normal 400 normal>) = 10.05\n",
      "2020-09-21 23:08:41,380 findfont: score(<Font 'Apple SD Gothic Neo' (AppleSDGothicNeo.ttc) normal normal regular normal>) = 10.05\n",
      "2020-09-21 23:08:41,384 findfont: score(<Font '.Helvetica Neue DeskInterface' (HelveticaNeueDeskInterface.ttc) normal normal regular normal>) = 10.05\n",
      "2020-09-21 23:08:41,385 findfont: score(<Font 'Heiti TC' (STHeiti Medium.ttc) normal normal 700 normal>) = 10.335\n",
      "2020-09-21 23:08:41,387 findfont: score(<Font 'Bangla Sangam MN' (Bangla Sangam MN.ttc) normal normal 400 normal>) = 10.05\n",
      "2020-09-21 23:08:41,389 findfont: score(<Font 'Sinhala Sangam MN' (Sinhala Sangam MN.ttc) normal normal 400 normal>) = 10.05\n",
      "2020-09-21 23:08:41,390 findfont: score(<Font '.SF NS Display Condensed' (SFNSDisplayCondensed-Heavy.otf) normal normal heavy condensed>) = 10.629999999999999\n",
      "2020-09-21 23:08:41,393 findfont: score(<Font 'STIXGeneral' (STIXGeneral.otf) normal normal regular normal>) = 10.05\n",
      "2020-09-21 23:08:41,397 findfont: score(<Font 'Serto Jerusalem' (SyrCOMJerusalemItalic.otf) italic normal 400 normal>) = 11.05\n",
      "2020-09-21 23:08:41,401 findfont: score(<Font 'New Peninim MT' (NewPeninimMT.ttc) normal normal 400 normal>) = 10.05\n",
      "2020-09-21 23:08:41,404 findfont: score(<Font 'STIXSizeFourSym' (STIXSizFourSymBol.otf) normal normal 700 normal>) = 10.335\n",
      "2020-09-21 23:08:41,408 findfont: score(<Font 'Luxi Mono' (luximb.ttf) normal normal 700 normal>) = 10.335\n",
      "2020-09-21 23:08:41,411 findfont: score(<Font 'InaiMathi' (InaiMathi-MN.ttc) normal normal 400 normal>) = 10.05\n",
      "2020-09-21 23:08:41,414 findfont: score(<Font 'DecoType Naskh' (DecoTypeNaskh.ttc) normal normal regular normal>) = 10.05\n",
      "2020-09-21 23:08:41,417 findfont: score(<Font 'Al Bayan' (AlBayan.ttc) normal normal 400 normal>) = 10.05\n",
      "2020-09-21 23:08:41,420 findfont: score(<Font 'Gill Sans' (GillSans.ttc) normal normal 400 normal>) = 10.05\n",
      "2020-09-21 23:08:41,423 findfont: score(<Font 'Luminari' (Luminari.ttf) normal normal 400 normal>) = 10.05\n"
     ]
    },
    {
     "name": "stderr",
     "output_type": "stream",
     "text": [
      "2020-09-21 23:08:41,425 findfont: score(<Font 'Noto Sans Lydian' (NotoSansLydian-Regular.ttf) normal normal regular normal>) = 10.05\n",
      "2020-09-21 23:08:41,430 findfont: score(<Font 'Hiragino Sans' (ヒラギノ角ゴシック W0.ttc) normal normal 400 normal>) = 10.05\n",
      "2020-09-21 23:08:41,434 findfont: score(<Font 'Georgia' (Georgia Bold.ttf) normal normal 700 normal>) = 10.335\n",
      "2020-09-21 23:08:41,438 findfont: score(<Font 'Heiti TC' (STHeiti Light.ttc) normal normal light normal>) = 10.24\n",
      "2020-09-21 23:08:41,442 findfont: score(<Font 'PT Sans' (PTSans.ttc) normal normal 400 normal>) = 10.05\n",
      "2020-09-21 23:08:41,445 findfont: score(<Font 'STIXSizeOneSym' (STIXSizOneSymBol.otf) normal normal 700 normal>) = 10.335\n",
      "2020-09-21 23:08:41,448 findfont: score(<Font '.SF NS Text Condensed' (SFNSTextCondensed-Semibold.otf) normal normal semibold condensed>) = 10.44\n",
      "2020-09-21 23:08:41,454 findfont: score(<Font 'Zapfino' (Zapfino.ttf) normal normal 400 normal>) = 10.05\n",
      "2020-09-21 23:08:41,456 findfont: score(<Font 'Skia' (Skia.ttf) normal normal 400 normal>) = 10.05\n",
      "2020-09-21 23:08:41,464 findfont: score(<Font 'Trebuchet MS' (Trebuchet MS Italic.ttf) italic normal 400 normal>) = 11.05\n",
      "2020-09-21 23:08:41,471 findfont: score(<Font 'Euphemia UCAS' (EuphemiaCAS.ttc) normal normal 400 normal>) = 10.05\n",
      "2020-09-21 23:08:41,479 findfont: score(<Font 'Superclarendon' (SuperClarendon.ttc) normal normal regular normal>) = 10.05\n",
      "2020-09-21 23:08:41,483 findfont: score(<Font 'Symbol' (Symbol.ttf) normal normal 400 normal>) = 10.05\n",
      "2020-09-21 23:08:41,496 findfont: score(<Font 'Apple Braille' (Apple Braille.ttf) normal normal 400 normal>) = 10.05\n",
      "2020-09-21 23:08:41,500 findfont: score(<Font 'Gurmukhi MT' (Gurmukhi.ttf) normal normal 400 normal>) = 10.05\n",
      "2020-09-21 23:08:41,504 findfont: score(<Font 'Noto Sans Kannada' (NotoSansKannada.ttc) normal normal black normal>) = 10.525\n",
      "2020-09-21 23:08:41,508 findfont: score(<Font 'Noto Sans Tai Tham' (NotoSansTaiTham-Regular.ttf) normal normal 400 normal>) = 10.05\n",
      "2020-09-21 23:08:41,703 findfont: score(<Font '.Aqua Kana' (AquaKana.ttc) normal normal 400 normal>) = 10.05\n",
      "2020-09-21 23:08:41,708 findfont: score(<Font 'Luxi Sans' (luxisri.ttf) oblique normal 400 normal>) = 11.05\n",
      "2020-09-21 23:08:41,711 findfont: score(<Font 'Farah' (Farah.ttc) normal normal regular normal>) = 10.05\n",
      "2020-09-21 23:08:41,712 findfont: score(<Font 'Estrangelo Nisibin Outline' (SyrCOMNisibinOutline.otf) normal normal 400 normal>) = 10.05\n",
      "2020-09-21 23:08:41,714 findfont: score(<Font '.New York' (NewYork.ttf) normal normal 400 normal>) = 10.05\n",
      "2020-09-21 23:08:41,716 findfont: score(<Font '.SF NS Rounded' (SFNSRounded.ttf) normal normal 400 normal>) = 10.05\n",
      "2020-09-21 23:08:41,719 findfont: score(<Font 'Bangla MN' (Bangla MN.ttc) normal normal 400 normal>) = 10.05\n",
      "2020-09-21 23:08:41,723 findfont: score(<Font 'Diwan Thuluth' (Diwan Thuluth.ttf) normal normal regular normal>) = 10.05\n",
      "2020-09-21 23:08:41,726 findfont: score(<Font '.LastResort' (LastResort.otf) normal normal 400 normal>) = 10.05\n",
      "2020-09-21 23:08:41,729 findfont: score(<Font 'Lao MN' (Lao MN.ttc) normal normal 400 normal>) = 10.05\n",
      "2020-09-21 23:08:41,732 findfont: score(<Font 'STIXVariants' (STIXVar.otf) normal normal regular normal>) = 10.05\n",
      "2020-09-21 23:08:41,735 findfont: score(<Font 'Webdings' (Webdings.ttf) normal normal 400 normal>) = 10.05\n",
      "2020-09-21 23:08:41,742 findfont: score(<Font '.SF NS Display Condensed' (SFNSDisplayCondensed-Medium.otf) normal normal medium condensed>) = 10.344999999999999\n",
      "2020-09-21 23:08:41,746 findfont: score(<Font 'Arial Hebrew' (ArialHB.ttc) normal normal 400 normal>) = 10.05\n",
      "2020-09-21 23:08:41,747 findfont: score(<Font 'Arial' (Arial.ttf) normal normal 400 normal>) = 0.05\n",
      "2020-09-21 23:08:41,749 findfont: score(<Font 'Serto Jerusalem Outline' (SyrCOMJerusalemOutline.otf) normal normal 400 normal>) = 10.05\n",
      "2020-09-21 23:08:41,753 findfont: score(<Font 'Savoye LET' (Savoye LET.ttc) normal normal 400 normal>) = 10.05\n",
      "2020-09-21 23:08:41,757 findfont: score(<Font 'American Typewriter' (AmericanTypewriter.ttc) normal normal 400 normal>) = 10.05\n",
      "2020-09-21 23:08:41,760 findfont: score(<Font 'Luxi Sans' (luxisbi.ttf) oblique normal 700 normal>) = 11.335\n",
      "2020-09-21 23:08:41,763 findfont: score(<Font '.SF NS Display Condensed' (SFNSDisplayCondensed-Semibold.otf) normal normal semibold condensed>) = 10.44\n",
      "2020-09-21 23:08:41,766 findfont: score(<Font 'Gujarati MT' (GujaratiMT.ttc) normal normal 400 normal>) = 10.05\n",
      "2020-09-21 23:08:41,769 findfont: score(<Font 'Arial Narrow' (Arial Narrow Bold.ttf) normal normal 700 condensed>) = 10.535\n",
      "2020-09-21 23:08:41,772 findfont: score(<Font 'Georgia' (Georgia Italic.ttf) italic normal 400 normal>) = 11.05\n",
      "2020-09-21 23:08:41,775 findfont: score(<Font 'STIXIntegralsUpD' (STIXIntUpDReg.otf) normal normal regular normal>) = 10.05\n",
      "2020-09-21 23:08:41,780 findfont: score(<Font 'Arial' (Arial Bold Italic.ttf) italic normal 700 normal>) = 1.335\n",
      "2020-09-21 23:08:41,783 findfont: score(<Font 'Wingdings 2' (Wingdings 2.ttf) normal normal 400 normal>) = 10.05\n",
      "2020-09-21 23:08:41,788 findfont: score(<Font 'Noto Sans Carian' (NotoSansCarian-Regular.ttf) normal normal regular normal>) = 10.05\n",
      "2020-09-21 23:08:41,790 findfont: score(<Font 'STIXIntegralsUp' (STIXIntUpReg.otf) normal normal regular normal>) = 10.05\n",
      "2020-09-21 23:08:41,792 findfont: score(<Font 'Noto Sans Shavian' (NotoSansShavian-Regular.ttf) normal normal regular normal>) = 10.05\n",
      "2020-09-21 23:08:41,796 findfont: score(<Font 'STIXIntegralsUpSm' (STIXIntUpSmReg.otf) normal normal regular normal>) = 10.05\n",
      "2020-09-21 23:08:41,800 findfont: score(<Font 'Noto Sans Buhid' (NotoSansBuhid-Regular.ttf) normal normal regular normal>) = 10.05\n",
      "2020-09-21 23:08:41,802 findfont: score(<Font 'Thonburi' (Thonburi.ttc) normal normal 400 normal>) = 10.05\n",
      "2020-09-21 23:08:41,805 findfont: score(<Font 'Kohinoor Bangla' (KohinoorBangla.ttc) normal normal 400 normal>) = 10.05\n",
      "2020-09-21 23:08:41,807 findfont: score(<Font 'Plantagenet Cherokee' (PlantagenetCherokee.ttf) normal normal 400 normal>) = 10.05\n",
      "2020-09-21 23:08:41,808 findfont: score(<Font 'Al Nile' (Al Nile.ttc) normal normal 400 normal>) = 10.05\n",
      "2020-09-21 23:08:41,814 findfont: score(<Font 'Courier New' (Courier New Bold Italic.ttf) italic normal 700 normal>) = 11.335\n",
      "2020-09-21 23:08:41,817 findfont: score(<Font 'Noto Sans PhagsPa' (NotoSansPhagsPa-Regular.ttf) normal normal regular normal>) = 10.05\n",
      "2020-09-21 23:08:41,821 findfont: score(<Font 'Apple Braille' (Apple Braille Outline 6 Dot.ttf) normal normal 400 normal>) = 10.05\n",
      "2020-09-21 23:08:41,825 findfont: score(<Font 'Galvji' (Galvji.ttc) normal normal 400 normal>) = 10.05\n",
      "2020-09-21 23:08:41,830 findfont: score(<Font 'Optima' (Optima.ttc) normal normal regular normal>) = 10.05\n",
      "2020-09-21 23:08:41,832 findfont: score(<Font 'ITF Devanagari' (ITFDevanagari.ttc) normal normal book normal>) = 10.05\n",
      "2020-09-21 23:08:41,834 findfont: score(<Font 'Noto Sans Thaana' (NotoSansThaana-Regular.ttf) normal normal regular normal>) = 10.05\n",
      "2020-09-21 23:08:41,836 findfont: score(<Font 'Arial Unicode MS' (Arial Unicode.ttf) normal normal 400 normal>) = 10.05\n",
      "2020-09-21 23:08:41,838 findfont: score(<Font 'Arial' (Arial Italic.ttf) italic normal 400 normal>) = 1.05\n",
      "2020-09-21 23:08:41,842 findfont: score(<Font 'Lao Sangam MN' (Lao Sangam MN.ttf) normal normal 400 normal>) = 10.05\n",
      "2020-09-21 23:08:41,848 findfont: score(<Font 'Noto Sans Ol Chiki' (NotoSansOlChiki-Regular.ttf) normal normal regular normal>) = 10.05\n",
      "2020-09-21 23:08:41,855 findfont: score(<Font 'Trebuchet MS' (Trebuchet MS.ttf) normal normal 400 normal>) = 10.05\n",
      "2020-09-21 23:08:41,858 findfont: score(<Font 'Times New Roman' (Times New Roman Italic.ttf) italic normal roman normal>) = 11.145\n",
      "2020-09-21 23:08:41,861 findfont: score(<Font 'Myanmar MN' (Myanmar MN.ttc) normal normal 400 normal>) = 10.05\n",
      "2020-09-21 23:08:41,863 findfont: score(<Font 'Avenir Next' (Avenir Next.ttc) normal normal 700 normal>) = 10.335\n",
      "2020-09-21 23:08:41,867 findfont: score(<Font 'Estrangelo Midyat' (SyrCOMMidyat.otf) normal normal 400 normal>) = 10.05\n",
      "2020-09-21 23:08:41,871 findfont: score(<Font 'AppleMyungjo' (AppleMyungjo.ttf) normal normal regular normal>) = 10.05\n"
     ]
    },
    {
     "name": "stderr",
     "output_type": "stream",
     "text": [
      "2020-09-21 23:08:41,877 findfont: score(<Font 'Kannada MN' (Kannada MN.ttc) normal normal 400 normal>) = 10.05\n",
      "2020-09-21 23:08:41,884 findfont: score(<Font '.Keyboard' (Keyboard.ttf) normal normal 400 normal>) = 10.05\n",
      "2020-09-21 23:08:41,888 findfont: score(<Font 'Lucida Grande' (LucidaGrande.ttc) normal normal 400 normal>) = 10.05\n",
      "2020-09-21 23:08:41,892 findfont: score(<Font 'Noto Sans Myanmar' (NotoSansMyanmar.ttc) normal normal black normal>) = 10.525\n",
      "2020-09-21 23:08:41,896 findfont: score(<Font 'Myanmar Sangam MN' (Myanmar Sangam MN.ttc) normal normal 400 normal>) = 10.05\n",
      "2020-09-21 23:08:41,899 findfont: score(<Font 'Diwan Kufi' (Diwan Kufi.ttc) normal normal regular normal>) = 10.05\n",
      "2020-09-21 23:08:41,903 findfont: score(<Font 'Bitstream Vera Sans' (Vera.ttf) normal normal 400 normal>) = 6.05\n",
      "2020-09-21 23:08:41,906 findfont: score(<Font '.SF NS Text Condensed' (SFNSTextCondensed-Regular.otf) normal normal regular condensed>) = 10.25\n",
      "2020-09-21 23:08:41,911 findfont: score(<Font 'Impact' (Impact.ttf) normal normal 400 normal>) = 10.05\n",
      "2020-09-21 23:08:41,916 findfont: score(<Font 'Noto Nastaliq Urdu' (NotoNastaliq.ttc) normal normal 400 normal>) = 10.05\n",
      "2020-09-21 23:08:41,919 findfont: score(<Font 'Noto Sans Vai' (NotoSansVai-Regular.ttf) normal normal regular normal>) = 10.05\n",
      "2020-09-21 23:08:41,922 findfont: score(<Font 'Arial Black' (Arial Black.ttf) normal normal black normal>) = 10.525\n",
      "2020-09-21 23:08:41,925 findfont: score(<Font 'Serto Jerusalem' (SyrCOMJerusalem.otf) normal normal 400 normal>) = 10.05\n",
      "2020-09-21 23:08:41,929 findfont: score(<Font 'STIXGeneral' (STIXGeneralItalic.otf) italic normal 400 normal>) = 11.05\n",
      "2020-09-21 23:08:41,932 findfont: score(<Font 'Corsiva Hebrew' (Corsiva.ttc) normal normal 400 normal>) = 10.05\n",
      "2020-09-21 23:08:41,935 findfont: score(<Font 'Waseem' (Waseem.ttc) normal normal regular normal>) = 10.05\n",
      "2020-09-21 23:08:41,943 findfont: score(<Font '.SF NS Display Condensed' (SFNSDisplayCondensed-Ultralight.otf) normal normal ultralight condensed>) = 10.535\n",
      "2020-09-21 23:08:41,948 findfont: score(<Font 'Verdana' (Verdana Bold.ttf) normal normal 700 normal>) = 10.335\n",
      "2020-09-21 23:08:41,953 findfont: score(<Font 'Muna' (Muna.ttc) normal normal regular normal>) = 10.05\n",
      "2020-09-21 23:08:41,956 findfont: score(<Font 'Noto Sans Inscriptional Parthian' (NotoSansInscriptionalParthian-Regular.ttf) normal normal regular normal>) = 10.05\n",
      "2020-09-21 23:08:41,959 findfont: score(<Font 'Hiragino Sans' (ヒラギノ角ゴシック W6.ttc) normal normal 700 normal>) = 10.335\n",
      "2020-09-21 23:08:41,963 findfont: score(<Font 'PingFang HK' (PingFang.ttc) normal normal regular normal>) = 10.05\n",
      "2020-09-21 23:08:42,004 findfont: score(<Font 'Noto Sans Rejang' (NotoSansRejang-Regular.ttf) normal normal regular normal>) = 10.05\n",
      "2020-09-21 23:08:42,011 findfont: score(<Font 'Noto Sans Cuneiform' (NotoSansCuneiform-Regular.ttf) normal normal regular normal>) = 10.05\n",
      "2020-09-21 23:08:42,020 findfont: score(<Font '.SF NS Text Condensed' (SFNSTextCondensed-Bold.otf) normal normal bold condensed>) = 10.535\n",
      "2020-09-21 23:08:42,024 findfont: score(<Font 'Baghdad' (Baghdad.ttc) normal normal regular normal>) = 10.05\n",
      "2020-09-21 23:08:42,026 findfont: score(<Font 'Palatino' (Palatino.ttc) normal normal 400 normal>) = 10.05\n",
      "2020-09-21 23:08:42,028 findfont: score(<Font 'Wingdings 3' (Wingdings 3.ttf) normal normal 400 normal>) = 10.05\n",
      "2020-09-21 23:08:42,030 findfont: score(<Font 'Courier New' (Courier New Italic.ttf) italic normal 400 normal>) = 11.05\n",
      "2020-09-21 23:08:42,033 findfont: score(<Font 'Helvetica' (Helvetica.ttc) normal normal 400 normal>) = 10.05\n",
      "2020-09-21 23:08:42,036 findfont: score(<Font 'Mukta Mahee' (MuktaMahee.ttc) normal normal regular normal>) = 10.05\n",
      "2020-09-21 23:08:42,039 findfont: score(<Font 'STIXNonUnicode' (STIXNonUniBolIta.otf) italic normal 700 normal>) = 11.335\n",
      "2020-09-21 23:08:42,041 findfont: score(<Font 'STIXSizeTwoSym' (STIXSizTwoSymReg.otf) normal normal regular normal>) = 10.05\n",
      "2020-09-21 23:08:42,044 findfont: score(<Font 'Copperplate' (Copperplate.ttc) normal normal 400 normal>) = 10.05\n",
      "2020-09-21 23:08:42,047 findfont: score(<Font 'Noto Sans New Tai Lue' (NotoSansNewTaiLue-Regular.ttf) normal normal regular normal>) = 10.05\n",
      "2020-09-21 23:08:42,050 findfont: score(<Font 'Oriya Sangam MN' (Oriya Sangam MN.ttc) normal normal 400 normal>) = 10.05\n",
      "2020-09-21 23:08:42,057 findfont: score(<Font 'Cochin' (Cochin.ttc) normal normal 400 normal>) = 10.05\n",
      "2020-09-21 23:08:42,062 findfont: score(<Font 'Noto Sans Avestan' (NotoSansAvestan-Regular.ttf) normal normal regular normal>) = 10.05\n",
      "2020-09-21 23:08:42,067 findfont: score(<Font 'Noto Sans Buginese' (NotoSansBuginese-Regular.ttf) normal normal regular normal>) = 10.05\n",
      "2020-09-21 23:08:42,073 findfont: score(<Font 'Brush Script MT' (Brush Script.ttf) italic normal 400 normal>) = 11.05\n",
      "2020-09-21 23:08:42,078 findfont: score(<Font '.Arabic UI Text' (ArabicUIText.ttc) normal normal regular normal>) = 10.05\n",
      "2020-09-21 23:08:42,082 findfont: score(<Font 'Devanagari MT' (DevanagariMT.ttc) normal normal 400 normal>) = 10.05\n",
      "2020-09-21 23:08:42,086 findfont: score(<Font 'Goha-Tibeb Zemen' (GohaTibebZemen.otf) normal normal 400 normal>) = 10.05\n",
      "2020-09-21 23:08:42,093 findfont: score(<Font 'Bitstream Vera Sans Mono' (VeraMoBd.ttf) normal normal 700 normal>) = 10.335\n",
      "2020-09-21 23:08:42,095 findfont: score(<Font 'STIXNonUnicode' (STIXNonUniIta.otf) italic normal 400 normal>) = 11.05\n",
      "2020-09-21 23:08:42,097 findfont: score(<Font 'Bitstream Vera Sans Mono' (VeraMono.ttf) normal normal 400 normal>) = 10.05\n",
      "2020-09-21 23:08:42,102 findfont: score(<Font 'Didot' (Didot.ttc) normal normal 400 normal>) = 10.05\n",
      "2020-09-21 23:08:42,106 findfont: score(<Font 'Chalkduster' (Chalkduster.ttf) normal normal 400 normal>) = 10.05\n",
      "2020-09-21 23:08:42,109 findfont: score(<Font 'Noto Sans Tai Le' (NotoSansTaiLe-Regular.ttf) normal normal regular normal>) = 10.05\n",
      "2020-09-21 23:08:42,111 findfont: score(<Font 'STIXGeneral' (STIXGeneralBolIta.otf) italic normal 700 normal>) = 11.335\n",
      "2020-09-21 23:08:42,114 findfont: score(<Font 'Hiragino Sans' (ヒラギノ角ゴシック W4.ttc) normal normal 400 normal>) = 10.05\n",
      "2020-09-21 23:08:42,117 findfont: score(<Font 'Verdana' (Verdana Italic.ttf) italic normal 400 normal>) = 11.05\n",
      "2020-09-21 23:08:42,120 findfont: score(<Font 'Tamil Sangam MN' (Tamil Sangam MN.ttc) normal normal 400 normal>) = 10.05\n",
      "2020-09-21 23:08:42,122 findfont: score(<Font '.SF NS Mono' (SFNSMonoItalic.ttf) italic normal light normal>) = 11.24\n",
      "2020-09-21 23:08:42,126 findfont: score(<Font '.New York' (NewYorkItalic.ttf) italic normal 400 normal>) = 11.05\n",
      "2020-09-21 23:08:42,129 findfont: score(<Font 'Hiragino Sans' (ヒラギノ角ゴシック W3.ttc) normal normal 400 normal>) = 10.05\n",
      "2020-09-21 23:08:42,132 findfont: score(<Font 'Times' (Times.ttc) normal normal roman normal>) = 10.145\n",
      "2020-09-21 23:08:42,136 findfont: score(<Font 'Comic Sans MS' (Comic Sans MS Bold.ttf) normal normal 700 normal>) = 10.335\n",
      "2020-09-21 23:08:42,138 findfont: score(<Font 'Noto Sans Coptic' (NotoSansCoptic-Regular.ttf) normal normal regular normal>) = 10.05\n",
      "2020-09-21 23:08:42,143 findfont: score(<Font 'Hiragino Sans GB' (Hiragino Sans GB.ttc) normal normal 400 normal>) = 10.05\n",
      "2020-09-21 23:08:42,147 findfont: score(<Font '.SF Compact Text' (SFCompactText.ttf) normal normal 400 normal>) = 10.05\n",
      "2020-09-21 23:08:42,152 findfont: score(<Font 'Goha-Tibeb Zemen' (GohaTibebZemen.ttf) normal normal 400 normal>) = 10.05\n",
      "2020-09-21 23:08:42,154 findfont: score(<Font 'Serto Mardin' (SyrCOMMardinBold.otf) normal normal 700 normal>) = 10.335\n",
      "2020-09-21 23:08:42,156 findfont: score(<Font 'Sana' (Sana.ttc) normal normal regular normal>) = 10.05\n",
      "2020-09-21 23:08:42,158 findfont: score(<Font 'Noto Sans Tai Viet' (NotoSansTaiViet-Regular.ttf) normal normal regular normal>) = 10.05\n",
      "2020-09-21 23:08:42,162 findfont: score(<Font 'Noto Sans Brahmi' (NotoSansBrahmi-Regular.ttf) normal normal regular normal>) = 10.05\n",
      "2020-09-21 23:08:42,164 findfont: score(<Font 'Sinhala MN' (Sinhala MN.ttc) normal normal 400 normal>) = 10.05\n",
      "2020-09-21 23:08:42,165 findfont: score(<Font 'Iowan Old Style' (Iowan Old Style.ttc) normal normal roman normal>) = 10.145\n"
     ]
    },
    {
     "name": "stderr",
     "output_type": "stream",
     "text": [
      "2020-09-21 23:08:42,168 findfont: score(<Font 'Kohinoor Gujarati' (KohinoorGujarati.ttc) normal normal bold normal>) = 10.335\n",
      "2020-09-21 23:08:42,171 findfont: score(<Font 'Times New Roman' (Times New Roman Bold.ttf) normal normal 700 normal>) = 10.335\n",
      "2020-09-21 23:08:42,173 findfont: score(<Font 'Noto Sans Oriya' (NotoSansOriya.ttc) normal normal 400 normal>) = 10.05\n",
      "2020-09-21 23:08:42,177 findfont: score(<Font 'Marion' (Marion.ttc) normal normal regular normal>) = 10.05\n",
      "2020-09-21 23:08:42,179 findfont: Matching sans\\-serif:style=normal:variant=normal:weight=normal:stretch=normal:size=11.0 to Arial ('/System/Library/Fonts/Supplemental/Arial.ttf') with score of 0.050000.\n",
      "2020-09-21 23:08:42,204 findfont: Matching sans\\-serif:style=normal:variant=normal:weight=normal:stretch=normal:size=12.0.\n",
      "2020-09-21 23:08:42,207 findfont: score(<Font 'DejaVu Sans Display' (DejaVuSansDisplay.ttf) normal normal 400 normal>) = 10.05\n",
      "2020-09-21 23:08:42,210 findfont: score(<Font 'STIXGeneral' (STIXGeneral.ttf) normal normal regular normal>) = 10.05\n",
      "2020-09-21 23:08:42,213 findfont: score(<Font 'DejaVu Sans' (DejaVuSans.ttf) normal normal 400 normal>) = 2.05\n",
      "2020-09-21 23:08:42,215 findfont: score(<Font 'STIXNonUnicode' (STIXNonUniIta.ttf) italic normal 400 normal>) = 11.05\n",
      "2020-09-21 23:08:42,219 findfont: score(<Font 'STIXGeneral' (STIXGeneralItalic.ttf) italic normal 400 normal>) = 11.05\n",
      "2020-09-21 23:08:42,222 findfont: score(<Font 'DejaVu Sans' (DejaVuSans-Oblique.ttf) oblique normal 400 normal>) = 3.05\n",
      "2020-09-21 23:08:42,225 findfont: score(<Font 'DejaVu Serif' (DejaVuSerif-BoldItalic.ttf) italic normal 700 normal>) = 11.335\n",
      "2020-09-21 23:08:42,229 findfont: score(<Font 'STIXSizeThreeSym' (STIXSizThreeSymReg.ttf) normal normal regular normal>) = 10.05\n",
      "2020-09-21 23:08:42,234 findfont: score(<Font 'DejaVu Serif' (DejaVuSerif-Bold.ttf) normal normal 700 normal>) = 10.335\n",
      "2020-09-21 23:08:42,242 findfont: score(<Font 'cmmi10' (cmmi10.ttf) normal normal 400 normal>) = 10.05\n",
      "2020-09-21 23:08:42,245 findfont: score(<Font 'STIXNonUnicode' (STIXNonUniBol.ttf) normal normal 700 normal>) = 10.335\n",
      "2020-09-21 23:08:42,251 findfont: score(<Font 'DejaVu Sans Mono' (DejaVuSansMono.ttf) normal normal 400 normal>) = 10.05\n",
      "2020-09-21 23:08:42,254 findfont: score(<Font 'DejaVu Sans Mono' (DejaVuSansMono-Oblique.ttf) oblique normal 400 normal>) = 11.05\n",
      "2020-09-21 23:08:42,256 findfont: score(<Font 'DejaVu Serif' (DejaVuSerif.ttf) normal normal 400 normal>) = 10.05\n",
      "2020-09-21 23:08:42,261 findfont: score(<Font 'STIXNonUnicode' (STIXNonUni.ttf) normal normal regular normal>) = 10.05\n",
      "2020-09-21 23:08:42,264 findfont: score(<Font 'STIXSizeFourSym' (STIXSizFourSymBol.ttf) normal normal 700 normal>) = 10.335\n",
      "2020-09-21 23:08:42,266 findfont: score(<Font 'STIXSizeTwoSym' (STIXSizTwoSymReg.ttf) normal normal regular normal>) = 10.05\n",
      "2020-09-21 23:08:42,270 findfont: score(<Font 'cmex10' (cmex10.ttf) normal normal 400 normal>) = 10.05\n",
      "2020-09-21 23:08:42,274 findfont: score(<Font 'STIXGeneral' (STIXGeneralBol.ttf) normal normal 700 normal>) = 10.335\n",
      "2020-09-21 23:08:42,277 findfont: score(<Font 'STIXNonUnicode' (STIXNonUniBolIta.ttf) italic normal 700 normal>) = 11.335\n",
      "2020-09-21 23:08:42,286 findfont: score(<Font 'STIXSizeFourSym' (STIXSizFourSymReg.ttf) normal normal regular normal>) = 10.05\n",
      "2020-09-21 23:08:42,294 findfont: score(<Font 'cmss10' (cmss10.ttf) normal normal 400 normal>) = 10.05\n",
      "2020-09-21 23:08:42,296 findfont: score(<Font 'STIXSizeOneSym' (STIXSizOneSymBol.ttf) normal normal 700 normal>) = 10.335\n",
      "2020-09-21 23:08:42,303 findfont: score(<Font 'STIXSizeThreeSym' (STIXSizThreeSymBol.ttf) normal normal 700 normal>) = 10.335\n",
      "2020-09-21 23:08:42,308 findfont: score(<Font 'cmtt10' (cmtt10.ttf) normal normal 400 normal>) = 10.05\n",
      "2020-09-21 23:08:42,311 findfont: score(<Font 'cmb10' (cmb10.ttf) normal normal 400 normal>) = 10.05\n",
      "2020-09-21 23:08:42,314 findfont: score(<Font 'DejaVu Sans Mono' (DejaVuSansMono-BoldOblique.ttf) oblique normal 700 normal>) = 11.335\n",
      "2020-09-21 23:08:42,321 findfont: score(<Font 'DejaVu Sans' (DejaVuSans-BoldOblique.ttf) oblique normal 700 normal>) = 3.335\n",
      "2020-09-21 23:08:42,323 findfont: score(<Font 'STIXGeneral' (STIXGeneralBolIta.ttf) italic normal 700 normal>) = 11.335\n",
      "2020-09-21 23:08:42,327 findfont: score(<Font 'STIXSizeOneSym' (STIXSizOneSymReg.ttf) normal normal regular normal>) = 10.05\n",
      "2020-09-21 23:08:42,331 findfont: score(<Font 'STIXSizeFiveSym' (STIXSizFiveSymReg.ttf) normal normal regular normal>) = 10.05\n",
      "2020-09-21 23:08:42,336 findfont: score(<Font 'DejaVu Sans' (DejaVuSans-Bold.ttf) normal normal 700 normal>) = 2.335\n",
      "2020-09-21 23:08:42,337 findfont: score(<Font 'DejaVu Serif Display' (DejaVuSerifDisplay.ttf) normal normal 400 normal>) = 10.05\n",
      "2020-09-21 23:08:42,352 findfont: score(<Font 'cmr10' (cmr10.ttf) normal normal 400 normal>) = 10.05\n",
      "2020-09-21 23:08:42,358 findfont: score(<Font 'DejaVu Sans Mono' (DejaVuSansMono-Bold.ttf) normal normal 700 normal>) = 10.335\n",
      "2020-09-21 23:08:42,384 findfont: score(<Font 'STIXSizeTwoSym' (STIXSizTwoSymBol.ttf) normal normal 700 normal>) = 10.335\n",
      "2020-09-21 23:08:42,390 findfont: score(<Font 'cmsy10' (cmsy10.ttf) normal normal 400 normal>) = 10.05\n",
      "2020-09-21 23:08:42,406 findfont: score(<Font 'DejaVu Serif' (DejaVuSerif-Italic.ttf) italic normal 400 normal>) = 11.05\n",
      "2020-09-21 23:08:42,410 findfont: score(<Font 'Estrangelo Antioch' (SyrCOMAntioch.otf) normal normal 400 normal>) = 10.05\n",
      "2020-09-21 23:08:42,414 findfont: score(<Font 'STIXIntegralsSm' (STIXIntSmReg.otf) normal normal regular normal>) = 10.05\n",
      "2020-09-21 23:08:42,416 findfont: score(<Font 'Rockwell' (Rockwell.ttc) normal normal 400 normal>) = 10.05\n",
      "2020-09-21 23:08:42,424 findfont: score(<Font 'Phosphate' (Phosphate.ttc) normal normal 400 normal>) = 10.05\n",
      "2020-09-21 23:08:42,436 findfont: score(<Font 'STIXSizeFiveSym' (STIXSizFiveSymReg.otf) normal normal regular normal>) = 10.05\n",
      "2020-09-21 23:08:42,443 findfont: score(<Font 'STIXSizeOneSym' (STIXSizOneSymReg.otf) normal normal regular normal>) = 10.05\n",
      "2020-09-21 23:08:42,447 findfont: score(<Font 'Hiragino Sans' (ヒラギノ角ゴシック W2.ttc) normal normal 400 normal>) = 10.05\n",
      "2020-09-21 23:08:42,451 findfont: score(<Font 'System Font' (SFNS.ttf) normal normal 400 normal>) = 10.05\n",
      "2020-09-21 23:08:42,454 findfont: score(<Font 'Noto Sans Bamum' (NotoSansBamum-Regular.ttf) normal normal regular normal>) = 10.05\n",
      "2020-09-21 23:08:42,457 findfont: score(<Font '.SF NS Text Condensed' (SFNSTextCondensed-Heavy.otf) normal normal heavy condensed>) = 10.629999999999999\n",
      "2020-09-21 23:08:42,459 findfont: score(<Font 'Hiragino Sans' (ヒラギノ角ゴシック W9.ttc) normal normal 700 normal>) = 10.335\n",
      "2020-09-21 23:08:42,463 findfont: score(<Font 'Hiragino Sans' (ヒラギノ角ゴシック W1.ttc) normal normal 400 normal>) = 10.05\n",
      "2020-09-21 23:08:42,570 findfont: score(<Font 'Noto Sans Saurashtra' (NotoSansSaurashtra-Regular.ttf) normal normal regular normal>) = 10.05\n",
      "2020-09-21 23:08:42,584 findfont: score(<Font 'Arial Narrow' (Arial Narrow.ttf) normal normal 400 condensed>) = 10.25\n",
      "2020-09-21 23:08:42,590 findfont: score(<Font 'Luxi Mono' (luximbi.ttf) oblique normal 700 normal>) = 11.335\n",
      "2020-09-21 23:08:42,593 findfont: score(<Font 'Serto Kharput' (SyrCOMKharput.otf) normal normal 400 normal>) = 10.05\n",
      "2020-09-21 23:08:42,596 findfont: score(<Font 'Noto Sans Egyptian Hieroglyphs' (NotoSansEgyptianHieroglyphs-Regular.ttf) normal normal regular normal>) = 10.05\n",
      "2020-09-21 23:08:42,599 findfont: score(<Font 'Bitstream Vera Sans' (VeraIt.ttf) oblique normal 400 normal>) = 7.05\n",
      "2020-09-21 23:08:42,605 findfont: score(<Font 'East Syriac Adiabene' (SyrCOMAdiabene.otf) normal normal 400 normal>) = 10.05\n",
      "2020-09-21 23:08:42,608 findfont: score(<Font 'Kefa' (Kefa.ttc) normal normal regular normal>) = 10.05\n",
      "2020-09-21 23:08:42,611 findfont: score(<Font 'Serto Malankara' (SyrCOMMalankara.otf) normal normal 400 normal>) = 10.05\n",
      "2020-09-21 23:08:42,613 findfont: score(<Font 'Luxi Serif' (luxirbi.ttf) oblique normal 700 normal>) = 11.335\n",
      "2020-09-21 23:08:42,616 findfont: score(<Font 'Bitstream Vera Serif' (VeraSeBd.ttf) normal normal 700 normal>) = 10.335\n",
      "2020-09-21 23:08:42,617 findfont: score(<Font 'Kohinoor Devanagari' (Kohinoor.ttc) normal normal regular normal>) = 10.05\n"
     ]
    },
    {
     "name": "stderr",
     "output_type": "stream",
     "text": [
      "2020-09-21 23:08:42,621 findfont: score(<Font '.SF NS Display Condensed' (SFNSDisplayCondensed-Bold.otf) normal normal bold condensed>) = 10.535\n",
      "2020-09-21 23:08:42,625 findfont: score(<Font 'Verdana' (Verdana Bold Italic.ttf) italic normal 700 normal>) = 11.335\n",
      "2020-09-21 23:08:42,627 findfont: score(<Font 'Tahoma' (Tahoma Bold.ttf) normal normal 700 normal>) = 10.335\n",
      "2020-09-21 23:08:42,628 findfont: score(<Font 'Verdana' (Verdana.ttf) normal normal 400 normal>) = 10.05\n",
      "2020-09-21 23:08:42,632 findfont: score(<Font 'Gurmukhi Sangam MN' (Gurmukhi Sangam MN.ttc) normal normal 400 normal>) = 10.05\n",
      "2020-09-21 23:08:42,633 findfont: score(<Font 'Kannada Sangam MN' (Kannada Sangam MN.ttc) normal normal 400 normal>) = 10.05\n",
      "2020-09-21 23:08:42,635 findfont: score(<Font 'Bradley Hand' (Bradley Hand Bold.ttf) normal normal bold normal>) = 10.335\n",
      "2020-09-21 23:08:42,636 findfont: score(<Font 'Arial Narrow' (Arial Narrow Italic.ttf) italic normal 400 condensed>) = 11.25\n",
      "2020-09-21 23:08:42,644 findfont: score(<Font 'Comic Sans MS' (Comic Sans MS.ttf) normal normal 400 normal>) = 10.05\n",
      "2020-09-21 23:08:42,646 findfont: score(<Font 'Noto Sans Lepcha' (NotoSansLepcha-Regular.ttf) normal normal regular normal>) = 10.05\n",
      "2020-09-21 23:08:42,650 findfont: score(<Font 'Noto Sans Old Persian' (NotoSansOldPersian-Regular.ttf) normal normal regular normal>) = 10.05\n",
      "2020-09-21 23:08:42,655 findfont: score(<Font 'Apple Braille' (Apple Braille Outline 8 Dot.ttf) normal normal 400 normal>) = 10.05\n",
      "2020-09-21 23:08:43,578 findfont: score(<Font 'Marker Felt' (MarkerFelt.ttc) normal normal 400 normal>) = 10.05\n",
      "2020-09-21 23:08:43,583 findfont: score(<Font 'Raanana' (Raanana.ttc) normal normal 400 normal>) = 10.05\n",
      "2020-09-21 23:08:43,588 findfont: score(<Font 'Ayuthaya' (Ayuthaya.ttf) normal normal 400 normal>) = 10.05\n",
      "2020-09-21 23:08:43,593 findfont: score(<Font 'Hoefler Text' (Hoefler Text.ttc) normal normal 400 normal>) = 10.05\n",
      "2020-09-21 23:08:43,596 findfont: score(<Font '.SF NS Display Condensed' (SFNSDisplayCondensed-Light.otf) normal normal light condensed>) = 10.44\n",
      "2020-09-21 23:08:43,603 findfont: score(<Font 'Krungthep' (Krungthep.ttf) normal normal 400 normal>) = 10.05\n",
      "2020-09-21 23:08:43,611 findfont: score(<Font 'Serto Urhoy' (SyrCOMUrhoyBold.otf) normal normal 700 normal>) = 10.335\n",
      "2020-09-21 23:08:43,617 findfont: score(<Font 'Futura' (Futura.ttc) normal normal medium normal>) = 10.145\n",
      "2020-09-21 23:08:43,622 findfont: score(<Font 'Arial' (Arial Bold.ttf) normal normal 700 normal>) = 0.33499999999999996\n",
      "2020-09-21 23:08:43,630 findfont: score(<Font 'Noto Sans Sundanese' (NotoSansSundanese-Regular.ttf) normal normal regular normal>) = 10.05\n",
      "2020-09-21 23:08:43,633 findfont: score(<Font 'System Font' (SFNSItalic.ttf) italic normal regular normal>) = 11.05\n",
      "2020-09-21 23:08:43,641 findfont: score(<Font 'Songti SC' (Songti.ttc) normal normal black normal>) = 10.525\n",
      "2020-09-21 23:08:43,644 findfont: score(<Font 'Vecna' (Vecna-oppx.ttf) normal normal 400 normal>) = 10.05\n",
      "2020-09-21 23:08:43,650 findfont: score(<Font 'Noto Sans Chakma' (NotoSansChakma-Regular.ttf) normal normal regular normal>) = 10.05\n",
      "2020-09-21 23:08:43,653 findfont: score(<Font 'East Syriac Ctesiphon' (SyrCOMCtesiphon.otf) normal normal 400 normal>) = 10.05\n",
      "2020-09-21 23:08:43,655 findfont: score(<Font 'Times New Roman' (Times New Roman Bold Italic.ttf) italic normal 700 normal>) = 11.335\n",
      "2020-09-21 23:08:43,659 findfont: score(<Font 'Noto Sans Samaritan' (NotoSansSamaritan-Regular.ttf) normal normal regular normal>) = 10.05\n",
      "2020-09-21 23:08:43,666 findfont: score(<Font 'Hiragino Maru Gothic Pro' (ヒラギノ丸ゴ ProN W4.ttc) normal normal 400 normal>) = 10.05\n",
      "2020-09-21 23:08:43,672 findfont: score(<Font 'Athelas' (Athelas.ttc) normal normal regular normal>) = 10.05\n",
      "2020-09-21 23:08:43,681 findfont: score(<Font 'Noto Sans Hanunoo' (NotoSansHanunoo-Regular.ttf) normal normal regular normal>) = 10.05\n",
      "2020-09-21 23:08:43,685 findfont: score(<Font 'Seravek' (Seravek.ttc) normal normal 400 normal>) = 10.05\n",
      "2020-09-21 23:08:43,691 findfont: score(<Font 'DIN Alternate' (DIN Alternate Bold.ttf) normal normal 700 normal>) = 10.335\n",
      "2020-09-21 23:08:43,694 findfont: score(<Font 'STIXIntegralsUp' (STIXIntUpBol.otf) normal normal 700 normal>) = 10.335\n",
      "2020-09-21 23:08:43,696 findfont: score(<Font 'Noto Sans Gothic' (NotoSansGothic-Regular.ttf) normal normal regular normal>) = 10.05\n",
      "2020-09-21 23:08:43,700 findfont: score(<Font 'Times New Roman' (Times New Roman.ttf) normal normal roman normal>) = 10.145\n",
      "2020-09-21 23:08:43,702 findfont: score(<Font 'Charter' (Charter.ttc) normal normal roman normal>) = 10.145\n",
      "2020-09-21 23:08:43,705 findfont: score(<Font 'Papyrus' (Papyrus.ttc) normal normal 400 condensed>) = 10.25\n",
      "2020-09-21 23:08:43,708 findfont: score(<Font 'Estrangelo TurAbdin' (SyrCOMTurAbdin.otf) normal normal 400 normal>) = 10.05\n",
      "2020-09-21 23:08:43,710 findfont: score(<Font 'STIXVariants' (STIXVarBol.otf) normal normal 700 normal>) = 10.335\n",
      "2020-09-21 23:08:43,714 findfont: score(<Font '.SF NS Display Condensed' (SFNSDisplayCondensed-Black.otf) normal normal black condensed>) = 10.725\n",
      "2020-09-21 23:08:43,717 findfont: score(<Font 'Hiragino Sans' (ヒラギノ角ゴシック W7.ttc) normal normal 700 normal>) = 10.335\n",
      "2020-09-21 23:08:43,720 findfont: score(<Font 'Apple Chancery' (Apple Chancery.ttf) normal normal 400 normal>) = 10.05\n",
      "2020-09-21 23:08:43,722 findfont: score(<Font 'Noto Sans Kharoshthi' (NotoSansKharoshthi-Regular.ttf) normal normal regular normal>) = 10.05\n",
      "2020-09-21 23:08:43,725 findfont: score(<Font 'Noto Sans Cypriot' (NotoSansCypriot-Regular.ttf) normal normal regular normal>) = 10.05\n",
      "2020-09-21 23:08:43,728 findfont: score(<Font 'Noto Sans Armenian' (NotoSansArmenian.ttc) normal normal black normal>) = 10.525\n",
      "2020-09-21 23:08:43,734 findfont: score(<Font 'Noto Sans Syloti Nagri' (NotoSansSylotiNagri-Regular.ttf) normal normal regular normal>) = 10.05\n",
      "2020-09-21 23:08:43,738 findfont: score(<Font 'Bitstream Vera Sans Mono' (VeraMoBI.ttf) oblique normal 700 normal>) = 11.335\n",
      "2020-09-21 23:08:43,741 findfont: score(<Font 'Silom' (Silom.ttf) normal normal 400 normal>) = 10.05\n",
      "2020-09-21 23:08:43,744 findfont: score(<Font 'Estrangelo Nisibin' (SyrCOMNisibin.otf) normal normal 400 normal>) = 10.05\n",
      "2020-09-21 23:08:43,747 findfont: score(<Font 'Oriya MN' (Oriya MN.ttc) normal normal 400 normal>) = 10.05\n",
      "2020-09-21 23:08:43,750 findfont: score(<Font 'Luxi Mono' (luximr.ttf) normal normal regular normal>) = 10.05\n",
      "2020-09-21 23:08:43,754 findfont: score(<Font 'Helvetica Neue' (HelveticaNeue.ttc) normal normal 400 normal>) = 10.05\n",
      "2020-09-21 23:08:43,757 findfont: score(<Font 'DIN Condensed' (DIN Condensed Bold.ttf) normal normal 700 condensed>) = 10.535\n",
      "2020-09-21 23:08:43,759 findfont: score(<Font 'Trebuchet MS' (Trebuchet MS Bold Italic.ttf) italic normal 700 normal>) = 11.335\n",
      "2020-09-21 23:08:43,764 findfont: score(<Font 'Estrangelo Edessa' (SyrCOMEdessa.otf) normal normal 400 normal>) = 10.05\n",
      "2020-09-21 23:08:43,776 findfont: score(<Font 'Sukhumvit Set' (SukhumvitSet.ttc) normal normal 400 normal>) = 10.05\n",
      "2020-09-21 23:08:43,779 findfont: score(<Font 'Noto Sans Mandaic' (NotoSansMandaic-Regular.ttf) normal normal regular normal>) = 10.05\n",
      "2020-09-21 23:08:43,781 findfont: score(<Font 'Noto Sans Ogham' (NotoSansOgham-Regular.ttf) normal normal regular normal>) = 10.05\n",
      "2020-09-21 23:08:43,784 findfont: score(<Font 'Gurmukhi MN' (Gurmukhi MN.ttc) normal normal 400 normal>) = 10.05\n",
      "2020-09-21 23:08:43,788 findfont: score(<Font 'Bitstream Vera Serif' (VeraSe.ttf) normal normal 400 normal>) = 10.05\n",
      "2020-09-21 23:08:43,790 findfont: score(<Font 'Noto Sans Linear B' (NotoSansLinearB-Regular.ttf) normal normal regular normal>) = 10.05\n",
      "2020-09-21 23:08:43,793 findfont: score(<Font 'STIXNonUnicode' (STIXNonUni.otf) normal normal regular normal>) = 10.05\n",
      "2020-09-21 23:08:43,795 findfont: score(<Font 'Tamil MN' (Tamil MN.ttc) normal normal 400 normal>) = 10.05\n",
      "2020-09-21 23:08:43,798 findfont: score(<Font 'Telugu Sangam MN' (Telugu Sangam MN.ttc) normal normal 400 normal>) = 10.05\n",
      "2020-09-21 23:08:43,799 findfont: score(<Font 'Devanagari Sangam MN' (Devanagari Sangam MN.ttc) normal normal 400 normal>) = 10.05\n",
      "2020-09-21 23:08:43,801 findfont: score(<Font 'KufiStandardGK' (KufiStandardGK.ttc) normal normal regular normal>) = 10.05\n"
     ]
    },
    {
     "name": "stderr",
     "output_type": "stream",
     "text": [
      "2020-09-21 23:08:43,806 findfont: score(<Font 'Hiragino Sans' (ヒラギノ角ゴシック W8.ttc) normal normal 700 normal>) = 10.335\n",
      "2020-09-21 23:08:43,811 findfont: score(<Font 'STIXNonUnicode' (STIXNonUniBol.otf) normal normal 700 normal>) = 10.335\n",
      "2020-09-21 23:08:43,812 findfont: score(<Font 'PT Serif' (PTSerif.ttc) normal normal 400 normal>) = 10.05\n",
      "2020-09-21 23:08:43,815 findfont: score(<Font 'STIXIntegralsUpD' (STIXIntUpDBol.otf) normal normal 700 normal>) = 10.335\n",
      "2020-09-21 23:08:43,817 findfont: score(<Font 'Tahoma' (Tahoma.ttf) normal normal 400 normal>) = 10.05\n",
      "2020-09-21 23:08:43,820 findfont: score(<Font 'Noto Sans NKo' (NotoSansNKo-Regular.ttf) normal normal regular normal>) = 10.05\n",
      "2020-09-21 23:08:43,823 findfont: score(<Font 'Damascus' (Damascus.ttc) normal normal regular normal>) = 10.05\n",
      "2020-09-21 23:08:43,826 findfont: score(<Font 'Noto Sans Phoenician' (NotoSansPhoenician-Regular.ttf) normal normal regular normal>) = 10.05\n",
      "2020-09-21 23:08:43,828 findfont: score(<Font '.SF NS Display Condensed' (SFNSDisplayCondensed-Thin.otf) normal normal 400 condensed>) = 10.25\n",
      "2020-09-21 23:08:43,831 findfont: score(<Font 'Big Caslon' (BigCaslon.ttf) normal normal medium normal>) = 10.145\n",
      "2020-09-21 23:08:43,834 findfont: score(<Font 'Serto Batnan' (SyrCOMBatnan.otf) normal normal 400 normal>) = 10.05\n",
      "2020-09-21 23:08:43,836 findfont: score(<Font 'Noto Sans Glagolitic' (NotoSansGlagolitic-Regular.ttf) normal normal regular normal>) = 10.05\n",
      "2020-09-21 23:08:43,839 findfont: score(<Font 'Sathu' (Sathu.ttf) normal normal 400 normal>) = 10.05\n",
      "2020-09-21 23:08:43,849 findfont: score(<Font 'Noto Sans Syriac' (NotoSansSyriac-Regular.ttf) normal normal regular normal>) = 10.05\n",
      "2020-09-21 23:08:43,856 findfont: score(<Font '.SF Compact Display' (SFCompactDisplay.ttf) normal normal 400 normal>) = 10.05\n",
      "2020-09-21 23:08:43,862 findfont: score(<Font 'Telugu MN' (Telugu MN.ttc) normal normal 400 normal>) = 10.05\n",
      "2020-09-21 23:08:43,866 findfont: score(<Font 'Kokonor' (Kokonor.ttf) normal normal regular normal>) = 10.05\n",
      "2020-09-21 23:08:43,872 findfont: score(<Font 'Beirut' (Beirut.ttc) normal normal regular normal>) = 10.05\n",
      "2020-09-21 23:08:43,877 findfont: score(<Font 'Arial Unicode MS' (Arial Unicode.ttf) normal normal 400 normal>) = 10.05\n",
      "2020-09-21 23:08:43,879 findfont: score(<Font 'Gujarati Sangam MN' (Gujarati Sangam MN.ttc) normal normal 400 normal>) = 10.05\n",
      "2020-09-21 23:08:43,882 findfont: score(<Font 'Noto Sans Kayah Li' (NotoSansKayahLi-Regular.ttf) normal normal regular normal>) = 10.05\n",
      "2020-09-21 23:08:43,884 findfont: score(<Font 'Courier New' (Courier New.ttf) normal normal 400 normal>) = 10.05\n",
      "2020-09-21 23:08:43,888 findfont: score(<Font 'SignPainter' (SignPainter.ttc) normal normal 400 normal>) = 10.05\n",
      "2020-09-21 23:08:43,892 findfont: score(<Font 'Bitstream Vera Sans' (VeraBI.ttf) oblique normal 700 normal>) = 7.335\n",
      "2020-09-21 23:08:43,895 findfont: score(<Font 'Noto Sans Meetei Mayek' (NotoSansMeeteiMayek-Regular.ttf) normal normal regular normal>) = 10.05\n",
      "2020-09-21 23:08:43,898 findfont: score(<Font 'Apple Braille' (Apple Braille Pinpoint 8 Dot.ttf) normal normal 400 normal>) = 10.05\n",
      "2020-09-21 23:08:43,901 findfont: score(<Font '.SF NS Text Condensed' (SFNSTextCondensed-Medium.otf) normal normal medium condensed>) = 10.344999999999999\n",
      "2020-09-21 23:08:43,905 findfont: score(<Font 'Noto Sans Kaithi' (NotoSansKaithi-Regular.ttf) normal normal regular normal>) = 10.05\n",
      "2020-09-21 23:08:43,907 findfont: score(<Font 'PT Mono' (PTMono.ttc) normal normal 700 normal>) = 10.335\n",
      "2020-09-21 23:08:43,910 findfont: score(<Font 'Serto Mardin' (SyrCOMMardin.otf) normal normal 400 normal>) = 10.05\n",
      "2020-09-21 23:08:43,914 findfont: score(<Font 'Noto Sans Batak' (NotoSansBatak-Regular.ttf) normal normal regular normal>) = 10.05\n",
      "2020-09-21 23:08:43,917 findfont: score(<Font 'STIXSizeThreeSym' (STIXSizThreeSymReg.otf) normal normal regular normal>) = 10.05\n",
      "2020-09-21 23:08:43,922 findfont: score(<Font 'Noto Sans Yi' (NotoSansYi-Regular.ttf) normal normal regular normal>) = 10.05\n",
      "2020-09-21 23:08:43,924 findfont: score(<Font 'Baskerville' (Baskerville.ttc) normal normal 400 normal>) = 10.05\n",
      "2020-09-21 23:08:43,929 findfont: score(<Font 'Noto Sans Tifinagh' (NotoSansTifinagh-Regular.ttf) normal normal regular normal>) = 10.05\n",
      "2020-09-21 23:08:43,932 findfont: score(<Font 'Georgia' (Georgia Bold Italic.ttf) italic normal 700 normal>) = 11.335\n",
      "2020-09-21 23:08:43,934 findfont: score(<Font 'Noto Sans Old South Arabian' (NotoSansOldSouthArabian-Regular.ttf) normal normal regular normal>) = 10.05\n",
      "2020-09-21 23:08:43,940 findfont: score(<Font 'Noto Sans Limbu' (NotoSansLimbu-Regular.ttf) normal normal regular normal>) = 10.05\n",
      "2020-09-21 23:08:43,944 findfont: score(<Font 'Farisi' (Farisi.ttf) normal normal regular normal>) = 10.05\n",
      "2020-09-21 23:08:43,946 findfont: score(<Font 'Noto Sans Inscriptional Pahlavi' (NotoSansInscriptionalPahlavi-Regular.ttf) normal normal regular normal>) = 10.05\n",
      "2020-09-21 23:08:43,949 findfont: score(<Font 'Nadeem' (Nadeem.ttc) normal normal regular normal>) = 10.05\n",
      "2020-09-21 23:08:43,951 findfont: score(<Font 'Noto Sans Tagalog' (NotoSansTagalog-Regular.ttf) normal normal regular normal>) = 10.05\n",
      "2020-09-21 23:08:43,954 findfont: score(<Font 'Noto Sans Runic' (NotoSansRunic-Regular.ttf) normal normal regular normal>) = 10.05\n",
      "2020-09-21 23:08:43,957 findfont: score(<Font 'Arial Narrow' (Arial Narrow Bold Italic.ttf) italic normal 700 condensed>) = 11.535\n",
      "2020-09-21 23:08:43,964 findfont: score(<Font 'Mishafi' (Mishafi.ttf) normal normal regular normal>) = 10.05\n",
      "2020-09-21 23:08:43,966 findfont: score(<Font 'Microsoft Sans Serif' (Microsoft Sans Serif.ttf) normal normal 400 normal>) = 10.05\n",
      "2020-09-21 23:08:43,970 findfont: score(<Font 'Mshtakan' (Mshtakan.ttc) normal normal 400 normal>) = 10.05\n",
      "2020-09-21 23:08:43,973 findfont: score(<Font '.SF NS Mono' (SFNSMono.ttf) normal normal light normal>) = 10.24\n",
      "2020-09-21 23:08:43,982 findfont: score(<Font 'Shree Devanagari 714' (Shree714.ttc) normal normal 400 normal>) = 10.05\n",
      "2020-09-21 23:08:43,985 findfont: score(<Font 'Apple Braille' (Apple Braille Pinpoint 6 Dot.ttf) normal normal 400 normal>) = 10.05\n",
      "2020-09-21 23:08:43,990 findfont: score(<Font 'Apple Symbols' (Apple Symbols.ttf) normal normal 400 normal>) = 10.05\n",
      "2020-09-21 23:08:43,995 findfont: score(<Font 'Bodoni Ornaments' (Bodoni Ornaments.ttf) normal normal 400 normal>) = 10.05\n",
      "2020-09-21 23:08:43,999 findfont: score(<Font 'STIXIntegralsUpSm' (STIXIntUpSmBol.otf) normal normal 700 normal>) = 10.335\n",
      "2020-09-21 23:08:44,003 findfont: score(<Font 'Wingdings' (Wingdings.ttf) normal normal 400 normal>) = 10.05\n",
      "2020-09-21 23:08:44,008 findfont: score(<Font 'Menlo' (Menlo.ttc) normal normal regular normal>) = 10.05\n",
      "2020-09-21 23:08:44,012 findfont: score(<Font 'Kohinoor Telugu' (KohinoorTelugu.ttc) normal normal 400 normal>) = 10.05\n",
      "2020-09-21 23:08:44,014 findfont: score(<Font 'Noto Sans Lisu' (NotoSansLisu-Regular.ttf) normal normal regular normal>) = 10.05\n",
      "2020-09-21 23:08:44,019 findfont: score(<Font 'STIXSizeThreeSym' (STIXSizThreeSymBol.otf) normal normal 700 normal>) = 10.335\n",
      "2020-09-21 23:08:44,022 findfont: score(<Font 'STIXIntegralsD' (STIXIntDReg.otf) normal normal regular normal>) = 10.05\n",
      "2020-09-21 23:08:44,025 findfont: score(<Font 'Bodoni 72 Smallcaps' (Bodoni 72 Smallcaps Book.ttf) normal normal book normal>) = 10.05\n",
      "2020-09-21 23:08:44,028 findfont: score(<Font 'Trattatello' (Trattatello.ttf) normal normal 400 normal>) = 10.05\n",
      "2020-09-21 23:08:44,032 findfont: score(<Font 'Geeza Pro' (GeezaPro.ttc) normal normal regular normal>) = 10.05\n",
      "2020-09-21 23:08:44,034 findfont: score(<Font 'Noto Serif Balinese' (NotoSerifBalinese-Regular.ttf) normal normal regular normal>) = 10.05\n",
      "2020-09-21 23:08:44,038 findfont: score(<Font 'Serto Jerusalem' (SyrCOMJerusalemBold.otf) normal normal 700 normal>) = 10.335\n",
      "2020-09-21 23:08:44,039 findfont: score(<Font 'Noto Sans Tagbanwa' (NotoSansTagbanwa-Regular.ttf) normal normal regular normal>) = 10.05\n",
      "2020-09-21 23:08:44,042 findfont: score(<Font '.SF NS Text Condensed' (SFNSTextCondensed-Light.otf) normal normal light condensed>) = 10.44\n"
     ]
    },
    {
     "name": "stderr",
     "output_type": "stream",
     "text": [
      "2020-09-21 23:08:44,045 findfont: score(<Font 'Courier New' (Courier New Bold.ttf) normal normal 700 normal>) = 10.335\n",
      "2020-09-21 23:08:44,051 findfont: score(<Font 'Chalkboard SE' (ChalkboardSE.ttc) normal normal light normal>) = 10.24\n",
      "2020-09-21 23:08:44,055 findfont: score(<Font 'Mishafi Gold' (Mishafi Gold.ttf) normal normal regular normal>) = 10.05\n",
      "2020-09-21 23:08:44,058 findfont: score(<Font 'Luxi Mono' (luximri.ttf) oblique normal 400 normal>) = 11.05\n",
      "2020-09-21 23:08:44,065 findfont: score(<Font 'Noto Sans Ugaritic' (NotoSansUgaritic-Regular.ttf) normal normal regular normal>) = 10.05\n",
      "2020-09-21 23:08:44,070 findfont: score(<Font 'Hiragino Mincho ProN' (ヒラギノ明朝 ProN.ttc) normal normal 400 normal>) = 10.05\n",
      "2020-09-21 23:08:44,073 findfont: score(<Font 'Kailasa' (Kailasa.ttc) normal normal regular normal>) = 10.05\n",
      "2020-09-21 23:08:44,075 findfont: score(<Font 'Chalkboard' (Chalkboard.ttc) normal normal 400 normal>) = 10.05\n",
      "2020-09-21 23:08:44,078 findfont: score(<Font 'Bodoni 72 Oldstyle' (Bodoni 72 OS.ttc) normal normal book normal>) = 10.05\n",
      "2020-09-21 23:08:44,081 findfont: score(<Font 'Noto Sans Old Turkic' (NotoSansOldTurkic-Regular.ttf) normal normal regular normal>) = 10.05\n",
      "2020-09-21 23:08:44,084 findfont: score(<Font 'STIXSizeFourSym' (STIXSizFourSymReg.otf) normal normal regular normal>) = 10.05\n",
      "2020-09-21 23:08:44,087 findfont: score(<Font 'Luxi Sans' (luxisr.ttf) normal normal regular normal>) = 10.05\n",
      "2020-09-21 23:08:44,089 findfont: score(<Font 'Noto Sans Old Italic' (NotoSansOldItalic-Regular.ttf) italic normal regular normal>) = 11.05\n",
      "2020-09-21 23:08:44,098 findfont: score(<Font 'Bodoni 72' (Bodoni 72.ttc) normal normal book normal>) = 10.05\n",
      "2020-09-21 23:08:44,103 findfont: score(<Font 'Andale Mono' (Andale Mono.ttf) normal normal 400 normal>) = 10.05\n",
      "2020-09-21 23:08:44,106 findfont: score(<Font 'Khmer MN' (Khmer MN.ttc) normal normal 400 normal>) = 10.05\n",
      "2020-09-21 23:08:44,109 findfont: score(<Font 'Luxi Sans' (luxisb.ttf) normal normal 700 normal>) = 10.335\n",
      "2020-09-21 23:08:44,111 findfont: score(<Font 'Estrangelo Quenneshrin' (SyrCOMQenNeshrin.otf) normal normal 400 normal>) = 10.05\n",
      "2020-09-21 23:08:44,121 findfont: score(<Font 'Bitstream Vera Sans' (VeraBd.ttf) normal normal 700 normal>) = 6.335\n",
      "2020-09-21 23:08:44,128 findfont: score(<Font 'Hoefler Text' (Hoefler Text Ornaments.ttf) normal normal 400 normal>) = 10.05\n",
      "2020-09-21 23:08:44,132 findfont: score(<Font 'Snell Roundhand' (SnellRoundhand.ttc) normal normal 400 normal>) = 10.05\n",
      "2020-09-21 23:08:44,139 findfont: score(<Font 'Avenir Next Condensed' (Avenir Next Condensed.ttc) normal normal 700 condensed>) = 10.535\n",
      "2020-09-21 23:08:44,145 findfont: score(<Font 'Arial Rounded MT Bold' (Arial Rounded Bold.ttf) normal normal bold normal>) = 10.335\n",
      "2020-09-21 23:08:44,149 findfont: score(<Font 'AppleGothic' (AppleGothic.ttf) normal normal regular normal>) = 10.05\n",
      "2020-09-21 23:08:44,158 findfont: score(<Font 'Noto Sans Imperial Aramaic' (NotoSansImperialAramaic-Regular.ttf) normal normal regular normal>) = 10.05\n",
      "2020-09-21 23:08:44,161 findfont: score(<Font 'Herculanum' (Herculanum.ttf) normal normal 400 normal>) = 10.05\n",
      "2020-09-21 23:08:44,165 findfont: score(<Font 'Khmer Sangam MN' (Khmer Sangam MN.ttf) normal normal 400 normal>) = 10.05\n",
      "2020-09-21 23:08:44,168 findfont: score(<Font 'Noto Sans Lycian' (NotoSansLycian-Regular.ttf) normal normal regular normal>) = 10.05\n",
      "2020-09-21 23:08:44,172 findfont: score(<Font 'Luxi Serif' (luxirri.ttf) oblique normal 400 normal>) = 11.05\n",
      "2020-09-21 23:08:44,182 findfont: score(<Font 'Noto Sans Cham' (NotoSansCham-Regular.ttf) normal normal regular normal>) = 10.05\n",
      "2020-09-21 23:08:44,192 findfont: score(<Font 'Malayalam MN' (Malayalam MN.ttc) normal normal 400 normal>) = 10.05\n",
      "2020-09-21 23:08:44,197 findfont: score(<Font 'Malayalam Sangam MN' (Malayalam Sangam MN.ttc) normal normal 400 normal>) = 10.05\n",
      "2020-09-21 23:08:44,203 findfont: score(<Font 'STIXIntegralsSm' (STIXIntSmBol.otf) normal normal 700 normal>) = 10.335\n",
      "2020-09-21 23:08:44,206 findfont: score(<Font 'Noto Sans Mongolian' (NotoSansMongolian-Regular.ttf) normal normal 400 normal>) = 10.05\n",
      "2020-09-21 23:08:44,208 findfont: score(<Font 'Avenir' (Avenir.ttc) normal normal book normal>) = 10.05\n",
      "2020-09-21 23:08:44,210 findfont: score(<Font 'Luxi Serif' (luxirr.ttf) normal normal regular normal>) = 10.05\n",
      "2020-09-21 23:08:44,216 findfont: score(<Font 'Bitstream Vera Sans Mono' (VeraMoIt.ttf) oblique normal 400 normal>) = 11.05\n",
      "2020-09-21 23:08:44,218 findfont: score(<Font 'Georgia' (Georgia.ttf) normal normal 400 normal>) = 10.05\n",
      "2020-09-21 23:08:44,224 findfont: score(<Font 'Noto Serif Myanmar' (NotoSerifMyanmar.ttc) normal normal black normal>) = 10.525\n",
      "2020-09-21 23:08:44,228 findfont: score(<Font 'Luxi Serif' (luxirb.ttf) normal normal 700 normal>) = 10.335\n",
      "2020-09-21 23:08:44,230 findfont: score(<Font 'Noto Sans Osmanya' (NotoSansOsmanya-Regular.ttf) normal normal regular normal>) = 10.05\n",
      "2020-09-21 23:08:44,231 findfont: score(<Font 'STIXGeneral' (STIXGeneralBol.otf) normal normal 700 normal>) = 10.335\n",
      "2020-09-21 23:08:44,235 findfont: score(<Font 'Zapf Dingbats' (ZapfDingbats.ttf) normal normal 400 normal>) = 10.05\n",
      "2020-09-21 23:08:44,239 findfont: score(<Font 'STIXIntegralsD' (STIXIntDBol.otf) normal normal 700 normal>) = 10.335\n",
      "2020-09-21 23:08:44,243 findfont: score(<Font 'Serto Urhoy' (SyrCOMUrhoy.otf) normal normal 400 normal>) = 10.05\n",
      "2020-09-21 23:08:44,246 findfont: score(<Font 'Hiragino Sans' (ヒラギノ角ゴシック W5.ttc) normal normal 700 normal>) = 10.335\n",
      "2020-09-21 23:08:44,251 findfont: score(<Font 'Noto Sans Javanese' (NotoSansJavanese-Regular.otf) normal normal regular normal>) = 10.05\n",
      "2020-09-21 23:08:44,255 findfont: score(<Font 'Al Tarikh' (Al Tarikh.ttc) normal normal regular normal>) = 10.05\n",
      "2020-09-21 23:08:44,258 findfont: score(<Font 'Serto Batnan' (SyrCOMBatnanBold.otf) normal normal 700 normal>) = 10.335\n",
      "2020-09-21 23:08:44,262 findfont: score(<Font '.SF Compact Rounded' (SFCompactRounded.ttf) normal normal 400 normal>) = 10.05\n",
      "2020-09-21 23:08:44,266 findfont: score(<Font 'STIXSizeTwoSym' (STIXSizTwoSymBol.otf) normal normal 700 normal>) = 10.335\n",
      "2020-09-21 23:08:44,268 findfont: score(<Font 'Trebuchet MS' (Trebuchet MS Bold.ttf) normal normal 700 normal>) = 10.335\n",
      "2020-09-21 23:08:44,271 findfont: score(<Font 'Noteworthy' (Noteworthy.ttc) normal normal light normal>) = 10.24\n",
      "2020-09-21 23:08:44,274 findfont: score(<Font '.SF NS Display Condensed' (SFNSDisplayCondensed-Regular.otf) normal normal regular condensed>) = 10.25\n",
      "2020-09-21 23:08:44,277 findfont: score(<Font 'PT Serif Caption' (PTSerifCaption.ttc) normal normal 400 normal>) = 10.05\n",
      "2020-09-21 23:08:44,279 findfont: score(<Font '.Arabic UI Display' (ArabicUIDisplay.ttc) normal normal black normal>) = 10.525\n",
      "2020-09-21 23:08:44,282 findfont: score(<Font '.SF Compact Text' (SFCompactTextItalic.ttf) italic normal 400 normal>) = 11.05\n",
      "2020-09-21 23:08:44,285 findfont: score(<Font 'Estrangelo Talada' (SyrCOMTalada.otf) normal normal 400 normal>) = 10.05\n",
      "2020-09-21 23:08:44,288 findfont: score(<Font 'Apple SD Gothic Neo' (AppleSDGothicNeo.ttc) normal normal regular normal>) = 10.05\n",
      "2020-09-21 23:08:44,295 findfont: score(<Font '.Helvetica Neue DeskInterface' (HelveticaNeueDeskInterface.ttc) normal normal regular normal>) = 10.05\n",
      "2020-09-21 23:08:44,298 findfont: score(<Font 'Heiti TC' (STHeiti Medium.ttc) normal normal 700 normal>) = 10.335\n",
      "2020-09-21 23:08:44,301 findfont: score(<Font 'Bangla Sangam MN' (Bangla Sangam MN.ttc) normal normal 400 normal>) = 10.05\n",
      "2020-09-21 23:08:44,305 findfont: score(<Font 'Sinhala Sangam MN' (Sinhala Sangam MN.ttc) normal normal 400 normal>) = 10.05\n",
      "2020-09-21 23:08:44,309 findfont: score(<Font '.SF NS Display Condensed' (SFNSDisplayCondensed-Heavy.otf) normal normal heavy condensed>) = 10.629999999999999\n",
      "2020-09-21 23:08:44,311 findfont: score(<Font 'STIXGeneral' (STIXGeneral.otf) normal normal regular normal>) = 10.05\n",
      "2020-09-21 23:08:44,314 findfont: score(<Font 'Serto Jerusalem' (SyrCOMJerusalemItalic.otf) italic normal 400 normal>) = 11.05\n",
      "2020-09-21 23:08:44,316 findfont: score(<Font 'New Peninim MT' (NewPeninimMT.ttc) normal normal 400 normal>) = 10.05\n"
     ]
    },
    {
     "name": "stderr",
     "output_type": "stream",
     "text": [
      "2020-09-21 23:08:44,319 findfont: score(<Font 'STIXSizeFourSym' (STIXSizFourSymBol.otf) normal normal 700 normal>) = 10.335\n",
      "2020-09-21 23:08:44,324 findfont: score(<Font 'Luxi Mono' (luximb.ttf) normal normal 700 normal>) = 10.335\n",
      "2020-09-21 23:08:44,327 findfont: score(<Font 'InaiMathi' (InaiMathi-MN.ttc) normal normal 400 normal>) = 10.05\n",
      "2020-09-21 23:08:44,328 findfont: score(<Font 'DecoType Naskh' (DecoTypeNaskh.ttc) normal normal regular normal>) = 10.05\n",
      "2020-09-21 23:08:44,330 findfont: score(<Font 'Al Bayan' (AlBayan.ttc) normal normal 400 normal>) = 10.05\n",
      "2020-09-21 23:08:44,338 findfont: score(<Font 'Gill Sans' (GillSans.ttc) normal normal 400 normal>) = 10.05\n",
      "2020-09-21 23:08:44,341 findfont: score(<Font 'Luminari' (Luminari.ttf) normal normal 400 normal>) = 10.05\n",
      "2020-09-21 23:08:44,350 findfont: score(<Font 'Noto Sans Lydian' (NotoSansLydian-Regular.ttf) normal normal regular normal>) = 10.05\n",
      "2020-09-21 23:08:44,357 findfont: score(<Font 'Hiragino Sans' (ヒラギノ角ゴシック W0.ttc) normal normal 400 normal>) = 10.05\n",
      "2020-09-21 23:08:44,359 findfont: score(<Font 'Georgia' (Georgia Bold.ttf) normal normal 700 normal>) = 10.335\n",
      "2020-09-21 23:08:44,363 findfont: score(<Font 'Heiti TC' (STHeiti Light.ttc) normal normal light normal>) = 10.24\n",
      "2020-09-21 23:08:45,540 findfont: score(<Font 'PT Sans' (PTSans.ttc) normal normal 400 normal>) = 10.05\n",
      "2020-09-21 23:08:45,548 findfont: score(<Font 'STIXSizeOneSym' (STIXSizOneSymBol.otf) normal normal 700 normal>) = 10.335\n",
      "2020-09-21 23:08:45,552 findfont: score(<Font '.SF NS Text Condensed' (SFNSTextCondensed-Semibold.otf) normal normal semibold condensed>) = 10.44\n",
      "2020-09-21 23:08:45,555 findfont: score(<Font 'Zapfino' (Zapfino.ttf) normal normal 400 normal>) = 10.05\n",
      "2020-09-21 23:08:45,559 findfont: score(<Font 'Skia' (Skia.ttf) normal normal 400 normal>) = 10.05\n",
      "2020-09-21 23:08:45,564 findfont: score(<Font 'Trebuchet MS' (Trebuchet MS Italic.ttf) italic normal 400 normal>) = 11.05\n",
      "2020-09-21 23:08:45,569 findfont: score(<Font 'Euphemia UCAS' (EuphemiaCAS.ttc) normal normal 400 normal>) = 10.05\n",
      "2020-09-21 23:08:45,572 findfont: score(<Font 'Superclarendon' (SuperClarendon.ttc) normal normal regular normal>) = 10.05\n",
      "2020-09-21 23:08:45,582 findfont: score(<Font 'Symbol' (Symbol.ttf) normal normal 400 normal>) = 10.05\n",
      "2020-09-21 23:08:45,586 findfont: score(<Font 'Apple Braille' (Apple Braille.ttf) normal normal 400 normal>) = 10.05\n",
      "2020-09-21 23:08:45,590 findfont: score(<Font 'Gurmukhi MT' (Gurmukhi.ttf) normal normal 400 normal>) = 10.05\n",
      "2020-09-21 23:08:45,594 findfont: score(<Font 'Noto Sans Kannada' (NotoSansKannada.ttc) normal normal black normal>) = 10.525\n",
      "2020-09-21 23:08:45,597 findfont: score(<Font 'Noto Sans Tai Tham' (NotoSansTaiTham-Regular.ttf) normal normal 400 normal>) = 10.05\n",
      "2020-09-21 23:08:45,600 findfont: score(<Font '.Aqua Kana' (AquaKana.ttc) normal normal 400 normal>) = 10.05\n",
      "2020-09-21 23:08:45,608 findfont: score(<Font 'Luxi Sans' (luxisri.ttf) oblique normal 400 normal>) = 11.05\n",
      "2020-09-21 23:08:45,615 findfont: score(<Font 'Farah' (Farah.ttc) normal normal regular normal>) = 10.05\n",
      "2020-09-21 23:08:45,619 findfont: score(<Font 'Estrangelo Nisibin Outline' (SyrCOMNisibinOutline.otf) normal normal 400 normal>) = 10.05\n",
      "2020-09-21 23:08:45,622 findfont: score(<Font '.New York' (NewYork.ttf) normal normal 400 normal>) = 10.05\n",
      "2020-09-21 23:08:45,626 findfont: score(<Font '.SF NS Rounded' (SFNSRounded.ttf) normal normal 400 normal>) = 10.05\n",
      "2020-09-21 23:08:45,628 findfont: score(<Font 'Bangla MN' (Bangla MN.ttc) normal normal 400 normal>) = 10.05\n",
      "2020-09-21 23:08:45,632 findfont: score(<Font 'Diwan Thuluth' (Diwan Thuluth.ttf) normal normal regular normal>) = 10.05\n",
      "2020-09-21 23:08:45,642 findfont: score(<Font '.LastResort' (LastResort.otf) normal normal 400 normal>) = 10.05\n",
      "2020-09-21 23:08:45,647 findfont: score(<Font 'Lao MN' (Lao MN.ttc) normal normal 400 normal>) = 10.05\n",
      "2020-09-21 23:08:45,651 findfont: score(<Font 'STIXVariants' (STIXVar.otf) normal normal regular normal>) = 10.05\n",
      "2020-09-21 23:08:45,659 findfont: score(<Font 'Webdings' (Webdings.ttf) normal normal 400 normal>) = 10.05\n",
      "2020-09-21 23:08:45,661 findfont: score(<Font '.SF NS Display Condensed' (SFNSDisplayCondensed-Medium.otf) normal normal medium condensed>) = 10.344999999999999\n",
      "2020-09-21 23:08:45,663 findfont: score(<Font 'Arial Hebrew' (ArialHB.ttc) normal normal 400 normal>) = 10.05\n",
      "2020-09-21 23:08:45,665 findfont: score(<Font 'Arial' (Arial.ttf) normal normal 400 normal>) = 0.05\n",
      "2020-09-21 23:08:45,670 findfont: score(<Font 'Serto Jerusalem Outline' (SyrCOMJerusalemOutline.otf) normal normal 400 normal>) = 10.05\n",
      "2020-09-21 23:08:45,672 findfont: score(<Font 'Savoye LET' (Savoye LET.ttc) normal normal 400 normal>) = 10.05\n",
      "2020-09-21 23:08:45,675 findfont: score(<Font 'American Typewriter' (AmericanTypewriter.ttc) normal normal 400 normal>) = 10.05\n",
      "2020-09-21 23:08:45,678 findfont: score(<Font 'Luxi Sans' (luxisbi.ttf) oblique normal 700 normal>) = 11.335\n",
      "2020-09-21 23:08:45,681 findfont: score(<Font '.SF NS Display Condensed' (SFNSDisplayCondensed-Semibold.otf) normal normal semibold condensed>) = 10.44\n",
      "2020-09-21 23:08:45,683 findfont: score(<Font 'Gujarati MT' (GujaratiMT.ttc) normal normal 400 normal>) = 10.05\n",
      "2020-09-21 23:08:45,686 findfont: score(<Font 'Arial Narrow' (Arial Narrow Bold.ttf) normal normal 700 condensed>) = 10.535\n",
      "2020-09-21 23:08:45,688 findfont: score(<Font 'Georgia' (Georgia Italic.ttf) italic normal 400 normal>) = 11.05\n",
      "2020-09-21 23:08:45,690 findfont: score(<Font 'STIXIntegralsUpD' (STIXIntUpDReg.otf) normal normal regular normal>) = 10.05\n",
      "2020-09-21 23:08:45,692 findfont: score(<Font 'Arial' (Arial Bold Italic.ttf) italic normal 700 normal>) = 1.335\n",
      "2020-09-21 23:08:45,695 findfont: score(<Font 'Wingdings 2' (Wingdings 2.ttf) normal normal 400 normal>) = 10.05\n",
      "2020-09-21 23:08:45,698 findfont: score(<Font 'Noto Sans Carian' (NotoSansCarian-Regular.ttf) normal normal regular normal>) = 10.05\n",
      "2020-09-21 23:08:45,706 findfont: score(<Font 'STIXIntegralsUp' (STIXIntUpReg.otf) normal normal regular normal>) = 10.05\n",
      "2020-09-21 23:08:45,709 findfont: score(<Font 'Noto Sans Shavian' (NotoSansShavian-Regular.ttf) normal normal regular normal>) = 10.05\n",
      "2020-09-21 23:08:45,712 findfont: score(<Font 'STIXIntegralsUpSm' (STIXIntUpSmReg.otf) normal normal regular normal>) = 10.05\n",
      "2020-09-21 23:08:45,715 findfont: score(<Font 'Noto Sans Buhid' (NotoSansBuhid-Regular.ttf) normal normal regular normal>) = 10.05\n",
      "2020-09-21 23:08:45,718 findfont: score(<Font 'Thonburi' (Thonburi.ttc) normal normal 400 normal>) = 10.05\n",
      "2020-09-21 23:08:45,720 findfont: score(<Font 'Kohinoor Bangla' (KohinoorBangla.ttc) normal normal 400 normal>) = 10.05\n",
      "2020-09-21 23:08:45,724 findfont: score(<Font 'Plantagenet Cherokee' (PlantagenetCherokee.ttf) normal normal 400 normal>) = 10.05\n",
      "2020-09-21 23:08:45,726 findfont: score(<Font 'Al Nile' (Al Nile.ttc) normal normal 400 normal>) = 10.05\n",
      "2020-09-21 23:08:45,733 findfont: score(<Font 'Courier New' (Courier New Bold Italic.ttf) italic normal 700 normal>) = 11.335\n",
      "2020-09-21 23:08:45,737 findfont: score(<Font 'Noto Sans PhagsPa' (NotoSansPhagsPa-Regular.ttf) normal normal regular normal>) = 10.05\n",
      "2020-09-21 23:08:45,740 findfont: score(<Font 'Apple Braille' (Apple Braille Outline 6 Dot.ttf) normal normal 400 normal>) = 10.05\n",
      "2020-09-21 23:08:45,743 findfont: score(<Font 'Galvji' (Galvji.ttc) normal normal 400 normal>) = 10.05\n",
      "2020-09-21 23:08:45,746 findfont: score(<Font 'Optima' (Optima.ttc) normal normal regular normal>) = 10.05\n",
      "2020-09-21 23:08:45,749 findfont: score(<Font 'ITF Devanagari' (ITFDevanagari.ttc) normal normal book normal>) = 10.05\n",
      "2020-09-21 23:08:45,753 findfont: score(<Font 'Noto Sans Thaana' (NotoSansThaana-Regular.ttf) normal normal regular normal>) = 10.05\n",
      "2020-09-21 23:08:45,757 findfont: score(<Font 'Arial Unicode MS' (Arial Unicode.ttf) normal normal 400 normal>) = 10.05\n",
      "2020-09-21 23:08:45,761 findfont: score(<Font 'Arial' (Arial Italic.ttf) italic normal 400 normal>) = 1.05\n",
      "2020-09-21 23:08:45,764 findfont: score(<Font 'Lao Sangam MN' (Lao Sangam MN.ttf) normal normal 400 normal>) = 10.05\n"
     ]
    },
    {
     "name": "stderr",
     "output_type": "stream",
     "text": [
      "2020-09-21 23:08:45,767 findfont: score(<Font 'Noto Sans Ol Chiki' (NotoSansOlChiki-Regular.ttf) normal normal regular normal>) = 10.05\n",
      "2020-09-21 23:08:45,772 findfont: score(<Font 'Trebuchet MS' (Trebuchet MS.ttf) normal normal 400 normal>) = 10.05\n",
      "2020-09-21 23:08:45,777 findfont: score(<Font 'Times New Roman' (Times New Roman Italic.ttf) italic normal roman normal>) = 11.145\n",
      "2020-09-21 23:08:45,781 findfont: score(<Font 'Myanmar MN' (Myanmar MN.ttc) normal normal 400 normal>) = 10.05\n",
      "2020-09-21 23:08:45,786 findfont: score(<Font 'Avenir Next' (Avenir Next.ttc) normal normal 700 normal>) = 10.335\n",
      "2020-09-21 23:08:45,790 findfont: score(<Font 'Estrangelo Midyat' (SyrCOMMidyat.otf) normal normal 400 normal>) = 10.05\n",
      "2020-09-21 23:08:45,792 findfont: score(<Font 'AppleMyungjo' (AppleMyungjo.ttf) normal normal regular normal>) = 10.05\n",
      "2020-09-21 23:08:45,795 findfont: score(<Font 'Kannada MN' (Kannada MN.ttc) normal normal 400 normal>) = 10.05\n",
      "2020-09-21 23:08:45,802 findfont: score(<Font '.Keyboard' (Keyboard.ttf) normal normal 400 normal>) = 10.05\n",
      "2020-09-21 23:08:45,805 findfont: score(<Font 'Lucida Grande' (LucidaGrande.ttc) normal normal 400 normal>) = 10.05\n",
      "2020-09-21 23:08:45,807 findfont: score(<Font 'Noto Sans Myanmar' (NotoSansMyanmar.ttc) normal normal black normal>) = 10.525\n",
      "2020-09-21 23:08:45,812 findfont: score(<Font 'Myanmar Sangam MN' (Myanmar Sangam MN.ttc) normal normal 400 normal>) = 10.05\n",
      "2020-09-21 23:08:45,816 findfont: score(<Font 'Diwan Kufi' (Diwan Kufi.ttc) normal normal regular normal>) = 10.05\n",
      "2020-09-21 23:08:45,820 findfont: score(<Font 'Bitstream Vera Sans' (Vera.ttf) normal normal 400 normal>) = 6.05\n",
      "2020-09-21 23:08:45,823 findfont: score(<Font '.SF NS Text Condensed' (SFNSTextCondensed-Regular.otf) normal normal regular condensed>) = 10.25\n",
      "2020-09-21 23:08:45,825 findfont: score(<Font 'Impact' (Impact.ttf) normal normal 400 normal>) = 10.05\n",
      "2020-09-21 23:08:45,829 findfont: score(<Font 'Noto Nastaliq Urdu' (NotoNastaliq.ttc) normal normal 400 normal>) = 10.05\n",
      "2020-09-21 23:08:45,833 findfont: score(<Font 'Noto Sans Vai' (NotoSansVai-Regular.ttf) normal normal regular normal>) = 10.05\n",
      "2020-09-21 23:08:45,836 findfont: score(<Font 'Arial Black' (Arial Black.ttf) normal normal black normal>) = 10.525\n",
      "2020-09-21 23:08:45,841 findfont: score(<Font 'Serto Jerusalem' (SyrCOMJerusalem.otf) normal normal 400 normal>) = 10.05\n",
      "2020-09-21 23:08:45,844 findfont: score(<Font 'STIXGeneral' (STIXGeneralItalic.otf) italic normal 400 normal>) = 11.05\n",
      "2020-09-21 23:08:45,851 findfont: score(<Font 'Corsiva Hebrew' (Corsiva.ttc) normal normal 400 normal>) = 10.05\n",
      "2020-09-21 23:08:45,854 findfont: score(<Font 'Waseem' (Waseem.ttc) normal normal regular normal>) = 10.05\n",
      "2020-09-21 23:08:45,857 findfont: score(<Font '.SF NS Display Condensed' (SFNSDisplayCondensed-Ultralight.otf) normal normal ultralight condensed>) = 10.535\n",
      "2020-09-21 23:08:45,859 findfont: score(<Font 'Verdana' (Verdana Bold.ttf) normal normal 700 normal>) = 10.335\n",
      "2020-09-21 23:08:45,863 findfont: score(<Font 'Muna' (Muna.ttc) normal normal regular normal>) = 10.05\n",
      "2020-09-21 23:08:45,865 findfont: score(<Font 'Noto Sans Inscriptional Parthian' (NotoSansInscriptionalParthian-Regular.ttf) normal normal regular normal>) = 10.05\n",
      "2020-09-21 23:08:45,871 findfont: score(<Font 'Hiragino Sans' (ヒラギノ角ゴシック W6.ttc) normal normal 700 normal>) = 10.335\n",
      "2020-09-21 23:08:45,873 findfont: score(<Font 'PingFang HK' (PingFang.ttc) normal normal regular normal>) = 10.05\n",
      "2020-09-21 23:08:45,876 findfont: score(<Font 'Noto Sans Rejang' (NotoSansRejang-Regular.ttf) normal normal regular normal>) = 10.05\n",
      "2020-09-21 23:08:45,879 findfont: score(<Font 'Noto Sans Cuneiform' (NotoSansCuneiform-Regular.ttf) normal normal regular normal>) = 10.05\n",
      "2020-09-21 23:08:45,881 findfont: score(<Font '.SF NS Text Condensed' (SFNSTextCondensed-Bold.otf) normal normal bold condensed>) = 10.535\n",
      "2020-09-21 23:08:45,882 findfont: score(<Font 'Baghdad' (Baghdad.ttc) normal normal regular normal>) = 10.05\n",
      "2020-09-21 23:08:45,887 findfont: score(<Font 'Palatino' (Palatino.ttc) normal normal 400 normal>) = 10.05\n",
      "2020-09-21 23:08:45,891 findfont: score(<Font 'Wingdings 3' (Wingdings 3.ttf) normal normal 400 normal>) = 10.05\n",
      "2020-09-21 23:08:45,893 findfont: score(<Font 'Courier New' (Courier New Italic.ttf) italic normal 400 normal>) = 11.05\n",
      "2020-09-21 23:08:45,897 findfont: score(<Font 'Helvetica' (Helvetica.ttc) normal normal 400 normal>) = 10.05\n",
      "2020-09-21 23:08:45,901 findfont: score(<Font 'Mukta Mahee' (MuktaMahee.ttc) normal normal regular normal>) = 10.05\n",
      "2020-09-21 23:08:45,903 findfont: score(<Font 'STIXNonUnicode' (STIXNonUniBolIta.otf) italic normal 700 normal>) = 11.335\n",
      "2020-09-21 23:08:45,905 findfont: score(<Font 'STIXSizeTwoSym' (STIXSizTwoSymReg.otf) normal normal regular normal>) = 10.05\n",
      "2020-09-21 23:08:45,908 findfont: score(<Font 'Copperplate' (Copperplate.ttc) normal normal 400 normal>) = 10.05\n",
      "2020-09-21 23:08:45,914 findfont: score(<Font 'Noto Sans New Tai Lue' (NotoSansNewTaiLue-Regular.ttf) normal normal regular normal>) = 10.05\n",
      "2020-09-21 23:08:45,917 findfont: score(<Font 'Oriya Sangam MN' (Oriya Sangam MN.ttc) normal normal 400 normal>) = 10.05\n",
      "2020-09-21 23:08:45,921 findfont: score(<Font 'Cochin' (Cochin.ttc) normal normal 400 normal>) = 10.05\n",
      "2020-09-21 23:08:45,925 findfont: score(<Font 'Noto Sans Avestan' (NotoSansAvestan-Regular.ttf) normal normal regular normal>) = 10.05\n",
      "2020-09-21 23:08:45,928 findfont: score(<Font 'Noto Sans Buginese' (NotoSansBuginese-Regular.ttf) normal normal regular normal>) = 10.05\n",
      "2020-09-21 23:08:45,932 findfont: score(<Font 'Brush Script MT' (Brush Script.ttf) italic normal 400 normal>) = 11.05\n",
      "2020-09-21 23:08:45,935 findfont: score(<Font '.Arabic UI Text' (ArabicUIText.ttc) normal normal regular normal>) = 10.05\n",
      "2020-09-21 23:08:45,938 findfont: score(<Font 'Devanagari MT' (DevanagariMT.ttc) normal normal 400 normal>) = 10.05\n",
      "2020-09-21 23:08:45,943 findfont: score(<Font 'Goha-Tibeb Zemen' (GohaTibebZemen.otf) normal normal 400 normal>) = 10.05\n",
      "2020-09-21 23:08:45,947 findfont: score(<Font 'Bitstream Vera Sans Mono' (VeraMoBd.ttf) normal normal 700 normal>) = 10.335\n",
      "2020-09-21 23:08:45,949 findfont: score(<Font 'STIXNonUnicode' (STIXNonUniIta.otf) italic normal 400 normal>) = 11.05\n",
      "2020-09-21 23:08:45,952 findfont: score(<Font 'Bitstream Vera Sans Mono' (VeraMono.ttf) normal normal 400 normal>) = 10.05\n",
      "2020-09-21 23:08:45,955 findfont: score(<Font 'Didot' (Didot.ttc) normal normal 400 normal>) = 10.05\n",
      "2020-09-21 23:08:45,957 findfont: score(<Font 'Chalkduster' (Chalkduster.ttf) normal normal 400 normal>) = 10.05\n",
      "2020-09-21 23:08:45,961 findfont: score(<Font 'Noto Sans Tai Le' (NotoSansTaiLe-Regular.ttf) normal normal regular normal>) = 10.05\n",
      "2020-09-21 23:08:45,964 findfont: score(<Font 'STIXGeneral' (STIXGeneralBolIta.otf) italic normal 700 normal>) = 11.335\n",
      "2020-09-21 23:08:45,968 findfont: score(<Font 'Hiragino Sans' (ヒラギノ角ゴシック W4.ttc) normal normal 400 normal>) = 10.05\n",
      "2020-09-21 23:08:45,972 findfont: score(<Font 'Verdana' (Verdana Italic.ttf) italic normal 400 normal>) = 11.05\n",
      "2020-09-21 23:08:45,994 findfont: score(<Font 'Tamil Sangam MN' (Tamil Sangam MN.ttc) normal normal 400 normal>) = 10.05\n",
      "2020-09-21 23:08:46,012 findfont: score(<Font '.SF NS Mono' (SFNSMonoItalic.ttf) italic normal light normal>) = 11.24\n",
      "2020-09-21 23:08:46,020 findfont: score(<Font '.New York' (NewYorkItalic.ttf) italic normal 400 normal>) = 11.05\n",
      "2020-09-21 23:08:46,023 findfont: score(<Font 'Hiragino Sans' (ヒラギノ角ゴシック W3.ttc) normal normal 400 normal>) = 10.05\n",
      "2020-09-21 23:08:46,027 findfont: score(<Font 'Times' (Times.ttc) normal normal roman normal>) = 10.145\n",
      "2020-09-21 23:08:46,030 findfont: score(<Font 'Comic Sans MS' (Comic Sans MS Bold.ttf) normal normal 700 normal>) = 10.335\n",
      "2020-09-21 23:08:46,036 findfont: score(<Font 'Noto Sans Coptic' (NotoSansCoptic-Regular.ttf) normal normal regular normal>) = 10.05\n",
      "2020-09-21 23:08:46,041 findfont: score(<Font 'Hiragino Sans GB' (Hiragino Sans GB.ttc) normal normal 400 normal>) = 10.05\n",
      "2020-09-21 23:08:46,044 findfont: score(<Font '.SF Compact Text' (SFCompactText.ttf) normal normal 400 normal>) = 10.05\n",
      "2020-09-21 23:08:46,049 findfont: score(<Font 'Goha-Tibeb Zemen' (GohaTibebZemen.ttf) normal normal 400 normal>) = 10.05\n"
     ]
    },
    {
     "name": "stderr",
     "output_type": "stream",
     "text": [
      "2020-09-21 23:08:46,052 findfont: score(<Font 'Serto Mardin' (SyrCOMMardinBold.otf) normal normal 700 normal>) = 10.335\n",
      "2020-09-21 23:08:46,054 findfont: score(<Font 'Sana' (Sana.ttc) normal normal regular normal>) = 10.05\n",
      "2020-09-21 23:08:46,056 findfont: score(<Font 'Noto Sans Tai Viet' (NotoSansTaiViet-Regular.ttf) normal normal regular normal>) = 10.05\n",
      "2020-09-21 23:08:46,059 findfont: score(<Font 'Noto Sans Brahmi' (NotoSansBrahmi-Regular.ttf) normal normal regular normal>) = 10.05\n",
      "2020-09-21 23:08:46,063 findfont: score(<Font 'Sinhala MN' (Sinhala MN.ttc) normal normal 400 normal>) = 10.05\n",
      "2020-09-21 23:08:46,067 findfont: score(<Font 'Iowan Old Style' (Iowan Old Style.ttc) normal normal roman normal>) = 10.145\n",
      "2020-09-21 23:08:46,073 findfont: score(<Font 'Kohinoor Gujarati' (KohinoorGujarati.ttc) normal normal bold normal>) = 10.335\n",
      "2020-09-21 23:08:46,076 findfont: score(<Font 'Times New Roman' (Times New Roman Bold.ttf) normal normal 700 normal>) = 10.335\n",
      "2020-09-21 23:08:46,079 findfont: score(<Font 'Noto Sans Oriya' (NotoSansOriya.ttc) normal normal 400 normal>) = 10.05\n",
      "2020-09-21 23:08:46,081 findfont: score(<Font 'Marion' (Marion.ttc) normal normal regular normal>) = 10.05\n",
      "2020-09-21 23:08:46,085 findfont: Matching sans\\-serif:style=normal:variant=normal:weight=normal:stretch=normal:size=12.0 to Arial ('/System/Library/Fonts/Supplemental/Arial.ttf') with score of 0.050000.\n"
     ]
    },
    {
     "data": {
      "image/png": "[encoded data removed]",
      "text/plain": [
       "<Figure size 432x288 with 1 Axes>"
      ]
     },
     "metadata": {},
     "output_type": "display_data"
    }
   ],
   "source": [
    "sns.distplot(circle_data.num, kde=False).set_xlabel(\"number of stations\")"
   ]
  },
  {
   "cell_type": "markdown",
   "metadata": {},
   "source": [
    "### The number of stations that reported Snow data (non-NaN stations per circle)"
   ]
  },
  {
   "cell_type": "code",
   "execution_count": 42,
   "metadata": {},
   "outputs": [
    {
     "data": {
      "text/plain": [
       "count    68390.000000\n",
       "mean         0.678096\n",
       "std          0.841609\n",
       "min          0.000000\n",
       "25%          0.000000\n",
       "50%          1.000000\n",
       "75%          1.000000\n",
       "max         23.000000\n",
       "Name: num_notna, dtype: float64"
      ]
     },
     "execution_count": 42,
     "metadata": {},
     "output_type": "execute_result"
    }
   ],
   "source": [
    "circle_data.num_notna.describe()"
   ]
  },
  {
   "cell_type": "code",
   "execution_count": 43,
   "metadata": {},
   "outputs": [
    {
     "data": {
      "text/plain": [
       "Text(0.5, 0, 'number of non-NaN stations')"
      ]
     },
     "execution_count": 43,
     "metadata": {},
     "output_type": "execute_result"
    },
    {
     "data": {
      "image/png": "[encoded data removed]",
      "text/plain": [
       "<Figure size 432x288 with 1 Axes>"
      ]
     },
     "metadata": {},
     "output_type": "display_data"
    }
   ],
   "source": [
    "sns.distplot(circle_data.num_notna, kde=False).set_xlabel(\"number of non-NaN stations\")"
   ]
  },
  {
   "cell_type": "markdown",
   "metadata": {},
   "source": [
    "## Missing Stations"
   ]
  },
  {
   "cell_type": "code",
   "execution_count": 44,
   "metadata": {},
   "outputs": [
    {
     "data": {
      "text/plain": [
       "Text(0.5, 1.0, 'cumulative percent of stations missing')"
      ]
     },
     "execution_count": 44,
     "metadata": {},
     "output_type": "execute_result"
    },
    {
     "data": {
      "image/png": "[encoded data removed]",
      "text/plain": [
       "<Figure size 432x288 with 1 Axes>"
      ]
     },
     "metadata": {},
     "output_type": "display_data"
    }
   ],
   "source": [
    "# Plot the number of stations (y-axis) agiast the proportion of stations missing snowdepth data (x-axis)\n",
    "sns.distplot((1 - circle_data.num_notna/circle_data.num) * 100, kde=False, hist_kws={'cumulative': True}).set_title('cumulative percent of stations missing')\n"
   ]
  },
  {
   "cell_type": "code",
   "execution_count": 45,
   "metadata": {},
   "outputs": [
    {
     "data": {
      "text/plain": [
       "<seaborn.axisgrid.JointGrid at 0x12a04be80>"
      ]
     },
     "execution_count": 45,
     "metadata": {},
     "output_type": "execute_result"
    },
    {
     "data": {
      "image/png": "[encoded data removed]",
      "text/plain": [
       "<Figure size 432x432 with 3 Axes>"
      ]
     },
     "metadata": {},
     "output_type": "display_data"
    }
   ],
   "source": [
    "# Plot the relationship between the nuber of stations and the proportion of stations missing snowdepth data\n",
    "sns.jointplot(circle_data.num, (1 - circle_data.num_notna/circle_data.num) * 100).set_axis_labels(\"number of stations\", 'percent missing')"
   ]
  },
  {
   "cell_type": "markdown",
   "metadata": {},
   "source": [
    "#### Percent of circles where all stations are missing data"
   ]
  },
  {
   "cell_type": "code",
   "execution_count": 46,
   "metadata": {},
   "outputs": [
    {
     "data": {
      "text/plain": [
       "47.85787395818102"
      ]
     },
     "execution_count": 46,
     "metadata": {},
     "output_type": "execute_result"
    }
   ],
   "source": [
    "(circle_data.num_notna == 0).sum() / len(circle_data) * 100"
   ]
  },
  {
   "cell_type": "code",
   "execution_count": 47,
   "metadata": {},
   "outputs": [
    {
     "data": {
      "text/plain": [
       "False    32872\n",
       "True     21543\n",
       "NaN      13975\n",
       "Name: c_snwd, dtype: int64"
      ]
     },
     "execution_count": 47,
     "metadata": {},
     "output_type": "execute_result"
    }
   ],
   "source": [
    "circle_data.c_snwd.value_counts(dropna = False)"
   ]
  },
  {
   "cell_type": "markdown",
   "metadata": {},
   "source": [
    "#### Percent of circles where no stations are missing data"
   ]
  },
  {
   "cell_type": "code",
   "execution_count": 48,
   "metadata": {},
   "outputs": [
    {
     "data": {
      "text/plain": [
       "14.870595116245063"
      ]
     },
     "execution_count": 48,
     "metadata": {},
     "output_type": "execute_result"
    }
   ],
   "source": [
    "((circle_data.num_notna == circle_data.num) & (circle_data.num > 0)).sum() / len(circle_data) * 100"
   ]
  },
  {
   "cell_type": "markdown",
   "metadata": {},
   "source": [
    "#### Percent of circles with less than half of stations missing ( Over half the stations reporting Snow Data"
   ]
  },
  {
   "cell_type": "code",
   "execution_count": 49,
   "metadata": {},
   "outputs": [
    {
     "data": {
      "text/plain": [
       "21.665448164936393"
      ]
     },
     "execution_count": 49,
     "metadata": {},
     "output_type": "execute_result"
    }
   ],
   "source": [
    "((circle_data.num_notna / circle_data.num) >= 0.5).sum() / len(circle_data) * 100"
   ]
  },
  {
   "cell_type": "markdown",
   "metadata": {},
   "source": [
    "## The number of stations per circle broken down by ecosystem\n",
    "The two ecosystems calssification are ecosystem (as defined by usgs) and nlcd code\n",
    "\n",
    "The prefixes \"e_\" and \"n_\", which is same ecosystem and same nlcd code, respectfully"
   ]
  },
  {
   "cell_type": "code",
   "execution_count": 50,
   "metadata": {},
   "outputs": [
    {
     "data": {
      "text/plain": [
       "count    68390.000000\n",
       "mean         2.174675\n",
       "std          3.956987\n",
       "min          0.000000\n",
       "25%          0.000000\n",
       "50%          1.000000\n",
       "75%          2.000000\n",
       "max         52.000000\n",
       "Name: n_num, dtype: float64"
      ]
     },
     "execution_count": 50,
     "metadata": {},
     "output_type": "execute_result"
    }
   ],
   "source": [
    "# The breakdown of stations with the same nlcd code \n",
    "circle_data.n_num.describe()"
   ]
  },
  {
   "cell_type": "code",
   "execution_count": 51,
   "metadata": {},
   "outputs": [
    {
     "data": {
      "text/plain": [
       "count    68390.000000\n",
       "mean         1.517225\n",
       "std          2.816323\n",
       "min          0.000000\n",
       "25%          0.000000\n",
       "50%          0.000000\n",
       "75%          2.000000\n",
       "max         26.000000\n",
       "Name: e_num, dtype: float64"
      ]
     },
     "execution_count": 51,
     "metadata": {},
     "output_type": "execute_result"
    }
   ],
   "source": [
    "# The breakdown of stations with the same ecosystem\n",
    "circle_data.e_num.describe()"
   ]
  },
  {
   "cell_type": "code",
   "execution_count": 52,
   "metadata": {},
   "outputs": [
    {
     "data": {
      "text/plain": [
       "<matplotlib.legend.Legend at 0x1225fccf8>"
      ]
     },
     "execution_count": 52,
     "metadata": {},
     "output_type": "execute_result"
    },
    {
     "data": {
      "image/png": "[encoded data removed]",
      "text/plain": [
       "<Figure size 432x288 with 1 Axes>"
      ]
     },
     "metadata": {},
     "output_type": "display_data"
    }
   ],
   "source": [
    "# The number of stations that share the same ncld or ecosys with their circle\n",
    "sns.distplot(circle_data.n_num, kde=False)\n",
    "ax = sns.distplot(circle_data.e_num, kde=False)\n",
    "ax.set_xlabel(\"number of stations\")\n",
    "ax.legend([\"ncld\", \"ecosys\"])"
   ]
  },
  {
   "cell_type": "markdown",
   "metadata": {},
   "source": [
    "### The number of stations with snow data in the same ecosystem classifical as the  circle"
   ]
  },
  {
   "cell_type": "code",
   "execution_count": 53,
   "metadata": {},
   "outputs": [
    {
     "data": {
      "text/plain": [
       "count    68390.000000\n",
       "mean         0.371063\n",
       "std          0.680166\n",
       "min          0.000000\n",
       "25%          0.000000\n",
       "50%          0.000000\n",
       "75%          1.000000\n",
       "max         23.000000\n",
       "Name: n_num_notna, dtype: float64"
      ]
     },
     "execution_count": 53,
     "metadata": {},
     "output_type": "execute_result"
    }
   ],
   "source": [
    "circle_data.n_num_notna.describe()"
   ]
  },
  {
   "cell_type": "code",
   "execution_count": 54,
   "metadata": {},
   "outputs": [
    {
     "data": {
      "text/plain": [
       "count    68390.000000\n",
       "mean         0.261851\n",
       "std          0.553486\n",
       "min          0.000000\n",
       "25%          0.000000\n",
       "50%          0.000000\n",
       "75%          0.000000\n",
       "max         10.000000\n",
       "Name: e_num_notna, dtype: float64"
      ]
     },
     "execution_count": 54,
     "metadata": {},
     "output_type": "execute_result"
    }
   ],
   "source": [
    "circle_data.e_num_notna.describe()"
   ]
  },
  {
   "cell_type": "code",
   "execution_count": 55,
   "metadata": {},
   "outputs": [
    {
     "data": {
      "text/plain": [
       "<matplotlib.legend.Legend at 0x11e433d30>"
      ]
     },
     "execution_count": 55,
     "metadata": {},
     "output_type": "execute_result"
    },
    {
     "data": {
      "image/png": "[encoded data removed]",
      "text/plain": [
       "<Figure size 432x288 with 1 Axes>"
      ]
     },
     "metadata": {},
     "output_type": "display_data"
    }
   ],
   "source": [
    "sns.distplot(circle_data.n_num_notna, kde=False)\n",
    "ax = sns.distplot(circle_data.e_num_notna, kde=False)\n",
    "ax.set_xlabel(\"number of non-NaN stations\")\n",
    "ax.legend([\"nlcd\", \"ecosys\"])"
   ]
  },
  {
   "cell_type": "code",
   "execution_count": 56,
   "metadata": {},
   "outputs": [
    {
     "data": {
      "text/plain": [
       "<matplotlib.legend.Legend at 0x123ca2ba8>"
      ]
     },
     "execution_count": 56,
     "metadata": {},
     "output_type": "execute_result"
    },
    {
     "data": {
      "image/png": "[encoded data removed]",
      "text/plain": [
       "<Figure size 432x288 with 1 Axes>"
      ]
     },
     "metadata": {},
     "output_type": "display_data"
    }
   ],
   "source": [
    "sns.distplot((1 - circle_data.n_num_notna/circle_data.n_num) * 100, kde=False, hist_kws={'cumulative': True})\n",
    "ax = sns.distplot((1 - circle_data.e_num_notna/circle_data.e_num) * 100, kde=False, hist_kws={'cumulative': True})\n",
    "ax.set_title('cumulative percent of stations missing')\n",
    "ax.legend([\"nlcd\", \"ecosys\"])"
   ]
  },
  {
   "cell_type": "code",
   "execution_count": 57,
   "metadata": {},
   "outputs": [
    {
     "data": {
      "text/plain": [
       "<seaborn.axisgrid.JointGrid at 0x1252ddba8>"
      ]
     },
     "execution_count": 57,
     "metadata": {},
     "output_type": "execute_result"
    },
    {
     "data": {
      "image/png": "[encoded data removed]",
      "text/plain": [
       "<Figure size 432x432 with 3 Axes>"
      ]
     },
     "metadata": {},
     "output_type": "display_data"
    }
   ],
   "source": [
    "sns.jointplot(circle_data.num, (1 - circle_data.n_num_notna/circle_data.n_num) * 100).set_axis_labels(\"number of stations (nlcd)\", 'percent missing')"
   ]
  },
  {
   "cell_type": "code",
   "execution_count": 58,
   "metadata": {},
   "outputs": [
    {
     "data": {
      "text/plain": [
       "<seaborn.axisgrid.JointGrid at 0x1278b7160>"
      ]
     },
     "execution_count": 58,
     "metadata": {},
     "output_type": "execute_result"
    },
    {
     "data": {
      "image/png": "[encoded data removed]",
      "text/plain": [
       "<Figure size 432x432 with 3 Axes>"
      ]
     },
     "metadata": {},
     "output_type": "display_data"
    }
   ],
   "source": [
    "sns.jointplot(circle_data.num, (1 - circle_data.e_num_notna/circle_data.e_num) * 100).set_axis_labels(\"number of stations (ecosys)\", 'percent missing')"
   ]
  },
  {
   "cell_type": "markdown",
   "metadata": {},
   "source": [
    "#### Percent of circles where all stations are missing data"
   ]
  },
  {
   "cell_type": "code",
   "execution_count": 59,
   "metadata": {},
   "outputs": [
    {
     "data": {
      "text/plain": [
       "69.67831554320807"
      ]
     },
     "execution_count": 59,
     "metadata": {},
     "output_type": "execute_result"
    }
   ],
   "source": [
    "(circle_data.n_num_notna == 0).sum() / len(circle_data) * 100"
   ]
  },
  {
   "cell_type": "code",
   "execution_count": 60,
   "metadata": {},
   "outputs": [
    {
     "data": {
      "text/plain": [
       "77.72335136715894"
      ]
     },
     "execution_count": 60,
     "metadata": {},
     "output_type": "execute_result"
    }
   ],
   "source": [
    "(circle_data.e_num_notna == 0).sum() / len(circle_data) * 100"
   ]
  },
  {
   "cell_type": "markdown",
   "metadata": {},
   "source": [
    "#### Percent of circles where no stations are missing data"
   ]
  },
  {
   "cell_type": "code",
   "execution_count": 61,
   "metadata": {},
   "outputs": [
    {
     "data": {
      "text/plain": [
       "12.776721742944874"
      ]
     },
     "execution_count": 61,
     "metadata": {},
     "output_type": "execute_result"
    }
   ],
   "source": [
    "((circle_data.n_num_notna == circle_data.n_num) & (circle_data.n_num > 0)).sum() / len(circle_data) * 100"
   ]
  },
  {
   "cell_type": "code",
   "execution_count": 62,
   "metadata": {},
   "outputs": [
    {
     "data": {
      "text/plain": [
       "10.270507384120485"
      ]
     },
     "execution_count": 62,
     "metadata": {},
     "output_type": "execute_result"
    }
   ],
   "source": [
    "((circle_data.e_num_notna == circle_data.e_num) & (circle_data.e_num > 0)).sum() / len(circle_data) * 100"
   ]
  },
  {
   "cell_type": "markdown",
   "metadata": {},
   "source": [
    "#### Percent of circles with less than half of stations missing"
   ]
  },
  {
   "cell_type": "code",
   "execution_count": 63,
   "metadata": {},
   "outputs": [
    {
     "data": {
      "text/plain": [
       "18.24535750840766"
      ]
     },
     "execution_count": 63,
     "metadata": {},
     "output_type": "execute_result"
    }
   ],
   "source": [
    "((circle_data.n_num_notna / circle_data.n_num) >= 0.5).sum() / len(circle_data) * 100"
   ]
  },
  {
   "cell_type": "code",
   "execution_count": 64,
   "metadata": {},
   "outputs": [
    {
     "data": {
      "text/plain": [
       "14.042988741044013"
      ]
     },
     "execution_count": 64,
     "metadata": {},
     "output_type": "execute_result"
    }
   ],
   "source": [
    "((circle_data.e_num_notna / circle_data.e_num) >= 0.5).sum() / len(circle_data) * 100"
   ]
  },
  {
   "cell_type": "markdown",
   "metadata": {},
   "source": [
    "## Location, Location, Location\n",
    "The next section will focus in on the stations closest to the cbc circles by distance"
   ]
  },
  {
   "cell_type": "markdown",
   "metadata": {},
   "source": [
    "#### What percent of circles had the closest station as NaN?"
   ]
  },
  {
   "cell_type": "code",
   "execution_count": 65,
   "metadata": {},
   "outputs": [
    {
     "data": {
      "text/plain": [
       "74.84573768094751"
      ]
     },
     "execution_count": 65,
     "metadata": {},
     "output_type": "execute_result"
    }
   ],
   "source": [
    "circle_data.snow_closest.isna().sum() / len(circle_data) * 100"
   ]
  },
  {
   "cell_type": "markdown",
   "metadata": {},
   "source": [
    "#### What percent had the average value of the reference stations differ from the closest station's value (ignoring NaNs)?"
   ]
  },
  {
   "cell_type": "code",
   "execution_count": 66,
   "metadata": {},
   "outputs": [
    {
     "data": {
      "text/plain": [
       "0.013159818686942536"
      ]
     },
     "execution_count": 66,
     "metadata": {},
     "output_type": "execute_result"
    }
   ],
   "source": [
    "# Use kleene logical indexing to skip over NAs\n",
    "(circle_data.snow_closest_notna ^ circle_data.consensus).sum() / len(circle_data) * 100"
   ]
  },
  {
   "cell_type": "code",
   "execution_count": 67,
   "metadata": {},
   "outputs": [
    {
     "data": {
      "text/plain": [
       "<matplotlib.axes._subplots.AxesSubplot at 0x123c2b438>"
      ]
     },
     "execution_count": 67,
     "metadata": {},
     "output_type": "execute_result"
    },
    {
     "data": {
      "image/png": "[encoded data removed]",
      "text/plain": [
       "<Figure size 432x288 with 1 Axes>"
      ]
     },
     "metadata": {},
     "output_type": "display_data"
    }
   ],
   "source": [
    "sns.distplot(prcp_data.distance, kde=False)"
   ]
  },
  {
   "cell_type": "markdown",
   "metadata": {},
   "source": [
    "## Elevation, Elevation, Elevation\n",
    "The next section will look at stations with the closest elivation"
   ]
  },
  {
   "cell_type": "markdown",
   "metadata": {},
   "source": [
    "#### What percent of circles had the lowest station as NaN?"
   ]
  },
  {
   "cell_type": "code",
   "execution_count": 68,
   "metadata": {},
   "outputs": [
    {
     "data": {
      "text/plain": [
       "74.98757128235121"
      ]
     },
     "execution_count": 68,
     "metadata": {},
     "output_type": "execute_result"
    }
   ],
   "source": [
    "circle_data.snow_lowest.isna().sum() / len(circle_data) * 100"
   ]
  },
  {
   "cell_type": "markdown",
   "metadata": {},
   "source": [
    "#### What percent had the average value differ from the lowest value (ignoring NaNs)?"
   ]
  },
  {
   "cell_type": "code",
   "execution_count": 69,
   "metadata": {},
   "outputs": [
    {
     "data": {
      "text/plain": [
       "0.013159818686942536"
      ]
     },
     "execution_count": 69,
     "metadata": {},
     "output_type": "execute_result"
    }
   ],
   "source": [
    "# Use kleene logical indexing to skip over NAs\n",
    "(circle_data.snow_lowest_notna ^ circle_data.consensus).sum() / len(circle_data) * 100"
   ]
  },
  {
   "cell_type": "code",
   "execution_count": 70,
   "metadata": {},
   "outputs": [
    {
     "data": {
      "text/plain": [
       "<matplotlib.axes._subplots.AxesSubplot at 0x123c46f98>"
      ]
     },
     "execution_count": 70,
     "metadata": {},
     "output_type": "execute_result"
    },
    {
     "data": {
      "image/png": "[encoded data removed]",
      "text/plain": [
       "<Figure size 432x288 with 1 Axes>"
      ]
     },
     "metadata": {},
     "output_type": "display_data"
    }
   ],
   "source": [
    "sns.distplot(prcp_data.d_elev, kde=False)"
   ]
  },
  {
   "cell_type": "markdown",
   "metadata": {},
   "source": [
    "## Consensus of Stations\n",
    "we use `4 * p(1-p)` to estiamte the \"disagreement\" amongst stations: this value ranges from `0` (all in agrement) to `1` (evenly split)  \n",
    "(here, `p` is the fraction of non-NaN stations that are `True` for snow)"
   ]
  },
  {
   "cell_type": "markdown",
   "metadata": {},
   "source": [
    "### All Stations"
   ]
  },
  {
   "cell_type": "code",
   "execution_count": 71,
   "metadata": {},
   "outputs": [
    {
     "data": {
      "text/plain": [
       "<matplotlib.lines.Line2D at 0x129a11940>"
      ]
     },
     "execution_count": 71,
     "metadata": {},
     "output_type": "execute_result"
    },
    {
     "data": {
      "image/png": "[encoded data removed]",
      "text/plain": [
       "<Figure size 432x432 with 3 Axes>"
      ]
     },
     "metadata": {},
     "output_type": "display_data"
    }
   ],
   "source": [
    "# \"disagreement\" (4*p*(1-p)) by number of not NA\n",
    "# horizontal line is AGREEMENT_THRESHOLD, defined above\n",
    "p = sns.jointplot(circle_data.num_notna, 4 * circle_data.p * (1 - circle_data.p))\n",
    "p.set_axis_labels(\"stations reporting data\", '\"disgreement [4*p*(1-p)]\"')\n",
    "p.ax_joint.axhline(y = 4 * AGREEMENT_THRESHOLD * (1-AGREEMENT_THRESHOLD))"
   ]
  },
  {
   "cell_type": "markdown",
   "metadata": {},
   "source": [
    "### What percent do not meet our dissagreement threshold?"
   ]
  },
  {
   "cell_type": "code",
   "execution_count": 72,
   "metadata": {},
   "outputs": [
    {
     "data": {
      "text/plain": [
       "0.991373007749671"
      ]
     },
     "execution_count": 72,
     "metadata": {},
     "output_type": "execute_result"
    }
   ],
   "source": [
    "# Breaking this down a bit for easy of readability \n",
    "\n",
    "# circle_data.consensus is na when p (the proportion of staions for a circle reporting snowdepth) is NA OR p is not \n",
    "# meeting the AGREEMENT Threshold \n",
    "\n",
    "# circle_data.p is NOT na when a circle has at least one station reporting snowdepth data \n",
    "\n",
    "# PUTTING IT TOGETHER - The below line counts the number of station who had at least one station reporting \n",
    "# but did not meet the agreement threshold\n",
    "(circle_data.consensus.isna() & circle_data.p.notna()).sum() / len(circle_data) * 100"
   ]
  },
  {
   "cell_type": "markdown",
   "metadata": {},
   "source": [
    "### Ecosystems"
   ]
  },
  {
   "cell_type": "code",
   "execution_count": 73,
   "metadata": {},
   "outputs": [
    {
     "data": {
      "text/plain": [
       "<matplotlib.lines.Line2D at 0x11dcca2b0>"
      ]
     },
     "execution_count": 73,
     "metadata": {},
     "output_type": "execute_result"
    },
    {
     "data": {
      "image/png": "[encoded data removed]",
      "text/plain": [
       "<Figure size 432x432 with 3 Axes>"
      ]
     },
     "metadata": {},
     "output_type": "display_data"
    }
   ],
   "source": [
    "# Agreement Plot for Stations that share ncld codes with their circles \n",
    "p = sns.jointplot(circle_data.n_num_notna, 4 * circle_data.n_p * (1 - circle_data.n_p))\n",
    "p.set_axis_labels(\"stations reporting data (nlcd)\", '\"disgreement [4*p*(1-p)]\"')\n",
    "p.ax_joint.axhline(y = 4 * AGREEMENT_THRESHOLD * (1-AGREEMENT_THRESHOLD))"
   ]
  },
  {
   "cell_type": "code",
   "execution_count": 74,
   "metadata": {},
   "outputs": [
    {
     "data": {
      "text/plain": [
       "<matplotlib.lines.Line2D at 0x11f8eb5f8>"
      ]
     },
     "execution_count": 74,
     "metadata": {},
     "output_type": "execute_result"
    },
    {
     "data": {
      "image/png": "[encoded data removed]",
      "text/plain": [
       "<Figure size 432x432 with 3 Axes>"
      ]
     },
     "metadata": {},
     "output_type": "display_data"
    }
   ],
   "source": [
    "# Agreement Plot for Stations that share ecosys classification with their circles \n",
    "p = sns.jointplot(circle_data.e_num_notna, 4 * circle_data.e_p * (1 - circle_data.e_p))\n",
    "p.set_axis_labels(\"stations reporting data (ecosys)\", '\"disgreement [4*p*(1-p)]\"')\n",
    "p.ax_joint.axhline(y = 4 * AGREEMENT_THRESHOLD * (1-AGREEMENT_THRESHOLD))"
   ]
  },
  {
   "cell_type": "markdown",
   "metadata": {},
   "source": [
    "#### What percent do not meet our dissagreement threshold?"
   ]
  },
  {
   "cell_type": "code",
   "execution_count": 75,
   "metadata": {},
   "outputs": [
    {
     "data": {
      "text/plain": [
       "0.3904079543792952"
      ]
     },
     "execution_count": 75,
     "metadata": {},
     "output_type": "execute_result"
    }
   ],
   "source": [
    "# The below line counts the number of stations who had at least one station reporting with the same nlcd code\n",
    "# but did not meet the agreement threshold\n",
    "(circle_data.n_consensus.isna() & circle_data.n_p.notna()).sum() / len(circle_data) * 100"
   ]
  },
  {
   "cell_type": "code",
   "execution_count": 76,
   "metadata": {},
   "outputs": [
    {
     "data": {
      "text/plain": [
       "0.24857435297558125"
      ]
     },
     "execution_count": 76,
     "metadata": {},
     "output_type": "execute_result"
    }
   ],
   "source": [
    "# The below line counts the number of stations who had at least one station reporting with the same ecosys classifier\n",
    "# but did not meet the agreement threshold\n",
    "(circle_data.e_consensus.isna() & circle_data.e_p.notna()).sum() / len(circle_data) * 100"
   ]
  },
  {
   "cell_type": "markdown",
   "metadata": {},
   "source": [
    "### Consensus Breakdown by Circle Snow Depth Reporting"
   ]
  },
  {
   "cell_type": "code",
   "execution_count": 77,
   "metadata": {},
   "outputs": [
    {
     "name": "stdout",
     "output_type": "stream",
     "text": [
      "The Count of Circles Reproting Snow:\n",
      "False    32872\n",
      "True     21543\n",
      "NaN      13975\n",
      "Name: c_snwd, dtype: int64\n",
      "The Percentage of Circles Reproting Snow:\n",
      "False    48.065507\n",
      "True     31.500219\n",
      "NaN      20.434274\n",
      "Name: c_snwd, dtype: float64\n"
     ]
    }
   ],
   "source": [
    "# The number and percentage  of circles that reported Snow, No Snow or are NA \n",
    "print(\"The Count of Circles Reproting Snow:\")\n",
    "print(circle_data.c_snwd.value_counts(dropna = False))\n",
    "print(\"The Percentage of Circles Reproting Snow:\")\n",
    "print(circle_data.c_snwd.value_counts(dropna = False, normalize = True) * 100)\n"
   ]
  },
  {
   "cell_type": "markdown",
   "metadata": {},
   "source": [
    "#### Break Down of Concensus for Circles that reported True for Snow Depth"
   ]
  },
  {
   "cell_type": "code",
   "execution_count": 78,
   "metadata": {},
   "outputs": [
    {
     "name": "stdout",
     "output_type": "stream",
     "text": [
      "Snow Data Consensus Amoung All Stations where the Circle Reported Snow:\n",
      "NaN      11518\n",
      "True      7112\n",
      "False     2913\n",
      "Name: consensus, dtype: Int64\n",
      "^^ with Percentage:\n",
      "NaN      53.465163\n",
      "True     33.013044\n",
      "False    13.521794\n",
      "Name: consensus, dtype: float64\n",
      "Snow Data Consensus Amoung Closest Stations where the Circle Reported Snow:\n",
      "NaN      17520\n",
      "True      2817\n",
      "False     1206\n",
      "Name: snow_closest, dtype: Int64\n",
      "^^ with Percentage:\n",
      "NaN      81.325721\n",
      "True     13.076173\n",
      "False     5.598106\n",
      "Name: snow_closest, dtype: float64\n",
      "Snow Data Consensus Amoung Closest in Elivation Stations where the Circle Reported Snow:\n",
      "NaN      17661\n",
      "True      2771\n",
      "False     1111\n",
      "Name: snow_lowest, dtype: Int64\n",
      "^^ with Percentage:\n",
      "NaN      81.980226\n",
      "True     12.862647\n",
      "False     5.157128\n",
      "Name: snow_lowest, dtype: float64\n",
      "Snow Data Consensus Amoung Stations with the same nlcd code where the Circle Reported Snow:\n",
      "NaN      16075\n",
      "True      3890\n",
      "False     1578\n",
      "Name: n_consensus, dtype: Int64\n",
      "^^ with Percentage:\n",
      "NaN      74.618205\n",
      "True     18.056909\n",
      "False     7.324885\n",
      "Name: n_consensus, dtype: float64\n",
      "Snow Data Consensus Amoung Stations with the same ecosys classification where the Circle Reported Snow:\n",
      "NaN      17388\n",
      "True      2925\n",
      "False     1230\n",
      "Name: e_consensus, dtype: Int64\n",
      "^^ with Percentage:\n",
      "NaN      80.712993\n",
      "True     13.577496\n",
      "False     5.709511\n",
      "Name: e_consensus, dtype: float64\n"
     ]
    }
   ],
   "source": [
    "\n",
    "print(\"Snow Data Consensus Amoung All Stations where the Circle Reported Snow:\")\n",
    "print(circle_data.loc[circle_data['c_snwd'] == True].consensus.value_counts(dropna = False) )\n",
    "print(\"^^ with Percentage:\")\n",
    "print((circle_data.loc[circle_data['c_snwd'] == True].consensus.value_counts(dropna = False) / len(circle_data.loc[circle_data['c_snwd'] == True]) * 100))\n",
    "\n",
    "print(\"Snow Data Consensus Amoung Closest Stations where the Circle Reported Snow:\")\n",
    "print(circle_data.loc[circle_data['c_snwd'] == True].snow_closest.value_counts(dropna = False) )\n",
    "print(\"^^ with Percentage:\")\n",
    "print((circle_data.loc[circle_data['c_snwd'] == True].snow_closest.value_counts(dropna = False) / len(circle_data.loc[circle_data['c_snwd'] == True]) * 100))\n",
    "\n",
    "print(\"Snow Data Consensus Amoung Closest in Elivation Stations where the Circle Reported Snow:\")\n",
    "print(circle_data.loc[circle_data['c_snwd'] == True].snow_lowest.value_counts(dropna = False) )\n",
    "print(\"^^ with Percentage:\")\n",
    "print((circle_data.loc[circle_data['c_snwd'] == True].snow_lowest.value_counts(dropna = False) / len(circle_data.loc[circle_data['c_snwd'] == True]) * 100))\n",
    "\n",
    "print(\"Snow Data Consensus Amoung Stations with the same nlcd code where the Circle Reported Snow:\")\n",
    "print(circle_data.loc[circle_data['c_snwd'] == True].n_consensus.value_counts(dropna = False) )\n",
    "print(\"^^ with Percentage:\")\n",
    "print((circle_data.loc[circle_data['c_snwd'] == True].n_consensus.value_counts(dropna = False) / len(circle_data.loc[circle_data['c_snwd'] == True]) * 100))\n",
    "\n",
    "print(\"Snow Data Consensus Amoung Stations with the same ecosys classification where the Circle Reported Snow:\")\n",
    "print(circle_data.loc[circle_data['c_snwd'] == True].e_consensus.value_counts(dropna = False) )\n",
    "print(\"^^ with Percentage:\")\n",
    "print((circle_data.loc[circle_data['c_snwd'] == True].e_consensus.value_counts(dropna = False) / len(circle_data.loc[circle_data['c_snwd'] == True]) * 100))\n",
    "\n",
    "\n"
   ]
  },
  {
   "cell_type": "markdown",
   "metadata": {},
   "source": [
    "#### Break Down of Concensus for Circles that reported False for Snow Depth"
   ]
  },
  {
   "cell_type": "code",
   "execution_count": 79,
   "metadata": {},
   "outputs": [
    {
     "name": "stdout",
     "output_type": "stream",
     "text": [
      "Snow Data Consensus Amoung All Stations where the Circle did NOT Report Snow:\n",
      "NaN      17156\n",
      "False    15223\n",
      "True       493\n",
      "Name: consensus, dtype: Int64\n",
      "^^ with Percentage:\n",
      "NaN      52.190314\n",
      "False    46.309929\n",
      "True      1.499757\n",
      "Name: consensus, dtype: float64\n",
      "Snow Data Consensus Amoung Closest Stations where the Circle did NOT Report Snow:\n",
      "NaN      27977\n",
      "False     4738\n",
      "True       157\n",
      "Name: snow_closest, dtype: Int64\n",
      "^^ with Percentage:\n",
      "NaN      85.108907\n",
      "False    14.413483\n",
      "True      0.477610\n",
      "Name: snow_closest, dtype: float64\n",
      "Snow Data Consensus Amoung Closest in Elivation Stations where the Circle did NOT Report Snow:\n",
      "NaN      27972\n",
      "False     4733\n",
      "True       167\n",
      "Name: snow_lowest, dtype: Int64\n",
      "^^ with Percentage:\n",
      "NaN      85.093697\n",
      "False    14.398272\n",
      "True      0.508031\n",
      "Name: snow_lowest, dtype: float64\n",
      "Snow Data Consensus Amoung Stations with the same nlcd code where the Circle did NOT Report Snow:\n",
      "NaN      22879\n",
      "False     9669\n",
      "True       324\n",
      "Name: n_consensus, dtype: Int64\n",
      "^^ with Percentage:\n",
      "NaN      69.600268\n",
      "False    29.414091\n",
      "True      0.985641\n",
      "Name: n_consensus, dtype: float64\n",
      "Snow Data Consensus Amoung Stations with the same ecosys classification where the Circle did NOT Report Snow:\n",
      "NaN      25519\n",
      "False     7113\n",
      "True       240\n",
      "Name: e_consensus, dtype: Int64\n",
      "^^ with Percentage:\n",
      "NaN      77.631419\n",
      "False    21.638477\n",
      "True      0.730105\n",
      "Name: e_consensus, dtype: float64\n"
     ]
    }
   ],
   "source": [
    "\n",
    "print(\"Snow Data Consensus Amoung All Stations where the Circle did NOT Report Snow:\")\n",
    "print(circle_data.loc[circle_data['c_snwd'] == False].consensus.value_counts(dropna = False) )\n",
    "print(\"^^ with Percentage:\")\n",
    "print((circle_data.loc[circle_data['c_snwd'] == False].consensus.value_counts(dropna = False) / len(circle_data.loc[circle_data['c_snwd'] == False]) * 100))\n",
    "\n",
    "print(\"Snow Data Consensus Amoung Closest Stations where the Circle did NOT Report Snow:\")\n",
    "print(circle_data.loc[circle_data['c_snwd'] == False].snow_closest.value_counts(dropna = False) )\n",
    "print(\"^^ with Percentage:\")\n",
    "print((circle_data.loc[circle_data['c_snwd'] == False].snow_closest.value_counts(dropna = False) / len(circle_data.loc[circle_data['c_snwd'] == False]) * 100))\n",
    "\n",
    "print(\"Snow Data Consensus Amoung Closest in Elivation Stations where the Circle did NOT Report Snow:\")\n",
    "print(circle_data.loc[circle_data['c_snwd'] == False].snow_lowest.value_counts(dropna = False) )\n",
    "print(\"^^ with Percentage:\")\n",
    "print((circle_data.loc[circle_data['c_snwd'] == False].snow_lowest.value_counts(dropna = False) / len(circle_data.loc[circle_data['c_snwd'] == False]) * 100))\n",
    "\n",
    "print(\"Snow Data Consensus Amoung Stations with the same nlcd code where the Circle did NOT Report Snow:\")\n",
    "print(circle_data.loc[circle_data['c_snwd'] == False].n_consensus.value_counts(dropna = False) )\n",
    "print(\"^^ with Percentage:\")\n",
    "print((circle_data.loc[circle_data['c_snwd'] == False].n_consensus.value_counts(dropna = False) / len(circle_data.loc[circle_data['c_snwd'] == False]) * 100))\n",
    "\n",
    "print(\"Snow Data Consensus Amoung Stations with the same ecosys classification where the Circle did NOT Report Snow:\")\n",
    "print(circle_data.loc[circle_data['c_snwd'] == False].e_consensus.value_counts(dropna = False) )\n",
    "print(\"^^ with Percentage:\")\n",
    "print((circle_data.loc[circle_data['c_snwd'] == False].e_consensus.value_counts(dropna = False) / len(circle_data.loc[circle_data['c_snwd'] == False]) * 100))\n",
    "\n",
    "\n"
   ]
  },
  {
   "cell_type": "markdown",
   "metadata": {},
   "source": [
    "## The Missing Station and Circle Data"
   ]
  },
  {
   "cell_type": "code",
   "execution_count": 80,
   "metadata": {},
   "outputs": [],
   "source": [
    "# Create a series indicating if a circle is missing weather data\n",
    "circle_data_na_circle_idx = circle_data.c_snwd.isna()"
   ]
  },
  {
   "cell_type": "markdown",
   "metadata": {},
   "source": [
    "### Percent of circles with missing snow observation"
   ]
  },
  {
   "cell_type": "code",
   "execution_count": 81,
   "metadata": {},
   "outputs": [
    {
     "data": {
      "text/plain": [
       "20.434274016669104"
      ]
     },
     "execution_count": 81,
     "metadata": {},
     "output_type": "execute_result"
    }
   ],
   "source": [
    "circle_data_na_circle_idx.sum() / len(circle_data) * 100"
   ]
  },
  {
   "cell_type": "markdown",
   "metadata": {},
   "source": [
    "### Count of circles with missing snow observation"
   ]
  },
  {
   "cell_type": "code",
   "execution_count": 82,
   "metadata": {},
   "outputs": [
    {
     "name": "stdout",
     "output_type": "stream",
     "text": [
      "Circles with missing Snow Data: \n",
      "13975\n",
      "Circles with NO missing Snow Data: \n",
      "54415\n"
     ]
    }
   ],
   "source": [
    "print(\"Circles with missing Snow Data: \")\n",
    "print(circle_data_na_circle_idx.sum())\n",
    "print(\"Circles with NO missing Snow Data: \")\n",
    "print(len(circle_data) - circle_data_na_circle_idx.sum())"
   ]
  },
  {
   "cell_type": "markdown",
   "metadata": {},
   "source": [
    "### Percent of circles with both volunteer and all station data are missing"
   ]
  },
  {
   "cell_type": "code",
   "execution_count": 83,
   "metadata": {},
   "outputs": [
    {
     "data": {
      "text/plain": [
       "6.720280742798655"
      ]
     },
     "execution_count": 83,
     "metadata": {},
     "output_type": "execute_result"
    }
   ],
   "source": [
    "# joint\n",
    "(circle_data_na_circle_idx & (circle_data.num_notna == 0)).sum() / len(circle_data) * 100"
   ]
  },
  {
   "cell_type": "code",
   "execution_count": 84,
   "metadata": {},
   "outputs": [
    {
     "data": {
      "text/plain": [
       "32.887298747763865"
      ]
     },
     "execution_count": 84,
     "metadata": {},
     "output_type": "execute_result"
    }
   ],
   "source": [
    "# conditional \n",
    "(circle_data_na_circle_idx & (circle_data.num_notna == 0)).sum() / circle_data_na_circle_idx.sum() * 100"
   ]
  },
  {
   "cell_type": "code",
   "execution_count": 85,
   "metadata": {},
   "outputs": [
    {
     "data": {
      "text/plain": [
       "47.85787395818102"
      ]
     },
     "execution_count": 85,
     "metadata": {},
     "output_type": "execute_result"
    }
   ],
   "source": [
    "# population\n",
    "(circle_data.num_notna == 0).sum() / len(circle_data) * 100"
   ]
  },
  {
   "cell_type": "markdown",
   "metadata": {},
   "source": [
    "## Correlation between the two"
   ]
  },
  {
   "cell_type": "code",
   "execution_count": null,
   "metadata": {},
   "outputs": [],
   "source": [
    "g, p, dof, expctd = stats.chi2_contingency(pd.crosstab(circle_data_na_circle_idx, circle_data.num_notna == 0))\n",
    "g, p"
   ]
  },
  {
   "cell_type": "markdown",
   "metadata": {},
   "source": [
    "if the circle is missing data, it is much more likely that all other stations will too, when compared to the general population"
   ]
  },
  {
   "cell_type": "markdown",
   "metadata": {},
   "source": [
    "#### Count and Percent of Stations Reporting if the Circle Reported Snow Data"
   ]
  },
  {
   "cell_type": "code",
   "execution_count": 86,
   "metadata": {},
   "outputs": [
    {
     "name": "stdout",
     "output_type": "stream",
     "text": [
      "Stations with missing Snow Data IF the the Circle is Reporting:\n",
      "28134\n",
      "51.70265551778003\n",
      "Stations with NO missing Snow Data IF the Circle is Reporting: \n",
      "26281\n",
      "48.29734448221998\n"
     ]
    }
   ],
   "source": [
    "print(\"Stations with missing Snow Data IF the the Circle is Reporting:\")\n",
    "print(circle_data[(~circle_data_na_circle_idx) & (circle_data.num_notna == 0)].shape[0])\n",
    "print(circle_data[(~circle_data_na_circle_idx) & (circle_data.num_notna == 0)].shape[0] / len(circle_data[~circle_data_na_circle_idx]) * 100 )\n",
    "print(\"Stations with NO missing Snow Data IF the Circle is Reporting: \")\n",
    "print(circle_data[(~circle_data_na_circle_idx) & (circle_data.num_notna != 0)].shape[0])\n",
    "print(circle_data[(~circle_data_na_circle_idx) & (circle_data.num_notna != 0)].shape[0] / len(circle_data[~circle_data_na_circle_idx]) * 100 )\n"
   ]
  },
  {
   "cell_type": "markdown",
   "metadata": {},
   "source": [
    "### Percent of circles with both volunteer and the closest station data are missing"
   ]
  },
  {
   "cell_type": "code",
   "execution_count": 87,
   "metadata": {},
   "outputs": [
    {
     "data": {
      "text/plain": [
       "8.319929814300336"
      ]
     },
     "execution_count": 87,
     "metadata": {},
     "output_type": "execute_result"
    }
   ],
   "source": [
    "# joint\n",
    "(circle_data_na_circle_idx & circle_data.snow_closest.isna()).sum()  / len(circle_data) * 100"
   ]
  },
  {
   "cell_type": "code",
   "execution_count": 88,
   "metadata": {},
   "outputs": [
    {
     "data": {
      "text/plain": [
       "40.715563506261184"
      ]
     },
     "execution_count": 88,
     "metadata": {},
     "output_type": "execute_result"
    }
   ],
   "source": [
    "# conditional \n",
    "(circle_data_na_circle_idx & circle_data.snow_closest.isna()).sum() / circle_data_na_circle_idx.sum() * 100"
   ]
  },
  {
   "cell_type": "code",
   "execution_count": 89,
   "metadata": {},
   "outputs": [
    {
     "data": {
      "text/plain": [
       "74.84573768094751"
      ]
     },
     "execution_count": 89,
     "metadata": {},
     "output_type": "execute_result"
    }
   ],
   "source": [
    "# population\n",
    "circle_data.snow_closest.isna().sum() / len(circle_data) * 100"
   ]
  },
  {
   "cell_type": "code",
   "execution_count": 90,
   "metadata": {},
   "outputs": [
    {
     "data": {
      "text/plain": [
       "(10865.08378015915, 0.0)"
      ]
     },
     "execution_count": 90,
     "metadata": {},
     "output_type": "execute_result"
    }
   ],
   "source": [
    "g, p, dof, expctd = stats.chi2_contingency(pd.crosstab(circle_data_na_circle_idx, circle_data.snow_closest.isna()))\n",
    "g, p"
   ]
  },
  {
   "cell_type": "markdown",
   "metadata": {},
   "source": [
    "if the circle is missing data, it is much **less** likely that the closest station will have missing data, when compared to the general population"
   ]
  },
  {
   "cell_type": "markdown",
   "metadata": {},
   "source": [
    "#### Count and Percent of Closest Stations Reporting if the Circle Reported Snow Data"
   ]
  },
  {
   "cell_type": "code",
   "execution_count": 91,
   "metadata": {},
   "outputs": [
    {
     "name": "stdout",
     "output_type": "stream",
     "text": [
      "Closest Stations with missing Snow Data IF the the Circle is Reporting:\n",
      "45497\n",
      "83.61113663511898\n",
      "Closest Stations with NO missing Snow Data IF the Circle is Reporting: \n",
      "8918\n",
      "16.388863364881008\n"
     ]
    }
   ],
   "source": [
    "print(\"Closest Stations with missing Snow Data IF the the Circle is Reporting:\")\n",
    "print(circle_data[(~circle_data_na_circle_idx) & (circle_data.snow_closest.isna())].shape[0])\n",
    "print(circle_data[(~circle_data_na_circle_idx) & (circle_data.snow_closest.isna())].shape[0] / len(circle_data[~circle_data_na_circle_idx]) * 100 )\n",
    "print(\"Closest Stations with NO missing Snow Data IF the Circle is Reporting: \")\n",
    "print(circle_data[(~circle_data_na_circle_idx) & (~circle_data.snow_closest.isna())].shape[0])\n",
    "print(circle_data[(~circle_data_na_circle_idx) & (~circle_data.snow_closest.isna())].shape[0] / len(circle_data[~circle_data_na_circle_idx]) * 100 )\n"
   ]
  },
  {
   "cell_type": "markdown",
   "metadata": {},
   "source": [
    "### Percent of circles with both volunteer and the lowest station data are missing"
   ]
  },
  {
   "cell_type": "code",
   "execution_count": 97,
   "metadata": {},
   "outputs": [
    {
     "data": {
      "text/plain": [
       "8.262903933323585"
      ]
     },
     "execution_count": 97,
     "metadata": {},
     "output_type": "execute_result"
    }
   ],
   "source": [
    "# joint\n",
    "(circle_data_na_circle_idx & circle_data.snow_lowest.isna()).sum()  / len(circle_data) * 100"
   ]
  },
  {
   "cell_type": "code",
   "execution_count": 93,
   "metadata": {},
   "outputs": [
    {
     "data": {
      "text/plain": [
       "40.436493738819316"
      ]
     },
     "execution_count": 93,
     "metadata": {},
     "output_type": "execute_result"
    }
   ],
   "source": [
    "# conditional \n",
    "(circle_data_na_circle_idx & circle_data.snow_lowest.isna()).sum() / circle_data_na_circle_idx.sum() * 100"
   ]
  },
  {
   "cell_type": "code",
   "execution_count": 94,
   "metadata": {},
   "outputs": [
    {
     "data": {
      "text/plain": [
       "74.98757128235121"
      ]
     },
     "execution_count": 94,
     "metadata": {},
     "output_type": "execute_result"
    }
   ],
   "source": [
    "# population\n",
    "circle_data.snow_lowest.isna().sum() / len(circle_data) * 100"
   ]
  },
  {
   "cell_type": "code",
   "execution_count": 95,
   "metadata": {},
   "outputs": [
    {
     "data": {
      "text/plain": [
       "(11176.707339935198, 0.0)"
      ]
     },
     "execution_count": 95,
     "metadata": {},
     "output_type": "execute_result"
    }
   ],
   "source": [
    "g, p, dof, expctd = stats.chi2_contingency(pd.crosstab(circle_data_na_circle_idx, circle_data.snow_lowest.isna()))\n",
    "g, p"
   ]
  },
  {
   "cell_type": "markdown",
   "metadata": {},
   "source": [
    "if the circle is missing data, it is much **less** likely that the lowest station will have missing data, when compared to the general population"
   ]
  },
  {
   "cell_type": "markdown",
   "metadata": {},
   "source": [
    "#### Count and Percent of Closest Elivation Stations Reporting if the Circle Reported Snow Depth Data"
   ]
  },
  {
   "cell_type": "code",
   "execution_count": 98,
   "metadata": {},
   "outputs": [
    {
     "name": "stdout",
     "output_type": "stream",
     "text": [
      "Closest Elivation Stations with missing Snow Data IF the the Circle is Reporting:\n",
      "45633\n",
      "83.86106772029771\n",
      "Closest Elivation Stations with NO missing Snow Data IF the Circle is Reporting: \n",
      "8782\n",
      "16.138932279702285\n"
     ]
    }
   ],
   "source": [
    "print(\"Closest Elivation Stations with missing Snow Data IF the the Circle is Reporting:\")\n",
    "print(circle_data[(~circle_data_na_circle_idx) & (circle_data.snow_lowest.isna())].shape[0])\n",
    "print(circle_data[(~circle_data_na_circle_idx) & (circle_data.snow_lowest.isna())].shape[0] / len(circle_data[~circle_data_na_circle_idx]) * 100 )\n",
    "print(\"Closest Elivation Stations with NO missing Snow Data IF the Circle is Reporting: \")\n",
    "print(circle_data[(~circle_data_na_circle_idx) & (~circle_data.snow_lowest.isna())].shape[0])\n",
    "print(circle_data[(~circle_data_na_circle_idx) & (~circle_data.snow_lowest.isna())].shape[0] / len(circle_data[~circle_data_na_circle_idx]) * 100 )\n"
   ]
  },
  {
   "cell_type": "markdown",
   "metadata": {},
   "source": [
    "### Number of stations for circles with missing data"
   ]
  },
  {
   "cell_type": "code",
   "execution_count": 99,
   "metadata": {},
   "outputs": [
    {
     "data": {
      "text/plain": [
       "(1619.797973075247, 0.0)"
      ]
     },
     "execution_count": 99,
     "metadata": {},
     "output_type": "execute_result"
    }
   ],
   "source": [
    "actl = pd.crosstab(circle_data_na_circle_idx, circle_data.num_notna)\n",
    "g, p, dof, expctd = stats.chi2_contingency(actl)\n",
    "g, p"
   ]
  },
  {
   "cell_type": "code",
   "execution_count": 100,
   "metadata": {},
   "outputs": [
    {
     "data": {
      "text/plain": [
       "<matplotlib.axes._subplots.AxesSubplot at 0x11ef2b0f0>"
      ]
     },
     "execution_count": 100,
     "metadata": {},
     "output_type": "execute_result"
    },
    {
     "data": {
      "image/png": "[encoded data removed]",
      "text/plain": [
       "<Figure size 432x288 with 1 Axes>"
      ]
     },
     "metadata": {},
     "output_type": "display_data"
    }
   ],
   "source": [
    "sns.barplot(np.arange(expctd.shape[1]), actl.loc[True] - expctd[1, :])"
   ]
  },
  {
   "cell_type": "markdown",
   "metadata": {},
   "source": [
    "it looks like the circle being missing implies that there is only one non-na station?"
   ]
  },
  {
   "cell_type": "markdown",
   "metadata": {},
   "source": [
    "### Disagreement"
   ]
  },
  {
   "cell_type": "code",
   "execution_count": 101,
   "metadata": {},
   "outputs": [
    {
     "data": {
      "text/plain": [
       "<matplotlib.lines.Line2D at 0x11f125a58>"
      ]
     },
     "execution_count": 101,
     "metadata": {},
     "output_type": "execute_result"
    },
    {
     "data": {
      "image/png": "[encoded data removed]",
      "text/plain": [
       "<Figure size 432x432 with 3 Axes>"
      ]
     },
     "metadata": {},
     "output_type": "display_data"
    }
   ],
   "source": [
    "# \"disagreement\" (4*p*(1-p)) by number of not NA\n",
    "# horizontal line is AGREEMENT_THRESHOLD, defined above\n",
    "p = sns.jointplot(circle_data.loc[circle_data_na_circle_idx, 'num_notna'], \n",
    "                  4 * circle_data.loc[circle_data_na_circle_idx, 'p'] * (1 - circle_data.loc[circle_data_na_circle_idx, 'p']))\n",
    "p.ax_joint.scatter(circle_data.num_notna, 4 * circle_data.p * (1 - circle_data.p), color='pink', marker='x', alpha=0.5)\n",
    "p.set_axis_labels(\"number NaN\", '\"disgreement [4*p*(1-p)]\"')\n",
    "p.ax_joint.axhline(y = 4 * AGREEMENT_THRESHOLD * (1-AGREEMENT_THRESHOLD))"
   ]
  },
  {
   "cell_type": "markdown",
   "metadata": {},
   "source": [
    "### What percent do not meet our dissagreement threshold?"
   ]
  },
  {
   "cell_type": "code",
   "execution_count": 102,
   "metadata": {},
   "outputs": [
    {
     "data": {
      "text/plain": [
       "6.922064629331774"
      ]
     },
     "execution_count": 102,
     "metadata": {},
     "output_type": "execute_result"
    }
   ],
   "source": [
    "# joint\n",
    "circle_data.loc[circle_data_na_circle_idx, 'consensus'].isna().sum() / len(circle_data) * 100"
   ]
  },
  {
   "cell_type": "code",
   "execution_count": 103,
   "metadata": {},
   "outputs": [
    {
     "data": {
      "text/plain": [
       "33.87477638640429"
      ]
     },
     "execution_count": 103,
     "metadata": {},
     "output_type": "execute_result"
    }
   ],
   "source": [
    "# conditional\n",
    "circle_data.loc[circle_data_na_circle_idx, 'consensus'].isna().sum() / circle_data_na_circle_idx.sum() * 100"
   ]
  },
  {
   "cell_type": "code",
   "execution_count": 104,
   "metadata": {},
   "outputs": [
    {
     "data": {
      "text/plain": [
       "48.84924696593069"
      ]
     },
     "execution_count": 104,
     "metadata": {},
     "output_type": "execute_result"
    }
   ],
   "source": [
    "# population\n",
    "circle_data.consensus.isna().sum() / len(circle_data) * 100"
   ]
  },
  {
   "cell_type": "code",
   "execution_count": 105,
   "metadata": {},
   "outputs": [
    {
     "data": {
      "text/plain": [
       "(1575.4741463722112, 0.0)"
      ]
     },
     "execution_count": 105,
     "metadata": {},
     "output_type": "execute_result"
    }
   ],
   "source": [
    "actl = pd.crosstab(circle_data_na_circle_idx, circle_data.consensus.isna())\n",
    "g, p, dof, expctd = stats.chi2_contingency(actl)\n",
    "g, p"
   ]
  },
  {
   "cell_type": "code",
   "execution_count": 106,
   "metadata": {},
   "outputs": [
    {
     "data": {
      "text/html": [
       "<div>\n",
       "<style scoped>\n",
       "    .dataframe tbody tr th:only-of-type {\n",
       "        vertical-align: middle;\n",
       "    }\n",
       "\n",
       "    .dataframe tbody tr th {\n",
       "        vertical-align: top;\n",
       "    }\n",
       "\n",
       "    .dataframe thead th {\n",
       "        text-align: right;\n",
       "    }\n",
       "</style>\n",
       "<table border=\"1\" class=\"dataframe\">\n",
       "  <thead>\n",
       "    <tr style=\"text-align: right;\">\n",
       "      <th>consensus</th>\n",
       "      <th>False</th>\n",
       "      <th>True</th>\n",
       "    </tr>\n",
       "    <tr>\n",
       "      <th>c_snwd</th>\n",
       "      <th></th>\n",
       "      <th></th>\n",
       "    </tr>\n",
       "  </thead>\n",
       "  <tbody>\n",
       "    <tr>\n",
       "      <th>False</th>\n",
       "      <td>-2092.682263</td>\n",
       "      <td>2092.682263</td>\n",
       "    </tr>\n",
       "    <tr>\n",
       "      <th>True</th>\n",
       "      <td>2092.682263</td>\n",
       "      <td>-2092.682263</td>\n",
       "    </tr>\n",
       "  </tbody>\n",
       "</table>\n",
       "</div>"
      ],
      "text/plain": [
       "consensus        False        True \n",
       "c_snwd                             \n",
       "False     -2092.682263  2092.682263\n",
       "True       2092.682263 -2092.682263"
      ]
     },
     "execution_count": 106,
     "metadata": {},
     "output_type": "execute_result"
    }
   ],
   "source": [
    "actl - expctd"
   ]
  },
  {
   "cell_type": "markdown",
   "metadata": {},
   "source": [
    "Missing your snow data imples the stations are more likely to consense"
   ]
  },
  {
   "cell_type": "markdown",
   "metadata": {},
   "source": [
    "# The Truth: Reference Station Vs Reference Station\n",
    "\n",
    "Get a feel for all the different precipitation measures to see if we can trust the NOAA stations as our source of truth"
   ]
  },
  {
   "cell_type": "markdown",
   "metadata": {},
   "source": [
    "How often does it snow?"
   ]
  },
  {
   "cell_type": "code",
   "execution_count": 107,
   "metadata": {},
   "outputs": [
    {
     "data": {
      "text/plain": [
       "0.2836887542164542"
      ]
     },
     "execution_count": 107,
     "metadata": {},
     "output_type": "execute_result"
    }
   ],
   "source": [
    "circle_data.consensus.sum()/ circle_data.consensus.count()"
   ]
  },
  {
   "cell_type": "markdown",
   "metadata": {},
   "source": [
    "### Location & Consensus"
   ]
  },
  {
   "cell_type": "code",
   "execution_count": 108,
   "metadata": {},
   "outputs": [
    {
     "data": {
      "text/html": [
       "<div>\n",
       "<style scoped>\n",
       "    .dataframe tbody tr th:only-of-type {\n",
       "        vertical-align: middle;\n",
       "    }\n",
       "\n",
       "    .dataframe tbody tr th {\n",
       "        vertical-align: top;\n",
       "    }\n",
       "\n",
       "    .dataframe thead th {\n",
       "        text-align: right;\n",
       "    }\n",
       "</style>\n",
       "<table border=\"1\" class=\"dataframe\">\n",
       "  <thead>\n",
       "    <tr style=\"text-align: right;\">\n",
       "      <th>snow_closest_notna</th>\n",
       "      <th>False</th>\n",
       "      <th>True</th>\n",
       "    </tr>\n",
       "    <tr>\n",
       "      <th>consensus</th>\n",
       "      <th></th>\n",
       "      <th></th>\n",
       "    </tr>\n",
       "  </thead>\n",
       "  <tbody>\n",
       "    <tr>\n",
       "      <th>False</th>\n",
       "      <td>25052</td>\n",
       "      <td>6</td>\n",
       "    </tr>\n",
       "    <tr>\n",
       "      <th>True</th>\n",
       "      <td>3</td>\n",
       "      <td>9921</td>\n",
       "    </tr>\n",
       "  </tbody>\n",
       "</table>\n",
       "</div>"
      ],
      "text/plain": [
       "snow_closest_notna  False  True \n",
       "consensus                       \n",
       "False               25052      6\n",
       "True                    3   9921"
      ]
     },
     "execution_count": 108,
     "metadata": {},
     "output_type": "execute_result"
    }
   ],
   "source": [
    "# Cross tabs of the closest station to a circle vs the consenting stations \n",
    "pd.crosstab(circle_data.consensus, circle_data.snow_closest_notna)"
   ]
  },
  {
   "cell_type": "code",
   "execution_count": 115,
   "metadata": {},
   "outputs": [
    {
     "data": {
      "text/html": [
       "<div>\n",
       "<style scoped>\n",
       "    .dataframe tbody tr th:only-of-type {\n",
       "        vertical-align: middle;\n",
       "    }\n",
       "\n",
       "    .dataframe tbody tr th {\n",
       "        vertical-align: top;\n",
       "    }\n",
       "\n",
       "    .dataframe thead th {\n",
       "        text-align: right;\n",
       "    }\n",
       "</style>\n",
       "<table border=\"1\" class=\"dataframe\">\n",
       "  <thead>\n",
       "    <tr style=\"text-align: right;\">\n",
       "      <th>snow_lowest_notna</th>\n",
       "      <th>False</th>\n",
       "      <th>True</th>\n",
       "    </tr>\n",
       "    <tr>\n",
       "      <th>consensus</th>\n",
       "      <th></th>\n",
       "      <th></th>\n",
       "    </tr>\n",
       "  </thead>\n",
       "  <tbody>\n",
       "    <tr>\n",
       "      <th>False</th>\n",
       "      <td>24951</td>\n",
       "      <td>7</td>\n",
       "    </tr>\n",
       "    <tr>\n",
       "      <th>True</th>\n",
       "      <td>2</td>\n",
       "      <td>9869</td>\n",
       "    </tr>\n",
       "  </tbody>\n",
       "</table>\n",
       "</div>"
      ],
      "text/plain": [
       "snow_lowest_notna  False  True \n",
       "consensus                      \n",
       "False              24951      7\n",
       "True                   2   9869"
      ]
     },
     "execution_count": 115,
     "metadata": {},
     "output_type": "execute_result"
    }
   ],
   "source": [
    "# Cross tabs of the closest station in elivation to a circle vs the consenting stations \n",
    "pd.crosstab(circle_data.consensus, circle_data.snow_lowest_notna)"
   ]
  },
  {
   "cell_type": "code",
   "execution_count": 116,
   "metadata": {},
   "outputs": [
    {
     "data": {
      "text/html": [
       "<div>\n",
       "<style scoped>\n",
       "    .dataframe tbody tr th:only-of-type {\n",
       "        vertical-align: middle;\n",
       "    }\n",
       "\n",
       "    .dataframe tbody tr th {\n",
       "        vertical-align: top;\n",
       "    }\n",
       "\n",
       "    .dataframe thead th {\n",
       "        text-align: right;\n",
       "    }\n",
       "</style>\n",
       "<table border=\"1\" class=\"dataframe\">\n",
       "  <thead>\n",
       "    <tr style=\"text-align: right;\">\n",
       "      <th>snow_lowest_notna</th>\n",
       "      <th>False</th>\n",
       "      <th>True</th>\n",
       "    </tr>\n",
       "    <tr>\n",
       "      <th>snow_closest_notna</th>\n",
       "      <th></th>\n",
       "      <th></th>\n",
       "    </tr>\n",
       "  </thead>\n",
       "  <tbody>\n",
       "    <tr>\n",
       "      <th>False</th>\n",
       "      <td>25161</td>\n",
       "      <td>125</td>\n",
       "    </tr>\n",
       "    <tr>\n",
       "      <th>True</th>\n",
       "      <td>138</td>\n",
       "      <td>10078</td>\n",
       "    </tr>\n",
       "  </tbody>\n",
       "</table>\n",
       "</div>"
      ],
      "text/plain": [
       "snow_lowest_notna   False  True \n",
       "snow_closest_notna              \n",
       "False               25161    125\n",
       "True                  138  10078"
      ]
     },
     "execution_count": 116,
     "metadata": {},
     "output_type": "execute_result"
    }
   ],
   "source": [
    "# Cross tabs of the closest station to a circle vs the station with the closest elivation\n",
    "pd.crosstab(circle_data.snow_closest_notna, circle_data.snow_lowest_notna)"
   ]
  },
  {
   "cell_type": "markdown",
   "metadata": {},
   "source": [
    "### Ecosystem Consensus"
   ]
  },
  {
   "cell_type": "code",
   "execution_count": 117,
   "metadata": {},
   "outputs": [
    {
     "data": {
      "text/html": [
       "<div>\n",
       "<style scoped>\n",
       "    .dataframe tbody tr th:only-of-type {\n",
       "        vertical-align: middle;\n",
       "    }\n",
       "\n",
       "    .dataframe tbody tr th {\n",
       "        vertical-align: top;\n",
       "    }\n",
       "\n",
       "    .dataframe thead th {\n",
       "        text-align: right;\n",
       "    }\n",
       "</style>\n",
       "<table border=\"1\" class=\"dataframe\">\n",
       "  <thead>\n",
       "    <tr style=\"text-align: right;\">\n",
       "      <th>n_consensus</th>\n",
       "      <th>False</th>\n",
       "      <th>True</th>\n",
       "    </tr>\n",
       "    <tr>\n",
       "      <th>consensus</th>\n",
       "      <th></th>\n",
       "      <th></th>\n",
       "    </tr>\n",
       "  </thead>\n",
       "  <tbody>\n",
       "    <tr>\n",
       "      <th>False</th>\n",
       "      <td>14973</td>\n",
       "      <td>0</td>\n",
       "    </tr>\n",
       "    <tr>\n",
       "      <th>True</th>\n",
       "      <td>0</td>\n",
       "      <td>5301</td>\n",
       "    </tr>\n",
       "  </tbody>\n",
       "</table>\n",
       "</div>"
      ],
      "text/plain": [
       "n_consensus  False  True \n",
       "consensus                \n",
       "False        14973      0\n",
       "True             0   5301"
      ]
     },
     "execution_count": 117,
     "metadata": {},
     "output_type": "execute_result"
    }
   ],
   "source": [
    "# Crosstable of stations with consensus vs stations with nlcd consensus \n",
    "pd.crosstab(circle_data.consensus, circle_data.n_consensus)"
   ]
  },
  {
   "cell_type": "code",
   "execution_count": 118,
   "metadata": {},
   "outputs": [
    {
     "data": {
      "text/html": [
       "<div>\n",
       "<style scoped>\n",
       "    .dataframe tbody tr th:only-of-type {\n",
       "        vertical-align: middle;\n",
       "    }\n",
       "\n",
       "    .dataframe tbody tr th {\n",
       "        vertical-align: top;\n",
       "    }\n",
       "\n",
       "    .dataframe thead th {\n",
       "        text-align: right;\n",
       "    }\n",
       "</style>\n",
       "<table border=\"1\" class=\"dataframe\">\n",
       "  <thead>\n",
       "    <tr style=\"text-align: right;\">\n",
       "      <th>e_consensus</th>\n",
       "      <th>False</th>\n",
       "      <th>True</th>\n",
       "    </tr>\n",
       "    <tr>\n",
       "      <th>consensus</th>\n",
       "      <th></th>\n",
       "      <th></th>\n",
       "    </tr>\n",
       "  </thead>\n",
       "  <tbody>\n",
       "    <tr>\n",
       "      <th>False</th>\n",
       "      <td>10953</td>\n",
       "      <td>1</td>\n",
       "    </tr>\n",
       "    <tr>\n",
       "      <th>True</th>\n",
       "      <td>1</td>\n",
       "      <td>3912</td>\n",
       "    </tr>\n",
       "  </tbody>\n",
       "</table>\n",
       "</div>"
      ],
      "text/plain": [
       "e_consensus  False  True \n",
       "consensus                \n",
       "False        10953      1\n",
       "True             1   3912"
      ]
     },
     "execution_count": 118,
     "metadata": {},
     "output_type": "execute_result"
    }
   ],
   "source": [
    "# Crosstabs  of stations with consensus vs stations with ecosys consensus\n",
    "pd.crosstab(circle_data.consensus, circle_data.e_consensus)"
   ]
  },
  {
   "cell_type": "code",
   "execution_count": 119,
   "metadata": {},
   "outputs": [
    {
     "data": {
      "text/html": [
       "<div>\n",
       "<style scoped>\n",
       "    .dataframe tbody tr th:only-of-type {\n",
       "        vertical-align: middle;\n",
       "    }\n",
       "\n",
       "    .dataframe tbody tr th {\n",
       "        vertical-align: top;\n",
       "    }\n",
       "\n",
       "    .dataframe thead th {\n",
       "        text-align: right;\n",
       "    }\n",
       "</style>\n",
       "<table border=\"1\" class=\"dataframe\">\n",
       "  <thead>\n",
       "    <tr style=\"text-align: right;\">\n",
       "      <th>e_consensus</th>\n",
       "      <th>False</th>\n",
       "      <th>True</th>\n",
       "    </tr>\n",
       "    <tr>\n",
       "      <th>n_consensus</th>\n",
       "      <th></th>\n",
       "      <th></th>\n",
       "    </tr>\n",
       "  </thead>\n",
       "  <tbody>\n",
       "    <tr>\n",
       "      <th>False</th>\n",
       "      <td>11004</td>\n",
       "      <td>0</td>\n",
       "    </tr>\n",
       "    <tr>\n",
       "      <th>True</th>\n",
       "      <td>0</td>\n",
       "      <td>4006</td>\n",
       "    </tr>\n",
       "  </tbody>\n",
       "</table>\n",
       "</div>"
      ],
      "text/plain": [
       "e_consensus  False  True \n",
       "n_consensus              \n",
       "False        11004      0\n",
       "True             0   4006"
      ]
     },
     "execution_count": 119,
     "metadata": {},
     "output_type": "execute_result"
    }
   ],
   "source": [
    "pd.crosstab(circle_data.n_consensus, circle_data.e_consensus)"
   ]
  },
  {
   "cell_type": "markdown",
   "metadata": {},
   "source": [
    "### We only need one:\n",
    "If we just had one station per circle, how accurate is that?"
   ]
  },
  {
   "cell_type": "code",
   "execution_count": 120,
   "metadata": {},
   "outputs": [
    {
     "data": {
      "text/html": [
       "<div>\n",
       "<style scoped>\n",
       "    .dataframe tbody tr th:only-of-type {\n",
       "        vertical-align: middle;\n",
       "    }\n",
       "\n",
       "    .dataframe tbody tr th {\n",
       "        vertical-align: top;\n",
       "    }\n",
       "\n",
       "    .dataframe thead th {\n",
       "        text-align: right;\n",
       "    }\n",
       "</style>\n",
       "<table border=\"1\" class=\"dataframe\">\n",
       "  <thead>\n",
       "    <tr style=\"text-align: right;\">\n",
       "      <th>num_true</th>\n",
       "      <th>False</th>\n",
       "      <th>True</th>\n",
       "    </tr>\n",
       "    <tr>\n",
       "      <th>snow_closest_notna</th>\n",
       "      <th></th>\n",
       "      <th></th>\n",
       "    </tr>\n",
       "  </thead>\n",
       "  <tbody>\n",
       "    <tr>\n",
       "      <th>False</th>\n",
       "      <td>25045</td>\n",
       "      <td>345</td>\n",
       "    </tr>\n",
       "    <tr>\n",
       "      <th>True</th>\n",
       "      <td>0</td>\n",
       "      <td>10270</td>\n",
       "    </tr>\n",
       "  </tbody>\n",
       "</table>\n",
       "</div>"
      ],
      "text/plain": [
       "num_true            False  True \n",
       "snow_closest_notna              \n",
       "False               25045    345\n",
       "True                    0  10270"
      ]
     },
     "execution_count": 120,
     "metadata": {},
     "output_type": "execute_result"
    }
   ],
   "source": [
    "# Cross tabes of the snowdepth reported by the closest station and if any reference station said it accumulated snow\n",
    "pd.crosstab(circle_data.snow_closest_notna, circle_data.num_true > 0)"
   ]
  },
  {
   "cell_type": "code",
   "execution_count": 121,
   "metadata": {},
   "outputs": [
    {
     "data": {
      "text/html": [
       "<div>\n",
       "<style scoped>\n",
       "    .dataframe tbody tr th:only-of-type {\n",
       "        vertical-align: middle;\n",
       "    }\n",
       "\n",
       "    .dataframe tbody tr th {\n",
       "        vertical-align: top;\n",
       "    }\n",
       "\n",
       "    .dataframe thead th {\n",
       "        text-align: right;\n",
       "    }\n",
       "</style>\n",
       "<table border=\"1\" class=\"dataframe\">\n",
       "  <thead>\n",
       "    <tr style=\"text-align: right;\">\n",
       "      <th>num_true</th>\n",
       "      <th>False</th>\n",
       "      <th>True</th>\n",
       "    </tr>\n",
       "    <tr>\n",
       "      <th>snow_lowest_notna</th>\n",
       "      <th></th>\n",
       "      <th></th>\n",
       "    </tr>\n",
       "  </thead>\n",
       "  <tbody>\n",
       "    <tr>\n",
       "      <th>False</th>\n",
       "      <td>24945</td>\n",
       "      <td>354</td>\n",
       "    </tr>\n",
       "    <tr>\n",
       "      <th>True</th>\n",
       "      <td>0</td>\n",
       "      <td>10203</td>\n",
       "    </tr>\n",
       "  </tbody>\n",
       "</table>\n",
       "</div>"
      ],
      "text/plain": [
       "num_true           False  True \n",
       "snow_lowest_notna              \n",
       "False              24945    354\n",
       "True                   0  10203"
      ]
     },
     "execution_count": 121,
     "metadata": {},
     "output_type": "execute_result"
    }
   ],
   "source": [
    "# Crosstabs of the snowdepth reported by the closest station in elivation and if any reference station said it accumulated snow\n",
    "pd.crosstab(circle_data.snow_lowest_notna, circle_data.num_true > 0)"
   ]
  },
  {
   "cell_type": "code",
   "execution_count": 122,
   "metadata": {},
   "outputs": [
    {
     "data": {
      "text/html": [
       "<div>\n",
       "<style scoped>\n",
       "    .dataframe tbody tr th:only-of-type {\n",
       "        vertical-align: middle;\n",
       "    }\n",
       "\n",
       "    .dataframe tbody tr th {\n",
       "        vertical-align: top;\n",
       "    }\n",
       "\n",
       "    .dataframe thead th {\n",
       "        text-align: right;\n",
       "    }\n",
       "</style>\n",
       "<table border=\"1\" class=\"dataframe\">\n",
       "  <thead>\n",
       "    <tr style=\"text-align: right;\">\n",
       "      <th>num_true</th>\n",
       "      <th>False</th>\n",
       "      <th>True</th>\n",
       "    </tr>\n",
       "    <tr>\n",
       "      <th>consensus</th>\n",
       "      <th></th>\n",
       "      <th></th>\n",
       "    </tr>\n",
       "  </thead>\n",
       "  <tbody>\n",
       "    <tr>\n",
       "      <th>False</th>\n",
       "      <td>25045</td>\n",
       "      <td>13</td>\n",
       "    </tr>\n",
       "    <tr>\n",
       "      <th>True</th>\n",
       "      <td>0</td>\n",
       "      <td>9924</td>\n",
       "    </tr>\n",
       "  </tbody>\n",
       "</table>\n",
       "</div>"
      ],
      "text/plain": [
       "num_true   False  True \n",
       "consensus              \n",
       "False      25045     13\n",
       "True           0   9924"
      ]
     },
     "execution_count": 122,
     "metadata": {},
     "output_type": "execute_result"
    }
   ],
   "source": [
    "# Crosstabs of the stations resporting consensus vs ANY reference station that reported accumulated snow\n",
    "pd.crosstab(circle_data.consensus, circle_data.num_true > 0)"
   ]
  },
  {
   "cell_type": "code",
   "execution_count": 123,
   "metadata": {},
   "outputs": [
    {
     "data": {
      "text/html": [
       "<div>\n",
       "<style scoped>\n",
       "    .dataframe tbody tr th:only-of-type {\n",
       "        vertical-align: middle;\n",
       "    }\n",
       "\n",
       "    .dataframe tbody tr th {\n",
       "        vertical-align: top;\n",
       "    }\n",
       "\n",
       "    .dataframe thead th {\n",
       "        text-align: right;\n",
       "    }\n",
       "</style>\n",
       "<table border=\"1\" class=\"dataframe\">\n",
       "  <thead>\n",
       "    <tr style=\"text-align: right;\">\n",
       "      <th>n_num_true</th>\n",
       "      <th>False</th>\n",
       "      <th>True</th>\n",
       "    </tr>\n",
       "    <tr>\n",
       "      <th>consensus</th>\n",
       "      <th></th>\n",
       "      <th></th>\n",
       "    </tr>\n",
       "  </thead>\n",
       "  <tbody>\n",
       "    <tr>\n",
       "      <th>False</th>\n",
       "      <td>25049</td>\n",
       "      <td>9</td>\n",
       "    </tr>\n",
       "    <tr>\n",
       "      <th>True</th>\n",
       "      <td>4619</td>\n",
       "      <td>5305</td>\n",
       "    </tr>\n",
       "  </tbody>\n",
       "</table>\n",
       "</div>"
      ],
      "text/plain": [
       "n_num_true  False  True \n",
       "consensus               \n",
       "False       25049      9\n",
       "True         4619   5305"
      ]
     },
     "execution_count": 123,
     "metadata": {},
     "output_type": "execute_result"
    }
   ],
   "source": [
    "# Crosstabs of the stations resporting consensus vs ANY NLCD MATCHING reference station that reported accumulated snow\n",
    "pd.crosstab(circle_data.consensus, circle_data.n_num_true > 0)"
   ]
  },
  {
   "cell_type": "code",
   "execution_count": 124,
   "metadata": {},
   "outputs": [
    {
     "data": {
      "text/html": [
       "<div>\n",
       "<style scoped>\n",
       "    .dataframe tbody tr th:only-of-type {\n",
       "        vertical-align: middle;\n",
       "    }\n",
       "\n",
       "    .dataframe tbody tr th {\n",
       "        vertical-align: top;\n",
       "    }\n",
       "\n",
       "    .dataframe thead th {\n",
       "        text-align: right;\n",
       "    }\n",
       "</style>\n",
       "<table border=\"1\" class=\"dataframe\">\n",
       "  <thead>\n",
       "    <tr style=\"text-align: right;\">\n",
       "      <th>e_num_true</th>\n",
       "      <th>False</th>\n",
       "      <th>True</th>\n",
       "    </tr>\n",
       "    <tr>\n",
       "      <th>consensus</th>\n",
       "      <th></th>\n",
       "      <th></th>\n",
       "    </tr>\n",
       "  </thead>\n",
       "  <tbody>\n",
       "    <tr>\n",
       "      <th>False</th>\n",
       "      <td>25051</td>\n",
       "      <td>7</td>\n",
       "    </tr>\n",
       "    <tr>\n",
       "      <th>True</th>\n",
       "      <td>6010</td>\n",
       "      <td>3914</td>\n",
       "    </tr>\n",
       "  </tbody>\n",
       "</table>\n",
       "</div>"
      ],
      "text/plain": [
       "e_num_true  False  True \n",
       "consensus               \n",
       "False       25051      7\n",
       "True         6010   3914"
      ]
     },
     "execution_count": 124,
     "metadata": {},
     "output_type": "execute_result"
    }
   ],
   "source": [
    "# Crosstabs of the stations resporting consensus vs ANY ECOSYS MATCHING reference station that reported accumulated snow\n",
    "pd.crosstab(circle_data.consensus, circle_data.e_num_true > 0)"
   ]
  },
  {
   "cell_type": "markdown",
   "metadata": {},
   "source": [
    "# Circle v Station: The Final Determination on If Volenteers are Reliable"
   ]
  },
  {
   "cell_type": "code",
   "execution_count": 125,
   "metadata": {},
   "outputs": [],
   "source": [
    "def crosstab_metrics(actl):\n",
    "    # accuracy\n",
    "    acc = actl.to_numpy().diagonal().sum() / actl.to_numpy().sum()\n",
    "    # precision\n",
    "    pr = actl.loc[1,1] / actl.to_numpy()[[1,0], [1,1]].sum()\n",
    "    # recall\n",
    "    re = actl.loc[1,1] / actl.to_numpy()[[1,1], [1,0]].sum()\n",
    "    # F1\n",
    "    f1 = 2 * pr * re / (pr + re)\n",
    "    \n",
    "    print(f\"accuracy:  {acc*100:.2f}%\")\n",
    "    print(f\"precision: {pr*100:.2f}%\")\n",
    "    print(f\"recall:    {re*100:.2f}%\")\n",
    "    print(f\"F1:        {f1*100:.2f}%\")\n",
    "    \n",
    "#     return (acc, pr, re, f1)"
   ]
  },
  {
   "cell_type": "markdown",
   "metadata": {},
   "source": [
    "### Based on the stations' consensus"
   ]
  },
  {
   "cell_type": "code",
   "execution_count": 126,
   "metadata": {},
   "outputs": [
    {
     "data": {
      "text/html": [
       "<div>\n",
       "<style scoped>\n",
       "    .dataframe tbody tr th:only-of-type {\n",
       "        vertical-align: middle;\n",
       "    }\n",
       "\n",
       "    .dataframe tbody tr th {\n",
       "        vertical-align: top;\n",
       "    }\n",
       "\n",
       "    .dataframe thead th {\n",
       "        text-align: right;\n",
       "    }\n",
       "</style>\n",
       "<table border=\"1\" class=\"dataframe\">\n",
       "  <thead>\n",
       "    <tr style=\"text-align: right;\">\n",
       "      <th>c_snwd</th>\n",
       "      <th>False</th>\n",
       "      <th>True</th>\n",
       "    </tr>\n",
       "    <tr>\n",
       "      <th>consensus</th>\n",
       "      <th></th>\n",
       "      <th></th>\n",
       "    </tr>\n",
       "  </thead>\n",
       "  <tbody>\n",
       "    <tr>\n",
       "      <th>False</th>\n",
       "      <td>15223</td>\n",
       "      <td>2913</td>\n",
       "    </tr>\n",
       "    <tr>\n",
       "      <th>True</th>\n",
       "      <td>493</td>\n",
       "      <td>7112</td>\n",
       "    </tr>\n",
       "  </tbody>\n",
       "</table>\n",
       "</div>"
      ],
      "text/plain": [
       "c_snwd     False  True \n",
       "consensus              \n",
       "False      15223   2913\n",
       "True         493   7112"
      ]
     },
     "execution_count": 126,
     "metadata": {},
     "output_type": "execute_result"
    }
   ],
   "source": [
    "actl = pd.crosstab(circle_data.consensus, circle_data.c_snwd)\n",
    "actl"
   ]
  },
  {
   "cell_type": "code",
   "execution_count": 127,
   "metadata": {},
   "outputs": [
    {
     "name": "stdout",
     "output_type": "stream",
     "text": [
      "accuracy:  86.77%\n",
      "precision: 70.94%\n",
      "recall:    93.52%\n",
      "F1:        80.68%\n"
     ]
    }
   ],
   "source": [
    "crosstab_metrics(actl)"
   ]
  },
  {
   "cell_type": "markdown",
   "metadata": {},
   "source": [
    "### Based on the closest station"
   ]
  },
  {
   "cell_type": "code",
   "execution_count": 128,
   "metadata": {},
   "outputs": [
    {
     "data": {
      "text/html": [
       "<div>\n",
       "<style scoped>\n",
       "    .dataframe tbody tr th:only-of-type {\n",
       "        vertical-align: middle;\n",
       "    }\n",
       "\n",
       "    .dataframe tbody tr th {\n",
       "        vertical-align: top;\n",
       "    }\n",
       "\n",
       "    .dataframe thead th {\n",
       "        text-align: right;\n",
       "    }\n",
       "</style>\n",
       "<table border=\"1\" class=\"dataframe\">\n",
       "  <thead>\n",
       "    <tr style=\"text-align: right;\">\n",
       "      <th>c_snwd</th>\n",
       "      <th>False</th>\n",
       "      <th>True</th>\n",
       "    </tr>\n",
       "    <tr>\n",
       "      <th>snow_closest_notna</th>\n",
       "      <th></th>\n",
       "      <th></th>\n",
       "    </tr>\n",
       "  </thead>\n",
       "  <tbody>\n",
       "    <tr>\n",
       "      <th>False</th>\n",
       "      <td>15277</td>\n",
       "      <td>3126</td>\n",
       "    </tr>\n",
       "    <tr>\n",
       "      <th>True</th>\n",
       "      <td>557</td>\n",
       "      <td>7321</td>\n",
       "    </tr>\n",
       "  </tbody>\n",
       "</table>\n",
       "</div>"
      ],
      "text/plain": [
       "c_snwd              False  True \n",
       "snow_closest_notna              \n",
       "False               15277   3126\n",
       "True                  557   7321"
      ]
     },
     "execution_count": 128,
     "metadata": {},
     "output_type": "execute_result"
    }
   ],
   "source": [
    "actl = pd.crosstab(circle_data.snow_closest_notna, circle_data.c_snwd)\n",
    "actl"
   ]
  },
  {
   "cell_type": "code",
   "execution_count": 129,
   "metadata": {},
   "outputs": [
    {
     "name": "stdout",
     "output_type": "stream",
     "text": [
      "accuracy:  85.99%\n",
      "precision: 70.08%\n",
      "recall:    92.93%\n",
      "F1:        79.90%\n"
     ]
    }
   ],
   "source": [
    "crosstab_metrics(actl)"
   ]
  },
  {
   "cell_type": "markdown",
   "metadata": {},
   "source": [
    "### Based on the closest station in elivation"
   ]
  },
  {
   "cell_type": "code",
   "execution_count": 130,
   "metadata": {},
   "outputs": [
    {
     "data": {
      "text/html": [
       "<div>\n",
       "<style scoped>\n",
       "    .dataframe tbody tr th:only-of-type {\n",
       "        vertical-align: middle;\n",
       "    }\n",
       "\n",
       "    .dataframe tbody tr th {\n",
       "        vertical-align: top;\n",
       "    }\n",
       "\n",
       "    .dataframe thead th {\n",
       "        text-align: right;\n",
       "    }\n",
       "</style>\n",
       "<table border=\"1\" class=\"dataframe\">\n",
       "  <thead>\n",
       "    <tr style=\"text-align: right;\">\n",
       "      <th>c_snwd</th>\n",
       "      <th>False</th>\n",
       "      <th>True</th>\n",
       "    </tr>\n",
       "    <tr>\n",
       "      <th>snow_lowest_notna</th>\n",
       "      <th></th>\n",
       "      <th></th>\n",
       "    </tr>\n",
       "  </thead>\n",
       "  <tbody>\n",
       "    <tr>\n",
       "      <th>False</th>\n",
       "      <td>15244</td>\n",
       "      <td>3065</td>\n",
       "    </tr>\n",
       "    <tr>\n",
       "      <th>True</th>\n",
       "      <td>543</td>\n",
       "      <td>7293</td>\n",
       "    </tr>\n",
       "  </tbody>\n",
       "</table>\n",
       "</div>"
      ],
      "text/plain": [
       "c_snwd             False  True \n",
       "snow_lowest_notna              \n",
       "False              15244   3065\n",
       "True                 543   7293"
      ]
     },
     "execution_count": 130,
     "metadata": {},
     "output_type": "execute_result"
    }
   ],
   "source": [
    "actl = pd.crosstab(circle_data.snow_lowest_notna, circle_data.c_snwd)\n",
    "actl"
   ]
  },
  {
   "cell_type": "code",
   "execution_count": 131,
   "metadata": {},
   "outputs": [
    {
     "name": "stdout",
     "output_type": "stream",
     "text": [
      "accuracy:  86.20%\n",
      "precision: 70.41%\n",
      "recall:    93.07%\n",
      "F1:        80.17%\n"
     ]
    }
   ],
   "source": [
    "crosstab_metrics(actl)"
   ]
  },
  {
   "cell_type": "markdown",
   "metadata": {},
   "source": [
    "### Based on the nlcd consensus"
   ]
  },
  {
   "cell_type": "code",
   "execution_count": 132,
   "metadata": {},
   "outputs": [
    {
     "data": {
      "text/html": [
       "<div>\n",
       "<style scoped>\n",
       "    .dataframe tbody tr th:only-of-type {\n",
       "        vertical-align: middle;\n",
       "    }\n",
       "\n",
       "    .dataframe tbody tr th {\n",
       "        vertical-align: top;\n",
       "    }\n",
       "\n",
       "    .dataframe thead th {\n",
       "        text-align: right;\n",
       "    }\n",
       "</style>\n",
       "<table border=\"1\" class=\"dataframe\">\n",
       "  <thead>\n",
       "    <tr style=\"text-align: right;\">\n",
       "      <th>c_snwd</th>\n",
       "      <th>False</th>\n",
       "      <th>True</th>\n",
       "    </tr>\n",
       "    <tr>\n",
       "      <th>n_consensus</th>\n",
       "      <th></th>\n",
       "      <th></th>\n",
       "    </tr>\n",
       "  </thead>\n",
       "  <tbody>\n",
       "    <tr>\n",
       "      <th>False</th>\n",
       "      <td>9669</td>\n",
       "      <td>1578</td>\n",
       "    </tr>\n",
       "    <tr>\n",
       "      <th>True</th>\n",
       "      <td>324</td>\n",
       "      <td>3890</td>\n",
       "    </tr>\n",
       "  </tbody>\n",
       "</table>\n",
       "</div>"
      ],
      "text/plain": [
       "c_snwd       False  True \n",
       "n_consensus              \n",
       "False         9669   1578\n",
       "True           324   3890"
      ]
     },
     "execution_count": 132,
     "metadata": {},
     "output_type": "execute_result"
    }
   ],
   "source": [
    "actl = pd.crosstab(circle_data.n_consensus, circle_data.c_snwd)\n",
    "actl"
   ]
  },
  {
   "cell_type": "code",
   "execution_count": 133,
   "metadata": {},
   "outputs": [
    {
     "name": "stdout",
     "output_type": "stream",
     "text": [
      "accuracy:  87.70%\n",
      "precision: 71.14%\n",
      "recall:    92.31%\n",
      "F1:        80.36%\n"
     ]
    }
   ],
   "source": [
    "crosstab_metrics(actl)"
   ]
  },
  {
   "cell_type": "markdown",
   "metadata": {},
   "source": [
    "### Based on the ecosys consensus"
   ]
  },
  {
   "cell_type": "code",
   "execution_count": 134,
   "metadata": {},
   "outputs": [
    {
     "data": {
      "text/html": [
       "<div>\n",
       "<style scoped>\n",
       "    .dataframe tbody tr th:only-of-type {\n",
       "        vertical-align: middle;\n",
       "    }\n",
       "\n",
       "    .dataframe tbody tr th {\n",
       "        vertical-align: top;\n",
       "    }\n",
       "\n",
       "    .dataframe thead th {\n",
       "        text-align: right;\n",
       "    }\n",
       "</style>\n",
       "<table border=\"1\" class=\"dataframe\">\n",
       "  <thead>\n",
       "    <tr style=\"text-align: right;\">\n",
       "      <th>c_snwd</th>\n",
       "      <th>False</th>\n",
       "      <th>True</th>\n",
       "    </tr>\n",
       "    <tr>\n",
       "      <th>e_consensus</th>\n",
       "      <th></th>\n",
       "      <th></th>\n",
       "    </tr>\n",
       "  </thead>\n",
       "  <tbody>\n",
       "    <tr>\n",
       "      <th>False</th>\n",
       "      <td>7113</td>\n",
       "      <td>1230</td>\n",
       "    </tr>\n",
       "    <tr>\n",
       "      <th>True</th>\n",
       "      <td>240</td>\n",
       "      <td>2925</td>\n",
       "    </tr>\n",
       "  </tbody>\n",
       "</table>\n",
       "</div>"
      ],
      "text/plain": [
       "c_snwd       False  True \n",
       "e_consensus              \n",
       "False         7113   1230\n",
       "True           240   2925"
      ]
     },
     "execution_count": 134,
     "metadata": {},
     "output_type": "execute_result"
    }
   ],
   "source": [
    "actl = pd.crosstab(circle_data.e_consensus, circle_data.c_snwd)\n",
    "actl"
   ]
  },
  {
   "cell_type": "code",
   "execution_count": 135,
   "metadata": {},
   "outputs": [
    {
     "name": "stdout",
     "output_type": "stream",
     "text": [
      "accuracy:  87.23%\n",
      "precision: 70.40%\n",
      "recall:    92.42%\n",
      "F1:        79.92%\n"
     ]
    }
   ],
   "source": [
    "crosstab_metrics(actl)"
   ]
  },
  {
   "cell_type": "markdown",
   "metadata": {},
   "source": [
    "### Did at least one station aggree?"
   ]
  },
  {
   "cell_type": "code",
   "execution_count": 136,
   "metadata": {},
   "outputs": [
    {
     "data": {
      "text/html": [
       "<div>\n",
       "<style scoped>\n",
       "    .dataframe tbody tr th:only-of-type {\n",
       "        vertical-align: middle;\n",
       "    }\n",
       "\n",
       "    .dataframe tbody tr th {\n",
       "        vertical-align: top;\n",
       "    }\n",
       "\n",
       "    .dataframe thead th {\n",
       "        text-align: right;\n",
       "    }\n",
       "</style>\n",
       "<table border=\"1\" class=\"dataframe\">\n",
       "  <thead>\n",
       "    <tr style=\"text-align: right;\">\n",
       "      <th>c_snwd</th>\n",
       "      <th>False</th>\n",
       "      <th>True</th>\n",
       "    </tr>\n",
       "    <tr>\n",
       "      <th>num_true</th>\n",
       "      <th></th>\n",
       "      <th></th>\n",
       "    </tr>\n",
       "  </thead>\n",
       "  <tbody>\n",
       "    <tr>\n",
       "      <th>False</th>\n",
       "      <td>32257</td>\n",
       "      <td>14001</td>\n",
       "    </tr>\n",
       "    <tr>\n",
       "      <th>True</th>\n",
       "      <td>615</td>\n",
       "      <td>7542</td>\n",
       "    </tr>\n",
       "  </tbody>\n",
       "</table>\n",
       "</div>"
      ],
      "text/plain": [
       "c_snwd    False  True \n",
       "num_true              \n",
       "False     32257  14001\n",
       "True        615   7542"
      ]
     },
     "execution_count": 136,
     "metadata": {},
     "output_type": "execute_result"
    }
   ],
   "source": [
    "actl = pd.crosstab(circle_data.num_true >= 1, circle_data.c_snwd)\n",
    "actl"
   ]
  },
  {
   "cell_type": "code",
   "execution_count": 137,
   "metadata": {},
   "outputs": [
    {
     "name": "stdout",
     "output_type": "stream",
     "text": [
      "accuracy:  73.14%\n",
      "precision: 35.01%\n",
      "recall:    92.46%\n",
      "F1:        50.79%\n"
     ]
    }
   ],
   "source": [
    "crosstab_metrics(actl)"
   ]
  },
  {
   "cell_type": "code",
   "execution_count": null,
   "metadata": {},
   "outputs": [],
   "source": []
  },
  {
   "cell_type": "code",
   "execution_count": null,
   "metadata": {},
   "outputs": [],
   "source": []
  }
 ],
 "metadata": {
  "kernelspec": {
   "display_name": "Python 3",
   "language": "python",
   "name": "python3"
  },
  "language_info": {
   "codemirror_mode": {
    "name": "ipython",
    "version": 3
   },
   "file_extension": ".py",
   "mimetype": "text/x-python",
   "name": "python",
   "nbconvert_exporter": "python",
   "pygments_lexer": "ipython3",
   "version": "3.7.1"
  }
 },
 "nbformat": 4,
 "nbformat_minor": 4
}
