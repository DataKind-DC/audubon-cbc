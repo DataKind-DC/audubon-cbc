{
 "cells": [
  {
   "cell_type": "markdown",
   "metadata": {},
   "source": [
    "# Fetch Circle Elevations\n",
    "### Purpose\n",
    "In this notebook I query the USGS to get elevation data for all of the circles.\n",
    "This notebook addresses some one of the tasks in Github issue #35\n",
    "\n",
    "### Author: \n",
    "Ian Davis\n",
    "### Date: \n",
    "2020-03-31\n",
    "### Update Date: \n",
    "2020-07-09\n",
    "\n",
    "### Inputs \n",
    "1.1-circles_to_many_stations_usa_weather_data_20200424213015.txt - Tab separated file of the Christmas Bird Count and matches to 1 or more NOAA weather stations.\n",
    "- Data Dictonary can be found here: http://www.audubon.org/sites/default/files/documents/cbc_report_field_definitions_2013.pdf\n",
    "\n",
    "1.0-rec-initial-data-cleaning.txt - Tab seperated file of cleaned cbc data where each row is a circle count infomation for a given count year. \n",
    "\n",
    "1.2.1-ijd-fetch-circle-elevations-OFFLINE.csv - Previously generated elevation data. This file will be used when you want to get the elevation data from an offline source and aoivd 100,000+ queries.\n",
    "\n",
    "### Output Files\n",
    "1.2-ijd-fetch-circle-elevations_20200502155633.csv - Only 1 column is added to the dataset, 'circle_elev'. This column is the elevation in meters for a given latitude and longitude of the circle centroid.\n",
    "\n",
    "## Steps or Proceedures in the notebook \n",
    "- Set runtime options\n",
    "    - Set option to retrieve elevations from offline source, or through the USGS queries\n",
    "    - Set option to only test the USGS query (NOTE: running the query function for the whole dataset will take 24+ hours)\n",
    "- Create a function to make a remote request to the USGS API\n",
    "- Create a function to supply inputs to the remote request and return the elevation value\n",
    "- Main sequence\n",
    "    - Read in dataset\n",
    "    - Create a list of unique lat lon combinations \n",
    "    - Loop through the unique lat lons to get elevation data from usgs\n",
    "    - (Optional) Retrieve elevations from offline data source instead of queries\n",
    "    - Merge in the unique lat lon data with the full paired data file\n",
    "    - Write new dataset .txt file\n",
    "\n",
    "## References\n",
    "- elevation query: https://stackoverflow.com/questions/58350063/obtain-elevation-from-latitude-longitude-coordinates-with-a-simple-python-script\n",
    "- lamda functions: https://thispointer.com/python-how-to-use-if-else-elif-in-lambda-functions/\n",
    "- apply on Nulls: https://stackoverflow.com/questions/26614465/python-pandas-apply-function-if-a-column-value-is-not-null"
   ]
  },
  {
   "cell_type": "code",
   "execution_count": 422,
   "metadata": {},
   "outputs": [],
   "source": [
    "# Imports \n",
    "import pandas as pd\n",
    "import numpy as np\n",
    "import requests\n",
    "import urllib\n",
    "import urllib3\n",
    "import time\n",
    "import gzip\n",
    "import logging\n",
    "import sys\n",
    "from datetime import datetime"
   ]
  },
  {
   "cell_type": "code",
   "execution_count": 423,
   "metadata": {},
   "outputs": [
    {
     "data": {
      "text/plain": [
       "True"
      ]
     },
     "execution_count": 423,
     "metadata": {},
     "output_type": "execute_result"
    }
   ],
   "source": [
    "# Check to see if you are running 32-bit Python (output would be False)\n",
    "# 32-bit Python could result in Memory Error when reading in large dataset\n",
    "import sys\n",
    "sys.maxsize > 2**32"
   ]
  },
  {
   "cell_type": "markdown",
   "metadata": {},
   "source": [
    "## Set File Paths and Runtime Options"
   ]
  },
  {
   "cell_type": "code",
   "execution_count": 424,
   "metadata": {},
   "outputs": [],
   "source": [
    "# Used to classify the name \n",
    "time_now = datetime.today().strftime('%Y%m%d%H%M%S')\n",
    "\n",
    "# File paths and script options\n",
    "PATH_TO_PAIRED_DATA = \"../data/Cloud_Data/1.1-circles_to_many_stations_usa_weather_data_20200710111406.txt\"\n",
    "PATH_TO_CLEAN_CBC_DATA = \"../data/Cloud_Data/1.0-rec-initial-data-cleaning.txt\"\n",
    "PATH_TO_OFFLINE_ELEVATION_DATA = \"../data/Cloud_Data/1.2.1-ijd-fetch-circle-elevations-OFFLINE.csv\"\n",
    "PATH_TO_OFFLINE_STATION_ELEVATION_DATA = \"../data/Cloud_Data/1.2.1-ijd-fetch-circle-elevations-STATION-DATA-OFFLINE.csv\"\n",
    "PATH_TO_LOG_FILE = \"../data/Cloud_Data/1.2-ijd-fetch_circle_elevations_\"+time_now+\".log\"\n",
    "\n",
    "# option to pull offline elevation data from the /attic instead of running the queries\n",
    "get_offline_data = True\n",
    "get_offline_data_station = True\n",
    "\n",
    "# option to run a simple test of the query; only 1000 rows are queried instead of full dataset\n",
    "test_query = False\n",
    "\n"
   ]
  },
  {
   "cell_type": "markdown",
   "metadata": {},
   "source": [
    "## Load in the Clean Data to Create a List of Unique Locations "
   ]
  },
  {
   "cell_type": "code",
   "execution_count": 425,
   "metadata": {},
   "outputs": [
    {
     "name": "stdout",
     "output_type": "stream",
     "text": [
      "(90411, 48)\n"
     ]
    },
    {
     "name": "stderr",
     "output_type": "stream",
     "text": [
      "/Users/rcdebaca/.pyenv/versions/funhacks371/lib/python3.7/site-packages/IPython/core/interactiveshell.py:3063: DtypeWarning: Columns (29,30) have mixed types.Specify dtype option on import or set low_memory=False.\n",
      "  interactivity=interactivity, compiler=compiler, result=result)\n"
     ]
    },
    {
     "data": {
      "text/html": [
       "<div>\n",
       "<style scoped>\n",
       "    .dataframe tbody tr th:only-of-type {\n",
       "        vertical-align: middle;\n",
       "    }\n",
       "\n",
       "    .dataframe tbody tr th {\n",
       "        vertical-align: top;\n",
       "    }\n",
       "\n",
       "    .dataframe thead th {\n",
       "        text-align: right;\n",
       "    }\n",
       "</style>\n",
       "<table border=\"1\" class=\"dataframe\">\n",
       "  <thead>\n",
       "    <tr style=\"text-align: right;\">\n",
       "      <th></th>\n",
       "      <th>circle_name</th>\n",
       "      <th>country_state</th>\n",
       "      <th>lat</th>\n",
       "      <th>lon</th>\n",
       "      <th>count_year</th>\n",
       "      <th>count_date</th>\n",
       "      <th>n_field_counters</th>\n",
       "      <th>n_feeder_counters</th>\n",
       "      <th>min_field_parties</th>\n",
       "      <th>max_field_parties</th>\n",
       "      <th>...</th>\n",
       "      <th>max_snow_imperial</th>\n",
       "      <th>min_temp_imperial</th>\n",
       "      <th>max_temp_imperial</th>\n",
       "      <th>min_temp_metric</th>\n",
       "      <th>max_temp_metric</th>\n",
       "      <th>min_wind_metric</th>\n",
       "      <th>max_wind_metric</th>\n",
       "      <th>min_wind_imperial</th>\n",
       "      <th>max_wind_imperial</th>\n",
       "      <th>ui</th>\n",
       "    </tr>\n",
       "  </thead>\n",
       "  <tbody>\n",
       "    <tr>\n",
       "      <th>0</th>\n",
       "      <td>Pacific Grove</td>\n",
       "      <td>US-CA</td>\n",
       "      <td>36.616700</td>\n",
       "      <td>-121.916700</td>\n",
       "      <td>1901</td>\n",
       "      <td>1900-12-25</td>\n",
       "      <td>1.0</td>\n",
       "      <td>NaN</td>\n",
       "      <td>NaN</td>\n",
       "      <td>NaN</td>\n",
       "      <td>...</td>\n",
       "      <td>NaN</td>\n",
       "      <td>NaN</td>\n",
       "      <td>NaN</td>\n",
       "      <td>NaN</td>\n",
       "      <td>NaN</td>\n",
       "      <td>NaN</td>\n",
       "      <td>NaN</td>\n",
       "      <td>NaN</td>\n",
       "      <td>NaN</td>\n",
       "      <td>36.6167-121.9167_1901</td>\n",
       "    </tr>\n",
       "    <tr>\n",
       "      <th>1</th>\n",
       "      <td>Pueblo</td>\n",
       "      <td>US-CO</td>\n",
       "      <td>38.175251</td>\n",
       "      <td>-104.519575</td>\n",
       "      <td>1901</td>\n",
       "      <td>1900-12-25</td>\n",
       "      <td>1.0</td>\n",
       "      <td>NaN</td>\n",
       "      <td>NaN</td>\n",
       "      <td>NaN</td>\n",
       "      <td>...</td>\n",
       "      <td>NaN</td>\n",
       "      <td>NaN</td>\n",
       "      <td>NaN</td>\n",
       "      <td>NaN</td>\n",
       "      <td>NaN</td>\n",
       "      <td>NaN</td>\n",
       "      <td>NaN</td>\n",
       "      <td>NaN</td>\n",
       "      <td>NaN</td>\n",
       "      <td>38.175251-104.519575_1901</td>\n",
       "    </tr>\n",
       "    <tr>\n",
       "      <th>2</th>\n",
       "      <td>Bristol</td>\n",
       "      <td>US-CT</td>\n",
       "      <td>41.671800</td>\n",
       "      <td>-72.949500</td>\n",
       "      <td>1901</td>\n",
       "      <td>1900-12-25</td>\n",
       "      <td>2.0</td>\n",
       "      <td>NaN</td>\n",
       "      <td>NaN</td>\n",
       "      <td>NaN</td>\n",
       "      <td>...</td>\n",
       "      <td>NaN</td>\n",
       "      <td>NaN</td>\n",
       "      <td>NaN</td>\n",
       "      <td>NaN</td>\n",
       "      <td>NaN</td>\n",
       "      <td>NaN</td>\n",
       "      <td>NaN</td>\n",
       "      <td>NaN</td>\n",
       "      <td>NaN</td>\n",
       "      <td>41.6718-72.9495_1901</td>\n",
       "    </tr>\n",
       "    <tr>\n",
       "      <th>3</th>\n",
       "      <td>Norwalk</td>\n",
       "      <td>US-CT</td>\n",
       "      <td>41.116700</td>\n",
       "      <td>-73.400000</td>\n",
       "      <td>1901</td>\n",
       "      <td>1900-12-25</td>\n",
       "      <td>1.0</td>\n",
       "      <td>NaN</td>\n",
       "      <td>NaN</td>\n",
       "      <td>NaN</td>\n",
       "      <td>...</td>\n",
       "      <td>NaN</td>\n",
       "      <td>NaN</td>\n",
       "      <td>NaN</td>\n",
       "      <td>NaN</td>\n",
       "      <td>NaN</td>\n",
       "      <td>NaN</td>\n",
       "      <td>NaN</td>\n",
       "      <td>NaN</td>\n",
       "      <td>NaN</td>\n",
       "      <td>41.1167-73.4_1901</td>\n",
       "    </tr>\n",
       "    <tr>\n",
       "      <th>4</th>\n",
       "      <td>Glen Ellyn</td>\n",
       "      <td>US-IL</td>\n",
       "      <td>41.883300</td>\n",
       "      <td>-88.066700</td>\n",
       "      <td>1901</td>\n",
       "      <td>1900-12-25</td>\n",
       "      <td>1.0</td>\n",
       "      <td>NaN</td>\n",
       "      <td>NaN</td>\n",
       "      <td>NaN</td>\n",
       "      <td>...</td>\n",
       "      <td>NaN</td>\n",
       "      <td>NaN</td>\n",
       "      <td>NaN</td>\n",
       "      <td>NaN</td>\n",
       "      <td>NaN</td>\n",
       "      <td>NaN</td>\n",
       "      <td>NaN</td>\n",
       "      <td>NaN</td>\n",
       "      <td>NaN</td>\n",
       "      <td>41.8833-88.0667_1901</td>\n",
       "    </tr>\n",
       "  </tbody>\n",
       "</table>\n",
       "<p>5 rows × 48 columns</p>\n",
       "</div>"
      ],
      "text/plain": [
       "     circle_name country_state        lat         lon  count_year  count_date  \\\n",
       "0  Pacific Grove         US-CA  36.616700 -121.916700        1901  1900-12-25   \n",
       "1         Pueblo         US-CO  38.175251 -104.519575        1901  1900-12-25   \n",
       "2        Bristol         US-CT  41.671800  -72.949500        1901  1900-12-25   \n",
       "3        Norwalk         US-CT  41.116700  -73.400000        1901  1900-12-25   \n",
       "4     Glen Ellyn         US-IL  41.883300  -88.066700        1901  1900-12-25   \n",
       "\n",
       "   n_field_counters  n_feeder_counters  min_field_parties  max_field_parties  \\\n",
       "0               1.0                NaN                NaN                NaN   \n",
       "1               1.0                NaN                NaN                NaN   \n",
       "2               2.0                NaN                NaN                NaN   \n",
       "3               1.0                NaN                NaN                NaN   \n",
       "4               1.0                NaN                NaN                NaN   \n",
       "\n",
       "   ...  max_snow_imperial  min_temp_imperial  max_temp_imperial  \\\n",
       "0  ...                NaN                NaN                NaN   \n",
       "1  ...                NaN                NaN                NaN   \n",
       "2  ...                NaN                NaN                NaN   \n",
       "3  ...                NaN                NaN                NaN   \n",
       "4  ...                NaN                NaN                NaN   \n",
       "\n",
       "   min_temp_metric  max_temp_metric min_wind_metric  max_wind_metric  \\\n",
       "0              NaN              NaN             NaN              NaN   \n",
       "1              NaN              NaN             NaN              NaN   \n",
       "2              NaN              NaN             NaN              NaN   \n",
       "3              NaN              NaN             NaN              NaN   \n",
       "4              NaN              NaN             NaN              NaN   \n",
       "\n",
       "   min_wind_imperial  max_wind_imperial                         ui  \n",
       "0                NaN                NaN      36.6167-121.9167_1901  \n",
       "1                NaN                NaN  38.175251-104.519575_1901  \n",
       "2                NaN                NaN       41.6718-72.9495_1901  \n",
       "3                NaN                NaN          41.1167-73.4_1901  \n",
       "4                NaN                NaN       41.8833-88.0667_1901  \n",
       "\n",
       "[5 rows x 48 columns]"
      ]
     },
     "execution_count": 425,
     "metadata": {},
     "output_type": "execute_result"
    }
   ],
   "source": [
    "clean_data = pd.read_csv(PATH_TO_CLEAN_CBC_DATA, encoding = \"ISO-8859-1\", sep=\"\\t\")\n",
    "\n",
    "print(clean_data.shape)\n",
    "\n",
    "clean_data['ui'].nunique()\n",
    "\n",
    "clean_data.head()"
   ]
  },
  {
   "cell_type": "code",
   "execution_count": 426,
   "metadata": {},
   "outputs": [
    {
     "name": "stdout",
     "output_type": "stream",
     "text": [
      "The number of unique Lat Lon combos in the dataset is: \n"
     ]
    },
    {
     "data": {
      "text/plain": [
       "4584"
      ]
     },
     "execution_count": 426,
     "metadata": {},
     "output_type": "execute_result"
    }
   ],
   "source": [
    "# Create a Temportary String to Merge on\n",
    "clean_data['temp_key_str'] = round(clean_data['lat'],3).astype(str) + round(clean_data['lon'],3).astype(str)\n",
    "    \n",
    "print(\"The number of unique Lat Lon combos in the dataset is: \")   \n",
    "clean_data['temp_key_str'].nunique()"
   ]
  },
  {
   "cell_type": "code",
   "execution_count": 427,
   "metadata": {},
   "outputs": [
    {
     "data": {
      "text/plain": [
       "(90411, 3)"
      ]
     },
     "execution_count": 427,
     "metadata": {},
     "output_type": "execute_result"
    }
   ],
   "source": [
    "clean_data_unique = clean_data[[\"lat\", \"lon\", \"temp_key_str\"]]\n",
    "clean_data_unique.shape"
   ]
  },
  {
   "cell_type": "code",
   "execution_count": 428,
   "metadata": {},
   "outputs": [
    {
     "data": {
      "text/plain": [
       "(4584, 3)"
      ]
     },
     "execution_count": 428,
     "metadata": {},
     "output_type": "execute_result"
    }
   ],
   "source": [
    "clean_data_unique = clean_data_unique.drop_duplicates(\"temp_key_str\")\n",
    "clean_data_unique.shape"
   ]
  },
  {
   "cell_type": "code",
   "execution_count": 429,
   "metadata": {},
   "outputs": [
    {
     "data": {
      "text/html": [
       "<div>\n",
       "<style scoped>\n",
       "    .dataframe tbody tr th:only-of-type {\n",
       "        vertical-align: middle;\n",
       "    }\n",
       "\n",
       "    .dataframe tbody tr th {\n",
       "        vertical-align: top;\n",
       "    }\n",
       "\n",
       "    .dataframe thead th {\n",
       "        text-align: right;\n",
       "    }\n",
       "</style>\n",
       "<table border=\"1\" class=\"dataframe\">\n",
       "  <thead>\n",
       "    <tr style=\"text-align: right;\">\n",
       "      <th></th>\n",
       "      <th>lat</th>\n",
       "      <th>lon</th>\n",
       "      <th>temp_key_str</th>\n",
       "    </tr>\n",
       "  </thead>\n",
       "  <tbody>\n",
       "    <tr>\n",
       "      <th>0</th>\n",
       "      <td>36.616700</td>\n",
       "      <td>-121.916700</td>\n",
       "      <td>36.617-121.917</td>\n",
       "    </tr>\n",
       "    <tr>\n",
       "      <th>1</th>\n",
       "      <td>38.175251</td>\n",
       "      <td>-104.519575</td>\n",
       "      <td>38.175-104.52</td>\n",
       "    </tr>\n",
       "    <tr>\n",
       "      <th>2</th>\n",
       "      <td>41.671800</td>\n",
       "      <td>-72.949500</td>\n",
       "      <td>41.672-72.95</td>\n",
       "    </tr>\n",
       "    <tr>\n",
       "      <th>3</th>\n",
       "      <td>41.116700</td>\n",
       "      <td>-73.400000</td>\n",
       "      <td>41.117-73.4</td>\n",
       "    </tr>\n",
       "    <tr>\n",
       "      <th>4</th>\n",
       "      <td>41.883300</td>\n",
       "      <td>-88.066700</td>\n",
       "      <td>41.883-88.067</td>\n",
       "    </tr>\n",
       "  </tbody>\n",
       "</table>\n",
       "</div>"
      ],
      "text/plain": [
       "         lat         lon    temp_key_str\n",
       "0  36.616700 -121.916700  36.617-121.917\n",
       "1  38.175251 -104.519575   38.175-104.52\n",
       "2  41.671800  -72.949500    41.672-72.95\n",
       "3  41.116700  -73.400000     41.117-73.4\n",
       "4  41.883300  -88.066700   41.883-88.067"
      ]
     },
     "execution_count": 429,
     "metadata": {},
     "output_type": "execute_result"
    }
   ],
   "source": [
    "clean_data_unique.head()"
   ]
  },
  {
   "cell_type": "code",
   "execution_count": 430,
   "metadata": {},
   "outputs": [],
   "source": [
    "# Save the Data if nessasary \n",
    "# clean_data_unique.to_csv('../data/Cloud_data/1.2-ijd-fetch-circle-elevations_usgs.csv', index=False)"
   ]
  },
  {
   "cell_type": "markdown",
   "metadata": {},
   "source": [
    "## Create a Log File"
   ]
  },
  {
   "cell_type": "code",
   "execution_count": 431,
   "metadata": {},
   "outputs": [],
   "source": [
    "# if not get_offline_data:\n",
    "#     logging.basicConfig(filename=PATH_TO_LOG_FILE, \n",
    "#                         filemode='w', \n",
    "#                         format='%(message)s', \n",
    "#                         level=logging.INFO)\n",
    "#     logging.info('This log file shows the row index, lat, lon\\n')"
   ]
  },
  {
   "cell_type": "markdown",
   "metadata": {},
   "source": [
    "## Create a function to make a remote request to the USGS API"
   ]
  },
  {
   "cell_type": "code",
   "execution_count": 432,
   "metadata": {},
   "outputs": [],
   "source": [
    "def make_remote_request(url: str, params: dict):\n",
    "    \"\"\"\n",
    "    Makes the remote request\n",
    "    Continues making attempts until it succeeds\n",
    "    \"\"\"\n",
    "\n",
    "    count = 1\n",
    "    while True:\n",
    "        try:\n",
    "            response = requests.get((url + urllib.parse.urlencode(params)))\n",
    "            time.sleep(1)\n",
    "        except (OSError, urllib3.exceptions.ProtocolError) as error:\n",
    "            logging.info('\\n')\n",
    "            logging.info('*' * 20, 'Error Occured', '*' * 20)\n",
    "            logging.info(f'Number of tries: {count}')\n",
    "            logging.info(f'URL: {url}')\n",
    "            logging.info(error)\n",
    "            logging.info('\\n')\n",
    "            count += 1\n",
    "            time.sleep(0.5)\n",
    "            continue\n",
    "        break\n",
    "\n",
    "    return response"
   ]
  },
  {
   "cell_type": "markdown",
   "metadata": {},
   "source": [
    "## Create a function to supply inputs to the remote request and return the elevation value"
   ]
  },
  {
   "cell_type": "code",
   "execution_count": 433,
   "metadata": {},
   "outputs": [],
   "source": [
    "def elevation_function(x):\n",
    "    \"\"\"\n",
    "    @partan\n",
    "    x - pd.Series where the first eliment x[0] is lat and the second x[1] is lon \n",
    "    returns elevation in meters\n",
    "    \n",
    "    @example elevation_function(pd.Series(['42.816697', '-114.900003']))\n",
    "    \"\"\"\n",
    "    \n",
    "    url = 'https://nationalmap.gov/epqs/pqs.php?'\n",
    "    params = {'x': x[1], # lon\n",
    "              'y': x[0], # # Lat \n",
    "              'units': 'Meters',\n",
    "              'output': 'json'}\n",
    "    logging.info(str(x.name)+'\\t\\t'+str(x[0])+'\\t\\t'+str(x[1]))   # print row index, lat, lon\n",
    "    result = make_remote_request(url, params)\n",
    "    \n",
    "    return result.json()['USGS_Elevation_Point_Query_Service']['Elevation_Query']['Elevation']"
   ]
  },
  {
   "cell_type": "code",
   "execution_count": 434,
   "metadata": {},
   "outputs": [
    {
     "name": "stdout",
     "output_type": "stream",
     "text": [
      "             lat         lon  temp_key_str\n",
      "24637  42.816697 -114.900003  42.817-114.9\n",
      "898.12\n",
      "-1000000\n",
      "          lat      lon   temp_key_str\n",
      "2163  39.6667 -79.8667  39.667-79.867\n",
      "337.53\n",
      "-1000000\n"
     ]
    }
   ],
   "source": [
    "# Lat Lon\n",
    "# 42.816697-114.900003\n",
    "\n",
    "print(clean_data_unique.loc[clean_data_unique['temp_key_str'].str.contains('42.817-114.9'),:])\n",
    "\n",
    "\n",
    "# Lat Lon\n",
    "print(elevation_function(pd.Series(['42.816697', '-114.900003'])))\n",
    "# Lon Lat \n",
    "print(elevation_function(pd.Series(['-114.900003', '42.816697'])))\n",
    "# elevation_function(clean_data_unique.loc[clean_data_unique['temp_key_str'].str.contains('42.817-114.9')][[\"lat\", \"lon\"]])\n",
    "# elevation_function([[\"lat\", \"lon\"]])\n",
    "\n",
    "# 39.6667-79.8667_1966\n",
    "print(clean_data_unique.loc[clean_data_unique['temp_key_str'].str.contains('39.667-79.867')])\n",
    "# Lat Lon\n",
    "print(elevation_function(pd.Series(['39.6667', '-79.8667'])))\n",
    "# Lon Lat \n",
    "print(elevation_function(pd.Series(['-79.8667', '39.6667'])))\n",
    "\n"
   ]
  },
  {
   "cell_type": "code",
   "execution_count": 435,
   "metadata": {},
   "outputs": [
    {
     "data": {
      "text/plain": [
       "'42.816697'"
      ]
     },
     "execution_count": 435,
     "metadata": {},
     "output_type": "execute_result"
    }
   ],
   "source": [
    "pd.Series(['42.816697', '-114.900003'])[0]"
   ]
  },
  {
   "cell_type": "markdown",
   "metadata": {},
   "source": [
    "# Collect Data From USGS for the unique Lat Lon Locations "
   ]
  },
  {
   "cell_type": "code",
   "execution_count": 436,
   "metadata": {
    "scrolled": true
   },
   "outputs": [],
   "source": [
    "if not get_offline_data:\n",
    "#     temp = clean_data_unique[['lat', 'lon']]\n",
    "\n",
    "    clean_data_unique.loc[:, 'circle_elev'] = np.nan\n",
    "    clean_data_unique.head(50)\n",
    "\n",
    "    testing_count = 0\n",
    "\n",
    "    for index, row in clean_data_unique.iterrows():\n",
    "\n",
    "        try:\n",
    "            print(row['temp_key_str'])\n",
    "            # combination of apply() function and lambda() function, only on nulls (see reference links above)\n",
    "            clean_data_unique.loc[index, 'circle_elev'] = elevation_function(row[['lat', 'lon']])\n",
    "        except:\n",
    "            print(\"Exception occurred:\")\n",
    "            print(row['temp_key_str'])        \n",
    "            clean_data_unique.loc[index, 'circle_elev'] = np.nan\n",
    "            continue\n",
    "\n",
    "        if test_query:\n",
    "            testing_count = testing_count + 1\n",
    "            if testing_count >= 5:\n",
    "                break\n",
    "                \n",
    "        time.sleep(2)\n",
    "\n"
   ]
  },
  {
   "cell_type": "code",
   "execution_count": 437,
   "metadata": {},
   "outputs": [],
   "source": [
    "# check on the results \n",
    "if not get_offline_data:\n",
    "    print(\"The number of elivations that got an NAN is: \" + str(clean_data_unique['circle_elev'].isna().sum()))\n",
    "    print(clean_data_unique['circle_elev'].head(10))\n",
    "    print(clean_data_unique['circle_elev'].dtype)"
   ]
  },
  {
   "cell_type": "code",
   "execution_count": 438,
   "metadata": {},
   "outputs": [],
   "source": [
    "# Add the result list as circle_elev\n",
    "if not get_offline_data:\n",
    "    clean_data_unique[\"circle_elev\"] = clean_data_unique[\"circle_elev\"].astype('float')\n",
    "    print(clean_data_unique['circle_elev'].dtype)"
   ]
  },
  {
   "cell_type": "code",
   "execution_count": 439,
   "metadata": {},
   "outputs": [],
   "source": [
    "# Save this as the offline data\n",
    "# if not get_offline_data:\n",
    "#     clean_data_unique.to_csv('../data/Cloud_Data/1.2.1-ijd-fetch-circle-elevations-OFFLINE.csv', index=False)"
   ]
  },
  {
   "cell_type": "markdown",
   "metadata": {},
   "source": [
    "## Merge in the data with the Paired dataset. Use offline data for Merge is the variable get_offline_data above is True "
   ]
  },
  {
   "cell_type": "code",
   "execution_count": 440,
   "metadata": {},
   "outputs": [
    {
     "name": "stderr",
     "output_type": "stream",
     "text": [
      "/Users/rcdebaca/.pyenv/versions/funhacks371/lib/python3.7/site-packages/IPython/core/interactiveshell.py:3063: DtypeWarning: Columns (62,63,64,65) have mixed types.Specify dtype option on import or set low_memory=False.\n",
      "  interactivity=interactivity, compiler=compiler, result=result)\n"
     ]
    },
    {
     "name": "stdout",
     "output_type": "stream",
     "text": [
      "The shape of the paired datafram is: (756378, 66)\n",
      "The number of unique latlon combos is 3848\n"
     ]
    }
   ],
   "source": [
    "# Load in the full dataset \n",
    "paired_df = pd.read_csv(PATH_TO_PAIRED_DATA, encoding = \"ISO-8859-1\", compression='gzip', sep=\"\\t\")\n",
    "\n",
    "print(\"The shape of the paired datafram is: \" + str(paired_df.shape))\n",
    "\n",
    "# Create a key for the paired data to merge on \n",
    "paired_df['temp_key_str'] = paired_df['lat'].astype(str) + paired_df['lon'].astype(str)\n",
    "\n",
    "paired_df['temp_key_str'] = round(paired_df['lat'],3).astype(str) + round(paired_df['lon'],3).astype(str)\n",
    "\n",
    "# Count the number of unique\n",
    "print(\"The number of unique latlon combos is \" + str(paired_df[\"temp_key_str\"].nunique()))\n",
    "\n",
    "\n",
    "# Merge on either the clean data collected from usgs or offline data\n",
    "if not get_offline_data:\n",
    "    # Merge in on the key \n",
    "    paired_df_ = pd.merge(paired_df, clean_data_unique[['temp_key_str', 'circle_elev']], how=\"left\", left_on=\"temp_key_str\", right_on=\"temp_key_str\")\n",
    "\n",
    "else:\n",
    "    offline_data = pd.read_csv(PATH_TO_OFFLINE_ELEVATION_DATA)\n",
    "    # Merge in on the key \n",
    "    paired_df_ = pd.merge(paired_df, offline_data[['temp_key_str', 'circle_elev']], how=\"left\", left_on=\"temp_key_str\", right_on=\"temp_key_str\")\n",
    "    \n",
    "    "
   ]
  },
  {
   "cell_type": "code",
   "execution_count": 441,
   "metadata": {},
   "outputs": [
    {
     "name": "stdout",
     "output_type": "stream",
     "text": [
      "The shape of the merged data is : (756378, 68)\n",
      "The number of NAs in the merged data: 0\n",
      "The number of circles with circle_elev:756378\n",
      "Value Counts\n",
      "(0.0, 1000.0]         615638\n",
      "(1000.0, 2000.0]       99548\n",
      "(2000.0, 3000.0]       19385\n",
      "(-10000.001, 0.0]      16955\n",
      "(3000.0, 4000.0]        4113\n",
      "(12000.0, 14000.0]         0\n",
      "(10000.0, 12000.0]         0\n",
      "(9000.0, 10000.0]          0\n",
      "(8000.0, 9000.0]           0\n",
      "(6000.0, 8000.0]           0\n",
      "(5000.0, 6000.0]           0\n",
      "(4000.0, 5000.0]           0\n",
      "Name: circle_elev, dtype: int64\n"
     ]
    }
   ],
   "source": [
    "# Check the merge \n",
    "print(\"The shape of the merged data is : \" + str(paired_df_.shape))\n",
    "print(\"The number of NAs in the merged data: \" + str(paired_df_['circle_elev'].isna().sum()))\n",
    "print(\"The number of circles with %s:\" % 'circle_elev' + str(paired_df_.shape[0] - paired_df_['circle_elev'].isna().sum()))\n",
    "print(\"Value Counts\")\n",
    "print(paired_df_['circle_elev'].value_counts( bins = [-10000,0,1000,2000,3000,4000,5000,6000,8000,9000,10000,12000,14000]))\n"
   ]
  },
  {
   "cell_type": "code",
   "execution_count": 442,
   "metadata": {},
   "outputs": [
    {
     "data": {
      "text/html": [
       "<div>\n",
       "<style scoped>\n",
       "    .dataframe tbody tr th:only-of-type {\n",
       "        vertical-align: middle;\n",
       "    }\n",
       "\n",
       "    .dataframe tbody tr th {\n",
       "        vertical-align: top;\n",
       "    }\n",
       "\n",
       "    .dataframe thead th {\n",
       "        text-align: right;\n",
       "    }\n",
       "</style>\n",
       "<table border=\"1\" class=\"dataframe\">\n",
       "  <thead>\n",
       "    <tr style=\"text-align: right;\">\n",
       "      <th></th>\n",
       "      <th>circle_name</th>\n",
       "      <th>country_state</th>\n",
       "      <th>lat</th>\n",
       "      <th>lon</th>\n",
       "      <th>count_year</th>\n",
       "      <th>count_date</th>\n",
       "      <th>n_field_counters</th>\n",
       "      <th>n_feeder_counters</th>\n",
       "      <th>min_field_parties</th>\n",
       "      <th>max_field_parties</th>\n",
       "      <th>...</th>\n",
       "      <th>precipitation_value</th>\n",
       "      <th>temp_avg</th>\n",
       "      <th>snow</th>\n",
       "      <th>snwd</th>\n",
       "      <th>am_rain</th>\n",
       "      <th>pm_rain</th>\n",
       "      <th>am_snow</th>\n",
       "      <th>pm_snow</th>\n",
       "      <th>temp_key_str</th>\n",
       "      <th>circle_elev</th>\n",
       "    </tr>\n",
       "  </thead>\n",
       "  <tbody>\n",
       "    <tr>\n",
       "      <th>0</th>\n",
       "      <td>Amchitka Island</td>\n",
       "      <td>US-AK</td>\n",
       "      <td>51.409713</td>\n",
       "      <td>179.284881</td>\n",
       "      <td>1980</td>\n",
       "      <td>1979-12-18</td>\n",
       "      <td>4.0</td>\n",
       "      <td>NaN</td>\n",
       "      <td>NaN</td>\n",
       "      <td>NaN</td>\n",
       "      <td>...</td>\n",
       "      <td>NaN</td>\n",
       "      <td>NaN</td>\n",
       "      <td>NaN</td>\n",
       "      <td>NaN</td>\n",
       "      <td>3</td>\n",
       "      <td>3</td>\n",
       "      <td>2</td>\n",
       "      <td>2</td>\n",
       "      <td>51.41179.285</td>\n",
       "      <td>-1000000.0</td>\n",
       "    </tr>\n",
       "    <tr>\n",
       "      <th>1</th>\n",
       "      <td>Amchitka Island</td>\n",
       "      <td>US-AK</td>\n",
       "      <td>51.409713</td>\n",
       "      <td>179.284881</td>\n",
       "      <td>1980</td>\n",
       "      <td>1979-12-18</td>\n",
       "      <td>4.0</td>\n",
       "      <td>NaN</td>\n",
       "      <td>NaN</td>\n",
       "      <td>NaN</td>\n",
       "      <td>...</td>\n",
       "      <td>5.0</td>\n",
       "      <td>NaN</td>\n",
       "      <td>3.0</td>\n",
       "      <td>0.0</td>\n",
       "      <td>3</td>\n",
       "      <td>3</td>\n",
       "      <td>2</td>\n",
       "      <td>2</td>\n",
       "      <td>51.41179.285</td>\n",
       "      <td>-1000000.0</td>\n",
       "    </tr>\n",
       "    <tr>\n",
       "      <th>2</th>\n",
       "      <td>Amchitka Island</td>\n",
       "      <td>US-AK</td>\n",
       "      <td>51.409713</td>\n",
       "      <td>179.284881</td>\n",
       "      <td>1993</td>\n",
       "      <td>1992-12-20</td>\n",
       "      <td>2.0</td>\n",
       "      <td>0.0</td>\n",
       "      <td>1.0</td>\n",
       "      <td>1.0</td>\n",
       "      <td>...</td>\n",
       "      <td>NaN</td>\n",
       "      <td>NaN</td>\n",
       "      <td>0.0</td>\n",
       "      <td>0.0</td>\n",
       "      <td>4</td>\n",
       "      <td>4</td>\n",
       "      <td>4</td>\n",
       "      <td>4</td>\n",
       "      <td>51.41179.285</td>\n",
       "      <td>-1000000.0</td>\n",
       "    </tr>\n",
       "    <tr>\n",
       "      <th>3</th>\n",
       "      <td>Amchitka Island</td>\n",
       "      <td>US-AK</td>\n",
       "      <td>51.409713</td>\n",
       "      <td>179.284881</td>\n",
       "      <td>1993</td>\n",
       "      <td>1992-12-20</td>\n",
       "      <td>2.0</td>\n",
       "      <td>0.0</td>\n",
       "      <td>1.0</td>\n",
       "      <td>1.0</td>\n",
       "      <td>...</td>\n",
       "      <td>NaN</td>\n",
       "      <td>NaN</td>\n",
       "      <td>NaN</td>\n",
       "      <td>NaN</td>\n",
       "      <td>4</td>\n",
       "      <td>4</td>\n",
       "      <td>4</td>\n",
       "      <td>4</td>\n",
       "      <td>51.41179.285</td>\n",
       "      <td>-1000000.0</td>\n",
       "    </tr>\n",
       "    <tr>\n",
       "      <th>4</th>\n",
       "      <td>Amchitka Island</td>\n",
       "      <td>US-AK</td>\n",
       "      <td>51.409713</td>\n",
       "      <td>179.284881</td>\n",
       "      <td>1994</td>\n",
       "      <td>1993-12-28</td>\n",
       "      <td>2.0</td>\n",
       "      <td>0.0</td>\n",
       "      <td>1.0</td>\n",
       "      <td>1.0</td>\n",
       "      <td>...</td>\n",
       "      <td>NaN</td>\n",
       "      <td>NaN</td>\n",
       "      <td>NaN</td>\n",
       "      <td>NaN</td>\n",
       "      <td>4</td>\n",
       "      <td>4</td>\n",
       "      <td>4</td>\n",
       "      <td>4</td>\n",
       "      <td>51.41179.285</td>\n",
       "      <td>-1000000.0</td>\n",
       "    </tr>\n",
       "  </tbody>\n",
       "</table>\n",
       "<p>5 rows × 68 columns</p>\n",
       "</div>"
      ],
      "text/plain": [
       "       circle_name country_state        lat         lon  count_year  \\\n",
       "0  Amchitka Island         US-AK  51.409713  179.284881        1980   \n",
       "1  Amchitka Island         US-AK  51.409713  179.284881        1980   \n",
       "2  Amchitka Island         US-AK  51.409713  179.284881        1993   \n",
       "3  Amchitka Island         US-AK  51.409713  179.284881        1993   \n",
       "4  Amchitka Island         US-AK  51.409713  179.284881        1994   \n",
       "\n",
       "   count_date  n_field_counters  n_feeder_counters  min_field_parties  \\\n",
       "0  1979-12-18               4.0                NaN                NaN   \n",
       "1  1979-12-18               4.0                NaN                NaN   \n",
       "2  1992-12-20               2.0                0.0                1.0   \n",
       "3  1992-12-20               2.0                0.0                1.0   \n",
       "4  1993-12-28               2.0                0.0                1.0   \n",
       "\n",
       "   max_field_parties  ...  precipitation_value  temp_avg  snow  snwd  am_rain  \\\n",
       "0                NaN  ...                  NaN       NaN   NaN   NaN        3   \n",
       "1                NaN  ...                  5.0       NaN   3.0   0.0        3   \n",
       "2                1.0  ...                  NaN       NaN   0.0   0.0        4   \n",
       "3                1.0  ...                  NaN       NaN   NaN   NaN        4   \n",
       "4                1.0  ...                  NaN       NaN   NaN   NaN        4   \n",
       "\n",
       "  pm_rain  am_snow  pm_snow  temp_key_str  circle_elev  \n",
       "0       3        2        2  51.41179.285   -1000000.0  \n",
       "1       3        2        2  51.41179.285   -1000000.0  \n",
       "2       4        4        4  51.41179.285   -1000000.0  \n",
       "3       4        4        4  51.41179.285   -1000000.0  \n",
       "4       4        4        4  51.41179.285   -1000000.0  \n",
       "\n",
       "[5 rows x 68 columns]"
      ]
     },
     "execution_count": 442,
     "metadata": {},
     "output_type": "execute_result"
    }
   ],
   "source": [
    "paired_df_.head()"
   ]
  },
  {
   "cell_type": "markdown",
   "metadata": {},
   "source": [
    "## Screen Circle Elevation Data"
   ]
  },
  {
   "cell_type": "code",
   "execution_count": 443,
   "metadata": {},
   "outputs": [],
   "source": [
    "# Remove bad elevation values Wre the circle eleivation is less than -10000 \n",
    "paired_df_.loc[paired_df_['circle_elev'] < -10000.0, 'circle_elev'] = np.nan "
   ]
  },
  {
   "cell_type": "code",
   "execution_count": 444,
   "metadata": {},
   "outputs": [
    {
     "data": {
      "text/html": [
       "<div>\n",
       "<style scoped>\n",
       "    .dataframe tbody tr th:only-of-type {\n",
       "        vertical-align: middle;\n",
       "    }\n",
       "\n",
       "    .dataframe tbody tr th {\n",
       "        vertical-align: top;\n",
       "    }\n",
       "\n",
       "    .dataframe thead th {\n",
       "        text-align: right;\n",
       "    }\n",
       "</style>\n",
       "<table border=\"1\" class=\"dataframe\">\n",
       "  <thead>\n",
       "    <tr style=\"text-align: right;\">\n",
       "      <th></th>\n",
       "      <th>lat</th>\n",
       "      <th>lon</th>\n",
       "      <th>count_date</th>\n",
       "      <th>circle_elev</th>\n",
       "    </tr>\n",
       "  </thead>\n",
       "  <tbody>\n",
       "    <tr>\n",
       "      <th>0</th>\n",
       "      <td>51.409713</td>\n",
       "      <td>179.284881</td>\n",
       "      <td>1979-12-18</td>\n",
       "      <td>NaN</td>\n",
       "    </tr>\n",
       "    <tr>\n",
       "      <th>1</th>\n",
       "      <td>51.409713</td>\n",
       "      <td>179.284881</td>\n",
       "      <td>1979-12-18</td>\n",
       "      <td>NaN</td>\n",
       "    </tr>\n",
       "    <tr>\n",
       "      <th>2</th>\n",
       "      <td>51.409713</td>\n",
       "      <td>179.284881</td>\n",
       "      <td>1992-12-20</td>\n",
       "      <td>NaN</td>\n",
       "    </tr>\n",
       "    <tr>\n",
       "      <th>3</th>\n",
       "      <td>51.409713</td>\n",
       "      <td>179.284881</td>\n",
       "      <td>1992-12-20</td>\n",
       "      <td>NaN</td>\n",
       "    </tr>\n",
       "    <tr>\n",
       "      <th>4</th>\n",
       "      <td>51.409713</td>\n",
       "      <td>179.284881</td>\n",
       "      <td>1993-12-28</td>\n",
       "      <td>NaN</td>\n",
       "    </tr>\n",
       "  </tbody>\n",
       "</table>\n",
       "</div>"
      ],
      "text/plain": [
       "         lat         lon  count_date  circle_elev\n",
       "0  51.409713  179.284881  1979-12-18          NaN\n",
       "1  51.409713  179.284881  1979-12-18          NaN\n",
       "2  51.409713  179.284881  1992-12-20          NaN\n",
       "3  51.409713  179.284881  1992-12-20          NaN\n",
       "4  51.409713  179.284881  1993-12-28          NaN"
      ]
     },
     "execution_count": 444,
     "metadata": {},
     "output_type": "execute_result"
    }
   ],
   "source": [
    "paired_df_[['lat', 'lon', 'count_date', 'circle_elev']].head()"
   ]
  },
  {
   "cell_type": "code",
   "execution_count": 445,
   "metadata": {},
   "outputs": [
    {
     "data": {
      "text/plain": [
       "array([[<matplotlib.axes._subplots.AxesSubplot object at 0x121aeceb8>]],\n",
       "      dtype=object)"
      ]
     },
     "execution_count": 445,
     "metadata": {},
     "output_type": "execute_result"
    },
    {
     "data": {
      "image/png": "[encoded data removed]",
      "text/plain": [
       "<Figure size 432x288 with 1 Axes>"
      ]
     },
     "metadata": {
      "needs_background": "light"
     },
     "output_type": "display_data"
    }
   ],
   "source": [
    "# Create histogram of elevations\n",
    "paired_df_.hist(column='circle_elev')"
   ]
  },
  {
   "cell_type": "markdown",
   "metadata": {},
   "source": [
    "# Screen Station Elevation Data"
   ]
  },
  {
   "cell_type": "code",
   "execution_count": 446,
   "metadata": {
    "scrolled": true
   },
   "outputs": [
    {
     "data": {
      "text/plain": [
       "43       -999.9\n",
       "45       -999.9\n",
       "50       -999.9\n",
       "52       -999.9\n",
       "58       -999.9\n",
       "          ...  \n",
       "755847   -999.9\n",
       "755877   -999.9\n",
       "755884   -999.9\n",
       "755892   -999.9\n",
       "755914   -999.9\n",
       "Name: elevation, Length: 6142, dtype: float64"
      ]
     },
     "execution_count": 446,
     "metadata": {},
     "output_type": "execute_result"
    }
   ],
   "source": [
    "# Check for these bad elivation values for stations \n",
    "paired_df_.loc[paired_df_['elevation'] <= -999.9, 'elevation'] "
   ]
  },
  {
   "cell_type": "code",
   "execution_count": 447,
   "metadata": {},
   "outputs": [
    {
     "data": {
      "text/plain": [
       "Series([], Name: elevation, dtype: float64)"
      ]
     },
     "execution_count": 447,
     "metadata": {},
     "output_type": "execute_result"
    }
   ],
   "source": [
    "paired_df_.loc[paired_df_['elevation'].isna(),'elevation']"
   ]
  },
  {
   "cell_type": "code",
   "execution_count": 448,
   "metadata": {},
   "outputs": [
    {
     "data": {
      "text/plain": [
       "0"
      ]
     },
     "execution_count": 448,
     "metadata": {},
     "output_type": "execute_result"
    }
   ],
   "source": [
    "sum(paired_df['elevation'].isna())"
   ]
  },
  {
   "cell_type": "code",
   "execution_count": 449,
   "metadata": {},
   "outputs": [
    {
     "name": "stdout",
     "output_type": "stream",
     "text": [
      "(206, 5)\n",
      "               id  circle_elev  latitude  longitude  elevation\n",
      "43    USC00172390       138.62   46.6167   -67.9000     -999.9\n",
      "1725  USC00202045       320.44   47.4167   -88.1000     -999.9\n",
      "2533  USC00206744       339.03   46.2833   -87.4667     -999.9\n",
      "3984  USC00473532       441.96   45.5000   -89.7500     -999.9\n",
      "6783  USC00174189        45.89   44.3167   -69.7667     -999.9\n"
     ]
    }
   ],
   "source": [
    "# paired_df_.loc[:,['id', 'circle_elev','latitude', 'longitude' ,'elevation']].sort_values(['elevation'], ascending = True)\n",
    "\n",
    "bad_stat_el_df = paired_df_.loc[(paired_df_['elevation'] <= -999.9) | (paired_df_['elevation'].isna()),['id', 'circle_elev','latitude', 'longitude' ,'elevation']]\n",
    "\n",
    "# bad_stat_el_df = paired_df_.loc[(paired_df_['elevation'] <= -999.9),['id', 'circle_elev','latitude', 'longitude' ,'elevation']]\n",
    "\n",
    "\n",
    "bad_stat_el_df.drop_duplicates('id', inplace = True)\n",
    "\n",
    "print(bad_stat_el_df.shape)\n",
    "print(bad_stat_el_df.head())"
   ]
  },
  {
   "cell_type": "code",
   "execution_count": 450,
   "metadata": {},
   "outputs": [
    {
     "name": "stdout",
     "output_type": "stream",
     "text": [
      "0\n",
      "(756378, 68)\n"
     ]
    }
   ],
   "source": [
    "print(sum(paired_df_['elevation'].isna()))\n",
    "print(paired_df_.shape)\n",
    "#756378"
   ]
  },
  {
   "cell_type": "code",
   "execution_count": 451,
   "metadata": {
    "scrolled": true
   },
   "outputs": [],
   "source": [
    "# There appears to be stations with bad data for elivation. Lets see if we can recover any of these from usgs \n",
    "\n",
    "if not get_offline_data_station:\n",
    "#     temp = clean_data_unique[['lat', 'lon']]\n",
    "\n",
    "    bad_stat_el_df.loc[:, 'elevation_rec'] = np.nan\n",
    "    bad_stat_el_df.head(50)\n",
    "\n",
    "    testing_count = 0\n",
    "\n",
    "    for index, row in bad_stat_el_df.iterrows():\n",
    "\n",
    "        try:\n",
    "            print(row['id'])\n",
    "            # combination of apply() function and lambda() function, only on nulls (see reference links above)\n",
    "            bad_stat_el_df.loc[index, 'elevation_rec'] = elevation_function(row[['latitude', 'longitude']])\n",
    "        except:\n",
    "            print(\"Exception occurred:\")\n",
    "            print(row['id'])        \n",
    "            bad_stat_el_df.loc[index, 'elevation_rec'] = np.nan\n",
    "            continue\n",
    "\n",
    "        if test_query:\n",
    "            testing_count = testing_count + 1\n",
    "            if testing_count >= 5:\n",
    "                break\n",
    "                \n",
    "        time.sleep(2)"
   ]
  },
  {
   "cell_type": "code",
   "execution_count": 452,
   "metadata": {},
   "outputs": [
    {
     "data": {
      "text/html": [
       "<div>\n",
       "<style scoped>\n",
       "    .dataframe tbody tr th:only-of-type {\n",
       "        vertical-align: middle;\n",
       "    }\n",
       "\n",
       "    .dataframe tbody tr th {\n",
       "        vertical-align: top;\n",
       "    }\n",
       "\n",
       "    .dataframe thead th {\n",
       "        text-align: right;\n",
       "    }\n",
       "</style>\n",
       "<table border=\"1\" class=\"dataframe\">\n",
       "  <thead>\n",
       "    <tr style=\"text-align: right;\">\n",
       "      <th></th>\n",
       "      <th>id</th>\n",
       "      <th>circle_elev</th>\n",
       "      <th>latitude</th>\n",
       "      <th>longitude</th>\n",
       "      <th>elevation</th>\n",
       "      <th>elevation_source</th>\n",
       "    </tr>\n",
       "  </thead>\n",
       "  <tbody>\n",
       "    <tr>\n",
       "      <th>43</th>\n",
       "      <td>USC00172390</td>\n",
       "      <td>138.62</td>\n",
       "      <td>46.6167</td>\n",
       "      <td>-67.9000</td>\n",
       "      <td>-999.9</td>\n",
       "      <td>usgs_api</td>\n",
       "    </tr>\n",
       "    <tr>\n",
       "      <th>1725</th>\n",
       "      <td>USC00202045</td>\n",
       "      <td>320.44</td>\n",
       "      <td>47.4167</td>\n",
       "      <td>-88.1000</td>\n",
       "      <td>-999.9</td>\n",
       "      <td>usgs_api</td>\n",
       "    </tr>\n",
       "    <tr>\n",
       "      <th>2533</th>\n",
       "      <td>USC00206744</td>\n",
       "      <td>339.03</td>\n",
       "      <td>46.2833</td>\n",
       "      <td>-87.4667</td>\n",
       "      <td>-999.9</td>\n",
       "      <td>usgs_api</td>\n",
       "    </tr>\n",
       "    <tr>\n",
       "      <th>3984</th>\n",
       "      <td>USC00473532</td>\n",
       "      <td>441.96</td>\n",
       "      <td>45.5000</td>\n",
       "      <td>-89.7500</td>\n",
       "      <td>-999.9</td>\n",
       "      <td>usgs_api</td>\n",
       "    </tr>\n",
       "    <tr>\n",
       "      <th>6783</th>\n",
       "      <td>USC00174189</td>\n",
       "      <td>45.89</td>\n",
       "      <td>44.3167</td>\n",
       "      <td>-69.7667</td>\n",
       "      <td>-999.9</td>\n",
       "      <td>usgs_api</td>\n",
       "    </tr>\n",
       "  </tbody>\n",
       "</table>\n",
       "</div>"
      ],
      "text/plain": [
       "               id  circle_elev  latitude  longitude  elevation  \\\n",
       "43    USC00172390       138.62   46.6167   -67.9000     -999.9   \n",
       "1725  USC00202045       320.44   47.4167   -88.1000     -999.9   \n",
       "2533  USC00206744       339.03   46.2833   -87.4667     -999.9   \n",
       "3984  USC00473532       441.96   45.5000   -89.7500     -999.9   \n",
       "6783  USC00174189        45.89   44.3167   -69.7667     -999.9   \n",
       "\n",
       "     elevation_source  \n",
       "43           usgs_api  \n",
       "1725         usgs_api  \n",
       "2533         usgs_api  \n",
       "3984         usgs_api  \n",
       "6783         usgs_api  "
      ]
     },
     "execution_count": 452,
     "metadata": {},
     "output_type": "execute_result"
    }
   ],
   "source": [
    "# Add in a column to signal that these station elivations came from arc GIS \n",
    "bad_stat_el_df['elevation_source'] = \"usgs_api\"\n",
    "bad_stat_el_df.head()"
   ]
  },
  {
   "cell_type": "code",
   "execution_count": 453,
   "metadata": {},
   "outputs": [],
   "source": [
    "#Save this as the offline data\n",
    "if not get_offline_data_station:\n",
    "    bad_stat_el_df.to_csv('../data/Cloud_Data/1.2.1-ijd-fetch-circle-elevations-STATION-DATA-OFFLINE.csv', index=False)\n"
   ]
  },
  {
   "cell_type": "code",
   "execution_count": 454,
   "metadata": {},
   "outputs": [
    {
     "name": "stdout",
     "output_type": "stream",
     "text": [
      "(206, 7)\n",
      "            id  circle_elev  latitude  longitude  elevation  elevation_rec  \\\n",
      "0  USC00172390       138.62   46.6167   -67.9000     -999.9         209.98   \n",
      "1  USC00202045       320.44   47.4167   -88.1000     -999.9         324.55   \n",
      "2  USC00206744       339.03   46.2833   -87.4667     -999.9         373.84   \n",
      "3  USC00473532       441.96   45.5000   -89.7500     -999.9         444.47   \n",
      "4  USC00174189        45.89   44.3167   -69.7667     -999.9          31.30   \n",
      "\n",
      "  elevation_source  \n",
      "0         usgs_api  \n",
      "1         usgs_api  \n",
      "2         usgs_api  \n",
      "3         usgs_api  \n",
      "4         usgs_api  \n"
     ]
    }
   ],
   "source": [
    "if get_offline_data_station:\n",
    "    bad_stat_el_df = pd.read_csv('../data/Cloud_Data/1.2.1-ijd-fetch-circle-elevations-STATION-DATA-OFFLINE.csv')\n",
    "    print(bad_stat_el_df.shape)\n",
    "    print(bad_stat_el_df.head())\n",
    "    "
   ]
  },
  {
   "cell_type": "code",
   "execution_count": 455,
   "metadata": {},
   "outputs": [
    {
     "data": {
      "text/plain": [
       "(756378, 68)"
      ]
     },
     "execution_count": 455,
     "metadata": {},
     "output_type": "execute_result"
    }
   ],
   "source": [
    "# Check the Size of the paired_df_\n",
    "paired_df_.shape"
   ]
  },
  {
   "cell_type": "code",
   "execution_count": 456,
   "metadata": {},
   "outputs": [],
   "source": [
    "# Merge in the data with the paired data \n",
    "if not get_offline_data_station:\n",
    "    # Merge in on the key \n",
    "    paired_df_ = pd.merge(paired_df_, bad_stat_el_df[['id', 'elevation_rec', 'elevation_source']], how=\"left\", left_on=\"id\", right_on=\"id\")\n",
    "\n",
    "else:\n",
    "    offline_data = pd.read_csv(PATH_TO_OFFLINE_STATION_ELEVATION_DATA)\n",
    "    # Merge in on the key \n",
    "    paired_df_ = pd.merge(paired_df_, offline_data[['id', 'elevation_rec', 'elevation_source']], how=\"left\", left_on=\"id\", right_on=\"id\")\n",
    "    \n",
    "\n"
   ]
  },
  {
   "cell_type": "code",
   "execution_count": 457,
   "metadata": {},
   "outputs": [
    {
     "data": {
      "text/plain": [
       "(756378, 70)"
      ]
     },
     "execution_count": 457,
     "metadata": {},
     "output_type": "execute_result"
    }
   ],
   "source": [
    "# Check the Size of the paired_df_\n",
    "paired_df_.shape"
   ]
  },
  {
   "cell_type": "code",
   "execution_count": 458,
   "metadata": {},
   "outputs": [
    {
     "data": {
      "text/html": [
       "<div>\n",
       "<style scoped>\n",
       "    .dataframe tbody tr th:only-of-type {\n",
       "        vertical-align: middle;\n",
       "    }\n",
       "\n",
       "    .dataframe tbody tr th {\n",
       "        vertical-align: top;\n",
       "    }\n",
       "\n",
       "    .dataframe thead th {\n",
       "        text-align: right;\n",
       "    }\n",
       "</style>\n",
       "<table border=\"1\" class=\"dataframe\">\n",
       "  <thead>\n",
       "    <tr style=\"text-align: right;\">\n",
       "      <th></th>\n",
       "      <th>elevation</th>\n",
       "      <th>elevation_rec</th>\n",
       "      <th>elevation_source</th>\n",
       "    </tr>\n",
       "  </thead>\n",
       "  <tbody>\n",
       "    <tr>\n",
       "      <th>195671</th>\n",
       "      <td>-999.9</td>\n",
       "      <td>356.85</td>\n",
       "      <td>usgs_api</td>\n",
       "    </tr>\n",
       "    <tr>\n",
       "      <th>448859</th>\n",
       "      <td>-999.9</td>\n",
       "      <td>341.09</td>\n",
       "      <td>usgs_api</td>\n",
       "    </tr>\n",
       "    <tr>\n",
       "      <th>448867</th>\n",
       "      <td>-999.9</td>\n",
       "      <td>341.09</td>\n",
       "      <td>usgs_api</td>\n",
       "    </tr>\n",
       "    <tr>\n",
       "      <th>448871</th>\n",
       "      <td>-999.9</td>\n",
       "      <td>341.09</td>\n",
       "      <td>usgs_api</td>\n",
       "    </tr>\n",
       "    <tr>\n",
       "      <th>448878</th>\n",
       "      <td>-999.9</td>\n",
       "      <td>341.09</td>\n",
       "      <td>usgs_api</td>\n",
       "    </tr>\n",
       "    <tr>\n",
       "      <th>...</th>\n",
       "      <td>...</td>\n",
       "      <td>...</td>\n",
       "      <td>...</td>\n",
       "    </tr>\n",
       "    <tr>\n",
       "      <th>738707</th>\n",
       "      <td>3553.1</td>\n",
       "      <td>NaN</td>\n",
       "      <td>NaN</td>\n",
       "    </tr>\n",
       "    <tr>\n",
       "      <th>738833</th>\n",
       "      <td>3553.1</td>\n",
       "      <td>NaN</td>\n",
       "      <td>NaN</td>\n",
       "    </tr>\n",
       "    <tr>\n",
       "      <th>738715</th>\n",
       "      <td>3553.1</td>\n",
       "      <td>NaN</td>\n",
       "      <td>NaN</td>\n",
       "    </tr>\n",
       "    <tr>\n",
       "      <th>738796</th>\n",
       "      <td>3553.1</td>\n",
       "      <td>NaN</td>\n",
       "      <td>NaN</td>\n",
       "    </tr>\n",
       "    <tr>\n",
       "      <th>738748</th>\n",
       "      <td>3553.1</td>\n",
       "      <td>NaN</td>\n",
       "      <td>NaN</td>\n",
       "    </tr>\n",
       "  </tbody>\n",
       "</table>\n",
       "<p>756378 rows × 3 columns</p>\n",
       "</div>"
      ],
      "text/plain": [
       "        elevation  elevation_rec elevation_source\n",
       "195671     -999.9         356.85         usgs_api\n",
       "448859     -999.9         341.09         usgs_api\n",
       "448867     -999.9         341.09         usgs_api\n",
       "448871     -999.9         341.09         usgs_api\n",
       "448878     -999.9         341.09         usgs_api\n",
       "...           ...            ...              ...\n",
       "738707     3553.1            NaN              NaN\n",
       "738833     3553.1            NaN              NaN\n",
       "738715     3553.1            NaN              NaN\n",
       "738796     3553.1            NaN              NaN\n",
       "738748     3553.1            NaN              NaN\n",
       "\n",
       "[756378 rows x 3 columns]"
      ]
     },
     "execution_count": 458,
     "metadata": {},
     "output_type": "execute_result"
    }
   ],
   "source": [
    "# Now we have recovered elivations for the elivations that are -999.9. \n",
    "paired_df_.loc[:, ['elevation','elevation_rec', 'elevation_source']].sort_values(['elevation'], ascending = True)"
   ]
  },
  {
   "cell_type": "code",
   "execution_count": 459,
   "metadata": {},
   "outputs": [],
   "source": [
    "# Remove bad elevation values Wre the station eleivation is less than -10000 \n",
    "paired_df_.loc[paired_df_['elevation_rec'] < -10000.0, 'elevation_rec'] = np.nan "
   ]
  },
  {
   "cell_type": "code",
   "execution_count": 460,
   "metadata": {},
   "outputs": [],
   "source": [
    "# If we are NOT replacing a value, change elevation_source to ghnc_d\n",
    "paired_df_['elevation_source'] = np.where((paired_df_['elevation'] != -999.9) | (paired_df_['elevation'].isna()), 'ghcn_d', paired_df_['elevation_source'])\n",
    "\n",
    "\n",
    "# Replace the elivations with -999.9 with the value of elevation_rec \n",
    "paired_df_.loc[paired_df_['elevation'] == -999.9] \n",
    "paired_df_['elevation'] = np.where(paired_df_['elevation'] == -999.9, paired_df_['elevation_rec'], paired_df_['elevation'])\n",
    "paired_df_['elevation'] = paired_df_['elevation'].astype('str')\n",
    "\n"
   ]
  },
  {
   "cell_type": "code",
   "execution_count": 461,
   "metadata": {},
   "outputs": [
    {
     "data": {
      "text/html": [
       "<div>\n",
       "<style scoped>\n",
       "    .dataframe tbody tr th:only-of-type {\n",
       "        vertical-align: middle;\n",
       "    }\n",
       "\n",
       "    .dataframe tbody tr th {\n",
       "        vertical-align: top;\n",
       "    }\n",
       "\n",
       "    .dataframe thead th {\n",
       "        text-align: right;\n",
       "    }\n",
       "</style>\n",
       "<table border=\"1\" class=\"dataframe\">\n",
       "  <thead>\n",
       "    <tr style=\"text-align: right;\">\n",
       "      <th></th>\n",
       "      <th>circle_elev</th>\n",
       "      <th>id</th>\n",
       "      <th>elevation</th>\n",
       "      <th>elevation_rec</th>\n",
       "      <th>elevation_source</th>\n",
       "    </tr>\n",
       "  </thead>\n",
       "  <tbody>\n",
       "    <tr>\n",
       "      <th>388466</th>\n",
       "      <td>0.09</td>\n",
       "      <td>USC00081305</td>\n",
       "      <td>-0.14</td>\n",
       "      <td>-0.14</td>\n",
       "      <td>usgs_api</td>\n",
       "    </tr>\n",
       "    <tr>\n",
       "      <th>388540</th>\n",
       "      <td>0.09</td>\n",
       "      <td>USC00081305</td>\n",
       "      <td>-0.14</td>\n",
       "      <td>-0.14</td>\n",
       "      <td>usgs_api</td>\n",
       "    </tr>\n",
       "    <tr>\n",
       "      <th>388543</th>\n",
       "      <td>0.09</td>\n",
       "      <td>USC00081305</td>\n",
       "      <td>-0.14</td>\n",
       "      <td>-0.14</td>\n",
       "      <td>usgs_api</td>\n",
       "    </tr>\n",
       "    <tr>\n",
       "      <th>388548</th>\n",
       "      <td>0.09</td>\n",
       "      <td>USC00081305</td>\n",
       "      <td>-0.14</td>\n",
       "      <td>-0.14</td>\n",
       "      <td>usgs_api</td>\n",
       "    </tr>\n",
       "    <tr>\n",
       "      <th>388550</th>\n",
       "      <td>0.09</td>\n",
       "      <td>USC00081305</td>\n",
       "      <td>-0.14</td>\n",
       "      <td>-0.14</td>\n",
       "      <td>usgs_api</td>\n",
       "    </tr>\n",
       "    <tr>\n",
       "      <th>...</th>\n",
       "      <td>...</td>\n",
       "      <td>...</td>\n",
       "      <td>...</td>\n",
       "      <td>...</td>\n",
       "      <td>...</td>\n",
       "    </tr>\n",
       "    <tr>\n",
       "      <th>745607</th>\n",
       "      <td>NaN</td>\n",
       "      <td>USC00516271</td>\n",
       "      <td>nan</td>\n",
       "      <td>NaN</td>\n",
       "      <td>usgs_api</td>\n",
       "    </tr>\n",
       "    <tr>\n",
       "      <th>745612</th>\n",
       "      <td>NaN</td>\n",
       "      <td>USC00516271</td>\n",
       "      <td>nan</td>\n",
       "      <td>NaN</td>\n",
       "      <td>usgs_api</td>\n",
       "    </tr>\n",
       "    <tr>\n",
       "      <th>745614</th>\n",
       "      <td>NaN</td>\n",
       "      <td>USC00516271</td>\n",
       "      <td>nan</td>\n",
       "      <td>NaN</td>\n",
       "      <td>usgs_api</td>\n",
       "    </tr>\n",
       "    <tr>\n",
       "      <th>745624</th>\n",
       "      <td>NaN</td>\n",
       "      <td>USC00516271</td>\n",
       "      <td>nan</td>\n",
       "      <td>NaN</td>\n",
       "      <td>usgs_api</td>\n",
       "    </tr>\n",
       "    <tr>\n",
       "      <th>745595</th>\n",
       "      <td>NaN</td>\n",
       "      <td>USC00516271</td>\n",
       "      <td>nan</td>\n",
       "      <td>NaN</td>\n",
       "      <td>usgs_api</td>\n",
       "    </tr>\n",
       "  </tbody>\n",
       "</table>\n",
       "<p>756378 rows × 5 columns</p>\n",
       "</div>"
      ],
      "text/plain": [
       "        circle_elev           id elevation  elevation_rec elevation_source\n",
       "388466         0.09  USC00081305     -0.14          -0.14         usgs_api\n",
       "388540         0.09  USC00081305     -0.14          -0.14         usgs_api\n",
       "388543         0.09  USC00081305     -0.14          -0.14         usgs_api\n",
       "388548         0.09  USC00081305     -0.14          -0.14         usgs_api\n",
       "388550         0.09  USC00081305     -0.14          -0.14         usgs_api\n",
       "...             ...          ...       ...            ...              ...\n",
       "745607          NaN  USC00516271       nan            NaN         usgs_api\n",
       "745612          NaN  USC00516271       nan            NaN         usgs_api\n",
       "745614          NaN  USC00516271       nan            NaN         usgs_api\n",
       "745624          NaN  USC00516271       nan            NaN         usgs_api\n",
       "745595          NaN  USC00516271       nan            NaN         usgs_api\n",
       "\n",
       "[756378 rows x 5 columns]"
      ]
     },
     "execution_count": 461,
     "metadata": {},
     "output_type": "execute_result"
    }
   ],
   "source": [
    "# Now we have recovered elivations for the elivations that are -999.9. \n",
    "paired_df_.loc[:, ['circle_elev','id', 'elevation','elevation_rec', 'elevation_source']].sort_values(['elevation'], ascending = True)\n",
    "\n"
   ]
  },
  {
   "cell_type": "code",
   "execution_count": 462,
   "metadata": {},
   "outputs": [],
   "source": [
    "# Remove the elevation_rec field since we incorperated the data into the elevation field \n",
    "paired_df_ = paired_df_.drop(columns = 'elevation_rec')"
   ]
  },
  {
   "cell_type": "markdown",
   "metadata": {},
   "source": [
    "# Check the Final Output"
   ]
  },
  {
   "cell_type": "code",
   "execution_count": 463,
   "metadata": {},
   "outputs": [
    {
     "data": {
      "text/plain": [
       "756378"
      ]
     },
     "execution_count": 463,
     "metadata": {},
     "output_type": "execute_result"
    }
   ],
   "source": [
    "# Same number of rows? Should be 109390\n",
    "len(paired_df_.index)"
   ]
  },
  {
   "cell_type": "code",
   "execution_count": 464,
   "metadata": {},
   "outputs": [],
   "source": [
    "# sort dataframe on existing index\n",
    "paired_df_.sort_values(['ui'], ascending=[True], inplace=True)"
   ]
  },
  {
   "cell_type": "code",
   "execution_count": 465,
   "metadata": {},
   "outputs": [],
   "source": [
    "# Remove the temp key \n",
    "# Drop the temportary key \n",
    "paired_df_ = paired_df_.drop(\"temp_key_str\",axis=1)"
   ]
  },
  {
   "cell_type": "code",
   "execution_count": 466,
   "metadata": {},
   "outputs": [
    {
     "data": {
      "text/html": [
       "<div>\n",
       "<style scoped>\n",
       "    .dataframe tbody tr th:only-of-type {\n",
       "        vertical-align: middle;\n",
       "    }\n",
       "\n",
       "    .dataframe tbody tr th {\n",
       "        vertical-align: top;\n",
       "    }\n",
       "\n",
       "    .dataframe thead th {\n",
       "        text-align: right;\n",
       "    }\n",
       "</style>\n",
       "<table border=\"1\" class=\"dataframe\">\n",
       "  <thead>\n",
       "    <tr style=\"text-align: right;\">\n",
       "      <th></th>\n",
       "      <th>circle_name</th>\n",
       "      <th>country_state</th>\n",
       "      <th>lat</th>\n",
       "      <th>lon</th>\n",
       "      <th>count_year</th>\n",
       "      <th>count_date</th>\n",
       "      <th>n_field_counters</th>\n",
       "      <th>n_feeder_counters</th>\n",
       "      <th>min_field_parties</th>\n",
       "      <th>max_field_parties</th>\n",
       "      <th>...</th>\n",
       "      <th>precipitation_value</th>\n",
       "      <th>temp_avg</th>\n",
       "      <th>snow</th>\n",
       "      <th>snwd</th>\n",
       "      <th>am_rain</th>\n",
       "      <th>pm_rain</th>\n",
       "      <th>am_snow</th>\n",
       "      <th>pm_snow</th>\n",
       "      <th>circle_elev</th>\n",
       "      <th>elevation_source</th>\n",
       "    </tr>\n",
       "  </thead>\n",
       "  <tbody>\n",
       "    <tr>\n",
       "      <th>748672</th>\n",
       "      <td>Hawai'i: Volcano N.P.</td>\n",
       "      <td>US-HI</td>\n",
       "      <td>19.4333</td>\n",
       "      <td>-155.2833</td>\n",
       "      <td>1955</td>\n",
       "      <td>1955-01-01</td>\n",
       "      <td>11.0</td>\n",
       "      <td>NaN</td>\n",
       "      <td>NaN</td>\n",
       "      <td>NaN</td>\n",
       "      <td>...</td>\n",
       "      <td>180.0</td>\n",
       "      <td>NaN</td>\n",
       "      <td>0.0</td>\n",
       "      <td>0.0</td>\n",
       "      <td>NaN</td>\n",
       "      <td>NaN</td>\n",
       "      <td>NaN</td>\n",
       "      <td>NaN</td>\n",
       "      <td>1228.18</td>\n",
       "      <td>ghcn_d</td>\n",
       "    </tr>\n",
       "    <tr>\n",
       "      <th>748673</th>\n",
       "      <td>Hawai'i: Volcano N.P.</td>\n",
       "      <td>US-HI</td>\n",
       "      <td>19.4333</td>\n",
       "      <td>-155.2833</td>\n",
       "      <td>1956</td>\n",
       "      <td>1955-12-31</td>\n",
       "      <td>11.0</td>\n",
       "      <td>NaN</td>\n",
       "      <td>NaN</td>\n",
       "      <td>NaN</td>\n",
       "      <td>...</td>\n",
       "      <td>290.0</td>\n",
       "      <td>NaN</td>\n",
       "      <td>0.0</td>\n",
       "      <td>0.0</td>\n",
       "      <td>NaN</td>\n",
       "      <td>NaN</td>\n",
       "      <td>NaN</td>\n",
       "      <td>NaN</td>\n",
       "      <td>1228.18</td>\n",
       "      <td>ghcn_d</td>\n",
       "    </tr>\n",
       "    <tr>\n",
       "      <th>748674</th>\n",
       "      <td>Hawai'i: Volcano N.P.</td>\n",
       "      <td>US-HI</td>\n",
       "      <td>19.4333</td>\n",
       "      <td>-155.2833</td>\n",
       "      <td>1968</td>\n",
       "      <td>1967-12-30</td>\n",
       "      <td>2.0</td>\n",
       "      <td>NaN</td>\n",
       "      <td>NaN</td>\n",
       "      <td>NaN</td>\n",
       "      <td>...</td>\n",
       "      <td>NaN</td>\n",
       "      <td>NaN</td>\n",
       "      <td>NaN</td>\n",
       "      <td>NaN</td>\n",
       "      <td>3</td>\n",
       "      <td>2</td>\n",
       "      <td>3</td>\n",
       "      <td>3</td>\n",
       "      <td>1228.18</td>\n",
       "      <td>ghcn_d</td>\n",
       "    </tr>\n",
       "    <tr>\n",
       "      <th>748675</th>\n",
       "      <td>Hawai'i: Volcano N.P.</td>\n",
       "      <td>US-HI</td>\n",
       "      <td>19.4333</td>\n",
       "      <td>-155.2833</td>\n",
       "      <td>1968</td>\n",
       "      <td>1967-12-30</td>\n",
       "      <td>2.0</td>\n",
       "      <td>NaN</td>\n",
       "      <td>NaN</td>\n",
       "      <td>NaN</td>\n",
       "      <td>...</td>\n",
       "      <td>NaN</td>\n",
       "      <td>NaN</td>\n",
       "      <td>NaN</td>\n",
       "      <td>NaN</td>\n",
       "      <td>3</td>\n",
       "      <td>2</td>\n",
       "      <td>3</td>\n",
       "      <td>3</td>\n",
       "      <td>1228.18</td>\n",
       "      <td>ghcn_d</td>\n",
       "    </tr>\n",
       "    <tr>\n",
       "      <th>748676</th>\n",
       "      <td>Hawai'i: Volcano N.P.</td>\n",
       "      <td>US-HI</td>\n",
       "      <td>19.4333</td>\n",
       "      <td>-155.2833</td>\n",
       "      <td>1968</td>\n",
       "      <td>1967-12-30</td>\n",
       "      <td>2.0</td>\n",
       "      <td>NaN</td>\n",
       "      <td>NaN</td>\n",
       "      <td>NaN</td>\n",
       "      <td>...</td>\n",
       "      <td>NaN</td>\n",
       "      <td>NaN</td>\n",
       "      <td>NaN</td>\n",
       "      <td>NaN</td>\n",
       "      <td>3</td>\n",
       "      <td>2</td>\n",
       "      <td>3</td>\n",
       "      <td>3</td>\n",
       "      <td>1228.18</td>\n",
       "      <td>usgs_api</td>\n",
       "    </tr>\n",
       "  </tbody>\n",
       "</table>\n",
       "<p>5 rows × 68 columns</p>\n",
       "</div>"
      ],
      "text/plain": [
       "                  circle_name country_state      lat       lon  count_year  \\\n",
       "748672  Hawai'i: Volcano N.P.         US-HI  19.4333 -155.2833        1955   \n",
       "748673  Hawai'i: Volcano N.P.         US-HI  19.4333 -155.2833        1956   \n",
       "748674  Hawai'i: Volcano N.P.         US-HI  19.4333 -155.2833        1968   \n",
       "748675  Hawai'i: Volcano N.P.         US-HI  19.4333 -155.2833        1968   \n",
       "748676  Hawai'i: Volcano N.P.         US-HI  19.4333 -155.2833        1968   \n",
       "\n",
       "        count_date  n_field_counters  n_feeder_counters  min_field_parties  \\\n",
       "748672  1955-01-01              11.0                NaN                NaN   \n",
       "748673  1955-12-31              11.0                NaN                NaN   \n",
       "748674  1967-12-30               2.0                NaN                NaN   \n",
       "748675  1967-12-30               2.0                NaN                NaN   \n",
       "748676  1967-12-30               2.0                NaN                NaN   \n",
       "\n",
       "        max_field_parties  ...  precipitation_value  temp_avg  snow  snwd  \\\n",
       "748672                NaN  ...                180.0       NaN   0.0   0.0   \n",
       "748673                NaN  ...                290.0       NaN   0.0   0.0   \n",
       "748674                NaN  ...                  NaN       NaN   NaN   NaN   \n",
       "748675                NaN  ...                  NaN       NaN   NaN   NaN   \n",
       "748676                NaN  ...                  NaN       NaN   NaN   NaN   \n",
       "\n",
       "        am_rain pm_rain  am_snow  pm_snow  circle_elev  elevation_source  \n",
       "748672      NaN     NaN      NaN      NaN      1228.18            ghcn_d  \n",
       "748673      NaN     NaN      NaN      NaN      1228.18            ghcn_d  \n",
       "748674        3       2        3        3      1228.18            ghcn_d  \n",
       "748675        3       2        3        3      1228.18            ghcn_d  \n",
       "748676        3       2        3        3      1228.18          usgs_api  \n",
       "\n",
       "[5 rows x 68 columns]"
      ]
     },
     "execution_count": 466,
     "metadata": {},
     "output_type": "execute_result"
    }
   ],
   "source": [
    "paired_df_.head()"
   ]
  },
  {
   "cell_type": "code",
   "execution_count": 467,
   "metadata": {},
   "outputs": [
    {
     "name": "stdout",
     "output_type": "stream",
     "text": [
      "Missing elevations:\n"
     ]
    },
    {
     "data": {
      "text/plain": [
       "False    755639\n",
       "True        739\n",
       "Name: circle_elev, dtype: int64"
      ]
     },
     "execution_count": 467,
     "metadata": {},
     "output_type": "execute_result"
    }
   ],
   "source": [
    "print('Missing elevations:')\n",
    "paired_df_['circle_elev'].isna().value_counts()"
   ]
  },
  {
   "cell_type": "code",
   "execution_count": 468,
   "metadata": {},
   "outputs": [
    {
     "name": "stdout",
     "output_type": "stream",
     "text": [
      "How many elevations at sea level?\n"
     ]
    },
    {
     "data": {
      "text/plain": [
       "(8531, 68)"
      ]
     },
     "execution_count": 468,
     "metadata": {},
     "output_type": "execute_result"
    }
   ],
   "source": [
    "print('How many elevations at sea level?')\n",
    "paired_df_.loc[paired_df_['circle_elev'] == 0.0].shape"
   ]
  },
  {
   "cell_type": "markdown",
   "metadata": {},
   "source": [
    "## Save the output"
   ]
  },
  {
   "cell_type": "code",
   "execution_count": 469,
   "metadata": {},
   "outputs": [
    {
     "data": {
      "text/plain": [
       "(756378, 68)"
      ]
     },
     "execution_count": 469,
     "metadata": {},
     "output_type": "execute_result"
    }
   ],
   "source": [
    "#But First Some QA checks (Should be checked against the input file and previous notebooks)\n",
    "paired_df_.shape"
   ]
  },
  {
   "cell_type": "code",
   "execution_count": 470,
   "metadata": {},
   "outputs": [
    {
     "data": {
      "text/plain": [
       "80765"
      ]
     },
     "execution_count": 470,
     "metadata": {},
     "output_type": "execute_result"
    }
   ],
   "source": [
    "paired_df_['ui'].nunique()"
   ]
  },
  {
   "cell_type": "code",
   "execution_count": 471,
   "metadata": {},
   "outputs": [],
   "source": [
    "paired_df_.to_csv(\"../data/Cloud_Data/1.2.1-ijd-fetch-circle-elevations_\"+time_now+\".txt\", \n",
    "                     sep='\\t', \n",
    "                     compression='gzip',\n",
    "                     index=False)"
   ]
  },
  {
   "cell_type": "code",
   "execution_count": null,
   "metadata": {},
   "outputs": [],
   "source": []
  }
 ],
 "metadata": {
  "kernelspec": {
   "display_name": "Python 3",
   "language": "python",
   "name": "python3"
  },
  "language_info": {
   "codemirror_mode": {
    "name": "ipython",
    "version": 3
   },
   "file_extension": ".py",
   "mimetype": "text/x-python",
   "name": "python",
   "nbconvert_exporter": "python",
   "pygments_lexer": "ipython3",
   "version": "3.7.1"
  }
 },
 "nbformat": 4,
 "nbformat_minor": 4
}
