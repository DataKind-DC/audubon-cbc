{
 "cells": [
  {
   "cell_type": "markdown",
   "metadata": {},
   "source": [
    "# Notebook Create DB Views\n",
    "## Creating a DB View to query ALL NOAA stations for various years\n",
    "The below notebook creates a DB View in your Google BigQuery project. A view is a prepackaged query that does not take up space in your DB. The query is a UNION ALL over the years selected as a parameter."
   ]
  },
  {
   "cell_type": "code",
   "execution_count": 1,
   "metadata": {
    "scrolled": true
   },
   "outputs": [
    {
     "name": "stdout",
     "output_type": "stream",
     "text": [
      "Successfully created view at birdproject-2020:audubon_cdc.noaa_from_1900_to_present\n"
     ]
    }
   ],
   "source": [
    "import os\n",
    "# The path to your json credentials file. Replace with your corresponding file.\n",
    "os.environ[\"GOOGLE_APPLICATION_CREDENTIALS\"] = \"/home/fjvr/Downloads/birdproject-2020-3cdcf7c1792d.json\"\n",
    "\n",
    "from google.cloud import bigquery\n",
    "client = bigquery.Client()\n",
    "project = 'birdproject-2020' # Change this project to your \n",
    "source_dataset_id = 'audubon_cdc'\n",
    "# source_table_id = 'us_states'\n",
    "shared_dataset_ref = client.dataset(source_dataset_id)\n",
    "\n",
    "# This is the parameter used to create the years that will go into the view\n",
    "year = 1900\n",
    "\n",
    "# The name of the view in our DB\n",
    "view_ref = shared_dataset_ref.table(\"noaa_from_\" + str(year) + \"_to_present\")\n",
    "view = bigquery.Table(view_ref)\n",
    "\n",
    "# The string that will contain the SQL we will use to create our view\n",
    "sql_statement_accumulated = \"\"\n",
    "tables_used = []\n",
    "tables = client.list_tables(\"bigquery-public-data.ghcn_d\")\n",
    "\n",
    "# Iterate over all tables in the schema and store the tables we will use in the tables_used array\n",
    "for table in tables:\n",
    "    try:\n",
    "        if int(table.table_id[-4:]) >= year:\n",
    "            tables_used.append(table.table_id)\n",
    "    except:\n",
    "        pass\n",
    "    \n",
    "# Iterate over all values in an array and annex to the sql_statement_accumulated\n",
    "for index in range(0,len(tables_used)):\n",
    "    if index == len(tables_used) - 1:\n",
    "        sql_template = 'SELECT * FROM `{}`'\n",
    "        sql_statement_accumulated = sql_statement_accumulated + sql_template.format(\"bigquery-public-data.ghcn_d.\" + str(tables_used[index]))\n",
    "    else:\n",
    "        sql_template = 'SELECT * FROM `{}` UNION ALL '\n",
    "        sql_statement_accumulated = sql_statement_accumulated + sql_template.format(\"bigquery-public-data.ghcn_d.\" + str(tables_used[index]))\n",
    "        \n",
    "\n",
    "# Assiging the SQL to the associated view\n",
    "view.view_query = sql_statement_accumulated\n",
    "view = client.create_table(view)  # API request\n",
    "\n",
    "print(\"Successfully created view at {}\".format(view.full_table_id))"
   ]
  },
  {
   "cell_type": "markdown",
   "metadata": {},
   "source": [
    "## Creating the DB View to flatten the data\n",
    "The below notebook creates a DB View in your Google BigQuery project consisting of the flatten data from the union of all data from NOAA stations given the specified year."
   ]
  },
  {
   "cell_type": "code",
   "execution_count": 2,
   "metadata": {
    "scrolled": true
   },
   "outputs": [
    {
     "name": "stdout",
     "output_type": "stream",
     "text": [
      "Successfully created view at birdproject-2020:audubon_cdc.flatten_noaa_from_1900_to_present\n"
     ]
    }
   ],
   "source": [
    "import pandas as pd\n",
    "\n",
    "# Query for flattening the data\n",
    "query = \"\"\"\n",
    "SELECT DISTINCT\n",
    "  base.id, \n",
    "  base.date,\n",
    "  stations.name,\n",
    "  stations.state,\n",
    "  temp_min.value as temp_min_value,\n",
    "  temp_max.value as temp_max_value,\n",
    "  precipitation.value as precipitation_value,\n",
    "  temp_avg.value as temp_avg,\n",
    "  snow.value as snow,\n",
    "  snwd.value as snwd\n",
    "\n",
    "FROM {} base\n",
    "LEFT JOIN {} temp_min ON base.id = temp_min.id AND base.date = temp_min.date AND temp_min.element = 'TMIN'\n",
    "LEFT JOIN {} temp_max ON base.id = temp_max.id AND base.date = temp_max.date AND temp_max.element = 'TMAX'\n",
    "LEFT JOIN {} precipitation ON base.id = precipitation.id AND base.date = precipitation.date AND precipitation.element = 'PRCP'\n",
    "LEFT JOIN {} temp_avg ON base.id = temp_avg.id AND base.date = temp_avg.date AND temp_avg.element = 'TAVG'\n",
    "LEFT JOIN {} snow ON base.id = snow.id AND base.date = snow.date AND snow.element = 'SNOW'\n",
    "LEFT JOIN {} snwd ON base.id = snwd.id AND base.date = snwd.date AND snwd.element = 'SNWD'\n",
    "\n",
    "INNER JOIN `bigquery-public-data`.ghcn_d.ghcnd_stations stations ON base.id = stations.id\n",
    "\n",
    "ORDER BY base.id, base.date\n",
    "\"\"\"\n",
    "\n",
    "# This is the from clause table we will use in our project. \n",
    "# Please replace `fjvr-testing` with your PROJECT NAME\n",
    "parameter = f\"`{project}`.audubon_cdc.noaa_from_1900_to_present\"\n",
    "# In this statement we replace the {} with the corresponding table parameter\n",
    "query = query.format(parameter,parameter,parameter,parameter,parameter,parameter,parameter)\n",
    "\n",
    "# Name of the view in our DB\n",
    "view_ref = shared_dataset_ref.table(\"flatten_noaa_from_\" + str(year) + \"_to_present\")\n",
    "view = bigquery.Table(view_ref)\n",
    "\n",
    "# Assigning the SQL string to the view query\n",
    "view.view_query = query\n",
    "\n",
    "# Creating the view associated with the query\n",
    "view = client.create_table(view)  # API request\n",
    "\n",
    "print(\"Successfully created view at {}\".format(view.full_table_id))"
   ]
  }
 ],
 "metadata": {
  "kernelspec": {
   "display_name": "Python 3",
   "language": "python",
   "name": "python3"
  },
  "language_info": {
   "codemirror_mode": {
    "name": "ipython",
    "version": 3
   },
   "file_extension": ".py",
   "mimetype": "text/x-python",
   "name": "python",
   "nbconvert_exporter": "python",
   "pygments_lexer": "ipython3",
   "version": "3.7.7"
  }
 },
 "nbformat": 4,
 "nbformat_minor": 2
}
