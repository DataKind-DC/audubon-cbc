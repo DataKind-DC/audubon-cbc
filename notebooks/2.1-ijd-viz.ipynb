{
 "cells": [
  {
   "cell_type": "markdown",
   "metadata": {},
   "source": [
    "# Data Viz\n",
    "### Purpose\n",
    "The purpose of this notebook is to create some data visualizations to be used in the project sponser update.\n",
    "\n",
    "### Author: \n",
    "Ian Davis\n",
    "### Date: \n",
    "2020-09-05\n",
    "### Update Date: \n",
    "2020-09-05\n",
    "\n",
    "### Inputs \n",
    "1.3-rec-connecting-fips-ecosystem-data.csv - Comma separate file of the Christmas Bird Count and matches to 1 or more NOAA weather stations.\n",
    "- Data Dictonary can be found here: http://www.audubon.org/sites/default/files/documents/cbc_report_field_definitions_2013.pdf\n",
    "\n",
    "### Output Files\n",
    "Plot html's\n",
    "\n",
    "## Steps or Proceedures in the notebook \n",
    "- Set runtime options\n",
    "- Import data\n",
    "- Plots\n",
    "    - Histogram of station distances\n",
    "\n",
    "## References\n",
    "- Figure Factory: # https://stackoverflow.com/questions/54734667/error-installing-geopandas-a-gdal-api-version-must-be-specified-in-anaconda\n",
    "- FIPS query: https://gis.stackexchange.com/questions/294641/python-code-for-transforming-lat-long-into-fips-codes\n",
    "- FIPS query: https://geo.fcc.gov/api/census/#!/block/get_block_find\n",
    "- Geojson: https://geoffboeing.com/2015/10/exporting-python-data-geojson/\n",
    "- Installing geopandas: https://stackoverflow.com/questions/54734667/error-installing-geopandas-a-gdal-api-version-must-be-specified-in-anaconda\n",
    "- Colorscale: https://plotly.com/python/county-choropleth/\n",
    "- Colors: http://www.impactlab.org/map/#usmeas=absolute&usyear=1981-2010&gmeas=absolute&gyear=1986-2005"
   ]
  },
  {
   "cell_type": "markdown",
   "metadata": {},
   "source": [
    "### See data dictionary: \n",
    "\n",
    "http://www.audubon.org/sites/default/files/documents/cbc_report_field_definitions_2013.pdf"
   ]
  },
  {
   "cell_type": "code",
   "execution_count": 1,
   "metadata": {},
   "outputs": [],
   "source": [
    "import numpy as np\n",
    "import pandas as pd\n",
    "import datetime\n",
    "from scipy import stats\n",
    "import sys\n",
    "import gzip\n",
    "import shutil\n",
    "\n",
    "# for plotting\n",
    "import plotly.express as px\n",
    "import plotly.offline as ply\n",
    "import plotly.graph_objects as go\n",
    "import plotly.figure_factory as ff\n",
    "\n",
    "# for GIS\n",
    "import requests\n",
    "import urllib\n",
    "from urllib.request import urlopen\n",
    "import json\n",
    "\n",
    "# add scripts folder to path\n",
    "sys.path.insert(1, '../scripts')\n",
    "\n",
    "# user import\n",
    "from calcs import main_calcs\n",
    "from calcs import haversine_formula"
   ]
  },
  {
   "cell_type": "code",
   "execution_count": 2,
   "metadata": {},
   "outputs": [],
   "source": [
    "# File Paths\n",
    "PATH_TO_PAIRED_DATA = '../data/Cloud_data/1.3-rec-connecting-fips-ecosystem-data.txt'\n",
    "PATH_TO_FIPS = \"../data/Cloud_data/1.3.1-ijd-circles_and_fips.csv\"\n",
    "\n",
    "# User Options\n",
    "offline_fips = True    # Get FIPS codes from offline .csv file\n",
    "popen = True           # Auto-open plot HTML files when generated"
   ]
  },
  {
   "cell_type": "markdown",
   "metadata": {},
   "source": [
    "## Functions"
   ]
  },
  {
   "cell_type": "code",
   "execution_count": 3,
   "metadata": {},
   "outputs": [],
   "source": [
    "# Function to query and get FIPS county codes.\n",
    "def get_fips(lat, lon):\n",
    "    # Encode parameters\n",
    "    params = urllib.parse.urlencode({'latitude': lat, 'longitude': lon, 'format': 'json'})\n",
    "    # Contruct request URL\n",
    "    url = 'https://geo.fcc.gov/api/census/block/find?' + params\n",
    "\n",
    "    # Get response from API\n",
    "    response = requests.get(url)\n",
    "\n",
    "    # Parse json in response\n",
    "    data = response.json()\n",
    "\n",
    "    fips = data['County']['FIPS']\n",
    "\n",
    "    print(lat, lon, fips)\n",
    "\n",
    "    try:\n",
    "        return float(fips)\n",
    "    except:\n",
    "        return np.nan"
   ]
  },
  {
   "cell_type": "code",
   "execution_count": 4,
   "metadata": {},
   "outputs": [],
   "source": [
    "# Convert dataframe to geojson (UN-USED BELOW)\n",
    "def df_to_geojson(df, properties, lat='latitude', lon='longitude'):\n",
    "    geojson = {'type':'FeatureCollection', 'features':[]}\n",
    "    for _, row in df.iterrows():\n",
    "        feature = {'type':'Feature',\n",
    "                   'properties':{},\n",
    "                   'geometry':{'type':'Point',\n",
    "                               'coordinates':[]}}\n",
    "        feature['geometry']['coordinates'] = [row[lon],row[lat]]\n",
    "        for prop in properties:\n",
    "            feature['properties'][prop] = row[prop]\n",
    "        geojson['features'].append(feature)\n",
    "    return geojson"
   ]
  },
  {
   "cell_type": "markdown",
   "metadata": {},
   "source": [
    "## Read in Data"
   ]
  },
  {
   "cell_type": "code",
   "execution_count": 5,
   "metadata": {},
   "outputs": [],
   "source": [
    "# Select subset of columns to read in\n",
    "# IJD: I was running into memory issues loading the whole dataset\n",
    "# Only read in certain columns\n",
    "fields = ['circle_name',\n",
    "          'circle_id',\n",
    "          'id',\n",
    "          'ui',\n",
    "          'lat',              # circle\n",
    "          'lon',              # circle\n",
    "          'county_fips',      # circle\n",
    "          'country_state',\n",
    "          'count_year',\n",
    "          'count_date',\n",
    "          'latitude',         # noaa\n",
    "          'longitude',        # noaa\n",
    "          'circle_elev',      # circle\n",
    "          'elevation',        # noaa\n",
    "          'min_snow',         # circle\n",
    "          'max_snow',         # circle\n",
    "          'am_rain',          # circle\n",
    "          'pm_rain',          # circle\n",
    "          'max_temp',         # circle\n",
    "          'min_temp',         # circle\n",
    "          'temp_max_value',   # noaa\n",
    "          'temp_min_value'    # noaa\n",
    "          ]"
   ]
  },
  {
   "cell_type": "code",
   "execution_count": 6,
   "metadata": {},
   "outputs": [
    {
     "name": "stderr",
     "output_type": "stream",
     "text": [
      "c:\\program files (x86)\\python38-32\\lib\\site-packages\\IPython\\core\\interactiveshell.py:3145: DtypeWarning:\n",
      "\n",
      "Columns (62) have mixed types.Specify dtype option on import or set low_memory=False.\n",
      "\n"
     ]
    }
   ],
   "source": [
    "# read in data\n",
    "df_paired = pd.read_csv(PATH_TO_PAIRED_DATA,\n",
    "                        compression='gzip',\n",
    "                        sep='\\t',\n",
    "                        skipinitialspace=True,\n",
    "                        usecols=fields)"
   ]
  },
  {
   "cell_type": "markdown",
   "metadata": {},
   "source": [
    "## Data Screening & Filtering"
   ]
  },
  {
   "cell_type": "code",
   "execution_count": 7,
   "metadata": {},
   "outputs": [],
   "source": [
    "# Copied in some calculations from calcs.py\n",
    "for chunk in np.array_split(df_paired, 4):\n",
    "    df_paired.loc[chunk.index, 'distance'] = df_paired.loc[chunk.index, ['lat', 'lon', 'latitude', 'longitude']].apply(haversine_formula, axis=1)\n",
    "\n",
    "    # calculate elevation difference between circles and stations\n",
    "    df_paired.loc[chunk.index, 'elev_diff'] = df_paired.loc[chunk.index, 'circle_elev'] - df_paired.loc[chunk.index, 'elevation']\n",
    "    df_paired.loc[chunk.index, 'elev_diff'] = df_paired.loc[chunk.index, 'elev_diff'].abs()\n",
    "    \n",
    "    # Convert NOAA temperatures from a tenth of a degree to degrees\n",
    "    df_paired.loc[:, 'noaa_tmax_value'] = df_paired.loc[:, 'temp_max_value'] / 10.0 * 1.8 + 32.0\n",
    "    df_paired.loc[:, 'noaa_tmin_value'] = df_paired.loc[:, 'temp_min_value'] / 10.0 * 1.8 + 32.0\n",
    "\n",
    "    # Remove temperature errors\n",
    "    df_paired.loc[df_paired['max_temp'] > 150.0, 'max_temp'] = np.nan\n",
    "    df_paired.loc[df_paired['noaa_tmax_value'] > 150.0, 'noaa_tmax_value'] = np.nan"
   ]
  },
  {
   "cell_type": "code",
   "execution_count": 8,
   "metadata": {},
   "outputs": [
    {
     "name": "stdout",
     "output_type": "stream",
     "text": [
      "The number of unique Lat Lon combos in the dataset is: \n",
      "(756378, 5)\n",
      "(3848, 5)\n"
     ]
    }
   ],
   "source": [
    "# Create a Temportary String to Merge on\n",
    "df_paired['temp_key_str'] = round(df_paired['lat'],3).astype(str) + round(df_paired['lon'],3).astype(str)\n",
    "print(\"The number of unique Lat Lon combos in the dataset is: \")\n",
    "df_paired['temp_key_str'].nunique()\n",
    "\n",
    "df_circle = df_paired[[\"lat\", \"lon\", \"temp_key_str\", \"circle_name\", \"county_fips\"]]\n",
    "print(df_circle.shape)\n",
    "df_circle = df_circle.drop_duplicates(\"temp_key_str\")\n",
    "print(df_circle.shape)"
   ]
  },
  {
   "cell_type": "code",
   "execution_count": 9,
   "metadata": {},
   "outputs": [
    {
     "name": "stdout",
     "output_type": "stream",
     "text": [
      "The number of county_fips Nan's is:\n",
      "322\n"
     ]
    }
   ],
   "source": [
    "# Get County FIPS codes (already ran this and saved the output to a .csv file)\n",
    "\n",
    "if not offline_fips:\n",
    "    df_circle.loc[:, 'county_fips'] = df_circle.loc[:, ['lat', 'lon']].apply(lambda x: get_fips(x['lat'], x['lon']), axis=1)\n",
    "    # Save to CSV\n",
    "    df_circle.to_csv(PATH_TO_FIPS, index=False)\n",
    "else:\n",
    "    df_circle = pd.read_csv(PATH_TO_FIPS)\n",
    "\n",
    "# Drop existing FIPS column\n",
    "df_paired.drop('county_fips', axis=1, inplace=True)\n",
    "# Merge with original dataset\n",
    "df_paired = pd.merge(df_paired,\n",
    "                     df_circle[['temp_key_str', 'county_fips']],\n",
    "                     on=['temp_key_str'],\n",
    "                     how='left',\n",
    "                     copy=False\n",
    "                     )\n",
    "\n",
    "# Sanity check (should be less that 2000 NaN's for county_fips\n",
    "print('The number of county_fips Nan\\'s is:')\n",
    "print(df_paired['county_fips'].isna().sum())"
   ]
  },
  {
   "cell_type": "markdown",
   "metadata": {},
   "source": [
    "## Make Plots"
   ]
  },
  {
   "cell_type": "markdown",
   "metadata": {},
   "source": [
    "### Unique Circle Locations"
   ]
  },
  {
   "cell_type": "code",
   "execution_count": 10,
   "metadata": {},
   "outputs": [
    {
     "data": {
      "text/plain": [
       "'../plots/circles.html'"
      ]
     },
     "execution_count": 10,
     "metadata": {},
     "output_type": "execute_result"
    }
   ],
   "source": [
    "# Map plot of all unique circles\n",
    "fig = go.Figure(data=go.Scattergeo(\n",
    "        lon = df_circle['lon'],\n",
    "        lat = df_circle['lat'],\n",
    "        text = df_circle['circle_name'],\n",
    "        mode = 'markers',\n",
    "        marker=dict(opacity=0.4,\n",
    "                    color=\"black\")\n",
    "        ))\n",
    "fig.update_layout(\n",
    "        title = 'Unique Circle Locations',\n",
    "        geo_scope='usa',\n",
    "    )\n",
    "ply.plot(fig, filename='../plots/circles.html', auto_open=popen)"
   ]
  },
  {
   "cell_type": "markdown",
   "metadata": {},
   "source": [
    "### Circle to NOAA Station Distances"
   ]
  },
  {
   "cell_type": "code",
   "execution_count": 11,
   "metadata": {},
   "outputs": [
    {
     "data": {
      "text/plain": [
       "'../plots/distance.html'"
      ]
     },
     "execution_count": 11,
     "metadata": {},
     "output_type": "execute_result"
    }
   ],
   "source": [
    "# Plot histogram of distances\n",
    "fig = go.Figure()\n",
    "fig.add_trace(go.Histogram(x=df_paired['distance'],\n",
    "                           nbinsx=50))\n",
    "fig.update_layout(title=\"Histogram of Distances Between Circles and Stations\",\n",
    "                  template=\"simple_white\")\n",
    "fig.update_xaxes(title_text='Distance [m]')\n",
    "fig.update_yaxes(title_text='Counts')\n",
    "ply.plot(fig, filename='../plots/distance.html', auto_open=popen)"
   ]
  },
  {
   "cell_type": "markdown",
   "metadata": {},
   "source": [
    "### Number of Matched Stations"
   ]
  },
  {
   "cell_type": "code",
   "execution_count": 12,
   "metadata": {},
   "outputs": [
    {
     "data": {
      "text/plain": [
       "'../plots/matches.html'"
      ]
     },
     "execution_count": 12,
     "metadata": {},
     "output_type": "execute_result"
    }
   ],
   "source": [
    "# Plot histogram of station matches\n",
    "fig = go.Figure()\n",
    "fig.add_trace(go.Histogram(x=df_paired['ui'].value_counts(),\n",
    "                           xbins=dict(start=0,\n",
    "                                      end=50,\n",
    "                                      size=1)))\n",
    "fig.update_layout(title=\"Histogram of NOAA Station Matches\",\n",
    "                  template=\"simple_white\")\n",
    "fig.update_xaxes(title_text='Number of Stations Matched')\n",
    "fig.update_yaxes(title_text='Counts')\n",
    "ply.plot(fig, filename='../plots/matches.html', auto_open=popen)"
   ]
  },
  {
   "cell_type": "markdown",
   "metadata": {},
   "source": [
    "### Elevation Differences"
   ]
  },
  {
   "cell_type": "code",
   "execution_count": 13,
   "metadata": {},
   "outputs": [
    {
     "data": {
      "text/plain": [
       "'../plots/elevation.html'"
      ]
     },
     "execution_count": 13,
     "metadata": {},
     "output_type": "execute_result"
    }
   ],
   "source": [
    "# Plot histogram of elevation difference\n",
    "fig = go.Figure()\n",
    "fig.add_trace(go.Histogram(x=df_paired['elev_diff'],\n",
    "                           xbins=dict(start=0,\n",
    "                                      end=500,\n",
    "                                      size=10)))\n",
    "fig.update_layout(title=\"Histogram of Elevation Difference Between Circles and Stations\",\n",
    "                  template=\"simple_white\")\n",
    "fig.update_xaxes(title_text='Elevation Change [m]')\n",
    "fig.update_yaxes(title_text='Counts')\n",
    "ply.plot(fig, filename='../plots/elevation.html', auto_open=popen)"
   ]
  },
  {
   "cell_type": "markdown",
   "metadata": {},
   "source": [
    "### Choropleth Map from GeoJSON"
   ]
  },
  {
   "cell_type": "code",
   "execution_count": 14,
   "metadata": {},
   "outputs": [],
   "source": [
    "# Download U.S. counties in JSON format\n",
    "with urlopen('https://raw.githubusercontent.com/plotly/datasets/master/geojson-counties-fips.json') as response:\n",
    "    counties = json.load(response)"
   ]
  },
  {
   "cell_type": "code",
   "execution_count": 15,
   "metadata": {},
   "outputs": [],
   "source": [
    "# Subset for 2010 data\n",
    "df_2010 = df_paired.loc[df_paired['count_year'] == 2010, ['lat', 'lon', 'country_state', 'max_temp', 'min_temp', 'county_fips']]\n",
    "df_2010 = df_2010.dropna(axis=0, subset=['max_temp', 'county_fips'])"
   ]
  },
  {
   "cell_type": "code",
   "execution_count": 16,
   "metadata": {},
   "outputs": [
    {
     "data": {
      "text/plain": [
       "'../plots/choropleth_json2.html'"
      ]
     },
     "execution_count": 16,
     "metadata": {},
     "output_type": "execute_result"
    }
   ],
   "source": [
    "fig = px.choropleth_mapbox(df_2010, geojson=counties, locations='county_fips', color='max_temp',\n",
    "                           color_continuous_scale=\"Reds\",\n",
    "                           range_color=(0, 100),\n",
    "                           mapbox_style=\"carto-positron\",\n",
    "                           zoom=3, center = {\"lat\": 37.0902, \"lon\": -95.7129},\n",
    "                           opacity=0.5,\n",
    "                           labels={'max_temp':'Maximum Temperature'}\n",
    "                          )\n",
    "fig.update_layout(margin={\"r\":0,\"t\":0,\"l\":0,\"b\":0})\n",
    "ply.plot(fig, filename='../plots/choropleth_json2.html', auto_open=popen)"
   ]
  },
  {
   "cell_type": "code",
   "execution_count": 17,
   "metadata": {},
   "outputs": [
    {
     "data": {
      "text/plain": [
       "93.0"
      ]
     },
     "execution_count": 17,
     "metadata": {},
     "output_type": "execute_result"
    }
   ],
   "source": [
    "df_paired['max_temp'].max()"
   ]
  },
  {
   "cell_type": "markdown",
   "metadata": {},
   "source": [
    "### Figure Factory Choropleth"
   ]
  },
  {
   "cell_type": "code",
   "execution_count": 18,
   "metadata": {},
   "outputs": [],
   "source": [
    "# Setup\n",
    "fips = df_2010['county_fips'].tolist()\n",
    "values = df_2010['max_temp'].tolist()\n",
    "\n",
    "colorscale = [\n",
    "    '#00ACC1',\n",
    "    '#26C6DA',\n",
    "    '#B2EBF2',\n",
    "    \"#FFF9C4\",\n",
    "    '#FFEE58',\n",
    "    '#FBC02D',\n",
    "    '#FF7043',\n",
    "    '#E64A19',\n",
    "]"
   ]
  },
  {
   "cell_type": "code",
   "execution_count": 19,
   "metadata": {},
   "outputs": [
    {
     "data": {
      "text/plain": [
       "'../plots/choropleth_ff.html'"
      ]
     },
     "execution_count": 19,
     "metadata": {},
     "output_type": "execute_result"
    }
   ],
   "source": [
    "fig = ff.create_choropleth(\n",
    "    fips=fips, values=values, scope=['usa'],\n",
    "    show_state_data=True,\n",
    "    show_hover=True,\n",
    "    asp = 2.9,\n",
    "    title_text = 'Maximum Circle Temps - 2010',\n",
    "    legend_title = 'Temperature [F]',\n",
    "    binning_endpoints=[-100.0, 0.0, 10.0, 20.0, 30.0, 40.0, 50.0],\n",
    "    colorscale=colorscale,\n",
    ")\n",
    "fig.layout.template = None\n",
    "\n",
    "ply.plot(fig, filename='../plots/choropleth_ff.html', auto_open=popen)"
   ]
  },
  {
   "cell_type": "code",
   "execution_count": null,
   "metadata": {},
   "outputs": [],
   "source": []
  }
 ],
 "metadata": {
  "kernelspec": {
   "display_name": "Python 3",
   "language": "python",
   "name": "python3"
  },
  "language_info": {
   "codemirror_mode": {
    "name": "ipython",
    "version": 3
   },
   "file_extension": ".py",
   "mimetype": "text/x-python",
   "name": "python",
   "nbconvert_exporter": "python",
   "pygments_lexer": "ipython3",
   "version": "3.8.5"
  }
 },
 "nbformat": 4,
 "nbformat_minor": 4
}
