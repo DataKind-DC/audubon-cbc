{
 "cells": [
  {
   "cell_type": "markdown",
   "metadata": {},
   "source": [
    "# This is The Title of Notebook\n",
    "### Purpose\n",
    "This notebook will look at comparing the usability of temperature readings between Christmas Bird Count Volunteers and NOAA Weather Stations.\n",
    "\n",
    "### Author: \n",
    "Jacob Ellena\n",
    "### Date: \n",
    "2020-07-30\n",
    "### Update Date: \n",
    "2020-07-30\n",
    "\n",
    "### Inputs \n",
    "1.3-rec-connecting-fips-ecosystem-data.txt -  \n",
    "Example\n",
    "cbc_effort_weather_1900-2018.txt - Tab seperated file of Christmas Bird Count events going back to 1900. Each row represents a single count in a given year. Data Dictonary can be found here: http://www.audubon.org/sites/default/files/documents/cbc_report_field_definitions_2013.pdf\n",
    "\n",
    "### Output Files\n",
    "None\n",
    "\n",
    "## Steps or Proceedures in the notebook \n",
    "Comparisons are split into the following sections\n",
    "- Data Import and Formatting\n",
    "- User Variables\n",
    "- Distance, Elevation, and Ecosystem Checks\n",
    "- Missing Data \n",
    "- Out of Bounds Data\n",
    "- Temperatures \n",
    "\n",
    "\n",
    "## Where the Data will Be Saved \n",
    "All data for this project will be saved in Google Drive. To start experimenting with data, download the folder hear and put it into your data folder.\n",
    "https://drive.google.com/drive/folders/1Nlj9Nq-_dPFTDbrSDf94XMritWYG6E2I\n",
    "\n",
    "The path should look like this: \n",
    "audubon-cbc/data/Cloud_Data/<DATA FILE>"
   ]
  },
  {
   "cell_type": "markdown",
   "metadata": {},
   "source": [
    "---"
   ]
  },
  {
   "cell_type": "markdown",
   "metadata": {},
   "source": [
    "## Importing and Formatting"
   ]
  },
  {
   "cell_type": "code",
   "execution_count": 21,
   "metadata": {},
   "outputs": [],
   "source": [
    "# Imports \n",
    "import pandas as pd\n",
    "import numpy as np\n",
    "import math\n",
    "from sklearn.metrics.pairwise import haversine_distances\n",
    "from sklearn.neighbors import DistanceMetric\n",
    "import matplotlib.pyplot as plt\n",
    "import seaborn as sns; sns.set()\n",
    "\n",
    "#Options\n",
    "pd.set_option(\"display.max_columns\", 100)"
   ]
  },
  {
   "cell_type": "code",
   "execution_count": 22,
   "metadata": {},
   "outputs": [],
   "source": [
    "# ALL File Paths should be declared at the TOP of the notebook\n",
    "PATH_TO_RAW_CBC_DATA = \"../data/Cloud_Data/1.3-rec-connecting-fips-ecosystem-data.txt\""
   ]
  },
  {
   "cell_type": "code",
   "execution_count": 23,
   "metadata": {},
   "outputs": [
    {
     "name": "stderr",
     "output_type": "stream",
     "text": [
      "C:\\Users\\jacob\\anaconda3\\lib\\site-packages\\IPython\\core\\interactiveshell.py:3063: DtypeWarning: Columns (62,64,65,71,73,75,77) have mixed types.Specify dtype option on import or set low_memory=False.\n",
      "  interactivity=interactivity, compiler=compiler, result=result)\n"
     ]
    }
   ],
   "source": [
    "raw_data = pd.read_csv(PATH_TO_RAW_CBC_DATA, encoding = \"ISO-8859-1\", sep=\"\\t\", compression='gzip')"
   ]
  },
  {
   "cell_type": "code",
   "execution_count": 58,
   "metadata": {},
   "outputs": [
    {
     "data": {
      "text/plain": [
       "['circle_name',\n",
       " 'country_state',\n",
       " 'lat',\n",
       " 'lon',\n",
       " 'count_year',\n",
       " 'count_date',\n",
       " 'n_field_counters',\n",
       " 'n_feeder_counters',\n",
       " 'min_field_parties',\n",
       " 'max_field_parties',\n",
       " 'field_hours',\n",
       " 'feeder_hours',\n",
       " 'nocturnal_hours',\n",
       " 'field_distance',\n",
       " 'nocturnal_distance',\n",
       " 'distance_units',\n",
       " 'min_temp',\n",
       " 'max_temp',\n",
       " 'temp_unit',\n",
       " 'min_wind',\n",
       " 'max_wind',\n",
       " 'wind_unit',\n",
       " 'min_snow',\n",
       " 'max_snow',\n",
       " 'snow_unit',\n",
       " 'am_cloud',\n",
       " 'pm_cloud',\n",
       " 'field_distance_imperial',\n",
       " 'field_distance_metric',\n",
       " 'nocturnal_distance_imperial',\n",
       " 'nocturnal_distance_metric',\n",
       " 'min_snow_imperial',\n",
       " 'min_snow_metric',\n",
       " 'max_snow_metric',\n",
       " 'max_snow_imperial',\n",
       " 'min_temp_imperial',\n",
       " 'max_temp_imperial',\n",
       " 'min_temp_metric',\n",
       " 'max_temp_metric',\n",
       " 'min_wind_metric',\n",
       " 'max_wind_metric',\n",
       " 'min_wind_imperial',\n",
       " 'max_wind_imperial',\n",
       " 'ui',\n",
       " 'geohash_circle',\n",
       " 'circle_id',\n",
       " 'id',\n",
       " 'latitude',\n",
       " 'longitude',\n",
       " 'elevation',\n",
       " 'state',\n",
       " 'name',\n",
       " 'gsn_flag',\n",
       " 'hcn_crn_flag',\n",
       " 'wmoid',\n",
       " 'geohash_station',\n",
       " 'temp_min_value',\n",
       " 'temp_max_value',\n",
       " 'precipitation_value',\n",
       " 'temp_avg',\n",
       " 'snow',\n",
       " 'snwd',\n",
       " 'am_rain',\n",
       " 'pm_rain',\n",
       " 'am_snow',\n",
       " 'pm_snow',\n",
       " 'circle_elev',\n",
       " 'elevation_source',\n",
       " 'block_fips',\n",
       " 'county_fips',\n",
       " 'Ecosys_circle',\n",
       " 'Usgsid_sys_circle',\n",
       " 'Nlcd_code_circle',\n",
       " 'Nlcd_circle',\n",
       " 'Ecosys_station',\n",
       " 'Usgsid_sys_station',\n",
       " 'Nlcd_code_station',\n",
       " 'Nlcd_station']"
      ]
     },
     "execution_count": 58,
     "metadata": {},
     "output_type": "execute_result"
    }
   ],
   "source": [
    "list(raw_data.columns)"
   ]
  },
  {
   "cell_type": "code",
   "execution_count": 25,
   "metadata": {},
   "outputs": [
    {
     "data": {
      "text/html": [
       "<div>\n",
       "<style scoped>\n",
       "    .dataframe tbody tr th:only-of-type {\n",
       "        vertical-align: middle;\n",
       "    }\n",
       "\n",
       "    .dataframe tbody tr th {\n",
       "        vertical-align: top;\n",
       "    }\n",
       "\n",
       "    .dataframe thead th {\n",
       "        text-align: right;\n",
       "    }\n",
       "</style>\n",
       "<table border=\"1\" class=\"dataframe\">\n",
       "  <thead>\n",
       "    <tr style=\"text-align: right;\">\n",
       "      <th></th>\n",
       "      <th>count_year</th>\n",
       "      <th>circle_name</th>\n",
       "      <th>circle_id</th>\n",
       "      <th>circle_ecosystem</th>\n",
       "      <th>circle_elevation</th>\n",
       "      <th>circle_lat</th>\n",
       "      <th>circle_lon</th>\n",
       "      <th>circle_min_temp</th>\n",
       "      <th>circle_max_temp</th>\n",
       "      <th>noaa_id</th>\n",
       "      <th>noaa_ecosystem</th>\n",
       "      <th>noaa_elevation</th>\n",
       "      <th>noaa_lat</th>\n",
       "      <th>noaa_lon</th>\n",
       "      <th>noaa_min_temp</th>\n",
       "      <th>noaa_max_temp</th>\n",
       "    </tr>\n",
       "  </thead>\n",
       "  <tbody>\n",
       "    <tr>\n",
       "      <th>0</th>\n",
       "      <td>1955</td>\n",
       "      <td>Hawai'i: Volcano N.P.</td>\n",
       "      <td>8e3wd3w</td>\n",
       "      <td>NaN</td>\n",
       "      <td>1228.18</td>\n",
       "      <td>19.4333</td>\n",
       "      <td>-155.2833</td>\n",
       "      <td>NaN</td>\n",
       "      <td>NaN</td>\n",
       "      <td>USC00511303</td>\n",
       "      <td>NaN</td>\n",
       "      <td>1210.40</td>\n",
       "      <td>19.4297</td>\n",
       "      <td>-155.2561</td>\n",
       "      <td>100.0</td>\n",
       "      <td>161.0</td>\n",
       "    </tr>\n",
       "    <tr>\n",
       "      <th>1</th>\n",
       "      <td>1956</td>\n",
       "      <td>Hawai'i: Volcano N.P.</td>\n",
       "      <td>8e3wd3w</td>\n",
       "      <td>NaN</td>\n",
       "      <td>1228.18</td>\n",
       "      <td>19.4333</td>\n",
       "      <td>-155.2833</td>\n",
       "      <td>NaN</td>\n",
       "      <td>NaN</td>\n",
       "      <td>USC00511303</td>\n",
       "      <td>NaN</td>\n",
       "      <td>1210.40</td>\n",
       "      <td>19.4297</td>\n",
       "      <td>-155.2561</td>\n",
       "      <td>117.0</td>\n",
       "      <td>189.0</td>\n",
       "    </tr>\n",
       "    <tr>\n",
       "      <th>2</th>\n",
       "      <td>1968</td>\n",
       "      <td>Hawai'i: Volcano N.P.</td>\n",
       "      <td>8e3wd3w</td>\n",
       "      <td>NaN</td>\n",
       "      <td>1228.18</td>\n",
       "      <td>19.4333</td>\n",
       "      <td>-155.2833</td>\n",
       "      <td>54.0</td>\n",
       "      <td>66.0</td>\n",
       "      <td>US1HIHI0013</td>\n",
       "      <td>NaN</td>\n",
       "      <td>1059.20</td>\n",
       "      <td>19.4391</td>\n",
       "      <td>-155.2156</td>\n",
       "      <td>NaN</td>\n",
       "      <td>NaN</td>\n",
       "    </tr>\n",
       "    <tr>\n",
       "      <th>3</th>\n",
       "      <td>1968</td>\n",
       "      <td>Hawai'i: Volcano N.P.</td>\n",
       "      <td>8e3wd3w</td>\n",
       "      <td>NaN</td>\n",
       "      <td>1228.18</td>\n",
       "      <td>19.4333</td>\n",
       "      <td>-155.2833</td>\n",
       "      <td>54.0</td>\n",
       "      <td>66.0</td>\n",
       "      <td>US1HIHI0071</td>\n",
       "      <td>NaN</td>\n",
       "      <td>1194.80</td>\n",
       "      <td>19.4414</td>\n",
       "      <td>-155.2487</td>\n",
       "      <td>NaN</td>\n",
       "      <td>NaN</td>\n",
       "    </tr>\n",
       "    <tr>\n",
       "      <th>4</th>\n",
       "      <td>1968</td>\n",
       "      <td>Hawai'i: Volcano N.P.</td>\n",
       "      <td>8e3wd3w</td>\n",
       "      <td>NaN</td>\n",
       "      <td>1228.18</td>\n",
       "      <td>19.4333</td>\n",
       "      <td>-155.2833</td>\n",
       "      <td>54.0</td>\n",
       "      <td>66.0</td>\n",
       "      <td>USC00514563</td>\n",
       "      <td>NaN</td>\n",
       "      <td>1079.87</td>\n",
       "      <td>19.4094</td>\n",
       "      <td>-155.2608</td>\n",
       "      <td>NaN</td>\n",
       "      <td>NaN</td>\n",
       "    </tr>\n",
       "  </tbody>\n",
       "</table>\n",
       "</div>"
      ],
      "text/plain": [
       "   count_year            circle_name circle_id  circle_ecosystem  \\\n",
       "0        1955  Hawai'i: Volcano N.P.   8e3wd3w               NaN   \n",
       "1        1956  Hawai'i: Volcano N.P.   8e3wd3w               NaN   \n",
       "2        1968  Hawai'i: Volcano N.P.   8e3wd3w               NaN   \n",
       "3        1968  Hawai'i: Volcano N.P.   8e3wd3w               NaN   \n",
       "4        1968  Hawai'i: Volcano N.P.   8e3wd3w               NaN   \n",
       "\n",
       "   circle_elevation  circle_lat  circle_lon  circle_min_temp  circle_max_temp  \\\n",
       "0           1228.18     19.4333   -155.2833              NaN              NaN   \n",
       "1           1228.18     19.4333   -155.2833              NaN              NaN   \n",
       "2           1228.18     19.4333   -155.2833             54.0             66.0   \n",
       "3           1228.18     19.4333   -155.2833             54.0             66.0   \n",
       "4           1228.18     19.4333   -155.2833             54.0             66.0   \n",
       "\n",
       "       noaa_id  noaa_ecosystem  noaa_elevation  noaa_lat  noaa_lon  \\\n",
       "0  USC00511303             NaN         1210.40   19.4297 -155.2561   \n",
       "1  USC00511303             NaN         1210.40   19.4297 -155.2561   \n",
       "2  US1HIHI0013             NaN         1059.20   19.4391 -155.2156   \n",
       "3  US1HIHI0071             NaN         1194.80   19.4414 -155.2487   \n",
       "4  USC00514563             NaN         1079.87   19.4094 -155.2608   \n",
       "\n",
       "   noaa_min_temp  noaa_max_temp  \n",
       "0          100.0          161.0  \n",
       "1          117.0          189.0  \n",
       "2            NaN            NaN  \n",
       "3            NaN            NaN  \n",
       "4            NaN            NaN  "
      ]
     },
     "execution_count": 25,
     "metadata": {},
     "output_type": "execute_result"
    }
   ],
   "source": [
    "# Pulling out temperature data and renaming columns for clarification\n",
    "temp_df_raw = raw_data[['count_year',\n",
    "                    'circle_name', \n",
    "                    'circle_id',\n",
    "                    'Ecosys_circle',\n",
    "                    'circle_elev',\n",
    "                    'lat',\n",
    "                    'lon',\n",
    "                    'min_temp',\n",
    "                    'max_temp',\n",
    "                    'id',\n",
    "                    'Ecosys_station',\n",
    "                    'elevation',\n",
    "                    'latitude',\n",
    "                    'longitude',\n",
    "                    'temp_min_value',\n",
    "                    'temp_max_value']]\n",
    "\n",
    "#Setting temp_df to be a copy to avoid indexing erros\n",
    "temp_df = temp_df_raw.copy()\n",
    "\n",
    "temp_df.rename(columns={\n",
    "    'circle_elev':'circle_elevation',\n",
    "    'Ecosys_circle':'circle_ecosystem',\n",
    "    'lat':'circle_lat',\n",
    "    'lon':'circle_lon',\n",
    "    'min_temp':'circle_min_temp',\n",
    "    'max_temp':'circle_max_temp',\n",
    "    'temp_unit':'circle_temp_unit',\n",
    "    'id':'noaa_id',\n",
    "    'Ecosys_station':'noaa_ecosystem',\n",
    "    'elevation':'noaa_elevation',\n",
    "    'latitude':'noaa_lat',\n",
    "    'longitude':'noaa_lon',\n",
    "    'temp_min_value':'noaa_min_temp',\n",
    "    'temp_max_value':'noaa_max_temp'},\n",
    "    inplace=True\n",
    "              )\n",
    "#Setting number of rows for comparison of how much data is lost after cleaning\n",
    "row_count = temp_df.shape[0]\n",
    "temp_df.head()"
   ]
  },
  {
   "cell_type": "markdown",
   "metadata": {},
   "source": [
    "#### Calculating Temperature Averages"
   ]
  },
  {
   "cell_type": "code",
   "execution_count": 26,
   "metadata": {},
   "outputs": [],
   "source": [
    "temp_df['circle_average_temp'] = temp_df[['circle_min_temp', 'circle_max_temp']].mean(axis=1)\n",
    "temp_df['noaa_average_temp'] = temp_df[['noaa_min_temp', 'noaa_max_temp']].mean(axis=1)"
   ]
  },
  {
   "cell_type": "markdown",
   "metadata": {},
   "source": [
    "---"
   ]
  },
  {
   "cell_type": "markdown",
   "metadata": {},
   "source": [
    "## User Variables"
   ]
  },
  {
   "cell_type": "code",
   "execution_count": 27,
   "metadata": {},
   "outputs": [],
   "source": [
    "# Drop all stations farther then defined threshold in meters\n",
    "distance_threshold = 15000\n",
    "\n",
    "# Drop all stations with a difference in defined elevation meters\n",
    "elevation_threshold = 50\n",
    "\n",
    "# Maximum and minimum temperature thresholds for comparing temperature readings\n",
    "# Temperatures are in Fahrenheit and pulled from https://en.wikipedia.org/wiki/U.S._state_and_territory_temperature_extremes\n",
    "max_temp_check = 134 # Death Valley California\n",
    "min_temp_check = -80 # Fort Yukon Alaska\n",
    "\n",
    "# Catagories for temperature goodness metric\n",
    "excellent = 5\n",
    "good      = 10\n",
    "fair      = 15\n",
    "poor      = 20"
   ]
  },
  {
   "cell_type": "markdown",
   "metadata": {},
   "source": [
    "---"
   ]
  },
  {
   "cell_type": "markdown",
   "metadata": {},
   "source": [
    "## Distance, Elevation, and Ecosystem Calculations"
   ]
  },
  {
   "cell_type": "markdown",
   "metadata": {},
   "source": [
    "#### Distance Calculations"
   ]
  },
  {
   "cell_type": "code",
   "execution_count": 28,
   "metadata": {},
   "outputs": [],
   "source": [
    "# Forumula from noaa.py found in '../scripts' folder\n",
    "def haversine_formula(coord1, coord2):\n",
    "    \"\"\"Haversine Forumla for calculating distance between two\n",
    "    coordinates in meters.\n",
    "\n",
    "    Distaince is similar to the GeoPy distance formulas except\n",
    "    the geopy formula uses Vincenty’s formula. At longer distances,\n",
    "    the difference is much more pronounced, however, since we are trying\n",
    "    to find the closest one, the Haversine formula is a suitable\n",
    "    approximation for our purposes.\n",
    "\n",
    "    :param set coord1:\n",
    "        A set containing the lat and long of the first location\n",
    "    :param set coord1:\n",
    "        A set containing the lat and long of the second location\n",
    "\n",
    "    :return: distance between two sets in meters\n",
    "    :rtype: float\n",
    "    \"\"\"\n",
    "    R = 6372800  # Earth radius in meters\n",
    "    lat1, lon1 = coord1\n",
    "    lat2, lon2 = coord2\n",
    "\n",
    "    phi1, phi2 = np.radians(lat1), np.radians(lat2)\n",
    "    dphi = np.radians(lat2 - lat1)\n",
    "    dlambda = np.radians(lon2 - lon1)\n",
    "\n",
    "    a = np.sin(dphi / 2)**2 + \\\n",
    "        np.cos(phi1) * np.cos(phi2) * np.sin(dlambda / 2)**2\n",
    "\n",
    "    return 2*R*np.arctan2(np.sqrt(a), np.sqrt(1 - a))"
   ]
  },
  {
   "cell_type": "code",
   "execution_count": 29,
   "metadata": {},
   "outputs": [],
   "source": [
    "# Adding distance column based on haversine distance\n",
    "temp_df['distance_diff'] = haversine_formula((temp_df['circle_lat'], temp_df['circle_lon']), (temp_df['noaa_lat'], temp_df['noaa_lon']))"
   ]
  },
  {
   "cell_type": "markdown",
   "metadata": {},
   "source": [
    "#### Elevation Calculations"
   ]
  },
  {
   "cell_type": "code",
   "execution_count": 30,
   "metadata": {},
   "outputs": [],
   "source": [
    "temp_df['elevation_diff'] = np.abs(temp_df['circle_elevation'] - temp_df['noaa_elevation'])"
   ]
  },
  {
   "cell_type": "markdown",
   "metadata": {},
   "source": [
    "#### Ecosystem Calculations"
   ]
  },
  {
   "cell_type": "markdown",
   "metadata": {},
   "source": [
    "----"
   ]
  },
  {
   "cell_type": "markdown",
   "metadata": {},
   "source": [
    "## Missing Data"
   ]
  },
  {
   "cell_type": "markdown",
   "metadata": {},
   "source": [
    "#### Checking number of rows without a CBC Circle or NOAA station"
   ]
  },
  {
   "cell_type": "code",
   "execution_count": 31,
   "metadata": {},
   "outputs": [
    {
     "name": "stdout",
     "output_type": "stream",
     "text": [
      " Number of rows without a CBC Circle is:   0\n",
      " Number of rows without a NOAA Station is: 0\n"
     ]
    }
   ],
   "source": [
    "print(f\" Number of rows without a CBC Circle is:   {temp_df['circle_id'].isna().sum()}\")\n",
    "print(f\" Number of rows without a NOAA Station is: {temp_df['noaa_id'].isna().sum()}\")"
   ]
  },
  {
   "cell_type": "markdown",
   "metadata": {},
   "source": [
    "#### Counting number of temperature measuremnts that are missing"
   ]
  },
  {
   "cell_type": "code",
   "execution_count": 32,
   "metadata": {},
   "outputs": [
    {
     "name": "stdout",
     "output_type": "stream",
     "text": [
      "Number of missing CBC Min Temps  : 26942\n",
      "Number of missing CBC Max Temps  : 26960\n",
      "Number of missing NOAA Min Temps : 675297\n",
      "Number of missing NOAA Max Temps : 675285\n"
     ]
    }
   ],
   "source": [
    "print(f\"Number of missing CBC Min Temps  : {temp_df['circle_min_temp'].isna().sum()}\")\n",
    "print(f\"Number of missing CBC Max Temps  : {temp_df['circle_max_temp'].isna().sum()}\")\n",
    "print(f\"Number of missing NOAA Min Temps : {temp_df['noaa_min_temp'].isna().sum()}\")\n",
    "print(f\"Number of missing NOAA Max Temps : {temp_df['noaa_max_temp'].isna().sum()}\")"
   ]
  },
  {
   "cell_type": "code",
   "execution_count": 33,
   "metadata": {},
   "outputs": [
    {
     "name": "stdout",
     "output_type": "stream",
     "text": [
      "Number of CBC rows missing both Min and Max Temps  : 26884\n",
      "Number of NOAA rows missing both Min and Max Temps : 675076\n",
      "\n",
      "Number of rows missing all temperature data        : 7621\n"
     ]
    }
   ],
   "source": [
    "print(f\"Number of CBC rows missing both Min and Max Temps  : {temp_df.loc[temp_df['circle_min_temp'].isna() & temp_df['circle_max_temp'].isna()].shape[0]}\")\n",
    "print(f\"Number of NOAA rows missing both Min and Max Temps : {temp_df.loc[temp_df['noaa_min_temp'].isna() & temp_df['noaa_max_temp'].isna()].shape[0]}\")\n",
    "print()\n",
    "print(f\"Number of rows missing all temperature data        : {temp_df.loc[temp_df['circle_min_temp'].isna() & temp_df['circle_max_temp'].isna() & temp_df['noaa_min_temp'].isna() & temp_df['noaa_max_temp'].isna()].shape[0]}\")"
   ]
  },
  {
   "cell_type": "markdown",
   "metadata": {},
   "source": [
    "#### Removing rows without temperature data for either CBC Circles or NOAA stations."
   ]
  },
  {
   "cell_type": "code",
   "execution_count": 34,
   "metadata": {},
   "outputs": [
    {
     "name": "stdout",
     "output_type": "stream",
     "text": [
      "Number of rows before: 756378\n",
      "Number of rows after:  61777\n",
      "Total removed:         694601\n"
     ]
    }
   ],
   "source": [
    "temp_df.dropna(axis=0, subset=['circle_min_temp', 'circle_max_temp', 'noaa_min_temp', 'noaa_max_temp'], inplace=True)\n",
    "print(f\"Number of rows before: {row_count}\")\n",
    "print(f\"Number of rows after:  {temp_df.shape[0]}\")\n",
    "print(f\"Total removed:         {row_count - temp_df.shape[0]}\")"
   ]
  },
  {
   "cell_type": "markdown",
   "metadata": {},
   "source": [
    "-----"
   ]
  },
  {
   "cell_type": "markdown",
   "metadata": {},
   "source": [
    "## Out of Bounds Data "
   ]
  },
  {
   "cell_type": "markdown",
   "metadata": {},
   "source": [
    "### Temperature Data\n",
    "There are a number of outliers in the data set that could highly skew analysis. Any rows with a temperature outside of a min or max recorded temperature in the United States will be dropped.\n",
    "\n",
    "To be conservative in data dropping we'll only using on max and one min for the entire country rather then by state or other locality. Additionally we'll check by each min/max temp for cirlces and stations to get an idea on if one is more disperate then another.\n",
    "\n",
    "Data: https://en.wikipedia.org/wiki/U.S._state_and_territory_temperature_extremes"
   ]
  },
  {
   "cell_type": "code",
   "execution_count": 35,
   "metadata": {},
   "outputs": [
    {
     "name": "stdout",
     "output_type": "stream",
     "text": [
      "Number of CBC measurments outside max  : 3\n",
      "Number of NOAA measurments outside max : 14207\n",
      "\n",
      "Number of CBC measurments outside min  : 0\n",
      "Number of NOAA measurments outside min : 17098\n",
      "\n",
      "Number of NOAA stations with both outside : 125\n"
     ]
    }
   ],
   "source": [
    "# Creating variables for each drop condition\n",
    "circle_over_max_temp  = temp_df.loc[temp_df[\"circle_max_temp\"]>max_temp_check]\n",
    "circle_under_min_temp = temp_df.loc[temp_df[\"circle_min_temp\"]<min_temp_check]\n",
    "\n",
    "noaa_over_max_temp    = temp_df.loc[temp_df[\"noaa_max_temp\"]>max_temp_check]\n",
    "noaa_under_min_temp   = temp_df.loc[temp_df[\"noaa_min_temp\"]<min_temp_check]\n",
    "\n",
    "\n",
    "print(f'Number of CBC measurments outside max  : {circle_over_max_temp.shape[0]}')\n",
    "print(f'Number of NOAA measurments outside max : {noaa_over_max_temp.shape[0]}')\n",
    "print()\n",
    "print(f'Number of CBC measurments outside min  : {circle_under_min_temp.shape[0]}')\n",
    "print(f'Number of NOAA measurments outside min : {noaa_under_min_temp.shape[0]}')\n",
    "print()\n",
    "print(f'Number of NOAA stations with both outside : {temp_df.loc[(temp_df[\"noaa_max_temp\"] > max_temp_check) & (temp_df[\"noaa_min_temp\"] < min_temp_check)].shape[0]}')"
   ]
  },
  {
   "cell_type": "code",
   "execution_count": 36,
   "metadata": {},
   "outputs": [],
   "source": [
    "# Setting list of indices to drop\n",
    "index_drop_list = list(circle_over_max_temp.index) + list(circle_under_min_temp.index) + list(noaa_over_max_temp.index) + list(noaa_under_min_temp.index)"
   ]
  },
  {
   "cell_type": "code",
   "execution_count": 37,
   "metadata": {},
   "outputs": [],
   "source": [
    "# Dropping Rows\n",
    "temp_df.drop(index_drop_list, inplace=True)"
   ]
  },
  {
   "cell_type": "markdown",
   "metadata": {},
   "source": [
    "#### Distance Data"
   ]
  },
  {
   "cell_type": "code",
   "execution_count": 53,
   "metadata": {},
   "outputs": [
    {
     "data": {
      "text/plain": [
       "(6726, 21)"
      ]
     },
     "execution_count": 53,
     "metadata": {},
     "output_type": "execute_result"
    }
   ],
   "source": [
    "# Dropping rows with distance differences larger then set threshold\n",
    "temp_df.drop(temp_df[temp_df['distance_diff'] > distance_threshold].index, inplace=True)\n",
    "temp_df.shape"
   ]
  },
  {
   "cell_type": "markdown",
   "metadata": {},
   "source": [
    "#### Elevation Data"
   ]
  },
  {
   "cell_type": "code",
   "execution_count": 54,
   "metadata": {},
   "outputs": [
    {
     "data": {
      "text/plain": [
       "(6726, 21)"
      ]
     },
     "execution_count": 54,
     "metadata": {},
     "output_type": "execute_result"
    }
   ],
   "source": [
    "temp_df.drop(temp_df[temp_df['elevation_diff'] > elevation_threshold].index, inplace=True)\n",
    "temp_df.shape"
   ]
  },
  {
   "cell_type": "markdown",
   "metadata": {},
   "source": [
    "#### Ecosystem Data"
   ]
  },
  {
   "cell_type": "code",
   "execution_count": 55,
   "metadata": {},
   "outputs": [
    {
     "data": {
      "text/plain": [
       "(6726, 21)"
      ]
     },
     "execution_count": 55,
     "metadata": {},
     "output_type": "execute_result"
    }
   ],
   "source": [
    "temp_df.drop(temp_df[temp_df['circle_ecosystem'] != temp_df['noaa_ecosystem']].index, inplace=True)\n",
    "temp_df.shape"
   ]
  },
  {
   "cell_type": "markdown",
   "metadata": {},
   "source": [
    "#### Checking to see how many CBC Circle temperatures records are within the bounds of the NOAA Station records"
   ]
  },
  {
   "cell_type": "code",
   "execution_count": 47,
   "metadata": {},
   "outputs": [],
   "source": [
    "temp_df['temp_check'] = temp_df['circle_average_temp'].between(temp_df['noaa_min_temp'], temp_df['noaa_max_temp'])"
   ]
  },
  {
   "cell_type": "code",
   "execution_count": 48,
   "metadata": {},
   "outputs": [
    {
     "name": "stdout",
     "output_type": "stream",
     "text": [
      "Number of CBC Cirlcs who's temperature is in the bounds of the corresponding NOAA station:     4270\n",
      "Number of CBC Cirlcs who's temperature is not in the bounds of the corresponding NOAA station: 2456\n",
      "\n",
      "63% of stations lay between\n"
     ]
    }
   ],
   "source": [
    "# Counting number of circles that are true\n",
    "temp_true = sum(temp_df['temp_check'])\n",
    "temp_false = temp_df.shape[0] - sum(temp_df['temp_check'])\n",
    "print(f\"Number of CBC Cirlcs who's temperature is in the bounds of the corresponding NOAA station:     {sum(temp_df['temp_check'])}\")\n",
    "print(f\"Number of CBC Cirlcs who's temperature is not in the bounds of the corresponding NOAA station: {temp_df.shape[0] - sum(temp_df['temp_check'])}\")\n",
    "print()\n",
    "print(f\"{round((temp_true/temp_df.shape[0])*100)}% of stations lay between\")"
   ]
  },
  {
   "cell_type": "markdown",
   "metadata": {},
   "source": [
    "---"
   ]
  },
  {
   "cell_type": "markdown",
   "metadata": {},
   "source": [
    "# Plotting over time\n",
    "Circles have multiple matching stations per year."
   ]
  },
  {
   "cell_type": "code",
   "execution_count": 49,
   "metadata": {},
   "outputs": [],
   "source": [
    "#Finding top 10 most common circles to compare to NOAA data over time.\n",
    "most_active_circles_list = temp_df['circle_id'].value_counts()[:10].index.tolist()"
   ]
  },
  {
   "cell_type": "code",
   "execution_count": 50,
   "metadata": {},
   "outputs": [
    {
     "data": {
      "text/html": [
       "<div>\n",
       "<style scoped>\n",
       "    .dataframe tbody tr th:only-of-type {\n",
       "        vertical-align: middle;\n",
       "    }\n",
       "\n",
       "    .dataframe tbody tr th {\n",
       "        vertical-align: top;\n",
       "    }\n",
       "\n",
       "    .dataframe thead th {\n",
       "        text-align: right;\n",
       "    }\n",
       "</style>\n",
       "<table border=\"1\" class=\"dataframe\">\n",
       "  <thead>\n",
       "    <tr style=\"text-align: right;\">\n",
       "      <th></th>\n",
       "      <th>count_year</th>\n",
       "      <th>circle_name</th>\n",
       "      <th>circle_id</th>\n",
       "      <th>circle_ecosystem</th>\n",
       "      <th>circle_elevation</th>\n",
       "      <th>circle_lat</th>\n",
       "      <th>circle_lon</th>\n",
       "      <th>circle_min_temp</th>\n",
       "      <th>circle_max_temp</th>\n",
       "      <th>noaa_id</th>\n",
       "      <th>noaa_ecosystem</th>\n",
       "      <th>noaa_elevation</th>\n",
       "      <th>noaa_lat</th>\n",
       "      <th>noaa_lon</th>\n",
       "      <th>noaa_min_temp</th>\n",
       "      <th>noaa_max_temp</th>\n",
       "      <th>circle_average_temp</th>\n",
       "      <th>noaa_average_temp</th>\n",
       "      <th>distance_diff</th>\n",
       "      <th>elevation_diff</th>\n",
       "      <th>temp_check</th>\n",
       "    </tr>\n",
       "  </thead>\n",
       "  <tbody>\n",
       "    <tr>\n",
       "      <th>489106</th>\n",
       "      <td>1963</td>\n",
       "      <td>Greenwich-Stamford</td>\n",
       "      <td>dr79syu</td>\n",
       "      <td>300.0</td>\n",
       "      <td>73.55</td>\n",
       "      <td>41.082632</td>\n",
       "      <td>-73.61382</td>\n",
       "      <td>6.0</td>\n",
       "      <td>18.0</td>\n",
       "      <td>USW00094745</td>\n",
       "      <td>300.0</td>\n",
       "      <td>115.5</td>\n",
       "      <td>41.0669</td>\n",
       "      <td>-73.7075</td>\n",
       "      <td>-78.0</td>\n",
       "      <td>28.0</td>\n",
       "      <td>12.0</td>\n",
       "      <td>-25.0</td>\n",
       "      <td>8047.448059</td>\n",
       "      <td>41.95</td>\n",
       "      <td>True</td>\n",
       "    </tr>\n",
       "    <tr>\n",
       "      <th>489157</th>\n",
       "      <td>1965</td>\n",
       "      <td>Greenwich-Stamford</td>\n",
       "      <td>dr79syu</td>\n",
       "      <td>300.0</td>\n",
       "      <td>73.55</td>\n",
       "      <td>41.082632</td>\n",
       "      <td>-73.61382</td>\n",
       "      <td>34.0</td>\n",
       "      <td>45.0</td>\n",
       "      <td>USC00067970</td>\n",
       "      <td>300.0</td>\n",
       "      <td>57.9</td>\n",
       "      <td>41.1247</td>\n",
       "      <td>-73.5475</td>\n",
       "      <td>61.0</td>\n",
       "      <td>133.0</td>\n",
       "      <td>39.5</td>\n",
       "      <td>97.0</td>\n",
       "      <td>7265.617912</td>\n",
       "      <td>15.65</td>\n",
       "      <td>False</td>\n",
       "    </tr>\n",
       "    <tr>\n",
       "      <th>489163</th>\n",
       "      <td>1965</td>\n",
       "      <td>Greenwich-Stamford</td>\n",
       "      <td>dr79syu</td>\n",
       "      <td>300.0</td>\n",
       "      <td>73.55</td>\n",
       "      <td>41.082632</td>\n",
       "      <td>-73.61382</td>\n",
       "      <td>34.0</td>\n",
       "      <td>45.0</td>\n",
       "      <td>USW00094745</td>\n",
       "      <td>300.0</td>\n",
       "      <td>115.5</td>\n",
       "      <td>41.0669</td>\n",
       "      <td>-73.7075</td>\n",
       "      <td>83.0</td>\n",
       "      <td>133.0</td>\n",
       "      <td>39.5</td>\n",
       "      <td>108.0</td>\n",
       "      <td>8047.448059</td>\n",
       "      <td>41.95</td>\n",
       "      <td>False</td>\n",
       "    </tr>\n",
       "    <tr>\n",
       "      <th>489174</th>\n",
       "      <td>1966</td>\n",
       "      <td>Greenwich-Stamford</td>\n",
       "      <td>dr79syu</td>\n",
       "      <td>300.0</td>\n",
       "      <td>73.55</td>\n",
       "      <td>41.082632</td>\n",
       "      <td>-73.61382</td>\n",
       "      <td>20.0</td>\n",
       "      <td>34.0</td>\n",
       "      <td>USW00094745</td>\n",
       "      <td>300.0</td>\n",
       "      <td>115.5</td>\n",
       "      <td>41.0669</td>\n",
       "      <td>-73.7075</td>\n",
       "      <td>-17.0</td>\n",
       "      <td>111.0</td>\n",
       "      <td>27.0</td>\n",
       "      <td>47.0</td>\n",
       "      <td>8047.448059</td>\n",
       "      <td>41.95</td>\n",
       "      <td>True</td>\n",
       "    </tr>\n",
       "    <tr>\n",
       "      <th>489184</th>\n",
       "      <td>1966</td>\n",
       "      <td>Greenwich-Stamford</td>\n",
       "      <td>dr79syu</td>\n",
       "      <td>300.0</td>\n",
       "      <td>73.55</td>\n",
       "      <td>41.082632</td>\n",
       "      <td>-73.61382</td>\n",
       "      <td>20.0</td>\n",
       "      <td>34.0</td>\n",
       "      <td>USC00067970</td>\n",
       "      <td>300.0</td>\n",
       "      <td>57.9</td>\n",
       "      <td>41.1247</td>\n",
       "      <td>-73.5475</td>\n",
       "      <td>-56.0</td>\n",
       "      <td>128.0</td>\n",
       "      <td>27.0</td>\n",
       "      <td>36.0</td>\n",
       "      <td>7265.617912</td>\n",
       "      <td>15.65</td>\n",
       "      <td>True</td>\n",
       "    </tr>\n",
       "    <tr>\n",
       "      <th>...</th>\n",
       "      <td>...</td>\n",
       "      <td>...</td>\n",
       "      <td>...</td>\n",
       "      <td>...</td>\n",
       "      <td>...</td>\n",
       "      <td>...</td>\n",
       "      <td>...</td>\n",
       "      <td>...</td>\n",
       "      <td>...</td>\n",
       "      <td>...</td>\n",
       "      <td>...</td>\n",
       "      <td>...</td>\n",
       "      <td>...</td>\n",
       "      <td>...</td>\n",
       "      <td>...</td>\n",
       "      <td>...</td>\n",
       "      <td>...</td>\n",
       "      <td>...</td>\n",
       "      <td>...</td>\n",
       "      <td>...</td>\n",
       "      <td>...</td>\n",
       "    </tr>\n",
       "    <tr>\n",
       "      <th>490148</th>\n",
       "      <td>2016</td>\n",
       "      <td>Greenwich-Stamford</td>\n",
       "      <td>dr79syu</td>\n",
       "      <td>300.0</td>\n",
       "      <td>73.55</td>\n",
       "      <td>41.082632</td>\n",
       "      <td>-73.61382</td>\n",
       "      <td>32.0</td>\n",
       "      <td>41.0</td>\n",
       "      <td>USC00067970</td>\n",
       "      <td>300.0</td>\n",
       "      <td>57.9</td>\n",
       "      <td>41.1247</td>\n",
       "      <td>-73.5475</td>\n",
       "      <td>6.0</td>\n",
       "      <td>50.0</td>\n",
       "      <td>36.5</td>\n",
       "      <td>28.0</td>\n",
       "      <td>7265.617912</td>\n",
       "      <td>15.65</td>\n",
       "      <td>True</td>\n",
       "    </tr>\n",
       "    <tr>\n",
       "      <th>490152</th>\n",
       "      <td>2016</td>\n",
       "      <td>Greenwich-Stamford</td>\n",
       "      <td>dr79syu</td>\n",
       "      <td>300.0</td>\n",
       "      <td>73.55</td>\n",
       "      <td>41.082632</td>\n",
       "      <td>-73.61382</td>\n",
       "      <td>32.0</td>\n",
       "      <td>41.0</td>\n",
       "      <td>USW00094745</td>\n",
       "      <td>300.0</td>\n",
       "      <td>115.5</td>\n",
       "      <td>41.0669</td>\n",
       "      <td>-73.7075</td>\n",
       "      <td>0.0</td>\n",
       "      <td>50.0</td>\n",
       "      <td>36.5</td>\n",
       "      <td>25.0</td>\n",
       "      <td>8047.448059</td>\n",
       "      <td>41.95</td>\n",
       "      <td>True</td>\n",
       "    </tr>\n",
       "    <tr>\n",
       "      <th>490161</th>\n",
       "      <td>2017</td>\n",
       "      <td>Greenwich-Stamford</td>\n",
       "      <td>dr79syu</td>\n",
       "      <td>300.0</td>\n",
       "      <td>73.55</td>\n",
       "      <td>41.082632</td>\n",
       "      <td>-73.61382</td>\n",
       "      <td>29.0</td>\n",
       "      <td>40.0</td>\n",
       "      <td>USC00067970</td>\n",
       "      <td>300.0</td>\n",
       "      <td>57.9</td>\n",
       "      <td>41.1247</td>\n",
       "      <td>-73.5475</td>\n",
       "      <td>6.0</td>\n",
       "      <td>117.0</td>\n",
       "      <td>34.5</td>\n",
       "      <td>61.5</td>\n",
       "      <td>7265.617912</td>\n",
       "      <td>15.65</td>\n",
       "      <td>True</td>\n",
       "    </tr>\n",
       "    <tr>\n",
       "      <th>490175</th>\n",
       "      <td>2017</td>\n",
       "      <td>Greenwich-Stamford</td>\n",
       "      <td>dr79syu</td>\n",
       "      <td>300.0</td>\n",
       "      <td>73.55</td>\n",
       "      <td>41.082632</td>\n",
       "      <td>-73.61382</td>\n",
       "      <td>29.0</td>\n",
       "      <td>40.0</td>\n",
       "      <td>USW00094745</td>\n",
       "      <td>300.0</td>\n",
       "      <td>115.5</td>\n",
       "      <td>41.0669</td>\n",
       "      <td>-73.7075</td>\n",
       "      <td>-10.0</td>\n",
       "      <td>128.0</td>\n",
       "      <td>34.5</td>\n",
       "      <td>59.0</td>\n",
       "      <td>8047.448059</td>\n",
       "      <td>41.95</td>\n",
       "      <td>True</td>\n",
       "    </tr>\n",
       "    <tr>\n",
       "      <th>490184</th>\n",
       "      <td>2018</td>\n",
       "      <td>Greenwich-Stamford</td>\n",
       "      <td>dr79syu</td>\n",
       "      <td>300.0</td>\n",
       "      <td>73.55</td>\n",
       "      <td>41.082632</td>\n",
       "      <td>-73.61382</td>\n",
       "      <td>28.0</td>\n",
       "      <td>32.0</td>\n",
       "      <td>USW00094745</td>\n",
       "      <td>300.0</td>\n",
       "      <td>115.5</td>\n",
       "      <td>41.0669</td>\n",
       "      <td>-73.7075</td>\n",
       "      <td>-27.0</td>\n",
       "      <td>0.0</td>\n",
       "      <td>30.0</td>\n",
       "      <td>-13.5</td>\n",
       "      <td>8047.448059</td>\n",
       "      <td>41.95</td>\n",
       "      <td>False</td>\n",
       "    </tr>\n",
       "  </tbody>\n",
       "</table>\n",
       "<p>72 rows × 21 columns</p>\n",
       "</div>"
      ],
      "text/plain": [
       "        count_year         circle_name circle_id  circle_ecosystem  \\\n",
       "489106        1963  Greenwich-Stamford   dr79syu             300.0   \n",
       "489157        1965  Greenwich-Stamford   dr79syu             300.0   \n",
       "489163        1965  Greenwich-Stamford   dr79syu             300.0   \n",
       "489174        1966  Greenwich-Stamford   dr79syu             300.0   \n",
       "489184        1966  Greenwich-Stamford   dr79syu             300.0   \n",
       "...            ...                 ...       ...               ...   \n",
       "490148        2016  Greenwich-Stamford   dr79syu             300.0   \n",
       "490152        2016  Greenwich-Stamford   dr79syu             300.0   \n",
       "490161        2017  Greenwich-Stamford   dr79syu             300.0   \n",
       "490175        2017  Greenwich-Stamford   dr79syu             300.0   \n",
       "490184        2018  Greenwich-Stamford   dr79syu             300.0   \n",
       "\n",
       "        circle_elevation  circle_lat  circle_lon  circle_min_temp  \\\n",
       "489106             73.55   41.082632   -73.61382              6.0   \n",
       "489157             73.55   41.082632   -73.61382             34.0   \n",
       "489163             73.55   41.082632   -73.61382             34.0   \n",
       "489174             73.55   41.082632   -73.61382             20.0   \n",
       "489184             73.55   41.082632   -73.61382             20.0   \n",
       "...                  ...         ...         ...              ...   \n",
       "490148             73.55   41.082632   -73.61382             32.0   \n",
       "490152             73.55   41.082632   -73.61382             32.0   \n",
       "490161             73.55   41.082632   -73.61382             29.0   \n",
       "490175             73.55   41.082632   -73.61382             29.0   \n",
       "490184             73.55   41.082632   -73.61382             28.0   \n",
       "\n",
       "        circle_max_temp      noaa_id  noaa_ecosystem  noaa_elevation  \\\n",
       "489106             18.0  USW00094745           300.0           115.5   \n",
       "489157             45.0  USC00067970           300.0            57.9   \n",
       "489163             45.0  USW00094745           300.0           115.5   \n",
       "489174             34.0  USW00094745           300.0           115.5   \n",
       "489184             34.0  USC00067970           300.0            57.9   \n",
       "...                 ...          ...             ...             ...   \n",
       "490148             41.0  USC00067970           300.0            57.9   \n",
       "490152             41.0  USW00094745           300.0           115.5   \n",
       "490161             40.0  USC00067970           300.0            57.9   \n",
       "490175             40.0  USW00094745           300.0           115.5   \n",
       "490184             32.0  USW00094745           300.0           115.5   \n",
       "\n",
       "        noaa_lat  noaa_lon  noaa_min_temp  noaa_max_temp  circle_average_temp  \\\n",
       "489106   41.0669  -73.7075          -78.0           28.0                 12.0   \n",
       "489157   41.1247  -73.5475           61.0          133.0                 39.5   \n",
       "489163   41.0669  -73.7075           83.0          133.0                 39.5   \n",
       "489174   41.0669  -73.7075          -17.0          111.0                 27.0   \n",
       "489184   41.1247  -73.5475          -56.0          128.0                 27.0   \n",
       "...          ...       ...            ...            ...                  ...   \n",
       "490148   41.1247  -73.5475            6.0           50.0                 36.5   \n",
       "490152   41.0669  -73.7075            0.0           50.0                 36.5   \n",
       "490161   41.1247  -73.5475            6.0          117.0                 34.5   \n",
       "490175   41.0669  -73.7075          -10.0          128.0                 34.5   \n",
       "490184   41.0669  -73.7075          -27.0            0.0                 30.0   \n",
       "\n",
       "        noaa_average_temp  distance_diff  elevation_diff  temp_check  \n",
       "489106              -25.0    8047.448059           41.95        True  \n",
       "489157               97.0    7265.617912           15.65       False  \n",
       "489163              108.0    8047.448059           41.95       False  \n",
       "489174               47.0    8047.448059           41.95        True  \n",
       "489184               36.0    7265.617912           15.65        True  \n",
       "...                   ...            ...             ...         ...  \n",
       "490148               28.0    7265.617912           15.65        True  \n",
       "490152               25.0    8047.448059           41.95        True  \n",
       "490161               61.5    7265.617912           15.65        True  \n",
       "490175               59.0    8047.448059           41.95        True  \n",
       "490184              -13.5    8047.448059           41.95       False  \n",
       "\n",
       "[72 rows x 21 columns]"
      ]
     },
     "execution_count": 50,
     "metadata": {},
     "output_type": "execute_result"
    }
   ],
   "source": [
    "# Finding matching NOAA stations\n",
    "temp_df.loc[temp_df['circle_id'] == most_active_circles_list[0]]"
   ]
  },
  {
   "cell_type": "markdown",
   "metadata": {},
   "source": [
    "---\n",
    "## Plotting out CBC Circle temperature data to NOAA Station data"
   ]
  },
  {
   "cell_type": "code",
   "execution_count": 52,
   "metadata": {},
   "outputs": [
    {
     "data": {
      "text/plain": [
       "''"
      ]
     },
     "execution_count": 52,
     "metadata": {},
     "output_type": "execute_result"
    },
    {
     "data": {
      "image/png": "[encoded data removed]",
      "text/plain": [
       "<Figure size 1440x432 with 1 Axes>"
      ]
     },
     "metadata": {},
     "output_type": "display_data"
    }
   ],
   "source": [
    "plt.figure(figsize=(20, 6))\n",
    "sns.scatterplot(x=temp_df['circle_average_temp'], y=temp_df['noaa_average_temp'])\n",
    "plt.title('CBC Average Temp to NOAA Station Average Temp', fontsize=20)\n",
    "plt.xlabel('Average CBC Circle Temp', fontsize=10)\n",
    "plt.ylabel('Average NOOA Station Temp', fontsize=10)\n",
    ";"
   ]
  },
  {
   "cell_type": "code",
   "execution_count": null,
   "metadata": {},
   "outputs": [],
   "source": [
    "temp_df.loc[temp_df['noaa_average']]"
   ]
  },
  {
   "cell_type": "markdown",
   "metadata": {},
   "source": [
    "---\n",
    "## Temperature Measurement Goodness with Interchangeable Metric\n",
    "\n",
    "temp_metric = sqrt( (noaa_min_temp - circle_min_temp)^2 + (noaa_max_temp - circle_max_temp)^2 )\n",
    "\n",
    "Going to compare two different metrics to get and idea of how varied they could be"
   ]
  },
  {
   "cell_type": "markdown",
   "metadata": {},
   "source": [
    "### Metric 1\n",
    "temp_metric_1 = sqrt( (noaa_min_temp - circle_min_temp)^2 + (noaa_max_temp - circle_max_temp)^2 )"
   ]
  },
  {
   "cell_type": "code",
   "execution_count": null,
   "metadata": {},
   "outputs": [],
   "source": [
    "temp_df['temp_metric_1'] = round(np.sqrt(((temp_df['noaa_min_temp'] - temp_df['circle_min_temp'])**2) + ((temp_df['noaa_max_temp'] - temp_df['circle_max_temp'])**2)),2)"
   ]
  },
  {
   "cell_type": "markdown",
   "metadata": {},
   "source": [
    "### Metric 2\n",
    "temp_metric_2 = sqrt( (noaa_average - circle_average)^2 )"
   ]
  },
  {
   "cell_type": "code",
   "execution_count": null,
   "metadata": {},
   "outputs": [],
   "source": [
    "temp_df['temp_metric_2'] = np.sqrt((temp_df['noaa_average'] - temp_df['circle_average'])**2)"
   ]
  },
  {
   "cell_type": "code",
   "execution_count": null,
   "metadata": {},
   "outputs": [],
   "source": [
    "temp_df.sort_values(by=['temp_metric_1'])"
   ]
  },
  {
   "cell_type": "markdown",
   "metadata": {},
   "source": [
    "### Catagories\n",
    "Values in catagories can be changed and then applied to dataframe"
   ]
  },
  {
   "cell_type": "code",
   "execution_count": null,
   "metadata": {},
   "outputs": [],
   "source": []
  },
  {
   "cell_type": "code",
   "execution_count": null,
   "metadata": {},
   "outputs": [],
   "source": [
    "# Function to assign grade scores\n",
    "def assign_grade(metric_score):\n",
    "    if metric_score <= excellent:\n",
    "        return 'excellent'\n",
    "    elif metric_score <= good:\n",
    "        return 'good'\n",
    "    elif metric_score <= fair:\n",
    "        return 'fair'\n",
    "    else:\n",
    "        return 'poor'"
   ]
  },
  {
   "cell_type": "code",
   "execution_count": null,
   "metadata": {},
   "outputs": [],
   "source": [
    "# Applying the scores\n",
    "temp_df['metric_grade'] = temp_df['temp_metric_1'].apply(lambda metric_score: assign_grade(metric_score))"
   ]
  },
  {
   "cell_type": "code",
   "execution_count": null,
   "metadata": {},
   "outputs": [],
   "source": [
    "temp_df"
   ]
  },
  {
   "cell_type": "markdown",
   "metadata": {},
   "source": [
    "---\n",
    "## Plotting Circle Metric Scores by Lat/Lon"
   ]
  },
  {
   "cell_type": "code",
   "execution_count": null,
   "metadata": {},
   "outputs": [],
   "source": [
    "plt.figure(figsize=(20, 6))\n",
    "sns.scatterplot(x='circle_lat', y='circle_lon', data=temp_df, hue='metric_grade')\n",
    "plt.title('Circle Locations by Metric Grade', fontsize=20)\n",
    "plt.xlabel('Circle Lat', fontsize=10)\n",
    "plt.ylabel('Circle Lon', fontsize=10)\n",
    ";"
   ]
  },
  {
   "cell_type": "code",
   "execution_count": null,
   "metadata": {},
   "outputs": [],
   "source": [
    "Next Steps\n",
    "Clean Data\n",
    "Plot time series using closest station"
   ]
  },
  {
   "cell_type": "code",
   "execution_count": null,
   "metadata": {},
   "outputs": [],
   "source": []
  },
  {
   "cell_type": "code",
   "execution_count": null,
   "metadata": {},
   "outputs": [],
   "source": []
  },
  {
   "cell_type": "code",
   "execution_count": null,
   "metadata": {},
   "outputs": [],
   "source": []
  }
 ],
 "metadata": {
  "kernelspec": {
   "display_name": "Python 3",
   "language": "python",
   "name": "python3"
  },
  "language_info": {
   "codemirror_mode": {
    "name": "ipython",
    "version": 3
   },
   "file_extension": ".py",
   "mimetype": "text/x-python",
   "name": "python",
   "nbconvert_exporter": "python",
   "pygments_lexer": "ipython3",
   "version": "3.7.6"
  }
 },
 "nbformat": 4,
 "nbformat_minor": 4
}
