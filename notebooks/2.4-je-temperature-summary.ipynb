{
 "cells": [
  {
   "cell_type": "markdown",
   "metadata": {},
   "source": [
    "# This is The Title of Notebook\n",
    "### Purpose\n",
    "This notebook will look at comparing the usability of temperature readings between Christmas Bird Count Volunteers and NOAA Weather Stations.\n",
    "\n",
    "### Author: \n",
    "Jacob Ellena\n",
    "### Date: \n",
    "2020-07-30\n",
    "### Update Date: \n",
    "2020-07-30\n",
    "\n",
    "### Inputs \n",
    "1.3-rec-connecting-fips-ecosystem-data.txt -  \n",
    "Example\n",
    "cbc_effort_weather_1900-2018.txt - Tab seperated file of Christmas Bird Count events going back to 1900. Each row represents a single count in a given year. Data Dictonary can be found here: http://www.audubon.org/sites/default/files/documents/cbc_report_field_definitions_2013.pdf\n",
    "\n",
    "### Output Files\n",
    "None\n",
    "\n",
    "## Steps or Proceedures in the notebook \n",
    "Comparisons are split into the following sections\n",
    "- Data Import and Formatting\n",
    "- User Variables\n",
    "- Distance, Elevation, and Ecosystem Checks\n",
    "- Missing Data \n",
    "- Out of Bounds Data\n",
    "- Temperature Goodness Rating\n",
    "- Ecosystem comparison\n",
    "\n",
    "\n",
    "## Where the Data will Be Saved \n",
    "All data for this project will be saved in Google Drive. To start experimenting with data, download the folder hear and put it into your data folder.\n",
    "https://drive.google.com/drive/folders/1Nlj9Nq-_dPFTDbrSDf94XMritWYG6E2I\n",
    "\n",
    "The path should look like this: \n",
    "audubon-cbc/data/Cloud_Data/<DATA FILE>"
   ]
  },
  {
   "cell_type": "markdown",
   "metadata": {},
   "source": [
    "---"
   ]
  },
  {
   "cell_type": "markdown",
   "metadata": {},
   "source": [
    "## Importing and Formatting"
   ]
  },
  {
   "cell_type": "code",
   "execution_count": 1,
   "metadata": {},
   "outputs": [],
   "source": [
    "# Imports \n",
    "import pandas as pd\n",
    "import numpy as np\n",
    "import math\n",
    "from sklearn.metrics.pairwise import haversine_distances\n",
    "from sklearn.neighbors import DistanceMetric\n",
    "import plotly.graph_objects as go\n",
    "\n",
    "#Options\n",
    "pd.set_option(\"display.max_columns\", 100)"
   ]
  },
  {
   "cell_type": "markdown",
   "metadata": {},
   "source": [
    "---"
   ]
  },
  {
   "cell_type": "markdown",
   "metadata": {},
   "source": [
    "## User Variables"
   ]
  },
  {
   "cell_type": "code",
   "execution_count": 2,
   "metadata": {},
   "outputs": [],
   "source": [
    "# Drop all stations farther then defined threshold in meters\n",
    "distance_threshold = 15000\n",
    "\n",
    "# Drop all stations with a difference in defined elevation meters\n",
    "elevation_threshold = 50\n",
    "\n",
    "# Maximum and minimum temperature thresholds for comparing temperature readings\n",
    "# Temperatures are in Fahrenheit and pulled from https://en.wikipedia.org/wiki/U.S._state_and_territory_temperature_extremes\n",
    "max_temp_check = 134 # Death Valley California\n",
    "min_temp_check = -80 # Fort Yukon Alaska\n",
    "\n",
    "# Catagories for temperature goodness metric\n",
    "excellent_score = 5\n",
    "good_score      = 10\n",
    "fair_score      = 15\n",
    "poor_score      = 20"
   ]
  },
  {
   "cell_type": "markdown",
   "metadata": {},
   "source": [
    "---\n",
    "## Dataframe Generation"
   ]
  },
  {
   "cell_type": "code",
   "execution_count": 3,
   "metadata": {},
   "outputs": [],
   "source": [
    "# ALL File Paths should be declared at the TOP of the notebook\n",
    "PATH_TO_RAW_CBC_DATA = \"../data/Cloud_Data/1.3-rec-connecting-fips-ecosystem-data.txt\""
   ]
  },
  {
   "cell_type": "code",
   "execution_count": 4,
   "metadata": {},
   "outputs": [
    {
     "name": "stderr",
     "output_type": "stream",
     "text": [
      "C:\\Users\\jacob\\anaconda3\\envs\\cmmdsjob\\lib\\site-packages\\IPython\\core\\interactiveshell.py:3146: DtypeWarning: Columns (62,64,65,71,73,75,77) have mixed types.Specify dtype option on import or set low_memory=False.\n",
      "  interactivity=interactivity, compiler=compiler, result=result)\n"
     ]
    }
   ],
   "source": [
    "raw_data = pd.read_csv(PATH_TO_RAW_CBC_DATA, encoding = \"ISO-8859-1\", sep=\"\\t\", compression='gzip')"
   ]
  },
  {
   "cell_type": "code",
   "execution_count": 5,
   "metadata": {},
   "outputs": [
    {
     "data": {
      "text/html": [
       "<div>\n",
       "<style scoped>\n",
       "    .dataframe tbody tr th:only-of-type {\n",
       "        vertical-align: middle;\n",
       "    }\n",
       "\n",
       "    .dataframe tbody tr th {\n",
       "        vertical-align: top;\n",
       "    }\n",
       "\n",
       "    .dataframe thead th {\n",
       "        text-align: right;\n",
       "    }\n",
       "</style>\n",
       "<table border=\"1\" class=\"dataframe\">\n",
       "  <thead>\n",
       "    <tr style=\"text-align: right;\">\n",
       "      <th></th>\n",
       "      <th>count_year</th>\n",
       "      <th>circle_name</th>\n",
       "      <th>circle_id</th>\n",
       "      <th>specific_circle_ecosystem</th>\n",
       "      <th>macro_circle_ecosystem</th>\n",
       "      <th>circle_elevation</th>\n",
       "      <th>circle_lat</th>\n",
       "      <th>circle_lon</th>\n",
       "      <th>circle_min_temp</th>\n",
       "      <th>circle_max_temp</th>\n",
       "      <th>noaa_id</th>\n",
       "      <th>specific_station_ecosystem</th>\n",
       "      <th>macro_station_ecosystem</th>\n",
       "      <th>noaa_elevation</th>\n",
       "      <th>noaa_lat</th>\n",
       "      <th>noaa_lon</th>\n",
       "      <th>noaa_min_temp</th>\n",
       "      <th>noaa_max_temp</th>\n",
       "    </tr>\n",
       "  </thead>\n",
       "  <tbody>\n",
       "    <tr>\n",
       "      <th>0</th>\n",
       "      <td>1955</td>\n",
       "      <td>Hawai'i: Volcano N.P.</td>\n",
       "      <td>8e3wd3w</td>\n",
       "      <td>NaN</td>\n",
       "      <td>NaN</td>\n",
       "      <td>1228.18</td>\n",
       "      <td>19.4333</td>\n",
       "      <td>-155.2833</td>\n",
       "      <td>NaN</td>\n",
       "      <td>NaN</td>\n",
       "      <td>USC00511303</td>\n",
       "      <td>NaN</td>\n",
       "      <td>NaN</td>\n",
       "      <td>1210.40</td>\n",
       "      <td>19.4297</td>\n",
       "      <td>-155.2561</td>\n",
       "      <td>100.0</td>\n",
       "      <td>161.0</td>\n",
       "    </tr>\n",
       "    <tr>\n",
       "      <th>1</th>\n",
       "      <td>1956</td>\n",
       "      <td>Hawai'i: Volcano N.P.</td>\n",
       "      <td>8e3wd3w</td>\n",
       "      <td>NaN</td>\n",
       "      <td>NaN</td>\n",
       "      <td>1228.18</td>\n",
       "      <td>19.4333</td>\n",
       "      <td>-155.2833</td>\n",
       "      <td>NaN</td>\n",
       "      <td>NaN</td>\n",
       "      <td>USC00511303</td>\n",
       "      <td>NaN</td>\n",
       "      <td>NaN</td>\n",
       "      <td>1210.40</td>\n",
       "      <td>19.4297</td>\n",
       "      <td>-155.2561</td>\n",
       "      <td>117.0</td>\n",
       "      <td>189.0</td>\n",
       "    </tr>\n",
       "    <tr>\n",
       "      <th>2</th>\n",
       "      <td>1968</td>\n",
       "      <td>Hawai'i: Volcano N.P.</td>\n",
       "      <td>8e3wd3w</td>\n",
       "      <td>NaN</td>\n",
       "      <td>NaN</td>\n",
       "      <td>1228.18</td>\n",
       "      <td>19.4333</td>\n",
       "      <td>-155.2833</td>\n",
       "      <td>54.0</td>\n",
       "      <td>66.0</td>\n",
       "      <td>US1HIHI0013</td>\n",
       "      <td>NaN</td>\n",
       "      <td>NaN</td>\n",
       "      <td>1059.20</td>\n",
       "      <td>19.4391</td>\n",
       "      <td>-155.2156</td>\n",
       "      <td>NaN</td>\n",
       "      <td>NaN</td>\n",
       "    </tr>\n",
       "    <tr>\n",
       "      <th>3</th>\n",
       "      <td>1968</td>\n",
       "      <td>Hawai'i: Volcano N.P.</td>\n",
       "      <td>8e3wd3w</td>\n",
       "      <td>NaN</td>\n",
       "      <td>NaN</td>\n",
       "      <td>1228.18</td>\n",
       "      <td>19.4333</td>\n",
       "      <td>-155.2833</td>\n",
       "      <td>54.0</td>\n",
       "      <td>66.0</td>\n",
       "      <td>US1HIHI0071</td>\n",
       "      <td>NaN</td>\n",
       "      <td>NaN</td>\n",
       "      <td>1194.80</td>\n",
       "      <td>19.4414</td>\n",
       "      <td>-155.2487</td>\n",
       "      <td>NaN</td>\n",
       "      <td>NaN</td>\n",
       "    </tr>\n",
       "    <tr>\n",
       "      <th>4</th>\n",
       "      <td>1968</td>\n",
       "      <td>Hawai'i: Volcano N.P.</td>\n",
       "      <td>8e3wd3w</td>\n",
       "      <td>NaN</td>\n",
       "      <td>NaN</td>\n",
       "      <td>1228.18</td>\n",
       "      <td>19.4333</td>\n",
       "      <td>-155.2833</td>\n",
       "      <td>54.0</td>\n",
       "      <td>66.0</td>\n",
       "      <td>USC00514563</td>\n",
       "      <td>NaN</td>\n",
       "      <td>NaN</td>\n",
       "      <td>1079.87</td>\n",
       "      <td>19.4094</td>\n",
       "      <td>-155.2608</td>\n",
       "      <td>NaN</td>\n",
       "      <td>NaN</td>\n",
       "    </tr>\n",
       "  </tbody>\n",
       "</table>\n",
       "</div>"
      ],
      "text/plain": [
       "   count_year            circle_name circle_id specific_circle_ecosystem  \\\n",
       "0        1955  Hawai'i: Volcano N.P.   8e3wd3w                       NaN   \n",
       "1        1956  Hawai'i: Volcano N.P.   8e3wd3w                       NaN   \n",
       "2        1968  Hawai'i: Volcano N.P.   8e3wd3w                       NaN   \n",
       "3        1968  Hawai'i: Volcano N.P.   8e3wd3w                       NaN   \n",
       "4        1968  Hawai'i: Volcano N.P.   8e3wd3w                       NaN   \n",
       "\n",
       "  macro_circle_ecosystem  circle_elevation  circle_lat  circle_lon  \\\n",
       "0                    NaN           1228.18     19.4333   -155.2833   \n",
       "1                    NaN           1228.18     19.4333   -155.2833   \n",
       "2                    NaN           1228.18     19.4333   -155.2833   \n",
       "3                    NaN           1228.18     19.4333   -155.2833   \n",
       "4                    NaN           1228.18     19.4333   -155.2833   \n",
       "\n",
       "   circle_min_temp  circle_max_temp      noaa_id specific_station_ecosystem  \\\n",
       "0              NaN              NaN  USC00511303                        NaN   \n",
       "1              NaN              NaN  USC00511303                        NaN   \n",
       "2             54.0             66.0  US1HIHI0013                        NaN   \n",
       "3             54.0             66.0  US1HIHI0071                        NaN   \n",
       "4             54.0             66.0  USC00514563                        NaN   \n",
       "\n",
       "  macro_station_ecosystem  noaa_elevation  noaa_lat  noaa_lon  noaa_min_temp  \\\n",
       "0                     NaN         1210.40   19.4297 -155.2561          100.0   \n",
       "1                     NaN         1210.40   19.4297 -155.2561          117.0   \n",
       "2                     NaN         1059.20   19.4391 -155.2156            NaN   \n",
       "3                     NaN         1194.80   19.4414 -155.2487            NaN   \n",
       "4                     NaN         1079.87   19.4094 -155.2608            NaN   \n",
       "\n",
       "   noaa_max_temp  \n",
       "0          161.0  \n",
       "1          189.0  \n",
       "2            NaN  \n",
       "3            NaN  \n",
       "4            NaN  "
      ]
     },
     "execution_count": 5,
     "metadata": {},
     "output_type": "execute_result"
    }
   ],
   "source": [
    "# Pulling out temperature data and renaming columns for clarification\n",
    "temp_df_raw = raw_data[['count_year',\n",
    "                    'circle_name', \n",
    "                    'circle_id',\n",
    "                    'Usgsid_sys_circle',\n",
    "                    'Nlcd_circle',\n",
    "                    'circle_elev',\n",
    "                    'lat',\n",
    "                    'lon',\n",
    "                    'min_temp',\n",
    "                    'max_temp',\n",
    "                    'id',\n",
    "                    'Usgsid_sys_station',\n",
    "                    'Nlcd_station',\n",
    "                    'elevation',\n",
    "                    'latitude',\n",
    "                    'longitude',\n",
    "                    'temp_min_value',\n",
    "                    'temp_max_value']]\n",
    "\n",
    "#Setting temp_df to be a copy to avoid indexing erros\n",
    "temp_df = temp_df_raw.copy()\n",
    "\n",
    "temp_df.rename(columns={\n",
    "    'circle_elev':'circle_elevation',\n",
    "    'Usgsid_sys_circle':'specific_circle_ecosystem',\n",
    "    'Nlcd_circle':'macro_circle_ecosystem',\n",
    "    'lat':'circle_lat',\n",
    "    'lon':'circle_lon',\n",
    "    'min_temp':'circle_min_temp',\n",
    "    'max_temp':'circle_max_temp',\n",
    "    'temp_unit':'circle_temp_unit',\n",
    "    'id':'noaa_id',\n",
    "    'Usgsid_sys_station':'specific_station_ecosystem',\n",
    "    'Nlcd_station':'macro_station_ecosystem',\n",
    "    'elevation':'noaa_elevation',\n",
    "    'latitude':'noaa_lat',\n",
    "    'longitude':'noaa_lon',\n",
    "    'temp_min_value':'noaa_min_temp',\n",
    "    'temp_max_value':'noaa_max_temp'},\n",
    "    inplace=True\n",
    "              )\n",
    "#Setting number of rows for comparison of how much data is lost after cleaning\n",
    "row_count = temp_df.shape[0]\n",
    "temp_df.head()"
   ]
  },
  {
   "cell_type": "markdown",
   "metadata": {},
   "source": [
    "#### Calculating Temperature Averages"
   ]
  },
  {
   "cell_type": "code",
   "execution_count": 6,
   "metadata": {},
   "outputs": [],
   "source": [
    "temp_df['circle_average_temp'] = temp_df[['circle_min_temp', 'circle_max_temp']].mean(axis=1)\n",
    "temp_df['noaa_average_temp'] = temp_df[['noaa_min_temp', 'noaa_max_temp']].mean(axis=1)"
   ]
  },
  {
   "cell_type": "markdown",
   "metadata": {},
   "source": [
    "---"
   ]
  },
  {
   "cell_type": "markdown",
   "metadata": {},
   "source": [
    "## Distance and Elevation"
   ]
  },
  {
   "cell_type": "markdown",
   "metadata": {},
   "source": [
    "#### Distance Calculations"
   ]
  },
  {
   "cell_type": "code",
   "execution_count": 7,
   "metadata": {},
   "outputs": [],
   "source": [
    "# Forumula from noaa.py found in '../scripts' folder\n",
    "def haversine_formula(coord1, coord2):\n",
    "    \"\"\"Haversine Forumla for calculating distance between two\n",
    "    coordinates in meters.\n",
    "\n",
    "    Distaince is similar to the GeoPy distance formulas except\n",
    "    the geopy formula uses Vincenty’s formula. At longer distances,\n",
    "    the difference is much more pronounced, however, since we are trying\n",
    "    to find the closest one, the Haversine formula is a suitable\n",
    "    approximation for our purposes.\n",
    "\n",
    "    :param set coord1:\n",
    "        A set containing the lat and long of the first location\n",
    "    :param set coord1:\n",
    "        A set containing the lat and long of the second location\n",
    "\n",
    "    :return: distance between two sets in meters\n",
    "    :rtype: float\n",
    "    \"\"\"\n",
    "    R = 6372800  # Earth radius in meters\n",
    "    lat1, lon1 = coord1\n",
    "    lat2, lon2 = coord2\n",
    "\n",
    "    phi1, phi2 = np.radians(lat1), np.radians(lat2)\n",
    "    dphi = np.radians(lat2 - lat1)\n",
    "    dlambda = np.radians(lon2 - lon1)\n",
    "\n",
    "    a = np.sin(dphi / 2)**2 + \\\n",
    "        np.cos(phi1) * np.cos(phi2) * np.sin(dlambda / 2)**2\n",
    "\n",
    "    return 2*R*np.arctan2(np.sqrt(a), np.sqrt(1 - a))"
   ]
  },
  {
   "cell_type": "code",
   "execution_count": 8,
   "metadata": {},
   "outputs": [],
   "source": [
    "# Adding distance column based on haversine distance\n",
    "temp_df['distance_diff'] = haversine_formula((temp_df['circle_lat'], temp_df['circle_lon']), (temp_df['noaa_lat'], temp_df['noaa_lon']))"
   ]
  },
  {
   "cell_type": "markdown",
   "metadata": {},
   "source": [
    "#### Elevation Calculations"
   ]
  },
  {
   "cell_type": "code",
   "execution_count": 9,
   "metadata": {},
   "outputs": [],
   "source": [
    "# Calculating difference in elevations between circles and stations\n",
    "temp_df['elevation_diff'] = np.abs(temp_df['circle_elevation'] - temp_df['noaa_elevation'])"
   ]
  },
  {
   "cell_type": "markdown",
   "metadata": {},
   "source": [
    "----"
   ]
  },
  {
   "cell_type": "markdown",
   "metadata": {},
   "source": [
    "## Missing Data"
   ]
  },
  {
   "cell_type": "markdown",
   "metadata": {},
   "source": [
    "#### Checking number of rows without a CBC Circle or NOAA station"
   ]
  },
  {
   "cell_type": "code",
   "execution_count": 10,
   "metadata": {},
   "outputs": [
    {
     "name": "stdout",
     "output_type": "stream",
     "text": [
      " Number of rows without a CBC Circle is:   0\n",
      " Number of rows without a NOAA Station is: 0\n"
     ]
    }
   ],
   "source": [
    "print(f\" Number of rows without a CBC Circle is:   {temp_df['circle_id'].isna().sum()}\")\n",
    "print(f\" Number of rows without a NOAA Station is: {temp_df['noaa_id'].isna().sum()}\")"
   ]
  },
  {
   "cell_type": "markdown",
   "metadata": {},
   "source": [
    "#### Counting number of temperature measuremnts that are missing"
   ]
  },
  {
   "cell_type": "code",
   "execution_count": 11,
   "metadata": {},
   "outputs": [
    {
     "name": "stdout",
     "output_type": "stream",
     "text": [
      "Number of missing CBC Min Temps  : 26942\n",
      "Number of missing CBC Max Temps  : 26960\n",
      "Number of missing NOAA Min Temps : 675297\n",
      "Number of missing NOAA Max Temps : 675285\n"
     ]
    }
   ],
   "source": [
    "print(f\"Number of missing CBC Min Temps  : {temp_df['circle_min_temp'].isna().sum()}\")\n",
    "print(f\"Number of missing CBC Max Temps  : {temp_df['circle_max_temp'].isna().sum()}\")\n",
    "print(f\"Number of missing NOAA Min Temps : {temp_df['noaa_min_temp'].isna().sum()}\")\n",
    "print(f\"Number of missing NOAA Max Temps : {temp_df['noaa_max_temp'].isna().sum()}\")"
   ]
  },
  {
   "cell_type": "code",
   "execution_count": 12,
   "metadata": {},
   "outputs": [
    {
     "name": "stdout",
     "output_type": "stream",
     "text": [
      "Number of CBC rows missing both Min and Max Temps  : 26884\n",
      "Number of NOAA rows missing both Min and Max Temps : 675076\n",
      "\n",
      "Number of rows missing all temperature data        : 7621\n"
     ]
    }
   ],
   "source": [
    "print(f\"Number of CBC rows missing both Min and Max Temps  : {temp_df.loc[temp_df['circle_min_temp'].isna() & temp_df['circle_max_temp'].isna()].shape[0]}\")\n",
    "print(f\"Number of NOAA rows missing both Min and Max Temps : {temp_df.loc[temp_df['noaa_min_temp'].isna() & temp_df['noaa_max_temp'].isna()].shape[0]}\")\n",
    "print()\n",
    "print(f\"Number of rows missing all temperature data        : {temp_df.loc[temp_df['circle_min_temp'].isna() & temp_df['circle_max_temp'].isna() & temp_df['noaa_min_temp'].isna() & temp_df['noaa_max_temp'].isna()].shape[0]}\")"
   ]
  },
  {
   "cell_type": "markdown",
   "metadata": {},
   "source": [
    "#### Removing rows without temperature data for either CBC Circles or NOAA stations."
   ]
  },
  {
   "cell_type": "code",
   "execution_count": 13,
   "metadata": {},
   "outputs": [
    {
     "name": "stdout",
     "output_type": "stream",
     "text": [
      "Number of rows before: 756378\n",
      "Number of rows after:  61777\n",
      "Total removed:         694601\n"
     ]
    }
   ],
   "source": [
    "temp_df.dropna(axis=0, subset=['circle_min_temp', 'circle_max_temp', 'noaa_min_temp', 'noaa_max_temp'], inplace=True)\n",
    "print(f\"Number of rows before: {row_count}\")\n",
    "print(f\"Number of rows after:  {temp_df.shape[0]}\")\n",
    "print(f\"Total removed:         {row_count - temp_df.shape[0]}\")"
   ]
  },
  {
   "cell_type": "markdown",
   "metadata": {},
   "source": [
    "-----"
   ]
  },
  {
   "cell_type": "markdown",
   "metadata": {},
   "source": [
    "## Out of Bounds Data "
   ]
  },
  {
   "cell_type": "markdown",
   "metadata": {},
   "source": [
    "### Temperature Data\n",
    "There are a number of outliers in the data set that could highly skew analysis. Any rows with a temperature outside of a min or max recorded temperature in the United States will be dropped.\n",
    "\n",
    "To be conservative in data dropping we'll only using on max and one min for the entire country rather than by state or other locality. Additionally we'll check by each min/max temp for circles and stations to get an idea on if one is more error prone than another.\n",
    "\n",
    "Data: https://en.wikipedia.org/wiki/U.S._state_and_territory_temperature_extremes"
   ]
  },
  {
   "cell_type": "code",
   "execution_count": 14,
   "metadata": {},
   "outputs": [
    {
     "name": "stdout",
     "output_type": "stream",
     "text": [
      "Number of CBC measurments outside max  : 3\n",
      "Number of NOAA measurments outside max : 14207\n",
      "\n",
      "Number of CBC measurments outside min  : 0\n",
      "Number of NOAA measurments outside min : 17098\n",
      "\n",
      "Number of NOAA stations with both outside : 125\n"
     ]
    }
   ],
   "source": [
    "# Creating variables for each drop condition\n",
    "circle_over_max_temp  = temp_df.loc[temp_df[\"circle_max_temp\"]>max_temp_check]\n",
    "circle_under_min_temp = temp_df.loc[temp_df[\"circle_min_temp\"]<min_temp_check]\n",
    "\n",
    "noaa_over_max_temp    = temp_df.loc[temp_df[\"noaa_max_temp\"]>max_temp_check]\n",
    "noaa_under_min_temp   = temp_df.loc[temp_df[\"noaa_min_temp\"]<min_temp_check]\n",
    "\n",
    "\n",
    "print(f'Number of CBC measurments outside max  : {circle_over_max_temp.shape[0]}')\n",
    "print(f'Number of NOAA measurments outside max : {noaa_over_max_temp.shape[0]}')\n",
    "print()\n",
    "print(f'Number of CBC measurments outside min  : {circle_under_min_temp.shape[0]}')\n",
    "print(f'Number of NOAA measurments outside min : {noaa_under_min_temp.shape[0]}')\n",
    "print()\n",
    "print(f'Number of NOAA stations with both outside : {temp_df.loc[(temp_df[\"noaa_max_temp\"] > max_temp_check) & (temp_df[\"noaa_min_temp\"] < min_temp_check)].shape[0]}')\n",
    "\n",
    "# Setting list of indices to drop\n",
    "index_drop_list = list(circle_over_max_temp.index) + list(circle_under_min_temp.index) + list(noaa_over_max_temp.index) + list(noaa_under_min_temp.index)\n",
    "\n",
    "# Dropping All out of bout roundsRows\n",
    "temp_df.drop(index_drop_list, inplace=True)"
   ]
  },
  {
   "cell_type": "markdown",
   "metadata": {},
   "source": [
    "#### Distance Data"
   ]
  },
  {
   "cell_type": "code",
   "execution_count": 15,
   "metadata": {},
   "outputs": [
    {
     "name": "stdout",
     "output_type": "stream",
     "text": [
      "Number of rows dropped outside of distance threshold: 23364\n"
     ]
    }
   ],
   "source": [
    "# Dropping rows with distance differences larger then set threshold\n",
    "temp_df.drop(temp_df[temp_df['distance_diff'] > distance_threshold].index, inplace=True)\n",
    "print(f'Number of rows dropped outside of distance threshold: {temp_df.shape[0]}')"
   ]
  },
  {
   "cell_type": "markdown",
   "metadata": {},
   "source": [
    "#### Elevation Data"
   ]
  },
  {
   "cell_type": "code",
   "execution_count": 16,
   "metadata": {},
   "outputs": [
    {
     "name": "stdout",
     "output_type": "stream",
     "text": [
      "Number of rows dropped outside of elevation threshold: 16986\n"
     ]
    }
   ],
   "source": [
    "# Dropping rows with circles and stations that are over the elevation threshold\n",
    "temp_df.drop(temp_df[temp_df['elevation_diff'] > elevation_threshold].index, inplace=True)\n",
    "\n",
    "# Dropping rows with no elevation data\n",
    "temp_df.dropna(subset=['circle_elevation', 'noaa_elevation'], inplace=True)\n",
    "print(f'Number of rows dropped outside of elevation threshold: {temp_df.shape[0]}')"
   ]
  },
  {
   "cell_type": "markdown",
   "metadata": {},
   "source": [
    "#### Checking to see how many CBC Circle temperatures records are within the bounds of the NOAA Station records"
   ]
  },
  {
   "cell_type": "code",
   "execution_count": 17,
   "metadata": {},
   "outputs": [],
   "source": [
    "temp_df['temp_check'] = temp_df['circle_average_temp'].between(temp_df['noaa_min_temp'], temp_df['noaa_max_temp'])"
   ]
  },
  {
   "cell_type": "code",
   "execution_count": 18,
   "metadata": {},
   "outputs": [
    {
     "name": "stdout",
     "output_type": "stream",
     "text": [
      "Number of CBC Cirlcs who's temperature is in the bounds of the corresponding NOAA station:     10544\n",
      "Number of CBC Cirlcs who's temperature is not in the bounds of the corresponding NOAA station: 6442\n",
      "\n",
      "62% of stations lay between\n"
     ]
    }
   ],
   "source": [
    "# Counting number of circles that are true\n",
    "temp_true = sum(temp_df['temp_check'])\n",
    "temp_false = temp_df.shape[0] - sum(temp_df['temp_check'])\n",
    "print(f\"Number of CBC Cirlcs who's temperature is in the bounds of the corresponding NOAA station:     {sum(temp_df['temp_check'])}\")\n",
    "print(f\"Number of CBC Cirlcs who's temperature is not in the bounds of the corresponding NOAA station: {temp_df.shape[0] - sum(temp_df['temp_check'])}\")\n",
    "print()\n",
    "print(f\"{round((temp_true/temp_df.shape[0])*100)}% of stations lay between\")"
   ]
  },
  {
   "cell_type": "markdown",
   "metadata": {},
   "source": [
    "---\n",
    "## Temperature Measurement Goodness\n",
    "\n",
    "temp_metric = sqrt( (noaa_min_temp - circle_min_temp)^2 + (noaa_max_temp - circle_max_temp)^2 )"
   ]
  },
  {
   "cell_type": "markdown",
   "metadata": {},
   "source": [
    "### Goodness Metric\n",
    "temp_goodness = sqrt( (noaa_min_temp - circle_min_temp)^2 + (noaa_max_temp - circle_max_temp)^2 )"
   ]
  },
  {
   "cell_type": "code",
   "execution_count": 19,
   "metadata": {},
   "outputs": [],
   "source": [
    "temp_df['temp_goodness'] = round(np.sqrt(((temp_df['noaa_min_temp'] - temp_df['circle_min_temp'])**2) + ((temp_df['noaa_max_temp'] - temp_df['circle_max_temp'])**2)),2)"
   ]
  },
  {
   "cell_type": "markdown",
   "metadata": {},
   "source": [
    "### Catagories\n",
    "Values in catagories can be changed and then applied to dataframe"
   ]
  },
  {
   "cell_type": "code",
   "execution_count": 20,
   "metadata": {},
   "outputs": [],
   "source": [
    "# Function to assign grade scores\n",
    "def assign_grade(metric_score):\n",
    "    if metric_score <= excellent_score:\n",
    "        return 'excellent'\n",
    "    elif metric_score <= good_score:\n",
    "        return 'good'\n",
    "    elif metric_score <= fair_score:\n",
    "        return 'fair'\n",
    "    else:\n",
    "        return 'poor'"
   ]
  },
  {
   "cell_type": "code",
   "execution_count": 21,
   "metadata": {},
   "outputs": [],
   "source": [
    "# Applying the scores\n",
    "temp_df['goodness_grade'] = temp_df['temp_goodness'].apply(lambda metric_score: assign_grade(metric_score))"
   ]
  },
  {
   "cell_type": "markdown",
   "metadata": {},
   "source": [
    "---"
   ]
  },
  {
   "cell_type": "markdown",
   "metadata": {},
   "source": [
    "## Ecosystem Split\n",
    "Creating two dataframes based on matching min and macro ecosystems"
   ]
  },
  {
   "cell_type": "markdown",
   "metadata": {},
   "source": [
    "#### Specific Ecosystem Match"
   ]
  },
  {
   "cell_type": "code",
   "execution_count": 22,
   "metadata": {},
   "outputs": [
    {
     "name": "stdout",
     "output_type": "stream",
     "text": [
      "Number of rows before specific ecosystem match: 16986\n",
      "Number of rows after specific ecosystem match:  16160\n",
      "\n",
      "Number of rows lost: 826\n"
     ]
    }
   ],
   "source": [
    "temp_df_specific_ecosystems = temp_df.loc[temp_df['specific_circle_ecosystem'].isna() == temp_df['specific_station_ecosystem'].isna()]\n",
    "print(f'Number of rows before specific ecosystem match: {temp_df.shape[0]}')\n",
    "print(f'Number of rows after specific ecosystem match:  {temp_df_specific_ecosystems.shape[0]}')\n",
    "print()\n",
    "print(f'Number of rows lost: {temp_df.shape[0] - temp_df_specific_ecosystems.shape[0]}')"
   ]
  },
  {
   "cell_type": "markdown",
   "metadata": {},
   "source": [
    "#### Macro Ecosystem Match"
   ]
  },
  {
   "cell_type": "code",
   "execution_count": 23,
   "metadata": {},
   "outputs": [
    {
     "name": "stdout",
     "output_type": "stream",
     "text": [
      "Number of rows before macro ecosystem match: 16986\n",
      "Number of rows after macro ecosystem match:  14798\n",
      "\n",
      "Number of rows lost: 2188\n"
     ]
    }
   ],
   "source": [
    "temp_df_macro_ecosystems = temp_df.loc[temp_df['macro_circle_ecosystem'].isna() == temp_df['macro_station_ecosystem'].isna()]\n",
    "print(f'Number of rows before macro ecosystem match: {temp_df.shape[0]}')\n",
    "print(f'Number of rows after macro ecosystem match:  {temp_df_macro_ecosystems.shape[0]}')\n",
    "print()\n",
    "print(f'Number of rows lost: {temp_df.shape[0] - temp_df_macro_ecosystems.shape[0]}')"
   ]
  },
  {
   "cell_type": "markdown",
   "metadata": {},
   "source": [
    "---"
   ]
  },
  {
   "cell_type": "markdown",
   "metadata": {},
   "source": [
    "## Ecosytem Grading Mapping"
   ]
  },
  {
   "cell_type": "code",
   "execution_count": 24,
   "metadata": {},
   "outputs": [],
   "source": [
    "# Defining \n",
    "def grade_figure(fig_df):\n",
    "    # Setting text for mouse overlay\n",
    "    fig_df['text'] = 'Circle Name: ' + fig_df['circle_name'] + '<br>Goodness Grade: ' + fig_df['goodness_grade']\n",
    "    \n",
    "    # Generating figure\n",
    "    fig = go.Figure(go.Scattergeo())\n",
    "\n",
    "    # Trace layer for poor grading\n",
    "    fig_poor = go.Scattergeo(\n",
    "    locationmode = 'USA-states',\n",
    "            lon = fig_df.loc[fig_df['goodness_grade'] == 'poor']['circle_lon'],\n",
    "            lat = fig_df.loc[fig_df['goodness_grade'] == 'poor']['circle_lat'],\n",
    "            text = fig_df.loc[fig_df['goodness_grade'] == 'poor']['text'], # Used for interactive map\n",
    "            mode = 'markers',\n",
    "            marker = dict(\n",
    "                size = 2,\n",
    "                opacity = .2,\n",
    "                color = 'red'\n",
    "            ),\n",
    "            )\n",
    "    \n",
    "    # Trace layer for fair grading\n",
    "    fig_fair = go.Scattergeo(\n",
    "    locationmode = 'USA-states',\n",
    "            lon = fig_df.loc[fig_df['goodness_grade'] == 'fair']['circle_lon'],\n",
    "            lat = fig_df.loc[fig_df['goodness_grade'] == 'fair']['circle_lat'],\n",
    "            text = fig_df.loc[fig_df['goodness_grade'] == 'fair']['text'], # Used for interactive map\n",
    "            mode = 'markers',\n",
    "            marker = dict(\n",
    "                size = 4,\n",
    "                opacity = .4,\n",
    "                color = 'yellow'\n",
    "            ),\n",
    "            )\n",
    "    \n",
    "    # Trace layer for good grading\n",
    "    fig_good = go.Scattergeo(\n",
    "    locationmode = 'USA-states',\n",
    "            lon = fig_df.loc[fig_df['goodness_grade'] == 'good']['circle_lon'],\n",
    "            lat = fig_df.loc[fig_df['goodness_grade'] == 'good']['circle_lat'],\n",
    "            text = fig_df.loc[fig_df['goodness_grade'] == 'good']['text'], # Used for interactive map\n",
    "            mode = 'markers',\n",
    "            marker = dict(\n",
    "                size = 6,\n",
    "                opacity = .8,\n",
    "                color = 'blue'\n",
    "            ),\n",
    "            )\n",
    "    \n",
    "    # Trace layer for excellent grading\n",
    "    fig_excellent = go.Scattergeo(\n",
    "    locationmode = 'USA-states',\n",
    "            lon = fig_df.loc[fig_df['goodness_grade'] == 'excellent']['circle_lon'],\n",
    "            lat = fig_df.loc[fig_df['goodness_grade'] == 'excellent']['circle_lat'],\n",
    "            text = fig_df.loc[fig_df['goodness_grade'] == 'excellent']['text'], # Used for interactive map\n",
    "            mode = 'markers',\n",
    "            marker = dict(\n",
    "                size = 8,\n",
    "                opacity = 1,\n",
    "                color = 'chartreuse'\n",
    "            ),\n",
    "            )\n",
    "\n",
    "    fig.add_trace(fig_poor)\n",
    "    fig.add_trace(fig_fair)\n",
    "    fig.add_trace(fig_good)\n",
    "    fig.add_trace(fig_excellent)\n",
    "\n",
    "    fig.update_layout(\n",
    "            geo_scope='usa',\n",
    "            showlegend=False\n",
    "        )\n",
    "    # Figures can slow down notebook so commenting out for review\n",
    "    # fig.show()\n",
    "    \n",
    "    # Comment out below if you don't want to save the image\n",
    "    # fig.write_image(f'{[x for x in globals() if globals()[x] is fig_df][0]}_temp_grade_geoscatter.png', scale = 5) #List comprehension pulls matching dataframe name from global ojects list"
   ]
  },
  {
   "cell_type": "markdown",
   "metadata": {},
   "source": [
    "#### Specific Ecosystems"
   ]
  },
  {
   "cell_type": "code",
   "execution_count": null,
   "metadata": {},
   "outputs": [],
   "source": [
    "grade_figure(temp_df_specific_ecosystems)"
   ]
  },
  {
   "cell_type": "markdown",
   "metadata": {},
   "source": [
    "#### Macro Ecosystems"
   ]
  },
  {
   "cell_type": "code",
   "execution_count": null,
   "metadata": {},
   "outputs": [],
   "source": [
    "grade_figure(temp_df_macro_ecosystems)"
   ]
  }
 ],
 "metadata": {
  "kernelspec": {
   "display_name": "Python 3",
   "language": "python",
   "name": "python3"
  },
  "language_info": {
   "codemirror_mode": {
    "name": "ipython",
    "version": 3
   },
   "file_extension": ".py",
   "mimetype": "text/x-python",
   "name": "python",
   "nbconvert_exporter": "python",
   "pygments_lexer": "ipython3",
   "version": "3.7.9"
  }
 },
 "nbformat": 4,
 "nbformat_minor": 4
}
