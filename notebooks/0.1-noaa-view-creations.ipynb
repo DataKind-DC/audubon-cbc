{
 "cells": [
  {
   "cell_type": "markdown",
   "metadata": {},
   "source": [
    "# Notebook Create DB Views\n",
    "## Creating a DB View to query ALL NOAA stations for various years\n",
    "### Purpose\n",
    "The below notebook creates a DB View in your Google BigQuery project. A view is a prepackaged query that does not take up space in your DB. The query is a UNION ALL over the years selected as a parameter.\n",
    "### Author: \n",
    "Francisco Vannini\n",
    "### Date: \n",
    "2020-04-02\n",
    "### Update Date: \n",
    "2020-04-02\n",
    "\n",
    "### Inputs\n",
    "<ol>\n",
    "<li> Google Authentication </li>\n",
    "<li> Google Big Query public noaa data </li>\n",
    "</ol>\n",
    "\n",
    "### Output Files\n",
    "This produces a database views in your big query google project. These views are later used to <strong> 1.1-circles-to-many-noaa-stations </strong> file. \n",
    "\n",
    "## Steps or Proceedures in the notebook\n",
    "You need to have your google auth json file. This notebook produces a UNION ALL over all NOAA data and later pivots this table for the various weather measurement elements.\n",
    "\n",
    "## Where the Data will Be Saved \n",
    "This produces a database views in your big query google project. These views are later used to <strong> 1.1-circles-to-many-noaa-stations </strong> file. No data is saved."
   ]
  },
  {
   "cell_type": "code",
   "execution_count": 1,
   "metadata": {
    "scrolled": true
   },
   "outputs": [
    {
     "ename": "DefaultCredentialsError",
     "evalue": "File your_path_to_google_auth.json was not found.",
     "output_type": "error",
     "traceback": [
      "\u001b[0;31m---------------------------------------------------------------------------\u001b[0m",
      "\u001b[0;31mDefaultCredentialsError\u001b[0m                   Traceback (most recent call last)",
      "\u001b[0;32m<ipython-input-1-705e525f6305>\u001b[0m in \u001b[0;36m<module>\u001b[0;34m\u001b[0m\n\u001b[1;32m      4\u001b[0m \u001b[0;34m\u001b[0m\u001b[0m\n\u001b[1;32m      5\u001b[0m \u001b[0;32mfrom\u001b[0m \u001b[0mgoogle\u001b[0m\u001b[0;34m.\u001b[0m\u001b[0mcloud\u001b[0m \u001b[0;32mimport\u001b[0m \u001b[0mbigquery\u001b[0m\u001b[0;34m\u001b[0m\u001b[0;34m\u001b[0m\u001b[0m\n\u001b[0;32m----> 6\u001b[0;31m \u001b[0mclient\u001b[0m \u001b[0;34m=\u001b[0m \u001b[0mbigquery\u001b[0m\u001b[0;34m.\u001b[0m\u001b[0mClient\u001b[0m\u001b[0;34m(\u001b[0m\u001b[0;34m)\u001b[0m\u001b[0;34m\u001b[0m\u001b[0;34m\u001b[0m\u001b[0m\n\u001b[0m\u001b[1;32m      7\u001b[0m \u001b[0mproject\u001b[0m \u001b[0;34m=\u001b[0m \u001b[0;34m'birdproject-2020'\u001b[0m \u001b[0;31m# Change this project to your\u001b[0m\u001b[0;34m\u001b[0m\u001b[0;34m\u001b[0m\u001b[0m\n\u001b[1;32m      8\u001b[0m \u001b[0msource_dataset_id\u001b[0m \u001b[0;34m=\u001b[0m \u001b[0;34m'audubon_cdc'\u001b[0m\u001b[0;34m\u001b[0m\u001b[0;34m\u001b[0m\u001b[0m\n",
      "\u001b[0;32m~/anaconda3/envs/audubon-37/lib/python3.7/site-packages/google/cloud/bigquery/client.py\u001b[0m in \u001b[0;36m__init__\u001b[0;34m(self, project, credentials, _http, location, default_query_job_config, client_info, client_options)\u001b[0m\n\u001b[1;32m    175\u001b[0m     ):\n\u001b[1;32m    176\u001b[0m         super(Client, self).__init__(\n\u001b[0;32m--> 177\u001b[0;31m             \u001b[0mproject\u001b[0m\u001b[0;34m=\u001b[0m\u001b[0mproject\u001b[0m\u001b[0;34m,\u001b[0m \u001b[0mcredentials\u001b[0m\u001b[0;34m=\u001b[0m\u001b[0mcredentials\u001b[0m\u001b[0;34m,\u001b[0m \u001b[0m_http\u001b[0m\u001b[0;34m=\u001b[0m\u001b[0m_http\u001b[0m\u001b[0;34m\u001b[0m\u001b[0;34m\u001b[0m\u001b[0m\n\u001b[0m\u001b[1;32m    178\u001b[0m         )\n\u001b[1;32m    179\u001b[0m \u001b[0;34m\u001b[0m\u001b[0m\n",
      "\u001b[0;32m~/anaconda3/envs/audubon-37/lib/python3.7/site-packages/google/cloud/client.py\u001b[0m in \u001b[0;36m__init__\u001b[0;34m(self, project, credentials, _http)\u001b[0m\n\u001b[1;32m    224\u001b[0m \u001b[0;34m\u001b[0m\u001b[0m\n\u001b[1;32m    225\u001b[0m     \u001b[0;32mdef\u001b[0m \u001b[0m__init__\u001b[0m\u001b[0;34m(\u001b[0m\u001b[0mself\u001b[0m\u001b[0;34m,\u001b[0m \u001b[0mproject\u001b[0m\u001b[0;34m=\u001b[0m\u001b[0;32mNone\u001b[0m\u001b[0;34m,\u001b[0m \u001b[0mcredentials\u001b[0m\u001b[0;34m=\u001b[0m\u001b[0;32mNone\u001b[0m\u001b[0;34m,\u001b[0m \u001b[0m_http\u001b[0m\u001b[0;34m=\u001b[0m\u001b[0;32mNone\u001b[0m\u001b[0;34m)\u001b[0m\u001b[0;34m:\u001b[0m\u001b[0;34m\u001b[0m\u001b[0;34m\u001b[0m\u001b[0m\n\u001b[0;32m--> 226\u001b[0;31m         \u001b[0m_ClientProjectMixin\u001b[0m\u001b[0;34m.\u001b[0m\u001b[0m__init__\u001b[0m\u001b[0;34m(\u001b[0m\u001b[0mself\u001b[0m\u001b[0;34m,\u001b[0m \u001b[0mproject\u001b[0m\u001b[0;34m=\u001b[0m\u001b[0mproject\u001b[0m\u001b[0;34m)\u001b[0m\u001b[0;34m\u001b[0m\u001b[0;34m\u001b[0m\u001b[0m\n\u001b[0m\u001b[1;32m    227\u001b[0m         \u001b[0mClient\u001b[0m\u001b[0;34m.\u001b[0m\u001b[0m__init__\u001b[0m\u001b[0;34m(\u001b[0m\u001b[0mself\u001b[0m\u001b[0;34m,\u001b[0m \u001b[0mcredentials\u001b[0m\u001b[0;34m=\u001b[0m\u001b[0mcredentials\u001b[0m\u001b[0;34m,\u001b[0m \u001b[0m_http\u001b[0m\u001b[0;34m=\u001b[0m\u001b[0m_http\u001b[0m\u001b[0;34m)\u001b[0m\u001b[0;34m\u001b[0m\u001b[0;34m\u001b[0m\u001b[0m\n",
      "\u001b[0;32m~/anaconda3/envs/audubon-37/lib/python3.7/site-packages/google/cloud/client.py\u001b[0m in \u001b[0;36m__init__\u001b[0;34m(self, project)\u001b[0m\n\u001b[1;32m    176\u001b[0m \u001b[0;34m\u001b[0m\u001b[0m\n\u001b[1;32m    177\u001b[0m     \u001b[0;32mdef\u001b[0m \u001b[0m__init__\u001b[0m\u001b[0;34m(\u001b[0m\u001b[0mself\u001b[0m\u001b[0;34m,\u001b[0m \u001b[0mproject\u001b[0m\u001b[0;34m=\u001b[0m\u001b[0;32mNone\u001b[0m\u001b[0;34m)\u001b[0m\u001b[0;34m:\u001b[0m\u001b[0;34m\u001b[0m\u001b[0;34m\u001b[0m\u001b[0m\n\u001b[0;32m--> 178\u001b[0;31m         \u001b[0mproject\u001b[0m \u001b[0;34m=\u001b[0m \u001b[0mself\u001b[0m\u001b[0;34m.\u001b[0m\u001b[0m_determine_default\u001b[0m\u001b[0;34m(\u001b[0m\u001b[0mproject\u001b[0m\u001b[0;34m)\u001b[0m\u001b[0;34m\u001b[0m\u001b[0;34m\u001b[0m\u001b[0m\n\u001b[0m\u001b[1;32m    179\u001b[0m         \u001b[0;32mif\u001b[0m \u001b[0mproject\u001b[0m \u001b[0;32mis\u001b[0m \u001b[0;32mNone\u001b[0m\u001b[0;34m:\u001b[0m\u001b[0;34m\u001b[0m\u001b[0;34m\u001b[0m\u001b[0m\n\u001b[1;32m    180\u001b[0m             raise EnvironmentError(\n",
      "\u001b[0;32m~/anaconda3/envs/audubon-37/lib/python3.7/site-packages/google/cloud/client.py\u001b[0m in \u001b[0;36m_determine_default\u001b[0;34m(project)\u001b[0m\n\u001b[1;32m    191\u001b[0m     \u001b[0;32mdef\u001b[0m \u001b[0m_determine_default\u001b[0m\u001b[0;34m(\u001b[0m\u001b[0mproject\u001b[0m\u001b[0;34m)\u001b[0m\u001b[0;34m:\u001b[0m\u001b[0;34m\u001b[0m\u001b[0;34m\u001b[0m\u001b[0m\n\u001b[1;32m    192\u001b[0m         \u001b[0;34m\"\"\"Helper:  use default project detection.\"\"\"\u001b[0m\u001b[0;34m\u001b[0m\u001b[0;34m\u001b[0m\u001b[0m\n\u001b[0;32m--> 193\u001b[0;31m         \u001b[0;32mreturn\u001b[0m \u001b[0m_determine_default_project\u001b[0m\u001b[0;34m(\u001b[0m\u001b[0mproject\u001b[0m\u001b[0;34m)\u001b[0m\u001b[0;34m\u001b[0m\u001b[0;34m\u001b[0m\u001b[0m\n\u001b[0m\u001b[1;32m    194\u001b[0m \u001b[0;34m\u001b[0m\u001b[0m\n\u001b[1;32m    195\u001b[0m \u001b[0;34m\u001b[0m\u001b[0m\n",
      "\u001b[0;32m~/anaconda3/envs/audubon-37/lib/python3.7/site-packages/google/cloud/_helpers.py\u001b[0m in \u001b[0;36m_determine_default_project\u001b[0;34m(project)\u001b[0m\n\u001b[1;32m    184\u001b[0m     \"\"\"\n\u001b[1;32m    185\u001b[0m     \u001b[0;32mif\u001b[0m \u001b[0mproject\u001b[0m \u001b[0;32mis\u001b[0m \u001b[0;32mNone\u001b[0m\u001b[0;34m:\u001b[0m\u001b[0;34m\u001b[0m\u001b[0;34m\u001b[0m\u001b[0m\n\u001b[0;32m--> 186\u001b[0;31m         \u001b[0m_\u001b[0m\u001b[0;34m,\u001b[0m \u001b[0mproject\u001b[0m \u001b[0;34m=\u001b[0m \u001b[0mgoogle\u001b[0m\u001b[0;34m.\u001b[0m\u001b[0mauth\u001b[0m\u001b[0;34m.\u001b[0m\u001b[0mdefault\u001b[0m\u001b[0;34m(\u001b[0m\u001b[0;34m)\u001b[0m\u001b[0;34m\u001b[0m\u001b[0;34m\u001b[0m\u001b[0m\n\u001b[0m\u001b[1;32m    187\u001b[0m     \u001b[0;32mreturn\u001b[0m \u001b[0mproject\u001b[0m\u001b[0;34m\u001b[0m\u001b[0;34m\u001b[0m\u001b[0m\n\u001b[1;32m    188\u001b[0m \u001b[0;34m\u001b[0m\u001b[0m\n",
      "\u001b[0;32m~/anaconda3/envs/audubon-37/lib/python3.7/site-packages/google/auth/_default.py\u001b[0m in \u001b[0;36mdefault\u001b[0;34m(scopes, request)\u001b[0m\n\u001b[1;32m    306\u001b[0m \u001b[0;34m\u001b[0m\u001b[0m\n\u001b[1;32m    307\u001b[0m     \u001b[0;32mfor\u001b[0m \u001b[0mchecker\u001b[0m \u001b[0;32min\u001b[0m \u001b[0mcheckers\u001b[0m\u001b[0;34m:\u001b[0m\u001b[0;34m\u001b[0m\u001b[0;34m\u001b[0m\u001b[0m\n\u001b[0;32m--> 308\u001b[0;31m         \u001b[0mcredentials\u001b[0m\u001b[0;34m,\u001b[0m \u001b[0mproject_id\u001b[0m \u001b[0;34m=\u001b[0m \u001b[0mchecker\u001b[0m\u001b[0;34m(\u001b[0m\u001b[0;34m)\u001b[0m\u001b[0;34m\u001b[0m\u001b[0;34m\u001b[0m\u001b[0m\n\u001b[0m\u001b[1;32m    309\u001b[0m         \u001b[0;32mif\u001b[0m \u001b[0mcredentials\u001b[0m \u001b[0;32mis\u001b[0m \u001b[0;32mnot\u001b[0m \u001b[0;32mNone\u001b[0m\u001b[0;34m:\u001b[0m\u001b[0;34m\u001b[0m\u001b[0;34m\u001b[0m\u001b[0m\n\u001b[1;32m    310\u001b[0m             \u001b[0mcredentials\u001b[0m \u001b[0;34m=\u001b[0m \u001b[0mwith_scopes_if_required\u001b[0m\u001b[0;34m(\u001b[0m\u001b[0mcredentials\u001b[0m\u001b[0;34m,\u001b[0m \u001b[0mscopes\u001b[0m\u001b[0;34m)\u001b[0m\u001b[0;34m\u001b[0m\u001b[0;34m\u001b[0m\u001b[0m\n",
      "\u001b[0;32m~/anaconda3/envs/audubon-37/lib/python3.7/site-packages/google/auth/_default.py\u001b[0m in \u001b[0;36m_get_explicit_environ_credentials\u001b[0;34m()\u001b[0m\n\u001b[1;32m    164\u001b[0m     \u001b[0;32mif\u001b[0m \u001b[0mexplicit_file\u001b[0m \u001b[0;32mis\u001b[0m \u001b[0;32mnot\u001b[0m \u001b[0;32mNone\u001b[0m\u001b[0;34m:\u001b[0m\u001b[0;34m\u001b[0m\u001b[0;34m\u001b[0m\u001b[0m\n\u001b[1;32m    165\u001b[0m         credentials, project_id = _load_credentials_from_file(\n\u001b[0;32m--> 166\u001b[0;31m             \u001b[0mos\u001b[0m\u001b[0;34m.\u001b[0m\u001b[0menviron\u001b[0m\u001b[0;34m[\u001b[0m\u001b[0menvironment_vars\u001b[0m\u001b[0;34m.\u001b[0m\u001b[0mCREDENTIALS\u001b[0m\u001b[0;34m]\u001b[0m\u001b[0;34m\u001b[0m\u001b[0;34m\u001b[0m\u001b[0m\n\u001b[0m\u001b[1;32m    167\u001b[0m         )\n\u001b[1;32m    168\u001b[0m \u001b[0;34m\u001b[0m\u001b[0m\n",
      "\u001b[0;32m~/anaconda3/envs/audubon-37/lib/python3.7/site-packages/google/auth/_default.py\u001b[0m in \u001b[0;36m_load_credentials_from_file\u001b[0;34m(filename)\u001b[0m\n\u001b[1;32m     90\u001b[0m     \u001b[0;32mif\u001b[0m \u001b[0;32mnot\u001b[0m \u001b[0mos\u001b[0m\u001b[0;34m.\u001b[0m\u001b[0mpath\u001b[0m\u001b[0;34m.\u001b[0m\u001b[0mexists\u001b[0m\u001b[0;34m(\u001b[0m\u001b[0mfilename\u001b[0m\u001b[0;34m)\u001b[0m\u001b[0;34m:\u001b[0m\u001b[0;34m\u001b[0m\u001b[0;34m\u001b[0m\u001b[0m\n\u001b[1;32m     91\u001b[0m         raise exceptions.DefaultCredentialsError(\n\u001b[0;32m---> 92\u001b[0;31m             \u001b[0;34m\"File {} was not found.\"\u001b[0m\u001b[0;34m.\u001b[0m\u001b[0mformat\u001b[0m\u001b[0;34m(\u001b[0m\u001b[0mfilename\u001b[0m\u001b[0;34m)\u001b[0m\u001b[0;34m\u001b[0m\u001b[0;34m\u001b[0m\u001b[0m\n\u001b[0m\u001b[1;32m     93\u001b[0m         )\n\u001b[1;32m     94\u001b[0m \u001b[0;34m\u001b[0m\u001b[0m\n",
      "\u001b[0;31mDefaultCredentialsError\u001b[0m: File your_path_to_google_auth.json was not found."
     ]
    }
   ],
   "source": [
    "import os\n",
    "# The path to your json credentials file. Replace with your corresponding file.\n",
    "os.environ[\"GOOGLE_APPLICATION_CREDENTIALS\"] = \"your_path_to_google_auth.json\"\n",
    "\n",
    "from google.cloud import bigquery\n",
    "client = bigquery.Client()\n",
    "project = 'birdproject-2020' # Change this project to your \n",
    "source_dataset_id = 'audubon_cdc'\n",
    "# source_table_id = 'us_states'\n",
    "shared_dataset_ref = client.dataset(source_dataset_id)\n",
    "\n",
    "# This is the parameter used to create the years that will go into the view\n",
    "year = 1900\n",
    "\n",
    "# The name of the view in our DB\n",
    "view_ref = shared_dataset_ref.table(\"noaa_from_\" + str(year) + \"_to_present\")\n",
    "view = bigquery.Table(view_ref)\n",
    "\n",
    "# The string that will contain the SQL we will use to create our view\n",
    "sql_statement_accumulated = \"\"\n",
    "tables_used = []\n",
    "tables = client.list_tables(\"bigquery-public-data.ghcn_d\")\n",
    "\n",
    "# Iterate over all tables in the schema and store the tables we will use in the tables_used array\n",
    "for table in tables:\n",
    "    try:\n",
    "        if int(table.table_id[-4:]) >= year:\n",
    "            tables_used.append(table.table_id)\n",
    "    except:\n",
    "        pass\n",
    "    \n",
    "# Iterate over all values in an array and annex to the sql_statement_accumulated\n",
    "for index in range(0,len(tables_used)):\n",
    "    if index == len(tables_used) - 1:\n",
    "        sql_template = 'SELECT * FROM `{}`'\n",
    "        sql_statement_accumulated = sql_statement_accumulated + sql_template.format(\"bigquery-public-data.ghcn_d.\" + str(tables_used[index]))\n",
    "    else:\n",
    "        sql_template = 'SELECT * FROM `{}` UNION ALL '\n",
    "        sql_statement_accumulated = sql_statement_accumulated + sql_template.format(\"bigquery-public-data.ghcn_d.\" + str(tables_used[index]))\n",
    "        \n",
    "\n",
    "# Assiging the SQL to the associated view\n",
    "view.view_query = sql_statement_accumulated\n",
    "view = client.create_table(view)  # API request\n",
    "\n",
    "print(\"Successfully created view at {}\".format(view.full_table_id))"
   ]
  },
  {
   "cell_type": "markdown",
   "metadata": {},
   "source": [
    "## Creating the DB View to flatten the data\n",
    "The below notebook creates a DB View in your Google BigQuery project consisting of the flatten data from the union of all data from NOAA stations given the specified year."
   ]
  },
  {
   "cell_type": "code",
   "execution_count": 2,
   "metadata": {
    "scrolled": true
   },
   "outputs": [
    {
     "name": "stdout",
     "output_type": "stream",
     "text": [
      "Successfully created view at birdproject-2020:audubon_cdc.flatten_noaa_from_1900_to_present\n"
     ]
    }
   ],
   "source": [
    "import pandas as pd\n",
    "\n",
    "# Query for flattening the data\n",
    "query = \"\"\"\n",
    "SELECT DISTINCT\n",
    "  base.id, \n",
    "  base.date,\n",
    "  stations.name,\n",
    "  stations.state,\n",
    "  temp_min.value as temp_min_value,\n",
    "  temp_max.value as temp_max_value,\n",
    "  precipitation.value as precipitation_value,\n",
    "  temp_avg.value as temp_avg,\n",
    "  snow.value as snow,\n",
    "  snwd.value as snwd\n",
    "\n",
    "FROM {} base\n",
    "LEFT JOIN {} temp_min ON base.id = temp_min.id AND base.date = temp_min.date AND temp_min.element = 'TMIN'\n",
    "LEFT JOIN {} temp_max ON base.id = temp_max.id AND base.date = temp_max.date AND temp_max.element = 'TMAX'\n",
    "LEFT JOIN {} precipitation ON base.id = precipitation.id AND base.date = precipitation.date AND precipitation.element = 'PRCP'\n",
    "LEFT JOIN {} temp_avg ON base.id = temp_avg.id AND base.date = temp_avg.date AND temp_avg.element = 'TAVG'\n",
    "LEFT JOIN {} snow ON base.id = snow.id AND base.date = snow.date AND snow.element = 'SNOW'\n",
    "LEFT JOIN {} snwd ON base.id = snwd.id AND base.date = snwd.date AND snwd.element = 'SNWD'\n",
    "\n",
    "INNER JOIN `bigquery-public-data`.ghcn_d.ghcnd_stations stations ON base.id = stations.id\n",
    "\n",
    "ORDER BY base.id, base.date\n",
    "\"\"\"\n",
    "\n",
    "# This is the from clause table we will use in our project. \n",
    "# Please replace `fjvr-testing` with your PROJECT NAME\n",
    "parameter = f\"`{project}`.audubon_cdc.noaa_from_1900_to_present\"\n",
    "# In this statement we replace the {} with the corresponding table parameter\n",
    "query = query.format(parameter,parameter,parameter,parameter,parameter,parameter,parameter)\n",
    "\n",
    "# Name of the view in our DB\n",
    "view_ref = shared_dataset_ref.table(\"flatten_noaa_from_\" + str(year) + \"_to_present\")\n",
    "view = bigquery.Table(view_ref)\n",
    "\n",
    "# Assigning the SQL string to the view query\n",
    "view.view_query = query\n",
    "\n",
    "# Creating the view associated with the query\n",
    "view = client.create_table(view)  # API request\n",
    "\n",
    "print(\"Successfully created view at {}\".format(view.full_table_id))"
   ]
  }
 ],
 "metadata": {
  "kernelspec": {
   "display_name": "Python 3",
   "language": "python",
   "name": "python3"
  },
  "language_info": {
   "codemirror_mode": {
    "name": "ipython",
    "version": 3
   },
   "file_extension": ".py",
   "mimetype": "text/x-python",
   "name": "python",
   "nbconvert_exporter": "python",
   "pygments_lexer": "ipython3",
   "version": "3.7.7"
  }
 },
 "nbformat": 4,
 "nbformat_minor": 2
}
