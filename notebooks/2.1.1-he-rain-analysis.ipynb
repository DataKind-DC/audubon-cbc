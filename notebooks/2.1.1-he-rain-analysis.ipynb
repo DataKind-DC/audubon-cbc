{
 "cells": [
  {
   "cell_type": "markdown",
   "metadata": {},
   "source": [
    "# Rain Analysis\n",
    "### Purpose\n",
    "This notebook will look at volunteer trends for reporting rain, adressing the Github issue #54\n",
    "\n",
    "### Author: \n",
    "Hamza El-Saawy\n",
    "### Date: \n",
    "2020-06-14\n",
    "### Update Date: \n",
    "2020-08-10\n",
    "\n",
    "### Inputs \n",
    " - `1.3-rec-connecting-fips-ecosystem-data.txt`\n",
    "\n",
    "### Output Files\n",
    "None\n",
    "\n",
    "## Steps or Proceedures in the notebook \n",
    " - Clean the CBC ecological data \n",
    " - Compare to NOAA data\n",
    " - Make some plots\n",
    "\n",
    "## Where the Data will Be Saved \n",
    "n/a\n",
    "\n",
    "## Notes\n",
    "the flattened NOAA BigQuery drops the `QFLAG` column, so we cannot drop erroneous data and also does not contain the `WT**` `element` values (which can be used alongside the `PRCP` fields to determin precipitation)\n",
    "\n",
    "Additionally, there are more permutations of which stations to consider (ie closest in elevation amongst those in the same ecosystem), but that would be combinatorial and there were little indicators that these would have yield better results."
   ]
  },
  {
   "cell_type": "code",
   "execution_count": 2,
   "metadata": {},
   "outputs": [],
   "source": [
    "import os\n",
    "import numpy as np\n",
    "import pandas as pd\n",
    "import matplotlib.pyplot as plt\n",
    "import seaborn as sns"
   ]
  },
  {
   "cell_type": "code",
   "execution_count": 3,
   "metadata": {},
   "outputs": [],
   "source": [
    "import scipy.stats as stats"
   ]
  },
  {
   "cell_type": "code",
   "execution_count": 4,
   "metadata": {},
   "outputs": [],
   "source": [
    "import sklearn.metrics as metrics"
   ]
  },
  {
   "cell_type": "code",
   "execution_count": 5,
   "metadata": {},
   "outputs": [],
   "source": [
    "pd.options.display.max_rows = 250"
   ]
  },
  {
   "cell_type": "code",
   "execution_count": 6,
   "metadata": {},
   "outputs": [],
   "source": [
    "sns.set(style=\"darkgrid\")"
   ]
  },
  {
   "cell_type": "code",
   "execution_count": 7,
   "metadata": {},
   "outputs": [],
   "source": [
    "# get the haversine distance formula fromt the script (w/o executing the '__main__' part)\n",
    "%run -ni '../scripts/noaa.py'"
   ]
  },
  {
   "cell_type": "code",
   "execution_count": 8,
   "metadata": {},
   "outputs": [],
   "source": [
    "#\n",
    "# \n",
    "#\n",
    "\n",
    "# drop all stations farther than this threshold (meters)\n",
    "#  16km ~= 10 mi\n",
    "DISTANCE_THRESHOLD = 15000\n",
    "\n",
    "# drop all stations farther than this threshold (meters) in elevation\n",
    "#  the farthest is 3.5km, with the mean being 70m and median being 23m\n",
    "ELEVATION_THRESHOLD = 50\n",
    "\n",
    "# consider stations to consense on a rain value if a fraction of them or more all have the same reading\n",
    "# at the most abiguous, the fraction will be 0.5, so values are symmetric around 1/2: 0.25 in agreement is the same as 0.75 agreeing on the opposite\n",
    "AGREEMENT_THRESHOLD = 0.75\n",
    "AGREEMENT_THRESHOLD = max(AGREEMENT_THRESHOLD, 1 - AGREEMENT_THRESHOLD)"
   ]
  },
  {
   "cell_type": "code",
   "execution_count": 9,
   "metadata": {},
   "outputs": [],
   "source": [
    "DATA_PATH = '../data/Cloud_Data'\n",
    "ECO_DATA_PATH =  os.path.join(DATA_PATH, '1.3-rec-connecting-fips-ecosystem-data.txt')"
   ]
  },
  {
   "cell_type": "code",
   "execution_count": 10,
   "metadata": {},
   "outputs": [
    {
     "name": "stderr",
     "output_type": "stream",
     "text": [
      "/Users/rcdebaca/.pyenv/versions/funhacks371/lib/python3.7/site-packages/IPython/core/interactiveshell.py:3063: DtypeWarning: Columns (62,64,65,71,73,75,77) have mixed types.Specify dtype option on import or set low_memory=False.\n",
      "  interactivity=interactivity, compiler=compiler, result=result)\n"
     ]
    }
   ],
   "source": [
    "eco_data = pd.read_csv(ECO_DATA_PATH, encoding = \"ISO-8859-1\", sep=\"\\t\", compression = \"gzip\")"
   ]
  },
  {
   "cell_type": "code",
   "execution_count": 11,
   "metadata": {},
   "outputs": [
    {
     "data": {
      "text/html": [
       "<div>\n",
       "<style scoped>\n",
       "    .dataframe tbody tr th:only-of-type {\n",
       "        vertical-align: middle;\n",
       "    }\n",
       "\n",
       "    .dataframe tbody tr th {\n",
       "        vertical-align: top;\n",
       "    }\n",
       "\n",
       "    .dataframe thead th {\n",
       "        text-align: right;\n",
       "    }\n",
       "</style>\n",
       "<table border=\"1\" class=\"dataframe\">\n",
       "  <thead>\n",
       "    <tr style=\"text-align: right;\">\n",
       "      <th></th>\n",
       "      <th>circle_name</th>\n",
       "      <th>country_state</th>\n",
       "      <th>lat</th>\n",
       "      <th>lon</th>\n",
       "      <th>count_year</th>\n",
       "      <th>count_date</th>\n",
       "      <th>n_field_counters</th>\n",
       "      <th>n_feeder_counters</th>\n",
       "      <th>min_field_parties</th>\n",
       "      <th>max_field_parties</th>\n",
       "      <th>...</th>\n",
       "      <th>block_fips</th>\n",
       "      <th>county_fips</th>\n",
       "      <th>Ecosys_circle</th>\n",
       "      <th>Usgsid_sys_circle</th>\n",
       "      <th>Nlcd_code_circle</th>\n",
       "      <th>Nlcd_circle</th>\n",
       "      <th>Ecosys_station</th>\n",
       "      <th>Usgsid_sys_station</th>\n",
       "      <th>Nlcd_code_station</th>\n",
       "      <th>Nlcd_station</th>\n",
       "    </tr>\n",
       "  </thead>\n",
       "  <tbody>\n",
       "    <tr>\n",
       "      <th>0</th>\n",
       "      <td>Hawai'i: Volcano N.P.</td>\n",
       "      <td>US-HI</td>\n",
       "      <td>19.4333</td>\n",
       "      <td>-155.2833</td>\n",
       "      <td>1955</td>\n",
       "      <td>1955-01-01</td>\n",
       "      <td>11.0</td>\n",
       "      <td>NaN</td>\n",
       "      <td>NaN</td>\n",
       "      <td>NaN</td>\n",
       "      <td>...</td>\n",
       "      <td>NaN</td>\n",
       "      <td>NaN</td>\n",
       "      <td>NaN</td>\n",
       "      <td>NaN</td>\n",
       "      <td>NaN</td>\n",
       "      <td>NaN</td>\n",
       "      <td>NaN</td>\n",
       "      <td>NaN</td>\n",
       "      <td>NaN</td>\n",
       "      <td>NaN</td>\n",
       "    </tr>\n",
       "    <tr>\n",
       "      <th>1</th>\n",
       "      <td>Hawai'i: Volcano N.P.</td>\n",
       "      <td>US-HI</td>\n",
       "      <td>19.4333</td>\n",
       "      <td>-155.2833</td>\n",
       "      <td>1956</td>\n",
       "      <td>1955-12-31</td>\n",
       "      <td>11.0</td>\n",
       "      <td>NaN</td>\n",
       "      <td>NaN</td>\n",
       "      <td>NaN</td>\n",
       "      <td>...</td>\n",
       "      <td>NaN</td>\n",
       "      <td>NaN</td>\n",
       "      <td>NaN</td>\n",
       "      <td>NaN</td>\n",
       "      <td>NaN</td>\n",
       "      <td>NaN</td>\n",
       "      <td>NaN</td>\n",
       "      <td>NaN</td>\n",
       "      <td>NaN</td>\n",
       "      <td>NaN</td>\n",
       "    </tr>\n",
       "    <tr>\n",
       "      <th>2</th>\n",
       "      <td>Hawai'i: Volcano N.P.</td>\n",
       "      <td>US-HI</td>\n",
       "      <td>19.4333</td>\n",
       "      <td>-155.2833</td>\n",
       "      <td>1968</td>\n",
       "      <td>1967-12-30</td>\n",
       "      <td>2.0</td>\n",
       "      <td>NaN</td>\n",
       "      <td>NaN</td>\n",
       "      <td>NaN</td>\n",
       "      <td>...</td>\n",
       "      <td>NaN</td>\n",
       "      <td>NaN</td>\n",
       "      <td>NaN</td>\n",
       "      <td>NaN</td>\n",
       "      <td>NaN</td>\n",
       "      <td>NaN</td>\n",
       "      <td>NaN</td>\n",
       "      <td>NaN</td>\n",
       "      <td>NaN</td>\n",
       "      <td>NaN</td>\n",
       "    </tr>\n",
       "    <tr>\n",
       "      <th>3</th>\n",
       "      <td>Hawai'i: Volcano N.P.</td>\n",
       "      <td>US-HI</td>\n",
       "      <td>19.4333</td>\n",
       "      <td>-155.2833</td>\n",
       "      <td>1968</td>\n",
       "      <td>1967-12-30</td>\n",
       "      <td>2.0</td>\n",
       "      <td>NaN</td>\n",
       "      <td>NaN</td>\n",
       "      <td>NaN</td>\n",
       "      <td>...</td>\n",
       "      <td>NaN</td>\n",
       "      <td>NaN</td>\n",
       "      <td>NaN</td>\n",
       "      <td>NaN</td>\n",
       "      <td>NaN</td>\n",
       "      <td>NaN</td>\n",
       "      <td>NaN</td>\n",
       "      <td>NaN</td>\n",
       "      <td>NaN</td>\n",
       "      <td>NaN</td>\n",
       "    </tr>\n",
       "    <tr>\n",
       "      <th>4</th>\n",
       "      <td>Hawai'i: Volcano N.P.</td>\n",
       "      <td>US-HI</td>\n",
       "      <td>19.4333</td>\n",
       "      <td>-155.2833</td>\n",
       "      <td>1968</td>\n",
       "      <td>1967-12-30</td>\n",
       "      <td>2.0</td>\n",
       "      <td>NaN</td>\n",
       "      <td>NaN</td>\n",
       "      <td>NaN</td>\n",
       "      <td>...</td>\n",
       "      <td>NaN</td>\n",
       "      <td>NaN</td>\n",
       "      <td>NaN</td>\n",
       "      <td>NaN</td>\n",
       "      <td>NaN</td>\n",
       "      <td>NaN</td>\n",
       "      <td>NaN</td>\n",
       "      <td>NaN</td>\n",
       "      <td>NaN</td>\n",
       "      <td>NaN</td>\n",
       "    </tr>\n",
       "  </tbody>\n",
       "</table>\n",
       "<p>5 rows × 78 columns</p>\n",
       "</div>"
      ],
      "text/plain": [
       "             circle_name country_state      lat       lon  count_year  \\\n",
       "0  Hawai'i: Volcano N.P.         US-HI  19.4333 -155.2833        1955   \n",
       "1  Hawai'i: Volcano N.P.         US-HI  19.4333 -155.2833        1956   \n",
       "2  Hawai'i: Volcano N.P.         US-HI  19.4333 -155.2833        1968   \n",
       "3  Hawai'i: Volcano N.P.         US-HI  19.4333 -155.2833        1968   \n",
       "4  Hawai'i: Volcano N.P.         US-HI  19.4333 -155.2833        1968   \n",
       "\n",
       "   count_date  n_field_counters  n_feeder_counters  min_field_parties  \\\n",
       "0  1955-01-01              11.0                NaN                NaN   \n",
       "1  1955-12-31              11.0                NaN                NaN   \n",
       "2  1967-12-30               2.0                NaN                NaN   \n",
       "3  1967-12-30               2.0                NaN                NaN   \n",
       "4  1967-12-30               2.0                NaN                NaN   \n",
       "\n",
       "   max_field_parties  ...  block_fips  county_fips  Ecosys_circle  \\\n",
       "0                NaN  ...         NaN          NaN            NaN   \n",
       "1                NaN  ...         NaN          NaN            NaN   \n",
       "2                NaN  ...         NaN          NaN            NaN   \n",
       "3                NaN  ...         NaN          NaN            NaN   \n",
       "4                NaN  ...         NaN          NaN            NaN   \n",
       "\n",
       "   Usgsid_sys_circle  Nlcd_code_circle Nlcd_circle  Ecosys_station  \\\n",
       "0                NaN               NaN         NaN             NaN   \n",
       "1                NaN               NaN         NaN             NaN   \n",
       "2                NaN               NaN         NaN             NaN   \n",
       "3                NaN               NaN         NaN             NaN   \n",
       "4                NaN               NaN         NaN             NaN   \n",
       "\n",
       "   Usgsid_sys_station  Nlcd_code_station  Nlcd_station  \n",
       "0                 NaN                NaN           NaN  \n",
       "1                 NaN                NaN           NaN  \n",
       "2                 NaN                NaN           NaN  \n",
       "3                 NaN                NaN           NaN  \n",
       "4                 NaN                NaN           NaN  \n",
       "\n",
       "[5 rows x 78 columns]"
      ]
     },
     "execution_count": 11,
     "metadata": {},
     "output_type": "execute_result"
    }
   ],
   "source": [
    "eco_data.head()"
   ]
  },
  {
   "cell_type": "code",
   "execution_count": 12,
   "metadata": {},
   "outputs": [],
   "source": [
    "\n",
    "eco_data = eco_data.rename(columns={'circle_name': 'c_name', 'circle_id': 'c_id',\n",
    "                                    'lat': 'c_lat', 'lon': 'c_lon', 'circle_elev': 'c_elev',\n",
    "                                    'Ecosys_circle': 'c_ecosys', 'Nlcd_code_circle': 'c_nlcdcode',\n",
    "                                    'id': 's_id', 'latitude': 's_lat', 'longitude': 's_lon', 'elevation': 's_elev',\n",
    "                                    'Ecosys_station': 's_ecosys', 'Nlcd_code_station': 's_nlcdcode',})"
   ]
  },
  {
   "cell_type": "code",
   "execution_count": 13,
   "metadata": {},
   "outputs": [
    {
     "data": {
      "text/plain": [
       "(756378, 78)"
      ]
     },
     "execution_count": 13,
     "metadata": {},
     "output_type": "execute_result"
    }
   ],
   "source": [
    "# Observe the Size of the data frame\n",
    "eco_data.shape"
   ]
  },
  {
   "cell_type": "code",
   "execution_count": 14,
   "metadata": {},
   "outputs": [
    {
     "data": {
      "text/plain": [
       "80765"
      ]
     },
     "execution_count": 14,
     "metadata": {},
     "output_type": "execute_result"
    }
   ],
   "source": [
    "# Observe the number of unique circles in the dataframe \n",
    "eco_data['ui'].nunique()"
   ]
  },
  {
   "cell_type": "code",
   "execution_count": 15,
   "metadata": {},
   "outputs": [],
   "source": [
    "# Drop all the other data that wont be needed\n",
    "prcp_data = eco_data.loc[:, ['count_date', 'c_name', 'ui','country_state', 'c_id', 'c_lat', 'c_lon',\n",
    "                              'am_rain', 'pm_rain', 'c_elev', 'c_ecosys', 'c_nlcdcode',\n",
    "                              's_id', 's_lat', 's_lon', 's_elev', 's_ecosys', 's_nlcdcode','precipitation_value',\n",
    "                             ]]"
   ]
  },
  {
   "cell_type": "markdown",
   "metadata": {},
   "source": [
    "## Data Prep"
   ]
  },
  {
   "cell_type": "markdown",
   "metadata": {},
   "source": [
    "#### Stations Reporting Rain \n",
    "A ghcn station will report rain by the precipitation value. "
   ]
  },
  {
   "cell_type": "code",
   "execution_count": 16,
   "metadata": {},
   "outputs": [],
   "source": [
    "# Create the field s_rain which is True if the row has a value of precipitation \n",
    "# greater than 0 (an indicator that it rained) and is NA otherwise\n",
    "\n",
    "# precipitation is GHCN's measure of rain fall, in mm\n",
    "# pd.NA preserved int-ness of bools, so they are not converted to floats, and supports three-valued (kleene) logic\n",
    "prcp_data['s_rain'] = np.where(prcp_data.precipitation_value.isna(), pd.NA, prcp_data.precipitation_value > 0)"
   ]
  },
  {
   "cell_type": "code",
   "execution_count": 17,
   "metadata": {},
   "outputs": [
    {
     "data": {
      "text/html": [
       "<div>\n",
       "<style scoped>\n",
       "    .dataframe tbody tr th:only-of-type {\n",
       "        vertical-align: middle;\n",
       "    }\n",
       "\n",
       "    .dataframe tbody tr th {\n",
       "        vertical-align: top;\n",
       "    }\n",
       "\n",
       "    .dataframe thead th {\n",
       "        text-align: right;\n",
       "    }\n",
       "</style>\n",
       "<table border=\"1\" class=\"dataframe\">\n",
       "  <thead>\n",
       "    <tr style=\"text-align: right;\">\n",
       "      <th></th>\n",
       "      <th>precipitation_value</th>\n",
       "      <th>s_rain</th>\n",
       "    </tr>\n",
       "  </thead>\n",
       "  <tbody>\n",
       "    <tr>\n",
       "      <th>0</th>\n",
       "      <td>180.0</td>\n",
       "      <td>True</td>\n",
       "    </tr>\n",
       "    <tr>\n",
       "      <th>1</th>\n",
       "      <td>290.0</td>\n",
       "      <td>True</td>\n",
       "    </tr>\n",
       "    <tr>\n",
       "      <th>2</th>\n",
       "      <td>NaN</td>\n",
       "      <td>&lt;NA&gt;</td>\n",
       "    </tr>\n",
       "    <tr>\n",
       "      <th>3</th>\n",
       "      <td>NaN</td>\n",
       "      <td>&lt;NA&gt;</td>\n",
       "    </tr>\n",
       "    <tr>\n",
       "      <th>4</th>\n",
       "      <td>NaN</td>\n",
       "      <td>&lt;NA&gt;</td>\n",
       "    </tr>\n",
       "  </tbody>\n",
       "</table>\n",
       "</div>"
      ],
      "text/plain": [
       "   precipitation_value s_rain\n",
       "0                180.0   True\n",
       "1                290.0   True\n",
       "2                  NaN   <NA>\n",
       "3                  NaN   <NA>\n",
       "4                  NaN   <NA>"
      ]
     },
     "execution_count": 17,
     "metadata": {},
     "output_type": "execute_result"
    }
   ],
   "source": [
    "prcp_data[['precipitation_value', 's_rain']].head()"
   ]
  },
  {
   "cell_type": "markdown",
   "metadata": {},
   "source": [
    "#### Volunteer records on rain data \n",
    "\n",
    "CBC volunteers record the rain in two fields am_rain and pm_rain. \n",
    "\n",
    "`[am|pm]_rain` are strings containing `1`:`4`, for heavy, light, none, or unknow rain, respectively.  \n",
    "If the string contains `4`, then -- regardless of observations in that string (e.g. `2,4`) -- it will be marked as `NaN`  \n",
    "If the string contains either `1` or `2` in the am or pm, then there was precipitation that day.   \n",
    "If both am and pm are `3`, then there was no precipitation that day.  \n",
    "Else, we mark `nan`"
   ]
  },
  {
   "cell_type": "code",
   "execution_count": 18,
   "metadata": {},
   "outputs": [],
   "source": [
    "# Mark circles with '4' as pd.NA and if the circle is na mark it as pd.NA\n",
    "for c in ['am_rain', 'pm_rain']:\n",
    "    prcp_data.loc[prcp_data[c].isna(), c] = pd.NA\n",
    "    prcp_data.loc[prcp_data[c].str.contains('4', na=False), c] = pd.NA"
   ]
  },
  {
   "cell_type": "code",
   "execution_count": 19,
   "metadata": {},
   "outputs": [],
   "source": [
    "# Use Regex to find the rows that contain a \"1\" and/or \"2\". \n",
    "# If those values are recorded set the value of c_rain to True\n",
    "# If a \"3\" is recorded set c_rain to False\n",
    "\n",
    "prcp_data['c_rain'] = pd.NA\n",
    "\n",
    "prcp_data.loc[(prcp_data.am_rain.str.contains('[12]', na=False) | prcp_data.pm_rain.str.contains('[12]', na=False)), 'c_rain'] = True\n",
    "prcp_data.loc[((prcp_data.am_rain == '3') & (prcp_data.pm_rain == '3')), 'c_rain'] = False\n",
    "\n"
   ]
  },
  {
   "cell_type": "markdown",
   "metadata": {},
   "source": [
    "## Comparing stations and circles\n",
    "1. Calulate the distance between the station and the circle. Field is 'distance' \n",
    "2. Calulate the absolute change in elivation between the station and the circle. Field is 'd_elev'\n",
    "3. Calulate if station and circle share ecosystem. Fields 'same_ecosys' and 'same_nlcd'"
   ]
  },
  {
   "cell_type": "code",
   "execution_count": 20,
   "metadata": {},
   "outputs": [],
   "source": [
    "# Calulate the distace between the station and the circle using the haversine formula \n",
    "# (haversine calulates the distance on a globe)\n",
    "prcp_data['distance'] = prcp_data.apply(lambda tt: haversine_formula((tt.c_lat, tt.c_lon), (tt.s_lat, tt.s_lon)), axis=1)\n"
   ]
  },
  {
   "cell_type": "code",
   "execution_count": 21,
   "metadata": {},
   "outputs": [],
   "source": [
    "# Calulcate the absolute difference in Elivation between the circle and the station\n",
    "prcp_data['d_elev'] = np.abs(prcp_data.s_elev - prcp_data.c_elev)"
   ]
  },
  {
   "cell_type": "code",
   "execution_count": 22,
   "metadata": {},
   "outputs": [],
   "source": [
    "# convert to int array to get nullable boolean arrays\n",
    "#  https://pandas.pydata.org/pandas-docs/stable/user_guide/boolean.html#kleene-logical-operations\n",
    "prcp_data['same_ecosys'] = prcp_data.c_ecosys.astype('Int64') == prcp_data.s_ecosys.astype('Int64')\n",
    "prcp_data['same_nlcd'] = prcp_data.c_nlcdcode.astype('Int64') == prcp_data.s_nlcdcode.astype('Int64')"
   ]
  },
  {
   "cell_type": "markdown",
   "metadata": {},
   "source": [
    "## Apply Data Limits on Elevation and Distance and Prep for Analysis \n",
    "1. Drop rows where the circle and the station are too far away from each other in either distance or elivation\n",
    "2. Remove columns we dont need\n",
    "3. Sort the dataset by circle then station"
   ]
  },
  {
   "cell_type": "code",
   "execution_count": 23,
   "metadata": {},
   "outputs": [],
   "source": [
    "# drop everything outside of the distance or elevation threshold\n",
    "prcp_data.drop(prcp_data[prcp_data.distance > DISTANCE_THRESHOLD].index, inplace=True)\n",
    "prcp_data.drop(prcp_data[prcp_data.d_elev > ELEVATION_THRESHOLD].index, inplace=True)"
   ]
  },
  {
   "cell_type": "code",
   "execution_count": 24,
   "metadata": {},
   "outputs": [],
   "source": [
    "# once again dump excess data\n",
    "prcp_data.drop(columns=['am_rain', 'pm_rain','c_elev', 'c_ecosys', 'c_nlcdcode', \n",
    "                        's_elev', 's_ecosys', 's_nlcdcode','precipitation_value',], inplace=True)"
   ]
  },
  {
   "cell_type": "code",
   "execution_count": 25,
   "metadata": {},
   "outputs": [],
   "source": [
    "# isolate only the circle specific volunteer data\n",
    "circle_obs = prcp_data[['count_date', 'c_name', 'ui','country_state', \n",
    "                        'c_id', 'c_lat', 'c_lon','c_rain']].groupby(['c_id', 'count_date']).agg('first')"
   ]
  },
  {
   "cell_type": "code",
   "execution_count": 26,
   "metadata": {},
   "outputs": [],
   "source": [
    "# sort by circle then station information\n",
    "prcp_data = prcp_data.set_index(['c_id', 'count_date', 's_id']).sort_index()"
   ]
  },
  {
   "cell_type": "code",
   "execution_count": 27,
   "metadata": {},
   "outputs": [
    {
     "data": {
      "text/html": [
       "<div>\n",
       "<style scoped>\n",
       "    .dataframe tbody tr th:only-of-type {\n",
       "        vertical-align: middle;\n",
       "    }\n",
       "\n",
       "    .dataframe tbody tr th {\n",
       "        vertical-align: top;\n",
       "    }\n",
       "\n",
       "    .dataframe thead th {\n",
       "        text-align: right;\n",
       "    }\n",
       "</style>\n",
       "<table border=\"1\" class=\"dataframe\">\n",
       "  <thead>\n",
       "    <tr style=\"text-align: right;\">\n",
       "      <th></th>\n",
       "      <th></th>\n",
       "      <th></th>\n",
       "      <th>c_name</th>\n",
       "      <th>ui</th>\n",
       "      <th>country_state</th>\n",
       "      <th>c_lat</th>\n",
       "      <th>c_lon</th>\n",
       "      <th>s_lat</th>\n",
       "      <th>s_lon</th>\n",
       "      <th>s_rain</th>\n",
       "      <th>c_rain</th>\n",
       "      <th>distance</th>\n",
       "      <th>d_elev</th>\n",
       "      <th>same_ecosys</th>\n",
       "      <th>same_nlcd</th>\n",
       "    </tr>\n",
       "    <tr>\n",
       "      <th>c_id</th>\n",
       "      <th>count_date</th>\n",
       "      <th>s_id</th>\n",
       "      <th></th>\n",
       "      <th></th>\n",
       "      <th></th>\n",
       "      <th></th>\n",
       "      <th></th>\n",
       "      <th></th>\n",
       "      <th></th>\n",
       "      <th></th>\n",
       "      <th></th>\n",
       "      <th></th>\n",
       "      <th></th>\n",
       "      <th></th>\n",
       "      <th></th>\n",
       "    </tr>\n",
       "  </thead>\n",
       "  <tbody>\n",
       "    <tr>\n",
       "      <th>87ymwsn</th>\n",
       "      <th>1968-12-26</th>\n",
       "      <th>USC00519130</th>\n",
       "      <td>Kaua'i: Waimea</td>\n",
       "      <td>22.0833-159.6667_1969</td>\n",
       "      <td>US-HI</td>\n",
       "      <td>22.0833</td>\n",
       "      <td>-159.6667</td>\n",
       "      <td>22.1167</td>\n",
       "      <td>-159.6167</td>\n",
       "      <td>&lt;NA&gt;</td>\n",
       "      <td>False</td>\n",
       "      <td>6352.278644</td>\n",
       "      <td>36.16</td>\n",
       "      <td>&lt;NA&gt;</td>\n",
       "      <td>&lt;NA&gt;</td>\n",
       "    </tr>\n",
       "    <tr>\n",
       "      <th rowspan=\"99\" valign=\"top\">87ysunb</th>\n",
       "      <th rowspan=\"13\" valign=\"top\">1971-12-27</th>\n",
       "      <th>US1HIKI0004</th>\n",
       "      <td>Kaua'i: Lihu'e</td>\n",
       "      <td>21.9667-159.4333_1972</td>\n",
       "      <td>US-HI</td>\n",
       "      <td>21.9667</td>\n",
       "      <td>-159.4333</td>\n",
       "      <td>21.9249</td>\n",
       "      <td>-159.4983</td>\n",
       "      <td>&lt;NA&gt;</td>\n",
       "      <td>True</td>\n",
       "      <td>8159.889753</td>\n",
       "      <td>43.84</td>\n",
       "      <td>&lt;NA&gt;</td>\n",
       "      <td>&lt;NA&gt;</td>\n",
       "    </tr>\n",
       "    <tr>\n",
       "      <th>US1HIKI0014</th>\n",
       "      <td>Kaua'i: Lihu'e</td>\n",
       "      <td>21.9667-159.4333_1972</td>\n",
       "      <td>US-HI</td>\n",
       "      <td>21.9667</td>\n",
       "      <td>-159.4333</td>\n",
       "      <td>21.9055</td>\n",
       "      <td>-159.5150</td>\n",
       "      <td>&lt;NA&gt;</td>\n",
       "      <td>True</td>\n",
       "      <td>10834.614107</td>\n",
       "      <td>11.26</td>\n",
       "      <td>&lt;NA&gt;</td>\n",
       "      <td>&lt;NA&gt;</td>\n",
       "    </tr>\n",
       "    <tr>\n",
       "      <th>US1HIKI0018</th>\n",
       "      <td>Kaua'i: Lihu'e</td>\n",
       "      <td>21.9667-159.4333_1972</td>\n",
       "      <td>US-HI</td>\n",
       "      <td>21.9667</td>\n",
       "      <td>-159.4333</td>\n",
       "      <td>21.9075</td>\n",
       "      <td>-159.5181</td>\n",
       "      <td>&lt;NA&gt;</td>\n",
       "      <td>True</td>\n",
       "      <td>10950.027151</td>\n",
       "      <td>17.34</td>\n",
       "      <td>&lt;NA&gt;</td>\n",
       "      <td>&lt;NA&gt;</td>\n",
       "    </tr>\n",
       "    <tr>\n",
       "      <th>USC00510006</th>\n",
       "      <td>Kaua'i: Lihu'e</td>\n",
       "      <td>21.9667-159.4333_1972</td>\n",
       "      <td>US-HI</td>\n",
       "      <td>21.9667</td>\n",
       "      <td>-159.4333</td>\n",
       "      <td>21.9500</td>\n",
       "      <td>-159.4333</td>\n",
       "      <td>&lt;NA&gt;</td>\n",
       "      <td>True</td>\n",
       "      <td>1857.479921</td>\n",
       "      <td>35.96</td>\n",
       "      <td>&lt;NA&gt;</td>\n",
       "      <td>&lt;NA&gt;</td>\n",
       "    </tr>\n",
       "    <tr>\n",
       "      <th>USC00510456</th>\n",
       "      <td>Kaua'i: Lihu'e</td>\n",
       "      <td>21.9667-159.4333_1972</td>\n",
       "      <td>US-HI</td>\n",
       "      <td>21.9667</td>\n",
       "      <td>-159.4333</td>\n",
       "      <td>21.9011</td>\n",
       "      <td>-159.4969</td>\n",
       "      <td>&lt;NA&gt;</td>\n",
       "      <td>True</td>\n",
       "      <td>9813.118605</td>\n",
       "      <td>49.06</td>\n",
       "      <td>&lt;NA&gt;</td>\n",
       "      <td>&lt;NA&gt;</td>\n",
       "    </tr>\n",
       "    <tr>\n",
       "      <th>USC00511038</th>\n",
       "      <td>Kaua'i: Lihu'e</td>\n",
       "      <td>21.9667-159.4333_1972</td>\n",
       "      <td>US-HI</td>\n",
       "      <td>21.9667</td>\n",
       "      <td>-159.4333</td>\n",
       "      <td>21.9650</td>\n",
       "      <td>-159.4297</td>\n",
       "      <td>&lt;NA&gt;</td>\n",
       "      <td>True</td>\n",
       "      <td>416.715760</td>\n",
       "      <td>6.44</td>\n",
       "      <td>&lt;NA&gt;</td>\n",
       "      <td>&lt;NA&gt;</td>\n",
       "    </tr>\n",
       "    <tr>\n",
       "      <th>USC00513023</th>\n",
       "      <td>Kaua'i: Lihu'e</td>\n",
       "      <td>21.9667-159.4333_1972</td>\n",
       "      <td>US-HI</td>\n",
       "      <td>21.9667</td>\n",
       "      <td>-159.4333</td>\n",
       "      <td>21.9167</td>\n",
       "      <td>-159.4500</td>\n",
       "      <td>&lt;NA&gt;</td>\n",
       "      <td>True</td>\n",
       "      <td>5822.091067</td>\n",
       "      <td>42.06</td>\n",
       "      <td>&lt;NA&gt;</td>\n",
       "      <td>&lt;NA&gt;</td>\n",
       "    </tr>\n",
       "    <tr>\n",
       "      <th>USC00514746</th>\n",
       "      <td>Kaua'i: Lihu'e</td>\n",
       "      <td>21.9667-159.4333_1972</td>\n",
       "      <td>US-HI</td>\n",
       "      <td>21.9667</td>\n",
       "      <td>-159.4333</td>\n",
       "      <td>21.9500</td>\n",
       "      <td>-159.4667</td>\n",
       "      <td>&lt;NA&gt;</td>\n",
       "      <td>True</td>\n",
       "      <td>3914.260655</td>\n",
       "      <td>39.94</td>\n",
       "      <td>&lt;NA&gt;</td>\n",
       "      <td>&lt;NA&gt;</td>\n",
       "    </tr>\n",
       "    <tr>\n",
       "      <th>USC00515464</th>\n",
       "      <td>Kaua'i: Lihu'e</td>\n",
       "      <td>21.9667-159.4333_1972</td>\n",
       "      <td>US-HI</td>\n",
       "      <td>21.9667</td>\n",
       "      <td>-159.4333</td>\n",
       "      <td>21.9167</td>\n",
       "      <td>-159.5167</td>\n",
       "      <td>&lt;NA&gt;</td>\n",
       "      <td>True</td>\n",
       "      <td>10245.145356</td>\n",
       "      <td>35.55</td>\n",
       "      <td>&lt;NA&gt;</td>\n",
       "      <td>&lt;NA&gt;</td>\n",
       "    </tr>\n",
       "    <tr>\n",
       "      <th>USC00517777</th>\n",
       "      <td>Kaua'i: Lihu'e</td>\n",
       "      <td>21.9667-159.4333_1972</td>\n",
       "      <td>US-HI</td>\n",
       "      <td>21.9667</td>\n",
       "      <td>-159.4333</td>\n",
       "      <td>21.9667</td>\n",
       "      <td>-159.4667</td>\n",
       "      <td>&lt;NA&gt;</td>\n",
       "      <td>True</td>\n",
       "      <td>3445.259016</td>\n",
       "      <td>24.94</td>\n",
       "      <td>&lt;NA&gt;</td>\n",
       "      <td>&lt;NA&gt;</td>\n",
       "    </tr>\n",
       "    <tr>\n",
       "      <th>USC00518217</th>\n",
       "      <td>Kaua'i: Lihu'e</td>\n",
       "      <td>21.9667-159.4333_1972</td>\n",
       "      <td>US-HI</td>\n",
       "      <td>21.9667</td>\n",
       "      <td>-159.4333</td>\n",
       "      <td>21.9656</td>\n",
       "      <td>-159.3964</td>\n",
       "      <td>&lt;NA&gt;</td>\n",
       "      <td>True</td>\n",
       "      <td>3808.269759</td>\n",
       "      <td>42.66</td>\n",
       "      <td>&lt;NA&gt;</td>\n",
       "      <td>&lt;NA&gt;</td>\n",
       "    </tr>\n",
       "    <tr>\n",
       "      <th>USC00518570</th>\n",
       "      <td>Kaua'i: Lihu'e</td>\n",
       "      <td>21.9667-159.4333_1972</td>\n",
       "      <td>US-HI</td>\n",
       "      <td>21.9667</td>\n",
       "      <td>-159.4333</td>\n",
       "      <td>21.9667</td>\n",
       "      <td>-159.4167</td>\n",
       "      <td>&lt;NA&gt;</td>\n",
       "      <td>True</td>\n",
       "      <td>1712.314364</td>\n",
       "      <td>24.06</td>\n",
       "      <td>&lt;NA&gt;</td>\n",
       "      <td>&lt;NA&gt;</td>\n",
       "    </tr>\n",
       "    <tr>\n",
       "      <th>USC00518573</th>\n",
       "      <td>Kaua'i: Lihu'e</td>\n",
       "      <td>21.9667-159.4333_1972</td>\n",
       "      <td>US-HI</td>\n",
       "      <td>21.9667</td>\n",
       "      <td>-159.4333</td>\n",
       "      <td>21.9500</td>\n",
       "      <td>-159.4500</td>\n",
       "      <td>&lt;NA&gt;</td>\n",
       "      <td>True</td>\n",
       "      <td>2533.383680</td>\n",
       "      <td>14.96</td>\n",
       "      <td>&lt;NA&gt;</td>\n",
       "      <td>&lt;NA&gt;</td>\n",
       "    </tr>\n",
       "    <tr>\n",
       "      <th rowspan=\"13\" valign=\"top\">1972-12-17</th>\n",
       "      <th>US1HIKI0004</th>\n",
       "      <td>Kaua'i: Lihu'e</td>\n",
       "      <td>21.9667-159.4333_1973</td>\n",
       "      <td>US-HI</td>\n",
       "      <td>21.9667</td>\n",
       "      <td>-159.4333</td>\n",
       "      <td>21.9249</td>\n",
       "      <td>-159.4983</td>\n",
       "      <td>&lt;NA&gt;</td>\n",
       "      <td>True</td>\n",
       "      <td>8159.889753</td>\n",
       "      <td>43.84</td>\n",
       "      <td>&lt;NA&gt;</td>\n",
       "      <td>&lt;NA&gt;</td>\n",
       "    </tr>\n",
       "    <tr>\n",
       "      <th>US1HIKI0014</th>\n",
       "      <td>Kaua'i: Lihu'e</td>\n",
       "      <td>21.9667-159.4333_1973</td>\n",
       "      <td>US-HI</td>\n",
       "      <td>21.9667</td>\n",
       "      <td>-159.4333</td>\n",
       "      <td>21.9055</td>\n",
       "      <td>-159.5150</td>\n",
       "      <td>&lt;NA&gt;</td>\n",
       "      <td>True</td>\n",
       "      <td>10834.614107</td>\n",
       "      <td>11.26</td>\n",
       "      <td>&lt;NA&gt;</td>\n",
       "      <td>&lt;NA&gt;</td>\n",
       "    </tr>\n",
       "    <tr>\n",
       "      <th>US1HIKI0018</th>\n",
       "      <td>Kaua'i: Lihu'e</td>\n",
       "      <td>21.9667-159.4333_1973</td>\n",
       "      <td>US-HI</td>\n",
       "      <td>21.9667</td>\n",
       "      <td>-159.4333</td>\n",
       "      <td>21.9075</td>\n",
       "      <td>-159.5181</td>\n",
       "      <td>&lt;NA&gt;</td>\n",
       "      <td>True</td>\n",
       "      <td>10950.027151</td>\n",
       "      <td>17.34</td>\n",
       "      <td>&lt;NA&gt;</td>\n",
       "      <td>&lt;NA&gt;</td>\n",
       "    </tr>\n",
       "    <tr>\n",
       "      <th>USC00510006</th>\n",
       "      <td>Kaua'i: Lihu'e</td>\n",
       "      <td>21.9667-159.4333_1973</td>\n",
       "      <td>US-HI</td>\n",
       "      <td>21.9667</td>\n",
       "      <td>-159.4333</td>\n",
       "      <td>21.9500</td>\n",
       "      <td>-159.4333</td>\n",
       "      <td>&lt;NA&gt;</td>\n",
       "      <td>True</td>\n",
       "      <td>1857.479921</td>\n",
       "      <td>35.96</td>\n",
       "      <td>&lt;NA&gt;</td>\n",
       "      <td>&lt;NA&gt;</td>\n",
       "    </tr>\n",
       "    <tr>\n",
       "      <th>USC00510456</th>\n",
       "      <td>Kaua'i: Lihu'e</td>\n",
       "      <td>21.9667-159.4333_1973</td>\n",
       "      <td>US-HI</td>\n",
       "      <td>21.9667</td>\n",
       "      <td>-159.4333</td>\n",
       "      <td>21.9011</td>\n",
       "      <td>-159.4969</td>\n",
       "      <td>&lt;NA&gt;</td>\n",
       "      <td>True</td>\n",
       "      <td>9813.118605</td>\n",
       "      <td>49.06</td>\n",
       "      <td>&lt;NA&gt;</td>\n",
       "      <td>&lt;NA&gt;</td>\n",
       "    </tr>\n",
       "    <tr>\n",
       "      <th>USC00511038</th>\n",
       "      <td>Kaua'i: Lihu'e</td>\n",
       "      <td>21.9667-159.4333_1973</td>\n",
       "      <td>US-HI</td>\n",
       "      <td>21.9667</td>\n",
       "      <td>-159.4333</td>\n",
       "      <td>21.9650</td>\n",
       "      <td>-159.4297</td>\n",
       "      <td>&lt;NA&gt;</td>\n",
       "      <td>True</td>\n",
       "      <td>416.715760</td>\n",
       "      <td>6.44</td>\n",
       "      <td>&lt;NA&gt;</td>\n",
       "      <td>&lt;NA&gt;</td>\n",
       "    </tr>\n",
       "    <tr>\n",
       "      <th>USC00513023</th>\n",
       "      <td>Kaua'i: Lihu'e</td>\n",
       "      <td>21.9667-159.4333_1973</td>\n",
       "      <td>US-HI</td>\n",
       "      <td>21.9667</td>\n",
       "      <td>-159.4333</td>\n",
       "      <td>21.9167</td>\n",
       "      <td>-159.4500</td>\n",
       "      <td>&lt;NA&gt;</td>\n",
       "      <td>True</td>\n",
       "      <td>5822.091067</td>\n",
       "      <td>42.06</td>\n",
       "      <td>&lt;NA&gt;</td>\n",
       "      <td>&lt;NA&gt;</td>\n",
       "    </tr>\n",
       "    <tr>\n",
       "      <th>USC00514746</th>\n",
       "      <td>Kaua'i: Lihu'e</td>\n",
       "      <td>21.9667-159.4333_1973</td>\n",
       "      <td>US-HI</td>\n",
       "      <td>21.9667</td>\n",
       "      <td>-159.4333</td>\n",
       "      <td>21.9500</td>\n",
       "      <td>-159.4667</td>\n",
       "      <td>&lt;NA&gt;</td>\n",
       "      <td>True</td>\n",
       "      <td>3914.260655</td>\n",
       "      <td>39.94</td>\n",
       "      <td>&lt;NA&gt;</td>\n",
       "      <td>&lt;NA&gt;</td>\n",
       "    </tr>\n",
       "    <tr>\n",
       "      <th>USC00515464</th>\n",
       "      <td>Kaua'i: Lihu'e</td>\n",
       "      <td>21.9667-159.4333_1973</td>\n",
       "      <td>US-HI</td>\n",
       "      <td>21.9667</td>\n",
       "      <td>-159.4333</td>\n",
       "      <td>21.9167</td>\n",
       "      <td>-159.5167</td>\n",
       "      <td>&lt;NA&gt;</td>\n",
       "      <td>True</td>\n",
       "      <td>10245.145356</td>\n",
       "      <td>35.55</td>\n",
       "      <td>&lt;NA&gt;</td>\n",
       "      <td>&lt;NA&gt;</td>\n",
       "    </tr>\n",
       "    <tr>\n",
       "      <th>USC00517777</th>\n",
       "      <td>Kaua'i: Lihu'e</td>\n",
       "      <td>21.9667-159.4333_1973</td>\n",
       "      <td>US-HI</td>\n",
       "      <td>21.9667</td>\n",
       "      <td>-159.4333</td>\n",
       "      <td>21.9667</td>\n",
       "      <td>-159.4667</td>\n",
       "      <td>&lt;NA&gt;</td>\n",
       "      <td>True</td>\n",
       "      <td>3445.259016</td>\n",
       "      <td>24.94</td>\n",
       "      <td>&lt;NA&gt;</td>\n",
       "      <td>&lt;NA&gt;</td>\n",
       "    </tr>\n",
       "    <tr>\n",
       "      <th>USC00518217</th>\n",
       "      <td>Kaua'i: Lihu'e</td>\n",
       "      <td>21.9667-159.4333_1973</td>\n",
       "      <td>US-HI</td>\n",
       "      <td>21.9667</td>\n",
       "      <td>-159.4333</td>\n",
       "      <td>21.9656</td>\n",
       "      <td>-159.3964</td>\n",
       "      <td>&lt;NA&gt;</td>\n",
       "      <td>True</td>\n",
       "      <td>3808.269759</td>\n",
       "      <td>42.66</td>\n",
       "      <td>&lt;NA&gt;</td>\n",
       "      <td>&lt;NA&gt;</td>\n",
       "    </tr>\n",
       "    <tr>\n",
       "      <th>USC00518570</th>\n",
       "      <td>Kaua'i: Lihu'e</td>\n",
       "      <td>21.9667-159.4333_1973</td>\n",
       "      <td>US-HI</td>\n",
       "      <td>21.9667</td>\n",
       "      <td>-159.4333</td>\n",
       "      <td>21.9667</td>\n",
       "      <td>-159.4167</td>\n",
       "      <td>&lt;NA&gt;</td>\n",
       "      <td>True</td>\n",
       "      <td>1712.314364</td>\n",
       "      <td>24.06</td>\n",
       "      <td>&lt;NA&gt;</td>\n",
       "      <td>&lt;NA&gt;</td>\n",
       "    </tr>\n",
       "    <tr>\n",
       "      <th>USC00518573</th>\n",
       "      <td>Kaua'i: Lihu'e</td>\n",
       "      <td>21.9667-159.4333_1973</td>\n",
       "      <td>US-HI</td>\n",
       "      <td>21.9667</td>\n",
       "      <td>-159.4333</td>\n",
       "      <td>21.9500</td>\n",
       "      <td>-159.4500</td>\n",
       "      <td>&lt;NA&gt;</td>\n",
       "      <td>True</td>\n",
       "      <td>2533.383680</td>\n",
       "      <td>14.96</td>\n",
       "      <td>&lt;NA&gt;</td>\n",
       "      <td>&lt;NA&gt;</td>\n",
       "    </tr>\n",
       "    <tr>\n",
       "      <th rowspan=\"13\" valign=\"top\">1973-12-16</th>\n",
       "      <th>US1HIKI0004</th>\n",
       "      <td>Kaua'i: Lihu'e</td>\n",
       "      <td>21.9667-159.4333_1974</td>\n",
       "      <td>US-HI</td>\n",
       "      <td>21.9667</td>\n",
       "      <td>-159.4333</td>\n",
       "      <td>21.9249</td>\n",
       "      <td>-159.4983</td>\n",
       "      <td>&lt;NA&gt;</td>\n",
       "      <td>&lt;NA&gt;</td>\n",
       "      <td>8159.889753</td>\n",
       "      <td>43.84</td>\n",
       "      <td>&lt;NA&gt;</td>\n",
       "      <td>&lt;NA&gt;</td>\n",
       "    </tr>\n",
       "    <tr>\n",
       "      <th>US1HIKI0014</th>\n",
       "      <td>Kaua'i: Lihu'e</td>\n",
       "      <td>21.9667-159.4333_1974</td>\n",
       "      <td>US-HI</td>\n",
       "      <td>21.9667</td>\n",
       "      <td>-159.4333</td>\n",
       "      <td>21.9055</td>\n",
       "      <td>-159.5150</td>\n",
       "      <td>&lt;NA&gt;</td>\n",
       "      <td>&lt;NA&gt;</td>\n",
       "      <td>10834.614107</td>\n",
       "      <td>11.26</td>\n",
       "      <td>&lt;NA&gt;</td>\n",
       "      <td>&lt;NA&gt;</td>\n",
       "    </tr>\n",
       "    <tr>\n",
       "      <th>US1HIKI0018</th>\n",
       "      <td>Kaua'i: Lihu'e</td>\n",
       "      <td>21.9667-159.4333_1974</td>\n",
       "      <td>US-HI</td>\n",
       "      <td>21.9667</td>\n",
       "      <td>-159.4333</td>\n",
       "      <td>21.9075</td>\n",
       "      <td>-159.5181</td>\n",
       "      <td>&lt;NA&gt;</td>\n",
       "      <td>&lt;NA&gt;</td>\n",
       "      <td>10950.027151</td>\n",
       "      <td>17.34</td>\n",
       "      <td>&lt;NA&gt;</td>\n",
       "      <td>&lt;NA&gt;</td>\n",
       "    </tr>\n",
       "    <tr>\n",
       "      <th>USC00510006</th>\n",
       "      <td>Kaua'i: Lihu'e</td>\n",
       "      <td>21.9667-159.4333_1974</td>\n",
       "      <td>US-HI</td>\n",
       "      <td>21.9667</td>\n",
       "      <td>-159.4333</td>\n",
       "      <td>21.9500</td>\n",
       "      <td>-159.4333</td>\n",
       "      <td>&lt;NA&gt;</td>\n",
       "      <td>&lt;NA&gt;</td>\n",
       "      <td>1857.479921</td>\n",
       "      <td>35.96</td>\n",
       "      <td>&lt;NA&gt;</td>\n",
       "      <td>&lt;NA&gt;</td>\n",
       "    </tr>\n",
       "    <tr>\n",
       "      <th>USC00510456</th>\n",
       "      <td>Kaua'i: Lihu'e</td>\n",
       "      <td>21.9667-159.4333_1974</td>\n",
       "      <td>US-HI</td>\n",
       "      <td>21.9667</td>\n",
       "      <td>-159.4333</td>\n",
       "      <td>21.9011</td>\n",
       "      <td>-159.4969</td>\n",
       "      <td>False</td>\n",
       "      <td>&lt;NA&gt;</td>\n",
       "      <td>9813.118605</td>\n",
       "      <td>49.06</td>\n",
       "      <td>&lt;NA&gt;</td>\n",
       "      <td>&lt;NA&gt;</td>\n",
       "    </tr>\n",
       "    <tr>\n",
       "      <th>USC00511038</th>\n",
       "      <td>Kaua'i: Lihu'e</td>\n",
       "      <td>21.9667-159.4333_1974</td>\n",
       "      <td>US-HI</td>\n",
       "      <td>21.9667</td>\n",
       "      <td>-159.4333</td>\n",
       "      <td>21.9650</td>\n",
       "      <td>-159.4297</td>\n",
       "      <td>&lt;NA&gt;</td>\n",
       "      <td>&lt;NA&gt;</td>\n",
       "      <td>416.715760</td>\n",
       "      <td>6.44</td>\n",
       "      <td>&lt;NA&gt;</td>\n",
       "      <td>&lt;NA&gt;</td>\n",
       "    </tr>\n",
       "    <tr>\n",
       "      <th>USC00513023</th>\n",
       "      <td>Kaua'i: Lihu'e</td>\n",
       "      <td>21.9667-159.4333_1974</td>\n",
       "      <td>US-HI</td>\n",
       "      <td>21.9667</td>\n",
       "      <td>-159.4333</td>\n",
       "      <td>21.9167</td>\n",
       "      <td>-159.4500</td>\n",
       "      <td>&lt;NA&gt;</td>\n",
       "      <td>&lt;NA&gt;</td>\n",
       "      <td>5822.091067</td>\n",
       "      <td>42.06</td>\n",
       "      <td>&lt;NA&gt;</td>\n",
       "      <td>&lt;NA&gt;</td>\n",
       "    </tr>\n",
       "    <tr>\n",
       "      <th>USC00514746</th>\n",
       "      <td>Kaua'i: Lihu'e</td>\n",
       "      <td>21.9667-159.4333_1974</td>\n",
       "      <td>US-HI</td>\n",
       "      <td>21.9667</td>\n",
       "      <td>-159.4333</td>\n",
       "      <td>21.9500</td>\n",
       "      <td>-159.4667</td>\n",
       "      <td>&lt;NA&gt;</td>\n",
       "      <td>&lt;NA&gt;</td>\n",
       "      <td>3914.260655</td>\n",
       "      <td>39.94</td>\n",
       "      <td>&lt;NA&gt;</td>\n",
       "      <td>&lt;NA&gt;</td>\n",
       "    </tr>\n",
       "    <tr>\n",
       "      <th>USC00515464</th>\n",
       "      <td>Kaua'i: Lihu'e</td>\n",
       "      <td>21.9667-159.4333_1974</td>\n",
       "      <td>US-HI</td>\n",
       "      <td>21.9667</td>\n",
       "      <td>-159.4333</td>\n",
       "      <td>21.9167</td>\n",
       "      <td>-159.5167</td>\n",
       "      <td>&lt;NA&gt;</td>\n",
       "      <td>&lt;NA&gt;</td>\n",
       "      <td>10245.145356</td>\n",
       "      <td>35.55</td>\n",
       "      <td>&lt;NA&gt;</td>\n",
       "      <td>&lt;NA&gt;</td>\n",
       "    </tr>\n",
       "    <tr>\n",
       "      <th>USC00517777</th>\n",
       "      <td>Kaua'i: Lihu'e</td>\n",
       "      <td>21.9667-159.4333_1974</td>\n",
       "      <td>US-HI</td>\n",
       "      <td>21.9667</td>\n",
       "      <td>-159.4333</td>\n",
       "      <td>21.9667</td>\n",
       "      <td>-159.4667</td>\n",
       "      <td>&lt;NA&gt;</td>\n",
       "      <td>&lt;NA&gt;</td>\n",
       "      <td>3445.259016</td>\n",
       "      <td>24.94</td>\n",
       "      <td>&lt;NA&gt;</td>\n",
       "      <td>&lt;NA&gt;</td>\n",
       "    </tr>\n",
       "    <tr>\n",
       "      <th>USC00518217</th>\n",
       "      <td>Kaua'i: Lihu'e</td>\n",
       "      <td>21.9667-159.4333_1974</td>\n",
       "      <td>US-HI</td>\n",
       "      <td>21.9667</td>\n",
       "      <td>-159.4333</td>\n",
       "      <td>21.9656</td>\n",
       "      <td>-159.3964</td>\n",
       "      <td>&lt;NA&gt;</td>\n",
       "      <td>&lt;NA&gt;</td>\n",
       "      <td>3808.269759</td>\n",
       "      <td>42.66</td>\n",
       "      <td>&lt;NA&gt;</td>\n",
       "      <td>&lt;NA&gt;</td>\n",
       "    </tr>\n",
       "    <tr>\n",
       "      <th>USC00518570</th>\n",
       "      <td>Kaua'i: Lihu'e</td>\n",
       "      <td>21.9667-159.4333_1974</td>\n",
       "      <td>US-HI</td>\n",
       "      <td>21.9667</td>\n",
       "      <td>-159.4333</td>\n",
       "      <td>21.9667</td>\n",
       "      <td>-159.4167</td>\n",
       "      <td>&lt;NA&gt;</td>\n",
       "      <td>&lt;NA&gt;</td>\n",
       "      <td>1712.314364</td>\n",
       "      <td>24.06</td>\n",
       "      <td>&lt;NA&gt;</td>\n",
       "      <td>&lt;NA&gt;</td>\n",
       "    </tr>\n",
       "    <tr>\n",
       "      <th>USC00518573</th>\n",
       "      <td>Kaua'i: Lihu'e</td>\n",
       "      <td>21.9667-159.4333_1974</td>\n",
       "      <td>US-HI</td>\n",
       "      <td>21.9667</td>\n",
       "      <td>-159.4333</td>\n",
       "      <td>21.9500</td>\n",
       "      <td>-159.4500</td>\n",
       "      <td>False</td>\n",
       "      <td>&lt;NA&gt;</td>\n",
       "      <td>2533.383680</td>\n",
       "      <td>14.96</td>\n",
       "      <td>&lt;NA&gt;</td>\n",
       "      <td>&lt;NA&gt;</td>\n",
       "    </tr>\n",
       "    <tr>\n",
       "      <th rowspan=\"13\" valign=\"top\">1974-12-15</th>\n",
       "      <th>US1HIKI0004</th>\n",
       "      <td>Kaua'i: Lihu'e</td>\n",
       "      <td>21.9667-159.4333_1975</td>\n",
       "      <td>US-HI</td>\n",
       "      <td>21.9667</td>\n",
       "      <td>-159.4333</td>\n",
       "      <td>21.9249</td>\n",
       "      <td>-159.4983</td>\n",
       "      <td>&lt;NA&gt;</td>\n",
       "      <td>True</td>\n",
       "      <td>8159.889753</td>\n",
       "      <td>43.84</td>\n",
       "      <td>&lt;NA&gt;</td>\n",
       "      <td>&lt;NA&gt;</td>\n",
       "    </tr>\n",
       "    <tr>\n",
       "      <th>US1HIKI0014</th>\n",
       "      <td>Kaua'i: Lihu'e</td>\n",
       "      <td>21.9667-159.4333_1975</td>\n",
       "      <td>US-HI</td>\n",
       "      <td>21.9667</td>\n",
       "      <td>-159.4333</td>\n",
       "      <td>21.9055</td>\n",
       "      <td>-159.5150</td>\n",
       "      <td>&lt;NA&gt;</td>\n",
       "      <td>True</td>\n",
       "      <td>10834.614107</td>\n",
       "      <td>11.26</td>\n",
       "      <td>&lt;NA&gt;</td>\n",
       "      <td>&lt;NA&gt;</td>\n",
       "    </tr>\n",
       "    <tr>\n",
       "      <th>US1HIKI0018</th>\n",
       "      <td>Kaua'i: Lihu'e</td>\n",
       "      <td>21.9667-159.4333_1975</td>\n",
       "      <td>US-HI</td>\n",
       "      <td>21.9667</td>\n",
       "      <td>-159.4333</td>\n",
       "      <td>21.9075</td>\n",
       "      <td>-159.5181</td>\n",
       "      <td>&lt;NA&gt;</td>\n",
       "      <td>True</td>\n",
       "      <td>10950.027151</td>\n",
       "      <td>17.34</td>\n",
       "      <td>&lt;NA&gt;</td>\n",
       "      <td>&lt;NA&gt;</td>\n",
       "    </tr>\n",
       "    <tr>\n",
       "      <th>USC00510006</th>\n",
       "      <td>Kaua'i: Lihu'e</td>\n",
       "      <td>21.9667-159.4333_1975</td>\n",
       "      <td>US-HI</td>\n",
       "      <td>21.9667</td>\n",
       "      <td>-159.4333</td>\n",
       "      <td>21.9500</td>\n",
       "      <td>-159.4333</td>\n",
       "      <td>&lt;NA&gt;</td>\n",
       "      <td>True</td>\n",
       "      <td>1857.479921</td>\n",
       "      <td>35.96</td>\n",
       "      <td>&lt;NA&gt;</td>\n",
       "      <td>&lt;NA&gt;</td>\n",
       "    </tr>\n",
       "    <tr>\n",
       "      <th>USC00510456</th>\n",
       "      <td>Kaua'i: Lihu'e</td>\n",
       "      <td>21.9667-159.4333_1975</td>\n",
       "      <td>US-HI</td>\n",
       "      <td>21.9667</td>\n",
       "      <td>-159.4333</td>\n",
       "      <td>21.9011</td>\n",
       "      <td>-159.4969</td>\n",
       "      <td>&lt;NA&gt;</td>\n",
       "      <td>True</td>\n",
       "      <td>9813.118605</td>\n",
       "      <td>49.06</td>\n",
       "      <td>&lt;NA&gt;</td>\n",
       "      <td>&lt;NA&gt;</td>\n",
       "    </tr>\n",
       "    <tr>\n",
       "      <th>USC00511038</th>\n",
       "      <td>Kaua'i: Lihu'e</td>\n",
       "      <td>21.9667-159.4333_1975</td>\n",
       "      <td>US-HI</td>\n",
       "      <td>21.9667</td>\n",
       "      <td>-159.4333</td>\n",
       "      <td>21.9650</td>\n",
       "      <td>-159.4297</td>\n",
       "      <td>&lt;NA&gt;</td>\n",
       "      <td>True</td>\n",
       "      <td>416.715760</td>\n",
       "      <td>6.44</td>\n",
       "      <td>&lt;NA&gt;</td>\n",
       "      <td>&lt;NA&gt;</td>\n",
       "    </tr>\n",
       "    <tr>\n",
       "      <th>USC00513023</th>\n",
       "      <td>Kaua'i: Lihu'e</td>\n",
       "      <td>21.9667-159.4333_1975</td>\n",
       "      <td>US-HI</td>\n",
       "      <td>21.9667</td>\n",
       "      <td>-159.4333</td>\n",
       "      <td>21.9167</td>\n",
       "      <td>-159.4500</td>\n",
       "      <td>&lt;NA&gt;</td>\n",
       "      <td>True</td>\n",
       "      <td>5822.091067</td>\n",
       "      <td>42.06</td>\n",
       "      <td>&lt;NA&gt;</td>\n",
       "      <td>&lt;NA&gt;</td>\n",
       "    </tr>\n",
       "    <tr>\n",
       "      <th>USC00514746</th>\n",
       "      <td>Kaua'i: Lihu'e</td>\n",
       "      <td>21.9667-159.4333_1975</td>\n",
       "      <td>US-HI</td>\n",
       "      <td>21.9667</td>\n",
       "      <td>-159.4333</td>\n",
       "      <td>21.9500</td>\n",
       "      <td>-159.4667</td>\n",
       "      <td>&lt;NA&gt;</td>\n",
       "      <td>True</td>\n",
       "      <td>3914.260655</td>\n",
       "      <td>39.94</td>\n",
       "      <td>&lt;NA&gt;</td>\n",
       "      <td>&lt;NA&gt;</td>\n",
       "    </tr>\n",
       "    <tr>\n",
       "      <th>USC00515464</th>\n",
       "      <td>Kaua'i: Lihu'e</td>\n",
       "      <td>21.9667-159.4333_1975</td>\n",
       "      <td>US-HI</td>\n",
       "      <td>21.9667</td>\n",
       "      <td>-159.4333</td>\n",
       "      <td>21.9167</td>\n",
       "      <td>-159.5167</td>\n",
       "      <td>&lt;NA&gt;</td>\n",
       "      <td>True</td>\n",
       "      <td>10245.145356</td>\n",
       "      <td>35.55</td>\n",
       "      <td>&lt;NA&gt;</td>\n",
       "      <td>&lt;NA&gt;</td>\n",
       "    </tr>\n",
       "    <tr>\n",
       "      <th>USC00517777</th>\n",
       "      <td>Kaua'i: Lihu'e</td>\n",
       "      <td>21.9667-159.4333_1975</td>\n",
       "      <td>US-HI</td>\n",
       "      <td>21.9667</td>\n",
       "      <td>-159.4333</td>\n",
       "      <td>21.9667</td>\n",
       "      <td>-159.4667</td>\n",
       "      <td>&lt;NA&gt;</td>\n",
       "      <td>True</td>\n",
       "      <td>3445.259016</td>\n",
       "      <td>24.94</td>\n",
       "      <td>&lt;NA&gt;</td>\n",
       "      <td>&lt;NA&gt;</td>\n",
       "    </tr>\n",
       "    <tr>\n",
       "      <th>USC00518217</th>\n",
       "      <td>Kaua'i: Lihu'e</td>\n",
       "      <td>21.9667-159.4333_1975</td>\n",
       "      <td>US-HI</td>\n",
       "      <td>21.9667</td>\n",
       "      <td>-159.4333</td>\n",
       "      <td>21.9656</td>\n",
       "      <td>-159.3964</td>\n",
       "      <td>&lt;NA&gt;</td>\n",
       "      <td>True</td>\n",
       "      <td>3808.269759</td>\n",
       "      <td>42.66</td>\n",
       "      <td>&lt;NA&gt;</td>\n",
       "      <td>&lt;NA&gt;</td>\n",
       "    </tr>\n",
       "    <tr>\n",
       "      <th>USC00518570</th>\n",
       "      <td>Kaua'i: Lihu'e</td>\n",
       "      <td>21.9667-159.4333_1975</td>\n",
       "      <td>US-HI</td>\n",
       "      <td>21.9667</td>\n",
       "      <td>-159.4333</td>\n",
       "      <td>21.9667</td>\n",
       "      <td>-159.4167</td>\n",
       "      <td>&lt;NA&gt;</td>\n",
       "      <td>True</td>\n",
       "      <td>1712.314364</td>\n",
       "      <td>24.06</td>\n",
       "      <td>&lt;NA&gt;</td>\n",
       "      <td>&lt;NA&gt;</td>\n",
       "    </tr>\n",
       "    <tr>\n",
       "      <th>USC00518573</th>\n",
       "      <td>Kaua'i: Lihu'e</td>\n",
       "      <td>21.9667-159.4333_1975</td>\n",
       "      <td>US-HI</td>\n",
       "      <td>21.9667</td>\n",
       "      <td>-159.4333</td>\n",
       "      <td>21.9500</td>\n",
       "      <td>-159.4500</td>\n",
       "      <td>&lt;NA&gt;</td>\n",
       "      <td>True</td>\n",
       "      <td>2533.383680</td>\n",
       "      <td>14.96</td>\n",
       "      <td>&lt;NA&gt;</td>\n",
       "      <td>&lt;NA&gt;</td>\n",
       "    </tr>\n",
       "    <tr>\n",
       "      <th rowspan=\"13\" valign=\"top\">1976-01-04</th>\n",
       "      <th>US1HIKI0004</th>\n",
       "      <td>Kaua'i: Lihu'e</td>\n",
       "      <td>21.9667-159.4333_1976</td>\n",
       "      <td>US-HI</td>\n",
       "      <td>21.9667</td>\n",
       "      <td>-159.4333</td>\n",
       "      <td>21.9249</td>\n",
       "      <td>-159.4983</td>\n",
       "      <td>&lt;NA&gt;</td>\n",
       "      <td>&lt;NA&gt;</td>\n",
       "      <td>8159.889753</td>\n",
       "      <td>43.84</td>\n",
       "      <td>&lt;NA&gt;</td>\n",
       "      <td>&lt;NA&gt;</td>\n",
       "    </tr>\n",
       "    <tr>\n",
       "      <th>US1HIKI0014</th>\n",
       "      <td>Kaua'i: Lihu'e</td>\n",
       "      <td>21.9667-159.4333_1976</td>\n",
       "      <td>US-HI</td>\n",
       "      <td>21.9667</td>\n",
       "      <td>-159.4333</td>\n",
       "      <td>21.9055</td>\n",
       "      <td>-159.5150</td>\n",
       "      <td>&lt;NA&gt;</td>\n",
       "      <td>&lt;NA&gt;</td>\n",
       "      <td>10834.614107</td>\n",
       "      <td>11.26</td>\n",
       "      <td>&lt;NA&gt;</td>\n",
       "      <td>&lt;NA&gt;</td>\n",
       "    </tr>\n",
       "    <tr>\n",
       "      <th>US1HIKI0018</th>\n",
       "      <td>Kaua'i: Lihu'e</td>\n",
       "      <td>21.9667-159.4333_1976</td>\n",
       "      <td>US-HI</td>\n",
       "      <td>21.9667</td>\n",
       "      <td>-159.4333</td>\n",
       "      <td>21.9075</td>\n",
       "      <td>-159.5181</td>\n",
       "      <td>&lt;NA&gt;</td>\n",
       "      <td>&lt;NA&gt;</td>\n",
       "      <td>10950.027151</td>\n",
       "      <td>17.34</td>\n",
       "      <td>&lt;NA&gt;</td>\n",
       "      <td>&lt;NA&gt;</td>\n",
       "    </tr>\n",
       "    <tr>\n",
       "      <th>USC00510006</th>\n",
       "      <td>Kaua'i: Lihu'e</td>\n",
       "      <td>21.9667-159.4333_1976</td>\n",
       "      <td>US-HI</td>\n",
       "      <td>21.9667</td>\n",
       "      <td>-159.4333</td>\n",
       "      <td>21.9500</td>\n",
       "      <td>-159.4333</td>\n",
       "      <td>&lt;NA&gt;</td>\n",
       "      <td>&lt;NA&gt;</td>\n",
       "      <td>1857.479921</td>\n",
       "      <td>35.96</td>\n",
       "      <td>&lt;NA&gt;</td>\n",
       "      <td>&lt;NA&gt;</td>\n",
       "    </tr>\n",
       "    <tr>\n",
       "      <th>USC00510456</th>\n",
       "      <td>Kaua'i: Lihu'e</td>\n",
       "      <td>21.9667-159.4333_1976</td>\n",
       "      <td>US-HI</td>\n",
       "      <td>21.9667</td>\n",
       "      <td>-159.4333</td>\n",
       "      <td>21.9011</td>\n",
       "      <td>-159.4969</td>\n",
       "      <td>&lt;NA&gt;</td>\n",
       "      <td>&lt;NA&gt;</td>\n",
       "      <td>9813.118605</td>\n",
       "      <td>49.06</td>\n",
       "      <td>&lt;NA&gt;</td>\n",
       "      <td>&lt;NA&gt;</td>\n",
       "    </tr>\n",
       "    <tr>\n",
       "      <th>USC00511038</th>\n",
       "      <td>Kaua'i: Lihu'e</td>\n",
       "      <td>21.9667-159.4333_1976</td>\n",
       "      <td>US-HI</td>\n",
       "      <td>21.9667</td>\n",
       "      <td>-159.4333</td>\n",
       "      <td>21.9650</td>\n",
       "      <td>-159.4297</td>\n",
       "      <td>&lt;NA&gt;</td>\n",
       "      <td>&lt;NA&gt;</td>\n",
       "      <td>416.715760</td>\n",
       "      <td>6.44</td>\n",
       "      <td>&lt;NA&gt;</td>\n",
       "      <td>&lt;NA&gt;</td>\n",
       "    </tr>\n",
       "    <tr>\n",
       "      <th>USC00513023</th>\n",
       "      <td>Kaua'i: Lihu'e</td>\n",
       "      <td>21.9667-159.4333_1976</td>\n",
       "      <td>US-HI</td>\n",
       "      <td>21.9667</td>\n",
       "      <td>-159.4333</td>\n",
       "      <td>21.9167</td>\n",
       "      <td>-159.4500</td>\n",
       "      <td>&lt;NA&gt;</td>\n",
       "      <td>&lt;NA&gt;</td>\n",
       "      <td>5822.091067</td>\n",
       "      <td>42.06</td>\n",
       "      <td>&lt;NA&gt;</td>\n",
       "      <td>&lt;NA&gt;</td>\n",
       "    </tr>\n",
       "    <tr>\n",
       "      <th>USC00514746</th>\n",
       "      <td>Kaua'i: Lihu'e</td>\n",
       "      <td>21.9667-159.4333_1976</td>\n",
       "      <td>US-HI</td>\n",
       "      <td>21.9667</td>\n",
       "      <td>-159.4333</td>\n",
       "      <td>21.9500</td>\n",
       "      <td>-159.4667</td>\n",
       "      <td>&lt;NA&gt;</td>\n",
       "      <td>&lt;NA&gt;</td>\n",
       "      <td>3914.260655</td>\n",
       "      <td>39.94</td>\n",
       "      <td>&lt;NA&gt;</td>\n",
       "      <td>&lt;NA&gt;</td>\n",
       "    </tr>\n",
       "    <tr>\n",
       "      <th>USC00515464</th>\n",
       "      <td>Kaua'i: Lihu'e</td>\n",
       "      <td>21.9667-159.4333_1976</td>\n",
       "      <td>US-HI</td>\n",
       "      <td>21.9667</td>\n",
       "      <td>-159.4333</td>\n",
       "      <td>21.9167</td>\n",
       "      <td>-159.5167</td>\n",
       "      <td>&lt;NA&gt;</td>\n",
       "      <td>&lt;NA&gt;</td>\n",
       "      <td>10245.145356</td>\n",
       "      <td>35.55</td>\n",
       "      <td>&lt;NA&gt;</td>\n",
       "      <td>&lt;NA&gt;</td>\n",
       "    </tr>\n",
       "    <tr>\n",
       "      <th>USC00517777</th>\n",
       "      <td>Kaua'i: Lihu'e</td>\n",
       "      <td>21.9667-159.4333_1976</td>\n",
       "      <td>US-HI</td>\n",
       "      <td>21.9667</td>\n",
       "      <td>-159.4333</td>\n",
       "      <td>21.9667</td>\n",
       "      <td>-159.4667</td>\n",
       "      <td>&lt;NA&gt;</td>\n",
       "      <td>&lt;NA&gt;</td>\n",
       "      <td>3445.259016</td>\n",
       "      <td>24.94</td>\n",
       "      <td>&lt;NA&gt;</td>\n",
       "      <td>&lt;NA&gt;</td>\n",
       "    </tr>\n",
       "    <tr>\n",
       "      <th>USC00518217</th>\n",
       "      <td>Kaua'i: Lihu'e</td>\n",
       "      <td>21.9667-159.4333_1976</td>\n",
       "      <td>US-HI</td>\n",
       "      <td>21.9667</td>\n",
       "      <td>-159.4333</td>\n",
       "      <td>21.9656</td>\n",
       "      <td>-159.3964</td>\n",
       "      <td>&lt;NA&gt;</td>\n",
       "      <td>&lt;NA&gt;</td>\n",
       "      <td>3808.269759</td>\n",
       "      <td>42.66</td>\n",
       "      <td>&lt;NA&gt;</td>\n",
       "      <td>&lt;NA&gt;</td>\n",
       "    </tr>\n",
       "    <tr>\n",
       "      <th>USC00518570</th>\n",
       "      <td>Kaua'i: Lihu'e</td>\n",
       "      <td>21.9667-159.4333_1976</td>\n",
       "      <td>US-HI</td>\n",
       "      <td>21.9667</td>\n",
       "      <td>-159.4333</td>\n",
       "      <td>21.9667</td>\n",
       "      <td>-159.4167</td>\n",
       "      <td>&lt;NA&gt;</td>\n",
       "      <td>&lt;NA&gt;</td>\n",
       "      <td>1712.314364</td>\n",
       "      <td>24.06</td>\n",
       "      <td>&lt;NA&gt;</td>\n",
       "      <td>&lt;NA&gt;</td>\n",
       "    </tr>\n",
       "    <tr>\n",
       "      <th>USC00518573</th>\n",
       "      <td>Kaua'i: Lihu'e</td>\n",
       "      <td>21.9667-159.4333_1976</td>\n",
       "      <td>US-HI</td>\n",
       "      <td>21.9667</td>\n",
       "      <td>-159.4333</td>\n",
       "      <td>21.9500</td>\n",
       "      <td>-159.4500</td>\n",
       "      <td>&lt;NA&gt;</td>\n",
       "      <td>&lt;NA&gt;</td>\n",
       "      <td>2533.383680</td>\n",
       "      <td>14.96</td>\n",
       "      <td>&lt;NA&gt;</td>\n",
       "      <td>&lt;NA&gt;</td>\n",
       "    </tr>\n",
       "    <tr>\n",
       "      <th rowspan=\"13\" valign=\"top\">1976-12-18</th>\n",
       "      <th>US1HIKI0004</th>\n",
       "      <td>Kaua'i: Lihu'e</td>\n",
       "      <td>21.9667-159.4333_1977</td>\n",
       "      <td>US-HI</td>\n",
       "      <td>21.9667</td>\n",
       "      <td>-159.4333</td>\n",
       "      <td>21.9249</td>\n",
       "      <td>-159.4983</td>\n",
       "      <td>&lt;NA&gt;</td>\n",
       "      <td>&lt;NA&gt;</td>\n",
       "      <td>8159.889753</td>\n",
       "      <td>43.84</td>\n",
       "      <td>&lt;NA&gt;</td>\n",
       "      <td>&lt;NA&gt;</td>\n",
       "    </tr>\n",
       "    <tr>\n",
       "      <th>US1HIKI0014</th>\n",
       "      <td>Kaua'i: Lihu'e</td>\n",
       "      <td>21.9667-159.4333_1977</td>\n",
       "      <td>US-HI</td>\n",
       "      <td>21.9667</td>\n",
       "      <td>-159.4333</td>\n",
       "      <td>21.9055</td>\n",
       "      <td>-159.5150</td>\n",
       "      <td>&lt;NA&gt;</td>\n",
       "      <td>&lt;NA&gt;</td>\n",
       "      <td>10834.614107</td>\n",
       "      <td>11.26</td>\n",
       "      <td>&lt;NA&gt;</td>\n",
       "      <td>&lt;NA&gt;</td>\n",
       "    </tr>\n",
       "    <tr>\n",
       "      <th>US1HIKI0018</th>\n",
       "      <td>Kaua'i: Lihu'e</td>\n",
       "      <td>21.9667-159.4333_1977</td>\n",
       "      <td>US-HI</td>\n",
       "      <td>21.9667</td>\n",
       "      <td>-159.4333</td>\n",
       "      <td>21.9075</td>\n",
       "      <td>-159.5181</td>\n",
       "      <td>&lt;NA&gt;</td>\n",
       "      <td>&lt;NA&gt;</td>\n",
       "      <td>10950.027151</td>\n",
       "      <td>17.34</td>\n",
       "      <td>&lt;NA&gt;</td>\n",
       "      <td>&lt;NA&gt;</td>\n",
       "    </tr>\n",
       "    <tr>\n",
       "      <th>USC00510006</th>\n",
       "      <td>Kaua'i: Lihu'e</td>\n",
       "      <td>21.9667-159.4333_1977</td>\n",
       "      <td>US-HI</td>\n",
       "      <td>21.9667</td>\n",
       "      <td>-159.4333</td>\n",
       "      <td>21.9500</td>\n",
       "      <td>-159.4333</td>\n",
       "      <td>&lt;NA&gt;</td>\n",
       "      <td>&lt;NA&gt;</td>\n",
       "      <td>1857.479921</td>\n",
       "      <td>35.96</td>\n",
       "      <td>&lt;NA&gt;</td>\n",
       "      <td>&lt;NA&gt;</td>\n",
       "    </tr>\n",
       "    <tr>\n",
       "      <th>USC00510456</th>\n",
       "      <td>Kaua'i: Lihu'e</td>\n",
       "      <td>21.9667-159.4333_1977</td>\n",
       "      <td>US-HI</td>\n",
       "      <td>21.9667</td>\n",
       "      <td>-159.4333</td>\n",
       "      <td>21.9011</td>\n",
       "      <td>-159.4969</td>\n",
       "      <td>False</td>\n",
       "      <td>&lt;NA&gt;</td>\n",
       "      <td>9813.118605</td>\n",
       "      <td>49.06</td>\n",
       "      <td>&lt;NA&gt;</td>\n",
       "      <td>&lt;NA&gt;</td>\n",
       "    </tr>\n",
       "    <tr>\n",
       "      <th>USC00511038</th>\n",
       "      <td>Kaua'i: Lihu'e</td>\n",
       "      <td>21.9667-159.4333_1977</td>\n",
       "      <td>US-HI</td>\n",
       "      <td>21.9667</td>\n",
       "      <td>-159.4333</td>\n",
       "      <td>21.9650</td>\n",
       "      <td>-159.4297</td>\n",
       "      <td>False</td>\n",
       "      <td>&lt;NA&gt;</td>\n",
       "      <td>416.715760</td>\n",
       "      <td>6.44</td>\n",
       "      <td>&lt;NA&gt;</td>\n",
       "      <td>&lt;NA&gt;</td>\n",
       "    </tr>\n",
       "    <tr>\n",
       "      <th>USC00513023</th>\n",
       "      <td>Kaua'i: Lihu'e</td>\n",
       "      <td>21.9667-159.4333_1977</td>\n",
       "      <td>US-HI</td>\n",
       "      <td>21.9667</td>\n",
       "      <td>-159.4333</td>\n",
       "      <td>21.9167</td>\n",
       "      <td>-159.4500</td>\n",
       "      <td>&lt;NA&gt;</td>\n",
       "      <td>&lt;NA&gt;</td>\n",
       "      <td>5822.091067</td>\n",
       "      <td>42.06</td>\n",
       "      <td>&lt;NA&gt;</td>\n",
       "      <td>&lt;NA&gt;</td>\n",
       "    </tr>\n",
       "    <tr>\n",
       "      <th>USC00514746</th>\n",
       "      <td>Kaua'i: Lihu'e</td>\n",
       "      <td>21.9667-159.4333_1977</td>\n",
       "      <td>US-HI</td>\n",
       "      <td>21.9667</td>\n",
       "      <td>-159.4333</td>\n",
       "      <td>21.9500</td>\n",
       "      <td>-159.4667</td>\n",
       "      <td>&lt;NA&gt;</td>\n",
       "      <td>&lt;NA&gt;</td>\n",
       "      <td>3914.260655</td>\n",
       "      <td>39.94</td>\n",
       "      <td>&lt;NA&gt;</td>\n",
       "      <td>&lt;NA&gt;</td>\n",
       "    </tr>\n",
       "    <tr>\n",
       "      <th>USC00515464</th>\n",
       "      <td>Kaua'i: Lihu'e</td>\n",
       "      <td>21.9667-159.4333_1977</td>\n",
       "      <td>US-HI</td>\n",
       "      <td>21.9667</td>\n",
       "      <td>-159.4333</td>\n",
       "      <td>21.9167</td>\n",
       "      <td>-159.5167</td>\n",
       "      <td>&lt;NA&gt;</td>\n",
       "      <td>&lt;NA&gt;</td>\n",
       "      <td>10245.145356</td>\n",
       "      <td>35.55</td>\n",
       "      <td>&lt;NA&gt;</td>\n",
       "      <td>&lt;NA&gt;</td>\n",
       "    </tr>\n",
       "    <tr>\n",
       "      <th>USC00517777</th>\n",
       "      <td>Kaua'i: Lihu'e</td>\n",
       "      <td>21.9667-159.4333_1977</td>\n",
       "      <td>US-HI</td>\n",
       "      <td>21.9667</td>\n",
       "      <td>-159.4333</td>\n",
       "      <td>21.9667</td>\n",
       "      <td>-159.4667</td>\n",
       "      <td>&lt;NA&gt;</td>\n",
       "      <td>&lt;NA&gt;</td>\n",
       "      <td>3445.259016</td>\n",
       "      <td>24.94</td>\n",
       "      <td>&lt;NA&gt;</td>\n",
       "      <td>&lt;NA&gt;</td>\n",
       "    </tr>\n",
       "    <tr>\n",
       "      <th>USC00518217</th>\n",
       "      <td>Kaua'i: Lihu'e</td>\n",
       "      <td>21.9667-159.4333_1977</td>\n",
       "      <td>US-HI</td>\n",
       "      <td>21.9667</td>\n",
       "      <td>-159.4333</td>\n",
       "      <td>21.9656</td>\n",
       "      <td>-159.3964</td>\n",
       "      <td>False</td>\n",
       "      <td>&lt;NA&gt;</td>\n",
       "      <td>3808.269759</td>\n",
       "      <td>42.66</td>\n",
       "      <td>&lt;NA&gt;</td>\n",
       "      <td>&lt;NA&gt;</td>\n",
       "    </tr>\n",
       "    <tr>\n",
       "      <th>USC00518570</th>\n",
       "      <td>Kaua'i: Lihu'e</td>\n",
       "      <td>21.9667-159.4333_1977</td>\n",
       "      <td>US-HI</td>\n",
       "      <td>21.9667</td>\n",
       "      <td>-159.4333</td>\n",
       "      <td>21.9667</td>\n",
       "      <td>-159.4167</td>\n",
       "      <td>&lt;NA&gt;</td>\n",
       "      <td>&lt;NA&gt;</td>\n",
       "      <td>1712.314364</td>\n",
       "      <td>24.06</td>\n",
       "      <td>&lt;NA&gt;</td>\n",
       "      <td>&lt;NA&gt;</td>\n",
       "    </tr>\n",
       "    <tr>\n",
       "      <th>USC00518573</th>\n",
       "      <td>Kaua'i: Lihu'e</td>\n",
       "      <td>21.9667-159.4333_1977</td>\n",
       "      <td>US-HI</td>\n",
       "      <td>21.9667</td>\n",
       "      <td>-159.4333</td>\n",
       "      <td>21.9500</td>\n",
       "      <td>-159.4500</td>\n",
       "      <td>&lt;NA&gt;</td>\n",
       "      <td>&lt;NA&gt;</td>\n",
       "      <td>2533.383680</td>\n",
       "      <td>14.96</td>\n",
       "      <td>&lt;NA&gt;</td>\n",
       "      <td>&lt;NA&gt;</td>\n",
       "    </tr>\n",
       "    <tr>\n",
       "      <th rowspan=\"13\" valign=\"top\">1977-12-17</th>\n",
       "      <th>US1HIKI0004</th>\n",
       "      <td>Kaua'i: Lihu'e</td>\n",
       "      <td>21.9667-159.4333_1978</td>\n",
       "      <td>US-HI</td>\n",
       "      <td>21.9667</td>\n",
       "      <td>-159.4333</td>\n",
       "      <td>21.9249</td>\n",
       "      <td>-159.4983</td>\n",
       "      <td>&lt;NA&gt;</td>\n",
       "      <td>True</td>\n",
       "      <td>8159.889753</td>\n",
       "      <td>43.84</td>\n",
       "      <td>&lt;NA&gt;</td>\n",
       "      <td>&lt;NA&gt;</td>\n",
       "    </tr>\n",
       "    <tr>\n",
       "      <th>US1HIKI0014</th>\n",
       "      <td>Kaua'i: Lihu'e</td>\n",
       "      <td>21.9667-159.4333_1978</td>\n",
       "      <td>US-HI</td>\n",
       "      <td>21.9667</td>\n",
       "      <td>-159.4333</td>\n",
       "      <td>21.9055</td>\n",
       "      <td>-159.5150</td>\n",
       "      <td>&lt;NA&gt;</td>\n",
       "      <td>True</td>\n",
       "      <td>10834.614107</td>\n",
       "      <td>11.26</td>\n",
       "      <td>&lt;NA&gt;</td>\n",
       "      <td>&lt;NA&gt;</td>\n",
       "    </tr>\n",
       "    <tr>\n",
       "      <th>US1HIKI0018</th>\n",
       "      <td>Kaua'i: Lihu'e</td>\n",
       "      <td>21.9667-159.4333_1978</td>\n",
       "      <td>US-HI</td>\n",
       "      <td>21.9667</td>\n",
       "      <td>-159.4333</td>\n",
       "      <td>21.9075</td>\n",
       "      <td>-159.5181</td>\n",
       "      <td>&lt;NA&gt;</td>\n",
       "      <td>True</td>\n",
       "      <td>10950.027151</td>\n",
       "      <td>17.34</td>\n",
       "      <td>&lt;NA&gt;</td>\n",
       "      <td>&lt;NA&gt;</td>\n",
       "    </tr>\n",
       "    <tr>\n",
       "      <th>USC00510006</th>\n",
       "      <td>Kaua'i: Lihu'e</td>\n",
       "      <td>21.9667-159.4333_1978</td>\n",
       "      <td>US-HI</td>\n",
       "      <td>21.9667</td>\n",
       "      <td>-159.4333</td>\n",
       "      <td>21.9500</td>\n",
       "      <td>-159.4333</td>\n",
       "      <td>&lt;NA&gt;</td>\n",
       "      <td>True</td>\n",
       "      <td>1857.479921</td>\n",
       "      <td>35.96</td>\n",
       "      <td>&lt;NA&gt;</td>\n",
       "      <td>&lt;NA&gt;</td>\n",
       "    </tr>\n",
       "    <tr>\n",
       "      <th>USC00510456</th>\n",
       "      <td>Kaua'i: Lihu'e</td>\n",
       "      <td>21.9667-159.4333_1978</td>\n",
       "      <td>US-HI</td>\n",
       "      <td>21.9667</td>\n",
       "      <td>-159.4333</td>\n",
       "      <td>21.9011</td>\n",
       "      <td>-159.4969</td>\n",
       "      <td>&lt;NA&gt;</td>\n",
       "      <td>True</td>\n",
       "      <td>9813.118605</td>\n",
       "      <td>49.06</td>\n",
       "      <td>&lt;NA&gt;</td>\n",
       "      <td>&lt;NA&gt;</td>\n",
       "    </tr>\n",
       "    <tr>\n",
       "      <th>USC00511038</th>\n",
       "      <td>Kaua'i: Lihu'e</td>\n",
       "      <td>21.9667-159.4333_1978</td>\n",
       "      <td>US-HI</td>\n",
       "      <td>21.9667</td>\n",
       "      <td>-159.4333</td>\n",
       "      <td>21.9650</td>\n",
       "      <td>-159.4297</td>\n",
       "      <td>&lt;NA&gt;</td>\n",
       "      <td>True</td>\n",
       "      <td>416.715760</td>\n",
       "      <td>6.44</td>\n",
       "      <td>&lt;NA&gt;</td>\n",
       "      <td>&lt;NA&gt;</td>\n",
       "    </tr>\n",
       "    <tr>\n",
       "      <th>USC00513023</th>\n",
       "      <td>Kaua'i: Lihu'e</td>\n",
       "      <td>21.9667-159.4333_1978</td>\n",
       "      <td>US-HI</td>\n",
       "      <td>21.9667</td>\n",
       "      <td>-159.4333</td>\n",
       "      <td>21.9167</td>\n",
       "      <td>-159.4500</td>\n",
       "      <td>&lt;NA&gt;</td>\n",
       "      <td>True</td>\n",
       "      <td>5822.091067</td>\n",
       "      <td>42.06</td>\n",
       "      <td>&lt;NA&gt;</td>\n",
       "      <td>&lt;NA&gt;</td>\n",
       "    </tr>\n",
       "    <tr>\n",
       "      <th>USC00514746</th>\n",
       "      <td>Kaua'i: Lihu'e</td>\n",
       "      <td>21.9667-159.4333_1978</td>\n",
       "      <td>US-HI</td>\n",
       "      <td>21.9667</td>\n",
       "      <td>-159.4333</td>\n",
       "      <td>21.9500</td>\n",
       "      <td>-159.4667</td>\n",
       "      <td>&lt;NA&gt;</td>\n",
       "      <td>True</td>\n",
       "      <td>3914.260655</td>\n",
       "      <td>39.94</td>\n",
       "      <td>&lt;NA&gt;</td>\n",
       "      <td>&lt;NA&gt;</td>\n",
       "    </tr>\n",
       "    <tr>\n",
       "      <th>USC00515464</th>\n",
       "      <td>Kaua'i: Lihu'e</td>\n",
       "      <td>21.9667-159.4333_1978</td>\n",
       "      <td>US-HI</td>\n",
       "      <td>21.9667</td>\n",
       "      <td>-159.4333</td>\n",
       "      <td>21.9167</td>\n",
       "      <td>-159.5167</td>\n",
       "      <td>&lt;NA&gt;</td>\n",
       "      <td>True</td>\n",
       "      <td>10245.145356</td>\n",
       "      <td>35.55</td>\n",
       "      <td>&lt;NA&gt;</td>\n",
       "      <td>&lt;NA&gt;</td>\n",
       "    </tr>\n",
       "    <tr>\n",
       "      <th>USC00517777</th>\n",
       "      <td>Kaua'i: Lihu'e</td>\n",
       "      <td>21.9667-159.4333_1978</td>\n",
       "      <td>US-HI</td>\n",
       "      <td>21.9667</td>\n",
       "      <td>-159.4333</td>\n",
       "      <td>21.9667</td>\n",
       "      <td>-159.4667</td>\n",
       "      <td>&lt;NA&gt;</td>\n",
       "      <td>True</td>\n",
       "      <td>3445.259016</td>\n",
       "      <td>24.94</td>\n",
       "      <td>&lt;NA&gt;</td>\n",
       "      <td>&lt;NA&gt;</td>\n",
       "    </tr>\n",
       "    <tr>\n",
       "      <th>USC00518217</th>\n",
       "      <td>Kaua'i: Lihu'e</td>\n",
       "      <td>21.9667-159.4333_1978</td>\n",
       "      <td>US-HI</td>\n",
       "      <td>21.9667</td>\n",
       "      <td>-159.4333</td>\n",
       "      <td>21.9656</td>\n",
       "      <td>-159.3964</td>\n",
       "      <td>&lt;NA&gt;</td>\n",
       "      <td>True</td>\n",
       "      <td>3808.269759</td>\n",
       "      <td>42.66</td>\n",
       "      <td>&lt;NA&gt;</td>\n",
       "      <td>&lt;NA&gt;</td>\n",
       "    </tr>\n",
       "    <tr>\n",
       "      <th>USC00518570</th>\n",
       "      <td>Kaua'i: Lihu'e</td>\n",
       "      <td>21.9667-159.4333_1978</td>\n",
       "      <td>US-HI</td>\n",
       "      <td>21.9667</td>\n",
       "      <td>-159.4333</td>\n",
       "      <td>21.9667</td>\n",
       "      <td>-159.4167</td>\n",
       "      <td>&lt;NA&gt;</td>\n",
       "      <td>True</td>\n",
       "      <td>1712.314364</td>\n",
       "      <td>24.06</td>\n",
       "      <td>&lt;NA&gt;</td>\n",
       "      <td>&lt;NA&gt;</td>\n",
       "    </tr>\n",
       "    <tr>\n",
       "      <th>USC00518573</th>\n",
       "      <td>Kaua'i: Lihu'e</td>\n",
       "      <td>21.9667-159.4333_1978</td>\n",
       "      <td>US-HI</td>\n",
       "      <td>21.9667</td>\n",
       "      <td>-159.4333</td>\n",
       "      <td>21.9500</td>\n",
       "      <td>-159.4500</td>\n",
       "      <td>&lt;NA&gt;</td>\n",
       "      <td>True</td>\n",
       "      <td>2533.383680</td>\n",
       "      <td>14.96</td>\n",
       "      <td>&lt;NA&gt;</td>\n",
       "      <td>&lt;NA&gt;</td>\n",
       "    </tr>\n",
       "    <tr>\n",
       "      <th rowspan=\"8\" valign=\"top\">1978-12-16</th>\n",
       "      <th>US1HIKI0004</th>\n",
       "      <td>Kaua'i: Lihu'e</td>\n",
       "      <td>21.9667-159.4333_1979</td>\n",
       "      <td>US-HI</td>\n",
       "      <td>21.9667</td>\n",
       "      <td>-159.4333</td>\n",
       "      <td>21.9249</td>\n",
       "      <td>-159.4983</td>\n",
       "      <td>&lt;NA&gt;</td>\n",
       "      <td>&lt;NA&gt;</td>\n",
       "      <td>8159.889753</td>\n",
       "      <td>43.84</td>\n",
       "      <td>&lt;NA&gt;</td>\n",
       "      <td>&lt;NA&gt;</td>\n",
       "    </tr>\n",
       "    <tr>\n",
       "      <th>US1HIKI0014</th>\n",
       "      <td>Kaua'i: Lihu'e</td>\n",
       "      <td>21.9667-159.4333_1979</td>\n",
       "      <td>US-HI</td>\n",
       "      <td>21.9667</td>\n",
       "      <td>-159.4333</td>\n",
       "      <td>21.9055</td>\n",
       "      <td>-159.5150</td>\n",
       "      <td>&lt;NA&gt;</td>\n",
       "      <td>&lt;NA&gt;</td>\n",
       "      <td>10834.614107</td>\n",
       "      <td>11.26</td>\n",
       "      <td>&lt;NA&gt;</td>\n",
       "      <td>&lt;NA&gt;</td>\n",
       "    </tr>\n",
       "    <tr>\n",
       "      <th>US1HIKI0018</th>\n",
       "      <td>Kaua'i: Lihu'e</td>\n",
       "      <td>21.9667-159.4333_1979</td>\n",
       "      <td>US-HI</td>\n",
       "      <td>21.9667</td>\n",
       "      <td>-159.4333</td>\n",
       "      <td>21.9075</td>\n",
       "      <td>-159.5181</td>\n",
       "      <td>&lt;NA&gt;</td>\n",
       "      <td>&lt;NA&gt;</td>\n",
       "      <td>10950.027151</td>\n",
       "      <td>17.34</td>\n",
       "      <td>&lt;NA&gt;</td>\n",
       "      <td>&lt;NA&gt;</td>\n",
       "    </tr>\n",
       "    <tr>\n",
       "      <th>USC00510006</th>\n",
       "      <td>Kaua'i: Lihu'e</td>\n",
       "      <td>21.9667-159.4333_1979</td>\n",
       "      <td>US-HI</td>\n",
       "      <td>21.9667</td>\n",
       "      <td>-159.4333</td>\n",
       "      <td>21.9500</td>\n",
       "      <td>-159.4333</td>\n",
       "      <td>&lt;NA&gt;</td>\n",
       "      <td>&lt;NA&gt;</td>\n",
       "      <td>1857.479921</td>\n",
       "      <td>35.96</td>\n",
       "      <td>&lt;NA&gt;</td>\n",
       "      <td>&lt;NA&gt;</td>\n",
       "    </tr>\n",
       "    <tr>\n",
       "      <th>USC00510456</th>\n",
       "      <td>Kaua'i: Lihu'e</td>\n",
       "      <td>21.9667-159.4333_1979</td>\n",
       "      <td>US-HI</td>\n",
       "      <td>21.9667</td>\n",
       "      <td>-159.4333</td>\n",
       "      <td>21.9011</td>\n",
       "      <td>-159.4969</td>\n",
       "      <td>&lt;NA&gt;</td>\n",
       "      <td>&lt;NA&gt;</td>\n",
       "      <td>9813.118605</td>\n",
       "      <td>49.06</td>\n",
       "      <td>&lt;NA&gt;</td>\n",
       "      <td>&lt;NA&gt;</td>\n",
       "    </tr>\n",
       "    <tr>\n",
       "      <th>USC00511038</th>\n",
       "      <td>Kaua'i: Lihu'e</td>\n",
       "      <td>21.9667-159.4333_1979</td>\n",
       "      <td>US-HI</td>\n",
       "      <td>21.9667</td>\n",
       "      <td>-159.4333</td>\n",
       "      <td>21.9650</td>\n",
       "      <td>-159.4297</td>\n",
       "      <td>&lt;NA&gt;</td>\n",
       "      <td>&lt;NA&gt;</td>\n",
       "      <td>416.715760</td>\n",
       "      <td>6.44</td>\n",
       "      <td>&lt;NA&gt;</td>\n",
       "      <td>&lt;NA&gt;</td>\n",
       "    </tr>\n",
       "    <tr>\n",
       "      <th>USC00513023</th>\n",
       "      <td>Kaua'i: Lihu'e</td>\n",
       "      <td>21.9667-159.4333_1979</td>\n",
       "      <td>US-HI</td>\n",
       "      <td>21.9667</td>\n",
       "      <td>-159.4333</td>\n",
       "      <td>21.9167</td>\n",
       "      <td>-159.4500</td>\n",
       "      <td>&lt;NA&gt;</td>\n",
       "      <td>&lt;NA&gt;</td>\n",
       "      <td>5822.091067</td>\n",
       "      <td>42.06</td>\n",
       "      <td>&lt;NA&gt;</td>\n",
       "      <td>&lt;NA&gt;</td>\n",
       "    </tr>\n",
       "    <tr>\n",
       "      <th>USC00514746</th>\n",
       "      <td>Kaua'i: Lihu'e</td>\n",
       "      <td>21.9667-159.4333_1979</td>\n",
       "      <td>US-HI</td>\n",
       "      <td>21.9667</td>\n",
       "      <td>-159.4333</td>\n",
       "      <td>21.9500</td>\n",
       "      <td>-159.4667</td>\n",
       "      <td>&lt;NA&gt;</td>\n",
       "      <td>&lt;NA&gt;</td>\n",
       "      <td>3914.260655</td>\n",
       "      <td>39.94</td>\n",
       "      <td>&lt;NA&gt;</td>\n",
       "      <td>&lt;NA&gt;</td>\n",
       "    </tr>\n",
       "  </tbody>\n",
       "</table>\n",
       "</div>"
      ],
      "text/plain": [
       "                                        c_name                     ui  \\\n",
       "c_id    count_date s_id                                                 \n",
       "87ymwsn 1968-12-26 USC00519130  Kaua'i: Waimea  22.0833-159.6667_1969   \n",
       "87ysunb 1971-12-27 US1HIKI0004  Kaua'i: Lihu'e  21.9667-159.4333_1972   \n",
       "                   US1HIKI0014  Kaua'i: Lihu'e  21.9667-159.4333_1972   \n",
       "                   US1HIKI0018  Kaua'i: Lihu'e  21.9667-159.4333_1972   \n",
       "                   USC00510006  Kaua'i: Lihu'e  21.9667-159.4333_1972   \n",
       "                   USC00510456  Kaua'i: Lihu'e  21.9667-159.4333_1972   \n",
       "                   USC00511038  Kaua'i: Lihu'e  21.9667-159.4333_1972   \n",
       "                   USC00513023  Kaua'i: Lihu'e  21.9667-159.4333_1972   \n",
       "                   USC00514746  Kaua'i: Lihu'e  21.9667-159.4333_1972   \n",
       "                   USC00515464  Kaua'i: Lihu'e  21.9667-159.4333_1972   \n",
       "                   USC00517777  Kaua'i: Lihu'e  21.9667-159.4333_1972   \n",
       "                   USC00518217  Kaua'i: Lihu'e  21.9667-159.4333_1972   \n",
       "                   USC00518570  Kaua'i: Lihu'e  21.9667-159.4333_1972   \n",
       "                   USC00518573  Kaua'i: Lihu'e  21.9667-159.4333_1972   \n",
       "        1972-12-17 US1HIKI0004  Kaua'i: Lihu'e  21.9667-159.4333_1973   \n",
       "                   US1HIKI0014  Kaua'i: Lihu'e  21.9667-159.4333_1973   \n",
       "                   US1HIKI0018  Kaua'i: Lihu'e  21.9667-159.4333_1973   \n",
       "                   USC00510006  Kaua'i: Lihu'e  21.9667-159.4333_1973   \n",
       "                   USC00510456  Kaua'i: Lihu'e  21.9667-159.4333_1973   \n",
       "                   USC00511038  Kaua'i: Lihu'e  21.9667-159.4333_1973   \n",
       "                   USC00513023  Kaua'i: Lihu'e  21.9667-159.4333_1973   \n",
       "                   USC00514746  Kaua'i: Lihu'e  21.9667-159.4333_1973   \n",
       "                   USC00515464  Kaua'i: Lihu'e  21.9667-159.4333_1973   \n",
       "                   USC00517777  Kaua'i: Lihu'e  21.9667-159.4333_1973   \n",
       "                   USC00518217  Kaua'i: Lihu'e  21.9667-159.4333_1973   \n",
       "                   USC00518570  Kaua'i: Lihu'e  21.9667-159.4333_1973   \n",
       "                   USC00518573  Kaua'i: Lihu'e  21.9667-159.4333_1973   \n",
       "        1973-12-16 US1HIKI0004  Kaua'i: Lihu'e  21.9667-159.4333_1974   \n",
       "                   US1HIKI0014  Kaua'i: Lihu'e  21.9667-159.4333_1974   \n",
       "                   US1HIKI0018  Kaua'i: Lihu'e  21.9667-159.4333_1974   \n",
       "                   USC00510006  Kaua'i: Lihu'e  21.9667-159.4333_1974   \n",
       "                   USC00510456  Kaua'i: Lihu'e  21.9667-159.4333_1974   \n",
       "                   USC00511038  Kaua'i: Lihu'e  21.9667-159.4333_1974   \n",
       "                   USC00513023  Kaua'i: Lihu'e  21.9667-159.4333_1974   \n",
       "                   USC00514746  Kaua'i: Lihu'e  21.9667-159.4333_1974   \n",
       "                   USC00515464  Kaua'i: Lihu'e  21.9667-159.4333_1974   \n",
       "                   USC00517777  Kaua'i: Lihu'e  21.9667-159.4333_1974   \n",
       "                   USC00518217  Kaua'i: Lihu'e  21.9667-159.4333_1974   \n",
       "                   USC00518570  Kaua'i: Lihu'e  21.9667-159.4333_1974   \n",
       "                   USC00518573  Kaua'i: Lihu'e  21.9667-159.4333_1974   \n",
       "        1974-12-15 US1HIKI0004  Kaua'i: Lihu'e  21.9667-159.4333_1975   \n",
       "                   US1HIKI0014  Kaua'i: Lihu'e  21.9667-159.4333_1975   \n",
       "                   US1HIKI0018  Kaua'i: Lihu'e  21.9667-159.4333_1975   \n",
       "                   USC00510006  Kaua'i: Lihu'e  21.9667-159.4333_1975   \n",
       "                   USC00510456  Kaua'i: Lihu'e  21.9667-159.4333_1975   \n",
       "                   USC00511038  Kaua'i: Lihu'e  21.9667-159.4333_1975   \n",
       "                   USC00513023  Kaua'i: Lihu'e  21.9667-159.4333_1975   \n",
       "                   USC00514746  Kaua'i: Lihu'e  21.9667-159.4333_1975   \n",
       "                   USC00515464  Kaua'i: Lihu'e  21.9667-159.4333_1975   \n",
       "                   USC00517777  Kaua'i: Lihu'e  21.9667-159.4333_1975   \n",
       "                   USC00518217  Kaua'i: Lihu'e  21.9667-159.4333_1975   \n",
       "                   USC00518570  Kaua'i: Lihu'e  21.9667-159.4333_1975   \n",
       "                   USC00518573  Kaua'i: Lihu'e  21.9667-159.4333_1975   \n",
       "        1976-01-04 US1HIKI0004  Kaua'i: Lihu'e  21.9667-159.4333_1976   \n",
       "                   US1HIKI0014  Kaua'i: Lihu'e  21.9667-159.4333_1976   \n",
       "                   US1HIKI0018  Kaua'i: Lihu'e  21.9667-159.4333_1976   \n",
       "                   USC00510006  Kaua'i: Lihu'e  21.9667-159.4333_1976   \n",
       "                   USC00510456  Kaua'i: Lihu'e  21.9667-159.4333_1976   \n",
       "                   USC00511038  Kaua'i: Lihu'e  21.9667-159.4333_1976   \n",
       "                   USC00513023  Kaua'i: Lihu'e  21.9667-159.4333_1976   \n",
       "                   USC00514746  Kaua'i: Lihu'e  21.9667-159.4333_1976   \n",
       "                   USC00515464  Kaua'i: Lihu'e  21.9667-159.4333_1976   \n",
       "                   USC00517777  Kaua'i: Lihu'e  21.9667-159.4333_1976   \n",
       "                   USC00518217  Kaua'i: Lihu'e  21.9667-159.4333_1976   \n",
       "                   USC00518570  Kaua'i: Lihu'e  21.9667-159.4333_1976   \n",
       "                   USC00518573  Kaua'i: Lihu'e  21.9667-159.4333_1976   \n",
       "        1976-12-18 US1HIKI0004  Kaua'i: Lihu'e  21.9667-159.4333_1977   \n",
       "                   US1HIKI0014  Kaua'i: Lihu'e  21.9667-159.4333_1977   \n",
       "                   US1HIKI0018  Kaua'i: Lihu'e  21.9667-159.4333_1977   \n",
       "                   USC00510006  Kaua'i: Lihu'e  21.9667-159.4333_1977   \n",
       "                   USC00510456  Kaua'i: Lihu'e  21.9667-159.4333_1977   \n",
       "                   USC00511038  Kaua'i: Lihu'e  21.9667-159.4333_1977   \n",
       "                   USC00513023  Kaua'i: Lihu'e  21.9667-159.4333_1977   \n",
       "                   USC00514746  Kaua'i: Lihu'e  21.9667-159.4333_1977   \n",
       "                   USC00515464  Kaua'i: Lihu'e  21.9667-159.4333_1977   \n",
       "                   USC00517777  Kaua'i: Lihu'e  21.9667-159.4333_1977   \n",
       "                   USC00518217  Kaua'i: Lihu'e  21.9667-159.4333_1977   \n",
       "                   USC00518570  Kaua'i: Lihu'e  21.9667-159.4333_1977   \n",
       "                   USC00518573  Kaua'i: Lihu'e  21.9667-159.4333_1977   \n",
       "        1977-12-17 US1HIKI0004  Kaua'i: Lihu'e  21.9667-159.4333_1978   \n",
       "                   US1HIKI0014  Kaua'i: Lihu'e  21.9667-159.4333_1978   \n",
       "                   US1HIKI0018  Kaua'i: Lihu'e  21.9667-159.4333_1978   \n",
       "                   USC00510006  Kaua'i: Lihu'e  21.9667-159.4333_1978   \n",
       "                   USC00510456  Kaua'i: Lihu'e  21.9667-159.4333_1978   \n",
       "                   USC00511038  Kaua'i: Lihu'e  21.9667-159.4333_1978   \n",
       "                   USC00513023  Kaua'i: Lihu'e  21.9667-159.4333_1978   \n",
       "                   USC00514746  Kaua'i: Lihu'e  21.9667-159.4333_1978   \n",
       "                   USC00515464  Kaua'i: Lihu'e  21.9667-159.4333_1978   \n",
       "                   USC00517777  Kaua'i: Lihu'e  21.9667-159.4333_1978   \n",
       "                   USC00518217  Kaua'i: Lihu'e  21.9667-159.4333_1978   \n",
       "                   USC00518570  Kaua'i: Lihu'e  21.9667-159.4333_1978   \n",
       "                   USC00518573  Kaua'i: Lihu'e  21.9667-159.4333_1978   \n",
       "        1978-12-16 US1HIKI0004  Kaua'i: Lihu'e  21.9667-159.4333_1979   \n",
       "                   US1HIKI0014  Kaua'i: Lihu'e  21.9667-159.4333_1979   \n",
       "                   US1HIKI0018  Kaua'i: Lihu'e  21.9667-159.4333_1979   \n",
       "                   USC00510006  Kaua'i: Lihu'e  21.9667-159.4333_1979   \n",
       "                   USC00510456  Kaua'i: Lihu'e  21.9667-159.4333_1979   \n",
       "                   USC00511038  Kaua'i: Lihu'e  21.9667-159.4333_1979   \n",
       "                   USC00513023  Kaua'i: Lihu'e  21.9667-159.4333_1979   \n",
       "                   USC00514746  Kaua'i: Lihu'e  21.9667-159.4333_1979   \n",
       "\n",
       "                               country_state    c_lat     c_lon    s_lat  \\\n",
       "c_id    count_date s_id                                                    \n",
       "87ymwsn 1968-12-26 USC00519130         US-HI  22.0833 -159.6667  22.1167   \n",
       "87ysunb 1971-12-27 US1HIKI0004         US-HI  21.9667 -159.4333  21.9249   \n",
       "                   US1HIKI0014         US-HI  21.9667 -159.4333  21.9055   \n",
       "                   US1HIKI0018         US-HI  21.9667 -159.4333  21.9075   \n",
       "                   USC00510006         US-HI  21.9667 -159.4333  21.9500   \n",
       "                   USC00510456         US-HI  21.9667 -159.4333  21.9011   \n",
       "                   USC00511038         US-HI  21.9667 -159.4333  21.9650   \n",
       "                   USC00513023         US-HI  21.9667 -159.4333  21.9167   \n",
       "                   USC00514746         US-HI  21.9667 -159.4333  21.9500   \n",
       "                   USC00515464         US-HI  21.9667 -159.4333  21.9167   \n",
       "                   USC00517777         US-HI  21.9667 -159.4333  21.9667   \n",
       "                   USC00518217         US-HI  21.9667 -159.4333  21.9656   \n",
       "                   USC00518570         US-HI  21.9667 -159.4333  21.9667   \n",
       "                   USC00518573         US-HI  21.9667 -159.4333  21.9500   \n",
       "        1972-12-17 US1HIKI0004         US-HI  21.9667 -159.4333  21.9249   \n",
       "                   US1HIKI0014         US-HI  21.9667 -159.4333  21.9055   \n",
       "                   US1HIKI0018         US-HI  21.9667 -159.4333  21.9075   \n",
       "                   USC00510006         US-HI  21.9667 -159.4333  21.9500   \n",
       "                   USC00510456         US-HI  21.9667 -159.4333  21.9011   \n",
       "                   USC00511038         US-HI  21.9667 -159.4333  21.9650   \n",
       "                   USC00513023         US-HI  21.9667 -159.4333  21.9167   \n",
       "                   USC00514746         US-HI  21.9667 -159.4333  21.9500   \n",
       "                   USC00515464         US-HI  21.9667 -159.4333  21.9167   \n",
       "                   USC00517777         US-HI  21.9667 -159.4333  21.9667   \n",
       "                   USC00518217         US-HI  21.9667 -159.4333  21.9656   \n",
       "                   USC00518570         US-HI  21.9667 -159.4333  21.9667   \n",
       "                   USC00518573         US-HI  21.9667 -159.4333  21.9500   \n",
       "        1973-12-16 US1HIKI0004         US-HI  21.9667 -159.4333  21.9249   \n",
       "                   US1HIKI0014         US-HI  21.9667 -159.4333  21.9055   \n",
       "                   US1HIKI0018         US-HI  21.9667 -159.4333  21.9075   \n",
       "                   USC00510006         US-HI  21.9667 -159.4333  21.9500   \n",
       "                   USC00510456         US-HI  21.9667 -159.4333  21.9011   \n",
       "                   USC00511038         US-HI  21.9667 -159.4333  21.9650   \n",
       "                   USC00513023         US-HI  21.9667 -159.4333  21.9167   \n",
       "                   USC00514746         US-HI  21.9667 -159.4333  21.9500   \n",
       "                   USC00515464         US-HI  21.9667 -159.4333  21.9167   \n",
       "                   USC00517777         US-HI  21.9667 -159.4333  21.9667   \n",
       "                   USC00518217         US-HI  21.9667 -159.4333  21.9656   \n",
       "                   USC00518570         US-HI  21.9667 -159.4333  21.9667   \n",
       "                   USC00518573         US-HI  21.9667 -159.4333  21.9500   \n",
       "        1974-12-15 US1HIKI0004         US-HI  21.9667 -159.4333  21.9249   \n",
       "                   US1HIKI0014         US-HI  21.9667 -159.4333  21.9055   \n",
       "                   US1HIKI0018         US-HI  21.9667 -159.4333  21.9075   \n",
       "                   USC00510006         US-HI  21.9667 -159.4333  21.9500   \n",
       "                   USC00510456         US-HI  21.9667 -159.4333  21.9011   \n",
       "                   USC00511038         US-HI  21.9667 -159.4333  21.9650   \n",
       "                   USC00513023         US-HI  21.9667 -159.4333  21.9167   \n",
       "                   USC00514746         US-HI  21.9667 -159.4333  21.9500   \n",
       "                   USC00515464         US-HI  21.9667 -159.4333  21.9167   \n",
       "                   USC00517777         US-HI  21.9667 -159.4333  21.9667   \n",
       "                   USC00518217         US-HI  21.9667 -159.4333  21.9656   \n",
       "                   USC00518570         US-HI  21.9667 -159.4333  21.9667   \n",
       "                   USC00518573         US-HI  21.9667 -159.4333  21.9500   \n",
       "        1976-01-04 US1HIKI0004         US-HI  21.9667 -159.4333  21.9249   \n",
       "                   US1HIKI0014         US-HI  21.9667 -159.4333  21.9055   \n",
       "                   US1HIKI0018         US-HI  21.9667 -159.4333  21.9075   \n",
       "                   USC00510006         US-HI  21.9667 -159.4333  21.9500   \n",
       "                   USC00510456         US-HI  21.9667 -159.4333  21.9011   \n",
       "                   USC00511038         US-HI  21.9667 -159.4333  21.9650   \n",
       "                   USC00513023         US-HI  21.9667 -159.4333  21.9167   \n",
       "                   USC00514746         US-HI  21.9667 -159.4333  21.9500   \n",
       "                   USC00515464         US-HI  21.9667 -159.4333  21.9167   \n",
       "                   USC00517777         US-HI  21.9667 -159.4333  21.9667   \n",
       "                   USC00518217         US-HI  21.9667 -159.4333  21.9656   \n",
       "                   USC00518570         US-HI  21.9667 -159.4333  21.9667   \n",
       "                   USC00518573         US-HI  21.9667 -159.4333  21.9500   \n",
       "        1976-12-18 US1HIKI0004         US-HI  21.9667 -159.4333  21.9249   \n",
       "                   US1HIKI0014         US-HI  21.9667 -159.4333  21.9055   \n",
       "                   US1HIKI0018         US-HI  21.9667 -159.4333  21.9075   \n",
       "                   USC00510006         US-HI  21.9667 -159.4333  21.9500   \n",
       "                   USC00510456         US-HI  21.9667 -159.4333  21.9011   \n",
       "                   USC00511038         US-HI  21.9667 -159.4333  21.9650   \n",
       "                   USC00513023         US-HI  21.9667 -159.4333  21.9167   \n",
       "                   USC00514746         US-HI  21.9667 -159.4333  21.9500   \n",
       "                   USC00515464         US-HI  21.9667 -159.4333  21.9167   \n",
       "                   USC00517777         US-HI  21.9667 -159.4333  21.9667   \n",
       "                   USC00518217         US-HI  21.9667 -159.4333  21.9656   \n",
       "                   USC00518570         US-HI  21.9667 -159.4333  21.9667   \n",
       "                   USC00518573         US-HI  21.9667 -159.4333  21.9500   \n",
       "        1977-12-17 US1HIKI0004         US-HI  21.9667 -159.4333  21.9249   \n",
       "                   US1HIKI0014         US-HI  21.9667 -159.4333  21.9055   \n",
       "                   US1HIKI0018         US-HI  21.9667 -159.4333  21.9075   \n",
       "                   USC00510006         US-HI  21.9667 -159.4333  21.9500   \n",
       "                   USC00510456         US-HI  21.9667 -159.4333  21.9011   \n",
       "                   USC00511038         US-HI  21.9667 -159.4333  21.9650   \n",
       "                   USC00513023         US-HI  21.9667 -159.4333  21.9167   \n",
       "                   USC00514746         US-HI  21.9667 -159.4333  21.9500   \n",
       "                   USC00515464         US-HI  21.9667 -159.4333  21.9167   \n",
       "                   USC00517777         US-HI  21.9667 -159.4333  21.9667   \n",
       "                   USC00518217         US-HI  21.9667 -159.4333  21.9656   \n",
       "                   USC00518570         US-HI  21.9667 -159.4333  21.9667   \n",
       "                   USC00518573         US-HI  21.9667 -159.4333  21.9500   \n",
       "        1978-12-16 US1HIKI0004         US-HI  21.9667 -159.4333  21.9249   \n",
       "                   US1HIKI0014         US-HI  21.9667 -159.4333  21.9055   \n",
       "                   US1HIKI0018         US-HI  21.9667 -159.4333  21.9075   \n",
       "                   USC00510006         US-HI  21.9667 -159.4333  21.9500   \n",
       "                   USC00510456         US-HI  21.9667 -159.4333  21.9011   \n",
       "                   USC00511038         US-HI  21.9667 -159.4333  21.9650   \n",
       "                   USC00513023         US-HI  21.9667 -159.4333  21.9167   \n",
       "                   USC00514746         US-HI  21.9667 -159.4333  21.9500   \n",
       "\n",
       "                                   s_lon s_rain c_rain      distance  d_elev  \\\n",
       "c_id    count_date s_id                                                        \n",
       "87ymwsn 1968-12-26 USC00519130 -159.6167   <NA>  False   6352.278644   36.16   \n",
       "87ysunb 1971-12-27 US1HIKI0004 -159.4983   <NA>   True   8159.889753   43.84   \n",
       "                   US1HIKI0014 -159.5150   <NA>   True  10834.614107   11.26   \n",
       "                   US1HIKI0018 -159.5181   <NA>   True  10950.027151   17.34   \n",
       "                   USC00510006 -159.4333   <NA>   True   1857.479921   35.96   \n",
       "                   USC00510456 -159.4969   <NA>   True   9813.118605   49.06   \n",
       "                   USC00511038 -159.4297   <NA>   True    416.715760    6.44   \n",
       "                   USC00513023 -159.4500   <NA>   True   5822.091067   42.06   \n",
       "                   USC00514746 -159.4667   <NA>   True   3914.260655   39.94   \n",
       "                   USC00515464 -159.5167   <NA>   True  10245.145356   35.55   \n",
       "                   USC00517777 -159.4667   <NA>   True   3445.259016   24.94   \n",
       "                   USC00518217 -159.3964   <NA>   True   3808.269759   42.66   \n",
       "                   USC00518570 -159.4167   <NA>   True   1712.314364   24.06   \n",
       "                   USC00518573 -159.4500   <NA>   True   2533.383680   14.96   \n",
       "        1972-12-17 US1HIKI0004 -159.4983   <NA>   True   8159.889753   43.84   \n",
       "                   US1HIKI0014 -159.5150   <NA>   True  10834.614107   11.26   \n",
       "                   US1HIKI0018 -159.5181   <NA>   True  10950.027151   17.34   \n",
       "                   USC00510006 -159.4333   <NA>   True   1857.479921   35.96   \n",
       "                   USC00510456 -159.4969   <NA>   True   9813.118605   49.06   \n",
       "                   USC00511038 -159.4297   <NA>   True    416.715760    6.44   \n",
       "                   USC00513023 -159.4500   <NA>   True   5822.091067   42.06   \n",
       "                   USC00514746 -159.4667   <NA>   True   3914.260655   39.94   \n",
       "                   USC00515464 -159.5167   <NA>   True  10245.145356   35.55   \n",
       "                   USC00517777 -159.4667   <NA>   True   3445.259016   24.94   \n",
       "                   USC00518217 -159.3964   <NA>   True   3808.269759   42.66   \n",
       "                   USC00518570 -159.4167   <NA>   True   1712.314364   24.06   \n",
       "                   USC00518573 -159.4500   <NA>   True   2533.383680   14.96   \n",
       "        1973-12-16 US1HIKI0004 -159.4983   <NA>   <NA>   8159.889753   43.84   \n",
       "                   US1HIKI0014 -159.5150   <NA>   <NA>  10834.614107   11.26   \n",
       "                   US1HIKI0018 -159.5181   <NA>   <NA>  10950.027151   17.34   \n",
       "                   USC00510006 -159.4333   <NA>   <NA>   1857.479921   35.96   \n",
       "                   USC00510456 -159.4969  False   <NA>   9813.118605   49.06   \n",
       "                   USC00511038 -159.4297   <NA>   <NA>    416.715760    6.44   \n",
       "                   USC00513023 -159.4500   <NA>   <NA>   5822.091067   42.06   \n",
       "                   USC00514746 -159.4667   <NA>   <NA>   3914.260655   39.94   \n",
       "                   USC00515464 -159.5167   <NA>   <NA>  10245.145356   35.55   \n",
       "                   USC00517777 -159.4667   <NA>   <NA>   3445.259016   24.94   \n",
       "                   USC00518217 -159.3964   <NA>   <NA>   3808.269759   42.66   \n",
       "                   USC00518570 -159.4167   <NA>   <NA>   1712.314364   24.06   \n",
       "                   USC00518573 -159.4500  False   <NA>   2533.383680   14.96   \n",
       "        1974-12-15 US1HIKI0004 -159.4983   <NA>   True   8159.889753   43.84   \n",
       "                   US1HIKI0014 -159.5150   <NA>   True  10834.614107   11.26   \n",
       "                   US1HIKI0018 -159.5181   <NA>   True  10950.027151   17.34   \n",
       "                   USC00510006 -159.4333   <NA>   True   1857.479921   35.96   \n",
       "                   USC00510456 -159.4969   <NA>   True   9813.118605   49.06   \n",
       "                   USC00511038 -159.4297   <NA>   True    416.715760    6.44   \n",
       "                   USC00513023 -159.4500   <NA>   True   5822.091067   42.06   \n",
       "                   USC00514746 -159.4667   <NA>   True   3914.260655   39.94   \n",
       "                   USC00515464 -159.5167   <NA>   True  10245.145356   35.55   \n",
       "                   USC00517777 -159.4667   <NA>   True   3445.259016   24.94   \n",
       "                   USC00518217 -159.3964   <NA>   True   3808.269759   42.66   \n",
       "                   USC00518570 -159.4167   <NA>   True   1712.314364   24.06   \n",
       "                   USC00518573 -159.4500   <NA>   True   2533.383680   14.96   \n",
       "        1976-01-04 US1HIKI0004 -159.4983   <NA>   <NA>   8159.889753   43.84   \n",
       "                   US1HIKI0014 -159.5150   <NA>   <NA>  10834.614107   11.26   \n",
       "                   US1HIKI0018 -159.5181   <NA>   <NA>  10950.027151   17.34   \n",
       "                   USC00510006 -159.4333   <NA>   <NA>   1857.479921   35.96   \n",
       "                   USC00510456 -159.4969   <NA>   <NA>   9813.118605   49.06   \n",
       "                   USC00511038 -159.4297   <NA>   <NA>    416.715760    6.44   \n",
       "                   USC00513023 -159.4500   <NA>   <NA>   5822.091067   42.06   \n",
       "                   USC00514746 -159.4667   <NA>   <NA>   3914.260655   39.94   \n",
       "                   USC00515464 -159.5167   <NA>   <NA>  10245.145356   35.55   \n",
       "                   USC00517777 -159.4667   <NA>   <NA>   3445.259016   24.94   \n",
       "                   USC00518217 -159.3964   <NA>   <NA>   3808.269759   42.66   \n",
       "                   USC00518570 -159.4167   <NA>   <NA>   1712.314364   24.06   \n",
       "                   USC00518573 -159.4500   <NA>   <NA>   2533.383680   14.96   \n",
       "        1976-12-18 US1HIKI0004 -159.4983   <NA>   <NA>   8159.889753   43.84   \n",
       "                   US1HIKI0014 -159.5150   <NA>   <NA>  10834.614107   11.26   \n",
       "                   US1HIKI0018 -159.5181   <NA>   <NA>  10950.027151   17.34   \n",
       "                   USC00510006 -159.4333   <NA>   <NA>   1857.479921   35.96   \n",
       "                   USC00510456 -159.4969  False   <NA>   9813.118605   49.06   \n",
       "                   USC00511038 -159.4297  False   <NA>    416.715760    6.44   \n",
       "                   USC00513023 -159.4500   <NA>   <NA>   5822.091067   42.06   \n",
       "                   USC00514746 -159.4667   <NA>   <NA>   3914.260655   39.94   \n",
       "                   USC00515464 -159.5167   <NA>   <NA>  10245.145356   35.55   \n",
       "                   USC00517777 -159.4667   <NA>   <NA>   3445.259016   24.94   \n",
       "                   USC00518217 -159.3964  False   <NA>   3808.269759   42.66   \n",
       "                   USC00518570 -159.4167   <NA>   <NA>   1712.314364   24.06   \n",
       "                   USC00518573 -159.4500   <NA>   <NA>   2533.383680   14.96   \n",
       "        1977-12-17 US1HIKI0004 -159.4983   <NA>   True   8159.889753   43.84   \n",
       "                   US1HIKI0014 -159.5150   <NA>   True  10834.614107   11.26   \n",
       "                   US1HIKI0018 -159.5181   <NA>   True  10950.027151   17.34   \n",
       "                   USC00510006 -159.4333   <NA>   True   1857.479921   35.96   \n",
       "                   USC00510456 -159.4969   <NA>   True   9813.118605   49.06   \n",
       "                   USC00511038 -159.4297   <NA>   True    416.715760    6.44   \n",
       "                   USC00513023 -159.4500   <NA>   True   5822.091067   42.06   \n",
       "                   USC00514746 -159.4667   <NA>   True   3914.260655   39.94   \n",
       "                   USC00515464 -159.5167   <NA>   True  10245.145356   35.55   \n",
       "                   USC00517777 -159.4667   <NA>   True   3445.259016   24.94   \n",
       "                   USC00518217 -159.3964   <NA>   True   3808.269759   42.66   \n",
       "                   USC00518570 -159.4167   <NA>   True   1712.314364   24.06   \n",
       "                   USC00518573 -159.4500   <NA>   True   2533.383680   14.96   \n",
       "        1978-12-16 US1HIKI0004 -159.4983   <NA>   <NA>   8159.889753   43.84   \n",
       "                   US1HIKI0014 -159.5150   <NA>   <NA>  10834.614107   11.26   \n",
       "                   US1HIKI0018 -159.5181   <NA>   <NA>  10950.027151   17.34   \n",
       "                   USC00510006 -159.4333   <NA>   <NA>   1857.479921   35.96   \n",
       "                   USC00510456 -159.4969   <NA>   <NA>   9813.118605   49.06   \n",
       "                   USC00511038 -159.4297   <NA>   <NA>    416.715760    6.44   \n",
       "                   USC00513023 -159.4500   <NA>   <NA>   5822.091067   42.06   \n",
       "                   USC00514746 -159.4667   <NA>   <NA>   3914.260655   39.94   \n",
       "\n",
       "                                same_ecosys  same_nlcd  \n",
       "c_id    count_date s_id                                 \n",
       "87ymwsn 1968-12-26 USC00519130         <NA>       <NA>  \n",
       "87ysunb 1971-12-27 US1HIKI0004         <NA>       <NA>  \n",
       "                   US1HIKI0014         <NA>       <NA>  \n",
       "                   US1HIKI0018         <NA>       <NA>  \n",
       "                   USC00510006         <NA>       <NA>  \n",
       "                   USC00510456         <NA>       <NA>  \n",
       "                   USC00511038         <NA>       <NA>  \n",
       "                   USC00513023         <NA>       <NA>  \n",
       "                   USC00514746         <NA>       <NA>  \n",
       "                   USC00515464         <NA>       <NA>  \n",
       "                   USC00517777         <NA>       <NA>  \n",
       "                   USC00518217         <NA>       <NA>  \n",
       "                   USC00518570         <NA>       <NA>  \n",
       "                   USC00518573         <NA>       <NA>  \n",
       "        1972-12-17 US1HIKI0004         <NA>       <NA>  \n",
       "                   US1HIKI0014         <NA>       <NA>  \n",
       "                   US1HIKI0018         <NA>       <NA>  \n",
       "                   USC00510006         <NA>       <NA>  \n",
       "                   USC00510456         <NA>       <NA>  \n",
       "                   USC00511038         <NA>       <NA>  \n",
       "                   USC00513023         <NA>       <NA>  \n",
       "                   USC00514746         <NA>       <NA>  \n",
       "                   USC00515464         <NA>       <NA>  \n",
       "                   USC00517777         <NA>       <NA>  \n",
       "                   USC00518217         <NA>       <NA>  \n",
       "                   USC00518570         <NA>       <NA>  \n",
       "                   USC00518573         <NA>       <NA>  \n",
       "        1973-12-16 US1HIKI0004         <NA>       <NA>  \n",
       "                   US1HIKI0014         <NA>       <NA>  \n",
       "                   US1HIKI0018         <NA>       <NA>  \n",
       "                   USC00510006         <NA>       <NA>  \n",
       "                   USC00510456         <NA>       <NA>  \n",
       "                   USC00511038         <NA>       <NA>  \n",
       "                   USC00513023         <NA>       <NA>  \n",
       "                   USC00514746         <NA>       <NA>  \n",
       "                   USC00515464         <NA>       <NA>  \n",
       "                   USC00517777         <NA>       <NA>  \n",
       "                   USC00518217         <NA>       <NA>  \n",
       "                   USC00518570         <NA>       <NA>  \n",
       "                   USC00518573         <NA>       <NA>  \n",
       "        1974-12-15 US1HIKI0004         <NA>       <NA>  \n",
       "                   US1HIKI0014         <NA>       <NA>  \n",
       "                   US1HIKI0018         <NA>       <NA>  \n",
       "                   USC00510006         <NA>       <NA>  \n",
       "                   USC00510456         <NA>       <NA>  \n",
       "                   USC00511038         <NA>       <NA>  \n",
       "                   USC00513023         <NA>       <NA>  \n",
       "                   USC00514746         <NA>       <NA>  \n",
       "                   USC00515464         <NA>       <NA>  \n",
       "                   USC00517777         <NA>       <NA>  \n",
       "                   USC00518217         <NA>       <NA>  \n",
       "                   USC00518570         <NA>       <NA>  \n",
       "                   USC00518573         <NA>       <NA>  \n",
       "        1976-01-04 US1HIKI0004         <NA>       <NA>  \n",
       "                   US1HIKI0014         <NA>       <NA>  \n",
       "                   US1HIKI0018         <NA>       <NA>  \n",
       "                   USC00510006         <NA>       <NA>  \n",
       "                   USC00510456         <NA>       <NA>  \n",
       "                   USC00511038         <NA>       <NA>  \n",
       "                   USC00513023         <NA>       <NA>  \n",
       "                   USC00514746         <NA>       <NA>  \n",
       "                   USC00515464         <NA>       <NA>  \n",
       "                   USC00517777         <NA>       <NA>  \n",
       "                   USC00518217         <NA>       <NA>  \n",
       "                   USC00518570         <NA>       <NA>  \n",
       "                   USC00518573         <NA>       <NA>  \n",
       "        1976-12-18 US1HIKI0004         <NA>       <NA>  \n",
       "                   US1HIKI0014         <NA>       <NA>  \n",
       "                   US1HIKI0018         <NA>       <NA>  \n",
       "                   USC00510006         <NA>       <NA>  \n",
       "                   USC00510456         <NA>       <NA>  \n",
       "                   USC00511038         <NA>       <NA>  \n",
       "                   USC00513023         <NA>       <NA>  \n",
       "                   USC00514746         <NA>       <NA>  \n",
       "                   USC00515464         <NA>       <NA>  \n",
       "                   USC00517777         <NA>       <NA>  \n",
       "                   USC00518217         <NA>       <NA>  \n",
       "                   USC00518570         <NA>       <NA>  \n",
       "                   USC00518573         <NA>       <NA>  \n",
       "        1977-12-17 US1HIKI0004         <NA>       <NA>  \n",
       "                   US1HIKI0014         <NA>       <NA>  \n",
       "                   US1HIKI0018         <NA>       <NA>  \n",
       "                   USC00510006         <NA>       <NA>  \n",
       "                   USC00510456         <NA>       <NA>  \n",
       "                   USC00511038         <NA>       <NA>  \n",
       "                   USC00513023         <NA>       <NA>  \n",
       "                   USC00514746         <NA>       <NA>  \n",
       "                   USC00515464         <NA>       <NA>  \n",
       "                   USC00517777         <NA>       <NA>  \n",
       "                   USC00518217         <NA>       <NA>  \n",
       "                   USC00518570         <NA>       <NA>  \n",
       "                   USC00518573         <NA>       <NA>  \n",
       "        1978-12-16 US1HIKI0004         <NA>       <NA>  \n",
       "                   US1HIKI0014         <NA>       <NA>  \n",
       "                   US1HIKI0018         <NA>       <NA>  \n",
       "                   USC00510006         <NA>       <NA>  \n",
       "                   USC00510456         <NA>       <NA>  \n",
       "                   USC00511038         <NA>       <NA>  \n",
       "                   USC00513023         <NA>       <NA>  \n",
       "                   USC00514746         <NA>       <NA>  "
      ]
     },
     "execution_count": 27,
     "metadata": {},
     "output_type": "execute_result"
    }
   ],
   "source": [
    "prcp_data.head(100)"
   ]
  },
  {
   "cell_type": "code",
   "execution_count": 28,
   "metadata": {},
   "outputs": [
    {
     "data": {
      "text/plain": [
       "(412105, 13)"
      ]
     },
     "execution_count": 28,
     "metadata": {},
     "output_type": "execute_result"
    }
   ],
   "source": [
    "prcp_data.shape"
   ]
  },
  {
   "cell_type": "markdown",
   "metadata": {},
   "source": [
    "# Rain Analysis"
   ]
  },
  {
   "cell_type": "code",
   "execution_count": 29,
   "metadata": {},
   "outputs": [],
   "source": [
    "g = prcp_data.groupby(level=['c_id', 'count_date'])"
   ]
  },
  {
   "cell_type": "code",
   "execution_count": 30,
   "metadata": {},
   "outputs": [
    {
     "data": {
      "text/html": [
       "<div>\n",
       "<style scoped>\n",
       "    .dataframe tbody tr th:only-of-type {\n",
       "        vertical-align: middle;\n",
       "    }\n",
       "\n",
       "    .dataframe tbody tr th {\n",
       "        vertical-align: top;\n",
       "    }\n",
       "\n",
       "    .dataframe thead th {\n",
       "        text-align: right;\n",
       "    }\n",
       "</style>\n",
       "<table border=\"1\" class=\"dataframe\">\n",
       "  <thead>\n",
       "    <tr style=\"text-align: right;\">\n",
       "      <th></th>\n",
       "      <th></th>\n",
       "      <th></th>\n",
       "      <th>c_name</th>\n",
       "      <th>ui</th>\n",
       "      <th>country_state</th>\n",
       "      <th>c_lat</th>\n",
       "      <th>c_lon</th>\n",
       "      <th>s_lat</th>\n",
       "      <th>s_lon</th>\n",
       "      <th>s_rain</th>\n",
       "      <th>c_rain</th>\n",
       "      <th>distance</th>\n",
       "      <th>d_elev</th>\n",
       "      <th>same_ecosys</th>\n",
       "      <th>same_nlcd</th>\n",
       "    </tr>\n",
       "    <tr>\n",
       "      <th>c_id</th>\n",
       "      <th>count_date</th>\n",
       "      <th>s_id</th>\n",
       "      <th></th>\n",
       "      <th></th>\n",
       "      <th></th>\n",
       "      <th></th>\n",
       "      <th></th>\n",
       "      <th></th>\n",
       "      <th></th>\n",
       "      <th></th>\n",
       "      <th></th>\n",
       "      <th></th>\n",
       "      <th></th>\n",
       "      <th></th>\n",
       "      <th></th>\n",
       "    </tr>\n",
       "  </thead>\n",
       "  <tbody>\n",
       "    <tr>\n",
       "      <th>87ymwsn</th>\n",
       "      <th>1968-12-26</th>\n",
       "      <th>USC00519130</th>\n",
       "      <td>Kaua'i: Waimea</td>\n",
       "      <td>22.0833-159.6667_1969</td>\n",
       "      <td>US-HI</td>\n",
       "      <td>22.083300</td>\n",
       "      <td>-159.666700</td>\n",
       "      <td>22.1167</td>\n",
       "      <td>-159.6167</td>\n",
       "      <td>&lt;NA&gt;</td>\n",
       "      <td>False</td>\n",
       "      <td>6352.278644</td>\n",
       "      <td>36.16</td>\n",
       "      <td>&lt;NA&gt;</td>\n",
       "      <td>&lt;NA&gt;</td>\n",
       "    </tr>\n",
       "    <tr>\n",
       "      <th rowspan=\"4\" valign=\"top\">87ysunb</th>\n",
       "      <th rowspan=\"4\" valign=\"top\">1971-12-27</th>\n",
       "      <th>US1HIKI0004</th>\n",
       "      <td>Kaua'i: Lihu'e</td>\n",
       "      <td>21.9667-159.4333_1972</td>\n",
       "      <td>US-HI</td>\n",
       "      <td>21.966700</td>\n",
       "      <td>-159.433300</td>\n",
       "      <td>21.9249</td>\n",
       "      <td>-159.4983</td>\n",
       "      <td>&lt;NA&gt;</td>\n",
       "      <td>True</td>\n",
       "      <td>8159.889753</td>\n",
       "      <td>43.84</td>\n",
       "      <td>&lt;NA&gt;</td>\n",
       "      <td>&lt;NA&gt;</td>\n",
       "    </tr>\n",
       "    <tr>\n",
       "      <th>US1HIKI0014</th>\n",
       "      <td>Kaua'i: Lihu'e</td>\n",
       "      <td>21.9667-159.4333_1972</td>\n",
       "      <td>US-HI</td>\n",
       "      <td>21.966700</td>\n",
       "      <td>-159.433300</td>\n",
       "      <td>21.9055</td>\n",
       "      <td>-159.5150</td>\n",
       "      <td>&lt;NA&gt;</td>\n",
       "      <td>True</td>\n",
       "      <td>10834.614107</td>\n",
       "      <td>11.26</td>\n",
       "      <td>&lt;NA&gt;</td>\n",
       "      <td>&lt;NA&gt;</td>\n",
       "    </tr>\n",
       "    <tr>\n",
       "      <th>US1HIKI0018</th>\n",
       "      <td>Kaua'i: Lihu'e</td>\n",
       "      <td>21.9667-159.4333_1972</td>\n",
       "      <td>US-HI</td>\n",
       "      <td>21.966700</td>\n",
       "      <td>-159.433300</td>\n",
       "      <td>21.9075</td>\n",
       "      <td>-159.5181</td>\n",
       "      <td>&lt;NA&gt;</td>\n",
       "      <td>True</td>\n",
       "      <td>10950.027151</td>\n",
       "      <td>17.34</td>\n",
       "      <td>&lt;NA&gt;</td>\n",
       "      <td>&lt;NA&gt;</td>\n",
       "    </tr>\n",
       "    <tr>\n",
       "      <th>USC00510006</th>\n",
       "      <td>Kaua'i: Lihu'e</td>\n",
       "      <td>21.9667-159.4333_1972</td>\n",
       "      <td>US-HI</td>\n",
       "      <td>21.966700</td>\n",
       "      <td>-159.433300</td>\n",
       "      <td>21.9500</td>\n",
       "      <td>-159.4333</td>\n",
       "      <td>&lt;NA&gt;</td>\n",
       "      <td>True</td>\n",
       "      <td>1857.479921</td>\n",
       "      <td>35.96</td>\n",
       "      <td>&lt;NA&gt;</td>\n",
       "      <td>&lt;NA&gt;</td>\n",
       "    </tr>\n",
       "    <tr>\n",
       "      <th>...</th>\n",
       "      <th>...</th>\n",
       "      <th>...</th>\n",
       "      <td>...</td>\n",
       "      <td>...</td>\n",
       "      <td>...</td>\n",
       "      <td>...</td>\n",
       "      <td>...</td>\n",
       "      <td>...</td>\n",
       "      <td>...</td>\n",
       "      <td>...</td>\n",
       "      <td>...</td>\n",
       "      <td>...</td>\n",
       "      <td>...</td>\n",
       "      <td>...</td>\n",
       "      <td>...</td>\n",
       "    </tr>\n",
       "    <tr>\n",
       "      <th rowspan=\"5\" valign=\"top\">zcpkrwz</th>\n",
       "      <th>1979-12-18</th>\n",
       "      <th>USW00045702</th>\n",
       "      <td>Amchitka Island</td>\n",
       "      <td>51.409713179.284881_1980</td>\n",
       "      <td>US-AK</td>\n",
       "      <td>51.409713</td>\n",
       "      <td>179.284881</td>\n",
       "      <td>51.3833</td>\n",
       "      <td>179.2500</td>\n",
       "      <td>&lt;NA&gt;</td>\n",
       "      <td>False</td>\n",
       "      <td>3806.612762</td>\n",
       "      <td>NaN</td>\n",
       "      <td>&lt;NA&gt;</td>\n",
       "      <td>&lt;NA&gt;</td>\n",
       "    </tr>\n",
       "    <tr>\n",
       "      <th rowspan=\"2\" valign=\"top\">1992-12-20</th>\n",
       "      <th>USC00500252</th>\n",
       "      <td>Amchitka Island</td>\n",
       "      <td>51.409713179.284881_1993</td>\n",
       "      <td>US-AK</td>\n",
       "      <td>51.409713</td>\n",
       "      <td>179.284881</td>\n",
       "      <td>51.3833</td>\n",
       "      <td>179.2833</td>\n",
       "      <td>&lt;NA&gt;</td>\n",
       "      <td>&lt;NA&gt;</td>\n",
       "      <td>2939.869435</td>\n",
       "      <td>NaN</td>\n",
       "      <td>&lt;NA&gt;</td>\n",
       "      <td>&lt;NA&gt;</td>\n",
       "    </tr>\n",
       "    <tr>\n",
       "      <th>USW00045702</th>\n",
       "      <td>Amchitka Island</td>\n",
       "      <td>51.409713179.284881_1993</td>\n",
       "      <td>US-AK</td>\n",
       "      <td>51.409713</td>\n",
       "      <td>179.284881</td>\n",
       "      <td>51.3833</td>\n",
       "      <td>179.2500</td>\n",
       "      <td>&lt;NA&gt;</td>\n",
       "      <td>&lt;NA&gt;</td>\n",
       "      <td>3806.612762</td>\n",
       "      <td>NaN</td>\n",
       "      <td>&lt;NA&gt;</td>\n",
       "      <td>&lt;NA&gt;</td>\n",
       "    </tr>\n",
       "    <tr>\n",
       "      <th rowspan=\"2\" valign=\"top\">1993-12-28</th>\n",
       "      <th>USC00500252</th>\n",
       "      <td>Amchitka Island</td>\n",
       "      <td>51.409713179.284881_1994</td>\n",
       "      <td>US-AK</td>\n",
       "      <td>51.409713</td>\n",
       "      <td>179.284881</td>\n",
       "      <td>51.3833</td>\n",
       "      <td>179.2833</td>\n",
       "      <td>&lt;NA&gt;</td>\n",
       "      <td>&lt;NA&gt;</td>\n",
       "      <td>2939.869435</td>\n",
       "      <td>NaN</td>\n",
       "      <td>&lt;NA&gt;</td>\n",
       "      <td>&lt;NA&gt;</td>\n",
       "    </tr>\n",
       "    <tr>\n",
       "      <th>USW00045702</th>\n",
       "      <td>Amchitka Island</td>\n",
       "      <td>51.409713179.284881_1994</td>\n",
       "      <td>US-AK</td>\n",
       "      <td>51.409713</td>\n",
       "      <td>179.284881</td>\n",
       "      <td>51.3833</td>\n",
       "      <td>179.2500</td>\n",
       "      <td>&lt;NA&gt;</td>\n",
       "      <td>&lt;NA&gt;</td>\n",
       "      <td>3806.612762</td>\n",
       "      <td>NaN</td>\n",
       "      <td>&lt;NA&gt;</td>\n",
       "      <td>&lt;NA&gt;</td>\n",
       "    </tr>\n",
       "  </tbody>\n",
       "</table>\n",
       "<p>218997 rows × 13 columns</p>\n",
       "</div>"
      ],
      "text/plain": [
       "                                         c_name                        ui  \\\n",
       "c_id    count_date s_id                                                     \n",
       "87ymwsn 1968-12-26 USC00519130   Kaua'i: Waimea     22.0833-159.6667_1969   \n",
       "87ysunb 1971-12-27 US1HIKI0004   Kaua'i: Lihu'e     21.9667-159.4333_1972   \n",
       "                   US1HIKI0014   Kaua'i: Lihu'e     21.9667-159.4333_1972   \n",
       "                   US1HIKI0018   Kaua'i: Lihu'e     21.9667-159.4333_1972   \n",
       "                   USC00510006   Kaua'i: Lihu'e     21.9667-159.4333_1972   \n",
       "...                                         ...                       ...   \n",
       "zcpkrwz 1979-12-18 USW00045702  Amchitka Island  51.409713179.284881_1980   \n",
       "        1992-12-20 USC00500252  Amchitka Island  51.409713179.284881_1993   \n",
       "                   USW00045702  Amchitka Island  51.409713179.284881_1993   \n",
       "        1993-12-28 USC00500252  Amchitka Island  51.409713179.284881_1994   \n",
       "                   USW00045702  Amchitka Island  51.409713179.284881_1994   \n",
       "\n",
       "                               country_state      c_lat       c_lon    s_lat  \\\n",
       "c_id    count_date s_id                                                        \n",
       "87ymwsn 1968-12-26 USC00519130         US-HI  22.083300 -159.666700  22.1167   \n",
       "87ysunb 1971-12-27 US1HIKI0004         US-HI  21.966700 -159.433300  21.9249   \n",
       "                   US1HIKI0014         US-HI  21.966700 -159.433300  21.9055   \n",
       "                   US1HIKI0018         US-HI  21.966700 -159.433300  21.9075   \n",
       "                   USC00510006         US-HI  21.966700 -159.433300  21.9500   \n",
       "...                                      ...        ...         ...      ...   \n",
       "zcpkrwz 1979-12-18 USW00045702         US-AK  51.409713  179.284881  51.3833   \n",
       "        1992-12-20 USC00500252         US-AK  51.409713  179.284881  51.3833   \n",
       "                   USW00045702         US-AK  51.409713  179.284881  51.3833   \n",
       "        1993-12-28 USC00500252         US-AK  51.409713  179.284881  51.3833   \n",
       "                   USW00045702         US-AK  51.409713  179.284881  51.3833   \n",
       "\n",
       "                                   s_lon s_rain c_rain      distance  d_elev  \\\n",
       "c_id    count_date s_id                                                        \n",
       "87ymwsn 1968-12-26 USC00519130 -159.6167   <NA>  False   6352.278644   36.16   \n",
       "87ysunb 1971-12-27 US1HIKI0004 -159.4983   <NA>   True   8159.889753   43.84   \n",
       "                   US1HIKI0014 -159.5150   <NA>   True  10834.614107   11.26   \n",
       "                   US1HIKI0018 -159.5181   <NA>   True  10950.027151   17.34   \n",
       "                   USC00510006 -159.4333   <NA>   True   1857.479921   35.96   \n",
       "...                                  ...    ...    ...           ...     ...   \n",
       "zcpkrwz 1979-12-18 USW00045702  179.2500   <NA>  False   3806.612762     NaN   \n",
       "        1992-12-20 USC00500252  179.2833   <NA>   <NA>   2939.869435     NaN   \n",
       "                   USW00045702  179.2500   <NA>   <NA>   3806.612762     NaN   \n",
       "        1993-12-28 USC00500252  179.2833   <NA>   <NA>   2939.869435     NaN   \n",
       "                   USW00045702  179.2500   <NA>   <NA>   3806.612762     NaN   \n",
       "\n",
       "                                same_ecosys  same_nlcd  \n",
       "c_id    count_date s_id                                 \n",
       "87ymwsn 1968-12-26 USC00519130         <NA>       <NA>  \n",
       "87ysunb 1971-12-27 US1HIKI0004         <NA>       <NA>  \n",
       "                   US1HIKI0014         <NA>       <NA>  \n",
       "                   US1HIKI0018         <NA>       <NA>  \n",
       "                   USC00510006         <NA>       <NA>  \n",
       "...                                     ...        ...  \n",
       "zcpkrwz 1979-12-18 USW00045702         <NA>       <NA>  \n",
       "        1992-12-20 USC00500252         <NA>       <NA>  \n",
       "                   USW00045702         <NA>       <NA>  \n",
       "        1993-12-28 USC00500252         <NA>       <NA>  \n",
       "                   USW00045702         <NA>       <NA>  \n",
       "\n",
       "[218997 rows x 13 columns]"
      ]
     },
     "execution_count": 30,
     "metadata": {},
     "output_type": "execute_result"
    }
   ],
   "source": [
    "g.head()"
   ]
  },
  {
   "cell_type": "code",
   "execution_count": 31,
   "metadata": {},
   "outputs": [],
   "source": [
    "def rain_calc(dfg):\n",
    "    is_na = dfg.s_rain.isna()\n",
    "\n",
    "    # there can be weirdness with boolean not being promoted to ints, so add zero\n",
    "    num = dfg.s_rain.size + 0\n",
    "    num_notna = dfg.s_rain.count() + 0\n",
    "    num_true = dfg.s_rain.sum() + 0\n",
    "    \n",
    "    e = dfg.loc[dfg.same_ecosys, 's_rain']\n",
    "    e_num = e.size + 0\n",
    "    e_num_notna = e.count() + 0\n",
    "    e_num_true = e.sum() + 0\n",
    "    \n",
    "    n = dfg.loc[dfg.same_nlcd, 's_rain']\n",
    "    n_num = n.size + 0\n",
    "    n_num_notna = n.count() + 0\n",
    "    n_num_true = n.sum() + 0\n",
    "    \n",
    "    # havent figured out how to inlinse this yet ...\n",
    "    lowest_id = dfg.d_elev.idxmin() if (num > 0) else np.NaN\n",
    "    lowest_id_na = dfg.loc[~is_na, 'd_elev'].idxmin() if (num_notna > 0) else np.NaN\n",
    "    \n",
    "    return pd.Series({\n",
    "        'num' : num,\n",
    "        'num_notna' : num_notna,\n",
    "        'num_true' : num_true,\n",
    "        \n",
    "        'e_num' : e_num,\n",
    "        'e_num_notna' : e_num_notna,\n",
    "        'e_num_true' : e_num_true,\n",
    "        \n",
    "        'n_num' : n_num,\n",
    "        'n_num_notna' : n_num_notna,\n",
    "        'n_num_true' : n_num_true,\n",
    "\n",
    "        'p' : num_true / num_notna if (num_notna > 0) else np.NaN,\n",
    "        'e_p' : e_num_true / e_num_notna if (e_num_notna > 0) else np.NaN,\n",
    "        'n_p' : n_num_true / n_num_notna if (n_num_notna > 0) else np.NaN,\n",
    "        \n",
    "        'rain_closest' : dfg.loc[dfg.distance.idxmin(), 's_rain'] if (num > 0) else pd.NA,\n",
    "        'rain_closest_notna' : dfg.loc[dfg.loc[~is_na, 'distance'].idxmin(), 's_rain'] if (num_notna > 0) else pd.NA,\n",
    "        \n",
    "        'rain_lowest' : pd.NA if pd.isna(lowest_id) else dfg.loc[lowest_id, 's_rain'],\n",
    "        'rain_lowest_notna' : pd.NA if pd.isna(lowest_id_na) else dfg.loc[lowest_id_na, 's_rain'],\n",
    "    })\n"
   ]
  },
  {
   "cell_type": "code",
   "execution_count": 32,
   "metadata": {},
   "outputs": [],
   "source": [
    "circle_data = g.apply(rain_calc)"
   ]
  },
  {
   "cell_type": "markdown",
   "metadata": {},
   "source": [
    "# The new fields used for Analysis\n",
    "num - The number of stations for a circle for a count date\n",
    "\n",
    "num_notna - The number of stations that are not null for their rain measurment \n",
    "\n",
    "num_true - The number of stations that reported true for rain\n",
    "\n",
    "The next sections for \"e_\" and \"n_\" are the same as abouve, except e is only stations for a circle that\n",
    "are in the same ecosystem and n is stations with the same nlcd code.\n",
    "\n",
    "p - The proportion of stations that reported rain for a circle\n"
   ]
  },
  {
   "cell_type": "code",
   "execution_count": 33,
   "metadata": {},
   "outputs": [
    {
     "data": {
      "text/html": [
       "<div>\n",
       "<style scoped>\n",
       "    .dataframe tbody tr th:only-of-type {\n",
       "        vertical-align: middle;\n",
       "    }\n",
       "\n",
       "    .dataframe tbody tr th {\n",
       "        vertical-align: top;\n",
       "    }\n",
       "\n",
       "    .dataframe thead th {\n",
       "        text-align: right;\n",
       "    }\n",
       "</style>\n",
       "<table border=\"1\" class=\"dataframe\">\n",
       "  <thead>\n",
       "    <tr style=\"text-align: right;\">\n",
       "      <th></th>\n",
       "      <th></th>\n",
       "      <th>num</th>\n",
       "      <th>num_notna</th>\n",
       "      <th>num_true</th>\n",
       "      <th>e_num</th>\n",
       "      <th>e_num_notna</th>\n",
       "      <th>e_num_true</th>\n",
       "      <th>n_num</th>\n",
       "      <th>n_num_notna</th>\n",
       "      <th>n_num_true</th>\n",
       "      <th>p</th>\n",
       "      <th>e_p</th>\n",
       "      <th>n_p</th>\n",
       "      <th>rain_closest</th>\n",
       "      <th>rain_closest_notna</th>\n",
       "      <th>rain_lowest</th>\n",
       "      <th>rain_lowest_notna</th>\n",
       "    </tr>\n",
       "    <tr>\n",
       "      <th>c_id</th>\n",
       "      <th>count_date</th>\n",
       "      <th></th>\n",
       "      <th></th>\n",
       "      <th></th>\n",
       "      <th></th>\n",
       "      <th></th>\n",
       "      <th></th>\n",
       "      <th></th>\n",
       "      <th></th>\n",
       "      <th></th>\n",
       "      <th></th>\n",
       "      <th></th>\n",
       "      <th></th>\n",
       "      <th></th>\n",
       "      <th></th>\n",
       "      <th></th>\n",
       "      <th></th>\n",
       "    </tr>\n",
       "  </thead>\n",
       "  <tbody>\n",
       "    <tr>\n",
       "      <th>87ymwsn</th>\n",
       "      <th>1968-12-26</th>\n",
       "      <td>1</td>\n",
       "      <td>0</td>\n",
       "      <td>0</td>\n",
       "      <td>0</td>\n",
       "      <td>0</td>\n",
       "      <td>0</td>\n",
       "      <td>0</td>\n",
       "      <td>0</td>\n",
       "      <td>0</td>\n",
       "      <td>NaN</td>\n",
       "      <td>NaN</td>\n",
       "      <td>NaN</td>\n",
       "      <td>&lt;NA&gt;</td>\n",
       "      <td>&lt;NA&gt;</td>\n",
       "      <td>&lt;NA&gt;</td>\n",
       "      <td>&lt;NA&gt;</td>\n",
       "    </tr>\n",
       "    <tr>\n",
       "      <th rowspan=\"4\" valign=\"top\">87ysunb</th>\n",
       "      <th>1971-12-27</th>\n",
       "      <td>13</td>\n",
       "      <td>0</td>\n",
       "      <td>0</td>\n",
       "      <td>0</td>\n",
       "      <td>0</td>\n",
       "      <td>0</td>\n",
       "      <td>0</td>\n",
       "      <td>0</td>\n",
       "      <td>0</td>\n",
       "      <td>NaN</td>\n",
       "      <td>NaN</td>\n",
       "      <td>NaN</td>\n",
       "      <td>&lt;NA&gt;</td>\n",
       "      <td>&lt;NA&gt;</td>\n",
       "      <td>&lt;NA&gt;</td>\n",
       "      <td>&lt;NA&gt;</td>\n",
       "    </tr>\n",
       "    <tr>\n",
       "      <th>1972-12-17</th>\n",
       "      <td>13</td>\n",
       "      <td>0</td>\n",
       "      <td>0</td>\n",
       "      <td>0</td>\n",
       "      <td>0</td>\n",
       "      <td>0</td>\n",
       "      <td>0</td>\n",
       "      <td>0</td>\n",
       "      <td>0</td>\n",
       "      <td>NaN</td>\n",
       "      <td>NaN</td>\n",
       "      <td>NaN</td>\n",
       "      <td>&lt;NA&gt;</td>\n",
       "      <td>&lt;NA&gt;</td>\n",
       "      <td>&lt;NA&gt;</td>\n",
       "      <td>&lt;NA&gt;</td>\n",
       "    </tr>\n",
       "    <tr>\n",
       "      <th>1973-12-16</th>\n",
       "      <td>13</td>\n",
       "      <td>2</td>\n",
       "      <td>0</td>\n",
       "      <td>0</td>\n",
       "      <td>0</td>\n",
       "      <td>0</td>\n",
       "      <td>0</td>\n",
       "      <td>0</td>\n",
       "      <td>0</td>\n",
       "      <td>0.0</td>\n",
       "      <td>NaN</td>\n",
       "      <td>NaN</td>\n",
       "      <td>&lt;NA&gt;</td>\n",
       "      <td>False</td>\n",
       "      <td>&lt;NA&gt;</td>\n",
       "      <td>False</td>\n",
       "    </tr>\n",
       "    <tr>\n",
       "      <th>1974-12-15</th>\n",
       "      <td>13</td>\n",
       "      <td>0</td>\n",
       "      <td>0</td>\n",
       "      <td>0</td>\n",
       "      <td>0</td>\n",
       "      <td>0</td>\n",
       "      <td>0</td>\n",
       "      <td>0</td>\n",
       "      <td>0</td>\n",
       "      <td>NaN</td>\n",
       "      <td>NaN</td>\n",
       "      <td>NaN</td>\n",
       "      <td>&lt;NA&gt;</td>\n",
       "      <td>&lt;NA&gt;</td>\n",
       "      <td>&lt;NA&gt;</td>\n",
       "      <td>&lt;NA&gt;</td>\n",
       "    </tr>\n",
       "  </tbody>\n",
       "</table>\n",
       "</div>"
      ],
      "text/plain": [
       "                    num  num_notna  num_true  e_num  e_num_notna  e_num_true  \\\n",
       "c_id    count_date                                                             \n",
       "87ymwsn 1968-12-26    1          0         0      0            0           0   \n",
       "87ysunb 1971-12-27   13          0         0      0            0           0   \n",
       "        1972-12-17   13          0         0      0            0           0   \n",
       "        1973-12-16   13          2         0      0            0           0   \n",
       "        1974-12-15   13          0         0      0            0           0   \n",
       "\n",
       "                    n_num  n_num_notna  n_num_true    p  e_p  n_p  \\\n",
       "c_id    count_date                                                  \n",
       "87ymwsn 1968-12-26      0            0           0  NaN  NaN  NaN   \n",
       "87ysunb 1971-12-27      0            0           0  NaN  NaN  NaN   \n",
       "        1972-12-17      0            0           0  NaN  NaN  NaN   \n",
       "        1973-12-16      0            0           0  0.0  NaN  NaN   \n",
       "        1974-12-15      0            0           0  NaN  NaN  NaN   \n",
       "\n",
       "                   rain_closest rain_closest_notna rain_lowest  \\\n",
       "c_id    count_date                                               \n",
       "87ymwsn 1968-12-26         <NA>               <NA>        <NA>   \n",
       "87ysunb 1971-12-27         <NA>               <NA>        <NA>   \n",
       "        1972-12-17         <NA>               <NA>        <NA>   \n",
       "        1973-12-16         <NA>              False        <NA>   \n",
       "        1974-12-15         <NA>               <NA>        <NA>   \n",
       "\n",
       "                   rain_lowest_notna  \n",
       "c_id    count_date                    \n",
       "87ymwsn 1968-12-26              <NA>  \n",
       "87ysunb 1971-12-27              <NA>  \n",
       "        1972-12-17              <NA>  \n",
       "        1973-12-16             False  \n",
       "        1974-12-15              <NA>  "
      ]
     },
     "execution_count": 33,
     "metadata": {},
     "output_type": "execute_result"
    }
   ],
   "source": [
    "circle_data.head()"
   ]
  },
  {
   "cell_type": "code",
   "execution_count": 34,
   "metadata": {},
   "outputs": [],
   "source": [
    "# Add in the circles details (Name, State, Lat, Lon)\n",
    "circle_data = circle_obs.join(circle_data)"
   ]
  },
  {
   "cell_type": "markdown",
   "metadata": {},
   "source": [
    "# Determine if there is Consensus amoung a Circle's Reference Stations\n",
    "Using the AGREEMENT_THRESHOLD set at the top of the notebook, determine if the there are enough stations for\n",
    "a circle agree that it rained based on that agreement threshold.\n",
    "\n",
    "Do this for all stations and stations within the same ecosys and nlcd code "
   ]
  },
  {
   "cell_type": "code",
   "execution_count": 35,
   "metadata": {},
   "outputs": [],
   "source": [
    "# If the stations couldnt agree (p ∈ [1-AGREEMENT_THRESHOLD, AGREEMENT_THRESHOLD]) or p is NaN, set the consenus to NaN as well\n",
    "circle_data['consensus'] = np.where(((circle_data.p >= (1-AGREEMENT_THRESHOLD)) & (circle_data.p <= AGREEMENT_THRESHOLD)) | circle_data.p.isna(), \n",
    "                                     pd.NA, circle_data.p >= AGREEMENT_THRESHOLD)\n",
    "\n",
    "circle_data['e_consensus'] = np.where(((circle_data.e_p >= (1-AGREEMENT_THRESHOLD)) & (circle_data.e_p <= AGREEMENT_THRESHOLD)) | circle_data.e_p.isna(), \n",
    "                                     pd.NA, circle_data.e_p >= AGREEMENT_THRESHOLD)\n",
    "\n",
    "circle_data['n_consensus'] = np.where(((circle_data.n_p >= (1-AGREEMENT_THRESHOLD)) & (circle_data.n_p <= AGREEMENT_THRESHOLD)) | circle_data.n_p.isna(), \n",
    "                                     pd.NA, circle_data.n_p >= AGREEMENT_THRESHOLD)"
   ]
  },
  {
   "cell_type": "code",
   "execution_count": 36,
   "metadata": {},
   "outputs": [],
   "source": [
    "for c in ['consensus', 'e_consensus', 'n_consensus', 'rain_closest', 'rain_closest_notna', 'rain_lowest', 'rain_lowest_notna']:\n",
    "    circle_data[c] = circle_data[c].astype('boolean')"
   ]
  },
  {
   "cell_type": "code",
   "execution_count": 37,
   "metadata": {},
   "outputs": [
    {
     "data": {
      "text/html": [
       "<div>\n",
       "<style scoped>\n",
       "    .dataframe tbody tr th:only-of-type {\n",
       "        vertical-align: middle;\n",
       "    }\n",
       "\n",
       "    .dataframe tbody tr th {\n",
       "        vertical-align: top;\n",
       "    }\n",
       "\n",
       "    .dataframe thead th {\n",
       "        text-align: right;\n",
       "    }\n",
       "</style>\n",
       "<table border=\"1\" class=\"dataframe\">\n",
       "  <thead>\n",
       "    <tr style=\"text-align: right;\">\n",
       "      <th></th>\n",
       "      <th></th>\n",
       "      <th>c_name</th>\n",
       "      <th>ui</th>\n",
       "      <th>country_state</th>\n",
       "      <th>c_lat</th>\n",
       "      <th>c_lon</th>\n",
       "      <th>c_rain</th>\n",
       "      <th>num</th>\n",
       "      <th>num_notna</th>\n",
       "      <th>num_true</th>\n",
       "      <th>e_num</th>\n",
       "      <th>...</th>\n",
       "      <th>p</th>\n",
       "      <th>e_p</th>\n",
       "      <th>n_p</th>\n",
       "      <th>rain_closest</th>\n",
       "      <th>rain_closest_notna</th>\n",
       "      <th>rain_lowest</th>\n",
       "      <th>rain_lowest_notna</th>\n",
       "      <th>consensus</th>\n",
       "      <th>e_consensus</th>\n",
       "      <th>n_consensus</th>\n",
       "    </tr>\n",
       "    <tr>\n",
       "      <th>c_id</th>\n",
       "      <th>count_date</th>\n",
       "      <th></th>\n",
       "      <th></th>\n",
       "      <th></th>\n",
       "      <th></th>\n",
       "      <th></th>\n",
       "      <th></th>\n",
       "      <th></th>\n",
       "      <th></th>\n",
       "      <th></th>\n",
       "      <th></th>\n",
       "      <th></th>\n",
       "      <th></th>\n",
       "      <th></th>\n",
       "      <th></th>\n",
       "      <th></th>\n",
       "      <th></th>\n",
       "      <th></th>\n",
       "      <th></th>\n",
       "      <th></th>\n",
       "      <th></th>\n",
       "      <th></th>\n",
       "    </tr>\n",
       "  </thead>\n",
       "  <tbody>\n",
       "    <tr>\n",
       "      <th>87ymwsn</th>\n",
       "      <th>1968-12-26</th>\n",
       "      <td>Kaua'i: Waimea</td>\n",
       "      <td>22.0833-159.6667_1969</td>\n",
       "      <td>US-HI</td>\n",
       "      <td>22.0833</td>\n",
       "      <td>-159.6667</td>\n",
       "      <td>False</td>\n",
       "      <td>1</td>\n",
       "      <td>0</td>\n",
       "      <td>0</td>\n",
       "      <td>0</td>\n",
       "      <td>...</td>\n",
       "      <td>NaN</td>\n",
       "      <td>NaN</td>\n",
       "      <td>NaN</td>\n",
       "      <td>&lt;NA&gt;</td>\n",
       "      <td>&lt;NA&gt;</td>\n",
       "      <td>&lt;NA&gt;</td>\n",
       "      <td>&lt;NA&gt;</td>\n",
       "      <td>&lt;NA&gt;</td>\n",
       "      <td>&lt;NA&gt;</td>\n",
       "      <td>&lt;NA&gt;</td>\n",
       "    </tr>\n",
       "    <tr>\n",
       "      <th rowspan=\"4\" valign=\"top\">87ysunb</th>\n",
       "      <th>1971-12-27</th>\n",
       "      <td>Kaua'i: Lihu'e</td>\n",
       "      <td>21.9667-159.4333_1972</td>\n",
       "      <td>US-HI</td>\n",
       "      <td>21.9667</td>\n",
       "      <td>-159.4333</td>\n",
       "      <td>True</td>\n",
       "      <td>13</td>\n",
       "      <td>0</td>\n",
       "      <td>0</td>\n",
       "      <td>0</td>\n",
       "      <td>...</td>\n",
       "      <td>NaN</td>\n",
       "      <td>NaN</td>\n",
       "      <td>NaN</td>\n",
       "      <td>&lt;NA&gt;</td>\n",
       "      <td>&lt;NA&gt;</td>\n",
       "      <td>&lt;NA&gt;</td>\n",
       "      <td>&lt;NA&gt;</td>\n",
       "      <td>&lt;NA&gt;</td>\n",
       "      <td>&lt;NA&gt;</td>\n",
       "      <td>&lt;NA&gt;</td>\n",
       "    </tr>\n",
       "    <tr>\n",
       "      <th>1972-12-17</th>\n",
       "      <td>Kaua'i: Lihu'e</td>\n",
       "      <td>21.9667-159.4333_1973</td>\n",
       "      <td>US-HI</td>\n",
       "      <td>21.9667</td>\n",
       "      <td>-159.4333</td>\n",
       "      <td>True</td>\n",
       "      <td>13</td>\n",
       "      <td>0</td>\n",
       "      <td>0</td>\n",
       "      <td>0</td>\n",
       "      <td>...</td>\n",
       "      <td>NaN</td>\n",
       "      <td>NaN</td>\n",
       "      <td>NaN</td>\n",
       "      <td>&lt;NA&gt;</td>\n",
       "      <td>&lt;NA&gt;</td>\n",
       "      <td>&lt;NA&gt;</td>\n",
       "      <td>&lt;NA&gt;</td>\n",
       "      <td>&lt;NA&gt;</td>\n",
       "      <td>&lt;NA&gt;</td>\n",
       "      <td>&lt;NA&gt;</td>\n",
       "    </tr>\n",
       "    <tr>\n",
       "      <th>1973-12-16</th>\n",
       "      <td>Kaua'i: Lihu'e</td>\n",
       "      <td>21.9667-159.4333_1974</td>\n",
       "      <td>US-HI</td>\n",
       "      <td>21.9667</td>\n",
       "      <td>-159.4333</td>\n",
       "      <td>NaN</td>\n",
       "      <td>13</td>\n",
       "      <td>2</td>\n",
       "      <td>0</td>\n",
       "      <td>0</td>\n",
       "      <td>...</td>\n",
       "      <td>0.0</td>\n",
       "      <td>NaN</td>\n",
       "      <td>NaN</td>\n",
       "      <td>&lt;NA&gt;</td>\n",
       "      <td>False</td>\n",
       "      <td>&lt;NA&gt;</td>\n",
       "      <td>False</td>\n",
       "      <td>False</td>\n",
       "      <td>&lt;NA&gt;</td>\n",
       "      <td>&lt;NA&gt;</td>\n",
       "    </tr>\n",
       "    <tr>\n",
       "      <th>1974-12-15</th>\n",
       "      <td>Kaua'i: Lihu'e</td>\n",
       "      <td>21.9667-159.4333_1975</td>\n",
       "      <td>US-HI</td>\n",
       "      <td>21.9667</td>\n",
       "      <td>-159.4333</td>\n",
       "      <td>True</td>\n",
       "      <td>13</td>\n",
       "      <td>0</td>\n",
       "      <td>0</td>\n",
       "      <td>0</td>\n",
       "      <td>...</td>\n",
       "      <td>NaN</td>\n",
       "      <td>NaN</td>\n",
       "      <td>NaN</td>\n",
       "      <td>&lt;NA&gt;</td>\n",
       "      <td>&lt;NA&gt;</td>\n",
       "      <td>&lt;NA&gt;</td>\n",
       "      <td>&lt;NA&gt;</td>\n",
       "      <td>&lt;NA&gt;</td>\n",
       "      <td>&lt;NA&gt;</td>\n",
       "      <td>&lt;NA&gt;</td>\n",
       "    </tr>\n",
       "  </tbody>\n",
       "</table>\n",
       "<p>5 rows × 25 columns</p>\n",
       "</div>"
      ],
      "text/plain": [
       "                            c_name                     ui country_state  \\\n",
       "c_id    count_date                                                        \n",
       "87ymwsn 1968-12-26  Kaua'i: Waimea  22.0833-159.6667_1969         US-HI   \n",
       "87ysunb 1971-12-27  Kaua'i: Lihu'e  21.9667-159.4333_1972         US-HI   \n",
       "        1972-12-17  Kaua'i: Lihu'e  21.9667-159.4333_1973         US-HI   \n",
       "        1973-12-16  Kaua'i: Lihu'e  21.9667-159.4333_1974         US-HI   \n",
       "        1974-12-15  Kaua'i: Lihu'e  21.9667-159.4333_1975         US-HI   \n",
       "\n",
       "                      c_lat     c_lon c_rain  num  num_notna  num_true  e_num  \\\n",
       "c_id    count_date                                                              \n",
       "87ymwsn 1968-12-26  22.0833 -159.6667  False    1          0         0      0   \n",
       "87ysunb 1971-12-27  21.9667 -159.4333   True   13          0         0      0   \n",
       "        1972-12-17  21.9667 -159.4333   True   13          0         0      0   \n",
       "        1973-12-16  21.9667 -159.4333    NaN   13          2         0      0   \n",
       "        1974-12-15  21.9667 -159.4333   True   13          0         0      0   \n",
       "\n",
       "                    ...    p  e_p  n_p  rain_closest  rain_closest_notna  \\\n",
       "c_id    count_date  ...                                                    \n",
       "87ymwsn 1968-12-26  ...  NaN  NaN  NaN          <NA>                <NA>   \n",
       "87ysunb 1971-12-27  ...  NaN  NaN  NaN          <NA>                <NA>   \n",
       "        1972-12-17  ...  NaN  NaN  NaN          <NA>                <NA>   \n",
       "        1973-12-16  ...  0.0  NaN  NaN          <NA>               False   \n",
       "        1974-12-15  ...  NaN  NaN  NaN          <NA>                <NA>   \n",
       "\n",
       "                    rain_lowest  rain_lowest_notna  consensus  e_consensus  \\\n",
       "c_id    count_date                                                           \n",
       "87ymwsn 1968-12-26         <NA>               <NA>       <NA>         <NA>   \n",
       "87ysunb 1971-12-27         <NA>               <NA>       <NA>         <NA>   \n",
       "        1972-12-17         <NA>               <NA>       <NA>         <NA>   \n",
       "        1973-12-16         <NA>              False      False         <NA>   \n",
       "        1974-12-15         <NA>               <NA>       <NA>         <NA>   \n",
       "\n",
       "                    n_consensus  \n",
       "c_id    count_date               \n",
       "87ymwsn 1968-12-26         <NA>  \n",
       "87ysunb 1971-12-27         <NA>  \n",
       "        1972-12-17         <NA>  \n",
       "        1973-12-16         <NA>  \n",
       "        1974-12-15         <NA>  \n",
       "\n",
       "[5 rows x 25 columns]"
      ]
     },
     "execution_count": 37,
     "metadata": {},
     "output_type": "execute_result"
    }
   ],
   "source": [
    "circle_data.head()"
   ]
  },
  {
   "cell_type": "code",
   "execution_count": 38,
   "metadata": {},
   "outputs": [
    {
     "data": {
      "text/plain": [
       "68390"
      ]
     },
     "execution_count": 38,
     "metadata": {},
     "output_type": "execute_result"
    }
   ],
   "source": [
    "# Count the number of circles we have \n",
    "circle_data['ui'].nunique()"
   ]
  },
  {
   "cell_type": "markdown",
   "metadata": {},
   "source": [
    "# Analysis\n",
    "## First examine the top level stats."
   ]
  },
  {
   "cell_type": "markdown",
   "metadata": {},
   "source": [
    "### The number of stations per circle"
   ]
  },
  {
   "cell_type": "code",
   "execution_count": 39,
   "metadata": {},
   "outputs": [
    {
     "data": {
      "text/plain": [
       "count    68390.000000\n",
       "mean         6.025808\n",
       "std          7.684488\n",
       "min          1.000000\n",
       "25%          1.000000\n",
       "50%          3.000000\n",
       "75%          8.000000\n",
       "max        101.000000\n",
       "Name: num, dtype: float64"
      ]
     },
     "execution_count": 39,
     "metadata": {},
     "output_type": "execute_result"
    }
   ],
   "source": [
    "circle_data.num.describe()"
   ]
  },
  {
   "cell_type": "code",
   "execution_count": 40,
   "metadata": {},
   "outputs": [
    {
     "data": {
      "text/plain": [
       "Text(0.5, 0, 'number of stations')"
      ]
     },
     "execution_count": 40,
     "metadata": {},
     "output_type": "execute_result"
    },
    {
     "name": "stderr",
     "output_type": "stream",
     "text": [
      "2020-09-22 12:20:46,472 findfont: Matching sans\\-serif:style=normal:variant=normal:weight=normal:stretch=normal:size=11.0.\n",
      "2020-09-22 12:20:46,473 findfont: score(<Font 'DejaVu Sans Display' (DejaVuSansDisplay.ttf) normal normal 400 normal>) = 10.05\n",
      "2020-09-22 12:20:46,475 findfont: score(<Font 'STIXGeneral' (STIXGeneral.ttf) normal normal regular normal>) = 10.05\n",
      "2020-09-22 12:20:46,476 findfont: score(<Font 'DejaVu Sans' (DejaVuSans.ttf) normal normal 400 normal>) = 2.05\n",
      "2020-09-22 12:20:46,496 findfont: score(<Font 'STIXNonUnicode' (STIXNonUniIta.ttf) italic normal 400 normal>) = 11.05\n",
      "2020-09-22 12:20:46,500 findfont: score(<Font 'STIXGeneral' (STIXGeneralItalic.ttf) italic normal 400 normal>) = 11.05\n",
      "2020-09-22 12:20:46,506 findfont: score(<Font 'DejaVu Sans' (DejaVuSans-Oblique.ttf) oblique normal 400 normal>) = 3.05\n",
      "2020-09-22 12:20:46,507 findfont: score(<Font 'DejaVu Serif' (DejaVuSerif-BoldItalic.ttf) italic normal 700 normal>) = 11.335\n",
      "2020-09-22 12:20:46,508 findfont: score(<Font 'STIXSizeThreeSym' (STIXSizThreeSymReg.ttf) normal normal regular normal>) = 10.05\n",
      "2020-09-22 12:20:46,511 findfont: score(<Font 'DejaVu Serif' (DejaVuSerif-Bold.ttf) normal normal 700 normal>) = 10.335\n",
      "2020-09-22 12:20:46,512 findfont: score(<Font 'cmmi10' (cmmi10.ttf) normal normal 400 normal>) = 10.05\n",
      "2020-09-22 12:20:46,514 findfont: score(<Font 'STIXNonUnicode' (STIXNonUniBol.ttf) normal normal 700 normal>) = 10.335\n",
      "2020-09-22 12:20:46,516 findfont: score(<Font 'DejaVu Sans Mono' (DejaVuSansMono.ttf) normal normal 400 normal>) = 10.05\n",
      "2020-09-22 12:20:46,517 findfont: score(<Font 'DejaVu Sans Mono' (DejaVuSansMono-Oblique.ttf) oblique normal 400 normal>) = 11.05\n",
      "2020-09-22 12:20:46,518 findfont: score(<Font 'DejaVu Serif' (DejaVuSerif.ttf) normal normal 400 normal>) = 10.05\n",
      "2020-09-22 12:20:46,519 findfont: score(<Font 'STIXNonUnicode' (STIXNonUni.ttf) normal normal regular normal>) = 10.05\n",
      "2020-09-22 12:20:46,529 findfont: score(<Font 'STIXSizeFourSym' (STIXSizFourSymBol.ttf) normal normal 700 normal>) = 10.335\n",
      "2020-09-22 12:20:46,544 findfont: score(<Font 'STIXSizeTwoSym' (STIXSizTwoSymReg.ttf) normal normal regular normal>) = 10.05\n",
      "2020-09-22 12:20:46,546 findfont: score(<Font 'cmex10' (cmex10.ttf) normal normal 400 normal>) = 10.05\n",
      "2020-09-22 12:20:46,549 findfont: score(<Font 'STIXGeneral' (STIXGeneralBol.ttf) normal normal 700 normal>) = 10.335\n",
      "2020-09-22 12:20:46,551 findfont: score(<Font 'STIXNonUnicode' (STIXNonUniBolIta.ttf) italic normal 700 normal>) = 11.335\n",
      "2020-09-22 12:20:46,552 findfont: score(<Font 'STIXSizeFourSym' (STIXSizFourSymReg.ttf) normal normal regular normal>) = 10.05\n",
      "2020-09-22 12:20:46,554 findfont: score(<Font 'cmss10' (cmss10.ttf) normal normal 400 normal>) = 10.05\n",
      "2020-09-22 12:20:46,555 findfont: score(<Font 'STIXSizeOneSym' (STIXSizOneSymBol.ttf) normal normal 700 normal>) = 10.335\n",
      "2020-09-22 12:20:46,558 findfont: score(<Font 'STIXSizeThreeSym' (STIXSizThreeSymBol.ttf) normal normal 700 normal>) = 10.335\n",
      "2020-09-22 12:20:46,559 findfont: score(<Font 'cmtt10' (cmtt10.ttf) normal normal 400 normal>) = 10.05\n",
      "2020-09-22 12:20:46,560 findfont: score(<Font 'cmb10' (cmb10.ttf) normal normal 400 normal>) = 10.05\n",
      "2020-09-22 12:20:46,562 findfont: score(<Font 'DejaVu Sans Mono' (DejaVuSansMono-BoldOblique.ttf) oblique normal 700 normal>) = 11.335\n",
      "2020-09-22 12:20:46,563 findfont: score(<Font 'DejaVu Sans' (DejaVuSans-BoldOblique.ttf) oblique normal 700 normal>) = 3.335\n",
      "2020-09-22 12:20:46,568 findfont: score(<Font 'STIXGeneral' (STIXGeneralBolIta.ttf) italic normal 700 normal>) = 11.335\n",
      "2020-09-22 12:20:46,573 findfont: score(<Font 'STIXSizeOneSym' (STIXSizOneSymReg.ttf) normal normal regular normal>) = 10.05\n",
      "2020-09-22 12:20:46,580 findfont: score(<Font 'STIXSizeFiveSym' (STIXSizFiveSymReg.ttf) normal normal regular normal>) = 10.05\n",
      "2020-09-22 12:20:46,596 findfont: score(<Font 'DejaVu Sans' (DejaVuSans-Bold.ttf) normal normal 700 normal>) = 2.335\n",
      "2020-09-22 12:20:46,599 findfont: score(<Font 'DejaVu Serif Display' (DejaVuSerifDisplay.ttf) normal normal 400 normal>) = 10.05\n",
      "2020-09-22 12:20:46,603 findfont: score(<Font 'cmr10' (cmr10.ttf) normal normal 400 normal>) = 10.05\n",
      "2020-09-22 12:20:46,604 findfont: score(<Font 'DejaVu Sans Mono' (DejaVuSansMono-Bold.ttf) normal normal 700 normal>) = 10.335\n",
      "2020-09-22 12:20:46,611 findfont: score(<Font 'STIXSizeTwoSym' (STIXSizTwoSymBol.ttf) normal normal 700 normal>) = 10.335\n",
      "2020-09-22 12:20:46,613 findfont: score(<Font 'cmsy10' (cmsy10.ttf) normal normal 400 normal>) = 10.05\n",
      "2020-09-22 12:20:46,615 findfont: score(<Font 'DejaVu Serif' (DejaVuSerif-Italic.ttf) italic normal 400 normal>) = 11.05\n",
      "2020-09-22 12:20:46,619 findfont: score(<Font 'Estrangelo Antioch' (SyrCOMAntioch.otf) normal normal 400 normal>) = 10.05\n",
      "2020-09-22 12:20:46,635 findfont: score(<Font 'STIXIntegralsSm' (STIXIntSmReg.otf) normal normal regular normal>) = 10.05\n",
      "2020-09-22 12:20:46,639 findfont: score(<Font 'Rockwell' (Rockwell.ttc) normal normal 400 normal>) = 10.05\n",
      "2020-09-22 12:20:46,643 findfont: score(<Font 'Phosphate' (Phosphate.ttc) normal normal 400 normal>) = 10.05\n",
      "2020-09-22 12:20:46,645 findfont: score(<Font 'STIXSizeFiveSym' (STIXSizFiveSymReg.otf) normal normal regular normal>) = 10.05\n",
      "2020-09-22 12:20:46,648 findfont: score(<Font 'STIXSizeOneSym' (STIXSizOneSymReg.otf) normal normal regular normal>) = 10.05\n",
      "2020-09-22 12:20:46,664 findfont: score(<Font 'Hiragino Sans' (ヒラギノ角ゴシック W2.ttc) normal normal 400 normal>) = 10.05\n",
      "2020-09-22 12:20:46,669 findfont: score(<Font 'System Font' (SFNS.ttf) normal normal 400 normal>) = 10.05\n",
      "2020-09-22 12:20:46,690 findfont: score(<Font 'Noto Sans Bamum' (NotoSansBamum-Regular.ttf) normal normal regular normal>) = 10.05\n",
      "2020-09-22 12:20:46,714 findfont: score(<Font '.SF NS Text Condensed' (SFNSTextCondensed-Heavy.otf) normal normal heavy condensed>) = 10.629999999999999\n",
      "2020-09-22 12:20:46,723 findfont: score(<Font 'Hiragino Sans' (ヒラギノ角ゴシック W9.ttc) normal normal 700 normal>) = 10.335\n",
      "2020-09-22 12:20:46,726 findfont: score(<Font 'Hiragino Sans' (ヒラギノ角ゴシック W1.ttc) normal normal 400 normal>) = 10.05\n",
      "2020-09-22 12:20:46,730 findfont: score(<Font 'Noto Sans Saurashtra' (NotoSansSaurashtra-Regular.ttf) normal normal regular normal>) = 10.05\n",
      "2020-09-22 12:20:46,732 findfont: score(<Font 'Arial Narrow' (Arial Narrow.ttf) normal normal 400 condensed>) = 10.25\n",
      "2020-09-22 12:20:46,733 findfont: score(<Font 'Luxi Mono' (luximbi.ttf) oblique normal 700 normal>) = 11.335\n",
      "2020-09-22 12:20:46,746 findfont: score(<Font 'Serto Kharput' (SyrCOMKharput.otf) normal normal 400 normal>) = 10.05\n",
      "2020-09-22 12:20:46,760 findfont: score(<Font 'Noto Sans Egyptian Hieroglyphs' (NotoSansEgyptianHieroglyphs-Regular.ttf) normal normal regular normal>) = 10.05\n",
      "2020-09-22 12:20:46,769 findfont: score(<Font 'Bitstream Vera Sans' (VeraIt.ttf) oblique normal 400 normal>) = 7.05\n",
      "2020-09-22 12:20:46,771 findfont: score(<Font 'East Syriac Adiabene' (SyrCOMAdiabene.otf) normal normal 400 normal>) = 10.05\n",
      "2020-09-22 12:20:46,824 findfont: score(<Font 'Kefa' (Kefa.ttc) normal normal regular normal>) = 10.05\n",
      "2020-09-22 12:20:46,827 findfont: score(<Font 'Serto Malankara' (SyrCOMMalankara.otf) normal normal 400 normal>) = 10.05\n",
      "2020-09-22 12:20:46,830 findfont: score(<Font 'Luxi Serif' (luxirbi.ttf) oblique normal 700 normal>) = 11.335\n",
      "2020-09-22 12:20:46,834 findfont: score(<Font 'Bitstream Vera Serif' (VeraSeBd.ttf) normal normal 700 normal>) = 10.335\n",
      "2020-09-22 12:20:46,837 findfont: score(<Font 'Kohinoor Devanagari' (Kohinoor.ttc) normal normal regular normal>) = 10.05\n",
      "2020-09-22 12:20:46,840 findfont: score(<Font '.SF NS Display Condensed' (SFNSDisplayCondensed-Bold.otf) normal normal bold condensed>) = 10.535\n",
      "2020-09-22 12:20:46,844 findfont: score(<Font 'Verdana' (Verdana Bold Italic.ttf) italic normal 700 normal>) = 11.335\n",
      "2020-09-22 12:20:46,855 findfont: score(<Font 'Tahoma' (Tahoma Bold.ttf) normal normal 700 normal>) = 10.335\n",
      "2020-09-22 12:20:46,871 findfont: score(<Font 'Verdana' (Verdana.ttf) normal normal 400 normal>) = 10.05\n",
      "2020-09-22 12:20:46,878 findfont: score(<Font 'Gurmukhi Sangam MN' (Gurmukhi Sangam MN.ttc) normal normal 400 normal>) = 10.05\n",
      "2020-09-22 12:20:46,883 findfont: score(<Font 'Kannada Sangam MN' (Kannada Sangam MN.ttc) normal normal 400 normal>) = 10.05\n"
     ]
    },
    {
     "name": "stderr",
     "output_type": "stream",
     "text": [
      "2020-09-22 12:20:46,887 findfont: score(<Font 'Bradley Hand' (Bradley Hand Bold.ttf) normal normal bold normal>) = 10.335\n",
      "2020-09-22 12:20:46,891 findfont: score(<Font 'Arial Narrow' (Arial Narrow Italic.ttf) italic normal 400 condensed>) = 11.25\n",
      "2020-09-22 12:20:46,895 findfont: score(<Font 'Comic Sans MS' (Comic Sans MS.ttf) normal normal 400 normal>) = 10.05\n",
      "2020-09-22 12:20:46,897 findfont: score(<Font 'Noto Sans Lepcha' (NotoSansLepcha-Regular.ttf) normal normal regular normal>) = 10.05\n",
      "2020-09-22 12:20:46,900 findfont: score(<Font 'Noto Sans Old Persian' (NotoSansOldPersian-Regular.ttf) normal normal regular normal>) = 10.05\n",
      "2020-09-22 12:20:46,903 findfont: score(<Font 'Apple Braille' (Apple Braille Outline 8 Dot.ttf) normal normal 400 normal>) = 10.05\n",
      "2020-09-22 12:20:46,905 findfont: score(<Font 'Marker Felt' (MarkerFelt.ttc) normal normal 400 normal>) = 10.05\n",
      "2020-09-22 12:20:46,911 findfont: score(<Font 'Raanana' (Raanana.ttc) normal normal 400 normal>) = 10.05\n",
      "2020-09-22 12:20:46,914 findfont: score(<Font 'Ayuthaya' (Ayuthaya.ttf) normal normal 400 normal>) = 10.05\n",
      "2020-09-22 12:20:46,916 findfont: score(<Font 'Hoefler Text' (Hoefler Text.ttc) normal normal 400 normal>) = 10.05\n",
      "2020-09-22 12:20:46,918 findfont: score(<Font '.SF NS Display Condensed' (SFNSDisplayCondensed-Light.otf) normal normal light condensed>) = 10.44\n",
      "2020-09-22 12:20:46,921 findfont: score(<Font 'Krungthep' (Krungthep.ttf) normal normal 400 normal>) = 10.05\n",
      "2020-09-22 12:20:46,923 findfont: score(<Font 'Serto Urhoy' (SyrCOMUrhoyBold.otf) normal normal 700 normal>) = 10.335\n",
      "2020-09-22 12:20:46,925 findfont: score(<Font 'Futura' (Futura.ttc) normal normal medium normal>) = 10.145\n",
      "2020-09-22 12:20:46,927 findfont: score(<Font 'Arial' (Arial Bold.ttf) normal normal 700 normal>) = 0.33499999999999996\n",
      "2020-09-22 12:20:46,931 findfont: score(<Font 'Noto Sans Sundanese' (NotoSansSundanese-Regular.ttf) normal normal regular normal>) = 10.05\n",
      "2020-09-22 12:20:46,934 findfont: score(<Font 'System Font' (SFNSItalic.ttf) italic normal regular normal>) = 11.05\n",
      "2020-09-22 12:20:46,936 findfont: score(<Font 'Songti SC' (Songti.ttc) normal normal black normal>) = 10.525\n",
      "2020-09-22 12:20:46,940 findfont: score(<Font 'Vecna' (Vecna-oppx.ttf) normal normal 400 normal>) = 10.05\n",
      "2020-09-22 12:20:46,944 findfont: score(<Font 'Noto Sans Chakma' (NotoSansChakma-Regular.ttf) normal normal regular normal>) = 10.05\n",
      "2020-09-22 12:20:46,947 findfont: score(<Font 'East Syriac Ctesiphon' (SyrCOMCtesiphon.otf) normal normal 400 normal>) = 10.05\n",
      "2020-09-22 12:20:46,987 findfont: score(<Font 'Times New Roman' (Times New Roman Bold Italic.ttf) italic normal 700 normal>) = 11.335\n",
      "2020-09-22 12:20:47,001 findfont: score(<Font 'Noto Sans Samaritan' (NotoSansSamaritan-Regular.ttf) normal normal regular normal>) = 10.05\n",
      "2020-09-22 12:20:47,012 findfont: score(<Font 'Hiragino Maru Gothic Pro' (ヒラギノ丸ゴ ProN W4.ttc) normal normal 400 normal>) = 10.05\n",
      "2020-09-22 12:20:47,017 findfont: score(<Font 'Athelas' (Athelas.ttc) normal normal regular normal>) = 10.05\n",
      "2020-09-22 12:20:47,020 findfont: score(<Font 'Noto Sans Hanunoo' (NotoSansHanunoo-Regular.ttf) normal normal regular normal>) = 10.05\n",
      "2020-09-22 12:20:47,024 findfont: score(<Font 'Seravek' (Seravek.ttc) normal normal 400 normal>) = 10.05\n",
      "2020-09-22 12:20:47,026 findfont: score(<Font 'DIN Alternate' (DIN Alternate Bold.ttf) normal normal 700 normal>) = 10.335\n",
      "2020-09-22 12:20:47,030 findfont: score(<Font 'STIXIntegralsUp' (STIXIntUpBol.otf) normal normal 700 normal>) = 10.335\n",
      "2020-09-22 12:20:47,039 findfont: score(<Font 'Noto Sans Gothic' (NotoSansGothic-Regular.ttf) normal normal regular normal>) = 10.05\n",
      "2020-09-22 12:20:47,044 findfont: score(<Font 'Times New Roman' (Times New Roman.ttf) normal normal roman normal>) = 10.145\n",
      "2020-09-22 12:20:47,047 findfont: score(<Font 'Charter' (Charter.ttc) normal normal roman normal>) = 10.145\n",
      "2020-09-22 12:20:47,051 findfont: score(<Font 'Papyrus' (Papyrus.ttc) normal normal 400 condensed>) = 10.25\n",
      "2020-09-22 12:20:47,054 findfont: score(<Font 'Estrangelo TurAbdin' (SyrCOMTurAbdin.otf) normal normal 400 normal>) = 10.05\n",
      "2020-09-22 12:20:47,056 findfont: score(<Font 'STIXVariants' (STIXVarBol.otf) normal normal 700 normal>) = 10.335\n",
      "2020-09-22 12:20:47,058 findfont: score(<Font '.SF NS Display Condensed' (SFNSDisplayCondensed-Black.otf) normal normal black condensed>) = 10.725\n",
      "2020-09-22 12:20:47,060 findfont: score(<Font 'Hiragino Sans' (ヒラギノ角ゴシック W7.ttc) normal normal 700 normal>) = 10.335\n",
      "2020-09-22 12:20:47,062 findfont: score(<Font 'Apple Chancery' (Apple Chancery.ttf) normal normal 400 normal>) = 10.05\n",
      "2020-09-22 12:20:47,065 findfont: score(<Font 'Noto Sans Kharoshthi' (NotoSansKharoshthi-Regular.ttf) normal normal regular normal>) = 10.05\n",
      "2020-09-22 12:20:47,069 findfont: score(<Font 'Noto Sans Cypriot' (NotoSansCypriot-Regular.ttf) normal normal regular normal>) = 10.05\n",
      "2020-09-22 12:20:47,071 findfont: score(<Font 'Noto Sans Armenian' (NotoSansArmenian.ttc) normal normal black normal>) = 10.525\n",
      "2020-09-22 12:20:47,073 findfont: score(<Font 'Noto Sans Syloti Nagri' (NotoSansSylotiNagri-Regular.ttf) normal normal regular normal>) = 10.05\n",
      "2020-09-22 12:20:47,075 findfont: score(<Font 'Bitstream Vera Sans Mono' (VeraMoBI.ttf) oblique normal 700 normal>) = 11.335\n",
      "2020-09-22 12:20:47,078 findfont: score(<Font 'Silom' (Silom.ttf) normal normal 400 normal>) = 10.05\n",
      "2020-09-22 12:20:47,081 findfont: score(<Font 'Estrangelo Nisibin' (SyrCOMNisibin.otf) normal normal 400 normal>) = 10.05\n",
      "2020-09-22 12:20:47,090 findfont: score(<Font 'Oriya MN' (Oriya MN.ttc) normal normal 400 normal>) = 10.05\n",
      "2020-09-22 12:20:47,094 findfont: score(<Font 'Luxi Mono' (luximr.ttf) normal normal regular normal>) = 10.05\n",
      "2020-09-22 12:20:47,096 findfont: score(<Font 'Helvetica Neue' (HelveticaNeue.ttc) normal normal 400 normal>) = 10.05\n",
      "2020-09-22 12:20:47,100 findfont: score(<Font 'DIN Condensed' (DIN Condensed Bold.ttf) normal normal 700 condensed>) = 10.535\n",
      "2020-09-22 12:20:47,101 findfont: score(<Font 'Trebuchet MS' (Trebuchet MS Bold Italic.ttf) italic normal 700 normal>) = 11.335\n",
      "2020-09-22 12:20:47,105 findfont: score(<Font 'Estrangelo Edessa' (SyrCOMEdessa.otf) normal normal 400 normal>) = 10.05\n",
      "2020-09-22 12:20:47,107 findfont: score(<Font 'Sukhumvit Set' (SukhumvitSet.ttc) normal normal 400 normal>) = 10.05\n",
      "2020-09-22 12:20:47,109 findfont: score(<Font 'Noto Sans Mandaic' (NotoSansMandaic-Regular.ttf) normal normal regular normal>) = 10.05\n",
      "2020-09-22 12:20:47,111 findfont: score(<Font 'Noto Sans Ogham' (NotoSansOgham-Regular.ttf) normal normal regular normal>) = 10.05\n",
      "2020-09-22 12:20:47,114 findfont: score(<Font 'Gurmukhi MN' (Gurmukhi MN.ttc) normal normal 400 normal>) = 10.05\n",
      "2020-09-22 12:20:47,117 findfont: score(<Font 'Bitstream Vera Serif' (VeraSe.ttf) normal normal 400 normal>) = 10.05\n",
      "2020-09-22 12:20:47,119 findfont: score(<Font 'Noto Sans Linear B' (NotoSansLinearB-Regular.ttf) normal normal regular normal>) = 10.05\n",
      "2020-09-22 12:20:47,120 findfont: score(<Font 'STIXNonUnicode' (STIXNonUni.otf) normal normal regular normal>) = 10.05\n",
      "2020-09-22 12:20:47,124 findfont: score(<Font 'Tamil MN' (Tamil MN.ttc) normal normal 400 normal>) = 10.05\n",
      "2020-09-22 12:20:47,127 findfont: score(<Font 'Telugu Sangam MN' (Telugu Sangam MN.ttc) normal normal 400 normal>) = 10.05\n",
      "2020-09-22 12:20:47,131 findfont: score(<Font 'Devanagari Sangam MN' (Devanagari Sangam MN.ttc) normal normal 400 normal>) = 10.05\n",
      "2020-09-22 12:20:47,134 findfont: score(<Font 'KufiStandardGK' (KufiStandardGK.ttc) normal normal regular normal>) = 10.05\n",
      "2020-09-22 12:20:47,138 findfont: score(<Font 'Hiragino Sans' (ヒラギノ角ゴシック W8.ttc) normal normal 700 normal>) = 10.335\n",
      "2020-09-22 12:20:47,141 findfont: score(<Font 'STIXNonUnicode' (STIXNonUniBol.otf) normal normal 700 normal>) = 10.335\n",
      "2020-09-22 12:20:47,143 findfont: score(<Font 'PT Serif' (PTSerif.ttc) normal normal 400 normal>) = 10.05\n",
      "2020-09-22 12:20:47,145 findfont: score(<Font 'STIXIntegralsUpD' (STIXIntUpDBol.otf) normal normal 700 normal>) = 10.335\n",
      "2020-09-22 12:20:47,147 findfont: score(<Font 'Tahoma' (Tahoma.ttf) normal normal 400 normal>) = 10.05\n",
      "2020-09-22 12:20:47,151 findfont: score(<Font 'Noto Sans NKo' (NotoSansNKo-Regular.ttf) normal normal regular normal>) = 10.05\n"
     ]
    },
    {
     "name": "stderr",
     "output_type": "stream",
     "text": [
      "2020-09-22 12:20:47,154 findfont: score(<Font 'Damascus' (Damascus.ttc) normal normal regular normal>) = 10.05\n",
      "2020-09-22 12:20:47,158 findfont: score(<Font 'Noto Sans Phoenician' (NotoSansPhoenician-Regular.ttf) normal normal regular normal>) = 10.05\n",
      "2020-09-22 12:20:47,160 findfont: score(<Font '.SF NS Display Condensed' (SFNSDisplayCondensed-Thin.otf) normal normal 400 condensed>) = 10.25\n",
      "2020-09-22 12:20:47,163 findfont: score(<Font 'Big Caslon' (BigCaslon.ttf) normal normal medium normal>) = 10.145\n",
      "2020-09-22 12:20:47,167 findfont: score(<Font 'Serto Batnan' (SyrCOMBatnan.otf) normal normal 400 normal>) = 10.05\n",
      "2020-09-22 12:20:47,170 findfont: score(<Font 'Noto Sans Glagolitic' (NotoSansGlagolitic-Regular.ttf) normal normal regular normal>) = 10.05\n",
      "2020-09-22 12:20:47,172 findfont: score(<Font 'Sathu' (Sathu.ttf) normal normal 400 normal>) = 10.05\n",
      "2020-09-22 12:20:47,174 findfont: score(<Font 'Noto Sans Syriac' (NotoSansSyriac-Regular.ttf) normal normal regular normal>) = 10.05\n",
      "2020-09-22 12:20:47,176 findfont: score(<Font '.SF Compact Display' (SFCompactDisplay.ttf) normal normal 400 normal>) = 10.05\n",
      "2020-09-22 12:20:47,178 findfont: score(<Font 'Telugu MN' (Telugu MN.ttc) normal normal 400 normal>) = 10.05\n",
      "2020-09-22 12:20:47,180 findfont: score(<Font 'Kokonor' (Kokonor.ttf) normal normal regular normal>) = 10.05\n",
      "2020-09-22 12:20:47,183 findfont: score(<Font 'Beirut' (Beirut.ttc) normal normal regular normal>) = 10.05\n",
      "2020-09-22 12:20:47,185 findfont: score(<Font 'Arial Unicode MS' (Arial Unicode.ttf) normal normal 400 normal>) = 10.05\n",
      "2020-09-22 12:20:47,187 findfont: score(<Font 'Gujarati Sangam MN' (Gujarati Sangam MN.ttc) normal normal 400 normal>) = 10.05\n",
      "2020-09-22 12:20:47,188 findfont: score(<Font 'Noto Sans Kayah Li' (NotoSansKayahLi-Regular.ttf) normal normal regular normal>) = 10.05\n",
      "2020-09-22 12:20:47,192 findfont: score(<Font 'Courier New' (Courier New.ttf) normal normal 400 normal>) = 10.05\n",
      "2020-09-22 12:20:47,199 findfont: score(<Font 'SignPainter' (SignPainter.ttc) normal normal 400 normal>) = 10.05\n",
      "2020-09-22 12:20:47,201 findfont: score(<Font 'Bitstream Vera Sans' (VeraBI.ttf) oblique normal 700 normal>) = 7.335\n",
      "2020-09-22 12:20:47,204 findfont: score(<Font 'Noto Sans Meetei Mayek' (NotoSansMeeteiMayek-Regular.ttf) normal normal regular normal>) = 10.05\n",
      "2020-09-22 12:20:47,209 findfont: score(<Font 'Apple Braille' (Apple Braille Pinpoint 8 Dot.ttf) normal normal 400 normal>) = 10.05\n",
      "2020-09-22 12:20:47,212 findfont: score(<Font '.SF NS Text Condensed' (SFNSTextCondensed-Medium.otf) normal normal medium condensed>) = 10.344999999999999\n",
      "2020-09-22 12:20:47,214 findfont: score(<Font 'Noto Sans Kaithi' (NotoSansKaithi-Regular.ttf) normal normal regular normal>) = 10.05\n",
      "2020-09-22 12:20:47,216 findfont: score(<Font 'PT Mono' (PTMono.ttc) normal normal 700 normal>) = 10.335\n",
      "2020-09-22 12:20:47,218 findfont: score(<Font 'Serto Mardin' (SyrCOMMardin.otf) normal normal 400 normal>) = 10.05\n",
      "2020-09-22 12:20:47,220 findfont: score(<Font 'Noto Sans Batak' (NotoSansBatak-Regular.ttf) normal normal regular normal>) = 10.05\n",
      "2020-09-22 12:20:47,224 findfont: score(<Font 'STIXSizeThreeSym' (STIXSizThreeSymReg.otf) normal normal regular normal>) = 10.05\n",
      "2020-09-22 12:20:47,226 findfont: score(<Font 'Noto Sans Yi' (NotoSansYi-Regular.ttf) normal normal regular normal>) = 10.05\n",
      "2020-09-22 12:20:47,228 findfont: score(<Font 'Baskerville' (Baskerville.ttc) normal normal 400 normal>) = 10.05\n",
      "2020-09-22 12:20:47,230 findfont: score(<Font 'Noto Sans Tifinagh' (NotoSansTifinagh-Regular.ttf) normal normal regular normal>) = 10.05\n",
      "2020-09-22 12:20:47,233 findfont: score(<Font 'Georgia' (Georgia Bold Italic.ttf) italic normal 700 normal>) = 11.335\n",
      "2020-09-22 12:20:47,238 findfont: score(<Font 'Noto Sans Old South Arabian' (NotoSansOldSouthArabian-Regular.ttf) normal normal regular normal>) = 10.05\n",
      "2020-09-22 12:20:47,243 findfont: score(<Font 'Noto Sans Limbu' (NotoSansLimbu-Regular.ttf) normal normal regular normal>) = 10.05\n",
      "2020-09-22 12:20:47,246 findfont: score(<Font 'Farisi' (Farisi.ttf) normal normal regular normal>) = 10.05\n",
      "2020-09-22 12:20:47,249 findfont: score(<Font 'Noto Sans Inscriptional Pahlavi' (NotoSansInscriptionalPahlavi-Regular.ttf) normal normal regular normal>) = 10.05\n",
      "2020-09-22 12:20:47,253 findfont: score(<Font 'Nadeem' (Nadeem.ttc) normal normal regular normal>) = 10.05\n",
      "2020-09-22 12:20:47,257 findfont: score(<Font 'Noto Sans Tagalog' (NotoSansTagalog-Regular.ttf) normal normal regular normal>) = 10.05\n",
      "2020-09-22 12:20:47,259 findfont: score(<Font 'Noto Sans Runic' (NotoSansRunic-Regular.ttf) normal normal regular normal>) = 10.05\n",
      "2020-09-22 12:20:47,261 findfont: score(<Font 'Arial Narrow' (Arial Narrow Bold Italic.ttf) italic normal 700 condensed>) = 11.535\n",
      "2020-09-22 12:20:47,262 findfont: score(<Font 'Mishafi' (Mishafi.ttf) normal normal regular normal>) = 10.05\n",
      "2020-09-22 12:20:47,264 findfont: score(<Font 'Microsoft Sans Serif' (Microsoft Sans Serif.ttf) normal normal 400 normal>) = 10.05\n",
      "2020-09-22 12:20:47,268 findfont: score(<Font 'Mshtakan' (Mshtakan.ttc) normal normal 400 normal>) = 10.05\n",
      "2020-09-22 12:20:47,269 findfont: score(<Font '.SF NS Mono' (SFNSMono.ttf) normal normal light normal>) = 10.24\n",
      "2020-09-22 12:20:47,271 findfont: score(<Font 'Shree Devanagari 714' (Shree714.ttc) normal normal 400 normal>) = 10.05\n",
      "2020-09-22 12:20:47,273 findfont: score(<Font 'Apple Braille' (Apple Braille Pinpoint 6 Dot.ttf) normal normal 400 normal>) = 10.05\n",
      "2020-09-22 12:20:47,279 findfont: score(<Font 'Apple Symbols' (Apple Symbols.ttf) normal normal 400 normal>) = 10.05\n",
      "2020-09-22 12:20:47,284 findfont: score(<Font 'Bodoni Ornaments' (Bodoni Ornaments.ttf) normal normal 400 normal>) = 10.05\n",
      "2020-09-22 12:20:47,286 findfont: score(<Font 'STIXIntegralsUpSm' (STIXIntUpSmBol.otf) normal normal 700 normal>) = 10.335\n",
      "2020-09-22 12:20:47,287 findfont: score(<Font 'Wingdings' (Wingdings.ttf) normal normal 400 normal>) = 10.05\n",
      "2020-09-22 12:20:47,290 findfont: score(<Font 'Menlo' (Menlo.ttc) normal normal regular normal>) = 10.05\n",
      "2020-09-22 12:20:47,293 findfont: score(<Font 'Kohinoor Telugu' (KohinoorTelugu.ttc) normal normal 400 normal>) = 10.05\n",
      "2020-09-22 12:20:47,298 findfont: score(<Font 'Noto Sans Lisu' (NotoSansLisu-Regular.ttf) normal normal regular normal>) = 10.05\n",
      "2020-09-22 12:20:47,300 findfont: score(<Font 'STIXSizeThreeSym' (STIXSizThreeSymBol.otf) normal normal 700 normal>) = 10.335\n",
      "2020-09-22 12:20:47,303 findfont: score(<Font 'STIXIntegralsD' (STIXIntDReg.otf) normal normal regular normal>) = 10.05\n",
      "2020-09-22 12:20:47,305 findfont: score(<Font 'Bodoni 72 Smallcaps' (Bodoni 72 Smallcaps Book.ttf) normal normal book normal>) = 10.05\n",
      "2020-09-22 12:20:47,306 findfont: score(<Font 'Trattatello' (Trattatello.ttf) normal normal 400 normal>) = 10.05\n",
      "2020-09-22 12:20:47,308 findfont: score(<Font 'Geeza Pro' (GeezaPro.ttc) normal normal regular normal>) = 10.05\n",
      "2020-09-22 12:20:47,311 findfont: score(<Font 'Noto Serif Balinese' (NotoSerifBalinese-Regular.ttf) normal normal regular normal>) = 10.05\n",
      "2020-09-22 12:20:47,313 findfont: score(<Font 'Serto Jerusalem' (SyrCOMJerusalemBold.otf) normal normal 700 normal>) = 10.335\n",
      "2020-09-22 12:20:47,316 findfont: score(<Font 'Noto Sans Tagbanwa' (NotoSansTagbanwa-Regular.ttf) normal normal regular normal>) = 10.05\n",
      "2020-09-22 12:20:47,322 findfont: score(<Font '.SF NS Text Condensed' (SFNSTextCondensed-Light.otf) normal normal light condensed>) = 10.44\n",
      "2020-09-22 12:20:47,327 findfont: score(<Font 'Courier New' (Courier New Bold.ttf) normal normal 700 normal>) = 10.335\n",
      "2020-09-22 12:20:47,331 findfont: score(<Font 'Chalkboard SE' (ChalkboardSE.ttc) normal normal light normal>) = 10.24\n",
      "2020-09-22 12:20:47,337 findfont: score(<Font 'Mishafi Gold' (Mishafi Gold.ttf) normal normal regular normal>) = 10.05\n",
      "2020-09-22 12:20:47,339 findfont: score(<Font 'Luxi Mono' (luximri.ttf) oblique normal 400 normal>) = 11.05\n",
      "2020-09-22 12:20:47,343 findfont: score(<Font 'Noto Sans Ugaritic' (NotoSansUgaritic-Regular.ttf) normal normal regular normal>) = 10.05\n",
      "2020-09-22 12:20:47,346 findfont: score(<Font 'Hiragino Mincho ProN' (ヒラギノ明朝 ProN.ttc) normal normal 400 normal>) = 10.05\n",
      "2020-09-22 12:20:47,348 findfont: score(<Font 'Kailasa' (Kailasa.ttc) normal normal regular normal>) = 10.05\n"
     ]
    },
    {
     "name": "stderr",
     "output_type": "stream",
     "text": [
      "2020-09-22 12:20:47,350 findfont: score(<Font 'Chalkboard' (Chalkboard.ttc) normal normal 400 normal>) = 10.05\n",
      "2020-09-22 12:20:47,354 findfont: score(<Font 'Bodoni 72 Oldstyle' (Bodoni 72 OS.ttc) normal normal book normal>) = 10.05\n",
      "2020-09-22 12:20:47,358 findfont: score(<Font 'Noto Sans Old Turkic' (NotoSansOldTurkic-Regular.ttf) normal normal regular normal>) = 10.05\n",
      "2020-09-22 12:20:47,361 findfont: score(<Font 'STIXSizeFourSym' (STIXSizFourSymReg.otf) normal normal regular normal>) = 10.05\n",
      "2020-09-22 12:20:47,366 findfont: score(<Font 'Luxi Sans' (luxisr.ttf) normal normal regular normal>) = 10.05\n",
      "2020-09-22 12:20:47,369 findfont: score(<Font 'Noto Sans Old Italic' (NotoSansOldItalic-Regular.ttf) italic normal regular normal>) = 11.05\n",
      "2020-09-22 12:20:47,372 findfont: score(<Font 'Bodoni 72' (Bodoni 72.ttc) normal normal book normal>) = 10.05\n",
      "2020-09-22 12:20:47,377 findfont: score(<Font 'Andale Mono' (Andale Mono.ttf) normal normal 400 normal>) = 10.05\n",
      "2020-09-22 12:20:47,380 findfont: score(<Font 'Khmer MN' (Khmer MN.ttc) normal normal 400 normal>) = 10.05\n",
      "2020-09-22 12:20:47,383 findfont: score(<Font 'Luxi Sans' (luxisb.ttf) normal normal 700 normal>) = 10.335\n",
      "2020-09-22 12:20:47,386 findfont: score(<Font 'Estrangelo Quenneshrin' (SyrCOMQenNeshrin.otf) normal normal 400 normal>) = 10.05\n",
      "2020-09-22 12:20:47,388 findfont: score(<Font 'Bitstream Vera Sans' (VeraBd.ttf) normal normal 700 normal>) = 6.335\n",
      "2020-09-22 12:20:47,393 findfont: score(<Font 'Hoefler Text' (Hoefler Text Ornaments.ttf) normal normal 400 normal>) = 10.05\n",
      "2020-09-22 12:20:47,395 findfont: score(<Font 'Snell Roundhand' (SnellRoundhand.ttc) normal normal 400 normal>) = 10.05\n",
      "2020-09-22 12:20:47,397 findfont: score(<Font 'Avenir Next Condensed' (Avenir Next Condensed.ttc) normal normal 700 condensed>) = 10.535\n",
      "2020-09-22 12:20:47,399 findfont: score(<Font 'Arial Rounded MT Bold' (Arial Rounded Bold.ttf) normal normal bold normal>) = 10.335\n",
      "2020-09-22 12:20:47,402 findfont: score(<Font 'AppleGothic' (AppleGothic.ttf) normal normal regular normal>) = 10.05\n",
      "2020-09-22 12:20:47,405 findfont: score(<Font 'Noto Sans Imperial Aramaic' (NotoSansImperialAramaic-Regular.ttf) normal normal regular normal>) = 10.05\n",
      "2020-09-22 12:20:47,409 findfont: score(<Font 'Herculanum' (Herculanum.ttf) normal normal 400 normal>) = 10.05\n",
      "2020-09-22 12:20:47,412 findfont: score(<Font 'Khmer Sangam MN' (Khmer Sangam MN.ttf) normal normal 400 normal>) = 10.05\n",
      "2020-09-22 12:20:47,414 findfont: score(<Font 'Noto Sans Lycian' (NotoSansLycian-Regular.ttf) normal normal regular normal>) = 10.05\n",
      "2020-09-22 12:20:47,427 findfont: score(<Font 'Luxi Serif' (luxirri.ttf) oblique normal 400 normal>) = 11.05\n",
      "2020-09-22 12:20:47,429 findfont: score(<Font 'Noto Sans Cham' (NotoSansCham-Regular.ttf) normal normal regular normal>) = 10.05\n",
      "2020-09-22 12:20:47,431 findfont: score(<Font 'Malayalam MN' (Malayalam MN.ttc) normal normal 400 normal>) = 10.05\n",
      "2020-09-22 12:20:47,432 findfont: score(<Font 'Malayalam Sangam MN' (Malayalam Sangam MN.ttc) normal normal 400 normal>) = 10.05\n",
      "2020-09-22 12:20:47,434 findfont: score(<Font 'STIXIntegralsSm' (STIXIntSmBol.otf) normal normal 700 normal>) = 10.335\n",
      "2020-09-22 12:20:47,435 findfont: score(<Font 'Noto Sans Mongolian' (NotoSansMongolian-Regular.ttf) normal normal 400 normal>) = 10.05\n",
      "2020-09-22 12:20:47,439 findfont: score(<Font 'Avenir' (Avenir.ttc) normal normal book normal>) = 10.05\n",
      "2020-09-22 12:20:47,452 findfont: score(<Font 'Luxi Serif' (luxirr.ttf) normal normal regular normal>) = 10.05\n",
      "2020-09-22 12:20:47,454 findfont: score(<Font 'Bitstream Vera Sans Mono' (VeraMoIt.ttf) oblique normal 400 normal>) = 11.05\n",
      "2020-09-22 12:20:47,461 findfont: score(<Font 'Georgia' (Georgia.ttf) normal normal 400 normal>) = 10.05\n",
      "2020-09-22 12:20:47,464 findfont: score(<Font 'Noto Serif Myanmar' (NotoSerifMyanmar.ttc) normal normal black normal>) = 10.525\n",
      "2020-09-22 12:20:47,467 findfont: score(<Font 'Luxi Serif' (luxirb.ttf) normal normal 700 normal>) = 10.335\n",
      "2020-09-22 12:20:47,504 findfont: score(<Font 'Noto Sans Osmanya' (NotoSansOsmanya-Regular.ttf) normal normal regular normal>) = 10.05\n",
      "2020-09-22 12:20:47,512 findfont: score(<Font 'STIXGeneral' (STIXGeneralBol.otf) normal normal 700 normal>) = 10.335\n",
      "2020-09-22 12:20:47,515 findfont: score(<Font 'Zapf Dingbats' (ZapfDingbats.ttf) normal normal 400 normal>) = 10.05\n",
      "2020-09-22 12:20:47,518 findfont: score(<Font 'STIXIntegralsD' (STIXIntDBol.otf) normal normal 700 normal>) = 10.335\n",
      "2020-09-22 12:20:47,521 findfont: score(<Font 'Serto Urhoy' (SyrCOMUrhoy.otf) normal normal 400 normal>) = 10.05\n",
      "2020-09-22 12:20:47,526 findfont: score(<Font 'Hiragino Sans' (ヒラギノ角ゴシック W5.ttc) normal normal 700 normal>) = 10.335\n",
      "2020-09-22 12:20:47,529 findfont: score(<Font 'Noto Sans Javanese' (NotoSansJavanese-Regular.otf) normal normal regular normal>) = 10.05\n",
      "2020-09-22 12:20:47,530 findfont: score(<Font 'Al Tarikh' (Al Tarikh.ttc) normal normal regular normal>) = 10.05\n",
      "2020-09-22 12:20:47,532 findfont: score(<Font 'Serto Batnan' (SyrCOMBatnanBold.otf) normal normal 700 normal>) = 10.335\n",
      "2020-09-22 12:20:47,534 findfont: score(<Font '.SF Compact Rounded' (SFCompactRounded.ttf) normal normal 400 normal>) = 10.05\n",
      "2020-09-22 12:20:47,536 findfont: score(<Font 'STIXSizeTwoSym' (STIXSizTwoSymBol.otf) normal normal 700 normal>) = 10.335\n",
      "2020-09-22 12:20:47,537 findfont: score(<Font 'Trebuchet MS' (Trebuchet MS Bold.ttf) normal normal 700 normal>) = 10.335\n",
      "2020-09-22 12:20:47,539 findfont: score(<Font 'Noteworthy' (Noteworthy.ttc) normal normal light normal>) = 10.24\n",
      "2020-09-22 12:20:47,543 findfont: score(<Font '.SF NS Display Condensed' (SFNSDisplayCondensed-Regular.otf) normal normal regular condensed>) = 10.25\n",
      "2020-09-22 12:20:47,548 findfont: score(<Font 'PT Serif Caption' (PTSerifCaption.ttc) normal normal 400 normal>) = 10.05\n",
      "2020-09-22 12:20:47,552 findfont: score(<Font '.Arabic UI Display' (ArabicUIDisplay.ttc) normal normal black normal>) = 10.525\n",
      "2020-09-22 12:20:47,555 findfont: score(<Font '.SF Compact Text' (SFCompactTextItalic.ttf) italic normal 400 normal>) = 11.05\n",
      "2020-09-22 12:20:47,559 findfont: score(<Font 'Estrangelo Talada' (SyrCOMTalada.otf) normal normal 400 normal>) = 10.05\n",
      "2020-09-22 12:20:47,562 findfont: score(<Font 'Apple SD Gothic Neo' (AppleSDGothicNeo.ttc) normal normal regular normal>) = 10.05\n",
      "2020-09-22 12:20:47,565 findfont: score(<Font '.Helvetica Neue DeskInterface' (HelveticaNeueDeskInterface.ttc) normal normal regular normal>) = 10.05\n",
      "2020-09-22 12:20:47,567 findfont: score(<Font 'Heiti TC' (STHeiti Medium.ttc) normal normal 700 normal>) = 10.335\n",
      "2020-09-22 12:20:47,568 findfont: score(<Font 'Bangla Sangam MN' (Bangla Sangam MN.ttc) normal normal 400 normal>) = 10.05\n",
      "2020-09-22 12:20:47,570 findfont: score(<Font 'Sinhala Sangam MN' (Sinhala Sangam MN.ttc) normal normal 400 normal>) = 10.05\n",
      "2020-09-22 12:20:47,572 findfont: score(<Font '.SF NS Display Condensed' (SFNSDisplayCondensed-Heavy.otf) normal normal heavy condensed>) = 10.629999999999999\n",
      "2020-09-22 12:20:47,573 findfont: score(<Font 'STIXGeneral' (STIXGeneral.otf) normal normal regular normal>) = 10.05\n",
      "2020-09-22 12:20:47,575 findfont: score(<Font 'Serto Jerusalem' (SyrCOMJerusalemItalic.otf) italic normal 400 normal>) = 11.05\n",
      "2020-09-22 12:20:47,578 findfont: score(<Font 'New Peninim MT' (NewPeninimMT.ttc) normal normal 400 normal>) = 10.05\n",
      "2020-09-22 12:20:47,579 findfont: score(<Font 'STIXSizeFourSym' (STIXSizFourSymBol.otf) normal normal 700 normal>) = 10.335\n",
      "2020-09-22 12:20:47,581 findfont: score(<Font 'Luxi Mono' (luximb.ttf) normal normal 700 normal>) = 10.335\n",
      "2020-09-22 12:20:47,589 findfont: score(<Font 'InaiMathi' (InaiMathi-MN.ttc) normal normal 400 normal>) = 10.05\n",
      "2020-09-22 12:20:47,605 findfont: score(<Font 'DecoType Naskh' (DecoTypeNaskh.ttc) normal normal regular normal>) = 10.05\n",
      "2020-09-22 12:20:47,608 findfont: score(<Font 'Al Bayan' (AlBayan.ttc) normal normal 400 normal>) = 10.05\n",
      "2020-09-22 12:20:47,611 findfont: score(<Font 'Gill Sans' (GillSans.ttc) normal normal 400 normal>) = 10.05\n",
      "2020-09-22 12:20:47,613 findfont: score(<Font 'Luminari' (Luminari.ttf) normal normal 400 normal>) = 10.05\n",
      "2020-09-22 12:20:47,615 findfont: score(<Font 'Noto Sans Lydian' (NotoSansLydian-Regular.ttf) normal normal regular normal>) = 10.05\n"
     ]
    },
    {
     "name": "stderr",
     "output_type": "stream",
     "text": [
      "2020-09-22 12:20:47,618 findfont: score(<Font 'Hiragino Sans' (ヒラギノ角ゴシック W0.ttc) normal normal 400 normal>) = 10.05\n",
      "2020-09-22 12:20:47,619 findfont: score(<Font 'Georgia' (Georgia Bold.ttf) normal normal 700 normal>) = 10.335\n",
      "2020-09-22 12:20:47,621 findfont: score(<Font 'Heiti TC' (STHeiti Light.ttc) normal normal light normal>) = 10.24\n",
      "2020-09-22 12:20:47,622 findfont: score(<Font 'PT Sans' (PTSans.ttc) normal normal 400 normal>) = 10.05\n",
      "2020-09-22 12:20:47,625 findfont: score(<Font 'STIXSizeOneSym' (STIXSizOneSymBol.otf) normal normal 700 normal>) = 10.335\n",
      "2020-09-22 12:20:47,642 findfont: score(<Font '.SF NS Text Condensed' (SFNSTextCondensed-Semibold.otf) normal normal semibold condensed>) = 10.44\n",
      "2020-09-22 12:20:47,645 findfont: score(<Font 'Zapfino' (Zapfino.ttf) normal normal 400 normal>) = 10.05\n",
      "2020-09-22 12:20:47,646 findfont: score(<Font 'Skia' (Skia.ttf) normal normal 400 normal>) = 10.05\n",
      "2020-09-22 12:20:47,648 findfont: score(<Font 'Trebuchet MS' (Trebuchet MS Italic.ttf) italic normal 400 normal>) = 11.05\n",
      "2020-09-22 12:20:47,650 findfont: score(<Font 'Euphemia UCAS' (EuphemiaCAS.ttc) normal normal 400 normal>) = 10.05\n",
      "2020-09-22 12:20:47,651 findfont: score(<Font 'Superclarendon' (SuperClarendon.ttc) normal normal regular normal>) = 10.05\n",
      "2020-09-22 12:20:47,653 findfont: score(<Font 'Symbol' (Symbol.ttf) normal normal 400 normal>) = 10.05\n",
      "2020-09-22 12:20:47,655 findfont: score(<Font 'Apple Braille' (Apple Braille.ttf) normal normal 400 normal>) = 10.05\n",
      "2020-09-22 12:20:47,657 findfont: score(<Font 'Gurmukhi MT' (Gurmukhi.ttf) normal normal 400 normal>) = 10.05\n",
      "2020-09-22 12:20:47,660 findfont: score(<Font 'Noto Sans Kannada' (NotoSansKannada.ttc) normal normal black normal>) = 10.525\n",
      "2020-09-22 12:20:47,661 findfont: score(<Font 'Noto Sans Tai Tham' (NotoSansTaiTham-Regular.ttf) normal normal 400 normal>) = 10.05\n",
      "2020-09-22 12:20:47,663 findfont: score(<Font '.Aqua Kana' (AquaKana.ttc) normal normal 400 normal>) = 10.05\n",
      "2020-09-22 12:20:47,666 findfont: score(<Font 'Luxi Sans' (luxisri.ttf) oblique normal 400 normal>) = 11.05\n",
      "2020-09-22 12:20:47,700 findfont: score(<Font 'Farah' (Farah.ttc) normal normal regular normal>) = 10.05\n",
      "2020-09-22 12:20:47,702 findfont: score(<Font 'Estrangelo Nisibin Outline' (SyrCOMNisibinOutline.otf) normal normal 400 normal>) = 10.05\n",
      "2020-09-22 12:20:47,703 findfont: score(<Font '.New York' (NewYork.ttf) normal normal 400 normal>) = 10.05\n",
      "2020-09-22 12:20:47,706 findfont: score(<Font '.SF NS Rounded' (SFNSRounded.ttf) normal normal 400 normal>) = 10.05\n",
      "2020-09-22 12:20:47,707 findfont: score(<Font 'Bangla MN' (Bangla MN.ttc) normal normal 400 normal>) = 10.05\n",
      "2020-09-22 12:20:47,736 findfont: score(<Font 'Diwan Thuluth' (Diwan Thuluth.ttf) normal normal regular normal>) = 10.05\n",
      "2020-09-22 12:20:47,739 findfont: score(<Font '.LastResort' (LastResort.otf) normal normal 400 normal>) = 10.05\n",
      "2020-09-22 12:20:47,745 findfont: score(<Font 'Lao MN' (Lao MN.ttc) normal normal 400 normal>) = 10.05\n",
      "2020-09-22 12:20:47,752 findfont: score(<Font 'STIXVariants' (STIXVar.otf) normal normal regular normal>) = 10.05\n",
      "2020-09-22 12:20:47,773 findfont: score(<Font 'Webdings' (Webdings.ttf) normal normal 400 normal>) = 10.05\n",
      "2020-09-22 12:20:47,776 findfont: score(<Font '.SF NS Display Condensed' (SFNSDisplayCondensed-Medium.otf) normal normal medium condensed>) = 10.344999999999999\n",
      "2020-09-22 12:20:47,780 findfont: score(<Font 'Arial Hebrew' (ArialHB.ttc) normal normal 400 normal>) = 10.05\n",
      "2020-09-22 12:20:47,784 findfont: score(<Font 'Arial' (Arial.ttf) normal normal 400 normal>) = 0.05\n",
      "2020-09-22 12:20:47,786 findfont: score(<Font 'Serto Jerusalem Outline' (SyrCOMJerusalemOutline.otf) normal normal 400 normal>) = 10.05\n",
      "2020-09-22 12:20:47,788 findfont: score(<Font 'Savoye LET' (Savoye LET.ttc) normal normal 400 normal>) = 10.05\n",
      "2020-09-22 12:20:47,790 findfont: score(<Font 'American Typewriter' (AmericanTypewriter.ttc) normal normal 400 normal>) = 10.05\n",
      "2020-09-22 12:20:47,793 findfont: score(<Font 'Luxi Sans' (luxisbi.ttf) oblique normal 700 normal>) = 11.335\n",
      "2020-09-22 12:20:47,796 findfont: score(<Font '.SF NS Display Condensed' (SFNSDisplayCondensed-Semibold.otf) normal normal semibold condensed>) = 10.44\n",
      "2020-09-22 12:20:47,799 findfont: score(<Font 'Gujarati MT' (GujaratiMT.ttc) normal normal 400 normal>) = 10.05\n",
      "2020-09-22 12:20:47,804 findfont: score(<Font 'Arial Narrow' (Arial Narrow Bold.ttf) normal normal 700 condensed>) = 10.535\n",
      "2020-09-22 12:20:47,809 findfont: score(<Font 'Georgia' (Georgia Italic.ttf) italic normal 400 normal>) = 11.05\n",
      "2020-09-22 12:20:47,812 findfont: score(<Font 'STIXIntegralsUpD' (STIXIntUpDReg.otf) normal normal regular normal>) = 10.05\n",
      "2020-09-22 12:20:47,816 findfont: score(<Font 'Arial' (Arial Bold Italic.ttf) italic normal 700 normal>) = 1.335\n",
      "2020-09-22 12:20:47,820 findfont: score(<Font 'Wingdings 2' (Wingdings 2.ttf) normal normal 400 normal>) = 10.05\n",
      "2020-09-22 12:20:47,823 findfont: score(<Font 'Noto Sans Carian' (NotoSansCarian-Regular.ttf) normal normal regular normal>) = 10.05\n",
      "2020-09-22 12:20:47,826 findfont: score(<Font 'STIXIntegralsUp' (STIXIntUpReg.otf) normal normal regular normal>) = 10.05\n",
      "2020-09-22 12:20:47,828 findfont: score(<Font 'Noto Sans Shavian' (NotoSansShavian-Regular.ttf) normal normal regular normal>) = 10.05\n",
      "2020-09-22 12:20:47,830 findfont: score(<Font 'STIXIntegralsUpSm' (STIXIntUpSmReg.otf) normal normal regular normal>) = 10.05\n",
      "2020-09-22 12:20:47,833 findfont: score(<Font 'Noto Sans Buhid' (NotoSansBuhid-Regular.ttf) normal normal regular normal>) = 10.05\n",
      "2020-09-22 12:20:47,840 findfont: score(<Font 'Thonburi' (Thonburi.ttc) normal normal 400 normal>) = 10.05\n",
      "2020-09-22 12:20:47,843 findfont: score(<Font 'Kohinoor Bangla' (KohinoorBangla.ttc) normal normal 400 normal>) = 10.05\n",
      "2020-09-22 12:20:47,846 findfont: score(<Font 'Plantagenet Cherokee' (PlantagenetCherokee.ttf) normal normal 400 normal>) = 10.05\n",
      "2020-09-22 12:20:47,849 findfont: score(<Font 'Al Nile' (Al Nile.ttc) normal normal 400 normal>) = 10.05\n",
      "2020-09-22 12:20:47,852 findfont: score(<Font 'Courier New' (Courier New Bold Italic.ttf) italic normal 700 normal>) = 11.335\n",
      "2020-09-22 12:20:47,854 findfont: score(<Font 'Noto Sans PhagsPa' (NotoSansPhagsPa-Regular.ttf) normal normal regular normal>) = 10.05\n",
      "2020-09-22 12:20:47,855 findfont: score(<Font 'Apple Braille' (Apple Braille Outline 6 Dot.ttf) normal normal 400 normal>) = 10.05\n",
      "2020-09-22 12:20:47,860 findfont: score(<Font 'Galvji' (Galvji.ttc) normal normal 400 normal>) = 10.05\n",
      "2020-09-22 12:20:47,863 findfont: score(<Font 'Optima' (Optima.ttc) normal normal regular normal>) = 10.05\n",
      "2020-09-22 12:20:47,866 findfont: score(<Font 'ITF Devanagari' (ITFDevanagari.ttc) normal normal book normal>) = 10.05\n",
      "2020-09-22 12:20:47,868 findfont: score(<Font 'Noto Sans Thaana' (NotoSansThaana-Regular.ttf) normal normal regular normal>) = 10.05\n",
      "2020-09-22 12:20:47,871 findfont: score(<Font 'Arial Unicode MS' (Arial Unicode.ttf) normal normal 400 normal>) = 10.05\n",
      "2020-09-22 12:20:47,872 findfont: score(<Font 'Arial' (Arial Italic.ttf) italic normal 400 normal>) = 1.05\n",
      "2020-09-22 12:20:47,876 findfont: score(<Font 'Lao Sangam MN' (Lao Sangam MN.ttf) normal normal 400 normal>) = 10.05\n",
      "2020-09-22 12:20:47,879 findfont: score(<Font 'Noto Sans Ol Chiki' (NotoSansOlChiki-Regular.ttf) normal normal regular normal>) = 10.05\n",
      "2020-09-22 12:20:47,881 findfont: score(<Font 'Trebuchet MS' (Trebuchet MS.ttf) normal normal 400 normal>) = 10.05\n",
      "2020-09-22 12:20:47,884 findfont: score(<Font 'Times New Roman' (Times New Roman Italic.ttf) italic normal roman normal>) = 11.145\n",
      "2020-09-22 12:20:47,886 findfont: score(<Font 'Myanmar MN' (Myanmar MN.ttc) normal normal 400 normal>) = 10.05\n",
      "2020-09-22 12:20:47,888 findfont: score(<Font 'Avenir Next' (Avenir Next.ttc) normal normal 700 normal>) = 10.335\n",
      "2020-09-22 12:20:47,890 findfont: score(<Font 'Estrangelo Midyat' (SyrCOMMidyat.otf) normal normal 400 normal>) = 10.05\n",
      "2020-09-22 12:20:47,891 findfont: score(<Font 'AppleMyungjo' (AppleMyungjo.ttf) normal normal regular normal>) = 10.05\n",
      "2020-09-22 12:20:47,895 findfont: score(<Font 'Kannada MN' (Kannada MN.ttc) normal normal 400 normal>) = 10.05\n",
      "2020-09-22 12:20:47,897 findfont: score(<Font '.Keyboard' (Keyboard.ttf) normal normal 400 normal>) = 10.05\n"
     ]
    },
    {
     "name": "stderr",
     "output_type": "stream",
     "text": [
      "2020-09-22 12:20:47,900 findfont: score(<Font 'Lucida Grande' (LucidaGrande.ttc) normal normal 400 normal>) = 10.05\n",
      "2020-09-22 12:20:47,905 findfont: score(<Font 'Noto Sans Myanmar' (NotoSansMyanmar.ttc) normal normal black normal>) = 10.525\n",
      "2020-09-22 12:20:47,907 findfont: score(<Font 'Myanmar Sangam MN' (Myanmar Sangam MN.ttc) normal normal 400 normal>) = 10.05\n",
      "2020-09-22 12:20:47,910 findfont: score(<Font 'Diwan Kufi' (Diwan Kufi.ttc) normal normal regular normal>) = 10.05\n",
      "2020-09-22 12:20:47,913 findfont: score(<Font 'Bitstream Vera Sans' (Vera.ttf) normal normal 400 normal>) = 6.05\n",
      "2020-09-22 12:20:47,914 findfont: score(<Font '.SF NS Text Condensed' (SFNSTextCondensed-Regular.otf) normal normal regular condensed>) = 10.25\n",
      "2020-09-22 12:20:47,915 findfont: score(<Font 'Impact' (Impact.ttf) normal normal 400 normal>) = 10.05\n",
      "2020-09-22 12:20:47,917 findfont: score(<Font 'Noto Nastaliq Urdu' (NotoNastaliq.ttc) normal normal 400 normal>) = 10.05\n",
      "2020-09-22 12:20:47,922 findfont: score(<Font 'Noto Sans Vai' (NotoSansVai-Regular.ttf) normal normal regular normal>) = 10.05\n",
      "2020-09-22 12:20:47,928 findfont: score(<Font 'Arial Black' (Arial Black.ttf) normal normal black normal>) = 10.525\n",
      "2020-09-22 12:20:47,930 findfont: score(<Font 'Serto Jerusalem' (SyrCOMJerusalem.otf) normal normal 400 normal>) = 10.05\n",
      "2020-09-22 12:20:47,933 findfont: score(<Font 'STIXGeneral' (STIXGeneralItalic.otf) italic normal 400 normal>) = 11.05\n",
      "2020-09-22 12:20:47,934 findfont: score(<Font 'Corsiva Hebrew' (Corsiva.ttc) normal normal 400 normal>) = 10.05\n",
      "2020-09-22 12:20:47,937 findfont: score(<Font 'Waseem' (Waseem.ttc) normal normal regular normal>) = 10.05\n",
      "2020-09-22 12:20:47,939 findfont: score(<Font '.SF NS Display Condensed' (SFNSDisplayCondensed-Ultralight.otf) normal normal ultralight condensed>) = 10.535\n",
      "2020-09-22 12:20:47,969 findfont: score(<Font 'Verdana' (Verdana Bold.ttf) normal normal 700 normal>) = 10.335\n",
      "2020-09-22 12:20:47,981 findfont: score(<Font 'Muna' (Muna.ttc) normal normal regular normal>) = 10.05\n",
      "2020-09-22 12:20:47,983 findfont: score(<Font 'Noto Sans Inscriptional Parthian' (NotoSansInscriptionalParthian-Regular.ttf) normal normal regular normal>) = 10.05\n",
      "2020-09-22 12:20:47,988 findfont: score(<Font 'Hiragino Sans' (ヒラギノ角ゴシック W6.ttc) normal normal 700 normal>) = 10.335\n",
      "2020-09-22 12:20:47,997 findfont: score(<Font 'PingFang HK' (PingFang.ttc) normal normal regular normal>) = 10.05\n",
      "2020-09-22 12:20:48,001 findfont: score(<Font 'Noto Sans Rejang' (NotoSansRejang-Regular.ttf) normal normal regular normal>) = 10.05\n",
      "2020-09-22 12:20:48,003 findfont: score(<Font 'Noto Sans Cuneiform' (NotoSansCuneiform-Regular.ttf) normal normal regular normal>) = 10.05\n",
      "2020-09-22 12:20:48,006 findfont: score(<Font '.SF NS Text Condensed' (SFNSTextCondensed-Bold.otf) normal normal bold condensed>) = 10.535\n",
      "2020-09-22 12:20:48,008 findfont: score(<Font 'Baghdad' (Baghdad.ttc) normal normal regular normal>) = 10.05\n",
      "2020-09-22 12:20:48,010 findfont: score(<Font 'Palatino' (Palatino.ttc) normal normal 400 normal>) = 10.05\n",
      "2020-09-22 12:20:48,013 findfont: score(<Font 'Wingdings 3' (Wingdings 3.ttf) normal normal 400 normal>) = 10.05\n",
      "2020-09-22 12:20:48,017 findfont: score(<Font 'Courier New' (Courier New Italic.ttf) italic normal 400 normal>) = 11.05\n",
      "2020-09-22 12:20:48,020 findfont: score(<Font 'Helvetica' (Helvetica.ttc) normal normal 400 normal>) = 10.05\n",
      "2020-09-22 12:20:48,023 findfont: score(<Font 'Mukta Mahee' (MuktaMahee.ttc) normal normal regular normal>) = 10.05\n",
      "2020-09-22 12:20:48,026 findfont: score(<Font 'STIXNonUnicode' (STIXNonUniBolIta.otf) italic normal 700 normal>) = 11.335\n",
      "2020-09-22 12:20:48,029 findfont: score(<Font 'STIXSizeTwoSym' (STIXSizTwoSymReg.otf) normal normal regular normal>) = 10.05\n",
      "2020-09-22 12:20:48,035 findfont: score(<Font 'Copperplate' (Copperplate.ttc) normal normal 400 normal>) = 10.05\n",
      "2020-09-22 12:20:48,038 findfont: score(<Font 'Noto Sans New Tai Lue' (NotoSansNewTaiLue-Regular.ttf) normal normal regular normal>) = 10.05\n",
      "2020-09-22 12:20:48,040 findfont: score(<Font 'Oriya Sangam MN' (Oriya Sangam MN.ttc) normal normal 400 normal>) = 10.05\n",
      "2020-09-22 12:20:48,042 findfont: score(<Font 'Cochin' (Cochin.ttc) normal normal 400 normal>) = 10.05\n",
      "2020-09-22 12:20:48,044 findfont: score(<Font 'Noto Sans Avestan' (NotoSansAvestan-Regular.ttf) normal normal regular normal>) = 10.05\n",
      "2020-09-22 12:20:48,047 findfont: score(<Font 'Noto Sans Buginese' (NotoSansBuginese-Regular.ttf) normal normal regular normal>) = 10.05\n",
      "2020-09-22 12:20:48,050 findfont: score(<Font 'Brush Script MT' (Brush Script.ttf) italic normal 400 normal>) = 11.05\n",
      "2020-09-22 12:20:48,053 findfont: score(<Font '.Arabic UI Text' (ArabicUIText.ttc) normal normal regular normal>) = 10.05\n",
      "2020-09-22 12:20:48,054 findfont: score(<Font 'Devanagari MT' (DevanagariMT.ttc) normal normal 400 normal>) = 10.05\n",
      "2020-09-22 12:20:48,057 findfont: score(<Font 'Goha-Tibeb Zemen' (GohaTibebZemen.otf) normal normal 400 normal>) = 10.05\n",
      "2020-09-22 12:20:48,062 findfont: score(<Font 'Bitstream Vera Sans Mono' (VeraMoBd.ttf) normal normal 700 normal>) = 10.335\n",
      "2020-09-22 12:20:48,066 findfont: score(<Font 'STIXNonUnicode' (STIXNonUniIta.otf) italic normal 400 normal>) = 11.05\n",
      "2020-09-22 12:20:48,072 findfont: score(<Font 'Bitstream Vera Sans Mono' (VeraMono.ttf) normal normal 400 normal>) = 10.05\n",
      "2020-09-22 12:20:48,078 findfont: score(<Font 'Didot' (Didot.ttc) normal normal 400 normal>) = 10.05\n",
      "2020-09-22 12:20:48,080 findfont: score(<Font 'Chalkduster' (Chalkduster.ttf) normal normal 400 normal>) = 10.05\n",
      "2020-09-22 12:20:48,083 findfont: score(<Font 'Noto Sans Tai Le' (NotoSansTaiLe-Regular.ttf) normal normal regular normal>) = 10.05\n",
      "2020-09-22 12:20:48,084 findfont: score(<Font 'STIXGeneral' (STIXGeneralBolIta.otf) italic normal 700 normal>) = 11.335\n",
      "2020-09-22 12:20:48,087 findfont: score(<Font 'Hiragino Sans' (ヒラギノ角ゴシック W4.ttc) normal normal 400 normal>) = 10.05\n",
      "2020-09-22 12:20:48,089 findfont: score(<Font 'Verdana' (Verdana Italic.ttf) italic normal 400 normal>) = 11.05\n",
      "2020-09-22 12:20:48,094 findfont: score(<Font 'Tamil Sangam MN' (Tamil Sangam MN.ttc) normal normal 400 normal>) = 10.05\n",
      "2020-09-22 12:20:48,098 findfont: score(<Font '.SF NS Mono' (SFNSMonoItalic.ttf) italic normal light normal>) = 11.24\n",
      "2020-09-22 12:20:48,100 findfont: score(<Font '.New York' (NewYorkItalic.ttf) italic normal 400 normal>) = 11.05\n",
      "2020-09-22 12:20:48,102 findfont: score(<Font 'Hiragino Sans' (ヒラギノ角ゴシック W3.ttc) normal normal 400 normal>) = 10.05\n",
      "2020-09-22 12:20:48,104 findfont: score(<Font 'Times' (Times.ttc) normal normal roman normal>) = 10.145\n",
      "2020-09-22 12:20:48,110 findfont: score(<Font 'Comic Sans MS' (Comic Sans MS Bold.ttf) normal normal 700 normal>) = 10.335\n",
      "2020-09-22 12:20:48,114 findfont: score(<Font 'Noto Sans Coptic' (NotoSansCoptic-Regular.ttf) normal normal regular normal>) = 10.05\n",
      "2020-09-22 12:20:48,118 findfont: score(<Font 'Hiragino Sans GB' (Hiragino Sans GB.ttc) normal normal 400 normal>) = 10.05\n",
      "2020-09-22 12:20:48,121 findfont: score(<Font '.SF Compact Text' (SFCompactText.ttf) normal normal 400 normal>) = 10.05\n",
      "2020-09-22 12:20:48,123 findfont: score(<Font 'Goha-Tibeb Zemen' (GohaTibebZemen.ttf) normal normal 400 normal>) = 10.05\n",
      "2020-09-22 12:20:48,125 findfont: score(<Font 'Serto Mardin' (SyrCOMMardinBold.otf) normal normal 700 normal>) = 10.335\n",
      "2020-09-22 12:20:48,127 findfont: score(<Font 'Sana' (Sana.ttc) normal normal regular normal>) = 10.05\n",
      "2020-09-22 12:20:48,129 findfont: score(<Font 'Noto Sans Tai Viet' (NotoSansTaiViet-Regular.ttf) normal normal regular normal>) = 10.05\n",
      "2020-09-22 12:20:48,131 findfont: score(<Font 'Noto Sans Brahmi' (NotoSansBrahmi-Regular.ttf) normal normal regular normal>) = 10.05\n",
      "2020-09-22 12:20:48,133 findfont: score(<Font 'Sinhala MN' (Sinhala MN.ttc) normal normal 400 normal>) = 10.05\n",
      "2020-09-22 12:20:48,135 findfont: score(<Font 'Iowan Old Style' (Iowan Old Style.ttc) normal normal roman normal>) = 10.145\n",
      "2020-09-22 12:20:48,138 findfont: score(<Font 'Kohinoor Gujarati' (KohinoorGujarati.ttc) normal normal bold normal>) = 10.335\n",
      "2020-09-22 12:20:48,139 findfont: score(<Font 'Times New Roman' (Times New Roman Bold.ttf) normal normal 700 normal>) = 10.335\n"
     ]
    },
    {
     "name": "stderr",
     "output_type": "stream",
     "text": [
      "2020-09-22 12:20:48,141 findfont: score(<Font 'Noto Sans Oriya' (NotoSansOriya.ttc) normal normal 400 normal>) = 10.05\n",
      "2020-09-22 12:20:48,144 findfont: score(<Font 'Marion' (Marion.ttc) normal normal regular normal>) = 10.05\n",
      "2020-09-22 12:20:48,149 findfont: Matching sans\\-serif:style=normal:variant=normal:weight=normal:stretch=normal:size=11.0 to Arial ('/System/Library/Fonts/Supplemental/Arial.ttf') with score of 0.050000.\n",
      "2020-09-22 12:20:48,199 findfont: Matching sans\\-serif:style=normal:variant=normal:weight=normal:stretch=normal:size=12.0.\n",
      "2020-09-22 12:20:48,231 findfont: score(<Font 'DejaVu Sans Display' (DejaVuSansDisplay.ttf) normal normal 400 normal>) = 10.05\n",
      "2020-09-22 12:20:48,234 findfont: score(<Font 'STIXGeneral' (STIXGeneral.ttf) normal normal regular normal>) = 10.05\n",
      "2020-09-22 12:20:48,246 findfont: score(<Font 'DejaVu Sans' (DejaVuSans.ttf) normal normal 400 normal>) = 2.05\n",
      "2020-09-22 12:20:48,250 findfont: score(<Font 'STIXNonUnicode' (STIXNonUniIta.ttf) italic normal 400 normal>) = 11.05\n",
      "2020-09-22 12:20:48,252 findfont: score(<Font 'STIXGeneral' (STIXGeneralItalic.ttf) italic normal 400 normal>) = 11.05\n",
      "2020-09-22 12:20:48,257 findfont: score(<Font 'DejaVu Sans' (DejaVuSans-Oblique.ttf) oblique normal 400 normal>) = 3.05\n",
      "2020-09-22 12:20:48,260 findfont: score(<Font 'DejaVu Serif' (DejaVuSerif-BoldItalic.ttf) italic normal 700 normal>) = 11.335\n",
      "2020-09-22 12:20:48,262 findfont: score(<Font 'STIXSizeThreeSym' (STIXSizThreeSymReg.ttf) normal normal regular normal>) = 10.05\n",
      "2020-09-22 12:20:48,266 findfont: score(<Font 'DejaVu Serif' (DejaVuSerif-Bold.ttf) normal normal 700 normal>) = 10.335\n",
      "2020-09-22 12:20:48,269 findfont: score(<Font 'cmmi10' (cmmi10.ttf) normal normal 400 normal>) = 10.05\n",
      "2020-09-22 12:20:48,271 findfont: score(<Font 'STIXNonUnicode' (STIXNonUniBol.ttf) normal normal 700 normal>) = 10.335\n",
      "2020-09-22 12:20:48,275 findfont: score(<Font 'DejaVu Sans Mono' (DejaVuSansMono.ttf) normal normal 400 normal>) = 10.05\n",
      "2020-09-22 12:20:48,278 findfont: score(<Font 'DejaVu Sans Mono' (DejaVuSansMono-Oblique.ttf) oblique normal 400 normal>) = 11.05\n",
      "2020-09-22 12:20:48,283 findfont: score(<Font 'DejaVu Serif' (DejaVuSerif.ttf) normal normal 400 normal>) = 10.05\n",
      "2020-09-22 12:20:48,290 findfont: score(<Font 'STIXNonUnicode' (STIXNonUni.ttf) normal normal regular normal>) = 10.05\n",
      "2020-09-22 12:20:48,295 findfont: score(<Font 'STIXSizeFourSym' (STIXSizFourSymBol.ttf) normal normal 700 normal>) = 10.335\n",
      "2020-09-22 12:20:48,298 findfont: score(<Font 'STIXSizeTwoSym' (STIXSizTwoSymReg.ttf) normal normal regular normal>) = 10.05\n",
      "2020-09-22 12:20:48,300 findfont: score(<Font 'cmex10' (cmex10.ttf) normal normal 400 normal>) = 10.05\n",
      "2020-09-22 12:20:48,304 findfont: score(<Font 'STIXGeneral' (STIXGeneralBol.ttf) normal normal 700 normal>) = 10.335\n",
      "2020-09-22 12:20:48,308 findfont: score(<Font 'STIXNonUnicode' (STIXNonUniBolIta.ttf) italic normal 700 normal>) = 11.335\n",
      "2020-09-22 12:20:48,311 findfont: score(<Font 'STIXSizeFourSym' (STIXSizFourSymReg.ttf) normal normal regular normal>) = 10.05\n",
      "2020-09-22 12:20:48,314 findfont: score(<Font 'cmss10' (cmss10.ttf) normal normal 400 normal>) = 10.05\n",
      "2020-09-22 12:20:48,315 findfont: score(<Font 'STIXSizeOneSym' (STIXSizOneSymBol.ttf) normal normal 700 normal>) = 10.335\n",
      "2020-09-22 12:20:48,321 findfont: score(<Font 'STIXSizeThreeSym' (STIXSizThreeSymBol.ttf) normal normal 700 normal>) = 10.335\n",
      "2020-09-22 12:20:48,323 findfont: score(<Font 'cmtt10' (cmtt10.ttf) normal normal 400 normal>) = 10.05\n",
      "2020-09-22 12:20:48,326 findfont: score(<Font 'cmb10' (cmb10.ttf) normal normal 400 normal>) = 10.05\n",
      "2020-09-22 12:20:48,329 findfont: score(<Font 'DejaVu Sans Mono' (DejaVuSansMono-BoldOblique.ttf) oblique normal 700 normal>) = 11.335\n",
      "2020-09-22 12:20:48,331 findfont: score(<Font 'DejaVu Sans' (DejaVuSans-BoldOblique.ttf) oblique normal 700 normal>) = 3.335\n",
      "2020-09-22 12:20:48,332 findfont: score(<Font 'STIXGeneral' (STIXGeneralBolIta.ttf) italic normal 700 normal>) = 11.335\n",
      "2020-09-22 12:20:48,335 findfont: score(<Font 'STIXSizeOneSym' (STIXSizOneSymReg.ttf) normal normal regular normal>) = 10.05\n",
      "2020-09-22 12:20:48,338 findfont: score(<Font 'STIXSizeFiveSym' (STIXSizFiveSymReg.ttf) normal normal regular normal>) = 10.05\n",
      "2020-09-22 12:20:48,352 findfont: score(<Font 'DejaVu Sans' (DejaVuSans-Bold.ttf) normal normal 700 normal>) = 2.335\n",
      "2020-09-22 12:20:48,355 findfont: score(<Font 'DejaVu Serif Display' (DejaVuSerifDisplay.ttf) normal normal 400 normal>) = 10.05\n",
      "2020-09-22 12:20:48,367 findfont: score(<Font 'cmr10' (cmr10.ttf) normal normal 400 normal>) = 10.05\n",
      "2020-09-22 12:20:48,369 findfont: score(<Font 'DejaVu Sans Mono' (DejaVuSansMono-Bold.ttf) normal normal 700 normal>) = 10.335\n",
      "2020-09-22 12:20:48,370 findfont: score(<Font 'STIXSizeTwoSym' (STIXSizTwoSymBol.ttf) normal normal 700 normal>) = 10.335\n",
      "2020-09-22 12:20:48,372 findfont: score(<Font 'cmsy10' (cmsy10.ttf) normal normal 400 normal>) = 10.05\n",
      "2020-09-22 12:20:48,373 findfont: score(<Font 'DejaVu Serif' (DejaVuSerif-Italic.ttf) italic normal 400 normal>) = 11.05\n",
      "2020-09-22 12:20:48,375 findfont: score(<Font 'Estrangelo Antioch' (SyrCOMAntioch.otf) normal normal 400 normal>) = 10.05\n",
      "2020-09-22 12:20:48,379 findfont: score(<Font 'STIXIntegralsSm' (STIXIntSmReg.otf) normal normal regular normal>) = 10.05\n",
      "2020-09-22 12:20:48,416 findfont: score(<Font 'Rockwell' (Rockwell.ttc) normal normal 400 normal>) = 10.05\n",
      "2020-09-22 12:20:48,421 findfont: score(<Font 'Phosphate' (Phosphate.ttc) normal normal 400 normal>) = 10.05\n",
      "2020-09-22 12:20:48,423 findfont: score(<Font 'STIXSizeFiveSym' (STIXSizFiveSymReg.otf) normal normal regular normal>) = 10.05\n",
      "2020-09-22 12:20:48,428 findfont: score(<Font 'STIXSizeOneSym' (STIXSizOneSymReg.otf) normal normal regular normal>) = 10.05\n",
      "2020-09-22 12:20:48,436 findfont: score(<Font 'Hiragino Sans' (ヒラギノ角ゴシック W2.ttc) normal normal 400 normal>) = 10.05\n",
      "2020-09-22 12:20:48,439 findfont: score(<Font 'System Font' (SFNS.ttf) normal normal 400 normal>) = 10.05\n",
      "2020-09-22 12:20:48,441 findfont: score(<Font 'Noto Sans Bamum' (NotoSansBamum-Regular.ttf) normal normal regular normal>) = 10.05\n",
      "2020-09-22 12:20:48,451 findfont: score(<Font '.SF NS Text Condensed' (SFNSTextCondensed-Heavy.otf) normal normal heavy condensed>) = 10.629999999999999\n",
      "2020-09-22 12:20:48,455 findfont: score(<Font 'Hiragino Sans' (ヒラギノ角ゴシック W9.ttc) normal normal 700 normal>) = 10.335\n",
      "2020-09-22 12:20:48,458 findfont: score(<Font 'Hiragino Sans' (ヒラギノ角ゴシック W1.ttc) normal normal 400 normal>) = 10.05\n",
      "2020-09-22 12:20:48,461 findfont: score(<Font 'Noto Sans Saurashtra' (NotoSansSaurashtra-Regular.ttf) normal normal regular normal>) = 10.05\n",
      "2020-09-22 12:20:48,469 findfont: score(<Font 'Arial Narrow' (Arial Narrow.ttf) normal normal 400 condensed>) = 10.25\n",
      "2020-09-22 12:20:48,473 findfont: score(<Font 'Luxi Mono' (luximbi.ttf) oblique normal 700 normal>) = 11.335\n",
      "2020-09-22 12:20:48,477 findfont: score(<Font 'Serto Kharput' (SyrCOMKharput.otf) normal normal 400 normal>) = 10.05\n",
      "2020-09-22 12:20:48,481 findfont: score(<Font 'Noto Sans Egyptian Hieroglyphs' (NotoSansEgyptianHieroglyphs-Regular.ttf) normal normal regular normal>) = 10.05\n",
      "2020-09-22 12:20:48,482 findfont: score(<Font 'Bitstream Vera Sans' (VeraIt.ttf) oblique normal 400 normal>) = 7.05\n",
      "2020-09-22 12:20:48,485 findfont: score(<Font 'East Syriac Adiabene' (SyrCOMAdiabene.otf) normal normal 400 normal>) = 10.05\n",
      "2020-09-22 12:20:48,487 findfont: score(<Font 'Kefa' (Kefa.ttc) normal normal regular normal>) = 10.05\n",
      "2020-09-22 12:20:48,489 findfont: score(<Font 'Serto Malankara' (SyrCOMMalankara.otf) normal normal 400 normal>) = 10.05\n",
      "2020-09-22 12:20:48,492 findfont: score(<Font 'Luxi Serif' (luxirbi.ttf) oblique normal 700 normal>) = 11.335\n",
      "2020-09-22 12:20:48,494 findfont: score(<Font 'Bitstream Vera Serif' (VeraSeBd.ttf) normal normal 700 normal>) = 10.335\n",
      "2020-09-22 12:20:48,497 findfont: score(<Font 'Kohinoor Devanagari' (Kohinoor.ttc) normal normal regular normal>) = 10.05\n",
      "2020-09-22 12:20:48,500 findfont: score(<Font '.SF NS Display Condensed' (SFNSDisplayCondensed-Bold.otf) normal normal bold condensed>) = 10.535\n",
      "2020-09-22 12:20:48,501 findfont: score(<Font 'Verdana' (Verdana Bold Italic.ttf) italic normal 700 normal>) = 11.335\n"
     ]
    },
    {
     "name": "stderr",
     "output_type": "stream",
     "text": [
      "2020-09-22 12:20:48,504 findfont: score(<Font 'Tahoma' (Tahoma Bold.ttf) normal normal 700 normal>) = 10.335\n",
      "2020-09-22 12:20:48,506 findfont: score(<Font 'Verdana' (Verdana.ttf) normal normal 400 normal>) = 10.05\n",
      "2020-09-22 12:20:48,507 findfont: score(<Font 'Gurmukhi Sangam MN' (Gurmukhi Sangam MN.ttc) normal normal 400 normal>) = 10.05\n",
      "2020-09-22 12:20:48,512 findfont: score(<Font 'Kannada Sangam MN' (Kannada Sangam MN.ttc) normal normal 400 normal>) = 10.05\n",
      "2020-09-22 12:20:48,515 findfont: score(<Font 'Bradley Hand' (Bradley Hand Bold.ttf) normal normal bold normal>) = 10.335\n",
      "2020-09-22 12:20:48,518 findfont: score(<Font 'Arial Narrow' (Arial Narrow Italic.ttf) italic normal 400 condensed>) = 11.25\n",
      "2020-09-22 12:20:48,521 findfont: score(<Font 'Comic Sans MS' (Comic Sans MS.ttf) normal normal 400 normal>) = 10.05\n",
      "2020-09-22 12:20:48,522 findfont: score(<Font 'Noto Sans Lepcha' (NotoSansLepcha-Regular.ttf) normal normal regular normal>) = 10.05\n",
      "2020-09-22 12:20:48,524 findfont: score(<Font 'Noto Sans Old Persian' (NotoSansOldPersian-Regular.ttf) normal normal regular normal>) = 10.05\n",
      "2020-09-22 12:20:48,530 findfont: score(<Font 'Apple Braille' (Apple Braille Outline 8 Dot.ttf) normal normal 400 normal>) = 10.05\n",
      "2020-09-22 12:20:48,537 findfont: score(<Font 'Marker Felt' (MarkerFelt.ttc) normal normal 400 normal>) = 10.05\n",
      "2020-09-22 12:20:48,540 findfont: score(<Font 'Raanana' (Raanana.ttc) normal normal 400 normal>) = 10.05\n",
      "2020-09-22 12:20:48,543 findfont: score(<Font 'Ayuthaya' (Ayuthaya.ttf) normal normal 400 normal>) = 10.05\n",
      "2020-09-22 12:20:48,549 findfont: score(<Font 'Hoefler Text' (Hoefler Text.ttc) normal normal 400 normal>) = 10.05\n",
      "2020-09-22 12:20:48,555 findfont: score(<Font '.SF NS Display Condensed' (SFNSDisplayCondensed-Light.otf) normal normal light condensed>) = 10.44\n",
      "2020-09-22 12:20:49,263 findfont: score(<Font 'Krungthep' (Krungthep.ttf) normal normal 400 normal>) = 10.05\n",
      "2020-09-22 12:20:49,264 findfont: score(<Font 'Serto Urhoy' (SyrCOMUrhoyBold.otf) normal normal 700 normal>) = 10.335\n",
      "2020-09-22 12:20:49,267 findfont: score(<Font 'Futura' (Futura.ttc) normal normal medium normal>) = 10.145\n",
      "2020-09-22 12:20:49,269 findfont: score(<Font 'Arial' (Arial Bold.ttf) normal normal 700 normal>) = 0.33499999999999996\n",
      "2020-09-22 12:20:49,271 findfont: score(<Font 'Noto Sans Sundanese' (NotoSansSundanese-Regular.ttf) normal normal regular normal>) = 10.05\n",
      "2020-09-22 12:20:49,273 findfont: score(<Font 'System Font' (SFNSItalic.ttf) italic normal regular normal>) = 11.05\n",
      "2020-09-22 12:20:49,277 findfont: score(<Font 'Songti SC' (Songti.ttc) normal normal black normal>) = 10.525\n",
      "2020-09-22 12:20:49,282 findfont: score(<Font 'Vecna' (Vecna-oppx.ttf) normal normal 400 normal>) = 10.05\n",
      "2020-09-22 12:20:49,285 findfont: score(<Font 'Noto Sans Chakma' (NotoSansChakma-Regular.ttf) normal normal regular normal>) = 10.05\n",
      "2020-09-22 12:20:49,289 findfont: score(<Font 'East Syriac Ctesiphon' (SyrCOMCtesiphon.otf) normal normal 400 normal>) = 10.05\n",
      "2020-09-22 12:20:49,292 findfont: score(<Font 'Times New Roman' (Times New Roman Bold Italic.ttf) italic normal 700 normal>) = 11.335\n",
      "2020-09-22 12:20:49,297 findfont: score(<Font 'Noto Sans Samaritan' (NotoSansSamaritan-Regular.ttf) normal normal regular normal>) = 10.05\n",
      "2020-09-22 12:20:49,301 findfont: score(<Font 'Hiragino Maru Gothic Pro' (ヒラギノ丸ゴ ProN W4.ttc) normal normal 400 normal>) = 10.05\n",
      "2020-09-22 12:20:49,302 findfont: score(<Font 'Athelas' (Athelas.ttc) normal normal regular normal>) = 10.05\n",
      "2020-09-22 12:20:49,304 findfont: score(<Font 'Noto Sans Hanunoo' (NotoSansHanunoo-Regular.ttf) normal normal regular normal>) = 10.05\n",
      "2020-09-22 12:20:49,306 findfont: score(<Font 'Seravek' (Seravek.ttc) normal normal 400 normal>) = 10.05\n",
      "2020-09-22 12:20:49,308 findfont: score(<Font 'DIN Alternate' (DIN Alternate Bold.ttf) normal normal 700 normal>) = 10.335\n",
      "2020-09-22 12:20:49,310 findfont: score(<Font 'STIXIntegralsUp' (STIXIntUpBol.otf) normal normal 700 normal>) = 10.335\n",
      "2020-09-22 12:20:49,313 findfont: score(<Font 'Noto Sans Gothic' (NotoSansGothic-Regular.ttf) normal normal regular normal>) = 10.05\n",
      "2020-09-22 12:20:49,315 findfont: score(<Font 'Times New Roman' (Times New Roman.ttf) normal normal roman normal>) = 10.145\n",
      "2020-09-22 12:20:49,318 findfont: score(<Font 'Charter' (Charter.ttc) normal normal roman normal>) = 10.145\n",
      "2020-09-22 12:20:49,321 findfont: score(<Font 'Papyrus' (Papyrus.ttc) normal normal 400 condensed>) = 10.25\n",
      "2020-09-22 12:20:49,325 findfont: score(<Font 'Estrangelo TurAbdin' (SyrCOMTurAbdin.otf) normal normal 400 normal>) = 10.05\n",
      "2020-09-22 12:20:49,327 findfont: score(<Font 'STIXVariants' (STIXVarBol.otf) normal normal 700 normal>) = 10.335\n",
      "2020-09-22 12:20:49,330 findfont: score(<Font '.SF NS Display Condensed' (SFNSDisplayCondensed-Black.otf) normal normal black condensed>) = 10.725\n",
      "2020-09-22 12:20:49,335 findfont: score(<Font 'Hiragino Sans' (ヒラギノ角ゴシック W7.ttc) normal normal 700 normal>) = 10.335\n",
      "2020-09-22 12:20:49,337 findfont: score(<Font 'Apple Chancery' (Apple Chancery.ttf) normal normal 400 normal>) = 10.05\n",
      "2020-09-22 12:20:49,340 findfont: score(<Font 'Noto Sans Kharoshthi' (NotoSansKharoshthi-Regular.ttf) normal normal regular normal>) = 10.05\n",
      "2020-09-22 12:20:49,343 findfont: score(<Font 'Noto Sans Cypriot' (NotoSansCypriot-Regular.ttf) normal normal regular normal>) = 10.05\n",
      "2020-09-22 12:20:49,347 findfont: score(<Font 'Noto Sans Armenian' (NotoSansArmenian.ttc) normal normal black normal>) = 10.525\n",
      "2020-09-22 12:20:49,350 findfont: score(<Font 'Noto Sans Syloti Nagri' (NotoSansSylotiNagri-Regular.ttf) normal normal regular normal>) = 10.05\n",
      "2020-09-22 12:20:49,353 findfont: score(<Font 'Bitstream Vera Sans Mono' (VeraMoBI.ttf) oblique normal 700 normal>) = 11.335\n",
      "2020-09-22 12:20:49,356 findfont: score(<Font 'Silom' (Silom.ttf) normal normal 400 normal>) = 10.05\n",
      "2020-09-22 12:20:49,358 findfont: score(<Font 'Estrangelo Nisibin' (SyrCOMNisibin.otf) normal normal 400 normal>) = 10.05\n",
      "2020-09-22 12:20:49,363 findfont: score(<Font 'Oriya MN' (Oriya MN.ttc) normal normal 400 normal>) = 10.05\n",
      "2020-09-22 12:20:49,366 findfont: score(<Font 'Luxi Mono' (luximr.ttf) normal normal regular normal>) = 10.05\n",
      "2020-09-22 12:20:49,369 findfont: score(<Font 'Helvetica Neue' (HelveticaNeue.ttc) normal normal 400 normal>) = 10.05\n",
      "2020-09-22 12:20:49,371 findfont: score(<Font 'DIN Condensed' (DIN Condensed Bold.ttf) normal normal 700 condensed>) = 10.535\n",
      "2020-09-22 12:20:49,376 findfont: score(<Font 'Trebuchet MS' (Trebuchet MS Bold Italic.ttf) italic normal 700 normal>) = 11.335\n",
      "2020-09-22 12:20:49,381 findfont: score(<Font 'Estrangelo Edessa' (SyrCOMEdessa.otf) normal normal 400 normal>) = 10.05\n",
      "2020-09-22 12:20:49,384 findfont: score(<Font 'Sukhumvit Set' (SukhumvitSet.ttc) normal normal 400 normal>) = 10.05\n",
      "2020-09-22 12:20:49,386 findfont: score(<Font 'Noto Sans Mandaic' (NotoSansMandaic-Regular.ttf) normal normal regular normal>) = 10.05\n",
      "2020-09-22 12:20:49,387 findfont: score(<Font 'Noto Sans Ogham' (NotoSansOgham-Regular.ttf) normal normal regular normal>) = 10.05\n",
      "2020-09-22 12:20:49,390 findfont: score(<Font 'Gurmukhi MN' (Gurmukhi MN.ttc) normal normal 400 normal>) = 10.05\n",
      "2020-09-22 12:20:49,392 findfont: score(<Font 'Bitstream Vera Serif' (VeraSe.ttf) normal normal 400 normal>) = 10.05\n",
      "2020-09-22 12:20:49,393 findfont: score(<Font 'Noto Sans Linear B' (NotoSansLinearB-Regular.ttf) normal normal regular normal>) = 10.05\n",
      "2020-09-22 12:20:49,395 findfont: score(<Font 'STIXNonUnicode' (STIXNonUni.otf) normal normal regular normal>) = 10.05\n",
      "2020-09-22 12:20:49,398 findfont: score(<Font 'Tamil MN' (Tamil MN.ttc) normal normal 400 normal>) = 10.05\n",
      "2020-09-22 12:20:49,400 findfont: score(<Font 'Telugu Sangam MN' (Telugu Sangam MN.ttc) normal normal 400 normal>) = 10.05\n",
      "2020-09-22 12:20:49,403 findfont: score(<Font 'Devanagari Sangam MN' (Devanagari Sangam MN.ttc) normal normal 400 normal>) = 10.05\n",
      "2020-09-22 12:20:49,408 findfont: score(<Font 'KufiStandardGK' (KufiStandardGK.ttc) normal normal regular normal>) = 10.05\n",
      "2020-09-22 12:20:49,411 findfont: score(<Font 'Hiragino Sans' (ヒラギノ角ゴシック W8.ttc) normal normal 700 normal>) = 10.335\n",
      "2020-09-22 12:20:49,413 findfont: score(<Font 'STIXNonUnicode' (STIXNonUniBol.otf) normal normal 700 normal>) = 10.335\n"
     ]
    },
    {
     "name": "stderr",
     "output_type": "stream",
     "text": [
      "2020-09-22 12:20:49,416 findfont: score(<Font 'PT Serif' (PTSerif.ttc) normal normal 400 normal>) = 10.05\n",
      "2020-09-22 12:20:49,420 findfont: score(<Font 'STIXIntegralsUpD' (STIXIntUpDBol.otf) normal normal 700 normal>) = 10.335\n",
      "2020-09-22 12:20:49,423 findfont: score(<Font 'Tahoma' (Tahoma.ttf) normal normal 400 normal>) = 10.05\n",
      "2020-09-22 12:20:49,425 findfont: score(<Font 'Noto Sans NKo' (NotoSansNKo-Regular.ttf) normal normal regular normal>) = 10.05\n",
      "2020-09-22 12:20:49,426 findfont: score(<Font 'Damascus' (Damascus.ttc) normal normal regular normal>) = 10.05\n",
      "2020-09-22 12:20:49,427 findfont: score(<Font 'Noto Sans Phoenician' (NotoSansPhoenician-Regular.ttf) normal normal regular normal>) = 10.05\n",
      "2020-09-22 12:20:49,434 findfont: score(<Font '.SF NS Display Condensed' (SFNSDisplayCondensed-Thin.otf) normal normal 400 condensed>) = 10.25\n",
      "2020-09-22 12:20:49,437 findfont: score(<Font 'Big Caslon' (BigCaslon.ttf) normal normal medium normal>) = 10.145\n",
      "2020-09-22 12:20:49,438 findfont: score(<Font 'Serto Batnan' (SyrCOMBatnan.otf) normal normal 400 normal>) = 10.05\n",
      "2020-09-22 12:20:49,439 findfont: score(<Font 'Noto Sans Glagolitic' (NotoSansGlagolitic-Regular.ttf) normal normal regular normal>) = 10.05\n",
      "2020-09-22 12:20:49,442 findfont: score(<Font 'Sathu' (Sathu.ttf) normal normal 400 normal>) = 10.05\n",
      "2020-09-22 12:20:49,446 findfont: score(<Font 'Noto Sans Syriac' (NotoSansSyriac-Regular.ttf) normal normal regular normal>) = 10.05\n",
      "2020-09-22 12:20:49,454 findfont: score(<Font '.SF Compact Display' (SFCompactDisplay.ttf) normal normal 400 normal>) = 10.05\n",
      "2020-09-22 12:20:49,457 findfont: score(<Font 'Telugu MN' (Telugu MN.ttc) normal normal 400 normal>) = 10.05\n",
      "2020-09-22 12:20:49,460 findfont: score(<Font 'Kokonor' (Kokonor.ttf) normal normal regular normal>) = 10.05\n",
      "2020-09-22 12:20:49,466 findfont: score(<Font 'Beirut' (Beirut.ttc) normal normal regular normal>) = 10.05\n",
      "2020-09-22 12:20:49,468 findfont: score(<Font 'Arial Unicode MS' (Arial Unicode.ttf) normal normal 400 normal>) = 10.05\n",
      "2020-09-22 12:20:49,469 findfont: score(<Font 'Gujarati Sangam MN' (Gujarati Sangam MN.ttc) normal normal 400 normal>) = 10.05\n",
      "2020-09-22 12:20:49,471 findfont: score(<Font 'Noto Sans Kayah Li' (NotoSansKayahLi-Regular.ttf) normal normal regular normal>) = 10.05\n",
      "2020-09-22 12:20:49,474 findfont: score(<Font 'Courier New' (Courier New.ttf) normal normal 400 normal>) = 10.05\n",
      "2020-09-22 12:20:49,475 findfont: score(<Font 'SignPainter' (SignPainter.ttc) normal normal 400 normal>) = 10.05\n",
      "2020-09-22 12:20:49,477 findfont: score(<Font 'Bitstream Vera Sans' (VeraBI.ttf) oblique normal 700 normal>) = 7.335\n",
      "2020-09-22 12:20:49,480 findfont: score(<Font 'Noto Sans Meetei Mayek' (NotoSansMeeteiMayek-Regular.ttf) normal normal regular normal>) = 10.05\n",
      "2020-09-22 12:20:49,483 findfont: score(<Font 'Apple Braille' (Apple Braille Pinpoint 8 Dot.ttf) normal normal 400 normal>) = 10.05\n",
      "2020-09-22 12:20:49,485 findfont: score(<Font '.SF NS Text Condensed' (SFNSTextCondensed-Medium.otf) normal normal medium condensed>) = 10.344999999999999\n",
      "2020-09-22 12:20:49,488 findfont: score(<Font 'Noto Sans Kaithi' (NotoSansKaithi-Regular.ttf) normal normal regular normal>) = 10.05\n",
      "2020-09-22 12:20:49,491 findfont: score(<Font 'PT Mono' (PTMono.ttc) normal normal 700 normal>) = 10.335\n",
      "2020-09-22 12:20:49,494 findfont: score(<Font 'Serto Mardin' (SyrCOMMardin.otf) normal normal 400 normal>) = 10.05\n",
      "2020-09-22 12:20:49,498 findfont: score(<Font 'Noto Sans Batak' (NotoSansBatak-Regular.ttf) normal normal regular normal>) = 10.05\n",
      "2020-09-22 12:20:49,505 findfont: score(<Font 'STIXSizeThreeSym' (STIXSizThreeSymReg.otf) normal normal regular normal>) = 10.05\n",
      "2020-09-22 12:20:49,507 findfont: score(<Font 'Noto Sans Yi' (NotoSansYi-Regular.ttf) normal normal regular normal>) = 10.05\n",
      "2020-09-22 12:20:49,509 findfont: score(<Font 'Baskerville' (Baskerville.ttc) normal normal 400 normal>) = 10.05\n",
      "2020-09-22 12:20:49,515 findfont: score(<Font 'Noto Sans Tifinagh' (NotoSansTifinagh-Regular.ttf) normal normal regular normal>) = 10.05\n",
      "2020-09-22 12:20:49,518 findfont: score(<Font 'Georgia' (Georgia Bold Italic.ttf) italic normal 700 normal>) = 11.335\n",
      "2020-09-22 12:20:49,521 findfont: score(<Font 'Noto Sans Old South Arabian' (NotoSansOldSouthArabian-Regular.ttf) normal normal regular normal>) = 10.05\n",
      "2020-09-22 12:20:49,523 findfont: score(<Font 'Noto Sans Limbu' (NotoSansLimbu-Regular.ttf) normal normal regular normal>) = 10.05\n",
      "2020-09-22 12:20:49,525 findfont: score(<Font 'Farisi' (Farisi.ttf) normal normal regular normal>) = 10.05\n",
      "2020-09-22 12:20:49,528 findfont: score(<Font 'Noto Sans Inscriptional Pahlavi' (NotoSansInscriptionalPahlavi-Regular.ttf) normal normal regular normal>) = 10.05\n",
      "2020-09-22 12:20:49,538 findfont: score(<Font 'Nadeem' (Nadeem.ttc) normal normal regular normal>) = 10.05\n",
      "2020-09-22 12:20:49,541 findfont: score(<Font 'Noto Sans Tagalog' (NotoSansTagalog-Regular.ttf) normal normal regular normal>) = 10.05\n",
      "2020-09-22 12:20:49,544 findfont: score(<Font 'Noto Sans Runic' (NotoSansRunic-Regular.ttf) normal normal regular normal>) = 10.05\n",
      "2020-09-22 12:20:49,552 findfont: score(<Font 'Arial Narrow' (Arial Narrow Bold Italic.ttf) italic normal 700 condensed>) = 11.535\n",
      "2020-09-22 12:20:49,555 findfont: score(<Font 'Mishafi' (Mishafi.ttf) normal normal regular normal>) = 10.05\n",
      "2020-09-22 12:20:49,557 findfont: score(<Font 'Microsoft Sans Serif' (Microsoft Sans Serif.ttf) normal normal 400 normal>) = 10.05\n",
      "2020-09-22 12:20:49,560 findfont: score(<Font 'Mshtakan' (Mshtakan.ttc) normal normal 400 normal>) = 10.05\n",
      "2020-09-22 12:20:49,562 findfont: score(<Font '.SF NS Mono' (SFNSMono.ttf) normal normal light normal>) = 10.24\n",
      "2020-09-22 12:20:49,565 findfont: score(<Font 'Shree Devanagari 714' (Shree714.ttc) normal normal 400 normal>) = 10.05\n",
      "2020-09-22 12:20:49,570 findfont: score(<Font 'Apple Braille' (Apple Braille Pinpoint 6 Dot.ttf) normal normal 400 normal>) = 10.05\n",
      "2020-09-22 12:20:49,572 findfont: score(<Font 'Apple Symbols' (Apple Symbols.ttf) normal normal 400 normal>) = 10.05\n",
      "2020-09-22 12:20:49,577 findfont: score(<Font 'Bodoni Ornaments' (Bodoni Ornaments.ttf) normal normal 400 normal>) = 10.05\n",
      "2020-09-22 12:20:49,579 findfont: score(<Font 'STIXIntegralsUpSm' (STIXIntUpSmBol.otf) normal normal 700 normal>) = 10.335\n",
      "2020-09-22 12:20:49,590 findfont: score(<Font 'Wingdings' (Wingdings.ttf) normal normal 400 normal>) = 10.05\n",
      "2020-09-22 12:20:49,593 findfont: score(<Font 'Menlo' (Menlo.ttc) normal normal regular normal>) = 10.05\n",
      "2020-09-22 12:20:49,595 findfont: score(<Font 'Kohinoor Telugu' (KohinoorTelugu.ttc) normal normal 400 normal>) = 10.05\n",
      "2020-09-22 12:20:49,602 findfont: score(<Font 'Noto Sans Lisu' (NotoSansLisu-Regular.ttf) normal normal regular normal>) = 10.05\n",
      "2020-09-22 12:20:49,604 findfont: score(<Font 'STIXSizeThreeSym' (STIXSizThreeSymBol.otf) normal normal 700 normal>) = 10.335\n",
      "2020-09-22 12:20:49,605 findfont: score(<Font 'STIXIntegralsD' (STIXIntDReg.otf) normal normal regular normal>) = 10.05\n",
      "2020-09-22 12:20:49,608 findfont: score(<Font 'Bodoni 72 Smallcaps' (Bodoni 72 Smallcaps Book.ttf) normal normal book normal>) = 10.05\n",
      "2020-09-22 12:20:49,611 findfont: score(<Font 'Trattatello' (Trattatello.ttf) normal normal 400 normal>) = 10.05\n",
      "2020-09-22 12:20:49,616 findfont: score(<Font 'Geeza Pro' (GeezaPro.ttc) normal normal regular normal>) = 10.05\n",
      "2020-09-22 12:20:49,622 findfont: score(<Font 'Noto Serif Balinese' (NotoSerifBalinese-Regular.ttf) normal normal regular normal>) = 10.05\n",
      "2020-09-22 12:20:49,627 findfont: score(<Font 'Serto Jerusalem' (SyrCOMJerusalemBold.otf) normal normal 700 normal>) = 10.335\n",
      "2020-09-22 12:20:49,635 findfont: score(<Font 'Noto Sans Tagbanwa' (NotoSansTagbanwa-Regular.ttf) normal normal regular normal>) = 10.05\n",
      "2020-09-22 12:20:49,639 findfont: score(<Font '.SF NS Text Condensed' (SFNSTextCondensed-Light.otf) normal normal light condensed>) = 10.44\n",
      "2020-09-22 12:20:49,644 findfont: score(<Font 'Courier New' (Courier New Bold.ttf) normal normal 700 normal>) = 10.335\n",
      "2020-09-22 12:20:49,652 findfont: score(<Font 'Chalkboard SE' (ChalkboardSE.ttc) normal normal light normal>) = 10.24\n"
     ]
    },
    {
     "name": "stderr",
     "output_type": "stream",
     "text": [
      "2020-09-22 12:20:49,655 findfont: score(<Font 'Mishafi Gold' (Mishafi Gold.ttf) normal normal regular normal>) = 10.05\n",
      "2020-09-22 12:20:49,658 findfont: score(<Font 'Luxi Mono' (luximri.ttf) oblique normal 400 normal>) = 11.05\n",
      "2020-09-22 12:20:49,660 findfont: score(<Font 'Noto Sans Ugaritic' (NotoSansUgaritic-Regular.ttf) normal normal regular normal>) = 10.05\n",
      "2020-09-22 12:20:49,663 findfont: score(<Font 'Hiragino Mincho ProN' (ヒラギノ明朝 ProN.ttc) normal normal 400 normal>) = 10.05\n",
      "2020-09-22 12:20:49,667 findfont: score(<Font 'Kailasa' (Kailasa.ttc) normal normal regular normal>) = 10.05\n",
      "2020-09-22 12:20:49,671 findfont: score(<Font 'Chalkboard' (Chalkboard.ttc) normal normal 400 normal>) = 10.05\n",
      "2020-09-22 12:20:49,677 findfont: score(<Font 'Bodoni 72 Oldstyle' (Bodoni 72 OS.ttc) normal normal book normal>) = 10.05\n",
      "2020-09-22 12:20:49,681 findfont: score(<Font 'Noto Sans Old Turkic' (NotoSansOldTurkic-Regular.ttf) normal normal regular normal>) = 10.05\n",
      "2020-09-22 12:20:49,685 findfont: score(<Font 'STIXSizeFourSym' (STIXSizFourSymReg.otf) normal normal regular normal>) = 10.05\n",
      "2020-09-22 12:20:49,688 findfont: score(<Font 'Luxi Sans' (luxisr.ttf) normal normal regular normal>) = 10.05\n",
      "2020-09-22 12:20:49,691 findfont: score(<Font 'Noto Sans Old Italic' (NotoSansOldItalic-Regular.ttf) italic normal regular normal>) = 11.05\n",
      "2020-09-22 12:20:49,692 findfont: score(<Font 'Bodoni 72' (Bodoni 72.ttc) normal normal book normal>) = 10.05\n",
      "2020-09-22 12:20:49,694 findfont: score(<Font 'Andale Mono' (Andale Mono.ttf) normal normal 400 normal>) = 10.05\n",
      "2020-09-22 12:20:49,695 findfont: score(<Font 'Khmer MN' (Khmer MN.ttc) normal normal 400 normal>) = 10.05\n",
      "2020-09-22 12:20:49,697 findfont: score(<Font 'Luxi Sans' (luxisb.ttf) normal normal 700 normal>) = 10.335\n",
      "2020-09-22 12:20:49,702 findfont: score(<Font 'Estrangelo Quenneshrin' (SyrCOMQenNeshrin.otf) normal normal 400 normal>) = 10.05\n",
      "2020-09-22 12:20:49,706 findfont: score(<Font 'Bitstream Vera Sans' (VeraBd.ttf) normal normal 700 normal>) = 6.335\n",
      "2020-09-22 12:20:49,710 findfont: score(<Font 'Hoefler Text' (Hoefler Text Ornaments.ttf) normal normal 400 normal>) = 10.05\n",
      "2020-09-22 12:20:49,716 findfont: score(<Font 'Snell Roundhand' (SnellRoundhand.ttc) normal normal 400 normal>) = 10.05\n",
      "2020-09-22 12:20:49,718 findfont: score(<Font 'Avenir Next Condensed' (Avenir Next Condensed.ttc) normal normal 700 condensed>) = 10.535\n",
      "2020-09-22 12:20:49,725 findfont: score(<Font 'Arial Rounded MT Bold' (Arial Rounded Bold.ttf) normal normal bold normal>) = 10.335\n",
      "2020-09-22 12:20:49,732 findfont: score(<Font 'AppleGothic' (AppleGothic.ttf) normal normal regular normal>) = 10.05\n",
      "2020-09-22 12:20:49,735 findfont: score(<Font 'Noto Sans Imperial Aramaic' (NotoSansImperialAramaic-Regular.ttf) normal normal regular normal>) = 10.05\n",
      "2020-09-22 12:20:49,742 findfont: score(<Font 'Herculanum' (Herculanum.ttf) normal normal 400 normal>) = 10.05\n",
      "2020-09-22 12:20:49,745 findfont: score(<Font 'Khmer Sangam MN' (Khmer Sangam MN.ttf) normal normal 400 normal>) = 10.05\n",
      "2020-09-22 12:20:49,748 findfont: score(<Font 'Noto Sans Lycian' (NotoSansLycian-Regular.ttf) normal normal regular normal>) = 10.05\n",
      "2020-09-22 12:20:49,751 findfont: score(<Font 'Luxi Serif' (luxirri.ttf) oblique normal 400 normal>) = 11.05\n",
      "2020-09-22 12:20:49,755 findfont: score(<Font 'Noto Sans Cham' (NotoSansCham-Regular.ttf) normal normal regular normal>) = 10.05\n",
      "2020-09-22 12:20:49,757 findfont: score(<Font 'Malayalam MN' (Malayalam MN.ttc) normal normal 400 normal>) = 10.05\n",
      "2020-09-22 12:20:49,762 findfont: score(<Font 'Malayalam Sangam MN' (Malayalam Sangam MN.ttc) normal normal 400 normal>) = 10.05\n",
      "2020-09-22 12:20:49,771 findfont: score(<Font 'STIXIntegralsSm' (STIXIntSmBol.otf) normal normal 700 normal>) = 10.335\n",
      "2020-09-22 12:20:49,778 findfont: score(<Font 'Noto Sans Mongolian' (NotoSansMongolian-Regular.ttf) normal normal 400 normal>) = 10.05\n",
      "2020-09-22 12:20:49,800 findfont: score(<Font 'Avenir' (Avenir.ttc) normal normal book normal>) = 10.05\n",
      "2020-09-22 12:20:49,804 findfont: score(<Font 'Luxi Serif' (luxirr.ttf) normal normal regular normal>) = 10.05\n",
      "2020-09-22 12:20:49,808 findfont: score(<Font 'Bitstream Vera Sans Mono' (VeraMoIt.ttf) oblique normal 400 normal>) = 11.05\n",
      "2020-09-22 12:20:49,811 findfont: score(<Font 'Georgia' (Georgia.ttf) normal normal 400 normal>) = 10.05\n",
      "2020-09-22 12:20:49,816 findfont: score(<Font 'Noto Serif Myanmar' (NotoSerifMyanmar.ttc) normal normal black normal>) = 10.525\n",
      "2020-09-22 12:20:49,821 findfont: score(<Font 'Luxi Serif' (luxirb.ttf) normal normal 700 normal>) = 10.335\n",
      "2020-09-22 12:20:49,825 findfont: score(<Font 'Noto Sans Osmanya' (NotoSansOsmanya-Regular.ttf) normal normal regular normal>) = 10.05\n",
      "2020-09-22 12:20:49,831 findfont: score(<Font 'STIXGeneral' (STIXGeneralBol.otf) normal normal 700 normal>) = 10.335\n",
      "2020-09-22 12:20:49,835 findfont: score(<Font 'Zapf Dingbats' (ZapfDingbats.ttf) normal normal 400 normal>) = 10.05\n",
      "2020-09-22 12:20:49,838 findfont: score(<Font 'STIXIntegralsD' (STIXIntDBol.otf) normal normal 700 normal>) = 10.335\n",
      "2020-09-22 12:20:49,843 findfont: score(<Font 'Serto Urhoy' (SyrCOMUrhoy.otf) normal normal 400 normal>) = 10.05\n",
      "2020-09-22 12:20:49,846 findfont: score(<Font 'Hiragino Sans' (ヒラギノ角ゴシック W5.ttc) normal normal 700 normal>) = 10.335\n",
      "2020-09-22 12:20:49,850 findfont: score(<Font 'Noto Sans Javanese' (NotoSansJavanese-Regular.otf) normal normal regular normal>) = 10.05\n",
      "2020-09-22 12:20:49,858 findfont: score(<Font 'Al Tarikh' (Al Tarikh.ttc) normal normal regular normal>) = 10.05\n",
      "2020-09-22 12:20:49,861 findfont: score(<Font 'Serto Batnan' (SyrCOMBatnanBold.otf) normal normal 700 normal>) = 10.335\n",
      "2020-09-22 12:20:49,864 findfont: score(<Font '.SF Compact Rounded' (SFCompactRounded.ttf) normal normal 400 normal>) = 10.05\n",
      "2020-09-22 12:20:49,867 findfont: score(<Font 'STIXSizeTwoSym' (STIXSizTwoSymBol.otf) normal normal 700 normal>) = 10.335\n",
      "2020-09-22 12:20:49,870 findfont: score(<Font 'Trebuchet MS' (Trebuchet MS Bold.ttf) normal normal 700 normal>) = 10.335\n",
      "2020-09-22 12:20:49,874 findfont: score(<Font 'Noteworthy' (Noteworthy.ttc) normal normal light normal>) = 10.24\n",
      "2020-09-22 12:20:49,878 findfont: score(<Font '.SF NS Display Condensed' (SFNSDisplayCondensed-Regular.otf) normal normal regular condensed>) = 10.25\n",
      "2020-09-22 12:20:49,881 findfont: score(<Font 'PT Serif Caption' (PTSerifCaption.ttc) normal normal 400 normal>) = 10.05\n",
      "2020-09-22 12:20:49,884 findfont: score(<Font '.Arabic UI Display' (ArabicUIDisplay.ttc) normal normal black normal>) = 10.525\n",
      "2020-09-22 12:20:49,887 findfont: score(<Font '.SF Compact Text' (SFCompactTextItalic.ttf) italic normal 400 normal>) = 11.05\n",
      "2020-09-22 12:20:49,890 findfont: score(<Font 'Estrangelo Talada' (SyrCOMTalada.otf) normal normal 400 normal>) = 10.05\n",
      "2020-09-22 12:20:49,896 findfont: score(<Font 'Apple SD Gothic Neo' (AppleSDGothicNeo.ttc) normal normal regular normal>) = 10.05\n",
      "2020-09-22 12:20:49,900 findfont: score(<Font '.Helvetica Neue DeskInterface' (HelveticaNeueDeskInterface.ttc) normal normal regular normal>) = 10.05\n",
      "2020-09-22 12:20:49,903 findfont: score(<Font 'Heiti TC' (STHeiti Medium.ttc) normal normal 700 normal>) = 10.335\n",
      "2020-09-22 12:20:49,907 findfont: score(<Font 'Bangla Sangam MN' (Bangla Sangam MN.ttc) normal normal 400 normal>) = 10.05\n",
      "2020-09-22 12:20:49,908 findfont: score(<Font 'Sinhala Sangam MN' (Sinhala Sangam MN.ttc) normal normal 400 normal>) = 10.05\n",
      "2020-09-22 12:20:49,909 findfont: score(<Font '.SF NS Display Condensed' (SFNSDisplayCondensed-Heavy.otf) normal normal heavy condensed>) = 10.629999999999999\n",
      "2020-09-22 12:20:49,912 findfont: score(<Font 'STIXGeneral' (STIXGeneral.otf) normal normal regular normal>) = 10.05\n",
      "2020-09-22 12:20:49,916 findfont: score(<Font 'Serto Jerusalem' (SyrCOMJerusalemItalic.otf) italic normal 400 normal>) = 11.05\n",
      "2020-09-22 12:20:49,919 findfont: score(<Font 'New Peninim MT' (NewPeninimMT.ttc) normal normal 400 normal>) = 10.05\n",
      "2020-09-22 12:20:49,921 findfont: score(<Font 'STIXSizeFourSym' (STIXSizFourSymBol.otf) normal normal 700 normal>) = 10.335\n",
      "2020-09-22 12:20:49,924 findfont: score(<Font 'Luxi Mono' (luximb.ttf) normal normal 700 normal>) = 10.335\n"
     ]
    },
    {
     "name": "stderr",
     "output_type": "stream",
     "text": [
      "2020-09-22 12:20:49,927 findfont: score(<Font 'InaiMathi' (InaiMathi-MN.ttc) normal normal 400 normal>) = 10.05\n",
      "2020-09-22 12:20:49,929 findfont: score(<Font 'DecoType Naskh' (DecoTypeNaskh.ttc) normal normal regular normal>) = 10.05\n",
      "2020-09-22 12:20:49,933 findfont: score(<Font 'Al Bayan' (AlBayan.ttc) normal normal 400 normal>) = 10.05\n",
      "2020-09-22 12:20:49,935 findfont: score(<Font 'Gill Sans' (GillSans.ttc) normal normal 400 normal>) = 10.05\n",
      "2020-09-22 12:20:49,938 findfont: score(<Font 'Luminari' (Luminari.ttf) normal normal 400 normal>) = 10.05\n",
      "2020-09-22 12:20:49,941 findfont: score(<Font 'Noto Sans Lydian' (NotoSansLydian-Regular.ttf) normal normal regular normal>) = 10.05\n",
      "2020-09-22 12:20:49,951 findfont: score(<Font 'Hiragino Sans' (ヒラギノ角ゴシック W0.ttc) normal normal 400 normal>) = 10.05\n",
      "2020-09-22 12:20:49,957 findfont: score(<Font 'Georgia' (Georgia Bold.ttf) normal normal 700 normal>) = 10.335\n",
      "2020-09-22 12:20:49,958 findfont: score(<Font 'Heiti TC' (STHeiti Light.ttc) normal normal light normal>) = 10.24\n",
      "2020-09-22 12:20:49,961 findfont: score(<Font 'PT Sans' (PTSans.ttc) normal normal 400 normal>) = 10.05\n",
      "2020-09-22 12:20:49,966 findfont: score(<Font 'STIXSizeOneSym' (STIXSizOneSymBol.otf) normal normal 700 normal>) = 10.335\n",
      "2020-09-22 12:20:49,969 findfont: score(<Font '.SF NS Text Condensed' (SFNSTextCondensed-Semibold.otf) normal normal semibold condensed>) = 10.44\n",
      "2020-09-22 12:20:49,971 findfont: score(<Font 'Zapfino' (Zapfino.ttf) normal normal 400 normal>) = 10.05\n",
      "2020-09-22 12:20:49,974 findfont: score(<Font 'Skia' (Skia.ttf) normal normal 400 normal>) = 10.05\n",
      "2020-09-22 12:20:50,589 findfont: score(<Font 'Trebuchet MS' (Trebuchet MS Italic.ttf) italic normal 400 normal>) = 11.05\n",
      "2020-09-22 12:20:50,591 findfont: score(<Font 'Euphemia UCAS' (EuphemiaCAS.ttc) normal normal 400 normal>) = 10.05\n",
      "2020-09-22 12:20:50,593 findfont: score(<Font 'Superclarendon' (SuperClarendon.ttc) normal normal regular normal>) = 10.05\n",
      "2020-09-22 12:20:50,595 findfont: score(<Font 'Symbol' (Symbol.ttf) normal normal 400 normal>) = 10.05\n",
      "2020-09-22 12:20:50,597 findfont: score(<Font 'Apple Braille' (Apple Braille.ttf) normal normal 400 normal>) = 10.05\n",
      "2020-09-22 12:20:50,600 findfont: score(<Font 'Gurmukhi MT' (Gurmukhi.ttf) normal normal 400 normal>) = 10.05\n",
      "2020-09-22 12:20:50,605 findfont: score(<Font 'Noto Sans Kannada' (NotoSansKannada.ttc) normal normal black normal>) = 10.525\n",
      "2020-09-22 12:20:50,608 findfont: score(<Font 'Noto Sans Tai Tham' (NotoSansTaiTham-Regular.ttf) normal normal 400 normal>) = 10.05\n",
      "2020-09-22 12:20:50,611 findfont: score(<Font '.Aqua Kana' (AquaKana.ttc) normal normal 400 normal>) = 10.05\n",
      "2020-09-22 12:20:50,614 findfont: score(<Font 'Luxi Sans' (luxisri.ttf) oblique normal 400 normal>) = 11.05\n",
      "2020-09-22 12:20:50,618 findfont: score(<Font 'Farah' (Farah.ttc) normal normal regular normal>) = 10.05\n",
      "2020-09-22 12:20:50,624 findfont: score(<Font 'Estrangelo Nisibin Outline' (SyrCOMNisibinOutline.otf) normal normal 400 normal>) = 10.05\n",
      "2020-09-22 12:20:50,628 findfont: score(<Font '.New York' (NewYork.ttf) normal normal 400 normal>) = 10.05\n",
      "2020-09-22 12:20:50,630 findfont: score(<Font '.SF NS Rounded' (SFNSRounded.ttf) normal normal 400 normal>) = 10.05\n",
      "2020-09-22 12:20:50,632 findfont: score(<Font 'Bangla MN' (Bangla MN.ttc) normal normal 400 normal>) = 10.05\n",
      "2020-09-22 12:20:50,634 findfont: score(<Font 'Diwan Thuluth' (Diwan Thuluth.ttf) normal normal regular normal>) = 10.05\n",
      "2020-09-22 12:20:50,637 findfont: score(<Font '.LastResort' (LastResort.otf) normal normal 400 normal>) = 10.05\n",
      "2020-09-22 12:20:50,641 findfont: score(<Font 'Lao MN' (Lao MN.ttc) normal normal 400 normal>) = 10.05\n",
      "2020-09-22 12:20:50,643 findfont: score(<Font 'STIXVariants' (STIXVar.otf) normal normal regular normal>) = 10.05\n",
      "2020-09-22 12:20:50,647 findfont: score(<Font 'Webdings' (Webdings.ttf) normal normal 400 normal>) = 10.05\n",
      "2020-09-22 12:20:50,654 findfont: score(<Font '.SF NS Display Condensed' (SFNSDisplayCondensed-Medium.otf) normal normal medium condensed>) = 10.344999999999999\n",
      "2020-09-22 12:20:50,663 findfont: score(<Font 'Arial Hebrew' (ArialHB.ttc) normal normal 400 normal>) = 10.05\n",
      "2020-09-22 12:20:50,671 findfont: score(<Font 'Arial' (Arial.ttf) normal normal 400 normal>) = 0.05\n",
      "2020-09-22 12:20:50,675 findfont: score(<Font 'Serto Jerusalem Outline' (SyrCOMJerusalemOutline.otf) normal normal 400 normal>) = 10.05\n",
      "2020-09-22 12:20:50,677 findfont: score(<Font 'Savoye LET' (Savoye LET.ttc) normal normal 400 normal>) = 10.05\n",
      "2020-09-22 12:20:50,678 findfont: score(<Font 'American Typewriter' (AmericanTypewriter.ttc) normal normal 400 normal>) = 10.05\n",
      "2020-09-22 12:20:50,680 findfont: score(<Font 'Luxi Sans' (luxisbi.ttf) oblique normal 700 normal>) = 11.335\n",
      "2020-09-22 12:20:50,686 findfont: score(<Font '.SF NS Display Condensed' (SFNSDisplayCondensed-Semibold.otf) normal normal semibold condensed>) = 10.44\n",
      "2020-09-22 12:20:50,696 findfont: score(<Font 'Gujarati MT' (GujaratiMT.ttc) normal normal 400 normal>) = 10.05\n",
      "2020-09-22 12:20:50,698 findfont: score(<Font 'Arial Narrow' (Arial Narrow Bold.ttf) normal normal 700 condensed>) = 10.535\n",
      "2020-09-22 12:20:50,703 findfont: score(<Font 'Georgia' (Georgia Italic.ttf) italic normal 400 normal>) = 11.05\n",
      "2020-09-22 12:20:50,709 findfont: score(<Font 'STIXIntegralsUpD' (STIXIntUpDReg.otf) normal normal regular normal>) = 10.05\n",
      "2020-09-22 12:20:50,712 findfont: score(<Font 'Arial' (Arial Bold Italic.ttf) italic normal 700 normal>) = 1.335\n",
      "2020-09-22 12:20:50,719 findfont: score(<Font 'Wingdings 2' (Wingdings 2.ttf) normal normal 400 normal>) = 10.05\n",
      "2020-09-22 12:20:50,721 findfont: score(<Font 'Noto Sans Carian' (NotoSansCarian-Regular.ttf) normal normal regular normal>) = 10.05\n",
      "2020-09-22 12:20:50,723 findfont: score(<Font 'STIXIntegralsUp' (STIXIntUpReg.otf) normal normal regular normal>) = 10.05\n",
      "2020-09-22 12:20:50,732 findfont: score(<Font 'Noto Sans Shavian' (NotoSansShavian-Regular.ttf) normal normal regular normal>) = 10.05\n",
      "2020-09-22 12:20:50,745 findfont: score(<Font 'STIXIntegralsUpSm' (STIXIntUpSmReg.otf) normal normal regular normal>) = 10.05\n",
      "2020-09-22 12:20:50,750 findfont: score(<Font 'Noto Sans Buhid' (NotoSansBuhid-Regular.ttf) normal normal regular normal>) = 10.05\n",
      "2020-09-22 12:20:50,762 findfont: score(<Font 'Thonburi' (Thonburi.ttc) normal normal 400 normal>) = 10.05\n",
      "2020-09-22 12:20:50,766 findfont: score(<Font 'Kohinoor Bangla' (KohinoorBangla.ttc) normal normal 400 normal>) = 10.05\n",
      "2020-09-22 12:20:50,770 findfont: score(<Font 'Plantagenet Cherokee' (PlantagenetCherokee.ttf) normal normal 400 normal>) = 10.05\n",
      "2020-09-22 12:20:50,773 findfont: score(<Font 'Al Nile' (Al Nile.ttc) normal normal 400 normal>) = 10.05\n",
      "2020-09-22 12:20:50,776 findfont: score(<Font 'Courier New' (Courier New Bold Italic.ttf) italic normal 700 normal>) = 11.335\n",
      "2020-09-22 12:20:50,779 findfont: score(<Font 'Noto Sans PhagsPa' (NotoSansPhagsPa-Regular.ttf) normal normal regular normal>) = 10.05\n",
      "2020-09-22 12:20:50,781 findfont: score(<Font 'Apple Braille' (Apple Braille Outline 6 Dot.ttf) normal normal 400 normal>) = 10.05\n",
      "2020-09-22 12:20:50,784 findfont: score(<Font 'Galvji' (Galvji.ttc) normal normal 400 normal>) = 10.05\n",
      "2020-09-22 12:20:50,786 findfont: score(<Font 'Optima' (Optima.ttc) normal normal regular normal>) = 10.05\n",
      "2020-09-22 12:20:50,788 findfont: score(<Font 'ITF Devanagari' (ITFDevanagari.ttc) normal normal book normal>) = 10.05\n",
      "2020-09-22 12:20:50,790 findfont: score(<Font 'Noto Sans Thaana' (NotoSansThaana-Regular.ttf) normal normal regular normal>) = 10.05\n",
      "2020-09-22 12:20:50,792 findfont: score(<Font 'Arial Unicode MS' (Arial Unicode.ttf) normal normal 400 normal>) = 10.05\n",
      "2020-09-22 12:20:50,798 findfont: score(<Font 'Arial' (Arial Italic.ttf) italic normal 400 normal>) = 1.05\n",
      "2020-09-22 12:20:50,801 findfont: score(<Font 'Lao Sangam MN' (Lao Sangam MN.ttf) normal normal 400 normal>) = 10.05\n",
      "2020-09-22 12:20:50,804 findfont: score(<Font 'Noto Sans Ol Chiki' (NotoSansOlChiki-Regular.ttf) normal normal regular normal>) = 10.05\n",
      "2020-09-22 12:20:50,805 findfont: score(<Font 'Trebuchet MS' (Trebuchet MS.ttf) normal normal 400 normal>) = 10.05\n"
     ]
    },
    {
     "name": "stderr",
     "output_type": "stream",
     "text": [
      "2020-09-22 12:20:50,806 findfont: score(<Font 'Times New Roman' (Times New Roman Italic.ttf) italic normal roman normal>) = 11.145\n",
      "2020-09-22 12:20:50,810 findfont: score(<Font 'Myanmar MN' (Myanmar MN.ttc) normal normal 400 normal>) = 10.05\n",
      "2020-09-22 12:20:50,817 findfont: score(<Font 'Avenir Next' (Avenir Next.ttc) normal normal 700 normal>) = 10.335\n",
      "2020-09-22 12:20:50,820 findfont: score(<Font 'Estrangelo Midyat' (SyrCOMMidyat.otf) normal normal 400 normal>) = 10.05\n",
      "2020-09-22 12:20:50,823 findfont: score(<Font 'AppleMyungjo' (AppleMyungjo.ttf) normal normal regular normal>) = 10.05\n",
      "2020-09-22 12:20:50,825 findfont: score(<Font 'Kannada MN' (Kannada MN.ttc) normal normal 400 normal>) = 10.05\n",
      "2020-09-22 12:20:50,827 findfont: score(<Font '.Keyboard' (Keyboard.ttf) normal normal 400 normal>) = 10.05\n",
      "2020-09-22 12:20:50,828 findfont: score(<Font 'Lucida Grande' (LucidaGrande.ttc) normal normal 400 normal>) = 10.05\n",
      "2020-09-22 12:20:50,830 findfont: score(<Font 'Noto Sans Myanmar' (NotoSansMyanmar.ttc) normal normal black normal>) = 10.525\n",
      "2020-09-22 12:20:50,834 findfont: score(<Font 'Myanmar Sangam MN' (Myanmar Sangam MN.ttc) normal normal 400 normal>) = 10.05\n",
      "2020-09-22 12:20:50,837 findfont: score(<Font 'Diwan Kufi' (Diwan Kufi.ttc) normal normal regular normal>) = 10.05\n",
      "2020-09-22 12:20:50,842 findfont: score(<Font 'Bitstream Vera Sans' (Vera.ttf) normal normal 400 normal>) = 6.05\n",
      "2020-09-22 12:20:50,844 findfont: score(<Font '.SF NS Text Condensed' (SFNSTextCondensed-Regular.otf) normal normal regular condensed>) = 10.25\n",
      "2020-09-22 12:20:50,847 findfont: score(<Font 'Impact' (Impact.ttf) normal normal 400 normal>) = 10.05\n",
      "2020-09-22 12:20:50,849 findfont: score(<Font 'Noto Nastaliq Urdu' (NotoNastaliq.ttc) normal normal 400 normal>) = 10.05\n",
      "2020-09-22 12:20:50,851 findfont: score(<Font 'Noto Sans Vai' (NotoSansVai-Regular.ttf) normal normal regular normal>) = 10.05\n",
      "2020-09-22 12:20:50,855 findfont: score(<Font 'Arial Black' (Arial Black.ttf) normal normal black normal>) = 10.525\n",
      "2020-09-22 12:20:50,857 findfont: score(<Font 'Serto Jerusalem' (SyrCOMJerusalem.otf) normal normal 400 normal>) = 10.05\n",
      "2020-09-22 12:20:50,860 findfont: score(<Font 'STIXGeneral' (STIXGeneralItalic.otf) italic normal 400 normal>) = 11.05\n",
      "2020-09-22 12:20:50,861 findfont: score(<Font 'Corsiva Hebrew' (Corsiva.ttc) normal normal 400 normal>) = 10.05\n",
      "2020-09-22 12:20:50,864 findfont: score(<Font 'Waseem' (Waseem.ttc) normal normal regular normal>) = 10.05\n",
      "2020-09-22 12:20:50,866 findfont: score(<Font '.SF NS Display Condensed' (SFNSDisplayCondensed-Ultralight.otf) normal normal ultralight condensed>) = 10.535\n",
      "2020-09-22 12:20:50,869 findfont: score(<Font 'Verdana' (Verdana Bold.ttf) normal normal 700 normal>) = 10.335\n",
      "2020-09-22 12:20:50,873 findfont: score(<Font 'Muna' (Muna.ttc) normal normal regular normal>) = 10.05\n",
      "2020-09-22 12:20:50,875 findfont: score(<Font 'Noto Sans Inscriptional Parthian' (NotoSansInscriptionalParthian-Regular.ttf) normal normal regular normal>) = 10.05\n",
      "2020-09-22 12:20:50,877 findfont: score(<Font 'Hiragino Sans' (ヒラギノ角ゴシック W6.ttc) normal normal 700 normal>) = 10.335\n",
      "2020-09-22 12:20:50,885 findfont: score(<Font 'PingFang HK' (PingFang.ttc) normal normal regular normal>) = 10.05\n",
      "2020-09-22 12:20:50,887 findfont: score(<Font 'Noto Sans Rejang' (NotoSansRejang-Regular.ttf) normal normal regular normal>) = 10.05\n",
      "2020-09-22 12:20:50,889 findfont: score(<Font 'Noto Sans Cuneiform' (NotoSansCuneiform-Regular.ttf) normal normal regular normal>) = 10.05\n",
      "2020-09-22 12:20:50,902 findfont: score(<Font '.SF NS Text Condensed' (SFNSTextCondensed-Bold.otf) normal normal bold condensed>) = 10.535\n",
      "2020-09-22 12:20:50,924 findfont: score(<Font 'Baghdad' (Baghdad.ttc) normal normal regular normal>) = 10.05\n",
      "2020-09-22 12:20:50,929 findfont: score(<Font 'Palatino' (Palatino.ttc) normal normal 400 normal>) = 10.05\n",
      "2020-09-22 12:20:50,931 findfont: score(<Font 'Wingdings 3' (Wingdings 3.ttf) normal normal 400 normal>) = 10.05\n",
      "2020-09-22 12:20:50,935 findfont: score(<Font 'Courier New' (Courier New Italic.ttf) italic normal 400 normal>) = 11.05\n",
      "2020-09-22 12:20:50,940 findfont: score(<Font 'Helvetica' (Helvetica.ttc) normal normal 400 normal>) = 10.05\n",
      "2020-09-22 12:20:50,943 findfont: score(<Font 'Mukta Mahee' (MuktaMahee.ttc) normal normal regular normal>) = 10.05\n",
      "2020-09-22 12:20:50,946 findfont: score(<Font 'STIXNonUnicode' (STIXNonUniBolIta.otf) italic normal 700 normal>) = 11.335\n",
      "2020-09-22 12:20:50,953 findfont: score(<Font 'STIXSizeTwoSym' (STIXSizTwoSymReg.otf) normal normal regular normal>) = 10.05\n",
      "2020-09-22 12:20:50,964 findfont: score(<Font 'Copperplate' (Copperplate.ttc) normal normal 400 normal>) = 10.05\n",
      "2020-09-22 12:20:50,967 findfont: score(<Font 'Noto Sans New Tai Lue' (NotoSansNewTaiLue-Regular.ttf) normal normal regular normal>) = 10.05\n",
      "2020-09-22 12:20:50,970 findfont: score(<Font 'Oriya Sangam MN' (Oriya Sangam MN.ttc) normal normal 400 normal>) = 10.05\n",
      "2020-09-22 12:20:50,974 findfont: score(<Font 'Cochin' (Cochin.ttc) normal normal 400 normal>) = 10.05\n",
      "2020-09-22 12:20:50,976 findfont: score(<Font 'Noto Sans Avestan' (NotoSansAvestan-Regular.ttf) normal normal regular normal>) = 10.05\n",
      "2020-09-22 12:20:50,981 findfont: score(<Font 'Noto Sans Buginese' (NotoSansBuginese-Regular.ttf) normal normal regular normal>) = 10.05\n",
      "2020-09-22 12:20:50,992 findfont: score(<Font 'Brush Script MT' (Brush Script.ttf) italic normal 400 normal>) = 11.05\n",
      "2020-09-22 12:20:50,997 findfont: score(<Font '.Arabic UI Text' (ArabicUIText.ttc) normal normal regular normal>) = 10.05\n",
      "2020-09-22 12:20:50,999 findfont: score(<Font 'Devanagari MT' (DevanagariMT.ttc) normal normal 400 normal>) = 10.05\n",
      "2020-09-22 12:20:51,003 findfont: score(<Font 'Goha-Tibeb Zemen' (GohaTibebZemen.otf) normal normal 400 normal>) = 10.05\n",
      "2020-09-22 12:20:51,005 findfont: score(<Font 'Bitstream Vera Sans Mono' (VeraMoBd.ttf) normal normal 700 normal>) = 10.335\n",
      "2020-09-22 12:20:51,008 findfont: score(<Font 'STIXNonUnicode' (STIXNonUniIta.otf) italic normal 400 normal>) = 11.05\n",
      "2020-09-22 12:20:51,011 findfont: score(<Font 'Bitstream Vera Sans Mono' (VeraMono.ttf) normal normal 400 normal>) = 10.05\n",
      "2020-09-22 12:20:51,015 findfont: score(<Font 'Didot' (Didot.ttc) normal normal 400 normal>) = 10.05\n",
      "2020-09-22 12:20:51,019 findfont: score(<Font 'Chalkduster' (Chalkduster.ttf) normal normal 400 normal>) = 10.05\n",
      "2020-09-22 12:20:51,023 findfont: score(<Font 'Noto Sans Tai Le' (NotoSansTaiLe-Regular.ttf) normal normal regular normal>) = 10.05\n",
      "2020-09-22 12:20:51,028 findfont: score(<Font 'STIXGeneral' (STIXGeneralBolIta.otf) italic normal 700 normal>) = 11.335\n",
      "2020-09-22 12:20:51,031 findfont: score(<Font 'Hiragino Sans' (ヒラギノ角ゴシック W4.ttc) normal normal 400 normal>) = 10.05\n",
      "2020-09-22 12:20:51,032 findfont: score(<Font 'Verdana' (Verdana Italic.ttf) italic normal 400 normal>) = 11.05\n",
      "2020-09-22 12:20:51,035 findfont: score(<Font 'Tamil Sangam MN' (Tamil Sangam MN.ttc) normal normal 400 normal>) = 10.05\n",
      "2020-09-22 12:20:51,037 findfont: score(<Font '.SF NS Mono' (SFNSMonoItalic.ttf) italic normal light normal>) = 11.24\n",
      "2020-09-22 12:20:51,039 findfont: score(<Font '.New York' (NewYorkItalic.ttf) italic normal 400 normal>) = 11.05\n",
      "2020-09-22 12:20:51,041 findfont: score(<Font 'Hiragino Sans' (ヒラギノ角ゴシック W3.ttc) normal normal 400 normal>) = 10.05\n",
      "2020-09-22 12:20:51,042 findfont: score(<Font 'Times' (Times.ttc) normal normal roman normal>) = 10.145\n",
      "2020-09-22 12:20:51,044 findfont: score(<Font 'Comic Sans MS' (Comic Sans MS Bold.ttf) normal normal 700 normal>) = 10.335\n",
      "2020-09-22 12:20:51,047 findfont: score(<Font 'Noto Sans Coptic' (NotoSansCoptic-Regular.ttf) normal normal regular normal>) = 10.05\n",
      "2020-09-22 12:20:51,053 findfont: score(<Font 'Hiragino Sans GB' (Hiragino Sans GB.ttc) normal normal 400 normal>) = 10.05\n",
      "2020-09-22 12:20:51,056 findfont: score(<Font '.SF Compact Text' (SFCompactText.ttf) normal normal 400 normal>) = 10.05\n",
      "2020-09-22 12:20:51,061 findfont: score(<Font 'Goha-Tibeb Zemen' (GohaTibebZemen.ttf) normal normal 400 normal>) = 10.05\n",
      "2020-09-22 12:20:51,065 findfont: score(<Font 'Serto Mardin' (SyrCOMMardinBold.otf) normal normal 700 normal>) = 10.335\n"
     ]
    },
    {
     "name": "stderr",
     "output_type": "stream",
     "text": [
      "2020-09-22 12:20:51,070 findfont: score(<Font 'Sana' (Sana.ttc) normal normal regular normal>) = 10.05\n",
      "2020-09-22 12:20:51,073 findfont: score(<Font 'Noto Sans Tai Viet' (NotoSansTaiViet-Regular.ttf) normal normal regular normal>) = 10.05\n",
      "2020-09-22 12:20:51,074 findfont: score(<Font 'Noto Sans Brahmi' (NotoSansBrahmi-Regular.ttf) normal normal regular normal>) = 10.05\n",
      "2020-09-22 12:20:51,076 findfont: score(<Font 'Sinhala MN' (Sinhala MN.ttc) normal normal 400 normal>) = 10.05\n",
      "2020-09-22 12:20:51,079 findfont: score(<Font 'Iowan Old Style' (Iowan Old Style.ttc) normal normal roman normal>) = 10.145\n",
      "2020-09-22 12:20:51,081 findfont: score(<Font 'Kohinoor Gujarati' (KohinoorGujarati.ttc) normal normal bold normal>) = 10.335\n",
      "2020-09-22 12:20:51,084 findfont: score(<Font 'Times New Roman' (Times New Roman Bold.ttf) normal normal 700 normal>) = 10.335\n",
      "2020-09-22 12:20:51,087 findfont: score(<Font 'Noto Sans Oriya' (NotoSansOriya.ttc) normal normal 400 normal>) = 10.05\n",
      "2020-09-22 12:20:51,093 findfont: score(<Font 'Marion' (Marion.ttc) normal normal regular normal>) = 10.05\n",
      "2020-09-22 12:20:51,096 findfont: Matching sans\\-serif:style=normal:variant=normal:weight=normal:stretch=normal:size=12.0 to Arial ('/System/Library/Fonts/Supplemental/Arial.ttf') with score of 0.050000.\n"
     ]
    },
    {
     "data": {
      "image/png": "[encoded data removed]",
      "text/plain": [
       "<Figure size 432x288 with 1 Axes>"
      ]
     },
     "metadata": {},
     "output_type": "display_data"
    }
   ],
   "source": [
    "sns.distplot(circle_data.num, kde=False).set_xlabel(\"number of stations\")"
   ]
  },
  {
   "cell_type": "markdown",
   "metadata": {},
   "source": [
    "### The number of stations that reported Rain data (non-NaN stations per circle)"
   ]
  },
  {
   "cell_type": "code",
   "execution_count": 41,
   "metadata": {},
   "outputs": [
    {
     "data": {
      "text/plain": [
       "count    68390.000000\n",
       "mean         1.053180\n",
       "std          1.383659\n",
       "min          0.000000\n",
       "25%          0.000000\n",
       "50%          1.000000\n",
       "75%          1.000000\n",
       "max         33.000000\n",
       "Name: num_notna, dtype: float64"
      ]
     },
     "execution_count": 41,
     "metadata": {},
     "output_type": "execute_result"
    }
   ],
   "source": [
    "circle_data.num_notna.describe()"
   ]
  },
  {
   "cell_type": "code",
   "execution_count": 42,
   "metadata": {},
   "outputs": [
    {
     "data": {
      "text/plain": [
       "Text(0.5, 0, 'Number of Stations with Rain Data')"
      ]
     },
     "execution_count": 42,
     "metadata": {},
     "output_type": "execute_result"
    },
    {
     "data": {
      "image/png": "[encoded data removed]",
      "text/plain": [
       "<Figure size 432x288 with 1 Axes>"
      ]
     },
     "metadata": {},
     "output_type": "display_data"
    }
   ],
   "source": [
    "sns.distplot(circle_data.num_notna, kde=False).set_xlabel(\"Number of Stations with Rain Data\")"
   ]
  },
  {
   "cell_type": "markdown",
   "metadata": {},
   "source": [
    "## Missing Stations"
   ]
  },
  {
   "cell_type": "code",
   "execution_count": 43,
   "metadata": {},
   "outputs": [
    {
     "data": {
      "text/plain": [
       "Text(0.5, 1.0, 'cumulative percent of stations missing')"
      ]
     },
     "execution_count": 43,
     "metadata": {},
     "output_type": "execute_result"
    },
    {
     "data": {
      "image/png": "[encoded data removed]",
      "text/plain": [
       "<Figure size 432x288 with 1 Axes>"
      ]
     },
     "metadata": {},
     "output_type": "display_data"
    }
   ],
   "source": [
    "# Plot the number of stations (y-axis) agiast the proportion of stations missing rain data (x-axis)\n",
    "sns.distplot((1 - circle_data.num_notna/circle_data.num) * 100, kde=False, hist_kws={'cumulative': True}).set_title('cumulative percent of stations missing')\n"
   ]
  },
  {
   "cell_type": "code",
   "execution_count": 44,
   "metadata": {},
   "outputs": [
    {
     "data": {
      "text/plain": [
       "<seaborn.axisgrid.JointGrid at 0x12ab53048>"
      ]
     },
     "execution_count": 44,
     "metadata": {},
     "output_type": "execute_result"
    },
    {
     "data": {
      "image/png": "[encoded data removed]",
      "text/plain": [
       "<Figure size 432x432 with 3 Axes>"
      ]
     },
     "metadata": {},
     "output_type": "display_data"
    }
   ],
   "source": [
    "# Plot the relationship between the nuber of stations and the proportion of stations missing Rain data\n",
    "sns.jointplot(circle_data.num, (1 - circle_data.num_notna/circle_data.num) * 100).set_axis_labels(\"number of stations\", 'percent missing')"
   ]
  },
  {
   "cell_type": "markdown",
   "metadata": {},
   "source": [
    "#### Percent of circles where all stations are missing data"
   ]
  },
  {
   "cell_type": "code",
   "execution_count": 45,
   "metadata": {},
   "outputs": [
    {
     "data": {
      "text/plain": [
       "34.19067115075303"
      ]
     },
     "execution_count": 45,
     "metadata": {},
     "output_type": "execute_result"
    }
   ],
   "source": [
    "(circle_data.num_notna == 0).sum() / len(circle_data) * 100"
   ]
  },
  {
   "cell_type": "code",
   "execution_count": 46,
   "metadata": {},
   "outputs": [
    {
     "data": {
      "text/plain": [
       "NaN      34530\n",
       "False    23847\n",
       "True     10013\n",
       "Name: c_rain, dtype: int64"
      ]
     },
     "execution_count": 46,
     "metadata": {},
     "output_type": "execute_result"
    }
   ],
   "source": [
    "circle_data.c_rain.value_counts(dropna = False)"
   ]
  },
  {
   "cell_type": "markdown",
   "metadata": {},
   "source": [
    "#### Percent of circles where no stations are missing data"
   ]
  },
  {
   "cell_type": "code",
   "execution_count": 47,
   "metadata": {},
   "outputs": [
    {
     "data": {
      "text/plain": [
       "20.592191840912413"
      ]
     },
     "execution_count": 47,
     "metadata": {},
     "output_type": "execute_result"
    }
   ],
   "source": [
    "((circle_data.num_notna == circle_data.num) & (circle_data.num > 0)).sum() / len(circle_data) * 100"
   ]
  },
  {
   "cell_type": "markdown",
   "metadata": {},
   "source": [
    "#### Percent of circles with over half of the stations reporting Rain Data"
   ]
  },
  {
   "cell_type": "code",
   "execution_count": 48,
   "metadata": {},
   "outputs": [
    {
     "data": {
      "text/plain": [
       "29.76604766778769"
      ]
     },
     "execution_count": 48,
     "metadata": {},
     "output_type": "execute_result"
    }
   ],
   "source": [
    "((circle_data.num_notna / circle_data.num) >= 0.5).sum() / len(circle_data) * 100"
   ]
  },
  {
   "cell_type": "markdown",
   "metadata": {},
   "source": [
    "## The number of stations per circle broken down by ecosystem. \n",
    "The two ecosystems calssification are ecosystem (as defined by usgs) and nlcd code\n",
    "\n",
    "The prefixes \"e_\" and \"n_\", which is same ecosystem and same nlcd code, respectfully"
   ]
  },
  {
   "cell_type": "code",
   "execution_count": 49,
   "metadata": {},
   "outputs": [
    {
     "data": {
      "text/plain": [
       "count    68390.000000\n",
       "mean         2.174675\n",
       "std          3.956987\n",
       "min          0.000000\n",
       "25%          0.000000\n",
       "50%          1.000000\n",
       "75%          2.000000\n",
       "max         52.000000\n",
       "Name: n_num, dtype: float64"
      ]
     },
     "execution_count": 49,
     "metadata": {},
     "output_type": "execute_result"
    }
   ],
   "source": [
    "# The breakdown of stations with the same nlcd code \n",
    "circle_data.n_num.describe()"
   ]
  },
  {
   "cell_type": "code",
   "execution_count": 50,
   "metadata": {},
   "outputs": [
    {
     "data": {
      "text/plain": [
       "count    68390.000000\n",
       "mean         1.517225\n",
       "std          2.816323\n",
       "min          0.000000\n",
       "25%          0.000000\n",
       "50%          0.000000\n",
       "75%          2.000000\n",
       "max         26.000000\n",
       "Name: e_num, dtype: float64"
      ]
     },
     "execution_count": 50,
     "metadata": {},
     "output_type": "execute_result"
    }
   ],
   "source": [
    "# The breakdown of stations with the same ecosystem\n",
    "circle_data.e_num.describe()"
   ]
  },
  {
   "cell_type": "code",
   "execution_count": 51,
   "metadata": {},
   "outputs": [
    {
     "data": {
      "text/plain": [
       "<matplotlib.legend.Legend at 0x12a9cfc50>"
      ]
     },
     "execution_count": 51,
     "metadata": {},
     "output_type": "execute_result"
    },
    {
     "data": {
      "image/png": "[encoded data removed]",
      "text/plain": [
       "<Figure size 432x288 with 1 Axes>"
      ]
     },
     "metadata": {},
     "output_type": "display_data"
    }
   ],
   "source": [
    "# The number of stations that share the same ncld or ecosys with their circle\n",
    "sns.distplot(circle_data.n_num, kde=False)\n",
    "ax = sns.distplot(circle_data.e_num, kde=False)\n",
    "ax.set_xlabel(\"number of stations\")\n",
    "ax.legend([\"ncld\", \"ecosys\"])"
   ]
  },
  {
   "cell_type": "markdown",
   "metadata": {},
   "source": [
    "### The number of stations with rain data in the same ecosystem classifical as the  circle"
   ]
  },
  {
   "cell_type": "code",
   "execution_count": 52,
   "metadata": {},
   "outputs": [
    {
     "data": {
      "text/plain": [
       "count    68390.000000\n",
       "mean         0.587776\n",
       "std          1.129538\n",
       "min          0.000000\n",
       "25%          0.000000\n",
       "50%          0.000000\n",
       "75%          1.000000\n",
       "max         30.000000\n",
       "Name: n_num_notna, dtype: float64"
      ]
     },
     "execution_count": 52,
     "metadata": {},
     "output_type": "execute_result"
    }
   ],
   "source": [
    "circle_data.n_num_notna.describe()"
   ]
  },
  {
   "cell_type": "code",
   "execution_count": 53,
   "metadata": {},
   "outputs": [
    {
     "data": {
      "text/plain": [
       "count    68390.000000\n",
       "mean         0.411259\n",
       "std          0.854528\n",
       "min          0.000000\n",
       "25%          0.000000\n",
       "50%          0.000000\n",
       "75%          1.000000\n",
       "max         15.000000\n",
       "Name: e_num_notna, dtype: float64"
      ]
     },
     "execution_count": 53,
     "metadata": {},
     "output_type": "execute_result"
    }
   ],
   "source": [
    "circle_data.e_num_notna.describe()"
   ]
  },
  {
   "cell_type": "code",
   "execution_count": 54,
   "metadata": {},
   "outputs": [
    {
     "data": {
      "text/plain": [
       "<matplotlib.legend.Legend at 0x12abfb2e8>"
      ]
     },
     "execution_count": 54,
     "metadata": {},
     "output_type": "execute_result"
    },
    {
     "data": {
      "image/png": "[encoded data removed]",
      "text/plain": [
       "<Figure size 432x288 with 1 Axes>"
      ]
     },
     "metadata": {},
     "output_type": "display_data"
    }
   ],
   "source": [
    "sns.distplot(circle_data.n_num_notna, kde=False)\n",
    "ax = sns.distplot(circle_data.e_num_notna, kde=False)\n",
    "ax.set_xlabel(\"number of non-NaN stations\")\n",
    "ax.legend([\"nlcd\", \"ecosys\"])"
   ]
  },
  {
   "cell_type": "code",
   "execution_count": 55,
   "metadata": {},
   "outputs": [
    {
     "data": {
      "text/plain": [
       "<matplotlib.legend.Legend at 0x12ab49080>"
      ]
     },
     "execution_count": 55,
     "metadata": {},
     "output_type": "execute_result"
    },
    {
     "data": {
      "image/png": "[encoded data removed]",
      "text/plain": [
       "<Figure size 432x288 with 1 Axes>"
      ]
     },
     "metadata": {},
     "output_type": "display_data"
    }
   ],
   "source": [
    "sns.distplot((1 - circle_data.n_num_notna/circle_data.n_num) * 100, kde=False, hist_kws={'cumulative': True})\n",
    "ax = sns.distplot((1 - circle_data.e_num_notna/circle_data.e_num) * 100, kde=False, hist_kws={'cumulative': True})\n",
    "ax.set_title('cumulative percent of stations missing')\n",
    "ax.legend([\"nlcd\", \"ecosys\"])"
   ]
  },
  {
   "cell_type": "code",
   "execution_count": 56,
   "metadata": {},
   "outputs": [
    {
     "data": {
      "text/plain": [
       "<seaborn.axisgrid.JointGrid at 0x12228f438>"
      ]
     },
     "execution_count": 56,
     "metadata": {},
     "output_type": "execute_result"
    },
    {
     "data": {
      "image/png": "[encoded data removed]",
      "text/plain": [
       "<Figure size 432x432 with 3 Axes>"
      ]
     },
     "metadata": {},
     "output_type": "display_data"
    }
   ],
   "source": [
    "sns.jointplot(circle_data.num, (1 - circle_data.n_num_notna/circle_data.n_num) * 100).set_axis_labels(\"number of stations (nlcd)\", 'percent missing')"
   ]
  },
  {
   "cell_type": "code",
   "execution_count": 57,
   "metadata": {},
   "outputs": [
    {
     "data": {
      "text/plain": [
       "<seaborn.axisgrid.JointGrid at 0x12ab47240>"
      ]
     },
     "execution_count": 57,
     "metadata": {},
     "output_type": "execute_result"
    },
    {
     "data": {
      "image/png": "[encoded data removed]",
      "text/plain": [
       "<Figure size 432x432 with 3 Axes>"
      ]
     },
     "metadata": {},
     "output_type": "display_data"
    }
   ],
   "source": [
    "sns.jointplot(circle_data.num, (1 - circle_data.e_num_notna/circle_data.e_num) * 100).set_axis_labels(\"number of stations (ecosys)\", 'percent missing')"
   ]
  },
  {
   "cell_type": "markdown",
   "metadata": {},
   "source": [
    "#### Percent of circles where all stations are missing data"
   ]
  },
  {
   "cell_type": "code",
   "execution_count": 58,
   "metadata": {},
   "outputs": [
    {
     "data": {
      "text/plain": [
       "60.91387629770434"
      ]
     },
     "execution_count": 58,
     "metadata": {},
     "output_type": "execute_result"
    }
   ],
   "source": [
    "(circle_data.n_num_notna == 0).sum() / len(circle_data) * 100"
   ]
  },
  {
   "cell_type": "code",
   "execution_count": 59,
   "metadata": {},
   "outputs": [
    {
     "data": {
      "text/plain": [
       "70.79690013159818"
      ]
     },
     "execution_count": 59,
     "metadata": {},
     "output_type": "execute_result"
    }
   ],
   "source": [
    "(circle_data.e_num_notna == 0).sum() / len(circle_data) * 100"
   ]
  },
  {
   "cell_type": "markdown",
   "metadata": {},
   "source": [
    "#### Percent of circles where no stations are missing data"
   ]
  },
  {
   "cell_type": "code",
   "execution_count": 60,
   "metadata": {},
   "outputs": [
    {
     "data": {
      "text/plain": [
       "17.761368621143443"
      ]
     },
     "execution_count": 60,
     "metadata": {},
     "output_type": "execute_result"
    }
   ],
   "source": [
    "((circle_data.n_num_notna == circle_data.n_num) & (circle_data.n_num > 0)).sum() / len(circle_data) * 100"
   ]
  },
  {
   "cell_type": "code",
   "execution_count": 61,
   "metadata": {},
   "outputs": [
    {
     "data": {
      "text/plain": [
       "14.423161280889019"
      ]
     },
     "execution_count": 61,
     "metadata": {},
     "output_type": "execute_result"
    }
   ],
   "source": [
    "((circle_data.e_num_notna == circle_data.e_num) & (circle_data.e_num > 0)).sum() / len(circle_data) * 100"
   ]
  },
  {
   "cell_type": "markdown",
   "metadata": {},
   "source": [
    "#### Percent of circles with less than half of stations missing"
   ]
  },
  {
   "cell_type": "code",
   "execution_count": 62,
   "metadata": {},
   "outputs": [
    {
     "data": {
      "text/plain": [
       "26.082760637520103"
      ]
     },
     "execution_count": 62,
     "metadata": {},
     "output_type": "execute_result"
    }
   ],
   "source": [
    "((circle_data.n_num_notna / circle_data.n_num) >= 0.5).sum() / len(circle_data) * 100"
   ]
  },
  {
   "cell_type": "code",
   "execution_count": 63,
   "metadata": {},
   "outputs": [
    {
     "data": {
      "text/plain": [
       "20.381634741921335"
      ]
     },
     "execution_count": 63,
     "metadata": {},
     "output_type": "execute_result"
    }
   ],
   "source": [
    "((circle_data.e_num_notna / circle_data.e_num) >= 0.5).sum() / len(circle_data) * 100"
   ]
  },
  {
   "cell_type": "markdown",
   "metadata": {},
   "source": [
    "## Location, Location, Location\n",
    "The next section will focus in on the stations closest to the cbc circles by distance"
   ]
  },
  {
   "cell_type": "markdown",
   "metadata": {},
   "source": [
    "#### What percent of circles had the closest station missing rain data (NaN)?"
   ]
  },
  {
   "cell_type": "code",
   "execution_count": 64,
   "metadata": {},
   "outputs": [
    {
     "data": {
      "text/plain": [
       "65.28001169761662"
      ]
     },
     "execution_count": 64,
     "metadata": {},
     "output_type": "execute_result"
    }
   ],
   "source": [
    "circle_data.rain_closest.isna().sum() / len(circle_data) * 100"
   ]
  },
  {
   "cell_type": "markdown",
   "metadata": {},
   "source": [
    "#### What percent had the average value of the reference stations differ from the closest station's value (ignoring NaNs)?"
   ]
  },
  {
   "cell_type": "code",
   "execution_count": 65,
   "metadata": {},
   "outputs": [
    {
     "data": {
      "text/plain": [
       "0.07164790174002046"
      ]
     },
     "execution_count": 65,
     "metadata": {},
     "output_type": "execute_result"
    }
   ],
   "source": [
    "# Use kleene logical indexing to skip over NAs\n",
    "(circle_data.rain_closest_notna ^ circle_data.consensus).sum() / len(circle_data) * 100"
   ]
  },
  {
   "cell_type": "code",
   "execution_count": 66,
   "metadata": {},
   "outputs": [
    {
     "data": {
      "text/plain": [
       "<matplotlib.axes._subplots.AxesSubplot at 0x129d36b38>"
      ]
     },
     "execution_count": 66,
     "metadata": {},
     "output_type": "execute_result"
    },
    {
     "data": {
      "image/png": "[encoded data removed]",
      "text/plain": [
       "<Figure size 432x288 with 1 Axes>"
      ]
     },
     "metadata": {},
     "output_type": "display_data"
    }
   ],
   "source": [
    "sns.distplot(prcp_data.distance, kde=False)"
   ]
  },
  {
   "cell_type": "markdown",
   "metadata": {},
   "source": [
    "## Elevation, Elevation, Elevation\n",
    "The next section will look at stations with the closest elivation"
   ]
  },
  {
   "cell_type": "markdown",
   "metadata": {},
   "source": [
    "#### What percent of circles had the lowest station as NaN?"
   ]
  },
  {
   "cell_type": "code",
   "execution_count": 67,
   "metadata": {},
   "outputs": [
    {
     "data": {
      "text/plain": [
       "65.79032022225472"
      ]
     },
     "execution_count": 67,
     "metadata": {},
     "output_type": "execute_result"
    }
   ],
   "source": [
    "circle_data.rain_lowest.isna().sum() / len(circle_data) * 100"
   ]
  },
  {
   "cell_type": "markdown",
   "metadata": {},
   "source": [
    "#### What percent had the average value differ from the lowest value (ignoring NaNs)?"
   ]
  },
  {
   "cell_type": "code",
   "execution_count": 68,
   "metadata": {},
   "outputs": [
    {
     "data": {
      "text/plain": [
       "0.07895891212165522"
      ]
     },
     "execution_count": 68,
     "metadata": {},
     "output_type": "execute_result"
    }
   ],
   "source": [
    "# Use kleene logical indexing to skip over NAs\n",
    "(circle_data.rain_lowest_notna ^ circle_data.consensus).sum() / len(circle_data) * 100"
   ]
  },
  {
   "cell_type": "code",
   "execution_count": 69,
   "metadata": {},
   "outputs": [
    {
     "data": {
      "text/plain": [
       "<matplotlib.axes._subplots.AxesSubplot at 0x12aa1a0b8>"
      ]
     },
     "execution_count": 69,
     "metadata": {},
     "output_type": "execute_result"
    },
    {
     "data": {
      "image/png": "[encoded data removed]",
      "text/plain": [
       "<Figure size 432x288 with 1 Axes>"
      ]
     },
     "metadata": {},
     "output_type": "display_data"
    }
   ],
   "source": [
    "sns.distplot(prcp_data.d_elev, kde=False)"
   ]
  },
  {
   "cell_type": "code",
   "execution_count": 70,
   "metadata": {},
   "outputs": [
    {
     "data": {
      "text/plain": [
       "False    30258\n",
       "NaN      25962\n",
       "True     12170\n",
       "Name: consensus, dtype: Int64"
      ]
     },
     "execution_count": 70,
     "metadata": {},
     "output_type": "execute_result"
    }
   ],
   "source": [
    "circle_data.consensus.value_counts(dropna = False)"
   ]
  },
  {
   "cell_type": "markdown",
   "metadata": {},
   "source": [
    "## Consensus of Stations\n",
    "We use `4 * p(1-p)` to estiamte the \"disagreement\" amongst stations: this value ranges from `0` (all in agrement) to `1` (evenly split)  \n",
    "(here, `p` is the fraction of non-NaN stations that are `True` for rain)"
   ]
  },
  {
   "cell_type": "markdown",
   "metadata": {},
   "source": [
    "### All Stations"
   ]
  },
  {
   "cell_type": "code",
   "execution_count": 71,
   "metadata": {},
   "outputs": [
    {
     "data": {
      "text/plain": [
       "<matplotlib.lines.Line2D at 0x1201dcd30>"
      ]
     },
     "execution_count": 71,
     "metadata": {},
     "output_type": "execute_result"
    },
    {
     "data": {
      "image/png": "[encoded data removed]",
      "text/plain": [
       "<Figure size 432x432 with 3 Axes>"
      ]
     },
     "metadata": {},
     "output_type": "display_data"
    }
   ],
   "source": [
    "# \"disagreement\" (4*p*(1-p)) by number of not NA\n",
    "# horizontal line is AGREEMENT_THRESHOLD, defined above\n",
    "p = sns.jointplot(circle_data.num_notna, 4 * circle_data.p * (1 - circle_data.p))\n",
    "p.set_axis_labels(\"stations reporting data\", '\"disgreement [4*p*(1-p)]\"')\n",
    "p.ax_joint.axhline(y = 4 * AGREEMENT_THRESHOLD * (1-AGREEMENT_THRESHOLD))"
   ]
  },
  {
   "cell_type": "markdown",
   "metadata": {},
   "source": [
    "### What percent do not meet our dissagreement threshold?"
   ]
  },
  {
   "cell_type": "code",
   "execution_count": 72,
   "metadata": {},
   "outputs": [
    {
     "data": {
      "text/plain": [
       "3.7710191548472003"
      ]
     },
     "execution_count": 72,
     "metadata": {},
     "output_type": "execute_result"
    }
   ],
   "source": [
    "# Breaking this down a bit for easy of readability \n",
    "\n",
    "# circle_data.consensus is na when p (the proportion of staions for a circle reporting rain) is NA OR p is not \n",
    "# meeting the AGREEMENT Threshold \n",
    "\n",
    "# circle_data.p is NOT na when a circle has at least one station reporting rain data \n",
    "\n",
    "# PUTTING IT TOGETHER - The below line is the percent of circles who had at least one station \n",
    "# reporting but those stations could not agree\n",
    "(circle_data.consensus.isna() & circle_data.p.notna()).sum() / len(circle_data) * 100"
   ]
  },
  {
   "cell_type": "markdown",
   "metadata": {},
   "source": [
    "### Ecosystems"
   ]
  },
  {
   "cell_type": "code",
   "execution_count": 73,
   "metadata": {},
   "outputs": [
    {
     "data": {
      "text/plain": [
       "<matplotlib.lines.Line2D at 0x11e518358>"
      ]
     },
     "execution_count": 73,
     "metadata": {},
     "output_type": "execute_result"
    },
    {
     "data": {
      "image/png": "[encoded data removed]",
      "text/plain": [
       "<Figure size 432x432 with 3 Axes>"
      ]
     },
     "metadata": {},
     "output_type": "display_data"
    }
   ],
   "source": [
    "# Agreement Plot for Stations that share ncld codes with their circles \n",
    "p = sns.jointplot(circle_data.n_num_notna, 4 * circle_data.n_p * (1 - circle_data.n_p))\n",
    "p.set_axis_labels(\"stations reporting data (nlcd)\", '\"disgreement [4*p*(1-p)]\"')\n",
    "p.ax_joint.axhline(y = 4 * AGREEMENT_THRESHOLD * (1-AGREEMENT_THRESHOLD))"
   ]
  },
  {
   "cell_type": "code",
   "execution_count": 74,
   "metadata": {},
   "outputs": [
    {
     "data": {
      "text/plain": [
       "<matplotlib.lines.Line2D at 0x11e7b4e10>"
      ]
     },
     "execution_count": 74,
     "metadata": {},
     "output_type": "execute_result"
    },
    {
     "data": {
      "image/png": "[encoded data removed]",
      "text/plain": [
       "<Figure size 432x432 with 3 Axes>"
      ]
     },
     "metadata": {},
     "output_type": "display_data"
    }
   ],
   "source": [
    "# Agreement Plot for Stations that share ecosys classification with their circles \n",
    "p = sns.jointplot(circle_data.e_num_notna, 4 * circle_data.e_p * (1 - circle_data.e_p))\n",
    "p.set_axis_labels(\"stations reporting data (ecosys)\", '\"disgreement [4*p*(1-p)]\"')\n",
    "p.ax_joint.axhline(y = 4 * AGREEMENT_THRESHOLD * (1-AGREEMENT_THRESHOLD))"
   ]
  },
  {
   "cell_type": "markdown",
   "metadata": {},
   "source": [
    "#### What percent do not meet our dissagreement threshold?"
   ]
  },
  {
   "cell_type": "code",
   "execution_count": 75,
   "metadata": {},
   "outputs": [
    {
     "data": {
      "text/plain": [
       "1.7692645123556074"
      ]
     },
     "execution_count": 75,
     "metadata": {},
     "output_type": "execute_result"
    }
   ],
   "source": [
    "# The below line counts the percentage of circles who had at least one station reporting with the same nlcd code\n",
    "# but did not meet the agreement threshold\n",
    "(circle_data.n_consensus.isna() & circle_data.n_p.notna()).sum() / len(circle_data) * 100"
   ]
  },
  {
   "cell_type": "code",
   "execution_count": 76,
   "metadata": {},
   "outputs": [
    {
     "data": {
      "text/plain": [
       "1.1419798216113468"
      ]
     },
     "execution_count": 76,
     "metadata": {},
     "output_type": "execute_result"
    }
   ],
   "source": [
    "# The below line counts the percentage of circles who had at least one station reporting with the same ecosys classifier\n",
    "# but did not meet the agreement threshold\n",
    "(circle_data.e_consensus.isna() & circle_data.e_p.notna()).sum() / len(circle_data) * 100\n"
   ]
  },
  {
   "cell_type": "markdown",
   "metadata": {},
   "source": [
    "### Consensus Breakdown by Circle Rain Reporting"
   ]
  },
  {
   "cell_type": "code",
   "execution_count": 77,
   "metadata": {},
   "outputs": [
    {
     "name": "stdout",
     "output_type": "stream",
     "text": [
      "The Count of Circles Reproting Rain:\n",
      "NaN      34530\n",
      "False    23847\n",
      "True     10013\n",
      "Name: c_rain, dtype: int64\n",
      "The Percentage of Circles Reproting Rain:\n",
      "NaN      50.489838\n",
      "False    34.869133\n",
      "True     14.641029\n",
      "Name: c_rain, dtype: float64\n"
     ]
    }
   ],
   "source": [
    "# The number and percentage  of circles that reported Rain, No Rain or are NA \n",
    "print(\"The Count of Circles Reproting Rain:\")\n",
    "print(circle_data.c_rain.value_counts(dropna = False))\n",
    "print(\"The Percentage of Circles Reproting Rain:\")\n",
    "print(circle_data.c_rain.value_counts(dropna = False, normalize = True) * 100)"
   ]
  },
  {
   "cell_type": "markdown",
   "metadata": {},
   "source": [
    "#### Break Down of Concensus for Circles that reported True for Rain"
   ]
  },
  {
   "cell_type": "code",
   "execution_count": 78,
   "metadata": {},
   "outputs": [
    {
     "name": "stdout",
     "output_type": "stream",
     "text": [
      "Rain Data Consensus Amoung All Stations where the Circle Reported Rain:\n",
      "NaN      4638\n",
      "True     3709\n",
      "False    1666\n",
      "Name: consensus, dtype: Int64\n",
      "^^ with Percentage:\n",
      "NaN      46.319784\n",
      "True     37.041846\n",
      "False    16.638370\n",
      "Name: consensus, dtype: float64\n",
      "\n",
      "Rain Data Consensus Amoung Closest Stations where the Circle Reported Rain:\n",
      "NaN      7826\n",
      "True     1425\n",
      "False     762\n",
      "Name: rain_closest, dtype: Int64\n",
      "^^ with Percentage:\n",
      "NaN      78.158394\n",
      "True     14.231499\n",
      "False     7.610107\n",
      "Name: rain_closest, dtype: float64\n",
      "\n",
      "Rain Data Consensus Amoung Closest in Elivation Stations where the Circle Reported Rain:\n",
      "NaN      7854\n",
      "True     1406\n",
      "False     753\n",
      "Name: rain_lowest, dtype: Int64\n",
      "^^ with Percentage:\n",
      "NaN      78.438031\n",
      "True     14.041746\n",
      "False     7.520224\n",
      "Name: rain_lowest, dtype: float64\n",
      "\n",
      "Rain Data Consensus Amoung Stations with the same nlcd code where the Circle Reported Rain:\n",
      "NaN      6697\n",
      "True     2267\n",
      "False    1049\n",
      "Name: n_consensus, dtype: Int64\n",
      "^^ with Percentage:\n",
      "NaN      66.883052\n",
      "True     22.640567\n",
      "False    10.476381\n",
      "Name: n_consensus, dtype: float64\n",
      "\n",
      "Rain Data Consensus Amoung Stations with the same ecosys classification where the Circle Reported Rain:\n",
      "NaN      7526\n",
      "True     1703\n",
      "False     784\n",
      "Name: e_consensus, dtype: Int64\n",
      "^^ with Percentage:\n",
      "NaN      75.162289\n",
      "True     17.007890\n",
      "False     7.829821\n",
      "Name: e_consensus, dtype: float64\n"
     ]
    }
   ],
   "source": [
    "\n",
    "print(\"Rain Data Consensus Amoung All Stations where the Circle Reported Rain:\")\n",
    "print(circle_data.loc[circle_data['c_rain'] == True].consensus.value_counts(dropna = False) )\n",
    "print(\"^^ with Percentage:\")\n",
    "print((circle_data.loc[circle_data['c_rain'] == True].consensus.value_counts(dropna = False) / len(circle_data.loc[circle_data['c_rain'] == True]) * 100))\n",
    "\n",
    "print(\"\")\n",
    "\n",
    "print(\"Rain Data Amoung Closest Stations where the Circle Reported Rain:\")\n",
    "print(circle_data.loc[circle_data['c_rain'] == True].rain_closest.value_counts(dropna = False) )\n",
    "print(\"^^ with Percentage:\")\n",
    "print((circle_data.loc[circle_data['c_rain'] == True].rain_closest.value_counts(dropna = False) / len(circle_data.loc[circle_data['c_rain'] == True]) * 100))\n",
    "\n",
    "print(\"\")\n",
    "\n",
    "print(\"Rain Data Amoung Closest in Elivation Stations where the Circle Reported Rain:\")\n",
    "print(circle_data.loc[circle_data['c_rain'] == True].rain_lowest.value_counts(dropna = False) )\n",
    "print(\"^^ with Percentage:\")\n",
    "print((circle_data.loc[circle_data['c_rain'] == True].rain_lowest.value_counts(dropna = False) / len(circle_data.loc[circle_data['c_rain'] == True]) * 100))\n",
    "\n",
    "print(\"\")\n",
    "\n",
    "print(\"Rain Data Consensus Amoung Stations with the same nlcd code where the Circle Reported Rain:\")\n",
    "print(circle_data.loc[circle_data['c_rain'] == True].n_consensus.value_counts(dropna = False) )\n",
    "print(\"^^ with Percentage:\")\n",
    "print((circle_data.loc[circle_data['c_rain'] == True].n_consensus.value_counts(dropna = False) / len(circle_data.loc[circle_data['c_rain'] == True]) * 100))\n",
    "\n",
    "print(\"\")\n",
    "\n",
    "print(\"Rain Data Consensus Amoung Stations with the same ecosys classification where the Circle Reported Rain:\")\n",
    "print(circle_data.loc[circle_data['c_rain'] == True].e_consensus.value_counts(dropna = False) )\n",
    "print(\"^^ with Percentage:\")\n",
    "print((circle_data.loc[circle_data['c_rain'] == True].e_consensus.value_counts(dropna = False) / len(circle_data.loc[circle_data['c_rain'] == True]) * 100))\n",
    "\n",
    "\n"
   ]
  },
  {
   "cell_type": "markdown",
   "metadata": {},
   "source": [
    "#### Break Down of Concensus for Circles that reported False for Rain"
   ]
  },
  {
   "cell_type": "code",
   "execution_count": 79,
   "metadata": {},
   "outputs": [
    {
     "name": "stdout",
     "output_type": "stream",
     "text": [
      "Rain Data Consensus Amoung All Stations where the Circle did NOT Report Rain:\n",
      "False    10533\n",
      "NaN       9832\n",
      "True      3482\n",
      "Name: consensus, dtype: Int64\n",
      "^^ with Percentage:\n",
      "False    44.169078\n",
      "NaN      41.229505\n",
      "True     14.601417\n",
      "Name: consensus, dtype: float64\n",
      "Rain Data Consensus Amoung Closest Stations where the Circle did NOT Report Rain:\n",
      "NaN      17761\n",
      "False     4460\n",
      "True      1626\n",
      "Name: rain_closest, dtype: Int64\n",
      "^^ with Percentage:\n",
      "NaN      74.478970\n",
      "False    18.702562\n",
      "True      6.818468\n",
      "Name: rain_closest, dtype: float64\n",
      "Rain Data Consensus Amoung Closest in Elivation Stations where the Circle did NOT Report Rain:\n",
      "NaN      17864\n",
      "False     4427\n",
      "True      1556\n",
      "Name: rain_lowest, dtype: Int64\n",
      "^^ with Percentage:\n",
      "NaN      74.91089\n",
      "False    18.56418\n",
      "True      6.52493\n",
      "Name: rain_lowest, dtype: float64\n",
      "Rain Data Consensus Amoung Stations with the same nlcd code where the Circle did NOT Report Rain:\n",
      "NaN      14820\n",
      "False     6850\n",
      "True      2177\n",
      "Name: n_consensus, dtype: Int64\n",
      "^^ with Percentage:\n",
      "NaN      62.146182\n",
      "False    28.724787\n",
      "True      9.129031\n",
      "Name: n_consensus, dtype: float64\n",
      "Rain Data Consensus Amoung Stations with the same ecosys classification where the Circle did NOT Report Rain:\n",
      "NaN      16762\n",
      "False     5397\n",
      "True      1688\n",
      "Name: e_consensus, dtype: Int64\n",
      "^^ with Percentage:\n",
      "NaN      70.289764\n",
      "False    22.631778\n",
      "True      7.078459\n",
      "Name: e_consensus, dtype: float64\n"
     ]
    }
   ],
   "source": [
    "\n",
    "print(\"Rain Data Consensus Amoung All Stations where the Circle did NOT Report Rain:\")\n",
    "print(circle_data.loc[circle_data['c_rain'] == False].consensus.value_counts(dropna = False) )\n",
    "print(\"^^ with Percentage:\")\n",
    "print((circle_data.loc[circle_data['c_rain'] == False].consensus.value_counts(dropna = False) / len(circle_data.loc[circle_data['c_rain'] == False]) * 100))\n",
    "\n",
    "print(\"Rain Data Amoung Closest Stations where the Circle did NOT Report Rain:\")\n",
    "print(circle_data.loc[circle_data['c_rain'] == False].rain_closest.value_counts(dropna = False) )\n",
    "print(\"^^ with Percentage:\")\n",
    "print((circle_data.loc[circle_data['c_rain'] == False].rain_closest.value_counts(dropna = False) / len(circle_data.loc[circle_data['c_rain'] == False]) * 100))\n",
    "\n",
    "print(\"Rain Data Amoung Closest in Elivation Stations where the Circle did NOT Report Rain:\")\n",
    "print(circle_data.loc[circle_data['c_rain'] == False].rain_lowest.value_counts(dropna = False) )\n",
    "print(\"^^ with Percentage:\")\n",
    "print((circle_data.loc[circle_data['c_rain'] == False].rain_lowest.value_counts(dropna = False) / len(circle_data.loc[circle_data['c_rain'] == False]) * 100))\n",
    "\n",
    "print(\"Rain Data Consensus Amoung Stations with the same nlcd code where the Circle did NOT Report Rain:\")\n",
    "print(circle_data.loc[circle_data['c_rain'] == False].n_consensus.value_counts(dropna = False) )\n",
    "print(\"^^ with Percentage:\")\n",
    "print((circle_data.loc[circle_data['c_rain'] == False].n_consensus.value_counts(dropna = False) / len(circle_data.loc[circle_data['c_rain'] == False]) * 100))\n",
    "\n",
    "print(\"Rain Data Consensus Amoung Stations with the same ecosys classification where the Circle did NOT Report Rain:\")\n",
    "print(circle_data.loc[circle_data['c_rain'] == False].e_consensus.value_counts(dropna = False) )\n",
    "print(\"^^ with Percentage:\")\n",
    "print((circle_data.loc[circle_data['c_rain'] == False].e_consensus.value_counts(dropna = False) / len(circle_data.loc[circle_data['c_rain'] == False]) * 100))\n",
    "\n",
    "\n"
   ]
  },
  {
   "cell_type": "markdown",
   "metadata": {},
   "source": [
    "## The Missing Station and Circle Data"
   ]
  },
  {
   "cell_type": "code",
   "execution_count": 80,
   "metadata": {},
   "outputs": [],
   "source": [
    "# Create a series indicating if a circle is missing weather data\n",
    "circle_data_na_circle_idx = circle_data.c_rain.isna()"
   ]
  },
  {
   "cell_type": "markdown",
   "metadata": {},
   "source": [
    "### Percent of circles with missing rain observation"
   ]
  },
  {
   "cell_type": "code",
   "execution_count": 81,
   "metadata": {},
   "outputs": [
    {
     "data": {
      "text/plain": [
       "50.48983769556953"
      ]
     },
     "execution_count": 81,
     "metadata": {},
     "output_type": "execute_result"
    }
   ],
   "source": [
    "circle_data_na_circle_idx.sum() / len(circle_data) * 100"
   ]
  },
  {
   "cell_type": "code",
   "execution_count": 86,
   "metadata": {},
   "outputs": [
    {
     "data": {
      "text/html": [
       "<div>\n",
       "<style scoped>\n",
       "    .dataframe tbody tr th:only-of-type {\n",
       "        vertical-align: middle;\n",
       "    }\n",
       "\n",
       "    .dataframe tbody tr th {\n",
       "        vertical-align: top;\n",
       "    }\n",
       "\n",
       "    .dataframe thead th {\n",
       "        text-align: right;\n",
       "    }\n",
       "</style>\n",
       "<table border=\"1\" class=\"dataframe\">\n",
       "  <thead>\n",
       "    <tr style=\"text-align: right;\">\n",
       "      <th></th>\n",
       "      <th></th>\n",
       "      <th>c_name</th>\n",
       "      <th>ui</th>\n",
       "      <th>country_state</th>\n",
       "      <th>c_lat</th>\n",
       "      <th>c_lon</th>\n",
       "      <th>c_rain</th>\n",
       "      <th>num</th>\n",
       "      <th>num_notna</th>\n",
       "      <th>num_true</th>\n",
       "      <th>e_num</th>\n",
       "      <th>...</th>\n",
       "      <th>p</th>\n",
       "      <th>e_p</th>\n",
       "      <th>n_p</th>\n",
       "      <th>rain_closest</th>\n",
       "      <th>rain_closest_notna</th>\n",
       "      <th>rain_lowest</th>\n",
       "      <th>rain_lowest_notna</th>\n",
       "      <th>consensus</th>\n",
       "      <th>e_consensus</th>\n",
       "      <th>n_consensus</th>\n",
       "    </tr>\n",
       "    <tr>\n",
       "      <th>c_id</th>\n",
       "      <th>count_date</th>\n",
       "      <th></th>\n",
       "      <th></th>\n",
       "      <th></th>\n",
       "      <th></th>\n",
       "      <th></th>\n",
       "      <th></th>\n",
       "      <th></th>\n",
       "      <th></th>\n",
       "      <th></th>\n",
       "      <th></th>\n",
       "      <th></th>\n",
       "      <th></th>\n",
       "      <th></th>\n",
       "      <th></th>\n",
       "      <th></th>\n",
       "      <th></th>\n",
       "      <th></th>\n",
       "      <th></th>\n",
       "      <th></th>\n",
       "      <th></th>\n",
       "      <th></th>\n",
       "    </tr>\n",
       "  </thead>\n",
       "  <tbody>\n",
       "    <tr>\n",
       "      <th>87ymwsn</th>\n",
       "      <th>1968-12-26</th>\n",
       "      <td>Kaua'i: Waimea</td>\n",
       "      <td>22.0833-159.6667_1969</td>\n",
       "      <td>US-HI</td>\n",
       "      <td>22.0833</td>\n",
       "      <td>-159.6667</td>\n",
       "      <td>False</td>\n",
       "      <td>1</td>\n",
       "      <td>0</td>\n",
       "      <td>0</td>\n",
       "      <td>0</td>\n",
       "      <td>...</td>\n",
       "      <td>NaN</td>\n",
       "      <td>NaN</td>\n",
       "      <td>NaN</td>\n",
       "      <td>&lt;NA&gt;</td>\n",
       "      <td>&lt;NA&gt;</td>\n",
       "      <td>&lt;NA&gt;</td>\n",
       "      <td>&lt;NA&gt;</td>\n",
       "      <td>&lt;NA&gt;</td>\n",
       "      <td>&lt;NA&gt;</td>\n",
       "      <td>&lt;NA&gt;</td>\n",
       "    </tr>\n",
       "    <tr>\n",
       "      <th rowspan=\"4\" valign=\"top\">87ysunb</th>\n",
       "      <th>1971-12-27</th>\n",
       "      <td>Kaua'i: Lihu'e</td>\n",
       "      <td>21.9667-159.4333_1972</td>\n",
       "      <td>US-HI</td>\n",
       "      <td>21.9667</td>\n",
       "      <td>-159.4333</td>\n",
       "      <td>True</td>\n",
       "      <td>13</td>\n",
       "      <td>0</td>\n",
       "      <td>0</td>\n",
       "      <td>0</td>\n",
       "      <td>...</td>\n",
       "      <td>NaN</td>\n",
       "      <td>NaN</td>\n",
       "      <td>NaN</td>\n",
       "      <td>&lt;NA&gt;</td>\n",
       "      <td>&lt;NA&gt;</td>\n",
       "      <td>&lt;NA&gt;</td>\n",
       "      <td>&lt;NA&gt;</td>\n",
       "      <td>&lt;NA&gt;</td>\n",
       "      <td>&lt;NA&gt;</td>\n",
       "      <td>&lt;NA&gt;</td>\n",
       "    </tr>\n",
       "    <tr>\n",
       "      <th>1972-12-17</th>\n",
       "      <td>Kaua'i: Lihu'e</td>\n",
       "      <td>21.9667-159.4333_1973</td>\n",
       "      <td>US-HI</td>\n",
       "      <td>21.9667</td>\n",
       "      <td>-159.4333</td>\n",
       "      <td>True</td>\n",
       "      <td>13</td>\n",
       "      <td>0</td>\n",
       "      <td>0</td>\n",
       "      <td>0</td>\n",
       "      <td>...</td>\n",
       "      <td>NaN</td>\n",
       "      <td>NaN</td>\n",
       "      <td>NaN</td>\n",
       "      <td>&lt;NA&gt;</td>\n",
       "      <td>&lt;NA&gt;</td>\n",
       "      <td>&lt;NA&gt;</td>\n",
       "      <td>&lt;NA&gt;</td>\n",
       "      <td>&lt;NA&gt;</td>\n",
       "      <td>&lt;NA&gt;</td>\n",
       "      <td>&lt;NA&gt;</td>\n",
       "    </tr>\n",
       "    <tr>\n",
       "      <th>1973-12-16</th>\n",
       "      <td>Kaua'i: Lihu'e</td>\n",
       "      <td>21.9667-159.4333_1974</td>\n",
       "      <td>US-HI</td>\n",
       "      <td>21.9667</td>\n",
       "      <td>-159.4333</td>\n",
       "      <td>NaN</td>\n",
       "      <td>13</td>\n",
       "      <td>2</td>\n",
       "      <td>0</td>\n",
       "      <td>0</td>\n",
       "      <td>...</td>\n",
       "      <td>0.0</td>\n",
       "      <td>NaN</td>\n",
       "      <td>NaN</td>\n",
       "      <td>&lt;NA&gt;</td>\n",
       "      <td>False</td>\n",
       "      <td>&lt;NA&gt;</td>\n",
       "      <td>False</td>\n",
       "      <td>False</td>\n",
       "      <td>&lt;NA&gt;</td>\n",
       "      <td>&lt;NA&gt;</td>\n",
       "    </tr>\n",
       "    <tr>\n",
       "      <th>1974-12-15</th>\n",
       "      <td>Kaua'i: Lihu'e</td>\n",
       "      <td>21.9667-159.4333_1975</td>\n",
       "      <td>US-HI</td>\n",
       "      <td>21.9667</td>\n",
       "      <td>-159.4333</td>\n",
       "      <td>True</td>\n",
       "      <td>13</td>\n",
       "      <td>0</td>\n",
       "      <td>0</td>\n",
       "      <td>0</td>\n",
       "      <td>...</td>\n",
       "      <td>NaN</td>\n",
       "      <td>NaN</td>\n",
       "      <td>NaN</td>\n",
       "      <td>&lt;NA&gt;</td>\n",
       "      <td>&lt;NA&gt;</td>\n",
       "      <td>&lt;NA&gt;</td>\n",
       "      <td>&lt;NA&gt;</td>\n",
       "      <td>&lt;NA&gt;</td>\n",
       "      <td>&lt;NA&gt;</td>\n",
       "      <td>&lt;NA&gt;</td>\n",
       "    </tr>\n",
       "  </tbody>\n",
       "</table>\n",
       "<p>5 rows × 25 columns</p>\n",
       "</div>"
      ],
      "text/plain": [
       "                            c_name                     ui country_state  \\\n",
       "c_id    count_date                                                        \n",
       "87ymwsn 1968-12-26  Kaua'i: Waimea  22.0833-159.6667_1969         US-HI   \n",
       "87ysunb 1971-12-27  Kaua'i: Lihu'e  21.9667-159.4333_1972         US-HI   \n",
       "        1972-12-17  Kaua'i: Lihu'e  21.9667-159.4333_1973         US-HI   \n",
       "        1973-12-16  Kaua'i: Lihu'e  21.9667-159.4333_1974         US-HI   \n",
       "        1974-12-15  Kaua'i: Lihu'e  21.9667-159.4333_1975         US-HI   \n",
       "\n",
       "                      c_lat     c_lon c_rain  num  num_notna  num_true  e_num  \\\n",
       "c_id    count_date                                                              \n",
       "87ymwsn 1968-12-26  22.0833 -159.6667  False    1          0         0      0   \n",
       "87ysunb 1971-12-27  21.9667 -159.4333   True   13          0         0      0   \n",
       "        1972-12-17  21.9667 -159.4333   True   13          0         0      0   \n",
       "        1973-12-16  21.9667 -159.4333    NaN   13          2         0      0   \n",
       "        1974-12-15  21.9667 -159.4333   True   13          0         0      0   \n",
       "\n",
       "                    ...    p  e_p  n_p  rain_closest  rain_closest_notna  \\\n",
       "c_id    count_date  ...                                                    \n",
       "87ymwsn 1968-12-26  ...  NaN  NaN  NaN          <NA>                <NA>   \n",
       "87ysunb 1971-12-27  ...  NaN  NaN  NaN          <NA>                <NA>   \n",
       "        1972-12-17  ...  NaN  NaN  NaN          <NA>                <NA>   \n",
       "        1973-12-16  ...  0.0  NaN  NaN          <NA>               False   \n",
       "        1974-12-15  ...  NaN  NaN  NaN          <NA>                <NA>   \n",
       "\n",
       "                    rain_lowest  rain_lowest_notna  consensus  e_consensus  \\\n",
       "c_id    count_date                                                           \n",
       "87ymwsn 1968-12-26         <NA>               <NA>       <NA>         <NA>   \n",
       "87ysunb 1971-12-27         <NA>               <NA>       <NA>         <NA>   \n",
       "        1972-12-17         <NA>               <NA>       <NA>         <NA>   \n",
       "        1973-12-16         <NA>              False      False         <NA>   \n",
       "        1974-12-15         <NA>               <NA>       <NA>         <NA>   \n",
       "\n",
       "                    n_consensus  \n",
       "c_id    count_date               \n",
       "87ymwsn 1968-12-26         <NA>  \n",
       "87ysunb 1971-12-27         <NA>  \n",
       "        1972-12-17         <NA>  \n",
       "        1973-12-16         <NA>  \n",
       "        1974-12-15         <NA>  \n",
       "\n",
       "[5 rows x 25 columns]"
      ]
     },
     "execution_count": 86,
     "metadata": {},
     "output_type": "execute_result"
    }
   ],
   "source": [
    "circle_data.head()"
   ]
  },
  {
   "cell_type": "code",
   "execution_count": 82,
   "metadata": {},
   "outputs": [
    {
     "data": {
      "text/plain": [
       "(68390, 25)"
      ]
     },
     "execution_count": 82,
     "metadata": {},
     "output_type": "execute_result"
    }
   ],
   "source": [
    "circle_data.shape"
   ]
  },
  {
   "cell_type": "code",
   "execution_count": 85,
   "metadata": {},
   "outputs": [
    {
     "data": {
      "text/plain": [
       "68390"
      ]
     },
     "execution_count": 85,
     "metadata": {},
     "output_type": "execute_result"
    }
   ],
   "source": [
    "circle_data['ui'].nunique()"
   ]
  },
  {
   "cell_type": "markdown",
   "metadata": {},
   "source": [
    "### Count of circles with missing rain observation"
   ]
  },
  {
   "cell_type": "code",
   "execution_count": 81,
   "metadata": {},
   "outputs": [
    {
     "name": "stdout",
     "output_type": "stream",
     "text": [
      "Circles with missing Rain Data: \n",
      "34530\n",
      "Circles with NO missing Rain Data: \n",
      "33860\n"
     ]
    }
   ],
   "source": [
    "print(\"Circles with missing Rain Data: \")\n",
    "print(circle_data_na_circle_idx.sum())\n",
    "print(\"Circles with NO missing Rain Data: \")\n",
    "print(len(circle_data) - circle_data_na_circle_idx.sum())"
   ]
  },
  {
   "cell_type": "markdown",
   "metadata": {},
   "source": [
    "### Percent of circles with both volunteer and all station data are missing"
   ]
  },
  {
   "cell_type": "code",
   "execution_count": 82,
   "metadata": {},
   "outputs": [
    {
     "data": {
      "text/plain": [
       "15.454013744699518"
      ]
     },
     "execution_count": 82,
     "metadata": {},
     "output_type": "execute_result"
    }
   ],
   "source": [
    "# joint\n",
    "(circle_data_na_circle_idx & (circle_data.num_notna == 0)).sum() / len(circle_data) * 100"
   ]
  },
  {
   "cell_type": "code",
   "execution_count": 83,
   "metadata": {},
   "outputs": [
    {
     "data": {
      "text/plain": [
       "30.60816681146829"
      ]
     },
     "execution_count": 83,
     "metadata": {},
     "output_type": "execute_result"
    }
   ],
   "source": [
    "# conditional \n",
    "(circle_data_na_circle_idx & (circle_data.num_notna == 0)).sum() / circle_data_na_circle_idx.sum() * 100"
   ]
  },
  {
   "cell_type": "code",
   "execution_count": 84,
   "metadata": {},
   "outputs": [
    {
     "data": {
      "text/plain": [
       "34.19067115075303"
      ]
     },
     "execution_count": 84,
     "metadata": {},
     "output_type": "execute_result"
    }
   ],
   "source": [
    "# population\n",
    "(circle_data.num_notna == 0).sum() / len(circle_data) * 100"
   ]
  },
  {
   "cell_type": "markdown",
   "metadata": {},
   "source": [
    "### Correlation between the two"
   ]
  },
  {
   "cell_type": "code",
   "execution_count": 85,
   "metadata": {},
   "outputs": [
    {
     "data": {
      "text/plain": [
       "(397.49296252269755, 1.9350377138866115e-88)"
      ]
     },
     "execution_count": 85,
     "metadata": {},
     "output_type": "execute_result"
    }
   ],
   "source": [
    "g, p, dof, expctd = stats.chi2_contingency(pd.crosstab(circle_data_na_circle_idx, circle_data.num_notna == 0))\n",
    "g, p"
   ]
  },
  {
   "cell_type": "markdown",
   "metadata": {},
   "source": [
    "If the circle is missing data, it is much more likely that all other stations will too, when compared to the general population"
   ]
  },
  {
   "cell_type": "markdown",
   "metadata": {},
   "source": [
    "#### Count and Percent of Stations Reporting if the Circle Reported Rain Data"
   ]
  },
  {
   "cell_type": "code",
   "execution_count": 86,
   "metadata": {},
   "outputs": [
    {
     "name": "stdout",
     "output_type": "stream",
     "text": [
      "Stations with missing Rain Data IF the the Circle is Reporting:\n",
      "12814\n",
      "37.84406379208506\n",
      "Stations with NO missing Rain Data IF the Circle is Reporting: \n",
      "21046\n",
      "62.15593620791494\n"
     ]
    }
   ],
   "source": [
    "print(\"Stations with missing Rain Data IF the the Circle is Reporting:\")\n",
    "print(circle_data[(~circle_data_na_circle_idx) & (circle_data.num_notna == 0)].shape[0])\n",
    "print(circle_data[(~circle_data_na_circle_idx) & (circle_data.num_notna == 0)].shape[0] / len(circle_data[~circle_data_na_circle_idx]) * 100 )\n",
    "print(\"Stations with NO missing Rain Data IF the Circle is Reporting: \")\n",
    "print(circle_data[(~circle_data_na_circle_idx) & (circle_data.num_notna != 0)].shape[0])\n",
    "print(circle_data[(~circle_data_na_circle_idx) & (circle_data.num_notna != 0)].shape[0] / len(circle_data[~circle_data_na_circle_idx]) * 100 )\n"
   ]
  },
  {
   "cell_type": "markdown",
   "metadata": {},
   "source": [
    "### Percent of circles with both volunteer and the closest station data are missing"
   ]
  },
  {
   "cell_type": "code",
   "execution_count": 87,
   "metadata": {},
   "outputs": [
    {
     "data": {
      "text/plain": [
       "27.86664717063898"
      ]
     },
     "execution_count": 87,
     "metadata": {},
     "output_type": "execute_result"
    }
   ],
   "source": [
    "# joint\n",
    "(circle_data_na_circle_idx & circle_data.rain_closest.isna()).sum()  / len(circle_data) * 100"
   ]
  },
  {
   "cell_type": "code",
   "execution_count": 88,
   "metadata": {},
   "outputs": [
    {
     "data": {
      "text/plain": [
       "55.192586156964964"
      ]
     },
     "execution_count": 88,
     "metadata": {},
     "output_type": "execute_result"
    }
   ],
   "source": [
    "# conditional \n",
    "(circle_data_na_circle_idx & circle_data.rain_closest.isna()).sum() / circle_data_na_circle_idx.sum() * 100"
   ]
  },
  {
   "cell_type": "code",
   "execution_count": 89,
   "metadata": {},
   "outputs": [
    {
     "data": {
      "text/plain": [
       "65.28001169761662"
      ]
     },
     "execution_count": 89,
     "metadata": {},
     "output_type": "execute_result"
    }
   ],
   "source": [
    "# population\n",
    "circle_data.rain_closest.isna().sum() / len(circle_data) * 100"
   ]
  },
  {
   "cell_type": "code",
   "execution_count": 90,
   "metadata": {},
   "outputs": [
    {
     "data": {
      "text/plain": [
       "(3130.245692881584, 0.0)"
      ]
     },
     "execution_count": 90,
     "metadata": {},
     "output_type": "execute_result"
    }
   ],
   "source": [
    "g, p, dof, expctd = stats.chi2_contingency(pd.crosstab(circle_data_na_circle_idx, circle_data.rain_closest.isna()))\n",
    "g, p"
   ]
  },
  {
   "cell_type": "markdown",
   "metadata": {},
   "source": [
    "If the circle is missing data, it is much **less** likely that the closest station will have missing data, when compared to the general population"
   ]
  },
  {
   "cell_type": "markdown",
   "metadata": {},
   "source": [
    "#### Count and Percent of Closest Stations Reporting if the Circle Reported Rain Data"
   ]
  },
  {
   "cell_type": "code",
   "execution_count": 91,
   "metadata": {},
   "outputs": [
    {
     "name": "stdout",
     "output_type": "stream",
     "text": [
      "Closest Stations with missing Rain Data IF the the Circle is Reporting:\n",
      "25587\n",
      "75.56704075605434\n",
      "Closest Stations with NO missing Rain Data IF the Circle is Reporting: \n",
      "8273\n",
      "24.43295924394566\n"
     ]
    }
   ],
   "source": [
    "print(\"Closest Stations with missing Rain Data IF the the Circle is Reporting:\")\n",
    "print(circle_data[(~circle_data_na_circle_idx) & (circle_data.rain_closest.isna())].shape[0])\n",
    "print(circle_data[(~circle_data_na_circle_idx) & (circle_data.rain_closest.isna())].shape[0] / len(circle_data[~circle_data_na_circle_idx]) * 100 )\n",
    "print(\"Closest Stations with NO missing Rain Data IF the Circle is Reporting: \")\n",
    "print(circle_data[(~circle_data_na_circle_idx) & (~circle_data.rain_closest.isna())].shape[0])\n",
    "print(circle_data[(~circle_data_na_circle_idx) & (~circle_data.rain_closest.isna())].shape[0] / len(circle_data[~circle_data_na_circle_idx]) * 100 )\n"
   ]
  },
  {
   "cell_type": "markdown",
   "metadata": {},
   "source": [
    "### Percent of circles with both volunteer and the lowest station data are missing"
   ]
  },
  {
   "cell_type": "code",
   "execution_count": 92,
   "metadata": {},
   "outputs": [
    {
     "data": {
      "text/plain": [
       "28.185407223278258"
      ]
     },
     "execution_count": 92,
     "metadata": {},
     "output_type": "execute_result"
    }
   ],
   "source": [
    "# joint\n",
    "(circle_data_na_circle_idx & circle_data.rain_lowest.isna()).sum()  / len(circle_data) * 100"
   ]
  },
  {
   "cell_type": "code",
   "execution_count": 93,
   "metadata": {},
   "outputs": [
    {
     "data": {
      "text/plain": [
       "55.82392122791775"
      ]
     },
     "execution_count": 93,
     "metadata": {},
     "output_type": "execute_result"
    }
   ],
   "source": [
    "# conditional \n",
    "(circle_data_na_circle_idx & circle_data.rain_lowest.isna()).sum() / circle_data_na_circle_idx.sum() * 100"
   ]
  },
  {
   "cell_type": "code",
   "execution_count": 94,
   "metadata": {},
   "outputs": [
    {
     "data": {
      "text/plain": [
       "65.79032022225472"
      ]
     },
     "execution_count": 94,
     "metadata": {},
     "output_type": "execute_result"
    }
   ],
   "source": [
    "# population\n",
    "circle_data.rain_lowest.isna().sum() / len(circle_data) * 100"
   ]
  },
  {
   "cell_type": "code",
   "execution_count": 95,
   "metadata": {},
   "outputs": [
    {
     "data": {
      "text/plain": [
       "(3077.0995889506353, 0.0)"
      ]
     },
     "execution_count": 95,
     "metadata": {},
     "output_type": "execute_result"
    }
   ],
   "source": [
    "g, p, dof, expctd = stats.chi2_contingency(pd.crosstab(circle_data_na_circle_idx, circle_data.rain_lowest.isna()))\n",
    "g, p"
   ]
  },
  {
   "cell_type": "markdown",
   "metadata": {},
   "source": [
    "If the circle is missing data, it is much **less** likely that the lowest station will have missing data, when compared to the general population"
   ]
  },
  {
   "cell_type": "markdown",
   "metadata": {},
   "source": [
    "#### Count and Percent of Closest Elivation Stations Reporting if the Circle Reported Rain Data"
   ]
  },
  {
   "cell_type": "code",
   "execution_count": 96,
   "metadata": {},
   "outputs": [
    {
     "name": "stdout",
     "output_type": "stream",
     "text": [
      "Closest Elivation Stations with missing Rain Data IF the the Circle is Reporting:\n",
      "25718\n",
      "75.95392793857059\n",
      "Closest Elivation Stations with NO missing Rain Data IF the Circle is Reporting: \n",
      "8142\n",
      "24.046072061429417\n"
     ]
    }
   ],
   "source": [
    "print(\"Closest Elivation Stations with missing Rain Data IF the the Circle is Reporting:\")\n",
    "print(circle_data[(~circle_data_na_circle_idx) & (circle_data.rain_lowest.isna())].shape[0])\n",
    "print(circle_data[(~circle_data_na_circle_idx) & (circle_data.rain_lowest.isna())].shape[0] / len(circle_data[~circle_data_na_circle_idx]) * 100 )\n",
    "print(\"Closest Elivation Stations with NO missing Rain Data IF the Circle is Reporting: \")\n",
    "print(circle_data[(~circle_data_na_circle_idx) & (~circle_data.rain_lowest.isna())].shape[0])\n",
    "print(circle_data[(~circle_data_na_circle_idx) & (~circle_data.rain_lowest.isna())].shape[0] / len(circle_data[~circle_data_na_circle_idx]) * 100 )\n"
   ]
  },
  {
   "cell_type": "markdown",
   "metadata": {},
   "source": [
    "### Number of stations for circles with missing data"
   ]
  },
  {
   "cell_type": "code",
   "execution_count": 97,
   "metadata": {},
   "outputs": [
    {
     "data": {
      "text/plain": [
       "(2412.6366363638845, 0.0)"
      ]
     },
     "execution_count": 97,
     "metadata": {},
     "output_type": "execute_result"
    }
   ],
   "source": [
    "actl = pd.crosstab(circle_data_na_circle_idx, circle_data.num_notna)\n",
    "g, p, dof, expctd = stats.chi2_contingency(actl)\n",
    "g, p"
   ]
  },
  {
   "cell_type": "code",
   "execution_count": 98,
   "metadata": {},
   "outputs": [
    {
     "data": {
      "text/plain": [
       "<matplotlib.axes._subplots.AxesSubplot at 0x118cb55f8>"
      ]
     },
     "execution_count": 98,
     "metadata": {},
     "output_type": "execute_result"
    },
    {
     "data": {
      "image/png": "[encoded data removed]",
      "text/plain": [
       "<Figure size 432x288 with 1 Axes>"
      ]
     },
     "metadata": {},
     "output_type": "display_data"
    }
   ],
   "source": [
    "sns.barplot(np.arange(expctd.shape[1]), actl.loc[True] - expctd[1, :])"
   ]
  },
  {
   "cell_type": "markdown",
   "metadata": {},
   "source": [
    "it looks like the circle being missing implies that there is only one non-na station?"
   ]
  },
  {
   "cell_type": "markdown",
   "metadata": {},
   "source": [
    "### Disagreement"
   ]
  },
  {
   "cell_type": "code",
   "execution_count": 99,
   "metadata": {},
   "outputs": [
    {
     "data": {
      "text/plain": [
       "<matplotlib.lines.Line2D at 0x1171d53c8>"
      ]
     },
     "execution_count": 99,
     "metadata": {},
     "output_type": "execute_result"
    },
    {
     "data": {
      "image/png": "[encoded data removed]",
      "text/plain": [
       "<Figure size 432x432 with 3 Axes>"
      ]
     },
     "metadata": {},
     "output_type": "display_data"
    }
   ],
   "source": [
    "# \"disagreement\" (4*p*(1-p)) by number of not NA\n",
    "# horizontal line is AGREEMENT_THRESHOLD, defined above\n",
    "p = sns.jointplot(circle_data.loc[circle_data_na_circle_idx, 'num_notna'], \n",
    "                  4 * circle_data.loc[circle_data_na_circle_idx, 'p'] * (1 - circle_data.loc[circle_data_na_circle_idx, 'p']))\n",
    "p.ax_joint.scatter(circle_data.num_notna, 4 * circle_data.p * (1 - circle_data.p), color='pink', marker='x', alpha=0.5)\n",
    "p.set_axis_labels(\"number NaN\", '\"disgreement [4*p*(1-p)]\"')\n",
    "p.ax_joint.axhline(y = 4 * AGREEMENT_THRESHOLD * (1-AGREEMENT_THRESHOLD))"
   ]
  },
  {
   "cell_type": "markdown",
   "metadata": {},
   "source": [
    "### What percent do not meet our dissagreement threshold?"
   ]
  },
  {
   "cell_type": "code",
   "execution_count": 100,
   "metadata": {},
   "outputs": [
    {
     "data": {
      "text/plain": [
       "16.80362626114929"
      ]
     },
     "execution_count": 100,
     "metadata": {},
     "output_type": "execute_result"
    }
   ],
   "source": [
    "# joint\n",
    "circle_data.loc[circle_data_na_circle_idx, 'consensus'].isna().sum() / len(circle_data) * 100"
   ]
  },
  {
   "cell_type": "code",
   "execution_count": 101,
   "metadata": {},
   "outputs": [
    {
     "data": {
      "text/plain": [
       "33.28120474949319"
      ]
     },
     "execution_count": 101,
     "metadata": {},
     "output_type": "execute_result"
    }
   ],
   "source": [
    "# conditional\n",
    "circle_data.loc[circle_data_na_circle_idx, 'consensus'].isna().sum() / circle_data_na_circle_idx.sum() * 100"
   ]
  },
  {
   "cell_type": "code",
   "execution_count": 102,
   "metadata": {},
   "outputs": [
    {
     "data": {
      "text/plain": [
       "37.96169030560023"
      ]
     },
     "execution_count": 102,
     "metadata": {},
     "output_type": "execute_result"
    }
   ],
   "source": [
    "# population\n",
    "circle_data.consensus.isna().sum() / len(circle_data) * 100"
   ]
  },
  {
   "cell_type": "code",
   "execution_count": 103,
   "metadata": {},
   "outputs": [
    {
     "data": {
      "text/plain": [
       "(648.3504089430816, 5.103468202483568e-143)"
      ]
     },
     "execution_count": 103,
     "metadata": {},
     "output_type": "execute_result"
    }
   ],
   "source": [
    "actl = pd.crosstab(circle_data_na_circle_idx, circle_data.consensus.isna())\n",
    "g, p, dof, expctd = stats.chi2_contingency(actl)\n",
    "g, p"
   ]
  },
  {
   "cell_type": "code",
   "execution_count": 104,
   "metadata": {},
   "outputs": [
    {
     "data": {
      "text/html": [
       "<div>\n",
       "<style scoped>\n",
       "    .dataframe tbody tr th:only-of-type {\n",
       "        vertical-align: middle;\n",
       "    }\n",
       "\n",
       "    .dataframe tbody tr th {\n",
       "        vertical-align: top;\n",
       "    }\n",
       "\n",
       "    .dataframe thead th {\n",
       "        text-align: right;\n",
       "    }\n",
       "</style>\n",
       "<table border=\"1\" class=\"dataframe\">\n",
       "  <thead>\n",
       "    <tr style=\"text-align: right;\">\n",
       "      <th>consensus</th>\n",
       "      <th>False</th>\n",
       "      <th>True</th>\n",
       "    </tr>\n",
       "    <tr>\n",
       "      <th>c_rain</th>\n",
       "      <th></th>\n",
       "      <th></th>\n",
       "    </tr>\n",
       "  </thead>\n",
       "  <tbody>\n",
       "    <tr>\n",
       "      <th>False</th>\n",
       "      <td>-1616.171663</td>\n",
       "      <td>1616.171663</td>\n",
       "    </tr>\n",
       "    <tr>\n",
       "      <th>True</th>\n",
       "      <td>1616.171663</td>\n",
       "      <td>-1616.171663</td>\n",
       "    </tr>\n",
       "  </tbody>\n",
       "</table>\n",
       "</div>"
      ],
      "text/plain": [
       "consensus        False        True \n",
       "c_rain                             \n",
       "False     -1616.171663  1616.171663\n",
       "True       1616.171663 -1616.171663"
      ]
     },
     "execution_count": 104,
     "metadata": {},
     "output_type": "execute_result"
    }
   ],
   "source": [
    "actl - expctd"
   ]
  },
  {
   "cell_type": "markdown",
   "metadata": {},
   "source": [
    "Missing your rain data imples the stations are more likely to consense"
   ]
  },
  {
   "cell_type": "markdown",
   "metadata": {},
   "source": [
    "# The Truth: Reference Stations Vs Other Reference Station Data\n",
    "\n",
    "This just station data all by itself (station data vs station data)\n",
    "\n",
    "Testing to see if there is that much difference between the \"truth\" from the different station metrics (ie, consensus, consensus amongst the same ecosystem)"
   ]
  },
  {
   "cell_type": "markdown",
   "metadata": {},
   "source": [
    "How often does it rain?"
   ]
  },
  {
   "cell_type": "code",
   "execution_count": 105,
   "metadata": {},
   "outputs": [
    {
     "data": {
      "text/plain": [
       "0.28683887998491564"
      ]
     },
     "execution_count": 105,
     "metadata": {},
     "output_type": "execute_result"
    }
   ],
   "source": [
    "# Proportion of circle's stations with consensus reporting True / count of all circlce's stations with a consenseus \n",
    "circle_data.consensus.sum()/ circle_data.consensus.count()"
   ]
  },
  {
   "cell_type": "markdown",
   "metadata": {},
   "source": [
    "### Location & Consensus"
   ]
  },
  {
   "cell_type": "code",
   "execution_count": 106,
   "metadata": {},
   "outputs": [
    {
     "data": {
      "text/html": [
       "<div>\n",
       "<style scoped>\n",
       "    .dataframe tbody tr th:only-of-type {\n",
       "        vertical-align: middle;\n",
       "    }\n",
       "\n",
       "    .dataframe tbody tr th {\n",
       "        vertical-align: top;\n",
       "    }\n",
       "\n",
       "    .dataframe thead th {\n",
       "        text-align: right;\n",
       "    }\n",
       "</style>\n",
       "<table border=\"1\" class=\"dataframe\">\n",
       "  <thead>\n",
       "    <tr style=\"text-align: right;\">\n",
       "      <th>rain_closest_notna</th>\n",
       "      <th>False</th>\n",
       "      <th>True</th>\n",
       "      <th>All</th>\n",
       "    </tr>\n",
       "    <tr>\n",
       "      <th>consensus</th>\n",
       "      <th></th>\n",
       "      <th></th>\n",
       "      <th></th>\n",
       "    </tr>\n",
       "  </thead>\n",
       "  <tbody>\n",
       "    <tr>\n",
       "      <th>False</th>\n",
       "      <td>30235</td>\n",
       "      <td>23</td>\n",
       "      <td>30258</td>\n",
       "    </tr>\n",
       "    <tr>\n",
       "      <th>True</th>\n",
       "      <td>26</td>\n",
       "      <td>12144</td>\n",
       "      <td>12170</td>\n",
       "    </tr>\n",
       "    <tr>\n",
       "      <th>All</th>\n",
       "      <td>30261</td>\n",
       "      <td>12167</td>\n",
       "      <td>42428</td>\n",
       "    </tr>\n",
       "  </tbody>\n",
       "</table>\n",
       "</div>"
      ],
      "text/plain": [
       "rain_closest_notna  False   True    All\n",
       "consensus                              \n",
       "False               30235     23  30258\n",
       "True                   26  12144  12170\n",
       "All                 30261  12167  42428"
      ]
     },
     "execution_count": 106,
     "metadata": {},
     "output_type": "execute_result"
    }
   ],
   "source": [
    "# Cross tabs of the closest station to a circle vs the consenting stations \n",
    "pd.crosstab(circle_data.consensus, circle_data.rain_closest_notna, margins = True)"
   ]
  },
  {
   "cell_type": "code",
   "execution_count": 107,
   "metadata": {},
   "outputs": [
    {
     "data": {
      "text/html": [
       "<div>\n",
       "<style scoped>\n",
       "    .dataframe tbody tr th:only-of-type {\n",
       "        vertical-align: middle;\n",
       "    }\n",
       "\n",
       "    .dataframe tbody tr th {\n",
       "        vertical-align: top;\n",
       "    }\n",
       "\n",
       "    .dataframe thead th {\n",
       "        text-align: right;\n",
       "    }\n",
       "</style>\n",
       "<table border=\"1\" class=\"dataframe\">\n",
       "  <thead>\n",
       "    <tr style=\"text-align: right;\">\n",
       "      <th>rain_lowest_notna</th>\n",
       "      <th>False</th>\n",
       "      <th>True</th>\n",
       "      <th>All</th>\n",
       "    </tr>\n",
       "    <tr>\n",
       "      <th>consensus</th>\n",
       "      <th></th>\n",
       "      <th></th>\n",
       "      <th></th>\n",
       "    </tr>\n",
       "  </thead>\n",
       "  <tbody>\n",
       "    <tr>\n",
       "      <th>False</th>\n",
       "      <td>30176</td>\n",
       "      <td>27</td>\n",
       "      <td>30203</td>\n",
       "    </tr>\n",
       "    <tr>\n",
       "      <th>True</th>\n",
       "      <td>27</td>\n",
       "      <td>12037</td>\n",
       "      <td>12064</td>\n",
       "    </tr>\n",
       "    <tr>\n",
       "      <th>All</th>\n",
       "      <td>30203</td>\n",
       "      <td>12064</td>\n",
       "      <td>42267</td>\n",
       "    </tr>\n",
       "  </tbody>\n",
       "</table>\n",
       "</div>"
      ],
      "text/plain": [
       "rain_lowest_notna  False   True    All\n",
       "consensus                             \n",
       "False              30176     27  30203\n",
       "True                  27  12037  12064\n",
       "All                30203  12064  42267"
      ]
     },
     "execution_count": 107,
     "metadata": {},
     "output_type": "execute_result"
    }
   ],
   "source": [
    "# Cross tabs of the closest station in elivation to a circle vs the consenting stations \n",
    "pd.crosstab(circle_data.consensus, circle_data.rain_lowest_notna, margins = True)"
   ]
  },
  {
   "cell_type": "code",
   "execution_count": 108,
   "metadata": {},
   "outputs": [
    {
     "data": {
      "text/html": [
       "<div>\n",
       "<style scoped>\n",
       "    .dataframe tbody tr th:only-of-type {\n",
       "        vertical-align: middle;\n",
       "    }\n",
       "\n",
       "    .dataframe tbody tr th {\n",
       "        vertical-align: top;\n",
       "    }\n",
       "\n",
       "    .dataframe thead th {\n",
       "        text-align: right;\n",
       "    }\n",
       "</style>\n",
       "<table border=\"1\" class=\"dataframe\">\n",
       "  <thead>\n",
       "    <tr style=\"text-align: right;\">\n",
       "      <th>rain_lowest_notna</th>\n",
       "      <th>False</th>\n",
       "      <th>True</th>\n",
       "      <th>All</th>\n",
       "    </tr>\n",
       "    <tr>\n",
       "      <th>rain_closest_notna</th>\n",
       "      <th></th>\n",
       "      <th></th>\n",
       "      <th></th>\n",
       "    </tr>\n",
       "  </thead>\n",
       "  <tbody>\n",
       "    <tr>\n",
       "      <th>False</th>\n",
       "      <td>30903</td>\n",
       "      <td>568</td>\n",
       "      <td>31471</td>\n",
       "    </tr>\n",
       "    <tr>\n",
       "      <th>True</th>\n",
       "      <td>567</td>\n",
       "      <td>12808</td>\n",
       "      <td>13375</td>\n",
       "    </tr>\n",
       "    <tr>\n",
       "      <th>All</th>\n",
       "      <td>31470</td>\n",
       "      <td>13376</td>\n",
       "      <td>44846</td>\n",
       "    </tr>\n",
       "  </tbody>\n",
       "</table>\n",
       "</div>"
      ],
      "text/plain": [
       "rain_lowest_notna   False   True    All\n",
       "rain_closest_notna                     \n",
       "False               30903    568  31471\n",
       "True                  567  12808  13375\n",
       "All                 31470  13376  44846"
      ]
     },
     "execution_count": 108,
     "metadata": {},
     "output_type": "execute_result"
    }
   ],
   "source": [
    "# Cross tabs of the closest station to a circle vs the station with the closest elivation\n",
    "pd.crosstab(circle_data.rain_closest_notna, circle_data.rain_lowest_notna, margins = True)"
   ]
  },
  {
   "cell_type": "markdown",
   "metadata": {},
   "source": [
    "### Ecosystem Consensus"
   ]
  },
  {
   "cell_type": "code",
   "execution_count": 109,
   "metadata": {},
   "outputs": [
    {
     "data": {
      "text/html": [
       "<div>\n",
       "<style scoped>\n",
       "    .dataframe tbody tr th:only-of-type {\n",
       "        vertical-align: middle;\n",
       "    }\n",
       "\n",
       "    .dataframe tbody tr th {\n",
       "        vertical-align: top;\n",
       "    }\n",
       "\n",
       "    .dataframe thead th {\n",
       "        text-align: right;\n",
       "    }\n",
       "</style>\n",
       "<table border=\"1\" class=\"dataframe\">\n",
       "  <thead>\n",
       "    <tr style=\"text-align: right;\">\n",
       "      <th>n_consensus</th>\n",
       "      <th>False</th>\n",
       "      <th>True</th>\n",
       "      <th>All</th>\n",
       "    </tr>\n",
       "    <tr>\n",
       "      <th>consensus</th>\n",
       "      <th></th>\n",
       "      <th></th>\n",
       "      <th></th>\n",
       "    </tr>\n",
       "  </thead>\n",
       "  <tbody>\n",
       "    <tr>\n",
       "      <th>False</th>\n",
       "      <td>17810</td>\n",
       "      <td>2</td>\n",
       "      <td>17812</td>\n",
       "    </tr>\n",
       "    <tr>\n",
       "      <th>True</th>\n",
       "      <td>3</td>\n",
       "      <td>7014</td>\n",
       "      <td>7017</td>\n",
       "    </tr>\n",
       "    <tr>\n",
       "      <th>All</th>\n",
       "      <td>17813</td>\n",
       "      <td>7016</td>\n",
       "      <td>24829</td>\n",
       "    </tr>\n",
       "  </tbody>\n",
       "</table>\n",
       "</div>"
      ],
      "text/plain": [
       "n_consensus  False  True    All\n",
       "consensus                      \n",
       "False        17810     2  17812\n",
       "True             3  7014   7017\n",
       "All          17813  7016  24829"
      ]
     },
     "execution_count": 109,
     "metadata": {},
     "output_type": "execute_result"
    }
   ],
   "source": [
    "# Crosstable of stations with consensus vs stations with nlcd consensus \n",
    "pd.crosstab(circle_data.consensus, circle_data.n_consensus, margins = True)"
   ]
  },
  {
   "cell_type": "code",
   "execution_count": 110,
   "metadata": {},
   "outputs": [
    {
     "data": {
      "text/html": [
       "<div>\n",
       "<style scoped>\n",
       "    .dataframe tbody tr th:only-of-type {\n",
       "        vertical-align: middle;\n",
       "    }\n",
       "\n",
       "    .dataframe tbody tr th {\n",
       "        vertical-align: top;\n",
       "    }\n",
       "\n",
       "    .dataframe thead th {\n",
       "        text-align: right;\n",
       "    }\n",
       "</style>\n",
       "<table border=\"1\" class=\"dataframe\">\n",
       "  <thead>\n",
       "    <tr style=\"text-align: right;\">\n",
       "      <th>e_consensus</th>\n",
       "      <th>False</th>\n",
       "      <th>True</th>\n",
       "      <th>All</th>\n",
       "    </tr>\n",
       "    <tr>\n",
       "      <th>consensus</th>\n",
       "      <th></th>\n",
       "      <th></th>\n",
       "      <th></th>\n",
       "    </tr>\n",
       "  </thead>\n",
       "  <tbody>\n",
       "    <tr>\n",
       "      <th>False</th>\n",
       "      <td>13327</td>\n",
       "      <td>2</td>\n",
       "      <td>13329</td>\n",
       "    </tr>\n",
       "    <tr>\n",
       "      <th>True</th>\n",
       "      <td>3</td>\n",
       "      <td>5108</td>\n",
       "      <td>5111</td>\n",
       "    </tr>\n",
       "    <tr>\n",
       "      <th>All</th>\n",
       "      <td>13330</td>\n",
       "      <td>5110</td>\n",
       "      <td>18440</td>\n",
       "    </tr>\n",
       "  </tbody>\n",
       "</table>\n",
       "</div>"
      ],
      "text/plain": [
       "e_consensus  False  True    All\n",
       "consensus                      \n",
       "False        13327     2  13329\n",
       "True             3  5108   5111\n",
       "All          13330  5110  18440"
      ]
     },
     "execution_count": 110,
     "metadata": {},
     "output_type": "execute_result"
    }
   ],
   "source": [
    "# Crosstabs  of stations with consensus vs stations with ecosys consensus\n",
    "pd.crosstab(circle_data.consensus, circle_data.e_consensus, margins = True)"
   ]
  },
  {
   "cell_type": "code",
   "execution_count": 111,
   "metadata": {},
   "outputs": [
    {
     "data": {
      "text/html": [
       "<div>\n",
       "<style scoped>\n",
       "    .dataframe tbody tr th:only-of-type {\n",
       "        vertical-align: middle;\n",
       "    }\n",
       "\n",
       "    .dataframe tbody tr th {\n",
       "        vertical-align: top;\n",
       "    }\n",
       "\n",
       "    .dataframe thead th {\n",
       "        text-align: right;\n",
       "    }\n",
       "</style>\n",
       "<table border=\"1\" class=\"dataframe\">\n",
       "  <thead>\n",
       "    <tr style=\"text-align: right;\">\n",
       "      <th>e_consensus</th>\n",
       "      <th>False</th>\n",
       "      <th>True</th>\n",
       "      <th>All</th>\n",
       "    </tr>\n",
       "    <tr>\n",
       "      <th>n_consensus</th>\n",
       "      <th></th>\n",
       "      <th></th>\n",
       "      <th></th>\n",
       "    </tr>\n",
       "  </thead>\n",
       "  <tbody>\n",
       "    <tr>\n",
       "      <th>False</th>\n",
       "      <td>13581</td>\n",
       "      <td>1</td>\n",
       "      <td>13582</td>\n",
       "    </tr>\n",
       "    <tr>\n",
       "      <th>True</th>\n",
       "      <td>0</td>\n",
       "      <td>5337</td>\n",
       "      <td>5337</td>\n",
       "    </tr>\n",
       "    <tr>\n",
       "      <th>All</th>\n",
       "      <td>13581</td>\n",
       "      <td>5338</td>\n",
       "      <td>18919</td>\n",
       "    </tr>\n",
       "  </tbody>\n",
       "</table>\n",
       "</div>"
      ],
      "text/plain": [
       "e_consensus  False  True    All\n",
       "n_consensus                    \n",
       "False        13581     1  13582\n",
       "True             0  5337   5337\n",
       "All          13581  5338  18919"
      ]
     },
     "execution_count": 111,
     "metadata": {},
     "output_type": "execute_result"
    }
   ],
   "source": [
    "pd.crosstab(circle_data.n_consensus, circle_data.e_consensus, margins = True)"
   ]
  },
  {
   "cell_type": "markdown",
   "metadata": {},
   "source": [
    " ### Did just one station see rain?"
   ]
  },
  {
   "cell_type": "code",
   "execution_count": 112,
   "metadata": {},
   "outputs": [
    {
     "data": {
      "text/html": [
       "<div>\n",
       "<style scoped>\n",
       "    .dataframe tbody tr th:only-of-type {\n",
       "        vertical-align: middle;\n",
       "    }\n",
       "\n",
       "    .dataframe tbody tr th {\n",
       "        vertical-align: top;\n",
       "    }\n",
       "\n",
       "    .dataframe thead th {\n",
       "        text-align: right;\n",
       "    }\n",
       "</style>\n",
       "<table border=\"1\" class=\"dataframe\">\n",
       "  <thead>\n",
       "    <tr style=\"text-align: right;\">\n",
       "      <th>num_true</th>\n",
       "      <th>False</th>\n",
       "      <th>True</th>\n",
       "      <th>All</th>\n",
       "    </tr>\n",
       "    <tr>\n",
       "      <th>rain_closest_notna</th>\n",
       "      <th></th>\n",
       "      <th></th>\n",
       "      <th></th>\n",
       "    </tr>\n",
       "  </thead>\n",
       "  <tbody>\n",
       "    <tr>\n",
       "      <th>False</th>\n",
       "      <td>30100</td>\n",
       "      <td>1426</td>\n",
       "      <td>31526</td>\n",
       "    </tr>\n",
       "    <tr>\n",
       "      <th>True</th>\n",
       "      <td>0</td>\n",
       "      <td>13481</td>\n",
       "      <td>13481</td>\n",
       "    </tr>\n",
       "    <tr>\n",
       "      <th>All</th>\n",
       "      <td>30100</td>\n",
       "      <td>14907</td>\n",
       "      <td>45007</td>\n",
       "    </tr>\n",
       "  </tbody>\n",
       "</table>\n",
       "</div>"
      ],
      "text/plain": [
       "num_true            False   True    All\n",
       "rain_closest_notna                     \n",
       "False               30100   1426  31526\n",
       "True                    0  13481  13481\n",
       "All                 30100  14907  45007"
      ]
     },
     "execution_count": 112,
     "metadata": {},
     "output_type": "execute_result"
    }
   ],
   "source": [
    "# Cross tabes of the rain reported by the closest station and if any reference station said it rained\n",
    "pd.crosstab(circle_data.rain_closest_notna, circle_data.num_true > 0, margins = True)"
   ]
  },
  {
   "cell_type": "code",
   "execution_count": 113,
   "metadata": {},
   "outputs": [
    {
     "data": {
      "text/html": [
       "<div>\n",
       "<style scoped>\n",
       "    .dataframe tbody tr th:only-of-type {\n",
       "        vertical-align: middle;\n",
       "    }\n",
       "\n",
       "    .dataframe tbody tr th {\n",
       "        vertical-align: top;\n",
       "    }\n",
       "\n",
       "    .dataframe thead th {\n",
       "        text-align: right;\n",
       "    }\n",
       "</style>\n",
       "<table border=\"1\" class=\"dataframe\">\n",
       "  <thead>\n",
       "    <tr style=\"text-align: right;\">\n",
       "      <th>num_true</th>\n",
       "      <th>False</th>\n",
       "      <th>True</th>\n",
       "      <th>All</th>\n",
       "    </tr>\n",
       "    <tr>\n",
       "      <th>rain_lowest_notna</th>\n",
       "      <th></th>\n",
       "      <th></th>\n",
       "      <th></th>\n",
       "    </tr>\n",
       "  </thead>\n",
       "  <tbody>\n",
       "    <tr>\n",
       "      <th>False</th>\n",
       "      <td>30045</td>\n",
       "      <td>1425</td>\n",
       "      <td>31470</td>\n",
       "    </tr>\n",
       "    <tr>\n",
       "      <th>True</th>\n",
       "      <td>0</td>\n",
       "      <td>13376</td>\n",
       "      <td>13376</td>\n",
       "    </tr>\n",
       "    <tr>\n",
       "      <th>All</th>\n",
       "      <td>30045</td>\n",
       "      <td>14801</td>\n",
       "      <td>44846</td>\n",
       "    </tr>\n",
       "  </tbody>\n",
       "</table>\n",
       "</div>"
      ],
      "text/plain": [
       "num_true           False   True    All\n",
       "rain_lowest_notna                     \n",
       "False              30045   1425  31470\n",
       "True                   0  13376  13376\n",
       "All                30045  14801  44846"
      ]
     },
     "execution_count": 113,
     "metadata": {},
     "output_type": "execute_result"
    }
   ],
   "source": [
    "# Crosstabs of the rain reported by the closest station in elivation and if any reference station said it rained\n",
    "pd.crosstab(circle_data.rain_lowest_notna, circle_data.num_true > 0, margins = True)\n"
   ]
  },
  {
   "cell_type": "code",
   "execution_count": 114,
   "metadata": {},
   "outputs": [
    {
     "data": {
      "text/html": [
       "<div>\n",
       "<style scoped>\n",
       "    .dataframe tbody tr th:only-of-type {\n",
       "        vertical-align: middle;\n",
       "    }\n",
       "\n",
       "    .dataframe tbody tr th {\n",
       "        vertical-align: top;\n",
       "    }\n",
       "\n",
       "    .dataframe thead th {\n",
       "        text-align: right;\n",
       "    }\n",
       "</style>\n",
       "<table border=\"1\" class=\"dataframe\">\n",
       "  <thead>\n",
       "    <tr style=\"text-align: right;\">\n",
       "      <th>num_true</th>\n",
       "      <th>False</th>\n",
       "      <th>True</th>\n",
       "      <th>All</th>\n",
       "    </tr>\n",
       "    <tr>\n",
       "      <th>consensus</th>\n",
       "      <th></th>\n",
       "      <th></th>\n",
       "      <th></th>\n",
       "    </tr>\n",
       "  </thead>\n",
       "  <tbody>\n",
       "    <tr>\n",
       "      <th>False</th>\n",
       "      <td>30100</td>\n",
       "      <td>158</td>\n",
       "      <td>30258</td>\n",
       "    </tr>\n",
       "    <tr>\n",
       "      <th>True</th>\n",
       "      <td>0</td>\n",
       "      <td>12170</td>\n",
       "      <td>12170</td>\n",
       "    </tr>\n",
       "    <tr>\n",
       "      <th>All</th>\n",
       "      <td>30100</td>\n",
       "      <td>12328</td>\n",
       "      <td>42428</td>\n",
       "    </tr>\n",
       "  </tbody>\n",
       "</table>\n",
       "</div>"
      ],
      "text/plain": [
       "num_true   False   True    All\n",
       "consensus                     \n",
       "False      30100    158  30258\n",
       "True           0  12170  12170\n",
       "All        30100  12328  42428"
      ]
     },
     "execution_count": 114,
     "metadata": {},
     "output_type": "execute_result"
    }
   ],
   "source": [
    "# Crosstabs of the stations resporting consensus vs ANY reference station that reported rain\n",
    "pd.crosstab(circle_data.consensus, circle_data.num_true > 0, margins = True)\n",
    "\n"
   ]
  },
  {
   "cell_type": "code",
   "execution_count": 115,
   "metadata": {},
   "outputs": [
    {
     "data": {
      "text/html": [
       "<div>\n",
       "<style scoped>\n",
       "    .dataframe tbody tr th:only-of-type {\n",
       "        vertical-align: middle;\n",
       "    }\n",
       "\n",
       "    .dataframe tbody tr th {\n",
       "        vertical-align: top;\n",
       "    }\n",
       "\n",
       "    .dataframe thead th {\n",
       "        text-align: right;\n",
       "    }\n",
       "</style>\n",
       "<table border=\"1\" class=\"dataframe\">\n",
       "  <thead>\n",
       "    <tr style=\"text-align: right;\">\n",
       "      <th>n_num_true</th>\n",
       "      <th>False</th>\n",
       "      <th>True</th>\n",
       "      <th>All</th>\n",
       "    </tr>\n",
       "    <tr>\n",
       "      <th>consensus</th>\n",
       "      <th></th>\n",
       "      <th></th>\n",
       "      <th></th>\n",
       "    </tr>\n",
       "  </thead>\n",
       "  <tbody>\n",
       "    <tr>\n",
       "      <th>False</th>\n",
       "      <td>30150</td>\n",
       "      <td>108</td>\n",
       "      <td>30258</td>\n",
       "    </tr>\n",
       "    <tr>\n",
       "      <th>True</th>\n",
       "      <td>5127</td>\n",
       "      <td>7043</td>\n",
       "      <td>12170</td>\n",
       "    </tr>\n",
       "    <tr>\n",
       "      <th>All</th>\n",
       "      <td>35277</td>\n",
       "      <td>7151</td>\n",
       "      <td>42428</td>\n",
       "    </tr>\n",
       "  </tbody>\n",
       "</table>\n",
       "</div>"
      ],
      "text/plain": [
       "n_num_true  False  True    All\n",
       "consensus                     \n",
       "False       30150   108  30258\n",
       "True         5127  7043  12170\n",
       "All         35277  7151  42428"
      ]
     },
     "execution_count": 115,
     "metadata": {},
     "output_type": "execute_result"
    }
   ],
   "source": [
    "# Crosstabs of the stations resporting consensus vs ANY NLCD MATCHING reference station that reported rain\n",
    "pd.crosstab(circle_data.consensus, circle_data.n_num_true > 0, margins = True)"
   ]
  },
  {
   "cell_type": "code",
   "execution_count": 116,
   "metadata": {},
   "outputs": [
    {
     "data": {
      "text/html": [
       "<div>\n",
       "<style scoped>\n",
       "    .dataframe tbody tr th:only-of-type {\n",
       "        vertical-align: middle;\n",
       "    }\n",
       "\n",
       "    .dataframe tbody tr th {\n",
       "        vertical-align: top;\n",
       "    }\n",
       "\n",
       "    .dataframe thead th {\n",
       "        text-align: right;\n",
       "    }\n",
       "</style>\n",
       "<table border=\"1\" class=\"dataframe\">\n",
       "  <thead>\n",
       "    <tr style=\"text-align: right;\">\n",
       "      <th>e_num_true</th>\n",
       "      <th>False</th>\n",
       "      <th>True</th>\n",
       "      <th>All</th>\n",
       "    </tr>\n",
       "    <tr>\n",
       "      <th>consensus</th>\n",
       "      <th></th>\n",
       "      <th></th>\n",
       "      <th></th>\n",
       "    </tr>\n",
       "  </thead>\n",
       "  <tbody>\n",
       "    <tr>\n",
       "      <th>False</th>\n",
       "      <td>30186</td>\n",
       "      <td>72</td>\n",
       "      <td>30258</td>\n",
       "    </tr>\n",
       "    <tr>\n",
       "      <th>True</th>\n",
       "      <td>7031</td>\n",
       "      <td>5139</td>\n",
       "      <td>12170</td>\n",
       "    </tr>\n",
       "    <tr>\n",
       "      <th>All</th>\n",
       "      <td>37217</td>\n",
       "      <td>5211</td>\n",
       "      <td>42428</td>\n",
       "    </tr>\n",
       "  </tbody>\n",
       "</table>\n",
       "</div>"
      ],
      "text/plain": [
       "e_num_true  False  True    All\n",
       "consensus                     \n",
       "False       30186    72  30258\n",
       "True         7031  5139  12170\n",
       "All         37217  5211  42428"
      ]
     },
     "execution_count": 116,
     "metadata": {},
     "output_type": "execute_result"
    }
   ],
   "source": [
    "# Crosstabs of the stations resporting consensus vs ANY ECOSYS MATCHING reference station that reported rain\n",
    "pd.crosstab(circle_data.consensus, circle_data.e_num_true > 0, margins = True)"
   ]
  },
  {
   "cell_type": "markdown",
   "metadata": {},
   "source": [
    "# Circle v Station: The Final Determination on If Volenteers are Reliable"
   ]
  },
  {
   "cell_type": "code",
   "execution_count": 117,
   "metadata": {},
   "outputs": [],
   "source": [
    "def crosstab_metrics(actl):\n",
    "    # accuracy\n",
    "    acc = actl.to_numpy().diagonal().sum() / actl.to_numpy().sum()\n",
    "    # precision\n",
    "    pr = actl.loc[1,1] / actl.to_numpy()[[1,0], [1,1]].sum()\n",
    "    # recall\n",
    "    re = actl.loc[1,1] / actl.to_numpy()[[1,1], [1,0]].sum()\n",
    "    # F1\n",
    "    f1 = 2 * pr * re / (pr + re)\n",
    "    \n",
    "    print(f\"accuracy:  {acc*100:.2f}%\")\n",
    "    print(f\"precision: {pr*100:.2f}%\")\n",
    "    print(f\"recall:    {re*100:.2f}%\")\n",
    "    print(f\"F1:        {f1*100:.2f}%\")\n",
    "    \n",
    "#     return (acc, pr, re, f1)"
   ]
  },
  {
   "cell_type": "markdown",
   "metadata": {},
   "source": [
    "### Based on the stations' consensus"
   ]
  },
  {
   "cell_type": "code",
   "execution_count": 118,
   "metadata": {},
   "outputs": [
    {
     "data": {
      "text/html": [
       "<div>\n",
       "<style scoped>\n",
       "    .dataframe tbody tr th:only-of-type {\n",
       "        vertical-align: middle;\n",
       "    }\n",
       "\n",
       "    .dataframe tbody tr th {\n",
       "        vertical-align: top;\n",
       "    }\n",
       "\n",
       "    .dataframe thead th {\n",
       "        text-align: right;\n",
       "    }\n",
       "</style>\n",
       "<table border=\"1\" class=\"dataframe\">\n",
       "  <thead>\n",
       "    <tr style=\"text-align: right;\">\n",
       "      <th>c_rain</th>\n",
       "      <th>False</th>\n",
       "      <th>True</th>\n",
       "    </tr>\n",
       "    <tr>\n",
       "      <th>consensus</th>\n",
       "      <th></th>\n",
       "      <th></th>\n",
       "    </tr>\n",
       "  </thead>\n",
       "  <tbody>\n",
       "    <tr>\n",
       "      <th>False</th>\n",
       "      <td>10533</td>\n",
       "      <td>1666</td>\n",
       "    </tr>\n",
       "    <tr>\n",
       "      <th>True</th>\n",
       "      <td>3482</td>\n",
       "      <td>3709</td>\n",
       "    </tr>\n",
       "  </tbody>\n",
       "</table>\n",
       "</div>"
      ],
      "text/plain": [
       "c_rain     False  True \n",
       "consensus              \n",
       "False      10533   1666\n",
       "True        3482   3709"
      ]
     },
     "execution_count": 118,
     "metadata": {},
     "output_type": "execute_result"
    }
   ],
   "source": [
    "actl = pd.crosstab(circle_data.consensus, circle_data.c_rain)\n",
    "actl"
   ]
  },
  {
   "cell_type": "code",
   "execution_count": 121,
   "metadata": {},
   "outputs": [
    {
     "name": "stdout",
     "output_type": "stream",
     "text": [
      "accuracy:  73.45%\n",
      "precision: 69.00%\n",
      "recall:    51.58%\n",
      "F1:        59.03%\n"
     ]
    }
   ],
   "source": [
    "crosstab_metrics(actl)"
   ]
  },
  {
   "cell_type": "markdown",
   "metadata": {},
   "source": [
    "### Based on the closest station"
   ]
  },
  {
   "cell_type": "code",
   "execution_count": 122,
   "metadata": {},
   "outputs": [
    {
     "data": {
      "text/html": [
       "<div>\n",
       "<style scoped>\n",
       "    .dataframe tbody tr th:only-of-type {\n",
       "        vertical-align: middle;\n",
       "    }\n",
       "\n",
       "    .dataframe tbody tr th {\n",
       "        vertical-align: top;\n",
       "    }\n",
       "\n",
       "    .dataframe thead th {\n",
       "        text-align: right;\n",
       "    }\n",
       "</style>\n",
       "<table border=\"1\" class=\"dataframe\">\n",
       "  <thead>\n",
       "    <tr style=\"text-align: right;\">\n",
       "      <th>c_rain</th>\n",
       "      <th>False</th>\n",
       "      <th>True</th>\n",
       "    </tr>\n",
       "    <tr>\n",
       "      <th>rain_closest_notna</th>\n",
       "      <th></th>\n",
       "      <th></th>\n",
       "    </tr>\n",
       "  </thead>\n",
       "  <tbody>\n",
       "    <tr>\n",
       "      <th>False</th>\n",
       "      <td>11093</td>\n",
       "      <td>1923</td>\n",
       "    </tr>\n",
       "    <tr>\n",
       "      <th>True</th>\n",
       "      <td>4036</td>\n",
       "      <td>3994</td>\n",
       "    </tr>\n",
       "  </tbody>\n",
       "</table>\n",
       "</div>"
      ],
      "text/plain": [
       "c_rain              False  True \n",
       "rain_closest_notna              \n",
       "False               11093   1923\n",
       "True                 4036   3994"
      ]
     },
     "execution_count": 122,
     "metadata": {},
     "output_type": "execute_result"
    }
   ],
   "source": [
    "actl = pd.crosstab(circle_data.rain_closest_notna, circle_data.c_rain)\n",
    "actl"
   ]
  },
  {
   "cell_type": "code",
   "execution_count": 123,
   "metadata": {},
   "outputs": [
    {
     "name": "stdout",
     "output_type": "stream",
     "text": [
      "accuracy:  71.69%\n",
      "precision: 67.50%\n",
      "recall:    49.74%\n",
      "F1:        57.27%\n"
     ]
    }
   ],
   "source": [
    "crosstab_metrics(actl)"
   ]
  },
  {
   "cell_type": "markdown",
   "metadata": {},
   "source": [
    "### Based on the lowest station"
   ]
  },
  {
   "cell_type": "code",
   "execution_count": 124,
   "metadata": {},
   "outputs": [
    {
     "data": {
      "text/html": [
       "<div>\n",
       "<style scoped>\n",
       "    .dataframe tbody tr th:only-of-type {\n",
       "        vertical-align: middle;\n",
       "    }\n",
       "\n",
       "    .dataframe tbody tr th {\n",
       "        vertical-align: top;\n",
       "    }\n",
       "\n",
       "    .dataframe thead th {\n",
       "        text-align: right;\n",
       "    }\n",
       "</style>\n",
       "<table border=\"1\" class=\"dataframe\">\n",
       "  <thead>\n",
       "    <tr style=\"text-align: right;\">\n",
       "      <th>c_rain</th>\n",
       "      <th>False</th>\n",
       "      <th>True</th>\n",
       "    </tr>\n",
       "    <tr>\n",
       "      <th>rain_lowest_notna</th>\n",
       "      <th></th>\n",
       "      <th></th>\n",
       "    </tr>\n",
       "  </thead>\n",
       "  <tbody>\n",
       "    <tr>\n",
       "      <th>False</th>\n",
       "      <td>11048</td>\n",
       "      <td>1932</td>\n",
       "    </tr>\n",
       "    <tr>\n",
       "      <th>True</th>\n",
       "      <td>4022</td>\n",
       "      <td>3945</td>\n",
       "    </tr>\n",
       "  </tbody>\n",
       "</table>\n",
       "</div>"
      ],
      "text/plain": [
       "c_rain             False  True \n",
       "rain_lowest_notna              \n",
       "False              11048   1932\n",
       "True                4022   3945"
      ]
     },
     "execution_count": 124,
     "metadata": {},
     "output_type": "execute_result"
    }
   ],
   "source": [
    "actl = pd.crosstab(circle_data.rain_lowest_notna, circle_data.c_rain)\n",
    "actl"
   ]
  },
  {
   "cell_type": "code",
   "execution_count": 125,
   "metadata": {},
   "outputs": [
    {
     "name": "stdout",
     "output_type": "stream",
     "text": [
      "accuracy:  71.58%\n",
      "precision: 67.13%\n",
      "recall:    49.52%\n",
      "F1:        56.99%\n"
     ]
    }
   ],
   "source": [
    "crosstab_metrics(actl)"
   ]
  },
  {
   "cell_type": "markdown",
   "metadata": {},
   "source": [
    "### Based on the nlcd consensus"
   ]
  },
  {
   "cell_type": "code",
   "execution_count": 126,
   "metadata": {},
   "outputs": [
    {
     "data": {
      "text/html": [
       "<div>\n",
       "<style scoped>\n",
       "    .dataframe tbody tr th:only-of-type {\n",
       "        vertical-align: middle;\n",
       "    }\n",
       "\n",
       "    .dataframe tbody tr th {\n",
       "        vertical-align: top;\n",
       "    }\n",
       "\n",
       "    .dataframe thead th {\n",
       "        text-align: right;\n",
       "    }\n",
       "</style>\n",
       "<table border=\"1\" class=\"dataframe\">\n",
       "  <thead>\n",
       "    <tr style=\"text-align: right;\">\n",
       "      <th>c_rain</th>\n",
       "      <th>False</th>\n",
       "      <th>True</th>\n",
       "    </tr>\n",
       "    <tr>\n",
       "      <th>n_consensus</th>\n",
       "      <th></th>\n",
       "      <th></th>\n",
       "    </tr>\n",
       "  </thead>\n",
       "  <tbody>\n",
       "    <tr>\n",
       "      <th>False</th>\n",
       "      <td>6850</td>\n",
       "      <td>1049</td>\n",
       "    </tr>\n",
       "    <tr>\n",
       "      <th>True</th>\n",
       "      <td>2177</td>\n",
       "      <td>2267</td>\n",
       "    </tr>\n",
       "  </tbody>\n",
       "</table>\n",
       "</div>"
      ],
      "text/plain": [
       "c_rain       False  True \n",
       "n_consensus              \n",
       "False         6850   1049\n",
       "True          2177   2267"
      ]
     },
     "execution_count": 126,
     "metadata": {},
     "output_type": "execute_result"
    }
   ],
   "source": [
    "actl = pd.crosstab(circle_data.n_consensus, circle_data.c_rain)\n",
    "actl"
   ]
  },
  {
   "cell_type": "code",
   "execution_count": 127,
   "metadata": {},
   "outputs": [
    {
     "name": "stdout",
     "output_type": "stream",
     "text": [
      "accuracy:  73.86%\n",
      "precision: 68.37%\n",
      "recall:    51.01%\n",
      "F1:        58.43%\n"
     ]
    }
   ],
   "source": [
    "crosstab_metrics(actl)"
   ]
  },
  {
   "cell_type": "markdown",
   "metadata": {},
   "source": [
    "### Based on the ecosys consensus"
   ]
  },
  {
   "cell_type": "code",
   "execution_count": 128,
   "metadata": {},
   "outputs": [
    {
     "data": {
      "text/html": [
       "<div>\n",
       "<style scoped>\n",
       "    .dataframe tbody tr th:only-of-type {\n",
       "        vertical-align: middle;\n",
       "    }\n",
       "\n",
       "    .dataframe tbody tr th {\n",
       "        vertical-align: top;\n",
       "    }\n",
       "\n",
       "    .dataframe thead th {\n",
       "        text-align: right;\n",
       "    }\n",
       "</style>\n",
       "<table border=\"1\" class=\"dataframe\">\n",
       "  <thead>\n",
       "    <tr style=\"text-align: right;\">\n",
       "      <th>c_rain</th>\n",
       "      <th>False</th>\n",
       "      <th>True</th>\n",
       "    </tr>\n",
       "    <tr>\n",
       "      <th>e_consensus</th>\n",
       "      <th></th>\n",
       "      <th></th>\n",
       "    </tr>\n",
       "  </thead>\n",
       "  <tbody>\n",
       "    <tr>\n",
       "      <th>False</th>\n",
       "      <td>5397</td>\n",
       "      <td>784</td>\n",
       "    </tr>\n",
       "    <tr>\n",
       "      <th>True</th>\n",
       "      <td>1688</td>\n",
       "      <td>1703</td>\n",
       "    </tr>\n",
       "  </tbody>\n",
       "</table>\n",
       "</div>"
      ],
      "text/plain": [
       "c_rain       False  True \n",
       "e_consensus              \n",
       "False         5397    784\n",
       "True          1688   1703"
      ]
     },
     "execution_count": 128,
     "metadata": {},
     "output_type": "execute_result"
    }
   ],
   "source": [
    "actl = pd.crosstab(circle_data.e_consensus, circle_data.c_rain)\n",
    "actl"
   ]
  },
  {
   "cell_type": "code",
   "execution_count": 129,
   "metadata": {},
   "outputs": [
    {
     "name": "stdout",
     "output_type": "stream",
     "text": [
      "accuracy:  74.17%\n",
      "precision: 68.48%\n",
      "recall:    50.22%\n",
      "F1:        57.94%\n"
     ]
    }
   ],
   "source": [
    "crosstab_metrics(actl)"
   ]
  },
  {
   "cell_type": "markdown",
   "metadata": {},
   "source": [
    "### Did at least one station aggree?"
   ]
  },
  {
   "cell_type": "code",
   "execution_count": 130,
   "metadata": {},
   "outputs": [
    {
     "data": {
      "text/html": [
       "<div>\n",
       "<style scoped>\n",
       "    .dataframe tbody tr th:only-of-type {\n",
       "        vertical-align: middle;\n",
       "    }\n",
       "\n",
       "    .dataframe tbody tr th {\n",
       "        vertical-align: top;\n",
       "    }\n",
       "\n",
       "    .dataframe thead th {\n",
       "        text-align: right;\n",
       "    }\n",
       "</style>\n",
       "<table border=\"1\" class=\"dataframe\">\n",
       "  <thead>\n",
       "    <tr style=\"text-align: right;\">\n",
       "      <th>c_rain</th>\n",
       "      <th>False</th>\n",
       "      <th>True</th>\n",
       "    </tr>\n",
       "    <tr>\n",
       "      <th>num_true</th>\n",
       "      <th></th>\n",
       "      <th></th>\n",
       "    </tr>\n",
       "  </thead>\n",
       "  <tbody>\n",
       "    <tr>\n",
       "      <th>False</th>\n",
       "      <td>19162</td>\n",
       "      <td>5720</td>\n",
       "    </tr>\n",
       "    <tr>\n",
       "      <th>True</th>\n",
       "      <td>4685</td>\n",
       "      <td>4293</td>\n",
       "    </tr>\n",
       "  </tbody>\n",
       "</table>\n",
       "</div>"
      ],
      "text/plain": [
       "c_rain    False  True \n",
       "num_true              \n",
       "False     19162   5720\n",
       "True       4685   4293"
      ]
     },
     "execution_count": 130,
     "metadata": {},
     "output_type": "execute_result"
    }
   ],
   "source": [
    "actl = pd.crosstab(circle_data.num_true >= 1, circle_data.c_rain)\n",
    "actl"
   ]
  },
  {
   "cell_type": "code",
   "execution_count": 131,
   "metadata": {},
   "outputs": [
    {
     "name": "stdout",
     "output_type": "stream",
     "text": [
      "accuracy:  69.27%\n",
      "precision: 42.87%\n",
      "recall:    47.82%\n",
      "F1:        45.21%\n"
     ]
    }
   ],
   "source": [
    "crosstab_metrics(actl)"
   ]
  },
  {
   "cell_type": "code",
   "execution_count": null,
   "metadata": {},
   "outputs": [],
   "source": []
  }
 ],
 "metadata": {
  "kernelspec": {
   "display_name": "Python 3",
   "language": "python",
   "name": "python3"
  },
  "language_info": {
   "codemirror_mode": {
    "name": "ipython",
    "version": 3
   },
   "file_extension": ".py",
   "mimetype": "text/x-python",
   "name": "python",
   "nbconvert_exporter": "python",
   "pygments_lexer": "ipython3",
   "version": "3.7.1"
  }
 },
 "nbformat": 4,
 "nbformat_minor": 4
}
