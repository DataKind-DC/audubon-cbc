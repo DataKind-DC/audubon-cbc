{
 "cells": [
  {
   "cell_type": "markdown",
   "metadata": {},
   "source": [
    "# Rain Analysis\n",
    "### Purpose\n",
    "This notebook will look at volunteer trends for reporting rain, adressing the Github issue #54\n",
    "\n",
    "### Author: \n",
    "Hamza El-Saawy\n",
    "### Date: \n",
    "2020-06-14\n",
    "### Update Date: \n",
    "2020-06-14\n",
    "\n",
    "### Inputs \n",
    " - `1.1-circles_to_many_stations_usa_weather_data_20200424213015`\n",
    "\n",
    "### Output Files\n",
    "`2.1-cbc_prcp_1900-2018.csv`: A reduced CBC dataset consisiting of only rain (precipitaion) data and an analysis of that data compared to the NOAA GHCN data\n",
    "\n",
    "## Steps or Proceedures in the notebook \n",
    " - Clean the CBC data\n",
    " - Compare to NOAA data\n",
    " - Make some plots\n",
    "\n",
    "## Where the Data will Be Saved \n",
    "The project Google Drive, at: https://drive.google.com/drive/folders/1Nlj9Nq-_dPFTDbrSDf94XMritWYG6E2I\n",
    "\n",
    "## Notes\n",
    "the flattened NOAA BigQuery drops the `QFLAG` column, so we cannot drop erroneous data and also does not contain the `WT**` `element` values (which can be used alongside the `PRCP` fields to determin precipitation)\n",
    "\n",
    "Additionally, 1.1 drops rows where `temp_min_value`, `temp_max_value`, `temp_avg`, and `snow` are `nan`, but they could have usable values for `[am|pm]_[rain|snow]`, since it is much easier to annotate if weather happened vs taking measurments."
   ]
  },
  {
   "cell_type": "code",
   "execution_count": 2,
   "metadata": {},
   "outputs": [],
   "source": [
    "import os\n",
    "import numpy as np\n",
    "import pandas as pd\n",
    "import matplotlib.pyplot as plt\n",
    "import seaborn as sns"
   ]
  },
  {
   "cell_type": "markdown",
   "metadata": {},
   "source": [
    "The cleaned data set, `1.0-rec-initial-data-cleaning.txt`, drops circles with \"impossible\" temperture, wind, and snow values, which we still find valuable here since we assume that even mistaken/erroneous temp/wind data can still have valuable precipitation data"
   ]
  },
  {
   "cell_type": "code",
   "execution_count": 123,
   "metadata": {},
   "outputs": [],
   "source": [
    "DATA_PATH = '../data/Cloud_Data'\n",
    "RAW_DATA_PATH = os.path.join(DATA_PATH, 'cbc_effort_weather_1900-2018.txt')\n",
    "CLN_DATA_PATH = os.path.join(DATA_PATH, '1.0-rec-initial-data-cleaning.txt')\n",
    "NOAA_DATA_PATH = os.path.join(DATA_PATH, '1.1-circles_to_many_stations_usa_weather_data_20200424213015.csv')\n",
    "CBC_PRCP_PATH = os.path.join(DATA_PATH, 'cbc_prcp_1900-2018.csv')"
   ]
  },
  {
   "cell_type": "code",
   "execution_count": 124,
   "metadata": {},
   "outputs": [],
   "source": [
    "raw_data = pd.read_csv(RAW_DATA_PATH, encoding = \"ISO-8859-1\", sep=\"\\t\")"
   ]
  },
  {
   "cell_type": "code",
   "execution_count": 125,
   "metadata": {},
   "outputs": [
    {
     "name": "stderr",
     "output_type": "stream",
     "text": [
      "/home/hamza/anaconda3/envs/audubon/lib/python3.7/site-packages/IPython/core/interactiveshell.py:3063: DtypeWarning: Columns (30,31) have mixed types.Specify dtype option on import or set low_memory=False.\n",
      "  interactivity=interactivity, compiler=compiler, result=result)\n"
     ]
    }
   ],
   "source": [
    "clean_data = pd.read_csv(CLN_DATA_PATH, encoding = \"ISO-8859-1\", sep=\"\\t\")"
   ]
  },
  {
   "cell_type": "code",
   "execution_count": 155,
   "metadata": {},
   "outputs": [],
   "source": [
    "noaa_data = pd.read_csv(NOAA_DATA_PATH).rename(columns={'int64_field_0': 'orig_id', 'id': 'station_id', })"
   ]
  },
  {
   "cell_type": "code",
   "execution_count": null,
   "metadata": {},
   "outputs": [],
   "source": []
  },
  {
   "cell_type": "raw",
   "metadata": {},
   "source": [
    "raw_data.loc[raw_data.country_state.str.contains('us')]\n",
    "\n",
    "clean_data[clean_data['circle_name'].str.startswith('Northampton')]"
   ]
  },
  {
   "cell_type": "raw",
   "metadata": {},
   "source": [
    "raw_data.loc[ (~ raw_data.am_rain.isna()) & raw_data.am_rain.str.contains(',') ]\n",
    "\n",
    "noaa_data.loc[[59194], ['Unnamed: 0', 'int64_field_0', 'circle_name', 'country_state', 'lat', 'lon', 'count_year',\n",
    "       'count_date', 'n_field_counters', 'n_feeder_counters',\n",
    "       'min_field_parties', 'max_field_parties', 'wind_unit', 'min_snow', 'max_snow', 'snow_unit',\n",
    "       'am_cloud', 'pm_cloud', 'am_rain', 'pm_rain', 'am_snow', 'pm_snow']]\n",
    "\n",
    "noaa_data.loc[[33066], ['Unnamed: 0', 'int64_field_0', 'circle_name', 'country_state', 'lat', 'lon', 'count_year',\n",
    "       'count_date', 'n_field_counters', 'n_feeder_counters',\n",
    "       'min_field_parties', 'max_field_parties', 'wind_unit', 'min_snow', 'max_snow', 'snow_unit',\n",
    "       'am_cloud', 'pm_cloud', 'am_rain', 'pm_rain', 'am_snow', 'pm_snow']]\n",
    "\n",
    "noaa_data.loc[[78402], ['Unnamed: 0', 'int64_field_0', 'circle_name', 'country_state', 'lat', 'lon', 'count_year',\n",
    "       'count_date', 'n_field_counters', 'n_feeder_counters',\n",
    "       'min_field_parties', 'max_field_parties', 'wind_unit', 'min_snow', 'max_snow', 'snow_unit',\n",
    "       'am_cloud', 'pm_cloud', 'am_rain', 'pm_rain', 'am_snow', 'pm_snow']]"
   ]
  },
  {
   "cell_type": "code",
   "execution_count": null,
   "metadata": {},
   "outputs": [],
   "source": []
  },
  {
   "cell_type": "code",
   "execution_count": 191,
   "metadata": {},
   "outputs": [],
   "source": [
    "fields_to_keep = ('orig_id', 'circle_name', 'country_state', 'count_year', 'count_date', \n",
    "                  'min_snow_metric', 'am_rain', 'pm_rain', 'am_snow', 'pm_snow', \n",
    "                  'station_id', \n",
    "                  'precipitation_value', 'snow', 'snwd'\n",
    "                 )\n",
    "\n",
    "prcp_data = noaa_data.loc[:, fields_to_keep]"
   ]
  },
  {
   "cell_type": "code",
   "execution_count": 218,
   "metadata": {},
   "outputs": [],
   "source": [
    "prcp_data['r_sd_gtz'] = np.where(prcp_data.min_snow_metric.isna(), np.NaN, prcp_data.min_snow_metric > 0)"
   ]
  },
  {
   "cell_type": "code",
   "execution_count": 193,
   "metadata": {},
   "outputs": [],
   "source": [
    "prcp_data['s_sd_gtz'] = np.where(prcp_data.snwd.isna(), np.NaN, prcp_data.snwd > 0)"
   ]
  },
  {
   "cell_type": "code",
   "execution_count": null,
   "metadata": {},
   "outputs": [],
   "source": []
  },
  {
   "cell_type": "code",
   "execution_count": 220,
   "metadata": {},
   "outputs": [],
   "source": [
    "for c in ['am_rain', 'pm_rain', 'am_snow', 'pm_snow']:\n",
    "    i = ~prcp_data[c].isna()\n",
    "    prcp_data.loc[i, c] = prcp_data.loc[i, c].astype('int64').astype('str')"
   ]
  },
  {
   "cell_type": "code",
   "execution_count": 219,
   "metadata": {},
   "outputs": [],
   "source": [
    "for c in ['am_rain', 'pm_rain', 'am_snow', 'pm_snow']:\n",
    "    prcp_data.loc[prcp_data[c].str.contains('4', na=False), c] = np.NaN"
   ]
  },
  {
   "cell_type": "code",
   "execution_count": 221,
   "metadata": {},
   "outputs": [
    {
     "data": {
      "text/html": [
       "<div>\n",
       "<style scoped>\n",
       "    .dataframe tbody tr th:only-of-type {\n",
       "        vertical-align: middle;\n",
       "    }\n",
       "\n",
       "    .dataframe tbody tr th {\n",
       "        vertical-align: top;\n",
       "    }\n",
       "\n",
       "    .dataframe thead th {\n",
       "        text-align: right;\n",
       "    }\n",
       "</style>\n",
       "<table border=\"1\" class=\"dataframe\">\n",
       "  <thead>\n",
       "    <tr style=\"text-align: right;\">\n",
       "      <th></th>\n",
       "      <th>orig_id</th>\n",
       "      <th>circle_name</th>\n",
       "      <th>country_state</th>\n",
       "      <th>count_year</th>\n",
       "      <th>count_date</th>\n",
       "      <th>min_snow_metric</th>\n",
       "      <th>am_rain</th>\n",
       "      <th>pm_rain</th>\n",
       "      <th>am_snow</th>\n",
       "      <th>pm_snow</th>\n",
       "      <th>station_id</th>\n",
       "      <th>precipitation_value</th>\n",
       "      <th>snow</th>\n",
       "      <th>snwd</th>\n",
       "      <th>r_sd_gtz</th>\n",
       "      <th>s_sd_gtz</th>\n",
       "    </tr>\n",
       "  </thead>\n",
       "  <tbody>\n",
       "    <tr>\n",
       "      <th>0</th>\n",
       "      <td>32617</td>\n",
       "      <td>Amchitka Island</td>\n",
       "      <td>US-AK</td>\n",
       "      <td>1980</td>\n",
       "      <td>1979-12-18</td>\n",
       "      <td>0.00</td>\n",
       "      <td>3</td>\n",
       "      <td>3</td>\n",
       "      <td>2</td>\n",
       "      <td>2</td>\n",
       "      <td>USC00500252</td>\n",
       "      <td>5.0</td>\n",
       "      <td>3.0</td>\n",
       "      <td>0.0</td>\n",
       "      <td>0.0</td>\n",
       "      <td>0.0</td>\n",
       "    </tr>\n",
       "    <tr>\n",
       "      <th>1</th>\n",
       "      <td>52625</td>\n",
       "      <td>Amchitka Island</td>\n",
       "      <td>US-AK</td>\n",
       "      <td>1993</td>\n",
       "      <td>1992-12-20</td>\n",
       "      <td>0.00</td>\n",
       "      <td>NaN</td>\n",
       "      <td>NaN</td>\n",
       "      <td>NaN</td>\n",
       "      <td>NaN</td>\n",
       "      <td>USC00500252</td>\n",
       "      <td>NaN</td>\n",
       "      <td>0.0</td>\n",
       "      <td>0.0</td>\n",
       "      <td>0.0</td>\n",
       "      <td>0.0</td>\n",
       "    </tr>\n",
       "    <tr>\n",
       "      <th>2</th>\n",
       "      <td>90930</td>\n",
       "      <td>Caribou</td>\n",
       "      <td>US-ME</td>\n",
       "      <td>2012</td>\n",
       "      <td>2011-12-28</td>\n",
       "      <td>10.16</td>\n",
       "      <td>321</td>\n",
       "      <td>1</td>\n",
       "      <td>2</td>\n",
       "      <td>3</td>\n",
       "      <td>USW00014607</td>\n",
       "      <td>71.0</td>\n",
       "      <td>8.0</td>\n",
       "      <td>25.0</td>\n",
       "      <td>1.0</td>\n",
       "      <td>1.0</td>\n",
       "    </tr>\n",
       "    <tr>\n",
       "      <th>3</th>\n",
       "      <td>93245</td>\n",
       "      <td>Caribou</td>\n",
       "      <td>US-ME</td>\n",
       "      <td>2013</td>\n",
       "      <td>2012-12-29</td>\n",
       "      <td>10.16</td>\n",
       "      <td>3</td>\n",
       "      <td>3</td>\n",
       "      <td>3</td>\n",
       "      <td>3</td>\n",
       "      <td>USW00014607</td>\n",
       "      <td>0.0</td>\n",
       "      <td>0.0</td>\n",
       "      <td>229.0</td>\n",
       "      <td>1.0</td>\n",
       "      <td>1.0</td>\n",
       "    </tr>\n",
       "    <tr>\n",
       "      <th>4</th>\n",
       "      <td>95653</td>\n",
       "      <td>Caribou</td>\n",
       "      <td>US-ME</td>\n",
       "      <td>2014</td>\n",
       "      <td>2014-01-01</td>\n",
       "      <td>38.10</td>\n",
       "      <td>3</td>\n",
       "      <td>3</td>\n",
       "      <td>3</td>\n",
       "      <td>3</td>\n",
       "      <td>USW00014607</td>\n",
       "      <td>0.0</td>\n",
       "      <td>3.0</td>\n",
       "      <td>460.0</td>\n",
       "      <td>1.0</td>\n",
       "      <td>1.0</td>\n",
       "    </tr>\n",
       "    <tr>\n",
       "      <th>...</th>\n",
       "      <td>...</td>\n",
       "      <td>...</td>\n",
       "      <td>...</td>\n",
       "      <td>...</td>\n",
       "      <td>...</td>\n",
       "      <td>...</td>\n",
       "      <td>...</td>\n",
       "      <td>...</td>\n",
       "      <td>...</td>\n",
       "      <td>...</td>\n",
       "      <td>...</td>\n",
       "      <td>...</td>\n",
       "      <td>...</td>\n",
       "      <td>...</td>\n",
       "      <td>...</td>\n",
       "      <td>...</td>\n",
       "    </tr>\n",
       "    <tr>\n",
       "      <th>109385</th>\n",
       "      <td>37123</td>\n",
       "      <td>Kaua'i: Waimea</td>\n",
       "      <td>US-HI</td>\n",
       "      <td>1983</td>\n",
       "      <td>1982-12-26</td>\n",
       "      <td>0.00</td>\n",
       "      <td>NaN</td>\n",
       "      <td>NaN</td>\n",
       "      <td>NaN</td>\n",
       "      <td>NaN</td>\n",
       "      <td>USC00518205</td>\n",
       "      <td>0.0</td>\n",
       "      <td>0.0</td>\n",
       "      <td>0.0</td>\n",
       "      <td>0.0</td>\n",
       "      <td>0.0</td>\n",
       "    </tr>\n",
       "    <tr>\n",
       "      <th>109386</th>\n",
       "      <td>37123</td>\n",
       "      <td>Kaua'i: Waimea</td>\n",
       "      <td>US-HI</td>\n",
       "      <td>1983</td>\n",
       "      <td>1982-12-26</td>\n",
       "      <td>0.00</td>\n",
       "      <td>NaN</td>\n",
       "      <td>NaN</td>\n",
       "      <td>NaN</td>\n",
       "      <td>NaN</td>\n",
       "      <td>USC00519253</td>\n",
       "      <td>0.0</td>\n",
       "      <td>0.0</td>\n",
       "      <td>0.0</td>\n",
       "      <td>0.0</td>\n",
       "      <td>0.0</td>\n",
       "    </tr>\n",
       "    <tr>\n",
       "      <th>109387</th>\n",
       "      <td>37123</td>\n",
       "      <td>Kaua'i: Waimea</td>\n",
       "      <td>US-HI</td>\n",
       "      <td>1983</td>\n",
       "      <td>1982-12-26</td>\n",
       "      <td>0.00</td>\n",
       "      <td>NaN</td>\n",
       "      <td>NaN</td>\n",
       "      <td>NaN</td>\n",
       "      <td>NaN</td>\n",
       "      <td>USC00514272</td>\n",
       "      <td>0.0</td>\n",
       "      <td>0.0</td>\n",
       "      <td>0.0</td>\n",
       "      <td>0.0</td>\n",
       "      <td>0.0</td>\n",
       "    </tr>\n",
       "    <tr>\n",
       "      <th>109388</th>\n",
       "      <td>37123</td>\n",
       "      <td>Kaua'i: Waimea</td>\n",
       "      <td>US-HI</td>\n",
       "      <td>1983</td>\n",
       "      <td>1982-12-26</td>\n",
       "      <td>0.00</td>\n",
       "      <td>NaN</td>\n",
       "      <td>NaN</td>\n",
       "      <td>NaN</td>\n",
       "      <td>NaN</td>\n",
       "      <td>USW00022501</td>\n",
       "      <td>0.0</td>\n",
       "      <td>0.0</td>\n",
       "      <td>0.0</td>\n",
       "      <td>0.0</td>\n",
       "      <td>0.0</td>\n",
       "    </tr>\n",
       "    <tr>\n",
       "      <th>109389</th>\n",
       "      <td>37123</td>\n",
       "      <td>Kaua'i: Waimea</td>\n",
       "      <td>US-HI</td>\n",
       "      <td>1983</td>\n",
       "      <td>1982-12-26</td>\n",
       "      <td>0.00</td>\n",
       "      <td>NaN</td>\n",
       "      <td>NaN</td>\n",
       "      <td>NaN</td>\n",
       "      <td>NaN</td>\n",
       "      <td>USC00516082</td>\n",
       "      <td>0.0</td>\n",
       "      <td>0.0</td>\n",
       "      <td>0.0</td>\n",
       "      <td>0.0</td>\n",
       "      <td>0.0</td>\n",
       "    </tr>\n",
       "  </tbody>\n",
       "</table>\n",
       "<p>109390 rows × 16 columns</p>\n",
       "</div>"
      ],
      "text/plain": [
       "        orig_id      circle_name country_state  count_year  count_date  \\\n",
       "0         32617  Amchitka Island         US-AK        1980  1979-12-18   \n",
       "1         52625  Amchitka Island         US-AK        1993  1992-12-20   \n",
       "2         90930          Caribou         US-ME        2012  2011-12-28   \n",
       "3         93245          Caribou         US-ME        2013  2012-12-29   \n",
       "4         95653          Caribou         US-ME        2014  2014-01-01   \n",
       "...         ...              ...           ...         ...         ...   \n",
       "109385    37123   Kaua'i: Waimea         US-HI        1983  1982-12-26   \n",
       "109386    37123   Kaua'i: Waimea         US-HI        1983  1982-12-26   \n",
       "109387    37123   Kaua'i: Waimea         US-HI        1983  1982-12-26   \n",
       "109388    37123   Kaua'i: Waimea         US-HI        1983  1982-12-26   \n",
       "109389    37123   Kaua'i: Waimea         US-HI        1983  1982-12-26   \n",
       "\n",
       "        min_snow_metric am_rain pm_rain am_snow pm_snow   station_id  \\\n",
       "0                  0.00       3       3       2       2  USC00500252   \n",
       "1                  0.00     NaN     NaN     NaN     NaN  USC00500252   \n",
       "2                 10.16     321       1       2       3  USW00014607   \n",
       "3                 10.16       3       3       3       3  USW00014607   \n",
       "4                 38.10       3       3       3       3  USW00014607   \n",
       "...                 ...     ...     ...     ...     ...          ...   \n",
       "109385             0.00     NaN     NaN     NaN     NaN  USC00518205   \n",
       "109386             0.00     NaN     NaN     NaN     NaN  USC00519253   \n",
       "109387             0.00     NaN     NaN     NaN     NaN  USC00514272   \n",
       "109388             0.00     NaN     NaN     NaN     NaN  USW00022501   \n",
       "109389             0.00     NaN     NaN     NaN     NaN  USC00516082   \n",
       "\n",
       "        precipitation_value  snow   snwd  r_sd_gtz  s_sd_gtz  \n",
       "0                       5.0   3.0    0.0       0.0       0.0  \n",
       "1                       NaN   0.0    0.0       0.0       0.0  \n",
       "2                      71.0   8.0   25.0       1.0       1.0  \n",
       "3                       0.0   0.0  229.0       1.0       1.0  \n",
       "4                       0.0   3.0  460.0       1.0       1.0  \n",
       "...                     ...   ...    ...       ...       ...  \n",
       "109385                  0.0   0.0    0.0       0.0       0.0  \n",
       "109386                  0.0   0.0    0.0       0.0       0.0  \n",
       "109387                  0.0   0.0    0.0       0.0       0.0  \n",
       "109388                  0.0   0.0    0.0       0.0       0.0  \n",
       "109389                  0.0   0.0    0.0       0.0       0.0  \n",
       "\n",
       "[109390 rows x 16 columns]"
      ]
     },
     "execution_count": 221,
     "metadata": {},
     "output_type": "execute_result"
    }
   ],
   "source": [
    "prcp_data"
   ]
  },
  {
   "cell_type": "markdown",
   "metadata": {},
   "source": [
    "if either am or pm shows rain/snow (1 or 2), then it rained, if *both* am and pm are \"3\", then it did not rain. else, it is NaN"
   ]
  },
  {
   "cell_type": "code",
   "execution_count": 244,
   "metadata": {},
   "outputs": [],
   "source": [
    "ooo = (prcp_data.am_rain.str.contains('[12]').isna() ^ prcp_data.pm_rain.str.contains('[12]').isna())"
   ]
  },
  {
   "cell_type": "code",
   "execution_count": 256,
   "metadata": {},
   "outputs": [
    {
     "data": {
      "text/plain": [
       "9         False\n",
       "703        True\n",
       "704        True\n",
       "772       False\n",
       "818       False\n",
       "          ...  \n",
       "109311     True\n",
       "109312     True\n",
       "109313     True\n",
       "109316    False\n",
       "109317    False\n",
       "Length: 457, dtype: bool"
      ]
     },
     "execution_count": 256,
     "metadata": {},
     "output_type": "execute_result"
    }
   ],
   "source": [
    "prcp_data.am_rain[ooo].str.contains('[12]') | prcp_data.pm_rain[ooo].str.contains('[12]')"
   ]
  },
  {
   "cell_type": "code",
   "execution_count": 257,
   "metadata": {},
   "outputs": [
    {
     "data": {
      "text/plain": [
       "9         False\n",
       "703        True\n",
       "704        True\n",
       "772       False\n",
       "818       False\n",
       "          ...  \n",
       "109311     True\n",
       "109312     True\n",
       "109313     True\n",
       "109316    False\n",
       "109317    False\n",
       "Name: am_rain, Length: 457, dtype: object"
      ]
     },
     "execution_count": 257,
     "metadata": {},
     "output_type": "execute_result"
    }
   ],
   "source": [
    "prcp_data.am_rain[ooo].str.contains('[12]') "
   ]
  },
  {
   "cell_type": "code",
   "execution_count": null,
   "metadata": {},
   "outputs": [],
   "source": []
  },
  {
   "cell_type": "code",
   "execution_count": null,
   "metadata": {},
   "outputs": [],
   "source": []
  },
  {
   "cell_type": "markdown",
   "metadata": {},
   "source": []
  }
 ],
 "metadata": {
  "kernelspec": {
   "display_name": "audubon",
   "language": "python",
   "name": "audubon"
  },
  "language_info": {
   "codemirror_mode": {
    "name": "ipython",
    "version": 3
   },
   "file_extension": ".py",
   "mimetype": "text/x-python",
   "name": "python",
   "nbconvert_exporter": "python",
   "pygments_lexer": "ipython3",
   "version": "3.7.7"
  }
 },
 "nbformat": 4,
 "nbformat_minor": 4
}
