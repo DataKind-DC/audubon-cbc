{
 "cells": [
  {
   "cell_type": "markdown",
   "metadata": {},
   "source": [
    "# Audubon Christmas Bird Count - Issue 36\n",
    "\n",
    "## Prep for Analysis: Getting to know the CBC and NOAA Data\n",
    "\n",
    "Updated: February 17, 2020<br>\n",
    "Minor changes:<br>\n",
    "By: Ian Davis<br>\n",
    "\n",
    "Inputs: ../data/cbc_cleaned_usa_merged.csv<br>\n",
    "Outputs: none yet; just plots & calcs printed to the notebook<br>"
   ]
  },
  {
   "cell_type": "markdown",
   "metadata": {},
   "source": [
    "### See data dictionary: \n",
    "\n",
    "http://www.audubon.org/sites/default/files/documents/cbc_report_field_definitions_2013.pdf"
   ]
  },
  {
   "cell_type": "code",
   "execution_count": 1,
   "metadata": {},
   "outputs": [],
   "source": [
    "import numpy as np\n",
    "import pandas as pd\n",
    "import plotly_express as px\n",
    "import matplotlib.pyplot as plt\n",
    "import datetime\n",
    "from scipy import stats\n",
    "\n",
    "pd.set_option('display.max_columns', 500)"
   ]
  },
  {
   "cell_type": "code",
   "execution_count": 2,
   "metadata": {},
   "outputs": [
    {
     "name": "stderr",
     "output_type": "stream",
     "text": [
      "c:\\users\\ijd50\\appdata\\local\\programs\\python\\python37-32\\lib\\site-packages\\IPython\\core\\interactiveshell.py:3063: DtypeWarning:\n",
      "\n",
      "Columns (28,29,30,31) have mixed types. Specify dtype option on import or set low_memory=False.\n",
      "\n"
     ]
    },
    {
     "data": {
      "text/html": [
       "<div>\n",
       "<style scoped>\n",
       "    .dataframe tbody tr th:only-of-type {\n",
       "        vertical-align: middle;\n",
       "    }\n",
       "\n",
       "    .dataframe tbody tr th {\n",
       "        vertical-align: top;\n",
       "    }\n",
       "\n",
       "    .dataframe thead th {\n",
       "        text-align: right;\n",
       "    }\n",
       "</style>\n",
       "<table border=\"1\" class=\"dataframe\">\n",
       "  <thead>\n",
       "    <tr style=\"text-align: right;\">\n",
       "      <th></th>\n",
       "      <th>circle_name</th>\n",
       "      <th>country_state</th>\n",
       "      <th>lat</th>\n",
       "      <th>lon</th>\n",
       "      <th>count_year</th>\n",
       "      <th>count_date</th>\n",
       "      <th>n_field_counters</th>\n",
       "      <th>n_feeder_counters</th>\n",
       "      <th>min_field_parties</th>\n",
       "      <th>max_field_parties</th>\n",
       "      <th>field_hours</th>\n",
       "      <th>feeder_hours</th>\n",
       "      <th>nocturnal_hours</th>\n",
       "      <th>field_distance</th>\n",
       "      <th>nocturnal_distance</th>\n",
       "      <th>distance_units</th>\n",
       "      <th>min_temp</th>\n",
       "      <th>max_temp</th>\n",
       "      <th>temp_unit</th>\n",
       "      <th>min_wind</th>\n",
       "      <th>max_wind</th>\n",
       "      <th>wind_unit</th>\n",
       "      <th>min_snow</th>\n",
       "      <th>max_snow</th>\n",
       "      <th>snow_unit</th>\n",
       "      <th>am_cloud</th>\n",
       "      <th>pm_cloud</th>\n",
       "      <th>am_rain</th>\n",
       "      <th>pm_rain</th>\n",
       "      <th>am_snow</th>\n",
       "      <th>pm_snow</th>\n",
       "      <th>field_distance_imperial</th>\n",
       "      <th>field_distance_metric</th>\n",
       "      <th>nocturnal_distance_imperial</th>\n",
       "      <th>nocturnal_distance_metric</th>\n",
       "      <th>min_snow_imperial</th>\n",
       "      <th>min_snow_metric</th>\n",
       "      <th>max_snow_metric</th>\n",
       "      <th>max_snow_imperial</th>\n",
       "      <th>min_temp_imperial</th>\n",
       "      <th>max_temp_imperial</th>\n",
       "      <th>min_temp_metric</th>\n",
       "      <th>max_temp_metric</th>\n",
       "      <th>min_wind_metric</th>\n",
       "      <th>max_wind_metric</th>\n",
       "      <th>min_wind_imperial</th>\n",
       "      <th>max_wind_imperial</th>\n",
       "      <th>station_key</th>\n",
       "      <th>circle_coordinates</th>\n",
       "      <th>closest_station_id</th>\n",
       "      <th>closest_station_lat</th>\n",
       "      <th>closest_station_lng</th>\n",
       "      <th>distance</th>\n",
       "      <th>circle_num</th>\n",
       "      <th>date</th>\n",
       "      <th>id</th>\n",
       "      <th>name</th>\n",
       "      <th>precipitation_value</th>\n",
       "      <th>state</th>\n",
       "      <th>temp_max_value</th>\n",
       "      <th>temp_min_value</th>\n",
       "    </tr>\n",
       "    <tr>\n",
       "      <th>Unnamed: 0</th>\n",
       "      <th></th>\n",
       "      <th></th>\n",
       "      <th></th>\n",
       "      <th></th>\n",
       "      <th></th>\n",
       "      <th></th>\n",
       "      <th></th>\n",
       "      <th></th>\n",
       "      <th></th>\n",
       "      <th></th>\n",
       "      <th></th>\n",
       "      <th></th>\n",
       "      <th></th>\n",
       "      <th></th>\n",
       "      <th></th>\n",
       "      <th></th>\n",
       "      <th></th>\n",
       "      <th></th>\n",
       "      <th></th>\n",
       "      <th></th>\n",
       "      <th></th>\n",
       "      <th></th>\n",
       "      <th></th>\n",
       "      <th></th>\n",
       "      <th></th>\n",
       "      <th></th>\n",
       "      <th></th>\n",
       "      <th></th>\n",
       "      <th></th>\n",
       "      <th></th>\n",
       "      <th></th>\n",
       "      <th></th>\n",
       "      <th></th>\n",
       "      <th></th>\n",
       "      <th></th>\n",
       "      <th></th>\n",
       "      <th></th>\n",
       "      <th></th>\n",
       "      <th></th>\n",
       "      <th></th>\n",
       "      <th></th>\n",
       "      <th></th>\n",
       "      <th></th>\n",
       "      <th></th>\n",
       "      <th></th>\n",
       "      <th></th>\n",
       "      <th></th>\n",
       "      <th></th>\n",
       "      <th></th>\n",
       "      <th></th>\n",
       "      <th></th>\n",
       "      <th></th>\n",
       "      <th></th>\n",
       "      <th></th>\n",
       "      <th></th>\n",
       "      <th></th>\n",
       "      <th></th>\n",
       "      <th></th>\n",
       "      <th></th>\n",
       "      <th></th>\n",
       "      <th></th>\n",
       "    </tr>\n",
       "  </thead>\n",
       "  <tbody>\n",
       "    <tr>\n",
       "      <th>0</th>\n",
       "      <td>Pacific Grove</td>\n",
       "      <td>US-CA</td>\n",
       "      <td>36.616700</td>\n",
       "      <td>-121.916700</td>\n",
       "      <td>1901</td>\n",
       "      <td>1900-12-25</td>\n",
       "      <td>1.0</td>\n",
       "      <td>NaN</td>\n",
       "      <td>NaN</td>\n",
       "      <td>NaN</td>\n",
       "      <td>NaN</td>\n",
       "      <td>NaN</td>\n",
       "      <td>NaN</td>\n",
       "      <td>NaN</td>\n",
       "      <td>NaN</td>\n",
       "      <td>Miles</td>\n",
       "      <td>NaN</td>\n",
       "      <td>NaN</td>\n",
       "      <td>NaN</td>\n",
       "      <td>NaN</td>\n",
       "      <td>NaN</td>\n",
       "      <td>NaN</td>\n",
       "      <td>NaN</td>\n",
       "      <td>NaN</td>\n",
       "      <td>NaN</td>\n",
       "      <td>NaN</td>\n",
       "      <td>NaN</td>\n",
       "      <td>NaN</td>\n",
       "      <td>NaN</td>\n",
       "      <td>NaN</td>\n",
       "      <td>NaN</td>\n",
       "      <td>NaN</td>\n",
       "      <td>NaN</td>\n",
       "      <td>NaN</td>\n",
       "      <td>NaN</td>\n",
       "      <td>NaN</td>\n",
       "      <td>NaN</td>\n",
       "      <td>NaN</td>\n",
       "      <td>NaN</td>\n",
       "      <td>NaN</td>\n",
       "      <td>NaN</td>\n",
       "      <td>NaN</td>\n",
       "      <td>NaN</td>\n",
       "      <td>NaN</td>\n",
       "      <td>NaN</td>\n",
       "      <td>NaN</td>\n",
       "      <td>NaN</td>\n",
       "      <td>(36.61670, -121.9167)</td>\n",
       "      <td>(36.61670, -121.9167)</td>\n",
       "      <td>USC00047916</td>\n",
       "      <td>36.9878</td>\n",
       "      <td>-121.9994</td>\n",
       "      <td>41928.062371</td>\n",
       "      <td>2</td>\n",
       "      <td>1900-12-25</td>\n",
       "      <td>USC00047916</td>\n",
       "      <td>SANTA CRUZ</td>\n",
       "      <td>0.0</td>\n",
       "      <td>CA</td>\n",
       "      <td>172.0</td>\n",
       "      <td>33.0</td>\n",
       "    </tr>\n",
       "    <tr>\n",
       "      <th>1</th>\n",
       "      <td>Pueblo</td>\n",
       "      <td>US-CO</td>\n",
       "      <td>38.175251</td>\n",
       "      <td>-104.519575</td>\n",
       "      <td>1901</td>\n",
       "      <td>1900-12-25</td>\n",
       "      <td>1.0</td>\n",
       "      <td>NaN</td>\n",
       "      <td>NaN</td>\n",
       "      <td>NaN</td>\n",
       "      <td>NaN</td>\n",
       "      <td>NaN</td>\n",
       "      <td>NaN</td>\n",
       "      <td>NaN</td>\n",
       "      <td>NaN</td>\n",
       "      <td>Miles</td>\n",
       "      <td>NaN</td>\n",
       "      <td>NaN</td>\n",
       "      <td>NaN</td>\n",
       "      <td>NaN</td>\n",
       "      <td>NaN</td>\n",
       "      <td>NaN</td>\n",
       "      <td>NaN</td>\n",
       "      <td>NaN</td>\n",
       "      <td>NaN</td>\n",
       "      <td>NaN</td>\n",
       "      <td>NaN</td>\n",
       "      <td>NaN</td>\n",
       "      <td>NaN</td>\n",
       "      <td>NaN</td>\n",
       "      <td>NaN</td>\n",
       "      <td>NaN</td>\n",
       "      <td>NaN</td>\n",
       "      <td>NaN</td>\n",
       "      <td>NaN</td>\n",
       "      <td>NaN</td>\n",
       "      <td>NaN</td>\n",
       "      <td>NaN</td>\n",
       "      <td>NaN</td>\n",
       "      <td>NaN</td>\n",
       "      <td>NaN</td>\n",
       "      <td>NaN</td>\n",
       "      <td>NaN</td>\n",
       "      <td>NaN</td>\n",
       "      <td>NaN</td>\n",
       "      <td>NaN</td>\n",
       "      <td>NaN</td>\n",
       "      <td>(38.175251, -104.519575)</td>\n",
       "      <td>(38.175251, -104.519575)</td>\n",
       "      <td>USW00023068</td>\n",
       "      <td>38.2725</td>\n",
       "      <td>-104.6089</td>\n",
       "      <td>13338.679404</td>\n",
       "      <td>3</td>\n",
       "      <td>NaN</td>\n",
       "      <td>NaN</td>\n",
       "      <td>NaN</td>\n",
       "      <td>NaN</td>\n",
       "      <td>NaN</td>\n",
       "      <td>NaN</td>\n",
       "      <td>NaN</td>\n",
       "    </tr>\n",
       "    <tr>\n",
       "      <th>2</th>\n",
       "      <td>Bristol</td>\n",
       "      <td>US-CT</td>\n",
       "      <td>41.671800</td>\n",
       "      <td>-72.949500</td>\n",
       "      <td>1901</td>\n",
       "      <td>1900-12-25</td>\n",
       "      <td>2.0</td>\n",
       "      <td>NaN</td>\n",
       "      <td>NaN</td>\n",
       "      <td>NaN</td>\n",
       "      <td>NaN</td>\n",
       "      <td>NaN</td>\n",
       "      <td>NaN</td>\n",
       "      <td>NaN</td>\n",
       "      <td>NaN</td>\n",
       "      <td>Miles</td>\n",
       "      <td>NaN</td>\n",
       "      <td>NaN</td>\n",
       "      <td>NaN</td>\n",
       "      <td>NaN</td>\n",
       "      <td>NaN</td>\n",
       "      <td>NaN</td>\n",
       "      <td>NaN</td>\n",
       "      <td>NaN</td>\n",
       "      <td>NaN</td>\n",
       "      <td>NaN</td>\n",
       "      <td>NaN</td>\n",
       "      <td>NaN</td>\n",
       "      <td>NaN</td>\n",
       "      <td>NaN</td>\n",
       "      <td>NaN</td>\n",
       "      <td>NaN</td>\n",
       "      <td>NaN</td>\n",
       "      <td>NaN</td>\n",
       "      <td>NaN</td>\n",
       "      <td>NaN</td>\n",
       "      <td>NaN</td>\n",
       "      <td>NaN</td>\n",
       "      <td>NaN</td>\n",
       "      <td>NaN</td>\n",
       "      <td>NaN</td>\n",
       "      <td>NaN</td>\n",
       "      <td>NaN</td>\n",
       "      <td>NaN</td>\n",
       "      <td>NaN</td>\n",
       "      <td>NaN</td>\n",
       "      <td>NaN</td>\n",
       "      <td>(41.67180, -72.94950)</td>\n",
       "      <td>(41.67180, -72.94950)</td>\n",
       "      <td>USC00061536</td>\n",
       "      <td>41.8000</td>\n",
       "      <td>-72.9333</td>\n",
       "      <td>14322.471705</td>\n",
       "      <td>4</td>\n",
       "      <td>NaN</td>\n",
       "      <td>NaN</td>\n",
       "      <td>NaN</td>\n",
       "      <td>NaN</td>\n",
       "      <td>NaN</td>\n",
       "      <td>NaN</td>\n",
       "      <td>NaN</td>\n",
       "    </tr>\n",
       "    <tr>\n",
       "      <th>3</th>\n",
       "      <td>Norwalk</td>\n",
       "      <td>US-CT</td>\n",
       "      <td>41.116700</td>\n",
       "      <td>-73.400000</td>\n",
       "      <td>1901</td>\n",
       "      <td>1900-12-25</td>\n",
       "      <td>1.0</td>\n",
       "      <td>NaN</td>\n",
       "      <td>NaN</td>\n",
       "      <td>NaN</td>\n",
       "      <td>NaN</td>\n",
       "      <td>NaN</td>\n",
       "      <td>NaN</td>\n",
       "      <td>NaN</td>\n",
       "      <td>NaN</td>\n",
       "      <td>Miles</td>\n",
       "      <td>NaN</td>\n",
       "      <td>NaN</td>\n",
       "      <td>NaN</td>\n",
       "      <td>NaN</td>\n",
       "      <td>NaN</td>\n",
       "      <td>NaN</td>\n",
       "      <td>NaN</td>\n",
       "      <td>NaN</td>\n",
       "      <td>NaN</td>\n",
       "      <td>NaN</td>\n",
       "      <td>NaN</td>\n",
       "      <td>NaN</td>\n",
       "      <td>NaN</td>\n",
       "      <td>NaN</td>\n",
       "      <td>NaN</td>\n",
       "      <td>NaN</td>\n",
       "      <td>NaN</td>\n",
       "      <td>NaN</td>\n",
       "      <td>NaN</td>\n",
       "      <td>NaN</td>\n",
       "      <td>NaN</td>\n",
       "      <td>NaN</td>\n",
       "      <td>NaN</td>\n",
       "      <td>NaN</td>\n",
       "      <td>NaN</td>\n",
       "      <td>NaN</td>\n",
       "      <td>NaN</td>\n",
       "      <td>NaN</td>\n",
       "      <td>NaN</td>\n",
       "      <td>NaN</td>\n",
       "      <td>NaN</td>\n",
       "      <td>(41.11670, -73.40000)</td>\n",
       "      <td>(41.11670, -73.40000)</td>\n",
       "      <td>USC00065892</td>\n",
       "      <td>41.1333</td>\n",
       "      <td>-73.4500</td>\n",
       "      <td>4578.046523</td>\n",
       "      <td>5</td>\n",
       "      <td>1900-12-25</td>\n",
       "      <td>USC00065892</td>\n",
       "      <td>NORWALK</td>\n",
       "      <td>0.0</td>\n",
       "      <td>CT</td>\n",
       "      <td>67.0</td>\n",
       "      <td>-44.0</td>\n",
       "    </tr>\n",
       "    <tr>\n",
       "      <th>4</th>\n",
       "      <td>Glen Ellyn</td>\n",
       "      <td>US-IL</td>\n",
       "      <td>41.883300</td>\n",
       "      <td>-88.066700</td>\n",
       "      <td>1901</td>\n",
       "      <td>1900-12-25</td>\n",
       "      <td>1.0</td>\n",
       "      <td>NaN</td>\n",
       "      <td>NaN</td>\n",
       "      <td>NaN</td>\n",
       "      <td>NaN</td>\n",
       "      <td>NaN</td>\n",
       "      <td>NaN</td>\n",
       "      <td>NaN</td>\n",
       "      <td>NaN</td>\n",
       "      <td>Miles</td>\n",
       "      <td>NaN</td>\n",
       "      <td>NaN</td>\n",
       "      <td>NaN</td>\n",
       "      <td>NaN</td>\n",
       "      <td>NaN</td>\n",
       "      <td>NaN</td>\n",
       "      <td>NaN</td>\n",
       "      <td>NaN</td>\n",
       "      <td>NaN</td>\n",
       "      <td>NaN</td>\n",
       "      <td>NaN</td>\n",
       "      <td>NaN</td>\n",
       "      <td>NaN</td>\n",
       "      <td>NaN</td>\n",
       "      <td>NaN</td>\n",
       "      <td>NaN</td>\n",
       "      <td>NaN</td>\n",
       "      <td>NaN</td>\n",
       "      <td>NaN</td>\n",
       "      <td>NaN</td>\n",
       "      <td>NaN</td>\n",
       "      <td>NaN</td>\n",
       "      <td>NaN</td>\n",
       "      <td>NaN</td>\n",
       "      <td>NaN</td>\n",
       "      <td>NaN</td>\n",
       "      <td>NaN</td>\n",
       "      <td>NaN</td>\n",
       "      <td>NaN</td>\n",
       "      <td>NaN</td>\n",
       "      <td>NaN</td>\n",
       "      <td>(41.88330, -88.06670)</td>\n",
       "      <td>(41.88330, -88.06670)</td>\n",
       "      <td>USC00119221</td>\n",
       "      <td>41.8128</td>\n",
       "      <td>-88.0728</td>\n",
       "      <td>7857.728111</td>\n",
       "      <td>6</td>\n",
       "      <td>NaN</td>\n",
       "      <td>NaN</td>\n",
       "      <td>NaN</td>\n",
       "      <td>NaN</td>\n",
       "      <td>NaN</td>\n",
       "      <td>NaN</td>\n",
       "      <td>NaN</td>\n",
       "    </tr>\n",
       "    <tr>\n",
       "      <th>...</th>\n",
       "      <td>...</td>\n",
       "      <td>...</td>\n",
       "      <td>...</td>\n",
       "      <td>...</td>\n",
       "      <td>...</td>\n",
       "      <td>...</td>\n",
       "      <td>...</td>\n",
       "      <td>...</td>\n",
       "      <td>...</td>\n",
       "      <td>...</td>\n",
       "      <td>...</td>\n",
       "      <td>...</td>\n",
       "      <td>...</td>\n",
       "      <td>...</td>\n",
       "      <td>...</td>\n",
       "      <td>...</td>\n",
       "      <td>...</td>\n",
       "      <td>...</td>\n",
       "      <td>...</td>\n",
       "      <td>...</td>\n",
       "      <td>...</td>\n",
       "      <td>...</td>\n",
       "      <td>...</td>\n",
       "      <td>...</td>\n",
       "      <td>...</td>\n",
       "      <td>...</td>\n",
       "      <td>...</td>\n",
       "      <td>...</td>\n",
       "      <td>...</td>\n",
       "      <td>...</td>\n",
       "      <td>...</td>\n",
       "      <td>...</td>\n",
       "      <td>...</td>\n",
       "      <td>...</td>\n",
       "      <td>...</td>\n",
       "      <td>...</td>\n",
       "      <td>...</td>\n",
       "      <td>...</td>\n",
       "      <td>...</td>\n",
       "      <td>...</td>\n",
       "      <td>...</td>\n",
       "      <td>...</td>\n",
       "      <td>...</td>\n",
       "      <td>...</td>\n",
       "      <td>...</td>\n",
       "      <td>...</td>\n",
       "      <td>...</td>\n",
       "      <td>...</td>\n",
       "      <td>...</td>\n",
       "      <td>...</td>\n",
       "      <td>...</td>\n",
       "      <td>...</td>\n",
       "      <td>...</td>\n",
       "      <td>...</td>\n",
       "      <td>...</td>\n",
       "      <td>...</td>\n",
       "      <td>...</td>\n",
       "      <td>...</td>\n",
       "      <td>...</td>\n",
       "      <td>...</td>\n",
       "      <td>...</td>\n",
       "    </tr>\n",
       "    <tr>\n",
       "      <th>89563</th>\n",
       "      <td>Hayward</td>\n",
       "      <td>US-WI</td>\n",
       "      <td>46.010021</td>\n",
       "      <td>-91.290002</td>\n",
       "      <td>2016</td>\n",
       "      <td>2015-12-19</td>\n",
       "      <td>5.0</td>\n",
       "      <td>7.0</td>\n",
       "      <td>4.0</td>\n",
       "      <td>4.0</td>\n",
       "      <td>5.00</td>\n",
       "      <td>17.50</td>\n",
       "      <td>NaN</td>\n",
       "      <td>90.75</td>\n",
       "      <td>NaN</td>\n",
       "      <td>Miles</td>\n",
       "      <td>6.0</td>\n",
       "      <td>21.0</td>\n",
       "      <td>2.0</td>\n",
       "      <td>5.80</td>\n",
       "      <td>10.4</td>\n",
       "      <td>1.0</td>\n",
       "      <td>5.9</td>\n",
       "      <td>5.90</td>\n",
       "      <td>2.0</td>\n",
       "      <td>2.0</td>\n",
       "      <td>5.0</td>\n",
       "      <td>3</td>\n",
       "      <td>3</td>\n",
       "      <td>2</td>\n",
       "      <td>2</td>\n",
       "      <td>90.75</td>\n",
       "      <td>146.041197</td>\n",
       "      <td>NaN</td>\n",
       "      <td>NaN</td>\n",
       "      <td>5.9</td>\n",
       "      <td>14.986</td>\n",
       "      <td>14.9860</td>\n",
       "      <td>5.90</td>\n",
       "      <td>6.0</td>\n",
       "      <td>21.0</td>\n",
       "      <td>-14.444444</td>\n",
       "      <td>-6.111111</td>\n",
       "      <td>9.333762</td>\n",
       "      <td>16.736402</td>\n",
       "      <td>5.80</td>\n",
       "      <td>10.4</td>\n",
       "      <td>(46.010021, -91.290002)</td>\n",
       "      <td>(46.010021, -91.290002)</td>\n",
       "      <td>USW00094973</td>\n",
       "      <td>46.0261</td>\n",
       "      <td>-91.4442</td>\n",
       "      <td>12043.634721</td>\n",
       "      <td>101706</td>\n",
       "      <td>2015-12-19</td>\n",
       "      <td>USW00094973</td>\n",
       "      <td>HAYWARD MUNI AP</td>\n",
       "      <td>0.0</td>\n",
       "      <td>WI</td>\n",
       "      <td>-60.0</td>\n",
       "      <td>-143.0</td>\n",
       "    </tr>\n",
       "    <tr>\n",
       "      <th>89564</th>\n",
       "      <td>Copper Center</td>\n",
       "      <td>US-AK</td>\n",
       "      <td>62.019112</td>\n",
       "      <td>-145.369224</td>\n",
       "      <td>2013</td>\n",
       "      <td>2012-12-14</td>\n",
       "      <td>7.0</td>\n",
       "      <td>4.0</td>\n",
       "      <td>7.0</td>\n",
       "      <td>8.0</td>\n",
       "      <td>3.58</td>\n",
       "      <td>8.75</td>\n",
       "      <td>0.01</td>\n",
       "      <td>16.55</td>\n",
       "      <td>0.01</td>\n",
       "      <td>Miles</td>\n",
       "      <td>-4.0</td>\n",
       "      <td>21.9</td>\n",
       "      <td>2.0</td>\n",
       "      <td>2.53</td>\n",
       "      <td>5.1</td>\n",
       "      <td>1.0</td>\n",
       "      <td>9.8</td>\n",
       "      <td>9.80</td>\n",
       "      <td>2.0</td>\n",
       "      <td>6.0</td>\n",
       "      <td>6.0</td>\n",
       "      <td>3</td>\n",
       "      <td>3</td>\n",
       "      <td>3</td>\n",
       "      <td>3</td>\n",
       "      <td>16.55</td>\n",
       "      <td>26.633408</td>\n",
       "      <td>0.01</td>\n",
       "      <td>0.016093</td>\n",
       "      <td>9.8</td>\n",
       "      <td>24.892</td>\n",
       "      <td>24.8920</td>\n",
       "      <td>9.80</td>\n",
       "      <td>-4.0</td>\n",
       "      <td>21.9</td>\n",
       "      <td>-20.000000</td>\n",
       "      <td>-5.611111</td>\n",
       "      <td>4.071452</td>\n",
       "      <td>8.207274</td>\n",
       "      <td>2.53</td>\n",
       "      <td>5.1</td>\n",
       "      <td>(62.019112, -145.369224)</td>\n",
       "      <td>(62.019112, -145.369224)</td>\n",
       "      <td>USC00503304</td>\n",
       "      <td>62.1086</td>\n",
       "      <td>-145.5331</td>\n",
       "      <td>13114.478871</td>\n",
       "      <td>92546</td>\n",
       "      <td>2012-12-14</td>\n",
       "      <td>USC00503304</td>\n",
       "      <td>GLENNALLEN KCAM</td>\n",
       "      <td>0.0</td>\n",
       "      <td>AK</td>\n",
       "      <td>-133.0</td>\n",
       "      <td>-211.0</td>\n",
       "    </tr>\n",
       "    <tr>\n",
       "      <th>89565</th>\n",
       "      <td>Washington Island</td>\n",
       "      <td>US-WI</td>\n",
       "      <td>45.383338</td>\n",
       "      <td>-86.883312</td>\n",
       "      <td>2017</td>\n",
       "      <td>2016-12-17</td>\n",
       "      <td>4.0</td>\n",
       "      <td>20.0</td>\n",
       "      <td>2.0</td>\n",
       "      <td>2.0</td>\n",
       "      <td>12.75</td>\n",
       "      <td>20.00</td>\n",
       "      <td>NaN</td>\n",
       "      <td>87.50</td>\n",
       "      <td>NaN</td>\n",
       "      <td>Miles</td>\n",
       "      <td>12.0</td>\n",
       "      <td>23.0</td>\n",
       "      <td>2.0</td>\n",
       "      <td>11.00</td>\n",
       "      <td>34.0</td>\n",
       "      <td>1.0</td>\n",
       "      <td>9.8</td>\n",
       "      <td>9.80</td>\n",
       "      <td>2.0</td>\n",
       "      <td>2.0</td>\n",
       "      <td>2.0</td>\n",
       "      <td>3</td>\n",
       "      <td>3</td>\n",
       "      <td>3</td>\n",
       "      <td>3</td>\n",
       "      <td>87.50</td>\n",
       "      <td>140.811072</td>\n",
       "      <td>NaN</td>\n",
       "      <td>NaN</td>\n",
       "      <td>9.8</td>\n",
       "      <td>24.892</td>\n",
       "      <td>24.8920</td>\n",
       "      <td>9.80</td>\n",
       "      <td>12.0</td>\n",
       "      <td>23.0</td>\n",
       "      <td>-11.111111</td>\n",
       "      <td>-5.000000</td>\n",
       "      <td>17.701963</td>\n",
       "      <td>54.715159</td>\n",
       "      <td>11.00</td>\n",
       "      <td>34.0</td>\n",
       "      <td>(45.383338, -86.883312)</td>\n",
       "      <td>(45.383338, -86.883312)</td>\n",
       "      <td>USC00478905</td>\n",
       "      <td>45.3583</td>\n",
       "      <td>-86.8911</td>\n",
       "      <td>2850.597664</td>\n",
       "      <td>104285</td>\n",
       "      <td>2016-12-17</td>\n",
       "      <td>USC00478905</td>\n",
       "      <td>WASHINGTON IS</td>\n",
       "      <td>140.0</td>\n",
       "      <td>WI</td>\n",
       "      <td>-50.0</td>\n",
       "      <td>-111.0</td>\n",
       "    </tr>\n",
       "    <tr>\n",
       "      <th>89566</th>\n",
       "      <td>Madison</td>\n",
       "      <td>US-WI</td>\n",
       "      <td>43.074708</td>\n",
       "      <td>-89.384305</td>\n",
       "      <td>2014</td>\n",
       "      <td>2013-12-14</td>\n",
       "      <td>118.0</td>\n",
       "      <td>1.0</td>\n",
       "      <td>46.0</td>\n",
       "      <td>46.0</td>\n",
       "      <td>228.80</td>\n",
       "      <td>2.00</td>\n",
       "      <td>11.25</td>\n",
       "      <td>841.80</td>\n",
       "      <td>64.00</td>\n",
       "      <td>Miles</td>\n",
       "      <td>10.0</td>\n",
       "      <td>23.0</td>\n",
       "      <td>2.0</td>\n",
       "      <td>0.00</td>\n",
       "      <td>24.0</td>\n",
       "      <td>1.0</td>\n",
       "      <td>2.0</td>\n",
       "      <td>2.30</td>\n",
       "      <td>2.0</td>\n",
       "      <td>2.0</td>\n",
       "      <td>2.0</td>\n",
       "      <td>3</td>\n",
       "      <td>3</td>\n",
       "      <td>3</td>\n",
       "      <td>2</td>\n",
       "      <td>841.80</td>\n",
       "      <td>1354.682974</td>\n",
       "      <td>64.00</td>\n",
       "      <td>102.993241</td>\n",
       "      <td>2.0</td>\n",
       "      <td>5.080</td>\n",
       "      <td>5.8420</td>\n",
       "      <td>2.30</td>\n",
       "      <td>10.0</td>\n",
       "      <td>23.0</td>\n",
       "      <td>-12.222222</td>\n",
       "      <td>-5.000000</td>\n",
       "      <td>0.000000</td>\n",
       "      <td>38.622465</td>\n",
       "      <td>0.00</td>\n",
       "      <td>24.0</td>\n",
       "      <td>(43.074708, -89.384305)</td>\n",
       "      <td>(43.074708, -89.384305)</td>\n",
       "      <td>USC00470273</td>\n",
       "      <td>43.0411</td>\n",
       "      <td>-89.4286</td>\n",
       "      <td>5189.606603</td>\n",
       "      <td>96734</td>\n",
       "      <td>2013-12-14</td>\n",
       "      <td>USC00470273</td>\n",
       "      <td>ARBORETUM UNIV WIS</td>\n",
       "      <td>5.0</td>\n",
       "      <td>WI</td>\n",
       "      <td>-44.0</td>\n",
       "      <td>-106.0</td>\n",
       "    </tr>\n",
       "    <tr>\n",
       "      <th>89567</th>\n",
       "      <td>Tiffin</td>\n",
       "      <td>US-OH</td>\n",
       "      <td>41.109753</td>\n",
       "      <td>-83.131131</td>\n",
       "      <td>2012</td>\n",
       "      <td>2011-12-17</td>\n",
       "      <td>17.0</td>\n",
       "      <td>2.0</td>\n",
       "      <td>3.0</td>\n",
       "      <td>7.0</td>\n",
       "      <td>28.90</td>\n",
       "      <td>2.00</td>\n",
       "      <td>5.80</td>\n",
       "      <td>342.50</td>\n",
       "      <td>102.00</td>\n",
       "      <td>Miles</td>\n",
       "      <td>28.0</td>\n",
       "      <td>32.0</td>\n",
       "      <td>2.0</td>\n",
       "      <td>4.00</td>\n",
       "      <td>13.0</td>\n",
       "      <td>1.0</td>\n",
       "      <td>0.0</td>\n",
       "      <td>0.02</td>\n",
       "      <td>2.0</td>\n",
       "      <td>2.0</td>\n",
       "      <td>2.0</td>\n",
       "      <td>3</td>\n",
       "      <td>3</td>\n",
       "      <td>2,1</td>\n",
       "      <td>2,1</td>\n",
       "      <td>342.50</td>\n",
       "      <td>551.174767</td>\n",
       "      <td>102.00</td>\n",
       "      <td>164.145478</td>\n",
       "      <td>0.0</td>\n",
       "      <td>0.000</td>\n",
       "      <td>0.0508</td>\n",
       "      <td>0.02</td>\n",
       "      <td>28.0</td>\n",
       "      <td>32.0</td>\n",
       "      <td>-2.222222</td>\n",
       "      <td>0.000000</td>\n",
       "      <td>6.437078</td>\n",
       "      <td>20.920502</td>\n",
       "      <td>4.00</td>\n",
       "      <td>13.0</td>\n",
       "      <td>(41.109753, -83.131131)</td>\n",
       "      <td>(41.109753, -83.131131)</td>\n",
       "      <td>USC00338313</td>\n",
       "      <td>41.1167</td>\n",
       "      <td>-83.1667</td>\n",
       "      <td>3079.180006</td>\n",
       "      <td>91437</td>\n",
       "      <td>NaN</td>\n",
       "      <td>NaN</td>\n",
       "      <td>NaN</td>\n",
       "      <td>NaN</td>\n",
       "      <td>NaN</td>\n",
       "      <td>NaN</td>\n",
       "      <td>NaN</td>\n",
       "    </tr>\n",
       "  </tbody>\n",
       "</table>\n",
       "<p>89568 rows × 61 columns</p>\n",
       "</div>"
      ],
      "text/plain": [
       "                  circle_name country_state        lat         lon  \\\n",
       "Unnamed: 0                                                           \n",
       "0               Pacific Grove         US-CA  36.616700 -121.916700   \n",
       "1                      Pueblo         US-CO  38.175251 -104.519575   \n",
       "2                     Bristol         US-CT  41.671800  -72.949500   \n",
       "3                     Norwalk         US-CT  41.116700  -73.400000   \n",
       "4                  Glen Ellyn         US-IL  41.883300  -88.066700   \n",
       "...                       ...           ...        ...         ...   \n",
       "89563                 Hayward         US-WI  46.010021  -91.290002   \n",
       "89564           Copper Center         US-AK  62.019112 -145.369224   \n",
       "89565       Washington Island         US-WI  45.383338  -86.883312   \n",
       "89566                 Madison         US-WI  43.074708  -89.384305   \n",
       "89567                  Tiffin         US-OH  41.109753  -83.131131   \n",
       "\n",
       "            count_year  count_date  n_field_counters  n_feeder_counters  \\\n",
       "Unnamed: 0                                                                \n",
       "0                 1901  1900-12-25               1.0                NaN   \n",
       "1                 1901  1900-12-25               1.0                NaN   \n",
       "2                 1901  1900-12-25               2.0                NaN   \n",
       "3                 1901  1900-12-25               1.0                NaN   \n",
       "4                 1901  1900-12-25               1.0                NaN   \n",
       "...                ...         ...               ...                ...   \n",
       "89563             2016  2015-12-19               5.0                7.0   \n",
       "89564             2013  2012-12-14               7.0                4.0   \n",
       "89565             2017  2016-12-17               4.0               20.0   \n",
       "89566             2014  2013-12-14             118.0                1.0   \n",
       "89567             2012  2011-12-17              17.0                2.0   \n",
       "\n",
       "            min_field_parties  max_field_parties  field_hours  feeder_hours  \\\n",
       "Unnamed: 0                                                                    \n",
       "0                         NaN                NaN          NaN           NaN   \n",
       "1                         NaN                NaN          NaN           NaN   \n",
       "2                         NaN                NaN          NaN           NaN   \n",
       "3                         NaN                NaN          NaN           NaN   \n",
       "4                         NaN                NaN          NaN           NaN   \n",
       "...                       ...                ...          ...           ...   \n",
       "89563                     4.0                4.0         5.00         17.50   \n",
       "89564                     7.0                8.0         3.58          8.75   \n",
       "89565                     2.0                2.0        12.75         20.00   \n",
       "89566                    46.0               46.0       228.80          2.00   \n",
       "89567                     3.0                7.0        28.90          2.00   \n",
       "\n",
       "            nocturnal_hours  field_distance  nocturnal_distance  \\\n",
       "Unnamed: 0                                                        \n",
       "0                       NaN             NaN                 NaN   \n",
       "1                       NaN             NaN                 NaN   \n",
       "2                       NaN             NaN                 NaN   \n",
       "3                       NaN             NaN                 NaN   \n",
       "4                       NaN             NaN                 NaN   \n",
       "...                     ...             ...                 ...   \n",
       "89563                   NaN           90.75                 NaN   \n",
       "89564                  0.01           16.55                0.01   \n",
       "89565                   NaN           87.50                 NaN   \n",
       "89566                 11.25          841.80               64.00   \n",
       "89567                  5.80          342.50              102.00   \n",
       "\n",
       "           distance_units  min_temp  max_temp  temp_unit  min_wind  max_wind  \\\n",
       "Unnamed: 0                                                                     \n",
       "0                   Miles       NaN       NaN        NaN       NaN       NaN   \n",
       "1                   Miles       NaN       NaN        NaN       NaN       NaN   \n",
       "2                   Miles       NaN       NaN        NaN       NaN       NaN   \n",
       "3                   Miles       NaN       NaN        NaN       NaN       NaN   \n",
       "4                   Miles       NaN       NaN        NaN       NaN       NaN   \n",
       "...                   ...       ...       ...        ...       ...       ...   \n",
       "89563               Miles       6.0      21.0        2.0      5.80      10.4   \n",
       "89564               Miles      -4.0      21.9        2.0      2.53       5.1   \n",
       "89565               Miles      12.0      23.0        2.0     11.00      34.0   \n",
       "89566               Miles      10.0      23.0        2.0      0.00      24.0   \n",
       "89567               Miles      28.0      32.0        2.0      4.00      13.0   \n",
       "\n",
       "            wind_unit  min_snow  max_snow  snow_unit  am_cloud  pm_cloud  \\\n",
       "Unnamed: 0                                                                 \n",
       "0                 NaN       NaN       NaN        NaN       NaN       NaN   \n",
       "1                 NaN       NaN       NaN        NaN       NaN       NaN   \n",
       "2                 NaN       NaN       NaN        NaN       NaN       NaN   \n",
       "3                 NaN       NaN       NaN        NaN       NaN       NaN   \n",
       "4                 NaN       NaN       NaN        NaN       NaN       NaN   \n",
       "...               ...       ...       ...        ...       ...       ...   \n",
       "89563             1.0       5.9      5.90        2.0       2.0       5.0   \n",
       "89564             1.0       9.8      9.80        2.0       6.0       6.0   \n",
       "89565             1.0       9.8      9.80        2.0       2.0       2.0   \n",
       "89566             1.0       2.0      2.30        2.0       2.0       2.0   \n",
       "89567             1.0       0.0      0.02        2.0       2.0       2.0   \n",
       "\n",
       "           am_rain pm_rain am_snow pm_snow  field_distance_imperial  \\\n",
       "Unnamed: 0                                                            \n",
       "0              NaN     NaN     NaN     NaN                      NaN   \n",
       "1              NaN     NaN     NaN     NaN                      NaN   \n",
       "2              NaN     NaN     NaN     NaN                      NaN   \n",
       "3              NaN     NaN     NaN     NaN                      NaN   \n",
       "4              NaN     NaN     NaN     NaN                      NaN   \n",
       "...            ...     ...     ...     ...                      ...   \n",
       "89563            3       3       2       2                    90.75   \n",
       "89564            3       3       3       3                    16.55   \n",
       "89565            3       3       3       3                    87.50   \n",
       "89566            3       3       3       2                   841.80   \n",
       "89567            3       3     2,1     2,1                   342.50   \n",
       "\n",
       "            field_distance_metric  nocturnal_distance_imperial  \\\n",
       "Unnamed: 0                                                       \n",
       "0                             NaN                          NaN   \n",
       "1                             NaN                          NaN   \n",
       "2                             NaN                          NaN   \n",
       "3                             NaN                          NaN   \n",
       "4                             NaN                          NaN   \n",
       "...                           ...                          ...   \n",
       "89563                  146.041197                          NaN   \n",
       "89564                   26.633408                         0.01   \n",
       "89565                  140.811072                          NaN   \n",
       "89566                 1354.682974                        64.00   \n",
       "89567                  551.174767                       102.00   \n",
       "\n",
       "            nocturnal_distance_metric  min_snow_imperial  min_snow_metric  \\\n",
       "Unnamed: 0                                                                  \n",
       "0                                 NaN                NaN              NaN   \n",
       "1                                 NaN                NaN              NaN   \n",
       "2                                 NaN                NaN              NaN   \n",
       "3                                 NaN                NaN              NaN   \n",
       "4                                 NaN                NaN              NaN   \n",
       "...                               ...                ...              ...   \n",
       "89563                             NaN                5.9           14.986   \n",
       "89564                        0.016093                9.8           24.892   \n",
       "89565                             NaN                9.8           24.892   \n",
       "89566                      102.993241                2.0            5.080   \n",
       "89567                      164.145478                0.0            0.000   \n",
       "\n",
       "            max_snow_metric  max_snow_imperial  min_temp_imperial  \\\n",
       "Unnamed: 0                                                          \n",
       "0                       NaN                NaN                NaN   \n",
       "1                       NaN                NaN                NaN   \n",
       "2                       NaN                NaN                NaN   \n",
       "3                       NaN                NaN                NaN   \n",
       "4                       NaN                NaN                NaN   \n",
       "...                     ...                ...                ...   \n",
       "89563               14.9860               5.90                6.0   \n",
       "89564               24.8920               9.80               -4.0   \n",
       "89565               24.8920               9.80               12.0   \n",
       "89566                5.8420               2.30               10.0   \n",
       "89567                0.0508               0.02               28.0   \n",
       "\n",
       "            max_temp_imperial  min_temp_metric  max_temp_metric  \\\n",
       "Unnamed: 0                                                        \n",
       "0                         NaN              NaN              NaN   \n",
       "1                         NaN              NaN              NaN   \n",
       "2                         NaN              NaN              NaN   \n",
       "3                         NaN              NaN              NaN   \n",
       "4                         NaN              NaN              NaN   \n",
       "...                       ...              ...              ...   \n",
       "89563                    21.0       -14.444444        -6.111111   \n",
       "89564                    21.9       -20.000000        -5.611111   \n",
       "89565                    23.0       -11.111111        -5.000000   \n",
       "89566                    23.0       -12.222222        -5.000000   \n",
       "89567                    32.0        -2.222222         0.000000   \n",
       "\n",
       "            min_wind_metric  max_wind_metric  min_wind_imperial  \\\n",
       "Unnamed: 0                                                        \n",
       "0                       NaN              NaN                NaN   \n",
       "1                       NaN              NaN                NaN   \n",
       "2                       NaN              NaN                NaN   \n",
       "3                       NaN              NaN                NaN   \n",
       "4                       NaN              NaN                NaN   \n",
       "...                     ...              ...                ...   \n",
       "89563              9.333762        16.736402               5.80   \n",
       "89564              4.071452         8.207274               2.53   \n",
       "89565             17.701963        54.715159              11.00   \n",
       "89566              0.000000        38.622465               0.00   \n",
       "89567              6.437078        20.920502               4.00   \n",
       "\n",
       "            max_wind_imperial               station_key  \\\n",
       "Unnamed: 0                                                \n",
       "0                         NaN     (36.61670, -121.9167)   \n",
       "1                         NaN  (38.175251, -104.519575)   \n",
       "2                         NaN     (41.67180, -72.94950)   \n",
       "3                         NaN     (41.11670, -73.40000)   \n",
       "4                         NaN     (41.88330, -88.06670)   \n",
       "...                       ...                       ...   \n",
       "89563                    10.4   (46.010021, -91.290002)   \n",
       "89564                     5.1  (62.019112, -145.369224)   \n",
       "89565                    34.0   (45.383338, -86.883312)   \n",
       "89566                    24.0   (43.074708, -89.384305)   \n",
       "89567                    13.0   (41.109753, -83.131131)   \n",
       "\n",
       "                  circle_coordinates closest_station_id  closest_station_lat  \\\n",
       "Unnamed: 0                                                                     \n",
       "0              (36.61670, -121.9167)        USC00047916              36.9878   \n",
       "1           (38.175251, -104.519575)        USW00023068              38.2725   \n",
       "2              (41.67180, -72.94950)        USC00061536              41.8000   \n",
       "3              (41.11670, -73.40000)        USC00065892              41.1333   \n",
       "4              (41.88330, -88.06670)        USC00119221              41.8128   \n",
       "...                              ...                ...                  ...   \n",
       "89563        (46.010021, -91.290002)        USW00094973              46.0261   \n",
       "89564       (62.019112, -145.369224)        USC00503304              62.1086   \n",
       "89565        (45.383338, -86.883312)        USC00478905              45.3583   \n",
       "89566        (43.074708, -89.384305)        USC00470273              43.0411   \n",
       "89567        (41.109753, -83.131131)        USC00338313              41.1167   \n",
       "\n",
       "            closest_station_lng      distance  circle_num        date  \\\n",
       "Unnamed: 0                                                              \n",
       "0                     -121.9994  41928.062371           2  1900-12-25   \n",
       "1                     -104.6089  13338.679404           3         NaN   \n",
       "2                      -72.9333  14322.471705           4         NaN   \n",
       "3                      -73.4500   4578.046523           5  1900-12-25   \n",
       "4                      -88.0728   7857.728111           6         NaN   \n",
       "...                         ...           ...         ...         ...   \n",
       "89563                  -91.4442  12043.634721      101706  2015-12-19   \n",
       "89564                 -145.5331  13114.478871       92546  2012-12-14   \n",
       "89565                  -86.8911   2850.597664      104285  2016-12-17   \n",
       "89566                  -89.4286   5189.606603       96734  2013-12-14   \n",
       "89567                  -83.1667   3079.180006       91437         NaN   \n",
       "\n",
       "                     id                            name  precipitation_value  \\\n",
       "Unnamed: 0                                                                     \n",
       "0           USC00047916  SANTA CRUZ                                      0.0   \n",
       "1                   NaN                             NaN                  NaN   \n",
       "2                   NaN                             NaN                  NaN   \n",
       "3           USC00065892  NORWALK                                         0.0   \n",
       "4                   NaN                             NaN                  NaN   \n",
       "...                 ...                             ...                  ...   \n",
       "89563       USW00094973  HAYWARD MUNI AP                                 0.0   \n",
       "89564       USC00503304  GLENNALLEN KCAM                                 0.0   \n",
       "89565       USC00478905  WASHINGTON IS                                 140.0   \n",
       "89566       USC00470273  ARBORETUM UNIV WIS                              5.0   \n",
       "89567               NaN                             NaN                  NaN   \n",
       "\n",
       "           state  temp_max_value  temp_min_value  \n",
       "Unnamed: 0                                        \n",
       "0             CA           172.0            33.0  \n",
       "1            NaN             NaN             NaN  \n",
       "2            NaN             NaN             NaN  \n",
       "3             CT            67.0           -44.0  \n",
       "4            NaN             NaN             NaN  \n",
       "...          ...             ...             ...  \n",
       "89563         WI           -60.0          -143.0  \n",
       "89564         AK          -133.0          -211.0  \n",
       "89565         WI           -50.0          -111.0  \n",
       "89566         WI           -44.0          -106.0  \n",
       "89567        NaN             NaN             NaN  \n",
       "\n",
       "[89568 rows x 61 columns]"
      ]
     },
     "execution_count": 2,
     "metadata": {},
     "output_type": "execute_result"
    }
   ],
   "source": [
    "# Read in unfinished dataset\n",
    "df_paired = pd.read_csv('../data/cbc_cleaned_usa_merged.csv')\n",
    "\n",
    "# Set the index\n",
    "df_paired.set_index('Unnamed: 0')"
   ]
  },
  {
   "cell_type": "markdown",
   "metadata": {},
   "source": [
    "### Calculated Variables:<br>\n",
    "\n",
    "Convert NOAA temp's from 10th of a degree to degrees:"
   ]
  },
  {
   "cell_type": "code",
   "execution_count": 3,
   "metadata": {},
   "outputs": [],
   "source": [
    "df_paired.loc[:, 'noaa_tmax_value'] = df_paired.loc[:, 'temp_max_value'] / 10.0 * 1.8 + 32.0\n",
    "df_paired.loc[:, 'noaa_tmin_value'] = df_paired.loc[:, 'temp_min_value'] / 10.0 * 1.8 + 32.0"
   ]
  },
  {
   "cell_type": "markdown",
   "metadata": {},
   "source": [
    "Are there indeces which have negative values for both CBC and NOAA?"
   ]
  },
  {
   "cell_type": "code",
   "execution_count": 4,
   "metadata": {},
   "outputs": [
    {
     "data": {
      "text/plain": [
       "1665"
      ]
     },
     "execution_count": 4,
     "metadata": {},
     "output_type": "execute_result"
    }
   ],
   "source": [
    "df_paired.loc[((df_paired.loc[:, 'min_temp'] < 0.0) & \n",
    "               (df_paired.loc[:, 'noaa_tmin_value'] < 0.0))].index.size"
   ]
  },
  {
   "cell_type": "markdown",
   "metadata": {},
   "source": [
    "Any negative temperatures in Florida?<br>\n",
    "Lat: 25 to 30<br>\n",
    "Long: -80 to -90"
   ]
  },
  {
   "cell_type": "code",
   "execution_count": 5,
   "metadata": {},
   "outputs": [
    {
     "data": {
      "text/plain": [
       "0"
      ]
     },
     "execution_count": 5,
     "metadata": {},
     "output_type": "execute_result"
    }
   ],
   "source": [
    "df_paired.loc[((df_paired.loc[:, 'noaa_tmin_value'] < 0.0) &\n",
    "               (df_paired.loc[:, 'closest_station_lat'] < 30.0) &\n",
    "               (df_paired.loc[:, 'closest_station_lng'] > -90.0))].index.size"
   ]
  },
  {
   "cell_type": "code",
   "execution_count": 6,
   "metadata": {},
   "outputs": [
    {
     "data": {
      "text/html": [
       "<div>\n",
       "<style scoped>\n",
       "    .dataframe tbody tr th:only-of-type {\n",
       "        vertical-align: middle;\n",
       "    }\n",
       "\n",
       "    .dataframe tbody tr th {\n",
       "        vertical-align: top;\n",
       "    }\n",
       "\n",
       "    .dataframe thead th {\n",
       "        text-align: right;\n",
       "    }\n",
       "</style>\n",
       "<table border=\"1\" class=\"dataframe\">\n",
       "  <thead>\n",
       "    <tr style=\"text-align: right;\">\n",
       "      <th></th>\n",
       "      <th>noaa_tmin_value</th>\n",
       "      <th>circle_name</th>\n",
       "      <th>count_date</th>\n",
       "      <th>closest_station_lat</th>\n",
       "      <th>closest_station_lng</th>\n",
       "    </tr>\n",
       "  </thead>\n",
       "  <tbody>\n",
       "  </tbody>\n",
       "</table>\n",
       "</div>"
      ],
      "text/plain": [
       "Empty DataFrame\n",
       "Columns: [noaa_tmin_value, circle_name, count_date, closest_station_lat, closest_station_lng]\n",
       "Index: []"
      ]
     },
     "execution_count": 6,
     "metadata": {},
     "output_type": "execute_result"
    }
   ],
   "source": [
    "df_paired.loc[((df_paired.loc[:, 'noaa_tmin_value'] < 0.0) &\n",
    "               (df_paired.loc[:, 'closest_station_lat'] < 30.0) &\n",
    "               (df_paired.loc[:, 'closest_station_lng'] > -90.0)),\n",
    "               ['noaa_tmin_value', 'circle_name', 'count_date', 'closest_station_lat', 'closest_station_lng']].tail(10)"
   ]
  },
  {
   "cell_type": "markdown",
   "metadata": {},
   "source": [
    "Create variable(s) to track if CBC recorded precipitation:<br>\n",
    "- cbc_is_prec\n",
    "- cbc_is_snow\n",
    "- cbc_is_rain\n",
    "\n",
    "- Are there any 'min_snow' values larger than 'max_snow' ?"
   ]
  },
  {
   "cell_type": "code",
   "execution_count": 7,
   "metadata": {},
   "outputs": [
    {
     "data": {
      "text/plain": [
       "5"
      ]
     },
     "execution_count": 7,
     "metadata": {},
     "output_type": "execute_result"
    }
   ],
   "source": [
    "df_paired.loc[(df_paired.loc[:, 'min_snow'] > df_paired.loc[:, 'max_snow'])].index.size"
   ]
  },
  {
   "cell_type": "code",
   "execution_count": 8,
   "metadata": {},
   "outputs": [
    {
     "data": {
      "text/html": [
       "<div>\n",
       "<style scoped>\n",
       "    .dataframe tbody tr th:only-of-type {\n",
       "        vertical-align: middle;\n",
       "    }\n",
       "\n",
       "    .dataframe tbody tr th {\n",
       "        vertical-align: top;\n",
       "    }\n",
       "\n",
       "    .dataframe thead th {\n",
       "        text-align: right;\n",
       "    }\n",
       "</style>\n",
       "<table border=\"1\" class=\"dataframe\">\n",
       "  <thead>\n",
       "    <tr style=\"text-align: right;\">\n",
       "      <th></th>\n",
       "      <th>circle_name</th>\n",
       "      <th>count_date</th>\n",
       "      <th>min_snow</th>\n",
       "      <th>max_snow</th>\n",
       "    </tr>\n",
       "  </thead>\n",
       "  <tbody>\n",
       "    <tr>\n",
       "      <th>62929</th>\n",
       "      <td>Southern Dorchester County</td>\n",
       "      <td>1962-12-26</td>\n",
       "      <td>3.0</td>\n",
       "      <td>0.0</td>\n",
       "    </tr>\n",
       "    <tr>\n",
       "      <th>67182</th>\n",
       "      <td>Waukesha</td>\n",
       "      <td>2011-12-17</td>\n",
       "      <td>5.0</td>\n",
       "      <td>1.0</td>\n",
       "    </tr>\n",
       "    <tr>\n",
       "      <th>67645</th>\n",
       "      <td>Presque Isle</td>\n",
       "      <td>2011-12-31</td>\n",
       "      <td>2.0</td>\n",
       "      <td>1.0</td>\n",
       "    </tr>\n",
       "    <tr>\n",
       "      <th>67840</th>\n",
       "      <td>Caribou</td>\n",
       "      <td>2011-12-28</td>\n",
       "      <td>4.0</td>\n",
       "      <td>1.0</td>\n",
       "    </tr>\n",
       "    <tr>\n",
       "      <th>74684</th>\n",
       "      <td>Angel Fire-Eagle Nest</td>\n",
       "      <td>2011-12-18</td>\n",
       "      <td>12.0</td>\n",
       "      <td>3.0</td>\n",
       "    </tr>\n",
       "  </tbody>\n",
       "</table>\n",
       "</div>"
      ],
      "text/plain": [
       "                      circle_name  count_date  min_snow  max_snow\n",
       "62929  Southern Dorchester County  1962-12-26       3.0       0.0\n",
       "67182                    Waukesha  2011-12-17       5.0       1.0\n",
       "67645                Presque Isle  2011-12-31       2.0       1.0\n",
       "67840                     Caribou  2011-12-28       4.0       1.0\n",
       "74684       Angel Fire-Eagle Nest  2011-12-18      12.0       3.0"
      ]
     },
     "execution_count": 8,
     "metadata": {},
     "output_type": "execute_result"
    }
   ],
   "source": [
    "df_paired.loc[(df_paired.loc[:, 'min_snow'] > df_paired.loc[:, 'max_snow']), ['circle_name', 'count_date', 'min_snow', 'max_snow']]"
   ]
  },
  {
   "cell_type": "code",
   "execution_count": 9,
   "metadata": {},
   "outputs": [
    {
     "data": {
      "text/plain": [
       "3        33615\n",
       "4        23810\n",
       "2         7087\n",
       "1          940\n",
       "2,1        422\n",
       "3,2        356\n",
       "3,2,1      126\n",
       "3,1         19\n",
       "4.0         11\n",
       "2,3          3\n",
       "3,4          2\n",
       "1,2          2\n",
       "1,4          1\n",
       "1,2,3        1\n",
       "2.0          1\n",
       "Name: am_rain, dtype: int64"
      ]
     },
     "execution_count": 9,
     "metadata": {},
     "output_type": "execute_result"
    }
   ],
   "source": [
    "# Sometime the rain or snow intensity is listed as \"2,1\"\n",
    "df_paired.loc[:, 'am_rain'].value_counts()"
   ]
  },
  {
   "cell_type": "code",
   "execution_count": 10,
   "metadata": {},
   "outputs": [
    {
     "data": {
      "text/plain": [
       "66877"
      ]
     },
     "execution_count": 10,
     "metadata": {},
     "output_type": "execute_result"
    }
   ],
   "source": [
    "df_paired.loc[:, 'cbc_is_prec'] = (pd.notna(df_paired.loc[:, 'min_snow']) |\n",
    "                                  pd.notna(df_paired.loc[:, 'max_snow']) |\n",
    "                                  pd.notna(df_paired.loc[:, 'am_rain']) |\n",
    "                                  pd.notna(df_paired.loc[:, 'pm_rain']))\n",
    "df_paired.loc[(df_paired.loc[:, 'cbc_is_prec'] == True)].index.size"
   ]
  },
  {
   "cell_type": "code",
   "execution_count": 11,
   "metadata": {},
   "outputs": [
    {
     "data": {
      "text/html": [
       "<div>\n",
       "<style scoped>\n",
       "    .dataframe tbody tr th:only-of-type {\n",
       "        vertical-align: middle;\n",
       "    }\n",
       "\n",
       "    .dataframe tbody tr th {\n",
       "        vertical-align: top;\n",
       "    }\n",
       "\n",
       "    .dataframe thead th {\n",
       "        text-align: right;\n",
       "    }\n",
       "</style>\n",
       "<table border=\"1\" class=\"dataframe\">\n",
       "  <thead>\n",
       "    <tr style=\"text-align: right;\">\n",
       "      <th></th>\n",
       "      <th>cbc_is_prec</th>\n",
       "      <th>min_snow</th>\n",
       "      <th>max_snow</th>\n",
       "      <th>am_rain</th>\n",
       "      <th>pm_rain</th>\n",
       "    </tr>\n",
       "  </thead>\n",
       "  <tbody>\n",
       "  </tbody>\n",
       "</table>\n",
       "</div>"
      ],
      "text/plain": [
       "Empty DataFrame\n",
       "Columns: [cbc_is_prec, min_snow, max_snow, am_rain, pm_rain]\n",
       "Index: []"
      ]
     },
     "execution_count": 11,
     "metadata": {},
     "output_type": "execute_result"
    }
   ],
   "source": [
    "# Check for false positives\n",
    "df_paired.loc[(df_paired.loc[:, 'cbc_is_prec'] == True) &\n",
    "              (pd.isna(df_paired.loc[:, 'min_snow']) &\n",
    "               pd.isna(df_paired.loc[:, 'max_snow']) &\n",
    "               pd.isna(df_paired.loc[:, 'am_rain']) &\n",
    "               pd.isna(df_paired.loc[:, 'pm_rain'])),\n",
    "              ['cbc_is_prec', 'min_snow', 'max_snow', 'am_rain', 'pm_rain']].head(10)"
   ]
  },
  {
   "cell_type": "markdown",
   "metadata": {},
   "source": [
    "Absolute Temperature Difference:"
   ]
  },
  {
   "cell_type": "code",
   "execution_count": 12,
   "metadata": {},
   "outputs": [],
   "source": [
    "df_paired.loc[:, 'tmin_diff'] = df_paired.loc[:, 'min_temp'] - df_paired.loc[:, 'noaa_tmin_value']\n",
    "df_paired.loc[:, 'tmin_diff_abs'] = df_paired.loc[:, 'tmin_diff'].abs()  \n",
    "\n",
    "df_paired.loc[:, 'tmax_diff'] = df_paired.loc[:, 'max_temp'] - df_paired.loc[:, 'noaa_tmax_value']\n",
    "df_paired.loc[:, 'tmax_diff_abs'] = df_paired.loc[:, 'tmax_diff'].abs() "
   ]
  },
  {
   "cell_type": "code",
   "execution_count": 13,
   "metadata": {},
   "outputs": [
    {
     "data": {
      "text/plain": [
       "<matplotlib.axes._subplots.AxesSubplot at 0xdf3e950>"
      ]
     },
     "execution_count": 13,
     "metadata": {},
     "output_type": "execute_result"
    },
    {
     "data": {
      "image/png": "[encoded data removed]",
      "text/plain": [
       "<Figure size 432x288 with 1 Axes>"
      ]
     },
     "metadata": {
      "needs_background": "light"
     },
     "output_type": "display_data"
    }
   ],
   "source": [
    "df_paired.loc[:, 'tmin_diff_abs'].plot.hist(bins=100)"
   ]
  },
  {
   "cell_type": "code",
   "execution_count": 14,
   "metadata": {},
   "outputs": [
    {
     "data": {
      "text/plain": [
       "<matplotlib.axes._subplots.AxesSubplot at 0x1344a0f0>"
      ]
     },
     "execution_count": 14,
     "metadata": {},
     "output_type": "execute_result"
    },
    {
     "data": {
      "image/png": "[encoded data removed]",
      "text/plain": [
       "<Figure size 432x288 with 1 Axes>"
      ]
     },
     "metadata": {
      "needs_background": "light"
     },
     "output_type": "display_data"
    }
   ],
   "source": [
    "df_paired.loc[:, 'tmax_diff_abs'].plot.hist(bins=100)"
   ]
  },
  {
   "cell_type": "markdown",
   "metadata": {},
   "source": [
    "Mean temperature difference:"
   ]
  },
  {
   "cell_type": "code",
   "execution_count": 15,
   "metadata": {},
   "outputs": [
    {
     "name": "stdout",
     "output_type": "stream",
     "text": [
      "Tmin Difference Mean & SD: 5.18 ,  5.65\n",
      "Tmax Difference Mean & SD: 5.1 ,  7.6\n"
     ]
    }
   ],
   "source": [
    "tmin_diff_mean = df_paired.loc[:, 'tmin_diff_abs'].mean(skipna=True)\n",
    "tmin_diff_std = df_paired.loc[:, 'tmin_diff_abs'].std(skipna=True)\n",
    "tmax_diff_mean = df_paired.loc[:, 'tmax_diff_abs'].mean(skipna=True)\n",
    "tmax_diff_std = df_paired.loc[:, 'tmax_diff_abs'].std(skipna=True)\n",
    "\n",
    "print('Tmin Difference Mean & SD:', round(tmin_diff_mean,2), ', ', round(tmin_diff_std,2))\n",
    "print('Tmax Difference Mean & SD:', round(tmax_diff_mean,2), ', ', round(tmax_diff_std,2))"
   ]
  },
  {
   "cell_type": "markdown",
   "metadata": {},
   "source": [
    "### Outliers\n",
    "\n"
   ]
  },
  {
   "cell_type": "markdown",
   "metadata": {},
   "source": [
    "Screen stations further than 10 km:"
   ]
  },
  {
   "cell_type": "code",
   "execution_count": 16,
   "metadata": {},
   "outputs": [
    {
     "name": "stdout",
     "output_type": "stream",
     "text": [
      "Rows in original dataset: 89568\n",
      "Rows in 10km dataset: 63975\n"
     ]
    }
   ],
   "source": [
    "df_paired_10k = df_paired.loc[(df_paired.loc[:, 'distance'] <= 10000.0), :]\n",
    "print('Rows in original dataset:', df_paired.index.size)\n",
    "print('Rows in 10km dataset:', df_paired_10k.index.size)"
   ]
  },
  {
   "cell_type": "markdown",
   "metadata": {},
   "source": [
    "Screen stations with obvious temperature errors:<br>\n",
    "- tmin no less than -100 degF\n",
    "- tmax no greater than 110 degF\n",
    "- (probably could be more strict, but this is first guess)"
   ]
  },
  {
   "cell_type": "code",
   "execution_count": 17,
   "metadata": {},
   "outputs": [
    {
     "name": "stdout",
     "output_type": "stream",
     "text": [
      "Rows in 10km temp-screened dataset: 27320\n"
     ]
    }
   ],
   "source": [
    "df_paired_10k = df_paired_10k.loc[(df_paired_10k.loc[:, 'min_temp'] > -100.0) &\n",
    "                                  (df_paired_10k.loc[:, 'noaa_tmin_value'] > -100.0) &\n",
    "                                  (df_paired_10k.loc[:, 'max_temp'] < 110.0) &\n",
    "                                  (df_paired_10k.loc[:, 'noaa_tmax_value'] < 110.0), :]\n",
    "print('Rows in 10km temp-screened dataset:', df_paired_10k.index.size)"
   ]
  },
  {
   "cell_type": "markdown",
   "metadata": {},
   "source": [
    "### ** THAT'S A BIG DROP OFF **"
   ]
  },
  {
   "cell_type": "markdown",
   "metadata": {},
   "source": [
    "Mean temperature difference:"
   ]
  },
  {
   "cell_type": "code",
   "execution_count": 18,
   "metadata": {},
   "outputs": [
    {
     "name": "stdout",
     "output_type": "stream",
     "text": [
      "Tmin Difference Mean & SD: 5.08 ,  5.41\n",
      "Tmax Difference Mean & SD: 4.94 ,  5.63\n"
     ]
    }
   ],
   "source": [
    "tmin_diff_mean = df_paired_10k.loc[:, 'tmin_diff_abs'].mean(skipna=True)\n",
    "tmin_diff_std = df_paired_10k.loc[:, 'tmin_diff_abs'].std(skipna=True)\n",
    "tmax_diff_mean = df_paired_10k.loc[:, 'tmax_diff_abs'].mean(skipna=True)\n",
    "tmax_diff_std = df_paired_10k.loc[:, 'tmax_diff_abs'].std(skipna=True)\n",
    "\n",
    "print('Tmin Difference Mean & SD:', round(tmin_diff_mean,2), ', ', round(tmin_diff_std,2))\n",
    "print('Tmax Difference Mean & SD:', round(tmax_diff_mean,2), ', ', round(tmax_diff_std,2))"
   ]
  },
  {
   "cell_type": "markdown",
   "metadata": {},
   "source": [
    "Box & Whisker Plots:<br>\n",
    "\n",
    "Tmin & Tmax Difference"
   ]
  },
  {
   "cell_type": "code",
   "execution_count": 19,
   "metadata": {},
   "outputs": [
    {
     "data": {
      "text/plain": [
       "<matplotlib.axes._subplots.AxesSubplot at 0x1357d3b0>"
      ]
     },
     "execution_count": 19,
     "metadata": {},
     "output_type": "execute_result"
    },
    {
     "data": {
      "image/png": "[encoded data removed]",
      "text/plain": [
       "<Figure size 432x288 with 1 Axes>"
      ]
     },
     "metadata": {
      "needs_background": "light"
     },
     "output_type": "display_data"
    }
   ],
   "source": [
    "df_paired_10k.boxplot(column=['tmin_diff_abs', 'tmax_diff_abs'])"
   ]
  },
  {
   "cell_type": "markdown",
   "metadata": {},
   "source": [
    "Clearly, there are some actual errors here. Not just outliers."
   ]
  },
  {
   "cell_type": "code",
   "execution_count": 20,
   "metadata": {},
   "outputs": [
    {
     "data": {
      "text/html": [
       "<div>\n",
       "<style scoped>\n",
       "    .dataframe tbody tr th:only-of-type {\n",
       "        vertical-align: middle;\n",
       "    }\n",
       "\n",
       "    .dataframe tbody tr th {\n",
       "        vertical-align: top;\n",
       "    }\n",
       "\n",
       "    .dataframe thead th {\n",
       "        text-align: right;\n",
       "    }\n",
       "</style>\n",
       "<table border=\"1\" class=\"dataframe\">\n",
       "  <thead>\n",
       "    <tr style=\"text-align: right;\">\n",
       "      <th></th>\n",
       "      <th>circle_name</th>\n",
       "      <th>count_date</th>\n",
       "      <th>distance</th>\n",
       "      <th>min_temp</th>\n",
       "      <th>noaa_tmin_value</th>\n",
       "      <th>tmin_diff_abs</th>\n",
       "    </tr>\n",
       "  </thead>\n",
       "  <tbody>\n",
       "    <tr>\n",
       "      <th>35553</th>\n",
       "      <td>St. Augustine</td>\n",
       "      <td>1991-12-14</td>\n",
       "      <td>5928.604728</td>\n",
       "      <td>0.0</td>\n",
       "      <td>62.06</td>\n",
       "      <td>62.06</td>\n",
       "    </tr>\n",
       "    <tr>\n",
       "      <th>52695</th>\n",
       "      <td>Bradenton</td>\n",
       "      <td>1964-12-22</td>\n",
       "      <td>6581.551459</td>\n",
       "      <td>0.0</td>\n",
       "      <td>60.08</td>\n",
       "      <td>60.08</td>\n",
       "    </tr>\n",
       "    <tr>\n",
       "      <th>45689</th>\n",
       "      <td>Holcombe</td>\n",
       "      <td>2006-12-15</td>\n",
       "      <td>8048.504030</td>\n",
       "      <td>86.0</td>\n",
       "      <td>28.04</td>\n",
       "      <td>57.96</td>\n",
       "    </tr>\n",
       "    <tr>\n",
       "      <th>59258</th>\n",
       "      <td>Big Bear Lake</td>\n",
       "      <td>1965-01-02</td>\n",
       "      <td>4733.490448</td>\n",
       "      <td>50.0</td>\n",
       "      <td>-7.96</td>\n",
       "      <td>57.96</td>\n",
       "    </tr>\n",
       "    <tr>\n",
       "      <th>29524</th>\n",
       "      <td>North Pinellas</td>\n",
       "      <td>2005-12-18</td>\n",
       "      <td>9569.420529</td>\n",
       "      <td>0.0</td>\n",
       "      <td>55.04</td>\n",
       "      <td>55.04</td>\n",
       "    </tr>\n",
       "    <tr>\n",
       "      <th>76960</th>\n",
       "      <td>Binghamton</td>\n",
       "      <td>1970-01-01</td>\n",
       "      <td>5344.428941</td>\n",
       "      <td>-50.0</td>\n",
       "      <td>5.00</td>\n",
       "      <td>55.00</td>\n",
       "    </tr>\n",
       "    <tr>\n",
       "      <th>44347</th>\n",
       "      <td>Texarkana</td>\n",
       "      <td>1998-01-03</td>\n",
       "      <td>5437.838881</td>\n",
       "      <td>0.0</td>\n",
       "      <td>50.00</td>\n",
       "      <td>50.00</td>\n",
       "    </tr>\n",
       "    <tr>\n",
       "      <th>62959</th>\n",
       "      <td>Chattanooga</td>\n",
       "      <td>1966-01-02</td>\n",
       "      <td>7463.089148</td>\n",
       "      <td>5.0</td>\n",
       "      <td>53.96</td>\n",
       "      <td>48.96</td>\n",
       "    </tr>\n",
       "    <tr>\n",
       "      <th>87206</th>\n",
       "      <td>Tok</td>\n",
       "      <td>2001-12-19</td>\n",
       "      <td>852.431750</td>\n",
       "      <td>-31.0</td>\n",
       "      <td>15.98</td>\n",
       "      <td>46.98</td>\n",
       "    </tr>\n",
       "    <tr>\n",
       "      <th>65360</th>\n",
       "      <td>Big Rock</td>\n",
       "      <td>2016-12-18</td>\n",
       "      <td>4621.111552</td>\n",
       "      <td>30.0</td>\n",
       "      <td>-16.78</td>\n",
       "      <td>46.78</td>\n",
       "    </tr>\n",
       "    <tr>\n",
       "      <th>28526</th>\n",
       "      <td>Texarkana</td>\n",
       "      <td>1994-12-21</td>\n",
       "      <td>5437.838881</td>\n",
       "      <td>0.0</td>\n",
       "      <td>44.06</td>\n",
       "      <td>44.06</td>\n",
       "    </tr>\n",
       "    <tr>\n",
       "      <th>29975</th>\n",
       "      <td>East Pasco</td>\n",
       "      <td>2009-12-28</td>\n",
       "      <td>3774.373184</td>\n",
       "      <td>0.0</td>\n",
       "      <td>44.06</td>\n",
       "      <td>44.06</td>\n",
       "    </tr>\n",
       "    <tr>\n",
       "      <th>74781</th>\n",
       "      <td>Island Pond</td>\n",
       "      <td>1990-12-30</td>\n",
       "      <td>3115.217922</td>\n",
       "      <td>40.0</td>\n",
       "      <td>-2.92</td>\n",
       "      <td>42.92</td>\n",
       "    </tr>\n",
       "    <tr>\n",
       "      <th>84999</th>\n",
       "      <td>Beetown</td>\n",
       "      <td>1985-12-21</td>\n",
       "      <td>9156.369383</td>\n",
       "      <td>29.0</td>\n",
       "      <td>-13.00</td>\n",
       "      <td>42.00</td>\n",
       "    </tr>\n",
       "    <tr>\n",
       "      <th>65496</th>\n",
       "      <td>Medora</td>\n",
       "      <td>2016-12-18</td>\n",
       "      <td>48.473517</td>\n",
       "      <td>16.0</td>\n",
       "      <td>-25.96</td>\n",
       "      <td>41.96</td>\n",
       "    </tr>\n",
       "    <tr>\n",
       "      <th>23394</th>\n",
       "      <td>Sequoia</td>\n",
       "      <td>2016-12-17</td>\n",
       "      <td>5721.631014</td>\n",
       "      <td>52.0</td>\n",
       "      <td>10.04</td>\n",
       "      <td>41.96</td>\n",
       "    </tr>\n",
       "    <tr>\n",
       "      <th>64566</th>\n",
       "      <td>Massena-Cornwall</td>\n",
       "      <td>2004-12-28</td>\n",
       "      <td>4952.555423</td>\n",
       "      <td>48.0</td>\n",
       "      <td>6.98</td>\n",
       "      <td>41.02</td>\n",
       "    </tr>\n",
       "    <tr>\n",
       "      <th>47079</th>\n",
       "      <td>Galveston</td>\n",
       "      <td>2010-12-14</td>\n",
       "      <td>4915.482149</td>\n",
       "      <td>0.0</td>\n",
       "      <td>41.00</td>\n",
       "      <td>41.00</td>\n",
       "    </tr>\n",
       "    <tr>\n",
       "      <th>28163</th>\n",
       "      <td>Orono-Old Town</td>\n",
       "      <td>1991-12-25</td>\n",
       "      <td>1003.892742</td>\n",
       "      <td>35.0</td>\n",
       "      <td>-5.98</td>\n",
       "      <td>40.98</td>\n",
       "    </tr>\n",
       "    <tr>\n",
       "      <th>49294</th>\n",
       "      <td>Columbia</td>\n",
       "      <td>2013-12-14</td>\n",
       "      <td>5926.921682</td>\n",
       "      <td>62.0</td>\n",
       "      <td>21.02</td>\n",
       "      <td>40.98</td>\n",
       "    </tr>\n",
       "  </tbody>\n",
       "</table>\n",
       "</div>"
      ],
      "text/plain": [
       "            circle_name  count_date     distance  min_temp  noaa_tmin_value  \\\n",
       "35553     St. Augustine  1991-12-14  5928.604728       0.0            62.06   \n",
       "52695         Bradenton  1964-12-22  6581.551459       0.0            60.08   \n",
       "45689          Holcombe  2006-12-15  8048.504030      86.0            28.04   \n",
       "59258     Big Bear Lake  1965-01-02  4733.490448      50.0            -7.96   \n",
       "29524    North Pinellas  2005-12-18  9569.420529       0.0            55.04   \n",
       "76960        Binghamton  1970-01-01  5344.428941     -50.0             5.00   \n",
       "44347         Texarkana  1998-01-03  5437.838881       0.0            50.00   \n",
       "62959       Chattanooga  1966-01-02  7463.089148       5.0            53.96   \n",
       "87206               Tok  2001-12-19   852.431750     -31.0            15.98   \n",
       "65360          Big Rock  2016-12-18  4621.111552      30.0           -16.78   \n",
       "28526         Texarkana  1994-12-21  5437.838881       0.0            44.06   \n",
       "29975        East Pasco  2009-12-28  3774.373184       0.0            44.06   \n",
       "74781       Island Pond  1990-12-30  3115.217922      40.0            -2.92   \n",
       "84999           Beetown  1985-12-21  9156.369383      29.0           -13.00   \n",
       "65496            Medora  2016-12-18    48.473517      16.0           -25.96   \n",
       "23394           Sequoia  2016-12-17  5721.631014      52.0            10.04   \n",
       "64566  Massena-Cornwall  2004-12-28  4952.555423      48.0             6.98   \n",
       "47079         Galveston  2010-12-14  4915.482149       0.0            41.00   \n",
       "28163    Orono-Old Town  1991-12-25  1003.892742      35.0            -5.98   \n",
       "49294          Columbia  2013-12-14  5926.921682      62.0            21.02   \n",
       "\n",
       "       tmin_diff_abs  \n",
       "35553          62.06  \n",
       "52695          60.08  \n",
       "45689          57.96  \n",
       "59258          57.96  \n",
       "29524          55.04  \n",
       "76960          55.00  \n",
       "44347          50.00  \n",
       "62959          48.96  \n",
       "87206          46.98  \n",
       "65360          46.78  \n",
       "28526          44.06  \n",
       "29975          44.06  \n",
       "74781          42.92  \n",
       "84999          42.00  \n",
       "65496          41.96  \n",
       "23394          41.96  \n",
       "64566          41.02  \n",
       "47079          41.00  \n",
       "28163          40.98  \n",
       "49294          40.98  "
      ]
     },
     "execution_count": 20,
     "metadata": {},
     "output_type": "execute_result"
    }
   ],
   "source": [
    "df_paired_10k.loc[(df_paired_10k.loc[:, 'tmin_diff_abs'].nlargest(20)).index,\n",
    "              ['circle_name', 'count_date', 'distance', 'min_temp', 'noaa_tmin_value', 'tmin_diff_abs']]"
   ]
  },
  {
   "cell_type": "markdown",
   "metadata": {},
   "source": [
    "Calculate z-scores:"
   ]
  },
  {
   "cell_type": "code",
   "execution_count": 21,
   "metadata": {},
   "outputs": [],
   "source": [
    "#df_paired.loc[:, 'cbc_tmin_z'] = stats.zscore(df_paired.loc[:, 'min_temp'], nan_policy='omit')\n",
    "#df_paired.loc[:, 'cbc_tmax_z'] = stats.zscore(df_paired.loc[:, 'max_temp'])\n",
    "#df_paired.loc[:, 'noaa_tmin_z'] = stats.zscore(df_paired.loc[:, 'noaa_tmin_value'])\n",
    "#df_paired.loc[:, 'noaa_tmax_z'] = stats.zscore(df_paired.loc[:, 'noaa_tmax_value'])\n",
    "df_paired_10k.loc[:, 'tmin_diff_z'] = stats.zscore(df_paired_10k.loc[:, 'tmin_diff_abs'], nan_policy='omit')\n",
    "df_paired_10k.loc[:, 'tmax_diff_z'] = stats.zscore(df_paired_10k.loc[:, 'tmax_diff_abs'], nan_policy='omit')"
   ]
  },
  {
   "cell_type": "code",
   "execution_count": 22,
   "metadata": {},
   "outputs": [
    {
     "data": {
      "text/plain": [
       "8328     0.531923\n",
       "9052     1.271614\n",
       "10808    3.117142\n",
       "11308   -0.585010\n",
       "12288   -0.769933\n",
       "18088   -0.030242\n",
       "20141    0.724242\n",
       "22431    0.180570\n",
       "22533    1.645157\n",
       "22538    0.369191\n",
       "Name: tmin_diff_z, dtype: float64"
      ]
     },
     "execution_count": 22,
     "metadata": {},
     "output_type": "execute_result"
    }
   ],
   "source": [
    "df_paired_10k.loc[:, 'tmin_diff_z'].head(10)"
   ]
  },
  {
   "cell_type": "code",
   "execution_count": 23,
   "metadata": {},
   "outputs": [
    {
     "data": {
      "text/plain": [
       "<matplotlib.axes._subplots.AxesSubplot at 0x13697350>"
      ]
     },
     "execution_count": 23,
     "metadata": {},
     "output_type": "execute_result"
    },
    {
     "data": {
      "image/png": "[encoded data removed]",
      "text/plain": [
       "<Figure size 432x288 with 1 Axes>"
      ]
     },
     "metadata": {
      "needs_background": "light"
     },
     "output_type": "display_data"
    }
   ],
   "source": [
    "df_paired_10k.loc[:, 'tmin_diff_z'].plot.hist(bins=100)"
   ]
  },
  {
   "cell_type": "markdown",
   "metadata": {},
   "source": [
    "Eliminate outliers (z > 2.96):"
   ]
  },
  {
   "cell_type": "code",
   "execution_count": 24,
   "metadata": {},
   "outputs": [
    {
     "name": "stdout",
     "output_type": "stream",
     "text": [
      "Rows in 10km temp-screened dataset: 27320\n",
      "Rows in no outlier dataset: 26404\n"
     ]
    }
   ],
   "source": [
    "df_paired_noout = df_paired_10k.loc[((df_paired_10k.loc[:, 'tmin_diff_z'].abs() < 2.96) &\n",
    "                                     (df_paired_10k.loc[:, 'tmax_diff_z'].abs() < 2.96))]\n",
    "\n",
    "print('Rows in 10km temp-screened dataset:', df_paired_10k.index.size)\n",
    "print('Rows in no outlier dataset:', df_paired_noout.index.size)"
   ]
  },
  {
   "cell_type": "markdown",
   "metadata": {},
   "source": [
    "Show box & whisker plots again:"
   ]
  },
  {
   "cell_type": "code",
   "execution_count": 25,
   "metadata": {},
   "outputs": [
    {
     "data": {
      "text/plain": [
       "<matplotlib.axes._subplots.AxesSubplot at 0x138f16f0>"
      ]
     },
     "execution_count": 25,
     "metadata": {},
     "output_type": "execute_result"
    },
    {
     "data": {
      "image/png": "[encoded data removed]",
      "text/plain": [
       "<Figure size 432x288 with 1 Axes>"
      ]
     },
     "metadata": {
      "needs_background": "light"
     },
     "output_type": "display_data"
    }
   ],
   "source": [
    "df_paired_noout.boxplot(column=['tmin_diff_abs', 'tmax_diff_abs'])"
   ]
  },
  {
   "cell_type": "code",
   "execution_count": null,
   "metadata": {},
   "outputs": [],
   "source": []
  },
  {
   "cell_type": "markdown",
   "metadata": {},
   "source": [
    "### Counting:<br>\n",
    "\n",
    "Unique station count:"
   ]
  },
  {
   "cell_type": "code",
   "execution_count": 26,
   "metadata": {},
   "outputs": [
    {
     "data": {
      "text/plain": [
       "7089"
      ]
     },
     "execution_count": 26,
     "metadata": {},
     "output_type": "execute_result"
    }
   ],
   "source": [
    "df_paired.loc[:, 'closest_station_id'].value_counts()\n",
    "station_list = df_paired.loc[:, 'closest_station_id'].unique()\n",
    "len(station_list)"
   ]
  },
  {
   "cell_type": "markdown",
   "metadata": {},
   "source": [
    "Total rows:"
   ]
  },
  {
   "cell_type": "code",
   "execution_count": 27,
   "metadata": {},
   "outputs": [
    {
     "data": {
      "text/plain": [
       "89568"
      ]
     },
     "execution_count": 27,
     "metadata": {},
     "output_type": "execute_result"
    }
   ],
   "source": [
    "df_paired.index.size"
   ]
  },
  {
   "cell_type": "markdown",
   "metadata": {},
   "source": [
    "Rows with closest stations under 10 km:"
   ]
  },
  {
   "cell_type": "code",
   "execution_count": 28,
   "metadata": {},
   "outputs": [
    {
     "data": {
      "text/plain": [
       "27320"
      ]
     },
     "execution_count": 28,
     "metadata": {},
     "output_type": "execute_result"
    }
   ],
   "source": [
    "df_paired_10k.index.size"
   ]
  },
  {
   "cell_type": "markdown",
   "metadata": {},
   "source": [
    "Histogram of station distances:"
   ]
  },
  {
   "cell_type": "code",
   "execution_count": 29,
   "metadata": {},
   "outputs": [
    {
     "data": {
      "text/plain": [
       "<matplotlib.axes._subplots.AxesSubplot at 0xdfbe670>"
      ]
     },
     "execution_count": 29,
     "metadata": {},
     "output_type": "execute_result"
    },
    {
     "data": {
      "image/png": "[encoded data removed]",
      "text/plain": [
       "<Figure size 432x288 with 1 Axes>"
      ]
     },
     "metadata": {
      "needs_background": "light"
     },
     "output_type": "display_data"
    }
   ],
   "source": [
    "df_paired_10k.loc[:, 'distance'].plot.hist(bins=100)"
   ]
  },
  {
   "cell_type": "markdown",
   "metadata": {},
   "source": [
    "Scatter plot of station distance with mean temperature difference:"
   ]
  },
  {
   "cell_type": "code",
   "execution_count": 30,
   "metadata": {},
   "outputs": [
    {
     "data": {
      "text/plain": [
       "<matplotlib.axes._subplots.AxesSubplot at 0x13c41d50>"
      ]
     },
     "execution_count": 30,
     "metadata": {},
     "output_type": "execute_result"
    },
    {
     "data": {
      "image/png": "[encoded data removed]",
      "text/plain": [
       "<Figure size 432x288 with 1 Axes>"
      ]
     },
     "metadata": {
      "needs_background": "light"
     },
     "output_type": "display_data"
    }
   ],
   "source": [
    "df_paired_noout.plot.scatter(x='distance',\n",
    "                             y='tmin_diff_abs',\n",
    "                             s=1)"
   ]
  },
  {
   "cell_type": "code",
   "execution_count": 31,
   "metadata": {},
   "outputs": [
    {
     "data": {
      "text/plain": [
       "<matplotlib.axes._subplots.AxesSubplot at 0x13d47f70>"
      ]
     },
     "execution_count": 31,
     "metadata": {},
     "output_type": "execute_result"
    },
    {
     "data": {
      "image/png": "[encoded data removed]",
      "text/plain": [
       "<Figure size 432x288 with 1 Axes>"
      ]
     },
     "metadata": {
      "needs_background": "light"
     },
     "output_type": "display_data"
    }
   ],
   "source": [
    "df_paired_noout.plot.scatter(x='distance',\n",
    "                             y='tmax_diff_abs',\n",
    "                             s=1)"
   ]
  },
  {
   "cell_type": "code",
   "execution_count": null,
   "metadata": {},
   "outputs": [],
   "source": []
  }
 ],
 "metadata": {
  "kernelspec": {
   "display_name": "Python 3",
   "language": "python",
   "name": "python3"
  },
  "language_info": {
   "codemirror_mode": {
    "name": "ipython",
    "version": 3
   },
   "file_extension": ".py",
   "mimetype": "text/x-python",
   "name": "python",
   "nbconvert_exporter": "python",
   "pygments_lexer": "ipython3",
   "version": "3.7.4"
  }
 },
 "nbformat": 4,
 "nbformat_minor": 4
}
