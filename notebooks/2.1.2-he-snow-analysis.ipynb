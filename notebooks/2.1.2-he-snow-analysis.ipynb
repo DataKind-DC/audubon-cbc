{
 "cells": [
  {
   "cell_type": "markdown",
   "metadata": {},
   "source": [
    "# Snow Analysis\n",
    "### Purpose\n",
    "This notebook will look at volunteer trends for reporting snow, adressing the Github issue #54  \n",
    "(this notebook is a copy of the rain analysis notebook, but with `%s/rain/snow/g`)\n",
    "\n",
    "### Author: \n",
    "Hamza El-Saawy\n",
    "### Date: \n",
    "2020-08-10\n",
    "### Update Date: \n",
    "2020-08-10\n",
    "\n",
    "### Inputs \n",
    " - `1.3-rec-connecting-fips-ecosystem-data.txt`\n",
    "\n",
    "### Output Files\n",
    "None\n",
    "\n",
    "## Steps or Proceedures in the notebook \n",
    " - Clean the CBC ecological data \n",
    " - Compare to NOAA data\n",
    " - Make some plots\n",
    "\n",
    "## Where the Data will Be Saved \n",
    "n/a\n",
    "\n",
    "## Notes\n",
    "In addition to considerations from the rain analysis notebook, this notebook looks only at snowfall (`am/pm_snow` for volunteers and `snow` for GHCN) and not snowdepth (`min/max_snow` for volunteers and `snwd` for GHCN) as the latter will likely be highly location, ecosystem, and elevation dependant.  \n",
    "Additionally, it is unclear if volunteers are being asked to measure the snowdepth during the shift or the amount of snow that was on the ground when they arrived/left."
   ]
  },
  {
   "cell_type": "code",
   "execution_count": 13,
   "metadata": {},
   "outputs": [],
   "source": [
    "import os\n",
    "import numpy as np\n",
    "import pandas as pd\n",
    "import matplotlib.pyplot as plt\n",
    "import seaborn as sns"
   ]
  },
  {
   "cell_type": "code",
   "execution_count": 14,
   "metadata": {},
   "outputs": [],
   "source": [
    "import scipy.stats as stats"
   ]
  },
  {
   "cell_type": "code",
   "execution_count": 15,
   "metadata": {},
   "outputs": [],
   "source": [
    "import sklearn.metrics as metrics"
   ]
  },
  {
   "cell_type": "code",
   "execution_count": 16,
   "metadata": {},
   "outputs": [],
   "source": [
    "sns.set(style=\"darkgrid\")"
   ]
  },
  {
   "cell_type": "code",
   "execution_count": 17,
   "metadata": {},
   "outputs": [],
   "source": [
    "# get the haversine distance formula fromt the script (w/o executing the '__main__' part)\n",
    "%run -ni '../scripts/noaa.py'"
   ]
  },
  {
   "cell_type": "code",
   "execution_count": 18,
   "metadata": {},
   "outputs": [],
   "source": [
    "#\n",
    "# \n",
    "#\n",
    "\n",
    "# drop all stations farther than this threshold (meters)\n",
    "#  16km ~= 10 mi\n",
    "DISTANCE_THRESHOLD = 15000\n",
    "\n",
    "# drop all stations farther than this threshold (meters) in elevation\n",
    "#  the farthest is 3.5km, with the mean being 70m and median being 23m\n",
    "ELEVATION_THRESHOLD = 50\n",
    "\n",
    "# consider stations to consense on a snow value if a fraction of them or more all have the same reading\n",
    "# at the most abiguous, the fraction will be 0.5, so values are symmetric around 1/2: 0.25 in agreement is the same as 0.75 agreeing on the opposite\n",
    "AGREEMENT_THRESHOLD = 0.75\n",
    "AGREEMENT_THRESHOLD = max(AGREEMENT_THRESHOLD, 1 - AGREEMENT_THRESHOLD)"
   ]
  },
  {
   "cell_type": "code",
   "execution_count": 19,
   "metadata": {},
   "outputs": [],
   "source": [
    "DATA_PATH = '../data/Cloud_Data'\n",
    "ECO_DATA_PATH =  os.path.join(DATA_PATH, '1.3-rec-connecting-fips-ecosystem-data.txt')"
   ]
  },
  {
   "cell_type": "code",
   "execution_count": 20,
   "metadata": {},
   "outputs": [],
   "source": [
    "eco_data = pd.read_csv(ECO_DATA_PATH, encoding = \"ISO-8859-1\", sep=\"\\t\", compression = \"gzip\")\n",
    "eco_data = eco_data.rename(columns={'circle_name': 'c_name', \n",
    "                                    'circle_id': 'c_id',\n",
    "                                    'lat': 'c_lat', \n",
    "                                    'lon': 'c_lon', \n",
    "                                    'circle_elev': 'c_elev',\n",
    "                                    'Ecosys_circle': 'c_ecosys', \n",
    "                                    'Nlcd_code_circle': 'c_nlcdcode',\n",
    "                                    'id': 's_id', \n",
    "                                    'latitude': 's_lat', \n",
    "                                    'longitude': 's_lon', \n",
    "                                    'elevation': 's_elev',\n",
    "                                    'Ecosys_station': 's_ecosys', \n",
    "                                    'Nlcd_code_station': 's_nlcdcode',})"
   ]
  },
  {
   "cell_type": "code",
   "execution_count": 21,
   "metadata": {},
   "outputs": [],
   "source": [
    "# Drop all the other data that wont be needed\n",
    "prcp_data = eco_data.loc[:, ['count_date', 'c_name', 'ui','country_state', 'c_id', 'c_lat', 'c_lon',\n",
    "                              'am_snow', 'pm_snow', 'c_elev', 'c_ecosys', 'c_nlcdcode',\n",
    "                              's_id', 's_lat', 's_lon', 's_elev', 's_ecosys', 's_nlcdcode','snow',\n",
    "                             ]]"
   ]
  },
  {
   "cell_type": "code",
   "execution_count": 22,
   "metadata": {},
   "outputs": [
    {
     "data": {
      "text/plain": [
       "(756378, 78)"
      ]
     },
     "execution_count": 22,
     "metadata": {},
     "output_type": "execute_result"
    }
   ],
   "source": [
    "# Observe the Size of the data frame\n",
    "eco_data.shape"
   ]
  },
  {
   "cell_type": "code",
   "execution_count": 23,
   "metadata": {},
   "outputs": [
    {
     "data": {
      "text/plain": [
       "80765"
      ]
     },
     "execution_count": 23,
     "metadata": {},
     "output_type": "execute_result"
    }
   ],
   "source": [
    "# Observe the number of unique circles in the dataframe \n",
    "eco_data['ui'].nunique()"
   ]
  },
  {
   "cell_type": "code",
   "execution_count": 24,
   "metadata": {},
   "outputs": [
    {
     "data": {
      "text/html": [
       "<div>\n",
       "<style scoped>\n",
       "    .dataframe tbody tr th:only-of-type {\n",
       "        vertical-align: middle;\n",
       "    }\n",
       "\n",
       "    .dataframe tbody tr th {\n",
       "        vertical-align: top;\n",
       "    }\n",
       "\n",
       "    .dataframe thead th {\n",
       "        text-align: right;\n",
       "    }\n",
       "</style>\n",
       "<table border=\"1\" class=\"dataframe\">\n",
       "  <thead>\n",
       "    <tr style=\"text-align: right;\">\n",
       "      <th></th>\n",
       "      <th>c_name</th>\n",
       "      <th>country_state</th>\n",
       "      <th>c_lat</th>\n",
       "      <th>c_lon</th>\n",
       "      <th>count_year</th>\n",
       "      <th>count_date</th>\n",
       "      <th>n_field_counters</th>\n",
       "      <th>n_feeder_counters</th>\n",
       "      <th>min_field_parties</th>\n",
       "      <th>max_field_parties</th>\n",
       "      <th>...</th>\n",
       "      <th>block_fips</th>\n",
       "      <th>county_fips</th>\n",
       "      <th>c_ecosys</th>\n",
       "      <th>Usgsid_sys_circle</th>\n",
       "      <th>c_nlcdcode</th>\n",
       "      <th>Nlcd_circle</th>\n",
       "      <th>s_ecosys</th>\n",
       "      <th>Usgsid_sys_station</th>\n",
       "      <th>s_nlcdcode</th>\n",
       "      <th>Nlcd_station</th>\n",
       "    </tr>\n",
       "  </thead>\n",
       "  <tbody>\n",
       "    <tr>\n",
       "      <th>0</th>\n",
       "      <td>Hawai'i: Volcano N.P.</td>\n",
       "      <td>US-HI</td>\n",
       "      <td>19.4333</td>\n",
       "      <td>-155.2833</td>\n",
       "      <td>1955</td>\n",
       "      <td>1955-01-01</td>\n",
       "      <td>11.0</td>\n",
       "      <td>NaN</td>\n",
       "      <td>NaN</td>\n",
       "      <td>NaN</td>\n",
       "      <td>...</td>\n",
       "      <td>NaN</td>\n",
       "      <td>NaN</td>\n",
       "      <td>NaN</td>\n",
       "      <td>NaN</td>\n",
       "      <td>NaN</td>\n",
       "      <td>NaN</td>\n",
       "      <td>NaN</td>\n",
       "      <td>NaN</td>\n",
       "      <td>NaN</td>\n",
       "      <td>NaN</td>\n",
       "    </tr>\n",
       "    <tr>\n",
       "      <th>1</th>\n",
       "      <td>Hawai'i: Volcano N.P.</td>\n",
       "      <td>US-HI</td>\n",
       "      <td>19.4333</td>\n",
       "      <td>-155.2833</td>\n",
       "      <td>1956</td>\n",
       "      <td>1955-12-31</td>\n",
       "      <td>11.0</td>\n",
       "      <td>NaN</td>\n",
       "      <td>NaN</td>\n",
       "      <td>NaN</td>\n",
       "      <td>...</td>\n",
       "      <td>NaN</td>\n",
       "      <td>NaN</td>\n",
       "      <td>NaN</td>\n",
       "      <td>NaN</td>\n",
       "      <td>NaN</td>\n",
       "      <td>NaN</td>\n",
       "      <td>NaN</td>\n",
       "      <td>NaN</td>\n",
       "      <td>NaN</td>\n",
       "      <td>NaN</td>\n",
       "    </tr>\n",
       "    <tr>\n",
       "      <th>2</th>\n",
       "      <td>Hawai'i: Volcano N.P.</td>\n",
       "      <td>US-HI</td>\n",
       "      <td>19.4333</td>\n",
       "      <td>-155.2833</td>\n",
       "      <td>1968</td>\n",
       "      <td>1967-12-30</td>\n",
       "      <td>2.0</td>\n",
       "      <td>NaN</td>\n",
       "      <td>NaN</td>\n",
       "      <td>NaN</td>\n",
       "      <td>...</td>\n",
       "      <td>NaN</td>\n",
       "      <td>NaN</td>\n",
       "      <td>NaN</td>\n",
       "      <td>NaN</td>\n",
       "      <td>NaN</td>\n",
       "      <td>NaN</td>\n",
       "      <td>NaN</td>\n",
       "      <td>NaN</td>\n",
       "      <td>NaN</td>\n",
       "      <td>NaN</td>\n",
       "    </tr>\n",
       "    <tr>\n",
       "      <th>3</th>\n",
       "      <td>Hawai'i: Volcano N.P.</td>\n",
       "      <td>US-HI</td>\n",
       "      <td>19.4333</td>\n",
       "      <td>-155.2833</td>\n",
       "      <td>1968</td>\n",
       "      <td>1967-12-30</td>\n",
       "      <td>2.0</td>\n",
       "      <td>NaN</td>\n",
       "      <td>NaN</td>\n",
       "      <td>NaN</td>\n",
       "      <td>...</td>\n",
       "      <td>NaN</td>\n",
       "      <td>NaN</td>\n",
       "      <td>NaN</td>\n",
       "      <td>NaN</td>\n",
       "      <td>NaN</td>\n",
       "      <td>NaN</td>\n",
       "      <td>NaN</td>\n",
       "      <td>NaN</td>\n",
       "      <td>NaN</td>\n",
       "      <td>NaN</td>\n",
       "    </tr>\n",
       "    <tr>\n",
       "      <th>4</th>\n",
       "      <td>Hawai'i: Volcano N.P.</td>\n",
       "      <td>US-HI</td>\n",
       "      <td>19.4333</td>\n",
       "      <td>-155.2833</td>\n",
       "      <td>1968</td>\n",
       "      <td>1967-12-30</td>\n",
       "      <td>2.0</td>\n",
       "      <td>NaN</td>\n",
       "      <td>NaN</td>\n",
       "      <td>NaN</td>\n",
       "      <td>...</td>\n",
       "      <td>NaN</td>\n",
       "      <td>NaN</td>\n",
       "      <td>NaN</td>\n",
       "      <td>NaN</td>\n",
       "      <td>NaN</td>\n",
       "      <td>NaN</td>\n",
       "      <td>NaN</td>\n",
       "      <td>NaN</td>\n",
       "      <td>NaN</td>\n",
       "      <td>NaN</td>\n",
       "    </tr>\n",
       "  </tbody>\n",
       "</table>\n",
       "<p>5 rows × 78 columns</p>\n",
       "</div>"
      ],
      "text/plain": [
       "                  c_name country_state    c_lat     c_lon  count_year  \\\n",
       "0  Hawai'i: Volcano N.P.         US-HI  19.4333 -155.2833        1955   \n",
       "1  Hawai'i: Volcano N.P.         US-HI  19.4333 -155.2833        1956   \n",
       "2  Hawai'i: Volcano N.P.         US-HI  19.4333 -155.2833        1968   \n",
       "3  Hawai'i: Volcano N.P.         US-HI  19.4333 -155.2833        1968   \n",
       "4  Hawai'i: Volcano N.P.         US-HI  19.4333 -155.2833        1968   \n",
       "\n",
       "   count_date  n_field_counters  n_feeder_counters  min_field_parties  \\\n",
       "0  1955-01-01              11.0                NaN                NaN   \n",
       "1  1955-12-31              11.0                NaN                NaN   \n",
       "2  1967-12-30               2.0                NaN                NaN   \n",
       "3  1967-12-30               2.0                NaN                NaN   \n",
       "4  1967-12-30               2.0                NaN                NaN   \n",
       "\n",
       "   max_field_parties  ...  block_fips  county_fips  c_ecosys  \\\n",
       "0                NaN  ...         NaN          NaN       NaN   \n",
       "1                NaN  ...         NaN          NaN       NaN   \n",
       "2                NaN  ...         NaN          NaN       NaN   \n",
       "3                NaN  ...         NaN          NaN       NaN   \n",
       "4                NaN  ...         NaN          NaN       NaN   \n",
       "\n",
       "   Usgsid_sys_circle  c_nlcdcode Nlcd_circle  s_ecosys  Usgsid_sys_station  \\\n",
       "0                NaN         NaN         NaN       NaN                 NaN   \n",
       "1                NaN         NaN         NaN       NaN                 NaN   \n",
       "2                NaN         NaN         NaN       NaN                 NaN   \n",
       "3                NaN         NaN         NaN       NaN                 NaN   \n",
       "4                NaN         NaN         NaN       NaN                 NaN   \n",
       "\n",
       "   s_nlcdcode  Nlcd_station  \n",
       "0         NaN           NaN  \n",
       "1         NaN           NaN  \n",
       "2         NaN           NaN  \n",
       "3         NaN           NaN  \n",
       "4         NaN           NaN  \n",
       "\n",
       "[5 rows x 78 columns]"
      ]
     },
     "execution_count": 24,
     "metadata": {},
     "output_type": "execute_result"
    }
   ],
   "source": [
    "eco_data.head()"
   ]
  },
  {
   "cell_type": "markdown",
   "metadata": {},
   "source": [
    "## Data Prep"
   ]
  },
  {
   "cell_type": "markdown",
   "metadata": {},
   "source": [
    "#### Stations Reporting Snow"
   ]
  },
  {
   "cell_type": "code",
   "execution_count": 25,
   "metadata": {},
   "outputs": [],
   "source": [
    "# Create the field s_snow which is True if the row has a value of snow \n",
    "# greater than 0 (an indicator that it snowed) and is NA otherwise\n",
    "\n",
    "# pd.NA preserved int-ness of bools, so they are not converted to floats, and supports three-valued (kleene) logic\n",
    "prcp_data['s_snow'] = np.where(prcp_data.snow.isna(), pd.NA, prcp_data.snow > 0)"
   ]
  },
  {
   "cell_type": "markdown",
   "metadata": {},
   "source": [
    "#### Volunteer records on snow data\n",
    "\n",
    "`[am|pm]_snow` are strings containing `1`:`4`, for heavy, light, none, or unknow snow.  \n",
    "If the string contains `4`, then -- regardless of observations in that string (e.g. `2,4`) -- it will be marked as `NaN`  \n",
    "If the string contains either `1` or `2` in the am or pm, then there was precipitation that day.   \n",
    "If both am and pm are `3`, then there was no precipitation that day.  \n",
    "Else, we mark `nan`"
   ]
  },
  {
   "cell_type": "code",
   "execution_count": 26,
   "metadata": {},
   "outputs": [],
   "source": [
    "for c in ['am_snow', 'pm_snow']:\n",
    "    prcp_data.loc[prcp_data[c].isna(), c] = pd.NA\n",
    "    prcp_data.loc[prcp_data[c].str.contains('4', na=False), c] = pd.NA"
   ]
  },
  {
   "cell_type": "code",
   "execution_count": 27,
   "metadata": {},
   "outputs": [],
   "source": [
    "# Use Regex to find the rows that contain a \"1\" and/or \"2\". \n",
    "# If those values are recorded set the value of c_snow to True\n",
    "# If a \"3\" is recorded set c_snow to False\n",
    "\n",
    "prcp_data['c_snow'] = pd.NA\n",
    "\n",
    "prcp_data.loc[(prcp_data.am_snow.str.contains('[12]', na=False) | prcp_data.pm_snow.str.contains('[12]', na=False)), 'c_snow'] = True\n",
    "prcp_data.loc[((prcp_data.am_snow == '3') & (prcp_data.pm_snow == '3')), 'c_snow'] = False"
   ]
  },
  {
   "cell_type": "markdown",
   "metadata": {},
   "source": [
    "## Comparing stations and circles\n",
    "1. Calulate the distance between the station and the circle. Field is 'distance' \n",
    "2. Calulate the absolute change in elivation between the station and the circle. Field is 'd_elev'\n",
    "3. Calulate if station and circle share ecosystem. Fields 'same_ecosys' and 'same_nlcd'"
   ]
  },
  {
   "cell_type": "code",
   "execution_count": 28,
   "metadata": {},
   "outputs": [],
   "source": [
    "prcp_data['distance'] = prcp_data.apply(lambda tt: haversine_formula((tt.c_lat, tt.c_lon), (tt.s_lat, tt.s_lon)), axis=1)"
   ]
  },
  {
   "cell_type": "code",
   "execution_count": 29,
   "metadata": {},
   "outputs": [],
   "source": [
    "prcp_data['d_elev'] = np.abs(prcp_data.s_elev - prcp_data.c_elev)"
   ]
  },
  {
   "cell_type": "code",
   "execution_count": 30,
   "metadata": {},
   "outputs": [],
   "source": [
    "# convert to int array to get nullable boolean arrays\n",
    "#  https://pandas.pydata.org/pandas-docs/stable/user_guide/boolean.html#kleene-logical-operations\n",
    "prcp_data['same_ecosys'] = prcp_data.c_ecosys.astype('Int64') == prcp_data.s_ecosys.astype('Int64')\n",
    "prcp_data['same_nlcd'] = prcp_data.c_nlcdcode.astype('Int64') == prcp_data.s_nlcdcode.astype('Int64')"
   ]
  },
  {
   "cell_type": "markdown",
   "metadata": {},
   "source": [
    "## Apply Data Limits on Elevation and Distance and Prep for Analysis \n",
    "1. Drop rows where the circle and the station are too far away from each other in either distance or elivation\n",
    "2. Remove columns we dont need\n",
    "3. Sort the dataset by circle then station"
   ]
  },
  {
   "cell_type": "code",
   "execution_count": 31,
   "metadata": {},
   "outputs": [],
   "source": [
    "# drop everything outside of the distance or elevation threshold\n",
    "prcp_data.drop(prcp_data[prcp_data.distance > DISTANCE_THRESHOLD].index, inplace=True)\n",
    "prcp_data.drop(prcp_data[prcp_data.d_elev > ELEVATION_THRESHOLD].index, inplace=True)"
   ]
  },
  {
   "cell_type": "code",
   "execution_count": 32,
   "metadata": {},
   "outputs": [],
   "source": [
    "# once again dump excess data\n",
    "prcp_data.drop(columns=['am_snow', 'pm_snow','c_elev', 'c_ecosys', 'c_nlcdcode', \n",
    "                        's_elev', 's_ecosys', 's_nlcdcode','snow',], inplace=True)"
   ]
  },
  {
   "cell_type": "code",
   "execution_count": 33,
   "metadata": {},
   "outputs": [],
   "source": [
    "# isolate only the circle specific volunteer data\n",
    "circle_obs = prcp_data[['count_date', 'c_name', 'ui','country_state', \n",
    "                        'c_id', 'c_lat', 'c_lon','c_snow' , 'c_snow_min', 'c_snow_max']].groupby(['c_id', 'count_date']).agg('first')"
   ]
  },
  {
   "cell_type": "code",
   "execution_count": 34,
   "metadata": {},
   "outputs": [],
   "source": [
    "# sort by circle then station information\n",
    "prcp_data = prcp_data.set_index(['c_id', 'count_date', 's_id']).sort_index()"
   ]
  },
  {
   "cell_type": "code",
   "execution_count": 35,
   "metadata": {},
   "outputs": [
    {
     "data": {
      "text/html": [
       "<div>\n",
       "<style scoped>\n",
       "    .dataframe tbody tr th:only-of-type {\n",
       "        vertical-align: middle;\n",
       "    }\n",
       "\n",
       "    .dataframe tbody tr th {\n",
       "        vertical-align: top;\n",
       "    }\n",
       "\n",
       "    .dataframe thead th {\n",
       "        text-align: right;\n",
       "    }\n",
       "</style>\n",
       "<table border=\"1\" class=\"dataframe\">\n",
       "  <thead>\n",
       "    <tr style=\"text-align: right;\">\n",
       "      <th></th>\n",
       "      <th></th>\n",
       "      <th></th>\n",
       "      <th>c_name</th>\n",
       "      <th>ui</th>\n",
       "      <th>country_state</th>\n",
       "      <th>c_lat</th>\n",
       "      <th>c_lon</th>\n",
       "      <th>s_lat</th>\n",
       "      <th>s_lon</th>\n",
       "      <th>s_snow</th>\n",
       "      <th>c_snow</th>\n",
       "      <th>distance</th>\n",
       "      <th>d_elev</th>\n",
       "      <th>same_ecosys</th>\n",
       "      <th>same_nlcd</th>\n",
       "    </tr>\n",
       "    <tr>\n",
       "      <th>c_id</th>\n",
       "      <th>count_date</th>\n",
       "      <th>s_id</th>\n",
       "      <th></th>\n",
       "      <th></th>\n",
       "      <th></th>\n",
       "      <th></th>\n",
       "      <th></th>\n",
       "      <th></th>\n",
       "      <th></th>\n",
       "      <th></th>\n",
       "      <th></th>\n",
       "      <th></th>\n",
       "      <th></th>\n",
       "      <th></th>\n",
       "      <th></th>\n",
       "    </tr>\n",
       "  </thead>\n",
       "  <tbody>\n",
       "    <tr>\n",
       "      <th>87ymwsn</th>\n",
       "      <th>1968-12-26</th>\n",
       "      <th>USC00519130</th>\n",
       "      <td>Kaua'i: Waimea</td>\n",
       "      <td>22.0833-159.6667_1969</td>\n",
       "      <td>US-HI</td>\n",
       "      <td>22.0833</td>\n",
       "      <td>-159.6667</td>\n",
       "      <td>22.1167</td>\n",
       "      <td>-159.6167</td>\n",
       "      <td>&lt;NA&gt;</td>\n",
       "      <td>&lt;NA&gt;</td>\n",
       "      <td>6352.278644</td>\n",
       "      <td>36.16</td>\n",
       "      <td>&lt;NA&gt;</td>\n",
       "      <td>&lt;NA&gt;</td>\n",
       "    </tr>\n",
       "    <tr>\n",
       "      <th rowspan=\"49\" valign=\"top\">87ysunb</th>\n",
       "      <th rowspan=\"13\" valign=\"top\">1971-12-27</th>\n",
       "      <th>US1HIKI0004</th>\n",
       "      <td>Kaua'i: Lihu'e</td>\n",
       "      <td>21.9667-159.4333_1972</td>\n",
       "      <td>US-HI</td>\n",
       "      <td>21.9667</td>\n",
       "      <td>-159.4333</td>\n",
       "      <td>21.9249</td>\n",
       "      <td>-159.4983</td>\n",
       "      <td>&lt;NA&gt;</td>\n",
       "      <td>&lt;NA&gt;</td>\n",
       "      <td>8159.889753</td>\n",
       "      <td>43.84</td>\n",
       "      <td>&lt;NA&gt;</td>\n",
       "      <td>&lt;NA&gt;</td>\n",
       "    </tr>\n",
       "    <tr>\n",
       "      <th>US1HIKI0014</th>\n",
       "      <td>Kaua'i: Lihu'e</td>\n",
       "      <td>21.9667-159.4333_1972</td>\n",
       "      <td>US-HI</td>\n",
       "      <td>21.9667</td>\n",
       "      <td>-159.4333</td>\n",
       "      <td>21.9055</td>\n",
       "      <td>-159.5150</td>\n",
       "      <td>&lt;NA&gt;</td>\n",
       "      <td>&lt;NA&gt;</td>\n",
       "      <td>10834.614107</td>\n",
       "      <td>11.26</td>\n",
       "      <td>&lt;NA&gt;</td>\n",
       "      <td>&lt;NA&gt;</td>\n",
       "    </tr>\n",
       "    <tr>\n",
       "      <th>US1HIKI0018</th>\n",
       "      <td>Kaua'i: Lihu'e</td>\n",
       "      <td>21.9667-159.4333_1972</td>\n",
       "      <td>US-HI</td>\n",
       "      <td>21.9667</td>\n",
       "      <td>-159.4333</td>\n",
       "      <td>21.9075</td>\n",
       "      <td>-159.5181</td>\n",
       "      <td>&lt;NA&gt;</td>\n",
       "      <td>&lt;NA&gt;</td>\n",
       "      <td>10950.027151</td>\n",
       "      <td>17.34</td>\n",
       "      <td>&lt;NA&gt;</td>\n",
       "      <td>&lt;NA&gt;</td>\n",
       "    </tr>\n",
       "    <tr>\n",
       "      <th>USC00510006</th>\n",
       "      <td>Kaua'i: Lihu'e</td>\n",
       "      <td>21.9667-159.4333_1972</td>\n",
       "      <td>US-HI</td>\n",
       "      <td>21.9667</td>\n",
       "      <td>-159.4333</td>\n",
       "      <td>21.9500</td>\n",
       "      <td>-159.4333</td>\n",
       "      <td>&lt;NA&gt;</td>\n",
       "      <td>&lt;NA&gt;</td>\n",
       "      <td>1857.479921</td>\n",
       "      <td>35.96</td>\n",
       "      <td>&lt;NA&gt;</td>\n",
       "      <td>&lt;NA&gt;</td>\n",
       "    </tr>\n",
       "    <tr>\n",
       "      <th>USC00510456</th>\n",
       "      <td>Kaua'i: Lihu'e</td>\n",
       "      <td>21.9667-159.4333_1972</td>\n",
       "      <td>US-HI</td>\n",
       "      <td>21.9667</td>\n",
       "      <td>-159.4333</td>\n",
       "      <td>21.9011</td>\n",
       "      <td>-159.4969</td>\n",
       "      <td>False</td>\n",
       "      <td>&lt;NA&gt;</td>\n",
       "      <td>9813.118605</td>\n",
       "      <td>49.06</td>\n",
       "      <td>&lt;NA&gt;</td>\n",
       "      <td>&lt;NA&gt;</td>\n",
       "    </tr>\n",
       "    <tr>\n",
       "      <th>USC00511038</th>\n",
       "      <td>Kaua'i: Lihu'e</td>\n",
       "      <td>21.9667-159.4333_1972</td>\n",
       "      <td>US-HI</td>\n",
       "      <td>21.9667</td>\n",
       "      <td>-159.4333</td>\n",
       "      <td>21.9650</td>\n",
       "      <td>-159.4297</td>\n",
       "      <td>False</td>\n",
       "      <td>&lt;NA&gt;</td>\n",
       "      <td>416.715760</td>\n",
       "      <td>6.44</td>\n",
       "      <td>&lt;NA&gt;</td>\n",
       "      <td>&lt;NA&gt;</td>\n",
       "    </tr>\n",
       "    <tr>\n",
       "      <th>USC00513023</th>\n",
       "      <td>Kaua'i: Lihu'e</td>\n",
       "      <td>21.9667-159.4333_1972</td>\n",
       "      <td>US-HI</td>\n",
       "      <td>21.9667</td>\n",
       "      <td>-159.4333</td>\n",
       "      <td>21.9167</td>\n",
       "      <td>-159.4500</td>\n",
       "      <td>&lt;NA&gt;</td>\n",
       "      <td>&lt;NA&gt;</td>\n",
       "      <td>5822.091067</td>\n",
       "      <td>42.06</td>\n",
       "      <td>&lt;NA&gt;</td>\n",
       "      <td>&lt;NA&gt;</td>\n",
       "    </tr>\n",
       "    <tr>\n",
       "      <th>USC00514746</th>\n",
       "      <td>Kaua'i: Lihu'e</td>\n",
       "      <td>21.9667-159.4333_1972</td>\n",
       "      <td>US-HI</td>\n",
       "      <td>21.9667</td>\n",
       "      <td>-159.4333</td>\n",
       "      <td>21.9500</td>\n",
       "      <td>-159.4667</td>\n",
       "      <td>&lt;NA&gt;</td>\n",
       "      <td>&lt;NA&gt;</td>\n",
       "      <td>3914.260655</td>\n",
       "      <td>39.94</td>\n",
       "      <td>&lt;NA&gt;</td>\n",
       "      <td>&lt;NA&gt;</td>\n",
       "    </tr>\n",
       "    <tr>\n",
       "      <th>USC00515464</th>\n",
       "      <td>Kaua'i: Lihu'e</td>\n",
       "      <td>21.9667-159.4333_1972</td>\n",
       "      <td>US-HI</td>\n",
       "      <td>21.9667</td>\n",
       "      <td>-159.4333</td>\n",
       "      <td>21.9167</td>\n",
       "      <td>-159.5167</td>\n",
       "      <td>&lt;NA&gt;</td>\n",
       "      <td>&lt;NA&gt;</td>\n",
       "      <td>10245.145356</td>\n",
       "      <td>35.55</td>\n",
       "      <td>&lt;NA&gt;</td>\n",
       "      <td>&lt;NA&gt;</td>\n",
       "    </tr>\n",
       "    <tr>\n",
       "      <th>USC00517777</th>\n",
       "      <td>Kaua'i: Lihu'e</td>\n",
       "      <td>21.9667-159.4333_1972</td>\n",
       "      <td>US-HI</td>\n",
       "      <td>21.9667</td>\n",
       "      <td>-159.4333</td>\n",
       "      <td>21.9667</td>\n",
       "      <td>-159.4667</td>\n",
       "      <td>&lt;NA&gt;</td>\n",
       "      <td>&lt;NA&gt;</td>\n",
       "      <td>3445.259016</td>\n",
       "      <td>24.94</td>\n",
       "      <td>&lt;NA&gt;</td>\n",
       "      <td>&lt;NA&gt;</td>\n",
       "    </tr>\n",
       "    <tr>\n",
       "      <th>USC00518217</th>\n",
       "      <td>Kaua'i: Lihu'e</td>\n",
       "      <td>21.9667-159.4333_1972</td>\n",
       "      <td>US-HI</td>\n",
       "      <td>21.9667</td>\n",
       "      <td>-159.4333</td>\n",
       "      <td>21.9656</td>\n",
       "      <td>-159.3964</td>\n",
       "      <td>False</td>\n",
       "      <td>&lt;NA&gt;</td>\n",
       "      <td>3808.269759</td>\n",
       "      <td>42.66</td>\n",
       "      <td>&lt;NA&gt;</td>\n",
       "      <td>&lt;NA&gt;</td>\n",
       "    </tr>\n",
       "    <tr>\n",
       "      <th>USC00518570</th>\n",
       "      <td>Kaua'i: Lihu'e</td>\n",
       "      <td>21.9667-159.4333_1972</td>\n",
       "      <td>US-HI</td>\n",
       "      <td>21.9667</td>\n",
       "      <td>-159.4333</td>\n",
       "      <td>21.9667</td>\n",
       "      <td>-159.4167</td>\n",
       "      <td>&lt;NA&gt;</td>\n",
       "      <td>&lt;NA&gt;</td>\n",
       "      <td>1712.314364</td>\n",
       "      <td>24.06</td>\n",
       "      <td>&lt;NA&gt;</td>\n",
       "      <td>&lt;NA&gt;</td>\n",
       "    </tr>\n",
       "    <tr>\n",
       "      <th>USC00518573</th>\n",
       "      <td>Kaua'i: Lihu'e</td>\n",
       "      <td>21.9667-159.4333_1972</td>\n",
       "      <td>US-HI</td>\n",
       "      <td>21.9667</td>\n",
       "      <td>-159.4333</td>\n",
       "      <td>21.9500</td>\n",
       "      <td>-159.4500</td>\n",
       "      <td>&lt;NA&gt;</td>\n",
       "      <td>&lt;NA&gt;</td>\n",
       "      <td>2533.383680</td>\n",
       "      <td>14.96</td>\n",
       "      <td>&lt;NA&gt;</td>\n",
       "      <td>&lt;NA&gt;</td>\n",
       "    </tr>\n",
       "    <tr>\n",
       "      <th rowspan=\"13\" valign=\"top\">1972-12-17</th>\n",
       "      <th>US1HIKI0004</th>\n",
       "      <td>Kaua'i: Lihu'e</td>\n",
       "      <td>21.9667-159.4333_1973</td>\n",
       "      <td>US-HI</td>\n",
       "      <td>21.9667</td>\n",
       "      <td>-159.4333</td>\n",
       "      <td>21.9249</td>\n",
       "      <td>-159.4983</td>\n",
       "      <td>&lt;NA&gt;</td>\n",
       "      <td>&lt;NA&gt;</td>\n",
       "      <td>8159.889753</td>\n",
       "      <td>43.84</td>\n",
       "      <td>&lt;NA&gt;</td>\n",
       "      <td>&lt;NA&gt;</td>\n",
       "    </tr>\n",
       "    <tr>\n",
       "      <th>US1HIKI0014</th>\n",
       "      <td>Kaua'i: Lihu'e</td>\n",
       "      <td>21.9667-159.4333_1973</td>\n",
       "      <td>US-HI</td>\n",
       "      <td>21.9667</td>\n",
       "      <td>-159.4333</td>\n",
       "      <td>21.9055</td>\n",
       "      <td>-159.5150</td>\n",
       "      <td>&lt;NA&gt;</td>\n",
       "      <td>&lt;NA&gt;</td>\n",
       "      <td>10834.614107</td>\n",
       "      <td>11.26</td>\n",
       "      <td>&lt;NA&gt;</td>\n",
       "      <td>&lt;NA&gt;</td>\n",
       "    </tr>\n",
       "    <tr>\n",
       "      <th>US1HIKI0018</th>\n",
       "      <td>Kaua'i: Lihu'e</td>\n",
       "      <td>21.9667-159.4333_1973</td>\n",
       "      <td>US-HI</td>\n",
       "      <td>21.9667</td>\n",
       "      <td>-159.4333</td>\n",
       "      <td>21.9075</td>\n",
       "      <td>-159.5181</td>\n",
       "      <td>&lt;NA&gt;</td>\n",
       "      <td>&lt;NA&gt;</td>\n",
       "      <td>10950.027151</td>\n",
       "      <td>17.34</td>\n",
       "      <td>&lt;NA&gt;</td>\n",
       "      <td>&lt;NA&gt;</td>\n",
       "    </tr>\n",
       "    <tr>\n",
       "      <th>USC00510006</th>\n",
       "      <td>Kaua'i: Lihu'e</td>\n",
       "      <td>21.9667-159.4333_1973</td>\n",
       "      <td>US-HI</td>\n",
       "      <td>21.9667</td>\n",
       "      <td>-159.4333</td>\n",
       "      <td>21.9500</td>\n",
       "      <td>-159.4333</td>\n",
       "      <td>&lt;NA&gt;</td>\n",
       "      <td>&lt;NA&gt;</td>\n",
       "      <td>1857.479921</td>\n",
       "      <td>35.96</td>\n",
       "      <td>&lt;NA&gt;</td>\n",
       "      <td>&lt;NA&gt;</td>\n",
       "    </tr>\n",
       "    <tr>\n",
       "      <th>USC00510456</th>\n",
       "      <td>Kaua'i: Lihu'e</td>\n",
       "      <td>21.9667-159.4333_1973</td>\n",
       "      <td>US-HI</td>\n",
       "      <td>21.9667</td>\n",
       "      <td>-159.4333</td>\n",
       "      <td>21.9011</td>\n",
       "      <td>-159.4969</td>\n",
       "      <td>False</td>\n",
       "      <td>&lt;NA&gt;</td>\n",
       "      <td>9813.118605</td>\n",
       "      <td>49.06</td>\n",
       "      <td>&lt;NA&gt;</td>\n",
       "      <td>&lt;NA&gt;</td>\n",
       "    </tr>\n",
       "    <tr>\n",
       "      <th>USC00511038</th>\n",
       "      <td>Kaua'i: Lihu'e</td>\n",
       "      <td>21.9667-159.4333_1973</td>\n",
       "      <td>US-HI</td>\n",
       "      <td>21.9667</td>\n",
       "      <td>-159.4333</td>\n",
       "      <td>21.9650</td>\n",
       "      <td>-159.4297</td>\n",
       "      <td>False</td>\n",
       "      <td>&lt;NA&gt;</td>\n",
       "      <td>416.715760</td>\n",
       "      <td>6.44</td>\n",
       "      <td>&lt;NA&gt;</td>\n",
       "      <td>&lt;NA&gt;</td>\n",
       "    </tr>\n",
       "    <tr>\n",
       "      <th>USC00513023</th>\n",
       "      <td>Kaua'i: Lihu'e</td>\n",
       "      <td>21.9667-159.4333_1973</td>\n",
       "      <td>US-HI</td>\n",
       "      <td>21.9667</td>\n",
       "      <td>-159.4333</td>\n",
       "      <td>21.9167</td>\n",
       "      <td>-159.4500</td>\n",
       "      <td>&lt;NA&gt;</td>\n",
       "      <td>&lt;NA&gt;</td>\n",
       "      <td>5822.091067</td>\n",
       "      <td>42.06</td>\n",
       "      <td>&lt;NA&gt;</td>\n",
       "      <td>&lt;NA&gt;</td>\n",
       "    </tr>\n",
       "    <tr>\n",
       "      <th>USC00514746</th>\n",
       "      <td>Kaua'i: Lihu'e</td>\n",
       "      <td>21.9667-159.4333_1973</td>\n",
       "      <td>US-HI</td>\n",
       "      <td>21.9667</td>\n",
       "      <td>-159.4333</td>\n",
       "      <td>21.9500</td>\n",
       "      <td>-159.4667</td>\n",
       "      <td>&lt;NA&gt;</td>\n",
       "      <td>&lt;NA&gt;</td>\n",
       "      <td>3914.260655</td>\n",
       "      <td>39.94</td>\n",
       "      <td>&lt;NA&gt;</td>\n",
       "      <td>&lt;NA&gt;</td>\n",
       "    </tr>\n",
       "    <tr>\n",
       "      <th>USC00515464</th>\n",
       "      <td>Kaua'i: Lihu'e</td>\n",
       "      <td>21.9667-159.4333_1973</td>\n",
       "      <td>US-HI</td>\n",
       "      <td>21.9667</td>\n",
       "      <td>-159.4333</td>\n",
       "      <td>21.9167</td>\n",
       "      <td>-159.5167</td>\n",
       "      <td>&lt;NA&gt;</td>\n",
       "      <td>&lt;NA&gt;</td>\n",
       "      <td>10245.145356</td>\n",
       "      <td>35.55</td>\n",
       "      <td>&lt;NA&gt;</td>\n",
       "      <td>&lt;NA&gt;</td>\n",
       "    </tr>\n",
       "    <tr>\n",
       "      <th>USC00517777</th>\n",
       "      <td>Kaua'i: Lihu'e</td>\n",
       "      <td>21.9667-159.4333_1973</td>\n",
       "      <td>US-HI</td>\n",
       "      <td>21.9667</td>\n",
       "      <td>-159.4333</td>\n",
       "      <td>21.9667</td>\n",
       "      <td>-159.4667</td>\n",
       "      <td>&lt;NA&gt;</td>\n",
       "      <td>&lt;NA&gt;</td>\n",
       "      <td>3445.259016</td>\n",
       "      <td>24.94</td>\n",
       "      <td>&lt;NA&gt;</td>\n",
       "      <td>&lt;NA&gt;</td>\n",
       "    </tr>\n",
       "    <tr>\n",
       "      <th>USC00518217</th>\n",
       "      <td>Kaua'i: Lihu'e</td>\n",
       "      <td>21.9667-159.4333_1973</td>\n",
       "      <td>US-HI</td>\n",
       "      <td>21.9667</td>\n",
       "      <td>-159.4333</td>\n",
       "      <td>21.9656</td>\n",
       "      <td>-159.3964</td>\n",
       "      <td>False</td>\n",
       "      <td>&lt;NA&gt;</td>\n",
       "      <td>3808.269759</td>\n",
       "      <td>42.66</td>\n",
       "      <td>&lt;NA&gt;</td>\n",
       "      <td>&lt;NA&gt;</td>\n",
       "    </tr>\n",
       "    <tr>\n",
       "      <th>USC00518570</th>\n",
       "      <td>Kaua'i: Lihu'e</td>\n",
       "      <td>21.9667-159.4333_1973</td>\n",
       "      <td>US-HI</td>\n",
       "      <td>21.9667</td>\n",
       "      <td>-159.4333</td>\n",
       "      <td>21.9667</td>\n",
       "      <td>-159.4167</td>\n",
       "      <td>&lt;NA&gt;</td>\n",
       "      <td>&lt;NA&gt;</td>\n",
       "      <td>1712.314364</td>\n",
       "      <td>24.06</td>\n",
       "      <td>&lt;NA&gt;</td>\n",
       "      <td>&lt;NA&gt;</td>\n",
       "    </tr>\n",
       "    <tr>\n",
       "      <th>USC00518573</th>\n",
       "      <td>Kaua'i: Lihu'e</td>\n",
       "      <td>21.9667-159.4333_1973</td>\n",
       "      <td>US-HI</td>\n",
       "      <td>21.9667</td>\n",
       "      <td>-159.4333</td>\n",
       "      <td>21.9500</td>\n",
       "      <td>-159.4500</td>\n",
       "      <td>False</td>\n",
       "      <td>&lt;NA&gt;</td>\n",
       "      <td>2533.383680</td>\n",
       "      <td>14.96</td>\n",
       "      <td>&lt;NA&gt;</td>\n",
       "      <td>&lt;NA&gt;</td>\n",
       "    </tr>\n",
       "    <tr>\n",
       "      <th rowspan=\"13\" valign=\"top\">1973-12-16</th>\n",
       "      <th>US1HIKI0004</th>\n",
       "      <td>Kaua'i: Lihu'e</td>\n",
       "      <td>21.9667-159.4333_1974</td>\n",
       "      <td>US-HI</td>\n",
       "      <td>21.9667</td>\n",
       "      <td>-159.4333</td>\n",
       "      <td>21.9249</td>\n",
       "      <td>-159.4983</td>\n",
       "      <td>&lt;NA&gt;</td>\n",
       "      <td>&lt;NA&gt;</td>\n",
       "      <td>8159.889753</td>\n",
       "      <td>43.84</td>\n",
       "      <td>&lt;NA&gt;</td>\n",
       "      <td>&lt;NA&gt;</td>\n",
       "    </tr>\n",
       "    <tr>\n",
       "      <th>US1HIKI0014</th>\n",
       "      <td>Kaua'i: Lihu'e</td>\n",
       "      <td>21.9667-159.4333_1974</td>\n",
       "      <td>US-HI</td>\n",
       "      <td>21.9667</td>\n",
       "      <td>-159.4333</td>\n",
       "      <td>21.9055</td>\n",
       "      <td>-159.5150</td>\n",
       "      <td>&lt;NA&gt;</td>\n",
       "      <td>&lt;NA&gt;</td>\n",
       "      <td>10834.614107</td>\n",
       "      <td>11.26</td>\n",
       "      <td>&lt;NA&gt;</td>\n",
       "      <td>&lt;NA&gt;</td>\n",
       "    </tr>\n",
       "    <tr>\n",
       "      <th>US1HIKI0018</th>\n",
       "      <td>Kaua'i: Lihu'e</td>\n",
       "      <td>21.9667-159.4333_1974</td>\n",
       "      <td>US-HI</td>\n",
       "      <td>21.9667</td>\n",
       "      <td>-159.4333</td>\n",
       "      <td>21.9075</td>\n",
       "      <td>-159.5181</td>\n",
       "      <td>&lt;NA&gt;</td>\n",
       "      <td>&lt;NA&gt;</td>\n",
       "      <td>10950.027151</td>\n",
       "      <td>17.34</td>\n",
       "      <td>&lt;NA&gt;</td>\n",
       "      <td>&lt;NA&gt;</td>\n",
       "    </tr>\n",
       "    <tr>\n",
       "      <th>USC00510006</th>\n",
       "      <td>Kaua'i: Lihu'e</td>\n",
       "      <td>21.9667-159.4333_1974</td>\n",
       "      <td>US-HI</td>\n",
       "      <td>21.9667</td>\n",
       "      <td>-159.4333</td>\n",
       "      <td>21.9500</td>\n",
       "      <td>-159.4333</td>\n",
       "      <td>&lt;NA&gt;</td>\n",
       "      <td>&lt;NA&gt;</td>\n",
       "      <td>1857.479921</td>\n",
       "      <td>35.96</td>\n",
       "      <td>&lt;NA&gt;</td>\n",
       "      <td>&lt;NA&gt;</td>\n",
       "    </tr>\n",
       "    <tr>\n",
       "      <th>USC00510456</th>\n",
       "      <td>Kaua'i: Lihu'e</td>\n",
       "      <td>21.9667-159.4333_1974</td>\n",
       "      <td>US-HI</td>\n",
       "      <td>21.9667</td>\n",
       "      <td>-159.4333</td>\n",
       "      <td>21.9011</td>\n",
       "      <td>-159.4969</td>\n",
       "      <td>False</td>\n",
       "      <td>&lt;NA&gt;</td>\n",
       "      <td>9813.118605</td>\n",
       "      <td>49.06</td>\n",
       "      <td>&lt;NA&gt;</td>\n",
       "      <td>&lt;NA&gt;</td>\n",
       "    </tr>\n",
       "    <tr>\n",
       "      <th>USC00511038</th>\n",
       "      <td>Kaua'i: Lihu'e</td>\n",
       "      <td>21.9667-159.4333_1974</td>\n",
       "      <td>US-HI</td>\n",
       "      <td>21.9667</td>\n",
       "      <td>-159.4333</td>\n",
       "      <td>21.9650</td>\n",
       "      <td>-159.4297</td>\n",
       "      <td>False</td>\n",
       "      <td>&lt;NA&gt;</td>\n",
       "      <td>416.715760</td>\n",
       "      <td>6.44</td>\n",
       "      <td>&lt;NA&gt;</td>\n",
       "      <td>&lt;NA&gt;</td>\n",
       "    </tr>\n",
       "    <tr>\n",
       "      <th>USC00513023</th>\n",
       "      <td>Kaua'i: Lihu'e</td>\n",
       "      <td>21.9667-159.4333_1974</td>\n",
       "      <td>US-HI</td>\n",
       "      <td>21.9667</td>\n",
       "      <td>-159.4333</td>\n",
       "      <td>21.9167</td>\n",
       "      <td>-159.4500</td>\n",
       "      <td>&lt;NA&gt;</td>\n",
       "      <td>&lt;NA&gt;</td>\n",
       "      <td>5822.091067</td>\n",
       "      <td>42.06</td>\n",
       "      <td>&lt;NA&gt;</td>\n",
       "      <td>&lt;NA&gt;</td>\n",
       "    </tr>\n",
       "    <tr>\n",
       "      <th>USC00514746</th>\n",
       "      <td>Kaua'i: Lihu'e</td>\n",
       "      <td>21.9667-159.4333_1974</td>\n",
       "      <td>US-HI</td>\n",
       "      <td>21.9667</td>\n",
       "      <td>-159.4333</td>\n",
       "      <td>21.9500</td>\n",
       "      <td>-159.4667</td>\n",
       "      <td>&lt;NA&gt;</td>\n",
       "      <td>&lt;NA&gt;</td>\n",
       "      <td>3914.260655</td>\n",
       "      <td>39.94</td>\n",
       "      <td>&lt;NA&gt;</td>\n",
       "      <td>&lt;NA&gt;</td>\n",
       "    </tr>\n",
       "    <tr>\n",
       "      <th>USC00515464</th>\n",
       "      <td>Kaua'i: Lihu'e</td>\n",
       "      <td>21.9667-159.4333_1974</td>\n",
       "      <td>US-HI</td>\n",
       "      <td>21.9667</td>\n",
       "      <td>-159.4333</td>\n",
       "      <td>21.9167</td>\n",
       "      <td>-159.5167</td>\n",
       "      <td>&lt;NA&gt;</td>\n",
       "      <td>&lt;NA&gt;</td>\n",
       "      <td>10245.145356</td>\n",
       "      <td>35.55</td>\n",
       "      <td>&lt;NA&gt;</td>\n",
       "      <td>&lt;NA&gt;</td>\n",
       "    </tr>\n",
       "    <tr>\n",
       "      <th>USC00517777</th>\n",
       "      <td>Kaua'i: Lihu'e</td>\n",
       "      <td>21.9667-159.4333_1974</td>\n",
       "      <td>US-HI</td>\n",
       "      <td>21.9667</td>\n",
       "      <td>-159.4333</td>\n",
       "      <td>21.9667</td>\n",
       "      <td>-159.4667</td>\n",
       "      <td>&lt;NA&gt;</td>\n",
       "      <td>&lt;NA&gt;</td>\n",
       "      <td>3445.259016</td>\n",
       "      <td>24.94</td>\n",
       "      <td>&lt;NA&gt;</td>\n",
       "      <td>&lt;NA&gt;</td>\n",
       "    </tr>\n",
       "    <tr>\n",
       "      <th>USC00518217</th>\n",
       "      <td>Kaua'i: Lihu'e</td>\n",
       "      <td>21.9667-159.4333_1974</td>\n",
       "      <td>US-HI</td>\n",
       "      <td>21.9667</td>\n",
       "      <td>-159.4333</td>\n",
       "      <td>21.9656</td>\n",
       "      <td>-159.3964</td>\n",
       "      <td>False</td>\n",
       "      <td>&lt;NA&gt;</td>\n",
       "      <td>3808.269759</td>\n",
       "      <td>42.66</td>\n",
       "      <td>&lt;NA&gt;</td>\n",
       "      <td>&lt;NA&gt;</td>\n",
       "    </tr>\n",
       "    <tr>\n",
       "      <th>USC00518570</th>\n",
       "      <td>Kaua'i: Lihu'e</td>\n",
       "      <td>21.9667-159.4333_1974</td>\n",
       "      <td>US-HI</td>\n",
       "      <td>21.9667</td>\n",
       "      <td>-159.4333</td>\n",
       "      <td>21.9667</td>\n",
       "      <td>-159.4167</td>\n",
       "      <td>&lt;NA&gt;</td>\n",
       "      <td>&lt;NA&gt;</td>\n",
       "      <td>1712.314364</td>\n",
       "      <td>24.06</td>\n",
       "      <td>&lt;NA&gt;</td>\n",
       "      <td>&lt;NA&gt;</td>\n",
       "    </tr>\n",
       "    <tr>\n",
       "      <th>USC00518573</th>\n",
       "      <td>Kaua'i: Lihu'e</td>\n",
       "      <td>21.9667-159.4333_1974</td>\n",
       "      <td>US-HI</td>\n",
       "      <td>21.9667</td>\n",
       "      <td>-159.4333</td>\n",
       "      <td>21.9500</td>\n",
       "      <td>-159.4500</td>\n",
       "      <td>False</td>\n",
       "      <td>&lt;NA&gt;</td>\n",
       "      <td>2533.383680</td>\n",
       "      <td>14.96</td>\n",
       "      <td>&lt;NA&gt;</td>\n",
       "      <td>&lt;NA&gt;</td>\n",
       "    </tr>\n",
       "    <tr>\n",
       "      <th rowspan=\"10\" valign=\"top\">1974-12-15</th>\n",
       "      <th>US1HIKI0004</th>\n",
       "      <td>Kaua'i: Lihu'e</td>\n",
       "      <td>21.9667-159.4333_1975</td>\n",
       "      <td>US-HI</td>\n",
       "      <td>21.9667</td>\n",
       "      <td>-159.4333</td>\n",
       "      <td>21.9249</td>\n",
       "      <td>-159.4983</td>\n",
       "      <td>&lt;NA&gt;</td>\n",
       "      <td>&lt;NA&gt;</td>\n",
       "      <td>8159.889753</td>\n",
       "      <td>43.84</td>\n",
       "      <td>&lt;NA&gt;</td>\n",
       "      <td>&lt;NA&gt;</td>\n",
       "    </tr>\n",
       "    <tr>\n",
       "      <th>US1HIKI0014</th>\n",
       "      <td>Kaua'i: Lihu'e</td>\n",
       "      <td>21.9667-159.4333_1975</td>\n",
       "      <td>US-HI</td>\n",
       "      <td>21.9667</td>\n",
       "      <td>-159.4333</td>\n",
       "      <td>21.9055</td>\n",
       "      <td>-159.5150</td>\n",
       "      <td>&lt;NA&gt;</td>\n",
       "      <td>&lt;NA&gt;</td>\n",
       "      <td>10834.614107</td>\n",
       "      <td>11.26</td>\n",
       "      <td>&lt;NA&gt;</td>\n",
       "      <td>&lt;NA&gt;</td>\n",
       "    </tr>\n",
       "    <tr>\n",
       "      <th>US1HIKI0018</th>\n",
       "      <td>Kaua'i: Lihu'e</td>\n",
       "      <td>21.9667-159.4333_1975</td>\n",
       "      <td>US-HI</td>\n",
       "      <td>21.9667</td>\n",
       "      <td>-159.4333</td>\n",
       "      <td>21.9075</td>\n",
       "      <td>-159.5181</td>\n",
       "      <td>&lt;NA&gt;</td>\n",
       "      <td>&lt;NA&gt;</td>\n",
       "      <td>10950.027151</td>\n",
       "      <td>17.34</td>\n",
       "      <td>&lt;NA&gt;</td>\n",
       "      <td>&lt;NA&gt;</td>\n",
       "    </tr>\n",
       "    <tr>\n",
       "      <th>USC00510006</th>\n",
       "      <td>Kaua'i: Lihu'e</td>\n",
       "      <td>21.9667-159.4333_1975</td>\n",
       "      <td>US-HI</td>\n",
       "      <td>21.9667</td>\n",
       "      <td>-159.4333</td>\n",
       "      <td>21.9500</td>\n",
       "      <td>-159.4333</td>\n",
       "      <td>&lt;NA&gt;</td>\n",
       "      <td>&lt;NA&gt;</td>\n",
       "      <td>1857.479921</td>\n",
       "      <td>35.96</td>\n",
       "      <td>&lt;NA&gt;</td>\n",
       "      <td>&lt;NA&gt;</td>\n",
       "    </tr>\n",
       "    <tr>\n",
       "      <th>USC00510456</th>\n",
       "      <td>Kaua'i: Lihu'e</td>\n",
       "      <td>21.9667-159.4333_1975</td>\n",
       "      <td>US-HI</td>\n",
       "      <td>21.9667</td>\n",
       "      <td>-159.4333</td>\n",
       "      <td>21.9011</td>\n",
       "      <td>-159.4969</td>\n",
       "      <td>False</td>\n",
       "      <td>&lt;NA&gt;</td>\n",
       "      <td>9813.118605</td>\n",
       "      <td>49.06</td>\n",
       "      <td>&lt;NA&gt;</td>\n",
       "      <td>&lt;NA&gt;</td>\n",
       "    </tr>\n",
       "    <tr>\n",
       "      <th>USC00511038</th>\n",
       "      <td>Kaua'i: Lihu'e</td>\n",
       "      <td>21.9667-159.4333_1975</td>\n",
       "      <td>US-HI</td>\n",
       "      <td>21.9667</td>\n",
       "      <td>-159.4333</td>\n",
       "      <td>21.9650</td>\n",
       "      <td>-159.4297</td>\n",
       "      <td>False</td>\n",
       "      <td>&lt;NA&gt;</td>\n",
       "      <td>416.715760</td>\n",
       "      <td>6.44</td>\n",
       "      <td>&lt;NA&gt;</td>\n",
       "      <td>&lt;NA&gt;</td>\n",
       "    </tr>\n",
       "    <tr>\n",
       "      <th>USC00513023</th>\n",
       "      <td>Kaua'i: Lihu'e</td>\n",
       "      <td>21.9667-159.4333_1975</td>\n",
       "      <td>US-HI</td>\n",
       "      <td>21.9667</td>\n",
       "      <td>-159.4333</td>\n",
       "      <td>21.9167</td>\n",
       "      <td>-159.4500</td>\n",
       "      <td>&lt;NA&gt;</td>\n",
       "      <td>&lt;NA&gt;</td>\n",
       "      <td>5822.091067</td>\n",
       "      <td>42.06</td>\n",
       "      <td>&lt;NA&gt;</td>\n",
       "      <td>&lt;NA&gt;</td>\n",
       "    </tr>\n",
       "    <tr>\n",
       "      <th>USC00514746</th>\n",
       "      <td>Kaua'i: Lihu'e</td>\n",
       "      <td>21.9667-159.4333_1975</td>\n",
       "      <td>US-HI</td>\n",
       "      <td>21.9667</td>\n",
       "      <td>-159.4333</td>\n",
       "      <td>21.9500</td>\n",
       "      <td>-159.4667</td>\n",
       "      <td>&lt;NA&gt;</td>\n",
       "      <td>&lt;NA&gt;</td>\n",
       "      <td>3914.260655</td>\n",
       "      <td>39.94</td>\n",
       "      <td>&lt;NA&gt;</td>\n",
       "      <td>&lt;NA&gt;</td>\n",
       "    </tr>\n",
       "    <tr>\n",
       "      <th>USC00515464</th>\n",
       "      <td>Kaua'i: Lihu'e</td>\n",
       "      <td>21.9667-159.4333_1975</td>\n",
       "      <td>US-HI</td>\n",
       "      <td>21.9667</td>\n",
       "      <td>-159.4333</td>\n",
       "      <td>21.9167</td>\n",
       "      <td>-159.5167</td>\n",
       "      <td>&lt;NA&gt;</td>\n",
       "      <td>&lt;NA&gt;</td>\n",
       "      <td>10245.145356</td>\n",
       "      <td>35.55</td>\n",
       "      <td>&lt;NA&gt;</td>\n",
       "      <td>&lt;NA&gt;</td>\n",
       "    </tr>\n",
       "    <tr>\n",
       "      <th>USC00517777</th>\n",
       "      <td>Kaua'i: Lihu'e</td>\n",
       "      <td>21.9667-159.4333_1975</td>\n",
       "      <td>US-HI</td>\n",
       "      <td>21.9667</td>\n",
       "      <td>-159.4333</td>\n",
       "      <td>21.9667</td>\n",
       "      <td>-159.4667</td>\n",
       "      <td>&lt;NA&gt;</td>\n",
       "      <td>&lt;NA&gt;</td>\n",
       "      <td>3445.259016</td>\n",
       "      <td>24.94</td>\n",
       "      <td>&lt;NA&gt;</td>\n",
       "      <td>&lt;NA&gt;</td>\n",
       "    </tr>\n",
       "  </tbody>\n",
       "</table>\n",
       "</div>"
      ],
      "text/plain": [
       "                                        c_name                     ui  \\\n",
       "c_id    count_date s_id                                                 \n",
       "87ymwsn 1968-12-26 USC00519130  Kaua'i: Waimea  22.0833-159.6667_1969   \n",
       "87ysunb 1971-12-27 US1HIKI0004  Kaua'i: Lihu'e  21.9667-159.4333_1972   \n",
       "                   US1HIKI0014  Kaua'i: Lihu'e  21.9667-159.4333_1972   \n",
       "                   US1HIKI0018  Kaua'i: Lihu'e  21.9667-159.4333_1972   \n",
       "                   USC00510006  Kaua'i: Lihu'e  21.9667-159.4333_1972   \n",
       "                   USC00510456  Kaua'i: Lihu'e  21.9667-159.4333_1972   \n",
       "                   USC00511038  Kaua'i: Lihu'e  21.9667-159.4333_1972   \n",
       "                   USC00513023  Kaua'i: Lihu'e  21.9667-159.4333_1972   \n",
       "                   USC00514746  Kaua'i: Lihu'e  21.9667-159.4333_1972   \n",
       "                   USC00515464  Kaua'i: Lihu'e  21.9667-159.4333_1972   \n",
       "                   USC00517777  Kaua'i: Lihu'e  21.9667-159.4333_1972   \n",
       "                   USC00518217  Kaua'i: Lihu'e  21.9667-159.4333_1972   \n",
       "                   USC00518570  Kaua'i: Lihu'e  21.9667-159.4333_1972   \n",
       "                   USC00518573  Kaua'i: Lihu'e  21.9667-159.4333_1972   \n",
       "        1972-12-17 US1HIKI0004  Kaua'i: Lihu'e  21.9667-159.4333_1973   \n",
       "                   US1HIKI0014  Kaua'i: Lihu'e  21.9667-159.4333_1973   \n",
       "                   US1HIKI0018  Kaua'i: Lihu'e  21.9667-159.4333_1973   \n",
       "                   USC00510006  Kaua'i: Lihu'e  21.9667-159.4333_1973   \n",
       "                   USC00510456  Kaua'i: Lihu'e  21.9667-159.4333_1973   \n",
       "                   USC00511038  Kaua'i: Lihu'e  21.9667-159.4333_1973   \n",
       "                   USC00513023  Kaua'i: Lihu'e  21.9667-159.4333_1973   \n",
       "                   USC00514746  Kaua'i: Lihu'e  21.9667-159.4333_1973   \n",
       "                   USC00515464  Kaua'i: Lihu'e  21.9667-159.4333_1973   \n",
       "                   USC00517777  Kaua'i: Lihu'e  21.9667-159.4333_1973   \n",
       "                   USC00518217  Kaua'i: Lihu'e  21.9667-159.4333_1973   \n",
       "                   USC00518570  Kaua'i: Lihu'e  21.9667-159.4333_1973   \n",
       "                   USC00518573  Kaua'i: Lihu'e  21.9667-159.4333_1973   \n",
       "        1973-12-16 US1HIKI0004  Kaua'i: Lihu'e  21.9667-159.4333_1974   \n",
       "                   US1HIKI0014  Kaua'i: Lihu'e  21.9667-159.4333_1974   \n",
       "                   US1HIKI0018  Kaua'i: Lihu'e  21.9667-159.4333_1974   \n",
       "                   USC00510006  Kaua'i: Lihu'e  21.9667-159.4333_1974   \n",
       "                   USC00510456  Kaua'i: Lihu'e  21.9667-159.4333_1974   \n",
       "                   USC00511038  Kaua'i: Lihu'e  21.9667-159.4333_1974   \n",
       "                   USC00513023  Kaua'i: Lihu'e  21.9667-159.4333_1974   \n",
       "                   USC00514746  Kaua'i: Lihu'e  21.9667-159.4333_1974   \n",
       "                   USC00515464  Kaua'i: Lihu'e  21.9667-159.4333_1974   \n",
       "                   USC00517777  Kaua'i: Lihu'e  21.9667-159.4333_1974   \n",
       "                   USC00518217  Kaua'i: Lihu'e  21.9667-159.4333_1974   \n",
       "                   USC00518570  Kaua'i: Lihu'e  21.9667-159.4333_1974   \n",
       "                   USC00518573  Kaua'i: Lihu'e  21.9667-159.4333_1974   \n",
       "        1974-12-15 US1HIKI0004  Kaua'i: Lihu'e  21.9667-159.4333_1975   \n",
       "                   US1HIKI0014  Kaua'i: Lihu'e  21.9667-159.4333_1975   \n",
       "                   US1HIKI0018  Kaua'i: Lihu'e  21.9667-159.4333_1975   \n",
       "                   USC00510006  Kaua'i: Lihu'e  21.9667-159.4333_1975   \n",
       "                   USC00510456  Kaua'i: Lihu'e  21.9667-159.4333_1975   \n",
       "                   USC00511038  Kaua'i: Lihu'e  21.9667-159.4333_1975   \n",
       "                   USC00513023  Kaua'i: Lihu'e  21.9667-159.4333_1975   \n",
       "                   USC00514746  Kaua'i: Lihu'e  21.9667-159.4333_1975   \n",
       "                   USC00515464  Kaua'i: Lihu'e  21.9667-159.4333_1975   \n",
       "                   USC00517777  Kaua'i: Lihu'e  21.9667-159.4333_1975   \n",
       "\n",
       "                               country_state    c_lat     c_lon    s_lat  \\\n",
       "c_id    count_date s_id                                                    \n",
       "87ymwsn 1968-12-26 USC00519130         US-HI  22.0833 -159.6667  22.1167   \n",
       "87ysunb 1971-12-27 US1HIKI0004         US-HI  21.9667 -159.4333  21.9249   \n",
       "                   US1HIKI0014         US-HI  21.9667 -159.4333  21.9055   \n",
       "                   US1HIKI0018         US-HI  21.9667 -159.4333  21.9075   \n",
       "                   USC00510006         US-HI  21.9667 -159.4333  21.9500   \n",
       "                   USC00510456         US-HI  21.9667 -159.4333  21.9011   \n",
       "                   USC00511038         US-HI  21.9667 -159.4333  21.9650   \n",
       "                   USC00513023         US-HI  21.9667 -159.4333  21.9167   \n",
       "                   USC00514746         US-HI  21.9667 -159.4333  21.9500   \n",
       "                   USC00515464         US-HI  21.9667 -159.4333  21.9167   \n",
       "                   USC00517777         US-HI  21.9667 -159.4333  21.9667   \n",
       "                   USC00518217         US-HI  21.9667 -159.4333  21.9656   \n",
       "                   USC00518570         US-HI  21.9667 -159.4333  21.9667   \n",
       "                   USC00518573         US-HI  21.9667 -159.4333  21.9500   \n",
       "        1972-12-17 US1HIKI0004         US-HI  21.9667 -159.4333  21.9249   \n",
       "                   US1HIKI0014         US-HI  21.9667 -159.4333  21.9055   \n",
       "                   US1HIKI0018         US-HI  21.9667 -159.4333  21.9075   \n",
       "                   USC00510006         US-HI  21.9667 -159.4333  21.9500   \n",
       "                   USC00510456         US-HI  21.9667 -159.4333  21.9011   \n",
       "                   USC00511038         US-HI  21.9667 -159.4333  21.9650   \n",
       "                   USC00513023         US-HI  21.9667 -159.4333  21.9167   \n",
       "                   USC00514746         US-HI  21.9667 -159.4333  21.9500   \n",
       "                   USC00515464         US-HI  21.9667 -159.4333  21.9167   \n",
       "                   USC00517777         US-HI  21.9667 -159.4333  21.9667   \n",
       "                   USC00518217         US-HI  21.9667 -159.4333  21.9656   \n",
       "                   USC00518570         US-HI  21.9667 -159.4333  21.9667   \n",
       "                   USC00518573         US-HI  21.9667 -159.4333  21.9500   \n",
       "        1973-12-16 US1HIKI0004         US-HI  21.9667 -159.4333  21.9249   \n",
       "                   US1HIKI0014         US-HI  21.9667 -159.4333  21.9055   \n",
       "                   US1HIKI0018         US-HI  21.9667 -159.4333  21.9075   \n",
       "                   USC00510006         US-HI  21.9667 -159.4333  21.9500   \n",
       "                   USC00510456         US-HI  21.9667 -159.4333  21.9011   \n",
       "                   USC00511038         US-HI  21.9667 -159.4333  21.9650   \n",
       "                   USC00513023         US-HI  21.9667 -159.4333  21.9167   \n",
       "                   USC00514746         US-HI  21.9667 -159.4333  21.9500   \n",
       "                   USC00515464         US-HI  21.9667 -159.4333  21.9167   \n",
       "                   USC00517777         US-HI  21.9667 -159.4333  21.9667   \n",
       "                   USC00518217         US-HI  21.9667 -159.4333  21.9656   \n",
       "                   USC00518570         US-HI  21.9667 -159.4333  21.9667   \n",
       "                   USC00518573         US-HI  21.9667 -159.4333  21.9500   \n",
       "        1974-12-15 US1HIKI0004         US-HI  21.9667 -159.4333  21.9249   \n",
       "                   US1HIKI0014         US-HI  21.9667 -159.4333  21.9055   \n",
       "                   US1HIKI0018         US-HI  21.9667 -159.4333  21.9075   \n",
       "                   USC00510006         US-HI  21.9667 -159.4333  21.9500   \n",
       "                   USC00510456         US-HI  21.9667 -159.4333  21.9011   \n",
       "                   USC00511038         US-HI  21.9667 -159.4333  21.9650   \n",
       "                   USC00513023         US-HI  21.9667 -159.4333  21.9167   \n",
       "                   USC00514746         US-HI  21.9667 -159.4333  21.9500   \n",
       "                   USC00515464         US-HI  21.9667 -159.4333  21.9167   \n",
       "                   USC00517777         US-HI  21.9667 -159.4333  21.9667   \n",
       "\n",
       "                                   s_lon s_snow c_snow      distance  d_elev  \\\n",
       "c_id    count_date s_id                                                        \n",
       "87ymwsn 1968-12-26 USC00519130 -159.6167   <NA>   <NA>   6352.278644   36.16   \n",
       "87ysunb 1971-12-27 US1HIKI0004 -159.4983   <NA>   <NA>   8159.889753   43.84   \n",
       "                   US1HIKI0014 -159.5150   <NA>   <NA>  10834.614107   11.26   \n",
       "                   US1HIKI0018 -159.5181   <NA>   <NA>  10950.027151   17.34   \n",
       "                   USC00510006 -159.4333   <NA>   <NA>   1857.479921   35.96   \n",
       "                   USC00510456 -159.4969  False   <NA>   9813.118605   49.06   \n",
       "                   USC00511038 -159.4297  False   <NA>    416.715760    6.44   \n",
       "                   USC00513023 -159.4500   <NA>   <NA>   5822.091067   42.06   \n",
       "                   USC00514746 -159.4667   <NA>   <NA>   3914.260655   39.94   \n",
       "                   USC00515464 -159.5167   <NA>   <NA>  10245.145356   35.55   \n",
       "                   USC00517777 -159.4667   <NA>   <NA>   3445.259016   24.94   \n",
       "                   USC00518217 -159.3964  False   <NA>   3808.269759   42.66   \n",
       "                   USC00518570 -159.4167   <NA>   <NA>   1712.314364   24.06   \n",
       "                   USC00518573 -159.4500   <NA>   <NA>   2533.383680   14.96   \n",
       "        1972-12-17 US1HIKI0004 -159.4983   <NA>   <NA>   8159.889753   43.84   \n",
       "                   US1HIKI0014 -159.5150   <NA>   <NA>  10834.614107   11.26   \n",
       "                   US1HIKI0018 -159.5181   <NA>   <NA>  10950.027151   17.34   \n",
       "                   USC00510006 -159.4333   <NA>   <NA>   1857.479921   35.96   \n",
       "                   USC00510456 -159.4969  False   <NA>   9813.118605   49.06   \n",
       "                   USC00511038 -159.4297  False   <NA>    416.715760    6.44   \n",
       "                   USC00513023 -159.4500   <NA>   <NA>   5822.091067   42.06   \n",
       "                   USC00514746 -159.4667   <NA>   <NA>   3914.260655   39.94   \n",
       "                   USC00515464 -159.5167   <NA>   <NA>  10245.145356   35.55   \n",
       "                   USC00517777 -159.4667   <NA>   <NA>   3445.259016   24.94   \n",
       "                   USC00518217 -159.3964  False   <NA>   3808.269759   42.66   \n",
       "                   USC00518570 -159.4167   <NA>   <NA>   1712.314364   24.06   \n",
       "                   USC00518573 -159.4500  False   <NA>   2533.383680   14.96   \n",
       "        1973-12-16 US1HIKI0004 -159.4983   <NA>   <NA>   8159.889753   43.84   \n",
       "                   US1HIKI0014 -159.5150   <NA>   <NA>  10834.614107   11.26   \n",
       "                   US1HIKI0018 -159.5181   <NA>   <NA>  10950.027151   17.34   \n",
       "                   USC00510006 -159.4333   <NA>   <NA>   1857.479921   35.96   \n",
       "                   USC00510456 -159.4969  False   <NA>   9813.118605   49.06   \n",
       "                   USC00511038 -159.4297  False   <NA>    416.715760    6.44   \n",
       "                   USC00513023 -159.4500   <NA>   <NA>   5822.091067   42.06   \n",
       "                   USC00514746 -159.4667   <NA>   <NA>   3914.260655   39.94   \n",
       "                   USC00515464 -159.5167   <NA>   <NA>  10245.145356   35.55   \n",
       "                   USC00517777 -159.4667   <NA>   <NA>   3445.259016   24.94   \n",
       "                   USC00518217 -159.3964  False   <NA>   3808.269759   42.66   \n",
       "                   USC00518570 -159.4167   <NA>   <NA>   1712.314364   24.06   \n",
       "                   USC00518573 -159.4500  False   <NA>   2533.383680   14.96   \n",
       "        1974-12-15 US1HIKI0004 -159.4983   <NA>   <NA>   8159.889753   43.84   \n",
       "                   US1HIKI0014 -159.5150   <NA>   <NA>  10834.614107   11.26   \n",
       "                   US1HIKI0018 -159.5181   <NA>   <NA>  10950.027151   17.34   \n",
       "                   USC00510006 -159.4333   <NA>   <NA>   1857.479921   35.96   \n",
       "                   USC00510456 -159.4969  False   <NA>   9813.118605   49.06   \n",
       "                   USC00511038 -159.4297  False   <NA>    416.715760    6.44   \n",
       "                   USC00513023 -159.4500   <NA>   <NA>   5822.091067   42.06   \n",
       "                   USC00514746 -159.4667   <NA>   <NA>   3914.260655   39.94   \n",
       "                   USC00515464 -159.5167   <NA>   <NA>  10245.145356   35.55   \n",
       "                   USC00517777 -159.4667   <NA>   <NA>   3445.259016   24.94   \n",
       "\n",
       "                                same_ecosys  same_nlcd  \n",
       "c_id    count_date s_id                                 \n",
       "87ymwsn 1968-12-26 USC00519130         <NA>       <NA>  \n",
       "87ysunb 1971-12-27 US1HIKI0004         <NA>       <NA>  \n",
       "                   US1HIKI0014         <NA>       <NA>  \n",
       "                   US1HIKI0018         <NA>       <NA>  \n",
       "                   USC00510006         <NA>       <NA>  \n",
       "                   USC00510456         <NA>       <NA>  \n",
       "                   USC00511038         <NA>       <NA>  \n",
       "                   USC00513023         <NA>       <NA>  \n",
       "                   USC00514746         <NA>       <NA>  \n",
       "                   USC00515464         <NA>       <NA>  \n",
       "                   USC00517777         <NA>       <NA>  \n",
       "                   USC00518217         <NA>       <NA>  \n",
       "                   USC00518570         <NA>       <NA>  \n",
       "                   USC00518573         <NA>       <NA>  \n",
       "        1972-12-17 US1HIKI0004         <NA>       <NA>  \n",
       "                   US1HIKI0014         <NA>       <NA>  \n",
       "                   US1HIKI0018         <NA>       <NA>  \n",
       "                   USC00510006         <NA>       <NA>  \n",
       "                   USC00510456         <NA>       <NA>  \n",
       "                   USC00511038         <NA>       <NA>  \n",
       "                   USC00513023         <NA>       <NA>  \n",
       "                   USC00514746         <NA>       <NA>  \n",
       "                   USC00515464         <NA>       <NA>  \n",
       "                   USC00517777         <NA>       <NA>  \n",
       "                   USC00518217         <NA>       <NA>  \n",
       "                   USC00518570         <NA>       <NA>  \n",
       "                   USC00518573         <NA>       <NA>  \n",
       "        1973-12-16 US1HIKI0004         <NA>       <NA>  \n",
       "                   US1HIKI0014         <NA>       <NA>  \n",
       "                   US1HIKI0018         <NA>       <NA>  \n",
       "                   USC00510006         <NA>       <NA>  \n",
       "                   USC00510456         <NA>       <NA>  \n",
       "                   USC00511038         <NA>       <NA>  \n",
       "                   USC00513023         <NA>       <NA>  \n",
       "                   USC00514746         <NA>       <NA>  \n",
       "                   USC00515464         <NA>       <NA>  \n",
       "                   USC00517777         <NA>       <NA>  \n",
       "                   USC00518217         <NA>       <NA>  \n",
       "                   USC00518570         <NA>       <NA>  \n",
       "                   USC00518573         <NA>       <NA>  \n",
       "        1974-12-15 US1HIKI0004         <NA>       <NA>  \n",
       "                   US1HIKI0014         <NA>       <NA>  \n",
       "                   US1HIKI0018         <NA>       <NA>  \n",
       "                   USC00510006         <NA>       <NA>  \n",
       "                   USC00510456         <NA>       <NA>  \n",
       "                   USC00511038         <NA>       <NA>  \n",
       "                   USC00513023         <NA>       <NA>  \n",
       "                   USC00514746         <NA>       <NA>  \n",
       "                   USC00515464         <NA>       <NA>  \n",
       "                   USC00517777         <NA>       <NA>  "
      ]
     },
     "execution_count": 35,
     "metadata": {},
     "output_type": "execute_result"
    }
   ],
   "source": [
    "prcp_data.head(50)"
   ]
  },
  {
   "cell_type": "code",
   "execution_count": 36,
   "metadata": {},
   "outputs": [
    {
     "data": {
      "text/plain": [
       "(412105, 13)"
      ]
     },
     "execution_count": 36,
     "metadata": {},
     "output_type": "execute_result"
    }
   ],
   "source": [
    "prcp_data.shape"
   ]
  },
  {
   "cell_type": "markdown",
   "metadata": {},
   "source": [
    "# Snow Analysis"
   ]
  },
  {
   "cell_type": "code",
   "execution_count": 37,
   "metadata": {},
   "outputs": [],
   "source": [
    "g = prcp_data.groupby(level=['c_id', 'count_date'])"
   ]
  },
  {
   "cell_type": "code",
   "execution_count": 38,
   "metadata": {},
   "outputs": [
    {
     "data": {
      "text/html": [
       "<div>\n",
       "<style scoped>\n",
       "    .dataframe tbody tr th:only-of-type {\n",
       "        vertical-align: middle;\n",
       "    }\n",
       "\n",
       "    .dataframe tbody tr th {\n",
       "        vertical-align: top;\n",
       "    }\n",
       "\n",
       "    .dataframe thead th {\n",
       "        text-align: right;\n",
       "    }\n",
       "</style>\n",
       "<table border=\"1\" class=\"dataframe\">\n",
       "  <thead>\n",
       "    <tr style=\"text-align: right;\">\n",
       "      <th></th>\n",
       "      <th></th>\n",
       "      <th></th>\n",
       "      <th>c_name</th>\n",
       "      <th>ui</th>\n",
       "      <th>country_state</th>\n",
       "      <th>c_lat</th>\n",
       "      <th>c_lon</th>\n",
       "      <th>s_lat</th>\n",
       "      <th>s_lon</th>\n",
       "      <th>s_snow</th>\n",
       "      <th>c_snow</th>\n",
       "      <th>distance</th>\n",
       "      <th>d_elev</th>\n",
       "      <th>same_ecosys</th>\n",
       "      <th>same_nlcd</th>\n",
       "    </tr>\n",
       "    <tr>\n",
       "      <th>c_id</th>\n",
       "      <th>count_date</th>\n",
       "      <th>s_id</th>\n",
       "      <th></th>\n",
       "      <th></th>\n",
       "      <th></th>\n",
       "      <th></th>\n",
       "      <th></th>\n",
       "      <th></th>\n",
       "      <th></th>\n",
       "      <th></th>\n",
       "      <th></th>\n",
       "      <th></th>\n",
       "      <th></th>\n",
       "      <th></th>\n",
       "      <th></th>\n",
       "    </tr>\n",
       "  </thead>\n",
       "  <tbody>\n",
       "    <tr>\n",
       "      <th>87ymwsn</th>\n",
       "      <th>1968-12-26</th>\n",
       "      <th>USC00519130</th>\n",
       "      <td>Kaua'i: Waimea</td>\n",
       "      <td>22.0833-159.6667_1969</td>\n",
       "      <td>US-HI</td>\n",
       "      <td>22.083300</td>\n",
       "      <td>-159.666700</td>\n",
       "      <td>22.1167</td>\n",
       "      <td>-159.6167</td>\n",
       "      <td>&lt;NA&gt;</td>\n",
       "      <td>&lt;NA&gt;</td>\n",
       "      <td>6352.278644</td>\n",
       "      <td>36.16</td>\n",
       "      <td>&lt;NA&gt;</td>\n",
       "      <td>&lt;NA&gt;</td>\n",
       "    </tr>\n",
       "    <tr>\n",
       "      <th rowspan=\"4\" valign=\"top\">87ysunb</th>\n",
       "      <th rowspan=\"4\" valign=\"top\">1971-12-27</th>\n",
       "      <th>US1HIKI0004</th>\n",
       "      <td>Kaua'i: Lihu'e</td>\n",
       "      <td>21.9667-159.4333_1972</td>\n",
       "      <td>US-HI</td>\n",
       "      <td>21.966700</td>\n",
       "      <td>-159.433300</td>\n",
       "      <td>21.9249</td>\n",
       "      <td>-159.4983</td>\n",
       "      <td>&lt;NA&gt;</td>\n",
       "      <td>&lt;NA&gt;</td>\n",
       "      <td>8159.889753</td>\n",
       "      <td>43.84</td>\n",
       "      <td>&lt;NA&gt;</td>\n",
       "      <td>&lt;NA&gt;</td>\n",
       "    </tr>\n",
       "    <tr>\n",
       "      <th>US1HIKI0014</th>\n",
       "      <td>Kaua'i: Lihu'e</td>\n",
       "      <td>21.9667-159.4333_1972</td>\n",
       "      <td>US-HI</td>\n",
       "      <td>21.966700</td>\n",
       "      <td>-159.433300</td>\n",
       "      <td>21.9055</td>\n",
       "      <td>-159.5150</td>\n",
       "      <td>&lt;NA&gt;</td>\n",
       "      <td>&lt;NA&gt;</td>\n",
       "      <td>10834.614107</td>\n",
       "      <td>11.26</td>\n",
       "      <td>&lt;NA&gt;</td>\n",
       "      <td>&lt;NA&gt;</td>\n",
       "    </tr>\n",
       "    <tr>\n",
       "      <th>US1HIKI0018</th>\n",
       "      <td>Kaua'i: Lihu'e</td>\n",
       "      <td>21.9667-159.4333_1972</td>\n",
       "      <td>US-HI</td>\n",
       "      <td>21.966700</td>\n",
       "      <td>-159.433300</td>\n",
       "      <td>21.9075</td>\n",
       "      <td>-159.5181</td>\n",
       "      <td>&lt;NA&gt;</td>\n",
       "      <td>&lt;NA&gt;</td>\n",
       "      <td>10950.027151</td>\n",
       "      <td>17.34</td>\n",
       "      <td>&lt;NA&gt;</td>\n",
       "      <td>&lt;NA&gt;</td>\n",
       "    </tr>\n",
       "    <tr>\n",
       "      <th>USC00510006</th>\n",
       "      <td>Kaua'i: Lihu'e</td>\n",
       "      <td>21.9667-159.4333_1972</td>\n",
       "      <td>US-HI</td>\n",
       "      <td>21.966700</td>\n",
       "      <td>-159.433300</td>\n",
       "      <td>21.9500</td>\n",
       "      <td>-159.4333</td>\n",
       "      <td>&lt;NA&gt;</td>\n",
       "      <td>&lt;NA&gt;</td>\n",
       "      <td>1857.479921</td>\n",
       "      <td>35.96</td>\n",
       "      <td>&lt;NA&gt;</td>\n",
       "      <td>&lt;NA&gt;</td>\n",
       "    </tr>\n",
       "    <tr>\n",
       "      <th>...</th>\n",
       "      <th>...</th>\n",
       "      <th>...</th>\n",
       "      <td>...</td>\n",
       "      <td>...</td>\n",
       "      <td>...</td>\n",
       "      <td>...</td>\n",
       "      <td>...</td>\n",
       "      <td>...</td>\n",
       "      <td>...</td>\n",
       "      <td>...</td>\n",
       "      <td>...</td>\n",
       "      <td>...</td>\n",
       "      <td>...</td>\n",
       "      <td>...</td>\n",
       "      <td>...</td>\n",
       "    </tr>\n",
       "    <tr>\n",
       "      <th rowspan=\"5\" valign=\"top\">zcpkrwz</th>\n",
       "      <th>1979-12-18</th>\n",
       "      <th>USW00045702</th>\n",
       "      <td>Amchitka Island</td>\n",
       "      <td>51.409713179.284881_1980</td>\n",
       "      <td>US-AK</td>\n",
       "      <td>51.409713</td>\n",
       "      <td>179.284881</td>\n",
       "      <td>51.3833</td>\n",
       "      <td>179.2500</td>\n",
       "      <td>&lt;NA&gt;</td>\n",
       "      <td>True</td>\n",
       "      <td>3806.612762</td>\n",
       "      <td>NaN</td>\n",
       "      <td>&lt;NA&gt;</td>\n",
       "      <td>&lt;NA&gt;</td>\n",
       "    </tr>\n",
       "    <tr>\n",
       "      <th rowspan=\"2\" valign=\"top\">1992-12-20</th>\n",
       "      <th>USC00500252</th>\n",
       "      <td>Amchitka Island</td>\n",
       "      <td>51.409713179.284881_1993</td>\n",
       "      <td>US-AK</td>\n",
       "      <td>51.409713</td>\n",
       "      <td>179.284881</td>\n",
       "      <td>51.3833</td>\n",
       "      <td>179.2833</td>\n",
       "      <td>False</td>\n",
       "      <td>&lt;NA&gt;</td>\n",
       "      <td>2939.869435</td>\n",
       "      <td>NaN</td>\n",
       "      <td>&lt;NA&gt;</td>\n",
       "      <td>&lt;NA&gt;</td>\n",
       "    </tr>\n",
       "    <tr>\n",
       "      <th>USW00045702</th>\n",
       "      <td>Amchitka Island</td>\n",
       "      <td>51.409713179.284881_1993</td>\n",
       "      <td>US-AK</td>\n",
       "      <td>51.409713</td>\n",
       "      <td>179.284881</td>\n",
       "      <td>51.3833</td>\n",
       "      <td>179.2500</td>\n",
       "      <td>&lt;NA&gt;</td>\n",
       "      <td>&lt;NA&gt;</td>\n",
       "      <td>3806.612762</td>\n",
       "      <td>NaN</td>\n",
       "      <td>&lt;NA&gt;</td>\n",
       "      <td>&lt;NA&gt;</td>\n",
       "    </tr>\n",
       "    <tr>\n",
       "      <th rowspan=\"2\" valign=\"top\">1993-12-28</th>\n",
       "      <th>USC00500252</th>\n",
       "      <td>Amchitka Island</td>\n",
       "      <td>51.409713179.284881_1994</td>\n",
       "      <td>US-AK</td>\n",
       "      <td>51.409713</td>\n",
       "      <td>179.284881</td>\n",
       "      <td>51.3833</td>\n",
       "      <td>179.2833</td>\n",
       "      <td>&lt;NA&gt;</td>\n",
       "      <td>&lt;NA&gt;</td>\n",
       "      <td>2939.869435</td>\n",
       "      <td>NaN</td>\n",
       "      <td>&lt;NA&gt;</td>\n",
       "      <td>&lt;NA&gt;</td>\n",
       "    </tr>\n",
       "    <tr>\n",
       "      <th>USW00045702</th>\n",
       "      <td>Amchitka Island</td>\n",
       "      <td>51.409713179.284881_1994</td>\n",
       "      <td>US-AK</td>\n",
       "      <td>51.409713</td>\n",
       "      <td>179.284881</td>\n",
       "      <td>51.3833</td>\n",
       "      <td>179.2500</td>\n",
       "      <td>&lt;NA&gt;</td>\n",
       "      <td>&lt;NA&gt;</td>\n",
       "      <td>3806.612762</td>\n",
       "      <td>NaN</td>\n",
       "      <td>&lt;NA&gt;</td>\n",
       "      <td>&lt;NA&gt;</td>\n",
       "    </tr>\n",
       "  </tbody>\n",
       "</table>\n",
       "<p>218997 rows × 13 columns</p>\n",
       "</div>"
      ],
      "text/plain": [
       "                                         c_name                        ui  \\\n",
       "c_id    count_date s_id                                                     \n",
       "87ymwsn 1968-12-26 USC00519130   Kaua'i: Waimea     22.0833-159.6667_1969   \n",
       "87ysunb 1971-12-27 US1HIKI0004   Kaua'i: Lihu'e     21.9667-159.4333_1972   \n",
       "                   US1HIKI0014   Kaua'i: Lihu'e     21.9667-159.4333_1972   \n",
       "                   US1HIKI0018   Kaua'i: Lihu'e     21.9667-159.4333_1972   \n",
       "                   USC00510006   Kaua'i: Lihu'e     21.9667-159.4333_1972   \n",
       "...                                         ...                       ...   \n",
       "zcpkrwz 1979-12-18 USW00045702  Amchitka Island  51.409713179.284881_1980   \n",
       "        1992-12-20 USC00500252  Amchitka Island  51.409713179.284881_1993   \n",
       "                   USW00045702  Amchitka Island  51.409713179.284881_1993   \n",
       "        1993-12-28 USC00500252  Amchitka Island  51.409713179.284881_1994   \n",
       "                   USW00045702  Amchitka Island  51.409713179.284881_1994   \n",
       "\n",
       "                               country_state      c_lat       c_lon    s_lat  \\\n",
       "c_id    count_date s_id                                                        \n",
       "87ymwsn 1968-12-26 USC00519130         US-HI  22.083300 -159.666700  22.1167   \n",
       "87ysunb 1971-12-27 US1HIKI0004         US-HI  21.966700 -159.433300  21.9249   \n",
       "                   US1HIKI0014         US-HI  21.966700 -159.433300  21.9055   \n",
       "                   US1HIKI0018         US-HI  21.966700 -159.433300  21.9075   \n",
       "                   USC00510006         US-HI  21.966700 -159.433300  21.9500   \n",
       "...                                      ...        ...         ...      ...   \n",
       "zcpkrwz 1979-12-18 USW00045702         US-AK  51.409713  179.284881  51.3833   \n",
       "        1992-12-20 USC00500252         US-AK  51.409713  179.284881  51.3833   \n",
       "                   USW00045702         US-AK  51.409713  179.284881  51.3833   \n",
       "        1993-12-28 USC00500252         US-AK  51.409713  179.284881  51.3833   \n",
       "                   USW00045702         US-AK  51.409713  179.284881  51.3833   \n",
       "\n",
       "                                   s_lon s_snow c_snow      distance  d_elev  \\\n",
       "c_id    count_date s_id                                                        \n",
       "87ymwsn 1968-12-26 USC00519130 -159.6167   <NA>   <NA>   6352.278644   36.16   \n",
       "87ysunb 1971-12-27 US1HIKI0004 -159.4983   <NA>   <NA>   8159.889753   43.84   \n",
       "                   US1HIKI0014 -159.5150   <NA>   <NA>  10834.614107   11.26   \n",
       "                   US1HIKI0018 -159.5181   <NA>   <NA>  10950.027151   17.34   \n",
       "                   USC00510006 -159.4333   <NA>   <NA>   1857.479921   35.96   \n",
       "...                                  ...    ...    ...           ...     ...   \n",
       "zcpkrwz 1979-12-18 USW00045702  179.2500   <NA>   True   3806.612762     NaN   \n",
       "        1992-12-20 USC00500252  179.2833  False   <NA>   2939.869435     NaN   \n",
       "                   USW00045702  179.2500   <NA>   <NA>   3806.612762     NaN   \n",
       "        1993-12-28 USC00500252  179.2833   <NA>   <NA>   2939.869435     NaN   \n",
       "                   USW00045702  179.2500   <NA>   <NA>   3806.612762     NaN   \n",
       "\n",
       "                                same_ecosys  same_nlcd  \n",
       "c_id    count_date s_id                                 \n",
       "87ymwsn 1968-12-26 USC00519130         <NA>       <NA>  \n",
       "87ysunb 1971-12-27 US1HIKI0004         <NA>       <NA>  \n",
       "                   US1HIKI0014         <NA>       <NA>  \n",
       "                   US1HIKI0018         <NA>       <NA>  \n",
       "                   USC00510006         <NA>       <NA>  \n",
       "...                                     ...        ...  \n",
       "zcpkrwz 1979-12-18 USW00045702         <NA>       <NA>  \n",
       "        1992-12-20 USC00500252         <NA>       <NA>  \n",
       "                   USW00045702         <NA>       <NA>  \n",
       "        1993-12-28 USC00500252         <NA>       <NA>  \n",
       "                   USW00045702         <NA>       <NA>  \n",
       "\n",
       "[218997 rows x 13 columns]"
      ]
     },
     "execution_count": 38,
     "metadata": {},
     "output_type": "execute_result"
    }
   ],
   "source": [
    "g.head()"
   ]
  },
  {
   "cell_type": "code",
   "execution_count": 39,
   "metadata": {},
   "outputs": [],
   "source": [
    "def snow_calc(dfg):\n",
    "    is_na = dfg.s_snow.isna()\n",
    "\n",
    "    # there can be weirdness with boolean not being promoted to ints, so add zero\n",
    "    num = dfg.s_snow.size + 0\n",
    "    num_notna = dfg.s_snow.count() + 0\n",
    "    num_true = dfg.s_snow.sum() + 0\n",
    "    \n",
    "    e = dfg.loc[dfg.same_ecosys, 's_snow']\n",
    "    e_num = e.size + 0\n",
    "    e_num_notna = e.count() + 0\n",
    "    e_num_true = e.sum() + 0\n",
    "    \n",
    "    n = dfg.loc[dfg.same_nlcd, 's_snow']\n",
    "    n_num = n.size + 0\n",
    "    n_num_notna = n.count() + 0\n",
    "    n_num_true = n.sum() + 0\n",
    "    \n",
    "    # havent figured out how to inlinse this yet ...\n",
    "    lowest_id = dfg.d_elev.idxmin() if (num > 0) else np.NaN\n",
    "    lowest_id_na = dfg.loc[~is_na, 'd_elev'].idxmin() if (num_notna > 0) else np.NaN\n",
    "    \n",
    "    return pd.Series({\n",
    "        'num' : num,\n",
    "        'num_notna' : num_notna,\n",
    "        'num_true' : num_true,\n",
    "        \n",
    "        'e_num' : e_num,\n",
    "        'e_num_notna' : e_num_notna,\n",
    "        'e_num_true' : e_num_true,\n",
    "        \n",
    "        'n_num' : n_num,\n",
    "        'n_num_notna' : n_num_notna,\n",
    "        'n_num_true' : n_num_true,\n",
    "\n",
    "        'p' : num_true / num_notna if (num_notna > 0) else np.NaN,\n",
    "        'e_p' : e_num_true / e_num_notna if (e_num_notna > 0) else np.NaN,\n",
    "        'n_p' : n_num_true / n_num_notna if (n_num_notna > 0) else np.NaN,\n",
    "        \n",
    "        'snow_closest' : dfg.loc[dfg.distance.idxmin(), 's_snow'] if (num > 0) else pd.NA,\n",
    "        'snow_closest_notna' : dfg.loc[dfg.loc[~is_na, 'distance'].idxmin(), 's_snow'] if (num_notna > 0) else pd.NA,\n",
    "        \n",
    "        'snow_lowest' : pd.NA if pd.isna(lowest_id) else dfg.loc[lowest_id, 's_snow'],\n",
    "        'snow_lowest_notna' : pd.NA if pd.isna(lowest_id_na) else dfg.loc[lowest_id_na, 's_snow'],\n",
    "    })\n"
   ]
  },
  {
   "cell_type": "markdown",
   "metadata": {},
   "source": [
    "# The new fields used for Analysis\n",
    "num - The number of stations for a circle for a count date\n",
    "\n",
    "num_notna - The number of stations that are not null for their snow measurment \n",
    "\n",
    "num_true - The number of stations that reported true for snow\n",
    "\n",
    "The next sections for \"e_\" and \"n_\" are the same as abouve, except e is only stations for a circle that\n",
    "are in the same ecosystem and n is stations with the same nlcd code.\n",
    "\n",
    "p - The proportion of stations that reported snow for a circle\n",
    "\n"
   ]
  },
  {
   "cell_type": "code",
   "execution_count": 40,
   "metadata": {},
   "outputs": [],
   "source": [
    "# Compute the fields used for Analysis\n",
    "circle_data = g.apply(snow_calc)"
   ]
  },
  {
   "cell_type": "code",
   "execution_count": 41,
   "metadata": {},
   "outputs": [],
   "source": [
    "# Add in the circles details (Name, State, Lat, Lon)\n",
    "circle_data = circle_obs.join(circle_data)"
   ]
  },
  {
   "cell_type": "markdown",
   "metadata": {},
   "source": [
    "# Determine if there is Consensus amoung a Circle's Reference Stations\n",
    "Using the AGREEMENT_THRESHOLD set at the top of the notebook, determine if the there are enough stations for\n",
    "a circle agree that it rained based on that agreement threshold.\n",
    "\n",
    "Do this for all stations and stations within the same ecosys and nlcd code "
   ]
  },
  {
   "cell_type": "code",
   "execution_count": 42,
   "metadata": {},
   "outputs": [],
   "source": [
    "# if the stations couldnt agree (p ∈ [1-AGREEMENT_THRESHOLD, AGREEMENT_THRESHOLD]) or p is NaN, set the consenus to NaN as well\n",
    "circle_data['consensus'] = np.where(((circle_data.p >= (1-AGREEMENT_THRESHOLD)) & (circle_data.p <= AGREEMENT_THRESHOLD)) | circle_data.p.isna(), \n",
    "                                     pd.NA, circle_data.p >= AGREEMENT_THRESHOLD)\n",
    "\n",
    "circle_data['e_consensus'] = np.where(((circle_data.e_p >= (1-AGREEMENT_THRESHOLD)) & (circle_data.e_p <= AGREEMENT_THRESHOLD)) | circle_data.e_p.isna(), \n",
    "                                     pd.NA, circle_data.e_p >= AGREEMENT_THRESHOLD)\n",
    "\n",
    "circle_data['n_consensus'] = np.where(((circle_data.n_p >= (1-AGREEMENT_THRESHOLD)) & (circle_data.n_p <= AGREEMENT_THRESHOLD)) | circle_data.n_p.isna(), \n",
    "                                     pd.NA, circle_data.n_p >= AGREEMENT_THRESHOLD)"
   ]
  },
  {
   "cell_type": "code",
   "execution_count": 43,
   "metadata": {},
   "outputs": [],
   "source": [
    "for c in ['consensus', 'e_consensus', 'n_consensus', 'snow_closest', 'snow_closest_notna', 'snow_lowest', 'snow_lowest_notna']:\n",
    "    circle_data[c] = circle_data[c].astype('boolean')"
   ]
  },
  {
   "cell_type": "code",
   "execution_count": 44,
   "metadata": {},
   "outputs": [
    {
     "data": {
      "text/html": [
       "<div>\n",
       "<style scoped>\n",
       "    .dataframe tbody tr th:only-of-type {\n",
       "        vertical-align: middle;\n",
       "    }\n",
       "\n",
       "    .dataframe tbody tr th {\n",
       "        vertical-align: top;\n",
       "    }\n",
       "\n",
       "    .dataframe thead th {\n",
       "        text-align: right;\n",
       "    }\n",
       "</style>\n",
       "<table border=\"1\" class=\"dataframe\">\n",
       "  <thead>\n",
       "    <tr style=\"text-align: right;\">\n",
       "      <th></th>\n",
       "      <th></th>\n",
       "      <th>c_name</th>\n",
       "      <th>ui</th>\n",
       "      <th>country_state</th>\n",
       "      <th>c_lat</th>\n",
       "      <th>c_lon</th>\n",
       "      <th>c_snow</th>\n",
       "      <th>num</th>\n",
       "      <th>num_notna</th>\n",
       "      <th>num_true</th>\n",
       "      <th>e_num</th>\n",
       "      <th>...</th>\n",
       "      <th>p</th>\n",
       "      <th>e_p</th>\n",
       "      <th>n_p</th>\n",
       "      <th>snow_closest</th>\n",
       "      <th>snow_closest_notna</th>\n",
       "      <th>snow_lowest</th>\n",
       "      <th>snow_lowest_notna</th>\n",
       "      <th>consensus</th>\n",
       "      <th>e_consensus</th>\n",
       "      <th>n_consensus</th>\n",
       "    </tr>\n",
       "    <tr>\n",
       "      <th>c_id</th>\n",
       "      <th>count_date</th>\n",
       "      <th></th>\n",
       "      <th></th>\n",
       "      <th></th>\n",
       "      <th></th>\n",
       "      <th></th>\n",
       "      <th></th>\n",
       "      <th></th>\n",
       "      <th></th>\n",
       "      <th></th>\n",
       "      <th></th>\n",
       "      <th></th>\n",
       "      <th></th>\n",
       "      <th></th>\n",
       "      <th></th>\n",
       "      <th></th>\n",
       "      <th></th>\n",
       "      <th></th>\n",
       "      <th></th>\n",
       "      <th></th>\n",
       "      <th></th>\n",
       "      <th></th>\n",
       "    </tr>\n",
       "  </thead>\n",
       "  <tbody>\n",
       "    <tr>\n",
       "      <th>87ymwsn</th>\n",
       "      <th>1968-12-26</th>\n",
       "      <td>Kaua'i: Waimea</td>\n",
       "      <td>22.0833-159.6667_1969</td>\n",
       "      <td>US-HI</td>\n",
       "      <td>22.0833</td>\n",
       "      <td>-159.6667</td>\n",
       "      <td>NaN</td>\n",
       "      <td>1</td>\n",
       "      <td>0</td>\n",
       "      <td>0</td>\n",
       "      <td>0</td>\n",
       "      <td>...</td>\n",
       "      <td>NaN</td>\n",
       "      <td>NaN</td>\n",
       "      <td>NaN</td>\n",
       "      <td>&lt;NA&gt;</td>\n",
       "      <td>&lt;NA&gt;</td>\n",
       "      <td>&lt;NA&gt;</td>\n",
       "      <td>&lt;NA&gt;</td>\n",
       "      <td>&lt;NA&gt;</td>\n",
       "      <td>&lt;NA&gt;</td>\n",
       "      <td>&lt;NA&gt;</td>\n",
       "    </tr>\n",
       "    <tr>\n",
       "      <th rowspan=\"4\" valign=\"top\">87ysunb</th>\n",
       "      <th>1971-12-27</th>\n",
       "      <td>Kaua'i: Lihu'e</td>\n",
       "      <td>21.9667-159.4333_1972</td>\n",
       "      <td>US-HI</td>\n",
       "      <td>21.9667</td>\n",
       "      <td>-159.4333</td>\n",
       "      <td>NaN</td>\n",
       "      <td>13</td>\n",
       "      <td>3</td>\n",
       "      <td>0</td>\n",
       "      <td>0</td>\n",
       "      <td>...</td>\n",
       "      <td>0.0</td>\n",
       "      <td>NaN</td>\n",
       "      <td>NaN</td>\n",
       "      <td>False</td>\n",
       "      <td>False</td>\n",
       "      <td>False</td>\n",
       "      <td>False</td>\n",
       "      <td>False</td>\n",
       "      <td>&lt;NA&gt;</td>\n",
       "      <td>&lt;NA&gt;</td>\n",
       "    </tr>\n",
       "    <tr>\n",
       "      <th>1972-12-17</th>\n",
       "      <td>Kaua'i: Lihu'e</td>\n",
       "      <td>21.9667-159.4333_1973</td>\n",
       "      <td>US-HI</td>\n",
       "      <td>21.9667</td>\n",
       "      <td>-159.4333</td>\n",
       "      <td>NaN</td>\n",
       "      <td>13</td>\n",
       "      <td>4</td>\n",
       "      <td>0</td>\n",
       "      <td>0</td>\n",
       "      <td>...</td>\n",
       "      <td>0.0</td>\n",
       "      <td>NaN</td>\n",
       "      <td>NaN</td>\n",
       "      <td>False</td>\n",
       "      <td>False</td>\n",
       "      <td>False</td>\n",
       "      <td>False</td>\n",
       "      <td>False</td>\n",
       "      <td>&lt;NA&gt;</td>\n",
       "      <td>&lt;NA&gt;</td>\n",
       "    </tr>\n",
       "    <tr>\n",
       "      <th>1973-12-16</th>\n",
       "      <td>Kaua'i: Lihu'e</td>\n",
       "      <td>21.9667-159.4333_1974</td>\n",
       "      <td>US-HI</td>\n",
       "      <td>21.9667</td>\n",
       "      <td>-159.4333</td>\n",
       "      <td>NaN</td>\n",
       "      <td>13</td>\n",
       "      <td>4</td>\n",
       "      <td>0</td>\n",
       "      <td>0</td>\n",
       "      <td>...</td>\n",
       "      <td>0.0</td>\n",
       "      <td>NaN</td>\n",
       "      <td>NaN</td>\n",
       "      <td>False</td>\n",
       "      <td>False</td>\n",
       "      <td>False</td>\n",
       "      <td>False</td>\n",
       "      <td>False</td>\n",
       "      <td>&lt;NA&gt;</td>\n",
       "      <td>&lt;NA&gt;</td>\n",
       "    </tr>\n",
       "    <tr>\n",
       "      <th>1974-12-15</th>\n",
       "      <td>Kaua'i: Lihu'e</td>\n",
       "      <td>21.9667-159.4333_1975</td>\n",
       "      <td>US-HI</td>\n",
       "      <td>21.9667</td>\n",
       "      <td>-159.4333</td>\n",
       "      <td>NaN</td>\n",
       "      <td>13</td>\n",
       "      <td>3</td>\n",
       "      <td>0</td>\n",
       "      <td>0</td>\n",
       "      <td>...</td>\n",
       "      <td>0.0</td>\n",
       "      <td>NaN</td>\n",
       "      <td>NaN</td>\n",
       "      <td>False</td>\n",
       "      <td>False</td>\n",
       "      <td>False</td>\n",
       "      <td>False</td>\n",
       "      <td>False</td>\n",
       "      <td>&lt;NA&gt;</td>\n",
       "      <td>&lt;NA&gt;</td>\n",
       "    </tr>\n",
       "  </tbody>\n",
       "</table>\n",
       "<p>5 rows × 25 columns</p>\n",
       "</div>"
      ],
      "text/plain": [
       "                            c_name                     ui country_state  \\\n",
       "c_id    count_date                                                        \n",
       "87ymwsn 1968-12-26  Kaua'i: Waimea  22.0833-159.6667_1969         US-HI   \n",
       "87ysunb 1971-12-27  Kaua'i: Lihu'e  21.9667-159.4333_1972         US-HI   \n",
       "        1972-12-17  Kaua'i: Lihu'e  21.9667-159.4333_1973         US-HI   \n",
       "        1973-12-16  Kaua'i: Lihu'e  21.9667-159.4333_1974         US-HI   \n",
       "        1974-12-15  Kaua'i: Lihu'e  21.9667-159.4333_1975         US-HI   \n",
       "\n",
       "                      c_lat     c_lon c_snow  num  num_notna  num_true  e_num  \\\n",
       "c_id    count_date                                                              \n",
       "87ymwsn 1968-12-26  22.0833 -159.6667    NaN    1          0         0      0   \n",
       "87ysunb 1971-12-27  21.9667 -159.4333    NaN   13          3         0      0   \n",
       "        1972-12-17  21.9667 -159.4333    NaN   13          4         0      0   \n",
       "        1973-12-16  21.9667 -159.4333    NaN   13          4         0      0   \n",
       "        1974-12-15  21.9667 -159.4333    NaN   13          3         0      0   \n",
       "\n",
       "                    ...    p  e_p  n_p  snow_closest  snow_closest_notna  \\\n",
       "c_id    count_date  ...                                                    \n",
       "87ymwsn 1968-12-26  ...  NaN  NaN  NaN          <NA>                <NA>   \n",
       "87ysunb 1971-12-27  ...  0.0  NaN  NaN         False               False   \n",
       "        1972-12-17  ...  0.0  NaN  NaN         False               False   \n",
       "        1973-12-16  ...  0.0  NaN  NaN         False               False   \n",
       "        1974-12-15  ...  0.0  NaN  NaN         False               False   \n",
       "\n",
       "                    snow_lowest  snow_lowest_notna  consensus  e_consensus  \\\n",
       "c_id    count_date                                                           \n",
       "87ymwsn 1968-12-26         <NA>               <NA>       <NA>         <NA>   \n",
       "87ysunb 1971-12-27        False              False      False         <NA>   \n",
       "        1972-12-17        False              False      False         <NA>   \n",
       "        1973-12-16        False              False      False         <NA>   \n",
       "        1974-12-15        False              False      False         <NA>   \n",
       "\n",
       "                    n_consensus  \n",
       "c_id    count_date               \n",
       "87ymwsn 1968-12-26         <NA>  \n",
       "87ysunb 1971-12-27         <NA>  \n",
       "        1972-12-17         <NA>  \n",
       "        1973-12-16         <NA>  \n",
       "        1974-12-15         <NA>  \n",
       "\n",
       "[5 rows x 25 columns]"
      ]
     },
     "execution_count": 44,
     "metadata": {},
     "output_type": "execute_result"
    }
   ],
   "source": [
    "circle_data.head()"
   ]
  },
  {
   "cell_type": "code",
   "execution_count": 45,
   "metadata": {},
   "outputs": [
    {
     "data": {
      "text/plain": [
       "68390"
      ]
     },
     "execution_count": 45,
     "metadata": {},
     "output_type": "execute_result"
    }
   ],
   "source": [
    "# Count the number of circles we have \n",
    "circle_data['ui'].nunique()"
   ]
  },
  {
   "cell_type": "markdown",
   "metadata": {},
   "source": [
    "# Analysis\n",
    "## First examine the top level stats."
   ]
  },
  {
   "cell_type": "markdown",
   "metadata": {},
   "source": [
    "### The number of stations per circle"
   ]
  },
  {
   "cell_type": "code",
   "execution_count": 46,
   "metadata": {},
   "outputs": [
    {
     "data": {
      "text/plain": [
       "count    68390.000000\n",
       "mean         6.025808\n",
       "std          7.684488\n",
       "min          1.000000\n",
       "25%          1.000000\n",
       "50%          3.000000\n",
       "75%          8.000000\n",
       "max        101.000000\n",
       "Name: num, dtype: float64"
      ]
     },
     "execution_count": 46,
     "metadata": {},
     "output_type": "execute_result"
    }
   ],
   "source": [
    "circle_data.num.describe()"
   ]
  },
  {
   "cell_type": "code",
   "execution_count": 47,
   "metadata": {},
   "outputs": [
    {
     "data": {
      "text/plain": [
       "Text(0.5, 0, 'number of stations')"
      ]
     },
     "execution_count": 47,
     "metadata": {},
     "output_type": "execute_result"
    },
    {
     "name": "stderr",
     "output_type": "stream",
     "text": [
      "2020-09-01 20:26:53,846 findfont: Matching sans\\-serif:style=normal:variant=normal:weight=normal:stretch=normal:size=11.0.\n",
      "2020-09-01 20:26:53,850 findfont: score(<Font 'DejaVu Sans Display' (DejaVuSansDisplay.ttf) normal normal 400 normal>) = 10.05\n",
      "2020-09-01 20:26:53,852 findfont: score(<Font 'STIXGeneral' (STIXGeneral.ttf) normal normal regular normal>) = 10.05\n",
      "2020-09-01 20:26:53,856 findfont: score(<Font 'DejaVu Sans' (DejaVuSans.ttf) normal normal 400 normal>) = 2.05\n",
      "2020-09-01 20:26:53,870 findfont: score(<Font 'STIXNonUnicode' (STIXNonUniIta.ttf) italic normal 400 normal>) = 11.05\n",
      "2020-09-01 20:26:53,871 findfont: score(<Font 'STIXGeneral' (STIXGeneralItalic.ttf) italic normal 400 normal>) = 11.05\n",
      "2020-09-01 20:26:53,881 findfont: score(<Font 'DejaVu Sans' (DejaVuSans-Oblique.ttf) oblique normal 400 normal>) = 3.05\n",
      "2020-09-01 20:26:53,889 findfont: score(<Font 'DejaVu Serif' (DejaVuSerif-BoldItalic.ttf) italic normal 700 normal>) = 11.335\n",
      "2020-09-01 20:26:53,898 findfont: score(<Font 'STIXSizeThreeSym' (STIXSizThreeSymReg.ttf) normal normal regular normal>) = 10.05\n",
      "2020-09-01 20:26:53,899 findfont: score(<Font 'DejaVu Serif' (DejaVuSerif-Bold.ttf) normal normal 700 normal>) = 10.335\n",
      "2020-09-01 20:26:53,904 findfont: score(<Font 'cmmi10' (cmmi10.ttf) normal normal 400 normal>) = 10.05\n",
      "2020-09-01 20:26:53,910 findfont: score(<Font 'STIXNonUnicode' (STIXNonUniBol.ttf) normal normal 700 normal>) = 10.335\n",
      "2020-09-01 20:26:53,911 findfont: score(<Font 'DejaVu Sans Mono' (DejaVuSansMono.ttf) normal normal 400 normal>) = 10.05\n",
      "2020-09-01 20:26:53,918 findfont: score(<Font 'DejaVu Sans Mono' (DejaVuSansMono-Oblique.ttf) oblique normal 400 normal>) = 11.05\n",
      "2020-09-01 20:26:53,922 findfont: score(<Font 'DejaVu Serif' (DejaVuSerif.ttf) normal normal 400 normal>) = 10.05\n",
      "2020-09-01 20:26:53,923 findfont: score(<Font 'STIXNonUnicode' (STIXNonUni.ttf) normal normal regular normal>) = 10.05\n",
      "2020-09-01 20:26:53,926 findfont: score(<Font 'STIXSizeFourSym' (STIXSizFourSymBol.ttf) normal normal 700 normal>) = 10.335\n",
      "2020-09-01 20:26:53,927 findfont: score(<Font 'STIXSizeTwoSym' (STIXSizTwoSymReg.ttf) normal normal regular normal>) = 10.05\n",
      "2020-09-01 20:26:53,928 findfont: score(<Font 'cmex10' (cmex10.ttf) normal normal 400 normal>) = 10.05\n",
      "2020-09-01 20:26:53,931 findfont: score(<Font 'STIXGeneral' (STIXGeneralBol.ttf) normal normal 700 normal>) = 10.335\n",
      "2020-09-01 20:26:53,934 findfont: score(<Font 'STIXNonUnicode' (STIXNonUniBolIta.ttf) italic normal 700 normal>) = 11.335\n",
      "2020-09-01 20:26:53,935 findfont: score(<Font 'STIXSizeFourSym' (STIXSizFourSymReg.ttf) normal normal regular normal>) = 10.05\n",
      "2020-09-01 20:26:53,936 findfont: score(<Font 'cmss10' (cmss10.ttf) normal normal 400 normal>) = 10.05\n",
      "2020-09-01 20:26:53,937 findfont: score(<Font 'STIXSizeOneSym' (STIXSizOneSymBol.ttf) normal normal 700 normal>) = 10.335\n",
      "2020-09-01 20:26:53,940 findfont: score(<Font 'STIXSizeThreeSym' (STIXSizThreeSymBol.ttf) normal normal 700 normal>) = 10.335\n",
      "2020-09-01 20:26:53,941 findfont: score(<Font 'cmtt10' (cmtt10.ttf) normal normal 400 normal>) = 10.05\n",
      "2020-09-01 20:26:53,943 findfont: score(<Font 'cmb10' (cmb10.ttf) normal normal 400 normal>) = 10.05\n",
      "2020-09-01 20:26:53,944 findfont: score(<Font 'DejaVu Sans Mono' (DejaVuSansMono-BoldOblique.ttf) oblique normal 700 normal>) = 11.335\n",
      "2020-09-01 20:26:53,947 findfont: score(<Font 'DejaVu Sans' (DejaVuSans-BoldOblique.ttf) oblique normal 700 normal>) = 3.335\n",
      "2020-09-01 20:26:53,950 findfont: score(<Font 'STIXGeneral' (STIXGeneralBolIta.ttf) italic normal 700 normal>) = 11.335\n",
      "2020-09-01 20:26:53,951 findfont: score(<Font 'STIXSizeOneSym' (STIXSizOneSymReg.ttf) normal normal regular normal>) = 10.05\n",
      "2020-09-01 20:26:53,953 findfont: score(<Font 'STIXSizeFiveSym' (STIXSizFiveSymReg.ttf) normal normal regular normal>) = 10.05\n",
      "2020-09-01 20:26:53,955 findfont: score(<Font 'DejaVu Sans' (DejaVuSans-Bold.ttf) normal normal 700 normal>) = 2.335\n",
      "2020-09-01 20:26:53,957 findfont: score(<Font 'DejaVu Serif Display' (DejaVuSerifDisplay.ttf) normal normal 400 normal>) = 10.05\n",
      "2020-09-01 20:26:53,958 findfont: score(<Font 'cmr10' (cmr10.ttf) normal normal 400 normal>) = 10.05\n",
      "2020-09-01 20:26:53,960 findfont: score(<Font 'DejaVu Sans Mono' (DejaVuSansMono-Bold.ttf) normal normal 700 normal>) = 10.335\n",
      "2020-09-01 20:26:53,961 findfont: score(<Font 'STIXSizeTwoSym' (STIXSizTwoSymBol.ttf) normal normal 700 normal>) = 10.335\n",
      "2020-09-01 20:26:53,962 findfont: score(<Font 'cmsy10' (cmsy10.ttf) normal normal 400 normal>) = 10.05\n",
      "2020-09-01 20:26:53,964 findfont: score(<Font 'DejaVu Serif' (DejaVuSerif-Italic.ttf) italic normal 400 normal>) = 11.05\n",
      "2020-09-01 20:26:53,968 findfont: score(<Font 'Estrangelo Antioch' (SyrCOMAntioch.otf) normal normal 400 normal>) = 10.05\n",
      "2020-09-01 20:26:53,970 findfont: score(<Font 'STIXIntegralsSm' (STIXIntSmReg.otf) normal normal regular normal>) = 10.05\n",
      "2020-09-01 20:26:53,972 findfont: score(<Font 'Rockwell' (Rockwell.ttc) normal normal 400 normal>) = 10.05\n",
      "2020-09-01 20:26:53,974 findfont: score(<Font 'Phosphate' (Phosphate.ttc) normal normal 400 normal>) = 10.05\n",
      "2020-09-01 20:26:53,977 findfont: score(<Font 'STIXSizeFiveSym' (STIXSizFiveSymReg.otf) normal normal regular normal>) = 10.05\n",
      "2020-09-01 20:26:53,978 findfont: score(<Font 'STIXSizeOneSym' (STIXSizOneSymReg.otf) normal normal regular normal>) = 10.05\n",
      "2020-09-01 20:26:53,980 findfont: score(<Font 'Hiragino Sans' (ヒラギノ角ゴシック W2.ttc) normal normal 400 normal>) = 10.05\n",
      "2020-09-01 20:26:53,981 findfont: score(<Font 'System Font' (SFNS.ttf) normal normal 400 normal>) = 10.05\n",
      "2020-09-01 20:26:53,982 findfont: score(<Font 'Noto Sans Bamum' (NotoSansBamum-Regular.ttf) normal normal regular normal>) = 10.05\n",
      "2020-09-01 20:26:53,984 findfont: score(<Font '.SF NS Text Condensed' (SFNSTextCondensed-Heavy.otf) normal normal heavy condensed>) = 10.629999999999999\n",
      "2020-09-01 20:26:53,987 findfont: score(<Font 'Hiragino Sans' (ヒラギノ角ゴシック W9.ttc) normal normal 700 normal>) = 10.335\n",
      "2020-09-01 20:26:53,991 findfont: score(<Font 'Hiragino Sans' (ヒラギノ角ゴシック W1.ttc) normal normal 400 normal>) = 10.05\n",
      "2020-09-01 20:26:53,993 findfont: score(<Font 'Noto Sans Saurashtra' (NotoSansSaurashtra-Regular.ttf) normal normal regular normal>) = 10.05\n",
      "2020-09-01 20:26:53,995 findfont: score(<Font 'Arial Narrow' (Arial Narrow.ttf) normal normal 400 condensed>) = 10.25\n",
      "2020-09-01 20:26:54,007 findfont: score(<Font 'Luxi Mono' (luximbi.ttf) oblique normal 700 normal>) = 11.335\n",
      "2020-09-01 20:26:54,010 findfont: score(<Font 'Serto Kharput' (SyrCOMKharput.otf) normal normal 400 normal>) = 10.05\n",
      "2020-09-01 20:26:54,014 findfont: score(<Font 'Noto Sans Egyptian Hieroglyphs' (NotoSansEgyptianHieroglyphs-Regular.ttf) normal normal regular normal>) = 10.05\n",
      "2020-09-01 20:26:54,016 findfont: score(<Font 'Bitstream Vera Sans' (VeraIt.ttf) oblique normal 400 normal>) = 7.05\n",
      "2020-09-01 20:26:54,020 findfont: score(<Font 'East Syriac Adiabene' (SyrCOMAdiabene.otf) normal normal 400 normal>) = 10.05\n",
      "2020-09-01 20:26:54,021 findfont: score(<Font 'Kefa' (Kefa.ttc) normal normal regular normal>) = 10.05\n",
      "2020-09-01 20:26:54,023 findfont: score(<Font 'Serto Malankara' (SyrCOMMalankara.otf) normal normal 400 normal>) = 10.05\n",
      "2020-09-01 20:26:54,024 findfont: score(<Font 'Luxi Serif' (luxirbi.ttf) oblique normal 700 normal>) = 11.335\n",
      "2020-09-01 20:26:54,025 findfont: score(<Font 'Bitstream Vera Serif' (VeraSeBd.ttf) normal normal 700 normal>) = 10.335\n",
      "2020-09-01 20:26:54,028 findfont: score(<Font 'Kohinoor Devanagari' (Kohinoor.ttc) normal normal regular normal>) = 10.05\n",
      "2020-09-01 20:26:54,029 findfont: score(<Font '.SF NS Display Condensed' (SFNSDisplayCondensed-Bold.otf) normal normal bold condensed>) = 10.535\n",
      "2020-09-01 20:26:54,033 findfont: score(<Font 'Verdana' (Verdana Bold Italic.ttf) italic normal 700 normal>) = 11.335\n",
      "2020-09-01 20:26:54,041 findfont: score(<Font 'Tahoma' (Tahoma Bold.ttf) normal normal 700 normal>) = 10.335\n",
      "2020-09-01 20:26:54,043 findfont: score(<Font 'Verdana' (Verdana.ttf) normal normal 400 normal>) = 10.05\n",
      "2020-09-01 20:26:54,047 findfont: score(<Font 'Gurmukhi Sangam MN' (Gurmukhi Sangam MN.ttc) normal normal 400 normal>) = 10.05\n",
      "2020-09-01 20:26:54,050 findfont: score(<Font 'Kannada Sangam MN' (Kannada Sangam MN.ttc) normal normal 400 normal>) = 10.05\n",
      "2020-09-01 20:26:54,056 findfont: score(<Font 'Bradley Hand' (Bradley Hand Bold.ttf) normal normal bold normal>) = 10.335\n",
      "2020-09-01 20:26:54,059 findfont: score(<Font 'Arial Narrow' (Arial Narrow Italic.ttf) italic normal 400 condensed>) = 11.25\n",
      "2020-09-01 20:26:54,065 findfont: score(<Font 'Comic Sans MS' (Comic Sans MS.ttf) normal normal 400 normal>) = 10.05\n",
      "2020-09-01 20:26:54,068 findfont: score(<Font 'Noto Sans Lepcha' (NotoSansLepcha-Regular.ttf) normal normal regular normal>) = 10.05\n",
      "2020-09-01 20:26:54,073 findfont: score(<Font 'Noto Sans Old Persian' (NotoSansOldPersian-Regular.ttf) normal normal regular normal>) = 10.05\n",
      "2020-09-01 20:26:54,080 findfont: score(<Font 'Apple Braille' (Apple Braille Outline 8 Dot.ttf) normal normal 400 normal>) = 10.05\n",
      "2020-09-01 20:26:54,086 findfont: score(<Font 'Marker Felt' (MarkerFelt.ttc) normal normal 400 normal>) = 10.05\n",
      "2020-09-01 20:26:54,090 findfont: score(<Font 'Raanana' (Raanana.ttc) normal normal 400 normal>) = 10.05\n",
      "2020-09-01 20:26:54,094 findfont: score(<Font 'Ayuthaya' (Ayuthaya.ttf) normal normal 400 normal>) = 10.05\n",
      "2020-09-01 20:26:54,098 findfont: score(<Font 'Hoefler Text' (Hoefler Text.ttc) normal normal 400 normal>) = 10.05\n",
      "2020-09-01 20:26:54,102 findfont: score(<Font '.SF NS Display Condensed' (SFNSDisplayCondensed-Light.otf) normal normal light condensed>) = 10.44\n",
      "2020-09-01 20:26:54,106 findfont: score(<Font 'Krungthep' (Krungthep.ttf) normal normal 400 normal>) = 10.05\n",
      "2020-09-01 20:26:54,109 findfont: score(<Font 'Serto Urhoy' (SyrCOMUrhoyBold.otf) normal normal 700 normal>) = 10.335\n",
      "2020-09-01 20:26:54,112 findfont: score(<Font 'Futura' (Futura.ttc) normal normal medium normal>) = 10.145\n",
      "2020-09-01 20:26:54,117 findfont: score(<Font 'Arial' (Arial Bold.ttf) normal normal 700 normal>) = 0.33499999999999996\n",
      "2020-09-01 20:26:54,120 findfont: score(<Font 'Noto Sans Sundanese' (NotoSansSundanese-Regular.ttf) normal normal regular normal>) = 10.05\n",
      "2020-09-01 20:26:54,123 findfont: score(<Font 'System Font' (SFNSItalic.ttf) italic normal regular normal>) = 11.05\n",
      "2020-09-01 20:26:54,127 findfont: score(<Font 'Songti SC' (Songti.ttc) normal normal black normal>) = 10.525\n",
      "2020-09-01 20:26:54,134 findfont: score(<Font 'Vecna' (Vecna-oppx.ttf) normal normal 400 normal>) = 10.05\n",
      "2020-09-01 20:26:54,137 findfont: score(<Font 'Noto Sans Chakma' (NotoSansChakma-Regular.ttf) normal normal regular normal>) = 10.05\n",
      "2020-09-01 20:26:54,140 findfont: score(<Font 'East Syriac Ctesiphon' (SyrCOMCtesiphon.otf) normal normal 400 normal>) = 10.05\n",
      "2020-09-01 20:26:54,144 findfont: score(<Font 'Times New Roman' (Times New Roman Bold Italic.ttf) italic normal 700 normal>) = 11.335\n",
      "2020-09-01 20:26:54,147 findfont: score(<Font 'Noto Sans Samaritan' (NotoSansSamaritan-Regular.ttf) normal normal regular normal>) = 10.05\n",
      "2020-09-01 20:26:54,152 findfont: score(<Font 'Hiragino Maru Gothic Pro' (ヒラギノ丸ゴ ProN W4.ttc) normal normal 400 normal>) = 10.05\n",
      "2020-09-01 20:26:54,157 findfont: score(<Font 'Athelas' (Athelas.ttc) normal normal regular normal>) = 10.05\n",
      "2020-09-01 20:26:54,162 findfont: score(<Font 'Noto Sans Hanunoo' (NotoSansHanunoo-Regular.ttf) normal normal regular normal>) = 10.05\n",
      "2020-09-01 20:26:54,164 findfont: score(<Font 'Seravek' (Seravek.ttc) normal normal 400 normal>) = 10.05\n",
      "2020-09-01 20:26:54,167 findfont: score(<Font 'DIN Alternate' (DIN Alternate Bold.ttf) normal normal 700 normal>) = 10.335\n",
      "2020-09-01 20:26:54,170 findfont: score(<Font 'STIXIntegralsUp' (STIXIntUpBol.otf) normal normal 700 normal>) = 10.335\n",
      "2020-09-01 20:26:54,172 findfont: score(<Font 'Noto Sans Gothic' (NotoSansGothic-Regular.ttf) normal normal regular normal>) = 10.05\n",
      "2020-09-01 20:26:54,177 findfont: score(<Font 'Times New Roman' (Times New Roman.ttf) normal normal roman normal>) = 10.145\n",
      "2020-09-01 20:26:54,182 findfont: score(<Font 'Charter' (Charter.ttc) normal normal roman normal>) = 10.145\n",
      "2020-09-01 20:26:54,184 findfont: score(<Font 'Papyrus' (Papyrus.ttc) normal normal 400 condensed>) = 10.25\n",
      "2020-09-01 20:26:54,187 findfont: score(<Font 'Estrangelo TurAbdin' (SyrCOMTurAbdin.otf) normal normal 400 normal>) = 10.05\n",
      "2020-09-01 20:26:54,189 findfont: score(<Font 'STIXVariants' (STIXVarBol.otf) normal normal 700 normal>) = 10.335\n",
      "2020-09-01 20:26:54,191 findfont: score(<Font '.SF NS Display Condensed' (SFNSDisplayCondensed-Black.otf) normal normal black condensed>) = 10.725\n",
      "2020-09-01 20:26:54,194 findfont: score(<Font 'Hiragino Sans' (ヒラギノ角ゴシック W7.ttc) normal normal 700 normal>) = 10.335\n",
      "2020-09-01 20:26:54,198 findfont: score(<Font 'Apple Chancery' (Apple Chancery.ttf) normal normal 400 normal>) = 10.05\n",
      "2020-09-01 20:26:54,203 findfont: score(<Font 'Noto Sans Kharoshthi' (NotoSansKharoshthi-Regular.ttf) normal normal regular normal>) = 10.05\n",
      "2020-09-01 20:26:54,206 findfont: score(<Font 'Noto Sans Cypriot' (NotoSansCypriot-Regular.ttf) normal normal regular normal>) = 10.05\n",
      "2020-09-01 20:26:54,209 findfont: score(<Font 'Noto Sans Armenian' (NotoSansArmenian.ttc) normal normal black normal>) = 10.525\n",
      "2020-09-01 20:26:54,212 findfont: score(<Font 'Noto Sans Syloti Nagri' (NotoSansSylotiNagri-Regular.ttf) normal normal regular normal>) = 10.05\n",
      "2020-09-01 20:26:54,216 findfont: score(<Font 'Bitstream Vera Sans Mono' (VeraMoBI.ttf) oblique normal 700 normal>) = 11.335\n",
      "2020-09-01 20:26:54,219 findfont: score(<Font 'Silom' (Silom.ttf) normal normal 400 normal>) = 10.05\n",
      "2020-09-01 20:26:54,221 findfont: score(<Font 'Estrangelo Nisibin' (SyrCOMNisibin.otf) normal normal 400 normal>) = 10.05\n",
      "2020-09-01 20:26:54,224 findfont: score(<Font 'Oriya MN' (Oriya MN.ttc) normal normal 400 normal>) = 10.05\n",
      "2020-09-01 20:26:54,229 findfont: score(<Font 'Luxi Mono' (luximr.ttf) normal normal regular normal>) = 10.05\n",
      "2020-09-01 20:26:54,231 findfont: score(<Font 'Helvetica Neue' (HelveticaNeue.ttc) normal normal 400 normal>) = 10.05\n",
      "2020-09-01 20:26:54,235 findfont: score(<Font 'DIN Condensed' (DIN Condensed Bold.ttf) normal normal 700 condensed>) = 10.535\n",
      "2020-09-01 20:26:54,237 findfont: score(<Font 'Trebuchet MS' (Trebuchet MS Bold Italic.ttf) italic normal 700 normal>) = 11.335\n",
      "2020-09-01 20:26:54,242 findfont: score(<Font 'Estrangelo Edessa' (SyrCOMEdessa.otf) normal normal 400 normal>) = 10.05\n",
      "2020-09-01 20:26:54,245 findfont: score(<Font 'Sukhumvit Set' (SukhumvitSet.ttc) normal normal 400 normal>) = 10.05\n",
      "2020-09-01 20:26:54,253 findfont: score(<Font 'Noto Sans Mandaic' (NotoSansMandaic-Regular.ttf) normal normal regular normal>) = 10.05\n",
      "2020-09-01 20:26:54,259 findfont: score(<Font 'Noto Sans Ogham' (NotoSansOgham-Regular.ttf) normal normal regular normal>) = 10.05\n",
      "2020-09-01 20:26:54,261 findfont: score(<Font 'Gurmukhi MN' (Gurmukhi MN.ttc) normal normal 400 normal>) = 10.05\n",
      "2020-09-01 20:26:54,265 findfont: score(<Font 'Bitstream Vera Serif' (VeraSe.ttf) normal normal 400 normal>) = 10.05\n",
      "2020-09-01 20:26:54,268 findfont: score(<Font 'Noto Sans Linear B' (NotoSansLinearB-Regular.ttf) normal normal regular normal>) = 10.05\n",
      "2020-09-01 20:26:54,275 findfont: score(<Font 'STIXNonUnicode' (STIXNonUni.otf) normal normal regular normal>) = 10.05\n",
      "2020-09-01 20:26:54,278 findfont: score(<Font 'Tamil MN' (Tamil MN.ttc) normal normal 400 normal>) = 10.05\n",
      "2020-09-01 20:26:54,284 findfont: score(<Font 'Telugu Sangam MN' (Telugu Sangam MN.ttc) normal normal 400 normal>) = 10.05\n",
      "2020-09-01 20:26:54,286 findfont: score(<Font 'Devanagari Sangam MN' (Devanagari Sangam MN.ttc) normal normal 400 normal>) = 10.05\n",
      "2020-09-01 20:26:54,289 findfont: score(<Font 'KufiStandardGK' (KufiStandardGK.ttc) normal normal regular normal>) = 10.05\n",
      "2020-09-01 20:26:54,291 findfont: score(<Font 'Hiragino Sans' (ヒラギノ角ゴシック W8.ttc) normal normal 700 normal>) = 10.335\n",
      "2020-09-01 20:26:54,293 findfont: score(<Font 'STIXNonUnicode' (STIXNonUniBol.otf) normal normal 700 normal>) = 10.335\n",
      "2020-09-01 20:26:54,295 findfont: score(<Font 'PT Serif' (PTSerif.ttc) normal normal 400 normal>) = 10.05\n",
      "2020-09-01 20:26:54,296 findfont: score(<Font 'STIXIntegralsUpD' (STIXIntUpDBol.otf) normal normal 700 normal>) = 10.335\n"
     ]
    },
    {
     "name": "stderr",
     "output_type": "stream",
     "text": [
      "2020-09-01 20:26:54,298 findfont: score(<Font 'Tahoma' (Tahoma.ttf) normal normal 400 normal>) = 10.05\n",
      "2020-09-01 20:26:54,300 findfont: score(<Font 'Noto Sans NKo' (NotoSansNKo-Regular.ttf) normal normal regular normal>) = 10.05\n",
      "2020-09-01 20:26:54,303 findfont: score(<Font 'Damascus' (Damascus.ttc) normal normal regular normal>) = 10.05\n",
      "2020-09-01 20:26:54,306 findfont: score(<Font 'Noto Sans Phoenician' (NotoSansPhoenician-Regular.ttf) normal normal regular normal>) = 10.05\n",
      "2020-09-01 20:26:54,308 findfont: score(<Font '.SF NS Display Condensed' (SFNSDisplayCondensed-Thin.otf) normal normal 400 condensed>) = 10.25\n",
      "2020-09-01 20:26:54,313 findfont: score(<Font 'Big Caslon' (BigCaslon.ttf) normal normal medium normal>) = 10.145\n",
      "2020-09-01 20:26:54,317 findfont: score(<Font 'Serto Batnan' (SyrCOMBatnan.otf) normal normal 400 normal>) = 10.05\n",
      "2020-09-01 20:26:54,320 findfont: score(<Font 'Noto Sans Glagolitic' (NotoSansGlagolitic-Regular.ttf) normal normal regular normal>) = 10.05\n",
      "2020-09-01 20:26:54,322 findfont: score(<Font 'Sathu' (Sathu.ttf) normal normal 400 normal>) = 10.05\n",
      "2020-09-01 20:26:54,325 findfont: score(<Font 'Noto Sans Syriac' (NotoSansSyriac-Regular.ttf) normal normal regular normal>) = 10.05\n",
      "2020-09-01 20:26:54,332 findfont: score(<Font '.SF Compact Display' (SFCompactDisplay.ttf) normal normal 400 normal>) = 10.05\n",
      "2020-09-01 20:26:54,334 findfont: score(<Font 'Telugu MN' (Telugu MN.ttc) normal normal 400 normal>) = 10.05\n",
      "2020-09-01 20:26:54,337 findfont: score(<Font 'Kokonor' (Kokonor.ttf) normal normal regular normal>) = 10.05\n",
      "2020-09-01 20:26:54,339 findfont: score(<Font 'Beirut' (Beirut.ttc) normal normal regular normal>) = 10.05\n",
      "2020-09-01 20:26:54,342 findfont: score(<Font 'Arial Unicode MS' (Arial Unicode.ttf) normal normal 400 normal>) = 10.05\n",
      "2020-09-01 20:26:54,344 findfont: score(<Font 'Gujarati Sangam MN' (Gujarati Sangam MN.ttc) normal normal 400 normal>) = 10.05\n",
      "2020-09-01 20:26:54,348 findfont: score(<Font 'Noto Sans Kayah Li' (NotoSansKayahLi-Regular.ttf) normal normal regular normal>) = 10.05\n",
      "2020-09-01 20:26:54,352 findfont: score(<Font 'Courier New' (Courier New.ttf) normal normal 400 normal>) = 10.05\n",
      "2020-09-01 20:26:54,354 findfont: score(<Font 'SignPainter' (SignPainter.ttc) normal normal 400 normal>) = 10.05\n",
      "2020-09-01 20:26:54,357 findfont: score(<Font 'Bitstream Vera Sans' (VeraBI.ttf) oblique normal 700 normal>) = 7.335\n",
      "2020-09-01 20:26:54,359 findfont: score(<Font 'Noto Sans Meetei Mayek' (NotoSansMeeteiMayek-Regular.ttf) normal normal regular normal>) = 10.05\n",
      "2020-09-01 20:26:54,362 findfont: score(<Font 'Apple Braille' (Apple Braille Pinpoint 8 Dot.ttf) normal normal 400 normal>) = 10.05\n",
      "2020-09-01 20:26:54,364 findfont: score(<Font '.SF NS Text Condensed' (SFNSTextCondensed-Medium.otf) normal normal medium condensed>) = 10.344999999999999\n",
      "2020-09-01 20:26:54,367 findfont: score(<Font 'Noto Sans Kaithi' (NotoSansKaithi-Regular.ttf) normal normal regular normal>) = 10.05\n",
      "2020-09-01 20:26:54,369 findfont: score(<Font 'PT Mono' (PTMono.ttc) normal normal 700 normal>) = 10.335\n",
      "2020-09-01 20:26:54,372 findfont: score(<Font 'Serto Mardin' (SyrCOMMardin.otf) normal normal 400 normal>) = 10.05\n",
      "2020-09-01 20:26:54,376 findfont: score(<Font 'Noto Sans Batak' (NotoSansBatak-Regular.ttf) normal normal regular normal>) = 10.05\n",
      "2020-09-01 20:26:54,378 findfont: score(<Font 'STIXSizeThreeSym' (STIXSizThreeSymReg.otf) normal normal regular normal>) = 10.05\n",
      "2020-09-01 20:26:54,380 findfont: score(<Font 'Noto Sans Yi' (NotoSansYi-Regular.ttf) normal normal regular normal>) = 10.05\n",
      "2020-09-01 20:26:54,383 findfont: score(<Font 'Baskerville' (Baskerville.ttc) normal normal 400 normal>) = 10.05\n",
      "2020-09-01 20:26:54,386 findfont: score(<Font 'Noto Sans Tifinagh' (NotoSansTifinagh-Regular.ttf) normal normal regular normal>) = 10.05\n",
      "2020-09-01 20:26:54,389 findfont: score(<Font 'Georgia' (Georgia Bold Italic.ttf) italic normal 700 normal>) = 11.335\n",
      "2020-09-01 20:26:54,391 findfont: score(<Font 'Noto Sans Old South Arabian' (NotoSansOldSouthArabian-Regular.ttf) normal normal regular normal>) = 10.05\n",
      "2020-09-01 20:26:54,394 findfont: score(<Font 'Noto Sans Limbu' (NotoSansLimbu-Regular.ttf) normal normal regular normal>) = 10.05\n",
      "2020-09-01 20:26:54,397 findfont: score(<Font 'Farisi' (Farisi.ttf) normal normal regular normal>) = 10.05\n",
      "2020-09-01 20:26:54,400 findfont: score(<Font 'Noto Sans Inscriptional Pahlavi' (NotoSansInscriptionalPahlavi-Regular.ttf) normal normal regular normal>) = 10.05\n",
      "2020-09-01 20:26:54,403 findfont: score(<Font 'Nadeem' (Nadeem.ttc) normal normal regular normal>) = 10.05\n",
      "2020-09-01 20:26:54,405 findfont: score(<Font 'Noto Sans Tagalog' (NotoSansTagalog-Regular.ttf) normal normal regular normal>) = 10.05\n",
      "2020-09-01 20:26:54,409 findfont: score(<Font 'Noto Sans Runic' (NotoSansRunic-Regular.ttf) normal normal regular normal>) = 10.05\n",
      "2020-09-01 20:26:54,414 findfont: score(<Font 'Arial Narrow' (Arial Narrow Bold Italic.ttf) italic normal 700 condensed>) = 11.535\n",
      "2020-09-01 20:26:54,418 findfont: score(<Font 'Mishafi' (Mishafi.ttf) normal normal regular normal>) = 10.05\n",
      "2020-09-01 20:26:54,419 findfont: score(<Font 'Microsoft Sans Serif' (Microsoft Sans Serif.ttf) normal normal 400 normal>) = 10.05\n",
      "2020-09-01 20:26:54,422 findfont: score(<Font 'Mshtakan' (Mshtakan.ttc) normal normal 400 normal>) = 10.05\n",
      "2020-09-01 20:26:54,424 findfont: score(<Font '.SF NS Mono' (SFNSMono.ttf) normal normal light normal>) = 10.24\n",
      "2020-09-01 20:26:54,429 findfont: score(<Font 'Shree Devanagari 714' (Shree714.ttc) normal normal 400 normal>) = 10.05\n",
      "2020-09-01 20:26:54,433 findfont: score(<Font 'Apple Braille' (Apple Braille Pinpoint 6 Dot.ttf) normal normal 400 normal>) = 10.05\n",
      "2020-09-01 20:26:54,436 findfont: score(<Font 'Apple Symbols' (Apple Symbols.ttf) normal normal 400 normal>) = 10.05\n",
      "2020-09-01 20:26:54,438 findfont: score(<Font 'Bodoni Ornaments' (Bodoni Ornaments.ttf) normal normal 400 normal>) = 10.05\n",
      "2020-09-01 20:26:54,441 findfont: score(<Font 'STIXIntegralsUpSm' (STIXIntUpSmBol.otf) normal normal 700 normal>) = 10.335\n",
      "2020-09-01 20:26:54,444 findfont: score(<Font 'Wingdings' (Wingdings.ttf) normal normal 400 normal>) = 10.05\n",
      "2020-09-01 20:26:54,448 findfont: score(<Font 'Menlo' (Menlo.ttc) normal normal regular normal>) = 10.05\n",
      "2020-09-01 20:26:54,450 findfont: score(<Font 'Kohinoor Telugu' (KohinoorTelugu.ttc) normal normal 400 normal>) = 10.05\n",
      "2020-09-01 20:26:54,453 findfont: score(<Font 'Noto Sans Lisu' (NotoSansLisu-Regular.ttf) normal normal regular normal>) = 10.05\n",
      "2020-09-01 20:26:54,454 findfont: score(<Font 'STIXSizeThreeSym' (STIXSizThreeSymBol.otf) normal normal 700 normal>) = 10.335\n",
      "2020-09-01 20:26:54,459 findfont: score(<Font 'STIXIntegralsD' (STIXIntDReg.otf) normal normal regular normal>) = 10.05\n",
      "2020-09-01 20:26:54,462 findfont: score(<Font 'Bodoni 72 Smallcaps' (Bodoni 72 Smallcaps Book.ttf) normal normal book normal>) = 10.05\n",
      "2020-09-01 20:26:54,465 findfont: score(<Font 'Trattatello' (Trattatello.ttf) normal normal 400 normal>) = 10.05\n",
      "2020-09-01 20:26:54,468 findfont: score(<Font 'Geeza Pro' (GeezaPro.ttc) normal normal regular normal>) = 10.05\n",
      "2020-09-01 20:26:54,469 findfont: score(<Font 'Noto Serif Balinese' (NotoSerifBalinese-Regular.ttf) normal normal regular normal>) = 10.05\n",
      "2020-09-01 20:26:54,471 findfont: score(<Font 'Serto Jerusalem' (SyrCOMJerusalemBold.otf) normal normal 700 normal>) = 10.335\n",
      "2020-09-01 20:26:54,472 findfont: score(<Font 'Noto Sans Tagbanwa' (NotoSansTagbanwa-Regular.ttf) normal normal regular normal>) = 10.05\n",
      "2020-09-01 20:26:54,475 findfont: score(<Font '.SF NS Text Condensed' (SFNSTextCondensed-Light.otf) normal normal light condensed>) = 10.44\n",
      "2020-09-01 20:26:54,478 findfont: score(<Font 'Courier New' (Courier New Bold.ttf) normal normal 700 normal>) = 10.335\n",
      "2020-09-01 20:26:54,482 findfont: score(<Font 'Chalkboard SE' (ChalkboardSE.ttc) normal normal light normal>) = 10.24\n",
      "2020-09-01 20:26:54,486 findfont: score(<Font 'Mishafi Gold' (Mishafi Gold.ttf) normal normal regular normal>) = 10.05\n",
      "2020-09-01 20:26:54,489 findfont: score(<Font 'Luxi Mono' (luximri.ttf) oblique normal 400 normal>) = 11.05\n",
      "2020-09-01 20:26:54,492 findfont: score(<Font 'Noto Sans Ugaritic' (NotoSansUgaritic-Regular.ttf) normal normal regular normal>) = 10.05\n"
     ]
    },
    {
     "name": "stderr",
     "output_type": "stream",
     "text": [
      "2020-09-01 20:26:54,496 findfont: score(<Font 'Hiragino Mincho ProN' (ヒラギノ明朝 ProN.ttc) normal normal 400 normal>) = 10.05\n",
      "2020-09-01 20:26:54,498 findfont: score(<Font 'Kailasa' (Kailasa.ttc) normal normal regular normal>) = 10.05\n",
      "2020-09-01 20:26:54,502 findfont: score(<Font 'Chalkboard' (Chalkboard.ttc) normal normal 400 normal>) = 10.05\n",
      "2020-09-01 20:26:54,505 findfont: score(<Font 'Bodoni 72 Oldstyle' (Bodoni 72 OS.ttc) normal normal book normal>) = 10.05\n",
      "2020-09-01 20:26:54,509 findfont: score(<Font 'Noto Sans Old Turkic' (NotoSansOldTurkic-Regular.ttf) normal normal regular normal>) = 10.05\n",
      "2020-09-01 20:26:54,512 findfont: score(<Font 'STIXSizeFourSym' (STIXSizFourSymReg.otf) normal normal regular normal>) = 10.05\n",
      "2020-09-01 20:26:54,519 findfont: score(<Font 'Luxi Sans' (luxisr.ttf) normal normal regular normal>) = 10.05\n",
      "2020-09-01 20:26:54,522 findfont: score(<Font 'Noto Sans Old Italic' (NotoSansOldItalic-Regular.ttf) italic normal regular normal>) = 11.05\n",
      "2020-09-01 20:26:54,523 findfont: score(<Font 'Bodoni 72' (Bodoni 72.ttc) normal normal book normal>) = 10.05\n",
      "2020-09-01 20:26:54,529 findfont: score(<Font 'Andale Mono' (Andale Mono.ttf) normal normal 400 normal>) = 10.05\n",
      "2020-09-01 20:26:54,531 findfont: score(<Font 'Khmer MN' (Khmer MN.ttc) normal normal 400 normal>) = 10.05\n",
      "2020-09-01 20:26:54,533 findfont: score(<Font 'Luxi Sans' (luxisb.ttf) normal normal 700 normal>) = 10.335\n",
      "2020-09-01 20:26:54,536 findfont: score(<Font 'Estrangelo Quenneshrin' (SyrCOMQenNeshrin.otf) normal normal 400 normal>) = 10.05\n",
      "2020-09-01 20:26:54,539 findfont: score(<Font 'Bitstream Vera Sans' (VeraBd.ttf) normal normal 700 normal>) = 6.335\n",
      "2020-09-01 20:26:54,542 findfont: score(<Font 'Hoefler Text' (Hoefler Text Ornaments.ttf) normal normal 400 normal>) = 10.05\n",
      "2020-09-01 20:26:54,545 findfont: score(<Font 'Snell Roundhand' (SnellRoundhand.ttc) normal normal 400 normal>) = 10.05\n",
      "2020-09-01 20:26:54,546 findfont: score(<Font 'Avenir Next Condensed' (Avenir Next Condensed.ttc) normal normal 700 condensed>) = 10.535\n",
      "2020-09-01 20:26:54,549 findfont: score(<Font 'Arial Rounded MT Bold' (Arial Rounded Bold.ttf) normal normal bold normal>) = 10.335\n",
      "2020-09-01 20:26:54,552 findfont: score(<Font 'AppleGothic' (AppleGothic.ttf) normal normal regular normal>) = 10.05\n",
      "2020-09-01 20:26:54,554 findfont: score(<Font 'Noto Sans Imperial Aramaic' (NotoSansImperialAramaic-Regular.ttf) normal normal regular normal>) = 10.05\n",
      "2020-09-01 20:26:54,556 findfont: score(<Font 'Herculanum' (Herculanum.ttf) normal normal 400 normal>) = 10.05\n",
      "2020-09-01 20:26:54,559 findfont: score(<Font 'Khmer Sangam MN' (Khmer Sangam MN.ttf) normal normal 400 normal>) = 10.05\n",
      "2020-09-01 20:26:54,562 findfont: score(<Font 'Noto Sans Lycian' (NotoSansLycian-Regular.ttf) normal normal regular normal>) = 10.05\n",
      "2020-09-01 20:26:54,566 findfont: score(<Font 'Luxi Serif' (luxirri.ttf) oblique normal 400 normal>) = 11.05\n",
      "2020-09-01 20:26:54,569 findfont: score(<Font 'Noto Sans Cham' (NotoSansCham-Regular.ttf) normal normal regular normal>) = 10.05\n",
      "2020-09-01 20:26:54,573 findfont: score(<Font 'Malayalam MN' (Malayalam MN.ttc) normal normal 400 normal>) = 10.05\n",
      "2020-09-01 20:26:54,575 findfont: score(<Font 'Malayalam Sangam MN' (Malayalam Sangam MN.ttc) normal normal 400 normal>) = 10.05\n",
      "2020-09-01 20:26:54,581 findfont: score(<Font 'STIXIntegralsSm' (STIXIntSmBol.otf) normal normal 700 normal>) = 10.335\n",
      "2020-09-01 20:26:54,582 findfont: score(<Font 'Noto Sans Mongolian' (NotoSansMongolian-Regular.ttf) normal normal 400 normal>) = 10.05\n",
      "2020-09-01 20:26:54,585 findfont: score(<Font 'Avenir' (Avenir.ttc) normal normal book normal>) = 10.05\n",
      "2020-09-01 20:26:54,589 findfont: score(<Font 'Luxi Serif' (luxirr.ttf) normal normal regular normal>) = 10.05\n",
      "2020-09-01 20:26:54,591 findfont: score(<Font 'Bitstream Vera Sans Mono' (VeraMoIt.ttf) oblique normal 400 normal>) = 11.05\n",
      "2020-09-01 20:26:54,594 findfont: score(<Font 'Georgia' (Georgia.ttf) normal normal 400 normal>) = 10.05\n",
      "2020-09-01 20:26:54,596 findfont: score(<Font 'Noto Serif Myanmar' (NotoSerifMyanmar.ttc) normal normal black normal>) = 10.525\n",
      "2020-09-01 20:26:54,598 findfont: score(<Font 'Luxi Serif' (luxirb.ttf) normal normal 700 normal>) = 10.335\n",
      "2020-09-01 20:26:54,601 findfont: score(<Font 'Noto Sans Osmanya' (NotoSansOsmanya-Regular.ttf) normal normal regular normal>) = 10.05\n",
      "2020-09-01 20:26:54,604 findfont: score(<Font 'STIXGeneral' (STIXGeneralBol.otf) normal normal 700 normal>) = 10.335\n",
      "2020-09-01 20:26:54,606 findfont: score(<Font 'Zapf Dingbats' (ZapfDingbats.ttf) normal normal 400 normal>) = 10.05\n",
      "2020-09-01 20:26:54,609 findfont: score(<Font 'STIXIntegralsD' (STIXIntDBol.otf) normal normal 700 normal>) = 10.335\n",
      "2020-09-01 20:26:54,612 findfont: score(<Font 'Serto Urhoy' (SyrCOMUrhoy.otf) normal normal 400 normal>) = 10.05\n",
      "2020-09-01 20:26:54,615 findfont: score(<Font 'Hiragino Sans' (ヒラギノ角ゴシック W5.ttc) normal normal 700 normal>) = 10.335\n",
      "2020-09-01 20:26:54,616 findfont: score(<Font 'Noto Sans Javanese' (NotoSansJavanese-Regular.otf) normal normal regular normal>) = 10.05\n",
      "2020-09-01 20:26:54,621 findfont: score(<Font 'Al Tarikh' (Al Tarikh.ttc) normal normal regular normal>) = 10.05\n",
      "2020-09-01 20:26:54,625 findfont: score(<Font 'Serto Batnan' (SyrCOMBatnanBold.otf) normal normal 700 normal>) = 10.335\n",
      "2020-09-01 20:26:54,627 findfont: score(<Font '.SF Compact Rounded' (SFCompactRounded.ttf) normal normal 400 normal>) = 10.05\n",
      "2020-09-01 20:26:54,629 findfont: score(<Font 'STIXSizeTwoSym' (STIXSizTwoSymBol.otf) normal normal 700 normal>) = 10.335\n",
      "2020-09-01 20:26:54,630 findfont: score(<Font 'Trebuchet MS' (Trebuchet MS Bold.ttf) normal normal 700 normal>) = 10.335\n",
      "2020-09-01 20:26:54,633 findfont: score(<Font 'Noteworthy' (Noteworthy.ttc) normal normal light normal>) = 10.24\n",
      "2020-09-01 20:26:54,636 findfont: score(<Font '.SF NS Display Condensed' (SFNSDisplayCondensed-Regular.otf) normal normal regular condensed>) = 10.25\n",
      "2020-09-01 20:26:54,637 findfont: score(<Font 'PT Serif Caption' (PTSerifCaption.ttc) normal normal 400 normal>) = 10.05\n",
      "2020-09-01 20:26:54,639 findfont: score(<Font '.Arabic UI Display' (ArabicUIDisplay.ttc) normal normal black normal>) = 10.525\n",
      "2020-09-01 20:26:54,641 findfont: score(<Font '.SF Compact Text' (SFCompactTextItalic.ttf) italic normal 400 normal>) = 11.05\n",
      "2020-09-01 20:26:54,642 findfont: score(<Font 'Estrangelo Talada' (SyrCOMTalada.otf) normal normal 400 normal>) = 10.05\n",
      "2020-09-01 20:26:54,645 findfont: score(<Font 'Apple SD Gothic Neo' (AppleSDGothicNeo.ttc) normal normal regular normal>) = 10.05\n",
      "2020-09-01 20:26:54,646 findfont: score(<Font '.Helvetica Neue DeskInterface' (HelveticaNeueDeskInterface.ttc) normal normal regular normal>) = 10.05\n",
      "2020-09-01 20:26:54,649 findfont: score(<Font 'Heiti TC' (STHeiti Medium.ttc) normal normal 700 normal>) = 10.335\n",
      "2020-09-01 20:26:54,652 findfont: score(<Font 'Bangla Sangam MN' (Bangla Sangam MN.ttc) normal normal 400 normal>) = 10.05\n",
      "2020-09-01 20:26:54,656 findfont: score(<Font 'Sinhala Sangam MN' (Sinhala Sangam MN.ttc) normal normal 400 normal>) = 10.05\n",
      "2020-09-01 20:26:54,659 findfont: score(<Font '.SF NS Display Condensed' (SFNSDisplayCondensed-Heavy.otf) normal normal heavy condensed>) = 10.629999999999999\n",
      "2020-09-01 20:26:54,662 findfont: score(<Font 'STIXGeneral' (STIXGeneral.otf) normal normal regular normal>) = 10.05\n",
      "2020-09-01 20:26:54,665 findfont: score(<Font 'Serto Jerusalem' (SyrCOMJerusalemItalic.otf) italic normal 400 normal>) = 11.05\n",
      "2020-09-01 20:26:54,668 findfont: score(<Font 'New Peninim MT' (NewPeninimMT.ttc) normal normal 400 normal>) = 10.05\n",
      "2020-09-01 20:26:54,672 findfont: score(<Font 'STIXSizeFourSym' (STIXSizFourSymBol.otf) normal normal 700 normal>) = 10.335\n",
      "2020-09-01 20:26:54,674 findfont: score(<Font 'Luxi Mono' (luximb.ttf) normal normal 700 normal>) = 10.335\n",
      "2020-09-01 20:26:54,676 findfont: score(<Font 'InaiMathi' (InaiMathi-MN.ttc) normal normal 400 normal>) = 10.05\n",
      "2020-09-01 20:26:54,679 findfont: score(<Font 'DecoType Naskh' (DecoTypeNaskh.ttc) normal normal regular normal>) = 10.05\n",
      "2020-09-01 20:26:54,681 findfont: score(<Font 'Al Bayan' (AlBayan.ttc) normal normal 400 normal>) = 10.05\n",
      "2020-09-01 20:26:54,686 findfont: score(<Font 'Gill Sans' (GillSans.ttc) normal normal 400 normal>) = 10.05\n",
      "2020-09-01 20:26:54,689 findfont: score(<Font 'Luminari' (Luminari.ttf) normal normal 400 normal>) = 10.05\n",
      "2020-09-01 20:26:54,692 findfont: score(<Font 'Noto Sans Lydian' (NotoSansLydian-Regular.ttf) normal normal regular normal>) = 10.05\n",
      "2020-09-01 20:26:54,695 findfont: score(<Font 'Hiragino Sans' (ヒラギノ角ゴシック W0.ttc) normal normal 400 normal>) = 10.05\n",
      "2020-09-01 20:26:54,698 findfont: score(<Font 'Georgia' (Georgia Bold.ttf) normal normal 700 normal>) = 10.335\n",
      "2020-09-01 20:26:54,701 findfont: score(<Font 'Heiti TC' (STHeiti Light.ttc) normal normal light normal>) = 10.24\n",
      "2020-09-01 20:26:54,704 findfont: score(<Font 'PT Sans' (PTSans.ttc) normal normal 400 normal>) = 10.05\n",
      "2020-09-01 20:26:54,706 findfont: score(<Font 'STIXSizeOneSym' (STIXSizOneSymBol.otf) normal normal 700 normal>) = 10.335\n",
      "2020-09-01 20:26:54,709 findfont: score(<Font '.SF NS Text Condensed' (SFNSTextCondensed-Semibold.otf) normal normal semibold condensed>) = 10.44\n",
      "2020-09-01 20:26:54,711 findfont: score(<Font 'Zapfino' (Zapfino.ttf) normal normal 400 normal>) = 10.05\n",
      "2020-09-01 20:26:54,714 findfont: score(<Font 'Skia' (Skia.ttf) normal normal 400 normal>) = 10.05\n",
      "2020-09-01 20:26:54,716 findfont: score(<Font 'Trebuchet MS' (Trebuchet MS Italic.ttf) italic normal 400 normal>) = 11.05\n",
      "2020-09-01 20:26:54,718 findfont: score(<Font 'Euphemia UCAS' (EuphemiaCAS.ttc) normal normal 400 normal>) = 10.05\n",
      "2020-09-01 20:26:54,719 findfont: score(<Font 'Superclarendon' (SuperClarendon.ttc) normal normal regular normal>) = 10.05\n",
      "2020-09-01 20:26:54,722 findfont: score(<Font 'Symbol' (Symbol.ttf) normal normal 400 normal>) = 10.05\n",
      "2020-09-01 20:26:54,727 findfont: score(<Font 'Apple Braille' (Apple Braille.ttf) normal normal 400 normal>) = 10.05\n",
      "2020-09-01 20:26:54,728 findfont: score(<Font 'Gurmukhi MT' (Gurmukhi.ttf) normal normal 400 normal>) = 10.05\n",
      "2020-09-01 20:26:54,732 findfont: score(<Font 'Noto Sans Kannada' (NotoSansKannada.ttc) normal normal black normal>) = 10.525\n",
      "2020-09-01 20:26:54,735 findfont: score(<Font 'Noto Sans Tai Tham' (NotoSansTaiTham-Regular.ttf) normal normal 400 normal>) = 10.05\n",
      "2020-09-01 20:26:54,738 findfont: score(<Font '.Aqua Kana' (AquaKana.ttc) normal normal 400 normal>) = 10.05\n",
      "2020-09-01 20:26:54,740 findfont: score(<Font 'Luxi Sans' (luxisri.ttf) oblique normal 400 normal>) = 11.05\n",
      "2020-09-01 20:26:54,742 findfont: score(<Font 'Farah' (Farah.ttc) normal normal regular normal>) = 10.05\n",
      "2020-09-01 20:26:54,746 findfont: score(<Font 'Estrangelo Nisibin Outline' (SyrCOMNisibinOutline.otf) normal normal 400 normal>) = 10.05\n",
      "2020-09-01 20:26:54,749 findfont: score(<Font '.New York' (NewYork.ttf) normal normal 400 normal>) = 10.05\n",
      "2020-09-01 20:26:54,753 findfont: score(<Font '.SF NS Rounded' (SFNSRounded.ttf) normal normal 400 normal>) = 10.05\n",
      "2020-09-01 20:26:54,755 findfont: score(<Font 'Bangla MN' (Bangla MN.ttc) normal normal 400 normal>) = 10.05\n",
      "2020-09-01 20:26:54,762 findfont: score(<Font 'Diwan Thuluth' (Diwan Thuluth.ttf) normal normal regular normal>) = 10.05\n",
      "2020-09-01 20:26:54,768 findfont: score(<Font '.LastResort' (LastResort.otf) normal normal 400 normal>) = 10.05\n",
      "2020-09-01 20:26:54,771 findfont: score(<Font 'Lao MN' (Lao MN.ttc) normal normal 400 normal>) = 10.05\n",
      "2020-09-01 20:26:54,775 findfont: score(<Font 'STIXVariants' (STIXVar.otf) normal normal regular normal>) = 10.05\n",
      "2020-09-01 20:26:54,779 findfont: score(<Font 'Webdings' (Webdings.ttf) normal normal 400 normal>) = 10.05\n",
      "2020-09-01 20:26:54,781 findfont: score(<Font '.SF NS Display Condensed' (SFNSDisplayCondensed-Medium.otf) normal normal medium condensed>) = 10.344999999999999\n",
      "2020-09-01 20:26:54,784 findfont: score(<Font 'Arial Hebrew' (ArialHB.ttc) normal normal 400 normal>) = 10.05\n",
      "2020-09-01 20:26:54,792 findfont: score(<Font 'Arial' (Arial.ttf) normal normal 400 normal>) = 0.05\n",
      "2020-09-01 20:26:54,796 findfont: score(<Font 'Serto Jerusalem Outline' (SyrCOMJerusalemOutline.otf) normal normal 400 normal>) = 10.05\n",
      "2020-09-01 20:26:54,800 findfont: score(<Font 'Savoye LET' (Savoye LET.ttc) normal normal 400 normal>) = 10.05\n",
      "2020-09-01 20:26:54,804 findfont: score(<Font 'American Typewriter' (AmericanTypewriter.ttc) normal normal 400 normal>) = 10.05\n",
      "2020-09-01 20:26:54,806 findfont: score(<Font 'Luxi Sans' (luxisbi.ttf) oblique normal 700 normal>) = 11.335\n",
      "2020-09-01 20:26:54,808 findfont: score(<Font '.SF NS Display Condensed' (SFNSDisplayCondensed-Semibold.otf) normal normal semibold condensed>) = 10.44\n",
      "2020-09-01 20:26:54,809 findfont: score(<Font 'Gujarati MT' (GujaratiMT.ttc) normal normal 400 normal>) = 10.05\n",
      "2020-09-01 20:26:54,811 findfont: score(<Font 'Arial Narrow' (Arial Narrow Bold.ttf) normal normal 700 condensed>) = 10.535\n",
      "2020-09-01 20:26:54,818 findfont: score(<Font 'Georgia' (Georgia Italic.ttf) italic normal 400 normal>) = 11.05\n",
      "2020-09-01 20:26:54,822 findfont: score(<Font 'STIXIntegralsUpD' (STIXIntUpDReg.otf) normal normal regular normal>) = 10.05\n",
      "2020-09-01 20:26:54,824 findfont: score(<Font 'Arial' (Arial Bold Italic.ttf) italic normal 700 normal>) = 1.335\n",
      "2020-09-01 20:26:54,825 findfont: score(<Font 'Wingdings 2' (Wingdings 2.ttf) normal normal 400 normal>) = 10.05\n",
      "2020-09-01 20:26:54,828 findfont: score(<Font 'Noto Sans Carian' (NotoSansCarian-Regular.ttf) normal normal regular normal>) = 10.05\n",
      "2020-09-01 20:26:54,831 findfont: score(<Font 'STIXIntegralsUp' (STIXIntUpReg.otf) normal normal regular normal>) = 10.05\n",
      "2020-09-01 20:26:54,835 findfont: score(<Font 'Noto Sans Shavian' (NotoSansShavian-Regular.ttf) normal normal regular normal>) = 10.05\n",
      "2020-09-01 20:26:54,837 findfont: score(<Font 'STIXIntegralsUpSm' (STIXIntUpSmReg.otf) normal normal regular normal>) = 10.05\n",
      "2020-09-01 20:26:54,838 findfont: score(<Font 'Noto Sans Buhid' (NotoSansBuhid-Regular.ttf) normal normal regular normal>) = 10.05\n",
      "2020-09-01 20:26:54,840 findfont: score(<Font 'Thonburi' (Thonburi.ttc) normal normal 400 normal>) = 10.05\n",
      "2020-09-01 20:26:54,842 findfont: score(<Font 'Kohinoor Bangla' (KohinoorBangla.ttc) normal normal 400 normal>) = 10.05\n",
      "2020-09-01 20:26:54,844 findfont: score(<Font 'Plantagenet Cherokee' (PlantagenetCherokee.ttf) normal normal 400 normal>) = 10.05\n",
      "2020-09-01 20:26:54,847 findfont: score(<Font 'Al Nile' (Al Nile.ttc) normal normal 400 normal>) = 10.05\n",
      "2020-09-01 20:26:54,849 findfont: score(<Font 'Courier New' (Courier New Bold Italic.ttf) italic normal 700 normal>) = 11.335\n",
      "2020-09-01 20:26:54,852 findfont: score(<Font 'Noto Sans PhagsPa' (NotoSansPhagsPa-Regular.ttf) normal normal regular normal>) = 10.05\n",
      "2020-09-01 20:26:54,857 findfont: score(<Font 'Apple Braille' (Apple Braille Outline 6 Dot.ttf) normal normal 400 normal>) = 10.05\n",
      "2020-09-01 20:26:54,860 findfont: score(<Font 'Galvji' (Galvji.ttc) normal normal 400 normal>) = 10.05\n",
      "2020-09-01 20:26:54,863 findfont: score(<Font 'Optima' (Optima.ttc) normal normal regular normal>) = 10.05\n",
      "2020-09-01 20:26:54,866 findfont: score(<Font 'ITF Devanagari' (ITFDevanagari.ttc) normal normal book normal>) = 10.05\n",
      "2020-09-01 20:26:54,869 findfont: score(<Font 'Noto Sans Thaana' (NotoSansThaana-Regular.ttf) normal normal regular normal>) = 10.05\n",
      "2020-09-01 20:26:54,871 findfont: score(<Font 'Arial Unicode MS' (Arial Unicode.ttf) normal normal 400 normal>) = 10.05\n",
      "2020-09-01 20:26:54,873 findfont: score(<Font 'Arial' (Arial Italic.ttf) italic normal 400 normal>) = 1.05\n",
      "2020-09-01 20:26:54,875 findfont: score(<Font 'Lao Sangam MN' (Lao Sangam MN.ttf) normal normal 400 normal>) = 10.05\n",
      "2020-09-01 20:26:54,877 findfont: score(<Font 'Noto Sans Ol Chiki' (NotoSansOlChiki-Regular.ttf) normal normal regular normal>) = 10.05\n",
      "2020-09-01 20:26:54,886 findfont: score(<Font 'Trebuchet MS' (Trebuchet MS.ttf) normal normal 400 normal>) = 10.05\n",
      "2020-09-01 20:26:54,889 findfont: score(<Font 'Times New Roman' (Times New Roman Italic.ttf) italic normal roman normal>) = 11.145\n",
      "2020-09-01 20:26:54,892 findfont: score(<Font 'Myanmar MN' (Myanmar MN.ttc) normal normal 400 normal>) = 10.05\n",
      "2020-09-01 20:26:54,895 findfont: score(<Font 'Avenir Next' (Avenir Next.ttc) normal normal 700 normal>) = 10.335\n",
      "2020-09-01 20:26:54,898 findfont: score(<Font 'Estrangelo Midyat' (SyrCOMMidyat.otf) normal normal 400 normal>) = 10.05\n"
     ]
    },
    {
     "name": "stderr",
     "output_type": "stream",
     "text": [
      "2020-09-01 20:26:54,901 findfont: score(<Font 'AppleMyungjo' (AppleMyungjo.ttf) normal normal regular normal>) = 10.05\n",
      "2020-09-01 20:26:54,904 findfont: score(<Font 'Kannada MN' (Kannada MN.ttc) normal normal 400 normal>) = 10.05\n",
      "2020-09-01 20:26:54,907 findfont: score(<Font '.Keyboard' (Keyboard.ttf) normal normal 400 normal>) = 10.05\n",
      "2020-09-01 20:26:54,911 findfont: score(<Font 'Lucida Grande' (LucidaGrande.ttc) normal normal 400 normal>) = 10.05\n",
      "2020-09-01 20:26:54,914 findfont: score(<Font 'Noto Sans Myanmar' (NotoSansMyanmar.ttc) normal normal black normal>) = 10.525\n",
      "2020-09-01 20:26:54,917 findfont: score(<Font 'Myanmar Sangam MN' (Myanmar Sangam MN.ttc) normal normal 400 normal>) = 10.05\n",
      "2020-09-01 20:26:54,921 findfont: score(<Font 'Diwan Kufi' (Diwan Kufi.ttc) normal normal regular normal>) = 10.05\n",
      "2020-09-01 20:26:54,924 findfont: score(<Font 'Bitstream Vera Sans' (Vera.ttf) normal normal 400 normal>) = 6.05\n",
      "2020-09-01 20:26:54,928 findfont: score(<Font '.SF NS Text Condensed' (SFNSTextCondensed-Regular.otf) normal normal regular condensed>) = 10.25\n",
      "2020-09-01 20:26:54,931 findfont: score(<Font 'Impact' (Impact.ttf) normal normal 400 normal>) = 10.05\n",
      "2020-09-01 20:26:54,933 findfont: score(<Font 'Noto Nastaliq Urdu' (NotoNastaliq.ttc) normal normal 400 normal>) = 10.05\n",
      "2020-09-01 20:26:54,935 findfont: score(<Font 'Noto Sans Vai' (NotoSansVai-Regular.ttf) normal normal regular normal>) = 10.05\n",
      "2020-09-01 20:26:54,937 findfont: score(<Font 'Arial Black' (Arial Black.ttf) normal normal black normal>) = 10.525\n",
      "2020-09-01 20:26:54,938 findfont: score(<Font 'Serto Jerusalem' (SyrCOMJerusalem.otf) normal normal 400 normal>) = 10.05\n",
      "2020-09-01 20:26:54,939 findfont: score(<Font 'STIXGeneral' (STIXGeneralItalic.otf) italic normal 400 normal>) = 11.05\n",
      "2020-09-01 20:26:54,940 findfont: score(<Font 'Corsiva Hebrew' (Corsiva.ttc) normal normal 400 normal>) = 10.05\n",
      "2020-09-01 20:26:54,943 findfont: score(<Font 'Waseem' (Waseem.ttc) normal normal regular normal>) = 10.05\n",
      "2020-09-01 20:26:54,952 findfont: score(<Font '.SF NS Display Condensed' (SFNSDisplayCondensed-Ultralight.otf) normal normal ultralight condensed>) = 10.535\n",
      "2020-09-01 20:26:54,955 findfont: score(<Font 'Verdana' (Verdana Bold.ttf) normal normal 700 normal>) = 10.335\n",
      "2020-09-01 20:26:54,957 findfont: score(<Font 'Muna' (Muna.ttc) normal normal regular normal>) = 10.05\n",
      "2020-09-01 20:26:54,960 findfont: score(<Font 'Noto Sans Inscriptional Parthian' (NotoSansInscriptionalParthian-Regular.ttf) normal normal regular normal>) = 10.05\n",
      "2020-09-01 20:26:54,963 findfont: score(<Font 'Hiragino Sans' (ヒラギノ角ゴシック W6.ttc) normal normal 700 normal>) = 10.335\n",
      "2020-09-01 20:26:54,964 findfont: score(<Font 'PingFang HK' (PingFang.ttc) normal normal regular normal>) = 10.05\n",
      "2020-09-01 20:26:54,966 findfont: score(<Font 'Noto Sans Rejang' (NotoSansRejang-Regular.ttf) normal normal regular normal>) = 10.05\n",
      "2020-09-01 20:26:54,969 findfont: score(<Font 'Noto Sans Cuneiform' (NotoSansCuneiform-Regular.ttf) normal normal regular normal>) = 10.05\n",
      "2020-09-01 20:26:54,971 findfont: score(<Font '.SF NS Text Condensed' (SFNSTextCondensed-Bold.otf) normal normal bold condensed>) = 10.535\n",
      "2020-09-01 20:26:54,975 findfont: score(<Font 'Baghdad' (Baghdad.ttc) normal normal regular normal>) = 10.05\n",
      "2020-09-01 20:26:54,979 findfont: score(<Font 'Palatino' (Palatino.ttc) normal normal 400 normal>) = 10.05\n",
      "2020-09-01 20:26:54,982 findfont: score(<Font 'Wingdings 3' (Wingdings 3.ttf) normal normal 400 normal>) = 10.05\n",
      "2020-09-01 20:26:54,983 findfont: score(<Font 'Courier New' (Courier New Italic.ttf) italic normal 400 normal>) = 11.05\n",
      "2020-09-01 20:26:54,984 findfont: score(<Font 'Helvetica' (Helvetica.ttc) normal normal 400 normal>) = 10.05\n",
      "2020-09-01 20:26:54,987 findfont: score(<Font 'Mukta Mahee' (MuktaMahee.ttc) normal normal regular normal>) = 10.05\n",
      "2020-09-01 20:26:54,990 findfont: score(<Font 'STIXNonUnicode' (STIXNonUniBolIta.otf) italic normal 700 normal>) = 11.335\n",
      "2020-09-01 20:26:54,995 findfont: score(<Font 'STIXSizeTwoSym' (STIXSizTwoSymReg.otf) normal normal regular normal>) = 10.05\n",
      "2020-09-01 20:26:54,996 findfont: score(<Font 'Copperplate' (Copperplate.ttc) normal normal 400 normal>) = 10.05\n",
      "2020-09-01 20:26:54,998 findfont: score(<Font 'Noto Sans New Tai Lue' (NotoSansNewTaiLue-Regular.ttf) normal normal regular normal>) = 10.05\n",
      "2020-09-01 20:26:55,002 findfont: score(<Font 'Oriya Sangam MN' (Oriya Sangam MN.ttc) normal normal 400 normal>) = 10.05\n",
      "2020-09-01 20:26:55,003 findfont: score(<Font 'Cochin' (Cochin.ttc) normal normal 400 normal>) = 10.05\n",
      "2020-09-01 20:26:55,005 findfont: score(<Font 'Noto Sans Avestan' (NotoSansAvestan-Regular.ttf) normal normal regular normal>) = 10.05\n",
      "2020-09-01 20:26:55,007 findfont: score(<Font 'Noto Sans Buginese' (NotoSansBuginese-Regular.ttf) normal normal regular normal>) = 10.05\n",
      "2020-09-01 20:26:55,010 findfont: score(<Font 'Brush Script MT' (Brush Script.ttf) italic normal 400 normal>) = 11.05\n",
      "2020-09-01 20:26:55,012 findfont: score(<Font '.Arabic UI Text' (ArabicUIText.ttc) normal normal regular normal>) = 10.05\n",
      "2020-09-01 20:26:55,014 findfont: score(<Font 'Devanagari MT' (DevanagariMT.ttc) normal normal 400 normal>) = 10.05\n",
      "2020-09-01 20:26:55,016 findfont: score(<Font 'Goha-Tibeb Zemen' (GohaTibebZemen.otf) normal normal 400 normal>) = 10.05\n",
      "2020-09-01 20:26:55,019 findfont: score(<Font 'Bitstream Vera Sans Mono' (VeraMoBd.ttf) normal normal 700 normal>) = 10.335\n",
      "2020-09-01 20:26:55,026 findfont: score(<Font 'STIXNonUnicode' (STIXNonUniIta.otf) italic normal 400 normal>) = 11.05\n",
      "2020-09-01 20:26:55,029 findfont: score(<Font 'Bitstream Vera Sans Mono' (VeraMono.ttf) normal normal 400 normal>) = 10.05\n",
      "2020-09-01 20:26:55,032 findfont: score(<Font 'Didot' (Didot.ttc) normal normal 400 normal>) = 10.05\n",
      "2020-09-01 20:26:55,034 findfont: score(<Font 'Chalkduster' (Chalkduster.ttf) normal normal 400 normal>) = 10.05\n",
      "2020-09-01 20:26:55,037 findfont: score(<Font 'Noto Sans Tai Le' (NotoSansTaiLe-Regular.ttf) normal normal regular normal>) = 10.05\n",
      "2020-09-01 20:26:55,040 findfont: score(<Font 'STIXGeneral' (STIXGeneralBolIta.otf) italic normal 700 normal>) = 11.335\n",
      "2020-09-01 20:26:55,043 findfont: score(<Font 'Hiragino Sans' (ヒラギノ角ゴシック W4.ttc) normal normal 400 normal>) = 10.05\n",
      "2020-09-01 20:26:55,048 findfont: score(<Font 'Verdana' (Verdana Italic.ttf) italic normal 400 normal>) = 11.05\n",
      "2020-09-01 20:26:55,051 findfont: score(<Font 'Tamil Sangam MN' (Tamil Sangam MN.ttc) normal normal 400 normal>) = 10.05\n",
      "2020-09-01 20:26:55,055 findfont: score(<Font '.SF NS Mono' (SFNSMonoItalic.ttf) italic normal light normal>) = 11.24\n",
      "2020-09-01 20:26:55,059 findfont: score(<Font '.New York' (NewYorkItalic.ttf) italic normal 400 normal>) = 11.05\n",
      "2020-09-01 20:26:55,066 findfont: score(<Font 'Hiragino Sans' (ヒラギノ角ゴシック W3.ttc) normal normal 400 normal>) = 10.05\n",
      "2020-09-01 20:26:55,068 findfont: score(<Font 'Times' (Times.ttc) normal normal roman normal>) = 10.145\n",
      "2020-09-01 20:26:55,071 findfont: score(<Font 'Comic Sans MS' (Comic Sans MS Bold.ttf) normal normal 700 normal>) = 10.335\n",
      "2020-09-01 20:26:55,074 findfont: score(<Font 'Noto Sans Coptic' (NotoSansCoptic-Regular.ttf) normal normal regular normal>) = 10.05\n",
      "2020-09-01 20:26:55,077 findfont: score(<Font 'Hiragino Sans GB' (Hiragino Sans GB.ttc) normal normal 400 normal>) = 10.05\n",
      "2020-09-01 20:26:55,079 findfont: score(<Font '.SF Compact Text' (SFCompactText.ttf) normal normal 400 normal>) = 10.05\n",
      "2020-09-01 20:26:55,085 findfont: score(<Font 'Goha-Tibeb Zemen' (GohaTibebZemen.ttf) normal normal 400 normal>) = 10.05\n",
      "2020-09-01 20:26:55,088 findfont: score(<Font 'Serto Mardin' (SyrCOMMardinBold.otf) normal normal 700 normal>) = 10.335\n",
      "2020-09-01 20:26:55,090 findfont: score(<Font 'Sana' (Sana.ttc) normal normal regular normal>) = 10.05\n",
      "2020-09-01 20:26:55,092 findfont: score(<Font 'Noto Sans Tai Viet' (NotoSansTaiViet-Regular.ttf) normal normal regular normal>) = 10.05\n",
      "2020-09-01 20:26:55,096 findfont: score(<Font 'Noto Sans Brahmi' (NotoSansBrahmi-Regular.ttf) normal normal regular normal>) = 10.05\n",
      "2020-09-01 20:26:55,099 findfont: score(<Font 'Sinhala MN' (Sinhala MN.ttc) normal normal 400 normal>) = 10.05\n",
      "2020-09-01 20:26:55,100 findfont: score(<Font 'Iowan Old Style' (Iowan Old Style.ttc) normal normal roman normal>) = 10.145\n"
     ]
    },
    {
     "name": "stderr",
     "output_type": "stream",
     "text": [
      "2020-09-01 20:26:55,102 findfont: score(<Font 'Kohinoor Gujarati' (KohinoorGujarati.ttc) normal normal bold normal>) = 10.335\n",
      "2020-09-01 20:26:55,104 findfont: score(<Font 'Times New Roman' (Times New Roman Bold.ttf) normal normal 700 normal>) = 10.335\n",
      "2020-09-01 20:26:55,106 findfont: score(<Font 'Noto Sans Oriya' (NotoSansOriya.ttc) normal normal 400 normal>) = 10.05\n",
      "2020-09-01 20:26:55,107 findfont: score(<Font 'Marion' (Marion.ttc) normal normal regular normal>) = 10.05\n",
      "2020-09-01 20:26:55,108 findfont: Matching sans\\-serif:style=normal:variant=normal:weight=normal:stretch=normal:size=11.0 to Arial ('/System/Library/Fonts/Supplemental/Arial.ttf') with score of 0.050000.\n",
      "2020-09-01 20:26:55,123 findfont: Matching sans\\-serif:style=normal:variant=normal:weight=normal:stretch=normal:size=12.0.\n",
      "2020-09-01 20:26:55,128 findfont: score(<Font 'DejaVu Sans Display' (DejaVuSansDisplay.ttf) normal normal 400 normal>) = 10.05\n",
      "2020-09-01 20:26:55,131 findfont: score(<Font 'STIXGeneral' (STIXGeneral.ttf) normal normal regular normal>) = 10.05\n",
      "2020-09-01 20:26:55,135 findfont: score(<Font 'DejaVu Sans' (DejaVuSans.ttf) normal normal 400 normal>) = 2.05\n",
      "2020-09-01 20:26:55,138 findfont: score(<Font 'STIXNonUnicode' (STIXNonUniIta.ttf) italic normal 400 normal>) = 11.05\n",
      "2020-09-01 20:26:55,142 findfont: score(<Font 'STIXGeneral' (STIXGeneralItalic.ttf) italic normal 400 normal>) = 11.05\n",
      "2020-09-01 20:26:55,146 findfont: score(<Font 'DejaVu Sans' (DejaVuSans-Oblique.ttf) oblique normal 400 normal>) = 3.05\n",
      "2020-09-01 20:26:55,149 findfont: score(<Font 'DejaVu Serif' (DejaVuSerif-BoldItalic.ttf) italic normal 700 normal>) = 11.335\n",
      "2020-09-01 20:26:55,152 findfont: score(<Font 'STIXSizeThreeSym' (STIXSizThreeSymReg.ttf) normal normal regular normal>) = 10.05\n",
      "2020-09-01 20:26:55,155 findfont: score(<Font 'DejaVu Serif' (DejaVuSerif-Bold.ttf) normal normal 700 normal>) = 10.335\n",
      "2020-09-01 20:26:55,157 findfont: score(<Font 'cmmi10' (cmmi10.ttf) normal normal 400 normal>) = 10.05\n",
      "2020-09-01 20:26:55,161 findfont: score(<Font 'STIXNonUnicode' (STIXNonUniBol.ttf) normal normal 700 normal>) = 10.335\n",
      "2020-09-01 20:26:55,164 findfont: score(<Font 'DejaVu Sans Mono' (DejaVuSansMono.ttf) normal normal 400 normal>) = 10.05\n",
      "2020-09-01 20:26:55,171 findfont: score(<Font 'DejaVu Sans Mono' (DejaVuSansMono-Oblique.ttf) oblique normal 400 normal>) = 11.05\n",
      "2020-09-01 20:26:55,174 findfont: score(<Font 'DejaVu Serif' (DejaVuSerif.ttf) normal normal 400 normal>) = 10.05\n",
      "2020-09-01 20:26:55,177 findfont: score(<Font 'STIXNonUnicode' (STIXNonUni.ttf) normal normal regular normal>) = 10.05\n",
      "2020-09-01 20:26:55,180 findfont: score(<Font 'STIXSizeFourSym' (STIXSizFourSymBol.ttf) normal normal 700 normal>) = 10.335\n",
      "2020-09-01 20:26:55,182 findfont: score(<Font 'STIXSizeTwoSym' (STIXSizTwoSymReg.ttf) normal normal regular normal>) = 10.05\n",
      "2020-09-01 20:26:55,185 findfont: score(<Font 'cmex10' (cmex10.ttf) normal normal 400 normal>) = 10.05\n",
      "2020-09-01 20:26:55,187 findfont: score(<Font 'STIXGeneral' (STIXGeneralBol.ttf) normal normal 700 normal>) = 10.335\n",
      "2020-09-01 20:26:55,189 findfont: score(<Font 'STIXNonUnicode' (STIXNonUniBolIta.ttf) italic normal 700 normal>) = 11.335\n",
      "2020-09-01 20:26:55,190 findfont: score(<Font 'STIXSizeFourSym' (STIXSizFourSymReg.ttf) normal normal regular normal>) = 10.05\n",
      "2020-09-01 20:26:55,192 findfont: score(<Font 'cmss10' (cmss10.ttf) normal normal 400 normal>) = 10.05\n",
      "2020-09-01 20:26:55,194 findfont: score(<Font 'STIXSizeOneSym' (STIXSizOneSymBol.ttf) normal normal 700 normal>) = 10.335\n",
      "2020-09-01 20:26:55,198 findfont: score(<Font 'STIXSizeThreeSym' (STIXSizThreeSymBol.ttf) normal normal 700 normal>) = 10.335\n",
      "2020-09-01 20:26:55,201 findfont: score(<Font 'cmtt10' (cmtt10.ttf) normal normal 400 normal>) = 10.05\n",
      "2020-09-01 20:26:55,203 findfont: score(<Font 'cmb10' (cmb10.ttf) normal normal 400 normal>) = 10.05\n",
      "2020-09-01 20:26:55,207 findfont: score(<Font 'DejaVu Sans Mono' (DejaVuSansMono-BoldOblique.ttf) oblique normal 700 normal>) = 11.335\n",
      "2020-09-01 20:26:55,210 findfont: score(<Font 'DejaVu Sans' (DejaVuSans-BoldOblique.ttf) oblique normal 700 normal>) = 3.335\n",
      "2020-09-01 20:26:55,212 findfont: score(<Font 'STIXGeneral' (STIXGeneralBolIta.ttf) italic normal 700 normal>) = 11.335\n",
      "2020-09-01 20:26:55,216 findfont: score(<Font 'STIXSizeOneSym' (STIXSizOneSymReg.ttf) normal normal regular normal>) = 10.05\n",
      "2020-09-01 20:26:55,219 findfont: score(<Font 'STIXSizeFiveSym' (STIXSizFiveSymReg.ttf) normal normal regular normal>) = 10.05\n",
      "2020-09-01 20:26:55,222 findfont: score(<Font 'DejaVu Sans' (DejaVuSans-Bold.ttf) normal normal 700 normal>) = 2.335\n",
      "2020-09-01 20:26:55,224 findfont: score(<Font 'DejaVu Serif Display' (DejaVuSerifDisplay.ttf) normal normal 400 normal>) = 10.05\n",
      "2020-09-01 20:26:55,226 findfont: score(<Font 'cmr10' (cmr10.ttf) normal normal 400 normal>) = 10.05\n",
      "2020-09-01 20:26:55,230 findfont: score(<Font 'DejaVu Sans Mono' (DejaVuSansMono-Bold.ttf) normal normal 700 normal>) = 10.335\n",
      "2020-09-01 20:26:55,233 findfont: score(<Font 'STIXSizeTwoSym' (STIXSizTwoSymBol.ttf) normal normal 700 normal>) = 10.335\n",
      "2020-09-01 20:26:55,239 findfont: score(<Font 'cmsy10' (cmsy10.ttf) normal normal 400 normal>) = 10.05\n",
      "2020-09-01 20:26:55,241 findfont: score(<Font 'DejaVu Serif' (DejaVuSerif-Italic.ttf) italic normal 400 normal>) = 11.05\n",
      "2020-09-01 20:26:55,244 findfont: score(<Font 'Estrangelo Antioch' (SyrCOMAntioch.otf) normal normal 400 normal>) = 10.05\n",
      "2020-09-01 20:26:55,248 findfont: score(<Font 'STIXIntegralsSm' (STIXIntSmReg.otf) normal normal regular normal>) = 10.05\n",
      "2020-09-01 20:26:55,250 findfont: score(<Font 'Rockwell' (Rockwell.ttc) normal normal 400 normal>) = 10.05\n",
      "2020-09-01 20:26:55,252 findfont: score(<Font 'Phosphate' (Phosphate.ttc) normal normal 400 normal>) = 10.05\n",
      "2020-09-01 20:26:55,253 findfont: score(<Font 'STIXSizeFiveSym' (STIXSizFiveSymReg.otf) normal normal regular normal>) = 10.05\n",
      "2020-09-01 20:26:55,255 findfont: score(<Font 'STIXSizeOneSym' (STIXSizOneSymReg.otf) normal normal regular normal>) = 10.05\n",
      "2020-09-01 20:26:55,256 findfont: score(<Font 'Hiragino Sans' (ヒラギノ角ゴシック W2.ttc) normal normal 400 normal>) = 10.05\n",
      "2020-09-01 20:26:55,259 findfont: score(<Font 'System Font' (SFNS.ttf) normal normal 400 normal>) = 10.05\n",
      "2020-09-01 20:26:55,261 findfont: score(<Font 'Noto Sans Bamum' (NotoSansBamum-Regular.ttf) normal normal regular normal>) = 10.05\n",
      "2020-09-01 20:26:55,264 findfont: score(<Font '.SF NS Text Condensed' (SFNSTextCondensed-Heavy.otf) normal normal heavy condensed>) = 10.629999999999999\n",
      "2020-09-01 20:26:55,267 findfont: score(<Font 'Hiragino Sans' (ヒラギノ角ゴシック W9.ttc) normal normal 700 normal>) = 10.335\n",
      "2020-09-01 20:26:55,270 findfont: score(<Font 'Hiragino Sans' (ヒラギノ角ゴシック W1.ttc) normal normal 400 normal>) = 10.05\n",
      "2020-09-01 20:26:55,275 findfont: score(<Font 'Noto Sans Saurashtra' (NotoSansSaurashtra-Regular.ttf) normal normal regular normal>) = 10.05\n",
      "2020-09-01 20:26:56,319 findfont: score(<Font 'Arial Narrow' (Arial Narrow.ttf) normal normal 400 condensed>) = 10.25\n",
      "2020-09-01 20:26:56,322 findfont: score(<Font 'Luxi Mono' (luximbi.ttf) oblique normal 700 normal>) = 11.335\n",
      "2020-09-01 20:26:56,325 findfont: score(<Font 'Serto Kharput' (SyrCOMKharput.otf) normal normal 400 normal>) = 10.05\n",
      "2020-09-01 20:26:56,328 findfont: score(<Font 'Noto Sans Egyptian Hieroglyphs' (NotoSansEgyptianHieroglyphs-Regular.ttf) normal normal regular normal>) = 10.05\n",
      "2020-09-01 20:26:56,332 findfont: score(<Font 'Bitstream Vera Sans' (VeraIt.ttf) oblique normal 400 normal>) = 7.05\n",
      "2020-09-01 20:26:56,336 findfont: score(<Font 'East Syriac Adiabene' (SyrCOMAdiabene.otf) normal normal 400 normal>) = 10.05\n",
      "2020-09-01 20:26:56,339 findfont: score(<Font 'Kefa' (Kefa.ttc) normal normal regular normal>) = 10.05\n",
      "2020-09-01 20:26:56,344 findfont: score(<Font 'Serto Malankara' (SyrCOMMalankara.otf) normal normal 400 normal>) = 10.05\n",
      "2020-09-01 20:26:56,346 findfont: score(<Font 'Luxi Serif' (luxirbi.ttf) oblique normal 700 normal>) = 11.335\n",
      "2020-09-01 20:26:56,350 findfont: score(<Font 'Bitstream Vera Serif' (VeraSeBd.ttf) normal normal 700 normal>) = 10.335\n",
      "2020-09-01 20:26:56,353 findfont: score(<Font 'Kohinoor Devanagari' (Kohinoor.ttc) normal normal regular normal>) = 10.05\n"
     ]
    },
    {
     "name": "stderr",
     "output_type": "stream",
     "text": [
      "2020-09-01 20:26:56,354 findfont: score(<Font '.SF NS Display Condensed' (SFNSDisplayCondensed-Bold.otf) normal normal bold condensed>) = 10.535\n",
      "2020-09-01 20:26:56,358 findfont: score(<Font 'Verdana' (Verdana Bold Italic.ttf) italic normal 700 normal>) = 11.335\n",
      "2020-09-01 20:26:56,361 findfont: score(<Font 'Tahoma' (Tahoma Bold.ttf) normal normal 700 normal>) = 10.335\n",
      "2020-09-01 20:26:56,364 findfont: score(<Font 'Verdana' (Verdana.ttf) normal normal 400 normal>) = 10.05\n",
      "2020-09-01 20:26:56,366 findfont: score(<Font 'Gurmukhi Sangam MN' (Gurmukhi Sangam MN.ttc) normal normal 400 normal>) = 10.05\n",
      "2020-09-01 20:26:56,369 findfont: score(<Font 'Kannada Sangam MN' (Kannada Sangam MN.ttc) normal normal 400 normal>) = 10.05\n",
      "2020-09-01 20:26:56,371 findfont: score(<Font 'Bradley Hand' (Bradley Hand Bold.ttf) normal normal bold normal>) = 10.335\n",
      "2020-09-01 20:26:56,373 findfont: score(<Font 'Arial Narrow' (Arial Narrow Italic.ttf) italic normal 400 condensed>) = 11.25\n",
      "2020-09-01 20:26:56,375 findfont: score(<Font 'Comic Sans MS' (Comic Sans MS.ttf) normal normal 400 normal>) = 10.05\n",
      "2020-09-01 20:26:56,377 findfont: score(<Font 'Noto Sans Lepcha' (NotoSansLepcha-Regular.ttf) normal normal regular normal>) = 10.05\n",
      "2020-09-01 20:26:56,379 findfont: score(<Font 'Noto Sans Old Persian' (NotoSansOldPersian-Regular.ttf) normal normal regular normal>) = 10.05\n",
      "2020-09-01 20:26:56,381 findfont: score(<Font 'Apple Braille' (Apple Braille Outline 8 Dot.ttf) normal normal 400 normal>) = 10.05\n",
      "2020-09-01 20:26:56,385 findfont: score(<Font 'Marker Felt' (MarkerFelt.ttc) normal normal 400 normal>) = 10.05\n",
      "2020-09-01 20:26:56,389 findfont: score(<Font 'Raanana' (Raanana.ttc) normal normal 400 normal>) = 10.05\n",
      "2020-09-01 20:26:56,392 findfont: score(<Font 'Ayuthaya' (Ayuthaya.ttf) normal normal 400 normal>) = 10.05\n",
      "2020-09-01 20:26:56,396 findfont: score(<Font 'Hoefler Text' (Hoefler Text.ttc) normal normal 400 normal>) = 10.05\n",
      "2020-09-01 20:26:56,399 findfont: score(<Font '.SF NS Display Condensed' (SFNSDisplayCondensed-Light.otf) normal normal light condensed>) = 10.44\n",
      "2020-09-01 20:26:56,402 findfont: score(<Font 'Krungthep' (Krungthep.ttf) normal normal 400 normal>) = 10.05\n",
      "2020-09-01 20:26:56,405 findfont: score(<Font 'Serto Urhoy' (SyrCOMUrhoyBold.otf) normal normal 700 normal>) = 10.335\n",
      "2020-09-01 20:26:56,409 findfont: score(<Font 'Futura' (Futura.ttc) normal normal medium normal>) = 10.145\n",
      "2020-09-01 20:26:56,410 findfont: score(<Font 'Arial' (Arial Bold.ttf) normal normal 700 normal>) = 0.33499999999999996\n",
      "2020-09-01 20:26:56,414 findfont: score(<Font 'Noto Sans Sundanese' (NotoSansSundanese-Regular.ttf) normal normal regular normal>) = 10.05\n",
      "2020-09-01 20:26:56,416 findfont: score(<Font 'System Font' (SFNSItalic.ttf) italic normal regular normal>) = 11.05\n",
      "2020-09-01 20:26:56,419 findfont: score(<Font 'Songti SC' (Songti.ttc) normal normal black normal>) = 10.525\n",
      "2020-09-01 20:26:56,421 findfont: score(<Font 'Vecna' (Vecna-oppx.ttf) normal normal 400 normal>) = 10.05\n",
      "2020-09-01 20:26:56,423 findfont: score(<Font 'Noto Sans Chakma' (NotoSansChakma-Regular.ttf) normal normal regular normal>) = 10.05\n",
      "2020-09-01 20:26:56,424 findfont: score(<Font 'East Syriac Ctesiphon' (SyrCOMCtesiphon.otf) normal normal 400 normal>) = 10.05\n",
      "2020-09-01 20:26:56,428 findfont: score(<Font 'Times New Roman' (Times New Roman Bold Italic.ttf) italic normal 700 normal>) = 11.335\n",
      "2020-09-01 20:26:56,431 findfont: score(<Font 'Noto Sans Samaritan' (NotoSansSamaritan-Regular.ttf) normal normal regular normal>) = 10.05\n",
      "2020-09-01 20:26:56,433 findfont: score(<Font 'Hiragino Maru Gothic Pro' (ヒラギノ丸ゴ ProN W4.ttc) normal normal 400 normal>) = 10.05\n",
      "2020-09-01 20:26:56,436 findfont: score(<Font 'Athelas' (Athelas.ttc) normal normal regular normal>) = 10.05\n",
      "2020-09-01 20:26:56,439 findfont: score(<Font 'Noto Sans Hanunoo' (NotoSansHanunoo-Regular.ttf) normal normal regular normal>) = 10.05\n",
      "2020-09-01 20:26:56,445 findfont: score(<Font 'Seravek' (Seravek.ttc) normal normal 400 normal>) = 10.05\n",
      "2020-09-01 20:26:56,448 findfont: score(<Font 'DIN Alternate' (DIN Alternate Bold.ttf) normal normal 700 normal>) = 10.335\n",
      "2020-09-01 20:26:56,452 findfont: score(<Font 'STIXIntegralsUp' (STIXIntUpBol.otf) normal normal 700 normal>) = 10.335\n",
      "2020-09-01 20:26:56,454 findfont: score(<Font 'Noto Sans Gothic' (NotoSansGothic-Regular.ttf) normal normal regular normal>) = 10.05\n",
      "2020-09-01 20:26:56,457 findfont: score(<Font 'Times New Roman' (Times New Roman.ttf) normal normal roman normal>) = 10.145\n",
      "2020-09-01 20:26:56,458 findfont: score(<Font 'Charter' (Charter.ttc) normal normal roman normal>) = 10.145\n",
      "2020-09-01 20:26:56,461 findfont: score(<Font 'Papyrus' (Papyrus.ttc) normal normal 400 condensed>) = 10.25\n",
      "2020-09-01 20:26:56,463 findfont: score(<Font 'Estrangelo TurAbdin' (SyrCOMTurAbdin.otf) normal normal 400 normal>) = 10.05\n",
      "2020-09-01 20:26:56,465 findfont: score(<Font 'STIXVariants' (STIXVarBol.otf) normal normal 700 normal>) = 10.335\n",
      "2020-09-01 20:26:56,466 findfont: score(<Font '.SF NS Display Condensed' (SFNSDisplayCondensed-Black.otf) normal normal black condensed>) = 10.725\n",
      "2020-09-01 20:26:56,468 findfont: score(<Font 'Hiragino Sans' (ヒラギノ角ゴシック W7.ttc) normal normal 700 normal>) = 10.335\n",
      "2020-09-01 20:26:56,474 findfont: score(<Font 'Apple Chancery' (Apple Chancery.ttf) normal normal 400 normal>) = 10.05\n",
      "2020-09-01 20:26:56,476 findfont: score(<Font 'Noto Sans Kharoshthi' (NotoSansKharoshthi-Regular.ttf) normal normal regular normal>) = 10.05\n",
      "2020-09-01 20:26:56,479 findfont: score(<Font 'Noto Sans Cypriot' (NotoSansCypriot-Regular.ttf) normal normal regular normal>) = 10.05\n",
      "2020-09-01 20:26:56,481 findfont: score(<Font 'Noto Sans Armenian' (NotoSansArmenian.ttc) normal normal black normal>) = 10.525\n",
      "2020-09-01 20:26:56,485 findfont: score(<Font 'Noto Sans Syloti Nagri' (NotoSansSylotiNagri-Regular.ttf) normal normal regular normal>) = 10.05\n",
      "2020-09-01 20:26:56,487 findfont: score(<Font 'Bitstream Vera Sans Mono' (VeraMoBI.ttf) oblique normal 700 normal>) = 11.335\n",
      "2020-09-01 20:26:56,489 findfont: score(<Font 'Silom' (Silom.ttf) normal normal 400 normal>) = 10.05\n",
      "2020-09-01 20:26:56,492 findfont: score(<Font 'Estrangelo Nisibin' (SyrCOMNisibin.otf) normal normal 400 normal>) = 10.05\n",
      "2020-09-01 20:26:56,494 findfont: score(<Font 'Oriya MN' (Oriya MN.ttc) normal normal 400 normal>) = 10.05\n",
      "2020-09-01 20:26:56,497 findfont: score(<Font 'Luxi Mono' (luximr.ttf) normal normal regular normal>) = 10.05\n",
      "2020-09-01 20:26:56,501 findfont: score(<Font 'Helvetica Neue' (HelveticaNeue.ttc) normal normal 400 normal>) = 10.05\n",
      "2020-09-01 20:26:56,508 findfont: score(<Font 'DIN Condensed' (DIN Condensed Bold.ttf) normal normal 700 condensed>) = 10.535\n",
      "2020-09-01 20:26:56,512 findfont: score(<Font 'Trebuchet MS' (Trebuchet MS Bold Italic.ttf) italic normal 700 normal>) = 11.335\n",
      "2020-09-01 20:26:56,514 findfont: score(<Font 'Estrangelo Edessa' (SyrCOMEdessa.otf) normal normal 400 normal>) = 10.05\n",
      "2020-09-01 20:26:56,516 findfont: score(<Font 'Sukhumvit Set' (SukhumvitSet.ttc) normal normal 400 normal>) = 10.05\n",
      "2020-09-01 20:26:56,519 findfont: score(<Font 'Noto Sans Mandaic' (NotoSansMandaic-Regular.ttf) normal normal regular normal>) = 10.05\n",
      "2020-09-01 20:26:56,521 findfont: score(<Font 'Noto Sans Ogham' (NotoSansOgham-Regular.ttf) normal normal regular normal>) = 10.05\n",
      "2020-09-01 20:26:56,523 findfont: score(<Font 'Gurmukhi MN' (Gurmukhi MN.ttc) normal normal 400 normal>) = 10.05\n",
      "2020-09-01 20:26:56,525 findfont: score(<Font 'Bitstream Vera Serif' (VeraSe.ttf) normal normal 400 normal>) = 10.05\n",
      "2020-09-01 20:26:56,527 findfont: score(<Font 'Noto Sans Linear B' (NotoSansLinearB-Regular.ttf) normal normal regular normal>) = 10.05\n",
      "2020-09-01 20:26:56,530 findfont: score(<Font 'STIXNonUnicode' (STIXNonUni.otf) normal normal regular normal>) = 10.05\n",
      "2020-09-01 20:26:56,532 findfont: score(<Font 'Tamil MN' (Tamil MN.ttc) normal normal 400 normal>) = 10.05\n",
      "2020-09-01 20:26:56,537 findfont: score(<Font 'Telugu Sangam MN' (Telugu Sangam MN.ttc) normal normal 400 normal>) = 10.05\n",
      "2020-09-01 20:26:56,540 findfont: score(<Font 'Devanagari Sangam MN' (Devanagari Sangam MN.ttc) normal normal 400 normal>) = 10.05\n",
      "2020-09-01 20:26:56,543 findfont: score(<Font 'KufiStandardGK' (KufiStandardGK.ttc) normal normal regular normal>) = 10.05\n",
      "2020-09-01 20:26:56,546 findfont: score(<Font 'Hiragino Sans' (ヒラギノ角ゴシック W8.ttc) normal normal 700 normal>) = 10.335\n",
      "2020-09-01 20:26:56,550 findfont: score(<Font 'STIXNonUnicode' (STIXNonUniBol.otf) normal normal 700 normal>) = 10.335\n",
      "2020-09-01 20:26:56,552 findfont: score(<Font 'PT Serif' (PTSerif.ttc) normal normal 400 normal>) = 10.05\n",
      "2020-09-01 20:26:56,555 findfont: score(<Font 'STIXIntegralsUpD' (STIXIntUpDBol.otf) normal normal 700 normal>) = 10.335\n",
      "2020-09-01 20:26:56,559 findfont: score(<Font 'Tahoma' (Tahoma.ttf) normal normal 400 normal>) = 10.05\n",
      "2020-09-01 20:26:56,563 findfont: score(<Font 'Noto Sans NKo' (NotoSansNKo-Regular.ttf) normal normal regular normal>) = 10.05\n",
      "2020-09-01 20:26:56,566 findfont: score(<Font 'Damascus' (Damascus.ttc) normal normal regular normal>) = 10.05\n",
      "2020-09-01 20:26:56,572 findfont: score(<Font 'Noto Sans Phoenician' (NotoSansPhoenician-Regular.ttf) normal normal regular normal>) = 10.05\n",
      "2020-09-01 20:26:56,579 findfont: score(<Font '.SF NS Display Condensed' (SFNSDisplayCondensed-Thin.otf) normal normal 400 condensed>) = 10.25\n",
      "2020-09-01 20:26:56,581 findfont: score(<Font 'Big Caslon' (BigCaslon.ttf) normal normal medium normal>) = 10.145\n",
      "2020-09-01 20:26:56,583 findfont: score(<Font 'Serto Batnan' (SyrCOMBatnan.otf) normal normal 400 normal>) = 10.05\n",
      "2020-09-01 20:26:56,586 findfont: score(<Font 'Noto Sans Glagolitic' (NotoSansGlagolitic-Regular.ttf) normal normal regular normal>) = 10.05\n",
      "2020-09-01 20:26:56,589 findfont: score(<Font 'Sathu' (Sathu.ttf) normal normal 400 normal>) = 10.05\n",
      "2020-09-01 20:26:56,590 findfont: score(<Font 'Noto Sans Syriac' (NotoSansSyriac-Regular.ttf) normal normal regular normal>) = 10.05\n",
      "2020-09-01 20:26:56,593 findfont: score(<Font '.SF Compact Display' (SFCompactDisplay.ttf) normal normal 400 normal>) = 10.05\n",
      "2020-09-01 20:26:56,595 findfont: score(<Font 'Telugu MN' (Telugu MN.ttc) normal normal 400 normal>) = 10.05\n",
      "2020-09-01 20:26:56,599 findfont: score(<Font 'Kokonor' (Kokonor.ttf) normal normal regular normal>) = 10.05\n",
      "2020-09-01 20:26:56,601 findfont: score(<Font 'Beirut' (Beirut.ttc) normal normal regular normal>) = 10.05\n",
      "2020-09-01 20:26:56,605 findfont: score(<Font 'Arial Unicode MS' (Arial Unicode.ttf) normal normal 400 normal>) = 10.05\n",
      "2020-09-01 20:26:56,606 findfont: score(<Font 'Gujarati Sangam MN' (Gujarati Sangam MN.ttc) normal normal 400 normal>) = 10.05\n",
      "2020-09-01 20:26:56,609 findfont: score(<Font 'Noto Sans Kayah Li' (NotoSansKayahLi-Regular.ttf) normal normal regular normal>) = 10.05\n",
      "2020-09-01 20:26:56,611 findfont: score(<Font 'Courier New' (Courier New.ttf) normal normal 400 normal>) = 10.05\n",
      "2020-09-01 20:26:56,614 findfont: score(<Font 'SignPainter' (SignPainter.ttc) normal normal 400 normal>) = 10.05\n",
      "2020-09-01 20:26:56,618 findfont: score(<Font 'Bitstream Vera Sans' (VeraBI.ttf) oblique normal 700 normal>) = 7.335\n",
      "2020-09-01 20:26:56,620 findfont: score(<Font 'Noto Sans Meetei Mayek' (NotoSansMeeteiMayek-Regular.ttf) normal normal regular normal>) = 10.05\n",
      "2020-09-01 20:26:56,623 findfont: score(<Font 'Apple Braille' (Apple Braille Pinpoint 8 Dot.ttf) normal normal 400 normal>) = 10.05\n",
      "2020-09-01 20:26:56,625 findfont: score(<Font '.SF NS Text Condensed' (SFNSTextCondensed-Medium.otf) normal normal medium condensed>) = 10.344999999999999\n",
      "2020-09-01 20:26:56,628 findfont: score(<Font 'Noto Sans Kaithi' (NotoSansKaithi-Regular.ttf) normal normal regular normal>) = 10.05\n",
      "2020-09-01 20:26:56,630 findfont: score(<Font 'PT Mono' (PTMono.ttc) normal normal 700 normal>) = 10.335\n",
      "2020-09-01 20:26:56,633 findfont: score(<Font 'Serto Mardin' (SyrCOMMardin.otf) normal normal 400 normal>) = 10.05\n",
      "2020-09-01 20:26:56,634 findfont: score(<Font 'Noto Sans Batak' (NotoSansBatak-Regular.ttf) normal normal regular normal>) = 10.05\n",
      "2020-09-01 20:26:56,636 findfont: score(<Font 'STIXSizeThreeSym' (STIXSizThreeSymReg.otf) normal normal regular normal>) = 10.05\n",
      "2020-09-01 20:26:56,638 findfont: score(<Font 'Noto Sans Yi' (NotoSansYi-Regular.ttf) normal normal regular normal>) = 10.05\n",
      "2020-09-01 20:26:56,642 findfont: score(<Font 'Baskerville' (Baskerville.ttc) normal normal 400 normal>) = 10.05\n",
      "2020-09-01 20:26:56,645 findfont: score(<Font 'Noto Sans Tifinagh' (NotoSansTifinagh-Regular.ttf) normal normal regular normal>) = 10.05\n",
      "2020-09-01 20:26:56,647 findfont: score(<Font 'Georgia' (Georgia Bold Italic.ttf) italic normal 700 normal>) = 11.335\n",
      "2020-09-01 20:26:56,650 findfont: score(<Font 'Noto Sans Old South Arabian' (NotoSansOldSouthArabian-Regular.ttf) normal normal regular normal>) = 10.05\n",
      "2020-09-01 20:26:56,652 findfont: score(<Font 'Noto Sans Limbu' (NotoSansLimbu-Regular.ttf) normal normal regular normal>) = 10.05\n",
      "2020-09-01 20:26:56,655 findfont: score(<Font 'Farisi' (Farisi.ttf) normal normal regular normal>) = 10.05\n",
      "2020-09-01 20:26:56,657 findfont: score(<Font 'Noto Sans Inscriptional Pahlavi' (NotoSansInscriptionalPahlavi-Regular.ttf) normal normal regular normal>) = 10.05\n",
      "2020-09-01 20:26:56,660 findfont: score(<Font 'Nadeem' (Nadeem.ttc) normal normal regular normal>) = 10.05\n",
      "2020-09-01 20:26:56,662 findfont: score(<Font 'Noto Sans Tagalog' (NotoSansTagalog-Regular.ttf) normal normal regular normal>) = 10.05\n",
      "2020-09-01 20:26:56,665 findfont: score(<Font 'Noto Sans Runic' (NotoSansRunic-Regular.ttf) normal normal regular normal>) = 10.05\n",
      "2020-09-01 20:26:56,667 findfont: score(<Font 'Arial Narrow' (Arial Narrow Bold Italic.ttf) italic normal 700 condensed>) = 11.535\n",
      "2020-09-01 20:26:56,670 findfont: score(<Font 'Mishafi' (Mishafi.ttf) normal normal regular normal>) = 10.05\n",
      "2020-09-01 20:26:56,673 findfont: score(<Font 'Microsoft Sans Serif' (Microsoft Sans Serif.ttf) normal normal 400 normal>) = 10.05\n",
      "2020-09-01 20:26:56,676 findfont: score(<Font 'Mshtakan' (Mshtakan.ttc) normal normal 400 normal>) = 10.05\n",
      "2020-09-01 20:26:56,680 findfont: score(<Font '.SF NS Mono' (SFNSMono.ttf) normal normal light normal>) = 10.24\n",
      "2020-09-01 20:26:56,687 findfont: score(<Font 'Shree Devanagari 714' (Shree714.ttc) normal normal 400 normal>) = 10.05\n",
      "2020-09-01 20:26:56,690 findfont: score(<Font 'Apple Braille' (Apple Braille Pinpoint 6 Dot.ttf) normal normal 400 normal>) = 10.05\n",
      "2020-09-01 20:26:56,692 findfont: score(<Font 'Apple Symbols' (Apple Symbols.ttf) normal normal 400 normal>) = 10.05\n",
      "2020-09-01 20:26:56,696 findfont: score(<Font 'Bodoni Ornaments' (Bodoni Ornaments.ttf) normal normal 400 normal>) = 10.05\n",
      "2020-09-01 20:26:56,699 findfont: score(<Font 'STIXIntegralsUpSm' (STIXIntUpSmBol.otf) normal normal 700 normal>) = 10.335\n",
      "2020-09-01 20:26:56,702 findfont: score(<Font 'Wingdings' (Wingdings.ttf) normal normal 400 normal>) = 10.05\n",
      "2020-09-01 20:26:56,704 findfont: score(<Font 'Menlo' (Menlo.ttc) normal normal regular normal>) = 10.05\n",
      "2020-09-01 20:26:56,706 findfont: score(<Font 'Kohinoor Telugu' (KohinoorTelugu.ttc) normal normal 400 normal>) = 10.05\n",
      "2020-09-01 20:26:56,712 findfont: score(<Font 'Noto Sans Lisu' (NotoSansLisu-Regular.ttf) normal normal regular normal>) = 10.05\n",
      "2020-09-01 20:26:56,721 findfont: score(<Font 'STIXSizeThreeSym' (STIXSizThreeSymBol.otf) normal normal 700 normal>) = 10.335\n",
      "2020-09-01 20:26:56,724 findfont: score(<Font 'STIXIntegralsD' (STIXIntDReg.otf) normal normal regular normal>) = 10.05\n",
      "2020-09-01 20:26:56,726 findfont: score(<Font 'Bodoni 72 Smallcaps' (Bodoni 72 Smallcaps Book.ttf) normal normal book normal>) = 10.05\n",
      "2020-09-01 20:26:56,727 findfont: score(<Font 'Trattatello' (Trattatello.ttf) normal normal 400 normal>) = 10.05\n",
      "2020-09-01 20:26:56,729 findfont: score(<Font 'Geeza Pro' (GeezaPro.ttc) normal normal regular normal>) = 10.05\n",
      "2020-09-01 20:26:56,732 findfont: score(<Font 'Noto Serif Balinese' (NotoSerifBalinese-Regular.ttf) normal normal regular normal>) = 10.05\n",
      "2020-09-01 20:26:56,734 findfont: score(<Font 'Serto Jerusalem' (SyrCOMJerusalemBold.otf) normal normal 700 normal>) = 10.335\n",
      "2020-09-01 20:26:56,737 findfont: score(<Font 'Noto Sans Tagbanwa' (NotoSansTagbanwa-Regular.ttf) normal normal regular normal>) = 10.05\n"
     ]
    },
    {
     "name": "stderr",
     "output_type": "stream",
     "text": [
      "2020-09-01 20:26:56,739 findfont: score(<Font '.SF NS Text Condensed' (SFNSTextCondensed-Light.otf) normal normal light condensed>) = 10.44\n",
      "2020-09-01 20:26:56,742 findfont: score(<Font 'Courier New' (Courier New Bold.ttf) normal normal 700 normal>) = 10.335\n",
      "2020-09-01 20:26:56,745 findfont: score(<Font 'Chalkboard SE' (ChalkboardSE.ttc) normal normal light normal>) = 10.24\n",
      "2020-09-01 20:26:56,746 findfont: score(<Font 'Mishafi Gold' (Mishafi Gold.ttf) normal normal regular normal>) = 10.05\n",
      "2020-09-01 20:26:56,749 findfont: score(<Font 'Luxi Mono' (luximri.ttf) oblique normal 400 normal>) = 11.05\n",
      "2020-09-01 20:26:56,754 findfont: score(<Font 'Noto Sans Ugaritic' (NotoSansUgaritic-Regular.ttf) normal normal regular normal>) = 10.05\n",
      "2020-09-01 20:26:56,756 findfont: score(<Font 'Hiragino Mincho ProN' (ヒラギノ明朝 ProN.ttc) normal normal 400 normal>) = 10.05\n",
      "2020-09-01 20:26:56,759 findfont: score(<Font 'Kailasa' (Kailasa.ttc) normal normal regular normal>) = 10.05\n",
      "2020-09-01 20:26:56,764 findfont: score(<Font 'Chalkboard' (Chalkboard.ttc) normal normal 400 normal>) = 10.05\n",
      "2020-09-01 20:26:56,769 findfont: score(<Font 'Bodoni 72 Oldstyle' (Bodoni 72 OS.ttc) normal normal book normal>) = 10.05\n",
      "2020-09-01 20:26:56,775 findfont: score(<Font 'Noto Sans Old Turkic' (NotoSansOldTurkic-Regular.ttf) normal normal regular normal>) = 10.05\n",
      "2020-09-01 20:26:56,777 findfont: score(<Font 'STIXSizeFourSym' (STIXSizFourSymReg.otf) normal normal regular normal>) = 10.05\n",
      "2020-09-01 20:26:56,781 findfont: score(<Font 'Luxi Sans' (luxisr.ttf) normal normal regular normal>) = 10.05\n",
      "2020-09-01 20:26:56,784 findfont: score(<Font 'Noto Sans Old Italic' (NotoSansOldItalic-Regular.ttf) italic normal regular normal>) = 11.05\n",
      "2020-09-01 20:26:56,786 findfont: score(<Font 'Bodoni 72' (Bodoni 72.ttc) normal normal book normal>) = 10.05\n",
      "2020-09-01 20:26:56,789 findfont: score(<Font 'Andale Mono' (Andale Mono.ttf) normal normal 400 normal>) = 10.05\n",
      "2020-09-01 20:26:56,792 findfont: score(<Font 'Khmer MN' (Khmer MN.ttc) normal normal 400 normal>) = 10.05\n",
      "2020-09-01 20:26:56,799 findfont: score(<Font 'Luxi Sans' (luxisb.ttf) normal normal 700 normal>) = 10.335\n",
      "2020-09-01 20:26:56,802 findfont: score(<Font 'Estrangelo Quenneshrin' (SyrCOMQenNeshrin.otf) normal normal 400 normal>) = 10.05\n",
      "2020-09-01 20:26:56,806 findfont: score(<Font 'Bitstream Vera Sans' (VeraBd.ttf) normal normal 700 normal>) = 6.335\n",
      "2020-09-01 20:26:56,812 findfont: score(<Font 'Hoefler Text' (Hoefler Text Ornaments.ttf) normal normal 400 normal>) = 10.05\n",
      "2020-09-01 20:26:56,814 findfont: score(<Font 'Snell Roundhand' (SnellRoundhand.ttc) normal normal 400 normal>) = 10.05\n",
      "2020-09-01 20:26:56,818 findfont: score(<Font 'Avenir Next Condensed' (Avenir Next Condensed.ttc) normal normal 700 condensed>) = 10.535\n",
      "2020-09-01 20:26:56,821 findfont: score(<Font 'Arial Rounded MT Bold' (Arial Rounded Bold.ttf) normal normal bold normal>) = 10.335\n",
      "2020-09-01 20:26:56,823 findfont: score(<Font 'AppleGothic' (AppleGothic.ttf) normal normal regular normal>) = 10.05\n",
      "2020-09-01 20:26:56,827 findfont: score(<Font 'Noto Sans Imperial Aramaic' (NotoSansImperialAramaic-Regular.ttf) normal normal regular normal>) = 10.05\n",
      "2020-09-01 20:26:56,830 findfont: score(<Font 'Herculanum' (Herculanum.ttf) normal normal 400 normal>) = 10.05\n",
      "2020-09-01 20:26:56,833 findfont: score(<Font 'Khmer Sangam MN' (Khmer Sangam MN.ttf) normal normal 400 normal>) = 10.05\n",
      "2020-09-01 20:26:56,836 findfont: score(<Font 'Noto Sans Lycian' (NotoSansLycian-Regular.ttf) normal normal regular normal>) = 10.05\n",
      "2020-09-01 20:26:56,839 findfont: score(<Font 'Luxi Serif' (luxirri.ttf) oblique normal 400 normal>) = 11.05\n",
      "2020-09-01 20:26:56,841 findfont: score(<Font 'Noto Sans Cham' (NotoSansCham-Regular.ttf) normal normal regular normal>) = 10.05\n",
      "2020-09-01 20:26:56,844 findfont: score(<Font 'Malayalam MN' (Malayalam MN.ttc) normal normal 400 normal>) = 10.05\n",
      "2020-09-01 20:26:56,847 findfont: score(<Font 'Malayalam Sangam MN' (Malayalam Sangam MN.ttc) normal normal 400 normal>) = 10.05\n",
      "2020-09-01 20:26:56,849 findfont: score(<Font 'STIXIntegralsSm' (STIXIntSmBol.otf) normal normal 700 normal>) = 10.335\n",
      "2020-09-01 20:26:56,852 findfont: score(<Font 'Noto Sans Mongolian' (NotoSansMongolian-Regular.ttf) normal normal 400 normal>) = 10.05\n",
      "2020-09-01 20:26:56,854 findfont: score(<Font 'Avenir' (Avenir.ttc) normal normal book normal>) = 10.05\n",
      "2020-09-01 20:26:56,856 findfont: score(<Font 'Luxi Serif' (luxirr.ttf) normal normal regular normal>) = 10.05\n",
      "2020-09-01 20:26:56,858 findfont: score(<Font 'Bitstream Vera Sans Mono' (VeraMoIt.ttf) oblique normal 400 normal>) = 11.05\n",
      "2020-09-01 20:26:56,861 findfont: score(<Font 'Georgia' (Georgia.ttf) normal normal 400 normal>) = 10.05\n",
      "2020-09-01 20:26:56,864 findfont: score(<Font 'Noto Serif Myanmar' (NotoSerifMyanmar.ttc) normal normal black normal>) = 10.525\n",
      "2020-09-01 20:26:56,868 findfont: score(<Font 'Luxi Serif' (luxirb.ttf) normal normal 700 normal>) = 10.335\n",
      "2020-09-01 20:26:56,872 findfont: score(<Font 'Noto Sans Osmanya' (NotoSansOsmanya-Regular.ttf) normal normal regular normal>) = 10.05\n",
      "2020-09-01 20:26:56,874 findfont: score(<Font 'STIXGeneral' (STIXGeneralBol.otf) normal normal 700 normal>) = 10.335\n",
      "2020-09-01 20:26:56,877 findfont: score(<Font 'Zapf Dingbats' (ZapfDingbats.ttf) normal normal 400 normal>) = 10.05\n",
      "2020-09-01 20:26:56,879 findfont: score(<Font 'STIXIntegralsD' (STIXIntDBol.otf) normal normal 700 normal>) = 10.335\n",
      "2020-09-01 20:26:56,882 findfont: score(<Font 'Serto Urhoy' (SyrCOMUrhoy.otf) normal normal 400 normal>) = 10.05\n",
      "2020-09-01 20:26:56,884 findfont: score(<Font 'Hiragino Sans' (ヒラギノ角ゴシック W5.ttc) normal normal 700 normal>) = 10.335\n",
      "2020-09-01 20:26:56,888 findfont: score(<Font 'Noto Sans Javanese' (NotoSansJavanese-Regular.otf) normal normal regular normal>) = 10.05\n",
      "2020-09-01 20:26:56,890 findfont: score(<Font 'Al Tarikh' (Al Tarikh.ttc) normal normal regular normal>) = 10.05\n",
      "2020-09-01 20:26:56,892 findfont: score(<Font 'Serto Batnan' (SyrCOMBatnanBold.otf) normal normal 700 normal>) = 10.335\n",
      "2020-09-01 20:26:56,895 findfont: score(<Font '.SF Compact Rounded' (SFCompactRounded.ttf) normal normal 400 normal>) = 10.05\n",
      "2020-09-01 20:26:56,898 findfont: score(<Font 'STIXSizeTwoSym' (STIXSizTwoSymBol.otf) normal normal 700 normal>) = 10.335\n",
      "2020-09-01 20:26:56,901 findfont: score(<Font 'Trebuchet MS' (Trebuchet MS Bold.ttf) normal normal 700 normal>) = 10.335\n",
      "2020-09-01 20:26:56,903 findfont: score(<Font 'Noteworthy' (Noteworthy.ttc) normal normal light normal>) = 10.24\n",
      "2020-09-01 20:26:56,905 findfont: score(<Font '.SF NS Display Condensed' (SFNSDisplayCondensed-Regular.otf) normal normal regular condensed>) = 10.25\n",
      "2020-09-01 20:26:56,910 findfont: score(<Font 'PT Serif Caption' (PTSerifCaption.ttc) normal normal 400 normal>) = 10.05\n",
      "2020-09-01 20:26:57,880 findfont: score(<Font '.Arabic UI Display' (ArabicUIDisplay.ttc) normal normal black normal>) = 10.525\n",
      "2020-09-01 20:26:57,882 findfont: score(<Font '.SF Compact Text' (SFCompactTextItalic.ttf) italic normal 400 normal>) = 11.05\n",
      "2020-09-01 20:26:57,885 findfont: score(<Font 'Estrangelo Talada' (SyrCOMTalada.otf) normal normal 400 normal>) = 10.05\n",
      "2020-09-01 20:26:57,888 findfont: score(<Font 'Apple SD Gothic Neo' (AppleSDGothicNeo.ttc) normal normal regular normal>) = 10.05\n",
      "2020-09-01 20:26:57,892 findfont: score(<Font '.Helvetica Neue DeskInterface' (HelveticaNeueDeskInterface.ttc) normal normal regular normal>) = 10.05\n",
      "2020-09-01 20:26:57,897 findfont: score(<Font 'Heiti TC' (STHeiti Medium.ttc) normal normal 700 normal>) = 10.335\n",
      "2020-09-01 20:26:57,900 findfont: score(<Font 'Bangla Sangam MN' (Bangla Sangam MN.ttc) normal normal 400 normal>) = 10.05\n",
      "2020-09-01 20:26:57,906 findfont: score(<Font 'Sinhala Sangam MN' (Sinhala Sangam MN.ttc) normal normal 400 normal>) = 10.05\n",
      "2020-09-01 20:26:57,909 findfont: score(<Font '.SF NS Display Condensed' (SFNSDisplayCondensed-Heavy.otf) normal normal heavy condensed>) = 10.629999999999999\n",
      "2020-09-01 20:26:57,910 findfont: score(<Font 'STIXGeneral' (STIXGeneral.otf) normal normal regular normal>) = 10.05\n",
      "2020-09-01 20:26:57,915 findfont: score(<Font 'Serto Jerusalem' (SyrCOMJerusalemItalic.otf) italic normal 400 normal>) = 11.05\n"
     ]
    },
    {
     "name": "stderr",
     "output_type": "stream",
     "text": [
      "2020-09-01 20:26:57,917 findfont: score(<Font 'New Peninim MT' (NewPeninimMT.ttc) normal normal 400 normal>) = 10.05\n",
      "2020-09-01 20:26:57,921 findfont: score(<Font 'STIXSizeFourSym' (STIXSizFourSymBol.otf) normal normal 700 normal>) = 10.335\n",
      "2020-09-01 20:26:57,923 findfont: score(<Font 'Luxi Mono' (luximb.ttf) normal normal 700 normal>) = 10.335\n",
      "2020-09-01 20:26:57,926 findfont: score(<Font 'InaiMathi' (InaiMathi-MN.ttc) normal normal 400 normal>) = 10.05\n",
      "2020-09-01 20:26:57,934 findfont: score(<Font 'DecoType Naskh' (DecoTypeNaskh.ttc) normal normal regular normal>) = 10.05\n",
      "2020-09-01 20:26:57,936 findfont: score(<Font 'Al Bayan' (AlBayan.ttc) normal normal 400 normal>) = 10.05\n",
      "2020-09-01 20:26:57,944 findfont: score(<Font 'Gill Sans' (GillSans.ttc) normal normal 400 normal>) = 10.05\n",
      "2020-09-01 20:26:57,947 findfont: score(<Font 'Luminari' (Luminari.ttf) normal normal 400 normal>) = 10.05\n",
      "2020-09-01 20:26:57,949 findfont: score(<Font 'Noto Sans Lydian' (NotoSansLydian-Regular.ttf) normal normal regular normal>) = 10.05\n",
      "2020-09-01 20:26:57,954 findfont: score(<Font 'Hiragino Sans' (ヒラギノ角ゴシック W0.ttc) normal normal 400 normal>) = 10.05\n",
      "2020-09-01 20:26:57,960 findfont: score(<Font 'Georgia' (Georgia Bold.ttf) normal normal 700 normal>) = 10.335\n",
      "2020-09-01 20:26:57,961 findfont: score(<Font 'Heiti TC' (STHeiti Light.ttc) normal normal light normal>) = 10.24\n",
      "2020-09-01 20:26:57,964 findfont: score(<Font 'PT Sans' (PTSans.ttc) normal normal 400 normal>) = 10.05\n",
      "2020-09-01 20:26:57,967 findfont: score(<Font 'STIXSizeOneSym' (STIXSizOneSymBol.otf) normal normal 700 normal>) = 10.335\n",
      "2020-09-01 20:26:57,971 findfont: score(<Font '.SF NS Text Condensed' (SFNSTextCondensed-Semibold.otf) normal normal semibold condensed>) = 10.44\n",
      "2020-09-01 20:26:57,974 findfont: score(<Font 'Zapfino' (Zapfino.ttf) normal normal 400 normal>) = 10.05\n",
      "2020-09-01 20:26:57,977 findfont: score(<Font 'Skia' (Skia.ttf) normal normal 400 normal>) = 10.05\n",
      "2020-09-01 20:26:57,983 findfont: score(<Font 'Trebuchet MS' (Trebuchet MS Italic.ttf) italic normal 400 normal>) = 11.05\n",
      "2020-09-01 20:26:57,985 findfont: score(<Font 'Euphemia UCAS' (EuphemiaCAS.ttc) normal normal 400 normal>) = 10.05\n",
      "2020-09-01 20:26:57,988 findfont: score(<Font 'Superclarendon' (SuperClarendon.ttc) normal normal regular normal>) = 10.05\n",
      "2020-09-01 20:26:57,991 findfont: score(<Font 'Symbol' (Symbol.ttf) normal normal 400 normal>) = 10.05\n",
      "2020-09-01 20:26:57,995 findfont: score(<Font 'Apple Braille' (Apple Braille.ttf) normal normal 400 normal>) = 10.05\n",
      "2020-09-01 20:26:57,998 findfont: score(<Font 'Gurmukhi MT' (Gurmukhi.ttf) normal normal 400 normal>) = 10.05\n",
      "2020-09-01 20:26:58,001 findfont: score(<Font 'Noto Sans Kannada' (NotoSansKannada.ttc) normal normal black normal>) = 10.525\n",
      "2020-09-01 20:26:58,006 findfont: score(<Font 'Noto Sans Tai Tham' (NotoSansTaiTham-Regular.ttf) normal normal 400 normal>) = 10.05\n",
      "2020-09-01 20:26:58,010 findfont: score(<Font '.Aqua Kana' (AquaKana.ttc) normal normal 400 normal>) = 10.05\n",
      "2020-09-01 20:26:58,013 findfont: score(<Font 'Luxi Sans' (luxisri.ttf) oblique normal 400 normal>) = 11.05\n",
      "2020-09-01 20:26:58,016 findfont: score(<Font 'Farah' (Farah.ttc) normal normal regular normal>) = 10.05\n",
      "2020-09-01 20:26:58,020 findfont: score(<Font 'Estrangelo Nisibin Outline' (SyrCOMNisibinOutline.otf) normal normal 400 normal>) = 10.05\n",
      "2020-09-01 20:26:58,023 findfont: score(<Font '.New York' (NewYork.ttf) normal normal 400 normal>) = 10.05\n",
      "2020-09-01 20:26:58,026 findfont: score(<Font '.SF NS Rounded' (SFNSRounded.ttf) normal normal 400 normal>) = 10.05\n",
      "2020-09-01 20:26:58,029 findfont: score(<Font 'Bangla MN' (Bangla MN.ttc) normal normal 400 normal>) = 10.05\n",
      "2020-09-01 20:26:58,031 findfont: score(<Font 'Diwan Thuluth' (Diwan Thuluth.ttf) normal normal regular normal>) = 10.05\n",
      "2020-09-01 20:26:58,036 findfont: score(<Font '.LastResort' (LastResort.otf) normal normal 400 normal>) = 10.05\n",
      "2020-09-01 20:26:58,040 findfont: score(<Font 'Lao MN' (Lao MN.ttc) normal normal 400 normal>) = 10.05\n",
      "2020-09-01 20:26:58,043 findfont: score(<Font 'STIXVariants' (STIXVar.otf) normal normal regular normal>) = 10.05\n",
      "2020-09-01 20:26:58,047 findfont: score(<Font 'Webdings' (Webdings.ttf) normal normal 400 normal>) = 10.05\n",
      "2020-09-01 20:26:58,050 findfont: score(<Font '.SF NS Display Condensed' (SFNSDisplayCondensed-Medium.otf) normal normal medium condensed>) = 10.344999999999999\n",
      "2020-09-01 20:26:58,052 findfont: score(<Font 'Arial Hebrew' (ArialHB.ttc) normal normal 400 normal>) = 10.05\n",
      "2020-09-01 20:26:58,055 findfont: score(<Font 'Arial' (Arial.ttf) normal normal 400 normal>) = 0.05\n",
      "2020-09-01 20:26:58,056 findfont: score(<Font 'Serto Jerusalem Outline' (SyrCOMJerusalemOutline.otf) normal normal 400 normal>) = 10.05\n",
      "2020-09-01 20:26:58,058 findfont: score(<Font 'Savoye LET' (Savoye LET.ttc) normal normal 400 normal>) = 10.05\n",
      "2020-09-01 20:26:58,060 findfont: score(<Font 'American Typewriter' (AmericanTypewriter.ttc) normal normal 400 normal>) = 10.05\n",
      "2020-09-01 20:26:58,065 findfont: score(<Font 'Luxi Sans' (luxisbi.ttf) oblique normal 700 normal>) = 11.335\n",
      "2020-09-01 20:26:58,067 findfont: score(<Font '.SF NS Display Condensed' (SFNSDisplayCondensed-Semibold.otf) normal normal semibold condensed>) = 10.44\n",
      "2020-09-01 20:26:58,072 findfont: score(<Font 'Gujarati MT' (GujaratiMT.ttc) normal normal 400 normal>) = 10.05\n",
      "2020-09-01 20:26:58,074 findfont: score(<Font 'Arial Narrow' (Arial Narrow Bold.ttf) normal normal 700 condensed>) = 10.535\n",
      "2020-09-01 20:26:58,076 findfont: score(<Font 'Georgia' (Georgia Italic.ttf) italic normal 400 normal>) = 11.05\n",
      "2020-09-01 20:26:58,079 findfont: score(<Font 'STIXIntegralsUpD' (STIXIntUpDReg.otf) normal normal regular normal>) = 10.05\n",
      "2020-09-01 20:26:58,081 findfont: score(<Font 'Arial' (Arial Bold Italic.ttf) italic normal 700 normal>) = 1.335\n",
      "2020-09-01 20:26:58,085 findfont: score(<Font 'Wingdings 2' (Wingdings 2.ttf) normal normal 400 normal>) = 10.05\n",
      "2020-09-01 20:26:58,089 findfont: score(<Font 'Noto Sans Carian' (NotoSansCarian-Regular.ttf) normal normal regular normal>) = 10.05\n",
      "2020-09-01 20:26:58,095 findfont: score(<Font 'STIXIntegralsUp' (STIXIntUpReg.otf) normal normal regular normal>) = 10.05\n",
      "2020-09-01 20:26:58,097 findfont: score(<Font 'Noto Sans Shavian' (NotoSansShavian-Regular.ttf) normal normal regular normal>) = 10.05\n",
      "2020-09-01 20:26:58,099 findfont: score(<Font 'STIXIntegralsUpSm' (STIXIntUpSmReg.otf) normal normal regular normal>) = 10.05\n",
      "2020-09-01 20:26:58,102 findfont: score(<Font 'Noto Sans Buhid' (NotoSansBuhid-Regular.ttf) normal normal regular normal>) = 10.05\n",
      "2020-09-01 20:26:58,106 findfont: score(<Font 'Thonburi' (Thonburi.ttc) normal normal 400 normal>) = 10.05\n",
      "2020-09-01 20:26:58,108 findfont: score(<Font 'Kohinoor Bangla' (KohinoorBangla.ttc) normal normal 400 normal>) = 10.05\n",
      "2020-09-01 20:26:58,110 findfont: score(<Font 'Plantagenet Cherokee' (PlantagenetCherokee.ttf) normal normal 400 normal>) = 10.05\n",
      "2020-09-01 20:26:58,114 findfont: score(<Font 'Al Nile' (Al Nile.ttc) normal normal 400 normal>) = 10.05\n",
      "2020-09-01 20:26:58,117 findfont: score(<Font 'Courier New' (Courier New Bold Italic.ttf) italic normal 700 normal>) = 11.335\n",
      "2020-09-01 20:26:58,119 findfont: score(<Font 'Noto Sans PhagsPa' (NotoSansPhagsPa-Regular.ttf) normal normal regular normal>) = 10.05\n",
      "2020-09-01 20:26:58,125 findfont: score(<Font 'Apple Braille' (Apple Braille Outline 6 Dot.ttf) normal normal 400 normal>) = 10.05\n",
      "2020-09-01 20:26:58,128 findfont: score(<Font 'Galvji' (Galvji.ttc) normal normal 400 normal>) = 10.05\n",
      "2020-09-01 20:26:58,131 findfont: score(<Font 'Optima' (Optima.ttc) normal normal regular normal>) = 10.05\n",
      "2020-09-01 20:26:58,134 findfont: score(<Font 'ITF Devanagari' (ITFDevanagari.ttc) normal normal book normal>) = 10.05\n",
      "2020-09-01 20:26:58,135 findfont: score(<Font 'Noto Sans Thaana' (NotoSansThaana-Regular.ttf) normal normal regular normal>) = 10.05\n",
      "2020-09-01 20:26:58,139 findfont: score(<Font 'Arial Unicode MS' (Arial Unicode.ttf) normal normal 400 normal>) = 10.05\n",
      "2020-09-01 20:26:58,143 findfont: score(<Font 'Arial' (Arial Italic.ttf) italic normal 400 normal>) = 1.05\n",
      "2020-09-01 20:26:58,152 findfont: score(<Font 'Lao Sangam MN' (Lao Sangam MN.ttf) normal normal 400 normal>) = 10.05\n",
      "2020-09-01 20:26:58,155 findfont: score(<Font 'Noto Sans Ol Chiki' (NotoSansOlChiki-Regular.ttf) normal normal regular normal>) = 10.05\n",
      "2020-09-01 20:26:58,157 findfont: score(<Font 'Trebuchet MS' (Trebuchet MS.ttf) normal normal 400 normal>) = 10.05\n",
      "2020-09-01 20:26:58,160 findfont: score(<Font 'Times New Roman' (Times New Roman Italic.ttf) italic normal roman normal>) = 11.145\n",
      "2020-09-01 20:26:58,162 findfont: score(<Font 'Myanmar MN' (Myanmar MN.ttc) normal normal 400 normal>) = 10.05\n",
      "2020-09-01 20:26:58,165 findfont: score(<Font 'Avenir Next' (Avenir Next.ttc) normal normal 700 normal>) = 10.335\n",
      "2020-09-01 20:26:58,168 findfont: score(<Font 'Estrangelo Midyat' (SyrCOMMidyat.otf) normal normal 400 normal>) = 10.05\n",
      "2020-09-01 20:26:58,172 findfont: score(<Font 'AppleMyungjo' (AppleMyungjo.ttf) normal normal regular normal>) = 10.05\n",
      "2020-09-01 20:26:58,174 findfont: score(<Font 'Kannada MN' (Kannada MN.ttc) normal normal 400 normal>) = 10.05\n",
      "2020-09-01 20:26:58,178 findfont: score(<Font '.Keyboard' (Keyboard.ttf) normal normal 400 normal>) = 10.05\n",
      "2020-09-01 20:26:58,180 findfont: score(<Font 'Lucida Grande' (LucidaGrande.ttc) normal normal 400 normal>) = 10.05\n",
      "2020-09-01 20:26:58,183 findfont: score(<Font 'Noto Sans Myanmar' (NotoSansMyanmar.ttc) normal normal black normal>) = 10.525\n",
      "2020-09-01 20:26:58,186 findfont: score(<Font 'Myanmar Sangam MN' (Myanmar Sangam MN.ttc) normal normal 400 normal>) = 10.05\n",
      "2020-09-01 20:26:58,189 findfont: score(<Font 'Diwan Kufi' (Diwan Kufi.ttc) normal normal regular normal>) = 10.05\n",
      "2020-09-01 20:26:58,193 findfont: score(<Font 'Bitstream Vera Sans' (Vera.ttf) normal normal 400 normal>) = 6.05\n",
      "2020-09-01 20:26:58,197 findfont: score(<Font '.SF NS Text Condensed' (SFNSTextCondensed-Regular.otf) normal normal regular condensed>) = 10.25\n",
      "2020-09-01 20:26:58,200 findfont: score(<Font 'Impact' (Impact.ttf) normal normal 400 normal>) = 10.05\n",
      "2020-09-01 20:26:58,203 findfont: score(<Font 'Noto Nastaliq Urdu' (NotoNastaliq.ttc) normal normal 400 normal>) = 10.05\n",
      "2020-09-01 20:26:58,205 findfont: score(<Font 'Noto Sans Vai' (NotoSansVai-Regular.ttf) normal normal regular normal>) = 10.05\n",
      "2020-09-01 20:26:58,206 findfont: score(<Font 'Arial Black' (Arial Black.ttf) normal normal black normal>) = 10.525\n",
      "2020-09-01 20:26:58,208 findfont: score(<Font 'Serto Jerusalem' (SyrCOMJerusalem.otf) normal normal 400 normal>) = 10.05\n",
      "2020-09-01 20:26:58,210 findfont: score(<Font 'STIXGeneral' (STIXGeneralItalic.otf) italic normal 400 normal>) = 11.05\n",
      "2020-09-01 20:26:58,213 findfont: score(<Font 'Corsiva Hebrew' (Corsiva.ttc) normal normal 400 normal>) = 10.05\n",
      "2020-09-01 20:26:58,215 findfont: score(<Font 'Waseem' (Waseem.ttc) normal normal regular normal>) = 10.05\n",
      "2020-09-01 20:26:58,218 findfont: score(<Font '.SF NS Display Condensed' (SFNSDisplayCondensed-Ultralight.otf) normal normal ultralight condensed>) = 10.535\n",
      "2020-09-01 20:26:58,220 findfont: score(<Font 'Verdana' (Verdana Bold.ttf) normal normal 700 normal>) = 10.335\n",
      "2020-09-01 20:26:58,222 findfont: score(<Font 'Muna' (Muna.ttc) normal normal regular normal>) = 10.05\n",
      "2020-09-01 20:26:58,224 findfont: score(<Font 'Noto Sans Inscriptional Parthian' (NotoSansInscriptionalParthian-Regular.ttf) normal normal regular normal>) = 10.05\n",
      "2020-09-01 20:26:58,228 findfont: score(<Font 'Hiragino Sans' (ヒラギノ角ゴシック W6.ttc) normal normal 700 normal>) = 10.335\n",
      "2020-09-01 20:26:58,230 findfont: score(<Font 'PingFang HK' (PingFang.ttc) normal normal regular normal>) = 10.05\n",
      "2020-09-01 20:26:58,234 findfont: score(<Font 'Noto Sans Rejang' (NotoSansRejang-Regular.ttf) normal normal regular normal>) = 10.05\n",
      "2020-09-01 20:26:58,237 findfont: score(<Font 'Noto Sans Cuneiform' (NotoSansCuneiform-Regular.ttf) normal normal regular normal>) = 10.05\n",
      "2020-09-01 20:26:58,239 findfont: score(<Font '.SF NS Text Condensed' (SFNSTextCondensed-Bold.otf) normal normal bold condensed>) = 10.535\n",
      "2020-09-01 20:26:58,240 findfont: score(<Font 'Baghdad' (Baghdad.ttc) normal normal regular normal>) = 10.05\n",
      "2020-09-01 20:26:58,247 findfont: score(<Font 'Palatino' (Palatino.ttc) normal normal 400 normal>) = 10.05\n",
      "2020-09-01 20:26:58,250 findfont: score(<Font 'Wingdings 3' (Wingdings 3.ttf) normal normal 400 normal>) = 10.05\n",
      "2020-09-01 20:26:58,254 findfont: score(<Font 'Courier New' (Courier New Italic.ttf) italic normal 400 normal>) = 11.05\n",
      "2020-09-01 20:26:58,257 findfont: score(<Font 'Helvetica' (Helvetica.ttc) normal normal 400 normal>) = 10.05\n",
      "2020-09-01 20:26:58,260 findfont: score(<Font 'Mukta Mahee' (MuktaMahee.ttc) normal normal regular normal>) = 10.05\n",
      "2020-09-01 20:26:58,262 findfont: score(<Font 'STIXNonUnicode' (STIXNonUniBolIta.otf) italic normal 700 normal>) = 11.335\n",
      "2020-09-01 20:26:58,265 findfont: score(<Font 'STIXSizeTwoSym' (STIXSizTwoSymReg.otf) normal normal regular normal>) = 10.05\n",
      "2020-09-01 20:26:58,268 findfont: score(<Font 'Copperplate' (Copperplate.ttc) normal normal 400 normal>) = 10.05\n",
      "2020-09-01 20:26:58,272 findfont: score(<Font 'Noto Sans New Tai Lue' (NotoSansNewTaiLue-Regular.ttf) normal normal regular normal>) = 10.05\n",
      "2020-09-01 20:26:58,274 findfont: score(<Font 'Oriya Sangam MN' (Oriya Sangam MN.ttc) normal normal 400 normal>) = 10.05\n",
      "2020-09-01 20:26:58,276 findfont: score(<Font 'Cochin' (Cochin.ttc) normal normal 400 normal>) = 10.05\n",
      "2020-09-01 20:26:58,280 findfont: score(<Font 'Noto Sans Avestan' (NotoSansAvestan-Regular.ttf) normal normal regular normal>) = 10.05\n",
      "2020-09-01 20:26:58,282 findfont: score(<Font 'Noto Sans Buginese' (NotoSansBuginese-Regular.ttf) normal normal regular normal>) = 10.05\n",
      "2020-09-01 20:26:58,285 findfont: score(<Font 'Brush Script MT' (Brush Script.ttf) italic normal 400 normal>) = 11.05\n",
      "2020-09-01 20:26:58,288 findfont: score(<Font '.Arabic UI Text' (ArabicUIText.ttc) normal normal regular normal>) = 10.05\n",
      "2020-09-01 20:26:58,292 findfont: score(<Font 'Devanagari MT' (DevanagariMT.ttc) normal normal 400 normal>) = 10.05\n",
      "2020-09-01 20:26:58,295 findfont: score(<Font 'Goha-Tibeb Zemen' (GohaTibebZemen.otf) normal normal 400 normal>) = 10.05\n",
      "2020-09-01 20:26:58,298 findfont: score(<Font 'Bitstream Vera Sans Mono' (VeraMoBd.ttf) normal normal 700 normal>) = 10.335\n",
      "2020-09-01 20:26:58,301 findfont: score(<Font 'STIXNonUnicode' (STIXNonUniIta.otf) italic normal 400 normal>) = 11.05\n",
      "2020-09-01 20:26:58,304 findfont: score(<Font 'Bitstream Vera Sans Mono' (VeraMono.ttf) normal normal 400 normal>) = 10.05\n",
      "2020-09-01 20:26:58,306 findfont: score(<Font 'Didot' (Didot.ttc) normal normal 400 normal>) = 10.05\n",
      "2020-09-01 20:26:58,308 findfont: score(<Font 'Chalkduster' (Chalkduster.ttf) normal normal 400 normal>) = 10.05\n",
      "2020-09-01 20:26:58,311 findfont: score(<Font 'Noto Sans Tai Le' (NotoSansTaiLe-Regular.ttf) normal normal regular normal>) = 10.05\n",
      "2020-09-01 20:26:58,317 findfont: score(<Font 'STIXGeneral' (STIXGeneralBolIta.otf) italic normal 700 normal>) = 11.335\n",
      "2020-09-01 20:26:58,324 findfont: score(<Font 'Hiragino Sans' (ヒラギノ角ゴシック W4.ttc) normal normal 400 normal>) = 10.05\n",
      "2020-09-01 20:26:58,326 findfont: score(<Font 'Verdana' (Verdana Italic.ttf) italic normal 400 normal>) = 11.05\n",
      "2020-09-01 20:26:58,329 findfont: score(<Font 'Tamil Sangam MN' (Tamil Sangam MN.ttc) normal normal 400 normal>) = 10.05\n",
      "2020-09-01 20:26:58,331 findfont: score(<Font '.SF NS Mono' (SFNSMonoItalic.ttf) italic normal light normal>) = 11.24\n",
      "2020-09-01 20:26:58,335 findfont: score(<Font '.New York' (NewYorkItalic.ttf) italic normal 400 normal>) = 11.05\n",
      "2020-09-01 20:26:58,338 findfont: score(<Font 'Hiragino Sans' (ヒラギノ角ゴシック W3.ttc) normal normal 400 normal>) = 10.05\n",
      "2020-09-01 20:26:58,344 findfont: score(<Font 'Times' (Times.ttc) normal normal roman normal>) = 10.145\n",
      "2020-09-01 20:26:58,346 findfont: score(<Font 'Comic Sans MS' (Comic Sans MS Bold.ttf) normal normal 700 normal>) = 10.335\n",
      "2020-09-01 20:26:58,348 findfont: score(<Font 'Noto Sans Coptic' (NotoSansCoptic-Regular.ttf) normal normal regular normal>) = 10.05\n",
      "2020-09-01 20:26:58,350 findfont: score(<Font 'Hiragino Sans GB' (Hiragino Sans GB.ttc) normal normal 400 normal>) = 10.05\n",
      "2020-09-01 20:26:58,354 findfont: score(<Font '.SF Compact Text' (SFCompactText.ttf) normal normal 400 normal>) = 10.05\n"
     ]
    },
    {
     "name": "stderr",
     "output_type": "stream",
     "text": [
      "2020-09-01 20:26:58,360 findfont: score(<Font 'Goha-Tibeb Zemen' (GohaTibebZemen.ttf) normal normal 400 normal>) = 10.05\n",
      "2020-09-01 20:26:58,363 findfont: score(<Font 'Serto Mardin' (SyrCOMMardinBold.otf) normal normal 700 normal>) = 10.335\n",
      "2020-09-01 20:26:58,365 findfont: score(<Font 'Sana' (Sana.ttc) normal normal regular normal>) = 10.05\n",
      "2020-09-01 20:26:58,369 findfont: score(<Font 'Noto Sans Tai Viet' (NotoSansTaiViet-Regular.ttf) normal normal regular normal>) = 10.05\n",
      "2020-09-01 20:26:58,372 findfont: score(<Font 'Noto Sans Brahmi' (NotoSansBrahmi-Regular.ttf) normal normal regular normal>) = 10.05\n",
      "2020-09-01 20:26:58,375 findfont: score(<Font 'Sinhala MN' (Sinhala MN.ttc) normal normal 400 normal>) = 10.05\n",
      "2020-09-01 20:26:58,377 findfont: score(<Font 'Iowan Old Style' (Iowan Old Style.ttc) normal normal roman normal>) = 10.145\n",
      "2020-09-01 20:26:58,381 findfont: score(<Font 'Kohinoor Gujarati' (KohinoorGujarati.ttc) normal normal bold normal>) = 10.335\n",
      "2020-09-01 20:26:58,383 findfont: score(<Font 'Times New Roman' (Times New Roman Bold.ttf) normal normal 700 normal>) = 10.335\n",
      "2020-09-01 20:26:58,387 findfont: score(<Font 'Noto Sans Oriya' (NotoSansOriya.ttc) normal normal 400 normal>) = 10.05\n",
      "2020-09-01 20:26:58,389 findfont: score(<Font 'Marion' (Marion.ttc) normal normal regular normal>) = 10.05\n",
      "2020-09-01 20:26:58,392 findfont: Matching sans\\-serif:style=normal:variant=normal:weight=normal:stretch=normal:size=12.0 to Arial ('/System/Library/Fonts/Supplemental/Arial.ttf') with score of 0.050000.\n"
     ]
    },
    {
     "data": {
      "image/png": "[encoded data removed]",
      "text/plain": [
       "<Figure size 432x288 with 1 Axes>"
      ]
     },
     "metadata": {},
     "output_type": "display_data"
    }
   ],
   "source": [
    "sns.distplot(circle_data.num, kde=False).set_xlabel(\"number of stations\")"
   ]
  },
  {
   "cell_type": "markdown",
   "metadata": {},
   "source": [
    "### The number of stations that reported Snow data (non-NaN stations per circle)"
   ]
  },
  {
   "cell_type": "code",
   "execution_count": 48,
   "metadata": {},
   "outputs": [
    {
     "data": {
      "text/plain": [
       "count    68390.000000\n",
       "mean         0.866486\n",
       "std          1.154033\n",
       "min          0.000000\n",
       "25%          0.000000\n",
       "50%          1.000000\n",
       "75%          1.000000\n",
       "max         30.000000\n",
       "Name: num_notna, dtype: float64"
      ]
     },
     "execution_count": 48,
     "metadata": {},
     "output_type": "execute_result"
    }
   ],
   "source": [
    "circle_data.num_notna.describe()"
   ]
  },
  {
   "cell_type": "code",
   "execution_count": 49,
   "metadata": {},
   "outputs": [
    {
     "data": {
      "text/plain": [
       "Text(0.5, 0, 'number of non-NaN stations')"
      ]
     },
     "execution_count": 49,
     "metadata": {},
     "output_type": "execute_result"
    },
    {
     "data": {
      "image/png": "[encoded data removed]",
      "text/plain": [
       "<Figure size 432x288 with 1 Axes>"
      ]
     },
     "metadata": {},
     "output_type": "display_data"
    }
   ],
   "source": [
    "sns.distplot(circle_data.num_notna, kde=False).set_xlabel(\"number of non-NaN stations\")"
   ]
  },
  {
   "cell_type": "markdown",
   "metadata": {},
   "source": [
    "## Missing Stations"
   ]
  },
  {
   "cell_type": "code",
   "execution_count": 50,
   "metadata": {},
   "outputs": [
    {
     "data": {
      "text/plain": [
       "Text(0.5, 1.0, 'cumulative percent of stations missing')"
      ]
     },
     "execution_count": 50,
     "metadata": {},
     "output_type": "execute_result"
    },
    {
     "data": {
      "image/png": "[encoded data removed]",
      "text/plain": [
       "<Figure size 432x288 with 1 Axes>"
      ]
     },
     "metadata": {},
     "output_type": "display_data"
    }
   ],
   "source": [
    "# Plot the number of stations (y-axis) agiast the proportion of stations missing rain data (x-axis)\n",
    "sns.distplot((1 - circle_data.num_notna/circle_data.num) * 100, kde=False, hist_kws={'cumulative': True}).set_title('cumulative percent of stations missing')\n"
   ]
  },
  {
   "cell_type": "code",
   "execution_count": 51,
   "metadata": {},
   "outputs": [
    {
     "data": {
      "text/plain": [
       "<seaborn.axisgrid.JointGrid at 0x12bd99c18>"
      ]
     },
     "execution_count": 51,
     "metadata": {},
     "output_type": "execute_result"
    },
    {
     "data": {
      "image/png": "[encoded data removed]",
      "text/plain": [
       "<Figure size 432x432 with 3 Axes>"
      ]
     },
     "metadata": {},
     "output_type": "display_data"
    }
   ],
   "source": [
    "# Plot the relationship between the nuber of stations and the proportion of stations missing Rain data\n",
    "sns.jointplot(circle_data.num, (1 - circle_data.num_notna/circle_data.num) * 100).set_axis_labels(\"number of stations\", 'percent missing')"
   ]
  },
  {
   "cell_type": "markdown",
   "metadata": {},
   "source": [
    "#### Percent of circles where all stations are missing data"
   ]
  },
  {
   "cell_type": "code",
   "execution_count": 52,
   "metadata": {},
   "outputs": [
    {
     "data": {
      "text/plain": [
       "40.67407515718672"
      ]
     },
     "execution_count": 52,
     "metadata": {},
     "output_type": "execute_result"
    }
   ],
   "source": [
    "(circle_data.num_notna == 0).sum() / len(circle_data) * 100"
   ]
  },
  {
   "cell_type": "code",
   "execution_count": 53,
   "metadata": {},
   "outputs": [
    {
     "data": {
      "text/plain": [
       "NaN      42450\n",
       "False    18305\n",
       "True      7635\n",
       "Name: c_snow, dtype: int64"
      ]
     },
     "execution_count": 53,
     "metadata": {},
     "output_type": "execute_result"
    }
   ],
   "source": [
    "circle_data.c_snow.value_counts(dropna = False)"
   ]
  },
  {
   "cell_type": "markdown",
   "metadata": {},
   "source": [
    "#### Percent of circles where no stations are missing data"
   ]
  },
  {
   "cell_type": "code",
   "execution_count": 54,
   "metadata": {},
   "outputs": [
    {
     "data": {
      "text/plain": [
       "18.268752741628894"
      ]
     },
     "execution_count": 54,
     "metadata": {},
     "output_type": "execute_result"
    }
   ],
   "source": [
    "((circle_data.num_notna == circle_data.num) & (circle_data.num > 0)).sum() / len(circle_data) * 100"
   ]
  },
  {
   "cell_type": "markdown",
   "metadata": {},
   "source": [
    "#### Percent of circles with less than half of stations missing ( Over half the stations reporting Snow Data"
   ]
  },
  {
   "cell_type": "code",
   "execution_count": 55,
   "metadata": {},
   "outputs": [
    {
     "data": {
      "text/plain": [
       "25.851732709460446"
      ]
     },
     "execution_count": 55,
     "metadata": {},
     "output_type": "execute_result"
    }
   ],
   "source": [
    "((circle_data.num_notna / circle_data.num) >= 0.5).sum() / len(circle_data) * 100"
   ]
  },
  {
   "cell_type": "markdown",
   "metadata": {},
   "source": [
    "## The number of stations per circle broken down by ecosystem\n",
    "The two ecosystems calssification are ecosystem (as defined by usgs) and nlcd code\n",
    "\n",
    "The prefixes \"e_\" and \"n_\", which is same ecosystem and same nlcd code, respectfully"
   ]
  },
  {
   "cell_type": "code",
   "execution_count": 56,
   "metadata": {},
   "outputs": [
    {
     "data": {
      "text/plain": [
       "count    68390.000000\n",
       "mean         2.174675\n",
       "std          3.956987\n",
       "min          0.000000\n",
       "25%          0.000000\n",
       "50%          1.000000\n",
       "75%          2.000000\n",
       "max         52.000000\n",
       "Name: n_num, dtype: float64"
      ]
     },
     "execution_count": 56,
     "metadata": {},
     "output_type": "execute_result"
    }
   ],
   "source": [
    "# The breakdown of stations with the same nlcd code \n",
    "circle_data.n_num.describe()"
   ]
  },
  {
   "cell_type": "code",
   "execution_count": 57,
   "metadata": {},
   "outputs": [
    {
     "data": {
      "text/plain": [
       "count    68390.000000\n",
       "mean         1.517225\n",
       "std          2.816323\n",
       "min          0.000000\n",
       "25%          0.000000\n",
       "50%          0.000000\n",
       "75%          2.000000\n",
       "max         26.000000\n",
       "Name: e_num, dtype: float64"
      ]
     },
     "execution_count": 57,
     "metadata": {},
     "output_type": "execute_result"
    }
   ],
   "source": [
    "# The breakdown of stations with the same ecosystem\n",
    "circle_data.e_num.describe()"
   ]
  },
  {
   "cell_type": "code",
   "execution_count": 58,
   "metadata": {},
   "outputs": [
    {
     "data": {
      "text/plain": [
       "<matplotlib.legend.Legend at 0x12f624a20>"
      ]
     },
     "execution_count": 58,
     "metadata": {},
     "output_type": "execute_result"
    },
    {
     "data": {
      "image/png": "[encoded data removed]",
      "text/plain": [
       "<Figure size 432x288 with 1 Axes>"
      ]
     },
     "metadata": {},
     "output_type": "display_data"
    }
   ],
   "source": [
    "# The number of stations that share the same ncld or ecosys with their circle\n",
    "sns.distplot(circle_data.n_num, kde=False)\n",
    "ax = sns.distplot(circle_data.e_num, kde=False)\n",
    "ax.set_xlabel(\"number of stations\")\n",
    "ax.legend([\"ncld\", \"ecosys\"])"
   ]
  },
  {
   "cell_type": "markdown",
   "metadata": {},
   "source": [
    "### The number of stations with snow data in the same ecosystem classifical as the  circle"
   ]
  },
  {
   "cell_type": "code",
   "execution_count": 59,
   "metadata": {},
   "outputs": [
    {
     "data": {
      "text/plain": [
       "count    68390.000000\n",
       "mean         0.483331\n",
       "std          0.966960\n",
       "min          0.000000\n",
       "25%          0.000000\n",
       "50%          0.000000\n",
       "75%          1.000000\n",
       "max         30.000000\n",
       "Name: n_num_notna, dtype: float64"
      ]
     },
     "execution_count": 59,
     "metadata": {},
     "output_type": "execute_result"
    }
   ],
   "source": [
    "circle_data.n_num_notna.describe()"
   ]
  },
  {
   "cell_type": "code",
   "execution_count": 60,
   "metadata": {},
   "outputs": [
    {
     "data": {
      "text/plain": [
       "count    68390.000000\n",
       "mean         0.337681\n",
       "std          0.728628\n",
       "min          0.000000\n",
       "25%          0.000000\n",
       "50%          0.000000\n",
       "75%          1.000000\n",
       "max         15.000000\n",
       "Name: e_num_notna, dtype: float64"
      ]
     },
     "execution_count": 60,
     "metadata": {},
     "output_type": "execute_result"
    }
   ],
   "source": [
    "circle_data.e_num_notna.describe()"
   ]
  },
  {
   "cell_type": "code",
   "execution_count": 61,
   "metadata": {},
   "outputs": [
    {
     "data": {
      "text/plain": [
       "<matplotlib.legend.Legend at 0x12b871f28>"
      ]
     },
     "execution_count": 61,
     "metadata": {},
     "output_type": "execute_result"
    },
    {
     "data": {
      "image/png": "[encoded data removed]",
      "text/plain": [
       "<Figure size 432x288 with 1 Axes>"
      ]
     },
     "metadata": {},
     "output_type": "display_data"
    }
   ],
   "source": [
    "sns.distplot(circle_data.n_num_notna, kde=False)\n",
    "ax = sns.distplot(circle_data.e_num_notna, kde=False)\n",
    "ax.set_xlabel(\"number of non-NaN stations\")\n",
    "ax.legend([\"nlcd\", \"ecosys\"])"
   ]
  },
  {
   "cell_type": "code",
   "execution_count": 62,
   "metadata": {},
   "outputs": [
    {
     "data": {
      "text/plain": [
       "<matplotlib.legend.Legend at 0x13aa5e630>"
      ]
     },
     "execution_count": 62,
     "metadata": {},
     "output_type": "execute_result"
    },
    {
     "data": {
      "image/png": "[encoded data removed]",
      "text/plain": [
       "<Figure size 432x288 with 1 Axes>"
      ]
     },
     "metadata": {},
     "output_type": "display_data"
    }
   ],
   "source": [
    "sns.distplot((1 - circle_data.n_num_notna/circle_data.n_num) * 100, kde=False, hist_kws={'cumulative': True})\n",
    "ax = sns.distplot((1 - circle_data.e_num_notna/circle_data.e_num) * 100, kde=False, hist_kws={'cumulative': True})\n",
    "ax.set_title('cumulative percent of stations missing')\n",
    "ax.legend([\"nlcd\", \"ecosys\"])"
   ]
  },
  {
   "cell_type": "code",
   "execution_count": 63,
   "metadata": {},
   "outputs": [
    {
     "data": {
      "text/plain": [
       "<seaborn.axisgrid.JointGrid at 0x128181320>"
      ]
     },
     "execution_count": 63,
     "metadata": {},
     "output_type": "execute_result"
    },
    {
     "data": {
      "image/png": "[encoded data removed]",
      "text/plain": [
       "<Figure size 432x432 with 3 Axes>"
      ]
     },
     "metadata": {},
     "output_type": "display_data"
    }
   ],
   "source": [
    "sns.jointplot(circle_data.num, (1 - circle_data.n_num_notna/circle_data.n_num) * 100).set_axis_labels(\"number of stations (nlcd)\", 'percent missing')"
   ]
  },
  {
   "cell_type": "code",
   "execution_count": 64,
   "metadata": {},
   "outputs": [
    {
     "data": {
      "text/plain": [
       "<seaborn.axisgrid.JointGrid at 0x12cbd1dd8>"
      ]
     },
     "execution_count": 64,
     "metadata": {},
     "output_type": "execute_result"
    },
    {
     "data": {
      "image/png": "[encoded data removed]",
      "text/plain": [
       "<Figure size 432x432 with 3 Axes>"
      ]
     },
     "metadata": {},
     "output_type": "display_data"
    }
   ],
   "source": [
    "sns.jointplot(circle_data.num, (1 - circle_data.e_num_notna/circle_data.e_num) * 100).set_axis_labels(\"number of stations (ecosys)\", 'percent missing')"
   ]
  },
  {
   "cell_type": "markdown",
   "metadata": {},
   "source": [
    "#### Percent of circles where all stations are missing data"
   ]
  },
  {
   "cell_type": "code",
   "execution_count": 65,
   "metadata": {},
   "outputs": [
    {
     "data": {
      "text/plain": [
       "65.17327094604475"
      ]
     },
     "execution_count": 65,
     "metadata": {},
     "output_type": "execute_result"
    }
   ],
   "source": [
    "(circle_data.n_num_notna == 0).sum() / len(circle_data) * 100"
   ]
  },
  {
   "cell_type": "code",
   "execution_count": 66,
   "metadata": {},
   "outputs": [
    {
     "data": {
      "text/plain": [
       "74.18189793829507"
      ]
     },
     "execution_count": 66,
     "metadata": {},
     "output_type": "execute_result"
    }
   ],
   "source": [
    "(circle_data.e_num_notna == 0).sum() / len(circle_data) * 100"
   ]
  },
  {
   "cell_type": "markdown",
   "metadata": {},
   "source": [
    "#### Percent of circles where no stations are missing data"
   ]
  },
  {
   "cell_type": "code",
   "execution_count": 67,
   "metadata": {},
   "outputs": [
    {
     "data": {
      "text/plain": [
       "15.250767656090073"
      ]
     },
     "execution_count": 67,
     "metadata": {},
     "output_type": "execute_result"
    }
   ],
   "source": [
    "((circle_data.n_num_notna == circle_data.n_num) & (circle_data.n_num > 0)).sum() / len(circle_data) * 100"
   ]
  },
  {
   "cell_type": "code",
   "execution_count": 68,
   "metadata": {},
   "outputs": [
    {
     "data": {
      "text/plain": [
       "12.203538529024712"
      ]
     },
     "execution_count": 68,
     "metadata": {},
     "output_type": "execute_result"
    }
   ],
   "source": [
    "((circle_data.e_num_notna == circle_data.e_num) & (circle_data.e_num > 0)).sum() / len(circle_data) * 100"
   ]
  },
  {
   "cell_type": "markdown",
   "metadata": {},
   "source": [
    "#### Percent of circles with less than half of stations missing"
   ]
  },
  {
   "cell_type": "code",
   "execution_count": 69,
   "metadata": {},
   "outputs": [
    {
     "data": {
      "text/plain": [
       "22.02222547156017"
      ]
     },
     "execution_count": 69,
     "metadata": {},
     "output_type": "execute_result"
    }
   ],
   "source": [
    "((circle_data.n_num_notna / circle_data.n_num) >= 0.5).sum() / len(circle_data) * 100"
   ]
  },
  {
   "cell_type": "code",
   "execution_count": 70,
   "metadata": {},
   "outputs": [
    {
     "data": {
      "text/plain": [
       "17.00979675391139"
      ]
     },
     "execution_count": 70,
     "metadata": {},
     "output_type": "execute_result"
    }
   ],
   "source": [
    "((circle_data.e_num_notna / circle_data.e_num) >= 0.5).sum() / len(circle_data) * 100"
   ]
  },
  {
   "cell_type": "markdown",
   "metadata": {},
   "source": [
    "## Location, Location, Location\n",
    "The next section will focus in on the stations closest to the cbc circles by distance"
   ]
  },
  {
   "cell_type": "markdown",
   "metadata": {},
   "source": [
    "#### What percent of circles had the closest station as NaN?"
   ]
  },
  {
   "cell_type": "code",
   "execution_count": 71,
   "metadata": {},
   "outputs": [
    {
     "data": {
      "text/plain": [
       "69.76750986986401"
      ]
     },
     "execution_count": 71,
     "metadata": {},
     "output_type": "execute_result"
    }
   ],
   "source": [
    "circle_data.snow_closest.isna().sum() / len(circle_data) * 100"
   ]
  },
  {
   "cell_type": "markdown",
   "metadata": {},
   "source": [
    "#### What percent had the average value of the reference stations differ from the closest station's value (ignoring NaNs)?"
   ]
  },
  {
   "cell_type": "code",
   "execution_count": 72,
   "metadata": {},
   "outputs": [
    {
     "data": {
      "text/plain": [
       "0.016084222839596433"
      ]
     },
     "execution_count": 72,
     "metadata": {},
     "output_type": "execute_result"
    }
   ],
   "source": [
    "# Use kleene logical indexing to skip over NAs\n",
    "(circle_data.snow_closest_notna ^ circle_data.consensus).sum() / len(circle_data) * 100"
   ]
  },
  {
   "cell_type": "code",
   "execution_count": 73,
   "metadata": {},
   "outputs": [
    {
     "data": {
      "text/plain": [
       "<matplotlib.axes._subplots.AxesSubplot at 0x1273580f0>"
      ]
     },
     "execution_count": 73,
     "metadata": {},
     "output_type": "execute_result"
    },
    {
     "data": {
      "image/png": "[encoded data removed]",
      "text/plain": [
       "<Figure size 432x288 with 1 Axes>"
      ]
     },
     "metadata": {},
     "output_type": "display_data"
    }
   ],
   "source": [
    "sns.distplot(prcp_data.distance, kde=False)"
   ]
  },
  {
   "cell_type": "markdown",
   "metadata": {},
   "source": [
    "## Elevation, Elevation, Elevation\n",
    "The next section will look at stations with the closest elivation"
   ]
  },
  {
   "cell_type": "markdown",
   "metadata": {},
   "source": [
    "#### What percent of circles had the lowest station as NaN?"
   ]
  },
  {
   "cell_type": "code",
   "execution_count": 74,
   "metadata": {},
   "outputs": [
    {
     "data": {
      "text/plain": [
       "70.2061704927621"
      ]
     },
     "execution_count": 74,
     "metadata": {},
     "output_type": "execute_result"
    }
   ],
   "source": [
    "circle_data.snow_lowest.isna().sum() / len(circle_data) * 100"
   ]
  },
  {
   "cell_type": "markdown",
   "metadata": {},
   "source": [
    "#### What percent had the average value differ from the lowest value (ignoring NaNs)?"
   ]
  },
  {
   "cell_type": "code",
   "execution_count": 75,
   "metadata": {},
   "outputs": [
    {
     "data": {
      "text/plain": [
       "0.020470829068577275"
      ]
     },
     "execution_count": 75,
     "metadata": {},
     "output_type": "execute_result"
    }
   ],
   "source": [
    "# Use kleene logical indexing to skip over NAs\n",
    "(circle_data.snow_lowest_notna ^ circle_data.consensus).sum() / len(circle_data) * 100"
   ]
  },
  {
   "cell_type": "code",
   "execution_count": 76,
   "metadata": {},
   "outputs": [
    {
     "data": {
      "text/plain": [
       "<matplotlib.axes._subplots.AxesSubplot at 0x137c494e0>"
      ]
     },
     "execution_count": 76,
     "metadata": {},
     "output_type": "execute_result"
    },
    {
     "data": {
      "image/png": "[encoded data removed]",
      "text/plain": [
       "<Figure size 432x288 with 1 Axes>"
      ]
     },
     "metadata": {},
     "output_type": "display_data"
    }
   ],
   "source": [
    "sns.distplot(prcp_data.d_elev, kde=False)"
   ]
  },
  {
   "cell_type": "markdown",
   "metadata": {},
   "source": [
    "## Consensus of Stations\n",
    "we use `4 * p(1-p)` to estiamte the \"disagreement\" amongst stations: this value ranges from `0` (all in agrement) to `1` (evenly split)  \n",
    "(here, `p` is the fraction of non-NaN stations that are `True` for snow)"
   ]
  },
  {
   "cell_type": "markdown",
   "metadata": {},
   "source": [
    "### All Stations"
   ]
  },
  {
   "cell_type": "code",
   "execution_count": 77,
   "metadata": {},
   "outputs": [
    {
     "data": {
      "text/plain": [
       "<matplotlib.lines.Line2D at 0x1289dcf60>"
      ]
     },
     "execution_count": 77,
     "metadata": {},
     "output_type": "execute_result"
    },
    {
     "data": {
      "image/png": "[encoded data removed]",
      "text/plain": [
       "<Figure size 432x432 with 3 Axes>"
      ]
     },
     "metadata": {},
     "output_type": "display_data"
    }
   ],
   "source": [
    "# \"disagreement\" (4*p*(1-p)) by number of not NA\n",
    "# horizontal line is AGREEMENT_THRESHOLD, defined above\n",
    "p = sns.jointplot(circle_data.num_notna, 4 * circle_data.p * (1 - circle_data.p))\n",
    "p.set_axis_labels(\"stations reporting data\", '\"disgreement [4*p*(1-p)]\"')\n",
    "p.ax_joint.axhline(y = 4 * AGREEMENT_THRESHOLD * (1-AGREEMENT_THRESHOLD))"
   ]
  },
  {
   "cell_type": "markdown",
   "metadata": {},
   "source": [
    "### What percent do not meet our dissagreement threshold?"
   ]
  },
  {
   "cell_type": "code",
   "execution_count": 78,
   "metadata": {},
   "outputs": [
    {
     "data": {
      "text/plain": [
       "1.1843836818248281"
      ]
     },
     "execution_count": 78,
     "metadata": {},
     "output_type": "execute_result"
    }
   ],
   "source": [
    "# Breaking this down a bit for easy of readability \n",
    "\n",
    "# circle_data.consensus is na when p (the proportion of staions for a circle reporting rain) is NA OR p is not \n",
    "# meeting the AGREEMENT Threshold \n",
    "\n",
    "# circle_data.p is NOT na when a circle has at least one station reporting rain data \n",
    "\n",
    "# PUTTING IT TOGETHER - The below line is the percent of circles who had at least one station \n",
    "# reporting but those stations could not agree\n",
    "(circle_data.consensus.isna() & circle_data.p.notna()).sum() / len(circle_data) * 100"
   ]
  },
  {
   "cell_type": "markdown",
   "metadata": {},
   "source": [
    "### Ecosystems"
   ]
  },
  {
   "cell_type": "code",
   "execution_count": 79,
   "metadata": {},
   "outputs": [
    {
     "data": {
      "text/plain": [
       "<matplotlib.lines.Line2D at 0x139dc7c88>"
      ]
     },
     "execution_count": 79,
     "metadata": {},
     "output_type": "execute_result"
    },
    {
     "data": {
      "image/png": "[encoded data removed]",
      "text/plain": [
       "<Figure size 432x432 with 3 Axes>"
      ]
     },
     "metadata": {},
     "output_type": "display_data"
    }
   ],
   "source": [
    "# Agreement Plot for Stations that share ncld codes with their circles \n",
    "p = sns.jointplot(circle_data.n_num_notna, 4 * circle_data.n_p * (1 - circle_data.n_p))\n",
    "p.set_axis_labels(\"stations reporting data (nlcd)\", '\"disgreement [4*p*(1-p)]\"')\n",
    "p.ax_joint.axhline(y = 4 * AGREEMENT_THRESHOLD * (1-AGREEMENT_THRESHOLD))"
   ]
  },
  {
   "cell_type": "code",
   "execution_count": 80,
   "metadata": {},
   "outputs": [
    {
     "data": {
      "text/plain": [
       "<matplotlib.lines.Line2D at 0x11de24400>"
      ]
     },
     "execution_count": 80,
     "metadata": {},
     "output_type": "execute_result"
    },
    {
     "data": {
      "image/png": "[encoded data removed]",
      "text/plain": [
       "<Figure size 432x432 with 3 Axes>"
      ]
     },
     "metadata": {},
     "output_type": "display_data"
    }
   ],
   "source": [
    "# Agreement Plot for Stations that share ecosys classification with their circles \n",
    "p = sns.jointplot(circle_data.e_num_notna, 4 * circle_data.e_p * (1 - circle_data.e_p))\n",
    "p.set_axis_labels(\"stations reporting data (ecosys)\", '\"disgreement [4*p*(1-p)]\"')\n",
    "p.ax_joint.axhline(y = 4 * AGREEMENT_THRESHOLD * (1-AGREEMENT_THRESHOLD))"
   ]
  },
  {
   "cell_type": "markdown",
   "metadata": {},
   "source": [
    "#### What percent do not meet our dissagreement threshold?"
   ]
  },
  {
   "cell_type": "code",
   "execution_count": 81,
   "metadata": {},
   "outputs": [
    {
     "data": {
      "text/plain": [
       "0.4752156748062582"
      ]
     },
     "execution_count": 81,
     "metadata": {},
     "output_type": "execute_result"
    }
   ],
   "source": [
    "# The below line counts the percentage of circles who had at least one station reporting with the same nlcd code\n",
    "# but did not meet the agreement threshold\n",
    "(circle_data.n_consensus.isna() & circle_data.n_p.notna()).sum() / len(circle_data) * 100"
   ]
  },
  {
   "cell_type": "code",
   "execution_count": 82,
   "metadata": {},
   "outputs": [
    {
     "data": {
      "text/plain": [
       "0.2953648194180436"
      ]
     },
     "execution_count": 82,
     "metadata": {},
     "output_type": "execute_result"
    }
   ],
   "source": [
    "# The below line counts the percentage of circles who had at least one station reporting with the same ecosys classifier\n",
    "# but did not meet the agreement threshold\n",
    "(circle_data.e_consensus.isna() & circle_data.e_p.notna()).sum() / len(circle_data) * 100"
   ]
  },
  {
   "cell_type": "markdown",
   "metadata": {},
   "source": [
    "### Consensus Breakdown by Circle Rain Reporting"
   ]
  },
  {
   "cell_type": "code",
   "execution_count": 87,
   "metadata": {},
   "outputs": [
    {
     "name": "stdout",
     "output_type": "stream",
     "text": [
      "The Count of Circles Reproting Snow:\n",
      "NaN      42450\n",
      "False    18305\n",
      "True      7635\n",
      "Name: c_snow, dtype: int64\n",
      "The Percentage of Circles Reproting Snow:\n",
      "NaN      62.070478\n",
      "False    26.765609\n",
      "True     11.163913\n",
      "Name: c_snow, dtype: float64\n"
     ]
    }
   ],
   "source": [
    "# The number and percentage  of circles that reported Snow, No Snow or are NA \n",
    "print(\"The Count of Circles Reproting Snow:\")\n",
    "print(circle_data.c_snow.value_counts(dropna = False))\n",
    "print(\"The Percentage of Circles Reproting Snow:\")\n",
    "print(circle_data.c_snow.value_counts(dropna = False, normalize = True) * 100)\n"
   ]
  },
  {
   "cell_type": "markdown",
   "metadata": {},
   "source": [
    "#### Break Down of Concensus for Circles that reported True for Rain"
   ]
  },
  {
   "cell_type": "code",
   "execution_count": 88,
   "metadata": {},
   "outputs": [
    {
     "name": "stdout",
     "output_type": "stream",
     "text": [
      "Snow Data Consensus Amoung All Stations where the Circle Reported Snow:\n",
      "NaN      3782\n",
      "False    2124\n",
      "True     1729\n",
      "Name: consensus, dtype: Int64\n",
      "^^ with Percentage:\n",
      "NaN      49.535036\n",
      "False    27.819253\n",
      "True     22.645711\n",
      "Name: consensus, dtype: float64\n",
      "Snow Data Consensus Amoung Closest Stations where the Circle Reported Snow:\n",
      "NaN      5977\n",
      "False     905\n",
      "True      753\n",
      "Name: snow_closest, dtype: Int64\n",
      "^^ with Percentage:\n",
      "NaN      78.284217\n",
      "False    11.853307\n",
      "True      9.862475\n",
      "Name: snow_closest, dtype: float64\n",
      "Snow Data Consensus Amoung Closest in Elivation Stations where the Circle Reported Snow:\n",
      "NaN      6065\n",
      "False     900\n",
      "True      670\n",
      "Name: snow_lowest, dtype: Int64\n",
      "^^ with Percentage:\n",
      "NaN      79.436804\n",
      "False    11.787819\n",
      "True      8.775377\n",
      "Name: snow_lowest, dtype: float64\n",
      "Snow Data Consensus Amoung Stations with the same nlcd code where the Circle Reported Snow:\n",
      "NaN      5416\n",
      "False    1196\n",
      "True     1023\n",
      "Name: n_consensus, dtype: Int64\n",
      "^^ with Percentage:\n",
      "NaN      70.936477\n",
      "False    15.664702\n",
      "True     13.398821\n",
      "Name: n_consensus, dtype: float64\n",
      "Snow Data Consensus Amoung Stations with the same ecosys classification where the Circle Reported Snow:\n",
      "NaN      5979\n",
      "False     876\n",
      "True      780\n",
      "Name: e_consensus, dtype: Int64\n",
      "^^ with Percentage:\n",
      "NaN      78.310413\n",
      "False    11.473477\n",
      "True     10.216110\n",
      "Name: e_consensus, dtype: float64\n"
     ]
    }
   ],
   "source": [
    "\n",
    "print(\"Snow Data Consensus Amoung All Stations where the Circle Reported Snow:\")\n",
    "print(circle_data.loc[circle_data['c_snow'] == True].consensus.value_counts(dropna = False) )\n",
    "print(\"^^ with Percentage:\")\n",
    "print((circle_data.loc[circle_data['c_snow'] == True].consensus.value_counts(dropna = False) / len(circle_data.loc[circle_data['c_snow'] == True]) * 100))\n",
    "\n",
    "print(\"Snow Data Amoung Closest Stations where the Circle Reported Snow:\")\n",
    "print(circle_data.loc[circle_data['c_snow'] == True].snow_closest.value_counts(dropna = False) )\n",
    "print(\"^^ with Percentage:\")\n",
    "print((circle_data.loc[circle_data['c_snow'] == True].snow_closest.value_counts(dropna = False) / len(circle_data.loc[circle_data['c_snow'] == True]) * 100))\n",
    "\n",
    "print(\"Snow Data Amoung Closest in Elivation Stations where the Circle Reported Snow:\")\n",
    "print(circle_data.loc[circle_data['c_snow'] == True].snow_lowest.value_counts(dropna = False) )\n",
    "print(\"^^ with Percentage:\")\n",
    "print((circle_data.loc[circle_data['c_snow'] == True].snow_lowest.value_counts(dropna = False) / len(circle_data.loc[circle_data['c_snow'] == True]) * 100))\n",
    "\n",
    "print(\"Snow Data Consensus Amoung Stations with the same nlcd code where the Circle Reported Snow:\")\n",
    "print(circle_data.loc[circle_data['c_snow'] == True].n_consensus.value_counts(dropna = False) )\n",
    "print(\"^^ with Percentage:\")\n",
    "print((circle_data.loc[circle_data['c_snow'] == True].n_consensus.value_counts(dropna = False) / len(circle_data.loc[circle_data['c_snow'] == True]) * 100))\n",
    "\n",
    "print(\"Snow Data Consensus Amoung Stations with the same ecosys classification where the Circle Reported Snow:\")\n",
    "print(circle_data.loc[circle_data['c_snow'] == True].e_consensus.value_counts(dropna = False) )\n",
    "print(\"^^ with Percentage:\")\n",
    "print((circle_data.loc[circle_data['c_snow'] == True].e_consensus.value_counts(dropna = False) / len(circle_data.loc[circle_data['c_snow'] == True]) * 100))\n",
    "\n",
    "\n"
   ]
  },
  {
   "cell_type": "markdown",
   "metadata": {},
   "source": [
    "#### Break Down of Concensus for Circles that reported False for Rain"
   ]
  },
  {
   "cell_type": "code",
   "execution_count": 91,
   "metadata": {},
   "outputs": [
    {
     "name": "stdout",
     "output_type": "stream",
     "text": [
      "Snow Data Consensus Amoung All Stations where the Circle did NOT Report Snow:\n",
      "False    9009\n",
      "NaN      8515\n",
      "True      781\n",
      "Name: consensus, dtype: Int64\n",
      "^^ with Percentage:\n",
      "False    49.216061\n",
      "NaN      46.517345\n",
      "True      4.266594\n",
      "Name: consensus, dtype: float64\n",
      "Snow Data Consensus Amoung Closest Stations where the Circle did NOT Report Snow:\n",
      "NaN      14555\n",
      "False     3427\n",
      "True       323\n",
      "Name: snow_closest, dtype: Int64\n",
      "^^ with Percentage:\n",
      "NaN      79.513794\n",
      "False    18.721661\n",
      "True      1.764545\n",
      "Name: snow_closest, dtype: float64\n",
      "Snow Data Consensus Amoung Closest in Elivation Stations where the Circle did NOT Report Snow:\n",
      "NaN      14328\n",
      "False     3650\n",
      "True       327\n",
      "Name: snow_lowest, dtype: Int64\n",
      "^^ with Percentage:\n",
      "NaN      78.273696\n",
      "False    19.939907\n",
      "True      1.786397\n",
      "Name: snow_lowest, dtype: float64\n",
      "Snow Data Consensus Amoung Stations with the same nlcd code where the Circle did NOT Report Snow:\n",
      "NaN      12378\n",
      "False     5441\n",
      "True       486\n",
      "Name: n_consensus, dtype: Int64\n",
      "^^ with Percentage:\n",
      "NaN      67.620869\n",
      "False    29.724119\n",
      "True      2.655012\n",
      "Name: n_consensus, dtype: float64\n",
      "Snow Data Consensus Amoung Stations with the same ecosys classification where the Circle did NOT Report Snow:\n",
      "NaN      13847\n",
      "False     4061\n",
      "True       397\n",
      "Name: e_consensus, dtype: Int64\n",
      "^^ with Percentage:\n",
      "NaN      75.645998\n",
      "False    22.185195\n",
      "True      2.168806\n",
      "Name: e_consensus, dtype: float64\n"
     ]
    }
   ],
   "source": [
    "\n",
    "print(\"Snow Data Consensus Amoung All Stations where the Circle did NOT Report Snow:\")\n",
    "print(circle_data.loc[circle_data['c_snow'] == False].consensus.value_counts(dropna = False) )\n",
    "print(\"^^ with Percentage:\")\n",
    "print((circle_data.loc[circle_data['c_snow'] == False].consensus.value_counts(dropna = False) / len(circle_data.loc[circle_data['c_snow'] == False]) * 100))\n",
    "\n",
    "print(\"Snow Data Amoung Closest Stations where the Circle did NOT Report Snow:\")\n",
    "print(circle_data.loc[circle_data['c_snow'] == False].snow_closest.value_counts(dropna = False) )\n",
    "print(\"^^ with Percentage:\")\n",
    "print((circle_data.loc[circle_data['c_snow'] == False].snow_closest.value_counts(dropna = False) / len(circle_data.loc[circle_data['c_snow'] == False]) * 100))\n",
    "\n",
    "print(\"Snow Data Amoung Closest in Elivation Stations where the Circle did NOT Report Snow:\")\n",
    "print(circle_data.loc[circle_data['c_snow'] == False].snow_lowest.value_counts(dropna = False) )\n",
    "print(\"^^ with Percentage:\")\n",
    "print((circle_data.loc[circle_data['c_snow'] == False].snow_lowest.value_counts(dropna = False) / len(circle_data.loc[circle_data['c_snow'] == False]) * 100))\n",
    "\n",
    "print(\"Snow Data Consensus Amoung Stations with the same nlcd code where the Circle did NOT Report Snow:\")\n",
    "print(circle_data.loc[circle_data['c_snow'] == False].n_consensus.value_counts(dropna = False) )\n",
    "print(\"^^ with Percentage:\")\n",
    "print((circle_data.loc[circle_data['c_snow'] == False].n_consensus.value_counts(dropna = False) / len(circle_data.loc[circle_data['c_snow'] == False]) * 100))\n",
    "\n",
    "print(\"Snow Data Consensus Amoung Stations with the same ecosys classification where the Circle did NOT Report Snow:\")\n",
    "print(circle_data.loc[circle_data['c_snow'] == False].e_consensus.value_counts(dropna = False) )\n",
    "print(\"^^ with Percentage:\")\n",
    "print((circle_data.loc[circle_data['c_snow'] == False].e_consensus.value_counts(dropna = False) / len(circle_data.loc[circle_data['c_snow'] == False]) * 100))\n",
    "\n",
    "\n"
   ]
  },
  {
   "cell_type": "markdown",
   "metadata": {},
   "source": [
    "## The Missing Station and Circle Data"
   ]
  },
  {
   "cell_type": "code",
   "execution_count": 92,
   "metadata": {},
   "outputs": [],
   "source": [
    "# Create a series indicating if a circle is missing weather data\n",
    "circle_data_na_circle_idx = circle_data.c_snow.isna()"
   ]
  },
  {
   "cell_type": "markdown",
   "metadata": {},
   "source": [
    "### Percent of circles with missing snow observation"
   ]
  },
  {
   "cell_type": "code",
   "execution_count": 93,
   "metadata": {},
   "outputs": [
    {
     "data": {
      "text/plain": [
       "62.070478140078954"
      ]
     },
     "execution_count": 93,
     "metadata": {},
     "output_type": "execute_result"
    }
   ],
   "source": [
    "circle_data_na_circle_idx.sum() / len(circle_data) * 100"
   ]
  },
  {
   "cell_type": "markdown",
   "metadata": {},
   "source": [
    "### Count of circles with missing snow observation"
   ]
  },
  {
   "cell_type": "code",
   "execution_count": 94,
   "metadata": {},
   "outputs": [
    {
     "name": "stdout",
     "output_type": "stream",
     "text": [
      "Circles with missing Snow Data: \n",
      "42450\n",
      "Circles with NO missing Snow Data: \n",
      "25940\n"
     ]
    }
   ],
   "source": [
    "print(\"Circles with missing Snow Data: \")\n",
    "print(circle_data_na_circle_idx.sum())\n",
    "print(\"Circles with NO missing Snow Data: \")\n",
    "print(len(circle_data) - circle_data_na_circle_idx.sum())"
   ]
  },
  {
   "cell_type": "markdown",
   "metadata": {},
   "source": [
    "### Percent of circles with both volunteer and all station data are missing"
   ]
  },
  {
   "cell_type": "code",
   "execution_count": 95,
   "metadata": {},
   "outputs": [
    {
     "data": {
      "text/plain": [
       "23.402544231612808"
      ]
     },
     "execution_count": 95,
     "metadata": {},
     "output_type": "execute_result"
    }
   ],
   "source": [
    "# joint\n",
    "(circle_data_na_circle_idx & (circle_data.num_notna == 0)).sum() / len(circle_data) * 100"
   ]
  },
  {
   "cell_type": "code",
   "execution_count": 96,
   "metadata": {},
   "outputs": [
    {
     "data": {
      "text/plain": [
       "37.70318021201414"
      ]
     },
     "execution_count": 96,
     "metadata": {},
     "output_type": "execute_result"
    }
   ],
   "source": [
    "# conditional \n",
    "(circle_data_na_circle_idx & (circle_data.num_notna == 0)).sum() / circle_data_na_circle_idx.sum() * 100"
   ]
  },
  {
   "cell_type": "code",
   "execution_count": 97,
   "metadata": {},
   "outputs": [
    {
     "data": {
      "text/plain": [
       "40.67407515718672"
      ]
     },
     "execution_count": 97,
     "metadata": {},
     "output_type": "execute_result"
    }
   ],
   "source": [
    "# population\n",
    "(circle_data.num_notna == 0).sum() / len(circle_data) * 100"
   ]
  },
  {
   "cell_type": "markdown",
   "metadata": {},
   "source": [
    "## Correlation between the two"
   ]
  },
  {
   "cell_type": "code",
   "execution_count": 98,
   "metadata": {},
   "outputs": [
    {
     "data": {
      "text/plain": [
       "(409.04235366458045, 5.923550141181931e-91)"
      ]
     },
     "execution_count": 98,
     "metadata": {},
     "output_type": "execute_result"
    }
   ],
   "source": [
    "g, p, dof, expctd = stats.chi2_contingency(pd.crosstab(circle_data_na_circle_idx, circle_data.num_notna == 0))\n",
    "g, p"
   ]
  },
  {
   "cell_type": "markdown",
   "metadata": {},
   "source": [
    "if the circle is missing data, it is much more likely that all other stations will too, when compared to the general population"
   ]
  },
  {
   "cell_type": "markdown",
   "metadata": {},
   "source": [
    "#### Count and Percent of Stations Reporting if the Circle Reported Snow Data"
   ]
  },
  {
   "cell_type": "code",
   "execution_count": 99,
   "metadata": {},
   "outputs": [
    {
     "name": "stdout",
     "output_type": "stream",
     "text": [
      "Stations with missing Snow Data IF the the Circle is Reporting:\n",
      "11812\n",
      "45.535851966075555\n",
      "Stations with NO missing Snow Data IF the Circle is Reporting: \n",
      "14128\n",
      "54.464148033924445\n"
     ]
    }
   ],
   "source": [
    "print(\"Stations with missing Snow Data IF the the Circle is Reporting:\")\n",
    "print(circle_data[(~circle_data_na_circle_idx) & (circle_data.num_notna == 0)].shape[0])\n",
    "print(circle_data[(~circle_data_na_circle_idx) & (circle_data.num_notna == 0)].shape[0] / len(circle_data[~circle_data_na_circle_idx]) * 100 )\n",
    "print(\"Stations with NO missing Snow Data IF the Circle is Reporting: \")\n",
    "print(circle_data[(~circle_data_na_circle_idx) & (circle_data.num_notna != 0)].shape[0])\n",
    "print(circle_data[(~circle_data_na_circle_idx) & (circle_data.num_notna != 0)].shape[0] / len(circle_data[~circle_data_na_circle_idx]) * 100 )\n"
   ]
  },
  {
   "cell_type": "markdown",
   "metadata": {},
   "source": [
    "### Percent of circles with both volunteer and the closest station data are missing"
   ]
  },
  {
   "cell_type": "code",
   "execution_count": 100,
   "metadata": {},
   "outputs": [
    {
     "data": {
      "text/plain": [
       "39.74557683871911"
      ]
     },
     "execution_count": 100,
     "metadata": {},
     "output_type": "execute_result"
    }
   ],
   "source": [
    "# joint\n",
    "(circle_data_na_circle_idx & circle_data.snow_closest.isna()).sum()  / len(circle_data) * 100"
   ]
  },
  {
   "cell_type": "code",
   "execution_count": 101,
   "metadata": {},
   "outputs": [
    {
     "data": {
      "text/plain": [
       "64.03297997644287"
      ]
     },
     "execution_count": 101,
     "metadata": {},
     "output_type": "execute_result"
    }
   ],
   "source": [
    "# conditional \n",
    "(circle_data_na_circle_idx & circle_data.snow_closest.isna()).sum() / circle_data_na_circle_idx.sum() * 100"
   ]
  },
  {
   "cell_type": "code",
   "execution_count": 102,
   "metadata": {},
   "outputs": [
    {
     "data": {
      "text/plain": [
       "69.76750986986401"
      ]
     },
     "execution_count": 102,
     "metadata": {},
     "output_type": "execute_result"
    }
   ],
   "source": [
    "# population\n",
    "circle_data.snow_closest.isna().sum() / len(circle_data) * 100"
   ]
  },
  {
   "cell_type": "code",
   "execution_count": 103,
   "metadata": {},
   "outputs": [
    {
     "data": {
      "text/plain": [
       "(1744.1763855536212, 0.0)"
      ]
     },
     "execution_count": 103,
     "metadata": {},
     "output_type": "execute_result"
    }
   ],
   "source": [
    "g, p, dof, expctd = stats.chi2_contingency(pd.crosstab(circle_data_na_circle_idx, circle_data.snow_closest.isna()))\n",
    "g, p"
   ]
  },
  {
   "cell_type": "markdown",
   "metadata": {},
   "source": [
    "if the circle is missing data, it is much **less** likely that the closest station will have missing data, when compared to the general population"
   ]
  },
  {
   "cell_type": "markdown",
   "metadata": {},
   "source": [
    "#### Count and Percent of Closest Stations Reporting if the Circle Reported Snow Data"
   ]
  },
  {
   "cell_type": "code",
   "execution_count": 114,
   "metadata": {},
   "outputs": [
    {
     "name": "stdout",
     "output_type": "stream",
     "text": [
      "Closest Stations with missing Snow Data IF the the Circle is Reporting:\n",
      "20532\n",
      "79.15188897455667\n",
      "Closest Stations with NO missing Snow Data IF the Circle is Reporting: \n",
      "5408\n",
      "20.84811102544333\n"
     ]
    }
   ],
   "source": [
    "print(\"Closest Stations with missing Snow Data IF the the Circle is Reporting:\")\n",
    "print(circle_data[(~circle_data_na_circle_idx) & (circle_data.snow_closest.isna())].shape[0])\n",
    "print(circle_data[(~circle_data_na_circle_idx) & (circle_data.snow_closest.isna())].shape[0] / len(circle_data[~circle_data_na_circle_idx]) * 100 )\n",
    "print(\"Closest Stations with NO missing Snow Data IF the Circle is Reporting: \")\n",
    "print(circle_data[(~circle_data_na_circle_idx) & (~circle_data.snow_closest.isna())].shape[0])\n",
    "print(circle_data[(~circle_data_na_circle_idx) & (~circle_data.snow_closest.isna())].shape[0] / len(circle_data[~circle_data_na_circle_idx]) * 100 )\n"
   ]
  },
  {
   "cell_type": "markdown",
   "metadata": {},
   "source": [
    "### Percent of circles with both volunteer and the lowest station data are missing"
   ]
  },
  {
   "cell_type": "code",
   "execution_count": 115,
   "metadata": {},
   "outputs": [
    {
     "data": {
      "text/plain": [
       "40.38748355022664"
      ]
     },
     "execution_count": 115,
     "metadata": {},
     "output_type": "execute_result"
    }
   ],
   "source": [
    "# joint\n",
    "(circle_data_na_circle_idx & circle_data.snow_lowest.isna()).sum()  / len(circle_data) * 100"
   ]
  },
  {
   "cell_type": "code",
   "execution_count": 116,
   "metadata": {},
   "outputs": [
    {
     "data": {
      "text/plain": [
       "65.06713780918729"
      ]
     },
     "execution_count": 116,
     "metadata": {},
     "output_type": "execute_result"
    }
   ],
   "source": [
    "# conditional \n",
    "(circle_data_na_circle_idx & circle_data.snow_lowest.isna()).sum() / circle_data_na_circle_idx.sum() * 100"
   ]
  },
  {
   "cell_type": "code",
   "execution_count": 117,
   "metadata": {},
   "outputs": [
    {
     "data": {
      "text/plain": [
       "70.2061704927621"
      ]
     },
     "execution_count": 117,
     "metadata": {},
     "output_type": "execute_result"
    }
   ],
   "source": [
    "# population\n",
    "circle_data.snow_lowest.isna().sum() / len(circle_data) * 100"
   ]
  },
  {
   "cell_type": "code",
   "execution_count": 118,
   "metadata": {},
   "outputs": [
    {
     "data": {
      "text/plain": [
       "(1412.4151644159392, 4.2130431115998e-309)"
      ]
     },
     "execution_count": 118,
     "metadata": {},
     "output_type": "execute_result"
    }
   ],
   "source": [
    "g, p, dof, expctd = stats.chi2_contingency(pd.crosstab(circle_data_na_circle_idx, circle_data.snow_lowest.isna()))\n",
    "g, p"
   ]
  },
  {
   "cell_type": "markdown",
   "metadata": {},
   "source": [
    "if the circle is missing data, it is much **less** likely that the lowest station will have missing data, when compared to the general population"
   ]
  },
  {
   "cell_type": "markdown",
   "metadata": {},
   "source": [
    "#### Count and Percent of Closest Elivation Stations Reporting if the Circle Reported Rain Data"
   ]
  },
  {
   "cell_type": "code",
   "execution_count": 119,
   "metadata": {},
   "outputs": [
    {
     "name": "stdout",
     "output_type": "stream",
     "text": [
      "Closest Elivation Stations with missing Snow Data IF the the Circle is Reporting:\n",
      "20393\n",
      "78.61603700848111\n",
      "Closest Elivation Stations with NO missing Snow Data IF the Circle is Reporting: \n",
      "5547\n",
      "21.38396299151889\n"
     ]
    }
   ],
   "source": [
    "print(\"Closest Elivation Stations with missing Snow Data IF the the Circle is Reporting:\")\n",
    "print(circle_data[(~circle_data_na_circle_idx) & (circle_data.snow_lowest.isna())].shape[0])\n",
    "print(circle_data[(~circle_data_na_circle_idx) & (circle_data.snow_lowest.isna())].shape[0] / len(circle_data[~circle_data_na_circle_idx]) * 100 )\n",
    "print(\"Closest Elivation Stations with NO missing Snow Data IF the Circle is Reporting: \")\n",
    "print(circle_data[(~circle_data_na_circle_idx) & (~circle_data.snow_lowest.isna())].shape[0])\n",
    "print(circle_data[(~circle_data_na_circle_idx) & (~circle_data.snow_lowest.isna())].shape[0] / len(circle_data[~circle_data_na_circle_idx]) * 100 )\n"
   ]
  },
  {
   "cell_type": "markdown",
   "metadata": {},
   "source": [
    "### Number of stations for circles with missing data"
   ]
  },
  {
   "cell_type": "code",
   "execution_count": 120,
   "metadata": {},
   "outputs": [
    {
     "data": {
      "text/plain": [
       "(780.9181069474313, 1.2753540324569464e-148)"
      ]
     },
     "execution_count": 120,
     "metadata": {},
     "output_type": "execute_result"
    }
   ],
   "source": [
    "actl = pd.crosstab(circle_data_na_circle_idx, circle_data.num_notna)\n",
    "g, p, dof, expctd = stats.chi2_contingency(actl)\n",
    "g, p"
   ]
  },
  {
   "cell_type": "code",
   "execution_count": 121,
   "metadata": {},
   "outputs": [
    {
     "data": {
      "text/plain": [
       "<matplotlib.axes._subplots.AxesSubplot at 0x1273586d8>"
      ]
     },
     "execution_count": 121,
     "metadata": {},
     "output_type": "execute_result"
    },
    {
     "data": {
      "image/png": "[encoded data removed]",
      "text/plain": [
       "<Figure size 432x288 with 1 Axes>"
      ]
     },
     "metadata": {},
     "output_type": "display_data"
    }
   ],
   "source": [
    "sns.barplot(np.arange(expctd.shape[1]), actl.loc[True] - expctd[1, :])"
   ]
  },
  {
   "cell_type": "markdown",
   "metadata": {},
   "source": [
    "it looks like the circle being missing implies that there is only one non-na station?"
   ]
  },
  {
   "cell_type": "markdown",
   "metadata": {},
   "source": [
    "### Disagreement"
   ]
  },
  {
   "cell_type": "code",
   "execution_count": 122,
   "metadata": {},
   "outputs": [
    {
     "data": {
      "text/plain": [
       "<matplotlib.lines.Line2D at 0x1227cd358>"
      ]
     },
     "execution_count": 122,
     "metadata": {},
     "output_type": "execute_result"
    },
    {
     "data": {
      "image/png": "[encoded data removed]",
      "text/plain": [
       "<Figure size 432x432 with 3 Axes>"
      ]
     },
     "metadata": {},
     "output_type": "display_data"
    }
   ],
   "source": [
    "# \"disagreement\" (4*p*(1-p)) by number of not NA\n",
    "# horizontal line is AGREEMENT_THRESHOLD, defined above\n",
    "p = sns.jointplot(circle_data.loc[circle_data_na_circle_idx, 'num_notna'], \n",
    "                  4 * circle_data.loc[circle_data_na_circle_idx, 'p'] * (1 - circle_data.loc[circle_data_na_circle_idx, 'p']))\n",
    "p.ax_joint.scatter(circle_data.num_notna, 4 * circle_data.p * (1 - circle_data.p), color='pink', marker='x', alpha=0.5)\n",
    "p.set_axis_labels(\"number NaN\", '\"disgreement [4*p*(1-p)]\"')\n",
    "p.ax_joint.axhline(y = 4 * AGREEMENT_THRESHOLD * (1-AGREEMENT_THRESHOLD))"
   ]
  },
  {
   "cell_type": "markdown",
   "metadata": {},
   "source": [
    "### What percent do not meet our dissagreement threshold?"
   ]
  },
  {
   "cell_type": "code",
   "execution_count": 123,
   "metadata": {},
   "outputs": [
    {
     "data": {
      "text/plain": [
       "23.877759906419065"
      ]
     },
     "execution_count": 123,
     "metadata": {},
     "output_type": "execute_result"
    }
   ],
   "source": [
    "# joint\n",
    "circle_data.loc[circle_data_na_circle_idx, 'consensus'].isna().sum() / len(circle_data) * 100"
   ]
  },
  {
   "cell_type": "code",
   "execution_count": 124,
   "metadata": {},
   "outputs": [
    {
     "data": {
      "text/plain": [
       "38.468786808009426"
      ]
     },
     "execution_count": 124,
     "metadata": {},
     "output_type": "execute_result"
    }
   ],
   "source": [
    "# conditional\n",
    "circle_data.loc[circle_data_na_circle_idx, 'consensus'].isna().sum() / circle_data_na_circle_idx.sum() * 100"
   ]
  },
  {
   "cell_type": "code",
   "execution_count": 125,
   "metadata": {},
   "outputs": [
    {
     "data": {
      "text/plain": [
       "41.858458839011554"
      ]
     },
     "execution_count": 125,
     "metadata": {},
     "output_type": "execute_result"
    }
   ],
   "source": [
    "# population\n",
    "circle_data.consensus.isna().sum() / len(circle_data) * 100"
   ]
  },
  {
   "cell_type": "code",
   "execution_count": 126,
   "metadata": {},
   "outputs": [
    {
     "data": {
      "text/plain": [
       "(528.0123000722955, 7.645136478036099e-117)"
      ]
     },
     "execution_count": 126,
     "metadata": {},
     "output_type": "execute_result"
    }
   ],
   "source": [
    "actl = pd.crosstab(circle_data_na_circle_idx, circle_data.consensus.isna())\n",
    "g, p, dof, expctd = stats.chi2_contingency(actl)\n",
    "g, p"
   ]
  },
  {
   "cell_type": "code",
   "execution_count": 127,
   "metadata": {},
   "outputs": [
    {
     "data": {
      "text/html": [
       "<div>\n",
       "<style scoped>\n",
       "    .dataframe tbody tr th:only-of-type {\n",
       "        vertical-align: middle;\n",
       "    }\n",
       "\n",
       "    .dataframe tbody tr th {\n",
       "        vertical-align: top;\n",
       "    }\n",
       "\n",
       "    .dataframe thead th {\n",
       "        text-align: right;\n",
       "    }\n",
       "</style>\n",
       "<table border=\"1\" class=\"dataframe\">\n",
       "  <thead>\n",
       "    <tr style=\"text-align: right;\">\n",
       "      <th>consensus</th>\n",
       "      <th>False</th>\n",
       "      <th>True</th>\n",
       "    </tr>\n",
       "    <tr>\n",
       "      <th>c_snow</th>\n",
       "      <th></th>\n",
       "      <th></th>\n",
       "    </tr>\n",
       "  </thead>\n",
       "  <tbody>\n",
       "    <tr>\n",
       "      <th>False</th>\n",
       "      <td>-1438.915777</td>\n",
       "      <td>1438.915777</td>\n",
       "    </tr>\n",
       "    <tr>\n",
       "      <th>True</th>\n",
       "      <td>1438.915777</td>\n",
       "      <td>-1438.915777</td>\n",
       "    </tr>\n",
       "  </tbody>\n",
       "</table>\n",
       "</div>"
      ],
      "text/plain": [
       "consensus        False        True \n",
       "c_snow                             \n",
       "False     -1438.915777  1438.915777\n",
       "True       1438.915777 -1438.915777"
      ]
     },
     "execution_count": 127,
     "metadata": {},
     "output_type": "execute_result"
    }
   ],
   "source": [
    "actl - expctd"
   ]
  },
  {
   "cell_type": "markdown",
   "metadata": {},
   "source": [
    "Missing your snow data imples the stations are more likely to consense"
   ]
  },
  {
   "cell_type": "markdown",
   "metadata": {},
   "source": [
    "# The Truth: Reference Stations Vs Other Reference Station Data\n",
    "\n",
    "This just station data all by itself (station data vs station data)\n",
    "\n",
    "Testing to see if there is that much difference between the \"truth\" from the different station metrics (ie, consensus, consensus amongst the same ecosystem)"
   ]
  },
  {
   "cell_type": "markdown",
   "metadata": {},
   "source": [
    "How often does it snow?"
   ]
  },
  {
   "cell_type": "code",
   "execution_count": 128,
   "metadata": {},
   "outputs": [
    {
     "data": {
      "text/plain": [
       "0.1037396574705128"
      ]
     },
     "execution_count": 128,
     "metadata": {},
     "output_type": "execute_result"
    }
   ],
   "source": [
    "circle_data.consensus.sum()/ circle_data.consensus.count()"
   ]
  },
  {
   "cell_type": "markdown",
   "metadata": {},
   "source": [
    "### Location & Consensus"
   ]
  },
  {
   "cell_type": "code",
   "execution_count": 129,
   "metadata": {},
   "outputs": [
    {
     "data": {
      "text/html": [
       "<div>\n",
       "<style scoped>\n",
       "    .dataframe tbody tr th:only-of-type {\n",
       "        vertical-align: middle;\n",
       "    }\n",
       "\n",
       "    .dataframe tbody tr th {\n",
       "        vertical-align: top;\n",
       "    }\n",
       "\n",
       "    .dataframe thead th {\n",
       "        text-align: right;\n",
       "    }\n",
       "</style>\n",
       "<table border=\"1\" class=\"dataframe\">\n",
       "  <thead>\n",
       "    <tr style=\"text-align: right;\">\n",
       "      <th>snow_closest_notna</th>\n",
       "      <th>False</th>\n",
       "      <th>True</th>\n",
       "    </tr>\n",
       "    <tr>\n",
       "      <th>consensus</th>\n",
       "      <th></th>\n",
       "      <th></th>\n",
       "    </tr>\n",
       "  </thead>\n",
       "  <tbody>\n",
       "    <tr>\n",
       "      <th>False</th>\n",
       "      <td>35634</td>\n",
       "      <td>4</td>\n",
       "    </tr>\n",
       "    <tr>\n",
       "      <th>True</th>\n",
       "      <td>7</td>\n",
       "      <td>4118</td>\n",
       "    </tr>\n",
       "  </tbody>\n",
       "</table>\n",
       "</div>"
      ],
      "text/plain": [
       "snow_closest_notna  False  True \n",
       "consensus                       \n",
       "False               35634      4\n",
       "True                    7   4118"
      ]
     },
     "execution_count": 129,
     "metadata": {},
     "output_type": "execute_result"
    }
   ],
   "source": [
    "# Cross tabs of the closest station to a circle vs the consenting stations \n",
    "pd.crosstab(circle_data.consensus, circle_data.snow_closest_notna)"
   ]
  },
  {
   "cell_type": "code",
   "execution_count": 130,
   "metadata": {},
   "outputs": [
    {
     "data": {
      "text/html": [
       "<div>\n",
       "<style scoped>\n",
       "    .dataframe tbody tr th:only-of-type {\n",
       "        vertical-align: middle;\n",
       "    }\n",
       "\n",
       "    .dataframe tbody tr th {\n",
       "        vertical-align: top;\n",
       "    }\n",
       "\n",
       "    .dataframe thead th {\n",
       "        text-align: right;\n",
       "    }\n",
       "</style>\n",
       "<table border=\"1\" class=\"dataframe\">\n",
       "  <thead>\n",
       "    <tr style=\"text-align: right;\">\n",
       "      <th>snow_lowest_notna</th>\n",
       "      <th>False</th>\n",
       "      <th>True</th>\n",
       "    </tr>\n",
       "    <tr>\n",
       "      <th>consensus</th>\n",
       "      <th></th>\n",
       "      <th></th>\n",
       "    </tr>\n",
       "  </thead>\n",
       "  <tbody>\n",
       "    <tr>\n",
       "      <th>False</th>\n",
       "      <td>35520</td>\n",
       "      <td>6</td>\n",
       "    </tr>\n",
       "    <tr>\n",
       "      <th>True</th>\n",
       "      <td>8</td>\n",
       "      <td>4071</td>\n",
       "    </tr>\n",
       "  </tbody>\n",
       "</table>\n",
       "</div>"
      ],
      "text/plain": [
       "snow_lowest_notna  False  True \n",
       "consensus                      \n",
       "False              35520      6\n",
       "True                   8   4071"
      ]
     },
     "execution_count": 130,
     "metadata": {},
     "output_type": "execute_result"
    }
   ],
   "source": [
    "# Cross tabs of the closest station in elivation to a circle vs the consenting stations \n",
    "pd.crosstab(circle_data.consensus, circle_data.snow_lowest_notna)"
   ]
  },
  {
   "cell_type": "code",
   "execution_count": 131,
   "metadata": {},
   "outputs": [
    {
     "data": {
      "text/html": [
       "<div>\n",
       "<style scoped>\n",
       "    .dataframe tbody tr th:only-of-type {\n",
       "        vertical-align: middle;\n",
       "    }\n",
       "\n",
       "    .dataframe tbody tr th {\n",
       "        vertical-align: top;\n",
       "    }\n",
       "\n",
       "    .dataframe thead th {\n",
       "        text-align: right;\n",
       "    }\n",
       "</style>\n",
       "<table border=\"1\" class=\"dataframe\">\n",
       "  <thead>\n",
       "    <tr style=\"text-align: right;\">\n",
       "      <th>snow_lowest_notna</th>\n",
       "      <th>False</th>\n",
       "      <th>True</th>\n",
       "    </tr>\n",
       "    <tr>\n",
       "      <th>snow_closest_notna</th>\n",
       "      <th></th>\n",
       "      <th></th>\n",
       "    </tr>\n",
       "  </thead>\n",
       "  <tbody>\n",
       "    <tr>\n",
       "      <th>False</th>\n",
       "      <td>35752</td>\n",
       "      <td>161</td>\n",
       "    </tr>\n",
       "    <tr>\n",
       "      <th>True</th>\n",
       "      <td>162</td>\n",
       "      <td>4337</td>\n",
       "    </tr>\n",
       "  </tbody>\n",
       "</table>\n",
       "</div>"
      ],
      "text/plain": [
       "snow_lowest_notna   False  True \n",
       "snow_closest_notna              \n",
       "False               35752    161\n",
       "True                  162   4337"
      ]
     },
     "execution_count": 131,
     "metadata": {},
     "output_type": "execute_result"
    }
   ],
   "source": [
    "# Cross tabs of the closest station to a circle vs the station with the closest elivation\n",
    "pd.crosstab(circle_data.snow_closest_notna, circle_data.snow_lowest_notna)"
   ]
  },
  {
   "cell_type": "markdown",
   "metadata": {},
   "source": [
    "### Ecosystem Consensus"
   ]
  },
  {
   "cell_type": "code",
   "execution_count": 132,
   "metadata": {},
   "outputs": [
    {
     "data": {
      "text/html": [
       "<div>\n",
       "<style scoped>\n",
       "    .dataframe tbody tr th:only-of-type {\n",
       "        vertical-align: middle;\n",
       "    }\n",
       "\n",
       "    .dataframe tbody tr th {\n",
       "        vertical-align: top;\n",
       "    }\n",
       "\n",
       "    .dataframe thead th {\n",
       "        text-align: right;\n",
       "    }\n",
       "</style>\n",
       "<table border=\"1\" class=\"dataframe\">\n",
       "  <thead>\n",
       "    <tr style=\"text-align: right;\">\n",
       "      <th>n_consensus</th>\n",
       "      <th>False</th>\n",
       "      <th>True</th>\n",
       "    </tr>\n",
       "    <tr>\n",
       "      <th>consensus</th>\n",
       "      <th></th>\n",
       "      <th></th>\n",
       "    </tr>\n",
       "  </thead>\n",
       "  <tbody>\n",
       "    <tr>\n",
       "      <th>False</th>\n",
       "      <td>20927</td>\n",
       "      <td>0</td>\n",
       "    </tr>\n",
       "    <tr>\n",
       "      <th>True</th>\n",
       "      <td>1</td>\n",
       "      <td>2317</td>\n",
       "    </tr>\n",
       "  </tbody>\n",
       "</table>\n",
       "</div>"
      ],
      "text/plain": [
       "n_consensus  False  True \n",
       "consensus                \n",
       "False        20927      0\n",
       "True             1   2317"
      ]
     },
     "execution_count": 132,
     "metadata": {},
     "output_type": "execute_result"
    }
   ],
   "source": [
    "# Crosstable of stations with consensus vs stations with nlcd consensus \n",
    "pd.crosstab(circle_data.consensus, circle_data.n_consensus)"
   ]
  },
  {
   "cell_type": "code",
   "execution_count": 133,
   "metadata": {},
   "outputs": [
    {
     "data": {
      "text/html": [
       "<div>\n",
       "<style scoped>\n",
       "    .dataframe tbody tr th:only-of-type {\n",
       "        vertical-align: middle;\n",
       "    }\n",
       "\n",
       "    .dataframe tbody tr th {\n",
       "        vertical-align: top;\n",
       "    }\n",
       "\n",
       "    .dataframe thead th {\n",
       "        text-align: right;\n",
       "    }\n",
       "</style>\n",
       "<table border=\"1\" class=\"dataframe\">\n",
       "  <thead>\n",
       "    <tr style=\"text-align: right;\">\n",
       "      <th>e_consensus</th>\n",
       "      <th>False</th>\n",
       "      <th>True</th>\n",
       "    </tr>\n",
       "    <tr>\n",
       "      <th>consensus</th>\n",
       "      <th></th>\n",
       "      <th></th>\n",
       "    </tr>\n",
       "  </thead>\n",
       "  <tbody>\n",
       "    <tr>\n",
       "      <th>False</th>\n",
       "      <td>15477</td>\n",
       "      <td>0</td>\n",
       "    </tr>\n",
       "    <tr>\n",
       "      <th>True</th>\n",
       "      <td>1</td>\n",
       "      <td>1731</td>\n",
       "    </tr>\n",
       "  </tbody>\n",
       "</table>\n",
       "</div>"
      ],
      "text/plain": [
       "e_consensus  False  True \n",
       "consensus                \n",
       "False        15477      0\n",
       "True             1   1731"
      ]
     },
     "execution_count": 133,
     "metadata": {},
     "output_type": "execute_result"
    }
   ],
   "source": [
    "# Crosstabs  of stations with consensus vs stations with ecosys consensus\n",
    "pd.crosstab(circle_data.consensus, circle_data.e_consensus)"
   ]
  },
  {
   "cell_type": "code",
   "execution_count": 134,
   "metadata": {},
   "outputs": [
    {
     "data": {
      "text/html": [
       "<div>\n",
       "<style scoped>\n",
       "    .dataframe tbody tr th:only-of-type {\n",
       "        vertical-align: middle;\n",
       "    }\n",
       "\n",
       "    .dataframe tbody tr th {\n",
       "        vertical-align: top;\n",
       "    }\n",
       "\n",
       "    .dataframe thead th {\n",
       "        text-align: right;\n",
       "    }\n",
       "</style>\n",
       "<table border=\"1\" class=\"dataframe\">\n",
       "  <thead>\n",
       "    <tr style=\"text-align: right;\">\n",
       "      <th>e_consensus</th>\n",
       "      <th>False</th>\n",
       "      <th>True</th>\n",
       "    </tr>\n",
       "    <tr>\n",
       "      <th>n_consensus</th>\n",
       "      <th></th>\n",
       "      <th></th>\n",
       "    </tr>\n",
       "  </thead>\n",
       "  <tbody>\n",
       "    <tr>\n",
       "      <th>False</th>\n",
       "      <td>15554</td>\n",
       "      <td>0</td>\n",
       "    </tr>\n",
       "    <tr>\n",
       "      <th>True</th>\n",
       "      <td>0</td>\n",
       "      <td>1824</td>\n",
       "    </tr>\n",
       "  </tbody>\n",
       "</table>\n",
       "</div>"
      ],
      "text/plain": [
       "e_consensus  False  True \n",
       "n_consensus              \n",
       "False        15554      0\n",
       "True             0   1824"
      ]
     },
     "execution_count": 134,
     "metadata": {},
     "output_type": "execute_result"
    }
   ],
   "source": [
    "pd.crosstab(circle_data.n_consensus, circle_data.e_consensus)"
   ]
  },
  {
   "cell_type": "markdown",
   "metadata": {},
   "source": [
    " ### Did just one station see rain?"
   ]
  },
  {
   "cell_type": "code",
   "execution_count": 135,
   "metadata": {},
   "outputs": [
    {
     "data": {
      "text/html": [
       "<div>\n",
       "<style scoped>\n",
       "    .dataframe tbody tr th:only-of-type {\n",
       "        vertical-align: middle;\n",
       "    }\n",
       "\n",
       "    .dataframe tbody tr th {\n",
       "        vertical-align: top;\n",
       "    }\n",
       "\n",
       "    .dataframe thead th {\n",
       "        text-align: right;\n",
       "    }\n",
       "</style>\n",
       "<table border=\"1\" class=\"dataframe\">\n",
       "  <thead>\n",
       "    <tr style=\"text-align: right;\">\n",
       "      <th>num_true</th>\n",
       "      <th>False</th>\n",
       "      <th>True</th>\n",
       "    </tr>\n",
       "    <tr>\n",
       "      <th>snow_closest_notna</th>\n",
       "      <th></th>\n",
       "      <th></th>\n",
       "    </tr>\n",
       "  </thead>\n",
       "  <tbody>\n",
       "    <tr>\n",
       "      <th>False</th>\n",
       "      <td>35611</td>\n",
       "      <td>414</td>\n",
       "    </tr>\n",
       "    <tr>\n",
       "      <th>True</th>\n",
       "      <td>0</td>\n",
       "      <td>4548</td>\n",
       "    </tr>\n",
       "  </tbody>\n",
       "</table>\n",
       "</div>"
      ],
      "text/plain": [
       "num_true            False  True \n",
       "snow_closest_notna              \n",
       "False               35611    414\n",
       "True                    0   4548"
      ]
     },
     "execution_count": 135,
     "metadata": {},
     "output_type": "execute_result"
    }
   ],
   "source": [
    "# Cross tabes of the rain reported by the closest station and if any reference station said it rained\n",
    "pd.crosstab(circle_data.snow_closest_notna, circle_data.num_true > 0)"
   ]
  },
  {
   "cell_type": "code",
   "execution_count": 136,
   "metadata": {},
   "outputs": [
    {
     "data": {
      "text/html": [
       "<div>\n",
       "<style scoped>\n",
       "    .dataframe tbody tr th:only-of-type {\n",
       "        vertical-align: middle;\n",
       "    }\n",
       "\n",
       "    .dataframe tbody tr th {\n",
       "        vertical-align: top;\n",
       "    }\n",
       "\n",
       "    .dataframe thead th {\n",
       "        text-align: right;\n",
       "    }\n",
       "</style>\n",
       "<table border=\"1\" class=\"dataframe\">\n",
       "  <thead>\n",
       "    <tr style=\"text-align: right;\">\n",
       "      <th>num_true</th>\n",
       "      <th>False</th>\n",
       "      <th>True</th>\n",
       "    </tr>\n",
       "    <tr>\n",
       "      <th>snow_lowest_notna</th>\n",
       "      <th></th>\n",
       "      <th></th>\n",
       "    </tr>\n",
       "  </thead>\n",
       "  <tbody>\n",
       "    <tr>\n",
       "      <th>False</th>\n",
       "      <td>35499</td>\n",
       "      <td>415</td>\n",
       "    </tr>\n",
       "    <tr>\n",
       "      <th>True</th>\n",
       "      <td>0</td>\n",
       "      <td>4498</td>\n",
       "    </tr>\n",
       "  </tbody>\n",
       "</table>\n",
       "</div>"
      ],
      "text/plain": [
       "num_true           False  True \n",
       "snow_lowest_notna              \n",
       "False              35499    415\n",
       "True                   0   4498"
      ]
     },
     "execution_count": 136,
     "metadata": {},
     "output_type": "execute_result"
    }
   ],
   "source": [
    "# Crosstabs of the rain reported by the closest station in elivation and if any reference station said it rained\n",
    "pd.crosstab(circle_data.snow_lowest_notna, circle_data.num_true > 0)"
   ]
  },
  {
   "cell_type": "code",
   "execution_count": 137,
   "metadata": {},
   "outputs": [
    {
     "data": {
      "text/html": [
       "<div>\n",
       "<style scoped>\n",
       "    .dataframe tbody tr th:only-of-type {\n",
       "        vertical-align: middle;\n",
       "    }\n",
       "\n",
       "    .dataframe tbody tr th {\n",
       "        vertical-align: top;\n",
       "    }\n",
       "\n",
       "    .dataframe thead th {\n",
       "        text-align: right;\n",
       "    }\n",
       "</style>\n",
       "<table border=\"1\" class=\"dataframe\">\n",
       "  <thead>\n",
       "    <tr style=\"text-align: right;\">\n",
       "      <th>num_true</th>\n",
       "      <th>False</th>\n",
       "      <th>True</th>\n",
       "    </tr>\n",
       "    <tr>\n",
       "      <th>consensus</th>\n",
       "      <th></th>\n",
       "      <th></th>\n",
       "    </tr>\n",
       "  </thead>\n",
       "  <tbody>\n",
       "    <tr>\n",
       "      <th>False</th>\n",
       "      <td>35611</td>\n",
       "      <td>27</td>\n",
       "    </tr>\n",
       "    <tr>\n",
       "      <th>True</th>\n",
       "      <td>0</td>\n",
       "      <td>4125</td>\n",
       "    </tr>\n",
       "  </tbody>\n",
       "</table>\n",
       "</div>"
      ],
      "text/plain": [
       "num_true   False  True \n",
       "consensus              \n",
       "False      35611     27\n",
       "True           0   4125"
      ]
     },
     "execution_count": 137,
     "metadata": {},
     "output_type": "execute_result"
    }
   ],
   "source": [
    "# Crosstabs of the stations resporting consensus vs ANY reference station that reported rain\n",
    "pd.crosstab(circle_data.consensus, circle_data.num_true > 0)"
   ]
  },
  {
   "cell_type": "code",
   "execution_count": 138,
   "metadata": {},
   "outputs": [
    {
     "data": {
      "text/html": [
       "<div>\n",
       "<style scoped>\n",
       "    .dataframe tbody tr th:only-of-type {\n",
       "        vertical-align: middle;\n",
       "    }\n",
       "\n",
       "    .dataframe tbody tr th {\n",
       "        vertical-align: top;\n",
       "    }\n",
       "\n",
       "    .dataframe thead th {\n",
       "        text-align: right;\n",
       "    }\n",
       "</style>\n",
       "<table border=\"1\" class=\"dataframe\">\n",
       "  <thead>\n",
       "    <tr style=\"text-align: right;\">\n",
       "      <th>n_num_true</th>\n",
       "      <th>False</th>\n",
       "      <th>True</th>\n",
       "    </tr>\n",
       "    <tr>\n",
       "      <th>consensus</th>\n",
       "      <th></th>\n",
       "      <th></th>\n",
       "    </tr>\n",
       "  </thead>\n",
       "  <tbody>\n",
       "    <tr>\n",
       "      <th>False</th>\n",
       "      <td>35617</td>\n",
       "      <td>21</td>\n",
       "    </tr>\n",
       "    <tr>\n",
       "      <th>True</th>\n",
       "      <td>1804</td>\n",
       "      <td>2321</td>\n",
       "    </tr>\n",
       "  </tbody>\n",
       "</table>\n",
       "</div>"
      ],
      "text/plain": [
       "n_num_true  False  True \n",
       "consensus               \n",
       "False       35617     21\n",
       "True         1804   2321"
      ]
     },
     "execution_count": 138,
     "metadata": {},
     "output_type": "execute_result"
    }
   ],
   "source": [
    "# Crosstabs of the stations resporting consensus vs ANY NLCD MATCHING reference station that reported rain\n",
    "pd.crosstab(circle_data.consensus, circle_data.n_num_true > 0)"
   ]
  },
  {
   "cell_type": "code",
   "execution_count": 139,
   "metadata": {},
   "outputs": [
    {
     "data": {
      "text/html": [
       "<div>\n",
       "<style scoped>\n",
       "    .dataframe tbody tr th:only-of-type {\n",
       "        vertical-align: middle;\n",
       "    }\n",
       "\n",
       "    .dataframe tbody tr th {\n",
       "        vertical-align: top;\n",
       "    }\n",
       "\n",
       "    .dataframe thead th {\n",
       "        text-align: right;\n",
       "    }\n",
       "</style>\n",
       "<table border=\"1\" class=\"dataframe\">\n",
       "  <thead>\n",
       "    <tr style=\"text-align: right;\">\n",
       "      <th>e_num_true</th>\n",
       "      <th>False</th>\n",
       "      <th>True</th>\n",
       "    </tr>\n",
       "    <tr>\n",
       "      <th>consensus</th>\n",
       "      <th></th>\n",
       "      <th></th>\n",
       "    </tr>\n",
       "  </thead>\n",
       "  <tbody>\n",
       "    <tr>\n",
       "      <th>False</th>\n",
       "      <td>35624</td>\n",
       "      <td>14</td>\n",
       "    </tr>\n",
       "    <tr>\n",
       "      <th>True</th>\n",
       "      <td>2387</td>\n",
       "      <td>1738</td>\n",
       "    </tr>\n",
       "  </tbody>\n",
       "</table>\n",
       "</div>"
      ],
      "text/plain": [
       "e_num_true  False  True \n",
       "consensus               \n",
       "False       35624     14\n",
       "True         2387   1738"
      ]
     },
     "execution_count": 139,
     "metadata": {},
     "output_type": "execute_result"
    }
   ],
   "source": [
    "# Crosstabs of the stations resporting consensus vs ANY ECOSYS MATCHING reference station that reported rain\n",
    "pd.crosstab(circle_data.consensus, circle_data.e_num_true > 0)"
   ]
  },
  {
   "cell_type": "markdown",
   "metadata": {},
   "source": [
    "# Circle v Station: The Final Determination on If Volenteers are Reliable"
   ]
  },
  {
   "cell_type": "code",
   "execution_count": 140,
   "metadata": {},
   "outputs": [],
   "source": [
    "def crosstab_metrics(actl):\n",
    "    # accuracy\n",
    "    acc = actl.to_numpy().diagonal().sum() / actl.to_numpy().sum()\n",
    "    # precision\n",
    "    pr = actl.loc[1,1] / actl.to_numpy()[[1,0], [1,1]].sum()\n",
    "    # recall\n",
    "    re = actl.loc[1,1] / actl.to_numpy()[[1,1], [1,0]].sum()\n",
    "    # F1\n",
    "    f1 = 2 * pr * re / (pr + re)\n",
    "    \n",
    "    print(f\"accuracy:  {acc*100:.2f}%\")\n",
    "    print(f\"precision: {pr*100:.2f}%\")\n",
    "    print(f\"recall:    {re*100:.2f}%\")\n",
    "    print(f\"F1:        {f1*100:.2f}%\")\n",
    "    \n",
    "#     return (acc, pr, re, f1)"
   ]
  },
  {
   "cell_type": "markdown",
   "metadata": {},
   "source": [
    "### Based on the stations' consensus"
   ]
  },
  {
   "cell_type": "code",
   "execution_count": 141,
   "metadata": {},
   "outputs": [
    {
     "data": {
      "text/html": [
       "<div>\n",
       "<style scoped>\n",
       "    .dataframe tbody tr th:only-of-type {\n",
       "        vertical-align: middle;\n",
       "    }\n",
       "\n",
       "    .dataframe tbody tr th {\n",
       "        vertical-align: top;\n",
       "    }\n",
       "\n",
       "    .dataframe thead th {\n",
       "        text-align: right;\n",
       "    }\n",
       "</style>\n",
       "<table border=\"1\" class=\"dataframe\">\n",
       "  <thead>\n",
       "    <tr style=\"text-align: right;\">\n",
       "      <th>c_snow</th>\n",
       "      <th>False</th>\n",
       "      <th>True</th>\n",
       "    </tr>\n",
       "    <tr>\n",
       "      <th>consensus</th>\n",
       "      <th></th>\n",
       "      <th></th>\n",
       "    </tr>\n",
       "  </thead>\n",
       "  <tbody>\n",
       "    <tr>\n",
       "      <th>False</th>\n",
       "      <td>9009</td>\n",
       "      <td>2124</td>\n",
       "    </tr>\n",
       "    <tr>\n",
       "      <th>True</th>\n",
       "      <td>781</td>\n",
       "      <td>1729</td>\n",
       "    </tr>\n",
       "  </tbody>\n",
       "</table>\n",
       "</div>"
      ],
      "text/plain": [
       "c_snow     False  True \n",
       "consensus              \n",
       "False       9009   2124\n",
       "True         781   1729"
      ]
     },
     "execution_count": 141,
     "metadata": {},
     "output_type": "execute_result"
    }
   ],
   "source": [
    "actl = pd.crosstab(circle_data.consensus, circle_data.c_snow)\n",
    "actl"
   ]
  },
  {
   "cell_type": "code",
   "execution_count": 142,
   "metadata": {},
   "outputs": [
    {
     "name": "stdout",
     "output_type": "stream",
     "text": [
      "accuracy:  78.71%\n",
      "precision: 44.87%\n",
      "recall:    68.88%\n",
      "F1:        54.35%\n"
     ]
    }
   ],
   "source": [
    "crosstab_metrics(actl)"
   ]
  },
  {
   "cell_type": "markdown",
   "metadata": {},
   "source": [
    "### Based on the closest station"
   ]
  },
  {
   "cell_type": "code",
   "execution_count": 143,
   "metadata": {},
   "outputs": [
    {
     "data": {
      "text/html": [
       "<div>\n",
       "<style scoped>\n",
       "    .dataframe tbody tr th:only-of-type {\n",
       "        vertical-align: middle;\n",
       "    }\n",
       "\n",
       "    .dataframe tbody tr th {\n",
       "        vertical-align: top;\n",
       "    }\n",
       "\n",
       "    .dataframe thead th {\n",
       "        text-align: right;\n",
       "    }\n",
       "</style>\n",
       "<table border=\"1\" class=\"dataframe\">\n",
       "  <thead>\n",
       "    <tr style=\"text-align: right;\">\n",
       "      <th>c_snow</th>\n",
       "      <th>False</th>\n",
       "      <th>True</th>\n",
       "    </tr>\n",
       "    <tr>\n",
       "      <th>snow_closest_notna</th>\n",
       "      <th></th>\n",
       "      <th></th>\n",
       "    </tr>\n",
       "  </thead>\n",
       "  <tbody>\n",
       "    <tr>\n",
       "      <th>False</th>\n",
       "      <td>9124</td>\n",
       "      <td>2249</td>\n",
       "    </tr>\n",
       "    <tr>\n",
       "      <th>True</th>\n",
       "      <td>886</td>\n",
       "      <td>1869</td>\n",
       "    </tr>\n",
       "  </tbody>\n",
       "</table>\n",
       "</div>"
      ],
      "text/plain": [
       "c_snow              False  True \n",
       "snow_closest_notna              \n",
       "False                9124   2249\n",
       "True                  886   1869"
      ]
     },
     "execution_count": 143,
     "metadata": {},
     "output_type": "execute_result"
    }
   ],
   "source": [
    "actl = pd.crosstab(circle_data.snow_closest_notna, circle_data.c_snow)\n",
    "actl"
   ]
  },
  {
   "cell_type": "code",
   "execution_count": 144,
   "metadata": {},
   "outputs": [
    {
     "name": "stdout",
     "output_type": "stream",
     "text": [
      "accuracy:  77.81%\n",
      "precision: 45.39%\n",
      "recall:    67.84%\n",
      "F1:        54.39%\n"
     ]
    }
   ],
   "source": [
    "crosstab_metrics(actl)"
   ]
  },
  {
   "cell_type": "markdown",
   "metadata": {},
   "source": [
    "### Based on the closest station in elivation"
   ]
  },
  {
   "cell_type": "code",
   "execution_count": 145,
   "metadata": {},
   "outputs": [
    {
     "data": {
      "text/html": [
       "<div>\n",
       "<style scoped>\n",
       "    .dataframe tbody tr th:only-of-type {\n",
       "        vertical-align: middle;\n",
       "    }\n",
       "\n",
       "    .dataframe tbody tr th {\n",
       "        vertical-align: top;\n",
       "    }\n",
       "\n",
       "    .dataframe thead th {\n",
       "        text-align: right;\n",
       "    }\n",
       "</style>\n",
       "<table border=\"1\" class=\"dataframe\">\n",
       "  <thead>\n",
       "    <tr style=\"text-align: right;\">\n",
       "      <th>c_snow</th>\n",
       "      <th>False</th>\n",
       "      <th>True</th>\n",
       "    </tr>\n",
       "    <tr>\n",
       "      <th>snow_lowest_notna</th>\n",
       "      <th></th>\n",
       "      <th></th>\n",
       "    </tr>\n",
       "  </thead>\n",
       "  <tbody>\n",
       "    <tr>\n",
       "      <th>False</th>\n",
       "      <td>9076</td>\n",
       "      <td>2230</td>\n",
       "    </tr>\n",
       "    <tr>\n",
       "      <th>True</th>\n",
       "      <td>888</td>\n",
       "      <td>1842</td>\n",
       "    </tr>\n",
       "  </tbody>\n",
       "</table>\n",
       "</div>"
      ],
      "text/plain": [
       "c_snow             False  True \n",
       "snow_lowest_notna              \n",
       "False               9076   2230\n",
       "True                 888   1842"
      ]
     },
     "execution_count": 145,
     "metadata": {},
     "output_type": "execute_result"
    }
   ],
   "source": [
    "actl = pd.crosstab(circle_data.snow_lowest_notna, circle_data.c_snow)\n",
    "actl"
   ]
  },
  {
   "cell_type": "code",
   "execution_count": 146,
   "metadata": {},
   "outputs": [
    {
     "name": "stdout",
     "output_type": "stream",
     "text": [
      "accuracy:  77.79%\n",
      "precision: 45.24%\n",
      "recall:    67.47%\n",
      "F1:        54.16%\n"
     ]
    }
   ],
   "source": [
    "crosstab_metrics(actl)"
   ]
  },
  {
   "cell_type": "markdown",
   "metadata": {},
   "source": [
    "### Based on the nlcd consensus"
   ]
  },
  {
   "cell_type": "code",
   "execution_count": 147,
   "metadata": {},
   "outputs": [
    {
     "data": {
      "text/html": [
       "<div>\n",
       "<style scoped>\n",
       "    .dataframe tbody tr th:only-of-type {\n",
       "        vertical-align: middle;\n",
       "    }\n",
       "\n",
       "    .dataframe tbody tr th {\n",
       "        vertical-align: top;\n",
       "    }\n",
       "\n",
       "    .dataframe thead th {\n",
       "        text-align: right;\n",
       "    }\n",
       "</style>\n",
       "<table border=\"1\" class=\"dataframe\">\n",
       "  <thead>\n",
       "    <tr style=\"text-align: right;\">\n",
       "      <th>c_snow</th>\n",
       "      <th>False</th>\n",
       "      <th>True</th>\n",
       "    </tr>\n",
       "    <tr>\n",
       "      <th>n_consensus</th>\n",
       "      <th></th>\n",
       "      <th></th>\n",
       "    </tr>\n",
       "  </thead>\n",
       "  <tbody>\n",
       "    <tr>\n",
       "      <th>False</th>\n",
       "      <td>5441</td>\n",
       "      <td>1196</td>\n",
       "    </tr>\n",
       "    <tr>\n",
       "      <th>True</th>\n",
       "      <td>486</td>\n",
       "      <td>1023</td>\n",
       "    </tr>\n",
       "  </tbody>\n",
       "</table>\n",
       "</div>"
      ],
      "text/plain": [
       "c_snow       False  True \n",
       "n_consensus              \n",
       "False         5441   1196\n",
       "True           486   1023"
      ]
     },
     "execution_count": 147,
     "metadata": {},
     "output_type": "execute_result"
    }
   ],
   "source": [
    "actl = pd.crosstab(circle_data.n_consensus, circle_data.c_snow)\n",
    "actl"
   ]
  },
  {
   "cell_type": "code",
   "execution_count": 148,
   "metadata": {},
   "outputs": [
    {
     "name": "stdout",
     "output_type": "stream",
     "text": [
      "accuracy:  79.35%\n",
      "precision: 46.10%\n",
      "recall:    67.79%\n",
      "F1:        54.88%\n"
     ]
    }
   ],
   "source": [
    "crosstab_metrics(actl)"
   ]
  },
  {
   "cell_type": "markdown",
   "metadata": {},
   "source": [
    "### Based on the ecosys consensus"
   ]
  },
  {
   "cell_type": "code",
   "execution_count": 149,
   "metadata": {},
   "outputs": [
    {
     "data": {
      "text/html": [
       "<div>\n",
       "<style scoped>\n",
       "    .dataframe tbody tr th:only-of-type {\n",
       "        vertical-align: middle;\n",
       "    }\n",
       "\n",
       "    .dataframe tbody tr th {\n",
       "        vertical-align: top;\n",
       "    }\n",
       "\n",
       "    .dataframe thead th {\n",
       "        text-align: right;\n",
       "    }\n",
       "</style>\n",
       "<table border=\"1\" class=\"dataframe\">\n",
       "  <thead>\n",
       "    <tr style=\"text-align: right;\">\n",
       "      <th>c_snow</th>\n",
       "      <th>False</th>\n",
       "      <th>True</th>\n",
       "    </tr>\n",
       "    <tr>\n",
       "      <th>e_consensus</th>\n",
       "      <th></th>\n",
       "      <th></th>\n",
       "    </tr>\n",
       "  </thead>\n",
       "  <tbody>\n",
       "    <tr>\n",
       "      <th>False</th>\n",
       "      <td>4061</td>\n",
       "      <td>876</td>\n",
       "    </tr>\n",
       "    <tr>\n",
       "      <th>True</th>\n",
       "      <td>397</td>\n",
       "      <td>780</td>\n",
       "    </tr>\n",
       "  </tbody>\n",
       "</table>\n",
       "</div>"
      ],
      "text/plain": [
       "c_snow       False  True \n",
       "e_consensus              \n",
       "False         4061    876\n",
       "True           397    780"
      ]
     },
     "execution_count": 149,
     "metadata": {},
     "output_type": "execute_result"
    }
   ],
   "source": [
    "actl = pd.crosstab(circle_data.e_consensus, circle_data.c_snow)\n",
    "actl"
   ]
  },
  {
   "cell_type": "code",
   "execution_count": 150,
   "metadata": {},
   "outputs": [
    {
     "name": "stdout",
     "output_type": "stream",
     "text": [
      "accuracy:  79.18%\n",
      "precision: 47.10%\n",
      "recall:    66.27%\n",
      "F1:        55.07%\n"
     ]
    }
   ],
   "source": [
    "crosstab_metrics(actl)"
   ]
  },
  {
   "cell_type": "markdown",
   "metadata": {},
   "source": [
    "### Did at least one station aggree?"
   ]
  },
  {
   "cell_type": "code",
   "execution_count": 151,
   "metadata": {},
   "outputs": [
    {
     "data": {
      "text/html": [
       "<div>\n",
       "<style scoped>\n",
       "    .dataframe tbody tr th:only-of-type {\n",
       "        vertical-align: middle;\n",
       "    }\n",
       "\n",
       "    .dataframe tbody tr th {\n",
       "        vertical-align: top;\n",
       "    }\n",
       "\n",
       "    .dataframe thead th {\n",
       "        text-align: right;\n",
       "    }\n",
       "</style>\n",
       "<table border=\"1\" class=\"dataframe\">\n",
       "  <thead>\n",
       "    <tr style=\"text-align: right;\">\n",
       "      <th>c_snow</th>\n",
       "      <th>False</th>\n",
       "      <th>True</th>\n",
       "    </tr>\n",
       "    <tr>\n",
       "      <th>num_true</th>\n",
       "      <th></th>\n",
       "      <th></th>\n",
       "    </tr>\n",
       "  </thead>\n",
       "  <tbody>\n",
       "    <tr>\n",
       "      <th>False</th>\n",
       "      <td>17291</td>\n",
       "      <td>5630</td>\n",
       "    </tr>\n",
       "    <tr>\n",
       "      <th>True</th>\n",
       "      <td>1014</td>\n",
       "      <td>2005</td>\n",
       "    </tr>\n",
       "  </tbody>\n",
       "</table>\n",
       "</div>"
      ],
      "text/plain": [
       "c_snow    False  True \n",
       "num_true              \n",
       "False     17291   5630\n",
       "True       1014   2005"
      ]
     },
     "execution_count": 151,
     "metadata": {},
     "output_type": "execute_result"
    }
   ],
   "source": [
    "actl = pd.crosstab(circle_data.num_true >= 1, circle_data.c_snow)\n",
    "actl"
   ]
  },
  {
   "cell_type": "code",
   "execution_count": 152,
   "metadata": {},
   "outputs": [
    {
     "name": "stdout",
     "output_type": "stream",
     "text": [
      "accuracy:  74.39%\n",
      "precision: 26.26%\n",
      "recall:    66.41%\n",
      "F1:        37.64%\n"
     ]
    }
   ],
   "source": [
    "crosstab_metrics(actl)"
   ]
  }
 ],
 "metadata": {
  "kernelspec": {
   "display_name": "Python 3",
   "language": "python",
   "name": "python3"
  },
  "language_info": {
   "codemirror_mode": {
    "name": "ipython",
    "version": 3
   },
   "file_extension": ".py",
   "mimetype": "text/x-python",
   "name": "python",
   "nbconvert_exporter": "python",
   "pygments_lexer": "ipython3",
   "version": "3.7.1"
  }
 },
 "nbformat": 4,
 "nbformat_minor": 4
}
